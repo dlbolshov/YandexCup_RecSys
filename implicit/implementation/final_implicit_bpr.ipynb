{
 "cells": [
  {
   "cell_type": "markdown",
   "id": "b41aea22",
   "metadata": {},
   "source": [
    "# Final BPR"
   ]
  },
  {
   "cell_type": "code",
   "execution_count": 1,
   "id": "cfa8f960",
   "metadata": {},
   "outputs": [],
   "source": [
    "FACTORS = 400\n",
    "ITERATIONS = 950\n",
    "LR = 0.075\n",
    "REG = 0.0025"
   ]
  },
  {
   "cell_type": "code",
   "execution_count": 2,
   "id": "e6401b86",
   "metadata": {
    "scrolled": true
   },
   "outputs": [
    {
     "name": "stderr",
     "output_type": "stream",
     "text": [
      "c:\\python38\\lib\\site-packages\\tqdm\\auto.py:22: TqdmWarning: IProgress not found. Please update jupyter and ipywidgets. See https://ipywidgets.readthedocs.io/en/stable/user_install.html\n",
      "  from .autonotebook import tqdm as notebook_tqdm\n"
     ]
    }
   ],
   "source": [
    "import numpy as np\n",
    "import pandas as pd\n",
    "from scipy.sparse import csr_matrix\n",
    "import implicit\n",
    "import time\n",
    "from tqdm import tqdm"
   ]
  },
  {
   "cell_type": "code",
   "execution_count": 3,
   "id": "e93ec973",
   "metadata": {},
   "outputs": [],
   "source": [
    "train_path = r\"C:\\Users\\dlbol\\Downloads\\likes\\likes\\likes_data\\train\"\n",
    "test_path = r\"C:\\Users\\dlbol\\Downloads\\likes\\likes\\likes_data\\test\"\n",
    "pred_path = r\"C:\\Users\\dlbol\\Downloads\\likes\\likes\\likes_data\\implicit_bpr_400_950_0075_00025\"\n",
    "score_path = r\"C:\\Users\\dlbol\\Downloads\\likes\\likes\\likes_data\\implicit_bpr_400_950_0075_00025_score\""
   ]
  },
  {
   "cell_type": "code",
   "execution_count": 4,
   "id": "899e783a",
   "metadata": {},
   "outputs": [
    {
     "name": "stderr",
     "output_type": "stream",
     "text": [
      "100%|████████████████████████████████████████████████████████████████████| 1160084/1160084 [00:11<00:00, 102927.70it/s]\n",
      "100%|███████████████████████████████████████████████████████████████████████| 289914/289914 [00:04<00:00, 67318.12it/s]"
     ]
    },
    {
     "name": "stdout",
     "output_type": "stream",
     "text": [
      "CPU times: total: 17 s\n",
      "Wall time: 17.1 s\n"
     ]
    },
    {
     "name": "stderr",
     "output_type": "stream",
     "text": [
      "\n"
     ]
    }
   ],
   "source": [
    "%%time\n",
    "\n",
    "list_coord = []\n",
    "idx = 0\n",
    "\n",
    "with open(train_path) as f:\n",
    "    lines = f.readlines()\n",
    "    for line in tqdm(lines):\n",
    "        tracks = line.strip().split(' ')\n",
    "        for track in tracks:\n",
    "            list_coord.append((idx, track))\n",
    "        idx += 1\n",
    "        \n",
    "first_id_test = idx\n",
    "\n",
    "with open(test_path) as f:\n",
    "    lines = f.readlines()\n",
    "    for line in tqdm(lines):\n",
    "        tracks = line.strip().split(' ')\n",
    "        for track in tracks:\n",
    "            list_coord.append((idx, track))\n",
    "        idx += 1\n",
    "        \n",
    "last_id_test = idx - 1"
   ]
  },
  {
   "cell_type": "code",
   "execution_count": 5,
   "id": "cef8dd6f",
   "metadata": {},
   "outputs": [
    {
     "data": {
      "text/plain": [
       "(1160084, 1449997)"
      ]
     },
     "execution_count": 5,
     "metadata": {},
     "output_type": "execute_result"
    }
   ],
   "source": [
    "first_id_test, last_id_test"
   ]
  },
  {
   "cell_type": "code",
   "execution_count": 6,
   "id": "46284f53",
   "metadata": {},
   "outputs": [
    {
     "name": "stdout",
     "output_type": "stream",
     "text": [
      "CPU times: total: 1min 8s\n",
      "Wall time: 1min 8s\n"
     ]
    }
   ],
   "source": [
    "%%time\n",
    "\n",
    "rows = [i[0] for i in list_coord]\n",
    "cols = [i[1] for i in list_coord]\n",
    "arr_rows = np.array(rows)\n",
    "arr_cols = np.array(cols)\n",
    "arr_cols = arr_cols.astype(np.int32)\n",
    "ones = np.ones(len(list_coord))\n",
    "user_item = csr_matrix((ones, (arr_rows, arr_cols)), dtype=np.int32)"
   ]
  },
  {
   "cell_type": "code",
   "execution_count": 7,
   "id": "07125248",
   "metadata": {},
   "outputs": [
    {
     "name": "stderr",
     "output_type": "stream",
     "text": [
      "100%|████████████████████████████████████████████| 950/950 [10:21:14<00:00, 39.24s/it, train_auc=99.03%, skipped=0.78%]\n"
     ]
    }
   ],
   "source": [
    "model = implicit.bpr.BayesianPersonalizedRanking(factors=FACTORS,\n",
    "                                                 learning_rate=LR,\n",
    "                                                 regularization=REG,\n",
    "                                                 iterations=ITERATIONS,\n",
    "                                                 verify_negative_samples=True,\n",
    "                                                 random_state=42)\n",
    "\n",
    "model.fit(user_item)"
   ]
  },
  {
   "cell_type": "code",
   "execution_count": 8,
   "id": "0fd697bd",
   "metadata": {},
   "outputs": [
    {
     "name": "stdout",
     "output_type": "stream",
     "text": [
      "CPU times: total: 16h 13min 56s\n",
      "Wall time: 2h 10min 46s\n"
     ]
    }
   ],
   "source": [
    "%%time\n",
    "\n",
    "userid = np.arange(last_id_test + 1)\n",
    "recommendations = model.recommend(userid, user_item, N=100, filter_already_liked_items=True)"
   ]
  },
  {
   "cell_type": "code",
   "execution_count": 9,
   "id": "65fe3f12",
   "metadata": {},
   "outputs": [
    {
     "name": "stderr",
     "output_type": "stream",
     "text": [
      "1449998it [00:12, 115896.99it/s] \n"
     ]
    }
   ],
   "source": [
    "result = [' '.join(map(str, i)) + '\\n' for idx, i in tqdm(enumerate(recommendations[0])) if first_id_test <= idx <= last_id_test]\n",
    "with open(pred_path, 'w') as f:\n",
    "    f.writelines(result)"
   ]
  },
  {
   "cell_type": "code",
   "execution_count": 10,
   "id": "b48b4d45",
   "metadata": {},
   "outputs": [
    {
     "name": "stderr",
     "output_type": "stream",
     "text": [
      "1449998it [00:09, 155379.20it/s] \n"
     ]
    }
   ],
   "source": [
    "result = [' '.join(map(str, i)) + '\\n' for idx, i in tqdm(enumerate(recommendations[1])) if first_id_test <= idx <= last_id_test]\n",
    "with open(score_path, 'w') as f:\n",
    "    f.writelines(result)"
   ]
  },
  {
   "cell_type": "code",
   "execution_count": 11,
   "id": "09ddad19",
   "metadata": {},
   "outputs": [],
   "source": [
    "del result\n",
    "del recommendations\n",
    "del userid\n",
    "del list_coord\n",
    "del rows\n",
    "del cols\n",
    "del arr_rows\n",
    "del arr_cols\n",
    "del ones"
   ]
  },
  {
   "cell_type": "code",
   "execution_count": 12,
   "id": "239673fe",
   "metadata": {},
   "outputs": [],
   "source": [
    "N_q = 1500\n",
    "Q_BPR = 0.015\n",
    "COEF_BPR = 3\n",
    "PREPROC = 'minmax'\n",
    "NORM_ALL = False"
   ]
  },
  {
   "cell_type": "code",
   "execution_count": 13,
   "id": "2b041033",
   "metadata": {},
   "outputs": [],
   "source": [
    "from sklearn.preprocessing import minmax_scale, scale"
   ]
  },
  {
   "cell_type": "code",
   "execution_count": 14,
   "id": "aafc7726",
   "metadata": {},
   "outputs": [],
   "source": [
    "train_path = r\"C:\\Users\\dlbol\\Downloads\\likes\\likes\\likes_data\\train\"\n",
    "test_path = r\"C:\\Users\\dlbol\\Downloads\\likes\\likes\\likes_data\\test\"\n",
    "pred_path = r\"C:\\Users\\dlbol\\Downloads\\likes\\likes\\likes_data\\impicit_mix_als_bpr_1500_0.015_3_minmax_false\"\n",
    "score_path = r\"C:\\Users\\dlbol\\Downloads\\likes\\likes\\likes_data\\impicit_mix_als_bpr_1500_0.015_3_minmax_false_score\""
   ]
  },
  {
   "cell_type": "code",
   "execution_count": 15,
   "id": "78c8f88a",
   "metadata": {},
   "outputs": [
    {
     "name": "stdout",
     "output_type": "stream",
     "text": [
      "model_als.fit:\n"
     ]
    },
    {
     "name": "stderr",
     "output_type": "stream",
     "text": [
      "100%|██████████████████████████████████████████████████████████████████████████████| 15/15 [4:28:08<00:00, 1072.57s/it]\n"
     ]
    }
   ],
   "source": [
    "model_als = implicit.als.AlternatingLeastSquares(factors=200, \n",
    "                                                 regularization=10,\n",
    "                                                 alpha=40,\n",
    "                                                 use_native=True,\n",
    "                                                 use_cg=False,\n",
    "                                                 iterations=15,\n",
    "                                                 random_state=42)\n",
    "print('model_als.fit:')\n",
    "model_als.fit(user_item)"
   ]
  },
  {
   "cell_type": "code",
   "execution_count": 16,
   "id": "5567a950",
   "metadata": {},
   "outputs": [],
   "source": [
    "def N_opt(model_als, model_bpr, N=100, q_bpr=1):\n",
    "    \n",
    "    N_als = N\n",
    "    N_bpr = int(N * q_bpr)\n",
    "    \n",
    "    userid = np.arange(last_id_test + 1)\n",
    "        \n",
    "    start_time = time.time()\n",
    "    rec_als = model_als.recommend(userid, user_item, N=N_als, filter_already_liked_items=True)\n",
    "    rec_als = rec_als[:, first_id_test:]\n",
    "    print(\"\\n\\n--- %s seconds model_als ---\" % (time.time() - start_time))\n",
    "\n",
    "    start_time = time.time()\n",
    "    rec_bpr = model_bpr.recommend(userid, user_item, N=N_bpr, filter_already_liked_items=True)\n",
    "    rec_bpr = rec_bpr[:, first_id_test:]\n",
    "    print(\"\\n--- %s seconds model_bpr ---\" % (time.time() - start_time))\n",
    "    \n",
    "    return rec_als, rec_bpr, N_als, N_bpr"
   ]
  },
  {
   "cell_type": "code",
   "execution_count": 17,
   "id": "b04c5b1d",
   "metadata": {},
   "outputs": [],
   "source": [
    "def optimize(rec_als,\n",
    "             rec_bpr,\n",
    "             N_als,\n",
    "             N_bpr,\n",
    "             coef_bpr=1,\n",
    "             norm_all=False,\n",
    "             preproc=None):\n",
    "    \n",
    "    if not isinstance(norm_all, bool) or preproc not in ['minmax', 'standart', None]:\n",
    "        raise ValueError('wrong params')\n",
    "        \n",
    "    if preproc is None:\n",
    "        als_score = rec_als[1]\n",
    "        bpr_score = rec_bpr[1]\n",
    "    else:\n",
    "        if norm_all:\n",
    "            if preproc == 'minmax':\n",
    "                als_score = minmax_scale(rec_als[1].flatten(), feature_range=(0, 1), axis=0).reshape((-1, N_als))\n",
    "                bpr_score = minmax_scale(rec_bpr[1].flatten(), feature_range=(0, 1), axis=0).reshape((-1, N_bpr))\n",
    "            if preproc == 'standart':\n",
    "                als_score = scale(rec_als[1].flatten(), with_mean=True, with_std=True, axis=0).reshape((-1, N_als))\n",
    "                bpr_score = scale(rec_bpr[1].flatten(), with_mean=True, with_std=True, axis=0).reshape((-1, N_bpr))    \n",
    "        else:\n",
    "            if preproc == 'minmax':\n",
    "                als_score = minmax_scale(rec_als[1], feature_range=(0, 1), axis=1)\n",
    "                bpr_score = minmax_scale(rec_bpr[1], feature_range=(0, 1), axis=1)   \n",
    "            if preproc == 'standart':\n",
    "                als_score = scale(rec_als[1], with_mean=True, with_std=True, axis=1)\n",
    "                bpr_score = scale(rec_bpr[1], with_mean=True, with_std=True, axis=1)     \n",
    "\n",
    "    result = []\n",
    "    scores = []\n",
    "    for i in tqdm(range(rec_als[0].shape[0])):\n",
    "        als_df = pd.DataFrame({'trak_id': rec_als[0][i], 'als_score': als_score[i]})\n",
    "        bpr_df = pd.DataFrame({'trak_id': rec_bpr[0][i], 'bpr_score': bpr_score[i] * coef_bpr})\n",
    "        df = pd.merge(als_df, bpr_df, how=\"outer\", on='trak_id', sort=False)\n",
    "        df['als_prior'] = df.als_score.where(~df.als_score.isna(), df.bpr_score)\n",
    "        df['total_score'] = np.where((df.als_score.isna()) | (df.bpr_score.isna()), df.als_prior, \n",
    "                                     (df.als_score + df.bpr_score) / 2)\n",
    "        final_rec = df.sort_values(by='total_score', ascending=False).trak_id.values[:100]\n",
    "        result.append(' '.join(map(str, final_rec)) + '\\n')\n",
    "        final_scr = df.sort_values(by='total_score', ascending=False).total_score.values[:100]\n",
    "        result.append(' '.join(map(str, final_scr)) + '\\n')\n",
    "        \n",
    "        \n",
    "    with open(pred_path, 'w') as f:\n",
    "        f.writelines(result)\n",
    "\n",
    "    with open(score_path, 'w') as f:\n",
    "        f.writelines(scores)"
   ]
  },
  {
   "cell_type": "code",
   "execution_count": null,
   "id": "e7e0b9f5",
   "metadata": {},
   "outputs": [],
   "source": [
    "rec_als, rec_bpr, N_als, N_bpr = N_opt(model_als, model, N=N_q, q_bpr=Q_BPR)"
   ]
  },
  {
   "cell_type": "code",
   "execution_count": null,
   "id": "69e6f61c",
   "metadata": {},
   "outputs": [],
   "source": [
    "optimize(rec_als,\n",
    "         rec_bpr,\n",
    "         N_als,\n",
    "         N_bpr,\n",
    "         coef_bpr=COEF_BPR,\n",
    "         norm_all=NORM_ALL,\n",
    "         preproc=PREPROC)"
   ]
  },
  {
   "cell_type": "code",
   "execution_count": 1,
   "id": "83f13a73",
   "metadata": {},
   "outputs": [
    {
     "ename": "NameError",
     "evalue": "name 'model' is not defined",
     "output_type": "error",
     "traceback": [
      "\u001b[1;31m---------------------------------------------------------------------------\u001b[0m",
      "\u001b[1;31mNameError\u001b[0m                                 Traceback (most recent call last)",
      "Cell \u001b[1;32mIn [1], line 1\u001b[0m\n\u001b[1;32m----> 1\u001b[0m \u001b[43mmodel\u001b[49m\n",
      "\u001b[1;31mNameError\u001b[0m: name 'model' is not defined"
     ]
    }
   ],
   "source": [
    "model"
   ]
  },
  {
   "cell_type": "code",
   "execution_count": null,
   "id": "ad5854de",
   "metadata": {},
   "outputs": [],
   "source": []
  }
 ],
 "metadata": {
  "kernelspec": {
   "display_name": "Python 3 (ipykernel)",
   "language": "python",
   "name": "python3"
  },
  "language_info": {
   "codemirror_mode": {
    "name": "ipython",
    "version": 3
   },
   "file_extension": ".py",
   "mimetype": "text/x-python",
   "name": "python",
   "nbconvert_exporter": "python",
   "pygments_lexer": "ipython3",
   "version": "3.8.9"
  }
 },
 "nbformat": 4,
 "nbformat_minor": 5
}
