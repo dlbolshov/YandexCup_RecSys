{
 "cells": [
  {
   "cell_type": "markdown",
   "id": "b41aea22",
   "metadata": {},
   "source": [
    "# Final LFM"
   ]
  },
  {
   "cell_type": "code",
   "execution_count": 1,
   "id": "cfa8f960",
   "metadata": {},
   "outputs": [],
   "source": [
    "FACTORS = ?\n",
    "REGULAR = ?\n",
    "ITERATIONS = ?\n",
    "NEG_PROP = ?"
   ]
  },
  {
   "cell_type": "code",
   "execution_count": 2,
   "id": "e6401b86",
   "metadata": {
    "scrolled": true
   },
   "outputs": [
    {
     "name": "stderr",
     "output_type": "stream",
     "text": [
      "c:\\python38\\lib\\site-packages\\tqdm\\auto.py:22: TqdmWarning: IProgress not found. Please update jupyter and ipywidgets. See https://ipywidgets.readthedocs.io/en/stable/user_install.html\n",
      "  from .autonotebook import tqdm as notebook_tqdm\n"
     ]
    }
   ],
   "source": [
    "import numpy as np\n",
    "import pandas as pd\n",
    "from scipy.sparse import csr_matrix\n",
    "import implicit\n",
    "import time\n",
    "from tqdm import tqdm"
   ]
  },
  {
   "cell_type": "code",
   "execution_count": 3,
   "id": "e93ec973",
   "metadata": {},
   "outputs": [],
   "source": [
    "train_path = r\"C:\\Users\\dlbol\\Downloads\\likes\\likes\\likes_data\\train\"\n",
    "test_path = r\"C:\\Users\\dlbol\\Downloads\\likes\\likes\\likes_data\\test\"\n",
    "pred_path = r\"C:\\Users\\dlbol\\Downloads\\likes\\likes\\likes_data\\implicit_lfm_123_123_12_12\"\n",
    "score_path = r\"C:\\Users\\dlbol\\Downloads\\likes\\likes\\likes_data\\implicit_lfm_123_123_12_12_score\""
   ]
  },
  {
   "cell_type": "code",
   "execution_count": 4,
   "id": "899e783a",
   "metadata": {},
   "outputs": [
    {
     "name": "stdout",
     "output_type": "stream",
     "text": [
      "CPU times: total: 14.7 s\n",
      "Wall time: 14.7 s\n"
     ]
    }
   ],
   "source": [
    "%%time\n",
    "\n",
    "list_coord = []\n",
    "idx = 0\n",
    "\n",
    "with open(train_path) as f:\n",
    "    lines = f.readlines()\n",
    "    for line in tqdm(lines):\n",
    "        tracks = line.strip().split(' ')\n",
    "        for track in tracks:\n",
    "            list_coord.append((idx, track))\n",
    "        idx += 1\n",
    "        \n",
    "first_id_test = idx\n",
    "\n",
    "with open(test_path) as f:\n",
    "    lines = f.readlines()\n",
    "    for line in tqdm(lines):\n",
    "        tracks = line.strip().split(' ')\n",
    "        for track in tracks:\n",
    "            list_coord.append((idx, track))\n",
    "        idx += 1\n",
    "        \n",
    "last_id_test = idx - 1"
   ]
  },
  {
   "cell_type": "code",
   "execution_count": 5,
   "id": "cef8dd6f",
   "metadata": {},
   "outputs": [
    {
     "data": {
      "text/plain": [
       "(1160084, 1449997)"
      ]
     },
     "execution_count": 5,
     "metadata": {},
     "output_type": "execute_result"
    }
   ],
   "source": [
    "first_id_test, last_id_test"
   ]
  },
  {
   "cell_type": "code",
   "execution_count": 6,
   "id": "46284f53",
   "metadata": {},
   "outputs": [
    {
     "name": "stdout",
     "output_type": "stream",
     "text": [
      "CPU times: total: 47 s\n",
      "Wall time: 47.2 s\n"
     ]
    }
   ],
   "source": [
    "%%time\n",
    "\n",
    "rows = [i[0] for i in list_coord]\n",
    "cols = [i[1] for i in list_coord]\n",
    "arr_rows = np.array(rows)\n",
    "arr_cols = np.array(cols)\n",
    "arr_cols = arr_cols.astype(np.int32)\n",
    "ones = np.ones(len(list_coord))\n",
    "user_item = csr_matrix((ones, (arr_rows, arr_cols)), dtype=np.int32)"
   ]
  },
  {
   "cell_type": "code",
   "execution_count": 7,
   "id": "07125248",
   "metadata": {},
   "outputs": [
    {
     "name": "stderr",
     "output_type": "stream",
     "text": [
      "100%|███████████████████████████████████████████████████████████████████████████████| 15/15 [2:05:26<00:00, 501.78s/it]\n"
     ]
    }
   ],
   "source": [
    "model = implicit.lmf.LogisticMatrixFactorization(factors=FACTORS,\n",
    "                                                 learning_rate=1.00,\n",
    "                                                 regularization=REGULAR,\n",
    "                                                 iterations=ITERATIONS,\n",
    "                                                 neg_prop=NEG_PROP,\n",
    "                                                 random_state=42)\n",
    "\n",
    "model.fit(user_item)"
   ]
  },
  {
   "cell_type": "code",
   "execution_count": 8,
   "id": "0fd697bd",
   "metadata": {},
   "outputs": [
    {
     "name": "stdout",
     "output_type": "stream",
     "text": [
      "CPU times: total: 7h 21min 57s\n",
      "Wall time: 25min 6s\n"
     ]
    }
   ],
   "source": [
    "%%time\n",
    "\n",
    "userid = np.arange(last_id_test + 1)\n",
    "recommendations = model.recommend(userid, user_item, N=100, filter_already_liked_items=True)"
   ]
  },
  {
   "cell_type": "code",
   "execution_count": 9,
   "id": "65fe3f12",
   "metadata": {},
   "outputs": [
    {
     "name": "stderr",
     "output_type": "stream",
     "text": [
      "1449998it [00:09, 156782.39it/s]\n"
     ]
    }
   ],
   "source": [
    "result = [' '.join(map(str, i)) + '\\n' for idx, i in tqdm(enumerate(recommendations[0])) if first_id_test <= idx <= last_id_test]\n",
    "with open(pred_path, 'w') as f:\n",
    "    f.writelines(result)"
   ]
  },
  {
   "cell_type": "code",
   "execution_count": 10,
   "id": "b48b4d45",
   "metadata": {},
   "outputs": [
    {
     "name": "stderr",
     "output_type": "stream",
     "text": [
      "1449998it [00:07, 190413.09it/s] \n"
     ]
    }
   ],
   "source": [
    "result = [' '.join(map(str, i)) + '\\n' for idx, i in tqdm(enumerate(recommendations[1])) if first_id_test <= idx <= last_id_test]\n",
    "with open(score_path, 'w') as f:\n",
    "    f.writelines(result)"
   ]
  }
 ],
 "metadata": {
  "kernelspec": {
   "display_name": "Python 3 (ipykernel)",
   "language": "python",
   "name": "python3"
  },
  "language_info": {
   "codemirror_mode": {
    "name": "ipython",
    "version": 3
   },
   "file_extension": ".py",
   "mimetype": "text/x-python",
   "name": "python",
   "nbconvert_exporter": "python",
   "pygments_lexer": "ipython3",
   "version": "3.10.5"
  }
 },
 "nbformat": 4,
 "nbformat_minor": 5
}
