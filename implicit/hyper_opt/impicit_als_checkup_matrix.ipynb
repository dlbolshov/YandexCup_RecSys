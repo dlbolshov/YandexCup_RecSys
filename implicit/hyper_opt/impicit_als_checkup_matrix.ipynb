{
 "cells": [
  {
   "cell_type": "code",
   "execution_count": 1,
   "id": "46314fbb",
   "metadata": {},
   "outputs": [],
   "source": [
    "import numpy as np\n",
    "import pandas as pd\n",
    "from scipy.sparse import csr_matrix\n",
    "import implicit"
   ]
  },
  {
   "cell_type": "code",
   "execution_count": 2,
   "id": "420e14d6",
   "metadata": {},
   "outputs": [],
   "source": [
    "def calc_mrr(predict, answer):\n",
    "    for i in range(len(predict)):\n",
    "        if predict[i] == answer:\n",
    "            return 1. / (i + 1)\n",
    "    return 0\n",
    "\n",
    "max_prediction_len = 100\n",
    "\n",
    "def calc_score(target_path, predict_path):\n",
    "    with open(target_path) as f:\n",
    "        y_true = [int(x.strip()) for x in f.readlines()]\n",
    "\n",
    "    with open(predict_path) as f:\n",
    "        y_pred = [[int(x) for x in line.strip().split(' ')] for line in f.readlines()]\n",
    "\n",
    "    mrr_score = 0\n",
    "    for (pred, answer) in zip(y_pred, y_true):\n",
    "        if len(pred) > max_prediction_len:\n",
    "            raise ValueError('$maximum prediction length is {}, got {}$'.format(max_prediction_len, len(y_pred[i])))\n",
    "        mrr_score += calc_mrr(pred, answer)\n",
    "\n",
    "    print(f\"MRR@100 = {(mrr_score / len(y_true)):.4f}\")"
   ]
  },
  {
   "cell_type": "code",
   "execution_count": 3,
   "id": "9db45cc4",
   "metadata": {},
   "outputs": [
    {
     "name": "stdout",
     "output_type": "stream",
     "text": [
      "CPU times: user 4.58 s, sys: 438 ms, total: 5.01 s\n",
      "Wall time: 5.67 s\n"
     ]
    }
   ],
   "source": [
    "%%time\n",
    "\n",
    "list_coord = []\n",
    "list_coord_val = []\n",
    "target_val = []\n",
    "np.random.seed(42)  \n",
    "val_id = np.random.choice(range(10000), size=2500, replace=False)\n",
    "val_id.sort()\n",
    "\n",
    "with open('/Users/david/Documents/GitHub/YandexCup_RecSys/train') as f:\n",
    "    lines = f.readlines()\n",
    "    idx = 0\n",
    "    idx_val = 0\n",
    "    for line in lines:\n",
    "        tracks = line.strip().split(' ')\n",
    "        if len(tracks) == 0:\n",
    "            print(0)\n",
    "        if len(tracks) == 1:\n",
    "            print(1)\n",
    "        for i, track in enumerate(tracks):\n",
    "            if idx in val_id and i+1 == len(tracks):\n",
    "                target_val.append(track)\n",
    "                idx_val += 1\n",
    "                continue\n",
    "            if idx in val_id:\n",
    "                list_coord_val.append((idx_val, track))\n",
    "            list_coord.append((idx, track))\n",
    "        idx += 1\n",
    "        if idx >= 10000:\n",
    "            break"
   ]
  },
  {
   "cell_type": "code",
   "execution_count": 36,
   "id": "a2f9bd6a",
   "metadata": {
    "scrolled": true
   },
   "outputs": [
    {
     "name": "stdout",
     "output_type": "stream",
     "text": [
      "CPU times: user 400 ms, sys: 174 ms, total: 574 ms\n",
      "Wall time: 1.75 s\n"
     ]
    }
   ],
   "source": [
    "%%time\n",
    "\n",
    "arr_rows = np.array([i[0] for i in list_coord])\n",
    "arr_cols = np.array([i[1] for i in list_coord]).astype(int)\n",
    "ones = np.ones(arr_rows.shape[0])\n",
    "user_item = csr_matrix((ones, (arr_rows, arr_cols)), dtype=int)\n",
    "item_user = csr_matrix((ones, (arr_cols, arr_rows)), dtype=int)\n",
    "\n",
    "arr_rows_val = np.array([i[0] for i in list_coord_val])\n",
    "arr_cols_val = np.array([i[1] for i in list_coord_val]).astype(int)\n",
    "ones_val = np.ones(arr_rows_val.shape[0])\n",
    "user_item_val = csr_matrix((ones_val, (arr_rows_val, arr_cols_val)), dtype=int)\n",
    "item_user_val = csr_matrix((ones_val, (arr_cols_val, arr_rows_val)), dtype=int)"
   ]
  },
  {
   "cell_type": "markdown",
   "id": "0e625421",
   "metadata": {},
   "source": [
    "## val matrix"
   ]
  },
  {
   "cell_type": "code",
   "execution_count": 5,
   "id": "95990e05",
   "metadata": {},
   "outputs": [],
   "source": [
    "# initialize a model\n",
    "model = implicit.als.AlternatingLeastSquares(factors=10,\n",
    "                                             regularization=10,\n",
    "                                             alpha=10,\n",
    "                                             use_native=True,\n",
    "                                             use_cg=False,\n",
    "                                             iterations=15,\n",
    "                                             calculate_training_loss=False,\n",
    "                                             random_state=42)"
   ]
  },
  {
   "cell_type": "code",
   "execution_count": 6,
   "id": "3f6ffd22",
   "metadata": {},
   "outputs": [
    {
     "data": {
      "application/vnd.jupyter.widget-view+json": {
       "model_id": "dbd325891b144ed7a8792146389b3158",
       "version_major": 2,
       "version_minor": 0
      },
      "text/plain": [
       "  0%|          | 0/15 [00:00<?, ?it/s]"
      ]
     },
     "metadata": {},
     "output_type": "display_data"
    }
   ],
   "source": [
    "# train the model on a sparse matrix of item/user/confidence weights\n",
    "model.fit(user_item)"
   ]
  },
  {
   "cell_type": "code",
   "execution_count": 7,
   "id": "c3534228",
   "metadata": {},
   "outputs": [
    {
     "name": "stdout",
     "output_type": "stream",
     "text": [
      "CPU times: user 13 s, sys: 4.97 s, total: 18 s\n",
      "Wall time: 3.8 s\n"
     ]
    }
   ],
   "source": [
    "%%time\n",
    "# recommend items for a user\n",
    "userid = val_id\n",
    "recommendations = model.recommend(userid, user_item_val, N=100, filter_already_liked_items=True)"
   ]
  },
  {
   "cell_type": "code",
   "execution_count": 8,
   "id": "61e142e8",
   "metadata": {},
   "outputs": [
    {
     "data": {
      "text/plain": [
       "array([[244723, 266527, 144033, ..., 469176, 377553, 453471],\n",
       "       [244723, 266527, 389761, ..., 475541, 316972, 287050],\n",
       "       [307702, 446274, 203963, ..., 413342, 193058, 465526],\n",
       "       ...,\n",
       "       [460783, 245354, 361704, ..., 374694, 482922,  39199],\n",
       "       [285875,  19156, 476656, ...,  95038, 155742, 380542],\n",
       "       [ 99446, 336586, 321731, ...,  68836, 452568, 376268]], dtype=int32)"
      ]
     },
     "execution_count": 8,
     "metadata": {},
     "output_type": "execute_result"
    }
   ],
   "source": [
    "recommendations[0]"
   ]
  },
  {
   "cell_type": "code",
   "execution_count": 9,
   "id": "31a8e7d0",
   "metadata": {},
   "outputs": [],
   "source": [
    "result = [' '.join(map(str, i)) + '\\n' for i in recommendations[0]]"
   ]
  },
  {
   "cell_type": "code",
   "execution_count": 10,
   "id": "6d279e52",
   "metadata": {},
   "outputs": [
    {
     "name": "stdout",
     "output_type": "stream",
     "text": [
      "MRR@100 = 0.0095\n"
     ]
    }
   ],
   "source": [
    "with open('/Users/david/Documents/GitHub/YandexCup_RecSys/impicit_als_checkup_matrix_pred', 'w') as f:\n",
    "    f.writelines(result)\n",
    "\n",
    "with open('/Users/david/Documents/GitHub/YandexCup_RecSys/impicit_als_checkup_matrix_target', 'w') as f:\n",
    "    for i in target_val:\n",
    "        f.write(f'{i}\\n')\n",
    "\n",
    "calc_score('/Users/david/Documents/GitHub/YandexCup_RecSys/impicit_als_checkup_matrix_target',\n",
    "           \"/Users/david/Documents/GitHub/YandexCup_RecSys/impicit_als_checkup_matrix_pred\")"
   ]
  },
  {
   "cell_type": "markdown",
   "id": "c5af1cf6",
   "metadata": {},
   "source": [
    "# full matrix - val idx"
   ]
  },
  {
   "cell_type": "code",
   "execution_count": 11,
   "id": "1469afc6",
   "metadata": {},
   "outputs": [],
   "source": [
    "# initialize a model\n",
    "model = implicit.als.AlternatingLeastSquares(factors=10,\n",
    "                                             regularization=10,\n",
    "                                             alpha=10,\n",
    "                                             use_native=True,\n",
    "                                             use_cg=False,\n",
    "                                             iterations=15,\n",
    "                                             calculate_training_loss=False,\n",
    "                                             random_state=42)"
   ]
  },
  {
   "cell_type": "code",
   "execution_count": 12,
   "id": "ad61724e",
   "metadata": {},
   "outputs": [
    {
     "data": {
      "application/vnd.jupyter.widget-view+json": {
       "model_id": "",
       "version_major": 2,
       "version_minor": 0
      },
      "text/plain": [
       "  0%|          | 0/15 [00:00<?, ?it/s]"
      ]
     },
     "metadata": {},
     "output_type": "display_data"
    }
   ],
   "source": [
    "# train the model on a sparse matrix of item/user/confidence weights\n",
    "model.fit(user_item)"
   ]
  },
  {
   "cell_type": "code",
   "execution_count": 17,
   "id": "2e328554",
   "metadata": {},
   "outputs": [
    {
     "name": "stdout",
     "output_type": "stream",
     "text": [
      "CPU times: user 1min 10s, sys: 5.03 s, total: 1min 15s\n",
      "Wall time: 37.4 s\n"
     ]
    }
   ],
   "source": [
    "%%time\n",
    "# recommend items for a user\n",
    "userid = np.arange(10000)\n",
    "recommendations = model.recommend(userid, user_item, N=100, filter_already_liked_items=True)"
   ]
  },
  {
   "cell_type": "code",
   "execution_count": 18,
   "id": "5064922b",
   "metadata": {},
   "outputs": [
    {
     "data": {
      "text/plain": [
       "array([[244723, 266527, 144033, ..., 469176, 377553, 453471],\n",
       "       [165509,  94009,  64323, ..., 444015, 407246, 220227],\n",
       "       [460783, 361704, 245354, ..., 411269, 164780, 392615],\n",
       "       ...,\n",
       "       [ 15028, 308953, 163814, ..., 326106, 428843, 290883],\n",
       "       [ 99446, 336586, 321731, ...,  68836, 452568, 376268],\n",
       "       [177527,  74777, 145882, ..., 148208, 320189, 262757]], dtype=int32)"
      ]
     },
     "execution_count": 18,
     "metadata": {},
     "output_type": "execute_result"
    }
   ],
   "source": [
    "recommendations[0]"
   ]
  },
  {
   "cell_type": "code",
   "execution_count": 19,
   "id": "0b1f9503",
   "metadata": {},
   "outputs": [],
   "source": [
    "result = [' '.join(map(str, i)) + '\\n' for idx, i in enumerate(recommendations[0]) if idx in val_id]"
   ]
  },
  {
   "cell_type": "code",
   "execution_count": 20,
   "id": "51f526b3",
   "metadata": {},
   "outputs": [
    {
     "name": "stdout",
     "output_type": "stream",
     "text": [
      "MRR@100 = 0.0095\n"
     ]
    }
   ],
   "source": [
    "with open('/Users/david/Documents/GitHub/YandexCup_RecSys/impicit_als_checkup_matrix_pred', 'w') as f:\n",
    "    f.writelines(result)\n",
    "\n",
    "with open('/Users/david/Documents/GitHub/YandexCup_RecSys/impicit_als_checkup_matrix_target', 'w') as f:\n",
    "    for i in target_val:\n",
    "        f.write(f'{i}\\n')\n",
    "\n",
    "calc_score('/Users/david/Documents/GitHub/YandexCup_RecSys/impicit_als_checkup_matrix_target',\n",
    "           \"/Users/david/Documents/GitHub/YandexCup_RecSys/impicit_als_checkup_matrix_pred\")"
   ]
  },
  {
   "cell_type": "code",
   "execution_count": null,
   "id": "bca5f576",
   "metadata": {},
   "outputs": [],
   "source": []
  },
  {
   "cell_type": "markdown",
   "id": "f990f4c7",
   "metadata": {},
   "source": [
    "# item_user"
   ]
  },
  {
   "cell_type": "code",
   "execution_count": 39,
   "id": "33a226b5",
   "metadata": {},
   "outputs": [],
   "source": [
    "# initialize a model\n",
    "model = implicit.als.AlternatingLeastSquares(factors=10,\n",
    "                                             regularization=10,\n",
    "                                             alpha=10,\n",
    "                                             use_native=True,\n",
    "                                             use_cg=False,\n",
    "                                             iterations=15,\n",
    "                                             calculate_training_loss=False,\n",
    "                                             random_state=42)"
   ]
  },
  {
   "cell_type": "code",
   "execution_count": 40,
   "id": "25945804",
   "metadata": {},
   "outputs": [
    {
     "data": {
      "application/vnd.jupyter.widget-view+json": {
       "model_id": "e5cb80ddf2a846eda44a7e22f0f8c0ee",
       "version_major": 2,
       "version_minor": 0
      },
      "text/plain": [
       "  0%|          | 0/15 [00:00<?, ?it/s]"
      ]
     },
     "metadata": {},
     "output_type": "display_data"
    }
   ],
   "source": [
    "# train the model on a sparse matrix of item/user/confidence weights\n",
    "model.fit(user_item)"
   ]
  },
  {
   "cell_type": "code",
   "execution_count": 41,
   "id": "d9fe91b5",
   "metadata": {},
   "outputs": [
    {
     "name": "stdout",
     "output_type": "stream",
     "text": [
      "CPU times: user 16.9 s, sys: 1.01 s, total: 17.9 s\n",
      "Wall time: 2.94 s\n"
     ]
    }
   ],
   "source": [
    "%%time\n",
    "# recommend items for a user\n",
    "userid = np.arange(2500)\n",
    "recommendations = model.recommend(userid, user_item_val, N=100, filter_already_liked_items=True)"
   ]
  },
  {
   "cell_type": "code",
   "execution_count": 42,
   "id": "f31de929",
   "metadata": {},
   "outputs": [
    {
     "data": {
      "text/plain": [
       "array([[244723, 266527, 144033, ..., 469176, 377553, 453471],\n",
       "       [165509,  94009,  64323, ...,  85019,  62121, 424525],\n",
       "       [460783, 361704, 245354, ..., 424273, 411269, 164780],\n",
       "       ...,\n",
       "       [336586, 177281, 461156, ..., 134342, 433817, 193472],\n",
       "       [245354,   6539,  97353, ..., 222388,  60343, 223595],\n",
       "       [ 19156, 144359, 147078, ...,  63415, 418883,  85019]], dtype=int32)"
      ]
     },
     "execution_count": 42,
     "metadata": {},
     "output_type": "execute_result"
    }
   ],
   "source": [
    "recommendations[0]"
   ]
  },
  {
   "cell_type": "code",
   "execution_count": 43,
   "id": "33ddddfb",
   "metadata": {},
   "outputs": [],
   "source": [
    "result = [' '.join(map(str, i)) + '\\n' for i in recommendations[0]]"
   ]
  },
  {
   "cell_type": "code",
   "execution_count": 45,
   "id": "83cc22b0",
   "metadata": {},
   "outputs": [
    {
     "name": "stdout",
     "output_type": "stream",
     "text": [
      "MRR@100 = 0.0013\n"
     ]
    }
   ],
   "source": [
    "with open('/Users/david/Documents/GitHub/YandexCup_RecSys/impicit_als_checkup_matrix_pred', 'w') as f:\n",
    "    f.writelines(result)\n",
    "\n",
    "with open('/Users/david/Documents/GitHub/YandexCup_RecSys/impicit_als_checkup_matrix_target', 'w') as f:\n",
    "    for i in target_val:\n",
    "        f.write(f'{i}\\n')\n",
    "\n",
    "calc_score('/Users/david/Documents/GitHub/YandexCup_RecSys/impicit_als_checkup_matrix_target',\n",
    "           \"/Users/david/Documents/GitHub/YandexCup_RecSys/impicit_als_checkup_matrix_pred\")"
   ]
  },
  {
   "cell_type": "code",
   "execution_count": null,
   "id": "3bea7492",
   "metadata": {},
   "outputs": [],
   "source": []
  }
 ],
 "metadata": {
  "kernelspec": {
   "display_name": "Python 3 (ipykernel)",
   "language": "python",
   "name": "python3"
  },
  "language_info": {
   "codemirror_mode": {
    "name": "ipython",
    "version": 3
   },
   "file_extension": ".py",
   "mimetype": "text/x-python",
   "name": "python",
   "nbconvert_exporter": "python",
   "pygments_lexer": "ipython3",
   "version": "3.10.5"
  }
 },
 "nbformat": 4,
 "nbformat_minor": 5
}
