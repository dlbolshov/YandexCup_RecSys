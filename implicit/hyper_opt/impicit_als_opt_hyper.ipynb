{
 "cells": [
  {
   "cell_type": "code",
   "execution_count": 8,
   "id": "f7aa00d5",
   "metadata": {},
   "outputs": [],
   "source": [
    "import numpy as np\n",
    "import pandas as pd\n",
    "from scipy.sparse import csr_matrix\n",
    "import implicit\n",
    "import time\n",
    "from tqdm import tqdm"
   ]
  },
  {
   "cell_type": "code",
   "execution_count": 2,
   "id": "5320546c",
   "metadata": {},
   "outputs": [],
   "source": [
    "def calc_mrr(predict, answer):\n",
    "    for i in range(len(predict)):\n",
    "        if predict[i] == answer:\n",
    "            return 1. / (i + 1)\n",
    "    return 0\n",
    "\n",
    "max_prediction_len = 100\n",
    "\n",
    "def calc_score(target_path, predict_path):\n",
    "    with open(target_path) as f:\n",
    "        y_true = [int(x.strip()) for x in f.readlines()]\n",
    "\n",
    "    with open(predict_path) as f:\n",
    "        y_pred = [[int(x) for x in line.strip().split(' ')] for line in f.readlines()]\n",
    "\n",
    "    mrr_score = 0\n",
    "    for (pred, answer) in zip(y_pred, y_true):\n",
    "        if len(pred) > max_prediction_len:\n",
    "            raise ValueError('$maximum prediction length is {}, got {}$'.format(max_prediction_len, len(y_pred[i])))\n",
    "        mrr_score += calc_mrr(pred, answer)\n",
    "\n",
    "    print(f\"MRR@100 = {(mrr_score / len(y_true)):.4f}\")"
   ]
  },
  {
   "cell_type": "code",
   "execution_count": 3,
   "id": "a673760e",
   "metadata": {},
   "outputs": [],
   "source": [
    "train_path = r\"C:\\Users\\dlbol\\Downloads\\likes\\likes\\likes_data\\train\"\n",
    "test_path = r\"C:\\Users\\dlbol\\Downloads\\likes\\likes\\likes_data\\test\"\n",
    "target_val_path = r\"C:\\Users\\dlbol\\Downloads\\likes\\likes\\likes_data\\target_val\"\n",
    "pred_val_path = r\"C:\\Users\\dlbol\\Downloads\\likes\\likes\\likes_data\\pred_val\""
   ]
  },
  {
   "cell_type": "code",
   "execution_count": 9,
   "id": "22962694",
   "metadata": {},
   "outputs": [
    {
     "name": "stderr",
     "output_type": "stream",
     "text": [
      "  1%|▌                                                                       | 9999/1160084 [00:39<1:16:31, 250.48it/s]"
     ]
    },
    {
     "name": "stdout",
     "output_type": "stream",
     "text": [
      "CPU times: total: 16.6 s\n",
      "Wall time: 45.6 s\n"
     ]
    },
    {
     "name": "stderr",
     "output_type": "stream",
     "text": [
      "\n"
     ]
    }
   ],
   "source": [
    "%%time\n",
    "\n",
    "list_coord = []\n",
    "list_coord_val = []\n",
    "target_val = []\n",
    "np.random.seed(42)  \n",
    "val_id = np.random.choice(range(10000), size=2500, replace=False)\n",
    "val_id.sort()\n",
    "\n",
    "with open(train_path) as f:\n",
    "    lines = f.readlines()\n",
    "    idx = 0\n",
    "    idx_val = 0\n",
    "    for line in tqdm(lines):\n",
    "        tracks = line.strip().split(' ')\n",
    "        if len(tracks) == 0:\n",
    "            print(0)\n",
    "        if len(tracks) == 1:\n",
    "            print(1)\n",
    "        for i, track in enumerate(tracks):\n",
    "            if idx in val_id and i+1 == len(tracks):\n",
    "                target_val.append(track)\n",
    "                idx_val += 1\n",
    "                continue\n",
    "            if idx in val_id:\n",
    "                list_coord_val.append((idx_val, track))\n",
    "            list_coord.append((idx, track))\n",
    "        idx += 1\n",
    "        if idx >= 10000:\n",
    "            break"
   ]
  },
  {
   "cell_type": "code",
   "execution_count": 10,
   "id": "a6abf8ce",
   "metadata": {
    "scrolled": true
   },
   "outputs": [
    {
     "name": "stdout",
     "output_type": "stream",
     "text": [
      "CPU times: total: 812 ms\n",
      "Wall time: 2.55 s\n"
     ]
    }
   ],
   "source": [
    "%%time\n",
    "\n",
    "arr_rows = np.array([i[0] for i in list_coord])\n",
    "arr_cols = np.array([i[1] for i in list_coord]).astype(int)\n",
    "ones = np.ones(arr_rows.shape[0])\n",
    "user_item = csr_matrix((ones, (arr_rows, arr_cols)), dtype=int)\n",
    "#item_user = csr_matrix((ones, (arr_cols, arr_rows)), dtype=int)\n",
    "\n",
    "arr_rows_val = np.array([i[0] for i in list_coord_val])\n",
    "arr_cols_val = np.array([i[1] for i in list_coord_val]).astype(int)\n",
    "ones_val = np.ones(arr_rows_val.shape[0])\n",
    "user_item_val = csr_matrix((ones_val, (arr_rows_val, arr_cols_val)), dtype=int)"
   ]
  },
  {
   "cell_type": "code",
   "execution_count": 11,
   "id": "374bdc6c",
   "metadata": {},
   "outputs": [],
   "source": [
    "def optimize(factors=100,\n",
    "             regularization=0.01,\n",
    "             alpha=1.0,\n",
    "             use_native=True,\n",
    "             use_cg=True,\n",
    "             iterations=15,\n",
    "             calculate_training_loss=False):\n",
    "    \n",
    "    model = implicit.als.AlternatingLeastSquares(factors=factors, \n",
    "                                                 regularization=regularization,\n",
    "                                                 alpha=alpha,\n",
    "                                                 use_native=use_native,\n",
    "                                                 use_cg=use_cg,\n",
    "                                                 iterations=iterations,\n",
    "                                                 random_state=42)\n",
    " \n",
    "    model.fit(user_item)\n",
    "    \n",
    "    start_time = time.time()\n",
    "    \n",
    "    userid = val_id\n",
    "    recommendations = model.recommend(userid, user_item_val, N=100, filter_already_liked_items=True)\n",
    "    result = [' '.join(map(str, i)) + '\\n' for i in recommendations[0]]\n",
    "    \n",
    "    print(\"--- %s seconds ---\" % (time.time() - start_time))\n",
    "    \n",
    "    with open(pred_val_path, 'w') as f:\n",
    "        f.writelines(result)\n",
    "    \n",
    "    with open(target_val_path, 'w') as f:\n",
    "        for i in target_val:\n",
    "            f.write(f'{i}\\n')\n",
    "            \n",
    "    calc_score(target_val_path, pred_val_path)"
   ]
  },
  {
   "cell_type": "code",
   "execution_count": 7,
   "id": "2de4669b",
   "metadata": {},
   "outputs": [
    {
     "name": "stdout",
     "output_type": "stream",
     "text": [
      " alpha: 0.1, regularization: 0.1\n"
     ]
    },
    {
     "name": "stderr",
     "output_type": "stream",
     "text": [
      "100%|██████████████████████████████████████████████████████████████████████████████████| 20/20 [01:37<00:00,  4.87s/it]\n"
     ]
    },
    {
     "name": "stdout",
     "output_type": "stream",
     "text": [
      "--- 16.62998628616333 seconds ---\n",
      "MRR@100 = 0.0105\n",
      " alpha: 0.1, regularization: 1\n"
     ]
    },
    {
     "name": "stderr",
     "output_type": "stream",
     "text": [
      "100%|██████████████████████████████████████████████████████████████████████████████████| 20/20 [01:39<00:00,  4.97s/it]\n"
     ]
    },
    {
     "name": "stdout",
     "output_type": "stream",
     "text": [
      "--- 21.377461433410645 seconds ---\n",
      "MRR@100 = 0.0109\n",
      " alpha: 0.1, regularization: 10\n"
     ]
    },
    {
     "name": "stderr",
     "output_type": "stream",
     "text": [
      "100%|██████████████████████████████████████████████████████████████████████████████████| 20/20 [01:44<00:00,  5.23s/it]\n"
     ]
    },
    {
     "name": "stdout",
     "output_type": "stream",
     "text": [
      "--- 17.024970054626465 seconds ---\n",
      "MRR@100 = 0.0085\n",
      " alpha: 0.1, regularization: 100\n"
     ]
    },
    {
     "name": "stderr",
     "output_type": "stream",
     "text": [
      "100%|██████████████████████████████████████████████████████████████████████████████████| 20/20 [15:42<00:00, 47.13s/it]\n"
     ]
    },
    {
     "name": "stdout",
     "output_type": "stream",
     "text": [
      "--- 1650.7862496376038 seconds ---\n",
      "MRR@100 = 0.0000\n",
      " alpha: 1, regularization: 0.1\n"
     ]
    },
    {
     "name": "stderr",
     "output_type": "stream",
     "text": [
      "100%|██████████████████████████████████████████████████████████████████████████████████| 20/20 [00:47<00:00,  2.38s/it]\n"
     ]
    },
    {
     "name": "stdout",
     "output_type": "stream",
     "text": [
      "--- 16.715065240859985 seconds ---\n",
      "MRR@100 = 0.0176\n",
      " alpha: 1, regularization: 1\n"
     ]
    },
    {
     "name": "stderr",
     "output_type": "stream",
     "text": [
      "100%|██████████████████████████████████████████████████████████████████████████████████| 20/20 [00:47<00:00,  2.38s/it]\n"
     ]
    },
    {
     "name": "stdout",
     "output_type": "stream",
     "text": [
      "--- 16.871630907058716 seconds ---\n",
      "MRR@100 = 0.0176\n",
      " alpha: 1, regularization: 10\n"
     ]
    },
    {
     "name": "stderr",
     "output_type": "stream",
     "text": [
      "100%|██████████████████████████████████████████████████████████████████████████████████| 20/20 [00:47<00:00,  2.39s/it]\n"
     ]
    },
    {
     "name": "stdout",
     "output_type": "stream",
     "text": [
      "--- 16.716830492019653 seconds ---\n",
      "MRR@100 = 0.0175\n",
      " alpha: 1, regularization: 100\n"
     ]
    },
    {
     "name": "stderr",
     "output_type": "stream",
     "text": [
      "100%|██████████████████████████████████████████████████████████████████████████████████| 20/20 [00:47<00:00,  2.38s/it]\n"
     ]
    },
    {
     "name": "stdout",
     "output_type": "stream",
     "text": [
      "--- 16.5326726436615 seconds ---\n",
      "MRR@100 = 0.0081\n",
      " alpha: 10, regularization: 0.1\n"
     ]
    },
    {
     "name": "stderr",
     "output_type": "stream",
     "text": [
      "100%|██████████████████████████████████████████████████████████████████████████████████| 20/20 [01:38<00:00,  4.93s/it]\n"
     ]
    },
    {
     "name": "stdout",
     "output_type": "stream",
     "text": [
      "--- 16.622385025024414 seconds ---\n",
      "MRR@100 = 0.0205\n",
      " alpha: 10, regularization: 1\n"
     ]
    },
    {
     "name": "stderr",
     "output_type": "stream",
     "text": [
      "100%|██████████████████████████████████████████████████████████████████████████████████| 20/20 [01:38<00:00,  4.95s/it]\n"
     ]
    },
    {
     "name": "stdout",
     "output_type": "stream",
     "text": [
      "--- 16.626078844070435 seconds ---\n",
      "MRR@100 = 0.0205\n",
      " alpha: 10, regularization: 10\n"
     ]
    },
    {
     "name": "stderr",
     "output_type": "stream",
     "text": [
      "100%|██████████████████████████████████████████████████████████████████████████████████| 20/20 [01:38<00:00,  4.94s/it]\n"
     ]
    },
    {
     "name": "stdout",
     "output_type": "stream",
     "text": [
      "--- 16.535271406173706 seconds ---\n",
      "MRR@100 = 0.0206\n",
      " alpha: 10, regularization: 100\n"
     ]
    },
    {
     "name": "stderr",
     "output_type": "stream",
     "text": [
      "100%|██████████████████████████████████████████████████████████████████████████████████| 20/20 [01:38<00:00,  4.94s/it]\n"
     ]
    },
    {
     "name": "stdout",
     "output_type": "stream",
     "text": [
      "--- 16.731224060058594 seconds ---\n",
      "MRR@100 = 0.0204\n",
      " alpha: 100, regularization: 0.1\n"
     ]
    },
    {
     "name": "stderr",
     "output_type": "stream",
     "text": [
      "100%|██████████████████████████████████████████████████████████████████████████████████| 20/20 [01:40<00:00,  5.01s/it]\n"
     ]
    },
    {
     "name": "stdout",
     "output_type": "stream",
     "text": [
      "--- 16.46440100669861 seconds ---\n",
      "MRR@100 = 0.0209\n",
      " alpha: 100, regularization: 1\n"
     ]
    },
    {
     "name": "stderr",
     "output_type": "stream",
     "text": [
      "100%|██████████████████████████████████████████████████████████████████████████████████| 20/20 [01:39<00:00,  4.97s/it]\n"
     ]
    },
    {
     "name": "stdout",
     "output_type": "stream",
     "text": [
      "--- 16.3795645236969 seconds ---\n",
      "MRR@100 = 0.0209\n",
      " alpha: 100, regularization: 10\n"
     ]
    },
    {
     "name": "stderr",
     "output_type": "stream",
     "text": [
      "100%|██████████████████████████████████████████████████████████████████████████████████| 20/20 [01:38<00:00,  4.95s/it]\n"
     ]
    },
    {
     "name": "stdout",
     "output_type": "stream",
     "text": [
      "--- 16.676282167434692 seconds ---\n",
      "MRR@100 = 0.0210\n",
      " alpha: 100, regularization: 100\n"
     ]
    },
    {
     "name": "stderr",
     "output_type": "stream",
     "text": [
      "100%|██████████████████████████████████████████████████████████████████████████████████| 20/20 [01:39<00:00,  4.98s/it]\n"
     ]
    },
    {
     "name": "stdout",
     "output_type": "stream",
     "text": [
      "--- 16.642898559570312 seconds ---\n",
      "MRR@100 = 0.0209\n"
     ]
    }
   ],
   "source": [
    "for alpha in [0.1, 1, 10, 100]:\n",
    "    for regularization in [0.1, 1, 10, 100]:\n",
    "        print(f' alpha: {alpha}, regularization: {regularization}')\n",
    "        optimize(factors=100,\n",
    "             regularization=regularization,\n",
    "             alpha=alpha,\n",
    "             use_native=True,\n",
    "             use_cg=False,\n",
    "             iterations=20,\n",
    "             calculate_training_loss=False)"
   ]
  },
  {
   "cell_type": "code",
   "execution_count": 9,
   "id": "ba4d1338",
   "metadata": {},
   "outputs": [
    {
     "name": "stdout",
     "output_type": "stream",
     "text": [
      " alpha: 100, regularization: 100\n"
     ]
    },
    {
     "name": "stderr",
     "output_type": "stream",
     "text": [
      "100%|█████████████████████████████████████████████████████████████████████████████████| 15/15 [41:30<00:00, 166.03s/it]\n"
     ]
    },
    {
     "name": "stdout",
     "output_type": "stream",
     "text": [
      "--- 39.98883414268494 seconds ---\n",
      "MRR@100 = 0.0234\n",
      " alpha: 100, regularization: 100\n"
     ]
    },
    {
     "name": "stderr",
     "output_type": "stream",
     "text": [
      "100%|███████████████████████████████████████████████████████████████████████████████| 20/20 [1:04:16<00:00, 192.83s/it]\n"
     ]
    },
    {
     "name": "stdout",
     "output_type": "stream",
     "text": [
      "--- 40.81911063194275 seconds ---\n",
      "MRR@100 = 0.0232\n",
      " alpha: 100, regularization: 100\n"
     ]
    },
    {
     "name": "stderr",
     "output_type": "stream",
     "text": [
      "100%|███████████████████████████████████████████████████████████████████████████████| 30/30 [1:34:49<00:00, 189.66s/it]\n"
     ]
    },
    {
     "name": "stdout",
     "output_type": "stream",
     "text": [
      "--- 40.72044062614441 seconds ---\n",
      "MRR@100 = 0.0233\n",
      " alpha: 100, regularization: 100\n"
     ]
    },
    {
     "name": "stderr",
     "output_type": "stream",
     "text": [
      "100%|███████████████████████████████████████████████████████████████████████████████| 50/50 [2:26:27<00:00, 175.75s/it]\n"
     ]
    },
    {
     "name": "stdout",
     "output_type": "stream",
     "text": [
      "--- 26.991891384124756 seconds ---\n",
      "MRR@100 = 0.0231\n",
      " alpha: 100, regularization: 100\n"
     ]
    },
    {
     "name": "stderr",
     "output_type": "stream",
     "text": [
      "100%|█████████████████████████████████████████████████████████████████████████████| 100/100 [3:34:14<00:00, 128.54s/it]\n"
     ]
    },
    {
     "name": "stdout",
     "output_type": "stream",
     "text": [
      "--- 26.690924167633057 seconds ---\n",
      "MRR@100 = 0.0231\n"
     ]
    }
   ],
   "source": [
    "for iterations in [15, 20, 30, 50, 100]:\n",
    "    print(f' alpha: {alpha}, regularization: {regularization}')\n",
    "    optimize(factors=200,\n",
    "         regularization=10,\n",
    "         alpha=10,\n",
    "         use_native=True,\n",
    "         use_cg=False,\n",
    "         iterations=iterations,\n",
    "         calculate_training_loss=False)"
   ]
  },
  {
   "cell_type": "code",
   "execution_count": null,
   "id": "9c83c112",
   "metadata": {},
   "outputs": [
    {
     "name": "stdout",
     "output_type": "stream",
     "text": [
      " alpha: 5.0, regularization: 0.001\n"
     ]
    },
    {
     "name": "stderr",
     "output_type": "stream",
     "text": [
      "\r",
      "  0%|                                                                                           | 0/15 [00:00<?, ?it/s]"
     ]
    }
   ],
   "source": [
    "alpha_arr = np.linspace(5, 1000, num=10)\n",
    "regularization_arr = np.linspace(0.001, 100, num=10)\n",
    "for alpha in alpha_arr:\n",
    "    for regularization in regularization_arr:\n",
    "        print(f' alpha: {alpha}, regularization: {regularization}')\n",
    "        optimize(factors=200,\n",
    "             regularization=regularization,\n",
    "             alpha=alpha,\n",
    "             use_native=True,\n",
    "             use_cg=False,\n",
    "             iterations=15,\n",
    "             calculate_training_loss=False)"
   ]
  },
  {
   "cell_type": "code",
   "execution_count": null,
   "id": "2c92d2bf",
   "metadata": {},
   "outputs": [],
   "source": []
  }
 ],
 "metadata": {
  "kernelspec": {
   "display_name": "Python 3 (ipykernel)",
   "language": "python",
   "name": "python3"
  },
  "language_info": {
   "codemirror_mode": {
    "name": "ipython",
    "version": 3
   },
   "file_extension": ".py",
   "mimetype": "text/x-python",
   "name": "python",
   "nbconvert_exporter": "python",
   "pygments_lexer": "ipython3",
   "version": "3.8.9"
  }
 },
 "nbformat": 4,
 "nbformat_minor": 5
}
