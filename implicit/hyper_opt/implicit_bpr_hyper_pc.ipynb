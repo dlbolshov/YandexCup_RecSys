{
 "cells": [
  {
   "cell_type": "code",
   "execution_count": 3,
   "id": "49d105cd",
   "metadata": {
    "scrolled": true
   },
   "outputs": [
    {
     "name": "stderr",
     "output_type": "stream",
     "text": [
      "c:\\python38\\lib\\site-packages\\tqdm\\auto.py:22: TqdmWarning: IProgress not found. Please update jupyter and ipywidgets. See https://ipywidgets.readthedocs.io/en/stable/user_install.html\n",
      "  from .autonotebook import tqdm as notebook_tqdm\n"
     ]
    }
   ],
   "source": [
    "import numpy as np\n",
    "import pandas as pd\n",
    "from scipy.sparse import csr_matrix\n",
    "import implicit"
   ]
  },
  {
   "cell_type": "code",
   "execution_count": 4,
   "id": "e3c61120",
   "metadata": {},
   "outputs": [],
   "source": [
    "train_path = r\"C:\\Users\\dlbol\\Downloads\\likes\\likes\\likes_data\\train\"\n",
    "test_path = r\"C:\\Users\\dlbol\\Downloads\\likes\\likes\\likes_data\\test\"\n",
    "pred_path = r\"C:\\Users\\dlbol\\Downloads\\likes\\likes\\likes_data\\implicit_bpr_hyper_pred\"\n",
    "target_path = r\"C:\\Users\\dlbol\\Downloads\\likes\\likes\\likes_data\\implicit_bpr_hyper_target\""
   ]
  },
  {
   "cell_type": "code",
   "execution_count": 5,
   "id": "c4472401",
   "metadata": {},
   "outputs": [],
   "source": [
    "def calc_mrr(predict, answer):\n",
    "    for i in range(len(predict)):\n",
    "        if predict[i] == answer:\n",
    "            return 1. / (i + 1)\n",
    "    return 0\n",
    "\n",
    "max_prediction_len = 100\n",
    "\n",
    "def calc_score(target_path, predict_path):\n",
    "    with open(target_path) as f:\n",
    "        y_true = [int(x.strip()) for x in f.readlines()]\n",
    "\n",
    "    with open(predict_path) as f:\n",
    "        y_pred = [[int(x) for x in line.strip().split(' ')] for line in f.readlines()]\n",
    "\n",
    "    mrr_score = 0\n",
    "    for (pred, answer) in zip(y_pred, y_true):\n",
    "        if len(pred) > max_prediction_len:\n",
    "            raise ValueError('$maximum prediction length is {}, got {}$'.format(max_prediction_len, len(y_pred[i])))\n",
    "        mrr_score += calc_mrr(pred, answer)\n",
    "\n",
    "    print(f\"MRR@100 = {(mrr_score / len(y_true)):.4f}\")"
   ]
  },
  {
   "cell_type": "markdown",
   "id": "df48fde7",
   "metadata": {},
   "source": [
    "## Full valid"
   ]
  },
  {
   "cell_type": "code",
   "execution_count": 6,
   "id": "38163a85",
   "metadata": {},
   "outputs": [
    {
     "name": "stdout",
     "output_type": "stream",
     "text": [
      "CPU times: total: 4min 41s\n",
      "Wall time: 4min 41s\n"
     ]
    }
   ],
   "source": [
    "%%time\n",
    "\n",
    "list_coord = []\n",
    "list_coord_val = []\n",
    "target_val = []\n",
    "np.random.seed(42)  \n",
    "val_id = np.random.choice(range(100000), size=25000, replace=False)\n",
    "val_id.sort()\n",
    "\n",
    "with open(train_path) as f:\n",
    "    lines = f.readlines()\n",
    "    idx = 0\n",
    "    idx_val = 0\n",
    "    for line in lines:\n",
    "        tracks = line.strip().split(' ')\n",
    "        if len(tracks) == 0:\n",
    "            print(0)\n",
    "        if len(tracks) == 1:\n",
    "            print(1)\n",
    "        for i, track in enumerate(tracks):\n",
    "            if idx in val_id and i+1 == len(tracks):\n",
    "                target_val.append(track)\n",
    "                idx_val += 1\n",
    "                continue\n",
    "            if idx in val_id:\n",
    "                list_coord_val.append((idx_val, track))\n",
    "            list_coord.append((idx, track))\n",
    "        idx += 1\n",
    "        if idx >= 100000:\n",
    "            break"
   ]
  },
  {
   "cell_type": "code",
   "execution_count": 7,
   "id": "4a666194",
   "metadata": {},
   "outputs": [
    {
     "name": "stdout",
     "output_type": "stream",
     "text": [
      "CPU times: total: 5.64 s\n",
      "Wall time: 5.63 s\n"
     ]
    }
   ],
   "source": [
    "%%time\n",
    "\n",
    "arr_rows = np.array([i[0] for i in list_coord])\n",
    "arr_cols = np.array([i[1] for i in list_coord]).astype(int)\n",
    "ones = np.ones(arr_rows.shape[0])\n",
    "user_item = csr_matrix((ones, (arr_rows, arr_cols)), dtype=int)\n",
    "#item_user = csr_matrix((ones, (arr_cols, arr_rows)), dtype=int)\n",
    "\n",
    "arr_rows_val = np.array([i[0] for i in list_coord_val])\n",
    "arr_cols_val = np.array([i[1] for i in list_coord_val]).astype(int)\n",
    "ones_val = np.ones(arr_rows_val.shape[0])\n",
    "user_item_val = csr_matrix((ones_val, (arr_rows_val, arr_cols_val)), dtype=int)"
   ]
  },
  {
   "cell_type": "code",
   "execution_count": 8,
   "id": "cb6bd1c1",
   "metadata": {},
   "outputs": [],
   "source": [
    "import time\n",
    "\n",
    "def optimize(factors=100,\n",
    "             learning_rate=0.01,\n",
    "             regularization=0.01,\n",
    "             iterations=100,\n",
    "             verify_negative_samples=True):\n",
    "    \n",
    "    model = implicit.bpr.BayesianPersonalizedRanking(factors=factors, \n",
    "                                                     learning_rate=learning_rate,\n",
    "                                                     regularization=regularization,\n",
    "                                                     iterations=iterations,\n",
    "                                                     verify_negative_samples=verify_negative_samples,\n",
    "                                                     random_state=42)\n",
    " \n",
    "    model.fit(user_item)\n",
    "    \n",
    "    start_time = time.time()\n",
    "    \n",
    "    userid = val_id\n",
    "    recommendations = model.recommend(userid, user_item_val, N=100, filter_already_liked_items=True)\n",
    "    result = [' '.join(map(str, i)) + '\\n' for i in recommendations[0]]\n",
    "    \n",
    "    print(\"--- %s seconds ---\" % (time.time() - start_time))\n",
    "    \n",
    "    with open(pred_path, 'w') as f:\n",
    "        f.writelines(result)\n",
    "    \n",
    "    with open(target_path, 'w') as f:\n",
    "        for i in target_val:\n",
    "            f.write(f'{i}\\n')\n",
    "            \n",
    "    calc_score(target_path, pred_path)"
   ]
  },
  {
   "cell_type": "code",
   "execution_count": 7,
   "id": "d75edf33",
   "metadata": {},
   "outputs": [
    {
     "name": "stdout",
     "output_type": "stream",
     "text": [
      "factors: 400, iterations: 550\n"
     ]
    },
    {
     "name": "stderr",
     "output_type": "stream",
     "text": [
      "100%|███████████████████████████████████████████████| 550/550 [22:06<00:00,  2.41s/it, train_auc=98.41%, skipped=0.79%]\n"
     ]
    },
    {
     "name": "stdout",
     "output_type": "stream",
     "text": [
      "--- 141.99913883209229 seconds ---\n",
      "MRR@100 = 0.0246\n",
      "factors: 400, iterations: 750\n"
     ]
    },
    {
     "name": "stderr",
     "output_type": "stream",
     "text": [
      "100%|███████████████████████████████████████████████| 750/750 [34:07<00:00,  2.73s/it, train_auc=98.42%, skipped=0.79%]\n"
     ]
    },
    {
     "name": "stdout",
     "output_type": "stream",
     "text": [
      "--- 142.1598563194275 seconds ---\n",
      "MRR@100 = 0.0254\n",
      "factors: 400, iterations: 950\n"
     ]
    },
    {
     "name": "stderr",
     "output_type": "stream",
     "text": [
      "100%|█████████████████████████████████████████████| 950/950 [1:02:44<00:00,  3.96s/it, train_auc=98.42%, skipped=0.79%]\n"
     ]
    },
    {
     "name": "stdout",
     "output_type": "stream",
     "text": [
      "--- 256.67894291877747 seconds ---\n",
      "MRR@100 = 0.0261\n",
      "factors: 600, iterations: 550\n"
     ]
    },
    {
     "name": "stderr",
     "output_type": "stream",
     "text": [
      "100%|███████████████████████████████████████████████| 550/550 [49:47<00:00,  5.43s/it, train_auc=98.43%, skipped=0.79%]\n"
     ]
    },
    {
     "name": "stdout",
     "output_type": "stream",
     "text": [
      "--- 337.18114161491394 seconds ---\n",
      "MRR@100 = 0.0251\n",
      "factors: 600, iterations: 750\n"
     ]
    },
    {
     "name": "stderr",
     "output_type": "stream",
     "text": [
      "100%|█████████████████████████████████████████████| 750/750 [1:09:20<00:00,  5.55s/it, train_auc=98.43%, skipped=0.79%]\n"
     ]
    },
    {
     "name": "stdout",
     "output_type": "stream",
     "text": [
      "--- 388.8504390716553 seconds ---\n",
      "MRR@100 = 0.0255\n",
      "factors: 600, iterations: 950\n"
     ]
    },
    {
     "name": "stderr",
     "output_type": "stream",
     "text": [
      "100%|█████████████████████████████████████████████| 950/950 [1:29:12<00:00,  5.63s/it, train_auc=98.44%, skipped=0.79%]\n"
     ]
    },
    {
     "name": "stdout",
     "output_type": "stream",
     "text": [
      "--- 369.13466024398804 seconds ---\n",
      "MRR@100 = 0.0259\n",
      "factors: 800, iterations: 550\n"
     ]
    },
    {
     "name": "stderr",
     "output_type": "stream",
     "text": [
      "100%|█████████████████████████████████████████████| 550/550 [1:03:59<00:00,  6.98s/it, train_auc=98.42%, skipped=0.79%]\n"
     ]
    },
    {
     "name": "stdout",
     "output_type": "stream",
     "text": [
      "--- 485.3033549785614 seconds ---\n",
      "MRR@100 = 0.0250\n",
      "factors: 800, iterations: 750\n"
     ]
    },
    {
     "name": "stderr",
     "output_type": "stream",
     "text": [
      "100%|█████████████████████████████████████████████| 750/750 [1:26:29<00:00,  6.92s/it, train_auc=98.43%, skipped=0.80%]\n"
     ]
    },
    {
     "name": "stdout",
     "output_type": "stream",
     "text": [
      "--- 478.5154519081116 seconds ---\n",
      "MRR@100 = 0.0265\n",
      "factors: 800, iterations: 950\n"
     ]
    },
    {
     "name": "stderr",
     "output_type": "stream",
     "text": [
      "100%|█████████████████████████████████████████████| 950/950 [1:49:38<00:00,  6.92s/it, train_auc=98.44%, skipped=0.80%]\n"
     ]
    },
    {
     "name": "stdout",
     "output_type": "stream",
     "text": [
      "--- 520.904402256012 seconds ---\n",
      "MRR@100 = 0.0252\n"
     ]
    }
   ],
   "source": [
    "for factors in [400, 600, 800]:\n",
    "    for iterations in [550, 750, 950]:\n",
    "                    print(f'factors: {factors}, iterations: {iterations}')\n",
    "                    optimize(factors=factors,\n",
    "                             iterations=iterations,\n",
    "                             learning_rate=0.1,\n",
    "                             regularization=0.01,\n",
    "                             verify_negative_samples=True)"
   ]
  },
  {
   "cell_type": "code",
   "execution_count": null,
   "id": "4e8b41a9",
   "metadata": {},
   "outputs": [
    {
     "name": "stdout",
     "output_type": "stream",
     "text": [
      "factors: 400, iterations: 900\n"
     ]
    },
    {
     "name": "stderr",
     "output_type": "stream",
     "text": [
      "100%|███████████████████████████████████████████████| 900/900 [38:42<00:00,  2.58s/it, train_auc=98.42%, skipped=0.80%]\n"
     ]
    },
    {
     "name": "stdout",
     "output_type": "stream",
     "text": [
      "--- 118.19736409187317 seconds ---\n",
      "MRR@100 = 0.0252\n",
      "factors: 400, iterations: 1000\n"
     ]
    },
    {
     "name": "stderr",
     "output_type": "stream",
     "text": [
      "100%|█████████████████████████████████████████████| 1000/1000 [43:56<00:00,  2.64s/it, train_auc=98.42%, skipped=0.79%]\n"
     ]
    },
    {
     "name": "stdout",
     "output_type": "stream",
     "text": [
      "--- 130.74716877937317 seconds ---\n",
      "MRR@100 = 0.0246\n",
      "factors: 800, iterations: 700\n"
     ]
    },
    {
     "name": "stderr",
     "output_type": "stream",
     "text": [
      "100%|███████████████████████████████████████████████| 700/700 [52:52<00:00,  4.53s/it, train_auc=98.43%, skipped=0.79%]\n"
     ]
    },
    {
     "name": "stdout",
     "output_type": "stream",
     "text": [
      "--- 232.59178042411804 seconds ---\n",
      "MRR@100 = 0.0255\n",
      "factors: 800, iterations: 800\n"
     ]
    },
    {
     "name": "stderr",
     "output_type": "stream",
     "text": [
      "100%|█████████████████████████████████████████████| 800/800 [1:00:14<00:00,  4.52s/it, train_auc=98.43%, skipped=0.79%]\n"
     ]
    },
    {
     "name": "stdout",
     "output_type": "stream",
     "text": [
      "--- 236.3770673274994 seconds ---\n",
      "MRR@100 = 0.0253\n",
      "factors: 800, iterations: 1500\n"
     ]
    },
    {
     "name": "stderr",
     "output_type": "stream",
     "text": [
      "  1%|▋                                            | 22/1500 [01:32<1:41:42,  4.13s/it, train_auc=96.35%, skipped=0.79%]"
     ]
    }
   ],
   "source": [
    "for factors, iterations in [(400, 900), (400, 1000), (800, 700), (800, 800), (800, 1500)]:\n",
    "    print(f'factors: {factors}, iterations: {iterations}')\n",
    "    optimize(factors=factors,\n",
    "             iterations=iterations,\n",
    "             learning_rate=0.1,\n",
    "             regularization=0.01,\n",
    "             verify_negative_samples=True)"
   ]
  },
  {
   "cell_type": "code",
   "execution_count": 7,
   "id": "8fd9b9c6",
   "metadata": {},
   "outputs": [
    {
     "name": "stderr",
     "output_type": "stream",
     "text": [
      "100%|███████████████████████████████████████████| 1500/1500 [1:55:17<00:00,  4.61s/it, train_auc=98.45%, skipped=0.79%]\n"
     ]
    },
    {
     "name": "stdout",
     "output_type": "stream",
     "text": [
      "--- 218.1873495578766 seconds ---\n",
      "MRR@100 = 0.0259\n"
     ]
    }
   ],
   "source": [
    "optimize(factors=800,\n",
    "         iterations=1500,\n",
    "         learning_rate=0.1,\n",
    "         regularization=0.01,\n",
    "         verify_negative_samples=True)"
   ]
  },
  {
   "cell_type": "code",
   "execution_count": 9,
   "id": "7297cf3c",
   "metadata": {
    "scrolled": false
   },
   "outputs": [
    {
     "name": "stdout",
     "output_type": "stream",
     "text": [
      "factors: 400, learning_rate: 0.05, regularization: 0.005\n"
     ]
    },
    {
     "name": "stderr",
     "output_type": "stream",
     "text": [
      "100%|███████████████████████████████████████████████| 950/950 [41:29<00:00,  2.62s/it, train_auc=99.47%, skipped=0.79%]\n"
     ]
    },
    {
     "name": "stdout",
     "output_type": "stream",
     "text": [
      "--- 146.0083863735199 seconds ---\n",
      "MRR@100 = 0.0312\n",
      "factors: 400, learning_rate: 0.05, regularization: 0.01\n"
     ]
    },
    {
     "name": "stderr",
     "output_type": "stream",
     "text": [
      "100%|███████████████████████████████████████████████| 950/950 [41:58<00:00,  2.65s/it, train_auc=98.60%, skipped=0.79%]\n"
     ]
    },
    {
     "name": "stdout",
     "output_type": "stream",
     "text": [
      "--- 147.9226667881012 seconds ---\n",
      "MRR@100 = 0.0268\n",
      "factors: 400, learning_rate: 0.05, regularization: 0.015\n"
     ]
    },
    {
     "name": "stderr",
     "output_type": "stream",
     "text": [
      "100%|███████████████████████████████████████████████| 950/950 [42:05<00:00,  2.66s/it, train_auc=97.69%, skipped=0.79%]\n"
     ]
    },
    {
     "name": "stdout",
     "output_type": "stream",
     "text": [
      "--- 136.74054837226868 seconds ---\n",
      "MRR@100 = 0.0220\n",
      "factors: 400, learning_rate: 0.1, regularization: 0.005\n"
     ]
    },
    {
     "name": "stderr",
     "output_type": "stream",
     "text": [
      "100%|███████████████████████████████████████████████| 950/950 [43:16<00:00,  2.73s/it, train_auc=99.35%, skipped=0.79%]\n"
     ]
    },
    {
     "name": "stdout",
     "output_type": "stream",
     "text": [
      "--- 149.81246185302734 seconds ---\n",
      "MRR@100 = 0.0302\n",
      "factors: 400, learning_rate: 0.1, regularization: 0.01\n"
     ]
    },
    {
     "name": "stderr",
     "output_type": "stream",
     "text": [
      "100%|███████████████████████████████████████████████| 950/950 [50:20<00:00,  3.18s/it, train_auc=98.42%, skipped=0.79%]\n"
     ]
    },
    {
     "name": "stdout",
     "output_type": "stream",
     "text": [
      "--- 148.43332195281982 seconds ---\n",
      "MRR@100 = 0.0252\n",
      "factors: 400, learning_rate: 0.1, regularization: 0.015\n"
     ]
    },
    {
     "name": "stderr",
     "output_type": "stream",
     "text": [
      "100%|███████████████████████████████████████████████| 950/950 [49:48<00:00,  3.15s/it, train_auc=97.44%, skipped=0.79%]\n"
     ]
    },
    {
     "name": "stdout",
     "output_type": "stream",
     "text": [
      "--- 147.8036606311798 seconds ---\n",
      "MRR@100 = 0.0197\n",
      "factors: 400, learning_rate: 0.15, regularization: 0.005\n"
     ]
    },
    {
     "name": "stderr",
     "output_type": "stream",
     "text": [
      "100%|███████████████████████████████████████████████| 950/950 [49:56<00:00,  3.15s/it, train_auc=99.18%, skipped=0.79%]\n"
     ]
    },
    {
     "name": "stdout",
     "output_type": "stream",
     "text": [
      "--- 148.83624577522278 seconds ---\n",
      "MRR@100 = 0.0291\n",
      "factors: 400, learning_rate: 0.15, regularization: 0.01\n"
     ]
    },
    {
     "name": "stderr",
     "output_type": "stream",
     "text": [
      " 90%|██████████████████████████████████████████▏    | 852/950 [45:22<05:13,  3.20s/it, train_auc=98.18%, skipped=0.80%]\n"
     ]
    },
    {
     "ename": "KeyboardInterrupt",
     "evalue": "",
     "output_type": "error",
     "traceback": [
      "\u001b[1;31m---------------------------------------------------------------------------\u001b[0m",
      "\u001b[1;31mKeyboardInterrupt\u001b[0m                         Traceback (most recent call last)",
      "Cell \u001b[1;32mIn [9], line 8\u001b[0m\n\u001b[0;32m      6\u001b[0m \u001b[38;5;28;01mfor\u001b[39;00m regularization \u001b[38;5;129;01min\u001b[39;00m r_arr:\n\u001b[0;32m      7\u001b[0m     \u001b[38;5;28mprint\u001b[39m(\u001b[38;5;124mf\u001b[39m\u001b[38;5;124m'\u001b[39m\u001b[38;5;124mfactors: \u001b[39m\u001b[38;5;132;01m{\u001b[39;00mfactors\u001b[38;5;132;01m}\u001b[39;00m\u001b[38;5;124m, learning_rate: \u001b[39m\u001b[38;5;132;01m{\u001b[39;00mlearning_rate\u001b[38;5;132;01m}\u001b[39;00m\u001b[38;5;124m, regularization: \u001b[39m\u001b[38;5;132;01m{\u001b[39;00mregularization\u001b[38;5;132;01m}\u001b[39;00m\u001b[38;5;124m'\u001b[39m)\n\u001b[1;32m----> 8\u001b[0m     \u001b[43moptimize\u001b[49m\u001b[43m(\u001b[49m\u001b[43mfactors\u001b[49m\u001b[38;5;241;43m=\u001b[39;49m\u001b[43mfactors\u001b[49m\u001b[43m,\u001b[49m\n\u001b[0;32m      9\u001b[0m \u001b[43m             \u001b[49m\u001b[43miterations\u001b[49m\u001b[38;5;241;43m=\u001b[39;49m\u001b[38;5;241;43m950\u001b[39;49m\u001b[43m,\u001b[49m\n\u001b[0;32m     10\u001b[0m \u001b[43m             \u001b[49m\u001b[43mlearning_rate\u001b[49m\u001b[38;5;241;43m=\u001b[39;49m\u001b[43mlearning_rate\u001b[49m\u001b[43m,\u001b[49m\n\u001b[0;32m     11\u001b[0m \u001b[43m             \u001b[49m\u001b[43mregularization\u001b[49m\u001b[38;5;241;43m=\u001b[39;49m\u001b[43mregularization\u001b[49m\u001b[43m,\u001b[49m\n\u001b[0;32m     12\u001b[0m \u001b[43m             \u001b[49m\u001b[43mverify_negative_samples\u001b[49m\u001b[38;5;241;43m=\u001b[39;49m\u001b[38;5;28;43;01mTrue\u001b[39;49;00m\u001b[43m)\u001b[49m\n",
      "Cell \u001b[1;32mIn [8], line 16\u001b[0m, in \u001b[0;36moptimize\u001b[1;34m(factors, learning_rate, regularization, iterations, verify_negative_samples)\u001b[0m\n\u001b[0;32m      3\u001b[0m \u001b[38;5;28;01mdef\u001b[39;00m \u001b[38;5;21moptimize\u001b[39m(factors\u001b[38;5;241m=\u001b[39m\u001b[38;5;241m100\u001b[39m,\n\u001b[0;32m      4\u001b[0m              learning_rate\u001b[38;5;241m=\u001b[39m\u001b[38;5;241m0.01\u001b[39m,\n\u001b[0;32m      5\u001b[0m              regularization\u001b[38;5;241m=\u001b[39m\u001b[38;5;241m0.01\u001b[39m,\n\u001b[0;32m      6\u001b[0m              iterations\u001b[38;5;241m=\u001b[39m\u001b[38;5;241m100\u001b[39m,\n\u001b[0;32m      7\u001b[0m              verify_negative_samples\u001b[38;5;241m=\u001b[39m\u001b[38;5;28;01mTrue\u001b[39;00m):\n\u001b[0;32m      9\u001b[0m     model \u001b[38;5;241m=\u001b[39m implicit\u001b[38;5;241m.\u001b[39mbpr\u001b[38;5;241m.\u001b[39mBayesianPersonalizedRanking(factors\u001b[38;5;241m=\u001b[39mfactors, \n\u001b[0;32m     10\u001b[0m                                                      learning_rate\u001b[38;5;241m=\u001b[39mlearning_rate,\n\u001b[0;32m     11\u001b[0m                                                      regularization\u001b[38;5;241m=\u001b[39mregularization,\n\u001b[0;32m     12\u001b[0m                                                      iterations\u001b[38;5;241m=\u001b[39miterations,\n\u001b[0;32m     13\u001b[0m                                                      verify_negative_samples\u001b[38;5;241m=\u001b[39mverify_negative_samples,\n\u001b[0;32m     14\u001b[0m                                                      random_state\u001b[38;5;241m=\u001b[39m\u001b[38;5;241m42\u001b[39m)\n\u001b[1;32m---> 16\u001b[0m     \u001b[43mmodel\u001b[49m\u001b[38;5;241;43m.\u001b[39;49m\u001b[43mfit\u001b[49m\u001b[43m(\u001b[49m\u001b[43muser_item\u001b[49m\u001b[43m)\u001b[49m\n\u001b[0;32m     18\u001b[0m     start_time \u001b[38;5;241m=\u001b[39m time\u001b[38;5;241m.\u001b[39mtime()\n\u001b[0;32m     20\u001b[0m     userid \u001b[38;5;241m=\u001b[39m val_id\n",
      "File \u001b[1;32mbpr.pyx:193\u001b[0m, in \u001b[0;36mimplicit.cpu.bpr.BayesianPersonalizedRanking.fit\u001b[1;34m()\u001b[0m\n",
      "File \u001b[1;32mbpr.pyx:200\u001b[0m, in \u001b[0;36mimplicit.cpu.bpr.BayesianPersonalizedRanking.fit\u001b[1;34m()\u001b[0m\n",
      "File \u001b[1;32mc:\\python38\\lib\\site-packages\\tqdm\\std.py:1212\u001b[0m, in \u001b[0;36mtqdm.update\u001b[1;34m(self, n)\u001b[0m\n\u001b[0;32m   1209\u001b[0m         \u001b[38;5;28mself\u001b[39m\u001b[38;5;241m.\u001b[39mn \u001b[38;5;241m=\u001b[39m n\n\u001b[0;32m   1210\u001b[0m         \u001b[38;5;28mself\u001b[39m\u001b[38;5;241m.\u001b[39mclose()\n\u001b[1;32m-> 1212\u001b[0m \u001b[38;5;28;01mdef\u001b[39;00m \u001b[38;5;21mupdate\u001b[39m(\u001b[38;5;28mself\u001b[39m, n\u001b[38;5;241m=\u001b[39m\u001b[38;5;241m1\u001b[39m):\n\u001b[0;32m   1213\u001b[0m     \u001b[38;5;124;03m\"\"\"\u001b[39;00m\n\u001b[0;32m   1214\u001b[0m \u001b[38;5;124;03m    Manually update the progress bar, useful for streams\u001b[39;00m\n\u001b[0;32m   1215\u001b[0m \u001b[38;5;124;03m    such as reading files.\u001b[39;00m\n\u001b[1;32m   (...)\u001b[0m\n\u001b[0;32m   1236\u001b[0m \u001b[38;5;124;03m        True if a `display()` was triggered.\u001b[39;00m\n\u001b[0;32m   1237\u001b[0m \u001b[38;5;124;03m    \"\"\"\u001b[39;00m\n\u001b[0;32m   1238\u001b[0m     \u001b[38;5;28;01mif\u001b[39;00m \u001b[38;5;28mself\u001b[39m\u001b[38;5;241m.\u001b[39mdisable:\n",
      "\u001b[1;31mKeyboardInterrupt\u001b[0m: "
     ]
    }
   ],
   "source": [
    "l_arr = [0.05, 0.1, 0.15]\n",
    "r_arr =  [0.005, 0.01, 0.015]\n",
    "\n",
    "for factors in [400, 350, 450]:\n",
    "    for learning_rate in l_arr:\n",
    "        for regularization in r_arr:\n",
    "            print(f'factors: {factors}, learning_rate: {learning_rate}, regularization: {regularization}')\n",
    "            optimize(factors=factors,\n",
    "                     iterations=950,\n",
    "                     learning_rate=learning_rate,\n",
    "                     regularization=regularization,\n",
    "                     verify_negative_samples=True)"
   ]
  },
  {
   "cell_type": "code",
   "execution_count": 10,
   "id": "47b8cb6e",
   "metadata": {},
   "outputs": [
    {
     "name": "stdout",
     "output_type": "stream",
     "text": [
      "regularization: 0.0001\n"
     ]
    },
    {
     "name": "stderr",
     "output_type": "stream",
     "text": [
      "100%|██████████████████████████████████████████████| 950/950 [50:22<00:00,  3.18s/it, train_auc=100.00%, skipped=0.79%]\n"
     ]
    },
    {
     "name": "stdout",
     "output_type": "stream",
     "text": [
      "--- 149.0697159767151 seconds ---\n",
      "MRR@100 = 0.0287\n",
      "regularization: 0.0025\n"
     ]
    },
    {
     "name": "stderr",
     "output_type": "stream",
     "text": [
      "100%|███████████████████████████████████████████████| 950/950 [54:30<00:00,  3.44s/it, train_auc=99.80%, skipped=0.79%]\n"
     ]
    },
    {
     "name": "stdout",
     "output_type": "stream",
     "text": [
      "--- 165.58738327026367 seconds ---\n",
      "MRR@100 = 0.0326\n",
      "regularization: 0.0075\n"
     ]
    },
    {
     "name": "stderr",
     "output_type": "stream",
     "text": [
      "100%|█████████████████████████████████████████████| 950/950 [1:03:52<00:00,  4.03s/it, train_auc=99.07%, skipped=0.79%]\n"
     ]
    },
    {
     "name": "stdout",
     "output_type": "stream",
     "text": [
      "--- 232.23652505874634 seconds ---\n",
      "MRR@100 = 0.0297\n"
     ]
    }
   ],
   "source": [
    "r_arr =  [0.0001, 0.0025, 0.0075]\n",
    "\n",
    "for regularization in r_arr:\n",
    "    print(f'regularization: {regularization}')\n",
    "    optimize(factors=400,\n",
    "             iterations=950,\n",
    "             learning_rate=0.05,\n",
    "             regularization=regularization,\n",
    "             verify_negative_samples=True)"
   ]
  },
  {
   "cell_type": "code",
   "execution_count": 11,
   "id": "32833d06",
   "metadata": {},
   "outputs": [
    {
     "name": "stdout",
     "output_type": "stream",
     "text": [
      "learning_rate: 0.025\n"
     ]
    },
    {
     "name": "stderr",
     "output_type": "stream",
     "text": [
      "100%|███████████████████████████████████████████████| 950/950 [49:03<00:00,  3.10s/it, train_auc=99.81%, skipped=0.79%]\n"
     ]
    },
    {
     "name": "stdout",
     "output_type": "stream",
     "text": [
      "--- 130.15966725349426 seconds ---\n",
      "MRR@100 = 0.0316\n",
      "learning_rate: 0.075\n"
     ]
    },
    {
     "name": "stderr",
     "output_type": "stream",
     "text": [
      "100%|███████████████████████████████████████████████| 950/950 [46:15<00:00,  2.92s/it, train_auc=99.76%, skipped=0.79%]\n"
     ]
    },
    {
     "name": "stdout",
     "output_type": "stream",
     "text": [
      "--- 129.81613063812256 seconds ---\n",
      "MRR@100 = 0.0329\n"
     ]
    }
   ],
   "source": [
    "l_arr = [0.025, 0.075]\n",
    "\n",
    "for learning_rate in l_arr:\n",
    "    print(f'learning_rate: {learning_rate}')\n",
    "    optimize(factors=400,\n",
    "             iterations=950,\n",
    "             learning_rate=learning_rate,\n",
    "             regularization=0.0025,\n",
    "             verify_negative_samples=True)"
   ]
  },
  {
   "cell_type": "code",
   "execution_count": null,
   "id": "4b2234e2",
   "metadata": {},
   "outputs": [],
   "source": []
  }
 ],
 "metadata": {
  "kernelspec": {
   "display_name": "Python 3 (ipykernel)",
   "language": "python",
   "name": "python3"
  },
  "language_info": {
   "codemirror_mode": {
    "name": "ipython",
    "version": 3
   },
   "file_extension": ".py",
   "mimetype": "text/x-python",
   "name": "python",
   "nbconvert_exporter": "python",
   "pygments_lexer": "ipython3",
   "version": "3.8.9"
  }
 },
 "nbformat": 4,
 "nbformat_minor": 5
}
