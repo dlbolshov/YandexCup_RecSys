{
 "cells": [
  {
   "cell_type": "code",
   "execution_count": 1,
   "id": "c0b968d2",
   "metadata": {},
   "outputs": [],
   "source": [
    "import numpy as np\n",
    "import pandas as pd\n",
    "from scipy.sparse import csr_matrix\n",
    "import implicit"
   ]
  },
  {
   "cell_type": "code",
   "execution_count": 2,
   "id": "a704b087",
   "metadata": {},
   "outputs": [],
   "source": [
    "def calc_mrr(predict, answer):\n",
    "    for i in range(len(predict)):\n",
    "        if predict[i] == answer:\n",
    "            return 1. / (i + 1)\n",
    "    return 0\n",
    "\n",
    "max_prediction_len = 100\n",
    "\n",
    "def calc_score(target_path, predict_path):\n",
    "    with open(target_path) as f:\n",
    "        y_true = [int(x.strip()) for x in f.readlines()]\n",
    "\n",
    "    with open(predict_path) as f:\n",
    "        y_pred = [[int(x) for x in line.strip().split(' ')] for line in f.readlines()]\n",
    "\n",
    "    mrr_score = 0\n",
    "    for (pred, answer) in zip(y_pred, y_true):\n",
    "        if len(pred) > max_prediction_len:\n",
    "            raise ValueError('$maximum prediction length is {}, got {}$'.format(max_prediction_len, len(y_pred[i])))\n",
    "        mrr_score += calc_mrr(pred, answer)\n",
    "\n",
    "    print(f\"MRR@100 = {(mrr_score / len(y_true)):.4f}\")"
   ]
  },
  {
   "cell_type": "code",
   "execution_count": 3,
   "id": "1aceca6a",
   "metadata": {},
   "outputs": [
    {
     "name": "stdout",
     "output_type": "stream",
     "text": [
      "CPU times: user 4.28 s, sys: 419 ms, total: 4.69 s\n",
      "Wall time: 5.22 s\n"
     ]
    }
   ],
   "source": [
    "%%time\n",
    "\n",
    "list_coord = []\n",
    "list_coord_val = []\n",
    "target_val = []\n",
    "np.random.seed(42)  \n",
    "val_id = np.random.choice(range(10000), size=2500, replace=False)\n",
    "val_id.sort()\n",
    "\n",
    "with open('/Users/david/Documents/GitHub/YandexCup_RecSys/train') as f:\n",
    "    lines = f.readlines()\n",
    "    idx = 0\n",
    "    idx_val = 0\n",
    "    for line in lines:\n",
    "        tracks = line.strip().split(' ')\n",
    "        if len(tracks) == 0:\n",
    "            print(0)\n",
    "        if len(tracks) == 1:\n",
    "            print(1)\n",
    "        for i, track in enumerate(tracks):\n",
    "            if idx in val_id and i+1 == len(tracks):\n",
    "                target_val.append(track)\n",
    "                idx_val += 1\n",
    "                continue\n",
    "            if idx in val_id:\n",
    "                list_coord_val.append((idx_val, track))\n",
    "            list_coord.append((idx, track))\n",
    "        idx += 1\n",
    "        if idx >= 10000:\n",
    "            break"
   ]
  },
  {
   "cell_type": "code",
   "execution_count": 4,
   "id": "7f07ca2a",
   "metadata": {},
   "outputs": [
    {
     "name": "stdout",
     "output_type": "stream",
     "text": [
      "CPU times: user 374 ms, sys: 47.2 ms, total: 421 ms\n",
      "Wall time: 463 ms\n"
     ]
    }
   ],
   "source": [
    "%%time\n",
    "\n",
    "arr_rows = np.array([i[0] for i in list_coord])\n",
    "arr_cols = np.array([i[1] for i in list_coord]).astype(int)\n",
    "ones = np.ones(arr_rows.shape[0])\n",
    "user_item = csr_matrix((ones, (arr_rows, arr_cols)), dtype=int)\n",
    "#item_user = csr_matrix((ones, (arr_cols, arr_rows)), dtype=int)\n",
    "\n",
    "arr_rows_val = np.array([i[0] for i in list_coord_val])\n",
    "arr_cols_val = np.array([i[1] for i in list_coord_val]).astype(int)\n",
    "ones_val = np.ones(arr_rows_val.shape[0])\n",
    "user_item_val = csr_matrix((ones_val, (arr_rows_val, arr_cols_val)), dtype=int)"
   ]
  },
  {
   "cell_type": "code",
   "execution_count": 5,
   "id": "6c6bfb05",
   "metadata": {},
   "outputs": [],
   "source": [
    "import time\n",
    "\n",
    "def optimize(factors=30,\n",
    "             learning_rate=1.00,\n",
    "             regularization=0.6,\n",
    "             iterations=30,\n",
    "             neg_prop=30):\n",
    "    \n",
    "    model = implicit.lmf.LogisticMatrixFactorization(factors=factors,\n",
    "                                                     learning_rate=learning_rate,\n",
    "                                                     regularization=regularization,\n",
    "                                                     iterations=iterations,\n",
    "                                                     neg_prop=neg_prop,\n",
    "                                                     random_state=42)\n",
    "    \n",
    "    model.fit(user_item)\n",
    "    \n",
    "    start_time = time.time()\n",
    "    \n",
    "    userid = val_id\n",
    "    recommendations = model.recommend(userid, user_item_val, N=100, filter_already_liked_items=True)\n",
    "    result = [' '.join(map(str, i)) + '\\n' for i in recommendations[0]]\n",
    "    \n",
    "    print(\"--- %s seconds ---\" % (time.time() - start_time))\n",
    "    \n",
    "    with open('/Users/david/Documents/GitHub/YandexCup_RecSys/impicit_lfm_pred', 'w') as f:\n",
    "        f.writelines(result)\n",
    "    \n",
    "    with open('/Users/david/Documents/GitHub/YandexCup_RecSys/impicit_lfm_target', 'w') as f:\n",
    "        for i in target_val:\n",
    "            f.write(f'{i}\\n')\n",
    "            \n",
    "    calc_score('/Users/david/Documents/GitHub/YandexCup_RecSys/impicit_lfm_target',\n",
    "               \"/Users/david/Documents/GitHub/YandexCup_RecSys/impicit_lfm_pred\")"
   ]
  },
  {
   "cell_type": "code",
   "execution_count": 11,
   "id": "e24963e8",
   "metadata": {},
   "outputs": [
    {
     "name": "stdout",
     "output_type": "stream",
     "text": [
      "factors: 5, iterations: 5, learning_rate: 0.001, regularization: 0.001, neg_prop: 5\n"
     ]
    },
    {
     "data": {
      "application/vnd.jupyter.widget-view+json": {
       "model_id": "7fa46cf3f9084463843409ab7635537c",
       "version_major": 2,
       "version_minor": 0
      },
      "text/plain": [
       "  0%|          | 0/5 [00:00<?, ?it/s]"
      ]
     },
     "metadata": {},
     "output_type": "display_data"
    },
    {
     "name": "stdout",
     "output_type": "stream",
     "text": [
      "--- 2.396615982055664 seconds ---\n",
      "MRR@100 = 0.0000\n",
      "factors: 5, iterations: 5, learning_rate: 0.001, regularization: 0.001, neg_prop: 15\n"
     ]
    },
    {
     "data": {
      "application/vnd.jupyter.widget-view+json": {
       "model_id": "00d5ba65217047aab0717f0dffbe2f56",
       "version_major": 2,
       "version_minor": 0
      },
      "text/plain": [
       "  0%|          | 0/5 [00:00<?, ?it/s]"
      ]
     },
     "metadata": {},
     "output_type": "display_data"
    },
    {
     "name": "stdout",
     "output_type": "stream",
     "text": [
      "--- 2.2655558586120605 seconds ---\n",
      "MRR@100 = 0.0000\n",
      "factors: 5, iterations: 5, learning_rate: 0.001, regularization: 0.001, neg_prop: 30\n"
     ]
    },
    {
     "data": {
      "application/vnd.jupyter.widget-view+json": {
       "model_id": "300823026b534055834d01826bd0ee96",
       "version_major": 2,
       "version_minor": 0
      },
      "text/plain": [
       "  0%|          | 0/5 [00:00<?, ?it/s]"
      ]
     },
     "metadata": {},
     "output_type": "display_data"
    },
    {
     "name": "stdout",
     "output_type": "stream",
     "text": [
      "--- 2.450896739959717 seconds ---\n",
      "MRR@100 = 0.0000\n",
      "factors: 5, iterations: 5, learning_rate: 0.001, regularization: 0.001, neg_prop: 50\n"
     ]
    },
    {
     "data": {
      "application/vnd.jupyter.widget-view+json": {
       "model_id": "270e04011b644181b54b0ffd39535e9e",
       "version_major": 2,
       "version_minor": 0
      },
      "text/plain": [
       "  0%|          | 0/5 [00:00<?, ?it/s]"
      ]
     },
     "metadata": {},
     "output_type": "display_data"
    },
    {
     "name": "stdout",
     "output_type": "stream",
     "text": [
      "--- 2.7256786823272705 seconds ---\n",
      "MRR@100 = 0.0000\n",
      "factors: 5, iterations: 5, learning_rate: 0.001, regularization: 0.01, neg_prop: 5\n"
     ]
    },
    {
     "data": {
      "application/vnd.jupyter.widget-view+json": {
       "model_id": "a11b9e3a0a1143f39c10d39afab44752",
       "version_major": 2,
       "version_minor": 0
      },
      "text/plain": [
       "  0%|          | 0/5 [00:00<?, ?it/s]"
      ]
     },
     "metadata": {},
     "output_type": "display_data"
    },
    {
     "name": "stdout",
     "output_type": "stream",
     "text": [
      "--- 2.7266008853912354 seconds ---\n",
      "MRR@100 = 0.0000\n",
      "factors: 5, iterations: 5, learning_rate: 0.001, regularization: 0.01, neg_prop: 15\n"
     ]
    },
    {
     "data": {
      "application/vnd.jupyter.widget-view+json": {
       "model_id": "f8ecf5e130a1454a9542e7ffd1f29be4",
       "version_major": 2,
       "version_minor": 0
      },
      "text/plain": [
       "  0%|          | 0/5 [00:00<?, ?it/s]"
      ]
     },
     "metadata": {},
     "output_type": "display_data"
    },
    {
     "name": "stdout",
     "output_type": "stream",
     "text": [
      "--- 2.543739080429077 seconds ---\n",
      "MRR@100 = 0.0000\n",
      "factors: 5, iterations: 5, learning_rate: 0.001, regularization: 0.01, neg_prop: 30\n"
     ]
    },
    {
     "data": {
      "application/vnd.jupyter.widget-view+json": {
       "model_id": "9369fba67ac04ba5b27e8cf91294767f",
       "version_major": 2,
       "version_minor": 0
      },
      "text/plain": [
       "  0%|          | 0/5 [00:00<?, ?it/s]"
      ]
     },
     "metadata": {},
     "output_type": "display_data"
    },
    {
     "name": "stdout",
     "output_type": "stream",
     "text": [
      "--- 2.4531729221343994 seconds ---\n",
      "MRR@100 = 0.0000\n",
      "factors: 5, iterations: 5, learning_rate: 0.001, regularization: 0.01, neg_prop: 50\n"
     ]
    },
    {
     "data": {
      "application/vnd.jupyter.widget-view+json": {
       "model_id": "d7d99e53ebe3468481cb82676e33b49e",
       "version_major": 2,
       "version_minor": 0
      },
      "text/plain": [
       "  0%|          | 0/5 [00:00<?, ?it/s]"
      ]
     },
     "metadata": {},
     "output_type": "display_data"
    },
    {
     "name": "stdout",
     "output_type": "stream",
     "text": [
      "--- 2.352524995803833 seconds ---\n",
      "MRR@100 = 0.0000\n",
      "factors: 5, iterations: 5, learning_rate: 0.001, regularization: 0.1, neg_prop: 5\n"
     ]
    },
    {
     "data": {
      "application/vnd.jupyter.widget-view+json": {
       "model_id": "2672a22fd83e428a950be67087242ff8",
       "version_major": 2,
       "version_minor": 0
      },
      "text/plain": [
       "  0%|          | 0/5 [00:00<?, ?it/s]"
      ]
     },
     "metadata": {},
     "output_type": "display_data"
    },
    {
     "name": "stdout",
     "output_type": "stream",
     "text": [
      "--- 2.2558441162109375 seconds ---\n",
      "MRR@100 = 0.0000\n",
      "factors: 5, iterations: 5, learning_rate: 0.001, regularization: 0.1, neg_prop: 15\n"
     ]
    },
    {
     "data": {
      "application/vnd.jupyter.widget-view+json": {
       "model_id": "430e7411ef8f43a3add4efa2c4feed6d",
       "version_major": 2,
       "version_minor": 0
      },
      "text/plain": [
       "  0%|          | 0/5 [00:00<?, ?it/s]"
      ]
     },
     "metadata": {},
     "output_type": "display_data"
    },
    {
     "name": "stdout",
     "output_type": "stream",
     "text": [
      "--- 2.259232997894287 seconds ---\n",
      "MRR@100 = 0.0000\n",
      "factors: 5, iterations: 5, learning_rate: 0.001, regularization: 0.1, neg_prop: 30\n"
     ]
    },
    {
     "data": {
      "application/vnd.jupyter.widget-view+json": {
       "model_id": "7c41494fc5b2441990253eb0b5f6592c",
       "version_major": 2,
       "version_minor": 0
      },
      "text/plain": [
       "  0%|          | 0/5 [00:00<?, ?it/s]"
      ]
     },
     "metadata": {},
     "output_type": "display_data"
    },
    {
     "name": "stdout",
     "output_type": "stream",
     "text": [
      "--- 2.2927238941192627 seconds ---\n",
      "MRR@100 = 0.0000\n",
      "factors: 5, iterations: 5, learning_rate: 0.001, regularization: 0.1, neg_prop: 50\n"
     ]
    },
    {
     "data": {
      "application/vnd.jupyter.widget-view+json": {
       "model_id": "cf6e0c101e3c43908693859f2ff0e72d",
       "version_major": 2,
       "version_minor": 0
      },
      "text/plain": [
       "  0%|          | 0/5 [00:00<?, ?it/s]"
      ]
     },
     "metadata": {},
     "output_type": "display_data"
    },
    {
     "name": "stdout",
     "output_type": "stream",
     "text": [
      "--- 2.283735990524292 seconds ---\n",
      "MRR@100 = 0.0000\n",
      "factors: 5, iterations: 5, learning_rate: 0.001, regularization: 1, neg_prop: 5\n"
     ]
    },
    {
     "data": {
      "application/vnd.jupyter.widget-view+json": {
       "model_id": "73e1982f60d64b31a5a96740a46f736a",
       "version_major": 2,
       "version_minor": 0
      },
      "text/plain": [
       "  0%|          | 0/5 [00:00<?, ?it/s]"
      ]
     },
     "metadata": {},
     "output_type": "display_data"
    },
    {
     "name": "stdout",
     "output_type": "stream",
     "text": [
      "--- 2.267639636993408 seconds ---\n",
      "MRR@100 = 0.0000\n",
      "factors: 5, iterations: 5, learning_rate: 0.001, regularization: 1, neg_prop: 15\n"
     ]
    },
    {
     "data": {
      "application/vnd.jupyter.widget-view+json": {
       "model_id": "1b89711d7ce7459397af26abdc929602",
       "version_major": 2,
       "version_minor": 0
      },
      "text/plain": [
       "  0%|          | 0/5 [00:00<?, ?it/s]"
      ]
     },
     "metadata": {},
     "output_type": "display_data"
    },
    {
     "name": "stdout",
     "output_type": "stream",
     "text": [
      "--- 2.3404438495635986 seconds ---\n",
      "MRR@100 = 0.0000\n",
      "factors: 5, iterations: 5, learning_rate: 0.001, regularization: 1, neg_prop: 30\n"
     ]
    },
    {
     "data": {
      "application/vnd.jupyter.widget-view+json": {
       "model_id": "704a7aafc77a47c39cb45f4ceca9805d",
       "version_major": 2,
       "version_minor": 0
      },
      "text/plain": [
       "  0%|          | 0/5 [00:00<?, ?it/s]"
      ]
     },
     "metadata": {},
     "output_type": "display_data"
    },
    {
     "name": "stdout",
     "output_type": "stream",
     "text": [
      "--- 2.2778890132904053 seconds ---\n",
      "MRR@100 = 0.0000\n",
      "factors: 5, iterations: 5, learning_rate: 0.001, regularization: 1, neg_prop: 50\n"
     ]
    },
    {
     "data": {
      "application/vnd.jupyter.widget-view+json": {
       "model_id": "a2f51266bd4c44ffbe2e9f4ae59d0c60",
       "version_major": 2,
       "version_minor": 0
      },
      "text/plain": [
       "  0%|          | 0/5 [00:00<?, ?it/s]"
      ]
     },
     "metadata": {},
     "output_type": "display_data"
    },
    {
     "name": "stdout",
     "output_type": "stream",
     "text": [
      "--- 2.3396081924438477 seconds ---\n",
      "MRR@100 = 0.0000\n",
      "factors: 5, iterations: 5, learning_rate: 0.001, regularization: 10, neg_prop: 5\n"
     ]
    },
    {
     "data": {
      "application/vnd.jupyter.widget-view+json": {
       "model_id": "06deb4baf82e4f9fbe4625b972f1aa11",
       "version_major": 2,
       "version_minor": 0
      },
      "text/plain": [
       "  0%|          | 0/5 [00:00<?, ?it/s]"
      ]
     },
     "metadata": {},
     "output_type": "display_data"
    },
    {
     "name": "stdout",
     "output_type": "stream",
     "text": [
      "--- 2.339340925216675 seconds ---\n",
      "MRR@100 = 0.0000\n",
      "factors: 5, iterations: 5, learning_rate: 0.001, regularization: 10, neg_prop: 15\n"
     ]
    },
    {
     "data": {
      "application/vnd.jupyter.widget-view+json": {
       "model_id": "a6a7d08d703c4b069704114e00c13103",
       "version_major": 2,
       "version_minor": 0
      },
      "text/plain": [
       "  0%|          | 0/5 [00:00<?, ?it/s]"
      ]
     },
     "metadata": {},
     "output_type": "display_data"
    },
    {
     "name": "stdout",
     "output_type": "stream",
     "text": [
      "--- 2.3289010524749756 seconds ---\n",
      "MRR@100 = 0.0000\n",
      "factors: 5, iterations: 5, learning_rate: 0.001, regularization: 10, neg_prop: 30\n"
     ]
    },
    {
     "data": {
      "application/vnd.jupyter.widget-view+json": {
       "model_id": "bf314f1edfd4487ba5ad0a014b3b4fa5",
       "version_major": 2,
       "version_minor": 0
      },
      "text/plain": [
       "  0%|          | 0/5 [00:00<?, ?it/s]"
      ]
     },
     "metadata": {},
     "output_type": "display_data"
    },
    {
     "name": "stdout",
     "output_type": "stream",
     "text": [
      "--- 2.312891960144043 seconds ---\n",
      "MRR@100 = 0.0000\n",
      "factors: 5, iterations: 5, learning_rate: 0.001, regularization: 10, neg_prop: 50\n"
     ]
    },
    {
     "data": {
      "application/vnd.jupyter.widget-view+json": {
       "model_id": "5799d01e23b44faeb9da7123dfcfa918",
       "version_major": 2,
       "version_minor": 0
      },
      "text/plain": [
       "  0%|          | 0/5 [00:00<?, ?it/s]"
      ]
     },
     "metadata": {},
     "output_type": "display_data"
    },
    {
     "name": "stdout",
     "output_type": "stream",
     "text": [
      "--- 2.289839267730713 seconds ---\n",
      "MRR@100 = 0.0000\n",
      "factors: 5, iterations: 5, learning_rate: 0.001, regularization: 100, neg_prop: 5\n"
     ]
    },
    {
     "data": {
      "application/vnd.jupyter.widget-view+json": {
       "model_id": "0c4e653df704439f9960047634473491",
       "version_major": 2,
       "version_minor": 0
      },
      "text/plain": [
       "  0%|          | 0/5 [00:00<?, ?it/s]"
      ]
     },
     "metadata": {},
     "output_type": "display_data"
    },
    {
     "name": "stdout",
     "output_type": "stream",
     "text": [
      "--- 2.276369094848633 seconds ---\n",
      "MRR@100 = 0.0000\n",
      "factors: 5, iterations: 5, learning_rate: 0.001, regularization: 100, neg_prop: 15\n"
     ]
    },
    {
     "data": {
      "application/vnd.jupyter.widget-view+json": {
       "model_id": "f7555e2b572649bb99674e293c638b03",
       "version_major": 2,
       "version_minor": 0
      },
      "text/plain": [
       "  0%|          | 0/5 [00:00<?, ?it/s]"
      ]
     },
     "metadata": {},
     "output_type": "display_data"
    },
    {
     "name": "stdout",
     "output_type": "stream",
     "text": [
      "--- 2.219175100326538 seconds ---\n",
      "MRR@100 = 0.0000\n",
      "factors: 5, iterations: 5, learning_rate: 0.001, regularization: 100, neg_prop: 30\n"
     ]
    },
    {
     "data": {
      "application/vnd.jupyter.widget-view+json": {
       "model_id": "77fca8487bce4f0382d48efab0710edc",
       "version_major": 2,
       "version_minor": 0
      },
      "text/plain": [
       "  0%|          | 0/5 [00:00<?, ?it/s]"
      ]
     },
     "metadata": {},
     "output_type": "display_data"
    },
    {
     "name": "stdout",
     "output_type": "stream",
     "text": [
      "--- 2.1939949989318848 seconds ---\n",
      "MRR@100 = 0.0000\n",
      "factors: 5, iterations: 5, learning_rate: 0.001, regularization: 100, neg_prop: 50\n"
     ]
    },
    {
     "data": {
      "application/vnd.jupyter.widget-view+json": {
       "model_id": "12b160e35b5e493aa79f85700cbdaebe",
       "version_major": 2,
       "version_minor": 0
      },
      "text/plain": [
       "  0%|          | 0/5 [00:00<?, ?it/s]"
      ]
     },
     "metadata": {},
     "output_type": "display_data"
    },
    {
     "name": "stdout",
     "output_type": "stream",
     "text": [
      "--- 2.210089921951294 seconds ---\n",
      "MRR@100 = 0.0000\n",
      "factors: 5, iterations: 5, learning_rate: 0.01, regularization: 0.001, neg_prop: 5\n"
     ]
    },
    {
     "data": {
      "application/vnd.jupyter.widget-view+json": {
       "model_id": "3f332a80e379447ab2b017cdc9216181",
       "version_major": 2,
       "version_minor": 0
      },
      "text/plain": [
       "  0%|          | 0/5 [00:00<?, ?it/s]"
      ]
     },
     "metadata": {},
     "output_type": "display_data"
    },
    {
     "name": "stdout",
     "output_type": "stream",
     "text": [
      "--- 2.363274335861206 seconds ---\n",
      "MRR@100 = 0.0000\n",
      "factors: 5, iterations: 5, learning_rate: 0.01, regularization: 0.001, neg_prop: 15\n"
     ]
    },
    {
     "data": {
      "application/vnd.jupyter.widget-view+json": {
       "model_id": "f2ecec4fe74e414c9f99841fb1595a54",
       "version_major": 2,
       "version_minor": 0
      },
      "text/plain": [
       "  0%|          | 0/5 [00:00<?, ?it/s]"
      ]
     },
     "metadata": {},
     "output_type": "display_data"
    },
    {
     "name": "stdout",
     "output_type": "stream",
     "text": [
      "--- 2.2730941772460938 seconds ---\n",
      "MRR@100 = 0.0000\n",
      "factors: 5, iterations: 5, learning_rate: 0.01, regularization: 0.001, neg_prop: 30\n"
     ]
    },
    {
     "data": {
      "application/vnd.jupyter.widget-view+json": {
       "model_id": "8d639b9c67634a0bac12f798408a7d68",
       "version_major": 2,
       "version_minor": 0
      },
      "text/plain": [
       "  0%|          | 0/5 [00:00<?, ?it/s]"
      ]
     },
     "metadata": {},
     "output_type": "display_data"
    },
    {
     "name": "stdout",
     "output_type": "stream",
     "text": [
      "--- 2.3081159591674805 seconds ---\n",
      "MRR@100 = 0.0000\n",
      "factors: 5, iterations: 5, learning_rate: 0.01, regularization: 0.001, neg_prop: 50\n"
     ]
    },
    {
     "data": {
      "application/vnd.jupyter.widget-view+json": {
       "model_id": "c33b3456feb045d3b368e7e807276853",
       "version_major": 2,
       "version_minor": 0
      },
      "text/plain": [
       "  0%|          | 0/5 [00:00<?, ?it/s]"
      ]
     },
     "metadata": {},
     "output_type": "display_data"
    },
    {
     "name": "stdout",
     "output_type": "stream",
     "text": [
      "--- 2.2454328536987305 seconds ---\n",
      "MRR@100 = 0.0000\n",
      "factors: 5, iterations: 5, learning_rate: 0.01, regularization: 0.01, neg_prop: 5\n"
     ]
    },
    {
     "data": {
      "application/vnd.jupyter.widget-view+json": {
       "model_id": "7912c752213140389028cb09c7dc1663",
       "version_major": 2,
       "version_minor": 0
      },
      "text/plain": [
       "  0%|          | 0/5 [00:00<?, ?it/s]"
      ]
     },
     "metadata": {},
     "output_type": "display_data"
    },
    {
     "name": "stdout",
     "output_type": "stream",
     "text": [
      "--- 2.4357151985168457 seconds ---\n",
      "MRR@100 = 0.0000\n",
      "factors: 5, iterations: 5, learning_rate: 0.01, regularization: 0.01, neg_prop: 15\n"
     ]
    },
    {
     "data": {
      "application/vnd.jupyter.widget-view+json": {
       "model_id": "f971610705ea47a290f95aa97687514e",
       "version_major": 2,
       "version_minor": 0
      },
      "text/plain": [
       "  0%|          | 0/5 [00:00<?, ?it/s]"
      ]
     },
     "metadata": {},
     "output_type": "display_data"
    },
    {
     "name": "stdout",
     "output_type": "stream",
     "text": [
      "--- 2.367753028869629 seconds ---\n",
      "MRR@100 = 0.0000\n",
      "factors: 5, iterations: 5, learning_rate: 0.01, regularization: 0.01, neg_prop: 30\n"
     ]
    },
    {
     "data": {
      "application/vnd.jupyter.widget-view+json": {
       "model_id": "d2e45c265a9848f999abf08c201863f2",
       "version_major": 2,
       "version_minor": 0
      },
      "text/plain": [
       "  0%|          | 0/5 [00:00<?, ?it/s]"
      ]
     },
     "metadata": {},
     "output_type": "display_data"
    },
    {
     "name": "stdout",
     "output_type": "stream",
     "text": [
      "--- 2.3603057861328125 seconds ---\n",
      "MRR@100 = 0.0000\n",
      "factors: 5, iterations: 5, learning_rate: 0.01, regularization: 0.01, neg_prop: 50\n"
     ]
    },
    {
     "data": {
      "application/vnd.jupyter.widget-view+json": {
       "model_id": "a2032a072fb349c2996c254761719a62",
       "version_major": 2,
       "version_minor": 0
      },
      "text/plain": [
       "  0%|          | 0/5 [00:00<?, ?it/s]"
      ]
     },
     "metadata": {},
     "output_type": "display_data"
    },
    {
     "name": "stdout",
     "output_type": "stream",
     "text": [
      "--- 2.344014883041382 seconds ---\n",
      "MRR@100 = 0.0000\n",
      "factors: 5, iterations: 5, learning_rate: 0.01, regularization: 0.1, neg_prop: 5\n"
     ]
    },
    {
     "data": {
      "application/vnd.jupyter.widget-view+json": {
       "model_id": "c49434199f404eb59ac6fd60f78030c0",
       "version_major": 2,
       "version_minor": 0
      },
      "text/plain": [
       "  0%|          | 0/5 [00:00<?, ?it/s]"
      ]
     },
     "metadata": {},
     "output_type": "display_data"
    },
    {
     "name": "stdout",
     "output_type": "stream",
     "text": [
      "--- 2.1839849948883057 seconds ---\n",
      "MRR@100 = 0.0000\n",
      "factors: 5, iterations: 5, learning_rate: 0.01, regularization: 0.1, neg_prop: 15\n"
     ]
    },
    {
     "data": {
      "application/vnd.jupyter.widget-view+json": {
       "model_id": "daa6df49173a4ff495208e519d9b0c81",
       "version_major": 2,
       "version_minor": 0
      },
      "text/plain": [
       "  0%|          | 0/5 [00:00<?, ?it/s]"
      ]
     },
     "metadata": {},
     "output_type": "display_data"
    },
    {
     "name": "stdout",
     "output_type": "stream",
     "text": [
      "--- 2.296924114227295 seconds ---\n",
      "MRR@100 = 0.0000\n",
      "factors: 5, iterations: 5, learning_rate: 0.01, regularization: 0.1, neg_prop: 30\n"
     ]
    },
    {
     "data": {
      "application/vnd.jupyter.widget-view+json": {
       "model_id": "9e143746884e4e85a815c0254557a5ac",
       "version_major": 2,
       "version_minor": 0
      },
      "text/plain": [
       "  0%|          | 0/5 [00:00<?, ?it/s]"
      ]
     },
     "metadata": {},
     "output_type": "display_data"
    },
    {
     "name": "stdout",
     "output_type": "stream",
     "text": [
      "--- 2.265186071395874 seconds ---\n",
      "MRR@100 = 0.0000\n",
      "factors: 5, iterations: 5, learning_rate: 0.01, regularization: 0.1, neg_prop: 50\n"
     ]
    },
    {
     "data": {
      "application/vnd.jupyter.widget-view+json": {
       "model_id": "b068e593d117484aa4e3ede19ae1edb7",
       "version_major": 2,
       "version_minor": 0
      },
      "text/plain": [
       "  0%|          | 0/5 [00:00<?, ?it/s]"
      ]
     },
     "metadata": {},
     "output_type": "display_data"
    },
    {
     "name": "stdout",
     "output_type": "stream",
     "text": [
      "--- 2.357018232345581 seconds ---\n",
      "MRR@100 = 0.0000\n",
      "factors: 5, iterations: 5, learning_rate: 0.01, regularization: 1, neg_prop: 5\n"
     ]
    },
    {
     "data": {
      "application/vnd.jupyter.widget-view+json": {
       "model_id": "01b7b18d970e458dae730d36687ca605",
       "version_major": 2,
       "version_minor": 0
      },
      "text/plain": [
       "  0%|          | 0/5 [00:00<?, ?it/s]"
      ]
     },
     "metadata": {},
     "output_type": "display_data"
    },
    {
     "name": "stdout",
     "output_type": "stream",
     "text": [
      "--- 2.2540690898895264 seconds ---\n",
      "MRR@100 = 0.0000\n",
      "factors: 5, iterations: 5, learning_rate: 0.01, regularization: 1, neg_prop: 15\n"
     ]
    },
    {
     "data": {
      "application/vnd.jupyter.widget-view+json": {
       "model_id": "e097c246fe874bd7acbc5e564c7e8529",
       "version_major": 2,
       "version_minor": 0
      },
      "text/plain": [
       "  0%|          | 0/5 [00:00<?, ?it/s]"
      ]
     },
     "metadata": {},
     "output_type": "display_data"
    },
    {
     "name": "stdout",
     "output_type": "stream",
     "text": [
      "--- 2.270211935043335 seconds ---\n",
      "MRR@100 = 0.0000\n",
      "factors: 5, iterations: 5, learning_rate: 0.01, regularization: 1, neg_prop: 30\n"
     ]
    },
    {
     "data": {
      "application/vnd.jupyter.widget-view+json": {
       "model_id": "0f0c7dd072d249a3b219f2925bef409b",
       "version_major": 2,
       "version_minor": 0
      },
      "text/plain": [
       "  0%|          | 0/5 [00:00<?, ?it/s]"
      ]
     },
     "metadata": {},
     "output_type": "display_data"
    },
    {
     "name": "stdout",
     "output_type": "stream",
     "text": [
      "--- 2.291011095046997 seconds ---\n",
      "MRR@100 = 0.0000\n",
      "factors: 5, iterations: 5, learning_rate: 0.01, regularization: 1, neg_prop: 50\n"
     ]
    },
    {
     "data": {
      "application/vnd.jupyter.widget-view+json": {
       "model_id": "5b46e8327fc24f5cbfd8b5ddbf31ae29",
       "version_major": 2,
       "version_minor": 0
      },
      "text/plain": [
       "  0%|          | 0/5 [00:00<?, ?it/s]"
      ]
     },
     "metadata": {},
     "output_type": "display_data"
    },
    {
     "name": "stdout",
     "output_type": "stream",
     "text": [
      "--- 2.2811198234558105 seconds ---\n",
      "MRR@100 = 0.0000\n",
      "factors: 5, iterations: 5, learning_rate: 0.01, regularization: 10, neg_prop: 5\n"
     ]
    },
    {
     "data": {
      "application/vnd.jupyter.widget-view+json": {
       "model_id": "70239bc583ad488e919a6e4fe3a36c08",
       "version_major": 2,
       "version_minor": 0
      },
      "text/plain": [
       "  0%|          | 0/5 [00:00<?, ?it/s]"
      ]
     },
     "metadata": {},
     "output_type": "display_data"
    },
    {
     "name": "stdout",
     "output_type": "stream",
     "text": [
      "--- 2.307905912399292 seconds ---\n",
      "MRR@100 = 0.0000\n",
      "factors: 5, iterations: 5, learning_rate: 0.01, regularization: 10, neg_prop: 15\n"
     ]
    },
    {
     "data": {
      "application/vnd.jupyter.widget-view+json": {
       "model_id": "b6777353308940c4a32c593853416b3a",
       "version_major": 2,
       "version_minor": 0
      },
      "text/plain": [
       "  0%|          | 0/5 [00:00<?, ?it/s]"
      ]
     },
     "metadata": {},
     "output_type": "display_data"
    },
    {
     "name": "stdout",
     "output_type": "stream",
     "text": [
      "--- 2.2761402130126953 seconds ---\n",
      "MRR@100 = 0.0000\n",
      "factors: 5, iterations: 5, learning_rate: 0.01, regularization: 10, neg_prop: 30\n"
     ]
    },
    {
     "data": {
      "application/vnd.jupyter.widget-view+json": {
       "model_id": "1f0fbe4f65a54081bcdd6700866fc3f4",
       "version_major": 2,
       "version_minor": 0
      },
      "text/plain": [
       "  0%|          | 0/5 [00:00<?, ?it/s]"
      ]
     },
     "metadata": {},
     "output_type": "display_data"
    },
    {
     "name": "stdout",
     "output_type": "stream",
     "text": [
      "--- 2.533756971359253 seconds ---\n",
      "MRR@100 = 0.0000\n",
      "factors: 5, iterations: 5, learning_rate: 0.01, regularization: 10, neg_prop: 50\n"
     ]
    },
    {
     "data": {
      "application/vnd.jupyter.widget-view+json": {
       "model_id": "8063553f5e0e4561aaf9e5d03bf8ffdb",
       "version_major": 2,
       "version_minor": 0
      },
      "text/plain": [
       "  0%|          | 0/5 [00:00<?, ?it/s]"
      ]
     },
     "metadata": {},
     "output_type": "display_data"
    },
    {
     "name": "stdout",
     "output_type": "stream",
     "text": [
      "--- 2.3036720752716064 seconds ---\n",
      "MRR@100 = 0.0000\n",
      "factors: 5, iterations: 5, learning_rate: 0.01, regularization: 100, neg_prop: 5\n"
     ]
    },
    {
     "data": {
      "application/vnd.jupyter.widget-view+json": {
       "model_id": "b1b44b20e5744fe19388147e38a29ae0",
       "version_major": 2,
       "version_minor": 0
      },
      "text/plain": [
       "  0%|          | 0/5 [00:00<?, ?it/s]"
      ]
     },
     "metadata": {},
     "output_type": "display_data"
    },
    {
     "name": "stdout",
     "output_type": "stream",
     "text": [
      "--- 2.611842155456543 seconds ---\n",
      "MRR@100 = 0.0000\n",
      "factors: 5, iterations: 5, learning_rate: 0.01, regularization: 100, neg_prop: 15\n"
     ]
    },
    {
     "data": {
      "application/vnd.jupyter.widget-view+json": {
       "model_id": "11bc0efc6ccc44faa718d7ed2217c2d2",
       "version_major": 2,
       "version_minor": 0
      },
      "text/plain": [
       "  0%|          | 0/5 [00:00<?, ?it/s]"
      ]
     },
     "metadata": {},
     "output_type": "display_data"
    },
    {
     "name": "stdout",
     "output_type": "stream",
     "text": [
      "--- 2.287484884262085 seconds ---\n",
      "MRR@100 = 0.0000\n",
      "factors: 5, iterations: 5, learning_rate: 0.01, regularization: 100, neg_prop: 30\n"
     ]
    },
    {
     "data": {
      "application/vnd.jupyter.widget-view+json": {
       "model_id": "0f0c689cd8344176aebcd2ab04ebc1b3",
       "version_major": 2,
       "version_minor": 0
      },
      "text/plain": [
       "  0%|          | 0/5 [00:00<?, ?it/s]"
      ]
     },
     "metadata": {},
     "output_type": "display_data"
    },
    {
     "name": "stdout",
     "output_type": "stream",
     "text": [
      "--- 2.288533926010132 seconds ---\n",
      "MRR@100 = 0.0000\n",
      "factors: 5, iterations: 5, learning_rate: 0.01, regularization: 100, neg_prop: 50\n"
     ]
    },
    {
     "data": {
      "application/vnd.jupyter.widget-view+json": {
       "model_id": "0e5671f387a04c46b843ad7d37b24c29",
       "version_major": 2,
       "version_minor": 0
      },
      "text/plain": [
       "  0%|          | 0/5 [00:00<?, ?it/s]"
      ]
     },
     "metadata": {},
     "output_type": "display_data"
    },
    {
     "name": "stdout",
     "output_type": "stream",
     "text": [
      "--- 2.3336987495422363 seconds ---\n",
      "MRR@100 = 0.0000\n",
      "factors: 5, iterations: 5, learning_rate: 0.1, regularization: 0.001, neg_prop: 5\n"
     ]
    },
    {
     "data": {
      "application/vnd.jupyter.widget-view+json": {
       "model_id": "dd1f2cb2de0b44d7a5c38fda7c5f8d78",
       "version_major": 2,
       "version_minor": 0
      },
      "text/plain": [
       "  0%|          | 0/5 [00:00<?, ?it/s]"
      ]
     },
     "metadata": {},
     "output_type": "display_data"
    },
    {
     "name": "stdout",
     "output_type": "stream",
     "text": [
      "--- 2.277323007583618 seconds ---\n",
      "MRR@100 = 0.0000\n",
      "factors: 5, iterations: 5, learning_rate: 0.1, regularization: 0.001, neg_prop: 15\n"
     ]
    },
    {
     "data": {
      "application/vnd.jupyter.widget-view+json": {
       "model_id": "364e97e9ebd243a0b2de72f3fd55b4df",
       "version_major": 2,
       "version_minor": 0
      },
      "text/plain": [
       "  0%|          | 0/5 [00:00<?, ?it/s]"
      ]
     },
     "metadata": {},
     "output_type": "display_data"
    },
    {
     "name": "stdout",
     "output_type": "stream",
     "text": [
      "--- 2.272430896759033 seconds ---\n",
      "MRR@100 = 0.0000\n",
      "factors: 5, iterations: 5, learning_rate: 0.1, regularization: 0.001, neg_prop: 30\n"
     ]
    },
    {
     "data": {
      "application/vnd.jupyter.widget-view+json": {
       "model_id": "753ef387a1624595985ce2a643daf962",
       "version_major": 2,
       "version_minor": 0
      },
      "text/plain": [
       "  0%|          | 0/5 [00:00<?, ?it/s]"
      ]
     },
     "metadata": {},
     "output_type": "display_data"
    },
    {
     "name": "stdout",
     "output_type": "stream",
     "text": [
      "--- 3.155245065689087 seconds ---\n",
      "MRR@100 = 0.0000\n",
      "factors: 5, iterations: 5, learning_rate: 0.1, regularization: 0.001, neg_prop: 50\n"
     ]
    },
    {
     "data": {
      "application/vnd.jupyter.widget-view+json": {
       "model_id": "3b384986152748d2a7bfe11418ab5587",
       "version_major": 2,
       "version_minor": 0
      },
      "text/plain": [
       "  0%|          | 0/5 [00:00<?, ?it/s]"
      ]
     },
     "metadata": {},
     "output_type": "display_data"
    },
    {
     "name": "stdout",
     "output_type": "stream",
     "text": [
      "--- 2.9464330673217773 seconds ---\n",
      "MRR@100 = 0.0000\n",
      "factors: 5, iterations: 5, learning_rate: 0.1, regularization: 0.01, neg_prop: 5\n"
     ]
    },
    {
     "data": {
      "application/vnd.jupyter.widget-view+json": {
       "model_id": "af9b56917387409d8615b7c0fff76b51",
       "version_major": 2,
       "version_minor": 0
      },
      "text/plain": [
       "  0%|          | 0/5 [00:00<?, ?it/s]"
      ]
     },
     "metadata": {},
     "output_type": "display_data"
    },
    {
     "name": "stdout",
     "output_type": "stream",
     "text": [
      "--- 2.3795669078826904 seconds ---\n",
      "MRR@100 = 0.0000\n",
      "factors: 5, iterations: 5, learning_rate: 0.1, regularization: 0.01, neg_prop: 15\n"
     ]
    },
    {
     "data": {
      "application/vnd.jupyter.widget-view+json": {
       "model_id": "820cd294a4b34eb8b08213554a536bb3",
       "version_major": 2,
       "version_minor": 0
      },
      "text/plain": [
       "  0%|          | 0/5 [00:00<?, ?it/s]"
      ]
     },
     "metadata": {},
     "output_type": "display_data"
    },
    {
     "name": "stdout",
     "output_type": "stream",
     "text": [
      "--- 2.495757818222046 seconds ---\n",
      "MRR@100 = 0.0000\n",
      "factors: 5, iterations: 5, learning_rate: 0.1, regularization: 0.01, neg_prop: 30\n"
     ]
    },
    {
     "data": {
      "application/vnd.jupyter.widget-view+json": {
       "model_id": "5eba0c50e2d6484a84379b2f08f51a25",
       "version_major": 2,
       "version_minor": 0
      },
      "text/plain": [
       "  0%|          | 0/5 [00:00<?, ?it/s]"
      ]
     },
     "metadata": {},
     "output_type": "display_data"
    },
    {
     "name": "stdout",
     "output_type": "stream",
     "text": [
      "--- 2.4534928798675537 seconds ---\n",
      "MRR@100 = 0.0000\n",
      "factors: 5, iterations: 5, learning_rate: 0.1, regularization: 0.01, neg_prop: 50\n"
     ]
    },
    {
     "data": {
      "application/vnd.jupyter.widget-view+json": {
       "model_id": "608d0266da9c43a4888a20d2d949fdd5",
       "version_major": 2,
       "version_minor": 0
      },
      "text/plain": [
       "  0%|          | 0/5 [00:00<?, ?it/s]"
      ]
     },
     "metadata": {},
     "output_type": "display_data"
    },
    {
     "name": "stdout",
     "output_type": "stream",
     "text": [
      "--- 2.44824481010437 seconds ---\n",
      "MRR@100 = 0.0000\n",
      "factors: 5, iterations: 5, learning_rate: 0.1, regularization: 0.1, neg_prop: 5\n"
     ]
    },
    {
     "data": {
      "application/vnd.jupyter.widget-view+json": {
       "model_id": "6d8f8936a10f4aaba44a1c9b265d2ed3",
       "version_major": 2,
       "version_minor": 0
      },
      "text/plain": [
       "  0%|          | 0/5 [00:00<?, ?it/s]"
      ]
     },
     "metadata": {},
     "output_type": "display_data"
    },
    {
     "name": "stdout",
     "output_type": "stream",
     "text": [
      "--- 2.3956496715545654 seconds ---\n",
      "MRR@100 = 0.0000\n",
      "factors: 5, iterations: 5, learning_rate: 0.1, regularization: 0.1, neg_prop: 15\n"
     ]
    },
    {
     "data": {
      "application/vnd.jupyter.widget-view+json": {
       "model_id": "cc5ea896af704a11a27b472ce5985545",
       "version_major": 2,
       "version_minor": 0
      },
      "text/plain": [
       "  0%|          | 0/5 [00:00<?, ?it/s]"
      ]
     },
     "metadata": {},
     "output_type": "display_data"
    },
    {
     "name": "stdout",
     "output_type": "stream",
     "text": [
      "--- 2.4124338626861572 seconds ---\n",
      "MRR@100 = 0.0000\n",
      "factors: 5, iterations: 5, learning_rate: 0.1, regularization: 0.1, neg_prop: 30\n"
     ]
    },
    {
     "data": {
      "application/vnd.jupyter.widget-view+json": {
       "model_id": "39004fb5e4614dbe9c512181aaaaa107",
       "version_major": 2,
       "version_minor": 0
      },
      "text/plain": [
       "  0%|          | 0/5 [00:00<?, ?it/s]"
      ]
     },
     "metadata": {},
     "output_type": "display_data"
    },
    {
     "name": "stdout",
     "output_type": "stream",
     "text": [
      "--- 2.297502040863037 seconds ---\n",
      "MRR@100 = 0.0000\n",
      "factors: 5, iterations: 5, learning_rate: 0.1, regularization: 0.1, neg_prop: 50\n"
     ]
    },
    {
     "data": {
      "application/vnd.jupyter.widget-view+json": {
       "model_id": "e8830434ddc645a5885fc93c169a0109",
       "version_major": 2,
       "version_minor": 0
      },
      "text/plain": [
       "  0%|          | 0/5 [00:00<?, ?it/s]"
      ]
     },
     "metadata": {},
     "output_type": "display_data"
    },
    {
     "name": "stdout",
     "output_type": "stream",
     "text": [
      "--- 2.598773956298828 seconds ---\n",
      "MRR@100 = 0.0000\n",
      "factors: 5, iterations: 5, learning_rate: 0.1, regularization: 1, neg_prop: 5\n"
     ]
    },
    {
     "data": {
      "application/vnd.jupyter.widget-view+json": {
       "model_id": "8c8c4a56d6dc4904888c3ff63e50b9e6",
       "version_major": 2,
       "version_minor": 0
      },
      "text/plain": [
       "  0%|          | 0/5 [00:00<?, ?it/s]"
      ]
     },
     "metadata": {},
     "output_type": "display_data"
    },
    {
     "name": "stdout",
     "output_type": "stream",
     "text": [
      "--- 2.9652609825134277 seconds ---\n",
      "MRR@100 = 0.0000\n",
      "factors: 5, iterations: 5, learning_rate: 0.1, regularization: 1, neg_prop: 15\n"
     ]
    },
    {
     "data": {
      "application/vnd.jupyter.widget-view+json": {
       "model_id": "4050da6b450648ee991cda238f5e49a3",
       "version_major": 2,
       "version_minor": 0
      },
      "text/plain": [
       "  0%|          | 0/5 [00:00<?, ?it/s]"
      ]
     },
     "metadata": {},
     "output_type": "display_data"
    },
    {
     "name": "stdout",
     "output_type": "stream",
     "text": [
      "--- 2.413849115371704 seconds ---\n",
      "MRR@100 = 0.0000\n",
      "factors: 5, iterations: 5, learning_rate: 0.1, regularization: 1, neg_prop: 30\n"
     ]
    },
    {
     "data": {
      "application/vnd.jupyter.widget-view+json": {
       "model_id": "1eece385cbdb4b6bb7b37bb11d846729",
       "version_major": 2,
       "version_minor": 0
      },
      "text/plain": [
       "  0%|          | 0/5 [00:00<?, ?it/s]"
      ]
     },
     "metadata": {},
     "output_type": "display_data"
    },
    {
     "name": "stdout",
     "output_type": "stream",
     "text": [
      "--- 2.58394718170166 seconds ---\n",
      "MRR@100 = 0.0000\n",
      "factors: 5, iterations: 5, learning_rate: 0.1, regularization: 1, neg_prop: 50\n"
     ]
    },
    {
     "data": {
      "application/vnd.jupyter.widget-view+json": {
       "model_id": "18f2cc31b6ab4722bf6d2295e24bcce3",
       "version_major": 2,
       "version_minor": 0
      },
      "text/plain": [
       "  0%|          | 0/5 [00:00<?, ?it/s]"
      ]
     },
     "metadata": {},
     "output_type": "display_data"
    },
    {
     "name": "stdout",
     "output_type": "stream",
     "text": [
      "--- 2.339791774749756 seconds ---\n",
      "MRR@100 = 0.0000\n",
      "factors: 5, iterations: 5, learning_rate: 0.1, regularization: 10, neg_prop: 5\n"
     ]
    },
    {
     "data": {
      "application/vnd.jupyter.widget-view+json": {
       "model_id": "bd182411aa0e4305a7b291b456aa6f92",
       "version_major": 2,
       "version_minor": 0
      },
      "text/plain": [
       "  0%|          | 0/5 [00:00<?, ?it/s]"
      ]
     },
     "metadata": {},
     "output_type": "display_data"
    },
    {
     "name": "stdout",
     "output_type": "stream",
     "text": [
      "--- 2.3629162311553955 seconds ---\n",
      "MRR@100 = 0.0000\n",
      "factors: 5, iterations: 5, learning_rate: 0.1, regularization: 10, neg_prop: 15\n"
     ]
    },
    {
     "data": {
      "application/vnd.jupyter.widget-view+json": {
       "model_id": "2ba7cdc576114e17b1bf171bee4a8b80",
       "version_major": 2,
       "version_minor": 0
      },
      "text/plain": [
       "  0%|          | 0/5 [00:00<?, ?it/s]"
      ]
     },
     "metadata": {},
     "output_type": "display_data"
    },
    {
     "name": "stdout",
     "output_type": "stream",
     "text": [
      "--- 2.2359910011291504 seconds ---\n",
      "MRR@100 = 0.0000\n",
      "factors: 5, iterations: 5, learning_rate: 0.1, regularization: 10, neg_prop: 30\n"
     ]
    },
    {
     "data": {
      "application/vnd.jupyter.widget-view+json": {
       "model_id": "1a2998700dfd4d0789773581d8a8d555",
       "version_major": 2,
       "version_minor": 0
      },
      "text/plain": [
       "  0%|          | 0/5 [00:00<?, ?it/s]"
      ]
     },
     "metadata": {},
     "output_type": "display_data"
    },
    {
     "name": "stdout",
     "output_type": "stream",
     "text": [
      "--- 2.340127944946289 seconds ---\n",
      "MRR@100 = 0.0000\n",
      "factors: 5, iterations: 5, learning_rate: 0.1, regularization: 10, neg_prop: 50\n"
     ]
    },
    {
     "data": {
      "application/vnd.jupyter.widget-view+json": {
       "model_id": "80c0b2d9abbf48eeb86cb6c8c858e1e1",
       "version_major": 2,
       "version_minor": 0
      },
      "text/plain": [
       "  0%|          | 0/5 [00:00<?, ?it/s]"
      ]
     },
     "metadata": {},
     "output_type": "display_data"
    },
    {
     "name": "stdout",
     "output_type": "stream",
     "text": [
      "--- 2.2818191051483154 seconds ---\n",
      "MRR@100 = 0.0000\n",
      "factors: 5, iterations: 5, learning_rate: 0.1, regularization: 100, neg_prop: 5\n"
     ]
    },
    {
     "data": {
      "application/vnd.jupyter.widget-view+json": {
       "model_id": "b03a5f09098340bda827a573cc83700f",
       "version_major": 2,
       "version_minor": 0
      },
      "text/plain": [
       "  0%|          | 0/5 [00:00<?, ?it/s]"
      ]
     },
     "metadata": {},
     "output_type": "display_data"
    },
    {
     "name": "stdout",
     "output_type": "stream",
     "text": [
      "--- 2.2202131748199463 seconds ---\n",
      "MRR@100 = 0.0000\n",
      "factors: 5, iterations: 5, learning_rate: 0.1, regularization: 100, neg_prop: 15\n"
     ]
    },
    {
     "data": {
      "application/vnd.jupyter.widget-view+json": {
       "model_id": "d00bb40309674fe69367d12530d99093",
       "version_major": 2,
       "version_minor": 0
      },
      "text/plain": [
       "  0%|          | 0/5 [00:00<?, ?it/s]"
      ]
     },
     "metadata": {},
     "output_type": "display_data"
    },
    {
     "name": "stdout",
     "output_type": "stream",
     "text": [
      "--- 2.318990707397461 seconds ---\n",
      "MRR@100 = 0.0000\n",
      "factors: 5, iterations: 5, learning_rate: 0.1, regularization: 100, neg_prop: 30\n"
     ]
    },
    {
     "data": {
      "application/vnd.jupyter.widget-view+json": {
       "model_id": "082dce473f0e41299762eac0da00b2e4",
       "version_major": 2,
       "version_minor": 0
      },
      "text/plain": [
       "  0%|          | 0/5 [00:00<?, ?it/s]"
      ]
     },
     "metadata": {},
     "output_type": "display_data"
    },
    {
     "name": "stdout",
     "output_type": "stream",
     "text": [
      "--- 2.387308120727539 seconds ---\n",
      "MRR@100 = 0.0000\n",
      "factors: 5, iterations: 5, learning_rate: 0.1, regularization: 100, neg_prop: 50\n"
     ]
    },
    {
     "data": {
      "application/vnd.jupyter.widget-view+json": {
       "model_id": "1d5f2e7b60a8419584d3b51ae573e7a4",
       "version_major": 2,
       "version_minor": 0
      },
      "text/plain": [
       "  0%|          | 0/5 [00:00<?, ?it/s]"
      ]
     },
     "metadata": {},
     "output_type": "display_data"
    },
    {
     "name": "stdout",
     "output_type": "stream",
     "text": [
      "--- 2.3243720531463623 seconds ---\n",
      "MRR@100 = 0.0000\n",
      "factors: 5, iterations: 5, learning_rate: 1, regularization: 0.001, neg_prop: 5\n"
     ]
    },
    {
     "data": {
      "application/vnd.jupyter.widget-view+json": {
       "model_id": "f3590bccf54b476388a19e9a1874f5a8",
       "version_major": 2,
       "version_minor": 0
      },
      "text/plain": [
       "  0%|          | 0/5 [00:00<?, ?it/s]"
      ]
     },
     "metadata": {},
     "output_type": "display_data"
    },
    {
     "name": "stdout",
     "output_type": "stream",
     "text": [
      "--- 2.2807860374450684 seconds ---\n",
      "MRR@100 = 0.0002\n",
      "factors: 5, iterations: 5, learning_rate: 1, regularization: 0.001, neg_prop: 15\n"
     ]
    },
    {
     "data": {
      "application/vnd.jupyter.widget-view+json": {
       "model_id": "e680dce4a91e4dfda5755483d4b208a6",
       "version_major": 2,
       "version_minor": 0
      },
      "text/plain": [
       "  0%|          | 0/5 [00:00<?, ?it/s]"
      ]
     },
     "metadata": {},
     "output_type": "display_data"
    },
    {
     "name": "stdout",
     "output_type": "stream",
     "text": [
      "--- 2.285939931869507 seconds ---\n",
      "MRR@100 = 0.0004\n",
      "factors: 5, iterations: 5, learning_rate: 1, regularization: 0.001, neg_prop: 30\n"
     ]
    },
    {
     "data": {
      "application/vnd.jupyter.widget-view+json": {
       "model_id": "eb433066472c4928944ed514029bddfc",
       "version_major": 2,
       "version_minor": 0
      },
      "text/plain": [
       "  0%|          | 0/5 [00:00<?, ?it/s]"
      ]
     },
     "metadata": {},
     "output_type": "display_data"
    },
    {
     "name": "stdout",
     "output_type": "stream",
     "text": [
      "--- 2.330328941345215 seconds ---\n",
      "MRR@100 = 0.0004\n",
      "factors: 5, iterations: 5, learning_rate: 1, regularization: 0.001, neg_prop: 50\n"
     ]
    },
    {
     "data": {
      "application/vnd.jupyter.widget-view+json": {
       "model_id": "b42c91587e594e82a3e27aef625cc56b",
       "version_major": 2,
       "version_minor": 0
      },
      "text/plain": [
       "  0%|          | 0/5 [00:00<?, ?it/s]"
      ]
     },
     "metadata": {},
     "output_type": "display_data"
    },
    {
     "name": "stdout",
     "output_type": "stream",
     "text": [
      "--- 2.220601797103882 seconds ---\n",
      "MRR@100 = 0.0004\n",
      "factors: 5, iterations: 5, learning_rate: 1, regularization: 0.01, neg_prop: 5\n"
     ]
    },
    {
     "data": {
      "application/vnd.jupyter.widget-view+json": {
       "model_id": "a0bc995b40be4b1780a1017fc4a5a342",
       "version_major": 2,
       "version_minor": 0
      },
      "text/plain": [
       "  0%|          | 0/5 [00:00<?, ?it/s]"
      ]
     },
     "metadata": {},
     "output_type": "display_data"
    },
    {
     "name": "stdout",
     "output_type": "stream",
     "text": [
      "--- 2.189807176589966 seconds ---\n",
      "MRR@100 = 0.0002\n",
      "factors: 5, iterations: 5, learning_rate: 1, regularization: 0.01, neg_prop: 15\n"
     ]
    },
    {
     "data": {
      "application/vnd.jupyter.widget-view+json": {
       "model_id": "f023db56ac5946b28cf1e41a9defaf94",
       "version_major": 2,
       "version_minor": 0
      },
      "text/plain": [
       "  0%|          | 0/5 [00:00<?, ?it/s]"
      ]
     },
     "metadata": {},
     "output_type": "display_data"
    },
    {
     "name": "stdout",
     "output_type": "stream",
     "text": [
      "--- 2.3418128490448 seconds ---\n",
      "MRR@100 = 0.0004\n",
      "factors: 5, iterations: 5, learning_rate: 1, regularization: 0.01, neg_prop: 30\n"
     ]
    },
    {
     "data": {
      "application/vnd.jupyter.widget-view+json": {
       "model_id": "02dee69eeac944b79ff52ddde7c7c1a8",
       "version_major": 2,
       "version_minor": 0
      },
      "text/plain": [
       "  0%|          | 0/5 [00:00<?, ?it/s]"
      ]
     },
     "metadata": {},
     "output_type": "display_data"
    },
    {
     "name": "stdout",
     "output_type": "stream",
     "text": [
      "--- 2.2174127101898193 seconds ---\n",
      "MRR@100 = 0.0004\n",
      "factors: 5, iterations: 5, learning_rate: 1, regularization: 0.01, neg_prop: 50\n"
     ]
    },
    {
     "data": {
      "application/vnd.jupyter.widget-view+json": {
       "model_id": "d1c9606a8cca4d27a9c3fff010980437",
       "version_major": 2,
       "version_minor": 0
      },
      "text/plain": [
       "  0%|          | 0/5 [00:00<?, ?it/s]"
      ]
     },
     "metadata": {},
     "output_type": "display_data"
    },
    {
     "name": "stdout",
     "output_type": "stream",
     "text": [
      "--- 2.1998982429504395 seconds ---\n",
      "MRR@100 = 0.0004\n",
      "factors: 5, iterations: 5, learning_rate: 1, regularization: 0.1, neg_prop: 5\n"
     ]
    },
    {
     "data": {
      "application/vnd.jupyter.widget-view+json": {
       "model_id": "60a311ff24d142439b57ac3b7e76eb38",
       "version_major": 2,
       "version_minor": 0
      },
      "text/plain": [
       "  0%|          | 0/5 [00:00<?, ?it/s]"
      ]
     },
     "metadata": {},
     "output_type": "display_data"
    },
    {
     "name": "stdout",
     "output_type": "stream",
     "text": [
      "--- 2.2193191051483154 seconds ---\n",
      "MRR@100 = 0.0007\n",
      "factors: 5, iterations: 5, learning_rate: 1, regularization: 0.1, neg_prop: 15\n"
     ]
    },
    {
     "data": {
      "application/vnd.jupyter.widget-view+json": {
       "model_id": "eb8a0fc4231a494b87f87844c091ebbe",
       "version_major": 2,
       "version_minor": 0
      },
      "text/plain": [
       "  0%|          | 0/5 [00:00<?, ?it/s]"
      ]
     },
     "metadata": {},
     "output_type": "display_data"
    },
    {
     "name": "stdout",
     "output_type": "stream",
     "text": [
      "--- 2.2195379734039307 seconds ---\n",
      "MRR@100 = 0.0008\n",
      "factors: 5, iterations: 5, learning_rate: 1, regularization: 0.1, neg_prop: 30\n"
     ]
    },
    {
     "data": {
      "application/vnd.jupyter.widget-view+json": {
       "model_id": "b71ef263c2264926aecd08d56d133c45",
       "version_major": 2,
       "version_minor": 0
      },
      "text/plain": [
       "  0%|          | 0/5 [00:00<?, ?it/s]"
      ]
     },
     "metadata": {},
     "output_type": "display_data"
    },
    {
     "name": "stdout",
     "output_type": "stream",
     "text": [
      "--- 2.3037290573120117 seconds ---\n",
      "MRR@100 = 0.0008\n",
      "factors: 5, iterations: 5, learning_rate: 1, regularization: 0.1, neg_prop: 50\n"
     ]
    },
    {
     "data": {
      "application/vnd.jupyter.widget-view+json": {
       "model_id": "f0851fe10981470f88ec0bb00cf8a40c",
       "version_major": 2,
       "version_minor": 0
      },
      "text/plain": [
       "  0%|          | 0/5 [00:00<?, ?it/s]"
      ]
     },
     "metadata": {},
     "output_type": "display_data"
    },
    {
     "name": "stdout",
     "output_type": "stream",
     "text": [
      "--- 2.2375309467315674 seconds ---\n",
      "MRR@100 = 0.0008\n",
      "factors: 5, iterations: 5, learning_rate: 1, regularization: 1, neg_prop: 5\n"
     ]
    },
    {
     "data": {
      "application/vnd.jupyter.widget-view+json": {
       "model_id": "bce30bf640074a248b7e9ea4ab7a309d",
       "version_major": 2,
       "version_minor": 0
      },
      "text/plain": [
       "  0%|          | 0/5 [00:00<?, ?it/s]"
      ]
     },
     "metadata": {},
     "output_type": "display_data"
    },
    {
     "name": "stdout",
     "output_type": "stream",
     "text": [
      "--- 2.2252609729766846 seconds ---\n",
      "MRR@100 = 0.0020\n",
      "factors: 5, iterations: 5, learning_rate: 1, regularization: 1, neg_prop: 15\n"
     ]
    },
    {
     "data": {
      "application/vnd.jupyter.widget-view+json": {
       "model_id": "b5b86a86e7614cb8a05adf3b1941de24",
       "version_major": 2,
       "version_minor": 0
      },
      "text/plain": [
       "  0%|          | 0/5 [00:00<?, ?it/s]"
      ]
     },
     "metadata": {},
     "output_type": "display_data"
    },
    {
     "name": "stdout",
     "output_type": "stream",
     "text": [
      "--- 2.35636305809021 seconds ---\n",
      "MRR@100 = 0.0022\n",
      "factors: 5, iterations: 5, learning_rate: 1, regularization: 1, neg_prop: 30\n"
     ]
    },
    {
     "data": {
      "application/vnd.jupyter.widget-view+json": {
       "model_id": "8b7241da6e9240c3a61faa98e511c0eb",
       "version_major": 2,
       "version_minor": 0
      },
      "text/plain": [
       "  0%|          | 0/5 [00:00<?, ?it/s]"
      ]
     },
     "metadata": {},
     "output_type": "display_data"
    },
    {
     "name": "stdout",
     "output_type": "stream",
     "text": [
      "--- 2.291025161743164 seconds ---\n",
      "MRR@100 = 0.0022\n",
      "factors: 5, iterations: 5, learning_rate: 1, regularization: 1, neg_prop: 50\n"
     ]
    },
    {
     "data": {
      "application/vnd.jupyter.widget-view+json": {
       "model_id": "78f61475492542d8829da5bcd0f6854e",
       "version_major": 2,
       "version_minor": 0
      },
      "text/plain": [
       "  0%|          | 0/5 [00:00<?, ?it/s]"
      ]
     },
     "metadata": {},
     "output_type": "display_data"
    },
    {
     "name": "stdout",
     "output_type": "stream",
     "text": [
      "--- 2.238656997680664 seconds ---\n",
      "MRR@100 = 0.0022\n",
      "factors: 5, iterations: 5, learning_rate: 1, regularization: 10, neg_prop: 5\n"
     ]
    },
    {
     "data": {
      "application/vnd.jupyter.widget-view+json": {
       "model_id": "63f894d7dd1047568ef0b2ddc74728b2",
       "version_major": 2,
       "version_minor": 0
      },
      "text/plain": [
       "  0%|          | 0/5 [00:00<?, ?it/s]"
      ]
     },
     "metadata": {},
     "output_type": "display_data"
    },
    {
     "name": "stdout",
     "output_type": "stream",
     "text": [
      "--- 2.251473903656006 seconds ---\n",
      "MRR@100 = 0.0027\n",
      "factors: 5, iterations: 5, learning_rate: 1, regularization: 10, neg_prop: 15\n"
     ]
    },
    {
     "data": {
      "application/vnd.jupyter.widget-view+json": {
       "model_id": "71e3b1d59c9941e19b3b84d74f29a9b4",
       "version_major": 2,
       "version_minor": 0
      },
      "text/plain": [
       "  0%|          | 0/5 [00:00<?, ?it/s]"
      ]
     },
     "metadata": {},
     "output_type": "display_data"
    },
    {
     "name": "stdout",
     "output_type": "stream",
     "text": [
      "--- 2.2342031002044678 seconds ---\n",
      "MRR@100 = 0.0026\n",
      "factors: 5, iterations: 5, learning_rate: 1, regularization: 10, neg_prop: 30\n"
     ]
    },
    {
     "data": {
      "application/vnd.jupyter.widget-view+json": {
       "model_id": "48a829b99b21447ebbfd907ae43d7d71",
       "version_major": 2,
       "version_minor": 0
      },
      "text/plain": [
       "  0%|          | 0/5 [00:00<?, ?it/s]"
      ]
     },
     "metadata": {},
     "output_type": "display_data"
    },
    {
     "name": "stdout",
     "output_type": "stream",
     "text": [
      "--- 2.2609288692474365 seconds ---\n",
      "MRR@100 = 0.0026\n",
      "factors: 5, iterations: 5, learning_rate: 1, regularization: 10, neg_prop: 50\n"
     ]
    },
    {
     "data": {
      "application/vnd.jupyter.widget-view+json": {
       "model_id": "ebbdcfff23074e7ab220829b9c116422",
       "version_major": 2,
       "version_minor": 0
      },
      "text/plain": [
       "  0%|          | 0/5 [00:00<?, ?it/s]"
      ]
     },
     "metadata": {},
     "output_type": "display_data"
    },
    {
     "name": "stdout",
     "output_type": "stream",
     "text": [
      "--- 2.3969709873199463 seconds ---\n",
      "MRR@100 = 0.0026\n",
      "factors: 5, iterations: 5, learning_rate: 1, regularization: 100, neg_prop: 5\n"
     ]
    },
    {
     "data": {
      "application/vnd.jupyter.widget-view+json": {
       "model_id": "4006a1b3bb13491ab7f05748c0c9c6a6",
       "version_major": 2,
       "version_minor": 0
      },
      "text/plain": [
       "  0%|          | 0/5 [00:00<?, ?it/s]"
      ]
     },
     "metadata": {},
     "output_type": "display_data"
    },
    {
     "name": "stdout",
     "output_type": "stream",
     "text": [
      "--- 2.236340045928955 seconds ---\n",
      "MRR@100 = 0.0002\n",
      "factors: 5, iterations: 5, learning_rate: 1, regularization: 100, neg_prop: 15\n"
     ]
    },
    {
     "data": {
      "application/vnd.jupyter.widget-view+json": {
       "model_id": "ec64faf893b44ec0bf6fb8adac14ce1a",
       "version_major": 2,
       "version_minor": 0
      },
      "text/plain": [
       "  0%|          | 0/5 [00:00<?, ?it/s]"
      ]
     },
     "metadata": {},
     "output_type": "display_data"
    },
    {
     "name": "stdout",
     "output_type": "stream",
     "text": [
      "--- 2.25506591796875 seconds ---\n",
      "MRR@100 = 0.0002\n",
      "factors: 5, iterations: 5, learning_rate: 1, regularization: 100, neg_prop: 30\n"
     ]
    },
    {
     "data": {
      "application/vnd.jupyter.widget-view+json": {
       "model_id": "50efefb7588b485db9ecb5334f0ae103",
       "version_major": 2,
       "version_minor": 0
      },
      "text/plain": [
       "  0%|          | 0/5 [00:00<?, ?it/s]"
      ]
     },
     "metadata": {},
     "output_type": "display_data"
    },
    {
     "name": "stdout",
     "output_type": "stream",
     "text": [
      "--- 2.2222859859466553 seconds ---\n",
      "MRR@100 = 0.0002\n",
      "factors: 5, iterations: 5, learning_rate: 1, regularization: 100, neg_prop: 50\n"
     ]
    },
    {
     "data": {
      "application/vnd.jupyter.widget-view+json": {
       "model_id": "778cfbccb27c41ef849a3e2b931b2ef5",
       "version_major": 2,
       "version_minor": 0
      },
      "text/plain": [
       "  0%|          | 0/5 [00:00<?, ?it/s]"
      ]
     },
     "metadata": {},
     "output_type": "display_data"
    },
    {
     "name": "stdout",
     "output_type": "stream",
     "text": [
      "--- 2.3729732036590576 seconds ---\n",
      "MRR@100 = 0.0002\n",
      "factors: 5, iterations: 5, learning_rate: 10, regularization: 0.001, neg_prop: 5\n"
     ]
    },
    {
     "data": {
      "application/vnd.jupyter.widget-view+json": {
       "model_id": "c47dd18a3e5b4491918e5a8b7166541c",
       "version_major": 2,
       "version_minor": 0
      },
      "text/plain": [
       "  0%|          | 0/5 [00:00<?, ?it/s]"
      ]
     },
     "metadata": {},
     "output_type": "display_data"
    },
    {
     "name": "stdout",
     "output_type": "stream",
     "text": [
      "--- 2.29278302192688 seconds ---\n",
      "MRR@100 = 0.0002\n",
      "factors: 5, iterations: 5, learning_rate: 10, regularization: 0.001, neg_prop: 15\n"
     ]
    },
    {
     "data": {
      "application/vnd.jupyter.widget-view+json": {
       "model_id": "18afcfb279bd43df88c5c515a7ab0839",
       "version_major": 2,
       "version_minor": 0
      },
      "text/plain": [
       "  0%|          | 0/5 [00:00<?, ?it/s]"
      ]
     },
     "metadata": {},
     "output_type": "display_data"
    },
    {
     "name": "stdout",
     "output_type": "stream",
     "text": [
      "--- 2.2586519718170166 seconds ---\n",
      "MRR@100 = 0.0001\n",
      "factors: 5, iterations: 5, learning_rate: 10, regularization: 0.001, neg_prop: 30\n"
     ]
    },
    {
     "data": {
      "application/vnd.jupyter.widget-view+json": {
       "model_id": "d1913ecc239442c8af3c7ebc5c844c13",
       "version_major": 2,
       "version_minor": 0
      },
      "text/plain": [
       "  0%|          | 0/5 [00:00<?, ?it/s]"
      ]
     },
     "metadata": {},
     "output_type": "display_data"
    },
    {
     "name": "stdout",
     "output_type": "stream",
     "text": [
      "--- 2.251108169555664 seconds ---\n",
      "MRR@100 = 0.0001\n",
      "factors: 5, iterations: 5, learning_rate: 10, regularization: 0.001, neg_prop: 50\n"
     ]
    },
    {
     "data": {
      "application/vnd.jupyter.widget-view+json": {
       "model_id": "c79076fded7646e6882a386c85ab377f",
       "version_major": 2,
       "version_minor": 0
      },
      "text/plain": [
       "  0%|          | 0/5 [00:00<?, ?it/s]"
      ]
     },
     "metadata": {},
     "output_type": "display_data"
    },
    {
     "name": "stdout",
     "output_type": "stream",
     "text": [
      "--- 2.297624111175537 seconds ---\n",
      "MRR@100 = 0.0001\n",
      "factors: 5, iterations: 5, learning_rate: 10, regularization: 0.01, neg_prop: 5\n"
     ]
    },
    {
     "data": {
      "application/vnd.jupyter.widget-view+json": {
       "model_id": "9c37f02aa03043c2952f5af9d8896cf3",
       "version_major": 2,
       "version_minor": 0
      },
      "text/plain": [
       "  0%|          | 0/5 [00:00<?, ?it/s]"
      ]
     },
     "metadata": {},
     "output_type": "display_data"
    },
    {
     "name": "stdout",
     "output_type": "stream",
     "text": [
      "--- 2.2329962253570557 seconds ---\n",
      "MRR@100 = 0.0001\n",
      "factors: 5, iterations: 5, learning_rate: 10, regularization: 0.01, neg_prop: 15\n"
     ]
    },
    {
     "data": {
      "application/vnd.jupyter.widget-view+json": {
       "model_id": "5e1f68bbd6e740729d77593abaa55a0b",
       "version_major": 2,
       "version_minor": 0
      },
      "text/plain": [
       "  0%|          | 0/5 [00:00<?, ?it/s]"
      ]
     },
     "metadata": {},
     "output_type": "display_data"
    },
    {
     "name": "stdout",
     "output_type": "stream",
     "text": [
      "--- 2.1930270195007324 seconds ---\n",
      "MRR@100 = 0.0002\n",
      "factors: 5, iterations: 5, learning_rate: 10, regularization: 0.01, neg_prop: 30\n"
     ]
    },
    {
     "data": {
      "application/vnd.jupyter.widget-view+json": {
       "model_id": "59a50d2fcf7740279c199670d964c38b",
       "version_major": 2,
       "version_minor": 0
      },
      "text/plain": [
       "  0%|          | 0/5 [00:00<?, ?it/s]"
      ]
     },
     "metadata": {},
     "output_type": "display_data"
    },
    {
     "name": "stdout",
     "output_type": "stream",
     "text": [
      "--- 2.3623757362365723 seconds ---\n",
      "MRR@100 = 0.0002\n",
      "factors: 5, iterations: 5, learning_rate: 10, regularization: 0.01, neg_prop: 50\n"
     ]
    },
    {
     "data": {
      "application/vnd.jupyter.widget-view+json": {
       "model_id": "bce259cd847d457f8c53ecf08adf71b0",
       "version_major": 2,
       "version_minor": 0
      },
      "text/plain": [
       "  0%|          | 0/5 [00:00<?, ?it/s]"
      ]
     },
     "metadata": {},
     "output_type": "display_data"
    },
    {
     "name": "stdout",
     "output_type": "stream",
     "text": [
      "--- 2.263957977294922 seconds ---\n",
      "MRR@100 = 0.0002\n",
      "factors: 5, iterations: 5, learning_rate: 10, regularization: 0.1, neg_prop: 5\n"
     ]
    },
    {
     "data": {
      "application/vnd.jupyter.widget-view+json": {
       "model_id": "ef8168d85ec848419e19ebdf4e93bb7f",
       "version_major": 2,
       "version_minor": 0
      },
      "text/plain": [
       "  0%|          | 0/5 [00:00<?, ?it/s]"
      ]
     },
     "metadata": {},
     "output_type": "display_data"
    },
    {
     "name": "stdout",
     "output_type": "stream",
     "text": [
      "--- 2.293597936630249 seconds ---\n",
      "MRR@100 = 0.0003\n",
      "factors: 5, iterations: 5, learning_rate: 10, regularization: 0.1, neg_prop: 15\n"
     ]
    },
    {
     "data": {
      "application/vnd.jupyter.widget-view+json": {
       "model_id": "ead2655bc9d640e4a219f40d0a48eca9",
       "version_major": 2,
       "version_minor": 0
      },
      "text/plain": [
       "  0%|          | 0/5 [00:00<?, ?it/s]"
      ]
     },
     "metadata": {},
     "output_type": "display_data"
    },
    {
     "name": "stdout",
     "output_type": "stream",
     "text": [
      "--- 2.282425880432129 seconds ---\n",
      "MRR@100 = 0.0006\n",
      "factors: 5, iterations: 5, learning_rate: 10, regularization: 0.1, neg_prop: 30\n"
     ]
    },
    {
     "data": {
      "application/vnd.jupyter.widget-view+json": {
       "model_id": "f31b47b7c5eb4c04872350b481dc9d1a",
       "version_major": 2,
       "version_minor": 0
      },
      "text/plain": [
       "  0%|          | 0/5 [00:00<?, ?it/s]"
      ]
     },
     "metadata": {},
     "output_type": "display_data"
    },
    {
     "name": "stdout",
     "output_type": "stream",
     "text": [
      "--- 2.2608649730682373 seconds ---\n",
      "MRR@100 = 0.0006\n",
      "factors: 5, iterations: 5, learning_rate: 10, regularization: 0.1, neg_prop: 50\n"
     ]
    },
    {
     "data": {
      "application/vnd.jupyter.widget-view+json": {
       "model_id": "b17b119b97554f09bc42e04c3f65dd96",
       "version_major": 2,
       "version_minor": 0
      },
      "text/plain": [
       "  0%|          | 0/5 [00:00<?, ?it/s]"
      ]
     },
     "metadata": {},
     "output_type": "display_data"
    },
    {
     "name": "stdout",
     "output_type": "stream",
     "text": [
      "--- 2.3016161918640137 seconds ---\n",
      "MRR@100 = 0.0006\n",
      "factors: 5, iterations: 5, learning_rate: 10, regularization: 1, neg_prop: 5\n"
     ]
    },
    {
     "data": {
      "application/vnd.jupyter.widget-view+json": {
       "model_id": "2847e7a00b5f4f4a92eb5288b018b758",
       "version_major": 2,
       "version_minor": 0
      },
      "text/plain": [
       "  0%|          | 0/5 [00:00<?, ?it/s]"
      ]
     },
     "metadata": {},
     "output_type": "display_data"
    },
    {
     "name": "stdout",
     "output_type": "stream",
     "text": [
      "--- 2.2783308029174805 seconds ---\n",
      "MRR@100 = 0.0013\n",
      "factors: 5, iterations: 5, learning_rate: 10, regularization: 1, neg_prop: 15\n"
     ]
    },
    {
     "data": {
      "application/vnd.jupyter.widget-view+json": {
       "model_id": "ba7816f66abb4fdca02e8640f4ab7896",
       "version_major": 2,
       "version_minor": 0
      },
      "text/plain": [
       "  0%|          | 0/5 [00:00<?, ?it/s]"
      ]
     },
     "metadata": {},
     "output_type": "display_data"
    },
    {
     "name": "stdout",
     "output_type": "stream",
     "text": [
      "--- 2.311213731765747 seconds ---\n",
      "MRR@100 = 0.0017\n",
      "factors: 5, iterations: 5, learning_rate: 10, regularization: 1, neg_prop: 30\n"
     ]
    },
    {
     "data": {
      "application/vnd.jupyter.widget-view+json": {
       "model_id": "0ec264df4cff4060957aa94a51cabf25",
       "version_major": 2,
       "version_minor": 0
      },
      "text/plain": [
       "  0%|          | 0/5 [00:00<?, ?it/s]"
      ]
     },
     "metadata": {},
     "output_type": "display_data"
    },
    {
     "name": "stdout",
     "output_type": "stream",
     "text": [
      "--- 2.2898848056793213 seconds ---\n",
      "MRR@100 = 0.0017\n",
      "factors: 5, iterations: 5, learning_rate: 10, regularization: 1, neg_prop: 50\n"
     ]
    },
    {
     "data": {
      "application/vnd.jupyter.widget-view+json": {
       "model_id": "60fba5340070438381733fb1e12ed6d7",
       "version_major": 2,
       "version_minor": 0
      },
      "text/plain": [
       "  0%|          | 0/5 [00:00<?, ?it/s]"
      ]
     },
     "metadata": {},
     "output_type": "display_data"
    },
    {
     "name": "stdout",
     "output_type": "stream",
     "text": [
      "--- 2.3316919803619385 seconds ---\n",
      "MRR@100 = 0.0017\n",
      "factors: 5, iterations: 5, learning_rate: 10, regularization: 10, neg_prop: 5\n"
     ]
    },
    {
     "data": {
      "application/vnd.jupyter.widget-view+json": {
       "model_id": "9c76514327e4437cba4be37b85ffbcca",
       "version_major": 2,
       "version_minor": 0
      },
      "text/plain": [
       "  0%|          | 0/5 [00:00<?, ?it/s]"
      ]
     },
     "metadata": {},
     "output_type": "display_data"
    },
    {
     "name": "stdout",
     "output_type": "stream",
     "text": [
      "--- 2.2063701152801514 seconds ---\n",
      "MRR@100 = 0.0018\n",
      "factors: 5, iterations: 5, learning_rate: 10, regularization: 10, neg_prop: 15\n"
     ]
    },
    {
     "data": {
      "application/vnd.jupyter.widget-view+json": {
       "model_id": "319616ec2dfe421782dc77ad9a273854",
       "version_major": 2,
       "version_minor": 0
      },
      "text/plain": [
       "  0%|          | 0/5 [00:00<?, ?it/s]"
      ]
     },
     "metadata": {},
     "output_type": "display_data"
    },
    {
     "name": "stdout",
     "output_type": "stream",
     "text": [
      "--- 2.2222020626068115 seconds ---\n",
      "MRR@100 = 0.0019\n",
      "factors: 5, iterations: 5, learning_rate: 10, regularization: 10, neg_prop: 30\n"
     ]
    },
    {
     "data": {
      "application/vnd.jupyter.widget-view+json": {
       "model_id": "5617133f284441c9a161266a3833edd2",
       "version_major": 2,
       "version_minor": 0
      },
      "text/plain": [
       "  0%|          | 0/5 [00:00<?, ?it/s]"
      ]
     },
     "metadata": {},
     "output_type": "display_data"
    },
    {
     "name": "stdout",
     "output_type": "stream",
     "text": [
      "--- 2.173571825027466 seconds ---\n",
      "MRR@100 = 0.0019\n",
      "factors: 5, iterations: 5, learning_rate: 10, regularization: 10, neg_prop: 50\n"
     ]
    },
    {
     "data": {
      "application/vnd.jupyter.widget-view+json": {
       "model_id": "fa58a13689a544c3adfd7316d8a15e1a",
       "version_major": 2,
       "version_minor": 0
      },
      "text/plain": [
       "  0%|          | 0/5 [00:00<?, ?it/s]"
      ]
     },
     "metadata": {},
     "output_type": "display_data"
    },
    {
     "name": "stdout",
     "output_type": "stream",
     "text": [
      "--- 2.225163221359253 seconds ---\n",
      "MRR@100 = 0.0019\n",
      "factors: 5, iterations: 5, learning_rate: 10, regularization: 100, neg_prop: 5\n"
     ]
    },
    {
     "data": {
      "application/vnd.jupyter.widget-view+json": {
       "model_id": "d8320af2fb1f4469be5fad501983c1ea",
       "version_major": 2,
       "version_minor": 0
      },
      "text/plain": [
       "  0%|          | 0/5 [00:00<?, ?it/s]"
      ]
     },
     "metadata": {},
     "output_type": "display_data"
    },
    {
     "name": "stdout",
     "output_type": "stream",
     "text": [
      "--- 2.256302833557129 seconds ---\n",
      "MRR@100 = 0.0015\n",
      "factors: 5, iterations: 5, learning_rate: 10, regularization: 100, neg_prop: 15\n"
     ]
    },
    {
     "data": {
      "application/vnd.jupyter.widget-view+json": {
       "model_id": "d264ca637aa645f7baa84cda467ead5b",
       "version_major": 2,
       "version_minor": 0
      },
      "text/plain": [
       "  0%|          | 0/5 [00:00<?, ?it/s]"
      ]
     },
     "metadata": {},
     "output_type": "display_data"
    },
    {
     "name": "stdout",
     "output_type": "stream",
     "text": [
      "--- 2.3157849311828613 seconds ---\n",
      "MRR@100 = 0.0015\n",
      "factors: 5, iterations: 5, learning_rate: 10, regularization: 100, neg_prop: 30\n"
     ]
    },
    {
     "data": {
      "application/vnd.jupyter.widget-view+json": {
       "model_id": "aa1d284619a24af39485da9a8cd6283b",
       "version_major": 2,
       "version_minor": 0
      },
      "text/plain": [
       "  0%|          | 0/5 [00:00<?, ?it/s]"
      ]
     },
     "metadata": {},
     "output_type": "display_data"
    },
    {
     "name": "stdout",
     "output_type": "stream",
     "text": [
      "--- 2.273568868637085 seconds ---\n",
      "MRR@100 = 0.0015\n",
      "factors: 5, iterations: 5, learning_rate: 10, regularization: 100, neg_prop: 50\n"
     ]
    },
    {
     "data": {
      "application/vnd.jupyter.widget-view+json": {
       "model_id": "0292e86dffc547e693887be94f3ceaec",
       "version_major": 2,
       "version_minor": 0
      },
      "text/plain": [
       "  0%|          | 0/5 [00:00<?, ?it/s]"
      ]
     },
     "metadata": {},
     "output_type": "display_data"
    },
    {
     "name": "stdout",
     "output_type": "stream",
     "text": [
      "--- 2.265946865081787 seconds ---\n",
      "MRR@100 = 0.0015\n",
      "factors: 5, iterations: 5, learning_rate: 100, regularization: 0.001, neg_prop: 5\n"
     ]
    },
    {
     "data": {
      "application/vnd.jupyter.widget-view+json": {
       "model_id": "0f64428cc1e541b4ab10118ddcb0996e",
       "version_major": 2,
       "version_minor": 0
      },
      "text/plain": [
       "  0%|          | 0/5 [00:00<?, ?it/s]"
      ]
     },
     "metadata": {},
     "output_type": "display_data"
    },
    {
     "name": "stdout",
     "output_type": "stream",
     "text": [
      "--- 2.2550621032714844 seconds ---\n",
      "MRR@100 = 0.0000\n",
      "factors: 5, iterations: 5, learning_rate: 100, regularization: 0.001, neg_prop: 15\n"
     ]
    },
    {
     "data": {
      "application/vnd.jupyter.widget-view+json": {
       "model_id": "90ab6f153e6d42608233eb8d66b7435d",
       "version_major": 2,
       "version_minor": 0
      },
      "text/plain": [
       "  0%|          | 0/5 [00:00<?, ?it/s]"
      ]
     },
     "metadata": {},
     "output_type": "display_data"
    },
    {
     "name": "stdout",
     "output_type": "stream",
     "text": [
      "--- 2.2521259784698486 seconds ---\n",
      "MRR@100 = 0.0000\n",
      "factors: 5, iterations: 5, learning_rate: 100, regularization: 0.001, neg_prop: 30\n"
     ]
    },
    {
     "data": {
      "application/vnd.jupyter.widget-view+json": {
       "model_id": "bf158939a08548e5ad82ba444f6c567f",
       "version_major": 2,
       "version_minor": 0
      },
      "text/plain": [
       "  0%|          | 0/5 [00:00<?, ?it/s]"
      ]
     },
     "metadata": {},
     "output_type": "display_data"
    },
    {
     "name": "stdout",
     "output_type": "stream",
     "text": [
      "--- 2.314838171005249 seconds ---\n",
      "MRR@100 = 0.0000\n",
      "factors: 5, iterations: 5, learning_rate: 100, regularization: 0.001, neg_prop: 50\n"
     ]
    },
    {
     "data": {
      "application/vnd.jupyter.widget-view+json": {
       "model_id": "31c895dd2a124b618f4f1aad55e0f00f",
       "version_major": 2,
       "version_minor": 0
      },
      "text/plain": [
       "  0%|          | 0/5 [00:00<?, ?it/s]"
      ]
     },
     "metadata": {},
     "output_type": "display_data"
    },
    {
     "name": "stdout",
     "output_type": "stream",
     "text": [
      "--- 2.500792980194092 seconds ---\n",
      "MRR@100 = 0.0000\n",
      "factors: 5, iterations: 5, learning_rate: 100, regularization: 0.01, neg_prop: 5\n"
     ]
    },
    {
     "data": {
      "application/vnd.jupyter.widget-view+json": {
       "model_id": "938d3fdd6a394afa9f8ca681b3e7129d",
       "version_major": 2,
       "version_minor": 0
      },
      "text/plain": [
       "  0%|          | 0/5 [00:00<?, ?it/s]"
      ]
     },
     "metadata": {},
     "output_type": "display_data"
    },
    {
     "name": "stdout",
     "output_type": "stream",
     "text": [
      "--- 2.2800838947296143 seconds ---\n",
      "MRR@100 = 0.0000\n",
      "factors: 5, iterations: 5, learning_rate: 100, regularization: 0.01, neg_prop: 15\n"
     ]
    },
    {
     "data": {
      "application/vnd.jupyter.widget-view+json": {
       "model_id": "6166361e8ce344b4b8ac877db0b829e2",
       "version_major": 2,
       "version_minor": 0
      },
      "text/plain": [
       "  0%|          | 0/5 [00:00<?, ?it/s]"
      ]
     },
     "metadata": {},
     "output_type": "display_data"
    },
    {
     "name": "stdout",
     "output_type": "stream",
     "text": [
      "--- 2.2502238750457764 seconds ---\n",
      "MRR@100 = 0.0000\n",
      "factors: 5, iterations: 5, learning_rate: 100, regularization: 0.01, neg_prop: 30\n"
     ]
    },
    {
     "data": {
      "application/vnd.jupyter.widget-view+json": {
       "model_id": "7379c5bf7dfb43c4aa2fb475e3c6269d",
       "version_major": 2,
       "version_minor": 0
      },
      "text/plain": [
       "  0%|          | 0/5 [00:00<?, ?it/s]"
      ]
     },
     "metadata": {},
     "output_type": "display_data"
    },
    {
     "name": "stdout",
     "output_type": "stream",
     "text": [
      "--- 2.277235984802246 seconds ---\n",
      "MRR@100 = 0.0000\n",
      "factors: 5, iterations: 5, learning_rate: 100, regularization: 0.01, neg_prop: 50\n"
     ]
    },
    {
     "data": {
      "application/vnd.jupyter.widget-view+json": {
       "model_id": "c4141e97f3ed4edba1dc0d01f9bd836f",
       "version_major": 2,
       "version_minor": 0
      },
      "text/plain": [
       "  0%|          | 0/5 [00:00<?, ?it/s]"
      ]
     },
     "metadata": {},
     "output_type": "display_data"
    },
    {
     "name": "stdout",
     "output_type": "stream",
     "text": [
      "--- 2.2914979457855225 seconds ---\n",
      "MRR@100 = 0.0000\n",
      "factors: 5, iterations: 5, learning_rate: 100, regularization: 0.1, neg_prop: 5\n"
     ]
    },
    {
     "data": {
      "application/vnd.jupyter.widget-view+json": {
       "model_id": "f89fa656ed864236b47046c9ae0c1eba",
       "version_major": 2,
       "version_minor": 0
      },
      "text/plain": [
       "  0%|          | 0/5 [00:00<?, ?it/s]"
      ]
     },
     "metadata": {},
     "output_type": "display_data"
    },
    {
     "name": "stdout",
     "output_type": "stream",
     "text": [
      "--- 2.3353688716888428 seconds ---\n",
      "MRR@100 = 0.0001\n",
      "factors: 5, iterations: 5, learning_rate: 100, regularization: 0.1, neg_prop: 15\n"
     ]
    },
    {
     "data": {
      "application/vnd.jupyter.widget-view+json": {
       "model_id": "3d03d081151f4a799e7d3b47cd93a565",
       "version_major": 2,
       "version_minor": 0
      },
      "text/plain": [
       "  0%|          | 0/5 [00:00<?, ?it/s]"
      ]
     },
     "metadata": {},
     "output_type": "display_data"
    },
    {
     "name": "stdout",
     "output_type": "stream",
     "text": [
      "--- 2.337181806564331 seconds ---\n",
      "MRR@100 = 0.0000\n",
      "factors: 5, iterations: 5, learning_rate: 100, regularization: 0.1, neg_prop: 30\n"
     ]
    },
    {
     "data": {
      "application/vnd.jupyter.widget-view+json": {
       "model_id": "c5b2c5edef5a4b82a14f67c5d1872817",
       "version_major": 2,
       "version_minor": 0
      },
      "text/plain": [
       "  0%|          | 0/5 [00:00<?, ?it/s]"
      ]
     },
     "metadata": {},
     "output_type": "display_data"
    },
    {
     "name": "stdout",
     "output_type": "stream",
     "text": [
      "--- 2.3245248794555664 seconds ---\n",
      "MRR@100 = 0.0000\n",
      "factors: 5, iterations: 5, learning_rate: 100, regularization: 0.1, neg_prop: 50\n"
     ]
    },
    {
     "data": {
      "application/vnd.jupyter.widget-view+json": {
       "model_id": "fb022017f01a4a28abfecccda87b9bec",
       "version_major": 2,
       "version_minor": 0
      },
      "text/plain": [
       "  0%|          | 0/5 [00:00<?, ?it/s]"
      ]
     },
     "metadata": {},
     "output_type": "display_data"
    },
    {
     "name": "stdout",
     "output_type": "stream",
     "text": [
      "--- 2.344914197921753 seconds ---\n",
      "MRR@100 = 0.0000\n",
      "factors: 5, iterations: 5, learning_rate: 100, regularization: 1, neg_prop: 5\n"
     ]
    },
    {
     "data": {
      "application/vnd.jupyter.widget-view+json": {
       "model_id": "ad8264a21f0848ec84fb526d12b566db",
       "version_major": 2,
       "version_minor": 0
      },
      "text/plain": [
       "  0%|          | 0/5 [00:00<?, ?it/s]"
      ]
     },
     "metadata": {},
     "output_type": "display_data"
    },
    {
     "name": "stdout",
     "output_type": "stream",
     "text": [
      "--- 2.3429291248321533 seconds ---\n",
      "MRR@100 = 0.0004\n",
      "factors: 5, iterations: 5, learning_rate: 100, regularization: 1, neg_prop: 15\n"
     ]
    },
    {
     "data": {
      "application/vnd.jupyter.widget-view+json": {
       "model_id": "41084e869c8f455d8276e87a7040970e",
       "version_major": 2,
       "version_minor": 0
      },
      "text/plain": [
       "  0%|          | 0/5 [00:00<?, ?it/s]"
      ]
     },
     "metadata": {},
     "output_type": "display_data"
    },
    {
     "name": "stdout",
     "output_type": "stream",
     "text": [
      "--- 2.2768850326538086 seconds ---\n",
      "MRR@100 = 0.0004\n",
      "factors: 5, iterations: 5, learning_rate: 100, regularization: 1, neg_prop: 30\n"
     ]
    },
    {
     "data": {
      "application/vnd.jupyter.widget-view+json": {
       "model_id": "61c56b84603a4dcf8364f9742968fd9c",
       "version_major": 2,
       "version_minor": 0
      },
      "text/plain": [
       "  0%|          | 0/5 [00:00<?, ?it/s]"
      ]
     },
     "metadata": {},
     "output_type": "display_data"
    },
    {
     "name": "stdout",
     "output_type": "stream",
     "text": [
      "--- 2.305133104324341 seconds ---\n",
      "MRR@100 = 0.0004\n",
      "factors: 5, iterations: 5, learning_rate: 100, regularization: 1, neg_prop: 50\n"
     ]
    },
    {
     "data": {
      "application/vnd.jupyter.widget-view+json": {
       "model_id": "42dad5a9b3b14a8691ee00814b85d241",
       "version_major": 2,
       "version_minor": 0
      },
      "text/plain": [
       "  0%|          | 0/5 [00:00<?, ?it/s]"
      ]
     },
     "metadata": {},
     "output_type": "display_data"
    },
    {
     "name": "stdout",
     "output_type": "stream",
     "text": [
      "--- 2.3151769638061523 seconds ---\n",
      "MRR@100 = 0.0004\n",
      "factors: 5, iterations: 5, learning_rate: 100, regularization: 10, neg_prop: 5\n"
     ]
    },
    {
     "data": {
      "application/vnd.jupyter.widget-view+json": {
       "model_id": "8d0a7729f2404c62996c14dc03139cef",
       "version_major": 2,
       "version_minor": 0
      },
      "text/plain": [
       "  0%|          | 0/5 [00:00<?, ?it/s]"
      ]
     },
     "metadata": {},
     "output_type": "display_data"
    },
    {
     "name": "stdout",
     "output_type": "stream",
     "text": [
      "--- 2.330414056777954 seconds ---\n",
      "MRR@100 = 0.0012\n",
      "factors: 5, iterations: 5, learning_rate: 100, regularization: 10, neg_prop: 15\n"
     ]
    },
    {
     "data": {
      "application/vnd.jupyter.widget-view+json": {
       "model_id": "b0b8b1b327fa470aaa25fb13b3f8b70f",
       "version_major": 2,
       "version_minor": 0
      },
      "text/plain": [
       "  0%|          | 0/5 [00:00<?, ?it/s]"
      ]
     },
     "metadata": {},
     "output_type": "display_data"
    },
    {
     "name": "stdout",
     "output_type": "stream",
     "text": [
      "--- 2.271867275238037 seconds ---\n",
      "MRR@100 = 0.0011\n",
      "factors: 5, iterations: 5, learning_rate: 100, regularization: 10, neg_prop: 30\n"
     ]
    },
    {
     "data": {
      "application/vnd.jupyter.widget-view+json": {
       "model_id": "6f3daa9991bb46e384b9687b5774154c",
       "version_major": 2,
       "version_minor": 0
      },
      "text/plain": [
       "  0%|          | 0/5 [00:00<?, ?it/s]"
      ]
     },
     "metadata": {},
     "output_type": "display_data"
    },
    {
     "name": "stdout",
     "output_type": "stream",
     "text": [
      "--- 2.2775697708129883 seconds ---\n",
      "MRR@100 = 0.0011\n",
      "factors: 5, iterations: 5, learning_rate: 100, regularization: 10, neg_prop: 50\n"
     ]
    },
    {
     "data": {
      "application/vnd.jupyter.widget-view+json": {
       "model_id": "9c18ca8744c34e1eabd1bd13b2350630",
       "version_major": 2,
       "version_minor": 0
      },
      "text/plain": [
       "  0%|          | 0/5 [00:00<?, ?it/s]"
      ]
     },
     "metadata": {},
     "output_type": "display_data"
    },
    {
     "name": "stdout",
     "output_type": "stream",
     "text": [
      "--- 2.2874820232391357 seconds ---\n",
      "MRR@100 = 0.0011\n",
      "factors: 5, iterations: 5, learning_rate: 100, regularization: 100, neg_prop: 5\n"
     ]
    },
    {
     "data": {
      "application/vnd.jupyter.widget-view+json": {
       "model_id": "cc6d027636334f8391db20b82712c383",
       "version_major": 2,
       "version_minor": 0
      },
      "text/plain": [
       "  0%|          | 0/5 [00:00<?, ?it/s]"
      ]
     },
     "metadata": {},
     "output_type": "display_data"
    },
    {
     "name": "stdout",
     "output_type": "stream",
     "text": [
      "--- 2.209451198577881 seconds ---\n",
      "MRR@100 = 0.0019\n",
      "factors: 5, iterations: 5, learning_rate: 100, regularization: 100, neg_prop: 15\n"
     ]
    },
    {
     "data": {
      "application/vnd.jupyter.widget-view+json": {
       "model_id": "f549eeae6ad64fe78f9b19e432fe6b91",
       "version_major": 2,
       "version_minor": 0
      },
      "text/plain": [
       "  0%|          | 0/5 [00:00<?, ?it/s]"
      ]
     },
     "metadata": {},
     "output_type": "display_data"
    },
    {
     "name": "stdout",
     "output_type": "stream",
     "text": [
      "--- 2.3095638751983643 seconds ---\n",
      "MRR@100 = 0.0019\n",
      "factors: 5, iterations: 5, learning_rate: 100, regularization: 100, neg_prop: 30\n"
     ]
    },
    {
     "data": {
      "application/vnd.jupyter.widget-view+json": {
       "model_id": "2e6089c611b344e7a201d0b0973e7729",
       "version_major": 2,
       "version_minor": 0
      },
      "text/plain": [
       "  0%|          | 0/5 [00:00<?, ?it/s]"
      ]
     },
     "metadata": {},
     "output_type": "display_data"
    },
    {
     "name": "stdout",
     "output_type": "stream",
     "text": [
      "--- 2.239192008972168 seconds ---\n",
      "MRR@100 = 0.0019\n",
      "factors: 5, iterations: 5, learning_rate: 100, regularization: 100, neg_prop: 50\n"
     ]
    },
    {
     "data": {
      "application/vnd.jupyter.widget-view+json": {
       "model_id": "f962c43d16604b26a60c39fcc0d9d6a3",
       "version_major": 2,
       "version_minor": 0
      },
      "text/plain": [
       "  0%|          | 0/5 [00:00<?, ?it/s]"
      ]
     },
     "metadata": {},
     "output_type": "display_data"
    },
    {
     "name": "stdout",
     "output_type": "stream",
     "text": [
      "--- 2.4021711349487305 seconds ---\n",
      "MRR@100 = 0.0019\n",
      "factors: 5, iterations: 15, learning_rate: 0.001, regularization: 0.001, neg_prop: 5\n"
     ]
    },
    {
     "data": {
      "application/vnd.jupyter.widget-view+json": {
       "model_id": "f311a0ccdfd34f6fa26067168947562b",
       "version_major": 2,
       "version_minor": 0
      },
      "text/plain": [
       "  0%|          | 0/15 [00:00<?, ?it/s]"
      ]
     },
     "metadata": {},
     "output_type": "display_data"
    },
    {
     "name": "stdout",
     "output_type": "stream",
     "text": [
      "--- 2.2861108779907227 seconds ---\n",
      "MRR@100 = 0.0000\n",
      "factors: 5, iterations: 15, learning_rate: 0.001, regularization: 0.001, neg_prop: 15\n"
     ]
    },
    {
     "data": {
      "application/vnd.jupyter.widget-view+json": {
       "model_id": "5f151b28a0b5466cabb2b99eb00f5c2e",
       "version_major": 2,
       "version_minor": 0
      },
      "text/plain": [
       "  0%|          | 0/15 [00:00<?, ?it/s]"
      ]
     },
     "metadata": {},
     "output_type": "display_data"
    },
    {
     "name": "stdout",
     "output_type": "stream",
     "text": [
      "--- 2.311793088912964 seconds ---\n",
      "MRR@100 = 0.0000\n",
      "factors: 5, iterations: 15, learning_rate: 0.001, regularization: 0.001, neg_prop: 30\n"
     ]
    },
    {
     "data": {
      "application/vnd.jupyter.widget-view+json": {
       "model_id": "6d09ffb073034cce8ad250d512cbb28e",
       "version_major": 2,
       "version_minor": 0
      },
      "text/plain": [
       "  0%|          | 0/15 [00:00<?, ?it/s]"
      ]
     },
     "metadata": {},
     "output_type": "display_data"
    },
    {
     "name": "stdout",
     "output_type": "stream",
     "text": [
      "--- 2.2839012145996094 seconds ---\n",
      "MRR@100 = 0.0000\n",
      "factors: 5, iterations: 15, learning_rate: 0.001, regularization: 0.001, neg_prop: 50\n"
     ]
    },
    {
     "data": {
      "application/vnd.jupyter.widget-view+json": {
       "model_id": "fd78d1fc731a4a6fb27e92c330648114",
       "version_major": 2,
       "version_minor": 0
      },
      "text/plain": [
       "  0%|          | 0/15 [00:00<?, ?it/s]"
      ]
     },
     "metadata": {},
     "output_type": "display_data"
    },
    {
     "name": "stdout",
     "output_type": "stream",
     "text": [
      "--- 2.271324872970581 seconds ---\n",
      "MRR@100 = 0.0000\n",
      "factors: 5, iterations: 15, learning_rate: 0.001, regularization: 0.01, neg_prop: 5\n"
     ]
    },
    {
     "data": {
      "application/vnd.jupyter.widget-view+json": {
       "model_id": "7ba2a2ecf971457f833c67cb82ff091d",
       "version_major": 2,
       "version_minor": 0
      },
      "text/plain": [
       "  0%|          | 0/15 [00:00<?, ?it/s]"
      ]
     },
     "metadata": {},
     "output_type": "display_data"
    },
    {
     "name": "stdout",
     "output_type": "stream",
     "text": [
      "--- 2.267029047012329 seconds ---\n",
      "MRR@100 = 0.0000\n",
      "factors: 5, iterations: 15, learning_rate: 0.001, regularization: 0.01, neg_prop: 15\n"
     ]
    },
    {
     "data": {
      "application/vnd.jupyter.widget-view+json": {
       "model_id": "5fb4db57761c4fee8b74744a9f70f754",
       "version_major": 2,
       "version_minor": 0
      },
      "text/plain": [
       "  0%|          | 0/15 [00:00<?, ?it/s]"
      ]
     },
     "metadata": {},
     "output_type": "display_data"
    },
    {
     "name": "stdout",
     "output_type": "stream",
     "text": [
      "--- 2.2468490600585938 seconds ---\n",
      "MRR@100 = 0.0000\n",
      "factors: 5, iterations: 15, learning_rate: 0.001, regularization: 0.01, neg_prop: 30\n"
     ]
    },
    {
     "data": {
      "application/vnd.jupyter.widget-view+json": {
       "model_id": "ffa98022d49d4521bc876a7708743baa",
       "version_major": 2,
       "version_minor": 0
      },
      "text/plain": [
       "  0%|          | 0/15 [00:00<?, ?it/s]"
      ]
     },
     "metadata": {},
     "output_type": "display_data"
    },
    {
     "name": "stdout",
     "output_type": "stream",
     "text": [
      "--- 2.3800389766693115 seconds ---\n",
      "MRR@100 = 0.0000\n",
      "factors: 5, iterations: 15, learning_rate: 0.001, regularization: 0.01, neg_prop: 50\n"
     ]
    },
    {
     "data": {
      "application/vnd.jupyter.widget-view+json": {
       "model_id": "02e2a8af9de64cb38f6d868bfb727ca4",
       "version_major": 2,
       "version_minor": 0
      },
      "text/plain": [
       "  0%|          | 0/15 [00:00<?, ?it/s]"
      ]
     },
     "metadata": {},
     "output_type": "display_data"
    },
    {
     "name": "stdout",
     "output_type": "stream",
     "text": [
      "--- 2.2629377841949463 seconds ---\n",
      "MRR@100 = 0.0000\n",
      "factors: 5, iterations: 15, learning_rate: 0.001, regularization: 0.1, neg_prop: 5\n"
     ]
    },
    {
     "data": {
      "application/vnd.jupyter.widget-view+json": {
       "model_id": "25d404d4910c44f895dba7b0c385ebd3",
       "version_major": 2,
       "version_minor": 0
      },
      "text/plain": [
       "  0%|          | 0/15 [00:00<?, ?it/s]"
      ]
     },
     "metadata": {},
     "output_type": "display_data"
    },
    {
     "name": "stdout",
     "output_type": "stream",
     "text": [
      "--- 2.225065231323242 seconds ---\n",
      "MRR@100 = 0.0000\n",
      "factors: 5, iterations: 15, learning_rate: 0.001, regularization: 0.1, neg_prop: 15\n"
     ]
    },
    {
     "data": {
      "application/vnd.jupyter.widget-view+json": {
       "model_id": "170b06ddf9ef44bb8ba33feed335319e",
       "version_major": 2,
       "version_minor": 0
      },
      "text/plain": [
       "  0%|          | 0/15 [00:00<?, ?it/s]"
      ]
     },
     "metadata": {},
     "output_type": "display_data"
    },
    {
     "name": "stdout",
     "output_type": "stream",
     "text": [
      "--- 2.2524330615997314 seconds ---\n",
      "MRR@100 = 0.0000\n",
      "factors: 5, iterations: 15, learning_rate: 0.001, regularization: 0.1, neg_prop: 30\n"
     ]
    },
    {
     "data": {
      "application/vnd.jupyter.widget-view+json": {
       "model_id": "9ee9504af6da44059f86813e6b3e6371",
       "version_major": 2,
       "version_minor": 0
      },
      "text/plain": [
       "  0%|          | 0/15 [00:00<?, ?it/s]"
      ]
     },
     "metadata": {},
     "output_type": "display_data"
    },
    {
     "name": "stdout",
     "output_type": "stream",
     "text": [
      "--- 2.2473809719085693 seconds ---\n",
      "MRR@100 = 0.0000\n",
      "factors: 5, iterations: 15, learning_rate: 0.001, regularization: 0.1, neg_prop: 50\n"
     ]
    },
    {
     "data": {
      "application/vnd.jupyter.widget-view+json": {
       "model_id": "ae2beb3a5f0e4483a8ac1b213d466a67",
       "version_major": 2,
       "version_minor": 0
      },
      "text/plain": [
       "  0%|          | 0/15 [00:00<?, ?it/s]"
      ]
     },
     "metadata": {},
     "output_type": "display_data"
    },
    {
     "name": "stdout",
     "output_type": "stream",
     "text": [
      "--- 2.316131830215454 seconds ---\n",
      "MRR@100 = 0.0000\n",
      "factors: 5, iterations: 15, learning_rate: 0.001, regularization: 1, neg_prop: 5\n"
     ]
    },
    {
     "data": {
      "application/vnd.jupyter.widget-view+json": {
       "model_id": "ab2ead9516924a749105112707c17653",
       "version_major": 2,
       "version_minor": 0
      },
      "text/plain": [
       "  0%|          | 0/15 [00:00<?, ?it/s]"
      ]
     },
     "metadata": {},
     "output_type": "display_data"
    },
    {
     "name": "stdout",
     "output_type": "stream",
     "text": [
      "--- 2.343151092529297 seconds ---\n",
      "MRR@100 = 0.0000\n",
      "factors: 5, iterations: 15, learning_rate: 0.001, regularization: 1, neg_prop: 15\n"
     ]
    },
    {
     "data": {
      "application/vnd.jupyter.widget-view+json": {
       "model_id": "6628d67479234c279e947e55cc7b5e7d",
       "version_major": 2,
       "version_minor": 0
      },
      "text/plain": [
       "  0%|          | 0/15 [00:00<?, ?it/s]"
      ]
     },
     "metadata": {},
     "output_type": "display_data"
    },
    {
     "name": "stdout",
     "output_type": "stream",
     "text": [
      "--- 2.384211301803589 seconds ---\n",
      "MRR@100 = 0.0000\n",
      "factors: 5, iterations: 15, learning_rate: 0.001, regularization: 1, neg_prop: 30\n"
     ]
    },
    {
     "data": {
      "application/vnd.jupyter.widget-view+json": {
       "model_id": "0871dfbd961e4337a5b38381c0d1fefb",
       "version_major": 2,
       "version_minor": 0
      },
      "text/plain": [
       "  0%|          | 0/15 [00:00<?, ?it/s]"
      ]
     },
     "metadata": {},
     "output_type": "display_data"
    },
    {
     "name": "stdout",
     "output_type": "stream",
     "text": [
      "--- 2.256038188934326 seconds ---\n",
      "MRR@100 = 0.0000\n",
      "factors: 5, iterations: 15, learning_rate: 0.001, regularization: 1, neg_prop: 50\n"
     ]
    },
    {
     "data": {
      "application/vnd.jupyter.widget-view+json": {
       "model_id": "8e94815567a74bbdb50e9df7d6c54a6d",
       "version_major": 2,
       "version_minor": 0
      },
      "text/plain": [
       "  0%|          | 0/15 [00:00<?, ?it/s]"
      ]
     },
     "metadata": {},
     "output_type": "display_data"
    },
    {
     "name": "stdout",
     "output_type": "stream",
     "text": [
      "--- 2.2702207565307617 seconds ---\n",
      "MRR@100 = 0.0000\n",
      "factors: 5, iterations: 15, learning_rate: 0.001, regularization: 10, neg_prop: 5\n"
     ]
    },
    {
     "data": {
      "application/vnd.jupyter.widget-view+json": {
       "model_id": "b847cef2bbee4023832b7989e9dcef16",
       "version_major": 2,
       "version_minor": 0
      },
      "text/plain": [
       "  0%|          | 0/15 [00:00<?, ?it/s]"
      ]
     },
     "metadata": {},
     "output_type": "display_data"
    },
    {
     "name": "stdout",
     "output_type": "stream",
     "text": [
      "--- 2.2965760231018066 seconds ---\n",
      "MRR@100 = 0.0000\n",
      "factors: 5, iterations: 15, learning_rate: 0.001, regularization: 10, neg_prop: 15\n"
     ]
    },
    {
     "data": {
      "application/vnd.jupyter.widget-view+json": {
       "model_id": "f4b9b2b97ac54afeaee867bb6e5bb621",
       "version_major": 2,
       "version_minor": 0
      },
      "text/plain": [
       "  0%|          | 0/15 [00:00<?, ?it/s]"
      ]
     },
     "metadata": {},
     "output_type": "display_data"
    },
    {
     "name": "stdout",
     "output_type": "stream",
     "text": [
      "--- 2.24979829788208 seconds ---\n",
      "MRR@100 = 0.0000\n",
      "factors: 5, iterations: 15, learning_rate: 0.001, regularization: 10, neg_prop: 30\n"
     ]
    },
    {
     "data": {
      "application/vnd.jupyter.widget-view+json": {
       "model_id": "003d8b430d4242eb8e83849a64f009d8",
       "version_major": 2,
       "version_minor": 0
      },
      "text/plain": [
       "  0%|          | 0/15 [00:00<?, ?it/s]"
      ]
     },
     "metadata": {},
     "output_type": "display_data"
    },
    {
     "name": "stdout",
     "output_type": "stream",
     "text": [
      "--- 2.2753257751464844 seconds ---\n",
      "MRR@100 = 0.0000\n",
      "factors: 5, iterations: 15, learning_rate: 0.001, regularization: 10, neg_prop: 50\n"
     ]
    },
    {
     "data": {
      "application/vnd.jupyter.widget-view+json": {
       "model_id": "63bcccad824d43648b10f0b5d5eca2b1",
       "version_major": 2,
       "version_minor": 0
      },
      "text/plain": [
       "  0%|          | 0/15 [00:00<?, ?it/s]"
      ]
     },
     "metadata": {},
     "output_type": "display_data"
    },
    {
     "name": "stdout",
     "output_type": "stream",
     "text": [
      "--- 2.255009174346924 seconds ---\n",
      "MRR@100 = 0.0000\n",
      "factors: 5, iterations: 15, learning_rate: 0.001, regularization: 100, neg_prop: 5\n"
     ]
    },
    {
     "data": {
      "application/vnd.jupyter.widget-view+json": {
       "model_id": "b1ff563aa8c945888f8ffb7a0de8a4cc",
       "version_major": 2,
       "version_minor": 0
      },
      "text/plain": [
       "  0%|          | 0/15 [00:00<?, ?it/s]"
      ]
     },
     "metadata": {},
     "output_type": "display_data"
    },
    {
     "name": "stdout",
     "output_type": "stream",
     "text": [
      "--- 2.2620649337768555 seconds ---\n",
      "MRR@100 = 0.0000\n",
      "factors: 5, iterations: 15, learning_rate: 0.001, regularization: 100, neg_prop: 15\n"
     ]
    },
    {
     "data": {
      "application/vnd.jupyter.widget-view+json": {
       "model_id": "3c37e3ba7de34621ae89ec2ec1372134",
       "version_major": 2,
       "version_minor": 0
      },
      "text/plain": [
       "  0%|          | 0/15 [00:00<?, ?it/s]"
      ]
     },
     "metadata": {},
     "output_type": "display_data"
    },
    {
     "name": "stdout",
     "output_type": "stream",
     "text": [
      "--- 2.2712087631225586 seconds ---\n",
      "MRR@100 = 0.0000\n",
      "factors: 5, iterations: 15, learning_rate: 0.001, regularization: 100, neg_prop: 30\n"
     ]
    },
    {
     "data": {
      "application/vnd.jupyter.widget-view+json": {
       "model_id": "1dd2ae2e600946fbbd187a4510deb5e4",
       "version_major": 2,
       "version_minor": 0
      },
      "text/plain": [
       "  0%|          | 0/15 [00:00<?, ?it/s]"
      ]
     },
     "metadata": {},
     "output_type": "display_data"
    },
    {
     "name": "stdout",
     "output_type": "stream",
     "text": [
      "--- 2.2292490005493164 seconds ---\n",
      "MRR@100 = 0.0000\n",
      "factors: 5, iterations: 15, learning_rate: 0.001, regularization: 100, neg_prop: 50\n"
     ]
    },
    {
     "data": {
      "application/vnd.jupyter.widget-view+json": {
       "model_id": "4f08b7ff6dfc47e4a66335387c628779",
       "version_major": 2,
       "version_minor": 0
      },
      "text/plain": [
       "  0%|          | 0/15 [00:00<?, ?it/s]"
      ]
     },
     "metadata": {},
     "output_type": "display_data"
    },
    {
     "name": "stdout",
     "output_type": "stream",
     "text": [
      "--- 2.2699809074401855 seconds ---\n",
      "MRR@100 = 0.0000\n",
      "factors: 5, iterations: 15, learning_rate: 0.01, regularization: 0.001, neg_prop: 5\n"
     ]
    },
    {
     "data": {
      "application/vnd.jupyter.widget-view+json": {
       "model_id": "bd0ae05aa13e4536a9c9ad5bee678fc4",
       "version_major": 2,
       "version_minor": 0
      },
      "text/plain": [
       "  0%|          | 0/15 [00:00<?, ?it/s]"
      ]
     },
     "metadata": {},
     "output_type": "display_data"
    },
    {
     "name": "stdout",
     "output_type": "stream",
     "text": [
      "--- 2.2575571537017822 seconds ---\n",
      "MRR@100 = 0.0000\n",
      "factors: 5, iterations: 15, learning_rate: 0.01, regularization: 0.001, neg_prop: 15\n"
     ]
    },
    {
     "data": {
      "application/vnd.jupyter.widget-view+json": {
       "model_id": "6391607f76be486e8a4152dd8a231f2a",
       "version_major": 2,
       "version_minor": 0
      },
      "text/plain": [
       "  0%|          | 0/15 [00:00<?, ?it/s]"
      ]
     },
     "metadata": {},
     "output_type": "display_data"
    },
    {
     "name": "stdout",
     "output_type": "stream",
     "text": [
      "--- 2.2131359577178955 seconds ---\n",
      "MRR@100 = 0.0000\n",
      "factors: 5, iterations: 15, learning_rate: 0.01, regularization: 0.001, neg_prop: 30\n"
     ]
    },
    {
     "data": {
      "application/vnd.jupyter.widget-view+json": {
       "model_id": "9fe3a60ee6a941f8bc7fb71a545a0584",
       "version_major": 2,
       "version_minor": 0
      },
      "text/plain": [
       "  0%|          | 0/15 [00:00<?, ?it/s]"
      ]
     },
     "metadata": {},
     "output_type": "display_data"
    },
    {
     "name": "stdout",
     "output_type": "stream",
     "text": [
      "--- 2.324105978012085 seconds ---\n",
      "MRR@100 = 0.0000\n",
      "factors: 5, iterations: 15, learning_rate: 0.01, regularization: 0.001, neg_prop: 50\n"
     ]
    },
    {
     "data": {
      "application/vnd.jupyter.widget-view+json": {
       "model_id": "d43ecd98a15f4e49ad4aa6b4248f6682",
       "version_major": 2,
       "version_minor": 0
      },
      "text/plain": [
       "  0%|          | 0/15 [00:00<?, ?it/s]"
      ]
     },
     "metadata": {},
     "output_type": "display_data"
    },
    {
     "name": "stdout",
     "output_type": "stream",
     "text": [
      "--- 2.3021891117095947 seconds ---\n",
      "MRR@100 = 0.0000\n",
      "factors: 5, iterations: 15, learning_rate: 0.01, regularization: 0.01, neg_prop: 5\n"
     ]
    },
    {
     "data": {
      "application/vnd.jupyter.widget-view+json": {
       "model_id": "c3b9b6e8d8ac45069448c78638636862",
       "version_major": 2,
       "version_minor": 0
      },
      "text/plain": [
       "  0%|          | 0/15 [00:00<?, ?it/s]"
      ]
     },
     "metadata": {},
     "output_type": "display_data"
    },
    {
     "name": "stdout",
     "output_type": "stream",
     "text": [
      "--- 2.3107519149780273 seconds ---\n",
      "MRR@100 = 0.0000\n",
      "factors: 5, iterations: 15, learning_rate: 0.01, regularization: 0.01, neg_prop: 15\n"
     ]
    },
    {
     "data": {
      "application/vnd.jupyter.widget-view+json": {
       "model_id": "5f72f0281b63418abd93ea8e9c3b8d7b",
       "version_major": 2,
       "version_minor": 0
      },
      "text/plain": [
       "  0%|          | 0/15 [00:00<?, ?it/s]"
      ]
     },
     "metadata": {},
     "output_type": "display_data"
    },
    {
     "name": "stdout",
     "output_type": "stream",
     "text": [
      "--- 2.2338879108428955 seconds ---\n",
      "MRR@100 = 0.0000\n",
      "factors: 5, iterations: 15, learning_rate: 0.01, regularization: 0.01, neg_prop: 30\n"
     ]
    },
    {
     "data": {
      "application/vnd.jupyter.widget-view+json": {
       "model_id": "50d6d77f64b0486ba4bd4ebdae6b0ac4",
       "version_major": 2,
       "version_minor": 0
      },
      "text/plain": [
       "  0%|          | 0/15 [00:00<?, ?it/s]"
      ]
     },
     "metadata": {},
     "output_type": "display_data"
    },
    {
     "name": "stdout",
     "output_type": "stream",
     "text": [
      "--- 2.268909215927124 seconds ---\n",
      "MRR@100 = 0.0000\n",
      "factors: 5, iterations: 15, learning_rate: 0.01, regularization: 0.01, neg_prop: 50\n"
     ]
    },
    {
     "data": {
      "application/vnd.jupyter.widget-view+json": {
       "model_id": "662474f78c4a493a8fa3b42b6582da73",
       "version_major": 2,
       "version_minor": 0
      },
      "text/plain": [
       "  0%|          | 0/15 [00:00<?, ?it/s]"
      ]
     },
     "metadata": {},
     "output_type": "display_data"
    },
    {
     "name": "stdout",
     "output_type": "stream",
     "text": [
      "--- 2.2608559131622314 seconds ---\n",
      "MRR@100 = 0.0000\n",
      "factors: 5, iterations: 15, learning_rate: 0.01, regularization: 0.1, neg_prop: 5\n"
     ]
    },
    {
     "data": {
      "application/vnd.jupyter.widget-view+json": {
       "model_id": "7e9c034236cb4754bdbcb0a645a1da15",
       "version_major": 2,
       "version_minor": 0
      },
      "text/plain": [
       "  0%|          | 0/15 [00:00<?, ?it/s]"
      ]
     },
     "metadata": {},
     "output_type": "display_data"
    },
    {
     "name": "stdout",
     "output_type": "stream",
     "text": [
      "--- 2.2637779712677 seconds ---\n",
      "MRR@100 = 0.0000\n",
      "factors: 5, iterations: 15, learning_rate: 0.01, regularization: 0.1, neg_prop: 15\n"
     ]
    },
    {
     "data": {
      "application/vnd.jupyter.widget-view+json": {
       "model_id": "53fd49f402c344818e8c66ff421d0f1e",
       "version_major": 2,
       "version_minor": 0
      },
      "text/plain": [
       "  0%|          | 0/15 [00:00<?, ?it/s]"
      ]
     },
     "metadata": {},
     "output_type": "display_data"
    },
    {
     "name": "stdout",
     "output_type": "stream",
     "text": [
      "--- 2.393148899078369 seconds ---\n",
      "MRR@100 = 0.0000\n",
      "factors: 5, iterations: 15, learning_rate: 0.01, regularization: 0.1, neg_prop: 30\n"
     ]
    },
    {
     "data": {
      "application/vnd.jupyter.widget-view+json": {
       "model_id": "52b5a707057649ddb01fd063d6af1100",
       "version_major": 2,
       "version_minor": 0
      },
      "text/plain": [
       "  0%|          | 0/15 [00:00<?, ?it/s]"
      ]
     },
     "metadata": {},
     "output_type": "display_data"
    },
    {
     "name": "stdout",
     "output_type": "stream",
     "text": [
      "--- 2.292226791381836 seconds ---\n",
      "MRR@100 = 0.0000\n",
      "factors: 5, iterations: 15, learning_rate: 0.01, regularization: 0.1, neg_prop: 50\n"
     ]
    },
    {
     "data": {
      "application/vnd.jupyter.widget-view+json": {
       "model_id": "8c1136f8497d4250b84077f0b89c70da",
       "version_major": 2,
       "version_minor": 0
      },
      "text/plain": [
       "  0%|          | 0/15 [00:00<?, ?it/s]"
      ]
     },
     "metadata": {},
     "output_type": "display_data"
    },
    {
     "name": "stdout",
     "output_type": "stream",
     "text": [
      "--- 2.3085079193115234 seconds ---\n",
      "MRR@100 = 0.0000\n",
      "factors: 5, iterations: 15, learning_rate: 0.01, regularization: 1, neg_prop: 5\n"
     ]
    },
    {
     "data": {
      "application/vnd.jupyter.widget-view+json": {
       "model_id": "c1cc1b91b2724495a0bf7208e6ad07b4",
       "version_major": 2,
       "version_minor": 0
      },
      "text/plain": [
       "  0%|          | 0/15 [00:00<?, ?it/s]"
      ]
     },
     "metadata": {},
     "output_type": "display_data"
    },
    {
     "name": "stdout",
     "output_type": "stream",
     "text": [
      "--- 2.262653112411499 seconds ---\n",
      "MRR@100 = 0.0000\n",
      "factors: 5, iterations: 15, learning_rate: 0.01, regularization: 1, neg_prop: 15\n"
     ]
    },
    {
     "data": {
      "application/vnd.jupyter.widget-view+json": {
       "model_id": "c69d6017bc2545ae85b77273c74e0034",
       "version_major": 2,
       "version_minor": 0
      },
      "text/plain": [
       "  0%|          | 0/15 [00:00<?, ?it/s]"
      ]
     },
     "metadata": {},
     "output_type": "display_data"
    },
    {
     "name": "stdout",
     "output_type": "stream",
     "text": [
      "--- 2.2374210357666016 seconds ---\n",
      "MRR@100 = 0.0000\n",
      "factors: 5, iterations: 15, learning_rate: 0.01, regularization: 1, neg_prop: 30\n"
     ]
    },
    {
     "data": {
      "application/vnd.jupyter.widget-view+json": {
       "model_id": "95ab1041501a45c5b6c23b1a369f82fc",
       "version_major": 2,
       "version_minor": 0
      },
      "text/plain": [
       "  0%|          | 0/15 [00:00<?, ?it/s]"
      ]
     },
     "metadata": {},
     "output_type": "display_data"
    },
    {
     "name": "stdout",
     "output_type": "stream",
     "text": [
      "--- 2.2444491386413574 seconds ---\n",
      "MRR@100 = 0.0000\n",
      "factors: 5, iterations: 15, learning_rate: 0.01, regularization: 1, neg_prop: 50\n"
     ]
    },
    {
     "data": {
      "application/vnd.jupyter.widget-view+json": {
       "model_id": "2fd0001f21da48e78db6cabc06eb8fe5",
       "version_major": 2,
       "version_minor": 0
      },
      "text/plain": [
       "  0%|          | 0/15 [00:00<?, ?it/s]"
      ]
     },
     "metadata": {},
     "output_type": "display_data"
    },
    {
     "name": "stdout",
     "output_type": "stream",
     "text": [
      "--- 2.2347371578216553 seconds ---\n",
      "MRR@100 = 0.0000\n",
      "factors: 5, iterations: 15, learning_rate: 0.01, regularization: 10, neg_prop: 5\n"
     ]
    },
    {
     "data": {
      "application/vnd.jupyter.widget-view+json": {
       "model_id": "809915ad34a04d06bb6d2939f3c71ed2",
       "version_major": 2,
       "version_minor": 0
      },
      "text/plain": [
       "  0%|          | 0/15 [00:00<?, ?it/s]"
      ]
     },
     "metadata": {},
     "output_type": "display_data"
    },
    {
     "name": "stdout",
     "output_type": "stream",
     "text": [
      "--- 2.225562810897827 seconds ---\n",
      "MRR@100 = 0.0000\n",
      "factors: 5, iterations: 15, learning_rate: 0.01, regularization: 10, neg_prop: 15\n"
     ]
    },
    {
     "data": {
      "application/vnd.jupyter.widget-view+json": {
       "model_id": "388b82d8af864510a052a714d07bf541",
       "version_major": 2,
       "version_minor": 0
      },
      "text/plain": [
       "  0%|          | 0/15 [00:00<?, ?it/s]"
      ]
     },
     "metadata": {},
     "output_type": "display_data"
    },
    {
     "name": "stdout",
     "output_type": "stream",
     "text": [
      "--- 2.313148021697998 seconds ---\n",
      "MRR@100 = 0.0000\n",
      "factors: 5, iterations: 15, learning_rate: 0.01, regularization: 10, neg_prop: 30\n"
     ]
    },
    {
     "data": {
      "application/vnd.jupyter.widget-view+json": {
       "model_id": "5fbf5405b77f49a886ba7c87f96b131a",
       "version_major": 2,
       "version_minor": 0
      },
      "text/plain": [
       "  0%|          | 0/15 [00:00<?, ?it/s]"
      ]
     },
     "metadata": {},
     "output_type": "display_data"
    },
    {
     "name": "stdout",
     "output_type": "stream",
     "text": [
      "--- 2.299312114715576 seconds ---\n",
      "MRR@100 = 0.0000\n",
      "factors: 5, iterations: 15, learning_rate: 0.01, regularization: 10, neg_prop: 50\n"
     ]
    },
    {
     "data": {
      "application/vnd.jupyter.widget-view+json": {
       "model_id": "58ceece225bc45938323f13afe6b8170",
       "version_major": 2,
       "version_minor": 0
      },
      "text/plain": [
       "  0%|          | 0/15 [00:00<?, ?it/s]"
      ]
     },
     "metadata": {},
     "output_type": "display_data"
    },
    {
     "name": "stdout",
     "output_type": "stream",
     "text": [
      "--- 2.24556303024292 seconds ---\n",
      "MRR@100 = 0.0000\n",
      "factors: 5, iterations: 15, learning_rate: 0.01, regularization: 100, neg_prop: 5\n"
     ]
    },
    {
     "data": {
      "application/vnd.jupyter.widget-view+json": {
       "model_id": "ffcdc5d5f6854df9bac957e2af276e36",
       "version_major": 2,
       "version_minor": 0
      },
      "text/plain": [
       "  0%|          | 0/15 [00:00<?, ?it/s]"
      ]
     },
     "metadata": {},
     "output_type": "display_data"
    },
    {
     "name": "stdout",
     "output_type": "stream",
     "text": [
      "--- 2.3102869987487793 seconds ---\n",
      "MRR@100 = 0.0000\n",
      "factors: 5, iterations: 15, learning_rate: 0.01, regularization: 100, neg_prop: 15\n"
     ]
    },
    {
     "data": {
      "application/vnd.jupyter.widget-view+json": {
       "model_id": "27c428130290495c8cc5ec4bef2a3f9b",
       "version_major": 2,
       "version_minor": 0
      },
      "text/plain": [
       "  0%|          | 0/15 [00:00<?, ?it/s]"
      ]
     },
     "metadata": {},
     "output_type": "display_data"
    },
    {
     "name": "stdout",
     "output_type": "stream",
     "text": [
      "--- 2.2849438190460205 seconds ---\n",
      "MRR@100 = 0.0000\n",
      "factors: 5, iterations: 15, learning_rate: 0.01, regularization: 100, neg_prop: 30\n"
     ]
    },
    {
     "data": {
      "application/vnd.jupyter.widget-view+json": {
       "model_id": "b053248084eb4990bf3418069f83e266",
       "version_major": 2,
       "version_minor": 0
      },
      "text/plain": [
       "  0%|          | 0/15 [00:00<?, ?it/s]"
      ]
     },
     "metadata": {},
     "output_type": "display_data"
    },
    {
     "name": "stdout",
     "output_type": "stream",
     "text": [
      "--- 2.237792730331421 seconds ---\n",
      "MRR@100 = 0.0000\n",
      "factors: 5, iterations: 15, learning_rate: 0.01, regularization: 100, neg_prop: 50\n"
     ]
    },
    {
     "data": {
      "application/vnd.jupyter.widget-view+json": {
       "model_id": "06c48cb0d04e4337830b4b5cffb143e3",
       "version_major": 2,
       "version_minor": 0
      },
      "text/plain": [
       "  0%|          | 0/15 [00:00<?, ?it/s]"
      ]
     },
     "metadata": {},
     "output_type": "display_data"
    },
    {
     "name": "stdout",
     "output_type": "stream",
     "text": [
      "--- 2.2618181705474854 seconds ---\n",
      "MRR@100 = 0.0000\n",
      "factors: 5, iterations: 15, learning_rate: 0.1, regularization: 0.001, neg_prop: 5\n"
     ]
    },
    {
     "data": {
      "application/vnd.jupyter.widget-view+json": {
       "model_id": "fe5ca1d7cf864837bb853d322740be5f",
       "version_major": 2,
       "version_minor": 0
      },
      "text/plain": [
       "  0%|          | 0/15 [00:00<?, ?it/s]"
      ]
     },
     "metadata": {},
     "output_type": "display_data"
    },
    {
     "name": "stdout",
     "output_type": "stream",
     "text": [
      "--- 2.3334426879882812 seconds ---\n",
      "MRR@100 = 0.0000\n",
      "factors: 5, iterations: 15, learning_rate: 0.1, regularization: 0.001, neg_prop: 15\n"
     ]
    },
    {
     "data": {
      "application/vnd.jupyter.widget-view+json": {
       "model_id": "297cfdb14c0e4bfbaef4e93bb41e5b0d",
       "version_major": 2,
       "version_minor": 0
      },
      "text/plain": [
       "  0%|          | 0/15 [00:00<?, ?it/s]"
      ]
     },
     "metadata": {},
     "output_type": "display_data"
    },
    {
     "name": "stdout",
     "output_type": "stream",
     "text": [
      "--- 2.229449987411499 seconds ---\n",
      "MRR@100 = 0.0000\n",
      "factors: 5, iterations: 15, learning_rate: 0.1, regularization: 0.001, neg_prop: 30\n"
     ]
    },
    {
     "data": {
      "application/vnd.jupyter.widget-view+json": {
       "model_id": "ce709e574f0b48d0aa49a6fef74fbb48",
       "version_major": 2,
       "version_minor": 0
      },
      "text/plain": [
       "  0%|          | 0/15 [00:00<?, ?it/s]"
      ]
     },
     "metadata": {},
     "output_type": "display_data"
    },
    {
     "name": "stdout",
     "output_type": "stream",
     "text": [
      "--- 2.2583742141723633 seconds ---\n",
      "MRR@100 = 0.0000\n",
      "factors: 5, iterations: 15, learning_rate: 0.1, regularization: 0.001, neg_prop: 50\n"
     ]
    },
    {
     "data": {
      "application/vnd.jupyter.widget-view+json": {
       "model_id": "747a8bab0c7344a48f1cc0f3d6b44423",
       "version_major": 2,
       "version_minor": 0
      },
      "text/plain": [
       "  0%|          | 0/15 [00:00<?, ?it/s]"
      ]
     },
     "metadata": {},
     "output_type": "display_data"
    },
    {
     "name": "stdout",
     "output_type": "stream",
     "text": [
      "--- 2.258871078491211 seconds ---\n",
      "MRR@100 = 0.0000\n",
      "factors: 5, iterations: 15, learning_rate: 0.1, regularization: 0.01, neg_prop: 5\n"
     ]
    },
    {
     "data": {
      "application/vnd.jupyter.widget-view+json": {
       "model_id": "85ff71ee7db648f8a32fe6d3fbc0fae8",
       "version_major": 2,
       "version_minor": 0
      },
      "text/plain": [
       "  0%|          | 0/15 [00:00<?, ?it/s]"
      ]
     },
     "metadata": {},
     "output_type": "display_data"
    },
    {
     "name": "stdout",
     "output_type": "stream",
     "text": [
      "--- 2.2457170486450195 seconds ---\n",
      "MRR@100 = 0.0000\n",
      "factors: 5, iterations: 15, learning_rate: 0.1, regularization: 0.01, neg_prop: 15\n"
     ]
    },
    {
     "data": {
      "application/vnd.jupyter.widget-view+json": {
       "model_id": "b65e857dc23f435ab8db68ea9c98e4c4",
       "version_major": 2,
       "version_minor": 0
      },
      "text/plain": [
       "  0%|          | 0/15 [00:00<?, ?it/s]"
      ]
     },
     "metadata": {},
     "output_type": "display_data"
    },
    {
     "name": "stdout",
     "output_type": "stream",
     "text": [
      "--- 2.2518458366394043 seconds ---\n",
      "MRR@100 = 0.0000\n",
      "factors: 5, iterations: 15, learning_rate: 0.1, regularization: 0.01, neg_prop: 30\n"
     ]
    },
    {
     "data": {
      "application/vnd.jupyter.widget-view+json": {
       "model_id": "c5ddb4a42d46431c9f978a9a6a628695",
       "version_major": 2,
       "version_minor": 0
      },
      "text/plain": [
       "  0%|          | 0/15 [00:00<?, ?it/s]"
      ]
     },
     "metadata": {},
     "output_type": "display_data"
    },
    {
     "name": "stdout",
     "output_type": "stream",
     "text": [
      "--- 2.23677921295166 seconds ---\n",
      "MRR@100 = 0.0000\n",
      "factors: 5, iterations: 15, learning_rate: 0.1, regularization: 0.01, neg_prop: 50\n"
     ]
    },
    {
     "data": {
      "application/vnd.jupyter.widget-view+json": {
       "model_id": "20e101bbf63146318e08b1965d42f6d8",
       "version_major": 2,
       "version_minor": 0
      },
      "text/plain": [
       "  0%|          | 0/15 [00:00<?, ?it/s]"
      ]
     },
     "metadata": {},
     "output_type": "display_data"
    },
    {
     "name": "stdout",
     "output_type": "stream",
     "text": [
      "--- 2.4376091957092285 seconds ---\n",
      "MRR@100 = 0.0000\n",
      "factors: 5, iterations: 15, learning_rate: 0.1, regularization: 0.1, neg_prop: 5\n"
     ]
    },
    {
     "data": {
      "application/vnd.jupyter.widget-view+json": {
       "model_id": "3cd3692da9014be399db253cf7e284de",
       "version_major": 2,
       "version_minor": 0
      },
      "text/plain": [
       "  0%|          | 0/15 [00:00<?, ?it/s]"
      ]
     },
     "metadata": {},
     "output_type": "display_data"
    },
    {
     "name": "stdout",
     "output_type": "stream",
     "text": [
      "--- 2.3425378799438477 seconds ---\n",
      "MRR@100 = 0.0000\n",
      "factors: 5, iterations: 15, learning_rate: 0.1, regularization: 0.1, neg_prop: 15\n"
     ]
    },
    {
     "data": {
      "application/vnd.jupyter.widget-view+json": {
       "model_id": "94d28df192c54a26bbe6e3c62052a8b5",
       "version_major": 2,
       "version_minor": 0
      },
      "text/plain": [
       "  0%|          | 0/15 [00:00<?, ?it/s]"
      ]
     },
     "metadata": {},
     "output_type": "display_data"
    },
    {
     "name": "stdout",
     "output_type": "stream",
     "text": [
      "--- 2.3186497688293457 seconds ---\n",
      "MRR@100 = 0.0000\n",
      "factors: 5, iterations: 15, learning_rate: 0.1, regularization: 0.1, neg_prop: 30\n"
     ]
    },
    {
     "data": {
      "application/vnd.jupyter.widget-view+json": {
       "model_id": "3bb4ee0d0fd74a17a94ceeb119acbe5e",
       "version_major": 2,
       "version_minor": 0
      },
      "text/plain": [
       "  0%|          | 0/15 [00:00<?, ?it/s]"
      ]
     },
     "metadata": {},
     "output_type": "display_data"
    },
    {
     "name": "stdout",
     "output_type": "stream",
     "text": [
      "--- 2.3923683166503906 seconds ---\n",
      "MRR@100 = 0.0000\n",
      "factors: 5, iterations: 15, learning_rate: 0.1, regularization: 0.1, neg_prop: 50\n"
     ]
    },
    {
     "data": {
      "application/vnd.jupyter.widget-view+json": {
       "model_id": "67d0f9e4ca234efa9e5865e35257c097",
       "version_major": 2,
       "version_minor": 0
      },
      "text/plain": [
       "  0%|          | 0/15 [00:00<?, ?it/s]"
      ]
     },
     "metadata": {},
     "output_type": "display_data"
    },
    {
     "name": "stdout",
     "output_type": "stream",
     "text": [
      "--- 2.318831205368042 seconds ---\n",
      "MRR@100 = 0.0000\n",
      "factors: 5, iterations: 15, learning_rate: 0.1, regularization: 1, neg_prop: 5\n"
     ]
    },
    {
     "data": {
      "application/vnd.jupyter.widget-view+json": {
       "model_id": "3a7cf8ca25b54641b501ae46d21956c4",
       "version_major": 2,
       "version_minor": 0
      },
      "text/plain": [
       "  0%|          | 0/15 [00:00<?, ?it/s]"
      ]
     },
     "metadata": {},
     "output_type": "display_data"
    },
    {
     "name": "stdout",
     "output_type": "stream",
     "text": [
      "--- 2.29423189163208 seconds ---\n",
      "MRR@100 = 0.0000\n",
      "factors: 5, iterations: 15, learning_rate: 0.1, regularization: 1, neg_prop: 15\n"
     ]
    },
    {
     "data": {
      "application/vnd.jupyter.widget-view+json": {
       "model_id": "b2462b8676a54bda9023fb7b59c97996",
       "version_major": 2,
       "version_minor": 0
      },
      "text/plain": [
       "  0%|          | 0/15 [00:00<?, ?it/s]"
      ]
     },
     "metadata": {},
     "output_type": "display_data"
    },
    {
     "name": "stdout",
     "output_type": "stream",
     "text": [
      "--- 2.215358018875122 seconds ---\n",
      "MRR@100 = 0.0000\n",
      "factors: 5, iterations: 15, learning_rate: 0.1, regularization: 1, neg_prop: 30\n"
     ]
    },
    {
     "data": {
      "application/vnd.jupyter.widget-view+json": {
       "model_id": "fb6dccc384fe49289529724aa2e84c4b",
       "version_major": 2,
       "version_minor": 0
      },
      "text/plain": [
       "  0%|          | 0/15 [00:00<?, ?it/s]"
      ]
     },
     "metadata": {},
     "output_type": "display_data"
    },
    {
     "name": "stdout",
     "output_type": "stream",
     "text": [
      "--- 2.2668447494506836 seconds ---\n",
      "MRR@100 = 0.0000\n",
      "factors: 5, iterations: 15, learning_rate: 0.1, regularization: 1, neg_prop: 50\n"
     ]
    },
    {
     "data": {
      "application/vnd.jupyter.widget-view+json": {
       "model_id": "538f7b4e5150419d997637369fdbbb96",
       "version_major": 2,
       "version_minor": 0
      },
      "text/plain": [
       "  0%|          | 0/15 [00:00<?, ?it/s]"
      ]
     },
     "metadata": {},
     "output_type": "display_data"
    },
    {
     "name": "stdout",
     "output_type": "stream",
     "text": [
      "--- 2.384545087814331 seconds ---\n",
      "MRR@100 = 0.0000\n",
      "factors: 5, iterations: 15, learning_rate: 0.1, regularization: 10, neg_prop: 5\n"
     ]
    },
    {
     "data": {
      "application/vnd.jupyter.widget-view+json": {
       "model_id": "a305797bb9b14d268e0f50640e7bf41e",
       "version_major": 2,
       "version_minor": 0
      },
      "text/plain": [
       "  0%|          | 0/15 [00:00<?, ?it/s]"
      ]
     },
     "metadata": {},
     "output_type": "display_data"
    },
    {
     "name": "stdout",
     "output_type": "stream",
     "text": [
      "--- 2.315943956375122 seconds ---\n",
      "MRR@100 = 0.0000\n",
      "factors: 5, iterations: 15, learning_rate: 0.1, regularization: 10, neg_prop: 15\n"
     ]
    },
    {
     "data": {
      "application/vnd.jupyter.widget-view+json": {
       "model_id": "3a54e530027847d49fc4c314b889bfc8",
       "version_major": 2,
       "version_minor": 0
      },
      "text/plain": [
       "  0%|          | 0/15 [00:00<?, ?it/s]"
      ]
     },
     "metadata": {},
     "output_type": "display_data"
    },
    {
     "name": "stdout",
     "output_type": "stream",
     "text": [
      "--- 2.2319698333740234 seconds ---\n",
      "MRR@100 = 0.0000\n",
      "factors: 5, iterations: 15, learning_rate: 0.1, regularization: 10, neg_prop: 30\n"
     ]
    },
    {
     "data": {
      "application/vnd.jupyter.widget-view+json": {
       "model_id": "d91275d691334b74a13af257c0fa67bb",
       "version_major": 2,
       "version_minor": 0
      },
      "text/plain": [
       "  0%|          | 0/15 [00:00<?, ?it/s]"
      ]
     },
     "metadata": {},
     "output_type": "display_data"
    },
    {
     "name": "stdout",
     "output_type": "stream",
     "text": [
      "--- 2.422010898590088 seconds ---\n",
      "MRR@100 = 0.0000\n",
      "factors: 5, iterations: 15, learning_rate: 0.1, regularization: 10, neg_prop: 50\n"
     ]
    },
    {
     "data": {
      "application/vnd.jupyter.widget-view+json": {
       "model_id": "9f44100b3e6245ffa372eefd34f6ea82",
       "version_major": 2,
       "version_minor": 0
      },
      "text/plain": [
       "  0%|          | 0/15 [00:00<?, ?it/s]"
      ]
     },
     "metadata": {},
     "output_type": "display_data"
    },
    {
     "name": "stdout",
     "output_type": "stream",
     "text": [
      "--- 2.322640895843506 seconds ---\n",
      "MRR@100 = 0.0000\n",
      "factors: 5, iterations: 15, learning_rate: 0.1, regularization: 100, neg_prop: 5\n"
     ]
    },
    {
     "data": {
      "application/vnd.jupyter.widget-view+json": {
       "model_id": "a5806789fea94ced89bb02a599bd88ee",
       "version_major": 2,
       "version_minor": 0
      },
      "text/plain": [
       "  0%|          | 0/15 [00:00<?, ?it/s]"
      ]
     },
     "metadata": {},
     "output_type": "display_data"
    },
    {
     "name": "stdout",
     "output_type": "stream",
     "text": [
      "--- 2.242173194885254 seconds ---\n",
      "MRR@100 = 0.0000\n",
      "factors: 5, iterations: 15, learning_rate: 0.1, regularization: 100, neg_prop: 15\n"
     ]
    },
    {
     "data": {
      "application/vnd.jupyter.widget-view+json": {
       "model_id": "981ac7c82d6f46a681a1d6e05e627545",
       "version_major": 2,
       "version_minor": 0
      },
      "text/plain": [
       "  0%|          | 0/15 [00:00<?, ?it/s]"
      ]
     },
     "metadata": {},
     "output_type": "display_data"
    },
    {
     "name": "stdout",
     "output_type": "stream",
     "text": [
      "--- 2.281094789505005 seconds ---\n",
      "MRR@100 = 0.0000\n",
      "factors: 5, iterations: 15, learning_rate: 0.1, regularization: 100, neg_prop: 30\n"
     ]
    },
    {
     "data": {
      "application/vnd.jupyter.widget-view+json": {
       "model_id": "33b7775b255f4c5d955d777d294b33ed",
       "version_major": 2,
       "version_minor": 0
      },
      "text/plain": [
       "  0%|          | 0/15 [00:00<?, ?it/s]"
      ]
     },
     "metadata": {},
     "output_type": "display_data"
    },
    {
     "name": "stdout",
     "output_type": "stream",
     "text": [
      "--- 2.5331053733825684 seconds ---\n",
      "MRR@100 = 0.0000\n",
      "factors: 5, iterations: 15, learning_rate: 0.1, regularization: 100, neg_prop: 50\n"
     ]
    },
    {
     "data": {
      "application/vnd.jupyter.widget-view+json": {
       "model_id": "d8a34efa80dc4e93a133847c607dd0a7",
       "version_major": 2,
       "version_minor": 0
      },
      "text/plain": [
       "  0%|          | 0/15 [00:00<?, ?it/s]"
      ]
     },
     "metadata": {},
     "output_type": "display_data"
    },
    {
     "name": "stdout",
     "output_type": "stream",
     "text": [
      "--- 2.3257641792297363 seconds ---\n",
      "MRR@100 = 0.0000\n",
      "factors: 5, iterations: 15, learning_rate: 1, regularization: 0.001, neg_prop: 5\n"
     ]
    },
    {
     "data": {
      "application/vnd.jupyter.widget-view+json": {
       "model_id": "8f8128deb54644b3803de7c43c5f42ec",
       "version_major": 2,
       "version_minor": 0
      },
      "text/plain": [
       "  0%|          | 0/15 [00:00<?, ?it/s]"
      ]
     },
     "metadata": {},
     "output_type": "display_data"
    },
    {
     "name": "stdout",
     "output_type": "stream",
     "text": [
      "--- 2.2872750759124756 seconds ---\n",
      "MRR@100 = 0.0029\n",
      "factors: 5, iterations: 15, learning_rate: 1, regularization: 0.001, neg_prop: 15\n"
     ]
    },
    {
     "data": {
      "application/vnd.jupyter.widget-view+json": {
       "model_id": "c9afed918f9948d5ae21e47698c9aa65",
       "version_major": 2,
       "version_minor": 0
      },
      "text/plain": [
       "  0%|          | 0/15 [00:00<?, ?it/s]"
      ]
     },
     "metadata": {},
     "output_type": "display_data"
    },
    {
     "name": "stdout",
     "output_type": "stream",
     "text": [
      "--- 2.2579612731933594 seconds ---\n",
      "MRR@100 = 0.0018\n",
      "factors: 5, iterations: 15, learning_rate: 1, regularization: 0.001, neg_prop: 30\n"
     ]
    },
    {
     "data": {
      "application/vnd.jupyter.widget-view+json": {
       "model_id": "104545c2af4149e9a7f492394d041de1",
       "version_major": 2,
       "version_minor": 0
      },
      "text/plain": [
       "  0%|          | 0/15 [00:00<?, ?it/s]"
      ]
     },
     "metadata": {},
     "output_type": "display_data"
    },
    {
     "name": "stdout",
     "output_type": "stream",
     "text": [
      "--- 2.2508790493011475 seconds ---\n",
      "MRR@100 = 0.0018\n",
      "factors: 5, iterations: 15, learning_rate: 1, regularization: 0.001, neg_prop: 50\n"
     ]
    },
    {
     "data": {
      "application/vnd.jupyter.widget-view+json": {
       "model_id": "be2d785fb846491195fcc0ae83d4dbcc",
       "version_major": 2,
       "version_minor": 0
      },
      "text/plain": [
       "  0%|          | 0/15 [00:00<?, ?it/s]"
      ]
     },
     "metadata": {},
     "output_type": "display_data"
    },
    {
     "name": "stdout",
     "output_type": "stream",
     "text": [
      "--- 2.201517105102539 seconds ---\n",
      "MRR@100 = 0.0018\n",
      "factors: 5, iterations: 15, learning_rate: 1, regularization: 0.01, neg_prop: 5\n"
     ]
    },
    {
     "data": {
      "application/vnd.jupyter.widget-view+json": {
       "model_id": "853a18887a214402821ab2878981f766",
       "version_major": 2,
       "version_minor": 0
      },
      "text/plain": [
       "  0%|          | 0/15 [00:00<?, ?it/s]"
      ]
     },
     "metadata": {},
     "output_type": "display_data"
    },
    {
     "name": "stdout",
     "output_type": "stream",
     "text": [
      "--- 2.181804895401001 seconds ---\n",
      "MRR@100 = 0.0029\n",
      "factors: 5, iterations: 15, learning_rate: 1, regularization: 0.01, neg_prop: 15\n"
     ]
    },
    {
     "data": {
      "application/vnd.jupyter.widget-view+json": {
       "model_id": "2afdf82efb1345a5b7c1675f3befb0d2",
       "version_major": 2,
       "version_minor": 0
      },
      "text/plain": [
       "  0%|          | 0/15 [00:00<?, ?it/s]"
      ]
     },
     "metadata": {},
     "output_type": "display_data"
    },
    {
     "name": "stdout",
     "output_type": "stream",
     "text": [
      "--- 2.268021821975708 seconds ---\n",
      "MRR@100 = 0.0018\n",
      "factors: 5, iterations: 15, learning_rate: 1, regularization: 0.01, neg_prop: 30\n"
     ]
    },
    {
     "data": {
      "application/vnd.jupyter.widget-view+json": {
       "model_id": "3a7a1fecd39d4505a8e7942a821bf7f0",
       "version_major": 2,
       "version_minor": 0
      },
      "text/plain": [
       "  0%|          | 0/15 [00:00<?, ?it/s]"
      ]
     },
     "metadata": {},
     "output_type": "display_data"
    },
    {
     "name": "stdout",
     "output_type": "stream",
     "text": [
      "--- 2.270120143890381 seconds ---\n",
      "MRR@100 = 0.0018\n",
      "factors: 5, iterations: 15, learning_rate: 1, regularization: 0.01, neg_prop: 50\n"
     ]
    },
    {
     "data": {
      "application/vnd.jupyter.widget-view+json": {
       "model_id": "f79e7651c06c4c86bca42d9f0d8c5d6a",
       "version_major": 2,
       "version_minor": 0
      },
      "text/plain": [
       "  0%|          | 0/15 [00:00<?, ?it/s]"
      ]
     },
     "metadata": {},
     "output_type": "display_data"
    },
    {
     "name": "stdout",
     "output_type": "stream",
     "text": [
      "--- 2.3644332885742188 seconds ---\n",
      "MRR@100 = 0.0018\n",
      "factors: 5, iterations: 15, learning_rate: 1, regularization: 0.1, neg_prop: 5\n"
     ]
    },
    {
     "data": {
      "application/vnd.jupyter.widget-view+json": {
       "model_id": "92d885c6068e4a8d971c90d3aa7233ce",
       "version_major": 2,
       "version_minor": 0
      },
      "text/plain": [
       "  0%|          | 0/15 [00:00<?, ?it/s]"
      ]
     },
     "metadata": {},
     "output_type": "display_data"
    },
    {
     "name": "stdout",
     "output_type": "stream",
     "text": [
      "--- 3.094433069229126 seconds ---\n",
      "MRR@100 = 0.0035\n",
      "factors: 5, iterations: 15, learning_rate: 1, regularization: 0.1, neg_prop: 15\n"
     ]
    },
    {
     "data": {
      "application/vnd.jupyter.widget-view+json": {
       "model_id": "bb636e3f1a8f4814a094baea00b815db",
       "version_major": 2,
       "version_minor": 0
      },
      "text/plain": [
       "  0%|          | 0/15 [00:00<?, ?it/s]"
      ]
     },
     "metadata": {},
     "output_type": "display_data"
    },
    {
     "name": "stdout",
     "output_type": "stream",
     "text": [
      "--- 2.3735830783843994 seconds ---\n",
      "MRR@100 = 0.0023\n",
      "factors: 5, iterations: 15, learning_rate: 1, regularization: 0.1, neg_prop: 30\n"
     ]
    },
    {
     "data": {
      "application/vnd.jupyter.widget-view+json": {
       "model_id": "b19ea6a8671d4dcda5f0a97eed579a6f",
       "version_major": 2,
       "version_minor": 0
      },
      "text/plain": [
       "  0%|          | 0/15 [00:00<?, ?it/s]"
      ]
     },
     "metadata": {},
     "output_type": "display_data"
    },
    {
     "name": "stdout",
     "output_type": "stream",
     "text": [
      "--- 2.489398956298828 seconds ---\n",
      "MRR@100 = 0.0023\n",
      "factors: 5, iterations: 15, learning_rate: 1, regularization: 0.1, neg_prop: 50\n"
     ]
    },
    {
     "data": {
      "application/vnd.jupyter.widget-view+json": {
       "model_id": "e48571b04b044210a95e382cd1bc6221",
       "version_major": 2,
       "version_minor": 0
      },
      "text/plain": [
       "  0%|          | 0/15 [00:00<?, ?it/s]"
      ]
     },
     "metadata": {},
     "output_type": "display_data"
    },
    {
     "name": "stdout",
     "output_type": "stream",
     "text": [
      "--- 2.3827011585235596 seconds ---\n",
      "MRR@100 = 0.0023\n",
      "factors: 5, iterations: 15, learning_rate: 1, regularization: 1, neg_prop: 5\n"
     ]
    },
    {
     "data": {
      "application/vnd.jupyter.widget-view+json": {
       "model_id": "9c4f70a563aa4cfe9745cadcf8a7b143",
       "version_major": 2,
       "version_minor": 0
      },
      "text/plain": [
       "  0%|          | 0/15 [00:00<?, ?it/s]"
      ]
     },
     "metadata": {},
     "output_type": "display_data"
    },
    {
     "name": "stdout",
     "output_type": "stream",
     "text": [
      "--- 2.333353042602539 seconds ---\n",
      "MRR@100 = 0.0045\n",
      "factors: 5, iterations: 15, learning_rate: 1, regularization: 1, neg_prop: 15\n"
     ]
    },
    {
     "data": {
      "application/vnd.jupyter.widget-view+json": {
       "model_id": "b8be6e13baa54349b1aa36f7255564ec",
       "version_major": 2,
       "version_minor": 0
      },
      "text/plain": [
       "  0%|          | 0/15 [00:00<?, ?it/s]"
      ]
     },
     "metadata": {},
     "output_type": "display_data"
    },
    {
     "name": "stdout",
     "output_type": "stream",
     "text": [
      "--- 2.2808921337127686 seconds ---\n",
      "MRR@100 = 0.0038\n",
      "factors: 5, iterations: 15, learning_rate: 1, regularization: 1, neg_prop: 30\n"
     ]
    },
    {
     "data": {
      "application/vnd.jupyter.widget-view+json": {
       "model_id": "f674d0b42134443bab061e086c3f5500",
       "version_major": 2,
       "version_minor": 0
      },
      "text/plain": [
       "  0%|          | 0/15 [00:00<?, ?it/s]"
      ]
     },
     "metadata": {},
     "output_type": "display_data"
    },
    {
     "name": "stdout",
     "output_type": "stream",
     "text": [
      "--- 2.4122681617736816 seconds ---\n",
      "MRR@100 = 0.0038\n",
      "factors: 5, iterations: 15, learning_rate: 1, regularization: 1, neg_prop: 50\n"
     ]
    },
    {
     "data": {
      "application/vnd.jupyter.widget-view+json": {
       "model_id": "6280945cade54241a718a1e58939b804",
       "version_major": 2,
       "version_minor": 0
      },
      "text/plain": [
       "  0%|          | 0/15 [00:00<?, ?it/s]"
      ]
     },
     "metadata": {},
     "output_type": "display_data"
    },
    {
     "name": "stdout",
     "output_type": "stream",
     "text": [
      "--- 2.2850759029388428 seconds ---\n",
      "MRR@100 = 0.0038\n",
      "factors: 5, iterations: 15, learning_rate: 1, regularization: 10, neg_prop: 5\n"
     ]
    },
    {
     "data": {
      "application/vnd.jupyter.widget-view+json": {
       "model_id": "8695d881284a476e9ee5b8c47c8b0737",
       "version_major": 2,
       "version_minor": 0
      },
      "text/plain": [
       "  0%|          | 0/15 [00:00<?, ?it/s]"
      ]
     },
     "metadata": {},
     "output_type": "display_data"
    },
    {
     "name": "stdout",
     "output_type": "stream",
     "text": [
      "--- 2.3491263389587402 seconds ---\n",
      "MRR@100 = 0.0024\n",
      "factors: 5, iterations: 15, learning_rate: 1, regularization: 10, neg_prop: 15\n"
     ]
    },
    {
     "data": {
      "application/vnd.jupyter.widget-view+json": {
       "model_id": "0aac83028d85483c9206a859c4519093",
       "version_major": 2,
       "version_minor": 0
      },
      "text/plain": [
       "  0%|          | 0/15 [00:00<?, ?it/s]"
      ]
     },
     "metadata": {},
     "output_type": "display_data"
    },
    {
     "name": "stdout",
     "output_type": "stream",
     "text": [
      "--- 2.3437249660491943 seconds ---\n",
      "MRR@100 = 0.0024\n",
      "factors: 5, iterations: 15, learning_rate: 1, regularization: 10, neg_prop: 30\n"
     ]
    },
    {
     "data": {
      "application/vnd.jupyter.widget-view+json": {
       "model_id": "1cfc45a124124a99bfb9a76d4052f1f8",
       "version_major": 2,
       "version_minor": 0
      },
      "text/plain": [
       "  0%|          | 0/15 [00:00<?, ?it/s]"
      ]
     },
     "metadata": {},
     "output_type": "display_data"
    },
    {
     "name": "stdout",
     "output_type": "stream",
     "text": [
      "--- 2.3033127784729004 seconds ---\n",
      "MRR@100 = 0.0024\n",
      "factors: 5, iterations: 15, learning_rate: 1, regularization: 10, neg_prop: 50\n"
     ]
    },
    {
     "data": {
      "application/vnd.jupyter.widget-view+json": {
       "model_id": "f4cdabf2429e4ecd89a23b49a2e1fbe6",
       "version_major": 2,
       "version_minor": 0
      },
      "text/plain": [
       "  0%|          | 0/15 [00:00<?, ?it/s]"
      ]
     },
     "metadata": {},
     "output_type": "display_data"
    },
    {
     "name": "stdout",
     "output_type": "stream",
     "text": [
      "--- 2.2272191047668457 seconds ---\n",
      "MRR@100 = 0.0024\n",
      "factors: 5, iterations: 15, learning_rate: 1, regularization: 100, neg_prop: 5\n"
     ]
    },
    {
     "data": {
      "application/vnd.jupyter.widget-view+json": {
       "model_id": "9636491c7a46444890e086a0c5ba6a9f",
       "version_major": 2,
       "version_minor": 0
      },
      "text/plain": [
       "  0%|          | 0/15 [00:00<?, ?it/s]"
      ]
     },
     "metadata": {},
     "output_type": "display_data"
    },
    {
     "name": "stdout",
     "output_type": "stream",
     "text": [
      "--- 2.282656192779541 seconds ---\n",
      "MRR@100 = 0.0023\n",
      "factors: 5, iterations: 15, learning_rate: 1, regularization: 100, neg_prop: 15\n"
     ]
    },
    {
     "data": {
      "application/vnd.jupyter.widget-view+json": {
       "model_id": "2e6078a0af89415ba6aa2e18d551211a",
       "version_major": 2,
       "version_minor": 0
      },
      "text/plain": [
       "  0%|          | 0/15 [00:00<?, ?it/s]"
      ]
     },
     "metadata": {},
     "output_type": "display_data"
    },
    {
     "name": "stdout",
     "output_type": "stream",
     "text": [
      "--- 2.315743923187256 seconds ---\n",
      "MRR@100 = 0.0023\n",
      "factors: 5, iterations: 15, learning_rate: 1, regularization: 100, neg_prop: 30\n"
     ]
    },
    {
     "data": {
      "application/vnd.jupyter.widget-view+json": {
       "model_id": "f4753e4e354540988394f53edfe180ed",
       "version_major": 2,
       "version_minor": 0
      },
      "text/plain": [
       "  0%|          | 0/15 [00:00<?, ?it/s]"
      ]
     },
     "metadata": {},
     "output_type": "display_data"
    },
    {
     "name": "stdout",
     "output_type": "stream",
     "text": [
      "--- 2.282536268234253 seconds ---\n",
      "MRR@100 = 0.0023\n",
      "factors: 5, iterations: 15, learning_rate: 1, regularization: 100, neg_prop: 50\n"
     ]
    },
    {
     "data": {
      "application/vnd.jupyter.widget-view+json": {
       "model_id": "f4bf4e5423df47a89727512aa0cfe1ce",
       "version_major": 2,
       "version_minor": 0
      },
      "text/plain": [
       "  0%|          | 0/15 [00:00<?, ?it/s]"
      ]
     },
     "metadata": {},
     "output_type": "display_data"
    },
    {
     "name": "stdout",
     "output_type": "stream",
     "text": [
      "--- 2.253239870071411 seconds ---\n",
      "MRR@100 = 0.0023\n",
      "factors: 5, iterations: 15, learning_rate: 10, regularization: 0.001, neg_prop: 5\n"
     ]
    },
    {
     "data": {
      "application/vnd.jupyter.widget-view+json": {
       "model_id": "177453647b744cfca68a4e37a702756a",
       "version_major": 2,
       "version_minor": 0
      },
      "text/plain": [
       "  0%|          | 0/15 [00:00<?, ?it/s]"
      ]
     },
     "metadata": {},
     "output_type": "display_data"
    },
    {
     "name": "stdout",
     "output_type": "stream",
     "text": [
      "--- 2.2865469455718994 seconds ---\n",
      "MRR@100 = 0.0021\n",
      "factors: 5, iterations: 15, learning_rate: 10, regularization: 0.001, neg_prop: 15\n"
     ]
    },
    {
     "data": {
      "application/vnd.jupyter.widget-view+json": {
       "model_id": "57ca398470f645479e5d7e5038543b9f",
       "version_major": 2,
       "version_minor": 0
      },
      "text/plain": [
       "  0%|          | 0/15 [00:00<?, ?it/s]"
      ]
     },
     "metadata": {},
     "output_type": "display_data"
    },
    {
     "name": "stdout",
     "output_type": "stream",
     "text": [
      "--- 2.2669811248779297 seconds ---\n",
      "MRR@100 = 0.0010\n",
      "factors: 5, iterations: 15, learning_rate: 10, regularization: 0.001, neg_prop: 30\n"
     ]
    },
    {
     "data": {
      "application/vnd.jupyter.widget-view+json": {
       "model_id": "53ba5e1ec339409db1435389b5016bda",
       "version_major": 2,
       "version_minor": 0
      },
      "text/plain": [
       "  0%|          | 0/15 [00:00<?, ?it/s]"
      ]
     },
     "metadata": {},
     "output_type": "display_data"
    },
    {
     "name": "stdout",
     "output_type": "stream",
     "text": [
      "--- 2.3077809810638428 seconds ---\n",
      "MRR@100 = 0.0010\n",
      "factors: 5, iterations: 15, learning_rate: 10, regularization: 0.001, neg_prop: 50\n"
     ]
    },
    {
     "data": {
      "application/vnd.jupyter.widget-view+json": {
       "model_id": "3621b3bd1cd042b3bf3884707bb21d8a",
       "version_major": 2,
       "version_minor": 0
      },
      "text/plain": [
       "  0%|          | 0/15 [00:00<?, ?it/s]"
      ]
     },
     "metadata": {},
     "output_type": "display_data"
    },
    {
     "name": "stdout",
     "output_type": "stream",
     "text": [
      "--- 2.2869739532470703 seconds ---\n",
      "MRR@100 = 0.0010\n",
      "factors: 5, iterations: 15, learning_rate: 10, regularization: 0.01, neg_prop: 5\n"
     ]
    },
    {
     "data": {
      "application/vnd.jupyter.widget-view+json": {
       "model_id": "c733c492401941d2862938e6107b6837",
       "version_major": 2,
       "version_minor": 0
      },
      "text/plain": [
       "  0%|          | 0/15 [00:00<?, ?it/s]"
      ]
     },
     "metadata": {},
     "output_type": "display_data"
    },
    {
     "name": "stdout",
     "output_type": "stream",
     "text": [
      "--- 2.242910146713257 seconds ---\n",
      "MRR@100 = 0.0018\n",
      "factors: 5, iterations: 15, learning_rate: 10, regularization: 0.01, neg_prop: 15\n"
     ]
    },
    {
     "data": {
      "application/vnd.jupyter.widget-view+json": {
       "model_id": "2221098c82b54faca28010136233c468",
       "version_major": 2,
       "version_minor": 0
      },
      "text/plain": [
       "  0%|          | 0/15 [00:00<?, ?it/s]"
      ]
     },
     "metadata": {},
     "output_type": "display_data"
    },
    {
     "name": "stdout",
     "output_type": "stream",
     "text": [
      "--- 2.2682108879089355 seconds ---\n",
      "MRR@100 = 0.0009\n",
      "factors: 5, iterations: 15, learning_rate: 10, regularization: 0.01, neg_prop: 30\n"
     ]
    },
    {
     "data": {
      "application/vnd.jupyter.widget-view+json": {
       "model_id": "f988a5eadac74d80a7e8674009874709",
       "version_major": 2,
       "version_minor": 0
      },
      "text/plain": [
       "  0%|          | 0/15 [00:00<?, ?it/s]"
      ]
     },
     "metadata": {},
     "output_type": "display_data"
    },
    {
     "name": "stdout",
     "output_type": "stream",
     "text": [
      "--- 2.318678617477417 seconds ---\n",
      "MRR@100 = 0.0009\n",
      "factors: 5, iterations: 15, learning_rate: 10, regularization: 0.01, neg_prop: 50\n"
     ]
    },
    {
     "data": {
      "application/vnd.jupyter.widget-view+json": {
       "model_id": "e28f6048c5e04f43aea367bb510bfccb",
       "version_major": 2,
       "version_minor": 0
      },
      "text/plain": [
       "  0%|          | 0/15 [00:00<?, ?it/s]"
      ]
     },
     "metadata": {},
     "output_type": "display_data"
    },
    {
     "name": "stdout",
     "output_type": "stream",
     "text": [
      "--- 2.2169761657714844 seconds ---\n",
      "MRR@100 = 0.0009\n",
      "factors: 5, iterations: 15, learning_rate: 10, regularization: 0.1, neg_prop: 5\n"
     ]
    },
    {
     "data": {
      "application/vnd.jupyter.widget-view+json": {
       "model_id": "894cdb1b488842edbf0dec1306f84ece",
       "version_major": 2,
       "version_minor": 0
      },
      "text/plain": [
       "  0%|          | 0/15 [00:00<?, ?it/s]"
      ]
     },
     "metadata": {},
     "output_type": "display_data"
    },
    {
     "name": "stdout",
     "output_type": "stream",
     "text": [
      "--- 2.294034004211426 seconds ---\n",
      "MRR@100 = 0.0019\n",
      "factors: 5, iterations: 15, learning_rate: 10, regularization: 0.1, neg_prop: 15\n"
     ]
    },
    {
     "data": {
      "application/vnd.jupyter.widget-view+json": {
       "model_id": "183ffe0dd2c0433581b72bd2a7776dec",
       "version_major": 2,
       "version_minor": 0
      },
      "text/plain": [
       "  0%|          | 0/15 [00:00<?, ?it/s]"
      ]
     },
     "metadata": {},
     "output_type": "display_data"
    },
    {
     "name": "stdout",
     "output_type": "stream",
     "text": [
      "--- 2.348376989364624 seconds ---\n",
      "MRR@100 = 0.0013\n",
      "factors: 5, iterations: 15, learning_rate: 10, regularization: 0.1, neg_prop: 30\n"
     ]
    },
    {
     "data": {
      "application/vnd.jupyter.widget-view+json": {
       "model_id": "daa0340fc93641d096309882ce4dc1cb",
       "version_major": 2,
       "version_minor": 0
      },
      "text/plain": [
       "  0%|          | 0/15 [00:00<?, ?it/s]"
      ]
     },
     "metadata": {},
     "output_type": "display_data"
    },
    {
     "name": "stdout",
     "output_type": "stream",
     "text": [
      "--- 2.258146047592163 seconds ---\n",
      "MRR@100 = 0.0013\n",
      "factors: 5, iterations: 15, learning_rate: 10, regularization: 0.1, neg_prop: 50\n"
     ]
    },
    {
     "data": {
      "application/vnd.jupyter.widget-view+json": {
       "model_id": "5c26e8a377384bf5a4065964fddc6537",
       "version_major": 2,
       "version_minor": 0
      },
      "text/plain": [
       "  0%|          | 0/15 [00:00<?, ?it/s]"
      ]
     },
     "metadata": {},
     "output_type": "display_data"
    },
    {
     "name": "stdout",
     "output_type": "stream",
     "text": [
      "--- 2.3529558181762695 seconds ---\n",
      "MRR@100 = 0.0013\n",
      "factors: 5, iterations: 15, learning_rate: 10, regularization: 1, neg_prop: 5\n"
     ]
    },
    {
     "data": {
      "application/vnd.jupyter.widget-view+json": {
       "model_id": "56207061a4b043ec9c9fbffa7326c957",
       "version_major": 2,
       "version_minor": 0
      },
      "text/plain": [
       "  0%|          | 0/15 [00:00<?, ?it/s]"
      ]
     },
     "metadata": {},
     "output_type": "display_data"
    },
    {
     "name": "stdout",
     "output_type": "stream",
     "text": [
      "--- 2.2315139770507812 seconds ---\n",
      "MRR@100 = 0.0023\n",
      "factors: 5, iterations: 15, learning_rate: 10, regularization: 1, neg_prop: 15\n"
     ]
    },
    {
     "data": {
      "application/vnd.jupyter.widget-view+json": {
       "model_id": "08780f406215486c9e136ccbf19395c6",
       "version_major": 2,
       "version_minor": 0
      },
      "text/plain": [
       "  0%|          | 0/15 [00:00<?, ?it/s]"
      ]
     },
     "metadata": {},
     "output_type": "display_data"
    },
    {
     "name": "stdout",
     "output_type": "stream",
     "text": [
      "--- 2.291872024536133 seconds ---\n",
      "MRR@100 = 0.0012\n",
      "factors: 5, iterations: 15, learning_rate: 10, regularization: 1, neg_prop: 30\n"
     ]
    },
    {
     "data": {
      "application/vnd.jupyter.widget-view+json": {
       "model_id": "d7db6f477f1145f4abeae58bf507970e",
       "version_major": 2,
       "version_minor": 0
      },
      "text/plain": [
       "  0%|          | 0/15 [00:00<?, ?it/s]"
      ]
     },
     "metadata": {},
     "output_type": "display_data"
    },
    {
     "name": "stdout",
     "output_type": "stream",
     "text": [
      "--- 2.201136827468872 seconds ---\n",
      "MRR@100 = 0.0012\n",
      "factors: 5, iterations: 15, learning_rate: 10, regularization: 1, neg_prop: 50\n"
     ]
    },
    {
     "data": {
      "application/vnd.jupyter.widget-view+json": {
       "model_id": "0fa3a8dd0a83476f8ab82cf12e591295",
       "version_major": 2,
       "version_minor": 0
      },
      "text/plain": [
       "  0%|          | 0/15 [00:00<?, ?it/s]"
      ]
     },
     "metadata": {},
     "output_type": "display_data"
    },
    {
     "name": "stdout",
     "output_type": "stream",
     "text": [
      "--- 2.2495479583740234 seconds ---\n",
      "MRR@100 = 0.0012\n",
      "factors: 5, iterations: 15, learning_rate: 10, regularization: 10, neg_prop: 5\n"
     ]
    },
    {
     "data": {
      "application/vnd.jupyter.widget-view+json": {
       "model_id": "cbc9c814a609407986abe94bf1606661",
       "version_major": 2,
       "version_minor": 0
      },
      "text/plain": [
       "  0%|          | 0/15 [00:00<?, ?it/s]"
      ]
     },
     "metadata": {},
     "output_type": "display_data"
    },
    {
     "name": "stdout",
     "output_type": "stream",
     "text": [
      "--- 2.2117812633514404 seconds ---\n",
      "MRR@100 = 0.0008\n",
      "factors: 5, iterations: 15, learning_rate: 10, regularization: 10, neg_prop: 15\n"
     ]
    },
    {
     "data": {
      "application/vnd.jupyter.widget-view+json": {
       "model_id": "5174cd27535b47f694395e1008e3f566",
       "version_major": 2,
       "version_minor": 0
      },
      "text/plain": [
       "  0%|          | 0/15 [00:00<?, ?it/s]"
      ]
     },
     "metadata": {},
     "output_type": "display_data"
    },
    {
     "name": "stdout",
     "output_type": "stream",
     "text": [
      "--- 2.334491014480591 seconds ---\n",
      "MRR@100 = 0.0015\n",
      "factors: 5, iterations: 15, learning_rate: 10, regularization: 10, neg_prop: 30\n"
     ]
    },
    {
     "data": {
      "application/vnd.jupyter.widget-view+json": {
       "model_id": "d5a6500e446a4986a98562da6152f997",
       "version_major": 2,
       "version_minor": 0
      },
      "text/plain": [
       "  0%|          | 0/15 [00:00<?, ?it/s]"
      ]
     },
     "metadata": {},
     "output_type": "display_data"
    },
    {
     "name": "stdout",
     "output_type": "stream",
     "text": [
      "--- 2.2755939960479736 seconds ---\n",
      "MRR@100 = 0.0015\n",
      "factors: 5, iterations: 15, learning_rate: 10, regularization: 10, neg_prop: 50\n"
     ]
    },
    {
     "data": {
      "application/vnd.jupyter.widget-view+json": {
       "model_id": "b842272e904b4c88b68019b7afad1021",
       "version_major": 2,
       "version_minor": 0
      },
      "text/plain": [
       "  0%|          | 0/15 [00:00<?, ?it/s]"
      ]
     },
     "metadata": {},
     "output_type": "display_data"
    },
    {
     "name": "stdout",
     "output_type": "stream",
     "text": [
      "--- 2.211315870285034 seconds ---\n",
      "MRR@100 = 0.0015\n",
      "factors: 5, iterations: 15, learning_rate: 10, regularization: 100, neg_prop: 5\n"
     ]
    },
    {
     "data": {
      "application/vnd.jupyter.widget-view+json": {
       "model_id": "ee998b0eff5f44c78be944d4dec5e57f",
       "version_major": 2,
       "version_minor": 0
      },
      "text/plain": [
       "  0%|          | 0/15 [00:00<?, ?it/s]"
      ]
     },
     "metadata": {},
     "output_type": "display_data"
    },
    {
     "name": "stdout",
     "output_type": "stream",
     "text": [
      "--- 2.2593889236450195 seconds ---\n",
      "MRR@100 = 0.0021\n",
      "factors: 5, iterations: 15, learning_rate: 10, regularization: 100, neg_prop: 15\n"
     ]
    },
    {
     "data": {
      "application/vnd.jupyter.widget-view+json": {
       "model_id": "2e58d00ae24e42efab3f25b55b7cea1f",
       "version_major": 2,
       "version_minor": 0
      },
      "text/plain": [
       "  0%|          | 0/15 [00:00<?, ?it/s]"
      ]
     },
     "metadata": {},
     "output_type": "display_data"
    },
    {
     "name": "stdout",
     "output_type": "stream",
     "text": [
      "--- 3.04534912109375 seconds ---\n",
      "MRR@100 = 0.0021\n",
      "factors: 5, iterations: 15, learning_rate: 10, regularization: 100, neg_prop: 30\n"
     ]
    },
    {
     "data": {
      "application/vnd.jupyter.widget-view+json": {
       "model_id": "28c53c4bbd7741fca19c1dcf1188a5ff",
       "version_major": 2,
       "version_minor": 0
      },
      "text/plain": [
       "  0%|          | 0/15 [00:00<?, ?it/s]"
      ]
     },
     "metadata": {},
     "output_type": "display_data"
    },
    {
     "name": "stdout",
     "output_type": "stream",
     "text": [
      "--- 2.5511579513549805 seconds ---\n",
      "MRR@100 = 0.0021\n",
      "factors: 5, iterations: 15, learning_rate: 10, regularization: 100, neg_prop: 50\n"
     ]
    },
    {
     "data": {
      "application/vnd.jupyter.widget-view+json": {
       "model_id": "c15c5394789c4de0ac8ac3bc3f59770e",
       "version_major": 2,
       "version_minor": 0
      },
      "text/plain": [
       "  0%|          | 0/15 [00:00<?, ?it/s]"
      ]
     },
     "metadata": {},
     "output_type": "display_data"
    },
    {
     "name": "stdout",
     "output_type": "stream",
     "text": [
      "--- 2.2706758975982666 seconds ---\n",
      "MRR@100 = 0.0021\n",
      "factors: 5, iterations: 15, learning_rate: 100, regularization: 0.001, neg_prop: 5\n"
     ]
    },
    {
     "data": {
      "application/vnd.jupyter.widget-view+json": {
       "model_id": "7343ea034e3341e5a985c8383acdc404",
       "version_major": 2,
       "version_minor": 0
      },
      "text/plain": [
       "  0%|          | 0/15 [00:00<?, ?it/s]"
      ]
     },
     "metadata": {},
     "output_type": "display_data"
    },
    {
     "name": "stdout",
     "output_type": "stream",
     "text": [
      "--- 2.331845998764038 seconds ---\n",
      "MRR@100 = 0.0000\n",
      "factors: 5, iterations: 15, learning_rate: 100, regularization: 0.001, neg_prop: 15\n"
     ]
    },
    {
     "data": {
      "application/vnd.jupyter.widget-view+json": {
       "model_id": "d2166eac70b74fcfa19c0e54e043ca0c",
       "version_major": 2,
       "version_minor": 0
      },
      "text/plain": [
       "  0%|          | 0/15 [00:00<?, ?it/s]"
      ]
     },
     "metadata": {},
     "output_type": "display_data"
    },
    {
     "name": "stdout",
     "output_type": "stream",
     "text": [
      "--- 2.286135196685791 seconds ---\n",
      "MRR@100 = 0.0004\n",
      "factors: 5, iterations: 15, learning_rate: 100, regularization: 0.001, neg_prop: 30\n"
     ]
    },
    {
     "data": {
      "application/vnd.jupyter.widget-view+json": {
       "model_id": "40460a16712f4589897359f44767a87d",
       "version_major": 2,
       "version_minor": 0
      },
      "text/plain": [
       "  0%|          | 0/15 [00:00<?, ?it/s]"
      ]
     },
     "metadata": {},
     "output_type": "display_data"
    },
    {
     "name": "stdout",
     "output_type": "stream",
     "text": [
      "--- 2.2438089847564697 seconds ---\n",
      "MRR@100 = 0.0004\n",
      "factors: 5, iterations: 15, learning_rate: 100, regularization: 0.001, neg_prop: 50\n"
     ]
    },
    {
     "data": {
      "application/vnd.jupyter.widget-view+json": {
       "model_id": "741dd3dedc6743e5a2853f1f1e8f3e38",
       "version_major": 2,
       "version_minor": 0
      },
      "text/plain": [
       "  0%|          | 0/15 [00:00<?, ?it/s]"
      ]
     },
     "metadata": {},
     "output_type": "display_data"
    },
    {
     "name": "stdout",
     "output_type": "stream",
     "text": [
      "--- 2.277312994003296 seconds ---\n",
      "MRR@100 = 0.0004\n",
      "factors: 5, iterations: 15, learning_rate: 100, regularization: 0.01, neg_prop: 5\n"
     ]
    },
    {
     "data": {
      "application/vnd.jupyter.widget-view+json": {
       "model_id": "d230cc28393f4d579824ac79231004ea",
       "version_major": 2,
       "version_minor": 0
      },
      "text/plain": [
       "  0%|          | 0/15 [00:00<?, ?it/s]"
      ]
     },
     "metadata": {},
     "output_type": "display_data"
    },
    {
     "name": "stdout",
     "output_type": "stream",
     "text": [
      "--- 2.3115360736846924 seconds ---\n",
      "MRR@100 = 0.0002\n",
      "factors: 5, iterations: 15, learning_rate: 100, regularization: 0.01, neg_prop: 15\n"
     ]
    },
    {
     "data": {
      "application/vnd.jupyter.widget-view+json": {
       "model_id": "0d366ba7bcdd4f02a4008f707457f9f4",
       "version_major": 2,
       "version_minor": 0
      },
      "text/plain": [
       "  0%|          | 0/15 [00:00<?, ?it/s]"
      ]
     },
     "metadata": {},
     "output_type": "display_data"
    },
    {
     "name": "stdout",
     "output_type": "stream",
     "text": [
      "--- 2.256659984588623 seconds ---\n",
      "MRR@100 = 0.0002\n",
      "factors: 5, iterations: 15, learning_rate: 100, regularization: 0.01, neg_prop: 30\n"
     ]
    },
    {
     "data": {
      "application/vnd.jupyter.widget-view+json": {
       "model_id": "9a0c8389693d4a7b8464fddfa561ad6a",
       "version_major": 2,
       "version_minor": 0
      },
      "text/plain": [
       "  0%|          | 0/15 [00:00<?, ?it/s]"
      ]
     },
     "metadata": {},
     "output_type": "display_data"
    },
    {
     "name": "stdout",
     "output_type": "stream",
     "text": [
      "--- 2.296452283859253 seconds ---\n",
      "MRR@100 = 0.0002\n",
      "factors: 5, iterations: 15, learning_rate: 100, regularization: 0.01, neg_prop: 50\n"
     ]
    },
    {
     "data": {
      "application/vnd.jupyter.widget-view+json": {
       "model_id": "c6dd90761aea446fb0a6af29d689fea8",
       "version_major": 2,
       "version_minor": 0
      },
      "text/plain": [
       "  0%|          | 0/15 [00:00<?, ?it/s]"
      ]
     },
     "metadata": {},
     "output_type": "display_data"
    },
    {
     "name": "stdout",
     "output_type": "stream",
     "text": [
      "--- 2.2576987743377686 seconds ---\n",
      "MRR@100 = 0.0002\n",
      "factors: 5, iterations: 15, learning_rate: 100, regularization: 0.1, neg_prop: 5\n"
     ]
    },
    {
     "data": {
      "application/vnd.jupyter.widget-view+json": {
       "model_id": "0dbc870a5671410e9c7362cb854cd655",
       "version_major": 2,
       "version_minor": 0
      },
      "text/plain": [
       "  0%|          | 0/15 [00:00<?, ?it/s]"
      ]
     },
     "metadata": {},
     "output_type": "display_data"
    },
    {
     "name": "stdout",
     "output_type": "stream",
     "text": [
      "--- 2.2836129665374756 seconds ---\n",
      "MRR@100 = 0.0001\n",
      "factors: 5, iterations: 15, learning_rate: 100, regularization: 0.1, neg_prop: 15\n"
     ]
    },
    {
     "data": {
      "application/vnd.jupyter.widget-view+json": {
       "model_id": "86ca277d7eaf487195dfcfc4d238648a",
       "version_major": 2,
       "version_minor": 0
      },
      "text/plain": [
       "  0%|          | 0/15 [00:00<?, ?it/s]"
      ]
     },
     "metadata": {},
     "output_type": "display_data"
    },
    {
     "name": "stdout",
     "output_type": "stream",
     "text": [
      "--- 2.5346078872680664 seconds ---\n",
      "MRR@100 = 0.0002\n",
      "factors: 5, iterations: 15, learning_rate: 100, regularization: 0.1, neg_prop: 30\n"
     ]
    },
    {
     "data": {
      "application/vnd.jupyter.widget-view+json": {
       "model_id": "a6cf13bc9bd7472f92d2300dc84e151c",
       "version_major": 2,
       "version_minor": 0
      },
      "text/plain": [
       "  0%|          | 0/15 [00:00<?, ?it/s]"
      ]
     },
     "metadata": {},
     "output_type": "display_data"
    },
    {
     "name": "stdout",
     "output_type": "stream",
     "text": [
      "--- 2.300478935241699 seconds ---\n",
      "MRR@100 = 0.0002\n",
      "factors: 5, iterations: 15, learning_rate: 100, regularization: 0.1, neg_prop: 50\n"
     ]
    },
    {
     "data": {
      "application/vnd.jupyter.widget-view+json": {
       "model_id": "b21196f5d7464375864df72cb75f0480",
       "version_major": 2,
       "version_minor": 0
      },
      "text/plain": [
       "  0%|          | 0/15 [00:00<?, ?it/s]"
      ]
     },
     "metadata": {},
     "output_type": "display_data"
    },
    {
     "name": "stdout",
     "output_type": "stream",
     "text": [
      "--- 2.3683648109436035 seconds ---\n",
      "MRR@100 = 0.0002\n",
      "factors: 5, iterations: 15, learning_rate: 100, regularization: 1, neg_prop: 5\n"
     ]
    },
    {
     "data": {
      "application/vnd.jupyter.widget-view+json": {
       "model_id": "e0dc1da3797d4b98952fc6b17c72b0bb",
       "version_major": 2,
       "version_minor": 0
      },
      "text/plain": [
       "  0%|          | 0/15 [00:00<?, ?it/s]"
      ]
     },
     "metadata": {},
     "output_type": "display_data"
    },
    {
     "name": "stdout",
     "output_type": "stream",
     "text": [
      "--- 2.6446480751037598 seconds ---\n",
      "MRR@100 = 0.0006\n",
      "factors: 5, iterations: 15, learning_rate: 100, regularization: 1, neg_prop: 15\n"
     ]
    },
    {
     "data": {
      "application/vnd.jupyter.widget-view+json": {
       "model_id": "724774f3386d4b11bb4b48e438f6075e",
       "version_major": 2,
       "version_minor": 0
      },
      "text/plain": [
       "  0%|          | 0/15 [00:00<?, ?it/s]"
      ]
     },
     "metadata": {},
     "output_type": "display_data"
    },
    {
     "name": "stdout",
     "output_type": "stream",
     "text": [
      "--- 2.7803151607513428 seconds ---\n",
      "MRR@100 = 0.0008\n",
      "factors: 5, iterations: 15, learning_rate: 100, regularization: 1, neg_prop: 30\n"
     ]
    },
    {
     "data": {
      "application/vnd.jupyter.widget-view+json": {
       "model_id": "7e5c10effd0243c2b77a2aa9cdcc276e",
       "version_major": 2,
       "version_minor": 0
      },
      "text/plain": [
       "  0%|          | 0/15 [00:00<?, ?it/s]"
      ]
     },
     "metadata": {},
     "output_type": "display_data"
    },
    {
     "name": "stdout",
     "output_type": "stream",
     "text": [
      "--- 2.716681957244873 seconds ---\n",
      "MRR@100 = 0.0008\n",
      "factors: 5, iterations: 15, learning_rate: 100, regularization: 1, neg_prop: 50\n"
     ]
    },
    {
     "data": {
      "application/vnd.jupyter.widget-view+json": {
       "model_id": "4a9ef89a9812451f9937b7cdb38efd87",
       "version_major": 2,
       "version_minor": 0
      },
      "text/plain": [
       "  0%|          | 0/15 [00:00<?, ?it/s]"
      ]
     },
     "metadata": {},
     "output_type": "display_data"
    },
    {
     "name": "stdout",
     "output_type": "stream",
     "text": [
      "--- 2.507652997970581 seconds ---\n",
      "MRR@100 = 0.0008\n",
      "factors: 5, iterations: 15, learning_rate: 100, regularization: 10, neg_prop: 5\n"
     ]
    },
    {
     "data": {
      "application/vnd.jupyter.widget-view+json": {
       "model_id": "b8265e21fe4548beb895eab18cceeb21",
       "version_major": 2,
       "version_minor": 0
      },
      "text/plain": [
       "  0%|          | 0/15 [00:00<?, ?it/s]"
      ]
     },
     "metadata": {},
     "output_type": "display_data"
    },
    {
     "name": "stdout",
     "output_type": "stream",
     "text": [
      "--- 2.503345012664795 seconds ---\n",
      "MRR@100 = 0.0015\n",
      "factors: 5, iterations: 15, learning_rate: 100, regularization: 10, neg_prop: 15\n"
     ]
    },
    {
     "data": {
      "application/vnd.jupyter.widget-view+json": {
       "model_id": "77bc4604940248c08e71e930a1ac6585",
       "version_major": 2,
       "version_minor": 0
      },
      "text/plain": [
       "  0%|          | 0/15 [00:00<?, ?it/s]"
      ]
     },
     "metadata": {},
     "output_type": "display_data"
    },
    {
     "name": "stdout",
     "output_type": "stream",
     "text": [
      "--- 3.0081851482391357 seconds ---\n",
      "MRR@100 = 0.0016\n",
      "factors: 5, iterations: 15, learning_rate: 100, regularization: 10, neg_prop: 30\n"
     ]
    },
    {
     "data": {
      "application/vnd.jupyter.widget-view+json": {
       "model_id": "a863d0bff1404e2b9179232b6a8fe410",
       "version_major": 2,
       "version_minor": 0
      },
      "text/plain": [
       "  0%|          | 0/15 [00:00<?, ?it/s]"
      ]
     },
     "metadata": {},
     "output_type": "display_data"
    },
    {
     "name": "stdout",
     "output_type": "stream",
     "text": [
      "--- 2.6595230102539062 seconds ---\n",
      "MRR@100 = 0.0016\n",
      "factors: 5, iterations: 15, learning_rate: 100, regularization: 10, neg_prop: 50\n"
     ]
    },
    {
     "data": {
      "application/vnd.jupyter.widget-view+json": {
       "model_id": "82fb864492ee4bdcb9b217321012400b",
       "version_major": 2,
       "version_minor": 0
      },
      "text/plain": [
       "  0%|          | 0/15 [00:00<?, ?it/s]"
      ]
     },
     "metadata": {},
     "output_type": "display_data"
    },
    {
     "name": "stdout",
     "output_type": "stream",
     "text": [
      "--- 2.766901969909668 seconds ---\n",
      "MRR@100 = 0.0016\n",
      "factors: 5, iterations: 15, learning_rate: 100, regularization: 100, neg_prop: 5\n"
     ]
    },
    {
     "data": {
      "application/vnd.jupyter.widget-view+json": {
       "model_id": "93ca3b4582ee4525b0d976a98dfffd7f",
       "version_major": 2,
       "version_minor": 0
      },
      "text/plain": [
       "  0%|          | 0/15 [00:00<?, ?it/s]"
      ]
     },
     "metadata": {},
     "output_type": "display_data"
    },
    {
     "name": "stdout",
     "output_type": "stream",
     "text": [
      "--- 2.6106910705566406 seconds ---\n",
      "MRR@100 = 0.0021\n",
      "factors: 5, iterations: 15, learning_rate: 100, regularization: 100, neg_prop: 15\n"
     ]
    },
    {
     "data": {
      "application/vnd.jupyter.widget-view+json": {
       "model_id": "4216ded10dd74f87b18c31104cd9ec60",
       "version_major": 2,
       "version_minor": 0
      },
      "text/plain": [
       "  0%|          | 0/15 [00:00<?, ?it/s]"
      ]
     },
     "metadata": {},
     "output_type": "display_data"
    },
    {
     "name": "stdout",
     "output_type": "stream",
     "text": [
      "--- 2.6230762004852295 seconds ---\n",
      "MRR@100 = 0.0022\n",
      "factors: 5, iterations: 15, learning_rate: 100, regularization: 100, neg_prop: 30\n"
     ]
    },
    {
     "data": {
      "application/vnd.jupyter.widget-view+json": {
       "model_id": "1d8083fcfe9f44a9bd01256bd3e5365e",
       "version_major": 2,
       "version_minor": 0
      },
      "text/plain": [
       "  0%|          | 0/15 [00:00<?, ?it/s]"
      ]
     },
     "metadata": {},
     "output_type": "display_data"
    },
    {
     "name": "stdout",
     "output_type": "stream",
     "text": [
      "--- 2.4499237537384033 seconds ---\n",
      "MRR@100 = 0.0022\n",
      "factors: 5, iterations: 15, learning_rate: 100, regularization: 100, neg_prop: 50\n"
     ]
    },
    {
     "data": {
      "application/vnd.jupyter.widget-view+json": {
       "model_id": "d23b4cef79b64f62804a9728ff3131f0",
       "version_major": 2,
       "version_minor": 0
      },
      "text/plain": [
       "  0%|          | 0/15 [00:00<?, ?it/s]"
      ]
     },
     "metadata": {},
     "output_type": "display_data"
    },
    {
     "name": "stdout",
     "output_type": "stream",
     "text": [
      "--- 2.69815993309021 seconds ---\n",
      "MRR@100 = 0.0022\n",
      "factors: 5, iterations: 30, learning_rate: 0.001, regularization: 0.001, neg_prop: 5\n"
     ]
    },
    {
     "data": {
      "application/vnd.jupyter.widget-view+json": {
       "model_id": "2808d8e75ccc4f5cbd8e0887557067a1",
       "version_major": 2,
       "version_minor": 0
      },
      "text/plain": [
       "  0%|          | 0/30 [00:00<?, ?it/s]"
      ]
     },
     "metadata": {},
     "output_type": "display_data"
    },
    {
     "name": "stdout",
     "output_type": "stream",
     "text": [
      "--- 2.910762071609497 seconds ---\n",
      "MRR@100 = 0.0000\n",
      "factors: 5, iterations: 30, learning_rate: 0.001, regularization: 0.001, neg_prop: 15\n"
     ]
    },
    {
     "data": {
      "application/vnd.jupyter.widget-view+json": {
       "model_id": "2783452e264a40e1a2ce66478cc34299",
       "version_major": 2,
       "version_minor": 0
      },
      "text/plain": [
       "  0%|          | 0/30 [00:00<?, ?it/s]"
      ]
     },
     "metadata": {},
     "output_type": "display_data"
    },
    {
     "name": "stdout",
     "output_type": "stream",
     "text": [
      "--- 2.7142257690429688 seconds ---\n",
      "MRR@100 = 0.0000\n",
      "factors: 5, iterations: 30, learning_rate: 0.001, regularization: 0.001, neg_prop: 30\n"
     ]
    },
    {
     "data": {
      "application/vnd.jupyter.widget-view+json": {
       "model_id": "0cddb84a4e234c4c857c6dd28aab8592",
       "version_major": 2,
       "version_minor": 0
      },
      "text/plain": [
       "  0%|          | 0/30 [00:00<?, ?it/s]"
      ]
     },
     "metadata": {},
     "output_type": "display_data"
    },
    {
     "name": "stdout",
     "output_type": "stream",
     "text": [
      "--- 2.7759671211242676 seconds ---\n",
      "MRR@100 = 0.0000\n",
      "factors: 5, iterations: 30, learning_rate: 0.001, regularization: 0.001, neg_prop: 50\n"
     ]
    },
    {
     "data": {
      "application/vnd.jupyter.widget-view+json": {
       "model_id": "152f6d9b6dcd4e25bfe59c7fdf721fd4",
       "version_major": 2,
       "version_minor": 0
      },
      "text/plain": [
       "  0%|          | 0/30 [00:00<?, ?it/s]"
      ]
     },
     "metadata": {},
     "output_type": "display_data"
    },
    {
     "name": "stdout",
     "output_type": "stream",
     "text": [
      "--- 2.5571441650390625 seconds ---\n",
      "MRR@100 = 0.0000\n",
      "factors: 5, iterations: 30, learning_rate: 0.001, regularization: 0.01, neg_prop: 5\n"
     ]
    },
    {
     "data": {
      "application/vnd.jupyter.widget-view+json": {
       "model_id": "a9cbb6fbfcfc4fcc96623ede48ce1627",
       "version_major": 2,
       "version_minor": 0
      },
      "text/plain": [
       "  0%|          | 0/30 [00:00<?, ?it/s]"
      ]
     },
     "metadata": {},
     "output_type": "display_data"
    },
    {
     "name": "stdout",
     "output_type": "stream",
     "text": [
      "--- 2.4992001056671143 seconds ---\n",
      "MRR@100 = 0.0000\n",
      "factors: 5, iterations: 30, learning_rate: 0.001, regularization: 0.01, neg_prop: 15\n"
     ]
    },
    {
     "data": {
      "application/vnd.jupyter.widget-view+json": {
       "model_id": "5460e0b902034852b36ea37c9f755633",
       "version_major": 2,
       "version_minor": 0
      },
      "text/plain": [
       "  0%|          | 0/30 [00:00<?, ?it/s]"
      ]
     },
     "metadata": {},
     "output_type": "display_data"
    },
    {
     "name": "stdout",
     "output_type": "stream",
     "text": [
      "--- 2.5868611335754395 seconds ---\n",
      "MRR@100 = 0.0000\n",
      "factors: 5, iterations: 30, learning_rate: 0.001, regularization: 0.01, neg_prop: 30\n"
     ]
    },
    {
     "data": {
      "application/vnd.jupyter.widget-view+json": {
       "model_id": "ccf8c5c9b1f14558bbec84a2cc33a55f",
       "version_major": 2,
       "version_minor": 0
      },
      "text/plain": [
       "  0%|          | 0/30 [00:00<?, ?it/s]"
      ]
     },
     "metadata": {},
     "output_type": "display_data"
    },
    {
     "name": "stdout",
     "output_type": "stream",
     "text": [
      "--- 2.5021400451660156 seconds ---\n",
      "MRR@100 = 0.0000\n",
      "factors: 5, iterations: 30, learning_rate: 0.001, regularization: 0.01, neg_prop: 50\n"
     ]
    },
    {
     "data": {
      "application/vnd.jupyter.widget-view+json": {
       "model_id": "d96931e5f7934cf7b620a488d6b5e55b",
       "version_major": 2,
       "version_minor": 0
      },
      "text/plain": [
       "  0%|          | 0/30 [00:00<?, ?it/s]"
      ]
     },
     "metadata": {},
     "output_type": "display_data"
    },
    {
     "name": "stdout",
     "output_type": "stream",
     "text": [
      "--- 2.8957650661468506 seconds ---\n",
      "MRR@100 = 0.0000\n",
      "factors: 5, iterations: 30, learning_rate: 0.001, regularization: 0.1, neg_prop: 5\n"
     ]
    },
    {
     "data": {
      "application/vnd.jupyter.widget-view+json": {
       "model_id": "71aaf9fc592044f3979e7f26e0eca88b",
       "version_major": 2,
       "version_minor": 0
      },
      "text/plain": [
       "  0%|          | 0/30 [00:00<?, ?it/s]"
      ]
     },
     "metadata": {},
     "output_type": "display_data"
    },
    {
     "name": "stdout",
     "output_type": "stream",
     "text": [
      "--- 2.5758249759674072 seconds ---\n",
      "MRR@100 = 0.0000\n",
      "factors: 5, iterations: 30, learning_rate: 0.001, regularization: 0.1, neg_prop: 15\n"
     ]
    },
    {
     "data": {
      "application/vnd.jupyter.widget-view+json": {
       "model_id": "607c10bcc0e64bbfbe6f31536492112d",
       "version_major": 2,
       "version_minor": 0
      },
      "text/plain": [
       "  0%|          | 0/30 [00:00<?, ?it/s]"
      ]
     },
     "metadata": {},
     "output_type": "display_data"
    },
    {
     "name": "stdout",
     "output_type": "stream",
     "text": [
      "--- 2.4281539916992188 seconds ---\n",
      "MRR@100 = 0.0000\n",
      "factors: 5, iterations: 30, learning_rate: 0.001, regularization: 0.1, neg_prop: 30\n"
     ]
    },
    {
     "data": {
      "application/vnd.jupyter.widget-view+json": {
       "model_id": "cb0c7c1fa75044eb905781edabe128f3",
       "version_major": 2,
       "version_minor": 0
      },
      "text/plain": [
       "  0%|          | 0/30 [00:00<?, ?it/s]"
      ]
     },
     "metadata": {},
     "output_type": "display_data"
    },
    {
     "name": "stdout",
     "output_type": "stream",
     "text": [
      "--- 2.3999359607696533 seconds ---\n",
      "MRR@100 = 0.0000\n",
      "factors: 5, iterations: 30, learning_rate: 0.001, regularization: 0.1, neg_prop: 50\n"
     ]
    },
    {
     "data": {
      "application/vnd.jupyter.widget-view+json": {
       "model_id": "b3f1949449484a64a29e54114476d304",
       "version_major": 2,
       "version_minor": 0
      },
      "text/plain": [
       "  0%|          | 0/30 [00:00<?, ?it/s]"
      ]
     },
     "metadata": {},
     "output_type": "display_data"
    },
    {
     "name": "stdout",
     "output_type": "stream",
     "text": [
      "--- 2.3028390407562256 seconds ---\n",
      "MRR@100 = 0.0000\n",
      "factors: 5, iterations: 30, learning_rate: 0.001, regularization: 1, neg_prop: 5\n"
     ]
    },
    {
     "data": {
      "application/vnd.jupyter.widget-view+json": {
       "model_id": "723e7dc49e4c48f78fd3f1d60f882152",
       "version_major": 2,
       "version_minor": 0
      },
      "text/plain": [
       "  0%|          | 0/30 [00:00<?, ?it/s]"
      ]
     },
     "metadata": {},
     "output_type": "display_data"
    },
    {
     "name": "stdout",
     "output_type": "stream",
     "text": [
      "--- 2.32682204246521 seconds ---\n",
      "MRR@100 = 0.0000\n",
      "factors: 5, iterations: 30, learning_rate: 0.001, regularization: 1, neg_prop: 15\n"
     ]
    },
    {
     "data": {
      "application/vnd.jupyter.widget-view+json": {
       "model_id": "3972da32409b4045aeeabfc1bbb751f5",
       "version_major": 2,
       "version_minor": 0
      },
      "text/plain": [
       "  0%|          | 0/30 [00:00<?, ?it/s]"
      ]
     },
     "metadata": {},
     "output_type": "display_data"
    },
    {
     "name": "stdout",
     "output_type": "stream",
     "text": [
      "--- 2.367871046066284 seconds ---\n",
      "MRR@100 = 0.0000\n",
      "factors: 5, iterations: 30, learning_rate: 0.001, regularization: 1, neg_prop: 30\n"
     ]
    },
    {
     "data": {
      "application/vnd.jupyter.widget-view+json": {
       "model_id": "7ba5785b53654ddab4936d05eea16f2b",
       "version_major": 2,
       "version_minor": 0
      },
      "text/plain": [
       "  0%|          | 0/30 [00:00<?, ?it/s]"
      ]
     },
     "metadata": {},
     "output_type": "display_data"
    },
    {
     "name": "stdout",
     "output_type": "stream",
     "text": [
      "--- 2.8886919021606445 seconds ---\n",
      "MRR@100 = 0.0000\n",
      "factors: 5, iterations: 30, learning_rate: 0.001, regularization: 1, neg_prop: 50\n"
     ]
    },
    {
     "data": {
      "application/vnd.jupyter.widget-view+json": {
       "model_id": "24b8512ac5ee452fabf0f215abd21b28",
       "version_major": 2,
       "version_minor": 0
      },
      "text/plain": [
       "  0%|          | 0/30 [00:00<?, ?it/s]"
      ]
     },
     "metadata": {},
     "output_type": "display_data"
    },
    {
     "name": "stdout",
     "output_type": "stream",
     "text": [
      "--- 2.503770112991333 seconds ---\n",
      "MRR@100 = 0.0000\n",
      "factors: 5, iterations: 30, learning_rate: 0.001, regularization: 10, neg_prop: 5\n"
     ]
    },
    {
     "data": {
      "application/vnd.jupyter.widget-view+json": {
       "model_id": "470b7362de364b5688d6f759d4ee97d8",
       "version_major": 2,
       "version_minor": 0
      },
      "text/plain": [
       "  0%|          | 0/30 [00:00<?, ?it/s]"
      ]
     },
     "metadata": {},
     "output_type": "display_data"
    },
    {
     "name": "stdout",
     "output_type": "stream",
     "text": [
      "--- 3.037729024887085 seconds ---\n",
      "MRR@100 = 0.0000\n",
      "factors: 5, iterations: 30, learning_rate: 0.001, regularization: 10, neg_prop: 15\n"
     ]
    },
    {
     "data": {
      "application/vnd.jupyter.widget-view+json": {
       "model_id": "af2f95ac842442ffa8a64054f7c6370d",
       "version_major": 2,
       "version_minor": 0
      },
      "text/plain": [
       "  0%|          | 0/30 [00:00<?, ?it/s]"
      ]
     },
     "metadata": {},
     "output_type": "display_data"
    },
    {
     "name": "stdout",
     "output_type": "stream",
     "text": [
      "--- 2.3655600547790527 seconds ---\n",
      "MRR@100 = 0.0000\n",
      "factors: 5, iterations: 30, learning_rate: 0.001, regularization: 10, neg_prop: 30\n"
     ]
    },
    {
     "data": {
      "application/vnd.jupyter.widget-view+json": {
       "model_id": "5facfa2e1c384719b96a08da1e23cad0",
       "version_major": 2,
       "version_minor": 0
      },
      "text/plain": [
       "  0%|          | 0/30 [00:00<?, ?it/s]"
      ]
     },
     "metadata": {},
     "output_type": "display_data"
    },
    {
     "name": "stdout",
     "output_type": "stream",
     "text": [
      "--- 2.37149715423584 seconds ---\n",
      "MRR@100 = 0.0000\n",
      "factors: 5, iterations: 30, learning_rate: 0.001, regularization: 10, neg_prop: 50\n"
     ]
    },
    {
     "data": {
      "application/vnd.jupyter.widget-view+json": {
       "model_id": "c6b4aefdc5e3460cbfb39a22db937ca3",
       "version_major": 2,
       "version_minor": 0
      },
      "text/plain": [
       "  0%|          | 0/30 [00:00<?, ?it/s]"
      ]
     },
     "metadata": {},
     "output_type": "display_data"
    },
    {
     "name": "stdout",
     "output_type": "stream",
     "text": [
      "--- 2.2861900329589844 seconds ---\n",
      "MRR@100 = 0.0000\n",
      "factors: 5, iterations: 30, learning_rate: 0.001, regularization: 100, neg_prop: 5\n"
     ]
    },
    {
     "data": {
      "application/vnd.jupyter.widget-view+json": {
       "model_id": "c4fca8b7b56b4de9b429ea4bfd7b3275",
       "version_major": 2,
       "version_minor": 0
      },
      "text/plain": [
       "  0%|          | 0/30 [00:00<?, ?it/s]"
      ]
     },
     "metadata": {},
     "output_type": "display_data"
    },
    {
     "name": "stdout",
     "output_type": "stream",
     "text": [
      "--- 2.3520541191101074 seconds ---\n",
      "MRR@100 = 0.0000\n",
      "factors: 5, iterations: 30, learning_rate: 0.001, regularization: 100, neg_prop: 15\n"
     ]
    },
    {
     "data": {
      "application/vnd.jupyter.widget-view+json": {
       "model_id": "c53f55937d4e4235b82b218f38e9eb86",
       "version_major": 2,
       "version_minor": 0
      },
      "text/plain": [
       "  0%|          | 0/30 [00:00<?, ?it/s]"
      ]
     },
     "metadata": {},
     "output_type": "display_data"
    },
    {
     "name": "stdout",
     "output_type": "stream",
     "text": [
      "--- 2.357353925704956 seconds ---\n",
      "MRR@100 = 0.0000\n",
      "factors: 5, iterations: 30, learning_rate: 0.001, regularization: 100, neg_prop: 30\n"
     ]
    },
    {
     "data": {
      "application/vnd.jupyter.widget-view+json": {
       "model_id": "ea6d6f89f66c4a45af6033d4d7ab8e10",
       "version_major": 2,
       "version_minor": 0
      },
      "text/plain": [
       "  0%|          | 0/30 [00:00<?, ?it/s]"
      ]
     },
     "metadata": {},
     "output_type": "display_data"
    },
    {
     "name": "stdout",
     "output_type": "stream",
     "text": [
      "--- 2.293959856033325 seconds ---\n",
      "MRR@100 = 0.0000\n",
      "factors: 5, iterations: 30, learning_rate: 0.001, regularization: 100, neg_prop: 50\n"
     ]
    },
    {
     "data": {
      "application/vnd.jupyter.widget-view+json": {
       "model_id": "840868404c8b433bb6f2c768c504f816",
       "version_major": 2,
       "version_minor": 0
      },
      "text/plain": [
       "  0%|          | 0/30 [00:00<?, ?it/s]"
      ]
     },
     "metadata": {},
     "output_type": "display_data"
    },
    {
     "name": "stdout",
     "output_type": "stream",
     "text": [
      "--- 2.283337116241455 seconds ---\n",
      "MRR@100 = 0.0000\n",
      "factors: 5, iterations: 30, learning_rate: 0.01, regularization: 0.001, neg_prop: 5\n"
     ]
    },
    {
     "data": {
      "application/vnd.jupyter.widget-view+json": {
       "model_id": "b009ebc169bb4b019dfa07e8290e4176",
       "version_major": 2,
       "version_minor": 0
      },
      "text/plain": [
       "  0%|          | 0/30 [00:00<?, ?it/s]"
      ]
     },
     "metadata": {},
     "output_type": "display_data"
    },
    {
     "name": "stdout",
     "output_type": "stream",
     "text": [
      "--- 2.3754160404205322 seconds ---\n",
      "MRR@100 = 0.0000\n",
      "factors: 5, iterations: 30, learning_rate: 0.01, regularization: 0.001, neg_prop: 15\n"
     ]
    },
    {
     "data": {
      "application/vnd.jupyter.widget-view+json": {
       "model_id": "0aa74b274b474924ac8a075a33954fbd",
       "version_major": 2,
       "version_minor": 0
      },
      "text/plain": [
       "  0%|          | 0/30 [00:00<?, ?it/s]"
      ]
     },
     "metadata": {},
     "output_type": "display_data"
    },
    {
     "name": "stdout",
     "output_type": "stream",
     "text": [
      "--- 2.712585926055908 seconds ---\n",
      "MRR@100 = 0.0000\n",
      "factors: 5, iterations: 30, learning_rate: 0.01, regularization: 0.001, neg_prop: 30\n"
     ]
    },
    {
     "data": {
      "application/vnd.jupyter.widget-view+json": {
       "model_id": "c18c13c6ec8747ed900863df88c1c270",
       "version_major": 2,
       "version_minor": 0
      },
      "text/plain": [
       "  0%|          | 0/30 [00:00<?, ?it/s]"
      ]
     },
     "metadata": {},
     "output_type": "display_data"
    },
    {
     "name": "stdout",
     "output_type": "stream",
     "text": [
      "--- 2.298764228820801 seconds ---\n",
      "MRR@100 = 0.0000\n",
      "factors: 5, iterations: 30, learning_rate: 0.01, regularization: 0.001, neg_prop: 50\n"
     ]
    },
    {
     "data": {
      "application/vnd.jupyter.widget-view+json": {
       "model_id": "db9de1d0adfa47b4858accee862e4c64",
       "version_major": 2,
       "version_minor": 0
      },
      "text/plain": [
       "  0%|          | 0/30 [00:00<?, ?it/s]"
      ]
     },
     "metadata": {},
     "output_type": "display_data"
    },
    {
     "name": "stdout",
     "output_type": "stream",
     "text": [
      "--- 2.515251874923706 seconds ---\n",
      "MRR@100 = 0.0000\n",
      "factors: 5, iterations: 30, learning_rate: 0.01, regularization: 0.01, neg_prop: 5\n"
     ]
    },
    {
     "data": {
      "application/vnd.jupyter.widget-view+json": {
       "model_id": "fc25c631d2d04d379dac0fda5ab67bbc",
       "version_major": 2,
       "version_minor": 0
      },
      "text/plain": [
       "  0%|          | 0/30 [00:00<?, ?it/s]"
      ]
     },
     "metadata": {},
     "output_type": "display_data"
    },
    {
     "name": "stdout",
     "output_type": "stream",
     "text": [
      "--- 2.421990156173706 seconds ---\n",
      "MRR@100 = 0.0000\n",
      "factors: 5, iterations: 30, learning_rate: 0.01, regularization: 0.01, neg_prop: 15\n"
     ]
    },
    {
     "data": {
      "application/vnd.jupyter.widget-view+json": {
       "model_id": "ee896dd0a2644504bc0fd4db4e1508f4",
       "version_major": 2,
       "version_minor": 0
      },
      "text/plain": [
       "  0%|          | 0/30 [00:00<?, ?it/s]"
      ]
     },
     "metadata": {},
     "output_type": "display_data"
    },
    {
     "name": "stdout",
     "output_type": "stream",
     "text": [
      "--- 2.5010030269622803 seconds ---\n",
      "MRR@100 = 0.0000\n",
      "factors: 5, iterations: 30, learning_rate: 0.01, regularization: 0.01, neg_prop: 30\n"
     ]
    },
    {
     "data": {
      "application/vnd.jupyter.widget-view+json": {
       "model_id": "6153d8408089492c8a84651f3e0bf084",
       "version_major": 2,
       "version_minor": 0
      },
      "text/plain": [
       "  0%|          | 0/30 [00:00<?, ?it/s]"
      ]
     },
     "metadata": {},
     "output_type": "display_data"
    },
    {
     "name": "stdout",
     "output_type": "stream",
     "text": [
      "--- 2.4871280193328857 seconds ---\n",
      "MRR@100 = 0.0000\n",
      "factors: 5, iterations: 30, learning_rate: 0.01, regularization: 0.01, neg_prop: 50\n"
     ]
    },
    {
     "data": {
      "application/vnd.jupyter.widget-view+json": {
       "model_id": "829cdde49b2b4e7986389948b167d410",
       "version_major": 2,
       "version_minor": 0
      },
      "text/plain": [
       "  0%|          | 0/30 [00:00<?, ?it/s]"
      ]
     },
     "metadata": {},
     "output_type": "display_data"
    },
    {
     "name": "stdout",
     "output_type": "stream",
     "text": [
      "--- 2.450662136077881 seconds ---\n",
      "MRR@100 = 0.0000\n",
      "factors: 5, iterations: 30, learning_rate: 0.01, regularization: 0.1, neg_prop: 5\n"
     ]
    },
    {
     "data": {
      "application/vnd.jupyter.widget-view+json": {
       "model_id": "aeda9ac7ebec4178b0032c5c882cdc6c",
       "version_major": 2,
       "version_minor": 0
      },
      "text/plain": [
       "  0%|          | 0/30 [00:00<?, ?it/s]"
      ]
     },
     "metadata": {},
     "output_type": "display_data"
    },
    {
     "name": "stdout",
     "output_type": "stream",
     "text": [
      "--- 2.394646167755127 seconds ---\n",
      "MRR@100 = 0.0000\n",
      "factors: 5, iterations: 30, learning_rate: 0.01, regularization: 0.1, neg_prop: 15\n"
     ]
    },
    {
     "data": {
      "application/vnd.jupyter.widget-view+json": {
       "model_id": "6506963cd16b4e97ab204114af1b7000",
       "version_major": 2,
       "version_minor": 0
      },
      "text/plain": [
       "  0%|          | 0/30 [00:00<?, ?it/s]"
      ]
     },
     "metadata": {},
     "output_type": "display_data"
    },
    {
     "name": "stdout",
     "output_type": "stream",
     "text": [
      "--- 2.4171040058135986 seconds ---\n",
      "MRR@100 = 0.0000\n",
      "factors: 5, iterations: 30, learning_rate: 0.01, regularization: 0.1, neg_prop: 30\n"
     ]
    },
    {
     "data": {
      "application/vnd.jupyter.widget-view+json": {
       "model_id": "0391131216084409a8939f3373e2cc00",
       "version_major": 2,
       "version_minor": 0
      },
      "text/plain": [
       "  0%|          | 0/30 [00:00<?, ?it/s]"
      ]
     },
     "metadata": {},
     "output_type": "display_data"
    },
    {
     "name": "stdout",
     "output_type": "stream",
     "text": [
      "--- 2.5252161026000977 seconds ---\n",
      "MRR@100 = 0.0000\n",
      "factors: 5, iterations: 30, learning_rate: 0.01, regularization: 0.1, neg_prop: 50\n"
     ]
    },
    {
     "data": {
      "application/vnd.jupyter.widget-view+json": {
       "model_id": "6dc9997a440b49a798d6bcde2373dca7",
       "version_major": 2,
       "version_minor": 0
      },
      "text/plain": [
       "  0%|          | 0/30 [00:00<?, ?it/s]"
      ]
     },
     "metadata": {},
     "output_type": "display_data"
    },
    {
     "name": "stdout",
     "output_type": "stream",
     "text": [
      "--- 2.3901190757751465 seconds ---\n",
      "MRR@100 = 0.0000\n",
      "factors: 5, iterations: 30, learning_rate: 0.01, regularization: 1, neg_prop: 5\n"
     ]
    },
    {
     "data": {
      "application/vnd.jupyter.widget-view+json": {
       "model_id": "15386d4c547d456ca2b093c0055c090b",
       "version_major": 2,
       "version_minor": 0
      },
      "text/plain": [
       "  0%|          | 0/30 [00:00<?, ?it/s]"
      ]
     },
     "metadata": {},
     "output_type": "display_data"
    },
    {
     "name": "stdout",
     "output_type": "stream",
     "text": [
      "--- 2.506495952606201 seconds ---\n",
      "MRR@100 = 0.0000\n",
      "factors: 5, iterations: 30, learning_rate: 0.01, regularization: 1, neg_prop: 15\n"
     ]
    },
    {
     "data": {
      "application/vnd.jupyter.widget-view+json": {
       "model_id": "47e7ffa7427d4190a4f73b7063cda9b8",
       "version_major": 2,
       "version_minor": 0
      },
      "text/plain": [
       "  0%|          | 0/30 [00:00<?, ?it/s]"
      ]
     },
     "metadata": {},
     "output_type": "display_data"
    },
    {
     "name": "stdout",
     "output_type": "stream",
     "text": [
      "--- 2.5225460529327393 seconds ---\n",
      "MRR@100 = 0.0000\n",
      "factors: 5, iterations: 30, learning_rate: 0.01, regularization: 1, neg_prop: 30\n"
     ]
    },
    {
     "data": {
      "application/vnd.jupyter.widget-view+json": {
       "model_id": "6b96df6a16dd4affad54dcde9389e070",
       "version_major": 2,
       "version_minor": 0
      },
      "text/plain": [
       "  0%|          | 0/30 [00:00<?, ?it/s]"
      ]
     },
     "metadata": {},
     "output_type": "display_data"
    },
    {
     "name": "stdout",
     "output_type": "stream",
     "text": [
      "--- 2.414903163909912 seconds ---\n",
      "MRR@100 = 0.0000\n",
      "factors: 5, iterations: 30, learning_rate: 0.01, regularization: 1, neg_prop: 50\n"
     ]
    },
    {
     "data": {
      "application/vnd.jupyter.widget-view+json": {
       "model_id": "4418cf559bd244968ea135bc0c59b410",
       "version_major": 2,
       "version_minor": 0
      },
      "text/plain": [
       "  0%|          | 0/30 [00:00<?, ?it/s]"
      ]
     },
     "metadata": {},
     "output_type": "display_data"
    },
    {
     "name": "stdout",
     "output_type": "stream",
     "text": [
      "--- 2.400113821029663 seconds ---\n",
      "MRR@100 = 0.0000\n",
      "factors: 5, iterations: 30, learning_rate: 0.01, regularization: 10, neg_prop: 5\n"
     ]
    },
    {
     "data": {
      "application/vnd.jupyter.widget-view+json": {
       "model_id": "eeb0457c5ee749b086411cfe0d61ae07",
       "version_major": 2,
       "version_minor": 0
      },
      "text/plain": [
       "  0%|          | 0/30 [00:00<?, ?it/s]"
      ]
     },
     "metadata": {},
     "output_type": "display_data"
    },
    {
     "name": "stdout",
     "output_type": "stream",
     "text": [
      "--- 2.4345738887786865 seconds ---\n",
      "MRR@100 = 0.0000\n",
      "factors: 5, iterations: 30, learning_rate: 0.01, regularization: 10, neg_prop: 15\n"
     ]
    },
    {
     "data": {
      "application/vnd.jupyter.widget-view+json": {
       "model_id": "9a8bce2c6a7546fd84ed2cc9881f793c",
       "version_major": 2,
       "version_minor": 0
      },
      "text/plain": [
       "  0%|          | 0/30 [00:00<?, ?it/s]"
      ]
     },
     "metadata": {},
     "output_type": "display_data"
    },
    {
     "name": "stdout",
     "output_type": "stream",
     "text": [
      "--- 2.3656020164489746 seconds ---\n",
      "MRR@100 = 0.0000\n",
      "factors: 5, iterations: 30, learning_rate: 0.01, regularization: 10, neg_prop: 30\n"
     ]
    },
    {
     "data": {
      "application/vnd.jupyter.widget-view+json": {
       "model_id": "b88052584fd74ecbb8dc2d4aa8d5df25",
       "version_major": 2,
       "version_minor": 0
      },
      "text/plain": [
       "  0%|          | 0/30 [00:00<?, ?it/s]"
      ]
     },
     "metadata": {},
     "output_type": "display_data"
    },
    {
     "name": "stdout",
     "output_type": "stream",
     "text": [
      "--- 2.460145950317383 seconds ---\n",
      "MRR@100 = 0.0000\n",
      "factors: 5, iterations: 30, learning_rate: 0.01, regularization: 10, neg_prop: 50\n"
     ]
    },
    {
     "data": {
      "application/vnd.jupyter.widget-view+json": {
       "model_id": "1e25a31baf5546288cbfcf19e6cb0c1b",
       "version_major": 2,
       "version_minor": 0
      },
      "text/plain": [
       "  0%|          | 0/30 [00:00<?, ?it/s]"
      ]
     },
     "metadata": {},
     "output_type": "display_data"
    },
    {
     "name": "stdout",
     "output_type": "stream",
     "text": [
      "--- 2.3418920040130615 seconds ---\n",
      "MRR@100 = 0.0000\n",
      "factors: 5, iterations: 30, learning_rate: 0.01, regularization: 100, neg_prop: 5\n"
     ]
    },
    {
     "data": {
      "application/vnd.jupyter.widget-view+json": {
       "model_id": "a9b576f49c65470e8af9f8d41546ac20",
       "version_major": 2,
       "version_minor": 0
      },
      "text/plain": [
       "  0%|          | 0/30 [00:00<?, ?it/s]"
      ]
     },
     "metadata": {},
     "output_type": "display_data"
    },
    {
     "name": "stdout",
     "output_type": "stream",
     "text": [
      "--- 2.4336109161376953 seconds ---\n",
      "MRR@100 = 0.0000\n",
      "factors: 5, iterations: 30, learning_rate: 0.01, regularization: 100, neg_prop: 15\n"
     ]
    },
    {
     "data": {
      "application/vnd.jupyter.widget-view+json": {
       "model_id": "8a4918f31dfd417f80d27ee86b0a9296",
       "version_major": 2,
       "version_minor": 0
      },
      "text/plain": [
       "  0%|          | 0/30 [00:00<?, ?it/s]"
      ]
     },
     "metadata": {},
     "output_type": "display_data"
    },
    {
     "name": "stdout",
     "output_type": "stream",
     "text": [
      "--- 2.356431007385254 seconds ---\n",
      "MRR@100 = 0.0000\n",
      "factors: 5, iterations: 30, learning_rate: 0.01, regularization: 100, neg_prop: 30\n"
     ]
    },
    {
     "data": {
      "application/vnd.jupyter.widget-view+json": {
       "model_id": "9869a60e849a43379051d2048e3a0032",
       "version_major": 2,
       "version_minor": 0
      },
      "text/plain": [
       "  0%|          | 0/30 [00:00<?, ?it/s]"
      ]
     },
     "metadata": {},
     "output_type": "display_data"
    },
    {
     "name": "stdout",
     "output_type": "stream",
     "text": [
      "--- 2.4981212615966797 seconds ---\n",
      "MRR@100 = 0.0000\n",
      "factors: 5, iterations: 30, learning_rate: 0.01, regularization: 100, neg_prop: 50\n"
     ]
    },
    {
     "data": {
      "application/vnd.jupyter.widget-view+json": {
       "model_id": "59798cd87125475aa49585a2e9503d72",
       "version_major": 2,
       "version_minor": 0
      },
      "text/plain": [
       "  0%|          | 0/30 [00:00<?, ?it/s]"
      ]
     },
     "metadata": {},
     "output_type": "display_data"
    },
    {
     "name": "stdout",
     "output_type": "stream",
     "text": [
      "--- 2.397705078125 seconds ---\n",
      "MRR@100 = 0.0000\n",
      "factors: 5, iterations: 30, learning_rate: 0.1, regularization: 0.001, neg_prop: 5\n"
     ]
    },
    {
     "data": {
      "application/vnd.jupyter.widget-view+json": {
       "model_id": "4334d59bc0df4378b76de8b93e27af6f",
       "version_major": 2,
       "version_minor": 0
      },
      "text/plain": [
       "  0%|          | 0/30 [00:00<?, ?it/s]"
      ]
     },
     "metadata": {},
     "output_type": "display_data"
    },
    {
     "name": "stdout",
     "output_type": "stream",
     "text": [
      "--- 2.5057358741760254 seconds ---\n",
      "MRR@100 = 0.0001\n",
      "factors: 5, iterations: 30, learning_rate: 0.1, regularization: 0.001, neg_prop: 15\n"
     ]
    },
    {
     "data": {
      "application/vnd.jupyter.widget-view+json": {
       "model_id": "c9a1325f6cd544f0987098cea010a191",
       "version_major": 2,
       "version_minor": 0
      },
      "text/plain": [
       "  0%|          | 0/30 [00:00<?, ?it/s]"
      ]
     },
     "metadata": {},
     "output_type": "display_data"
    },
    {
     "name": "stdout",
     "output_type": "stream",
     "text": [
      "--- 2.38334584236145 seconds ---\n",
      "MRR@100 = 0.0001\n",
      "factors: 5, iterations: 30, learning_rate: 0.1, regularization: 0.001, neg_prop: 30\n"
     ]
    },
    {
     "data": {
      "application/vnd.jupyter.widget-view+json": {
       "model_id": "0a526bb8bb8b469091116c7aa7ab8d31",
       "version_major": 2,
       "version_minor": 0
      },
      "text/plain": [
       "  0%|          | 0/30 [00:00<?, ?it/s]"
      ]
     },
     "metadata": {},
     "output_type": "display_data"
    },
    {
     "name": "stdout",
     "output_type": "stream",
     "text": [
      "--- 2.3760950565338135 seconds ---\n",
      "MRR@100 = 0.0001\n",
      "factors: 5, iterations: 30, learning_rate: 0.1, regularization: 0.001, neg_prop: 50\n"
     ]
    },
    {
     "data": {
      "application/vnd.jupyter.widget-view+json": {
       "model_id": "64c7232f7001408f961a5e9de1d06c91",
       "version_major": 2,
       "version_minor": 0
      },
      "text/plain": [
       "  0%|          | 0/30 [00:00<?, ?it/s]"
      ]
     },
     "metadata": {},
     "output_type": "display_data"
    },
    {
     "name": "stdout",
     "output_type": "stream",
     "text": [
      "--- 2.347118854522705 seconds ---\n",
      "MRR@100 = 0.0001\n",
      "factors: 5, iterations: 30, learning_rate: 0.1, regularization: 0.01, neg_prop: 5\n"
     ]
    },
    {
     "data": {
      "application/vnd.jupyter.widget-view+json": {
       "model_id": "c7749adf943e463e96a8fa0847fc3a66",
       "version_major": 2,
       "version_minor": 0
      },
      "text/plain": [
       "  0%|          | 0/30 [00:00<?, ?it/s]"
      ]
     },
     "metadata": {},
     "output_type": "display_data"
    },
    {
     "name": "stdout",
     "output_type": "stream",
     "text": [
      "--- 2.3719160556793213 seconds ---\n",
      "MRR@100 = 0.0001\n",
      "factors: 5, iterations: 30, learning_rate: 0.1, regularization: 0.01, neg_prop: 15\n"
     ]
    },
    {
     "data": {
      "application/vnd.jupyter.widget-view+json": {
       "model_id": "2e1339a157ae4841bcf64e6ea6b36c08",
       "version_major": 2,
       "version_minor": 0
      },
      "text/plain": [
       "  0%|          | 0/30 [00:00<?, ?it/s]"
      ]
     },
     "metadata": {},
     "output_type": "display_data"
    },
    {
     "name": "stdout",
     "output_type": "stream",
     "text": [
      "--- 2.4296178817749023 seconds ---\n",
      "MRR@100 = 0.0001\n",
      "factors: 5, iterations: 30, learning_rate: 0.1, regularization: 0.01, neg_prop: 30\n"
     ]
    },
    {
     "data": {
      "application/vnd.jupyter.widget-view+json": {
       "model_id": "137eadb5e3f24d898e7da47c5cea0169",
       "version_major": 2,
       "version_minor": 0
      },
      "text/plain": [
       "  0%|          | 0/30 [00:00<?, ?it/s]"
      ]
     },
     "metadata": {},
     "output_type": "display_data"
    },
    {
     "name": "stdout",
     "output_type": "stream",
     "text": [
      "--- 2.4974489212036133 seconds ---\n",
      "MRR@100 = 0.0001\n",
      "factors: 5, iterations: 30, learning_rate: 0.1, regularization: 0.01, neg_prop: 50\n"
     ]
    },
    {
     "data": {
      "application/vnd.jupyter.widget-view+json": {
       "model_id": "802645d736d84e8fba1cdf16a620bcc4",
       "version_major": 2,
       "version_minor": 0
      },
      "text/plain": [
       "  0%|          | 0/30 [00:00<?, ?it/s]"
      ]
     },
     "metadata": {},
     "output_type": "display_data"
    },
    {
     "name": "stdout",
     "output_type": "stream",
     "text": [
      "--- 2.3363430500030518 seconds ---\n",
      "MRR@100 = 0.0001\n",
      "factors: 5, iterations: 30, learning_rate: 0.1, regularization: 0.1, neg_prop: 5\n"
     ]
    },
    {
     "data": {
      "application/vnd.jupyter.widget-view+json": {
       "model_id": "a16ddca7a9f142df86a6eccdeb4645d9",
       "version_major": 2,
       "version_minor": 0
      },
      "text/plain": [
       "  0%|          | 0/30 [00:00<?, ?it/s]"
      ]
     },
     "metadata": {},
     "output_type": "display_data"
    },
    {
     "name": "stdout",
     "output_type": "stream",
     "text": [
      "--- 2.3827483654022217 seconds ---\n",
      "MRR@100 = 0.0001\n",
      "factors: 5, iterations: 30, learning_rate: 0.1, regularization: 0.1, neg_prop: 15\n"
     ]
    },
    {
     "data": {
      "application/vnd.jupyter.widget-view+json": {
       "model_id": "a51b9e6eac8d41d4909c87738e2baa03",
       "version_major": 2,
       "version_minor": 0
      },
      "text/plain": [
       "  0%|          | 0/30 [00:00<?, ?it/s]"
      ]
     },
     "metadata": {},
     "output_type": "display_data"
    },
    {
     "name": "stdout",
     "output_type": "stream",
     "text": [
      "--- 2.4787251949310303 seconds ---\n",
      "MRR@100 = 0.0002\n",
      "factors: 5, iterations: 30, learning_rate: 0.1, regularization: 0.1, neg_prop: 30\n"
     ]
    },
    {
     "data": {
      "application/vnd.jupyter.widget-view+json": {
       "model_id": "d26a2971cc0b4c3d9bd465514c332597",
       "version_major": 2,
       "version_minor": 0
      },
      "text/plain": [
       "  0%|          | 0/30 [00:00<?, ?it/s]"
      ]
     },
     "metadata": {},
     "output_type": "display_data"
    },
    {
     "name": "stdout",
     "output_type": "stream",
     "text": [
      "--- 2.360229730606079 seconds ---\n",
      "MRR@100 = 0.0002\n",
      "factors: 5, iterations: 30, learning_rate: 0.1, regularization: 0.1, neg_prop: 50\n"
     ]
    },
    {
     "data": {
      "application/vnd.jupyter.widget-view+json": {
       "model_id": "c562a42f4c11469b9bb195894bac175a",
       "version_major": 2,
       "version_minor": 0
      },
      "text/plain": [
       "  0%|          | 0/30 [00:00<?, ?it/s]"
      ]
     },
     "metadata": {},
     "output_type": "display_data"
    },
    {
     "name": "stdout",
     "output_type": "stream",
     "text": [
      "--- 2.373776912689209 seconds ---\n",
      "MRR@100 = 0.0002\n",
      "factors: 5, iterations: 30, learning_rate: 0.1, regularization: 1, neg_prop: 5\n"
     ]
    },
    {
     "data": {
      "application/vnd.jupyter.widget-view+json": {
       "model_id": "7961e34649744445aa1be92a76b0d3f1",
       "version_major": 2,
       "version_minor": 0
      },
      "text/plain": [
       "  0%|          | 0/30 [00:00<?, ?it/s]"
      ]
     },
     "metadata": {},
     "output_type": "display_data"
    },
    {
     "name": "stdout",
     "output_type": "stream",
     "text": [
      "--- 2.421168088912964 seconds ---\n",
      "MRR@100 = 0.0002\n",
      "factors: 5, iterations: 30, learning_rate: 0.1, regularization: 1, neg_prop: 15\n"
     ]
    },
    {
     "data": {
      "application/vnd.jupyter.widget-view+json": {
       "model_id": "7206ffe2dd154a15841a63539e539a1d",
       "version_major": 2,
       "version_minor": 0
      },
      "text/plain": [
       "  0%|          | 0/30 [00:00<?, ?it/s]"
      ]
     },
     "metadata": {},
     "output_type": "display_data"
    },
    {
     "name": "stdout",
     "output_type": "stream",
     "text": [
      "--- 2.3549981117248535 seconds ---\n",
      "MRR@100 = 0.0002\n",
      "factors: 5, iterations: 30, learning_rate: 0.1, regularization: 1, neg_prop: 30\n"
     ]
    },
    {
     "data": {
      "application/vnd.jupyter.widget-view+json": {
       "model_id": "393d4b52694c451ba390a508ae56cf88",
       "version_major": 2,
       "version_minor": 0
      },
      "text/plain": [
       "  0%|          | 0/30 [00:00<?, ?it/s]"
      ]
     },
     "metadata": {},
     "output_type": "display_data"
    },
    {
     "name": "stdout",
     "output_type": "stream",
     "text": [
      "--- 2.340257167816162 seconds ---\n",
      "MRR@100 = 0.0002\n",
      "factors: 5, iterations: 30, learning_rate: 0.1, regularization: 1, neg_prop: 50\n"
     ]
    },
    {
     "data": {
      "application/vnd.jupyter.widget-view+json": {
       "model_id": "4fe51f17f28346a1ad1e1d67be409df3",
       "version_major": 2,
       "version_minor": 0
      },
      "text/plain": [
       "  0%|          | 0/30 [00:00<?, ?it/s]"
      ]
     },
     "metadata": {},
     "output_type": "display_data"
    },
    {
     "name": "stdout",
     "output_type": "stream",
     "text": [
      "--- 2.405223846435547 seconds ---\n",
      "MRR@100 = 0.0002\n",
      "factors: 5, iterations: 30, learning_rate: 0.1, regularization: 10, neg_prop: 5\n"
     ]
    },
    {
     "data": {
      "application/vnd.jupyter.widget-view+json": {
       "model_id": "fb89f9dc040149279fcbbd31b158cf5a",
       "version_major": 2,
       "version_minor": 0
      },
      "text/plain": [
       "  0%|          | 0/30 [00:00<?, ?it/s]"
      ]
     },
     "metadata": {},
     "output_type": "display_data"
    },
    {
     "ename": "KeyboardInterrupt",
     "evalue": "",
     "output_type": "error",
     "traceback": [
      "\u001b[0;31m---------------------------------------------------------------------------\u001b[0m",
      "\u001b[0;31mKeyboardInterrupt\u001b[0m                         Traceback (most recent call last)",
      "Input \u001b[0;32mIn [11]\u001b[0m, in \u001b[0;36m<cell line: 1>\u001b[0;34m()\u001b[0m\n\u001b[1;32m      5\u001b[0m \u001b[38;5;28;01mfor\u001b[39;00m neg_prop \u001b[38;5;129;01min\u001b[39;00m [\u001b[38;5;241m5\u001b[39m, \u001b[38;5;241m15\u001b[39m, \u001b[38;5;241m30\u001b[39m, \u001b[38;5;241m50\u001b[39m]:\n\u001b[1;32m      6\u001b[0m     \u001b[38;5;28mprint\u001b[39m(\u001b[38;5;124mf\u001b[39m\u001b[38;5;124m'\u001b[39m\u001b[38;5;124mfactors: \u001b[39m\u001b[38;5;132;01m{\u001b[39;00mfactors\u001b[38;5;132;01m}\u001b[39;00m\u001b[38;5;124m, iterations: \u001b[39m\u001b[38;5;132;01m{\u001b[39;00miterations\u001b[38;5;132;01m}\u001b[39;00m\u001b[38;5;124m, learning_rate: \u001b[39m\u001b[38;5;132;01m{\u001b[39;00mlearning_rate\u001b[38;5;132;01m}\u001b[39;00m\u001b[38;5;124m, regularization: \u001b[39m\u001b[38;5;132;01m{\u001b[39;00mregularization\u001b[38;5;132;01m}\u001b[39;00m\u001b[38;5;124m, neg_prop: \u001b[39m\u001b[38;5;132;01m{\u001b[39;00mneg_prop\u001b[38;5;132;01m}\u001b[39;00m\u001b[38;5;124m'\u001b[39m)\n\u001b[0;32m----> 7\u001b[0m     \u001b[43moptimize\u001b[49m\u001b[43m(\u001b[49m\u001b[43mfactors\u001b[49m\u001b[38;5;241;43m=\u001b[39;49m\u001b[43mfactors\u001b[49m\u001b[43m,\u001b[49m\n\u001b[1;32m      8\u001b[0m \u001b[43m             \u001b[49m\u001b[43mlearning_rate\u001b[49m\u001b[38;5;241;43m=\u001b[39;49m\u001b[43mlearning_rate\u001b[49m\u001b[43m,\u001b[49m\n\u001b[1;32m      9\u001b[0m \u001b[43m             \u001b[49m\u001b[43mregularization\u001b[49m\u001b[38;5;241;43m=\u001b[39;49m\u001b[43mregularization\u001b[49m\u001b[43m,\u001b[49m\n\u001b[1;32m     10\u001b[0m \u001b[43m             \u001b[49m\u001b[43miterations\u001b[49m\u001b[38;5;241;43m=\u001b[39;49m\u001b[43miterations\u001b[49m\u001b[43m,\u001b[49m\n\u001b[1;32m     11\u001b[0m \u001b[43m             \u001b[49m\u001b[43mneg_prop\u001b[49m\u001b[38;5;241;43m=\u001b[39;49m\u001b[43mneg_prop\u001b[49m\u001b[43m)\u001b[49m\n",
      "Input \u001b[0;32mIn [5]\u001b[0m, in \u001b[0;36moptimize\u001b[0;34m(factors, learning_rate, regularization, iterations, neg_prop)\u001b[0m\n\u001b[1;32m      3\u001b[0m \u001b[38;5;28;01mdef\u001b[39;00m \u001b[38;5;21moptimize\u001b[39m(factors\u001b[38;5;241m=\u001b[39m\u001b[38;5;241m30\u001b[39m,\n\u001b[1;32m      4\u001b[0m              learning_rate\u001b[38;5;241m=\u001b[39m\u001b[38;5;241m1.00\u001b[39m,\n\u001b[1;32m      5\u001b[0m              regularization\u001b[38;5;241m=\u001b[39m\u001b[38;5;241m0.6\u001b[39m,\n\u001b[1;32m      6\u001b[0m              iterations\u001b[38;5;241m=\u001b[39m\u001b[38;5;241m30\u001b[39m,\n\u001b[1;32m      7\u001b[0m              neg_prop\u001b[38;5;241m=\u001b[39m\u001b[38;5;241m30\u001b[39m):\n\u001b[1;32m      9\u001b[0m     model \u001b[38;5;241m=\u001b[39m implicit\u001b[38;5;241m.\u001b[39mlmf\u001b[38;5;241m.\u001b[39mLogisticMatrixFactorization(factors\u001b[38;5;241m=\u001b[39mfactors,\n\u001b[1;32m     10\u001b[0m                                                      learning_rate\u001b[38;5;241m=\u001b[39mlearning_rate,\n\u001b[1;32m     11\u001b[0m                                                      regularization\u001b[38;5;241m=\u001b[39mregularization,\n\u001b[1;32m     12\u001b[0m                                                      iterations\u001b[38;5;241m=\u001b[39miterations,\n\u001b[1;32m     13\u001b[0m                                                      neg_prop\u001b[38;5;241m=\u001b[39mneg_prop,\n\u001b[1;32m     14\u001b[0m                                                      random_state\u001b[38;5;241m=\u001b[39m\u001b[38;5;241m42\u001b[39m)\n\u001b[0;32m---> 16\u001b[0m     \u001b[43mmodel\u001b[49m\u001b[38;5;241;43m.\u001b[39;49m\u001b[43mfit\u001b[49m\u001b[43m(\u001b[49m\u001b[43muser_item\u001b[49m\u001b[43m)\u001b[49m\n\u001b[1;32m     18\u001b[0m     start_time \u001b[38;5;241m=\u001b[39m time\u001b[38;5;241m.\u001b[39mtime()\n\u001b[1;32m     20\u001b[0m     userid \u001b[38;5;241m=\u001b[39m val_id\n",
      "File \u001b[0;32mlmf.pyx:183\u001b[0m, in \u001b[0;36mimplicit.cpu.lmf.LogisticMatrixFactorization.fit\u001b[0;34m()\u001b[0m\n",
      "File \u001b[0;32mlmf.pyx:198\u001b[0m, in \u001b[0;36mimplicit.cpu.lmf.LogisticMatrixFactorization.fit\u001b[0;34m()\u001b[0m\n",
      "File \u001b[0;32m/Library/Frameworks/Python.framework/Versions/3.10/lib/python3.10/site-packages/tqdm/notebook.py:271\u001b[0m, in \u001b[0;36mtqdm_notebook.update\u001b[0;34m(self, n)\u001b[0m\n\u001b[1;32m    269\u001b[0m \u001b[38;5;28;01mdef\u001b[39;00m \u001b[38;5;21mupdate\u001b[39m(\u001b[38;5;28mself\u001b[39m, n\u001b[38;5;241m=\u001b[39m\u001b[38;5;241m1\u001b[39m):\n\u001b[1;32m    270\u001b[0m     \u001b[38;5;28;01mtry\u001b[39;00m:\n\u001b[0;32m--> 271\u001b[0m         \u001b[38;5;28;01mreturn\u001b[39;00m \u001b[38;5;28;43msuper\u001b[39;49m\u001b[43m(\u001b[49m\u001b[43mtqdm_notebook\u001b[49m\u001b[43m,\u001b[49m\u001b[43m \u001b[49m\u001b[38;5;28;43mself\u001b[39;49m\u001b[43m)\u001b[49m\u001b[38;5;241m.\u001b[39mupdate(n\u001b[38;5;241m=\u001b[39mn)\n\u001b[1;32m    272\u001b[0m     \u001b[38;5;66;03m# NB: except ... [ as ...] breaks IPython async KeyboardInterrupt\u001b[39;00m\n\u001b[1;32m    273\u001b[0m     \u001b[38;5;28;01mexcept\u001b[39;00m:  \u001b[38;5;66;03m# NOQA\u001b[39;00m\n\u001b[1;32m    274\u001b[0m         \u001b[38;5;66;03m# cannot catch KeyboardInterrupt when using manual tqdm\u001b[39;00m\n\u001b[1;32m    275\u001b[0m         \u001b[38;5;66;03m# as the interrupt will most likely happen on another statement\u001b[39;00m\n",
      "\u001b[0;31mKeyboardInterrupt\u001b[0m: "
     ]
    }
   ],
   "source": [
    "for factors in [5, 15, 30, 50]:\n",
    "    for iterations in [5, 15, 30, 50]:\n",
    "        for learning_rate in [0.001, 0.01, 0.1, 1, 10, 100]:\n",
    "            for regularization in [0.001, 0.01, 0.1, 1, 10, 100]:\n",
    "                for neg_prop in [5, 15, 30, 50]:\n",
    "                    print(f'factors: {factors}, iterations: {iterations}, learning_rate: {learning_rate}, regularization: {regularization}, neg_prop: {neg_prop}')\n",
    "                    optimize(factors=factors,\n",
    "                             learning_rate=learning_rate,\n",
    "                             regularization=regularization,\n",
    "                             iterations=iterations,\n",
    "                             neg_prop=neg_prop)"
   ]
  },
  {
   "cell_type": "code",
   "execution_count": 12,
   "id": "3edbb397",
   "metadata": {},
   "outputs": [
    {
     "name": "stdout",
     "output_type": "stream",
     "text": [
      "factors: 10, iterations: 10, learning_rate: 1, regularization: 0.001, neg_prop: 5\n"
     ]
    },
    {
     "data": {
      "application/vnd.jupyter.widget-view+json": {
       "model_id": "5cc6ce2400c748d7941a207976576264",
       "version_major": 2,
       "version_minor": 0
      },
      "text/plain": [
       "  0%|          | 0/10 [00:00<?, ?it/s]"
      ]
     },
     "metadata": {},
     "output_type": "display_data"
    },
    {
     "name": "stdout",
     "output_type": "stream",
     "text": [
      "--- 2.286418914794922 seconds ---\n",
      "MRR@100 = 0.0006\n",
      "factors: 10, iterations: 10, learning_rate: 1, regularization: 0.001, neg_prop: 15\n"
     ]
    },
    {
     "data": {
      "application/vnd.jupyter.widget-view+json": {
       "model_id": "184ad501ce52467cb5af0eabce57e78e",
       "version_major": 2,
       "version_minor": 0
      },
      "text/plain": [
       "  0%|          | 0/10 [00:00<?, ?it/s]"
      ]
     },
     "metadata": {},
     "output_type": "display_data"
    },
    {
     "name": "stdout",
     "output_type": "stream",
     "text": [
      "--- 2.3808960914611816 seconds ---\n",
      "MRR@100 = 0.0018\n",
      "factors: 10, iterations: 10, learning_rate: 1, regularization: 0.001, neg_prop: 30\n"
     ]
    },
    {
     "data": {
      "application/vnd.jupyter.widget-view+json": {
       "model_id": "e049b42aad0540d9aede0e3166e754b1",
       "version_major": 2,
       "version_minor": 0
      },
      "text/plain": [
       "  0%|          | 0/10 [00:00<?, ?it/s]"
      ]
     },
     "metadata": {},
     "output_type": "display_data"
    },
    {
     "name": "stdout",
     "output_type": "stream",
     "text": [
      "--- 2.8750782012939453 seconds ---\n",
      "MRR@100 = 0.0018\n",
      "factors: 10, iterations: 10, learning_rate: 1, regularization: 0.001, neg_prop: 50\n"
     ]
    },
    {
     "data": {
      "application/vnd.jupyter.widget-view+json": {
       "model_id": "9299ab23b6574942adcd13b16c7c61b0",
       "version_major": 2,
       "version_minor": 0
      },
      "text/plain": [
       "  0%|          | 0/10 [00:00<?, ?it/s]"
      ]
     },
     "metadata": {},
     "output_type": "display_data"
    },
    {
     "name": "stdout",
     "output_type": "stream",
     "text": [
      "--- 2.4133732318878174 seconds ---\n",
      "MRR@100 = 0.0018\n",
      "factors: 10, iterations: 10, learning_rate: 1, regularization: 0.01, neg_prop: 5\n"
     ]
    },
    {
     "data": {
      "application/vnd.jupyter.widget-view+json": {
       "model_id": "17f57ceaaf9f4ef180a477abbb33bf11",
       "version_major": 2,
       "version_minor": 0
      },
      "text/plain": [
       "  0%|          | 0/10 [00:00<?, ?it/s]"
      ]
     },
     "metadata": {},
     "output_type": "display_data"
    },
    {
     "name": "stdout",
     "output_type": "stream",
     "text": [
      "--- 2.7470319271087646 seconds ---\n",
      "MRR@100 = 0.0008\n",
      "factors: 10, iterations: 10, learning_rate: 1, regularization: 0.01, neg_prop: 15\n"
     ]
    },
    {
     "data": {
      "application/vnd.jupyter.widget-view+json": {
       "model_id": "a69294ffaa44493f9c5ef823a58b66d9",
       "version_major": 2,
       "version_minor": 0
      },
      "text/plain": [
       "  0%|          | 0/10 [00:00<?, ?it/s]"
      ]
     },
     "metadata": {},
     "output_type": "display_data"
    },
    {
     "name": "stdout",
     "output_type": "stream",
     "text": [
      "--- 2.7048277854919434 seconds ---\n",
      "MRR@100 = 0.0018\n",
      "factors: 10, iterations: 10, learning_rate: 1, regularization: 0.01, neg_prop: 30\n"
     ]
    },
    {
     "data": {
      "application/vnd.jupyter.widget-view+json": {
       "model_id": "f33d99353cb3416795d2d6f68e886f2a",
       "version_major": 2,
       "version_minor": 0
      },
      "text/plain": [
       "  0%|          | 0/10 [00:00<?, ?it/s]"
      ]
     },
     "metadata": {},
     "output_type": "display_data"
    },
    {
     "name": "stdout",
     "output_type": "stream",
     "text": [
      "--- 2.517061948776245 seconds ---\n",
      "MRR@100 = 0.0018\n",
      "factors: 10, iterations: 10, learning_rate: 1, regularization: 0.01, neg_prop: 50\n"
     ]
    },
    {
     "data": {
      "application/vnd.jupyter.widget-view+json": {
       "model_id": "ddd5fe5addc64ead97117305a7c3445d",
       "version_major": 2,
       "version_minor": 0
      },
      "text/plain": [
       "  0%|          | 0/10 [00:00<?, ?it/s]"
      ]
     },
     "metadata": {},
     "output_type": "display_data"
    },
    {
     "name": "stdout",
     "output_type": "stream",
     "text": [
      "--- 2.6375412940979004 seconds ---\n",
      "MRR@100 = 0.0018\n",
      "factors: 10, iterations: 10, learning_rate: 1, regularization: 0.1, neg_prop: 5\n"
     ]
    },
    {
     "data": {
      "application/vnd.jupyter.widget-view+json": {
       "model_id": "92ed3ad9c6bf424697454619e7adf746",
       "version_major": 2,
       "version_minor": 0
      },
      "text/plain": [
       "  0%|          | 0/10 [00:00<?, ?it/s]"
      ]
     },
     "metadata": {},
     "output_type": "display_data"
    },
    {
     "name": "stdout",
     "output_type": "stream",
     "text": [
      "--- 2.6827588081359863 seconds ---\n",
      "MRR@100 = 0.0018\n",
      "factors: 10, iterations: 10, learning_rate: 1, regularization: 0.1, neg_prop: 15\n"
     ]
    },
    {
     "data": {
      "application/vnd.jupyter.widget-view+json": {
       "model_id": "d8820bfbac51491d92975dffc515607c",
       "version_major": 2,
       "version_minor": 0
      },
      "text/plain": [
       "  0%|          | 0/10 [00:00<?, ?it/s]"
      ]
     },
     "metadata": {},
     "output_type": "display_data"
    },
    {
     "name": "stdout",
     "output_type": "stream",
     "text": [
      "--- 2.5465822219848633 seconds ---\n",
      "MRR@100 = 0.0024\n",
      "factors: 10, iterations: 10, learning_rate: 1, regularization: 0.1, neg_prop: 30\n"
     ]
    },
    {
     "data": {
      "application/vnd.jupyter.widget-view+json": {
       "model_id": "cd7cde4c80f7484d95d56354484d5375",
       "version_major": 2,
       "version_minor": 0
      },
      "text/plain": [
       "  0%|          | 0/10 [00:00<?, ?it/s]"
      ]
     },
     "metadata": {},
     "output_type": "display_data"
    },
    {
     "name": "stdout",
     "output_type": "stream",
     "text": [
      "--- 2.494546890258789 seconds ---\n",
      "MRR@100 = 0.0024\n",
      "factors: 10, iterations: 10, learning_rate: 1, regularization: 0.1, neg_prop: 50\n"
     ]
    },
    {
     "data": {
      "application/vnd.jupyter.widget-view+json": {
       "model_id": "676bf6682d99446482a56e0273d74276",
       "version_major": 2,
       "version_minor": 0
      },
      "text/plain": [
       "  0%|          | 0/10 [00:00<?, ?it/s]"
      ]
     },
     "metadata": {},
     "output_type": "display_data"
    },
    {
     "name": "stdout",
     "output_type": "stream",
     "text": [
      "--- 2.493212938308716 seconds ---\n",
      "MRR@100 = 0.0024\n",
      "factors: 10, iterations: 10, learning_rate: 1, regularization: 1, neg_prop: 5\n"
     ]
    },
    {
     "data": {
      "application/vnd.jupyter.widget-view+json": {
       "model_id": "12d6b36a2843466d8061f9934c7f6a73",
       "version_major": 2,
       "version_minor": 0
      },
      "text/plain": [
       "  0%|          | 0/10 [00:00<?, ?it/s]"
      ]
     },
     "metadata": {},
     "output_type": "display_data"
    },
    {
     "name": "stdout",
     "output_type": "stream",
     "text": [
      "--- 2.8821799755096436 seconds ---\n",
      "MRR@100 = 0.0047\n",
      "factors: 10, iterations: 10, learning_rate: 1, regularization: 1, neg_prop: 15\n"
     ]
    },
    {
     "data": {
      "application/vnd.jupyter.widget-view+json": {
       "model_id": "cc3ba1dd70e44891b167cb425a61faf3",
       "version_major": 2,
       "version_minor": 0
      },
      "text/plain": [
       "  0%|          | 0/10 [00:00<?, ?it/s]"
      ]
     },
     "metadata": {},
     "output_type": "display_data"
    },
    {
     "name": "stdout",
     "output_type": "stream",
     "text": [
      "--- 2.818857192993164 seconds ---\n",
      "MRR@100 = 0.0046\n",
      "factors: 10, iterations: 10, learning_rate: 1, regularization: 1, neg_prop: 30\n"
     ]
    },
    {
     "data": {
      "application/vnd.jupyter.widget-view+json": {
       "model_id": "0ae903bcd0e843528c7886f6893106ae",
       "version_major": 2,
       "version_minor": 0
      },
      "text/plain": [
       "  0%|          | 0/10 [00:00<?, ?it/s]"
      ]
     },
     "metadata": {},
     "output_type": "display_data"
    },
    {
     "name": "stdout",
     "output_type": "stream",
     "text": [
      "--- 2.7127671241760254 seconds ---\n",
      "MRR@100 = 0.0046\n",
      "factors: 10, iterations: 10, learning_rate: 1, regularization: 1, neg_prop: 50\n"
     ]
    },
    {
     "data": {
      "application/vnd.jupyter.widget-view+json": {
       "model_id": "e9c83eedba6b49f4b07554687256e98d",
       "version_major": 2,
       "version_minor": 0
      },
      "text/plain": [
       "  0%|          | 0/10 [00:00<?, ?it/s]"
      ]
     },
     "metadata": {},
     "output_type": "display_data"
    },
    {
     "name": "stdout",
     "output_type": "stream",
     "text": [
      "--- 2.828112840652466 seconds ---\n",
      "MRR@100 = 0.0046\n",
      "factors: 10, iterations: 10, learning_rate: 1, regularization: 10, neg_prop: 5\n"
     ]
    },
    {
     "data": {
      "application/vnd.jupyter.widget-view+json": {
       "model_id": "f15b905703464b9db4d77a5118e3136b",
       "version_major": 2,
       "version_minor": 0
      },
      "text/plain": [
       "  0%|          | 0/10 [00:00<?, ?it/s]"
      ]
     },
     "metadata": {},
     "output_type": "display_data"
    },
    {
     "name": "stdout",
     "output_type": "stream",
     "text": [
      "--- 2.6477508544921875 seconds ---\n",
      "MRR@100 = 0.0021\n",
      "factors: 10, iterations: 10, learning_rate: 1, regularization: 10, neg_prop: 15\n"
     ]
    },
    {
     "data": {
      "application/vnd.jupyter.widget-view+json": {
       "model_id": "b28efa1fe8a34467b9228ac13c6f0606",
       "version_major": 2,
       "version_minor": 0
      },
      "text/plain": [
       "  0%|          | 0/10 [00:00<?, ?it/s]"
      ]
     },
     "metadata": {},
     "output_type": "display_data"
    },
    {
     "name": "stdout",
     "output_type": "stream",
     "text": [
      "--- 2.4032599925994873 seconds ---\n",
      "MRR@100 = 0.0021\n",
      "factors: 10, iterations: 10, learning_rate: 1, regularization: 10, neg_prop: 30\n"
     ]
    },
    {
     "data": {
      "application/vnd.jupyter.widget-view+json": {
       "model_id": "9fe5198ae57847c8986b821799900c4e",
       "version_major": 2,
       "version_minor": 0
      },
      "text/plain": [
       "  0%|          | 0/10 [00:00<?, ?it/s]"
      ]
     },
     "metadata": {},
     "output_type": "display_data"
    },
    {
     "name": "stdout",
     "output_type": "stream",
     "text": [
      "--- 2.2627620697021484 seconds ---\n",
      "MRR@100 = 0.0021\n",
      "factors: 10, iterations: 10, learning_rate: 1, regularization: 10, neg_prop: 50\n"
     ]
    },
    {
     "data": {
      "application/vnd.jupyter.widget-view+json": {
       "model_id": "137e29989f0c40aea08b15a3b6dc37f5",
       "version_major": 2,
       "version_minor": 0
      },
      "text/plain": [
       "  0%|          | 0/10 [00:00<?, ?it/s]"
      ]
     },
     "metadata": {},
     "output_type": "display_data"
    },
    {
     "name": "stdout",
     "output_type": "stream",
     "text": [
      "--- 3.0318360328674316 seconds ---\n",
      "MRR@100 = 0.0021\n",
      "factors: 10, iterations: 10, learning_rate: 1, regularization: 100, neg_prop: 5\n"
     ]
    },
    {
     "data": {
      "application/vnd.jupyter.widget-view+json": {
       "model_id": "fc7a0b33c7574b5ab7d08d6b76537f38",
       "version_major": 2,
       "version_minor": 0
      },
      "text/plain": [
       "  0%|          | 0/10 [00:00<?, ?it/s]"
      ]
     },
     "metadata": {},
     "output_type": "display_data"
    },
    {
     "name": "stdout",
     "output_type": "stream",
     "text": [
      "--- 2.5565319061279297 seconds ---\n",
      "MRR@100 = 0.0021\n",
      "factors: 10, iterations: 10, learning_rate: 1, regularization: 100, neg_prop: 15\n"
     ]
    },
    {
     "data": {
      "application/vnd.jupyter.widget-view+json": {
       "model_id": "aad547dd96004772b2ef7128afef7b20",
       "version_major": 2,
       "version_minor": 0
      },
      "text/plain": [
       "  0%|          | 0/10 [00:00<?, ?it/s]"
      ]
     },
     "metadata": {},
     "output_type": "display_data"
    },
    {
     "name": "stdout",
     "output_type": "stream",
     "text": [
      "--- 2.395305871963501 seconds ---\n",
      "MRR@100 = 0.0021\n",
      "factors: 10, iterations: 10, learning_rate: 1, regularization: 100, neg_prop: 30\n"
     ]
    },
    {
     "data": {
      "application/vnd.jupyter.widget-view+json": {
       "model_id": "3527a7196a174449b5b2a61acbbc1123",
       "version_major": 2,
       "version_minor": 0
      },
      "text/plain": [
       "  0%|          | 0/10 [00:00<?, ?it/s]"
      ]
     },
     "metadata": {},
     "output_type": "display_data"
    },
    {
     "name": "stdout",
     "output_type": "stream",
     "text": [
      "--- 2.488560914993286 seconds ---\n",
      "MRR@100 = 0.0021\n",
      "factors: 10, iterations: 10, learning_rate: 1, regularization: 100, neg_prop: 50\n"
     ]
    },
    {
     "data": {
      "application/vnd.jupyter.widget-view+json": {
       "model_id": "fb13e17c8ecf44cbb620629f9c953cad",
       "version_major": 2,
       "version_minor": 0
      },
      "text/plain": [
       "  0%|          | 0/10 [00:00<?, ?it/s]"
      ]
     },
     "metadata": {},
     "output_type": "display_data"
    },
    {
     "name": "stdout",
     "output_type": "stream",
     "text": [
      "--- 2.3966000080108643 seconds ---\n",
      "MRR@100 = 0.0021\n",
      "factors: 10, iterations: 10, learning_rate: 10, regularization: 0.001, neg_prop: 5\n"
     ]
    },
    {
     "data": {
      "application/vnd.jupyter.widget-view+json": {
       "model_id": "ed20242a01a04b129ad15e9f2d651ace",
       "version_major": 2,
       "version_minor": 0
      },
      "text/plain": [
       "  0%|          | 0/10 [00:00<?, ?it/s]"
      ]
     },
     "metadata": {},
     "output_type": "display_data"
    },
    {
     "name": "stdout",
     "output_type": "stream",
     "text": [
      "--- 2.5705409049987793 seconds ---\n",
      "MRR@100 = 0.0000\n",
      "factors: 10, iterations: 10, learning_rate: 10, regularization: 0.001, neg_prop: 15\n"
     ]
    },
    {
     "data": {
      "application/vnd.jupyter.widget-view+json": {
       "model_id": "84f5499e32f24820b27896c48f79e9a1",
       "version_major": 2,
       "version_minor": 0
      },
      "text/plain": [
       "  0%|          | 0/10 [00:00<?, ?it/s]"
      ]
     },
     "metadata": {},
     "output_type": "display_data"
    },
    {
     "name": "stdout",
     "output_type": "stream",
     "text": [
      "--- 2.5648250579833984 seconds ---\n",
      "MRR@100 = 0.0009\n",
      "factors: 10, iterations: 10, learning_rate: 10, regularization: 0.001, neg_prop: 30\n"
     ]
    },
    {
     "data": {
      "application/vnd.jupyter.widget-view+json": {
       "model_id": "12909a95bca249c9ab08e07fde7b35d7",
       "version_major": 2,
       "version_minor": 0
      },
      "text/plain": [
       "  0%|          | 0/10 [00:00<?, ?it/s]"
      ]
     },
     "metadata": {},
     "output_type": "display_data"
    },
    {
     "name": "stdout",
     "output_type": "stream",
     "text": [
      "--- 2.7123639583587646 seconds ---\n",
      "MRR@100 = 0.0009\n",
      "factors: 10, iterations: 10, learning_rate: 10, regularization: 0.001, neg_prop: 50\n"
     ]
    },
    {
     "data": {
      "application/vnd.jupyter.widget-view+json": {
       "model_id": "8eccf1001fce479a875ecb74a9c0902f",
       "version_major": 2,
       "version_minor": 0
      },
      "text/plain": [
       "  0%|          | 0/10 [00:00<?, ?it/s]"
      ]
     },
     "metadata": {},
     "output_type": "display_data"
    },
    {
     "name": "stdout",
     "output_type": "stream",
     "text": [
      "--- 2.499147891998291 seconds ---\n",
      "MRR@100 = 0.0009\n",
      "factors: 10, iterations: 10, learning_rate: 10, regularization: 0.01, neg_prop: 5\n"
     ]
    },
    {
     "data": {
      "application/vnd.jupyter.widget-view+json": {
       "model_id": "599b21cd952e41a5b147e8dd983ecfbf",
       "version_major": 2,
       "version_minor": 0
      },
      "text/plain": [
       "  0%|          | 0/10 [00:00<?, ?it/s]"
      ]
     },
     "metadata": {},
     "output_type": "display_data"
    },
    {
     "name": "stdout",
     "output_type": "stream",
     "text": [
      "--- 2.7529499530792236 seconds ---\n",
      "MRR@100 = 0.0001\n",
      "factors: 10, iterations: 10, learning_rate: 10, regularization: 0.01, neg_prop: 15\n"
     ]
    },
    {
     "data": {
      "application/vnd.jupyter.widget-view+json": {
       "model_id": "b6ca1221b3464791a1fd435ab139652f",
       "version_major": 2,
       "version_minor": 0
      },
      "text/plain": [
       "  0%|          | 0/10 [00:00<?, ?it/s]"
      ]
     },
     "metadata": {},
     "output_type": "display_data"
    },
    {
     "name": "stdout",
     "output_type": "stream",
     "text": [
      "--- 2.7681751251220703 seconds ---\n",
      "MRR@100 = 0.0006\n",
      "factors: 10, iterations: 10, learning_rate: 10, regularization: 0.01, neg_prop: 30\n"
     ]
    },
    {
     "data": {
      "application/vnd.jupyter.widget-view+json": {
       "model_id": "7c5c6d5f09564c2aa4cba5e376275ab9",
       "version_major": 2,
       "version_minor": 0
      },
      "text/plain": [
       "  0%|          | 0/10 [00:00<?, ?it/s]"
      ]
     },
     "metadata": {},
     "output_type": "display_data"
    },
    {
     "name": "stdout",
     "output_type": "stream",
     "text": [
      "--- 2.4763338565826416 seconds ---\n",
      "MRR@100 = 0.0006\n",
      "factors: 10, iterations: 10, learning_rate: 10, regularization: 0.01, neg_prop: 50\n"
     ]
    },
    {
     "data": {
      "application/vnd.jupyter.widget-view+json": {
       "model_id": "0575b22978e046c9bc5fb6290c3f3e76",
       "version_major": 2,
       "version_minor": 0
      },
      "text/plain": [
       "  0%|          | 0/10 [00:00<?, ?it/s]"
      ]
     },
     "metadata": {},
     "output_type": "display_data"
    },
    {
     "name": "stdout",
     "output_type": "stream",
     "text": [
      "--- 3.0471298694610596 seconds ---\n",
      "MRR@100 = 0.0006\n",
      "factors: 10, iterations: 10, learning_rate: 10, regularization: 0.1, neg_prop: 5\n"
     ]
    },
    {
     "data": {
      "application/vnd.jupyter.widget-view+json": {
       "model_id": "58084e220a7443d29e479f19f13baca1",
       "version_major": 2,
       "version_minor": 0
      },
      "text/plain": [
       "  0%|          | 0/10 [00:00<?, ?it/s]"
      ]
     },
     "metadata": {},
     "output_type": "display_data"
    },
    {
     "name": "stdout",
     "output_type": "stream",
     "text": [
      "--- 3.185263156890869 seconds ---\n",
      "MRR@100 = 0.0001\n",
      "factors: 10, iterations: 10, learning_rate: 10, regularization: 0.1, neg_prop: 15\n"
     ]
    },
    {
     "data": {
      "application/vnd.jupyter.widget-view+json": {
       "model_id": "daac4380d7744bdeb94039c715c9f811",
       "version_major": 2,
       "version_minor": 0
      },
      "text/plain": [
       "  0%|          | 0/10 [00:00<?, ?it/s]"
      ]
     },
     "metadata": {},
     "output_type": "display_data"
    },
    {
     "name": "stdout",
     "output_type": "stream",
     "text": [
      "--- 3.1569719314575195 seconds ---\n",
      "MRR@100 = 0.0014\n",
      "factors: 10, iterations: 10, learning_rate: 10, regularization: 0.1, neg_prop: 30\n"
     ]
    },
    {
     "data": {
      "application/vnd.jupyter.widget-view+json": {
       "model_id": "b685b15998db466dba5c38c6df6d68b0",
       "version_major": 2,
       "version_minor": 0
      },
      "text/plain": [
       "  0%|          | 0/10 [00:00<?, ?it/s]"
      ]
     },
     "metadata": {},
     "output_type": "display_data"
    },
    {
     "name": "stdout",
     "output_type": "stream",
     "text": [
      "--- 2.4757559299468994 seconds ---\n",
      "MRR@100 = 0.0014\n",
      "factors: 10, iterations: 10, learning_rate: 10, regularization: 0.1, neg_prop: 50\n"
     ]
    },
    {
     "data": {
      "application/vnd.jupyter.widget-view+json": {
       "model_id": "0ba66788ce1f488ca143a1ab0570f83f",
       "version_major": 2,
       "version_minor": 0
      },
      "text/plain": [
       "  0%|          | 0/10 [00:00<?, ?it/s]"
      ]
     },
     "metadata": {},
     "output_type": "display_data"
    },
    {
     "name": "stdout",
     "output_type": "stream",
     "text": [
      "--- 2.49320387840271 seconds ---\n",
      "MRR@100 = 0.0014\n",
      "factors: 10, iterations: 10, learning_rate: 10, regularization: 1, neg_prop: 5\n"
     ]
    },
    {
     "data": {
      "application/vnd.jupyter.widget-view+json": {
       "model_id": "b5daabf0bab94a55a5d5d792d5f709ea",
       "version_major": 2,
       "version_minor": 0
      },
      "text/plain": [
       "  0%|          | 0/10 [00:00<?, ?it/s]"
      ]
     },
     "metadata": {},
     "output_type": "display_data"
    },
    {
     "name": "stdout",
     "output_type": "stream",
     "text": [
      "--- 2.4275357723236084 seconds ---\n",
      "MRR@100 = 0.0032\n",
      "factors: 10, iterations: 10, learning_rate: 10, regularization: 1, neg_prop: 15\n"
     ]
    },
    {
     "data": {
      "application/vnd.jupyter.widget-view+json": {
       "model_id": "83468c0603764241b853871cf6abc76c",
       "version_major": 2,
       "version_minor": 0
      },
      "text/plain": [
       "  0%|          | 0/10 [00:00<?, ?it/s]"
      ]
     },
     "metadata": {},
     "output_type": "display_data"
    },
    {
     "name": "stdout",
     "output_type": "stream",
     "text": [
      "--- 2.6018660068511963 seconds ---\n",
      "MRR@100 = 0.0021\n",
      "factors: 10, iterations: 10, learning_rate: 10, regularization: 1, neg_prop: 30\n"
     ]
    },
    {
     "data": {
      "application/vnd.jupyter.widget-view+json": {
       "model_id": "7a932b5ca8d5448aa56980f92adacc08",
       "version_major": 2,
       "version_minor": 0
      },
      "text/plain": [
       "  0%|          | 0/10 [00:00<?, ?it/s]"
      ]
     },
     "metadata": {},
     "output_type": "display_data"
    },
    {
     "name": "stdout",
     "output_type": "stream",
     "text": [
      "--- 2.75083589553833 seconds ---\n",
      "MRR@100 = 0.0021\n",
      "factors: 10, iterations: 10, learning_rate: 10, regularization: 1, neg_prop: 50\n"
     ]
    },
    {
     "data": {
      "application/vnd.jupyter.widget-view+json": {
       "model_id": "2b0dbcb8ce2f4f4988fc95fb8f79b4a4",
       "version_major": 2,
       "version_minor": 0
      },
      "text/plain": [
       "  0%|          | 0/10 [00:00<?, ?it/s]"
      ]
     },
     "metadata": {},
     "output_type": "display_data"
    },
    {
     "name": "stdout",
     "output_type": "stream",
     "text": [
      "--- 2.6106631755828857 seconds ---\n",
      "MRR@100 = 0.0021\n",
      "factors: 10, iterations: 10, learning_rate: 10, regularization: 10, neg_prop: 5\n"
     ]
    },
    {
     "data": {
      "application/vnd.jupyter.widget-view+json": {
       "model_id": "6c55b6756d724809bce0b5aa253b04e6",
       "version_major": 2,
       "version_minor": 0
      },
      "text/plain": [
       "  0%|          | 0/10 [00:00<?, ?it/s]"
      ]
     },
     "metadata": {},
     "output_type": "display_data"
    },
    {
     "name": "stdout",
     "output_type": "stream",
     "text": [
      "--- 2.972321033477783 seconds ---\n",
      "MRR@100 = 0.0010\n",
      "factors: 10, iterations: 10, learning_rate: 10, regularization: 10, neg_prop: 15\n"
     ]
    },
    {
     "data": {
      "application/vnd.jupyter.widget-view+json": {
       "model_id": "c93b315127e24b7aab52f5a231bb9e98",
       "version_major": 2,
       "version_minor": 0
      },
      "text/plain": [
       "  0%|          | 0/10 [00:00<?, ?it/s]"
      ]
     },
     "metadata": {},
     "output_type": "display_data"
    },
    {
     "name": "stdout",
     "output_type": "stream",
     "text": [
      "--- 2.596632242202759 seconds ---\n",
      "MRR@100 = 0.0017\n",
      "factors: 10, iterations: 10, learning_rate: 10, regularization: 10, neg_prop: 30\n"
     ]
    },
    {
     "data": {
      "application/vnd.jupyter.widget-view+json": {
       "model_id": "70098b6211c1407cba293b3b728bf771",
       "version_major": 2,
       "version_minor": 0
      },
      "text/plain": [
       "  0%|          | 0/10 [00:00<?, ?it/s]"
      ]
     },
     "metadata": {},
     "output_type": "display_data"
    },
    {
     "name": "stdout",
     "output_type": "stream",
     "text": [
      "--- 2.5926811695098877 seconds ---\n",
      "MRR@100 = 0.0017\n",
      "factors: 10, iterations: 10, learning_rate: 10, regularization: 10, neg_prop: 50\n"
     ]
    },
    {
     "data": {
      "application/vnd.jupyter.widget-view+json": {
       "model_id": "17cccfcf5c6f4701aa2e599c24123fbb",
       "version_major": 2,
       "version_minor": 0
      },
      "text/plain": [
       "  0%|          | 0/10 [00:00<?, ?it/s]"
      ]
     },
     "metadata": {},
     "output_type": "display_data"
    },
    {
     "name": "stdout",
     "output_type": "stream",
     "text": [
      "--- 2.7035632133483887 seconds ---\n",
      "MRR@100 = 0.0017\n",
      "factors: 10, iterations: 10, learning_rate: 10, regularization: 100, neg_prop: 5\n"
     ]
    },
    {
     "data": {
      "application/vnd.jupyter.widget-view+json": {
       "model_id": "e616e2df16204937b1d2831b14a954f5",
       "version_major": 2,
       "version_minor": 0
      },
      "text/plain": [
       "  0%|          | 0/10 [00:00<?, ?it/s]"
      ]
     },
     "metadata": {},
     "output_type": "display_data"
    },
    {
     "name": "stdout",
     "output_type": "stream",
     "text": [
      "--- 2.7310631275177 seconds ---\n",
      "MRR@100 = 0.0022\n",
      "factors: 10, iterations: 10, learning_rate: 10, regularization: 100, neg_prop: 15\n"
     ]
    },
    {
     "data": {
      "application/vnd.jupyter.widget-view+json": {
       "model_id": "5e82671358ed4daaaed3d4b009fd1f8d",
       "version_major": 2,
       "version_minor": 0
      },
      "text/plain": [
       "  0%|          | 0/10 [00:00<?, ?it/s]"
      ]
     },
     "metadata": {},
     "output_type": "display_data"
    },
    {
     "name": "stdout",
     "output_type": "stream",
     "text": [
      "--- 2.5829203128814697 seconds ---\n",
      "MRR@100 = 0.0022\n",
      "factors: 10, iterations: 10, learning_rate: 10, regularization: 100, neg_prop: 30\n"
     ]
    },
    {
     "data": {
      "application/vnd.jupyter.widget-view+json": {
       "model_id": "935e5ca7effa469ead1f6ea95c6bd3bf",
       "version_major": 2,
       "version_minor": 0
      },
      "text/plain": [
       "  0%|          | 0/10 [00:00<?, ?it/s]"
      ]
     },
     "metadata": {},
     "output_type": "display_data"
    },
    {
     "name": "stdout",
     "output_type": "stream",
     "text": [
      "--- 2.625880002975464 seconds ---\n",
      "MRR@100 = 0.0022\n",
      "factors: 10, iterations: 10, learning_rate: 10, regularization: 100, neg_prop: 50\n"
     ]
    },
    {
     "data": {
      "application/vnd.jupyter.widget-view+json": {
       "model_id": "29fdd2d7f62545919245191c9159aa5a",
       "version_major": 2,
       "version_minor": 0
      },
      "text/plain": [
       "  0%|          | 0/10 [00:00<?, ?it/s]"
      ]
     },
     "metadata": {},
     "output_type": "display_data"
    },
    {
     "name": "stdout",
     "output_type": "stream",
     "text": [
      "--- 2.4441750049591064 seconds ---\n",
      "MRR@100 = 0.0022\n",
      "factors: 10, iterations: 10, learning_rate: 100, regularization: 0.001, neg_prop: 5\n"
     ]
    },
    {
     "data": {
      "application/vnd.jupyter.widget-view+json": {
       "model_id": "d6e2d0d2893843a6b74698f32bb5d3fe",
       "version_major": 2,
       "version_minor": 0
      },
      "text/plain": [
       "  0%|          | 0/10 [00:00<?, ?it/s]"
      ]
     },
     "metadata": {},
     "output_type": "display_data"
    },
    {
     "name": "stdout",
     "output_type": "stream",
     "text": [
      "--- 2.493614912033081 seconds ---\n",
      "MRR@100 = 0.0000\n",
      "factors: 10, iterations: 10, learning_rate: 100, regularization: 0.001, neg_prop: 15\n"
     ]
    },
    {
     "data": {
      "application/vnd.jupyter.widget-view+json": {
       "model_id": "ec34481145994ffebf6b7bb4d7b1c45e",
       "version_major": 2,
       "version_minor": 0
      },
      "text/plain": [
       "  0%|          | 0/10 [00:00<?, ?it/s]"
      ]
     },
     "metadata": {},
     "output_type": "display_data"
    },
    {
     "name": "stdout",
     "output_type": "stream",
     "text": [
      "--- 2.585257053375244 seconds ---\n",
      "MRR@100 = 0.0001\n",
      "factors: 10, iterations: 10, learning_rate: 100, regularization: 0.001, neg_prop: 30\n"
     ]
    },
    {
     "data": {
      "application/vnd.jupyter.widget-view+json": {
       "model_id": "cb9e2ab2874f4ef395cb5ab50ea39330",
       "version_major": 2,
       "version_minor": 0
      },
      "text/plain": [
       "  0%|          | 0/10 [00:00<?, ?it/s]"
      ]
     },
     "metadata": {},
     "output_type": "display_data"
    },
    {
     "name": "stdout",
     "output_type": "stream",
     "text": [
      "--- 2.6027121543884277 seconds ---\n",
      "MRR@100 = 0.0001\n",
      "factors: 10, iterations: 10, learning_rate: 100, regularization: 0.001, neg_prop: 50\n"
     ]
    },
    {
     "data": {
      "application/vnd.jupyter.widget-view+json": {
       "model_id": "c875bbd20b544ea8b7f8067defc458d2",
       "version_major": 2,
       "version_minor": 0
      },
      "text/plain": [
       "  0%|          | 0/10 [00:00<?, ?it/s]"
      ]
     },
     "metadata": {},
     "output_type": "display_data"
    },
    {
     "name": "stdout",
     "output_type": "stream",
     "text": [
      "--- 2.766429901123047 seconds ---\n",
      "MRR@100 = 0.0001\n",
      "factors: 10, iterations: 10, learning_rate: 100, regularization: 0.01, neg_prop: 5\n"
     ]
    },
    {
     "data": {
      "application/vnd.jupyter.widget-view+json": {
       "model_id": "7fe997efe9cf40388cb4d7839c760d9d",
       "version_major": 2,
       "version_minor": 0
      },
      "text/plain": [
       "  0%|          | 0/10 [00:00<?, ?it/s]"
      ]
     },
     "metadata": {},
     "output_type": "display_data"
    },
    {
     "name": "stdout",
     "output_type": "stream",
     "text": [
      "--- 2.7212939262390137 seconds ---\n",
      "MRR@100 = 0.0000\n",
      "factors: 10, iterations: 10, learning_rate: 100, regularization: 0.01, neg_prop: 15\n"
     ]
    },
    {
     "data": {
      "application/vnd.jupyter.widget-view+json": {
       "model_id": "7df0977bb0594171a8780586337fb036",
       "version_major": 2,
       "version_minor": 0
      },
      "text/plain": [
       "  0%|          | 0/10 [00:00<?, ?it/s]"
      ]
     },
     "metadata": {},
     "output_type": "display_data"
    },
    {
     "name": "stdout",
     "output_type": "stream",
     "text": [
      "--- 2.6138219833374023 seconds ---\n",
      "MRR@100 = 0.0000\n",
      "factors: 10, iterations: 10, learning_rate: 100, regularization: 0.01, neg_prop: 30\n"
     ]
    },
    {
     "data": {
      "application/vnd.jupyter.widget-view+json": {
       "model_id": "d6df99afc55a40779a843b043e06c2b6",
       "version_major": 2,
       "version_minor": 0
      },
      "text/plain": [
       "  0%|          | 0/10 [00:00<?, ?it/s]"
      ]
     },
     "metadata": {},
     "output_type": "display_data"
    },
    {
     "name": "stdout",
     "output_type": "stream",
     "text": [
      "--- 2.5683059692382812 seconds ---\n",
      "MRR@100 = 0.0000\n",
      "factors: 10, iterations: 10, learning_rate: 100, regularization: 0.01, neg_prop: 50\n"
     ]
    },
    {
     "data": {
      "application/vnd.jupyter.widget-view+json": {
       "model_id": "aaccf853141647788d2a52b761815157",
       "version_major": 2,
       "version_minor": 0
      },
      "text/plain": [
       "  0%|          | 0/10 [00:00<?, ?it/s]"
      ]
     },
     "metadata": {},
     "output_type": "display_data"
    },
    {
     "name": "stdout",
     "output_type": "stream",
     "text": [
      "--- 2.4858102798461914 seconds ---\n",
      "MRR@100 = 0.0000\n",
      "factors: 10, iterations: 10, learning_rate: 100, regularization: 0.1, neg_prop: 5\n"
     ]
    },
    {
     "data": {
      "application/vnd.jupyter.widget-view+json": {
       "model_id": "3599cc8c943845a295a962d02e74a338",
       "version_major": 2,
       "version_minor": 0
      },
      "text/plain": [
       "  0%|          | 0/10 [00:00<?, ?it/s]"
      ]
     },
     "metadata": {},
     "output_type": "display_data"
    },
    {
     "name": "stdout",
     "output_type": "stream",
     "text": [
      "--- 2.7585790157318115 seconds ---\n",
      "MRR@100 = 0.0000\n",
      "factors: 10, iterations: 10, learning_rate: 100, regularization: 0.1, neg_prop: 15\n"
     ]
    },
    {
     "data": {
      "application/vnd.jupyter.widget-view+json": {
       "model_id": "1df1f3e0270b4904870ba139398e009d",
       "version_major": 2,
       "version_minor": 0
      },
      "text/plain": [
       "  0%|          | 0/10 [00:00<?, ?it/s]"
      ]
     },
     "metadata": {},
     "output_type": "display_data"
    },
    {
     "name": "stdout",
     "output_type": "stream",
     "text": [
      "--- 2.5482418537139893 seconds ---\n",
      "MRR@100 = 0.0000\n",
      "factors: 10, iterations: 10, learning_rate: 100, regularization: 0.1, neg_prop: 30\n"
     ]
    },
    {
     "data": {
      "application/vnd.jupyter.widget-view+json": {
       "model_id": "7a14c60e4443469289f2da57aa7e8d3b",
       "version_major": 2,
       "version_minor": 0
      },
      "text/plain": [
       "  0%|          | 0/10 [00:00<?, ?it/s]"
      ]
     },
     "metadata": {},
     "output_type": "display_data"
    },
    {
     "name": "stdout",
     "output_type": "stream",
     "text": [
      "--- 2.6237339973449707 seconds ---\n",
      "MRR@100 = 0.0000\n",
      "factors: 10, iterations: 10, learning_rate: 100, regularization: 0.1, neg_prop: 50\n"
     ]
    },
    {
     "data": {
      "application/vnd.jupyter.widget-view+json": {
       "model_id": "78a4af97355f4df8aadf8b6295d0d510",
       "version_major": 2,
       "version_minor": 0
      },
      "text/plain": [
       "  0%|          | 0/10 [00:00<?, ?it/s]"
      ]
     },
     "metadata": {},
     "output_type": "display_data"
    },
    {
     "name": "stdout",
     "output_type": "stream",
     "text": [
      "--- 2.588029384613037 seconds ---\n",
      "MRR@100 = 0.0000\n",
      "factors: 10, iterations: 10, learning_rate: 100, regularization: 1, neg_prop: 5\n"
     ]
    },
    {
     "data": {
      "application/vnd.jupyter.widget-view+json": {
       "model_id": "5bae7d1d1b5b4817bcb65e3eff718f09",
       "version_major": 2,
       "version_minor": 0
      },
      "text/plain": [
       "  0%|          | 0/10 [00:00<?, ?it/s]"
      ]
     },
     "metadata": {},
     "output_type": "display_data"
    },
    {
     "name": "stdout",
     "output_type": "stream",
     "text": [
      "--- 2.4818100929260254 seconds ---\n",
      "MRR@100 = 0.0005\n",
      "factors: 10, iterations: 10, learning_rate: 100, regularization: 1, neg_prop: 15\n"
     ]
    },
    {
     "data": {
      "application/vnd.jupyter.widget-view+json": {
       "model_id": "7e169f6486004459b4a2ca8b8ec61c42",
       "version_major": 2,
       "version_minor": 0
      },
      "text/plain": [
       "  0%|          | 0/10 [00:00<?, ?it/s]"
      ]
     },
     "metadata": {},
     "output_type": "display_data"
    },
    {
     "name": "stdout",
     "output_type": "stream",
     "text": [
      "--- 2.524703025817871 seconds ---\n",
      "MRR@100 = 0.0004\n",
      "factors: 10, iterations: 10, learning_rate: 100, regularization: 1, neg_prop: 30\n"
     ]
    },
    {
     "data": {
      "application/vnd.jupyter.widget-view+json": {
       "model_id": "7fa9acb1652f4919b0880cf501f1af6e",
       "version_major": 2,
       "version_minor": 0
      },
      "text/plain": [
       "  0%|          | 0/10 [00:00<?, ?it/s]"
      ]
     },
     "metadata": {},
     "output_type": "display_data"
    },
    {
     "name": "stdout",
     "output_type": "stream",
     "text": [
      "--- 2.4755818843841553 seconds ---\n",
      "MRR@100 = 0.0004\n",
      "factors: 10, iterations: 10, learning_rate: 100, regularization: 1, neg_prop: 50\n"
     ]
    },
    {
     "data": {
      "application/vnd.jupyter.widget-view+json": {
       "model_id": "2f18b3e1b2ea4534a637f06fc908c007",
       "version_major": 2,
       "version_minor": 0
      },
      "text/plain": [
       "  0%|          | 0/10 [00:00<?, ?it/s]"
      ]
     },
     "metadata": {},
     "output_type": "display_data"
    },
    {
     "name": "stdout",
     "output_type": "stream",
     "text": [
      "--- 2.6843440532684326 seconds ---\n",
      "MRR@100 = 0.0004\n",
      "factors: 10, iterations: 10, learning_rate: 100, regularization: 10, neg_prop: 5\n"
     ]
    },
    {
     "data": {
      "application/vnd.jupyter.widget-view+json": {
       "model_id": "d4e0e0e3da904736ab78bee2e0abfacf",
       "version_major": 2,
       "version_minor": 0
      },
      "text/plain": [
       "  0%|          | 0/10 [00:00<?, ?it/s]"
      ]
     },
     "metadata": {},
     "output_type": "display_data"
    },
    {
     "name": "stdout",
     "output_type": "stream",
     "text": [
      "--- 2.788439989089966 seconds ---\n",
      "MRR@100 = 0.0018\n",
      "factors: 10, iterations: 10, learning_rate: 100, regularization: 10, neg_prop: 15\n"
     ]
    },
    {
     "data": {
      "application/vnd.jupyter.widget-view+json": {
       "model_id": "b3ade5d42cb845ee849c85dba9519b72",
       "version_major": 2,
       "version_minor": 0
      },
      "text/plain": [
       "  0%|          | 0/10 [00:00<?, ?it/s]"
      ]
     },
     "metadata": {},
     "output_type": "display_data"
    },
    {
     "name": "stdout",
     "output_type": "stream",
     "text": [
      "--- 2.5548651218414307 seconds ---\n",
      "MRR@100 = 0.0016\n",
      "factors: 10, iterations: 10, learning_rate: 100, regularization: 10, neg_prop: 30\n"
     ]
    },
    {
     "data": {
      "application/vnd.jupyter.widget-view+json": {
       "model_id": "40cfbf7a8de246578b63a3780f1e6f4e",
       "version_major": 2,
       "version_minor": 0
      },
      "text/plain": [
       "  0%|          | 0/10 [00:00<?, ?it/s]"
      ]
     },
     "metadata": {},
     "output_type": "display_data"
    },
    {
     "name": "stdout",
     "output_type": "stream",
     "text": [
      "--- 2.7761600017547607 seconds ---\n",
      "MRR@100 = 0.0016\n",
      "factors: 10, iterations: 10, learning_rate: 100, regularization: 10, neg_prop: 50\n"
     ]
    },
    {
     "data": {
      "application/vnd.jupyter.widget-view+json": {
       "model_id": "f0e68faa1b324c5599152c0e2ab931eb",
       "version_major": 2,
       "version_minor": 0
      },
      "text/plain": [
       "  0%|          | 0/10 [00:00<?, ?it/s]"
      ]
     },
     "metadata": {},
     "output_type": "display_data"
    },
    {
     "name": "stdout",
     "output_type": "stream",
     "text": [
      "--- 2.6656508445739746 seconds ---\n",
      "MRR@100 = 0.0016\n",
      "factors: 10, iterations: 10, learning_rate: 100, regularization: 100, neg_prop: 5\n"
     ]
    },
    {
     "data": {
      "application/vnd.jupyter.widget-view+json": {
       "model_id": "d8028520d15c4b649844b8c8ef4353ac",
       "version_major": 2,
       "version_minor": 0
      },
      "text/plain": [
       "  0%|          | 0/10 [00:00<?, ?it/s]"
      ]
     },
     "metadata": {},
     "output_type": "display_data"
    },
    {
     "name": "stdout",
     "output_type": "stream",
     "text": [
      "--- 2.5111050605773926 seconds ---\n",
      "MRR@100 = 0.0035\n",
      "factors: 10, iterations: 10, learning_rate: 100, regularization: 100, neg_prop: 15\n"
     ]
    },
    {
     "data": {
      "application/vnd.jupyter.widget-view+json": {
       "model_id": "787daf094cf04d1a80f458d351943078",
       "version_major": 2,
       "version_minor": 0
      },
      "text/plain": [
       "  0%|          | 0/10 [00:00<?, ?it/s]"
      ]
     },
     "metadata": {},
     "output_type": "display_data"
    },
    {
     "name": "stdout",
     "output_type": "stream",
     "text": [
      "--- 2.5560169219970703 seconds ---\n",
      "MRR@100 = 0.0034\n",
      "factors: 10, iterations: 10, learning_rate: 100, regularization: 100, neg_prop: 30\n"
     ]
    },
    {
     "data": {
      "application/vnd.jupyter.widget-view+json": {
       "model_id": "c751d2b7a94b4fb9810aefeffafe764e",
       "version_major": 2,
       "version_minor": 0
      },
      "text/plain": [
       "  0%|          | 0/10 [00:00<?, ?it/s]"
      ]
     },
     "metadata": {},
     "output_type": "display_data"
    },
    {
     "name": "stdout",
     "output_type": "stream",
     "text": [
      "--- 2.7395570278167725 seconds ---\n",
      "MRR@100 = 0.0034\n",
      "factors: 10, iterations: 10, learning_rate: 100, regularization: 100, neg_prop: 50\n"
     ]
    },
    {
     "data": {
      "application/vnd.jupyter.widget-view+json": {
       "model_id": "8d9cd359364c43fa8ac1bc62ff9d0396",
       "version_major": 2,
       "version_minor": 0
      },
      "text/plain": [
       "  0%|          | 0/10 [00:00<?, ?it/s]"
      ]
     },
     "metadata": {},
     "output_type": "display_data"
    },
    {
     "name": "stdout",
     "output_type": "stream",
     "text": [
      "--- 2.7187089920043945 seconds ---\n",
      "MRR@100 = 0.0034\n",
      "factors: 10, iterations: 20, learning_rate: 1, regularization: 0.001, neg_prop: 5\n"
     ]
    },
    {
     "data": {
      "application/vnd.jupyter.widget-view+json": {
       "model_id": "d47cd2cd4dbc459cab64a5e9a271d103",
       "version_major": 2,
       "version_minor": 0
      },
      "text/plain": [
       "  0%|          | 0/20 [00:00<?, ?it/s]"
      ]
     },
     "metadata": {},
     "output_type": "display_data"
    },
    {
     "name": "stdout",
     "output_type": "stream",
     "text": [
      "--- 2.5173869132995605 seconds ---\n",
      "MRR@100 = 0.0030\n",
      "factors: 10, iterations: 20, learning_rate: 1, regularization: 0.001, neg_prop: 15\n"
     ]
    },
    {
     "data": {
      "application/vnd.jupyter.widget-view+json": {
       "model_id": "68ee945234404f6fb766fb0a1bb86c47",
       "version_major": 2,
       "version_minor": 0
      },
      "text/plain": [
       "  0%|          | 0/20 [00:00<?, ?it/s]"
      ]
     },
     "metadata": {},
     "output_type": "display_data"
    },
    {
     "name": "stdout",
     "output_type": "stream",
     "text": [
      "--- 2.6190242767333984 seconds ---\n",
      "MRR@100 = 0.0043\n",
      "factors: 10, iterations: 20, learning_rate: 1, regularization: 0.001, neg_prop: 30\n"
     ]
    },
    {
     "data": {
      "application/vnd.jupyter.widget-view+json": {
       "model_id": "d41561982e47412ba7d3bb8e0b7fdd44",
       "version_major": 2,
       "version_minor": 0
      },
      "text/plain": [
       "  0%|          | 0/20 [00:00<?, ?it/s]"
      ]
     },
     "metadata": {},
     "output_type": "display_data"
    },
    {
     "name": "stdout",
     "output_type": "stream",
     "text": [
      "--- 2.666940927505493 seconds ---\n",
      "MRR@100 = 0.0043\n",
      "factors: 10, iterations: 20, learning_rate: 1, regularization: 0.001, neg_prop: 50\n"
     ]
    },
    {
     "data": {
      "application/vnd.jupyter.widget-view+json": {
       "model_id": "2373b63278a44ab091fffb8f4855ce2a",
       "version_major": 2,
       "version_minor": 0
      },
      "text/plain": [
       "  0%|          | 0/20 [00:00<?, ?it/s]"
      ]
     },
     "metadata": {},
     "output_type": "display_data"
    },
    {
     "name": "stdout",
     "output_type": "stream",
     "text": [
      "--- 2.575496196746826 seconds ---\n",
      "MRR@100 = 0.0043\n",
      "factors: 10, iterations: 20, learning_rate: 1, regularization: 0.01, neg_prop: 5\n"
     ]
    },
    {
     "data": {
      "application/vnd.jupyter.widget-view+json": {
       "model_id": "1b9b220a3fc242b4bda07ada4c4639bf",
       "version_major": 2,
       "version_minor": 0
      },
      "text/plain": [
       "  0%|          | 0/20 [00:00<?, ?it/s]"
      ]
     },
     "metadata": {},
     "output_type": "display_data"
    },
    {
     "name": "stdout",
     "output_type": "stream",
     "text": [
      "--- 2.4794278144836426 seconds ---\n",
      "MRR@100 = 0.0031\n",
      "factors: 10, iterations: 20, learning_rate: 1, regularization: 0.01, neg_prop: 15\n"
     ]
    },
    {
     "data": {
      "application/vnd.jupyter.widget-view+json": {
       "model_id": "615a09d029fa4df9a1b7319e3ff940eb",
       "version_major": 2,
       "version_minor": 0
      },
      "text/plain": [
       "  0%|          | 0/20 [00:00<?, ?it/s]"
      ]
     },
     "metadata": {},
     "output_type": "display_data"
    },
    {
     "name": "stdout",
     "output_type": "stream",
     "text": [
      "--- 2.7538580894470215 seconds ---\n",
      "MRR@100 = 0.0041\n",
      "factors: 10, iterations: 20, learning_rate: 1, regularization: 0.01, neg_prop: 30\n"
     ]
    },
    {
     "data": {
      "application/vnd.jupyter.widget-view+json": {
       "model_id": "f72c09500aeb45918c7460499a09ec30",
       "version_major": 2,
       "version_minor": 0
      },
      "text/plain": [
       "  0%|          | 0/20 [00:00<?, ?it/s]"
      ]
     },
     "metadata": {},
     "output_type": "display_data"
    },
    {
     "name": "stdout",
     "output_type": "stream",
     "text": [
      "--- 2.6809489727020264 seconds ---\n",
      "MRR@100 = 0.0041\n",
      "factors: 10, iterations: 20, learning_rate: 1, regularization: 0.01, neg_prop: 50\n"
     ]
    },
    {
     "data": {
      "application/vnd.jupyter.widget-view+json": {
       "model_id": "59fb7eb8610a46a4920948761a5a7159",
       "version_major": 2,
       "version_minor": 0
      },
      "text/plain": [
       "  0%|          | 0/20 [00:00<?, ?it/s]"
      ]
     },
     "metadata": {},
     "output_type": "display_data"
    },
    {
     "name": "stdout",
     "output_type": "stream",
     "text": [
      "--- 2.3427789211273193 seconds ---\n",
      "MRR@100 = 0.0041\n",
      "factors: 10, iterations: 20, learning_rate: 1, regularization: 0.1, neg_prop: 5\n"
     ]
    },
    {
     "data": {
      "application/vnd.jupyter.widget-view+json": {
       "model_id": "afcff46e89e34f5092a248209d1f56f1",
       "version_major": 2,
       "version_minor": 0
      },
      "text/plain": [
       "  0%|          | 0/20 [00:00<?, ?it/s]"
      ]
     },
     "metadata": {},
     "output_type": "display_data"
    },
    {
     "name": "stdout",
     "output_type": "stream",
     "text": [
      "--- 2.563886880874634 seconds ---\n",
      "MRR@100 = 0.0032\n",
      "factors: 10, iterations: 20, learning_rate: 1, regularization: 0.1, neg_prop: 15\n"
     ]
    },
    {
     "data": {
      "application/vnd.jupyter.widget-view+json": {
       "model_id": "bf643e0ebb1c46ccb2025c037d9767ab",
       "version_major": 2,
       "version_minor": 0
      },
      "text/plain": [
       "  0%|          | 0/20 [00:00<?, ?it/s]"
      ]
     },
     "metadata": {},
     "output_type": "display_data"
    },
    {
     "name": "stdout",
     "output_type": "stream",
     "text": [
      "--- 2.557553291320801 seconds ---\n",
      "MRR@100 = 0.0044\n",
      "factors: 10, iterations: 20, learning_rate: 1, regularization: 0.1, neg_prop: 30\n"
     ]
    },
    {
     "data": {
      "application/vnd.jupyter.widget-view+json": {
       "model_id": "918e555bfdf2410a9dd6767f82831495",
       "version_major": 2,
       "version_minor": 0
      },
      "text/plain": [
       "  0%|          | 0/20 [00:00<?, ?it/s]"
      ]
     },
     "metadata": {},
     "output_type": "display_data"
    },
    {
     "name": "stdout",
     "output_type": "stream",
     "text": [
      "--- 2.693157911300659 seconds ---\n",
      "MRR@100 = 0.0044\n",
      "factors: 10, iterations: 20, learning_rate: 1, regularization: 0.1, neg_prop: 50\n"
     ]
    },
    {
     "data": {
      "application/vnd.jupyter.widget-view+json": {
       "model_id": "4526b4fe9c394c048e0cf80a42001f8d",
       "version_major": 2,
       "version_minor": 0
      },
      "text/plain": [
       "  0%|          | 0/20 [00:00<?, ?it/s]"
      ]
     },
     "metadata": {},
     "output_type": "display_data"
    },
    {
     "name": "stdout",
     "output_type": "stream",
     "text": [
      "--- 2.3747730255126953 seconds ---\n",
      "MRR@100 = 0.0044\n",
      "factors: 10, iterations: 20, learning_rate: 1, regularization: 1, neg_prop: 5\n"
     ]
    },
    {
     "data": {
      "application/vnd.jupyter.widget-view+json": {
       "model_id": "7697d0f2e27244f981068db6c54b0555",
       "version_major": 2,
       "version_minor": 0
      },
      "text/plain": [
       "  0%|          | 0/20 [00:00<?, ?it/s]"
      ]
     },
     "metadata": {},
     "output_type": "display_data"
    },
    {
     "name": "stdout",
     "output_type": "stream",
     "text": [
      "--- 2.6392431259155273 seconds ---\n",
      "MRR@100 = 0.0044\n",
      "factors: 10, iterations: 20, learning_rate: 1, regularization: 1, neg_prop: 15\n"
     ]
    },
    {
     "data": {
      "application/vnd.jupyter.widget-view+json": {
       "model_id": "3c71de9d5a3f4939a6e2a2e8c507869c",
       "version_major": 2,
       "version_minor": 0
      },
      "text/plain": [
       "  0%|          | 0/20 [00:00<?, ?it/s]"
      ]
     },
     "metadata": {},
     "output_type": "display_data"
    },
    {
     "name": "stdout",
     "output_type": "stream",
     "text": [
      "--- 2.4692280292510986 seconds ---\n",
      "MRR@100 = 0.0048\n",
      "factors: 10, iterations: 20, learning_rate: 1, regularization: 1, neg_prop: 30\n"
     ]
    },
    {
     "data": {
      "application/vnd.jupyter.widget-view+json": {
       "model_id": "712c1467f4ff4d9bae22b8ba3e0cb85d",
       "version_major": 2,
       "version_minor": 0
      },
      "text/plain": [
       "  0%|          | 0/20 [00:00<?, ?it/s]"
      ]
     },
     "metadata": {},
     "output_type": "display_data"
    },
    {
     "name": "stdout",
     "output_type": "stream",
     "text": [
      "--- 2.538987874984741 seconds ---\n",
      "MRR@100 = 0.0048\n",
      "factors: 10, iterations: 20, learning_rate: 1, regularization: 1, neg_prop: 50\n"
     ]
    },
    {
     "data": {
      "application/vnd.jupyter.widget-view+json": {
       "model_id": "2ef583ebda1543099290e43eab16c0c1",
       "version_major": 2,
       "version_minor": 0
      },
      "text/plain": [
       "  0%|          | 0/20 [00:00<?, ?it/s]"
      ]
     },
     "metadata": {},
     "output_type": "display_data"
    },
    {
     "name": "stdout",
     "output_type": "stream",
     "text": [
      "--- 2.5602898597717285 seconds ---\n",
      "MRR@100 = 0.0048\n",
      "factors: 10, iterations: 20, learning_rate: 1, regularization: 10, neg_prop: 5\n"
     ]
    },
    {
     "data": {
      "application/vnd.jupyter.widget-view+json": {
       "model_id": "c185bd5ab0414b2fb8e55ccd87cea316",
       "version_major": 2,
       "version_minor": 0
      },
      "text/plain": [
       "  0%|          | 0/20 [00:00<?, ?it/s]"
      ]
     },
     "metadata": {},
     "output_type": "display_data"
    },
    {
     "name": "stdout",
     "output_type": "stream",
     "text": [
      "--- 2.4404311180114746 seconds ---\n",
      "MRR@100 = 0.0020\n",
      "factors: 10, iterations: 20, learning_rate: 1, regularization: 10, neg_prop: 15\n"
     ]
    },
    {
     "data": {
      "application/vnd.jupyter.widget-view+json": {
       "model_id": "7f31b171ed89457d927194a898159e28",
       "version_major": 2,
       "version_minor": 0
      },
      "text/plain": [
       "  0%|          | 0/20 [00:00<?, ?it/s]"
      ]
     },
     "metadata": {},
     "output_type": "display_data"
    },
    {
     "name": "stdout",
     "output_type": "stream",
     "text": [
      "--- 2.7774078845977783 seconds ---\n",
      "MRR@100 = 0.0021\n",
      "factors: 10, iterations: 20, learning_rate: 1, regularization: 10, neg_prop: 30\n"
     ]
    },
    {
     "data": {
      "application/vnd.jupyter.widget-view+json": {
       "model_id": "3bb92854472e4a6f87f2a6c440062e4b",
       "version_major": 2,
       "version_minor": 0
      },
      "text/plain": [
       "  0%|          | 0/20 [00:00<?, ?it/s]"
      ]
     },
     "metadata": {},
     "output_type": "display_data"
    },
    {
     "name": "stdout",
     "output_type": "stream",
     "text": [
      "--- 2.3072509765625 seconds ---\n",
      "MRR@100 = 0.0021\n",
      "factors: 10, iterations: 20, learning_rate: 1, regularization: 10, neg_prop: 50\n"
     ]
    },
    {
     "data": {
      "application/vnd.jupyter.widget-view+json": {
       "model_id": "d1696ebf239e4732b62607a691d3bd0c",
       "version_major": 2,
       "version_minor": 0
      },
      "text/plain": [
       "  0%|          | 0/20 [00:00<?, ?it/s]"
      ]
     },
     "metadata": {},
     "output_type": "display_data"
    },
    {
     "name": "stdout",
     "output_type": "stream",
     "text": [
      "--- 2.3725178241729736 seconds ---\n",
      "MRR@100 = 0.0021\n",
      "factors: 10, iterations: 20, learning_rate: 1, regularization: 100, neg_prop: 5\n"
     ]
    },
    {
     "data": {
      "application/vnd.jupyter.widget-view+json": {
       "model_id": "20aaa28ebbc848e588431f824114ca07",
       "version_major": 2,
       "version_minor": 0
      },
      "text/plain": [
       "  0%|          | 0/20 [00:00<?, ?it/s]"
      ]
     },
     "metadata": {},
     "output_type": "display_data"
    },
    {
     "name": "stdout",
     "output_type": "stream",
     "text": [
      "--- 2.4674041271209717 seconds ---\n",
      "MRR@100 = 0.0021\n",
      "factors: 10, iterations: 20, learning_rate: 1, regularization: 100, neg_prop: 15\n"
     ]
    },
    {
     "data": {
      "application/vnd.jupyter.widget-view+json": {
       "model_id": "37e5b27ed038424d9f57e3c1ded7af7b",
       "version_major": 2,
       "version_minor": 0
      },
      "text/plain": [
       "  0%|          | 0/20 [00:00<?, ?it/s]"
      ]
     },
     "metadata": {},
     "output_type": "display_data"
    },
    {
     "name": "stdout",
     "output_type": "stream",
     "text": [
      "--- 2.6082448959350586 seconds ---\n",
      "MRR@100 = 0.0021\n",
      "factors: 10, iterations: 20, learning_rate: 1, regularization: 100, neg_prop: 30\n"
     ]
    },
    {
     "data": {
      "application/vnd.jupyter.widget-view+json": {
       "model_id": "96b5ff0571e24aa2a3bb3ddd1c4eb835",
       "version_major": 2,
       "version_minor": 0
      },
      "text/plain": [
       "  0%|          | 0/20 [00:00<?, ?it/s]"
      ]
     },
     "metadata": {},
     "output_type": "display_data"
    },
    {
     "name": "stdout",
     "output_type": "stream",
     "text": [
      "--- 2.72444486618042 seconds ---\n",
      "MRR@100 = 0.0021\n",
      "factors: 10, iterations: 20, learning_rate: 1, regularization: 100, neg_prop: 50\n"
     ]
    },
    {
     "data": {
      "application/vnd.jupyter.widget-view+json": {
       "model_id": "2b326ca6817f4a0d82277f0333c4b50a",
       "version_major": 2,
       "version_minor": 0
      },
      "text/plain": [
       "  0%|          | 0/20 [00:00<?, ?it/s]"
      ]
     },
     "metadata": {},
     "output_type": "display_data"
    },
    {
     "name": "stdout",
     "output_type": "stream",
     "text": [
      "--- 2.659701108932495 seconds ---\n",
      "MRR@100 = 0.0021\n",
      "factors: 10, iterations: 20, learning_rate: 10, regularization: 0.001, neg_prop: 5\n"
     ]
    },
    {
     "data": {
      "application/vnd.jupyter.widget-view+json": {
       "model_id": "267388efe212408393419921d8bf0a4c",
       "version_major": 2,
       "version_minor": 0
      },
      "text/plain": [
       "  0%|          | 0/20 [00:00<?, ?it/s]"
      ]
     },
     "metadata": {},
     "output_type": "display_data"
    },
    {
     "name": "stdout",
     "output_type": "stream",
     "text": [
      "--- 2.5339691638946533 seconds ---\n",
      "MRR@100 = 0.0007\n",
      "factors: 10, iterations: 20, learning_rate: 10, regularization: 0.001, neg_prop: 15\n"
     ]
    },
    {
     "data": {
      "application/vnd.jupyter.widget-view+json": {
       "model_id": "1d5700506e8f47c6a7c16ee9a33f44a1",
       "version_major": 2,
       "version_minor": 0
      },
      "text/plain": [
       "  0%|          | 0/20 [00:00<?, ?it/s]"
      ]
     },
     "metadata": {},
     "output_type": "display_data"
    },
    {
     "name": "stdout",
     "output_type": "stream",
     "text": [
      "--- 2.5988881587982178 seconds ---\n",
      "MRR@100 = 0.0014\n",
      "factors: 10, iterations: 20, learning_rate: 10, regularization: 0.001, neg_prop: 30\n"
     ]
    },
    {
     "data": {
      "application/vnd.jupyter.widget-view+json": {
       "model_id": "fe9b32bc13be4d33b1493bdc9b9e54c6",
       "version_major": 2,
       "version_minor": 0
      },
      "text/plain": [
       "  0%|          | 0/20 [00:00<?, ?it/s]"
      ]
     },
     "metadata": {},
     "output_type": "display_data"
    },
    {
     "name": "stdout",
     "output_type": "stream",
     "text": [
      "--- 2.5298609733581543 seconds ---\n",
      "MRR@100 = 0.0014\n",
      "factors: 10, iterations: 20, learning_rate: 10, regularization: 0.001, neg_prop: 50\n"
     ]
    },
    {
     "data": {
      "application/vnd.jupyter.widget-view+json": {
       "model_id": "9584fbac17c24000933ce8f1d7144719",
       "version_major": 2,
       "version_minor": 0
      },
      "text/plain": [
       "  0%|          | 0/20 [00:00<?, ?it/s]"
      ]
     },
     "metadata": {},
     "output_type": "display_data"
    },
    {
     "name": "stdout",
     "output_type": "stream",
     "text": [
      "--- 2.5719549655914307 seconds ---\n",
      "MRR@100 = 0.0014\n",
      "factors: 10, iterations: 20, learning_rate: 10, regularization: 0.01, neg_prop: 5\n"
     ]
    },
    {
     "data": {
      "application/vnd.jupyter.widget-view+json": {
       "model_id": "0516167a836a49b5bda497800956660b",
       "version_major": 2,
       "version_minor": 0
      },
      "text/plain": [
       "  0%|          | 0/20 [00:00<?, ?it/s]"
      ]
     },
     "metadata": {},
     "output_type": "display_data"
    },
    {
     "name": "stdout",
     "output_type": "stream",
     "text": [
      "--- 2.5384647846221924 seconds ---\n",
      "MRR@100 = 0.0006\n",
      "factors: 10, iterations: 20, learning_rate: 10, regularization: 0.01, neg_prop: 15\n"
     ]
    },
    {
     "data": {
      "application/vnd.jupyter.widget-view+json": {
       "model_id": "9b0ea9e90414448a979730bd03863849",
       "version_major": 2,
       "version_minor": 0
      },
      "text/plain": [
       "  0%|          | 0/20 [00:00<?, ?it/s]"
      ]
     },
     "metadata": {},
     "output_type": "display_data"
    },
    {
     "name": "stdout",
     "output_type": "stream",
     "text": [
      "--- 2.580690860748291 seconds ---\n",
      "MRR@100 = 0.0020\n",
      "factors: 10, iterations: 20, learning_rate: 10, regularization: 0.01, neg_prop: 30\n"
     ]
    },
    {
     "data": {
      "application/vnd.jupyter.widget-view+json": {
       "model_id": "3dd35a210757461ebf0f60d3e6caa738",
       "version_major": 2,
       "version_minor": 0
      },
      "text/plain": [
       "  0%|          | 0/20 [00:00<?, ?it/s]"
      ]
     },
     "metadata": {},
     "output_type": "display_data"
    },
    {
     "name": "stdout",
     "output_type": "stream",
     "text": [
      "--- 2.4557502269744873 seconds ---\n",
      "MRR@100 = 0.0020\n",
      "factors: 10, iterations: 20, learning_rate: 10, regularization: 0.01, neg_prop: 50\n"
     ]
    },
    {
     "data": {
      "application/vnd.jupyter.widget-view+json": {
       "model_id": "4081393b40314515995bf653583f101e",
       "version_major": 2,
       "version_minor": 0
      },
      "text/plain": [
       "  0%|          | 0/20 [00:00<?, ?it/s]"
      ]
     },
     "metadata": {},
     "output_type": "display_data"
    },
    {
     "name": "stdout",
     "output_type": "stream",
     "text": [
      "--- 2.47221302986145 seconds ---\n",
      "MRR@100 = 0.0020\n",
      "factors: 10, iterations: 20, learning_rate: 10, regularization: 0.1, neg_prop: 5\n"
     ]
    },
    {
     "data": {
      "application/vnd.jupyter.widget-view+json": {
       "model_id": "3eb921a058b847fa91d43af889fc5ad5",
       "version_major": 2,
       "version_minor": 0
      },
      "text/plain": [
       "  0%|          | 0/20 [00:00<?, ?it/s]"
      ]
     },
     "metadata": {},
     "output_type": "display_data"
    },
    {
     "name": "stdout",
     "output_type": "stream",
     "text": [
      "--- 2.478977918624878 seconds ---\n",
      "MRR@100 = 0.0008\n",
      "factors: 10, iterations: 20, learning_rate: 10, regularization: 0.1, neg_prop: 15\n"
     ]
    },
    {
     "data": {
      "application/vnd.jupyter.widget-view+json": {
       "model_id": "02103dfc3e524cfe9b99c4693b97e7d6",
       "version_major": 2,
       "version_minor": 0
      },
      "text/plain": [
       "  0%|          | 0/20 [00:00<?, ?it/s]"
      ]
     },
     "metadata": {},
     "output_type": "display_data"
    },
    {
     "name": "stdout",
     "output_type": "stream",
     "text": [
      "--- 2.372166156768799 seconds ---\n",
      "MRR@100 = 0.0019\n",
      "factors: 10, iterations: 20, learning_rate: 10, regularization: 0.1, neg_prop: 30\n"
     ]
    },
    {
     "data": {
      "application/vnd.jupyter.widget-view+json": {
       "model_id": "f0d2c82ce114434db28ac2e4419d0614",
       "version_major": 2,
       "version_minor": 0
      },
      "text/plain": [
       "  0%|          | 0/20 [00:00<?, ?it/s]"
      ]
     },
     "metadata": {},
     "output_type": "display_data"
    },
    {
     "name": "stdout",
     "output_type": "stream",
     "text": [
      "--- 2.7233498096466064 seconds ---\n",
      "MRR@100 = 0.0019\n",
      "factors: 10, iterations: 20, learning_rate: 10, regularization: 0.1, neg_prop: 50\n"
     ]
    },
    {
     "data": {
      "application/vnd.jupyter.widget-view+json": {
       "model_id": "633fec6da8fa40aead55246246250974",
       "version_major": 2,
       "version_minor": 0
      },
      "text/plain": [
       "  0%|          | 0/20 [00:00<?, ?it/s]"
      ]
     },
     "metadata": {},
     "output_type": "display_data"
    },
    {
     "name": "stdout",
     "output_type": "stream",
     "text": [
      "--- 2.6624460220336914 seconds ---\n",
      "MRR@100 = 0.0019\n",
      "factors: 10, iterations: 20, learning_rate: 10, regularization: 1, neg_prop: 5\n"
     ]
    },
    {
     "data": {
      "application/vnd.jupyter.widget-view+json": {
       "model_id": "83eaccc4048d4989af6698a16995ebad",
       "version_major": 2,
       "version_minor": 0
      },
      "text/plain": [
       "  0%|          | 0/20 [00:00<?, ?it/s]"
      ]
     },
     "metadata": {},
     "output_type": "display_data"
    },
    {
     "name": "stdout",
     "output_type": "stream",
     "text": [
      "--- 2.8569209575653076 seconds ---\n",
      "MRR@100 = 0.0029\n",
      "factors: 10, iterations: 20, learning_rate: 10, regularization: 1, neg_prop: 15\n"
     ]
    },
    {
     "data": {
      "application/vnd.jupyter.widget-view+json": {
       "model_id": "b747137ebb1c49bcbb092b427db2f47f",
       "version_major": 2,
       "version_minor": 0
      },
      "text/plain": [
       "  0%|          | 0/20 [00:00<?, ?it/s]"
      ]
     },
     "metadata": {},
     "output_type": "display_data"
    },
    {
     "name": "stdout",
     "output_type": "stream",
     "text": [
      "--- 2.7326881885528564 seconds ---\n",
      "MRR@100 = 0.0024\n",
      "factors: 10, iterations: 20, learning_rate: 10, regularization: 1, neg_prop: 30\n"
     ]
    },
    {
     "data": {
      "application/vnd.jupyter.widget-view+json": {
       "model_id": "c0c2db4ae6da494eacdac584016ba8b3",
       "version_major": 2,
       "version_minor": 0
      },
      "text/plain": [
       "  0%|          | 0/20 [00:00<?, ?it/s]"
      ]
     },
     "metadata": {},
     "output_type": "display_data"
    },
    {
     "name": "stdout",
     "output_type": "stream",
     "text": [
      "--- 2.507316827774048 seconds ---\n",
      "MRR@100 = 0.0024\n",
      "factors: 10, iterations: 20, learning_rate: 10, regularization: 1, neg_prop: 50\n"
     ]
    },
    {
     "data": {
      "application/vnd.jupyter.widget-view+json": {
       "model_id": "a467fbed96d3496986e6d8d029604310",
       "version_major": 2,
       "version_minor": 0
      },
      "text/plain": [
       "  0%|          | 0/20 [00:00<?, ?it/s]"
      ]
     },
     "metadata": {},
     "output_type": "display_data"
    },
    {
     "name": "stdout",
     "output_type": "stream",
     "text": [
      "--- 2.6270227432250977 seconds ---\n",
      "MRR@100 = 0.0024\n",
      "factors: 10, iterations: 20, learning_rate: 10, regularization: 10, neg_prop: 5\n"
     ]
    },
    {
     "data": {
      "application/vnd.jupyter.widget-view+json": {
       "model_id": "baa670efc7054ec7b958c4e488f4d7ba",
       "version_major": 2,
       "version_minor": 0
      },
      "text/plain": [
       "  0%|          | 0/20 [00:00<?, ?it/s]"
      ]
     },
     "metadata": {},
     "output_type": "display_data"
    },
    {
     "name": "stdout",
     "output_type": "stream",
     "text": [
      "--- 2.741386890411377 seconds ---\n",
      "MRR@100 = 0.0014\n",
      "factors: 10, iterations: 20, learning_rate: 10, regularization: 10, neg_prop: 15\n"
     ]
    },
    {
     "data": {
      "application/vnd.jupyter.widget-view+json": {
       "model_id": "ea44febcc1984d9790a8e09ce5056d3b",
       "version_major": 2,
       "version_minor": 0
      },
      "text/plain": [
       "  0%|          | 0/20 [00:00<?, ?it/s]"
      ]
     },
     "metadata": {},
     "output_type": "display_data"
    },
    {
     "name": "stdout",
     "output_type": "stream",
     "text": [
      "--- 2.4415740966796875 seconds ---\n",
      "MRR@100 = 0.0017\n",
      "factors: 10, iterations: 20, learning_rate: 10, regularization: 10, neg_prop: 30\n"
     ]
    },
    {
     "data": {
      "application/vnd.jupyter.widget-view+json": {
       "model_id": "0e361d4f1a4f40b99dc68be282e5b146",
       "version_major": 2,
       "version_minor": 0
      },
      "text/plain": [
       "  0%|          | 0/20 [00:00<?, ?it/s]"
      ]
     },
     "metadata": {},
     "output_type": "display_data"
    },
    {
     "name": "stdout",
     "output_type": "stream",
     "text": [
      "--- 2.663135051727295 seconds ---\n",
      "MRR@100 = 0.0017\n",
      "factors: 10, iterations: 20, learning_rate: 10, regularization: 10, neg_prop: 50\n"
     ]
    },
    {
     "data": {
      "application/vnd.jupyter.widget-view+json": {
       "model_id": "18b5b6222b364ae6a24855d2374abd24",
       "version_major": 2,
       "version_minor": 0
      },
      "text/plain": [
       "  0%|          | 0/20 [00:00<?, ?it/s]"
      ]
     },
     "metadata": {},
     "output_type": "display_data"
    },
    {
     "name": "stdout",
     "output_type": "stream",
     "text": [
      "--- 2.9311797618865967 seconds ---\n",
      "MRR@100 = 0.0017\n",
      "factors: 10, iterations: 20, learning_rate: 10, regularization: 100, neg_prop: 5\n"
     ]
    },
    {
     "data": {
      "application/vnd.jupyter.widget-view+json": {
       "model_id": "18759d389fca4484974b386fbbe22245",
       "version_major": 2,
       "version_minor": 0
      },
      "text/plain": [
       "  0%|          | 0/20 [00:00<?, ?it/s]"
      ]
     },
     "metadata": {},
     "output_type": "display_data"
    },
    {
     "name": "stdout",
     "output_type": "stream",
     "text": [
      "--- 2.3995070457458496 seconds ---\n",
      "MRR@100 = 0.0020\n",
      "factors: 10, iterations: 20, learning_rate: 10, regularization: 100, neg_prop: 15\n"
     ]
    },
    {
     "data": {
      "application/vnd.jupyter.widget-view+json": {
       "model_id": "c65e9dcbc21a4c9ba2657063e80f9ff7",
       "version_major": 2,
       "version_minor": 0
      },
      "text/plain": [
       "  0%|          | 0/20 [00:00<?, ?it/s]"
      ]
     },
     "metadata": {},
     "output_type": "display_data"
    },
    {
     "name": "stdout",
     "output_type": "stream",
     "text": [
      "--- 2.328124761581421 seconds ---\n",
      "MRR@100 = 0.0021\n",
      "factors: 10, iterations: 20, learning_rate: 10, regularization: 100, neg_prop: 30\n"
     ]
    },
    {
     "data": {
      "application/vnd.jupyter.widget-view+json": {
       "model_id": "93c1582b3c2a4411944d5006f686e2df",
       "version_major": 2,
       "version_minor": 0
      },
      "text/plain": [
       "  0%|          | 0/20 [00:00<?, ?it/s]"
      ]
     },
     "metadata": {},
     "output_type": "display_data"
    },
    {
     "name": "stdout",
     "output_type": "stream",
     "text": [
      "--- 2.447371006011963 seconds ---\n",
      "MRR@100 = 0.0021\n",
      "factors: 10, iterations: 20, learning_rate: 10, regularization: 100, neg_prop: 50\n"
     ]
    },
    {
     "data": {
      "application/vnd.jupyter.widget-view+json": {
       "model_id": "3d98f029d1d142b0b75d148466fae24e",
       "version_major": 2,
       "version_minor": 0
      },
      "text/plain": [
       "  0%|          | 0/20 [00:00<?, ?it/s]"
      ]
     },
     "metadata": {},
     "output_type": "display_data"
    },
    {
     "name": "stdout",
     "output_type": "stream",
     "text": [
      "--- 2.428821086883545 seconds ---\n",
      "MRR@100 = 0.0021\n",
      "factors: 10, iterations: 20, learning_rate: 100, regularization: 0.001, neg_prop: 5\n"
     ]
    },
    {
     "data": {
      "application/vnd.jupyter.widget-view+json": {
       "model_id": "98b8a2b1455b4b89b636f8110b706d9a",
       "version_major": 2,
       "version_minor": 0
      },
      "text/plain": [
       "  0%|          | 0/20 [00:00<?, ?it/s]"
      ]
     },
     "metadata": {},
     "output_type": "display_data"
    },
    {
     "name": "stdout",
     "output_type": "stream",
     "text": [
      "--- 2.4084060192108154 seconds ---\n",
      "MRR@100 = 0.0000\n",
      "factors: 10, iterations: 20, learning_rate: 100, regularization: 0.001, neg_prop: 15\n"
     ]
    },
    {
     "data": {
      "application/vnd.jupyter.widget-view+json": {
       "model_id": "59d51c369d3a40c09a24ebb5b39fdba7",
       "version_major": 2,
       "version_minor": 0
      },
      "text/plain": [
       "  0%|          | 0/20 [00:00<?, ?it/s]"
      ]
     },
     "metadata": {},
     "output_type": "display_data"
    },
    {
     "name": "stdout",
     "output_type": "stream",
     "text": [
      "--- 2.6715898513793945 seconds ---\n",
      "MRR@100 = 0.0001\n",
      "factors: 10, iterations: 20, learning_rate: 100, regularization: 0.001, neg_prop: 30\n"
     ]
    },
    {
     "data": {
      "application/vnd.jupyter.widget-view+json": {
       "model_id": "93a6e37db1834e07a437b5cd6143bdbb",
       "version_major": 2,
       "version_minor": 0
      },
      "text/plain": [
       "  0%|          | 0/20 [00:00<?, ?it/s]"
      ]
     },
     "metadata": {},
     "output_type": "display_data"
    },
    {
     "name": "stdout",
     "output_type": "stream",
     "text": [
      "--- 2.486788272857666 seconds ---\n",
      "MRR@100 = 0.0001\n",
      "factors: 10, iterations: 20, learning_rate: 100, regularization: 0.001, neg_prop: 50\n"
     ]
    },
    {
     "data": {
      "application/vnd.jupyter.widget-view+json": {
       "model_id": "8d8ce9ece41a4c9c8e0cdabdaeb9cf25",
       "version_major": 2,
       "version_minor": 0
      },
      "text/plain": [
       "  0%|          | 0/20 [00:00<?, ?it/s]"
      ]
     },
     "metadata": {},
     "output_type": "display_data"
    },
    {
     "name": "stdout",
     "output_type": "stream",
     "text": [
      "--- 2.5453619956970215 seconds ---\n",
      "MRR@100 = 0.0001\n",
      "factors: 10, iterations: 20, learning_rate: 100, regularization: 0.01, neg_prop: 5\n"
     ]
    },
    {
     "data": {
      "application/vnd.jupyter.widget-view+json": {
       "model_id": "4402d2b141534148abdd961b5f715ef9",
       "version_major": 2,
       "version_minor": 0
      },
      "text/plain": [
       "  0%|          | 0/20 [00:00<?, ?it/s]"
      ]
     },
     "metadata": {},
     "output_type": "display_data"
    },
    {
     "name": "stdout",
     "output_type": "stream",
     "text": [
      "--- 2.5128839015960693 seconds ---\n",
      "MRR@100 = 0.0000\n",
      "factors: 10, iterations: 20, learning_rate: 100, regularization: 0.01, neg_prop: 15\n"
     ]
    },
    {
     "data": {
      "application/vnd.jupyter.widget-view+json": {
       "model_id": "a5742f54df4a4ffca618fc287f1841ba",
       "version_major": 2,
       "version_minor": 0
      },
      "text/plain": [
       "  0%|          | 0/20 [00:00<?, ?it/s]"
      ]
     },
     "metadata": {},
     "output_type": "display_data"
    },
    {
     "name": "stdout",
     "output_type": "stream",
     "text": [
      "--- 2.877568006515503 seconds ---\n",
      "MRR@100 = 0.0005\n",
      "factors: 10, iterations: 20, learning_rate: 100, regularization: 0.01, neg_prop: 30\n"
     ]
    },
    {
     "data": {
      "application/vnd.jupyter.widget-view+json": {
       "model_id": "b773afbdab654170ab05e6381aa55120",
       "version_major": 2,
       "version_minor": 0
      },
      "text/plain": [
       "  0%|          | 0/20 [00:00<?, ?it/s]"
      ]
     },
     "metadata": {},
     "output_type": "display_data"
    },
    {
     "name": "stdout",
     "output_type": "stream",
     "text": [
      "--- 2.6809499263763428 seconds ---\n",
      "MRR@100 = 0.0005\n",
      "factors: 10, iterations: 20, learning_rate: 100, regularization: 0.01, neg_prop: 50\n"
     ]
    },
    {
     "data": {
      "application/vnd.jupyter.widget-view+json": {
       "model_id": "0a3cccaf06734001af011a5584d81e8a",
       "version_major": 2,
       "version_minor": 0
      },
      "text/plain": [
       "  0%|          | 0/20 [00:00<?, ?it/s]"
      ]
     },
     "metadata": {},
     "output_type": "display_data"
    },
    {
     "name": "stdout",
     "output_type": "stream",
     "text": [
      "--- 2.701195001602173 seconds ---\n",
      "MRR@100 = 0.0005\n",
      "factors: 10, iterations: 20, learning_rate: 100, regularization: 0.1, neg_prop: 5\n"
     ]
    },
    {
     "data": {
      "application/vnd.jupyter.widget-view+json": {
       "model_id": "61e2fcc54e964e43bd8be331abe186a9",
       "version_major": 2,
       "version_minor": 0
      },
      "text/plain": [
       "  0%|          | 0/20 [00:00<?, ?it/s]"
      ]
     },
     "metadata": {},
     "output_type": "display_data"
    },
    {
     "name": "stdout",
     "output_type": "stream",
     "text": [
      "--- 2.560145854949951 seconds ---\n",
      "MRR@100 = 0.0000\n",
      "factors: 10, iterations: 20, learning_rate: 100, regularization: 0.1, neg_prop: 15\n"
     ]
    },
    {
     "data": {
      "application/vnd.jupyter.widget-view+json": {
       "model_id": "243cd7b2c0d4486f833a70cee7870675",
       "version_major": 2,
       "version_minor": 0
      },
      "text/plain": [
       "  0%|          | 0/20 [00:00<?, ?it/s]"
      ]
     },
     "metadata": {},
     "output_type": "display_data"
    },
    {
     "name": "stdout",
     "output_type": "stream",
     "text": [
      "--- 2.9789249897003174 seconds ---\n",
      "MRR@100 = 0.0000\n",
      "factors: 10, iterations: 20, learning_rate: 100, regularization: 0.1, neg_prop: 30\n"
     ]
    },
    {
     "data": {
      "application/vnd.jupyter.widget-view+json": {
       "model_id": "18f584761b174db2afa142de3e6ff800",
       "version_major": 2,
       "version_minor": 0
      },
      "text/plain": [
       "  0%|          | 0/20 [00:00<?, ?it/s]"
      ]
     },
     "metadata": {},
     "output_type": "display_data"
    },
    {
     "name": "stdout",
     "output_type": "stream",
     "text": [
      "--- 2.7781760692596436 seconds ---\n",
      "MRR@100 = 0.0000\n",
      "factors: 10, iterations: 20, learning_rate: 100, regularization: 0.1, neg_prop: 50\n"
     ]
    },
    {
     "data": {
      "application/vnd.jupyter.widget-view+json": {
       "model_id": "a40cfe2293c64b458aea2f36687fb06c",
       "version_major": 2,
       "version_minor": 0
      },
      "text/plain": [
       "  0%|          | 0/20 [00:00<?, ?it/s]"
      ]
     },
     "metadata": {},
     "output_type": "display_data"
    },
    {
     "name": "stdout",
     "output_type": "stream",
     "text": [
      "--- 3.211761951446533 seconds ---\n",
      "MRR@100 = 0.0000\n",
      "factors: 10, iterations: 20, learning_rate: 100, regularization: 1, neg_prop: 5\n"
     ]
    },
    {
     "data": {
      "application/vnd.jupyter.widget-view+json": {
       "model_id": "214488ceb8d8493ebaa39f4eb226dffd",
       "version_major": 2,
       "version_minor": 0
      },
      "text/plain": [
       "  0%|          | 0/20 [00:00<?, ?it/s]"
      ]
     },
     "metadata": {},
     "output_type": "display_data"
    },
    {
     "name": "stdout",
     "output_type": "stream",
     "text": [
      "--- 3.4299659729003906 seconds ---\n",
      "MRR@100 = 0.0008\n",
      "factors: 10, iterations: 20, learning_rate: 100, regularization: 1, neg_prop: 15\n"
     ]
    },
    {
     "data": {
      "application/vnd.jupyter.widget-view+json": {
       "model_id": "f63a05df4a0f4b0e9131456b2a365ca3",
       "version_major": 2,
       "version_minor": 0
      },
      "text/plain": [
       "  0%|          | 0/20 [00:00<?, ?it/s]"
      ]
     },
     "metadata": {},
     "output_type": "display_data"
    },
    {
     "name": "stdout",
     "output_type": "stream",
     "text": [
      "--- 2.7104268074035645 seconds ---\n",
      "MRR@100 = 0.0011\n",
      "factors: 10, iterations: 20, learning_rate: 100, regularization: 1, neg_prop: 30\n"
     ]
    },
    {
     "data": {
      "application/vnd.jupyter.widget-view+json": {
       "model_id": "0d17f2d3147849a782f7fac00264fafa",
       "version_major": 2,
       "version_minor": 0
      },
      "text/plain": [
       "  0%|          | 0/20 [00:00<?, ?it/s]"
      ]
     },
     "metadata": {},
     "output_type": "display_data"
    },
    {
     "name": "stdout",
     "output_type": "stream",
     "text": [
      "--- 2.475234031677246 seconds ---\n",
      "MRR@100 = 0.0011\n",
      "factors: 10, iterations: 20, learning_rate: 100, regularization: 1, neg_prop: 50\n"
     ]
    },
    {
     "data": {
      "application/vnd.jupyter.widget-view+json": {
       "model_id": "7af6e59a025b42299e8916007f5786e4",
       "version_major": 2,
       "version_minor": 0
      },
      "text/plain": [
       "  0%|          | 0/20 [00:00<?, ?it/s]"
      ]
     },
     "metadata": {},
     "output_type": "display_data"
    },
    {
     "name": "stdout",
     "output_type": "stream",
     "text": [
      "--- 2.691053867340088 seconds ---\n",
      "MRR@100 = 0.0011\n",
      "factors: 10, iterations: 20, learning_rate: 100, regularization: 10, neg_prop: 5\n"
     ]
    },
    {
     "data": {
      "application/vnd.jupyter.widget-view+json": {
       "model_id": "d83af41fe2784871b79243054de4a0da",
       "version_major": 2,
       "version_minor": 0
      },
      "text/plain": [
       "  0%|          | 0/20 [00:00<?, ?it/s]"
      ]
     },
     "metadata": {},
     "output_type": "display_data"
    },
    {
     "name": "stdout",
     "output_type": "stream",
     "text": [
      "--- 2.5149011611938477 seconds ---\n",
      "MRR@100 = 0.0013\n",
      "factors: 10, iterations: 20, learning_rate: 100, regularization: 10, neg_prop: 15\n"
     ]
    },
    {
     "data": {
      "application/vnd.jupyter.widget-view+json": {
       "model_id": "6a33b3740d3b4ed6bd0402d775f258bd",
       "version_major": 2,
       "version_minor": 0
      },
      "text/plain": [
       "  0%|          | 0/20 [00:00<?, ?it/s]"
      ]
     },
     "metadata": {},
     "output_type": "display_data"
    },
    {
     "name": "stdout",
     "output_type": "stream",
     "text": [
      "--- 2.687666177749634 seconds ---\n",
      "MRR@100 = 0.0041\n",
      "factors: 10, iterations: 20, learning_rate: 100, regularization: 10, neg_prop: 30\n"
     ]
    },
    {
     "data": {
      "application/vnd.jupyter.widget-view+json": {
       "model_id": "02b73aa24f884a2cbfce334f1f2325b5",
       "version_major": 2,
       "version_minor": 0
      },
      "text/plain": [
       "  0%|          | 0/20 [00:00<?, ?it/s]"
      ]
     },
     "metadata": {},
     "output_type": "display_data"
    },
    {
     "name": "stdout",
     "output_type": "stream",
     "text": [
      "--- 2.408255100250244 seconds ---\n",
      "MRR@100 = 0.0041\n",
      "factors: 10, iterations: 20, learning_rate: 100, regularization: 10, neg_prop: 50\n"
     ]
    },
    {
     "data": {
      "application/vnd.jupyter.widget-view+json": {
       "model_id": "641012d2f27246f583fac82416533389",
       "version_major": 2,
       "version_minor": 0
      },
      "text/plain": [
       "  0%|          | 0/20 [00:00<?, ?it/s]"
      ]
     },
     "metadata": {},
     "output_type": "display_data"
    },
    {
     "name": "stdout",
     "output_type": "stream",
     "text": [
      "--- 2.4170141220092773 seconds ---\n",
      "MRR@100 = 0.0041\n",
      "factors: 10, iterations: 20, learning_rate: 100, regularization: 100, neg_prop: 5\n"
     ]
    },
    {
     "data": {
      "application/vnd.jupyter.widget-view+json": {
       "model_id": "0e54dea551a84c509e0caaba18ee9edc",
       "version_major": 2,
       "version_minor": 0
      },
      "text/plain": [
       "  0%|          | 0/20 [00:00<?, ?it/s]"
      ]
     },
     "metadata": {},
     "output_type": "display_data"
    },
    {
     "name": "stdout",
     "output_type": "stream",
     "text": [
      "--- 2.4879417419433594 seconds ---\n",
      "MRR@100 = 0.0022\n",
      "factors: 10, iterations: 20, learning_rate: 100, regularization: 100, neg_prop: 15\n"
     ]
    },
    {
     "data": {
      "application/vnd.jupyter.widget-view+json": {
       "model_id": "26b3d3170aee4348bf95ffef712aa656",
       "version_major": 2,
       "version_minor": 0
      },
      "text/plain": [
       "  0%|          | 0/20 [00:00<?, ?it/s]"
      ]
     },
     "metadata": {},
     "output_type": "display_data"
    },
    {
     "name": "stdout",
     "output_type": "stream",
     "text": [
      "--- 2.59732985496521 seconds ---\n",
      "MRR@100 = 0.0022\n",
      "factors: 10, iterations: 20, learning_rate: 100, regularization: 100, neg_prop: 30\n"
     ]
    },
    {
     "data": {
      "application/vnd.jupyter.widget-view+json": {
       "model_id": "0482811ed5854f3ab27f1ac39ec6c401",
       "version_major": 2,
       "version_minor": 0
      },
      "text/plain": [
       "  0%|          | 0/20 [00:00<?, ?it/s]"
      ]
     },
     "metadata": {},
     "output_type": "display_data"
    },
    {
     "name": "stdout",
     "output_type": "stream",
     "text": [
      "--- 2.655805826187134 seconds ---\n",
      "MRR@100 = 0.0022\n",
      "factors: 10, iterations: 20, learning_rate: 100, regularization: 100, neg_prop: 50\n"
     ]
    },
    {
     "data": {
      "application/vnd.jupyter.widget-view+json": {
       "model_id": "2375d34083374d5388337c15df862d54",
       "version_major": 2,
       "version_minor": 0
      },
      "text/plain": [
       "  0%|          | 0/20 [00:00<?, ?it/s]"
      ]
     },
     "metadata": {},
     "output_type": "display_data"
    },
    {
     "name": "stdout",
     "output_type": "stream",
     "text": [
      "--- 2.498481035232544 seconds ---\n",
      "MRR@100 = 0.0022\n",
      "factors: 10, iterations: 30, learning_rate: 1, regularization: 0.001, neg_prop: 5\n"
     ]
    },
    {
     "data": {
      "application/vnd.jupyter.widget-view+json": {
       "model_id": "74fe180bee1a4df5bc705b2269561382",
       "version_major": 2,
       "version_minor": 0
      },
      "text/plain": [
       "  0%|          | 0/30 [00:00<?, ?it/s]"
      ]
     },
     "metadata": {},
     "output_type": "display_data"
    },
    {
     "name": "stdout",
     "output_type": "stream",
     "text": [
      "--- 2.572993040084839 seconds ---\n",
      "MRR@100 = 0.0045\n",
      "factors: 10, iterations: 30, learning_rate: 1, regularization: 0.001, neg_prop: 15\n"
     ]
    },
    {
     "data": {
      "application/vnd.jupyter.widget-view+json": {
       "model_id": "5281822465ac4ad7be7d92689dc9bc16",
       "version_major": 2,
       "version_minor": 0
      },
      "text/plain": [
       "  0%|          | 0/30 [00:00<?, ?it/s]"
      ]
     },
     "metadata": {},
     "output_type": "display_data"
    },
    {
     "name": "stdout",
     "output_type": "stream",
     "text": [
      "--- 2.407881021499634 seconds ---\n",
      "MRR@100 = 0.0029\n",
      "factors: 10, iterations: 30, learning_rate: 1, regularization: 0.001, neg_prop: 30\n"
     ]
    },
    {
     "data": {
      "application/vnd.jupyter.widget-view+json": {
       "model_id": "64cea69d6bbe4a61a6e8c42fd4368440",
       "version_major": 2,
       "version_minor": 0
      },
      "text/plain": [
       "  0%|          | 0/30 [00:00<?, ?it/s]"
      ]
     },
     "metadata": {},
     "output_type": "display_data"
    },
    {
     "name": "stdout",
     "output_type": "stream",
     "text": [
      "--- 2.48078989982605 seconds ---\n",
      "MRR@100 = 0.0029\n",
      "factors: 10, iterations: 30, learning_rate: 1, regularization: 0.001, neg_prop: 50\n"
     ]
    },
    {
     "data": {
      "application/vnd.jupyter.widget-view+json": {
       "model_id": "a1366fb868564cf6b9fb5da3dfeeea88",
       "version_major": 2,
       "version_minor": 0
      },
      "text/plain": [
       "  0%|          | 0/30 [00:00<?, ?it/s]"
      ]
     },
     "metadata": {},
     "output_type": "display_data"
    },
    {
     "name": "stdout",
     "output_type": "stream",
     "text": [
      "--- 2.269804000854492 seconds ---\n",
      "MRR@100 = 0.0029\n",
      "factors: 10, iterations: 30, learning_rate: 1, regularization: 0.01, neg_prop: 5\n"
     ]
    },
    {
     "data": {
      "application/vnd.jupyter.widget-view+json": {
       "model_id": "6f1f0d5086044e2da07bbea52dce0c02",
       "version_major": 2,
       "version_minor": 0
      },
      "text/plain": [
       "  0%|          | 0/30 [00:00<?, ?it/s]"
      ]
     },
     "metadata": {},
     "output_type": "display_data"
    },
    {
     "name": "stdout",
     "output_type": "stream",
     "text": [
      "--- 2.4731311798095703 seconds ---\n",
      "MRR@100 = 0.0049\n",
      "factors: 10, iterations: 30, learning_rate: 1, regularization: 0.01, neg_prop: 15\n"
     ]
    },
    {
     "data": {
      "application/vnd.jupyter.widget-view+json": {
       "model_id": "89b1a8adc3884725acd6bfcbd8926630",
       "version_major": 2,
       "version_minor": 0
      },
      "text/plain": [
       "  0%|          | 0/30 [00:00<?, ?it/s]"
      ]
     },
     "metadata": {},
     "output_type": "display_data"
    },
    {
     "name": "stdout",
     "output_type": "stream",
     "text": [
      "--- 2.2905380725860596 seconds ---\n",
      "MRR@100 = 0.0031\n",
      "factors: 10, iterations: 30, learning_rate: 1, regularization: 0.01, neg_prop: 30\n"
     ]
    },
    {
     "data": {
      "application/vnd.jupyter.widget-view+json": {
       "model_id": "9efe95618f0b4a9683ddc70a3c3688aa",
       "version_major": 2,
       "version_minor": 0
      },
      "text/plain": [
       "  0%|          | 0/30 [00:00<?, ?it/s]"
      ]
     },
     "metadata": {},
     "output_type": "display_data"
    },
    {
     "name": "stdout",
     "output_type": "stream",
     "text": [
      "--- 2.516263246536255 seconds ---\n",
      "MRR@100 = 0.0031\n",
      "factors: 10, iterations: 30, learning_rate: 1, regularization: 0.01, neg_prop: 50\n"
     ]
    },
    {
     "data": {
      "application/vnd.jupyter.widget-view+json": {
       "model_id": "4dd2dd3fa6884fcd835790174260d3f0",
       "version_major": 2,
       "version_minor": 0
      },
      "text/plain": [
       "  0%|          | 0/30 [00:00<?, ?it/s]"
      ]
     },
     "metadata": {},
     "output_type": "display_data"
    },
    {
     "name": "stdout",
     "output_type": "stream",
     "text": [
      "--- 2.3487167358398438 seconds ---\n",
      "MRR@100 = 0.0031\n",
      "factors: 10, iterations: 30, learning_rate: 1, regularization: 0.1, neg_prop: 5\n"
     ]
    },
    {
     "data": {
      "application/vnd.jupyter.widget-view+json": {
       "model_id": "fbc338dc8e3b49a0bcae32405242683a",
       "version_major": 2,
       "version_minor": 0
      },
      "text/plain": [
       "  0%|          | 0/30 [00:00<?, ?it/s]"
      ]
     },
     "metadata": {},
     "output_type": "display_data"
    },
    {
     "name": "stdout",
     "output_type": "stream",
     "text": [
      "--- 2.3619401454925537 seconds ---\n",
      "MRR@100 = 0.0044\n",
      "factors: 10, iterations: 30, learning_rate: 1, regularization: 0.1, neg_prop: 15\n"
     ]
    },
    {
     "data": {
      "application/vnd.jupyter.widget-view+json": {
       "model_id": "5d5cc7f62942432991670525ac212d3f",
       "version_major": 2,
       "version_minor": 0
      },
      "text/plain": [
       "  0%|          | 0/30 [00:00<?, ?it/s]"
      ]
     },
     "metadata": {},
     "output_type": "display_data"
    },
    {
     "name": "stdout",
     "output_type": "stream",
     "text": [
      "--- 2.3843629360198975 seconds ---\n",
      "MRR@100 = 0.0034\n",
      "factors: 10, iterations: 30, learning_rate: 1, regularization: 0.1, neg_prop: 30\n"
     ]
    },
    {
     "data": {
      "application/vnd.jupyter.widget-view+json": {
       "model_id": "5f9b1b2e1f1146ac876df7dedb70a714",
       "version_major": 2,
       "version_minor": 0
      },
      "text/plain": [
       "  0%|          | 0/30 [00:00<?, ?it/s]"
      ]
     },
     "metadata": {},
     "output_type": "display_data"
    },
    {
     "name": "stdout",
     "output_type": "stream",
     "text": [
      "--- 2.3806378841400146 seconds ---\n",
      "MRR@100 = 0.0034\n",
      "factors: 10, iterations: 30, learning_rate: 1, regularization: 0.1, neg_prop: 50\n"
     ]
    },
    {
     "data": {
      "application/vnd.jupyter.widget-view+json": {
       "model_id": "84cf27a574d5422bb839ac08004f417c",
       "version_major": 2,
       "version_minor": 0
      },
      "text/plain": [
       "  0%|          | 0/30 [00:00<?, ?it/s]"
      ]
     },
     "metadata": {},
     "output_type": "display_data"
    },
    {
     "name": "stdout",
     "output_type": "stream",
     "text": [
      "--- 2.6405858993530273 seconds ---\n",
      "MRR@100 = 0.0034\n",
      "factors: 10, iterations: 30, learning_rate: 1, regularization: 1, neg_prop: 5\n"
     ]
    },
    {
     "data": {
      "application/vnd.jupyter.widget-view+json": {
       "model_id": "66cca053aa254902bb61a7d7c0f7eea8",
       "version_major": 2,
       "version_minor": 0
      },
      "text/plain": [
       "  0%|          | 0/30 [00:00<?, ?it/s]"
      ]
     },
     "metadata": {},
     "output_type": "display_data"
    },
    {
     "name": "stdout",
     "output_type": "stream",
     "text": [
      "--- 2.3922717571258545 seconds ---\n",
      "MRR@100 = 0.0060\n",
      "factors: 10, iterations: 30, learning_rate: 1, regularization: 1, neg_prop: 15\n"
     ]
    },
    {
     "data": {
      "application/vnd.jupyter.widget-view+json": {
       "model_id": "fecd6cc9d88b4702acf448dc0c712d20",
       "version_major": 2,
       "version_minor": 0
      },
      "text/plain": [
       "  0%|          | 0/30 [00:00<?, ?it/s]"
      ]
     },
     "metadata": {},
     "output_type": "display_data"
    },
    {
     "name": "stdout",
     "output_type": "stream",
     "text": [
      "--- 2.28765606880188 seconds ---\n",
      "MRR@100 = 0.0055\n",
      "factors: 10, iterations: 30, learning_rate: 1, regularization: 1, neg_prop: 30\n"
     ]
    },
    {
     "data": {
      "application/vnd.jupyter.widget-view+json": {
       "model_id": "bb283737369246ffac369c4c46a57d57",
       "version_major": 2,
       "version_minor": 0
      },
      "text/plain": [
       "  0%|          | 0/30 [00:00<?, ?it/s]"
      ]
     },
     "metadata": {},
     "output_type": "display_data"
    },
    {
     "name": "stdout",
     "output_type": "stream",
     "text": [
      "--- 2.509934186935425 seconds ---\n",
      "MRR@100 = 0.0055\n",
      "factors: 10, iterations: 30, learning_rate: 1, regularization: 1, neg_prop: 50\n"
     ]
    },
    {
     "data": {
      "application/vnd.jupyter.widget-view+json": {
       "model_id": "fb8690d0ded847b6a6b326c6632e3869",
       "version_major": 2,
       "version_minor": 0
      },
      "text/plain": [
       "  0%|          | 0/30 [00:00<?, ?it/s]"
      ]
     },
     "metadata": {},
     "output_type": "display_data"
    },
    {
     "name": "stdout",
     "output_type": "stream",
     "text": [
      "--- 2.405440092086792 seconds ---\n",
      "MRR@100 = 0.0055\n",
      "factors: 10, iterations: 30, learning_rate: 1, regularization: 10, neg_prop: 5\n"
     ]
    },
    {
     "data": {
      "application/vnd.jupyter.widget-view+json": {
       "model_id": "83dacce302f74088a3ce97eb50fe5c90",
       "version_major": 2,
       "version_minor": 0
      },
      "text/plain": [
       "  0%|          | 0/30 [00:00<?, ?it/s]"
      ]
     },
     "metadata": {},
     "output_type": "display_data"
    },
    {
     "name": "stdout",
     "output_type": "stream",
     "text": [
      "--- 2.6471080780029297 seconds ---\n",
      "MRR@100 = 0.0021\n",
      "factors: 10, iterations: 30, learning_rate: 1, regularization: 10, neg_prop: 15\n"
     ]
    },
    {
     "data": {
      "application/vnd.jupyter.widget-view+json": {
       "model_id": "eca2cb27e78a412bb675f894b0f4bc49",
       "version_major": 2,
       "version_minor": 0
      },
      "text/plain": [
       "  0%|          | 0/30 [00:00<?, ?it/s]"
      ]
     },
     "metadata": {},
     "output_type": "display_data"
    },
    {
     "name": "stdout",
     "output_type": "stream",
     "text": [
      "--- 2.64011287689209 seconds ---\n",
      "MRR@100 = 0.0020\n",
      "factors: 10, iterations: 30, learning_rate: 1, regularization: 10, neg_prop: 30\n"
     ]
    },
    {
     "data": {
      "application/vnd.jupyter.widget-view+json": {
       "model_id": "ff0348fdd6e744a7ab3dcbb983e6eb78",
       "version_major": 2,
       "version_minor": 0
      },
      "text/plain": [
       "  0%|          | 0/30 [00:00<?, ?it/s]"
      ]
     },
     "metadata": {},
     "output_type": "display_data"
    },
    {
     "name": "stdout",
     "output_type": "stream",
     "text": [
      "--- 2.5444347858428955 seconds ---\n",
      "MRR@100 = 0.0020\n",
      "factors: 10, iterations: 30, learning_rate: 1, regularization: 10, neg_prop: 50\n"
     ]
    },
    {
     "data": {
      "application/vnd.jupyter.widget-view+json": {
       "model_id": "0ae1d0084ed9484ba28c77ca912d8ef2",
       "version_major": 2,
       "version_minor": 0
      },
      "text/plain": [
       "  0%|          | 0/30 [00:00<?, ?it/s]"
      ]
     },
     "metadata": {},
     "output_type": "display_data"
    },
    {
     "name": "stdout",
     "output_type": "stream",
     "text": [
      "--- 2.4981460571289062 seconds ---\n",
      "MRR@100 = 0.0020\n",
      "factors: 10, iterations: 30, learning_rate: 1, regularization: 100, neg_prop: 5\n"
     ]
    },
    {
     "data": {
      "application/vnd.jupyter.widget-view+json": {
       "model_id": "7a69c1cfc3c846489a6e504a2f91f364",
       "version_major": 2,
       "version_minor": 0
      },
      "text/plain": [
       "  0%|          | 0/30 [00:00<?, ?it/s]"
      ]
     },
     "metadata": {},
     "output_type": "display_data"
    },
    {
     "name": "stdout",
     "output_type": "stream",
     "text": [
      "--- 2.4344921112060547 seconds ---\n",
      "MRR@100 = 0.0021\n",
      "factors: 10, iterations: 30, learning_rate: 1, regularization: 100, neg_prop: 15\n"
     ]
    },
    {
     "data": {
      "application/vnd.jupyter.widget-view+json": {
       "model_id": "ffa5b6d0a59d432e8971724e20d02aaa",
       "version_major": 2,
       "version_minor": 0
      },
      "text/plain": [
       "  0%|          | 0/30 [00:00<?, ?it/s]"
      ]
     },
     "metadata": {},
     "output_type": "display_data"
    },
    {
     "name": "stdout",
     "output_type": "stream",
     "text": [
      "--- 2.5051651000976562 seconds ---\n",
      "MRR@100 = 0.0021\n",
      "factors: 10, iterations: 30, learning_rate: 1, regularization: 100, neg_prop: 30\n"
     ]
    },
    {
     "data": {
      "application/vnd.jupyter.widget-view+json": {
       "model_id": "a3397f6392e34ef1a4f531b3562ad9f9",
       "version_major": 2,
       "version_minor": 0
      },
      "text/plain": [
       "  0%|          | 0/30 [00:00<?, ?it/s]"
      ]
     },
     "metadata": {},
     "output_type": "display_data"
    },
    {
     "name": "stdout",
     "output_type": "stream",
     "text": [
      "--- 2.64239501953125 seconds ---\n",
      "MRR@100 = 0.0021\n",
      "factors: 10, iterations: 30, learning_rate: 1, regularization: 100, neg_prop: 50\n"
     ]
    },
    {
     "data": {
      "application/vnd.jupyter.widget-view+json": {
       "model_id": "2c5ee339dee04d6699315b736182852b",
       "version_major": 2,
       "version_minor": 0
      },
      "text/plain": [
       "  0%|          | 0/30 [00:00<?, ?it/s]"
      ]
     },
     "metadata": {},
     "output_type": "display_data"
    },
    {
     "name": "stdout",
     "output_type": "stream",
     "text": [
      "--- 2.464647054672241 seconds ---\n",
      "MRR@100 = 0.0021\n",
      "factors: 10, iterations: 30, learning_rate: 10, regularization: 0.001, neg_prop: 5\n"
     ]
    },
    {
     "data": {
      "application/vnd.jupyter.widget-view+json": {
       "model_id": "f7ea05d3aa7346819b0c04c69198b137",
       "version_major": 2,
       "version_minor": 0
      },
      "text/plain": [
       "  0%|          | 0/30 [00:00<?, ?it/s]"
      ]
     },
     "metadata": {},
     "output_type": "display_data"
    },
    {
     "name": "stdout",
     "output_type": "stream",
     "text": [
      "--- 2.5959339141845703 seconds ---\n",
      "MRR@100 = 0.0012\n",
      "factors: 10, iterations: 30, learning_rate: 10, regularization: 0.001, neg_prop: 15\n"
     ]
    },
    {
     "data": {
      "application/vnd.jupyter.widget-view+json": {
       "model_id": "36f90703efee45229894f61823fd9e80",
       "version_major": 2,
       "version_minor": 0
      },
      "text/plain": [
       "  0%|          | 0/30 [00:00<?, ?it/s]"
      ]
     },
     "metadata": {},
     "output_type": "display_data"
    },
    {
     "name": "stdout",
     "output_type": "stream",
     "text": [
      "--- 2.469187021255493 seconds ---\n",
      "MRR@100 = 0.0010\n",
      "factors: 10, iterations: 30, learning_rate: 10, regularization: 0.001, neg_prop: 30\n"
     ]
    },
    {
     "data": {
      "application/vnd.jupyter.widget-view+json": {
       "model_id": "4e5be8ac5f35445bbc7b690bb1fa7bef",
       "version_major": 2,
       "version_minor": 0
      },
      "text/plain": [
       "  0%|          | 0/30 [00:00<?, ?it/s]"
      ]
     },
     "metadata": {},
     "output_type": "display_data"
    },
    {
     "name": "stdout",
     "output_type": "stream",
     "text": [
      "--- 2.4398269653320312 seconds ---\n",
      "MRR@100 = 0.0010\n",
      "factors: 10, iterations: 30, learning_rate: 10, regularization: 0.001, neg_prop: 50\n"
     ]
    },
    {
     "data": {
      "application/vnd.jupyter.widget-view+json": {
       "model_id": "ac40482c9bbe4c36a482000b30781a7a",
       "version_major": 2,
       "version_minor": 0
      },
      "text/plain": [
       "  0%|          | 0/30 [00:00<?, ?it/s]"
      ]
     },
     "metadata": {},
     "output_type": "display_data"
    },
    {
     "name": "stdout",
     "output_type": "stream",
     "text": [
      "--- 2.6206469535827637 seconds ---\n",
      "MRR@100 = 0.0010\n",
      "factors: 10, iterations: 30, learning_rate: 10, regularization: 0.01, neg_prop: 5\n"
     ]
    },
    {
     "data": {
      "application/vnd.jupyter.widget-view+json": {
       "model_id": "d5f3c5dcab30454482cd5dc7999d0e5d",
       "version_major": 2,
       "version_minor": 0
      },
      "text/plain": [
       "  0%|          | 0/30 [00:00<?, ?it/s]"
      ]
     },
     "metadata": {},
     "output_type": "display_data"
    },
    {
     "name": "stdout",
     "output_type": "stream",
     "text": [
      "--- 2.459556818008423 seconds ---\n",
      "MRR@100 = 0.0025\n",
      "factors: 10, iterations: 30, learning_rate: 10, regularization: 0.01, neg_prop: 15\n"
     ]
    },
    {
     "data": {
      "application/vnd.jupyter.widget-view+json": {
       "model_id": "88c9958e87a2410195fdf9ed776cf8e6",
       "version_major": 2,
       "version_minor": 0
      },
      "text/plain": [
       "  0%|          | 0/30 [00:00<?, ?it/s]"
      ]
     },
     "metadata": {},
     "output_type": "display_data"
    },
    {
     "name": "stdout",
     "output_type": "stream",
     "text": [
      "--- 2.6856961250305176 seconds ---\n",
      "MRR@100 = 0.0013\n",
      "factors: 10, iterations: 30, learning_rate: 10, regularization: 0.01, neg_prop: 30\n"
     ]
    },
    {
     "data": {
      "application/vnd.jupyter.widget-view+json": {
       "model_id": "6564491da10041deaadc785ad21d466e",
       "version_major": 2,
       "version_minor": 0
      },
      "text/plain": [
       "  0%|          | 0/30 [00:00<?, ?it/s]"
      ]
     },
     "metadata": {},
     "output_type": "display_data"
    },
    {
     "name": "stdout",
     "output_type": "stream",
     "text": [
      "--- 2.624082088470459 seconds ---\n",
      "MRR@100 = 0.0013\n",
      "factors: 10, iterations: 30, learning_rate: 10, regularization: 0.01, neg_prop: 50\n"
     ]
    },
    {
     "data": {
      "application/vnd.jupyter.widget-view+json": {
       "model_id": "ca916c00f7f04e69a0ac6a0f48e26289",
       "version_major": 2,
       "version_minor": 0
      },
      "text/plain": [
       "  0%|          | 0/30 [00:00<?, ?it/s]"
      ]
     },
     "metadata": {},
     "output_type": "display_data"
    },
    {
     "name": "stdout",
     "output_type": "stream",
     "text": [
      "--- 2.551393985748291 seconds ---\n",
      "MRR@100 = 0.0013\n",
      "factors: 10, iterations: 30, learning_rate: 10, regularization: 0.1, neg_prop: 5\n"
     ]
    },
    {
     "data": {
      "application/vnd.jupyter.widget-view+json": {
       "model_id": "84c80402f8524a07b9c0d76947b9c3da",
       "version_major": 2,
       "version_minor": 0
      },
      "text/plain": [
       "  0%|          | 0/30 [00:00<?, ?it/s]"
      ]
     },
     "metadata": {},
     "output_type": "display_data"
    },
    {
     "name": "stdout",
     "output_type": "stream",
     "text": [
      "--- 2.5794100761413574 seconds ---\n",
      "MRR@100 = 0.0017\n",
      "factors: 10, iterations: 30, learning_rate: 10, regularization: 0.1, neg_prop: 15\n"
     ]
    },
    {
     "data": {
      "application/vnd.jupyter.widget-view+json": {
       "model_id": "684f1f229c71401db4cdfdb9d6a5e9ce",
       "version_major": 2,
       "version_minor": 0
      },
      "text/plain": [
       "  0%|          | 0/30 [00:00<?, ?it/s]"
      ]
     },
     "metadata": {},
     "output_type": "display_data"
    },
    {
     "name": "stdout",
     "output_type": "stream",
     "text": [
      "--- 2.469552993774414 seconds ---\n",
      "MRR@100 = 0.0018\n",
      "factors: 10, iterations: 30, learning_rate: 10, regularization: 0.1, neg_prop: 30\n"
     ]
    },
    {
     "data": {
      "application/vnd.jupyter.widget-view+json": {
       "model_id": "c3c0099cbb4e4ae88133d77af71574c3",
       "version_major": 2,
       "version_minor": 0
      },
      "text/plain": [
       "  0%|          | 0/30 [00:00<?, ?it/s]"
      ]
     },
     "metadata": {},
     "output_type": "display_data"
    },
    {
     "name": "stdout",
     "output_type": "stream",
     "text": [
      "--- 2.2792179584503174 seconds ---\n",
      "MRR@100 = 0.0018\n",
      "factors: 10, iterations: 30, learning_rate: 10, regularization: 0.1, neg_prop: 50\n"
     ]
    },
    {
     "data": {
      "application/vnd.jupyter.widget-view+json": {
       "model_id": "69db22bb08034041b4da860c42e5fcfb",
       "version_major": 2,
       "version_minor": 0
      },
      "text/plain": [
       "  0%|          | 0/30 [00:00<?, ?it/s]"
      ]
     },
     "metadata": {},
     "output_type": "display_data"
    },
    {
     "name": "stdout",
     "output_type": "stream",
     "text": [
      "--- 2.4371089935302734 seconds ---\n",
      "MRR@100 = 0.0018\n",
      "factors: 10, iterations: 30, learning_rate: 10, regularization: 1, neg_prop: 5\n"
     ]
    },
    {
     "data": {
      "application/vnd.jupyter.widget-view+json": {
       "model_id": "b56f6c5e597e417f9ab4188a0aaca98b",
       "version_major": 2,
       "version_minor": 0
      },
      "text/plain": [
       "  0%|          | 0/30 [00:00<?, ?it/s]"
      ]
     },
     "metadata": {},
     "output_type": "display_data"
    },
    {
     "name": "stdout",
     "output_type": "stream",
     "text": [
      "--- 2.294901132583618 seconds ---\n",
      "MRR@100 = 0.0020\n",
      "factors: 10, iterations: 30, learning_rate: 10, regularization: 1, neg_prop: 15\n"
     ]
    },
    {
     "data": {
      "application/vnd.jupyter.widget-view+json": {
       "model_id": "83988d6c15b4462cb4d1fdbb0725042b",
       "version_major": 2,
       "version_minor": 0
      },
      "text/plain": [
       "  0%|          | 0/30 [00:00<?, ?it/s]"
      ]
     },
     "metadata": {},
     "output_type": "display_data"
    },
    {
     "name": "stdout",
     "output_type": "stream",
     "text": [
      "--- 2.4122610092163086 seconds ---\n",
      "MRR@100 = 0.0031\n",
      "factors: 10, iterations: 30, learning_rate: 10, regularization: 1, neg_prop: 30\n"
     ]
    },
    {
     "data": {
      "application/vnd.jupyter.widget-view+json": {
       "model_id": "e9139c84559d4146be81d8d89d7db0e4",
       "version_major": 2,
       "version_minor": 0
      },
      "text/plain": [
       "  0%|          | 0/30 [00:00<?, ?it/s]"
      ]
     },
     "metadata": {},
     "output_type": "display_data"
    },
    {
     "name": "stdout",
     "output_type": "stream",
     "text": [
      "--- 2.5305778980255127 seconds ---\n",
      "MRR@100 = 0.0031\n",
      "factors: 10, iterations: 30, learning_rate: 10, regularization: 1, neg_prop: 50\n"
     ]
    },
    {
     "data": {
      "application/vnd.jupyter.widget-view+json": {
       "model_id": "012d00b6be924fc0ac852029a67992b5",
       "version_major": 2,
       "version_minor": 0
      },
      "text/plain": [
       "  0%|          | 0/30 [00:00<?, ?it/s]"
      ]
     },
     "metadata": {},
     "output_type": "display_data"
    },
    {
     "name": "stdout",
     "output_type": "stream",
     "text": [
      "--- 2.615000009536743 seconds ---\n",
      "MRR@100 = 0.0031\n",
      "factors: 10, iterations: 30, learning_rate: 10, regularization: 10, neg_prop: 5\n"
     ]
    },
    {
     "data": {
      "application/vnd.jupyter.widget-view+json": {
       "model_id": "58dca8c80d154531bff222ca8ed70cf5",
       "version_major": 2,
       "version_minor": 0
      },
      "text/plain": [
       "  0%|          | 0/30 [00:00<?, ?it/s]"
      ]
     },
     "metadata": {},
     "output_type": "display_data"
    },
    {
     "name": "stdout",
     "output_type": "stream",
     "text": [
      "--- 2.4469540119171143 seconds ---\n",
      "MRR@100 = 0.0021\n",
      "factors: 10, iterations: 30, learning_rate: 10, regularization: 10, neg_prop: 15\n"
     ]
    },
    {
     "data": {
      "application/vnd.jupyter.widget-view+json": {
       "model_id": "0e0fc9218c5148b6898aa0b219446a3b",
       "version_major": 2,
       "version_minor": 0
      },
      "text/plain": [
       "  0%|          | 0/30 [00:00<?, ?it/s]"
      ]
     },
     "metadata": {},
     "output_type": "display_data"
    },
    {
     "name": "stdout",
     "output_type": "stream",
     "text": [
      "--- 2.3328969478607178 seconds ---\n",
      "MRR@100 = 0.0014\n",
      "factors: 10, iterations: 30, learning_rate: 10, regularization: 10, neg_prop: 30\n"
     ]
    },
    {
     "data": {
      "application/vnd.jupyter.widget-view+json": {
       "model_id": "c34208e987fc415191938949f487cb1c",
       "version_major": 2,
       "version_minor": 0
      },
      "text/plain": [
       "  0%|          | 0/30 [00:00<?, ?it/s]"
      ]
     },
     "metadata": {},
     "output_type": "display_data"
    },
    {
     "name": "stdout",
     "output_type": "stream",
     "text": [
      "--- 2.5022337436676025 seconds ---\n",
      "MRR@100 = 0.0014\n",
      "factors: 10, iterations: 30, learning_rate: 10, regularization: 10, neg_prop: 50\n"
     ]
    },
    {
     "data": {
      "application/vnd.jupyter.widget-view+json": {
       "model_id": "8b12fcb349f54447ba64b8a6b6255d85",
       "version_major": 2,
       "version_minor": 0
      },
      "text/plain": [
       "  0%|          | 0/30 [00:00<?, ?it/s]"
      ]
     },
     "metadata": {},
     "output_type": "display_data"
    },
    {
     "name": "stdout",
     "output_type": "stream",
     "text": [
      "--- 2.3765549659729004 seconds ---\n",
      "MRR@100 = 0.0014\n",
      "factors: 10, iterations: 30, learning_rate: 10, regularization: 100, neg_prop: 5\n"
     ]
    },
    {
     "data": {
      "application/vnd.jupyter.widget-view+json": {
       "model_id": "d0d1e00fd5bb4e419c45a0d8b5ac23db",
       "version_major": 2,
       "version_minor": 0
      },
      "text/plain": [
       "  0%|          | 0/30 [00:00<?, ?it/s]"
      ]
     },
     "metadata": {},
     "output_type": "display_data"
    },
    {
     "name": "stdout",
     "output_type": "stream",
     "text": [
      "--- 2.6464407444000244 seconds ---\n",
      "MRR@100 = 0.0020\n",
      "factors: 10, iterations: 30, learning_rate: 10, regularization: 100, neg_prop: 15\n"
     ]
    },
    {
     "data": {
      "application/vnd.jupyter.widget-view+json": {
       "model_id": "db362e9248434339baeca9a76eef3e1e",
       "version_major": 2,
       "version_minor": 0
      },
      "text/plain": [
       "  0%|          | 0/30 [00:00<?, ?it/s]"
      ]
     },
     "metadata": {},
     "output_type": "display_data"
    },
    {
     "name": "stdout",
     "output_type": "stream",
     "text": [
      "--- 2.616971015930176 seconds ---\n",
      "MRR@100 = 0.0019\n",
      "factors: 10, iterations: 30, learning_rate: 10, regularization: 100, neg_prop: 30\n"
     ]
    },
    {
     "data": {
      "application/vnd.jupyter.widget-view+json": {
       "model_id": "2258b94e0d9241b29e059878025e66dd",
       "version_major": 2,
       "version_minor": 0
      },
      "text/plain": [
       "  0%|          | 0/30 [00:00<?, ?it/s]"
      ]
     },
     "metadata": {},
     "output_type": "display_data"
    },
    {
     "name": "stdout",
     "output_type": "stream",
     "text": [
      "--- 2.4695098400115967 seconds ---\n",
      "MRR@100 = 0.0019\n",
      "factors: 10, iterations: 30, learning_rate: 10, regularization: 100, neg_prop: 50\n"
     ]
    },
    {
     "data": {
      "application/vnd.jupyter.widget-view+json": {
       "model_id": "b8872d0e163946e4b3f2e370735a1942",
       "version_major": 2,
       "version_minor": 0
      },
      "text/plain": [
       "  0%|          | 0/30 [00:00<?, ?it/s]"
      ]
     },
     "metadata": {},
     "output_type": "display_data"
    },
    {
     "name": "stdout",
     "output_type": "stream",
     "text": [
      "--- 2.394308090209961 seconds ---\n",
      "MRR@100 = 0.0019\n",
      "factors: 10, iterations: 30, learning_rate: 100, regularization: 0.001, neg_prop: 5\n"
     ]
    },
    {
     "data": {
      "application/vnd.jupyter.widget-view+json": {
       "model_id": "040b28d6c4334568b6ee2644b5c5dfb2",
       "version_major": 2,
       "version_minor": 0
      },
      "text/plain": [
       "  0%|          | 0/30 [00:00<?, ?it/s]"
      ]
     },
     "metadata": {},
     "output_type": "display_data"
    },
    {
     "name": "stdout",
     "output_type": "stream",
     "text": [
      "--- 2.358694076538086 seconds ---\n",
      "MRR@100 = 0.0000\n",
      "factors: 10, iterations: 30, learning_rate: 100, regularization: 0.001, neg_prop: 15\n"
     ]
    },
    {
     "data": {
      "application/vnd.jupyter.widget-view+json": {
       "model_id": "15e8680c4c074ca48c3170e47872f362",
       "version_major": 2,
       "version_minor": 0
      },
      "text/plain": [
       "  0%|          | 0/30 [00:00<?, ?it/s]"
      ]
     },
     "metadata": {},
     "output_type": "display_data"
    },
    {
     "name": "stdout",
     "output_type": "stream",
     "text": [
      "--- 2.4367828369140625 seconds ---\n",
      "MRR@100 = 0.0009\n",
      "factors: 10, iterations: 30, learning_rate: 100, regularization: 0.001, neg_prop: 30\n"
     ]
    },
    {
     "data": {
      "application/vnd.jupyter.widget-view+json": {
       "model_id": "e45d5d2eb520428caf7f869f9bcaa232",
       "version_major": 2,
       "version_minor": 0
      },
      "text/plain": [
       "  0%|          | 0/30 [00:00<?, ?it/s]"
      ]
     },
     "metadata": {},
     "output_type": "display_data"
    },
    {
     "name": "stdout",
     "output_type": "stream",
     "text": [
      "--- 2.4345579147338867 seconds ---\n",
      "MRR@100 = 0.0009\n",
      "factors: 10, iterations: 30, learning_rate: 100, regularization: 0.001, neg_prop: 50\n"
     ]
    },
    {
     "data": {
      "application/vnd.jupyter.widget-view+json": {
       "model_id": "9984afc299284642b5b78e667f9d77fc",
       "version_major": 2,
       "version_minor": 0
      },
      "text/plain": [
       "  0%|          | 0/30 [00:00<?, ?it/s]"
      ]
     },
     "metadata": {},
     "output_type": "display_data"
    },
    {
     "name": "stdout",
     "output_type": "stream",
     "text": [
      "--- 2.4061782360076904 seconds ---\n",
      "MRR@100 = 0.0009\n",
      "factors: 10, iterations: 30, learning_rate: 100, regularization: 0.01, neg_prop: 5\n"
     ]
    },
    {
     "data": {
      "application/vnd.jupyter.widget-view+json": {
       "model_id": "b7544089acc949a8b3a9107212c47cde",
       "version_major": 2,
       "version_minor": 0
      },
      "text/plain": [
       "  0%|          | 0/30 [00:00<?, ?it/s]"
      ]
     },
     "metadata": {},
     "output_type": "display_data"
    },
    {
     "name": "stdout",
     "output_type": "stream",
     "text": [
      "--- 2.8582088947296143 seconds ---\n",
      "MRR@100 = 0.0000\n",
      "factors: 10, iterations: 30, learning_rate: 100, regularization: 0.01, neg_prop: 15\n"
     ]
    },
    {
     "data": {
      "application/vnd.jupyter.widget-view+json": {
       "model_id": "0e6c95c4df03400682018a8ab9cb87f7",
       "version_major": 2,
       "version_minor": 0
      },
      "text/plain": [
       "  0%|          | 0/30 [00:00<?, ?it/s]"
      ]
     },
     "metadata": {},
     "output_type": "display_data"
    },
    {
     "name": "stdout",
     "output_type": "stream",
     "text": [
      "--- 2.368210792541504 seconds ---\n",
      "MRR@100 = 0.0008\n",
      "factors: 10, iterations: 30, learning_rate: 100, regularization: 0.01, neg_prop: 30\n"
     ]
    },
    {
     "data": {
      "application/vnd.jupyter.widget-view+json": {
       "model_id": "359a3de513484529b09b7b8bbdc56ef5",
       "version_major": 2,
       "version_minor": 0
      },
      "text/plain": [
       "  0%|          | 0/30 [00:00<?, ?it/s]"
      ]
     },
     "metadata": {},
     "output_type": "display_data"
    },
    {
     "name": "stdout",
     "output_type": "stream",
     "text": [
      "--- 2.919952154159546 seconds ---\n",
      "MRR@100 = 0.0008\n",
      "factors: 10, iterations: 30, learning_rate: 100, regularization: 0.01, neg_prop: 50\n"
     ]
    },
    {
     "data": {
      "application/vnd.jupyter.widget-view+json": {
       "model_id": "5f64be5fb2c54ea0a9fd76bc11b9cd69",
       "version_major": 2,
       "version_minor": 0
      },
      "text/plain": [
       "  0%|          | 0/30 [00:00<?, ?it/s]"
      ]
     },
     "metadata": {},
     "output_type": "display_data"
    },
    {
     "name": "stdout",
     "output_type": "stream",
     "text": [
      "--- 2.674586772918701 seconds ---\n",
      "MRR@100 = 0.0008\n",
      "factors: 10, iterations: 30, learning_rate: 100, regularization: 0.1, neg_prop: 5\n"
     ]
    },
    {
     "data": {
      "application/vnd.jupyter.widget-view+json": {
       "model_id": "738a4fe5822b47859d4d9628e649a4b4",
       "version_major": 2,
       "version_minor": 0
      },
      "text/plain": [
       "  0%|          | 0/30 [00:00<?, ?it/s]"
      ]
     },
     "metadata": {},
     "output_type": "display_data"
    },
    {
     "name": "stdout",
     "output_type": "stream",
     "text": [
      "--- 2.4433069229125977 seconds ---\n",
      "MRR@100 = 0.0000\n",
      "factors: 10, iterations: 30, learning_rate: 100, regularization: 0.1, neg_prop: 15\n"
     ]
    },
    {
     "data": {
      "application/vnd.jupyter.widget-view+json": {
       "model_id": "042f381f0d3f4ba296c17fab220bfaad",
       "version_major": 2,
       "version_minor": 0
      },
      "text/plain": [
       "  0%|          | 0/30 [00:00<?, ?it/s]"
      ]
     },
     "metadata": {},
     "output_type": "display_data"
    },
    {
     "name": "stdout",
     "output_type": "stream",
     "text": [
      "--- 2.8049070835113525 seconds ---\n",
      "MRR@100 = 0.0004\n",
      "factors: 10, iterations: 30, learning_rate: 100, regularization: 0.1, neg_prop: 30\n"
     ]
    },
    {
     "data": {
      "application/vnd.jupyter.widget-view+json": {
       "model_id": "32a12810e99843bc9cbeb3da1e74aabc",
       "version_major": 2,
       "version_minor": 0
      },
      "text/plain": [
       "  0%|          | 0/30 [00:00<?, ?it/s]"
      ]
     },
     "metadata": {},
     "output_type": "display_data"
    },
    {
     "name": "stdout",
     "output_type": "stream",
     "text": [
      "--- 2.2983829975128174 seconds ---\n",
      "MRR@100 = 0.0004\n",
      "factors: 10, iterations: 30, learning_rate: 100, regularization: 0.1, neg_prop: 50\n"
     ]
    },
    {
     "data": {
      "application/vnd.jupyter.widget-view+json": {
       "model_id": "ff39fd21cf8047fdb8ce35fae5894fdd",
       "version_major": 2,
       "version_minor": 0
      },
      "text/plain": [
       "  0%|          | 0/30 [00:00<?, ?it/s]"
      ]
     },
     "metadata": {},
     "output_type": "display_data"
    },
    {
     "name": "stdout",
     "output_type": "stream",
     "text": [
      "--- 2.532744884490967 seconds ---\n",
      "MRR@100 = 0.0004\n",
      "factors: 10, iterations: 30, learning_rate: 100, regularization: 1, neg_prop: 5\n"
     ]
    },
    {
     "data": {
      "application/vnd.jupyter.widget-view+json": {
       "model_id": "c13d0dd9f61b45a19ff09a2147f8b51d",
       "version_major": 2,
       "version_minor": 0
      },
      "text/plain": [
       "  0%|          | 0/30 [00:00<?, ?it/s]"
      ]
     },
     "metadata": {},
     "output_type": "display_data"
    },
    {
     "name": "stdout",
     "output_type": "stream",
     "text": [
      "--- 2.4928667545318604 seconds ---\n",
      "MRR@100 = 0.0007\n",
      "factors: 10, iterations: 30, learning_rate: 100, regularization: 1, neg_prop: 15\n"
     ]
    },
    {
     "data": {
      "application/vnd.jupyter.widget-view+json": {
       "model_id": "dd75f74e71d44b25a2e2f97792504a41",
       "version_major": 2,
       "version_minor": 0
      },
      "text/plain": [
       "  0%|          | 0/30 [00:00<?, ?it/s]"
      ]
     },
     "metadata": {},
     "output_type": "display_data"
    },
    {
     "name": "stdout",
     "output_type": "stream",
     "text": [
      "--- 2.5724401473999023 seconds ---\n",
      "MRR@100 = 0.0012\n",
      "factors: 10, iterations: 30, learning_rate: 100, regularization: 1, neg_prop: 30\n"
     ]
    },
    {
     "data": {
      "application/vnd.jupyter.widget-view+json": {
       "model_id": "872fff90b7dd4b84a21dec3e6577448f",
       "version_major": 2,
       "version_minor": 0
      },
      "text/plain": [
       "  0%|          | 0/30 [00:00<?, ?it/s]"
      ]
     },
     "metadata": {},
     "output_type": "display_data"
    },
    {
     "name": "stdout",
     "output_type": "stream",
     "text": [
      "--- 2.3505609035491943 seconds ---\n",
      "MRR@100 = 0.0012\n",
      "factors: 10, iterations: 30, learning_rate: 100, regularization: 1, neg_prop: 50\n"
     ]
    },
    {
     "data": {
      "application/vnd.jupyter.widget-view+json": {
       "model_id": "1789a7c8bb694478899e8783275ba39c",
       "version_major": 2,
       "version_minor": 0
      },
      "text/plain": [
       "  0%|          | 0/30 [00:00<?, ?it/s]"
      ]
     },
     "metadata": {},
     "output_type": "display_data"
    },
    {
     "name": "stdout",
     "output_type": "stream",
     "text": [
      "--- 2.4071221351623535 seconds ---\n",
      "MRR@100 = 0.0012\n",
      "factors: 10, iterations: 30, learning_rate: 100, regularization: 10, neg_prop: 5\n"
     ]
    },
    {
     "data": {
      "application/vnd.jupyter.widget-view+json": {
       "model_id": "f736c528cfac425997ee30583157d802",
       "version_major": 2,
       "version_minor": 0
      },
      "text/plain": [
       "  0%|          | 0/30 [00:00<?, ?it/s]"
      ]
     },
     "metadata": {},
     "output_type": "display_data"
    },
    {
     "name": "stdout",
     "output_type": "stream",
     "text": [
      "--- 2.297606945037842 seconds ---\n",
      "MRR@100 = 0.0017\n",
      "factors: 10, iterations: 30, learning_rate: 100, regularization: 10, neg_prop: 15\n"
     ]
    },
    {
     "data": {
      "application/vnd.jupyter.widget-view+json": {
       "model_id": "5767b13220af4c1d9f92565880068c49",
       "version_major": 2,
       "version_minor": 0
      },
      "text/plain": [
       "  0%|          | 0/30 [00:00<?, ?it/s]"
      ]
     },
     "metadata": {},
     "output_type": "display_data"
    },
    {
     "name": "stdout",
     "output_type": "stream",
     "text": [
      "--- 2.2623131275177 seconds ---\n",
      "MRR@100 = 0.0028\n",
      "factors: 10, iterations: 30, learning_rate: 100, regularization: 10, neg_prop: 30\n"
     ]
    },
    {
     "data": {
      "application/vnd.jupyter.widget-view+json": {
       "model_id": "443095be5bf94a008bb5b9a38d69c4c4",
       "version_major": 2,
       "version_minor": 0
      },
      "text/plain": [
       "  0%|          | 0/30 [00:00<?, ?it/s]"
      ]
     },
     "metadata": {},
     "output_type": "display_data"
    },
    {
     "name": "stdout",
     "output_type": "stream",
     "text": [
      "--- 2.9512369632720947 seconds ---\n",
      "MRR@100 = 0.0028\n",
      "factors: 10, iterations: 30, learning_rate: 100, regularization: 10, neg_prop: 50\n"
     ]
    },
    {
     "data": {
      "application/vnd.jupyter.widget-view+json": {
       "model_id": "69ff98fd1d3842afa45b36774b4141fc",
       "version_major": 2,
       "version_minor": 0
      },
      "text/plain": [
       "  0%|          | 0/30 [00:00<?, ?it/s]"
      ]
     },
     "metadata": {},
     "output_type": "display_data"
    },
    {
     "name": "stdout",
     "output_type": "stream",
     "text": [
      "--- 2.711216688156128 seconds ---\n",
      "MRR@100 = 0.0028\n",
      "factors: 10, iterations: 30, learning_rate: 100, regularization: 100, neg_prop: 5\n"
     ]
    },
    {
     "data": {
      "application/vnd.jupyter.widget-view+json": {
       "model_id": "1a6733e1fe0f4205a353cdbe635c0c7a",
       "version_major": 2,
       "version_minor": 0
      },
      "text/plain": [
       "  0%|          | 0/30 [00:00<?, ?it/s]"
      ]
     },
     "metadata": {},
     "output_type": "display_data"
    },
    {
     "name": "stdout",
     "output_type": "stream",
     "text": [
      "--- 2.5389750003814697 seconds ---\n",
      "MRR@100 = 0.0021\n",
      "factors: 10, iterations: 30, learning_rate: 100, regularization: 100, neg_prop: 15\n"
     ]
    },
    {
     "data": {
      "application/vnd.jupyter.widget-view+json": {
       "model_id": "fb31adefa3014341bf5eb8f3a08b21bf",
       "version_major": 2,
       "version_minor": 0
      },
      "text/plain": [
       "  0%|          | 0/30 [00:00<?, ?it/s]"
      ]
     },
     "metadata": {},
     "output_type": "display_data"
    },
    {
     "name": "stdout",
     "output_type": "stream",
     "text": [
      "--- 2.4855289459228516 seconds ---\n",
      "MRR@100 = 0.0022\n",
      "factors: 10, iterations: 30, learning_rate: 100, regularization: 100, neg_prop: 30\n"
     ]
    },
    {
     "data": {
      "application/vnd.jupyter.widget-view+json": {
       "model_id": "256079ee61074da99a9a7547917d58d4",
       "version_major": 2,
       "version_minor": 0
      },
      "text/plain": [
       "  0%|          | 0/30 [00:00<?, ?it/s]"
      ]
     },
     "metadata": {},
     "output_type": "display_data"
    },
    {
     "name": "stdout",
     "output_type": "stream",
     "text": [
      "--- 2.9403955936431885 seconds ---\n",
      "MRR@100 = 0.0022\n",
      "factors: 10, iterations: 30, learning_rate: 100, regularization: 100, neg_prop: 50\n"
     ]
    },
    {
     "data": {
      "application/vnd.jupyter.widget-view+json": {
       "model_id": "5b5556576354465ea8b71710914acf2d",
       "version_major": 2,
       "version_minor": 0
      },
      "text/plain": [
       "  0%|          | 0/30 [00:00<?, ?it/s]"
      ]
     },
     "metadata": {},
     "output_type": "display_data"
    },
    {
     "name": "stdout",
     "output_type": "stream",
     "text": [
      "--- 2.660748243331909 seconds ---\n",
      "MRR@100 = 0.0022\n",
      "factors: 10, iterations: 50, learning_rate: 1, regularization: 0.001, neg_prop: 5\n"
     ]
    },
    {
     "data": {
      "application/vnd.jupyter.widget-view+json": {
       "model_id": "9955f0410c674efd8228343801bd14ff",
       "version_major": 2,
       "version_minor": 0
      },
      "text/plain": [
       "  0%|          | 0/50 [00:00<?, ?it/s]"
      ]
     },
     "metadata": {},
     "output_type": "display_data"
    },
    {
     "name": "stdout",
     "output_type": "stream",
     "text": [
      "--- 2.6230499744415283 seconds ---\n",
      "MRR@100 = 0.0059\n",
      "factors: 10, iterations: 50, learning_rate: 1, regularization: 0.001, neg_prop: 15\n"
     ]
    },
    {
     "data": {
      "application/vnd.jupyter.widget-view+json": {
       "model_id": "3bd0460fcc9140d0a49f0c0107c70e7c",
       "version_major": 2,
       "version_minor": 0
      },
      "text/plain": [
       "  0%|          | 0/50 [00:00<?, ?it/s]"
      ]
     },
     "metadata": {},
     "output_type": "display_data"
    },
    {
     "name": "stdout",
     "output_type": "stream",
     "text": [
      "--- 2.6323299407958984 seconds ---\n",
      "MRR@100 = 0.0038\n",
      "factors: 10, iterations: 50, learning_rate: 1, regularization: 0.001, neg_prop: 30\n"
     ]
    },
    {
     "data": {
      "application/vnd.jupyter.widget-view+json": {
       "model_id": "fe6deaa483ed4e129796007817c9104c",
       "version_major": 2,
       "version_minor": 0
      },
      "text/plain": [
       "  0%|          | 0/50 [00:00<?, ?it/s]"
      ]
     },
     "metadata": {},
     "output_type": "display_data"
    },
    {
     "name": "stdout",
     "output_type": "stream",
     "text": [
      "--- 2.6196491718292236 seconds ---\n",
      "MRR@100 = 0.0038\n",
      "factors: 10, iterations: 50, learning_rate: 1, regularization: 0.001, neg_prop: 50\n"
     ]
    },
    {
     "data": {
      "application/vnd.jupyter.widget-view+json": {
       "model_id": "336fd4ef0ec14f0c89da18802842e408",
       "version_major": 2,
       "version_minor": 0
      },
      "text/plain": [
       "  0%|          | 0/50 [00:00<?, ?it/s]"
      ]
     },
     "metadata": {},
     "output_type": "display_data"
    },
    {
     "name": "stdout",
     "output_type": "stream",
     "text": [
      "--- 2.8065903186798096 seconds ---\n",
      "MRR@100 = 0.0038\n",
      "factors: 10, iterations: 50, learning_rate: 1, regularization: 0.01, neg_prop: 5\n"
     ]
    },
    {
     "data": {
      "application/vnd.jupyter.widget-view+json": {
       "model_id": "6dbd04736660417bb4e3d639490ce8bf",
       "version_major": 2,
       "version_minor": 0
      },
      "text/plain": [
       "  0%|          | 0/50 [00:00<?, ?it/s]"
      ]
     },
     "metadata": {},
     "output_type": "display_data"
    },
    {
     "name": "stdout",
     "output_type": "stream",
     "text": [
      "--- 2.407409906387329 seconds ---\n",
      "MRR@100 = 0.0059\n",
      "factors: 10, iterations: 50, learning_rate: 1, regularization: 0.01, neg_prop: 15\n"
     ]
    },
    {
     "data": {
      "application/vnd.jupyter.widget-view+json": {
       "model_id": "72fd04fc14854cc5a9096b55d11dbaa1",
       "version_major": 2,
       "version_minor": 0
      },
      "text/plain": [
       "  0%|          | 0/50 [00:00<?, ?it/s]"
      ]
     },
     "metadata": {},
     "output_type": "display_data"
    },
    {
     "name": "stdout",
     "output_type": "stream",
     "text": [
      "--- 2.627105236053467 seconds ---\n",
      "MRR@100 = 0.0041\n",
      "factors: 10, iterations: 50, learning_rate: 1, regularization: 0.01, neg_prop: 30\n"
     ]
    },
    {
     "data": {
      "application/vnd.jupyter.widget-view+json": {
       "model_id": "2035e6b34f0a4969afe486e11d350005",
       "version_major": 2,
       "version_minor": 0
      },
      "text/plain": [
       "  0%|          | 0/50 [00:00<?, ?it/s]"
      ]
     },
     "metadata": {},
     "output_type": "display_data"
    },
    {
     "name": "stdout",
     "output_type": "stream",
     "text": [
      "--- 2.5988831520080566 seconds ---\n",
      "MRR@100 = 0.0041\n",
      "factors: 10, iterations: 50, learning_rate: 1, regularization: 0.01, neg_prop: 50\n"
     ]
    },
    {
     "data": {
      "application/vnd.jupyter.widget-view+json": {
       "model_id": "131607f149ee4396aa489343640c54aa",
       "version_major": 2,
       "version_minor": 0
      },
      "text/plain": [
       "  0%|          | 0/50 [00:00<?, ?it/s]"
      ]
     },
     "metadata": {},
     "output_type": "display_data"
    },
    {
     "name": "stdout",
     "output_type": "stream",
     "text": [
      "--- 2.98555326461792 seconds ---\n",
      "MRR@100 = 0.0041\n",
      "factors: 10, iterations: 50, learning_rate: 1, regularization: 0.1, neg_prop: 5\n"
     ]
    },
    {
     "data": {
      "application/vnd.jupyter.widget-view+json": {
       "model_id": "538485ae43e14ec492c9da34e58d601e",
       "version_major": 2,
       "version_minor": 0
      },
      "text/plain": [
       "  0%|          | 0/50 [00:00<?, ?it/s]"
      ]
     },
     "metadata": {},
     "output_type": "display_data"
    },
    {
     "name": "stdout",
     "output_type": "stream",
     "text": [
      "--- 2.58994722366333 seconds ---\n",
      "MRR@100 = 0.0060\n",
      "factors: 10, iterations: 50, learning_rate: 1, regularization: 0.1, neg_prop: 15\n"
     ]
    },
    {
     "data": {
      "application/vnd.jupyter.widget-view+json": {
       "model_id": "599353a2703948c5b57be276da9c2f62",
       "version_major": 2,
       "version_minor": 0
      },
      "text/plain": [
       "  0%|          | 0/50 [00:00<?, ?it/s]"
      ]
     },
     "metadata": {},
     "output_type": "display_data"
    },
    {
     "name": "stdout",
     "output_type": "stream",
     "text": [
      "--- 2.5115067958831787 seconds ---\n",
      "MRR@100 = 0.0041\n",
      "factors: 10, iterations: 50, learning_rate: 1, regularization: 0.1, neg_prop: 30\n"
     ]
    },
    {
     "data": {
      "application/vnd.jupyter.widget-view+json": {
       "model_id": "0729a634abd141368bb8b5e3b421e2f6",
       "version_major": 2,
       "version_minor": 0
      },
      "text/plain": [
       "  0%|          | 0/50 [00:00<?, ?it/s]"
      ]
     },
     "metadata": {},
     "output_type": "display_data"
    },
    {
     "name": "stdout",
     "output_type": "stream",
     "text": [
      "--- 2.390328884124756 seconds ---\n",
      "MRR@100 = 0.0041\n",
      "factors: 10, iterations: 50, learning_rate: 1, regularization: 0.1, neg_prop: 50\n"
     ]
    },
    {
     "data": {
      "application/vnd.jupyter.widget-view+json": {
       "model_id": "129bfb8c87b84f6ead5a8c0656ac0042",
       "version_major": 2,
       "version_minor": 0
      },
      "text/plain": [
       "  0%|          | 0/50 [00:00<?, ?it/s]"
      ]
     },
     "metadata": {},
     "output_type": "display_data"
    },
    {
     "name": "stdout",
     "output_type": "stream",
     "text": [
      "--- 2.6554789543151855 seconds ---\n",
      "MRR@100 = 0.0041\n",
      "factors: 10, iterations: 50, learning_rate: 1, regularization: 1, neg_prop: 5\n"
     ]
    },
    {
     "data": {
      "application/vnd.jupyter.widget-view+json": {
       "model_id": "157c2cf67d1e4dc08f21014ebd1af312",
       "version_major": 2,
       "version_minor": 0
      },
      "text/plain": [
       "  0%|          | 0/50 [00:00<?, ?it/s]"
      ]
     },
     "metadata": {},
     "output_type": "display_data"
    },
    {
     "name": "stdout",
     "output_type": "stream",
     "text": [
      "--- 2.498674154281616 seconds ---\n",
      "MRR@100 = 0.0062\n",
      "factors: 10, iterations: 50, learning_rate: 1, regularization: 1, neg_prop: 15\n"
     ]
    },
    {
     "data": {
      "application/vnd.jupyter.widget-view+json": {
       "model_id": "81d9239cfe1b42f7993e38ce335b5701",
       "version_major": 2,
       "version_minor": 0
      },
      "text/plain": [
       "  0%|          | 0/50 [00:00<?, ?it/s]"
      ]
     },
     "metadata": {},
     "output_type": "display_data"
    },
    {
     "name": "stdout",
     "output_type": "stream",
     "text": [
      "--- 2.4200949668884277 seconds ---\n",
      "MRR@100 = 0.0050\n",
      "factors: 10, iterations: 50, learning_rate: 1, regularization: 1, neg_prop: 30\n"
     ]
    },
    {
     "data": {
      "application/vnd.jupyter.widget-view+json": {
       "model_id": "5a0951b4ad984ed7ae43f7f6d8892904",
       "version_major": 2,
       "version_minor": 0
      },
      "text/plain": [
       "  0%|          | 0/50 [00:00<?, ?it/s]"
      ]
     },
     "metadata": {},
     "output_type": "display_data"
    },
    {
     "name": "stdout",
     "output_type": "stream",
     "text": [
      "--- 2.4982662200927734 seconds ---\n",
      "MRR@100 = 0.0050\n",
      "factors: 10, iterations: 50, learning_rate: 1, regularization: 1, neg_prop: 50\n"
     ]
    },
    {
     "data": {
      "application/vnd.jupyter.widget-view+json": {
       "model_id": "095aea97082045e0b133dbbd9e05c23f",
       "version_major": 2,
       "version_minor": 0
      },
      "text/plain": [
       "  0%|          | 0/50 [00:00<?, ?it/s]"
      ]
     },
     "metadata": {},
     "output_type": "display_data"
    },
    {
     "name": "stdout",
     "output_type": "stream",
     "text": [
      "--- 2.4775071144104004 seconds ---\n",
      "MRR@100 = 0.0050\n",
      "factors: 10, iterations: 50, learning_rate: 1, regularization: 10, neg_prop: 5\n"
     ]
    },
    {
     "data": {
      "application/vnd.jupyter.widget-view+json": {
       "model_id": "e171eb3ab29440feb99f6118a2f48ad8",
       "version_major": 2,
       "version_minor": 0
      },
      "text/plain": [
       "  0%|          | 0/50 [00:00<?, ?it/s]"
      ]
     },
     "metadata": {},
     "output_type": "display_data"
    },
    {
     "name": "stdout",
     "output_type": "stream",
     "text": [
      "--- 2.5118017196655273 seconds ---\n",
      "MRR@100 = 0.0020\n",
      "factors: 10, iterations: 50, learning_rate: 1, regularization: 10, neg_prop: 15\n"
     ]
    },
    {
     "data": {
      "application/vnd.jupyter.widget-view+json": {
       "model_id": "258804e132484198a6a8d3c213fa82e1",
       "version_major": 2,
       "version_minor": 0
      },
      "text/plain": [
       "  0%|          | 0/50 [00:00<?, ?it/s]"
      ]
     },
     "metadata": {},
     "output_type": "display_data"
    },
    {
     "name": "stdout",
     "output_type": "stream",
     "text": [
      "--- 2.668909788131714 seconds ---\n",
      "MRR@100 = 0.0020\n",
      "factors: 10, iterations: 50, learning_rate: 1, regularization: 10, neg_prop: 30\n"
     ]
    },
    {
     "data": {
      "application/vnd.jupyter.widget-view+json": {
       "model_id": "ca27b529e48146aeafe580a6713cfe8e",
       "version_major": 2,
       "version_minor": 0
      },
      "text/plain": [
       "  0%|          | 0/50 [00:00<?, ?it/s]"
      ]
     },
     "metadata": {},
     "output_type": "display_data"
    },
    {
     "name": "stdout",
     "output_type": "stream",
     "text": [
      "--- 2.6675050258636475 seconds ---\n",
      "MRR@100 = 0.0020\n",
      "factors: 10, iterations: 50, learning_rate: 1, regularization: 10, neg_prop: 50\n"
     ]
    },
    {
     "data": {
      "application/vnd.jupyter.widget-view+json": {
       "model_id": "c6dba4684800438da1388ff7af0a07fa",
       "version_major": 2,
       "version_minor": 0
      },
      "text/plain": [
       "  0%|          | 0/50 [00:00<?, ?it/s]"
      ]
     },
     "metadata": {},
     "output_type": "display_data"
    },
    {
     "name": "stdout",
     "output_type": "stream",
     "text": [
      "--- 2.399824857711792 seconds ---\n",
      "MRR@100 = 0.0020\n",
      "factors: 10, iterations: 50, learning_rate: 1, regularization: 100, neg_prop: 5\n"
     ]
    },
    {
     "data": {
      "application/vnd.jupyter.widget-view+json": {
       "model_id": "4d12538ed6d14eca815a1b51bf06425e",
       "version_major": 2,
       "version_minor": 0
      },
      "text/plain": [
       "  0%|          | 0/50 [00:00<?, ?it/s]"
      ]
     },
     "metadata": {},
     "output_type": "display_data"
    },
    {
     "name": "stdout",
     "output_type": "stream",
     "text": [
      "--- 2.548309087753296 seconds ---\n",
      "MRR@100 = 0.0021\n",
      "factors: 10, iterations: 50, learning_rate: 1, regularization: 100, neg_prop: 15\n"
     ]
    },
    {
     "data": {
      "application/vnd.jupyter.widget-view+json": {
       "model_id": "48081b8871e04a3f9454e7b9ab73b4b4",
       "version_major": 2,
       "version_minor": 0
      },
      "text/plain": [
       "  0%|          | 0/50 [00:00<?, ?it/s]"
      ]
     },
     "metadata": {},
     "output_type": "display_data"
    },
    {
     "name": "stdout",
     "output_type": "stream",
     "text": [
      "--- 2.5486459732055664 seconds ---\n",
      "MRR@100 = 0.0022\n",
      "factors: 10, iterations: 50, learning_rate: 1, regularization: 100, neg_prop: 30\n"
     ]
    },
    {
     "data": {
      "application/vnd.jupyter.widget-view+json": {
       "model_id": "a4ea912abcf549c3a4df9fbab0b81138",
       "version_major": 2,
       "version_minor": 0
      },
      "text/plain": [
       "  0%|          | 0/50 [00:00<?, ?it/s]"
      ]
     },
     "metadata": {},
     "output_type": "display_data"
    },
    {
     "name": "stdout",
     "output_type": "stream",
     "text": [
      "--- 2.5522348880767822 seconds ---\n",
      "MRR@100 = 0.0022\n",
      "factors: 10, iterations: 50, learning_rate: 1, regularization: 100, neg_prop: 50\n"
     ]
    },
    {
     "data": {
      "application/vnd.jupyter.widget-view+json": {
       "model_id": "5e70dc9fd62b4e31b84e2a9b1692e967",
       "version_major": 2,
       "version_minor": 0
      },
      "text/plain": [
       "  0%|          | 0/50 [00:00<?, ?it/s]"
      ]
     },
     "metadata": {},
     "output_type": "display_data"
    },
    {
     "name": "stdout",
     "output_type": "stream",
     "text": [
      "--- 2.4041152000427246 seconds ---\n",
      "MRR@100 = 0.0022\n",
      "factors: 10, iterations: 50, learning_rate: 10, regularization: 0.001, neg_prop: 5\n"
     ]
    },
    {
     "data": {
      "application/vnd.jupyter.widget-view+json": {
       "model_id": "78c29c185de34280a894996e0c9d7bfc",
       "version_major": 2,
       "version_minor": 0
      },
      "text/plain": [
       "  0%|          | 0/50 [00:00<?, ?it/s]"
      ]
     },
     "metadata": {},
     "output_type": "display_data"
    },
    {
     "name": "stdout",
     "output_type": "stream",
     "text": [
      "--- 2.469351053237915 seconds ---\n",
      "MRR@100 = 0.0017\n",
      "factors: 10, iterations: 50, learning_rate: 10, regularization: 0.001, neg_prop: 15\n"
     ]
    },
    {
     "data": {
      "application/vnd.jupyter.widget-view+json": {
       "model_id": "3f470e9e4c6a4d03a216a908245b3ec3",
       "version_major": 2,
       "version_minor": 0
      },
      "text/plain": [
       "  0%|          | 0/50 [00:00<?, ?it/s]"
      ]
     },
     "metadata": {},
     "output_type": "display_data"
    },
    {
     "name": "stdout",
     "output_type": "stream",
     "text": [
      "--- 2.5113608837127686 seconds ---\n",
      "MRR@100 = 0.0021\n",
      "factors: 10, iterations: 50, learning_rate: 10, regularization: 0.001, neg_prop: 30\n"
     ]
    },
    {
     "data": {
      "application/vnd.jupyter.widget-view+json": {
       "model_id": "41113c45170f484bb6a7bb9421f3cf82",
       "version_major": 2,
       "version_minor": 0
      },
      "text/plain": [
       "  0%|          | 0/50 [00:00<?, ?it/s]"
      ]
     },
     "metadata": {},
     "output_type": "display_data"
    },
    {
     "name": "stdout",
     "output_type": "stream",
     "text": [
      "--- 2.3625059127807617 seconds ---\n",
      "MRR@100 = 0.0021\n",
      "factors: 10, iterations: 50, learning_rate: 10, regularization: 0.001, neg_prop: 50\n"
     ]
    },
    {
     "data": {
      "application/vnd.jupyter.widget-view+json": {
       "model_id": "44ae85fcd3ff4b588e742b5f9d784394",
       "version_major": 2,
       "version_minor": 0
      },
      "text/plain": [
       "  0%|          | 0/50 [00:00<?, ?it/s]"
      ]
     },
     "metadata": {},
     "output_type": "display_data"
    },
    {
     "name": "stdout",
     "output_type": "stream",
     "text": [
      "--- 2.349259853363037 seconds ---\n",
      "MRR@100 = 0.0021\n",
      "factors: 10, iterations: 50, learning_rate: 10, regularization: 0.01, neg_prop: 5\n"
     ]
    },
    {
     "data": {
      "application/vnd.jupyter.widget-view+json": {
       "model_id": "3936654719984bbba22b813145da674d",
       "version_major": 2,
       "version_minor": 0
      },
      "text/plain": [
       "  0%|          | 0/50 [00:00<?, ?it/s]"
      ]
     },
     "metadata": {},
     "output_type": "display_data"
    },
    {
     "name": "stdout",
     "output_type": "stream",
     "text": [
      "--- 2.413335084915161 seconds ---\n",
      "MRR@100 = 0.0019\n",
      "factors: 10, iterations: 50, learning_rate: 10, regularization: 0.01, neg_prop: 15\n"
     ]
    },
    {
     "data": {
      "application/vnd.jupyter.widget-view+json": {
       "model_id": "f8d6084ae9674428bb194dac77700968",
       "version_major": 2,
       "version_minor": 0
      },
      "text/plain": [
       "  0%|          | 0/50 [00:00<?, ?it/s]"
      ]
     },
     "metadata": {},
     "output_type": "display_data"
    },
    {
     "name": "stdout",
     "output_type": "stream",
     "text": [
      "--- 2.5516271591186523 seconds ---\n",
      "MRR@100 = 0.0015\n",
      "factors: 10, iterations: 50, learning_rate: 10, regularization: 0.01, neg_prop: 30\n"
     ]
    },
    {
     "data": {
      "application/vnd.jupyter.widget-view+json": {
       "model_id": "4e1b3bd3256945e0ac51862583deebf0",
       "version_major": 2,
       "version_minor": 0
      },
      "text/plain": [
       "  0%|          | 0/50 [00:00<?, ?it/s]"
      ]
     },
     "metadata": {},
     "output_type": "display_data"
    },
    {
     "name": "stdout",
     "output_type": "stream",
     "text": [
      "--- 2.3758697509765625 seconds ---\n",
      "MRR@100 = 0.0015\n",
      "factors: 10, iterations: 50, learning_rate: 10, regularization: 0.01, neg_prop: 50\n"
     ]
    },
    {
     "data": {
      "application/vnd.jupyter.widget-view+json": {
       "model_id": "4fc0abcb6785474ea49977c5c59c4d90",
       "version_major": 2,
       "version_minor": 0
      },
      "text/plain": [
       "  0%|          | 0/50 [00:00<?, ?it/s]"
      ]
     },
     "metadata": {},
     "output_type": "display_data"
    },
    {
     "name": "stdout",
     "output_type": "stream",
     "text": [
      "--- 2.39483642578125 seconds ---\n",
      "MRR@100 = 0.0015\n",
      "factors: 10, iterations: 50, learning_rate: 10, regularization: 0.1, neg_prop: 5\n"
     ]
    },
    {
     "data": {
      "application/vnd.jupyter.widget-view+json": {
       "model_id": "7b1797c7bd5a4ae5998a2e475f4803de",
       "version_major": 2,
       "version_minor": 0
      },
      "text/plain": [
       "  0%|          | 0/50 [00:00<?, ?it/s]"
      ]
     },
     "metadata": {},
     "output_type": "display_data"
    },
    {
     "name": "stdout",
     "output_type": "stream",
     "text": [
      "--- 2.502394199371338 seconds ---\n",
      "MRR@100 = 0.0013\n",
      "factors: 10, iterations: 50, learning_rate: 10, regularization: 0.1, neg_prop: 15\n"
     ]
    },
    {
     "data": {
      "application/vnd.jupyter.widget-view+json": {
       "model_id": "57b200aa0d074a079ddc05a6899966af",
       "version_major": 2,
       "version_minor": 0
      },
      "text/plain": [
       "  0%|          | 0/50 [00:00<?, ?it/s]"
      ]
     },
     "metadata": {},
     "output_type": "display_data"
    },
    {
     "name": "stdout",
     "output_type": "stream",
     "text": [
      "--- 2.368314027786255 seconds ---\n",
      "MRR@100 = 0.0017\n",
      "factors: 10, iterations: 50, learning_rate: 10, regularization: 0.1, neg_prop: 30\n"
     ]
    },
    {
     "data": {
      "application/vnd.jupyter.widget-view+json": {
       "model_id": "7f99d57f66c34ebc9c2739db5021abfb",
       "version_major": 2,
       "version_minor": 0
      },
      "text/plain": [
       "  0%|          | 0/50 [00:00<?, ?it/s]"
      ]
     },
     "metadata": {},
     "output_type": "display_data"
    },
    {
     "name": "stdout",
     "output_type": "stream",
     "text": [
      "--- 2.5042970180511475 seconds ---\n",
      "MRR@100 = 0.0017\n",
      "factors: 10, iterations: 50, learning_rate: 10, regularization: 0.1, neg_prop: 50\n"
     ]
    },
    {
     "data": {
      "application/vnd.jupyter.widget-view+json": {
       "model_id": "f2bc8c51672441678454b85a349f7ef8",
       "version_major": 2,
       "version_minor": 0
      },
      "text/plain": [
       "  0%|          | 0/50 [00:00<?, ?it/s]"
      ]
     },
     "metadata": {},
     "output_type": "display_data"
    },
    {
     "name": "stdout",
     "output_type": "stream",
     "text": [
      "--- 2.5769851207733154 seconds ---\n",
      "MRR@100 = 0.0017\n",
      "factors: 10, iterations: 50, learning_rate: 10, regularization: 1, neg_prop: 5\n"
     ]
    },
    {
     "data": {
      "application/vnd.jupyter.widget-view+json": {
       "model_id": "a4fd021ed6a64ee8b32e676b5ad92a8e",
       "version_major": 2,
       "version_minor": 0
      },
      "text/plain": [
       "  0%|          | 0/50 [00:00<?, ?it/s]"
      ]
     },
     "metadata": {},
     "output_type": "display_data"
    },
    {
     "name": "stdout",
     "output_type": "stream",
     "text": [
      "--- 2.399384021759033 seconds ---\n",
      "MRR@100 = 0.0018\n",
      "factors: 10, iterations: 50, learning_rate: 10, regularization: 1, neg_prop: 15\n"
     ]
    },
    {
     "data": {
      "application/vnd.jupyter.widget-view+json": {
       "model_id": "671dce7712de43e69f31fc7c058fcf1f",
       "version_major": 2,
       "version_minor": 0
      },
      "text/plain": [
       "  0%|          | 0/50 [00:00<?, ?it/s]"
      ]
     },
     "metadata": {},
     "output_type": "display_data"
    },
    {
     "name": "stdout",
     "output_type": "stream",
     "text": [
      "--- 2.5031938552856445 seconds ---\n",
      "MRR@100 = 0.0039\n",
      "factors: 10, iterations: 50, learning_rate: 10, regularization: 1, neg_prop: 30\n"
     ]
    },
    {
     "data": {
      "application/vnd.jupyter.widget-view+json": {
       "model_id": "3c1fbeca3fe842288d668fa21ff5325c",
       "version_major": 2,
       "version_minor": 0
      },
      "text/plain": [
       "  0%|          | 0/50 [00:00<?, ?it/s]"
      ]
     },
     "metadata": {},
     "output_type": "display_data"
    },
    {
     "name": "stdout",
     "output_type": "stream",
     "text": [
      "--- 2.418578863143921 seconds ---\n",
      "MRR@100 = 0.0039\n",
      "factors: 10, iterations: 50, learning_rate: 10, regularization: 1, neg_prop: 50\n"
     ]
    },
    {
     "data": {
      "application/vnd.jupyter.widget-view+json": {
       "model_id": "fa990dfe7fe34b64bcf24a5af908ec75",
       "version_major": 2,
       "version_minor": 0
      },
      "text/plain": [
       "  0%|          | 0/50 [00:00<?, ?it/s]"
      ]
     },
     "metadata": {},
     "output_type": "display_data"
    },
    {
     "name": "stdout",
     "output_type": "stream",
     "text": [
      "--- 2.3342740535736084 seconds ---\n",
      "MRR@100 = 0.0039\n",
      "factors: 10, iterations: 50, learning_rate: 10, regularization: 10, neg_prop: 5\n"
     ]
    },
    {
     "data": {
      "application/vnd.jupyter.widget-view+json": {
       "model_id": "f7cd16a45cdb4840abe05a37ac53749f",
       "version_major": 2,
       "version_minor": 0
      },
      "text/plain": [
       "  0%|          | 0/50 [00:00<?, ?it/s]"
      ]
     },
     "metadata": {},
     "output_type": "display_data"
    },
    {
     "name": "stdout",
     "output_type": "stream",
     "text": [
      "--- 2.5203299522399902 seconds ---\n",
      "MRR@100 = 0.0018\n",
      "factors: 10, iterations: 50, learning_rate: 10, regularization: 10, neg_prop: 15\n"
     ]
    },
    {
     "data": {
      "application/vnd.jupyter.widget-view+json": {
       "model_id": "05d610ed4c674bfe888daab43b0cf1d7",
       "version_major": 2,
       "version_minor": 0
      },
      "text/plain": [
       "  0%|          | 0/50 [00:00<?, ?it/s]"
      ]
     },
     "metadata": {},
     "output_type": "display_data"
    },
    {
     "name": "stdout",
     "output_type": "stream",
     "text": [
      "--- 2.5046801567077637 seconds ---\n",
      "MRR@100 = 0.0017\n",
      "factors: 10, iterations: 50, learning_rate: 10, regularization: 10, neg_prop: 30\n"
     ]
    },
    {
     "data": {
      "application/vnd.jupyter.widget-view+json": {
       "model_id": "94ef175aaea045b8a7a82ac99adc5a3b",
       "version_major": 2,
       "version_minor": 0
      },
      "text/plain": [
       "  0%|          | 0/50 [00:00<?, ?it/s]"
      ]
     },
     "metadata": {},
     "output_type": "display_data"
    },
    {
     "name": "stdout",
     "output_type": "stream",
     "text": [
      "--- 2.4976487159729004 seconds ---\n",
      "MRR@100 = 0.0017\n",
      "factors: 10, iterations: 50, learning_rate: 10, regularization: 10, neg_prop: 50\n"
     ]
    },
    {
     "data": {
      "application/vnd.jupyter.widget-view+json": {
       "model_id": "9005610fe1a74020a4701a79342c02b1",
       "version_major": 2,
       "version_minor": 0
      },
      "text/plain": [
       "  0%|          | 0/50 [00:00<?, ?it/s]"
      ]
     },
     "metadata": {},
     "output_type": "display_data"
    },
    {
     "name": "stdout",
     "output_type": "stream",
     "text": [
      "--- 2.4212779998779297 seconds ---\n",
      "MRR@100 = 0.0017\n",
      "factors: 10, iterations: 50, learning_rate: 10, regularization: 100, neg_prop: 5\n"
     ]
    },
    {
     "data": {
      "application/vnd.jupyter.widget-view+json": {
       "model_id": "bef93e4b39f0453fb49a6b38fd4f2882",
       "version_major": 2,
       "version_minor": 0
      },
      "text/plain": [
       "  0%|          | 0/50 [00:00<?, ?it/s]"
      ]
     },
     "metadata": {},
     "output_type": "display_data"
    },
    {
     "name": "stdout",
     "output_type": "stream",
     "text": [
      "--- 2.5273048877716064 seconds ---\n",
      "MRR@100 = 0.0019\n",
      "factors: 10, iterations: 50, learning_rate: 10, regularization: 100, neg_prop: 15\n"
     ]
    },
    {
     "data": {
      "application/vnd.jupyter.widget-view+json": {
       "model_id": "36ef071ed30648a8a241fb690a79c2db",
       "version_major": 2,
       "version_minor": 0
      },
      "text/plain": [
       "  0%|          | 0/50 [00:00<?, ?it/s]"
      ]
     },
     "metadata": {},
     "output_type": "display_data"
    },
    {
     "name": "stdout",
     "output_type": "stream",
     "text": [
      "--- 2.5249998569488525 seconds ---\n",
      "MRR@100 = 0.0019\n",
      "factors: 10, iterations: 50, learning_rate: 10, regularization: 100, neg_prop: 30\n"
     ]
    },
    {
     "data": {
      "application/vnd.jupyter.widget-view+json": {
       "model_id": "91547988dd8a431893a3c958bdcea91e",
       "version_major": 2,
       "version_minor": 0
      },
      "text/plain": [
       "  0%|          | 0/50 [00:00<?, ?it/s]"
      ]
     },
     "metadata": {},
     "output_type": "display_data"
    },
    {
     "name": "stdout",
     "output_type": "stream",
     "text": [
      "--- 2.956012010574341 seconds ---\n",
      "MRR@100 = 0.0019\n",
      "factors: 10, iterations: 50, learning_rate: 10, regularization: 100, neg_prop: 50\n"
     ]
    },
    {
     "data": {
      "application/vnd.jupyter.widget-view+json": {
       "model_id": "75e7a56bc93a4f57af1a31072bb3dc5d",
       "version_major": 2,
       "version_minor": 0
      },
      "text/plain": [
       "  0%|          | 0/50 [00:00<?, ?it/s]"
      ]
     },
     "metadata": {},
     "output_type": "display_data"
    },
    {
     "name": "stdout",
     "output_type": "stream",
     "text": [
      "--- 2.410660982131958 seconds ---\n",
      "MRR@100 = 0.0019\n",
      "factors: 10, iterations: 50, learning_rate: 100, regularization: 0.001, neg_prop: 5\n"
     ]
    },
    {
     "data": {
      "application/vnd.jupyter.widget-view+json": {
       "model_id": "8b845ef8984f45b5a560ca8ee030184b",
       "version_major": 2,
       "version_minor": 0
      },
      "text/plain": [
       "  0%|          | 0/50 [00:00<?, ?it/s]"
      ]
     },
     "metadata": {},
     "output_type": "display_data"
    },
    {
     "name": "stdout",
     "output_type": "stream",
     "text": [
      "--- 2.4572010040283203 seconds ---\n",
      "MRR@100 = 0.0003\n",
      "factors: 10, iterations: 50, learning_rate: 100, regularization: 0.001, neg_prop: 15\n"
     ]
    },
    {
     "data": {
      "application/vnd.jupyter.widget-view+json": {
       "model_id": "ec6357191f7742b1ae31906d84d530c6",
       "version_major": 2,
       "version_minor": 0
      },
      "text/plain": [
       "  0%|          | 0/50 [00:00<?, ?it/s]"
      ]
     },
     "metadata": {},
     "output_type": "display_data"
    },
    {
     "name": "stdout",
     "output_type": "stream",
     "text": [
      "--- 2.4548909664154053 seconds ---\n",
      "MRR@100 = 0.0008\n",
      "factors: 10, iterations: 50, learning_rate: 100, regularization: 0.001, neg_prop: 30\n"
     ]
    },
    {
     "data": {
      "application/vnd.jupyter.widget-view+json": {
       "model_id": "31d7c47bc7124decbfae3ecbf74cd32b",
       "version_major": 2,
       "version_minor": 0
      },
      "text/plain": [
       "  0%|          | 0/50 [00:00<?, ?it/s]"
      ]
     },
     "metadata": {},
     "output_type": "display_data"
    },
    {
     "name": "stdout",
     "output_type": "stream",
     "text": [
      "--- 2.4170639514923096 seconds ---\n",
      "MRR@100 = 0.0008\n",
      "factors: 10, iterations: 50, learning_rate: 100, regularization: 0.001, neg_prop: 50\n"
     ]
    },
    {
     "data": {
      "application/vnd.jupyter.widget-view+json": {
       "model_id": "538d8860ba3a4667adabe2806da8f109",
       "version_major": 2,
       "version_minor": 0
      },
      "text/plain": [
       "  0%|          | 0/50 [00:00<?, ?it/s]"
      ]
     },
     "metadata": {},
     "output_type": "display_data"
    },
    {
     "name": "stdout",
     "output_type": "stream",
     "text": [
      "--- 2.4901812076568604 seconds ---\n",
      "MRR@100 = 0.0008\n",
      "factors: 10, iterations: 50, learning_rate: 100, regularization: 0.01, neg_prop: 5\n"
     ]
    },
    {
     "data": {
      "application/vnd.jupyter.widget-view+json": {
       "model_id": "016a7d2f381e4f83b408683e952b06b6",
       "version_major": 2,
       "version_minor": 0
      },
      "text/plain": [
       "  0%|          | 0/50 [00:00<?, ?it/s]"
      ]
     },
     "metadata": {},
     "output_type": "display_data"
    },
    {
     "name": "stdout",
     "output_type": "stream",
     "text": [
      "--- 2.6300230026245117 seconds ---\n",
      "MRR@100 = 0.0002\n",
      "factors: 10, iterations: 50, learning_rate: 100, regularization: 0.01, neg_prop: 15\n"
     ]
    },
    {
     "data": {
      "application/vnd.jupyter.widget-view+json": {
       "model_id": "d9581244e71d48b59ab05c5193e9bfc9",
       "version_major": 2,
       "version_minor": 0
      },
      "text/plain": [
       "  0%|          | 0/50 [00:00<?, ?it/s]"
      ]
     },
     "metadata": {},
     "output_type": "display_data"
    },
    {
     "name": "stdout",
     "output_type": "stream",
     "text": [
      "--- 2.6999151706695557 seconds ---\n",
      "MRR@100 = 0.0011\n",
      "factors: 10, iterations: 50, learning_rate: 100, regularization: 0.01, neg_prop: 30\n"
     ]
    },
    {
     "data": {
      "application/vnd.jupyter.widget-view+json": {
       "model_id": "d0bced7db6424369ba5647357ea2d286",
       "version_major": 2,
       "version_minor": 0
      },
      "text/plain": [
       "  0%|          | 0/50 [00:00<?, ?it/s]"
      ]
     },
     "metadata": {},
     "output_type": "display_data"
    },
    {
     "name": "stdout",
     "output_type": "stream",
     "text": [
      "--- 2.555884599685669 seconds ---\n",
      "MRR@100 = 0.0011\n",
      "factors: 10, iterations: 50, learning_rate: 100, regularization: 0.01, neg_prop: 50\n"
     ]
    },
    {
     "data": {
      "application/vnd.jupyter.widget-view+json": {
       "model_id": "d4e72c1247e743529c4b04df5d9c4816",
       "version_major": 2,
       "version_minor": 0
      },
      "text/plain": [
       "  0%|          | 0/50 [00:00<?, ?it/s]"
      ]
     },
     "metadata": {},
     "output_type": "display_data"
    },
    {
     "name": "stdout",
     "output_type": "stream",
     "text": [
      "--- 2.4819929599761963 seconds ---\n",
      "MRR@100 = 0.0011\n",
      "factors: 10, iterations: 50, learning_rate: 100, regularization: 0.1, neg_prop: 5\n"
     ]
    },
    {
     "data": {
      "application/vnd.jupyter.widget-view+json": {
       "model_id": "06f22ffe5fc54205b8e1441d2437364b",
       "version_major": 2,
       "version_minor": 0
      },
      "text/plain": [
       "  0%|          | 0/50 [00:00<?, ?it/s]"
      ]
     },
     "metadata": {},
     "output_type": "display_data"
    },
    {
     "name": "stdout",
     "output_type": "stream",
     "text": [
      "--- 2.455899715423584 seconds ---\n",
      "MRR@100 = 0.0001\n",
      "factors: 10, iterations: 50, learning_rate: 100, regularization: 0.1, neg_prop: 15\n"
     ]
    },
    {
     "data": {
      "application/vnd.jupyter.widget-view+json": {
       "model_id": "3e36686198af48939174922540f5c10f",
       "version_major": 2,
       "version_minor": 0
      },
      "text/plain": [
       "  0%|          | 0/50 [00:00<?, ?it/s]"
      ]
     },
     "metadata": {},
     "output_type": "display_data"
    },
    {
     "name": "stdout",
     "output_type": "stream",
     "text": [
      "--- 2.592686891555786 seconds ---\n",
      "MRR@100 = 0.0005\n",
      "factors: 10, iterations: 50, learning_rate: 100, regularization: 0.1, neg_prop: 30\n"
     ]
    },
    {
     "data": {
      "application/vnd.jupyter.widget-view+json": {
       "model_id": "dc5b4419ef2440d6bf4ac8528b5a97c7",
       "version_major": 2,
       "version_minor": 0
      },
      "text/plain": [
       "  0%|          | 0/50 [00:00<?, ?it/s]"
      ]
     },
     "metadata": {},
     "output_type": "display_data"
    },
    {
     "name": "stdout",
     "output_type": "stream",
     "text": [
      "--- 2.521733283996582 seconds ---\n",
      "MRR@100 = 0.0005\n",
      "factors: 10, iterations: 50, learning_rate: 100, regularization: 0.1, neg_prop: 50\n"
     ]
    },
    {
     "data": {
      "application/vnd.jupyter.widget-view+json": {
       "model_id": "7dd0851b645a4013b4017adcaedbb6ef",
       "version_major": 2,
       "version_minor": 0
      },
      "text/plain": [
       "  0%|          | 0/50 [00:00<?, ?it/s]"
      ]
     },
     "metadata": {},
     "output_type": "display_data"
    },
    {
     "name": "stdout",
     "output_type": "stream",
     "text": [
      "--- 2.590698003768921 seconds ---\n",
      "MRR@100 = 0.0005\n",
      "factors: 10, iterations: 50, learning_rate: 100, regularization: 1, neg_prop: 5\n"
     ]
    },
    {
     "data": {
      "application/vnd.jupyter.widget-view+json": {
       "model_id": "a54f4203e4684b56897ecac0cadce59f",
       "version_major": 2,
       "version_minor": 0
      },
      "text/plain": [
       "  0%|          | 0/50 [00:00<?, ?it/s]"
      ]
     },
     "metadata": {},
     "output_type": "display_data"
    },
    {
     "name": "stdout",
     "output_type": "stream",
     "text": [
      "--- 2.461538076400757 seconds ---\n",
      "MRR@100 = 0.0013\n",
      "factors: 10, iterations: 50, learning_rate: 100, regularization: 1, neg_prop: 15\n"
     ]
    },
    {
     "data": {
      "application/vnd.jupyter.widget-view+json": {
       "model_id": "e8c85eae00344ceda6e54fa966e658a6",
       "version_major": 2,
       "version_minor": 0
      },
      "text/plain": [
       "  0%|          | 0/50 [00:00<?, ?it/s]"
      ]
     },
     "metadata": {},
     "output_type": "display_data"
    },
    {
     "name": "stdout",
     "output_type": "stream",
     "text": [
      "--- 2.55062198638916 seconds ---\n",
      "MRR@100 = 0.0018\n",
      "factors: 10, iterations: 50, learning_rate: 100, regularization: 1, neg_prop: 30\n"
     ]
    },
    {
     "data": {
      "application/vnd.jupyter.widget-view+json": {
       "model_id": "6ab2dfc0e4824bd8ac8746649a11f338",
       "version_major": 2,
       "version_minor": 0
      },
      "text/plain": [
       "  0%|          | 0/50 [00:00<?, ?it/s]"
      ]
     },
     "metadata": {},
     "output_type": "display_data"
    },
    {
     "name": "stdout",
     "output_type": "stream",
     "text": [
      "--- 2.5501270294189453 seconds ---\n",
      "MRR@100 = 0.0018\n",
      "factors: 10, iterations: 50, learning_rate: 100, regularization: 1, neg_prop: 50\n"
     ]
    },
    {
     "data": {
      "application/vnd.jupyter.widget-view+json": {
       "model_id": "487a0cf7f0f9473bbf532cf33623c103",
       "version_major": 2,
       "version_minor": 0
      },
      "text/plain": [
       "  0%|          | 0/50 [00:00<?, ?it/s]"
      ]
     },
     "metadata": {},
     "output_type": "display_data"
    },
    {
     "name": "stdout",
     "output_type": "stream",
     "text": [
      "--- 2.624983072280884 seconds ---\n",
      "MRR@100 = 0.0018\n",
      "factors: 10, iterations: 50, learning_rate: 100, regularization: 10, neg_prop: 5\n"
     ]
    },
    {
     "data": {
      "application/vnd.jupyter.widget-view+json": {
       "model_id": "cbe825947495420eab13d6efa40fd90d",
       "version_major": 2,
       "version_minor": 0
      },
      "text/plain": [
       "  0%|          | 0/50 [00:00<?, ?it/s]"
      ]
     },
     "metadata": {},
     "output_type": "display_data"
    },
    {
     "name": "stdout",
     "output_type": "stream",
     "text": [
      "--- 2.5875818729400635 seconds ---\n",
      "MRR@100 = 0.0028\n",
      "factors: 10, iterations: 50, learning_rate: 100, regularization: 10, neg_prop: 15\n"
     ]
    },
    {
     "data": {
      "application/vnd.jupyter.widget-view+json": {
       "model_id": "98e92ce3cb8b46b28a6386f044be8d1b",
       "version_major": 2,
       "version_minor": 0
      },
      "text/plain": [
       "  0%|          | 0/50 [00:00<?, ?it/s]"
      ]
     },
     "metadata": {},
     "output_type": "display_data"
    },
    {
     "name": "stdout",
     "output_type": "stream",
     "text": [
      "--- 2.8575587272644043 seconds ---\n",
      "MRR@100 = 0.0016\n",
      "factors: 10, iterations: 50, learning_rate: 100, regularization: 10, neg_prop: 30\n"
     ]
    },
    {
     "data": {
      "application/vnd.jupyter.widget-view+json": {
       "model_id": "7ea17ad599bd4aad9a1352cf206b1f27",
       "version_major": 2,
       "version_minor": 0
      },
      "text/plain": [
       "  0%|          | 0/50 [00:00<?, ?it/s]"
      ]
     },
     "metadata": {},
     "output_type": "display_data"
    },
    {
     "name": "stdout",
     "output_type": "stream",
     "text": [
      "--- 2.2669692039489746 seconds ---\n",
      "MRR@100 = 0.0016\n",
      "factors: 10, iterations: 50, learning_rate: 100, regularization: 10, neg_prop: 50\n"
     ]
    },
    {
     "data": {
      "application/vnd.jupyter.widget-view+json": {
       "model_id": "a8fc5b6d284344dfadbffb4bc8956b5f",
       "version_major": 2,
       "version_minor": 0
      },
      "text/plain": [
       "  0%|          | 0/50 [00:00<?, ?it/s]"
      ]
     },
     "metadata": {},
     "output_type": "display_data"
    },
    {
     "name": "stdout",
     "output_type": "stream",
     "text": [
      "--- 3.2879557609558105 seconds ---\n",
      "MRR@100 = 0.0016\n",
      "factors: 10, iterations: 50, learning_rate: 100, regularization: 100, neg_prop: 5\n"
     ]
    },
    {
     "data": {
      "application/vnd.jupyter.widget-view+json": {
       "model_id": "57e506d5e40d485ea9e8f039c6584d63",
       "version_major": 2,
       "version_minor": 0
      },
      "text/plain": [
       "  0%|          | 0/50 [00:00<?, ?it/s]"
      ]
     },
     "metadata": {},
     "output_type": "display_data"
    },
    {
     "name": "stdout",
     "output_type": "stream",
     "text": [
      "--- 2.4886481761932373 seconds ---\n",
      "MRR@100 = 0.0021\n",
      "factors: 10, iterations: 50, learning_rate: 100, regularization: 100, neg_prop: 15\n"
     ]
    },
    {
     "data": {
      "application/vnd.jupyter.widget-view+json": {
       "model_id": "bd705ec4c0ce4ab38d89ffd82d21c635",
       "version_major": 2,
       "version_minor": 0
      },
      "text/plain": [
       "  0%|          | 0/50 [00:00<?, ?it/s]"
      ]
     },
     "metadata": {},
     "output_type": "display_data"
    },
    {
     "name": "stdout",
     "output_type": "stream",
     "text": [
      "--- 2.314042091369629 seconds ---\n",
      "MRR@100 = 0.0022\n",
      "factors: 10, iterations: 50, learning_rate: 100, regularization: 100, neg_prop: 30\n"
     ]
    },
    {
     "data": {
      "application/vnd.jupyter.widget-view+json": {
       "model_id": "3231409b7af44dd480ca5177f8e63df0",
       "version_major": 2,
       "version_minor": 0
      },
      "text/plain": [
       "  0%|          | 0/50 [00:00<?, ?it/s]"
      ]
     },
     "metadata": {},
     "output_type": "display_data"
    },
    {
     "name": "stdout",
     "output_type": "stream",
     "text": [
      "--- 2.553426742553711 seconds ---\n",
      "MRR@100 = 0.0022\n",
      "factors: 10, iterations: 50, learning_rate: 100, regularization: 100, neg_prop: 50\n"
     ]
    },
    {
     "data": {
      "application/vnd.jupyter.widget-view+json": {
       "model_id": "f9cc166d5bb347f6b55716cde29c09e2",
       "version_major": 2,
       "version_minor": 0
      },
      "text/plain": [
       "  0%|          | 0/50 [00:00<?, ?it/s]"
      ]
     },
     "metadata": {},
     "output_type": "display_data"
    },
    {
     "name": "stdout",
     "output_type": "stream",
     "text": [
      "--- 2.6004419326782227 seconds ---\n",
      "MRR@100 = 0.0022\n",
      "factors: 20, iterations: 10, learning_rate: 1, regularization: 0.001, neg_prop: 5\n"
     ]
    },
    {
     "data": {
      "application/vnd.jupyter.widget-view+json": {
       "model_id": "01a0d45d0e2e48fda8bfd43e8585aff2",
       "version_major": 2,
       "version_minor": 0
      },
      "text/plain": [
       "  0%|          | 0/10 [00:00<?, ?it/s]"
      ]
     },
     "metadata": {},
     "output_type": "display_data"
    },
    {
     "name": "stdout",
     "output_type": "stream",
     "text": [
      "--- 2.718435049057007 seconds ---\n",
      "MRR@100 = 0.0001\n",
      "factors: 20, iterations: 10, learning_rate: 1, regularization: 0.001, neg_prop: 15\n"
     ]
    },
    {
     "data": {
      "application/vnd.jupyter.widget-view+json": {
       "model_id": "626967701305432bb8faa64e20b4df8f",
       "version_major": 2,
       "version_minor": 0
      },
      "text/plain": [
       "  0%|          | 0/10 [00:00<?, ?it/s]"
      ]
     },
     "metadata": {},
     "output_type": "display_data"
    },
    {
     "name": "stdout",
     "output_type": "stream",
     "text": [
      "--- 2.385625123977661 seconds ---\n",
      "MRR@100 = 0.0016\n",
      "factors: 20, iterations: 10, learning_rate: 1, regularization: 0.001, neg_prop: 30\n"
     ]
    },
    {
     "data": {
      "application/vnd.jupyter.widget-view+json": {
       "model_id": "e1d9eef33a6443a88a7e96acac3a9564",
       "version_major": 2,
       "version_minor": 0
      },
      "text/plain": [
       "  0%|          | 0/10 [00:00<?, ?it/s]"
      ]
     },
     "metadata": {},
     "output_type": "display_data"
    },
    {
     "name": "stdout",
     "output_type": "stream",
     "text": [
      "--- 2.366694927215576 seconds ---\n",
      "MRR@100 = 0.0019\n",
      "factors: 20, iterations: 10, learning_rate: 1, regularization: 0.001, neg_prop: 50\n"
     ]
    },
    {
     "data": {
      "application/vnd.jupyter.widget-view+json": {
       "model_id": "1fecdb5f56d7402aac142527b3ccb4fd",
       "version_major": 2,
       "version_minor": 0
      },
      "text/plain": [
       "  0%|          | 0/10 [00:00<?, ?it/s]"
      ]
     },
     "metadata": {},
     "output_type": "display_data"
    },
    {
     "name": "stdout",
     "output_type": "stream",
     "text": [
      "--- 2.3881940841674805 seconds ---\n",
      "MRR@100 = 0.0019\n",
      "factors: 20, iterations: 10, learning_rate: 1, regularization: 0.01, neg_prop: 5\n"
     ]
    },
    {
     "data": {
      "application/vnd.jupyter.widget-view+json": {
       "model_id": "87013afd21e3415ebe69c93bbad05b2d",
       "version_major": 2,
       "version_minor": 0
      },
      "text/plain": [
       "  0%|          | 0/10 [00:00<?, ?it/s]"
      ]
     },
     "metadata": {},
     "output_type": "display_data"
    },
    {
     "name": "stdout",
     "output_type": "stream",
     "text": [
      "--- 2.3715152740478516 seconds ---\n",
      "MRR@100 = 0.0001\n",
      "factors: 20, iterations: 10, learning_rate: 1, regularization: 0.01, neg_prop: 15\n"
     ]
    },
    {
     "data": {
      "application/vnd.jupyter.widget-view+json": {
       "model_id": "92a546760f80472cb342df208be3b6fd",
       "version_major": 2,
       "version_minor": 0
      },
      "text/plain": [
       "  0%|          | 0/10 [00:00<?, ?it/s]"
      ]
     },
     "metadata": {},
     "output_type": "display_data"
    },
    {
     "name": "stdout",
     "output_type": "stream",
     "text": [
      "--- 2.5686748027801514 seconds ---\n",
      "MRR@100 = 0.0023\n",
      "factors: 20, iterations: 10, learning_rate: 1, regularization: 0.01, neg_prop: 30\n"
     ]
    },
    {
     "data": {
      "application/vnd.jupyter.widget-view+json": {
       "model_id": "782e332aa79242acaf12f91ee342987c",
       "version_major": 2,
       "version_minor": 0
      },
      "text/plain": [
       "  0%|          | 0/10 [00:00<?, ?it/s]"
      ]
     },
     "metadata": {},
     "output_type": "display_data"
    },
    {
     "name": "stdout",
     "output_type": "stream",
     "text": [
      "--- 2.4669620990753174 seconds ---\n",
      "MRR@100 = 0.0021\n",
      "factors: 20, iterations: 10, learning_rate: 1, regularization: 0.01, neg_prop: 50\n"
     ]
    },
    {
     "data": {
      "application/vnd.jupyter.widget-view+json": {
       "model_id": "41810ead5f2a49aba5b556daf0ff8017",
       "version_major": 2,
       "version_minor": 0
      },
      "text/plain": [
       "  0%|          | 0/10 [00:00<?, ?it/s]"
      ]
     },
     "metadata": {},
     "output_type": "display_data"
    },
    {
     "name": "stdout",
     "output_type": "stream",
     "text": [
      "--- 2.5184969902038574 seconds ---\n",
      "MRR@100 = 0.0021\n",
      "factors: 20, iterations: 10, learning_rate: 1, regularization: 0.1, neg_prop: 5\n"
     ]
    },
    {
     "data": {
      "application/vnd.jupyter.widget-view+json": {
       "model_id": "49e63106c1a9476099eb3f9f1934d4d0",
       "version_major": 2,
       "version_minor": 0
      },
      "text/plain": [
       "  0%|          | 0/10 [00:00<?, ?it/s]"
      ]
     },
     "metadata": {},
     "output_type": "display_data"
    },
    {
     "name": "stdout",
     "output_type": "stream",
     "text": [
      "--- 2.4876041412353516 seconds ---\n",
      "MRR@100 = 0.0005\n",
      "factors: 20, iterations: 10, learning_rate: 1, regularization: 0.1, neg_prop: 15\n"
     ]
    },
    {
     "data": {
      "application/vnd.jupyter.widget-view+json": {
       "model_id": "6d223ac6603e431597aac1d858969303",
       "version_major": 2,
       "version_minor": 0
      },
      "text/plain": [
       "  0%|          | 0/10 [00:00<?, ?it/s]"
      ]
     },
     "metadata": {},
     "output_type": "display_data"
    },
    {
     "name": "stdout",
     "output_type": "stream",
     "text": [
      "--- 2.4162280559539795 seconds ---\n",
      "MRR@100 = 0.0035\n",
      "factors: 20, iterations: 10, learning_rate: 1, regularization: 0.1, neg_prop: 30\n"
     ]
    },
    {
     "data": {
      "application/vnd.jupyter.widget-view+json": {
       "model_id": "9e2e31410abe40caa235d70391c3a666",
       "version_major": 2,
       "version_minor": 0
      },
      "text/plain": [
       "  0%|          | 0/10 [00:00<?, ?it/s]"
      ]
     },
     "metadata": {},
     "output_type": "display_data"
    },
    {
     "name": "stdout",
     "output_type": "stream",
     "text": [
      "--- 2.3736209869384766 seconds ---\n",
      "MRR@100 = 0.0031\n",
      "factors: 20, iterations: 10, learning_rate: 1, regularization: 0.1, neg_prop: 50\n"
     ]
    },
    {
     "data": {
      "application/vnd.jupyter.widget-view+json": {
       "model_id": "ffcfc724b6524a8d92e83ce487d15045",
       "version_major": 2,
       "version_minor": 0
      },
      "text/plain": [
       "  0%|          | 0/10 [00:00<?, ?it/s]"
      ]
     },
     "metadata": {},
     "output_type": "display_data"
    },
    {
     "name": "stdout",
     "output_type": "stream",
     "text": [
      "--- 2.295483112335205 seconds ---\n",
      "MRR@100 = 0.0031\n",
      "factors: 20, iterations: 10, learning_rate: 1, regularization: 1, neg_prop: 5\n"
     ]
    },
    {
     "data": {
      "application/vnd.jupyter.widget-view+json": {
       "model_id": "1dd1e7f6e6ca4275907905d709ab5dd2",
       "version_major": 2,
       "version_minor": 0
      },
      "text/plain": [
       "  0%|          | 0/10 [00:00<?, ?it/s]"
      ]
     },
     "metadata": {},
     "output_type": "display_data"
    },
    {
     "name": "stdout",
     "output_type": "stream",
     "text": [
      "--- 2.3205790519714355 seconds ---\n",
      "MRR@100 = 0.0042\n",
      "factors: 20, iterations: 10, learning_rate: 1, regularization: 1, neg_prop: 15\n"
     ]
    },
    {
     "data": {
      "application/vnd.jupyter.widget-view+json": {
       "model_id": "7bdb5c990a46407c95e8fb35164e7132",
       "version_major": 2,
       "version_minor": 0
      },
      "text/plain": [
       "  0%|          | 0/10 [00:00<?, ?it/s]"
      ]
     },
     "metadata": {},
     "output_type": "display_data"
    },
    {
     "name": "stdout",
     "output_type": "stream",
     "text": [
      "--- 2.3368258476257324 seconds ---\n",
      "MRR@100 = 0.0062\n",
      "factors: 20, iterations: 10, learning_rate: 1, regularization: 1, neg_prop: 30\n"
     ]
    },
    {
     "data": {
      "application/vnd.jupyter.widget-view+json": {
       "model_id": "72ae192609fc499eadd678ee8207f0d6",
       "version_major": 2,
       "version_minor": 0
      },
      "text/plain": [
       "  0%|          | 0/10 [00:00<?, ?it/s]"
      ]
     },
     "metadata": {},
     "output_type": "display_data"
    },
    {
     "name": "stdout",
     "output_type": "stream",
     "text": [
      "--- 2.5846707820892334 seconds ---\n",
      "MRR@100 = 0.0048\n",
      "factors: 20, iterations: 10, learning_rate: 1, regularization: 1, neg_prop: 50\n"
     ]
    },
    {
     "data": {
      "application/vnd.jupyter.widget-view+json": {
       "model_id": "2985e2f7755c43c5bd47453a704adc8e",
       "version_major": 2,
       "version_minor": 0
      },
      "text/plain": [
       "  0%|          | 0/10 [00:00<?, ?it/s]"
      ]
     },
     "metadata": {},
     "output_type": "display_data"
    },
    {
     "name": "stdout",
     "output_type": "stream",
     "text": [
      "--- 2.3063390254974365 seconds ---\n",
      "MRR@100 = 0.0048\n",
      "factors: 20, iterations: 10, learning_rate: 1, regularization: 10, neg_prop: 5\n"
     ]
    },
    {
     "data": {
      "application/vnd.jupyter.widget-view+json": {
       "model_id": "51964dcdb70a404489a8347bd0fad5b2",
       "version_major": 2,
       "version_minor": 0
      },
      "text/plain": [
       "  0%|          | 0/10 [00:00<?, ?it/s]"
      ]
     },
     "metadata": {},
     "output_type": "display_data"
    },
    {
     "name": "stdout",
     "output_type": "stream",
     "text": [
      "--- 2.2449440956115723 seconds ---\n",
      "MRR@100 = 0.0020\n",
      "factors: 20, iterations: 10, learning_rate: 1, regularization: 10, neg_prop: 15\n"
     ]
    },
    {
     "data": {
      "application/vnd.jupyter.widget-view+json": {
       "model_id": "4e869159fa3648d4b365af70674a0657",
       "version_major": 2,
       "version_minor": 0
      },
      "text/plain": [
       "  0%|          | 0/10 [00:00<?, ?it/s]"
      ]
     },
     "metadata": {},
     "output_type": "display_data"
    },
    {
     "name": "stdout",
     "output_type": "stream",
     "text": [
      "--- 2.327441930770874 seconds ---\n",
      "MRR@100 = 0.0022\n",
      "factors: 20, iterations: 10, learning_rate: 1, regularization: 10, neg_prop: 30\n"
     ]
    },
    {
     "data": {
      "application/vnd.jupyter.widget-view+json": {
       "model_id": "87e6f1e6687d4c4da9ede0d0f2ee5539",
       "version_major": 2,
       "version_minor": 0
      },
      "text/plain": [
       "  0%|          | 0/10 [00:00<?, ?it/s]"
      ]
     },
     "metadata": {},
     "output_type": "display_data"
    },
    {
     "name": "stdout",
     "output_type": "stream",
     "text": [
      "--- 2.2870876789093018 seconds ---\n",
      "MRR@100 = 0.0023\n",
      "factors: 20, iterations: 10, learning_rate: 1, regularization: 10, neg_prop: 50\n"
     ]
    },
    {
     "data": {
      "application/vnd.jupyter.widget-view+json": {
       "model_id": "5bb0b2407d9d44e6a1ab06c0ac1759b2",
       "version_major": 2,
       "version_minor": 0
      },
      "text/plain": [
       "  0%|          | 0/10 [00:00<?, ?it/s]"
      ]
     },
     "metadata": {},
     "output_type": "display_data"
    },
    {
     "name": "stdout",
     "output_type": "stream",
     "text": [
      "--- 2.2885448932647705 seconds ---\n",
      "MRR@100 = 0.0023\n",
      "factors: 20, iterations: 10, learning_rate: 1, regularization: 100, neg_prop: 5\n"
     ]
    },
    {
     "data": {
      "application/vnd.jupyter.widget-view+json": {
       "model_id": "b5833cb15186453f8201eb4c025a9919",
       "version_major": 2,
       "version_minor": 0
      },
      "text/plain": [
       "  0%|          | 0/10 [00:00<?, ?it/s]"
      ]
     },
     "metadata": {},
     "output_type": "display_data"
    },
    {
     "name": "stdout",
     "output_type": "stream",
     "text": [
      "--- 2.414764165878296 seconds ---\n",
      "MRR@100 = 0.0020\n",
      "factors: 20, iterations: 10, learning_rate: 1, regularization: 100, neg_prop: 15\n"
     ]
    },
    {
     "data": {
      "application/vnd.jupyter.widget-view+json": {
       "model_id": "b99672acafb44611b31e7827ecf05446",
       "version_major": 2,
       "version_minor": 0
      },
      "text/plain": [
       "  0%|          | 0/10 [00:00<?, ?it/s]"
      ]
     },
     "metadata": {},
     "output_type": "display_data"
    },
    {
     "name": "stdout",
     "output_type": "stream",
     "text": [
      "--- 2.457890033721924 seconds ---\n",
      "MRR@100 = 0.0020\n",
      "factors: 20, iterations: 10, learning_rate: 1, regularization: 100, neg_prop: 30\n"
     ]
    },
    {
     "data": {
      "application/vnd.jupyter.widget-view+json": {
       "model_id": "47dc9d3655ab463f93eed5dcd1a3e46d",
       "version_major": 2,
       "version_minor": 0
      },
      "text/plain": [
       "  0%|          | 0/10 [00:00<?, ?it/s]"
      ]
     },
     "metadata": {},
     "output_type": "display_data"
    },
    {
     "name": "stdout",
     "output_type": "stream",
     "text": [
      "--- 2.267759084701538 seconds ---\n",
      "MRR@100 = 0.0020\n",
      "factors: 20, iterations: 10, learning_rate: 1, regularization: 100, neg_prop: 50\n"
     ]
    },
    {
     "data": {
      "application/vnd.jupyter.widget-view+json": {
       "model_id": "adc2db47ce3e4ab9a9b244e4f9d65442",
       "version_major": 2,
       "version_minor": 0
      },
      "text/plain": [
       "  0%|          | 0/10 [00:00<?, ?it/s]"
      ]
     },
     "metadata": {},
     "output_type": "display_data"
    },
    {
     "name": "stdout",
     "output_type": "stream",
     "text": [
      "--- 2.287709951400757 seconds ---\n",
      "MRR@100 = 0.0020\n",
      "factors: 20, iterations: 10, learning_rate: 10, regularization: 0.001, neg_prop: 5\n"
     ]
    },
    {
     "data": {
      "application/vnd.jupyter.widget-view+json": {
       "model_id": "4aeeaa7f670c4f829489715a35a7679a",
       "version_major": 2,
       "version_minor": 0
      },
      "text/plain": [
       "  0%|          | 0/10 [00:00<?, ?it/s]"
      ]
     },
     "metadata": {},
     "output_type": "display_data"
    },
    {
     "name": "stdout",
     "output_type": "stream",
     "text": [
      "--- 2.3699939250946045 seconds ---\n",
      "MRR@100 = 0.0000\n",
      "factors: 20, iterations: 10, learning_rate: 10, regularization: 0.001, neg_prop: 15\n"
     ]
    },
    {
     "data": {
      "application/vnd.jupyter.widget-view+json": {
       "model_id": "53f3888e383e4dd792b02684011aef97",
       "version_major": 2,
       "version_minor": 0
      },
      "text/plain": [
       "  0%|          | 0/10 [00:00<?, ?it/s]"
      ]
     },
     "metadata": {},
     "output_type": "display_data"
    },
    {
     "name": "stdout",
     "output_type": "stream",
     "text": [
      "--- 2.292448043823242 seconds ---\n",
      "MRR@100 = 0.0000\n",
      "factors: 20, iterations: 10, learning_rate: 10, regularization: 0.001, neg_prop: 30\n"
     ]
    },
    {
     "data": {
      "application/vnd.jupyter.widget-view+json": {
       "model_id": "3c5247cc50674a2f94cc895cafc00fbf",
       "version_major": 2,
       "version_minor": 0
      },
      "text/plain": [
       "  0%|          | 0/10 [00:00<?, ?it/s]"
      ]
     },
     "metadata": {},
     "output_type": "display_data"
    },
    {
     "name": "stdout",
     "output_type": "stream",
     "text": [
      "--- 2.3067209720611572 seconds ---\n",
      "MRR@100 = 0.0008\n",
      "factors: 20, iterations: 10, learning_rate: 10, regularization: 0.001, neg_prop: 50\n"
     ]
    },
    {
     "data": {
      "application/vnd.jupyter.widget-view+json": {
       "model_id": "134745cbf14e43a8afed115d08512743",
       "version_major": 2,
       "version_minor": 0
      },
      "text/plain": [
       "  0%|          | 0/10 [00:00<?, ?it/s]"
      ]
     },
     "metadata": {},
     "output_type": "display_data"
    },
    {
     "name": "stdout",
     "output_type": "stream",
     "text": [
      "--- 2.3199002742767334 seconds ---\n",
      "MRR@100 = 0.0008\n",
      "factors: 20, iterations: 10, learning_rate: 10, regularization: 0.01, neg_prop: 5\n"
     ]
    },
    {
     "data": {
      "application/vnd.jupyter.widget-view+json": {
       "model_id": "a6d64318f871458e9a45a9dd72a9e8f8",
       "version_major": 2,
       "version_minor": 0
      },
      "text/plain": [
       "  0%|          | 0/10 [00:00<?, ?it/s]"
      ]
     },
     "metadata": {},
     "output_type": "display_data"
    },
    {
     "name": "stdout",
     "output_type": "stream",
     "text": [
      "--- 2.401106834411621 seconds ---\n",
      "MRR@100 = 0.0000\n",
      "factors: 20, iterations: 10, learning_rate: 10, regularization: 0.01, neg_prop: 15\n"
     ]
    },
    {
     "data": {
      "application/vnd.jupyter.widget-view+json": {
       "model_id": "068d77b3a2514e30bf248d7b1677a96b",
       "version_major": 2,
       "version_minor": 0
      },
      "text/plain": [
       "  0%|          | 0/10 [00:00<?, ?it/s]"
      ]
     },
     "metadata": {},
     "output_type": "display_data"
    },
    {
     "name": "stdout",
     "output_type": "stream",
     "text": [
      "--- 2.381732225418091 seconds ---\n",
      "MRR@100 = 0.0000\n",
      "factors: 20, iterations: 10, learning_rate: 10, regularization: 0.01, neg_prop: 30\n"
     ]
    },
    {
     "data": {
      "application/vnd.jupyter.widget-view+json": {
       "model_id": "ebd1fe90d7ad469697e498bde56c651f",
       "version_major": 2,
       "version_minor": 0
      },
      "text/plain": [
       "  0%|          | 0/10 [00:00<?, ?it/s]"
      ]
     },
     "metadata": {},
     "output_type": "display_data"
    },
    {
     "name": "stdout",
     "output_type": "stream",
     "text": [
      "--- 2.339792013168335 seconds ---\n",
      "MRR@100 = 0.0004\n",
      "factors: 20, iterations: 10, learning_rate: 10, regularization: 0.01, neg_prop: 50\n"
     ]
    },
    {
     "data": {
      "application/vnd.jupyter.widget-view+json": {
       "model_id": "069acbc476d14fc39ba164178e0764d2",
       "version_major": 2,
       "version_minor": 0
      },
      "text/plain": [
       "  0%|          | 0/10 [00:00<?, ?it/s]"
      ]
     },
     "metadata": {},
     "output_type": "display_data"
    },
    {
     "name": "stdout",
     "output_type": "stream",
     "text": [
      "--- 2.328341007232666 seconds ---\n",
      "MRR@100 = 0.0004\n",
      "factors: 20, iterations: 10, learning_rate: 10, regularization: 0.1, neg_prop: 5\n"
     ]
    },
    {
     "data": {
      "application/vnd.jupyter.widget-view+json": {
       "model_id": "33c45c3b785e479db4a4c5342da8263c",
       "version_major": 2,
       "version_minor": 0
      },
      "text/plain": [
       "  0%|          | 0/10 [00:00<?, ?it/s]"
      ]
     },
     "metadata": {},
     "output_type": "display_data"
    },
    {
     "name": "stdout",
     "output_type": "stream",
     "text": [
      "--- 2.5039429664611816 seconds ---\n",
      "MRR@100 = 0.0000\n",
      "factors: 20, iterations: 10, learning_rate: 10, regularization: 0.1, neg_prop: 15\n"
     ]
    },
    {
     "data": {
      "application/vnd.jupyter.widget-view+json": {
       "model_id": "88e6edbb05f8452fb77a6dde4c21fee7",
       "version_major": 2,
       "version_minor": 0
      },
      "text/plain": [
       "  0%|          | 0/10 [00:00<?, ?it/s]"
      ]
     },
     "metadata": {},
     "output_type": "display_data"
    },
    {
     "name": "stdout",
     "output_type": "stream",
     "text": [
      "--- 2.342801094055176 seconds ---\n",
      "MRR@100 = 0.0002\n",
      "factors: 20, iterations: 10, learning_rate: 10, regularization: 0.1, neg_prop: 30\n"
     ]
    },
    {
     "data": {
      "application/vnd.jupyter.widget-view+json": {
       "model_id": "1348324914e0405294c9b03b1c956461",
       "version_major": 2,
       "version_minor": 0
      },
      "text/plain": [
       "  0%|          | 0/10 [00:00<?, ?it/s]"
      ]
     },
     "metadata": {},
     "output_type": "display_data"
    },
    {
     "name": "stdout",
     "output_type": "stream",
     "text": [
      "--- 2.3149843215942383 seconds ---\n",
      "MRR@100 = 0.0009\n",
      "factors: 20, iterations: 10, learning_rate: 10, regularization: 0.1, neg_prop: 50\n"
     ]
    },
    {
     "data": {
      "application/vnd.jupyter.widget-view+json": {
       "model_id": "c648e723a917424e946ff3a1d3f657ac",
       "version_major": 2,
       "version_minor": 0
      },
      "text/plain": [
       "  0%|          | 0/10 [00:00<?, ?it/s]"
      ]
     },
     "metadata": {},
     "output_type": "display_data"
    },
    {
     "name": "stdout",
     "output_type": "stream",
     "text": [
      "--- 2.536275863647461 seconds ---\n",
      "MRR@100 = 0.0009\n",
      "factors: 20, iterations: 10, learning_rate: 10, regularization: 1, neg_prop: 5\n"
     ]
    },
    {
     "data": {
      "application/vnd.jupyter.widget-view+json": {
       "model_id": "6524030ce0c340c5960fcb6259e2b546",
       "version_major": 2,
       "version_minor": 0
      },
      "text/plain": [
       "  0%|          | 0/10 [00:00<?, ?it/s]"
      ]
     },
     "metadata": {},
     "output_type": "display_data"
    },
    {
     "name": "stdout",
     "output_type": "stream",
     "text": [
      "--- 2.352315902709961 seconds ---\n",
      "MRR@100 = 0.0018\n",
      "factors: 20, iterations: 10, learning_rate: 10, regularization: 1, neg_prop: 15\n"
     ]
    },
    {
     "data": {
      "application/vnd.jupyter.widget-view+json": {
       "model_id": "d06eace00ecf44a882fa12b38855e015",
       "version_major": 2,
       "version_minor": 0
      },
      "text/plain": [
       "  0%|          | 0/10 [00:00<?, ?it/s]"
      ]
     },
     "metadata": {},
     "output_type": "display_data"
    },
    {
     "name": "stdout",
     "output_type": "stream",
     "text": [
      "--- 2.9979798793792725 seconds ---\n",
      "MRR@100 = 0.0028\n",
      "factors: 20, iterations: 10, learning_rate: 10, regularization: 1, neg_prop: 30\n"
     ]
    },
    {
     "data": {
      "application/vnd.jupyter.widget-view+json": {
       "model_id": "7d22ced68f294854a996a733a967a8b7",
       "version_major": 2,
       "version_minor": 0
      },
      "text/plain": [
       "  0%|          | 0/10 [00:00<?, ?it/s]"
      ]
     },
     "metadata": {},
     "output_type": "display_data"
    },
    {
     "name": "stdout",
     "output_type": "stream",
     "text": [
      "--- 2.7262420654296875 seconds ---\n",
      "MRR@100 = 0.0035\n",
      "factors: 20, iterations: 10, learning_rate: 10, regularization: 1, neg_prop: 50\n"
     ]
    },
    {
     "data": {
      "application/vnd.jupyter.widget-view+json": {
       "model_id": "62478da341724a0a84509b93dd3666f9",
       "version_major": 2,
       "version_minor": 0
      },
      "text/plain": [
       "  0%|          | 0/10 [00:00<?, ?it/s]"
      ]
     },
     "metadata": {},
     "output_type": "display_data"
    },
    {
     "name": "stdout",
     "output_type": "stream",
     "text": [
      "--- 2.6350061893463135 seconds ---\n",
      "MRR@100 = 0.0035\n",
      "factors: 20, iterations: 10, learning_rate: 10, regularization: 10, neg_prop: 5\n"
     ]
    },
    {
     "data": {
      "application/vnd.jupyter.widget-view+json": {
       "model_id": "a7bc26e3c63c4e6b9416e94ee48dfd05",
       "version_major": 2,
       "version_minor": 0
      },
      "text/plain": [
       "  0%|          | 0/10 [00:00<?, ?it/s]"
      ]
     },
     "metadata": {},
     "output_type": "display_data"
    },
    {
     "name": "stdout",
     "output_type": "stream",
     "text": [
      "--- 2.6413767337799072 seconds ---\n",
      "MRR@100 = 0.0011\n",
      "factors: 20, iterations: 10, learning_rate: 10, regularization: 10, neg_prop: 15\n"
     ]
    },
    {
     "data": {
      "application/vnd.jupyter.widget-view+json": {
       "model_id": "1f088bd88de24afb861aba471e847868",
       "version_major": 2,
       "version_minor": 0
      },
      "text/plain": [
       "  0%|          | 0/10 [00:00<?, ?it/s]"
      ]
     },
     "metadata": {},
     "output_type": "display_data"
    },
    {
     "name": "stdout",
     "output_type": "stream",
     "text": [
      "--- 2.8931710720062256 seconds ---\n",
      "MRR@100 = 0.0000\n",
      "factors: 20, iterations: 10, learning_rate: 10, regularization: 10, neg_prop: 30\n"
     ]
    },
    {
     "data": {
      "application/vnd.jupyter.widget-view+json": {
       "model_id": "3fcbc20f2ef74934b01baa820668cd41",
       "version_major": 2,
       "version_minor": 0
      },
      "text/plain": [
       "  0%|          | 0/10 [00:00<?, ?it/s]"
      ]
     },
     "metadata": {},
     "output_type": "display_data"
    },
    {
     "name": "stdout",
     "output_type": "stream",
     "text": [
      "--- 2.7355868816375732 seconds ---\n",
      "MRR@100 = 0.0015\n",
      "factors: 20, iterations: 10, learning_rate: 10, regularization: 10, neg_prop: 50\n"
     ]
    },
    {
     "data": {
      "application/vnd.jupyter.widget-view+json": {
       "model_id": "819a3db5d0524b30b426eb73adccc7ed",
       "version_major": 2,
       "version_minor": 0
      },
      "text/plain": [
       "  0%|          | 0/10 [00:00<?, ?it/s]"
      ]
     },
     "metadata": {},
     "output_type": "display_data"
    },
    {
     "name": "stdout",
     "output_type": "stream",
     "text": [
      "--- 2.7344748973846436 seconds ---\n",
      "MRR@100 = 0.0015\n",
      "factors: 20, iterations: 10, learning_rate: 10, regularization: 100, neg_prop: 5\n"
     ]
    },
    {
     "data": {
      "application/vnd.jupyter.widget-view+json": {
       "model_id": "31a69a5d0c4a4b7b92e649371e7e10d1",
       "version_major": 2,
       "version_minor": 0
      },
      "text/plain": [
       "  0%|          | 0/10 [00:00<?, ?it/s]"
      ]
     },
     "metadata": {},
     "output_type": "display_data"
    },
    {
     "name": "stdout",
     "output_type": "stream",
     "text": [
      "--- 2.724869728088379 seconds ---\n",
      "MRR@100 = 0.0011\n",
      "factors: 20, iterations: 10, learning_rate: 10, regularization: 100, neg_prop: 15\n"
     ]
    },
    {
     "data": {
      "application/vnd.jupyter.widget-view+json": {
       "model_id": "f25f2214a5f044d6ace6224ed631c034",
       "version_major": 2,
       "version_minor": 0
      },
      "text/plain": [
       "  0%|          | 0/10 [00:00<?, ?it/s]"
      ]
     },
     "metadata": {},
     "output_type": "display_data"
    },
    {
     "name": "stdout",
     "output_type": "stream",
     "text": [
      "--- 2.582960844039917 seconds ---\n",
      "MRR@100 = 0.0011\n",
      "factors: 20, iterations: 10, learning_rate: 10, regularization: 100, neg_prop: 30\n"
     ]
    },
    {
     "data": {
      "application/vnd.jupyter.widget-view+json": {
       "model_id": "d4eb76d32ab14c57a6d2122fa51aa0f1",
       "version_major": 2,
       "version_minor": 0
      },
      "text/plain": [
       "  0%|          | 0/10 [00:00<?, ?it/s]"
      ]
     },
     "metadata": {},
     "output_type": "display_data"
    },
    {
     "name": "stdout",
     "output_type": "stream",
     "text": [
      "--- 2.706146001815796 seconds ---\n",
      "MRR@100 = 0.0011\n",
      "factors: 20, iterations: 10, learning_rate: 10, regularization: 100, neg_prop: 50\n"
     ]
    },
    {
     "data": {
      "application/vnd.jupyter.widget-view+json": {
       "model_id": "1d53f1e32db4452a9678efe363e7cf8c",
       "version_major": 2,
       "version_minor": 0
      },
      "text/plain": [
       "  0%|          | 0/10 [00:00<?, ?it/s]"
      ]
     },
     "metadata": {},
     "output_type": "display_data"
    },
    {
     "name": "stdout",
     "output_type": "stream",
     "text": [
      "--- 2.574502944946289 seconds ---\n",
      "MRR@100 = 0.0011\n",
      "factors: 20, iterations: 10, learning_rate: 100, regularization: 0.001, neg_prop: 5\n"
     ]
    },
    {
     "data": {
      "application/vnd.jupyter.widget-view+json": {
       "model_id": "3e2ffd11bfaf444aa5f6cd93d1cc30a4",
       "version_major": 2,
       "version_minor": 0
      },
      "text/plain": [
       "  0%|          | 0/10 [00:00<?, ?it/s]"
      ]
     },
     "metadata": {},
     "output_type": "display_data"
    },
    {
     "name": "stdout",
     "output_type": "stream",
     "text": [
      "--- 3.1457889080047607 seconds ---\n",
      "MRR@100 = 0.0000\n",
      "factors: 20, iterations: 10, learning_rate: 100, regularization: 0.001, neg_prop: 15\n"
     ]
    },
    {
     "data": {
      "application/vnd.jupyter.widget-view+json": {
       "model_id": "0a3651a673814a37b27912653454b492",
       "version_major": 2,
       "version_minor": 0
      },
      "text/plain": [
       "  0%|          | 0/10 [00:00<?, ?it/s]"
      ]
     },
     "metadata": {},
     "output_type": "display_data"
    },
    {
     "name": "stdout",
     "output_type": "stream",
     "text": [
      "--- 2.7722432613372803 seconds ---\n",
      "MRR@100 = 0.0000\n",
      "factors: 20, iterations: 10, learning_rate: 100, regularization: 0.001, neg_prop: 30\n"
     ]
    },
    {
     "data": {
      "application/vnd.jupyter.widget-view+json": {
       "model_id": "a97900b1775c420ba3ec0ccf1e7d51c7",
       "version_major": 2,
       "version_minor": 0
      },
      "text/plain": [
       "  0%|          | 0/10 [00:00<?, ?it/s]"
      ]
     },
     "metadata": {},
     "output_type": "display_data"
    },
    {
     "name": "stdout",
     "output_type": "stream",
     "text": [
      "--- 2.634761095046997 seconds ---\n",
      "MRR@100 = 0.0000\n",
      "factors: 20, iterations: 10, learning_rate: 100, regularization: 0.001, neg_prop: 50\n"
     ]
    },
    {
     "data": {
      "application/vnd.jupyter.widget-view+json": {
       "model_id": "77599b14267242678fa26dd0b15d73ae",
       "version_major": 2,
       "version_minor": 0
      },
      "text/plain": [
       "  0%|          | 0/10 [00:00<?, ?it/s]"
      ]
     },
     "metadata": {},
     "output_type": "display_data"
    },
    {
     "name": "stdout",
     "output_type": "stream",
     "text": [
      "--- 2.8246209621429443 seconds ---\n",
      "MRR@100 = 0.0000\n",
      "factors: 20, iterations: 10, learning_rate: 100, regularization: 0.01, neg_prop: 5\n"
     ]
    },
    {
     "data": {
      "application/vnd.jupyter.widget-view+json": {
       "model_id": "6dadeb883e4e473eb0025c234c40a402",
       "version_major": 2,
       "version_minor": 0
      },
      "text/plain": [
       "  0%|          | 0/10 [00:00<?, ?it/s]"
      ]
     },
     "metadata": {},
     "output_type": "display_data"
    },
    {
     "name": "stdout",
     "output_type": "stream",
     "text": [
      "--- 2.7035160064697266 seconds ---\n",
      "MRR@100 = 0.0000\n",
      "factors: 20, iterations: 10, learning_rate: 100, regularization: 0.01, neg_prop: 15\n"
     ]
    },
    {
     "data": {
      "application/vnd.jupyter.widget-view+json": {
       "model_id": "ecd38e0526ad4296bc5dc5dfd87313e1",
       "version_major": 2,
       "version_minor": 0
      },
      "text/plain": [
       "  0%|          | 0/10 [00:00<?, ?it/s]"
      ]
     },
     "metadata": {},
     "output_type": "display_data"
    },
    {
     "name": "stdout",
     "output_type": "stream",
     "text": [
      "--- 2.78668212890625 seconds ---\n",
      "MRR@100 = 0.0000\n",
      "factors: 20, iterations: 10, learning_rate: 100, regularization: 0.01, neg_prop: 30\n"
     ]
    },
    {
     "data": {
      "application/vnd.jupyter.widget-view+json": {
       "model_id": "470f0fc9773d40b7931947101cdc5754",
       "version_major": 2,
       "version_minor": 0
      },
      "text/plain": [
       "  0%|          | 0/10 [00:00<?, ?it/s]"
      ]
     },
     "metadata": {},
     "output_type": "display_data"
    },
    {
     "name": "stdout",
     "output_type": "stream",
     "text": [
      "--- 2.6414310932159424 seconds ---\n",
      "MRR@100 = 0.0000\n",
      "factors: 20, iterations: 10, learning_rate: 100, regularization: 0.01, neg_prop: 50\n"
     ]
    },
    {
     "data": {
      "application/vnd.jupyter.widget-view+json": {
       "model_id": "098af0a215954831858ac872f3540409",
       "version_major": 2,
       "version_minor": 0
      },
      "text/plain": [
       "  0%|          | 0/10 [00:00<?, ?it/s]"
      ]
     },
     "metadata": {},
     "output_type": "display_data"
    },
    {
     "name": "stdout",
     "output_type": "stream",
     "text": [
      "--- 2.7426440715789795 seconds ---\n",
      "MRR@100 = 0.0000\n",
      "factors: 20, iterations: 10, learning_rate: 100, regularization: 0.1, neg_prop: 5\n"
     ]
    },
    {
     "data": {
      "application/vnd.jupyter.widget-view+json": {
       "model_id": "359438a4f1954187816f5a7ece5b2be6",
       "version_major": 2,
       "version_minor": 0
      },
      "text/plain": [
       "  0%|          | 0/10 [00:00<?, ?it/s]"
      ]
     },
     "metadata": {},
     "output_type": "display_data"
    },
    {
     "name": "stdout",
     "output_type": "stream",
     "text": [
      "--- 2.73415207862854 seconds ---\n",
      "MRR@100 = 0.0000\n",
      "factors: 20, iterations: 10, learning_rate: 100, regularization: 0.1, neg_prop: 15\n"
     ]
    },
    {
     "data": {
      "application/vnd.jupyter.widget-view+json": {
       "model_id": "480ca1ec293648c689bdbb0bdb9e26e4",
       "version_major": 2,
       "version_minor": 0
      },
      "text/plain": [
       "  0%|          | 0/10 [00:00<?, ?it/s]"
      ]
     },
     "metadata": {},
     "output_type": "display_data"
    },
    {
     "name": "stdout",
     "output_type": "stream",
     "text": [
      "--- 3.0328922271728516 seconds ---\n",
      "MRR@100 = 0.0000\n",
      "factors: 20, iterations: 10, learning_rate: 100, regularization: 0.1, neg_prop: 30\n"
     ]
    },
    {
     "data": {
      "application/vnd.jupyter.widget-view+json": {
       "model_id": "dd72ed3cc2d04246aae2e0c602290ee1",
       "version_major": 2,
       "version_minor": 0
      },
      "text/plain": [
       "  0%|          | 0/10 [00:00<?, ?it/s]"
      ]
     },
     "metadata": {},
     "output_type": "display_data"
    },
    {
     "name": "stdout",
     "output_type": "stream",
     "text": [
      "--- 2.7602219581604004 seconds ---\n",
      "MRR@100 = 0.0000\n",
      "factors: 20, iterations: 10, learning_rate: 100, regularization: 0.1, neg_prop: 50\n"
     ]
    },
    {
     "data": {
      "application/vnd.jupyter.widget-view+json": {
       "model_id": "8b7c4c75ceb940c79e34040feb1222d4",
       "version_major": 2,
       "version_minor": 0
      },
      "text/plain": [
       "  0%|          | 0/10 [00:00<?, ?it/s]"
      ]
     },
     "metadata": {},
     "output_type": "display_data"
    },
    {
     "name": "stdout",
     "output_type": "stream",
     "text": [
      "--- 2.817578077316284 seconds ---\n",
      "MRR@100 = 0.0000\n",
      "factors: 20, iterations: 10, learning_rate: 100, regularization: 1, neg_prop: 5\n"
     ]
    },
    {
     "data": {
      "application/vnd.jupyter.widget-view+json": {
       "model_id": "8d36d512065240e88b61515b0b1185ff",
       "version_major": 2,
       "version_minor": 0
      },
      "text/plain": [
       "  0%|          | 0/10 [00:00<?, ?it/s]"
      ]
     },
     "metadata": {},
     "output_type": "display_data"
    },
    {
     "name": "stdout",
     "output_type": "stream",
     "text": [
      "--- 2.6472280025482178 seconds ---\n",
      "MRR@100 = 0.0004\n",
      "factors: 20, iterations: 10, learning_rate: 100, regularization: 1, neg_prop: 15\n"
     ]
    },
    {
     "data": {
      "application/vnd.jupyter.widget-view+json": {
       "model_id": "d060b66fc28c4f37948bdeb31ffe7a2d",
       "version_major": 2,
       "version_minor": 0
      },
      "text/plain": [
       "  0%|          | 0/10 [00:00<?, ?it/s]"
      ]
     },
     "metadata": {},
     "output_type": "display_data"
    },
    {
     "name": "stdout",
     "output_type": "stream",
     "text": [
      "--- 2.622997999191284 seconds ---\n",
      "MRR@100 = 0.0006\n",
      "factors: 20, iterations: 10, learning_rate: 100, regularization: 1, neg_prop: 30\n"
     ]
    },
    {
     "data": {
      "application/vnd.jupyter.widget-view+json": {
       "model_id": "853cde336b05472da305f898b0c1b27f",
       "version_major": 2,
       "version_minor": 0
      },
      "text/plain": [
       "  0%|          | 0/10 [00:00<?, ?it/s]"
      ]
     },
     "metadata": {},
     "output_type": "display_data"
    },
    {
     "name": "stdout",
     "output_type": "stream",
     "text": [
      "--- 2.7279000282287598 seconds ---\n",
      "MRR@100 = 0.0010\n",
      "factors: 20, iterations: 10, learning_rate: 100, regularization: 1, neg_prop: 50\n"
     ]
    },
    {
     "data": {
      "application/vnd.jupyter.widget-view+json": {
       "model_id": "301db22c2a66474ebc49cc2354135631",
       "version_major": 2,
       "version_minor": 0
      },
      "text/plain": [
       "  0%|          | 0/10 [00:00<?, ?it/s]"
      ]
     },
     "metadata": {},
     "output_type": "display_data"
    },
    {
     "name": "stdout",
     "output_type": "stream",
     "text": [
      "--- 2.6064250469207764 seconds ---\n",
      "MRR@100 = 0.0010\n",
      "factors: 20, iterations: 10, learning_rate: 100, regularization: 10, neg_prop: 5\n"
     ]
    },
    {
     "data": {
      "application/vnd.jupyter.widget-view+json": {
       "model_id": "da3544392ff94fbb8773c7fc1ca0b41a",
       "version_major": 2,
       "version_minor": 0
      },
      "text/plain": [
       "  0%|          | 0/10 [00:00<?, ?it/s]"
      ]
     },
     "metadata": {},
     "output_type": "display_data"
    },
    {
     "name": "stdout",
     "output_type": "stream",
     "text": [
      "--- 2.6811001300811768 seconds ---\n",
      "MRR@100 = 0.0006\n",
      "factors: 20, iterations: 10, learning_rate: 100, regularization: 10, neg_prop: 15\n"
     ]
    },
    {
     "data": {
      "application/vnd.jupyter.widget-view+json": {
       "model_id": "0bcdce70cf2940cfb1884d78908d6995",
       "version_major": 2,
       "version_minor": 0
      },
      "text/plain": [
       "  0%|          | 0/10 [00:00<?, ?it/s]"
      ]
     },
     "metadata": {},
     "output_type": "display_data"
    },
    {
     "name": "stdout",
     "output_type": "stream",
     "text": [
      "--- 3.0532002449035645 seconds ---\n",
      "MRR@100 = 0.0010\n",
      "factors: 20, iterations: 10, learning_rate: 100, regularization: 10, neg_prop: 30\n"
     ]
    },
    {
     "data": {
      "application/vnd.jupyter.widget-view+json": {
       "model_id": "2b22588fae1f49058c573f093960b82e",
       "version_major": 2,
       "version_minor": 0
      },
      "text/plain": [
       "  0%|          | 0/10 [00:00<?, ?it/s]"
      ]
     },
     "metadata": {},
     "output_type": "display_data"
    },
    {
     "name": "stdout",
     "output_type": "stream",
     "text": [
      "--- 2.6005702018737793 seconds ---\n",
      "MRR@100 = 0.0011\n",
      "factors: 20, iterations: 10, learning_rate: 100, regularization: 10, neg_prop: 50\n"
     ]
    },
    {
     "data": {
      "application/vnd.jupyter.widget-view+json": {
       "model_id": "5bf992fcd4104e688763844029839d0c",
       "version_major": 2,
       "version_minor": 0
      },
      "text/plain": [
       "  0%|          | 0/10 [00:00<?, ?it/s]"
      ]
     },
     "metadata": {},
     "output_type": "display_data"
    },
    {
     "name": "stdout",
     "output_type": "stream",
     "text": [
      "--- 2.9119749069213867 seconds ---\n",
      "MRR@100 = 0.0011\n",
      "factors: 20, iterations: 10, learning_rate: 100, regularization: 100, neg_prop: 5\n"
     ]
    },
    {
     "data": {
      "application/vnd.jupyter.widget-view+json": {
       "model_id": "de99c53e64424a83ae671e377319d532",
       "version_major": 2,
       "version_minor": 0
      },
      "text/plain": [
       "  0%|          | 0/10 [00:00<?, ?it/s]"
      ]
     },
     "metadata": {},
     "output_type": "display_data"
    },
    {
     "name": "stdout",
     "output_type": "stream",
     "text": [
      "--- 2.664893865585327 seconds ---\n",
      "MRR@100 = 0.0021\n",
      "factors: 20, iterations: 10, learning_rate: 100, regularization: 100, neg_prop: 15\n"
     ]
    },
    {
     "data": {
      "application/vnd.jupyter.widget-view+json": {
       "model_id": "75fdf328f8d6481d812947033db21fc8",
       "version_major": 2,
       "version_minor": 0
      },
      "text/plain": [
       "  0%|          | 0/10 [00:00<?, ?it/s]"
      ]
     },
     "metadata": {},
     "output_type": "display_data"
    },
    {
     "name": "stdout",
     "output_type": "stream",
     "text": [
      "--- 2.7765848636627197 seconds ---\n",
      "MRR@100 = 0.0018\n",
      "factors: 20, iterations: 10, learning_rate: 100, regularization: 100, neg_prop: 30\n"
     ]
    },
    {
     "data": {
      "application/vnd.jupyter.widget-view+json": {
       "model_id": "06c1acbcb1b549d9abd4f04a9cf9e692",
       "version_major": 2,
       "version_minor": 0
      },
      "text/plain": [
       "  0%|          | 0/10 [00:00<?, ?it/s]"
      ]
     },
     "metadata": {},
     "output_type": "display_data"
    },
    {
     "name": "stdout",
     "output_type": "stream",
     "text": [
      "--- 2.6178529262542725 seconds ---\n",
      "MRR@100 = 0.0018\n",
      "factors: 20, iterations: 10, learning_rate: 100, regularization: 100, neg_prop: 50\n"
     ]
    },
    {
     "data": {
      "application/vnd.jupyter.widget-view+json": {
       "model_id": "22e3906d84ae492cbcd2418f7200226c",
       "version_major": 2,
       "version_minor": 0
      },
      "text/plain": [
       "  0%|          | 0/10 [00:00<?, ?it/s]"
      ]
     },
     "metadata": {},
     "output_type": "display_data"
    },
    {
     "name": "stdout",
     "output_type": "stream",
     "text": [
      "--- 2.7050201892852783 seconds ---\n",
      "MRR@100 = 0.0018\n",
      "factors: 20, iterations: 20, learning_rate: 1, regularization: 0.001, neg_prop: 5\n"
     ]
    },
    {
     "data": {
      "application/vnd.jupyter.widget-view+json": {
       "model_id": "63b0e851cff44a8e8abcadd594196461",
       "version_major": 2,
       "version_minor": 0
      },
      "text/plain": [
       "  0%|          | 0/20 [00:00<?, ?it/s]"
      ]
     },
     "metadata": {},
     "output_type": "display_data"
    },
    {
     "name": "stdout",
     "output_type": "stream",
     "text": [
      "--- 2.700713872909546 seconds ---\n",
      "MRR@100 = 0.0006\n",
      "factors: 20, iterations: 20, learning_rate: 1, regularization: 0.001, neg_prop: 15\n"
     ]
    },
    {
     "data": {
      "application/vnd.jupyter.widget-view+json": {
       "model_id": "107bf58ed6f4443d8fe0c716811c0ace",
       "version_major": 2,
       "version_minor": 0
      },
      "text/plain": [
       "  0%|          | 0/20 [00:00<?, ?it/s]"
      ]
     },
     "metadata": {},
     "output_type": "display_data"
    },
    {
     "name": "stdout",
     "output_type": "stream",
     "text": [
      "--- 3.0236477851867676 seconds ---\n",
      "MRR@100 = 0.0043\n",
      "factors: 20, iterations: 20, learning_rate: 1, regularization: 0.001, neg_prop: 30\n"
     ]
    },
    {
     "data": {
      "application/vnd.jupyter.widget-view+json": {
       "model_id": "749023a74d7440759ac1f1eb7611d761",
       "version_major": 2,
       "version_minor": 0
      },
      "text/plain": [
       "  0%|          | 0/20 [00:00<?, ?it/s]"
      ]
     },
     "metadata": {},
     "output_type": "display_data"
    },
    {
     "name": "stdout",
     "output_type": "stream",
     "text": [
      "--- 2.7327067852020264 seconds ---\n",
      "MRR@100 = 0.0051\n",
      "factors: 20, iterations: 20, learning_rate: 1, regularization: 0.001, neg_prop: 50\n"
     ]
    },
    {
     "data": {
      "application/vnd.jupyter.widget-view+json": {
       "model_id": "f1517d4dc0f44cf5bf995ae31344c939",
       "version_major": 2,
       "version_minor": 0
      },
      "text/plain": [
       "  0%|          | 0/20 [00:00<?, ?it/s]"
      ]
     },
     "metadata": {},
     "output_type": "display_data"
    },
    {
     "name": "stdout",
     "output_type": "stream",
     "text": [
      "--- 2.760982036590576 seconds ---\n",
      "MRR@100 = 0.0051\n",
      "factors: 20, iterations: 20, learning_rate: 1, regularization: 0.01, neg_prop: 5\n"
     ]
    },
    {
     "data": {
      "application/vnd.jupyter.widget-view+json": {
       "model_id": "ab415e0971094ca28125d84ef397853e",
       "version_major": 2,
       "version_minor": 0
      },
      "text/plain": [
       "  0%|          | 0/20 [00:00<?, ?it/s]"
      ]
     },
     "metadata": {},
     "output_type": "display_data"
    },
    {
     "name": "stdout",
     "output_type": "stream",
     "text": [
      "--- 2.6720590591430664 seconds ---\n",
      "MRR@100 = 0.0007\n",
      "factors: 20, iterations: 20, learning_rate: 1, regularization: 0.01, neg_prop: 15\n"
     ]
    },
    {
     "data": {
      "application/vnd.jupyter.widget-view+json": {
       "model_id": "bee8176db9154c7898a737b1cc5bc4bd",
       "version_major": 2,
       "version_minor": 0
      },
      "text/plain": [
       "  0%|          | 0/20 [00:00<?, ?it/s]"
      ]
     },
     "metadata": {},
     "output_type": "display_data"
    },
    {
     "name": "stdout",
     "output_type": "stream",
     "text": [
      "--- 2.558403968811035 seconds ---\n",
      "MRR@100 = 0.0043\n",
      "factors: 20, iterations: 20, learning_rate: 1, regularization: 0.01, neg_prop: 30\n"
     ]
    },
    {
     "data": {
      "application/vnd.jupyter.widget-view+json": {
       "model_id": "e80322f3eaa448d5b367b8a75d1a3521",
       "version_major": 2,
       "version_minor": 0
      },
      "text/plain": [
       "  0%|          | 0/20 [00:00<?, ?it/s]"
      ]
     },
     "metadata": {},
     "output_type": "display_data"
    },
    {
     "name": "stdout",
     "output_type": "stream",
     "text": [
      "--- 2.751939058303833 seconds ---\n",
      "MRR@100 = 0.0058\n",
      "factors: 20, iterations: 20, learning_rate: 1, regularization: 0.01, neg_prop: 50\n"
     ]
    },
    {
     "data": {
      "application/vnd.jupyter.widget-view+json": {
       "model_id": "99d00b30c4b14f89bd5e5208850092a6",
       "version_major": 2,
       "version_minor": 0
      },
      "text/plain": [
       "  0%|          | 0/20 [00:00<?, ?it/s]"
      ]
     },
     "metadata": {},
     "output_type": "display_data"
    },
    {
     "name": "stdout",
     "output_type": "stream",
     "text": [
      "--- 2.7599680423736572 seconds ---\n",
      "MRR@100 = 0.0058\n",
      "factors: 20, iterations: 20, learning_rate: 1, regularization: 0.1, neg_prop: 5\n"
     ]
    },
    {
     "data": {
      "application/vnd.jupyter.widget-view+json": {
       "model_id": "5416722d51a94b39a4549eaedc647fde",
       "version_major": 2,
       "version_minor": 0
      },
      "text/plain": [
       "  0%|          | 0/20 [00:00<?, ?it/s]"
      ]
     },
     "metadata": {},
     "output_type": "display_data"
    },
    {
     "name": "stdout",
     "output_type": "stream",
     "text": [
      "--- 2.657409906387329 seconds ---\n",
      "MRR@100 = 0.0028\n",
      "factors: 20, iterations: 20, learning_rate: 1, regularization: 0.1, neg_prop: 15\n"
     ]
    },
    {
     "data": {
      "application/vnd.jupyter.widget-view+json": {
       "model_id": "490a449031424435a123a187462b0970",
       "version_major": 2,
       "version_minor": 0
      },
      "text/plain": [
       "  0%|          | 0/20 [00:00<?, ?it/s]"
      ]
     },
     "metadata": {},
     "output_type": "display_data"
    },
    {
     "name": "stdout",
     "output_type": "stream",
     "text": [
      "--- 2.6064531803131104 seconds ---\n",
      "MRR@100 = 0.0045\n",
      "factors: 20, iterations: 20, learning_rate: 1, regularization: 0.1, neg_prop: 30\n"
     ]
    },
    {
     "data": {
      "application/vnd.jupyter.widget-view+json": {
       "model_id": "37dcd4d48e3a45998417220ebffd7f8c",
       "version_major": 2,
       "version_minor": 0
      },
      "text/plain": [
       "  0%|          | 0/20 [00:00<?, ?it/s]"
      ]
     },
     "metadata": {},
     "output_type": "display_data"
    },
    {
     "name": "stdout",
     "output_type": "stream",
     "text": [
      "--- 2.544511079788208 seconds ---\n",
      "MRR@100 = 0.0059\n",
      "factors: 20, iterations: 20, learning_rate: 1, regularization: 0.1, neg_prop: 50\n"
     ]
    },
    {
     "data": {
      "application/vnd.jupyter.widget-view+json": {
       "model_id": "c74d428c32ab44a1918210d488d6d4c9",
       "version_major": 2,
       "version_minor": 0
      },
      "text/plain": [
       "  0%|          | 0/20 [00:00<?, ?it/s]"
      ]
     },
     "metadata": {},
     "output_type": "display_data"
    },
    {
     "name": "stdout",
     "output_type": "stream",
     "text": [
      "--- 2.5077109336853027 seconds ---\n",
      "MRR@100 = 0.0059\n",
      "factors: 20, iterations: 20, learning_rate: 1, regularization: 1, neg_prop: 5\n"
     ]
    },
    {
     "data": {
      "application/vnd.jupyter.widget-view+json": {
       "model_id": "20c049be418b404983df2d21f7c22fd7",
       "version_major": 2,
       "version_minor": 0
      },
      "text/plain": [
       "  0%|          | 0/20 [00:00<?, ?it/s]"
      ]
     },
     "metadata": {},
     "output_type": "display_data"
    },
    {
     "name": "stdout",
     "output_type": "stream",
     "text": [
      "--- 2.6574997901916504 seconds ---\n",
      "MRR@100 = 0.0052\n",
      "factors: 20, iterations: 20, learning_rate: 1, regularization: 1, neg_prop: 15\n"
     ]
    },
    {
     "data": {
      "application/vnd.jupyter.widget-view+json": {
       "model_id": "70ac5d9c74884304ae5b22b8fa837efd",
       "version_major": 2,
       "version_minor": 0
      },
      "text/plain": [
       "  0%|          | 0/20 [00:00<?, ?it/s]"
      ]
     },
     "metadata": {},
     "output_type": "display_data"
    },
    {
     "name": "stdout",
     "output_type": "stream",
     "text": [
      "--- 2.780207872390747 seconds ---\n",
      "MRR@100 = 0.0062\n",
      "factors: 20, iterations: 20, learning_rate: 1, regularization: 1, neg_prop: 30\n"
     ]
    },
    {
     "data": {
      "application/vnd.jupyter.widget-view+json": {
       "model_id": "463db5d24c4d4abfae521caae8add786",
       "version_major": 2,
       "version_minor": 0
      },
      "text/plain": [
       "  0%|          | 0/20 [00:00<?, ?it/s]"
      ]
     },
     "metadata": {},
     "output_type": "display_data"
    },
    {
     "name": "stdout",
     "output_type": "stream",
     "text": [
      "--- 2.722212076187134 seconds ---\n",
      "MRR@100 = 0.0082\n",
      "factors: 20, iterations: 20, learning_rate: 1, regularization: 1, neg_prop: 50\n"
     ]
    },
    {
     "data": {
      "application/vnd.jupyter.widget-view+json": {
       "model_id": "beb7c79a491740f4813e5a234ac4f11f",
       "version_major": 2,
       "version_minor": 0
      },
      "text/plain": [
       "  0%|          | 0/20 [00:00<?, ?it/s]"
      ]
     },
     "metadata": {},
     "output_type": "display_data"
    },
    {
     "name": "stdout",
     "output_type": "stream",
     "text": [
      "--- 2.695114850997925 seconds ---\n",
      "MRR@100 = 0.0082\n",
      "factors: 20, iterations: 20, learning_rate: 1, regularization: 10, neg_prop: 5\n"
     ]
    },
    {
     "data": {
      "application/vnd.jupyter.widget-view+json": {
       "model_id": "bc331737636b4c68b87ecfcb44ce31c1",
       "version_major": 2,
       "version_minor": 0
      },
      "text/plain": [
       "  0%|          | 0/20 [00:00<?, ?it/s]"
      ]
     },
     "metadata": {},
     "output_type": "display_data"
    },
    {
     "name": "stdout",
     "output_type": "stream",
     "text": [
      "--- 2.8659791946411133 seconds ---\n",
      "MRR@100 = 0.0025\n",
      "factors: 20, iterations: 20, learning_rate: 1, regularization: 10, neg_prop: 15\n"
     ]
    },
    {
     "data": {
      "application/vnd.jupyter.widget-view+json": {
       "model_id": "5a6cd183706242a88d9df663962186d3",
       "version_major": 2,
       "version_minor": 0
      },
      "text/plain": [
       "  0%|          | 0/20 [00:00<?, ?it/s]"
      ]
     },
     "metadata": {},
     "output_type": "display_data"
    },
    {
     "name": "stdout",
     "output_type": "stream",
     "text": [
      "--- 2.5072219371795654 seconds ---\n",
      "MRR@100 = 0.0025\n",
      "factors: 20, iterations: 20, learning_rate: 1, regularization: 10, neg_prop: 30\n"
     ]
    },
    {
     "data": {
      "application/vnd.jupyter.widget-view+json": {
       "model_id": "c42c2595b0584f54acec823afe1d7a6d",
       "version_major": 2,
       "version_minor": 0
      },
      "text/plain": [
       "  0%|          | 0/20 [00:00<?, ?it/s]"
      ]
     },
     "metadata": {},
     "output_type": "display_data"
    },
    {
     "name": "stdout",
     "output_type": "stream",
     "text": [
      "--- 2.657562732696533 seconds ---\n",
      "MRR@100 = 0.0022\n",
      "factors: 20, iterations: 20, learning_rate: 1, regularization: 10, neg_prop: 50\n"
     ]
    },
    {
     "data": {
      "application/vnd.jupyter.widget-view+json": {
       "model_id": "98b0771ad15c40eaa4c09625aee518ee",
       "version_major": 2,
       "version_minor": 0
      },
      "text/plain": [
       "  0%|          | 0/20 [00:00<?, ?it/s]"
      ]
     },
     "metadata": {},
     "output_type": "display_data"
    },
    {
     "name": "stdout",
     "output_type": "stream",
     "text": [
      "--- 2.576888084411621 seconds ---\n",
      "MRR@100 = 0.0022\n",
      "factors: 20, iterations: 20, learning_rate: 1, regularization: 100, neg_prop: 5\n"
     ]
    },
    {
     "data": {
      "application/vnd.jupyter.widget-view+json": {
       "model_id": "9efaa67aac334991a9bd9197aa70f5bc",
       "version_major": 2,
       "version_minor": 0
      },
      "text/plain": [
       "  0%|          | 0/20 [00:00<?, ?it/s]"
      ]
     },
     "metadata": {},
     "output_type": "display_data"
    },
    {
     "name": "stdout",
     "output_type": "stream",
     "text": [
      "--- 2.6300220489501953 seconds ---\n",
      "MRR@100 = 0.0021\n",
      "factors: 20, iterations: 20, learning_rate: 1, regularization: 100, neg_prop: 15\n"
     ]
    },
    {
     "data": {
      "application/vnd.jupyter.widget-view+json": {
       "model_id": "15a7c2c51f9745fd9b61435e5f986d46",
       "version_major": 2,
       "version_minor": 0
      },
      "text/plain": [
       "  0%|          | 0/20 [00:00<?, ?it/s]"
      ]
     },
     "metadata": {},
     "output_type": "display_data"
    },
    {
     "name": "stdout",
     "output_type": "stream",
     "text": [
      "--- 2.7153499126434326 seconds ---\n",
      "MRR@100 = 0.0022\n",
      "factors: 20, iterations: 20, learning_rate: 1, regularization: 100, neg_prop: 30\n"
     ]
    },
    {
     "data": {
      "application/vnd.jupyter.widget-view+json": {
       "model_id": "d33883903e0e42809dc131ec6e4c5afb",
       "version_major": 2,
       "version_minor": 0
      },
      "text/plain": [
       "  0%|          | 0/20 [00:00<?, ?it/s]"
      ]
     },
     "metadata": {},
     "output_type": "display_data"
    },
    {
     "name": "stdout",
     "output_type": "stream",
     "text": [
      "--- 2.7424960136413574 seconds ---\n",
      "MRR@100 = 0.0021\n",
      "factors: 20, iterations: 20, learning_rate: 1, regularization: 100, neg_prop: 50\n"
     ]
    },
    {
     "data": {
      "application/vnd.jupyter.widget-view+json": {
       "model_id": "982b52a2cc344ef6abea012fd9de8fc6",
       "version_major": 2,
       "version_minor": 0
      },
      "text/plain": [
       "  0%|          | 0/20 [00:00<?, ?it/s]"
      ]
     },
     "metadata": {},
     "output_type": "display_data"
    },
    {
     "name": "stdout",
     "output_type": "stream",
     "text": [
      "--- 2.6372861862182617 seconds ---\n",
      "MRR@100 = 0.0021\n",
      "factors: 20, iterations: 20, learning_rate: 10, regularization: 0.001, neg_prop: 5\n"
     ]
    },
    {
     "data": {
      "application/vnd.jupyter.widget-view+json": {
       "model_id": "3fde6b5f1a1b4650b48ca4a0244a05e8",
       "version_major": 2,
       "version_minor": 0
      },
      "text/plain": [
       "  0%|          | 0/20 [00:00<?, ?it/s]"
      ]
     },
     "metadata": {},
     "output_type": "display_data"
    },
    {
     "name": "stdout",
     "output_type": "stream",
     "text": [
      "--- 2.6353800296783447 seconds ---\n",
      "MRR@100 = 0.0000\n",
      "factors: 20, iterations: 20, learning_rate: 10, regularization: 0.001, neg_prop: 15\n"
     ]
    },
    {
     "data": {
      "application/vnd.jupyter.widget-view+json": {
       "model_id": "e7a7336186ab4fa1b451735802f3da88",
       "version_major": 2,
       "version_minor": 0
      },
      "text/plain": [
       "  0%|          | 0/20 [00:00<?, ?it/s]"
      ]
     },
     "metadata": {},
     "output_type": "display_data"
    },
    {
     "name": "stdout",
     "output_type": "stream",
     "text": [
      "--- 2.5699141025543213 seconds ---\n",
      "MRR@100 = 0.0016\n",
      "factors: 20, iterations: 20, learning_rate: 10, regularization: 0.001, neg_prop: 30\n"
     ]
    },
    {
     "data": {
      "application/vnd.jupyter.widget-view+json": {
       "model_id": "686c9ad4dade4ccfa62d8714c9846165",
       "version_major": 2,
       "version_minor": 0
      },
      "text/plain": [
       "  0%|          | 0/20 [00:00<?, ?it/s]"
      ]
     },
     "metadata": {},
     "output_type": "display_data"
    },
    {
     "name": "stdout",
     "output_type": "stream",
     "text": [
      "--- 2.51389479637146 seconds ---\n",
      "MRR@100 = 0.0028\n",
      "factors: 20, iterations: 20, learning_rate: 10, regularization: 0.001, neg_prop: 50\n"
     ]
    },
    {
     "data": {
      "application/vnd.jupyter.widget-view+json": {
       "model_id": "28166d57e9e1411792b52072f26d720f",
       "version_major": 2,
       "version_minor": 0
      },
      "text/plain": [
       "  0%|          | 0/20 [00:00<?, ?it/s]"
      ]
     },
     "metadata": {},
     "output_type": "display_data"
    },
    {
     "name": "stdout",
     "output_type": "stream",
     "text": [
      "--- 2.738468885421753 seconds ---\n",
      "MRR@100 = 0.0028\n",
      "factors: 20, iterations: 20, learning_rate: 10, regularization: 0.01, neg_prop: 5\n"
     ]
    },
    {
     "data": {
      "application/vnd.jupyter.widget-view+json": {
       "model_id": "f7d7a893e8a84f71a380634d8490f06e",
       "version_major": 2,
       "version_minor": 0
      },
      "text/plain": [
       "  0%|          | 0/20 [00:00<?, ?it/s]"
      ]
     },
     "metadata": {},
     "output_type": "display_data"
    },
    {
     "name": "stdout",
     "output_type": "stream",
     "text": [
      "--- 2.769679069519043 seconds ---\n",
      "MRR@100 = 0.0000\n",
      "factors: 20, iterations: 20, learning_rate: 10, regularization: 0.01, neg_prop: 15\n"
     ]
    },
    {
     "data": {
      "application/vnd.jupyter.widget-view+json": {
       "model_id": "af1dea10fc7440cfb12be25a522301e3",
       "version_major": 2,
       "version_minor": 0
      },
      "text/plain": [
       "  0%|          | 0/20 [00:00<?, ?it/s]"
      ]
     },
     "metadata": {},
     "output_type": "display_data"
    },
    {
     "name": "stdout",
     "output_type": "stream",
     "text": [
      "--- 2.687652826309204 seconds ---\n",
      "MRR@100 = 0.0032\n",
      "factors: 20, iterations: 20, learning_rate: 10, regularization: 0.01, neg_prop: 30\n"
     ]
    },
    {
     "data": {
      "application/vnd.jupyter.widget-view+json": {
       "model_id": "89142bc4a4fd4a6da3993f67477af257",
       "version_major": 2,
       "version_minor": 0
      },
      "text/plain": [
       "  0%|          | 0/20 [00:00<?, ?it/s]"
      ]
     },
     "metadata": {},
     "output_type": "display_data"
    },
    {
     "name": "stdout",
     "output_type": "stream",
     "text": [
      "--- 2.6394758224487305 seconds ---\n",
      "MRR@100 = 0.0027\n",
      "factors: 20, iterations: 20, learning_rate: 10, regularization: 0.01, neg_prop: 50\n"
     ]
    },
    {
     "data": {
      "application/vnd.jupyter.widget-view+json": {
       "model_id": "cda2c2c577e74422b7d6ed53848a8975",
       "version_major": 2,
       "version_minor": 0
      },
      "text/plain": [
       "  0%|          | 0/20 [00:00<?, ?it/s]"
      ]
     },
     "metadata": {},
     "output_type": "display_data"
    },
    {
     "name": "stdout",
     "output_type": "stream",
     "text": [
      "--- 2.5376060009002686 seconds ---\n",
      "MRR@100 = 0.0027\n",
      "factors: 20, iterations: 20, learning_rate: 10, regularization: 0.1, neg_prop: 5\n"
     ]
    },
    {
     "data": {
      "application/vnd.jupyter.widget-view+json": {
       "model_id": "c58510b60d314077a6db0298422c3387",
       "version_major": 2,
       "version_minor": 0
      },
      "text/plain": [
       "  0%|          | 0/20 [00:00<?, ?it/s]"
      ]
     },
     "metadata": {},
     "output_type": "display_data"
    },
    {
     "name": "stdout",
     "output_type": "stream",
     "text": [
      "--- 2.537109136581421 seconds ---\n",
      "MRR@100 = 0.0001\n",
      "factors: 20, iterations: 20, learning_rate: 10, regularization: 0.1, neg_prop: 15\n"
     ]
    },
    {
     "data": {
      "application/vnd.jupyter.widget-view+json": {
       "model_id": "dfb645cb21124b7288b7d4947dce4afe",
       "version_major": 2,
       "version_minor": 0
      },
      "text/plain": [
       "  0%|          | 0/20 [00:00<?, ?it/s]"
      ]
     },
     "metadata": {},
     "output_type": "display_data"
    },
    {
     "name": "stdout",
     "output_type": "stream",
     "text": [
      "--- 2.63077712059021 seconds ---\n",
      "MRR@100 = 0.0024\n",
      "factors: 20, iterations: 20, learning_rate: 10, regularization: 0.1, neg_prop: 30\n"
     ]
    },
    {
     "data": {
      "application/vnd.jupyter.widget-view+json": {
       "model_id": "9571d4f1785f41d09e58c6790331b709",
       "version_major": 2,
       "version_minor": 0
      },
      "text/plain": [
       "  0%|          | 0/20 [00:00<?, ?it/s]"
      ]
     },
     "metadata": {},
     "output_type": "display_data"
    },
    {
     "name": "stdout",
     "output_type": "stream",
     "text": [
      "--- 2.5501298904418945 seconds ---\n",
      "MRR@100 = 0.0020\n",
      "factors: 20, iterations: 20, learning_rate: 10, regularization: 0.1, neg_prop: 50\n"
     ]
    },
    {
     "data": {
      "application/vnd.jupyter.widget-view+json": {
       "model_id": "1918b9a8096e4ce8a51b596bb441344c",
       "version_major": 2,
       "version_minor": 0
      },
      "text/plain": [
       "  0%|          | 0/20 [00:00<?, ?it/s]"
      ]
     },
     "metadata": {},
     "output_type": "display_data"
    },
    {
     "name": "stdout",
     "output_type": "stream",
     "text": [
      "--- 2.66556978225708 seconds ---\n",
      "MRR@100 = 0.0020\n",
      "factors: 20, iterations: 20, learning_rate: 10, regularization: 1, neg_prop: 5\n"
     ]
    },
    {
     "data": {
      "application/vnd.jupyter.widget-view+json": {
       "model_id": "db1d89208d1646e08a328821fe60c4f8",
       "version_major": 2,
       "version_minor": 0
      },
      "text/plain": [
       "  0%|          | 0/20 [00:00<?, ?it/s]"
      ]
     },
     "metadata": {},
     "output_type": "display_data"
    },
    {
     "name": "stdout",
     "output_type": "stream",
     "text": [
      "--- 2.5398447513580322 seconds ---\n",
      "MRR@100 = 0.0018\n",
      "factors: 20, iterations: 20, learning_rate: 10, regularization: 1, neg_prop: 15\n"
     ]
    },
    {
     "data": {
      "application/vnd.jupyter.widget-view+json": {
       "model_id": "ce30599049a740f6a13b42ae6d0374dc",
       "version_major": 2,
       "version_minor": 0
      },
      "text/plain": [
       "  0%|          | 0/20 [00:00<?, ?it/s]"
      ]
     },
     "metadata": {},
     "output_type": "display_data"
    },
    {
     "name": "stdout",
     "output_type": "stream",
     "text": [
      "--- 3.0551419258117676 seconds ---\n",
      "MRR@100 = 0.0029\n",
      "factors: 20, iterations: 20, learning_rate: 10, regularization: 1, neg_prop: 30\n"
     ]
    },
    {
     "data": {
      "application/vnd.jupyter.widget-view+json": {
       "model_id": "74530898ba3f44f8b6f4c77ac21950fd",
       "version_major": 2,
       "version_minor": 0
      },
      "text/plain": [
       "  0%|          | 0/20 [00:00<?, ?it/s]"
      ]
     },
     "metadata": {},
     "output_type": "display_data"
    },
    {
     "name": "stdout",
     "output_type": "stream",
     "text": [
      "--- 2.5858256816864014 seconds ---\n",
      "MRR@100 = 0.0032\n",
      "factors: 20, iterations: 20, learning_rate: 10, regularization: 1, neg_prop: 50\n"
     ]
    },
    {
     "data": {
      "application/vnd.jupyter.widget-view+json": {
       "model_id": "ebb1af8ab25744bdb24b9ec8a1a49645",
       "version_major": 2,
       "version_minor": 0
      },
      "text/plain": [
       "  0%|          | 0/20 [00:00<?, ?it/s]"
      ]
     },
     "metadata": {},
     "output_type": "display_data"
    },
    {
     "name": "stdout",
     "output_type": "stream",
     "text": [
      "--- 2.696824073791504 seconds ---\n",
      "MRR@100 = 0.0032\n",
      "factors: 20, iterations: 20, learning_rate: 10, regularization: 10, neg_prop: 5\n"
     ]
    },
    {
     "data": {
      "application/vnd.jupyter.widget-view+json": {
       "model_id": "cf60984284b94541b91c4affb4ac5457",
       "version_major": 2,
       "version_minor": 0
      },
      "text/plain": [
       "  0%|          | 0/20 [00:00<?, ?it/s]"
      ]
     },
     "metadata": {},
     "output_type": "display_data"
    },
    {
     "name": "stdout",
     "output_type": "stream",
     "text": [
      "--- 2.6357078552246094 seconds ---\n",
      "MRR@100 = 0.0007\n",
      "factors: 20, iterations: 20, learning_rate: 10, regularization: 10, neg_prop: 15\n"
     ]
    },
    {
     "data": {
      "application/vnd.jupyter.widget-view+json": {
       "model_id": "19eb0ca7a03c4e5381ef8c52893f6b3d",
       "version_major": 2,
       "version_minor": 0
      },
      "text/plain": [
       "  0%|          | 0/20 [00:00<?, ?it/s]"
      ]
     },
     "metadata": {},
     "output_type": "display_data"
    },
    {
     "name": "stdout",
     "output_type": "stream",
     "text": [
      "--- 2.589015007019043 seconds ---\n",
      "MRR@100 = 0.0009\n",
      "factors: 20, iterations: 20, learning_rate: 10, regularization: 10, neg_prop: 30\n"
     ]
    },
    {
     "data": {
      "application/vnd.jupyter.widget-view+json": {
       "model_id": "229199a36b694ec6a3c7c48c37f32ba3",
       "version_major": 2,
       "version_minor": 0
      },
      "text/plain": [
       "  0%|          | 0/20 [00:00<?, ?it/s]"
      ]
     },
     "metadata": {},
     "output_type": "display_data"
    },
    {
     "name": "stdout",
     "output_type": "stream",
     "text": [
      "--- 2.6147470474243164 seconds ---\n",
      "MRR@100 = 0.0022\n",
      "factors: 20, iterations: 20, learning_rate: 10, regularization: 10, neg_prop: 50\n"
     ]
    },
    {
     "data": {
      "application/vnd.jupyter.widget-view+json": {
       "model_id": "3c54d5dcdfa84cd187b16b1bfc4fd921",
       "version_major": 2,
       "version_minor": 0
      },
      "text/plain": [
       "  0%|          | 0/20 [00:00<?, ?it/s]"
      ]
     },
     "metadata": {},
     "output_type": "display_data"
    },
    {
     "name": "stdout",
     "output_type": "stream",
     "text": [
      "--- 2.5143790245056152 seconds ---\n",
      "MRR@100 = 0.0022\n",
      "factors: 20, iterations: 20, learning_rate: 10, regularization: 100, neg_prop: 5\n"
     ]
    },
    {
     "data": {
      "application/vnd.jupyter.widget-view+json": {
       "model_id": "c80ca9b210a944bf90a893c7a41a648e",
       "version_major": 2,
       "version_minor": 0
      },
      "text/plain": [
       "  0%|          | 0/20 [00:00<?, ?it/s]"
      ]
     },
     "metadata": {},
     "output_type": "display_data"
    },
    {
     "name": "stdout",
     "output_type": "stream",
     "text": [
      "--- 2.622653007507324 seconds ---\n",
      "MRR@100 = 0.0015\n",
      "factors: 20, iterations: 20, learning_rate: 10, regularization: 100, neg_prop: 15\n"
     ]
    },
    {
     "data": {
      "application/vnd.jupyter.widget-view+json": {
       "model_id": "6443d7489dc6473f8f214d5757a932fe",
       "version_major": 2,
       "version_minor": 0
      },
      "text/plain": [
       "  0%|          | 0/20 [00:00<?, ?it/s]"
      ]
     },
     "metadata": {},
     "output_type": "display_data"
    },
    {
     "name": "stdout",
     "output_type": "stream",
     "text": [
      "--- 2.5919041633605957 seconds ---\n",
      "MRR@100 = 0.0013\n",
      "factors: 20, iterations: 20, learning_rate: 10, regularization: 100, neg_prop: 30\n"
     ]
    },
    {
     "data": {
      "application/vnd.jupyter.widget-view+json": {
       "model_id": "4fc840a83f484eb9b107c33099c5c36f",
       "version_major": 2,
       "version_minor": 0
      },
      "text/plain": [
       "  0%|          | 0/20 [00:00<?, ?it/s]"
      ]
     },
     "metadata": {},
     "output_type": "display_data"
    },
    {
     "name": "stdout",
     "output_type": "stream",
     "text": [
      "--- 2.6277549266815186 seconds ---\n",
      "MRR@100 = 0.0013\n",
      "factors: 20, iterations: 20, learning_rate: 10, regularization: 100, neg_prop: 50\n"
     ]
    },
    {
     "data": {
      "application/vnd.jupyter.widget-view+json": {
       "model_id": "f6095986fb694790b19133895744f6b8",
       "version_major": 2,
       "version_minor": 0
      },
      "text/plain": [
       "  0%|          | 0/20 [00:00<?, ?it/s]"
      ]
     },
     "metadata": {},
     "output_type": "display_data"
    },
    {
     "name": "stdout",
     "output_type": "stream",
     "text": [
      "--- 2.7431957721710205 seconds ---\n",
      "MRR@100 = 0.0013\n",
      "factors: 20, iterations: 20, learning_rate: 100, regularization: 0.001, neg_prop: 5\n"
     ]
    },
    {
     "data": {
      "application/vnd.jupyter.widget-view+json": {
       "model_id": "edb6cf5a14704862bbc651335dc89073",
       "version_major": 2,
       "version_minor": 0
      },
      "text/plain": [
       "  0%|          | 0/20 [00:00<?, ?it/s]"
      ]
     },
     "metadata": {},
     "output_type": "display_data"
    },
    {
     "name": "stdout",
     "output_type": "stream",
     "text": [
      "--- 2.60158371925354 seconds ---\n",
      "MRR@100 = 0.0000\n",
      "factors: 20, iterations: 20, learning_rate: 100, regularization: 0.001, neg_prop: 15\n"
     ]
    },
    {
     "data": {
      "application/vnd.jupyter.widget-view+json": {
       "model_id": "c52f8b59d9994e62822b4ea197c91916",
       "version_major": 2,
       "version_minor": 0
      },
      "text/plain": [
       "  0%|          | 0/20 [00:00<?, ?it/s]"
      ]
     },
     "metadata": {},
     "output_type": "display_data"
    },
    {
     "name": "stdout",
     "output_type": "stream",
     "text": [
      "--- 2.6229519844055176 seconds ---\n",
      "MRR@100 = 0.0000\n",
      "factors: 20, iterations: 20, learning_rate: 100, regularization: 0.001, neg_prop: 30\n"
     ]
    },
    {
     "data": {
      "application/vnd.jupyter.widget-view+json": {
       "model_id": "dc9dca20eca64943a1986d23082479b9",
       "version_major": 2,
       "version_minor": 0
      },
      "text/plain": [
       "  0%|          | 0/20 [00:00<?, ?it/s]"
      ]
     },
     "metadata": {},
     "output_type": "display_data"
    },
    {
     "name": "stdout",
     "output_type": "stream",
     "text": [
      "--- 2.573554277420044 seconds ---\n",
      "MRR@100 = 0.0016\n",
      "factors: 20, iterations: 20, learning_rate: 100, regularization: 0.001, neg_prop: 50\n"
     ]
    },
    {
     "data": {
      "application/vnd.jupyter.widget-view+json": {
       "model_id": "e6c3792b3df8418ba88d4eb6b8c698bc",
       "version_major": 2,
       "version_minor": 0
      },
      "text/plain": [
       "  0%|          | 0/20 [00:00<?, ?it/s]"
      ]
     },
     "metadata": {},
     "output_type": "display_data"
    },
    {
     "name": "stdout",
     "output_type": "stream",
     "text": [
      "--- 2.846230983734131 seconds ---\n",
      "MRR@100 = 0.0016\n",
      "factors: 20, iterations: 20, learning_rate: 100, regularization: 0.01, neg_prop: 5\n"
     ]
    },
    {
     "data": {
      "application/vnd.jupyter.widget-view+json": {
       "model_id": "769371a6f7c948b8b7663f15cbc66240",
       "version_major": 2,
       "version_minor": 0
      },
      "text/plain": [
       "  0%|          | 0/20 [00:00<?, ?it/s]"
      ]
     },
     "metadata": {},
     "output_type": "display_data"
    },
    {
     "name": "stdout",
     "output_type": "stream",
     "text": [
      "--- 2.653420925140381 seconds ---\n",
      "MRR@100 = 0.0000\n",
      "factors: 20, iterations: 20, learning_rate: 100, regularization: 0.01, neg_prop: 15\n"
     ]
    },
    {
     "data": {
      "application/vnd.jupyter.widget-view+json": {
       "model_id": "7e58088b95ed4aeabc2505e16cad43dc",
       "version_major": 2,
       "version_minor": 0
      },
      "text/plain": [
       "  0%|          | 0/20 [00:00<?, ?it/s]"
      ]
     },
     "metadata": {},
     "output_type": "display_data"
    },
    {
     "name": "stdout",
     "output_type": "stream",
     "text": [
      "--- 2.689756155014038 seconds ---\n",
      "MRR@100 = 0.0000\n",
      "factors: 20, iterations: 20, learning_rate: 100, regularization: 0.01, neg_prop: 30\n"
     ]
    },
    {
     "data": {
      "application/vnd.jupyter.widget-view+json": {
       "model_id": "bbfd626e65e04f5d8bd3612dc70db014",
       "version_major": 2,
       "version_minor": 0
      },
      "text/plain": [
       "  0%|          | 0/20 [00:00<?, ?it/s]"
      ]
     },
     "metadata": {},
     "output_type": "display_data"
    },
    {
     "name": "stdout",
     "output_type": "stream",
     "text": [
      "--- 2.713063955307007 seconds ---\n",
      "MRR@100 = 0.0014\n",
      "factors: 20, iterations: 20, learning_rate: 100, regularization: 0.01, neg_prop: 50\n"
     ]
    },
    {
     "data": {
      "application/vnd.jupyter.widget-view+json": {
       "model_id": "d5ca156c8cdf42c6b20631335f81b7b8",
       "version_major": 2,
       "version_minor": 0
      },
      "text/plain": [
       "  0%|          | 0/20 [00:00<?, ?it/s]"
      ]
     },
     "metadata": {},
     "output_type": "display_data"
    },
    {
     "name": "stdout",
     "output_type": "stream",
     "text": [
      "--- 2.7054648399353027 seconds ---\n",
      "MRR@100 = 0.0014\n",
      "factors: 20, iterations: 20, learning_rate: 100, regularization: 0.1, neg_prop: 5\n"
     ]
    },
    {
     "data": {
      "application/vnd.jupyter.widget-view+json": {
       "model_id": "cba54af2151f408ebd9aee87885b668d",
       "version_major": 2,
       "version_minor": 0
      },
      "text/plain": [
       "  0%|          | 0/20 [00:00<?, ?it/s]"
      ]
     },
     "metadata": {},
     "output_type": "display_data"
    },
    {
     "name": "stdout",
     "output_type": "stream",
     "text": [
      "--- 2.644052028656006 seconds ---\n",
      "MRR@100 = 0.0000\n",
      "factors: 20, iterations: 20, learning_rate: 100, regularization: 0.1, neg_prop: 15\n"
     ]
    },
    {
     "data": {
      "application/vnd.jupyter.widget-view+json": {
       "model_id": "20843d00176d4ca0a0d3a4716d6e25f3",
       "version_major": 2,
       "version_minor": 0
      },
      "text/plain": [
       "  0%|          | 0/20 [00:00<?, ?it/s]"
      ]
     },
     "metadata": {},
     "output_type": "display_data"
    },
    {
     "name": "stdout",
     "output_type": "stream",
     "text": [
      "--- 2.4829869270324707 seconds ---\n",
      "MRR@100 = 0.0001\n",
      "factors: 20, iterations: 20, learning_rate: 100, regularization: 0.1, neg_prop: 30\n"
     ]
    },
    {
     "data": {
      "application/vnd.jupyter.widget-view+json": {
       "model_id": "dd4265fc766242bc829900b83c5fa505",
       "version_major": 2,
       "version_minor": 0
      },
      "text/plain": [
       "  0%|          | 0/20 [00:00<?, ?it/s]"
      ]
     },
     "metadata": {},
     "output_type": "display_data"
    },
    {
     "name": "stdout",
     "output_type": "stream",
     "text": [
      "--- 2.6561708450317383 seconds ---\n",
      "MRR@100 = 0.0011\n",
      "factors: 20, iterations: 20, learning_rate: 100, regularization: 0.1, neg_prop: 50\n"
     ]
    },
    {
     "data": {
      "application/vnd.jupyter.widget-view+json": {
       "model_id": "e6f1d087dd4246d29f84e891a4c9f57f",
       "version_major": 2,
       "version_minor": 0
      },
      "text/plain": [
       "  0%|          | 0/20 [00:00<?, ?it/s]"
      ]
     },
     "metadata": {},
     "output_type": "display_data"
    },
    {
     "name": "stdout",
     "output_type": "stream",
     "text": [
      "--- 2.644969940185547 seconds ---\n",
      "MRR@100 = 0.0011\n",
      "factors: 20, iterations: 20, learning_rate: 100, regularization: 1, neg_prop: 5\n"
     ]
    },
    {
     "data": {
      "application/vnd.jupyter.widget-view+json": {
       "model_id": "d42b12929eee43e2a7a90978bd96f0a1",
       "version_major": 2,
       "version_minor": 0
      },
      "text/plain": [
       "  0%|          | 0/20 [00:00<?, ?it/s]"
      ]
     },
     "metadata": {},
     "output_type": "display_data"
    },
    {
     "name": "stdout",
     "output_type": "stream",
     "text": [
      "--- 2.6063339710235596 seconds ---\n",
      "MRR@100 = 0.0011\n",
      "factors: 20, iterations: 20, learning_rate: 100, regularization: 1, neg_prop: 15\n"
     ]
    },
    {
     "data": {
      "application/vnd.jupyter.widget-view+json": {
       "model_id": "29d2d1b235e44d158d9f1bb000dd720b",
       "version_major": 2,
       "version_minor": 0
      },
      "text/plain": [
       "  0%|          | 0/20 [00:00<?, ?it/s]"
      ]
     },
     "metadata": {},
     "output_type": "display_data"
    },
    {
     "name": "stdout",
     "output_type": "stream",
     "text": [
      "--- 2.6305899620056152 seconds ---\n",
      "MRR@100 = 0.0012\n",
      "factors: 20, iterations: 20, learning_rate: 100, regularization: 1, neg_prop: 30\n"
     ]
    },
    {
     "data": {
      "application/vnd.jupyter.widget-view+json": {
       "model_id": "949675f75ff84b75a10ee59943c52147",
       "version_major": 2,
       "version_minor": 0
      },
      "text/plain": [
       "  0%|          | 0/20 [00:00<?, ?it/s]"
      ]
     },
     "metadata": {},
     "output_type": "display_data"
    },
    {
     "name": "stdout",
     "output_type": "stream",
     "text": [
      "--- 2.670790910720825 seconds ---\n",
      "MRR@100 = 0.0014\n",
      "factors: 20, iterations: 20, learning_rate: 100, regularization: 1, neg_prop: 50\n"
     ]
    },
    {
     "data": {
      "application/vnd.jupyter.widget-view+json": {
       "model_id": "7e26fd8f08c94561839e007b7ec31dfe",
       "version_major": 2,
       "version_minor": 0
      },
      "text/plain": [
       "  0%|          | 0/20 [00:00<?, ?it/s]"
      ]
     },
     "metadata": {},
     "output_type": "display_data"
    },
    {
     "name": "stdout",
     "output_type": "stream",
     "text": [
      "--- 2.6009202003479004 seconds ---\n",
      "MRR@100 = 0.0014\n",
      "factors: 20, iterations: 20, learning_rate: 100, regularization: 10, neg_prop: 5\n"
     ]
    },
    {
     "data": {
      "application/vnd.jupyter.widget-view+json": {
       "model_id": "08a4be5871364752bc053da9c7691b04",
       "version_major": 2,
       "version_minor": 0
      },
      "text/plain": [
       "  0%|          | 0/20 [00:00<?, ?it/s]"
      ]
     },
     "metadata": {},
     "output_type": "display_data"
    },
    {
     "name": "stdout",
     "output_type": "stream",
     "text": [
      "--- 2.569216012954712 seconds ---\n",
      "MRR@100 = 0.0048\n",
      "factors: 20, iterations: 20, learning_rate: 100, regularization: 10, neg_prop: 15\n"
     ]
    },
    {
     "data": {
      "application/vnd.jupyter.widget-view+json": {
       "model_id": "302214d7c6e54ba295d502232c557f75",
       "version_major": 2,
       "version_minor": 0
      },
      "text/plain": [
       "  0%|          | 0/20 [00:00<?, ?it/s]"
      ]
     },
     "metadata": {},
     "output_type": "display_data"
    },
    {
     "name": "stdout",
     "output_type": "stream",
     "text": [
      "--- 2.5716772079467773 seconds ---\n",
      "MRR@100 = 0.0047\n",
      "factors: 20, iterations: 20, learning_rate: 100, regularization: 10, neg_prop: 30\n"
     ]
    },
    {
     "data": {
      "application/vnd.jupyter.widget-view+json": {
       "model_id": "9053a5cb8df3498cbdd10fa4584b1912",
       "version_major": 2,
       "version_minor": 0
      },
      "text/plain": [
       "  0%|          | 0/20 [00:00<?, ?it/s]"
      ]
     },
     "metadata": {},
     "output_type": "display_data"
    },
    {
     "name": "stdout",
     "output_type": "stream",
     "text": [
      "--- 2.6221251487731934 seconds ---\n",
      "MRR@100 = 0.0040\n",
      "factors: 20, iterations: 20, learning_rate: 100, regularization: 10, neg_prop: 50\n"
     ]
    },
    {
     "data": {
      "application/vnd.jupyter.widget-view+json": {
       "model_id": "ef33f0b317df4c6f8d897284c89dda6f",
       "version_major": 2,
       "version_minor": 0
      },
      "text/plain": [
       "  0%|          | 0/20 [00:00<?, ?it/s]"
      ]
     },
     "metadata": {},
     "output_type": "display_data"
    },
    {
     "name": "stdout",
     "output_type": "stream",
     "text": [
      "--- 2.637937068939209 seconds ---\n",
      "MRR@100 = 0.0040\n",
      "factors: 20, iterations: 20, learning_rate: 100, regularization: 100, neg_prop: 5\n"
     ]
    },
    {
     "data": {
      "application/vnd.jupyter.widget-view+json": {
       "model_id": "644af8a0f2274cbc8ca69a47460c7e57",
       "version_major": 2,
       "version_minor": 0
      },
      "text/plain": [
       "  0%|          | 0/20 [00:00<?, ?it/s]"
      ]
     },
     "metadata": {},
     "output_type": "display_data"
    },
    {
     "name": "stdout",
     "output_type": "stream",
     "text": [
      "--- 2.5867910385131836 seconds ---\n",
      "MRR@100 = 0.0023\n",
      "factors: 20, iterations: 20, learning_rate: 100, regularization: 100, neg_prop: 15\n"
     ]
    },
    {
     "data": {
      "application/vnd.jupyter.widget-view+json": {
       "model_id": "e6293564725a436c875ae8cb1307ee3e",
       "version_major": 2,
       "version_minor": 0
      },
      "text/plain": [
       "  0%|          | 0/20 [00:00<?, ?it/s]"
      ]
     },
     "metadata": {},
     "output_type": "display_data"
    },
    {
     "name": "stdout",
     "output_type": "stream",
     "text": [
      "--- 2.550431966781616 seconds ---\n",
      "MRR@100 = 0.0022\n",
      "factors: 20, iterations: 20, learning_rate: 100, regularization: 100, neg_prop: 30\n"
     ]
    },
    {
     "data": {
      "application/vnd.jupyter.widget-view+json": {
       "model_id": "01d08f48435e4594abe11ac99f86dc77",
       "version_major": 2,
       "version_minor": 0
      },
      "text/plain": [
       "  0%|          | 0/20 [00:00<?, ?it/s]"
      ]
     },
     "metadata": {},
     "output_type": "display_data"
    },
    {
     "name": "stdout",
     "output_type": "stream",
     "text": [
      "--- 2.693687915802002 seconds ---\n",
      "MRR@100 = 0.0022\n",
      "factors: 20, iterations: 20, learning_rate: 100, regularization: 100, neg_prop: 50\n"
     ]
    },
    {
     "data": {
      "application/vnd.jupyter.widget-view+json": {
       "model_id": "69b5d2b6688b4862bb2366abf4a3eb86",
       "version_major": 2,
       "version_minor": 0
      },
      "text/plain": [
       "  0%|          | 0/20 [00:00<?, ?it/s]"
      ]
     },
     "metadata": {},
     "output_type": "display_data"
    },
    {
     "name": "stdout",
     "output_type": "stream",
     "text": [
      "--- 2.5609757900238037 seconds ---\n",
      "MRR@100 = 0.0022\n",
      "factors: 20, iterations: 30, learning_rate: 1, regularization: 0.001, neg_prop: 5\n"
     ]
    },
    {
     "data": {
      "application/vnd.jupyter.widget-view+json": {
       "model_id": "8097b3693f7d4e6bbc80f70dea3c3036",
       "version_major": 2,
       "version_minor": 0
      },
      "text/plain": [
       "  0%|          | 0/30 [00:00<?, ?it/s]"
      ]
     },
     "metadata": {},
     "output_type": "display_data"
    },
    {
     "name": "stdout",
     "output_type": "stream",
     "text": [
      "--- 2.6039023399353027 seconds ---\n",
      "MRR@100 = 0.0013\n",
      "factors: 20, iterations: 30, learning_rate: 1, regularization: 0.001, neg_prop: 15\n"
     ]
    },
    {
     "data": {
      "application/vnd.jupyter.widget-view+json": {
       "model_id": "577cbba0bc174827a789eded9f01c5e6",
       "version_major": 2,
       "version_minor": 0
      },
      "text/plain": [
       "  0%|          | 0/30 [00:00<?, ?it/s]"
      ]
     },
     "metadata": {},
     "output_type": "display_data"
    },
    {
     "name": "stdout",
     "output_type": "stream",
     "text": [
      "--- 2.9999887943267822 seconds ---\n",
      "MRR@100 = 0.0048\n",
      "factors: 20, iterations: 30, learning_rate: 1, regularization: 0.001, neg_prop: 30\n"
     ]
    },
    {
     "data": {
      "application/vnd.jupyter.widget-view+json": {
       "model_id": "fdca82159c3c459dbe1967ae377de433",
       "version_major": 2,
       "version_minor": 0
      },
      "text/plain": [
       "  0%|          | 0/30 [00:00<?, ?it/s]"
      ]
     },
     "metadata": {},
     "output_type": "display_data"
    },
    {
     "name": "stdout",
     "output_type": "stream",
     "text": [
      "--- 2.538336992263794 seconds ---\n",
      "MRR@100 = 0.0056\n",
      "factors: 20, iterations: 30, learning_rate: 1, regularization: 0.001, neg_prop: 50\n"
     ]
    },
    {
     "data": {
      "application/vnd.jupyter.widget-view+json": {
       "model_id": "43c3371d6ef245a3958f0a441a5ecb84",
       "version_major": 2,
       "version_minor": 0
      },
      "text/plain": [
       "  0%|          | 0/30 [00:00<?, ?it/s]"
      ]
     },
     "metadata": {},
     "output_type": "display_data"
    },
    {
     "name": "stdout",
     "output_type": "stream",
     "text": [
      "--- 2.4603288173675537 seconds ---\n",
      "MRR@100 = 0.0056\n",
      "factors: 20, iterations: 30, learning_rate: 1, regularization: 0.01, neg_prop: 5\n"
     ]
    },
    {
     "data": {
      "application/vnd.jupyter.widget-view+json": {
       "model_id": "f2fa207eb64d438fab2f6a8bab989abb",
       "version_major": 2,
       "version_minor": 0
      },
      "text/plain": [
       "  0%|          | 0/30 [00:00<?, ?it/s]"
      ]
     },
     "metadata": {},
     "output_type": "display_data"
    },
    {
     "name": "stdout",
     "output_type": "stream",
     "text": [
      "--- 2.543524742126465 seconds ---\n",
      "MRR@100 = 0.0016\n",
      "factors: 20, iterations: 30, learning_rate: 1, regularization: 0.01, neg_prop: 15\n"
     ]
    },
    {
     "data": {
      "application/vnd.jupyter.widget-view+json": {
       "model_id": "e51b8d82c7c445f0a755228761daa74b",
       "version_major": 2,
       "version_minor": 0
      },
      "text/plain": [
       "  0%|          | 0/30 [00:00<?, ?it/s]"
      ]
     },
     "metadata": {},
     "output_type": "display_data"
    },
    {
     "name": "stdout",
     "output_type": "stream",
     "text": [
      "--- 2.442162036895752 seconds ---\n",
      "MRR@100 = 0.0051\n",
      "factors: 20, iterations: 30, learning_rate: 1, regularization: 0.01, neg_prop: 30\n"
     ]
    },
    {
     "data": {
      "application/vnd.jupyter.widget-view+json": {
       "model_id": "0a6d52589d694c93b0eec0d30ce18586",
       "version_major": 2,
       "version_minor": 0
      },
      "text/plain": [
       "  0%|          | 0/30 [00:00<?, ?it/s]"
      ]
     },
     "metadata": {},
     "output_type": "display_data"
    },
    {
     "name": "stdout",
     "output_type": "stream",
     "text": [
      "--- 2.5732500553131104 seconds ---\n",
      "MRR@100 = 0.0060\n",
      "factors: 20, iterations: 30, learning_rate: 1, regularization: 0.01, neg_prop: 50\n"
     ]
    },
    {
     "data": {
      "application/vnd.jupyter.widget-view+json": {
       "model_id": "d57a33cae6a74c46b90e06a425fa76c6",
       "version_major": 2,
       "version_minor": 0
      },
      "text/plain": [
       "  0%|          | 0/30 [00:00<?, ?it/s]"
      ]
     },
     "metadata": {},
     "output_type": "display_data"
    },
    {
     "name": "stdout",
     "output_type": "stream",
     "text": [
      "--- 2.52447509765625 seconds ---\n",
      "MRR@100 = 0.0060\n",
      "factors: 20, iterations: 30, learning_rate: 1, regularization: 0.1, neg_prop: 5\n"
     ]
    },
    {
     "data": {
      "application/vnd.jupyter.widget-view+json": {
       "model_id": "0e8ebad4efa04597af36fcd33b5df160",
       "version_major": 2,
       "version_minor": 0
      },
      "text/plain": [
       "  0%|          | 0/30 [00:00<?, ?it/s]"
      ]
     },
     "metadata": {},
     "output_type": "display_data"
    },
    {
     "name": "stdout",
     "output_type": "stream",
     "text": [
      "--- 2.5567381381988525 seconds ---\n",
      "MRR@100 = 0.0032\n",
      "factors: 20, iterations: 30, learning_rate: 1, regularization: 0.1, neg_prop: 15\n"
     ]
    },
    {
     "data": {
      "application/vnd.jupyter.widget-view+json": {
       "model_id": "3170f5891da54f0abb092fc86b64cae9",
       "version_major": 2,
       "version_minor": 0
      },
      "text/plain": [
       "  0%|          | 0/30 [00:00<?, ?it/s]"
      ]
     },
     "metadata": {},
     "output_type": "display_data"
    },
    {
     "name": "stdout",
     "output_type": "stream",
     "text": [
      "--- 2.445431709289551 seconds ---\n",
      "MRR@100 = 0.0053\n",
      "factors: 20, iterations: 30, learning_rate: 1, regularization: 0.1, neg_prop: 30\n"
     ]
    },
    {
     "data": {
      "application/vnd.jupyter.widget-view+json": {
       "model_id": "7e477cdb81564f1fb1091747ed73ef70",
       "version_major": 2,
       "version_minor": 0
      },
      "text/plain": [
       "  0%|          | 0/30 [00:00<?, ?it/s]"
      ]
     },
     "metadata": {},
     "output_type": "display_data"
    },
    {
     "name": "stdout",
     "output_type": "stream",
     "text": [
      "--- 2.48099684715271 seconds ---\n",
      "MRR@100 = 0.0063\n",
      "factors: 20, iterations: 30, learning_rate: 1, regularization: 0.1, neg_prop: 50\n"
     ]
    },
    {
     "data": {
      "application/vnd.jupyter.widget-view+json": {
       "model_id": "1c3da9bf532e45b09d0430d077e6255b",
       "version_major": 2,
       "version_minor": 0
      },
      "text/plain": [
       "  0%|          | 0/30 [00:00<?, ?it/s]"
      ]
     },
     "metadata": {},
     "output_type": "display_data"
    },
    {
     "name": "stdout",
     "output_type": "stream",
     "text": [
      "--- 2.4613959789276123 seconds ---\n",
      "MRR@100 = 0.0063\n",
      "factors: 20, iterations: 30, learning_rate: 1, regularization: 1, neg_prop: 5\n"
     ]
    },
    {
     "data": {
      "application/vnd.jupyter.widget-view+json": {
       "model_id": "38267b598610426c93fe5e7a5ef7e21d",
       "version_major": 2,
       "version_minor": 0
      },
      "text/plain": [
       "  0%|          | 0/30 [00:00<?, ?it/s]"
      ]
     },
     "metadata": {},
     "output_type": "display_data"
    },
    {
     "name": "stdout",
     "output_type": "stream",
     "text": [
      "--- 2.52402925491333 seconds ---\n",
      "MRR@100 = 0.0051\n",
      "factors: 20, iterations: 30, learning_rate: 1, regularization: 1, neg_prop: 15\n"
     ]
    },
    {
     "data": {
      "application/vnd.jupyter.widget-view+json": {
       "model_id": "248598fada3a4d0f8b0cbd1325c14c4c",
       "version_major": 2,
       "version_minor": 0
      },
      "text/plain": [
       "  0%|          | 0/30 [00:00<?, ?it/s]"
      ]
     },
     "metadata": {},
     "output_type": "display_data"
    },
    {
     "name": "stdout",
     "output_type": "stream",
     "text": [
      "--- 2.5703182220458984 seconds ---\n",
      "MRR@100 = 0.0077\n",
      "factors: 20, iterations: 30, learning_rate: 1, regularization: 1, neg_prop: 30\n"
     ]
    },
    {
     "data": {
      "application/vnd.jupyter.widget-view+json": {
       "model_id": "38a53925615e4b40b04ea048423b706c",
       "version_major": 2,
       "version_minor": 0
      },
      "text/plain": [
       "  0%|          | 0/30 [00:00<?, ?it/s]"
      ]
     },
     "metadata": {},
     "output_type": "display_data"
    },
    {
     "name": "stdout",
     "output_type": "stream",
     "text": [
      "--- 2.668203115463257 seconds ---\n",
      "MRR@100 = 0.0060\n",
      "factors: 20, iterations: 30, learning_rate: 1, regularization: 1, neg_prop: 50\n"
     ]
    },
    {
     "data": {
      "application/vnd.jupyter.widget-view+json": {
       "model_id": "e64badade2f94553b5512378a8f46a8d",
       "version_major": 2,
       "version_minor": 0
      },
      "text/plain": [
       "  0%|          | 0/30 [00:00<?, ?it/s]"
      ]
     },
     "metadata": {},
     "output_type": "display_data"
    },
    {
     "name": "stdout",
     "output_type": "stream",
     "text": [
      "--- 2.5632169246673584 seconds ---\n",
      "MRR@100 = 0.0060\n",
      "factors: 20, iterations: 30, learning_rate: 1, regularization: 10, neg_prop: 5\n"
     ]
    },
    {
     "data": {
      "application/vnd.jupyter.widget-view+json": {
       "model_id": "5693272ec1f34e2c9d0fc65cd0f36afd",
       "version_major": 2,
       "version_minor": 0
      },
      "text/plain": [
       "  0%|          | 0/30 [00:00<?, ?it/s]"
      ]
     },
     "metadata": {},
     "output_type": "display_data"
    },
    {
     "name": "stdout",
     "output_type": "stream",
     "text": [
      "--- 2.528315305709839 seconds ---\n",
      "MRR@100 = 0.0025\n",
      "factors: 20, iterations: 30, learning_rate: 1, regularization: 10, neg_prop: 15\n"
     ]
    },
    {
     "data": {
      "application/vnd.jupyter.widget-view+json": {
       "model_id": "9c61842680434bc4a7bb1148ab6155a4",
       "version_major": 2,
       "version_minor": 0
      },
      "text/plain": [
       "  0%|          | 0/30 [00:00<?, ?it/s]"
      ]
     },
     "metadata": {},
     "output_type": "display_data"
    },
    {
     "name": "stdout",
     "output_type": "stream",
     "text": [
      "--- 2.5104000568389893 seconds ---\n",
      "MRR@100 = 0.0023\n",
      "factors: 20, iterations: 30, learning_rate: 1, regularization: 10, neg_prop: 30\n"
     ]
    },
    {
     "data": {
      "application/vnd.jupyter.widget-view+json": {
       "model_id": "4c865b50dc1d4546998df2e73d38e102",
       "version_major": 2,
       "version_minor": 0
      },
      "text/plain": [
       "  0%|          | 0/30 [00:00<?, ?it/s]"
      ]
     },
     "metadata": {},
     "output_type": "display_data"
    },
    {
     "name": "stdout",
     "output_type": "stream",
     "text": [
      "--- 2.5614399909973145 seconds ---\n",
      "MRR@100 = 0.0024\n",
      "factors: 20, iterations: 30, learning_rate: 1, regularization: 10, neg_prop: 50\n"
     ]
    },
    {
     "data": {
      "application/vnd.jupyter.widget-view+json": {
       "model_id": "73c13a58821b4f32b1bd682f24e9d054",
       "version_major": 2,
       "version_minor": 0
      },
      "text/plain": [
       "  0%|          | 0/30 [00:00<?, ?it/s]"
      ]
     },
     "metadata": {},
     "output_type": "display_data"
    },
    {
     "name": "stdout",
     "output_type": "stream",
     "text": [
      "--- 2.619141101837158 seconds ---\n",
      "MRR@100 = 0.0024\n",
      "factors: 20, iterations: 30, learning_rate: 1, regularization: 100, neg_prop: 5\n"
     ]
    },
    {
     "data": {
      "application/vnd.jupyter.widget-view+json": {
       "model_id": "68d8eb72d0ab4dbf976b0e9330f6c7e1",
       "version_major": 2,
       "version_minor": 0
      },
      "text/plain": [
       "  0%|          | 0/30 [00:00<?, ?it/s]"
      ]
     },
     "metadata": {},
     "output_type": "display_data"
    },
    {
     "name": "stdout",
     "output_type": "stream",
     "text": [
      "--- 2.4834089279174805 seconds ---\n",
      "MRR@100 = 0.0021\n",
      "factors: 20, iterations: 30, learning_rate: 1, regularization: 100, neg_prop: 15\n"
     ]
    },
    {
     "data": {
      "application/vnd.jupyter.widget-view+json": {
       "model_id": "8155e880a43b4b89ab50860d282765a6",
       "version_major": 2,
       "version_minor": 0
      },
      "text/plain": [
       "  0%|          | 0/30 [00:00<?, ?it/s]"
      ]
     },
     "metadata": {},
     "output_type": "display_data"
    },
    {
     "name": "stdout",
     "output_type": "stream",
     "text": [
      "--- 2.484165906906128 seconds ---\n",
      "MRR@100 = 0.0021\n",
      "factors: 20, iterations: 30, learning_rate: 1, regularization: 100, neg_prop: 30\n"
     ]
    },
    {
     "data": {
      "application/vnd.jupyter.widget-view+json": {
       "model_id": "d28418fb68764efc92e95c0e65475915",
       "version_major": 2,
       "version_minor": 0
      },
      "text/plain": [
       "  0%|          | 0/30 [00:00<?, ?it/s]"
      ]
     },
     "metadata": {},
     "output_type": "display_data"
    },
    {
     "name": "stdout",
     "output_type": "stream",
     "text": [
      "--- 2.8726561069488525 seconds ---\n",
      "MRR@100 = 0.0021\n",
      "factors: 20, iterations: 30, learning_rate: 1, regularization: 100, neg_prop: 50\n"
     ]
    },
    {
     "data": {
      "application/vnd.jupyter.widget-view+json": {
       "model_id": "b95b39e9d6f241fe9922ab2533b4736b",
       "version_major": 2,
       "version_minor": 0
      },
      "text/plain": [
       "  0%|          | 0/30 [00:00<?, ?it/s]"
      ]
     },
     "metadata": {},
     "output_type": "display_data"
    },
    {
     "name": "stdout",
     "output_type": "stream",
     "text": [
      "--- 2.53721284866333 seconds ---\n",
      "MRR@100 = 0.0021\n",
      "factors: 20, iterations: 30, learning_rate: 10, regularization: 0.001, neg_prop: 5\n"
     ]
    },
    {
     "data": {
      "application/vnd.jupyter.widget-view+json": {
       "model_id": "08524b0c01834651a33c0aebbc0666e3",
       "version_major": 2,
       "version_minor": 0
      },
      "text/plain": [
       "  0%|          | 0/30 [00:00<?, ?it/s]"
      ]
     },
     "metadata": {},
     "output_type": "display_data"
    },
    {
     "name": "stdout",
     "output_type": "stream",
     "text": [
      "--- 2.6482701301574707 seconds ---\n",
      "MRR@100 = 0.0000\n",
      "factors: 20, iterations: 30, learning_rate: 10, regularization: 0.001, neg_prop: 15\n"
     ]
    },
    {
     "data": {
      "application/vnd.jupyter.widget-view+json": {
       "model_id": "f77cc20e0a044be7ba78bc4e6eb9c8ed",
       "version_major": 2,
       "version_minor": 0
      },
      "text/plain": [
       "  0%|          | 0/30 [00:00<?, ?it/s]"
      ]
     },
     "metadata": {},
     "output_type": "display_data"
    },
    {
     "name": "stdout",
     "output_type": "stream",
     "text": [
      "--- 2.5687999725341797 seconds ---\n",
      "MRR@100 = 0.0021\n",
      "factors: 20, iterations: 30, learning_rate: 10, regularization: 0.001, neg_prop: 30\n"
     ]
    },
    {
     "data": {
      "application/vnd.jupyter.widget-view+json": {
       "model_id": "a49f5adfa7284a60af456a4221371bd5",
       "version_major": 2,
       "version_minor": 0
      },
      "text/plain": [
       "  0%|          | 0/30 [00:00<?, ?it/s]"
      ]
     },
     "metadata": {},
     "output_type": "display_data"
    },
    {
     "name": "stdout",
     "output_type": "stream",
     "text": [
      "--- 2.513772964477539 seconds ---\n",
      "MRR@100 = 0.0029\n",
      "factors: 20, iterations: 30, learning_rate: 10, regularization: 0.001, neg_prop: 50\n"
     ]
    },
    {
     "data": {
      "application/vnd.jupyter.widget-view+json": {
       "model_id": "e0adba5e9ba7496abd203112ad49bdb3",
       "version_major": 2,
       "version_minor": 0
      },
      "text/plain": [
       "  0%|          | 0/30 [00:00<?, ?it/s]"
      ]
     },
     "metadata": {},
     "output_type": "display_data"
    },
    {
     "name": "stdout",
     "output_type": "stream",
     "text": [
      "--- 2.5862839221954346 seconds ---\n",
      "MRR@100 = 0.0029\n",
      "factors: 20, iterations: 30, learning_rate: 10, regularization: 0.01, neg_prop: 5\n"
     ]
    },
    {
     "data": {
      "application/vnd.jupyter.widget-view+json": {
       "model_id": "abff149bba5b41fcadb8f6ef15135d4f",
       "version_major": 2,
       "version_minor": 0
      },
      "text/plain": [
       "  0%|          | 0/30 [00:00<?, ?it/s]"
      ]
     },
     "metadata": {},
     "output_type": "display_data"
    },
    {
     "name": "stdout",
     "output_type": "stream",
     "text": [
      "--- 2.7864928245544434 seconds ---\n",
      "MRR@100 = 0.0002\n",
      "factors: 20, iterations: 30, learning_rate: 10, regularization: 0.01, neg_prop: 15\n"
     ]
    },
    {
     "data": {
      "application/vnd.jupyter.widget-view+json": {
       "model_id": "47d8388cee464ebba0df239e03498935",
       "version_major": 2,
       "version_minor": 0
      },
      "text/plain": [
       "  0%|          | 0/30 [00:00<?, ?it/s]"
      ]
     },
     "metadata": {},
     "output_type": "display_data"
    },
    {
     "name": "stdout",
     "output_type": "stream",
     "text": [
      "--- 2.50764799118042 seconds ---\n",
      "MRR@100 = 0.0020\n",
      "factors: 20, iterations: 30, learning_rate: 10, regularization: 0.01, neg_prop: 30\n"
     ]
    },
    {
     "data": {
      "application/vnd.jupyter.widget-view+json": {
       "model_id": "c86f90f712014f19a5829ce959a3eb05",
       "version_major": 2,
       "version_minor": 0
      },
      "text/plain": [
       "  0%|          | 0/30 [00:00<?, ?it/s]"
      ]
     },
     "metadata": {},
     "output_type": "display_data"
    },
    {
     "name": "stdout",
     "output_type": "stream",
     "text": [
      "--- 2.6751768589019775 seconds ---\n",
      "MRR@100 = 0.0040\n",
      "factors: 20, iterations: 30, learning_rate: 10, regularization: 0.01, neg_prop: 50\n"
     ]
    },
    {
     "data": {
      "application/vnd.jupyter.widget-view+json": {
       "model_id": "9b43f4bde2034d2c96092523c198a91e",
       "version_major": 2,
       "version_minor": 0
      },
      "text/plain": [
       "  0%|          | 0/30 [00:00<?, ?it/s]"
      ]
     },
     "metadata": {},
     "output_type": "display_data"
    },
    {
     "name": "stdout",
     "output_type": "stream",
     "text": [
      "--- 2.8753559589385986 seconds ---\n",
      "MRR@100 = 0.0040\n",
      "factors: 20, iterations: 30, learning_rate: 10, regularization: 0.1, neg_prop: 5\n"
     ]
    },
    {
     "data": {
      "application/vnd.jupyter.widget-view+json": {
       "model_id": "db15f5c23c8746449382e83b14820a43",
       "version_major": 2,
       "version_minor": 0
      },
      "text/plain": [
       "  0%|          | 0/30 [00:00<?, ?it/s]"
      ]
     },
     "metadata": {},
     "output_type": "display_data"
    },
    {
     "name": "stdout",
     "output_type": "stream",
     "text": [
      "--- 2.614032745361328 seconds ---\n",
      "MRR@100 = 0.0010\n",
      "factors: 20, iterations: 30, learning_rate: 10, regularization: 0.1, neg_prop: 15\n"
     ]
    },
    {
     "data": {
      "application/vnd.jupyter.widget-view+json": {
       "model_id": "827011d3d1de470eabee71b60d78a8cd",
       "version_major": 2,
       "version_minor": 0
      },
      "text/plain": [
       "  0%|          | 0/30 [00:00<?, ?it/s]"
      ]
     },
     "metadata": {},
     "output_type": "display_data"
    },
    {
     "name": "stdout",
     "output_type": "stream",
     "text": [
      "--- 2.9693989753723145 seconds ---\n",
      "MRR@100 = 0.0020\n",
      "factors: 20, iterations: 30, learning_rate: 10, regularization: 0.1, neg_prop: 30\n"
     ]
    },
    {
     "data": {
      "application/vnd.jupyter.widget-view+json": {
       "model_id": "a1b0844e035d41bf93e103fa78c7d85e",
       "version_major": 2,
       "version_minor": 0
      },
      "text/plain": [
       "  0%|          | 0/30 [00:00<?, ?it/s]"
      ]
     },
     "metadata": {},
     "output_type": "display_data"
    },
    {
     "name": "stdout",
     "output_type": "stream",
     "text": [
      "--- 2.650531053543091 seconds ---\n",
      "MRR@100 = 0.0027\n",
      "factors: 20, iterations: 30, learning_rate: 10, regularization: 0.1, neg_prop: 50\n"
     ]
    },
    {
     "data": {
      "application/vnd.jupyter.widget-view+json": {
       "model_id": "f6d041bc8de44e0d95a0a1d61eb21d1b",
       "version_major": 2,
       "version_minor": 0
      },
      "text/plain": [
       "  0%|          | 0/30 [00:00<?, ?it/s]"
      ]
     },
     "metadata": {},
     "output_type": "display_data"
    },
    {
     "name": "stdout",
     "output_type": "stream",
     "text": [
      "--- 2.472243309020996 seconds ---\n",
      "MRR@100 = 0.0027\n",
      "factors: 20, iterations: 30, learning_rate: 10, regularization: 1, neg_prop: 5\n"
     ]
    },
    {
     "data": {
      "application/vnd.jupyter.widget-view+json": {
       "model_id": "f26865e88d41446ead040c2e54a2a73a",
       "version_major": 2,
       "version_minor": 0
      },
      "text/plain": [
       "  0%|          | 0/30 [00:00<?, ?it/s]"
      ]
     },
     "metadata": {},
     "output_type": "display_data"
    },
    {
     "name": "stdout",
     "output_type": "stream",
     "text": [
      "--- 2.6334898471832275 seconds ---\n",
      "MRR@100 = 0.0023\n",
      "factors: 20, iterations: 30, learning_rate: 10, regularization: 1, neg_prop: 15\n"
     ]
    },
    {
     "data": {
      "application/vnd.jupyter.widget-view+json": {
       "model_id": "2e24c983cb7247e797eeb358620d19b0",
       "version_major": 2,
       "version_minor": 0
      },
      "text/plain": [
       "  0%|          | 0/30 [00:00<?, ?it/s]"
      ]
     },
     "metadata": {},
     "output_type": "display_data"
    },
    {
     "name": "stdout",
     "output_type": "stream",
     "text": [
      "--- 2.416011095046997 seconds ---\n",
      "MRR@100 = 0.0031\n",
      "factors: 20, iterations: 30, learning_rate: 10, regularization: 1, neg_prop: 30\n"
     ]
    },
    {
     "data": {
      "application/vnd.jupyter.widget-view+json": {
       "model_id": "be3cdbcc705643aeadb3b63c39f56500",
       "version_major": 2,
       "version_minor": 0
      },
      "text/plain": [
       "  0%|          | 0/30 [00:00<?, ?it/s]"
      ]
     },
     "metadata": {},
     "output_type": "display_data"
    },
    {
     "name": "stdout",
     "output_type": "stream",
     "text": [
      "--- 2.6272356510162354 seconds ---\n",
      "MRR@100 = 0.0029\n",
      "factors: 20, iterations: 30, learning_rate: 10, regularization: 1, neg_prop: 50\n"
     ]
    },
    {
     "data": {
      "application/vnd.jupyter.widget-view+json": {
       "model_id": "d2b8c55907754ef2ac83b7da407390c0",
       "version_major": 2,
       "version_minor": 0
      },
      "text/plain": [
       "  0%|          | 0/30 [00:00<?, ?it/s]"
      ]
     },
     "metadata": {},
     "output_type": "display_data"
    },
    {
     "name": "stdout",
     "output_type": "stream",
     "text": [
      "--- 2.508920907974243 seconds ---\n",
      "MRR@100 = 0.0029\n",
      "factors: 20, iterations: 30, learning_rate: 10, regularization: 10, neg_prop: 5\n"
     ]
    },
    {
     "data": {
      "application/vnd.jupyter.widget-view+json": {
       "model_id": "0ec45963b1fc46b8809518231b976ef3",
       "version_major": 2,
       "version_minor": 0
      },
      "text/plain": [
       "  0%|          | 0/30 [00:00<?, ?it/s]"
      ]
     },
     "metadata": {},
     "output_type": "display_data"
    },
    {
     "name": "stdout",
     "output_type": "stream",
     "text": [
      "--- 2.7202067375183105 seconds ---\n",
      "MRR@100 = 0.0027\n",
      "factors: 20, iterations: 30, learning_rate: 10, regularization: 10, neg_prop: 15\n"
     ]
    },
    {
     "data": {
      "application/vnd.jupyter.widget-view+json": {
       "model_id": "8779a01089974e189c08d09bfc848fc2",
       "version_major": 2,
       "version_minor": 0
      },
      "text/plain": [
       "  0%|          | 0/30 [00:00<?, ?it/s]"
      ]
     },
     "metadata": {},
     "output_type": "display_data"
    },
    {
     "name": "stdout",
     "output_type": "stream",
     "text": [
      "--- 2.6436150074005127 seconds ---\n",
      "MRR@100 = 0.0015\n",
      "factors: 20, iterations: 30, learning_rate: 10, regularization: 10, neg_prop: 30\n"
     ]
    },
    {
     "data": {
      "application/vnd.jupyter.widget-view+json": {
       "model_id": "aaaebdc9c98c4ed6815b9df173873ed2",
       "version_major": 2,
       "version_minor": 0
      },
      "text/plain": [
       "  0%|          | 0/30 [00:00<?, ?it/s]"
      ]
     },
     "metadata": {},
     "output_type": "display_data"
    },
    {
     "name": "stdout",
     "output_type": "stream",
     "text": [
      "--- 2.6760480403900146 seconds ---\n",
      "MRR@100 = 0.0025\n",
      "factors: 20, iterations: 30, learning_rate: 10, regularization: 10, neg_prop: 50\n"
     ]
    },
    {
     "data": {
      "application/vnd.jupyter.widget-view+json": {
       "model_id": "78baeba3f0b548539804cdd04acf7405",
       "version_major": 2,
       "version_minor": 0
      },
      "text/plain": [
       "  0%|          | 0/30 [00:00<?, ?it/s]"
      ]
     },
     "metadata": {},
     "output_type": "display_data"
    },
    {
     "name": "stdout",
     "output_type": "stream",
     "text": [
      "--- 2.5480029582977295 seconds ---\n",
      "MRR@100 = 0.0025\n",
      "factors: 20, iterations: 30, learning_rate: 10, regularization: 100, neg_prop: 5\n"
     ]
    },
    {
     "data": {
      "application/vnd.jupyter.widget-view+json": {
       "model_id": "1f40faf25fa84c1ebe29b51c6b958fcf",
       "version_major": 2,
       "version_minor": 0
      },
      "text/plain": [
       "  0%|          | 0/30 [00:00<?, ?it/s]"
      ]
     },
     "metadata": {},
     "output_type": "display_data"
    },
    {
     "name": "stdout",
     "output_type": "stream",
     "text": [
      "--- 2.736204147338867 seconds ---\n",
      "MRR@100 = 0.0021\n",
      "factors: 20, iterations: 30, learning_rate: 10, regularization: 100, neg_prop: 15\n"
     ]
    },
    {
     "data": {
      "application/vnd.jupyter.widget-view+json": {
       "model_id": "81ba0264507d431a905198dd7e917e7d",
       "version_major": 2,
       "version_minor": 0
      },
      "text/plain": [
       "  0%|          | 0/30 [00:00<?, ?it/s]"
      ]
     },
     "metadata": {},
     "output_type": "display_data"
    },
    {
     "name": "stdout",
     "output_type": "stream",
     "text": [
      "--- 2.496767044067383 seconds ---\n",
      "MRR@100 = 0.0021\n",
      "factors: 20, iterations: 30, learning_rate: 10, regularization: 100, neg_prop: 30\n"
     ]
    },
    {
     "data": {
      "application/vnd.jupyter.widget-view+json": {
       "model_id": "bcc3ddf265b64bd992ef8e1a38a9d950",
       "version_major": 2,
       "version_minor": 0
      },
      "text/plain": [
       "  0%|          | 0/30 [00:00<?, ?it/s]"
      ]
     },
     "metadata": {},
     "output_type": "display_data"
    },
    {
     "name": "stdout",
     "output_type": "stream",
     "text": [
      "--- 2.5501909255981445 seconds ---\n",
      "MRR@100 = 0.0021\n",
      "factors: 20, iterations: 30, learning_rate: 10, regularization: 100, neg_prop: 50\n"
     ]
    },
    {
     "data": {
      "application/vnd.jupyter.widget-view+json": {
       "model_id": "2f7ca851feb04023b47c30ea850b5840",
       "version_major": 2,
       "version_minor": 0
      },
      "text/plain": [
       "  0%|          | 0/30 [00:00<?, ?it/s]"
      ]
     },
     "metadata": {},
     "output_type": "display_data"
    },
    {
     "name": "stdout",
     "output_type": "stream",
     "text": [
      "--- 2.695345163345337 seconds ---\n",
      "MRR@100 = 0.0021\n",
      "factors: 20, iterations: 30, learning_rate: 100, regularization: 0.001, neg_prop: 5\n"
     ]
    },
    {
     "data": {
      "application/vnd.jupyter.widget-view+json": {
       "model_id": "d36086bb50ec4fa2a7a038ed805b8243",
       "version_major": 2,
       "version_minor": 0
      },
      "text/plain": [
       "  0%|          | 0/30 [00:00<?, ?it/s]"
      ]
     },
     "metadata": {},
     "output_type": "display_data"
    },
    {
     "name": "stdout",
     "output_type": "stream",
     "text": [
      "--- 2.6402571201324463 seconds ---\n",
      "MRR@100 = 0.0000\n",
      "factors: 20, iterations: 30, learning_rate: 100, regularization: 0.001, neg_prop: 15\n"
     ]
    },
    {
     "data": {
      "application/vnd.jupyter.widget-view+json": {
       "model_id": "f52c7ed6cecb416fb7839c3f92d2e2a6",
       "version_major": 2,
       "version_minor": 0
      },
      "text/plain": [
       "  0%|          | 0/30 [00:00<?, ?it/s]"
      ]
     },
     "metadata": {},
     "output_type": "display_data"
    },
    {
     "name": "stdout",
     "output_type": "stream",
     "text": [
      "--- 2.6626429557800293 seconds ---\n",
      "MRR@100 = 0.0012\n",
      "factors: 20, iterations: 30, learning_rate: 100, regularization: 0.001, neg_prop: 30\n"
     ]
    },
    {
     "data": {
      "application/vnd.jupyter.widget-view+json": {
       "model_id": "420192301eeb434f81fdf9b00e2f19c4",
       "version_major": 2,
       "version_minor": 0
      },
      "text/plain": [
       "  0%|          | 0/30 [00:00<?, ?it/s]"
      ]
     },
     "metadata": {},
     "output_type": "display_data"
    },
    {
     "name": "stdout",
     "output_type": "stream",
     "text": [
      "--- 2.692866086959839 seconds ---\n",
      "MRR@100 = 0.0037\n",
      "factors: 20, iterations: 30, learning_rate: 100, regularization: 0.001, neg_prop: 50\n"
     ]
    },
    {
     "data": {
      "application/vnd.jupyter.widget-view+json": {
       "model_id": "c4e02132f0a74d17ab17523311f988eb",
       "version_major": 2,
       "version_minor": 0
      },
      "text/plain": [
       "  0%|          | 0/30 [00:00<?, ?it/s]"
      ]
     },
     "metadata": {},
     "output_type": "display_data"
    },
    {
     "name": "stdout",
     "output_type": "stream",
     "text": [
      "--- 2.6830520629882812 seconds ---\n",
      "MRR@100 = 0.0037\n",
      "factors: 20, iterations: 30, learning_rate: 100, regularization: 0.01, neg_prop: 5\n"
     ]
    },
    {
     "data": {
      "application/vnd.jupyter.widget-view+json": {
       "model_id": "58a2917367944e629b950162fdfd1d43",
       "version_major": 2,
       "version_minor": 0
      },
      "text/plain": [
       "  0%|          | 0/30 [00:00<?, ?it/s]"
      ]
     },
     "metadata": {},
     "output_type": "display_data"
    },
    {
     "name": "stdout",
     "output_type": "stream",
     "text": [
      "--- 2.581908941268921 seconds ---\n",
      "MRR@100 = 0.0000\n",
      "factors: 20, iterations: 30, learning_rate: 100, regularization: 0.01, neg_prop: 15\n"
     ]
    },
    {
     "data": {
      "application/vnd.jupyter.widget-view+json": {
       "model_id": "7f170ad8c52e446b9430a676024536a6",
       "version_major": 2,
       "version_minor": 0
      },
      "text/plain": [
       "  0%|          | 0/30 [00:00<?, ?it/s]"
      ]
     },
     "metadata": {},
     "output_type": "display_data"
    },
    {
     "name": "stdout",
     "output_type": "stream",
     "text": [
      "--- 2.628844976425171 seconds ---\n",
      "MRR@100 = 0.0008\n",
      "factors: 20, iterations: 30, learning_rate: 100, regularization: 0.01, neg_prop: 30\n"
     ]
    },
    {
     "data": {
      "application/vnd.jupyter.widget-view+json": {
       "model_id": "cdd0802de1144caf80ac0e4f813fee10",
       "version_major": 2,
       "version_minor": 0
      },
      "text/plain": [
       "  0%|          | 0/30 [00:00<?, ?it/s]"
      ]
     },
     "metadata": {},
     "output_type": "display_data"
    },
    {
     "name": "stdout",
     "output_type": "stream",
     "text": [
      "--- 2.7443699836730957 seconds ---\n",
      "MRR@100 = 0.0027\n",
      "factors: 20, iterations: 30, learning_rate: 100, regularization: 0.01, neg_prop: 50\n"
     ]
    },
    {
     "data": {
      "application/vnd.jupyter.widget-view+json": {
       "model_id": "03dcab5f15f94a06a832d1077e0a2eb7",
       "version_major": 2,
       "version_minor": 0
      },
      "text/plain": [
       "  0%|          | 0/30 [00:00<?, ?it/s]"
      ]
     },
     "metadata": {},
     "output_type": "display_data"
    },
    {
     "name": "stdout",
     "output_type": "stream",
     "text": [
      "--- 2.676976203918457 seconds ---\n",
      "MRR@100 = 0.0027\n",
      "factors: 20, iterations: 30, learning_rate: 100, regularization: 0.1, neg_prop: 5\n"
     ]
    },
    {
     "data": {
      "application/vnd.jupyter.widget-view+json": {
       "model_id": "7eeffa9f72014269be97398c31cff825",
       "version_major": 2,
       "version_minor": 0
      },
      "text/plain": [
       "  0%|          | 0/30 [00:00<?, ?it/s]"
      ]
     },
     "metadata": {},
     "output_type": "display_data"
    },
    {
     "name": "stdout",
     "output_type": "stream",
     "text": [
      "--- 2.564643144607544 seconds ---\n",
      "MRR@100 = 0.0000\n",
      "factors: 20, iterations: 30, learning_rate: 100, regularization: 0.1, neg_prop: 15\n"
     ]
    },
    {
     "data": {
      "application/vnd.jupyter.widget-view+json": {
       "model_id": "9ef82b9006b34c7ebc7e949eda27bba3",
       "version_major": 2,
       "version_minor": 0
      },
      "text/plain": [
       "  0%|          | 0/30 [00:00<?, ?it/s]"
      ]
     },
     "metadata": {},
     "output_type": "display_data"
    },
    {
     "name": "stdout",
     "output_type": "stream",
     "text": [
      "--- 2.7476818561553955 seconds ---\n",
      "MRR@100 = 0.0003\n",
      "factors: 20, iterations: 30, learning_rate: 100, regularization: 0.1, neg_prop: 30\n"
     ]
    },
    {
     "data": {
      "application/vnd.jupyter.widget-view+json": {
       "model_id": "cef278999a644d6f8f6c90e76ff0d60a",
       "version_major": 2,
       "version_minor": 0
      },
      "text/plain": [
       "  0%|          | 0/30 [00:00<?, ?it/s]"
      ]
     },
     "metadata": {},
     "output_type": "display_data"
    },
    {
     "name": "stdout",
     "output_type": "stream",
     "text": [
      "--- 2.5414090156555176 seconds ---\n",
      "MRR@100 = 0.0016\n",
      "factors: 20, iterations: 30, learning_rate: 100, regularization: 0.1, neg_prop: 50\n"
     ]
    },
    {
     "data": {
      "application/vnd.jupyter.widget-view+json": {
       "model_id": "939804d98add4589abae6125d5072bf0",
       "version_major": 2,
       "version_minor": 0
      },
      "text/plain": [
       "  0%|          | 0/30 [00:00<?, ?it/s]"
      ]
     },
     "metadata": {},
     "output_type": "display_data"
    },
    {
     "name": "stdout",
     "output_type": "stream",
     "text": [
      "--- 2.5649921894073486 seconds ---\n",
      "MRR@100 = 0.0016\n",
      "factors: 20, iterations: 30, learning_rate: 100, regularization: 1, neg_prop: 5\n"
     ]
    },
    {
     "data": {
      "application/vnd.jupyter.widget-view+json": {
       "model_id": "374f592ab9e845d7b4949bc46ee24874",
       "version_major": 2,
       "version_minor": 0
      },
      "text/plain": [
       "  0%|          | 0/30 [00:00<?, ?it/s]"
      ]
     },
     "metadata": {},
     "output_type": "display_data"
    },
    {
     "name": "stdout",
     "output_type": "stream",
     "text": [
      "--- 2.581818103790283 seconds ---\n",
      "MRR@100 = 0.0013\n",
      "factors: 20, iterations: 30, learning_rate: 100, regularization: 1, neg_prop: 15\n"
     ]
    },
    {
     "data": {
      "application/vnd.jupyter.widget-view+json": {
       "model_id": "7c26dcefe4934aeeb3be7c80105c1eab",
       "version_major": 2,
       "version_minor": 0
      },
      "text/plain": [
       "  0%|          | 0/30 [00:00<?, ?it/s]"
      ]
     },
     "metadata": {},
     "output_type": "display_data"
    },
    {
     "name": "stdout",
     "output_type": "stream",
     "text": [
      "--- 2.5255401134490967 seconds ---\n",
      "MRR@100 = 0.0035\n",
      "factors: 20, iterations: 30, learning_rate: 100, regularization: 1, neg_prop: 30\n"
     ]
    },
    {
     "data": {
      "application/vnd.jupyter.widget-view+json": {
       "model_id": "cbfe0119ccad48439578af3853e29b48",
       "version_major": 2,
       "version_minor": 0
      },
      "text/plain": [
       "  0%|          | 0/30 [00:00<?, ?it/s]"
      ]
     },
     "metadata": {},
     "output_type": "display_data"
    },
    {
     "name": "stdout",
     "output_type": "stream",
     "text": [
      "--- 2.6014277935028076 seconds ---\n",
      "MRR@100 = 0.0037\n",
      "factors: 20, iterations: 30, learning_rate: 100, regularization: 1, neg_prop: 50\n"
     ]
    },
    {
     "data": {
      "application/vnd.jupyter.widget-view+json": {
       "model_id": "1fc19657ee55457d8814ea00830222fe",
       "version_major": 2,
       "version_minor": 0
      },
      "text/plain": [
       "  0%|          | 0/30 [00:00<?, ?it/s]"
      ]
     },
     "metadata": {},
     "output_type": "display_data"
    },
    {
     "name": "stdout",
     "output_type": "stream",
     "text": [
      "--- 2.649336814880371 seconds ---\n",
      "MRR@100 = 0.0037\n",
      "factors: 20, iterations: 30, learning_rate: 100, regularization: 10, neg_prop: 5\n"
     ]
    },
    {
     "data": {
      "application/vnd.jupyter.widget-view+json": {
       "model_id": "ba06e465160944ab9736b142c940635c",
       "version_major": 2,
       "version_minor": 0
      },
      "text/plain": [
       "  0%|          | 0/30 [00:00<?, ?it/s]"
      ]
     },
     "metadata": {},
     "output_type": "display_data"
    },
    {
     "name": "stdout",
     "output_type": "stream",
     "text": [
      "--- 2.5553030967712402 seconds ---\n",
      "MRR@100 = 0.0044\n",
      "factors: 20, iterations: 30, learning_rate: 100, regularization: 10, neg_prop: 15\n"
     ]
    },
    {
     "data": {
      "application/vnd.jupyter.widget-view+json": {
       "model_id": "cf93de3f7cb14d8ca12ddbd6557a31f9",
       "version_major": 2,
       "version_minor": 0
      },
      "text/plain": [
       "  0%|          | 0/30 [00:00<?, ?it/s]"
      ]
     },
     "metadata": {},
     "output_type": "display_data"
    },
    {
     "name": "stdout",
     "output_type": "stream",
     "text": [
      "--- 2.8272762298583984 seconds ---\n",
      "MRR@100 = 0.0033\n",
      "factors: 20, iterations: 30, learning_rate: 100, regularization: 10, neg_prop: 30\n"
     ]
    },
    {
     "data": {
      "application/vnd.jupyter.widget-view+json": {
       "model_id": "35d7f59ad24c44db89aa30b45662d347",
       "version_major": 2,
       "version_minor": 0
      },
      "text/plain": [
       "  0%|          | 0/30 [00:00<?, ?it/s]"
      ]
     },
     "metadata": {},
     "output_type": "display_data"
    },
    {
     "name": "stdout",
     "output_type": "stream",
     "text": [
      "--- 2.6678738594055176 seconds ---\n",
      "MRR@100 = 0.0020\n",
      "factors: 20, iterations: 30, learning_rate: 100, regularization: 10, neg_prop: 50\n"
     ]
    },
    {
     "data": {
      "application/vnd.jupyter.widget-view+json": {
       "model_id": "8c2c13c003a7420c89a4d7f83156060b",
       "version_major": 2,
       "version_minor": 0
      },
      "text/plain": [
       "  0%|          | 0/30 [00:00<?, ?it/s]"
      ]
     },
     "metadata": {},
     "output_type": "display_data"
    },
    {
     "name": "stdout",
     "output_type": "stream",
     "text": [
      "--- 2.5702521800994873 seconds ---\n",
      "MRR@100 = 0.0020\n",
      "factors: 20, iterations: 30, learning_rate: 100, regularization: 100, neg_prop: 5\n"
     ]
    },
    {
     "data": {
      "application/vnd.jupyter.widget-view+json": {
       "model_id": "15a3c68492994e1f96c085807bfc01f2",
       "version_major": 2,
       "version_minor": 0
      },
      "text/plain": [
       "  0%|          | 0/30 [00:00<?, ?it/s]"
      ]
     },
     "metadata": {},
     "output_type": "display_data"
    },
    {
     "name": "stdout",
     "output_type": "stream",
     "text": [
      "--- 2.5330209732055664 seconds ---\n",
      "MRR@100 = 0.0022\n",
      "factors: 20, iterations: 30, learning_rate: 100, regularization: 100, neg_prop: 15\n"
     ]
    },
    {
     "data": {
      "application/vnd.jupyter.widget-view+json": {
       "model_id": "2f161d1fcb064144b634f33287c271aa",
       "version_major": 2,
       "version_minor": 0
      },
      "text/plain": [
       "  0%|          | 0/30 [00:00<?, ?it/s]"
      ]
     },
     "metadata": {},
     "output_type": "display_data"
    },
    {
     "name": "stdout",
     "output_type": "stream",
     "text": [
      "--- 2.669779062271118 seconds ---\n",
      "MRR@100 = 0.0021\n",
      "factors: 20, iterations: 30, learning_rate: 100, regularization: 100, neg_prop: 30\n"
     ]
    },
    {
     "data": {
      "application/vnd.jupyter.widget-view+json": {
       "model_id": "11886f8dd59b433b8713b5533a48648f",
       "version_major": 2,
       "version_minor": 0
      },
      "text/plain": [
       "  0%|          | 0/30 [00:00<?, ?it/s]"
      ]
     },
     "metadata": {},
     "output_type": "display_data"
    },
    {
     "name": "stdout",
     "output_type": "stream",
     "text": [
      "--- 2.5908191204071045 seconds ---\n",
      "MRR@100 = 0.0022\n",
      "factors: 20, iterations: 30, learning_rate: 100, regularization: 100, neg_prop: 50\n"
     ]
    },
    {
     "data": {
      "application/vnd.jupyter.widget-view+json": {
       "model_id": "c10dbfc4840d430fa11fafe3a9ada524",
       "version_major": 2,
       "version_minor": 0
      },
      "text/plain": [
       "  0%|          | 0/30 [00:00<?, ?it/s]"
      ]
     },
     "metadata": {},
     "output_type": "display_data"
    },
    {
     "name": "stdout",
     "output_type": "stream",
     "text": [
      "--- 2.556886911392212 seconds ---\n",
      "MRR@100 = 0.0022\n",
      "factors: 20, iterations: 50, learning_rate: 1, regularization: 0.001, neg_prop: 5\n"
     ]
    },
    {
     "data": {
      "application/vnd.jupyter.widget-view+json": {
       "model_id": "778f635e1a744288add6a37577c114a3",
       "version_major": 2,
       "version_minor": 0
      },
      "text/plain": [
       "  0%|          | 0/50 [00:00<?, ?it/s]"
      ]
     },
     "metadata": {},
     "output_type": "display_data"
    },
    {
     "name": "stdout",
     "output_type": "stream",
     "text": [
      "--- 2.641151189804077 seconds ---\n",
      "MRR@100 = 0.0040\n",
      "factors: 20, iterations: 50, learning_rate: 1, regularization: 0.001, neg_prop: 15\n"
     ]
    },
    {
     "data": {
      "application/vnd.jupyter.widget-view+json": {
       "model_id": "48103f1a443546a8a60512443491e4ff",
       "version_major": 2,
       "version_minor": 0
      },
      "text/plain": [
       "  0%|          | 0/50 [00:00<?, ?it/s]"
      ]
     },
     "metadata": {},
     "output_type": "display_data"
    },
    {
     "name": "stdout",
     "output_type": "stream",
     "text": [
      "--- 2.5061519145965576 seconds ---\n",
      "MRR@100 = 0.0064\n",
      "factors: 20, iterations: 50, learning_rate: 1, regularization: 0.001, neg_prop: 30\n"
     ]
    },
    {
     "data": {
      "application/vnd.jupyter.widget-view+json": {
       "model_id": "638fb616d4274d23baf0a98593889ffb",
       "version_major": 2,
       "version_minor": 0
      },
      "text/plain": [
       "  0%|          | 0/50 [00:00<?, ?it/s]"
      ]
     },
     "metadata": {},
     "output_type": "display_data"
    },
    {
     "name": "stdout",
     "output_type": "stream",
     "text": [
      "--- 2.376277208328247 seconds ---\n",
      "MRR@100 = 0.0066\n",
      "factors: 20, iterations: 50, learning_rate: 1, regularization: 0.001, neg_prop: 50\n"
     ]
    },
    {
     "data": {
      "application/vnd.jupyter.widget-view+json": {
       "model_id": "99f91a2a1e4d4af9ae26a55168342a84",
       "version_major": 2,
       "version_minor": 0
      },
      "text/plain": [
       "  0%|          | 0/50 [00:00<?, ?it/s]"
      ]
     },
     "metadata": {},
     "output_type": "display_data"
    },
    {
     "name": "stdout",
     "output_type": "stream",
     "text": [
      "--- 2.437264919281006 seconds ---\n",
      "MRR@100 = 0.0066\n",
      "factors: 20, iterations: 50, learning_rate: 1, regularization: 0.01, neg_prop: 5\n"
     ]
    },
    {
     "data": {
      "application/vnd.jupyter.widget-view+json": {
       "model_id": "ad0911bd95fc4d1b8aa92df4c4ce408d",
       "version_major": 2,
       "version_minor": 0
      },
      "text/plain": [
       "  0%|          | 0/50 [00:00<?, ?it/s]"
      ]
     },
     "metadata": {},
     "output_type": "display_data"
    },
    {
     "name": "stdout",
     "output_type": "stream",
     "text": [
      "--- 3.602259874343872 seconds ---\n",
      "MRR@100 = 0.0042\n",
      "factors: 20, iterations: 50, learning_rate: 1, regularization: 0.01, neg_prop: 15\n"
     ]
    },
    {
     "data": {
      "application/vnd.jupyter.widget-view+json": {
       "model_id": "1a0b2bd6fbf94a7092a7343337a0bee6",
       "version_major": 2,
       "version_minor": 0
      },
      "text/plain": [
       "  0%|          | 0/50 [00:00<?, ?it/s]"
      ]
     },
     "metadata": {},
     "output_type": "display_data"
    },
    {
     "name": "stdout",
     "output_type": "stream",
     "text": [
      "--- 2.718388795852661 seconds ---\n",
      "MRR@100 = 0.0060\n",
      "factors: 20, iterations: 50, learning_rate: 1, regularization: 0.01, neg_prop: 30\n"
     ]
    },
    {
     "data": {
      "application/vnd.jupyter.widget-view+json": {
       "model_id": "0616abbcce374500bb0b4d8a9e938d6c",
       "version_major": 2,
       "version_minor": 0
      },
      "text/plain": [
       "  0%|          | 0/50 [00:00<?, ?it/s]"
      ]
     },
     "metadata": {},
     "output_type": "display_data"
    },
    {
     "name": "stdout",
     "output_type": "stream",
     "text": [
      "--- 2.597872734069824 seconds ---\n",
      "MRR@100 = 0.0071\n",
      "factors: 20, iterations: 50, learning_rate: 1, regularization: 0.01, neg_prop: 50\n"
     ]
    },
    {
     "data": {
      "application/vnd.jupyter.widget-view+json": {
       "model_id": "451e5f9c67cf4dc58f42b5f56560ac18",
       "version_major": 2,
       "version_minor": 0
      },
      "text/plain": [
       "  0%|          | 0/50 [00:00<?, ?it/s]"
      ]
     },
     "metadata": {},
     "output_type": "display_data"
    },
    {
     "name": "stdout",
     "output_type": "stream",
     "text": [
      "--- 2.302945137023926 seconds ---\n",
      "MRR@100 = 0.0071\n",
      "factors: 20, iterations: 50, learning_rate: 1, regularization: 0.1, neg_prop: 5\n"
     ]
    },
    {
     "data": {
      "application/vnd.jupyter.widget-view+json": {
       "model_id": "87f3e431b01a47ff8cbd869c33c7b954",
       "version_major": 2,
       "version_minor": 0
      },
      "text/plain": [
       "  0%|          | 0/50 [00:00<?, ?it/s]"
      ]
     },
     "metadata": {},
     "output_type": "display_data"
    },
    {
     "name": "stdout",
     "output_type": "stream",
     "text": [
      "--- 2.4486756324768066 seconds ---\n",
      "MRR@100 = 0.0046\n",
      "factors: 20, iterations: 50, learning_rate: 1, regularization: 0.1, neg_prop: 15\n"
     ]
    },
    {
     "data": {
      "application/vnd.jupyter.widget-view+json": {
       "model_id": "be841aa802934b438c320defbcb9eefa",
       "version_major": 2,
       "version_minor": 0
      },
      "text/plain": [
       "  0%|          | 0/50 [00:00<?, ?it/s]"
      ]
     },
     "metadata": {},
     "output_type": "display_data"
    },
    {
     "name": "stdout",
     "output_type": "stream",
     "text": [
      "--- 2.4999358654022217 seconds ---\n",
      "MRR@100 = 0.0068\n",
      "factors: 20, iterations: 50, learning_rate: 1, regularization: 0.1, neg_prop: 30\n"
     ]
    },
    {
     "data": {
      "application/vnd.jupyter.widget-view+json": {
       "model_id": "53f92000a9804af5b7b4493b31111ed5",
       "version_major": 2,
       "version_minor": 0
      },
      "text/plain": [
       "  0%|          | 0/50 [00:00<?, ?it/s]"
      ]
     },
     "metadata": {},
     "output_type": "display_data"
    },
    {
     "name": "stdout",
     "output_type": "stream",
     "text": [
      "--- 2.4624109268188477 seconds ---\n",
      "MRR@100 = 0.0064\n",
      "factors: 20, iterations: 50, learning_rate: 1, regularization: 0.1, neg_prop: 50\n"
     ]
    },
    {
     "data": {
      "application/vnd.jupyter.widget-view+json": {
       "model_id": "029d756ea81448c3abf0fcb0fa9e2a23",
       "version_major": 2,
       "version_minor": 0
      },
      "text/plain": [
       "  0%|          | 0/50 [00:00<?, ?it/s]"
      ]
     },
     "metadata": {},
     "output_type": "display_data"
    },
    {
     "name": "stdout",
     "output_type": "stream",
     "text": [
      "--- 2.4500210285186768 seconds ---\n",
      "MRR@100 = 0.0064\n",
      "factors: 20, iterations: 50, learning_rate: 1, regularization: 1, neg_prop: 5\n"
     ]
    },
    {
     "data": {
      "application/vnd.jupyter.widget-view+json": {
       "model_id": "070b885d2202465bb287168ece337cb2",
       "version_major": 2,
       "version_minor": 0
      },
      "text/plain": [
       "  0%|          | 0/50 [00:00<?, ?it/s]"
      ]
     },
     "metadata": {},
     "output_type": "display_data"
    },
    {
     "name": "stdout",
     "output_type": "stream",
     "text": [
      "--- 4.333245754241943 seconds ---\n",
      "MRR@100 = 0.0065\n",
      "factors: 20, iterations: 50, learning_rate: 1, regularization: 1, neg_prop: 15\n"
     ]
    },
    {
     "data": {
      "application/vnd.jupyter.widget-view+json": {
       "model_id": "017e4885e5db45139056a074bc16c980",
       "version_major": 2,
       "version_minor": 0
      },
      "text/plain": [
       "  0%|          | 0/50 [00:00<?, ?it/s]"
      ]
     },
     "metadata": {},
     "output_type": "display_data"
    },
    {
     "name": "stdout",
     "output_type": "stream",
     "text": [
      "--- 3.492856025695801 seconds ---\n",
      "MRR@100 = 0.0078\n",
      "factors: 20, iterations: 50, learning_rate: 1, regularization: 1, neg_prop: 30\n"
     ]
    },
    {
     "data": {
      "application/vnd.jupyter.widget-view+json": {
       "model_id": "7f7a48d0c06e400e857e44bf5d31cf13",
       "version_major": 2,
       "version_minor": 0
      },
      "text/plain": [
       "  0%|          | 0/50 [00:00<?, ?it/s]"
      ]
     },
     "metadata": {},
     "output_type": "display_data"
    },
    {
     "name": "stdout",
     "output_type": "stream",
     "text": [
      "--- 3.2299399375915527 seconds ---\n",
      "MRR@100 = 0.0069\n",
      "factors: 20, iterations: 50, learning_rate: 1, regularization: 1, neg_prop: 50\n"
     ]
    },
    {
     "data": {
      "application/vnd.jupyter.widget-view+json": {
       "model_id": "e35ac22da834489a8b672cfba21c29b2",
       "version_major": 2,
       "version_minor": 0
      },
      "text/plain": [
       "  0%|          | 0/50 [00:00<?, ?it/s]"
      ]
     },
     "metadata": {},
     "output_type": "display_data"
    },
    {
     "name": "stdout",
     "output_type": "stream",
     "text": [
      "--- 3.2140281200408936 seconds ---\n",
      "MRR@100 = 0.0069\n",
      "factors: 20, iterations: 50, learning_rate: 1, regularization: 10, neg_prop: 5\n"
     ]
    },
    {
     "data": {
      "application/vnd.jupyter.widget-view+json": {
       "model_id": "388dd492c6fa42f6b32bf576b2a91186",
       "version_major": 2,
       "version_minor": 0
      },
      "text/plain": [
       "  0%|          | 0/50 [00:00<?, ?it/s]"
      ]
     },
     "metadata": {},
     "output_type": "display_data"
    },
    {
     "name": "stdout",
     "output_type": "stream",
     "text": [
      "--- 3.1878461837768555 seconds ---\n",
      "MRR@100 = 0.0025\n",
      "factors: 20, iterations: 50, learning_rate: 1, regularization: 10, neg_prop: 15\n"
     ]
    },
    {
     "data": {
      "application/vnd.jupyter.widget-view+json": {
       "model_id": "7a44ff45d67447d09cb25f8c344bec4b",
       "version_major": 2,
       "version_minor": 0
      },
      "text/plain": [
       "  0%|          | 0/50 [00:00<?, ?it/s]"
      ]
     },
     "metadata": {},
     "output_type": "display_data"
    },
    {
     "name": "stdout",
     "output_type": "stream",
     "text": [
      "--- 3.6365158557891846 seconds ---\n",
      "MRR@100 = 0.0026\n",
      "factors: 20, iterations: 50, learning_rate: 1, regularization: 10, neg_prop: 30\n"
     ]
    },
    {
     "data": {
      "application/vnd.jupyter.widget-view+json": {
       "model_id": "274add1985cf454e804687c7a20da5ed",
       "version_major": 2,
       "version_minor": 0
      },
      "text/plain": [
       "  0%|          | 0/50 [00:00<?, ?it/s]"
      ]
     },
     "metadata": {},
     "output_type": "display_data"
    },
    {
     "name": "stdout",
     "output_type": "stream",
     "text": [
      "--- 3.465700149536133 seconds ---\n",
      "MRR@100 = 0.0026\n",
      "factors: 20, iterations: 50, learning_rate: 1, regularization: 10, neg_prop: 50\n"
     ]
    },
    {
     "data": {
      "application/vnd.jupyter.widget-view+json": {
       "model_id": "b6bd5325f4af415cbe8ee209685e6766",
       "version_major": 2,
       "version_minor": 0
      },
      "text/plain": [
       "  0%|          | 0/50 [00:00<?, ?it/s]"
      ]
     },
     "metadata": {},
     "output_type": "display_data"
    },
    {
     "name": "stdout",
     "output_type": "stream",
     "text": [
      "--- 3.2112021446228027 seconds ---\n",
      "MRR@100 = 0.0026\n",
      "factors: 20, iterations: 50, learning_rate: 1, regularization: 100, neg_prop: 5\n"
     ]
    },
    {
     "data": {
      "application/vnd.jupyter.widget-view+json": {
       "model_id": "569819d7d8614ae3a7b9e71598272e31",
       "version_major": 2,
       "version_minor": 0
      },
      "text/plain": [
       "  0%|          | 0/50 [00:00<?, ?it/s]"
      ]
     },
     "metadata": {},
     "output_type": "display_data"
    },
    {
     "name": "stdout",
     "output_type": "stream",
     "text": [
      "--- 3.1115400791168213 seconds ---\n",
      "MRR@100 = 0.0021\n",
      "factors: 20, iterations: 50, learning_rate: 1, regularization: 100, neg_prop: 15\n"
     ]
    },
    {
     "data": {
      "application/vnd.jupyter.widget-view+json": {
       "model_id": "fea69e7a830e4327b4c05c525f30bc1d",
       "version_major": 2,
       "version_minor": 0
      },
      "text/plain": [
       "  0%|          | 0/50 [00:00<?, ?it/s]"
      ]
     },
     "metadata": {},
     "output_type": "display_data"
    },
    {
     "name": "stdout",
     "output_type": "stream",
     "text": [
      "--- 3.4244139194488525 seconds ---\n",
      "MRR@100 = 0.0022\n",
      "factors: 20, iterations: 50, learning_rate: 1, regularization: 100, neg_prop: 30\n"
     ]
    },
    {
     "data": {
      "application/vnd.jupyter.widget-view+json": {
       "model_id": "e3baa72cf5944fbba870765d07d3b631",
       "version_major": 2,
       "version_minor": 0
      },
      "text/plain": [
       "  0%|          | 0/50 [00:00<?, ?it/s]"
      ]
     },
     "metadata": {},
     "output_type": "display_data"
    },
    {
     "ename": "KeyboardInterrupt",
     "evalue": "",
     "output_type": "error",
     "traceback": [
      "\u001b[0;31m---------------------------------------------------------------------------\u001b[0m",
      "\u001b[0;31mKeyboardInterrupt\u001b[0m                         Traceback (most recent call last)",
      "Input \u001b[0;32mIn [12]\u001b[0m, in \u001b[0;36m<cell line: 1>\u001b[0;34m()\u001b[0m\n\u001b[1;32m      5\u001b[0m \u001b[38;5;28;01mfor\u001b[39;00m neg_prop \u001b[38;5;129;01min\u001b[39;00m [\u001b[38;5;241m5\u001b[39m, \u001b[38;5;241m15\u001b[39m, \u001b[38;5;241m30\u001b[39m, \u001b[38;5;241m50\u001b[39m]:\n\u001b[1;32m      6\u001b[0m     \u001b[38;5;28mprint\u001b[39m(\u001b[38;5;124mf\u001b[39m\u001b[38;5;124m'\u001b[39m\u001b[38;5;124mfactors: \u001b[39m\u001b[38;5;132;01m{\u001b[39;00mfactors\u001b[38;5;132;01m}\u001b[39;00m\u001b[38;5;124m, iterations: \u001b[39m\u001b[38;5;132;01m{\u001b[39;00miterations\u001b[38;5;132;01m}\u001b[39;00m\u001b[38;5;124m, learning_rate: \u001b[39m\u001b[38;5;132;01m{\u001b[39;00mlearning_rate\u001b[38;5;132;01m}\u001b[39;00m\u001b[38;5;124m, regularization: \u001b[39m\u001b[38;5;132;01m{\u001b[39;00mregularization\u001b[38;5;132;01m}\u001b[39;00m\u001b[38;5;124m, neg_prop: \u001b[39m\u001b[38;5;132;01m{\u001b[39;00mneg_prop\u001b[38;5;132;01m}\u001b[39;00m\u001b[38;5;124m'\u001b[39m)\n\u001b[0;32m----> 7\u001b[0m     \u001b[43moptimize\u001b[49m\u001b[43m(\u001b[49m\u001b[43mfactors\u001b[49m\u001b[38;5;241;43m=\u001b[39;49m\u001b[43mfactors\u001b[49m\u001b[43m,\u001b[49m\n\u001b[1;32m      8\u001b[0m \u001b[43m             \u001b[49m\u001b[43mlearning_rate\u001b[49m\u001b[38;5;241;43m=\u001b[39;49m\u001b[43mlearning_rate\u001b[49m\u001b[43m,\u001b[49m\n\u001b[1;32m      9\u001b[0m \u001b[43m             \u001b[49m\u001b[43mregularization\u001b[49m\u001b[38;5;241;43m=\u001b[39;49m\u001b[43mregularization\u001b[49m\u001b[43m,\u001b[49m\n\u001b[1;32m     10\u001b[0m \u001b[43m             \u001b[49m\u001b[43miterations\u001b[49m\u001b[38;5;241;43m=\u001b[39;49m\u001b[43miterations\u001b[49m\u001b[43m,\u001b[49m\n\u001b[1;32m     11\u001b[0m \u001b[43m             \u001b[49m\u001b[43mneg_prop\u001b[49m\u001b[38;5;241;43m=\u001b[39;49m\u001b[43mneg_prop\u001b[49m\u001b[43m)\u001b[49m\n",
      "Input \u001b[0;32mIn [5]\u001b[0m, in \u001b[0;36moptimize\u001b[0;34m(factors, learning_rate, regularization, iterations, neg_prop)\u001b[0m\n\u001b[1;32m      3\u001b[0m \u001b[38;5;28;01mdef\u001b[39;00m \u001b[38;5;21moptimize\u001b[39m(factors\u001b[38;5;241m=\u001b[39m\u001b[38;5;241m30\u001b[39m,\n\u001b[1;32m      4\u001b[0m              learning_rate\u001b[38;5;241m=\u001b[39m\u001b[38;5;241m1.00\u001b[39m,\n\u001b[1;32m      5\u001b[0m              regularization\u001b[38;5;241m=\u001b[39m\u001b[38;5;241m0.6\u001b[39m,\n\u001b[1;32m      6\u001b[0m              iterations\u001b[38;5;241m=\u001b[39m\u001b[38;5;241m30\u001b[39m,\n\u001b[1;32m      7\u001b[0m              neg_prop\u001b[38;5;241m=\u001b[39m\u001b[38;5;241m30\u001b[39m):\n\u001b[1;32m      9\u001b[0m     model \u001b[38;5;241m=\u001b[39m implicit\u001b[38;5;241m.\u001b[39mlmf\u001b[38;5;241m.\u001b[39mLogisticMatrixFactorization(factors\u001b[38;5;241m=\u001b[39mfactors,\n\u001b[1;32m     10\u001b[0m                                                      learning_rate\u001b[38;5;241m=\u001b[39mlearning_rate,\n\u001b[1;32m     11\u001b[0m                                                      regularization\u001b[38;5;241m=\u001b[39mregularization,\n\u001b[1;32m     12\u001b[0m                                                      iterations\u001b[38;5;241m=\u001b[39miterations,\n\u001b[1;32m     13\u001b[0m                                                      neg_prop\u001b[38;5;241m=\u001b[39mneg_prop,\n\u001b[1;32m     14\u001b[0m                                                      random_state\u001b[38;5;241m=\u001b[39m\u001b[38;5;241m42\u001b[39m)\n\u001b[0;32m---> 16\u001b[0m     \u001b[43mmodel\u001b[49m\u001b[38;5;241;43m.\u001b[39;49m\u001b[43mfit\u001b[49m\u001b[43m(\u001b[49m\u001b[43muser_item\u001b[49m\u001b[43m)\u001b[49m\n\u001b[1;32m     18\u001b[0m     start_time \u001b[38;5;241m=\u001b[39m time\u001b[38;5;241m.\u001b[39mtime()\n\u001b[1;32m     20\u001b[0m     userid \u001b[38;5;241m=\u001b[39m val_id\n",
      "File \u001b[0;32mlmf.pyx:183\u001b[0m, in \u001b[0;36mimplicit.cpu.lmf.LogisticMatrixFactorization.fit\u001b[0;34m()\u001b[0m\n",
      "File \u001b[0;32mlmf.pyx:198\u001b[0m, in \u001b[0;36mimplicit.cpu.lmf.LogisticMatrixFactorization.fit\u001b[0;34m()\u001b[0m\n",
      "File \u001b[0;32m/Library/Frameworks/Python.framework/Versions/3.10/lib/python3.10/site-packages/tqdm/notebook.py:271\u001b[0m, in \u001b[0;36mtqdm_notebook.update\u001b[0;34m(self, n)\u001b[0m\n\u001b[1;32m    269\u001b[0m \u001b[38;5;28;01mdef\u001b[39;00m \u001b[38;5;21mupdate\u001b[39m(\u001b[38;5;28mself\u001b[39m, n\u001b[38;5;241m=\u001b[39m\u001b[38;5;241m1\u001b[39m):\n\u001b[1;32m    270\u001b[0m     \u001b[38;5;28;01mtry\u001b[39;00m:\n\u001b[0;32m--> 271\u001b[0m         \u001b[38;5;28;01mreturn\u001b[39;00m \u001b[38;5;28;43msuper\u001b[39;49m\u001b[43m(\u001b[49m\u001b[43mtqdm_notebook\u001b[49m\u001b[43m,\u001b[49m\u001b[43m \u001b[49m\u001b[38;5;28;43mself\u001b[39;49m\u001b[43m)\u001b[49m\u001b[38;5;241m.\u001b[39mupdate(n\u001b[38;5;241m=\u001b[39mn)\n\u001b[1;32m    272\u001b[0m     \u001b[38;5;66;03m# NB: except ... [ as ...] breaks IPython async KeyboardInterrupt\u001b[39;00m\n\u001b[1;32m    273\u001b[0m     \u001b[38;5;28;01mexcept\u001b[39;00m:  \u001b[38;5;66;03m# NOQA\u001b[39;00m\n\u001b[1;32m    274\u001b[0m         \u001b[38;5;66;03m# cannot catch KeyboardInterrupt when using manual tqdm\u001b[39;00m\n\u001b[1;32m    275\u001b[0m         \u001b[38;5;66;03m# as the interrupt will most likely happen on another statement\u001b[39;00m\n",
      "\u001b[0;31mKeyboardInterrupt\u001b[0m: "
     ]
    }
   ],
   "source": [
    "for factors in [10, 20, 30, 50]:\n",
    "    for iterations in [10, 20, 30, 50]:\n",
    "        for learning_rate in [1, 10, 100]:\n",
    "            for regularization in [0.006, 0.06, 0.6, 1, 10, 100]:\n",
    "                for neg_prop in [5, 15, 30, 50]:\n",
    "                    print(f'factors: {factors}, iterations: {iterations}, learning_rate: {learning_rate}, regularization: {regularization}, neg_prop: {neg_prop}')\n",
    "                    optimize(factors=factors,\n",
    "                             learning_rate=learning_rate,\n",
    "                             regularization=regularization,\n",
    "                             iterations=iterations,\n",
    "                             neg_prop=neg_prop)"
   ]
  },
  {
   "cell_type": "code",
   "execution_count": 14,
   "id": "40707124",
   "metadata": {},
   "outputs": [
    {
     "name": "stdout",
     "output_type": "stream",
     "text": [
      "factors: 25, iterations: 25, neg_prop: 5, regularization: 0.001\n"
     ]
    },
    {
     "data": {
      "application/vnd.jupyter.widget-view+json": {
       "model_id": "ab7ebb37b67f4ed2a9863eb5e80b9c57",
       "version_major": 2,
       "version_minor": 0
      },
      "text/plain": [
       "  0%|          | 0/25 [00:00<?, ?it/s]"
      ]
     },
     "metadata": {},
     "output_type": "display_data"
    },
    {
     "name": "stdout",
     "output_type": "stream",
     "text": [
      "--- 3.394413948059082 seconds ---\n",
      "MRR@100 = 0.0006\n",
      "factors: 25, iterations: 25, neg_prop: 5, regularization: 0.01\n"
     ]
    },
    {
     "data": {
      "application/vnd.jupyter.widget-view+json": {
       "model_id": "76ab13c7d35d4389bbda72569dd5b800",
       "version_major": 2,
       "version_minor": 0
      },
      "text/plain": [
       "  0%|          | 0/25 [00:00<?, ?it/s]"
      ]
     },
     "metadata": {},
     "output_type": "display_data"
    },
    {
     "name": "stdout",
     "output_type": "stream",
     "text": [
      "--- 3.111610174179077 seconds ---\n",
      "MRR@100 = 0.0010\n",
      "factors: 25, iterations: 25, neg_prop: 5, regularization: 0.1\n"
     ]
    },
    {
     "data": {
      "application/vnd.jupyter.widget-view+json": {
       "model_id": "ecacaada43d14a5f93be1bad8536c8c8",
       "version_major": 2,
       "version_minor": 0
      },
      "text/plain": [
       "  0%|          | 0/25 [00:00<?, ?it/s]"
      ]
     },
     "metadata": {},
     "output_type": "display_data"
    },
    {
     "name": "stdout",
     "output_type": "stream",
     "text": [
      "--- 3.0349369049072266 seconds ---\n",
      "MRR@100 = 0.0030\n",
      "factors: 25, iterations: 25, neg_prop: 5, regularization: 1\n"
     ]
    },
    {
     "data": {
      "application/vnd.jupyter.widget-view+json": {
       "model_id": "24918ffdc30c4fb4aebd11a2cf949c94",
       "version_major": 2,
       "version_minor": 0
      },
      "text/plain": [
       "  0%|          | 0/25 [00:00<?, ?it/s]"
      ]
     },
     "metadata": {},
     "output_type": "display_data"
    },
    {
     "name": "stdout",
     "output_type": "stream",
     "text": [
      "--- 3.2389187812805176 seconds ---\n",
      "MRR@100 = 0.0055\n",
      "factors: 25, iterations: 25, neg_prop: 15, regularization: 0.001\n"
     ]
    },
    {
     "data": {
      "application/vnd.jupyter.widget-view+json": {
       "model_id": "eb8d009853854e528afc1262550b714d",
       "version_major": 2,
       "version_minor": 0
      },
      "text/plain": [
       "  0%|          | 0/25 [00:00<?, ?it/s]"
      ]
     },
     "metadata": {},
     "output_type": "display_data"
    },
    {
     "name": "stdout",
     "output_type": "stream",
     "text": [
      "--- 3.3860349655151367 seconds ---\n",
      "MRR@100 = 0.0059\n",
      "factors: 25, iterations: 25, neg_prop: 15, regularization: 0.01\n"
     ]
    },
    {
     "data": {
      "application/vnd.jupyter.widget-view+json": {
       "model_id": "dd8333ca275647f5b3902631fbaa148e",
       "version_major": 2,
       "version_minor": 0
      },
      "text/plain": [
       "  0%|          | 0/25 [00:00<?, ?it/s]"
      ]
     },
     "metadata": {},
     "output_type": "display_data"
    },
    {
     "name": "stdout",
     "output_type": "stream",
     "text": [
      "--- 3.1726720333099365 seconds ---\n",
      "MRR@100 = 0.0061\n",
      "factors: 25, iterations: 25, neg_prop: 15, regularization: 0.1\n"
     ]
    },
    {
     "data": {
      "application/vnd.jupyter.widget-view+json": {
       "model_id": "2d56fb1076be4edcac56ec8462fafbaa",
       "version_major": 2,
       "version_minor": 0
      },
      "text/plain": [
       "  0%|          | 0/25 [00:00<?, ?it/s]"
      ]
     },
     "metadata": {},
     "output_type": "display_data"
    },
    {
     "name": "stdout",
     "output_type": "stream",
     "text": [
      "--- 3.2825510501861572 seconds ---\n",
      "MRR@100 = 0.0075\n",
      "factors: 25, iterations: 25, neg_prop: 15, regularization: 1\n"
     ]
    },
    {
     "data": {
      "application/vnd.jupyter.widget-view+json": {
       "model_id": "ba303e8c00cd44218e5521bed93b2fd5",
       "version_major": 2,
       "version_minor": 0
      },
      "text/plain": [
       "  0%|          | 0/25 [00:00<?, ?it/s]"
      ]
     },
     "metadata": {},
     "output_type": "display_data"
    },
    {
     "name": "stdout",
     "output_type": "stream",
     "text": [
      "--- 2.979613780975342 seconds ---\n",
      "MRR@100 = 0.0087\n",
      "factors: 25, iterations: 25, neg_prop: 30, regularization: 0.001\n"
     ]
    },
    {
     "data": {
      "application/vnd.jupyter.widget-view+json": {
       "model_id": "0b5fb190496044dc8f3c2be6f650c9f5",
       "version_major": 2,
       "version_minor": 0
      },
      "text/plain": [
       "  0%|          | 0/25 [00:00<?, ?it/s]"
      ]
     },
     "metadata": {},
     "output_type": "display_data"
    },
    {
     "name": "stdout",
     "output_type": "stream",
     "text": [
      "--- 3.94250226020813 seconds ---\n",
      "MRR@100 = 0.0061\n",
      "factors: 25, iterations: 25, neg_prop: 30, regularization: 0.01\n"
     ]
    },
    {
     "data": {
      "application/vnd.jupyter.widget-view+json": {
       "model_id": "bf614ad2711e42ce91edb70e9e31727d",
       "version_major": 2,
       "version_minor": 0
      },
      "text/plain": [
       "  0%|          | 0/25 [00:00<?, ?it/s]"
      ]
     },
     "metadata": {},
     "output_type": "display_data"
    },
    {
     "name": "stdout",
     "output_type": "stream",
     "text": [
      "--- 3.2599539756774902 seconds ---\n",
      "MRR@100 = 0.0061\n",
      "factors: 25, iterations: 25, neg_prop: 30, regularization: 0.1\n"
     ]
    },
    {
     "data": {
      "application/vnd.jupyter.widget-view+json": {
       "model_id": "c52749df562045eea1f1468cc1e7f2e9",
       "version_major": 2,
       "version_minor": 0
      },
      "text/plain": [
       "  0%|          | 0/25 [00:00<?, ?it/s]"
      ]
     },
     "metadata": {},
     "output_type": "display_data"
    },
    {
     "name": "stdout",
     "output_type": "stream",
     "text": [
      "--- 3.2141969203948975 seconds ---\n",
      "MRR@100 = 0.0053\n",
      "factors: 25, iterations: 25, neg_prop: 30, regularization: 1\n"
     ]
    },
    {
     "data": {
      "application/vnd.jupyter.widget-view+json": {
       "model_id": "024a398bfc544b67a2a73ff0f03ab3e4",
       "version_major": 2,
       "version_minor": 0
      },
      "text/plain": [
       "  0%|          | 0/25 [00:00<?, ?it/s]"
      ]
     },
     "metadata": {},
     "output_type": "display_data"
    },
    {
     "name": "stdout",
     "output_type": "stream",
     "text": [
      "--- 3.1378769874572754 seconds ---\n",
      "MRR@100 = 0.0059\n",
      "factors: 25, iterations: 25, neg_prop: 50, regularization: 0.001\n"
     ]
    },
    {
     "data": {
      "application/vnd.jupyter.widget-view+json": {
       "model_id": "4d44230c4aff42639f3a581303d3c3f7",
       "version_major": 2,
       "version_minor": 0
      },
      "text/plain": [
       "  0%|          | 0/25 [00:00<?, ?it/s]"
      ]
     },
     "metadata": {},
     "output_type": "display_data"
    },
    {
     "name": "stdout",
     "output_type": "stream",
     "text": [
      "--- 3.0698606967926025 seconds ---\n",
      "MRR@100 = 0.0061\n",
      "factors: 25, iterations: 25, neg_prop: 50, regularization: 0.01\n"
     ]
    },
    {
     "data": {
      "application/vnd.jupyter.widget-view+json": {
       "model_id": "91366eb9481c4c358ac321ee787f02c8",
       "version_major": 2,
       "version_minor": 0
      },
      "text/plain": [
       "  0%|          | 0/25 [00:00<?, ?it/s]"
      ]
     },
     "metadata": {},
     "output_type": "display_data"
    },
    {
     "name": "stdout",
     "output_type": "stream",
     "text": [
      "--- 3.1879189014434814 seconds ---\n",
      "MRR@100 = 0.0061\n",
      "factors: 25, iterations: 25, neg_prop: 50, regularization: 0.1\n"
     ]
    },
    {
     "data": {
      "application/vnd.jupyter.widget-view+json": {
       "model_id": "ef9031721cbc403fa02c8bdc1f089845",
       "version_major": 2,
       "version_minor": 0
      },
      "text/plain": [
       "  0%|          | 0/25 [00:00<?, ?it/s]"
      ]
     },
     "metadata": {},
     "output_type": "display_data"
    },
    {
     "name": "stdout",
     "output_type": "stream",
     "text": [
      "--- 3.062222957611084 seconds ---\n",
      "MRR@100 = 0.0053\n",
      "factors: 25, iterations: 25, neg_prop: 50, regularization: 1\n"
     ]
    },
    {
     "data": {
      "application/vnd.jupyter.widget-view+json": {
       "model_id": "1febb914cffd4009b1b1fdd01ebb5538",
       "version_major": 2,
       "version_minor": 0
      },
      "text/plain": [
       "  0%|          | 0/25 [00:00<?, ?it/s]"
      ]
     },
     "metadata": {},
     "output_type": "display_data"
    },
    {
     "name": "stdout",
     "output_type": "stream",
     "text": [
      "--- 3.1280016899108887 seconds ---\n",
      "MRR@100 = 0.0059\n",
      "factors: 25, iterations: 50, neg_prop: 5, regularization: 0.001\n"
     ]
    },
    {
     "data": {
      "application/vnd.jupyter.widget-view+json": {
       "model_id": "f685225be7ff4d60915aeb5cf943b568",
       "version_major": 2,
       "version_minor": 0
      },
      "text/plain": [
       "  0%|          | 0/50 [00:00<?, ?it/s]"
      ]
     },
     "metadata": {},
     "output_type": "display_data"
    },
    {
     "name": "stdout",
     "output_type": "stream",
     "text": [
      "--- 3.068148374557495 seconds ---\n",
      "MRR@100 = 0.0031\n",
      "factors: 25, iterations: 50, neg_prop: 5, regularization: 0.01\n"
     ]
    },
    {
     "data": {
      "application/vnd.jupyter.widget-view+json": {
       "model_id": "4bf5a114473e485189fa1b0575add27b",
       "version_major": 2,
       "version_minor": 0
      },
      "text/plain": [
       "  0%|          | 0/50 [00:00<?, ?it/s]"
      ]
     },
     "metadata": {},
     "output_type": "display_data"
    },
    {
     "name": "stdout",
     "output_type": "stream",
     "text": [
      "--- 3.0870020389556885 seconds ---\n",
      "MRR@100 = 0.0040\n",
      "factors: 25, iterations: 50, neg_prop: 5, regularization: 0.1\n"
     ]
    },
    {
     "data": {
      "application/vnd.jupyter.widget-view+json": {
       "model_id": "b2f22509484d4b7eb8f834c37869030f",
       "version_major": 2,
       "version_minor": 0
      },
      "text/plain": [
       "  0%|          | 0/50 [00:00<?, ?it/s]"
      ]
     },
     "metadata": {},
     "output_type": "display_data"
    },
    {
     "name": "stdout",
     "output_type": "stream",
     "text": [
      "--- 3.192430019378662 seconds ---\n",
      "MRR@100 = 0.0048\n",
      "factors: 25, iterations: 50, neg_prop: 5, regularization: 1\n"
     ]
    },
    {
     "data": {
      "application/vnd.jupyter.widget-view+json": {
       "model_id": "c4c127428fa64d6a94efd2fafb89c338",
       "version_major": 2,
       "version_minor": 0
      },
      "text/plain": [
       "  0%|          | 0/50 [00:00<?, ?it/s]"
      ]
     },
     "metadata": {},
     "output_type": "display_data"
    },
    {
     "name": "stdout",
     "output_type": "stream",
     "text": [
      "--- 2.9770400524139404 seconds ---\n",
      "MRR@100 = 0.0069\n",
      "factors: 25, iterations: 50, neg_prop: 15, regularization: 0.001\n"
     ]
    },
    {
     "data": {
      "application/vnd.jupyter.widget-view+json": {
       "model_id": "cfef54d1afd645b5a0cf7df1bb10672a",
       "version_major": 2,
       "version_minor": 0
      },
      "text/plain": [
       "  0%|          | 0/50 [00:00<?, ?it/s]"
      ]
     },
     "metadata": {},
     "output_type": "display_data"
    },
    {
     "name": "stdout",
     "output_type": "stream",
     "text": [
      "--- 3.237980842590332 seconds ---\n",
      "MRR@100 = 0.0056\n",
      "factors: 25, iterations: 50, neg_prop: 15, regularization: 0.01\n"
     ]
    },
    {
     "data": {
      "application/vnd.jupyter.widget-view+json": {
       "model_id": "03105c250c854449b76967718036b4db",
       "version_major": 2,
       "version_minor": 0
      },
      "text/plain": [
       "  0%|          | 0/50 [00:00<?, ?it/s]"
      ]
     },
     "metadata": {},
     "output_type": "display_data"
    },
    {
     "name": "stdout",
     "output_type": "stream",
     "text": [
      "--- 3.5540788173675537 seconds ---\n",
      "MRR@100 = 0.0051\n",
      "factors: 25, iterations: 50, neg_prop: 15, regularization: 0.1\n"
     ]
    },
    {
     "data": {
      "application/vnd.jupyter.widget-view+json": {
       "model_id": "2e2e94463c874c8a9cd5c5e65f966010",
       "version_major": 2,
       "version_minor": 0
      },
      "text/plain": [
       "  0%|          | 0/50 [00:00<?, ?it/s]"
      ]
     },
     "metadata": {},
     "output_type": "display_data"
    },
    {
     "name": "stdout",
     "output_type": "stream",
     "text": [
      "--- 3.8325741291046143 seconds ---\n",
      "MRR@100 = 0.0064\n",
      "factors: 25, iterations: 50, neg_prop: 15, regularization: 1\n"
     ]
    },
    {
     "data": {
      "application/vnd.jupyter.widget-view+json": {
       "model_id": "07ca5cc4937f42c59e14e5157602ea11",
       "version_major": 2,
       "version_minor": 0
      },
      "text/plain": [
       "  0%|          | 0/50 [00:00<?, ?it/s]"
      ]
     },
     "metadata": {},
     "output_type": "display_data"
    },
    {
     "name": "stdout",
     "output_type": "stream",
     "text": [
      "--- 3.27480411529541 seconds ---\n",
      "MRR@100 = 0.0054\n",
      "factors: 25, iterations: 50, neg_prop: 30, regularization: 0.001\n"
     ]
    },
    {
     "data": {
      "application/vnd.jupyter.widget-view+json": {
       "model_id": "fe8b7d04e65d4e4fb51e0550365d8dbc",
       "version_major": 2,
       "version_minor": 0
      },
      "text/plain": [
       "  0%|          | 0/50 [00:00<?, ?it/s]"
      ]
     },
     "metadata": {},
     "output_type": "display_data"
    },
    {
     "name": "stdout",
     "output_type": "stream",
     "text": [
      "--- 3.3031928539276123 seconds ---\n",
      "MRR@100 = 0.0053\n",
      "factors: 25, iterations: 50, neg_prop: 30, regularization: 0.01\n"
     ]
    },
    {
     "data": {
      "application/vnd.jupyter.widget-view+json": {
       "model_id": "24fd3e65d19241aab320478f14e4d4b5",
       "version_major": 2,
       "version_minor": 0
      },
      "text/plain": [
       "  0%|          | 0/50 [00:00<?, ?it/s]"
      ]
     },
     "metadata": {},
     "output_type": "display_data"
    },
    {
     "name": "stdout",
     "output_type": "stream",
     "text": [
      "--- 3.0990469455718994 seconds ---\n",
      "MRR@100 = 0.0051\n",
      "factors: 25, iterations: 50, neg_prop: 30, regularization: 0.1\n"
     ]
    },
    {
     "data": {
      "application/vnd.jupyter.widget-view+json": {
       "model_id": "bd31219bad4c4fdd8d35ecb36d3b7e60",
       "version_major": 2,
       "version_minor": 0
      },
      "text/plain": [
       "  0%|          | 0/50 [00:00<?, ?it/s]"
      ]
     },
     "metadata": {},
     "output_type": "display_data"
    },
    {
     "name": "stdout",
     "output_type": "stream",
     "text": [
      "--- 3.168081045150757 seconds ---\n",
      "MRR@100 = 0.0052\n",
      "factors: 25, iterations: 50, neg_prop: 30, regularization: 1\n"
     ]
    },
    {
     "data": {
      "application/vnd.jupyter.widget-view+json": {
       "model_id": "1501923a5f134819982585514f3d089a",
       "version_major": 2,
       "version_minor": 0
      },
      "text/plain": [
       "  0%|          | 0/50 [00:00<?, ?it/s]"
      ]
     },
     "metadata": {},
     "output_type": "display_data"
    },
    {
     "name": "stdout",
     "output_type": "stream",
     "text": [
      "--- 3.2130281925201416 seconds ---\n",
      "MRR@100 = 0.0057\n",
      "factors: 25, iterations: 50, neg_prop: 50, regularization: 0.001\n"
     ]
    },
    {
     "data": {
      "application/vnd.jupyter.widget-view+json": {
       "model_id": "fd68a17301b54d80a7bec2eedf29ee9d",
       "version_major": 2,
       "version_minor": 0
      },
      "text/plain": [
       "  0%|          | 0/50 [00:00<?, ?it/s]"
      ]
     },
     "metadata": {},
     "output_type": "display_data"
    },
    {
     "name": "stdout",
     "output_type": "stream",
     "text": [
      "--- 2.9123470783233643 seconds ---\n",
      "MRR@100 = 0.0053\n",
      "factors: 25, iterations: 50, neg_prop: 50, regularization: 0.01\n"
     ]
    },
    {
     "data": {
      "application/vnd.jupyter.widget-view+json": {
       "model_id": "01e2a2f76e7043c48d91f2ac6317752f",
       "version_major": 2,
       "version_minor": 0
      },
      "text/plain": [
       "  0%|          | 0/50 [00:00<?, ?it/s]"
      ]
     },
     "metadata": {},
     "output_type": "display_data"
    },
    {
     "name": "stdout",
     "output_type": "stream",
     "text": [
      "--- 3.080876111984253 seconds ---\n",
      "MRR@100 = 0.0051\n",
      "factors: 25, iterations: 50, neg_prop: 50, regularization: 0.1\n"
     ]
    },
    {
     "data": {
      "application/vnd.jupyter.widget-view+json": {
       "model_id": "1de6e42c55c24e67bb340bf44c501c09",
       "version_major": 2,
       "version_minor": 0
      },
      "text/plain": [
       "  0%|          | 0/50 [00:00<?, ?it/s]"
      ]
     },
     "metadata": {},
     "output_type": "display_data"
    },
    {
     "name": "stdout",
     "output_type": "stream",
     "text": [
      "--- 3.0051982402801514 seconds ---\n",
      "MRR@100 = 0.0052\n",
      "factors: 25, iterations: 50, neg_prop: 50, regularization: 1\n"
     ]
    },
    {
     "data": {
      "application/vnd.jupyter.widget-view+json": {
       "model_id": "00dfeb5a35ef4d238a78292031a0f4dc",
       "version_major": 2,
       "version_minor": 0
      },
      "text/plain": [
       "  0%|          | 0/50 [00:00<?, ?it/s]"
      ]
     },
     "metadata": {},
     "output_type": "display_data"
    },
    {
     "name": "stdout",
     "output_type": "stream",
     "text": [
      "--- 3.1704251766204834 seconds ---\n",
      "MRR@100 = 0.0057\n",
      "factors: 25, iterations: 75, neg_prop: 5, regularization: 0.001\n"
     ]
    },
    {
     "data": {
      "application/vnd.jupyter.widget-view+json": {
       "model_id": "3207999fea4143e8800dfc031901a836",
       "version_major": 2,
       "version_minor": 0
      },
      "text/plain": [
       "  0%|          | 0/75 [00:00<?, ?it/s]"
      ]
     },
     "metadata": {},
     "output_type": "display_data"
    },
    {
     "name": "stdout",
     "output_type": "stream",
     "text": [
      "--- 3.0269010066986084 seconds ---\n",
      "MRR@100 = 0.0044\n",
      "factors: 25, iterations: 75, neg_prop: 5, regularization: 0.01\n"
     ]
    },
    {
     "data": {
      "application/vnd.jupyter.widget-view+json": {
       "model_id": "83aaf30ecca743499339bcf3735a35b5",
       "version_major": 2,
       "version_minor": 0
      },
      "text/plain": [
       "  0%|          | 0/75 [00:00<?, ?it/s]"
      ]
     },
     "metadata": {},
     "output_type": "display_data"
    },
    {
     "name": "stdout",
     "output_type": "stream",
     "text": [
      "--- 3.0584239959716797 seconds ---\n",
      "MRR@100 = 0.0044\n",
      "factors: 25, iterations: 75, neg_prop: 5, regularization: 0.1\n"
     ]
    },
    {
     "data": {
      "application/vnd.jupyter.widget-view+json": {
       "model_id": "c222a079471a4facb8bb83f2e54899ae",
       "version_major": 2,
       "version_minor": 0
      },
      "text/plain": [
       "  0%|          | 0/75 [00:00<?, ?it/s]"
      ]
     },
     "metadata": {},
     "output_type": "display_data"
    },
    {
     "name": "stdout",
     "output_type": "stream",
     "text": [
      "--- 3.1054508686065674 seconds ---\n",
      "MRR@100 = 0.0042\n",
      "factors: 25, iterations: 75, neg_prop: 5, regularization: 1\n"
     ]
    },
    {
     "data": {
      "application/vnd.jupyter.widget-view+json": {
       "model_id": "7e68ead220914a36828122a664ede2e8",
       "version_major": 2,
       "version_minor": 0
      },
      "text/plain": [
       "  0%|          | 0/75 [00:00<?, ?it/s]"
      ]
     },
     "metadata": {},
     "output_type": "display_data"
    },
    {
     "name": "stdout",
     "output_type": "stream",
     "text": [
      "--- 3.0496208667755127 seconds ---\n",
      "MRR@100 = 0.0068\n",
      "factors: 25, iterations: 75, neg_prop: 15, regularization: 0.001\n"
     ]
    },
    {
     "data": {
      "application/vnd.jupyter.widget-view+json": {
       "model_id": "42fc7b51ab63433687d972368c9204a5",
       "version_major": 2,
       "version_minor": 0
      },
      "text/plain": [
       "  0%|          | 0/75 [00:00<?, ?it/s]"
      ]
     },
     "metadata": {},
     "output_type": "display_data"
    },
    {
     "name": "stdout",
     "output_type": "stream",
     "text": [
      "--- 2.9268858432769775 seconds ---\n",
      "MRR@100 = 0.0042\n",
      "factors: 25, iterations: 75, neg_prop: 15, regularization: 0.01\n"
     ]
    },
    {
     "data": {
      "application/vnd.jupyter.widget-view+json": {
       "model_id": "3b0e217dfb6047eabd012fd363abe151",
       "version_major": 2,
       "version_minor": 0
      },
      "text/plain": [
       "  0%|          | 0/75 [00:00<?, ?it/s]"
      ]
     },
     "metadata": {},
     "output_type": "display_data"
    },
    {
     "name": "stdout",
     "output_type": "stream",
     "text": [
      "--- 3.1302649974823 seconds ---\n",
      "MRR@100 = 0.0039\n",
      "factors: 25, iterations: 75, neg_prop: 15, regularization: 0.1\n"
     ]
    },
    {
     "data": {
      "application/vnd.jupyter.widget-view+json": {
       "model_id": "eca7fefbb27743fab17609e997d17ddb",
       "version_major": 2,
       "version_minor": 0
      },
      "text/plain": [
       "  0%|          | 0/75 [00:00<?, ?it/s]"
      ]
     },
     "metadata": {},
     "output_type": "display_data"
    },
    {
     "name": "stdout",
     "output_type": "stream",
     "text": [
      "--- 3.004782199859619 seconds ---\n",
      "MRR@100 = 0.0047\n",
      "factors: 25, iterations: 75, neg_prop: 15, regularization: 1\n"
     ]
    },
    {
     "data": {
      "application/vnd.jupyter.widget-view+json": {
       "model_id": "f5276eec126c4499a2397692420a7fe5",
       "version_major": 2,
       "version_minor": 0
      },
      "text/plain": [
       "  0%|          | 0/75 [00:00<?, ?it/s]"
      ]
     },
     "metadata": {},
     "output_type": "display_data"
    },
    {
     "name": "stdout",
     "output_type": "stream",
     "text": [
      "--- 3.111591100692749 seconds ---\n",
      "MRR@100 = 0.0057\n",
      "factors: 25, iterations: 75, neg_prop: 30, regularization: 0.001\n"
     ]
    },
    {
     "data": {
      "application/vnd.jupyter.widget-view+json": {
       "model_id": "12b596b8da2b4dadbba8fe479711a30d",
       "version_major": 2,
       "version_minor": 0
      },
      "text/plain": [
       "  0%|          | 0/75 [00:00<?, ?it/s]"
      ]
     },
     "metadata": {},
     "output_type": "display_data"
    },
    {
     "name": "stdout",
     "output_type": "stream",
     "text": [
      "--- 3.2260961532592773 seconds ---\n",
      "MRR@100 = 0.0055\n",
      "factors: 25, iterations: 75, neg_prop: 30, regularization: 0.01\n"
     ]
    },
    {
     "data": {
      "application/vnd.jupyter.widget-view+json": {
       "model_id": "ac6a30955a9443f799e9bbab37400e07",
       "version_major": 2,
       "version_minor": 0
      },
      "text/plain": [
       "  0%|          | 0/75 [00:00<?, ?it/s]"
      ]
     },
     "metadata": {},
     "output_type": "display_data"
    },
    {
     "name": "stdout",
     "output_type": "stream",
     "text": [
      "--- 3.4086689949035645 seconds ---\n",
      "MRR@100 = 0.0053\n",
      "factors: 25, iterations: 75, neg_prop: 30, regularization: 0.1\n"
     ]
    },
    {
     "data": {
      "application/vnd.jupyter.widget-view+json": {
       "model_id": "df476660d71d4fa193f27fdb1157ad20",
       "version_major": 2,
       "version_minor": 0
      },
      "text/plain": [
       "  0%|          | 0/75 [00:00<?, ?it/s]"
      ]
     },
     "metadata": {},
     "output_type": "display_data"
    },
    {
     "name": "stdout",
     "output_type": "stream",
     "text": [
      "--- 3.05912709236145 seconds ---\n",
      "MRR@100 = 0.0054\n",
      "factors: 25, iterations: 75, neg_prop: 30, regularization: 1\n"
     ]
    },
    {
     "data": {
      "application/vnd.jupyter.widget-view+json": {
       "model_id": "77387d54b7114134a50de3fbcdc6c0cd",
       "version_major": 2,
       "version_minor": 0
      },
      "text/plain": [
       "  0%|          | 0/75 [00:00<?, ?it/s]"
      ]
     },
     "metadata": {},
     "output_type": "display_data"
    },
    {
     "name": "stdout",
     "output_type": "stream",
     "text": [
      "--- 3.0548129081726074 seconds ---\n",
      "MRR@100 = 0.0053\n",
      "factors: 25, iterations: 75, neg_prop: 50, regularization: 0.001\n"
     ]
    },
    {
     "data": {
      "application/vnd.jupyter.widget-view+json": {
       "model_id": "ba438a08d25b42d8be3691c29f4dbdf9",
       "version_major": 2,
       "version_minor": 0
      },
      "text/plain": [
       "  0%|          | 0/75 [00:00<?, ?it/s]"
      ]
     },
     "metadata": {},
     "output_type": "display_data"
    },
    {
     "name": "stdout",
     "output_type": "stream",
     "text": [
      "--- 3.1172640323638916 seconds ---\n",
      "MRR@100 = 0.0055\n",
      "factors: 25, iterations: 75, neg_prop: 50, regularization: 0.01\n"
     ]
    },
    {
     "data": {
      "application/vnd.jupyter.widget-view+json": {
       "model_id": "79e160173d884f3ebc41d921d78b96f5",
       "version_major": 2,
       "version_minor": 0
      },
      "text/plain": [
       "  0%|          | 0/75 [00:00<?, ?it/s]"
      ]
     },
     "metadata": {},
     "output_type": "display_data"
    },
    {
     "name": "stdout",
     "output_type": "stream",
     "text": [
      "--- 2.6746461391448975 seconds ---\n",
      "MRR@100 = 0.0053\n",
      "factors: 25, iterations: 75, neg_prop: 50, regularization: 0.1\n"
     ]
    },
    {
     "data": {
      "application/vnd.jupyter.widget-view+json": {
       "model_id": "44372aa34f80436099f9459f65dd2c36",
       "version_major": 2,
       "version_minor": 0
      },
      "text/plain": [
       "  0%|          | 0/75 [00:00<?, ?it/s]"
      ]
     },
     "metadata": {},
     "output_type": "display_data"
    },
    {
     "name": "stdout",
     "output_type": "stream",
     "text": [
      "--- 2.776576042175293 seconds ---\n",
      "MRR@100 = 0.0054\n",
      "factors: 25, iterations: 75, neg_prop: 50, regularization: 1\n"
     ]
    },
    {
     "data": {
      "application/vnd.jupyter.widget-view+json": {
       "model_id": "5beeed35fa3249b4b02de9a1a5ff0ec6",
       "version_major": 2,
       "version_minor": 0
      },
      "text/plain": [
       "  0%|          | 0/75 [00:00<?, ?it/s]"
      ]
     },
     "metadata": {},
     "output_type": "display_data"
    },
    {
     "name": "stdout",
     "output_type": "stream",
     "text": [
      "--- 2.9041149616241455 seconds ---\n",
      "MRR@100 = 0.0053\n",
      "factors: 50, iterations: 25, neg_prop: 5, regularization: 0.001\n"
     ]
    },
    {
     "data": {
      "application/vnd.jupyter.widget-view+json": {
       "model_id": "6ba90aa115d742be803dc0a05baa3780",
       "version_major": 2,
       "version_minor": 0
      },
      "text/plain": [
       "  0%|          | 0/25 [00:00<?, ?it/s]"
      ]
     },
     "metadata": {},
     "output_type": "display_data"
    },
    {
     "name": "stdout",
     "output_type": "stream",
     "text": [
      "--- 3.30521297454834 seconds ---\n",
      "MRR@100 = 0.0000\n",
      "factors: 50, iterations: 25, neg_prop: 5, regularization: 0.01\n"
     ]
    },
    {
     "data": {
      "application/vnd.jupyter.widget-view+json": {
       "model_id": "66405f7d554141ca9bb86bb02572623a",
       "version_major": 2,
       "version_minor": 0
      },
      "text/plain": [
       "  0%|          | 0/25 [00:00<?, ?it/s]"
      ]
     },
     "metadata": {},
     "output_type": "display_data"
    },
    {
     "name": "stdout",
     "output_type": "stream",
     "text": [
      "--- 3.212898015975952 seconds ---\n",
      "MRR@100 = 0.0000\n",
      "factors: 50, iterations: 25, neg_prop: 5, regularization: 0.1\n"
     ]
    },
    {
     "data": {
      "application/vnd.jupyter.widget-view+json": {
       "model_id": "00e957d8e49d40b4b43335e401ca4eab",
       "version_major": 2,
       "version_minor": 0
      },
      "text/plain": [
       "  0%|          | 0/25 [00:00<?, ?it/s]"
      ]
     },
     "metadata": {},
     "output_type": "display_data"
    },
    {
     "name": "stdout",
     "output_type": "stream",
     "text": [
      "--- 3.3975107669830322 seconds ---\n",
      "MRR@100 = 0.0007\n",
      "factors: 50, iterations: 25, neg_prop: 5, regularization: 1\n"
     ]
    },
    {
     "data": {
      "application/vnd.jupyter.widget-view+json": {
       "model_id": "4eeb2be1ca504de2969e6b11b3dbd99e",
       "version_major": 2,
       "version_minor": 0
      },
      "text/plain": [
       "  0%|          | 0/25 [00:00<?, ?it/s]"
      ]
     },
     "metadata": {},
     "output_type": "display_data"
    },
    {
     "name": "stdout",
     "output_type": "stream",
     "text": [
      "--- 3.293247938156128 seconds ---\n",
      "MRR@100 = 0.0081\n",
      "factors: 50, iterations: 25, neg_prop: 15, regularization: 0.001\n"
     ]
    },
    {
     "data": {
      "application/vnd.jupyter.widget-view+json": {
       "model_id": "b3b550c3015c4016b0cf1f606b855fb3",
       "version_major": 2,
       "version_minor": 0
      },
      "text/plain": [
       "  0%|          | 0/25 [00:00<?, ?it/s]"
      ]
     },
     "metadata": {},
     "output_type": "display_data"
    },
    {
     "name": "stdout",
     "output_type": "stream",
     "text": [
      "--- 3.6262929439544678 seconds ---\n",
      "MRR@100 = 0.0023\n",
      "factors: 50, iterations: 25, neg_prop: 15, regularization: 0.01\n"
     ]
    },
    {
     "data": {
      "application/vnd.jupyter.widget-view+json": {
       "model_id": "d470650ab4e84085aaea44c481480d8f",
       "version_major": 2,
       "version_minor": 0
      },
      "text/plain": [
       "  0%|          | 0/25 [00:00<?, ?it/s]"
      ]
     },
     "metadata": {},
     "output_type": "display_data"
    },
    {
     "name": "stdout",
     "output_type": "stream",
     "text": [
      "--- 3.305039882659912 seconds ---\n",
      "MRR@100 = 0.0024\n",
      "factors: 50, iterations: 25, neg_prop: 15, regularization: 0.1\n"
     ]
    },
    {
     "data": {
      "application/vnd.jupyter.widget-view+json": {
       "model_id": "cbe435fe41844e8c90cdf262e3fda9a7",
       "version_major": 2,
       "version_minor": 0
      },
      "text/plain": [
       "  0%|          | 0/25 [00:00<?, ?it/s]"
      ]
     },
     "metadata": {},
     "output_type": "display_data"
    },
    {
     "name": "stdout",
     "output_type": "stream",
     "text": [
      "--- 3.4740138053894043 seconds ---\n",
      "MRR@100 = 0.0035\n",
      "factors: 50, iterations: 25, neg_prop: 15, regularization: 1\n"
     ]
    },
    {
     "data": {
      "application/vnd.jupyter.widget-view+json": {
       "model_id": "8bf503dd858b4374a53e2d2c9fadcd68",
       "version_major": 2,
       "version_minor": 0
      },
      "text/plain": [
       "  0%|          | 0/25 [00:00<?, ?it/s]"
      ]
     },
     "metadata": {},
     "output_type": "display_data"
    },
    {
     "name": "stdout",
     "output_type": "stream",
     "text": [
      "--- 3.5124869346618652 seconds ---\n",
      "MRR@100 = 0.0058\n",
      "factors: 50, iterations: 25, neg_prop: 30, regularization: 0.001\n"
     ]
    },
    {
     "data": {
      "application/vnd.jupyter.widget-view+json": {
       "model_id": "055991b92fc04139870bcae8c3d548be",
       "version_major": 2,
       "version_minor": 0
      },
      "text/plain": [
       "  0%|          | 0/25 [00:00<?, ?it/s]"
      ]
     },
     "metadata": {},
     "output_type": "display_data"
    },
    {
     "name": "stdout",
     "output_type": "stream",
     "text": [
      "--- 3.2446000576019287 seconds ---\n",
      "MRR@100 = 0.0061\n",
      "factors: 50, iterations: 25, neg_prop: 30, regularization: 0.01\n"
     ]
    },
    {
     "data": {
      "application/vnd.jupyter.widget-view+json": {
       "model_id": "4c9b0193c44c4e0dbec998af2e37ce4c",
       "version_major": 2,
       "version_minor": 0
      },
      "text/plain": [
       "  0%|          | 0/25 [00:00<?, ?it/s]"
      ]
     },
     "metadata": {},
     "output_type": "display_data"
    },
    {
     "name": "stdout",
     "output_type": "stream",
     "text": [
      "--- 4.223714113235474 seconds ---\n",
      "MRR@100 = 0.0056\n",
      "factors: 50, iterations: 25, neg_prop: 30, regularization: 0.1\n"
     ]
    },
    {
     "data": {
      "application/vnd.jupyter.widget-view+json": {
       "model_id": "680b9fb7856d4d3fbe38a3f24d5f29bb",
       "version_major": 2,
       "version_minor": 0
      },
      "text/plain": [
       "  0%|          | 0/25 [00:00<?, ?it/s]"
      ]
     },
     "metadata": {},
     "output_type": "display_data"
    },
    {
     "name": "stdout",
     "output_type": "stream",
     "text": [
      "--- 3.4261350631713867 seconds ---\n",
      "MRR@100 = 0.0048\n",
      "factors: 50, iterations: 25, neg_prop: 30, regularization: 1\n"
     ]
    },
    {
     "data": {
      "application/vnd.jupyter.widget-view+json": {
       "model_id": "1b5aadb6621f4c77b60b4f99414d51b3",
       "version_major": 2,
       "version_minor": 0
      },
      "text/plain": [
       "  0%|          | 0/25 [00:00<?, ?it/s]"
      ]
     },
     "metadata": {},
     "output_type": "display_data"
    },
    {
     "name": "stdout",
     "output_type": "stream",
     "text": [
      "--- 3.9992709159851074 seconds ---\n",
      "MRR@100 = 0.0063\n",
      "factors: 50, iterations: 25, neg_prop: 50, regularization: 0.001\n"
     ]
    },
    {
     "data": {
      "application/vnd.jupyter.widget-view+json": {
       "model_id": "8e2ffbf4c0cf42c8bce4dd99f92836e8",
       "version_major": 2,
       "version_minor": 0
      },
      "text/plain": [
       "  0%|          | 0/25 [00:00<?, ?it/s]"
      ]
     },
     "metadata": {},
     "output_type": "display_data"
    },
    {
     "name": "stdout",
     "output_type": "stream",
     "text": [
      "--- 3.9550869464874268 seconds ---\n",
      "MRR@100 = 0.0058\n",
      "factors: 50, iterations: 25, neg_prop: 50, regularization: 0.01\n"
     ]
    },
    {
     "data": {
      "application/vnd.jupyter.widget-view+json": {
       "model_id": "44c27bf3044141ef8dd2e4c2b41f7a8d",
       "version_major": 2,
       "version_minor": 0
      },
      "text/plain": [
       "  0%|          | 0/25 [00:00<?, ?it/s]"
      ]
     },
     "metadata": {},
     "output_type": "display_data"
    },
    {
     "ename": "KeyboardInterrupt",
     "evalue": "",
     "output_type": "error",
     "traceback": [
      "\u001b[0;31m---------------------------------------------------------------------------\u001b[0m",
      "\u001b[0;31mKeyboardInterrupt\u001b[0m                         Traceback (most recent call last)",
      "Input \u001b[0;32mIn [14]\u001b[0m, in \u001b[0;36m<cell line: 1>\u001b[0;34m()\u001b[0m\n\u001b[1;32m      4\u001b[0m \u001b[38;5;28;01mfor\u001b[39;00m regularization \u001b[38;5;129;01min\u001b[39;00m [\u001b[38;5;241m0.001\u001b[39m, \u001b[38;5;241m0.01\u001b[39m, \u001b[38;5;241m0.1\u001b[39m, \u001b[38;5;241m1\u001b[39m]:\n\u001b[1;32m      5\u001b[0m     \u001b[38;5;28mprint\u001b[39m(\u001b[38;5;124mf\u001b[39m\u001b[38;5;124m'\u001b[39m\u001b[38;5;124mfactors: \u001b[39m\u001b[38;5;132;01m{\u001b[39;00mfactors\u001b[38;5;132;01m}\u001b[39;00m\u001b[38;5;124m, iterations: \u001b[39m\u001b[38;5;132;01m{\u001b[39;00miterations\u001b[38;5;132;01m}\u001b[39;00m\u001b[38;5;124m, neg_prop: \u001b[39m\u001b[38;5;132;01m{\u001b[39;00mneg_prop\u001b[38;5;132;01m}\u001b[39;00m\u001b[38;5;124m, regularization: \u001b[39m\u001b[38;5;132;01m{\u001b[39;00mregularization\u001b[38;5;132;01m}\u001b[39;00m\u001b[38;5;124m'\u001b[39m)\n\u001b[0;32m----> 6\u001b[0m     \u001b[43moptimize\u001b[49m\u001b[43m(\u001b[49m\u001b[43mfactors\u001b[49m\u001b[38;5;241;43m=\u001b[39;49m\u001b[43mfactors\u001b[49m\u001b[43m,\u001b[49m\n\u001b[1;32m      7\u001b[0m \u001b[43m             \u001b[49m\u001b[43mlearning_rate\u001b[49m\u001b[38;5;241;43m=\u001b[39;49m\u001b[38;5;241;43m1.00\u001b[39;49m\u001b[43m,\u001b[49m\n\u001b[1;32m      8\u001b[0m \u001b[43m             \u001b[49m\u001b[43mregularization\u001b[49m\u001b[38;5;241;43m=\u001b[39;49m\u001b[43mregularization\u001b[49m\u001b[43m,\u001b[49m\n\u001b[1;32m      9\u001b[0m \u001b[43m             \u001b[49m\u001b[43miterations\u001b[49m\u001b[38;5;241;43m=\u001b[39;49m\u001b[43miterations\u001b[49m\u001b[43m,\u001b[49m\n\u001b[1;32m     10\u001b[0m \u001b[43m             \u001b[49m\u001b[43mneg_prop\u001b[49m\u001b[38;5;241;43m=\u001b[39;49m\u001b[43mneg_prop\u001b[49m\u001b[43m)\u001b[49m\n",
      "Input \u001b[0;32mIn [5]\u001b[0m, in \u001b[0;36moptimize\u001b[0;34m(factors, learning_rate, regularization, iterations, neg_prop)\u001b[0m\n\u001b[1;32m      3\u001b[0m \u001b[38;5;28;01mdef\u001b[39;00m \u001b[38;5;21moptimize\u001b[39m(factors\u001b[38;5;241m=\u001b[39m\u001b[38;5;241m30\u001b[39m,\n\u001b[1;32m      4\u001b[0m              learning_rate\u001b[38;5;241m=\u001b[39m\u001b[38;5;241m1.00\u001b[39m,\n\u001b[1;32m      5\u001b[0m              regularization\u001b[38;5;241m=\u001b[39m\u001b[38;5;241m0.6\u001b[39m,\n\u001b[1;32m      6\u001b[0m              iterations\u001b[38;5;241m=\u001b[39m\u001b[38;5;241m30\u001b[39m,\n\u001b[1;32m      7\u001b[0m              neg_prop\u001b[38;5;241m=\u001b[39m\u001b[38;5;241m30\u001b[39m):\n\u001b[1;32m      9\u001b[0m     model \u001b[38;5;241m=\u001b[39m implicit\u001b[38;5;241m.\u001b[39mlmf\u001b[38;5;241m.\u001b[39mLogisticMatrixFactorization(factors\u001b[38;5;241m=\u001b[39mfactors,\n\u001b[1;32m     10\u001b[0m                                                      learning_rate\u001b[38;5;241m=\u001b[39mlearning_rate,\n\u001b[1;32m     11\u001b[0m                                                      regularization\u001b[38;5;241m=\u001b[39mregularization,\n\u001b[1;32m     12\u001b[0m                                                      iterations\u001b[38;5;241m=\u001b[39miterations,\n\u001b[1;32m     13\u001b[0m                                                      neg_prop\u001b[38;5;241m=\u001b[39mneg_prop,\n\u001b[1;32m     14\u001b[0m                                                      random_state\u001b[38;5;241m=\u001b[39m\u001b[38;5;241m42\u001b[39m)\n\u001b[0;32m---> 16\u001b[0m     \u001b[43mmodel\u001b[49m\u001b[38;5;241;43m.\u001b[39;49m\u001b[43mfit\u001b[49m\u001b[43m(\u001b[49m\u001b[43muser_item\u001b[49m\u001b[43m)\u001b[49m\n\u001b[1;32m     18\u001b[0m     start_time \u001b[38;5;241m=\u001b[39m time\u001b[38;5;241m.\u001b[39mtime()\n\u001b[1;32m     20\u001b[0m     userid \u001b[38;5;241m=\u001b[39m val_id\n",
      "File \u001b[0;32mlmf.pyx:183\u001b[0m, in \u001b[0;36mimplicit.cpu.lmf.LogisticMatrixFactorization.fit\u001b[0;34m()\u001b[0m\n",
      "File \u001b[0;32mlmf.pyx:198\u001b[0m, in \u001b[0;36mimplicit.cpu.lmf.LogisticMatrixFactorization.fit\u001b[0;34m()\u001b[0m\n",
      "File \u001b[0;32m/Library/Frameworks/Python.framework/Versions/3.10/lib/python3.10/site-packages/tqdm/notebook.py:271\u001b[0m, in \u001b[0;36mtqdm_notebook.update\u001b[0;34m(self, n)\u001b[0m\n\u001b[1;32m    269\u001b[0m \u001b[38;5;28;01mdef\u001b[39;00m \u001b[38;5;21mupdate\u001b[39m(\u001b[38;5;28mself\u001b[39m, n\u001b[38;5;241m=\u001b[39m\u001b[38;5;241m1\u001b[39m):\n\u001b[1;32m    270\u001b[0m     \u001b[38;5;28;01mtry\u001b[39;00m:\n\u001b[0;32m--> 271\u001b[0m         \u001b[38;5;28;01mreturn\u001b[39;00m \u001b[38;5;28;43msuper\u001b[39;49m\u001b[43m(\u001b[49m\u001b[43mtqdm_notebook\u001b[49m\u001b[43m,\u001b[49m\u001b[43m \u001b[49m\u001b[38;5;28;43mself\u001b[39;49m\u001b[43m)\u001b[49m\u001b[38;5;241m.\u001b[39mupdate(n\u001b[38;5;241m=\u001b[39mn)\n\u001b[1;32m    272\u001b[0m     \u001b[38;5;66;03m# NB: except ... [ as ...] breaks IPython async KeyboardInterrupt\u001b[39;00m\n\u001b[1;32m    273\u001b[0m     \u001b[38;5;28;01mexcept\u001b[39;00m:  \u001b[38;5;66;03m# NOQA\u001b[39;00m\n\u001b[1;32m    274\u001b[0m         \u001b[38;5;66;03m# cannot catch KeyboardInterrupt when using manual tqdm\u001b[39;00m\n\u001b[1;32m    275\u001b[0m         \u001b[38;5;66;03m# as the interrupt will most likely happen on another statement\u001b[39;00m\n",
      "\u001b[0;31mKeyboardInterrupt\u001b[0m: "
     ]
    }
   ],
   "source": [
    "for factors in [25, 50, 75]:\n",
    "    for iterations in [25, 50, 75]:\n",
    "        for neg_prop in [5, 15, 30, 50]:\n",
    "            for regularization in [0.001, 0.06, 0.6, 1]:\n",
    "                print(f'factors: {factors}, iterations: {iterations}, neg_prop: {neg_prop}, regularization: {regularization}')\n",
    "                optimize(factors=factors,\n",
    "                         learning_rate=1.00,\n",
    "                         regularization=regularization,\n",
    "                         iterations=iterations,\n",
    "                         neg_prop=neg_prop)"
   ]
  },
  {
   "cell_type": "code",
   "execution_count": 15,
   "id": "fab38176",
   "metadata": {},
   "outputs": [
    {
     "name": "stdout",
     "output_type": "stream",
     "text": [
      "factors: 30, iterations: 30, neg_prop: 5, regularization: 0.6\n"
     ]
    },
    {
     "data": {
      "application/vnd.jupyter.widget-view+json": {
       "model_id": "b3f330a701f84fb5abc35e7756679a7a",
       "version_major": 2,
       "version_minor": 0
      },
      "text/plain": [
       "  0%|          | 0/30 [00:00<?, ?it/s]"
      ]
     },
     "metadata": {},
     "output_type": "display_data"
    },
    {
     "name": "stdout",
     "output_type": "stream",
     "text": [
      "--- 4.047001123428345 seconds ---\n",
      "MRR@100 = 0.0071\n",
      "factors: 30, iterations: 30, neg_prop: 5, regularization: 1\n"
     ]
    },
    {
     "data": {
      "application/vnd.jupyter.widget-view+json": {
       "model_id": "394cf090852043d3b5c30825f941dc9e",
       "version_major": 2,
       "version_minor": 0
      },
      "text/plain": [
       "  0%|          | 0/30 [00:00<?, ?it/s]"
      ]
     },
     "metadata": {},
     "output_type": "display_data"
    },
    {
     "name": "stdout",
     "output_type": "stream",
     "text": [
      "--- 3.2544469833374023 seconds ---\n",
      "MRR@100 = 0.0080\n",
      "factors: 30, iterations: 30, neg_prop: 15, regularization: 0.6\n"
     ]
    },
    {
     "data": {
      "application/vnd.jupyter.widget-view+json": {
       "model_id": "f6a2a119b7144c03890ad64f263644e9",
       "version_major": 2,
       "version_minor": 0
      },
      "text/plain": [
       "  0%|          | 0/30 [00:00<?, ?it/s]"
      ]
     },
     "metadata": {},
     "output_type": "display_data"
    },
    {
     "name": "stdout",
     "output_type": "stream",
     "text": [
      "--- 3.172121047973633 seconds ---\n",
      "MRR@100 = 0.0058\n",
      "factors: 30, iterations: 30, neg_prop: 15, regularization: 1\n"
     ]
    },
    {
     "data": {
      "application/vnd.jupyter.widget-view+json": {
       "model_id": "ae82fb9dc6b54018b78a669b7cee332f",
       "version_major": 2,
       "version_minor": 0
      },
      "text/plain": [
       "  0%|          | 0/30 [00:00<?, ?it/s]"
      ]
     },
     "metadata": {},
     "output_type": "display_data"
    },
    {
     "name": "stdout",
     "output_type": "stream",
     "text": [
      "--- 3.3290188312530518 seconds ---\n",
      "MRR@100 = 0.0060\n",
      "factors: 30, iterations: 30, neg_prop: 30, regularization: 0.6\n"
     ]
    },
    {
     "data": {
      "application/vnd.jupyter.widget-view+json": {
       "model_id": "d22f3c463f484512b36539182f351d08",
       "version_major": 2,
       "version_minor": 0
      },
      "text/plain": [
       "  0%|          | 0/30 [00:00<?, ?it/s]"
      ]
     },
     "metadata": {},
     "output_type": "display_data"
    },
    {
     "name": "stdout",
     "output_type": "stream",
     "text": [
      "--- 3.323359966278076 seconds ---\n",
      "MRR@100 = 0.0057\n",
      "factors: 30, iterations: 30, neg_prop: 30, regularization: 1\n"
     ]
    },
    {
     "data": {
      "application/vnd.jupyter.widget-view+json": {
       "model_id": "89c0c1418f13440a9c54f902bf83ef03",
       "version_major": 2,
       "version_minor": 0
      },
      "text/plain": [
       "  0%|          | 0/30 [00:00<?, ?it/s]"
      ]
     },
     "metadata": {},
     "output_type": "display_data"
    },
    {
     "name": "stdout",
     "output_type": "stream",
     "text": [
      "--- 3.254788875579834 seconds ---\n",
      "MRR@100 = 0.0055\n",
      "factors: 30, iterations: 30, neg_prop: 50, regularization: 0.6\n"
     ]
    },
    {
     "data": {
      "application/vnd.jupyter.widget-view+json": {
       "model_id": "0bc0040923534f60a7786603beaf0f7f",
       "version_major": 2,
       "version_minor": 0
      },
      "text/plain": [
       "  0%|          | 0/30 [00:00<?, ?it/s]"
      ]
     },
     "metadata": {},
     "output_type": "display_data"
    },
    {
     "name": "stdout",
     "output_type": "stream",
     "text": [
      "--- 3.4441189765930176 seconds ---\n",
      "MRR@100 = 0.0045\n",
      "factors: 30, iterations: 30, neg_prop: 50, regularization: 1\n"
     ]
    },
    {
     "data": {
      "application/vnd.jupyter.widget-view+json": {
       "model_id": "716b3f0f652b420e8f4c7569bcfb4d2a",
       "version_major": 2,
       "version_minor": 0
      },
      "text/plain": [
       "  0%|          | 0/30 [00:00<?, ?it/s]"
      ]
     },
     "metadata": {},
     "output_type": "display_data"
    },
    {
     "name": "stdout",
     "output_type": "stream",
     "text": [
      "--- 3.394207000732422 seconds ---\n",
      "MRR@100 = 0.0040\n",
      "factors: 30, iterations: 60, neg_prop: 5, regularization: 0.6\n"
     ]
    },
    {
     "data": {
      "application/vnd.jupyter.widget-view+json": {
       "model_id": "244e4db90f214c54a7a82be0831e4c1f",
       "version_major": 2,
       "version_minor": 0
      },
      "text/plain": [
       "  0%|          | 0/60 [00:00<?, ?it/s]"
      ]
     },
     "metadata": {},
     "output_type": "display_data"
    },
    {
     "name": "stdout",
     "output_type": "stream",
     "text": [
      "--- 4.4878129959106445 seconds ---\n",
      "MRR@100 = 0.0060\n",
      "factors: 30, iterations: 60, neg_prop: 5, regularization: 1\n"
     ]
    },
    {
     "data": {
      "application/vnd.jupyter.widget-view+json": {
       "model_id": "587f56f46f8b416390e0775ac9e2a1de",
       "version_major": 2,
       "version_minor": 0
      },
      "text/plain": [
       "  0%|          | 0/60 [00:00<?, ?it/s]"
      ]
     },
     "metadata": {},
     "output_type": "display_data"
    },
    {
     "name": "stdout",
     "output_type": "stream",
     "text": [
      "--- 2.9480369091033936 seconds ---\n",
      "MRR@100 = 0.0077\n",
      "factors: 30, iterations: 60, neg_prop: 15, regularization: 0.6\n"
     ]
    },
    {
     "data": {
      "application/vnd.jupyter.widget-view+json": {
       "model_id": "a93d634518e54723ac2e8e5c0b1ebb21",
       "version_major": 2,
       "version_minor": 0
      },
      "text/plain": [
       "  0%|          | 0/60 [00:00<?, ?it/s]"
      ]
     },
     "metadata": {},
     "output_type": "display_data"
    },
    {
     "name": "stdout",
     "output_type": "stream",
     "text": [
      "--- 2.905726909637451 seconds ---\n",
      "MRR@100 = 0.0047\n",
      "factors: 30, iterations: 60, neg_prop: 15, regularization: 1\n"
     ]
    },
    {
     "data": {
      "application/vnd.jupyter.widget-view+json": {
       "model_id": "4a40f77e06db46ae9cbbff3ffd4b47f6",
       "version_major": 2,
       "version_minor": 0
      },
      "text/plain": [
       "  0%|          | 0/60 [00:00<?, ?it/s]"
      ]
     },
     "metadata": {},
     "output_type": "display_data"
    },
    {
     "name": "stdout",
     "output_type": "stream",
     "text": [
      "--- 2.702054738998413 seconds ---\n",
      "MRR@100 = 0.0068\n",
      "factors: 30, iterations: 60, neg_prop: 30, regularization: 0.6\n"
     ]
    },
    {
     "data": {
      "application/vnd.jupyter.widget-view+json": {
       "model_id": "1553f129c9c34eb68d27feaefc367ec0",
       "version_major": 2,
       "version_minor": 0
      },
      "text/plain": [
       "  0%|          | 0/60 [00:00<?, ?it/s]"
      ]
     },
     "metadata": {},
     "output_type": "display_data"
    },
    {
     "name": "stdout",
     "output_type": "stream",
     "text": [
      "--- 2.879179000854492 seconds ---\n",
      "MRR@100 = 0.0045\n",
      "factors: 30, iterations: 60, neg_prop: 30, regularization: 1\n"
     ]
    },
    {
     "data": {
      "application/vnd.jupyter.widget-view+json": {
       "model_id": "2cd79d7faceb448fb9d8079c3b7ac06f",
       "version_major": 2,
       "version_minor": 0
      },
      "text/plain": [
       "  0%|          | 0/60 [00:00<?, ?it/s]"
      ]
     },
     "metadata": {},
     "output_type": "display_data"
    },
    {
     "name": "stdout",
     "output_type": "stream",
     "text": [
      "--- 3.1896231174468994 seconds ---\n",
      "MRR@100 = 0.0043\n",
      "factors: 30, iterations: 60, neg_prop: 50, regularization: 0.6\n"
     ]
    },
    {
     "data": {
      "application/vnd.jupyter.widget-view+json": {
       "model_id": "23cf8407314d472599a0b0ee9a8b655c",
       "version_major": 2,
       "version_minor": 0
      },
      "text/plain": [
       "  0%|          | 0/60 [00:00<?, ?it/s]"
      ]
     },
     "metadata": {},
     "output_type": "display_data"
    },
    {
     "name": "stdout",
     "output_type": "stream",
     "text": [
      "--- 5.802767992019653 seconds ---\n",
      "MRR@100 = 0.0043\n",
      "factors: 30, iterations: 60, neg_prop: 50, regularization: 1\n"
     ]
    },
    {
     "data": {
      "application/vnd.jupyter.widget-view+json": {
       "model_id": "3469d68db1204e3e9035d2a7bf17db36",
       "version_major": 2,
       "version_minor": 0
      },
      "text/plain": [
       "  0%|          | 0/60 [00:00<?, ?it/s]"
      ]
     },
     "metadata": {},
     "output_type": "display_data"
    },
    {
     "name": "stdout",
     "output_type": "stream",
     "text": [
      "--- 5.158094882965088 seconds ---\n",
      "MRR@100 = 0.0056\n",
      "factors: 30, iterations: 90, neg_prop: 5, regularization: 0.6\n"
     ]
    },
    {
     "data": {
      "application/vnd.jupyter.widget-view+json": {
       "model_id": "de6c0cc51e6143579f27fd39291de26b",
       "version_major": 2,
       "version_minor": 0
      },
      "text/plain": [
       "  0%|          | 0/90 [00:00<?, ?it/s]"
      ]
     },
     "metadata": {},
     "output_type": "display_data"
    },
    {
     "name": "stdout",
     "output_type": "stream",
     "text": [
      "--- 5.140831232070923 seconds ---\n",
      "MRR@100 = 0.0042\n",
      "factors: 30, iterations: 90, neg_prop: 5, regularization: 1\n"
     ]
    },
    {
     "data": {
      "application/vnd.jupyter.widget-view+json": {
       "model_id": "4318d46fe78742bcb01e8f96cc62040a",
       "version_major": 2,
       "version_minor": 0
      },
      "text/plain": [
       "  0%|          | 0/90 [00:00<?, ?it/s]"
      ]
     },
     "metadata": {},
     "output_type": "display_data"
    },
    {
     "name": "stdout",
     "output_type": "stream",
     "text": [
      "--- 6.020882844924927 seconds ---\n",
      "MRR@100 = 0.0065\n",
      "factors: 30, iterations: 90, neg_prop: 15, regularization: 0.6\n"
     ]
    },
    {
     "data": {
      "application/vnd.jupyter.widget-view+json": {
       "model_id": "f94b47ac63494cce97be3ba552dab403",
       "version_major": 2,
       "version_minor": 0
      },
      "text/plain": [
       "  0%|          | 0/90 [00:00<?, ?it/s]"
      ]
     },
     "metadata": {},
     "output_type": "display_data"
    },
    {
     "name": "stdout",
     "output_type": "stream",
     "text": [
      "--- 6.014966011047363 seconds ---\n",
      "MRR@100 = 0.0040\n",
      "factors: 30, iterations: 90, neg_prop: 15, regularization: 1\n"
     ]
    },
    {
     "data": {
      "application/vnd.jupyter.widget-view+json": {
       "model_id": "b18056868d9f476ab26d4d5ce3d900b6",
       "version_major": 2,
       "version_minor": 0
      },
      "text/plain": [
       "  0%|          | 0/90 [00:00<?, ?it/s]"
      ]
     },
     "metadata": {},
     "output_type": "display_data"
    },
    {
     "name": "stdout",
     "output_type": "stream",
     "text": [
      "--- 4.073479890823364 seconds ---\n",
      "MRR@100 = 0.0066\n",
      "factors: 30, iterations: 90, neg_prop: 30, regularization: 0.6\n"
     ]
    },
    {
     "data": {
      "application/vnd.jupyter.widget-view+json": {
       "model_id": "24cad98801984886817f9345899fbf23",
       "version_major": 2,
       "version_minor": 0
      },
      "text/plain": [
       "  0%|          | 0/90 [00:00<?, ?it/s]"
      ]
     },
     "metadata": {},
     "output_type": "display_data"
    },
    {
     "name": "stdout",
     "output_type": "stream",
     "text": [
      "--- 4.042035102844238 seconds ---\n",
      "MRR@100 = 0.0045\n",
      "factors: 30, iterations: 90, neg_prop: 30, regularization: 1\n"
     ]
    },
    {
     "data": {
      "application/vnd.jupyter.widget-view+json": {
       "model_id": "216c3e41fd974ae7b83552f367b8450d",
       "version_major": 2,
       "version_minor": 0
      },
      "text/plain": [
       "  0%|          | 0/90 [00:00<?, ?it/s]"
      ]
     },
     "metadata": {},
     "output_type": "display_data"
    },
    {
     "name": "stdout",
     "output_type": "stream",
     "text": [
      "--- 3.592302083969116 seconds ---\n",
      "MRR@100 = 0.0062\n",
      "factors: 30, iterations: 90, neg_prop: 50, regularization: 0.6\n"
     ]
    },
    {
     "data": {
      "application/vnd.jupyter.widget-view+json": {
       "model_id": "0082847d84a04bd7ba74b35638c0959f",
       "version_major": 2,
       "version_minor": 0
      },
      "text/plain": [
       "  0%|          | 0/90 [00:00<?, ?it/s]"
      ]
     },
     "metadata": {},
     "output_type": "display_data"
    },
    {
     "name": "stdout",
     "output_type": "stream",
     "text": [
      "--- 2.851248264312744 seconds ---\n",
      "MRR@100 = 0.0054\n",
      "factors: 30, iterations: 90, neg_prop: 50, regularization: 1\n"
     ]
    },
    {
     "data": {
      "application/vnd.jupyter.widget-view+json": {
       "model_id": "3e0ff3a404eb491791ea12b64d18d8ab",
       "version_major": 2,
       "version_minor": 0
      },
      "text/plain": [
       "  0%|          | 0/90 [00:00<?, ?it/s]"
      ]
     },
     "metadata": {},
     "output_type": "display_data"
    },
    {
     "name": "stdout",
     "output_type": "stream",
     "text": [
      "--- 3.1758229732513428 seconds ---\n",
      "MRR@100 = 0.0057\n",
      "factors: 60, iterations: 30, neg_prop: 5, regularization: 0.6\n"
     ]
    },
    {
     "data": {
      "application/vnd.jupyter.widget-view+json": {
       "model_id": "a17ba7c703684d14bf282f6be64a2eeb",
       "version_major": 2,
       "version_minor": 0
      },
      "text/plain": [
       "  0%|          | 0/30 [00:00<?, ?it/s]"
      ]
     },
     "metadata": {},
     "output_type": "display_data"
    },
    {
     "name": "stdout",
     "output_type": "stream",
     "text": [
      "--- 3.508333683013916 seconds ---\n",
      "MRR@100 = 0.0043\n",
      "factors: 60, iterations: 30, neg_prop: 5, regularization: 1\n"
     ]
    },
    {
     "data": {
      "application/vnd.jupyter.widget-view+json": {
       "model_id": "378c9da08a17453590840d047db029a5",
       "version_major": 2,
       "version_minor": 0
      },
      "text/plain": [
       "  0%|          | 0/30 [00:00<?, ?it/s]"
      ]
     },
     "metadata": {},
     "output_type": "display_data"
    },
    {
     "name": "stdout",
     "output_type": "stream",
     "text": [
      "--- 4.2966389656066895 seconds ---\n",
      "MRR@100 = 0.0056\n",
      "factors: 60, iterations: 30, neg_prop: 15, regularization: 0.6\n"
     ]
    },
    {
     "data": {
      "application/vnd.jupyter.widget-view+json": {
       "model_id": "f04b747c1d1e4d0ab38d45c6cad180ac",
       "version_major": 2,
       "version_minor": 0
      },
      "text/plain": [
       "  0%|          | 0/30 [00:00<?, ?it/s]"
      ]
     },
     "metadata": {},
     "output_type": "display_data"
    },
    {
     "ename": "KeyboardInterrupt",
     "evalue": "",
     "output_type": "error",
     "traceback": [
      "\u001b[0;31m---------------------------------------------------------------------------\u001b[0m",
      "\u001b[0;31mKeyboardInterrupt\u001b[0m                         Traceback (most recent call last)",
      "Input \u001b[0;32mIn [15]\u001b[0m, in \u001b[0;36m<cell line: 1>\u001b[0;34m()\u001b[0m\n\u001b[1;32m      4\u001b[0m \u001b[38;5;28;01mfor\u001b[39;00m regularization \u001b[38;5;129;01min\u001b[39;00m [\u001b[38;5;241m0.6\u001b[39m, \u001b[38;5;241m1\u001b[39m]:\n\u001b[1;32m      5\u001b[0m     \u001b[38;5;28mprint\u001b[39m(\u001b[38;5;124mf\u001b[39m\u001b[38;5;124m'\u001b[39m\u001b[38;5;124mfactors: \u001b[39m\u001b[38;5;132;01m{\u001b[39;00mfactors\u001b[38;5;132;01m}\u001b[39;00m\u001b[38;5;124m, iterations: \u001b[39m\u001b[38;5;132;01m{\u001b[39;00miterations\u001b[38;5;132;01m}\u001b[39;00m\u001b[38;5;124m, neg_prop: \u001b[39m\u001b[38;5;132;01m{\u001b[39;00mneg_prop\u001b[38;5;132;01m}\u001b[39;00m\u001b[38;5;124m, regularization: \u001b[39m\u001b[38;5;132;01m{\u001b[39;00mregularization\u001b[38;5;132;01m}\u001b[39;00m\u001b[38;5;124m'\u001b[39m)\n\u001b[0;32m----> 6\u001b[0m     \u001b[43moptimize\u001b[49m\u001b[43m(\u001b[49m\u001b[43mfactors\u001b[49m\u001b[38;5;241;43m=\u001b[39;49m\u001b[43mfactors\u001b[49m\u001b[43m,\u001b[49m\n\u001b[1;32m      7\u001b[0m \u001b[43m             \u001b[49m\u001b[43mlearning_rate\u001b[49m\u001b[38;5;241;43m=\u001b[39;49m\u001b[38;5;241;43m1.00\u001b[39;49m\u001b[43m,\u001b[49m\n\u001b[1;32m      8\u001b[0m \u001b[43m             \u001b[49m\u001b[43mregularization\u001b[49m\u001b[38;5;241;43m=\u001b[39;49m\u001b[43mregularization\u001b[49m\u001b[43m,\u001b[49m\n\u001b[1;32m      9\u001b[0m \u001b[43m             \u001b[49m\u001b[43miterations\u001b[49m\u001b[38;5;241;43m=\u001b[39;49m\u001b[43miterations\u001b[49m\u001b[43m,\u001b[49m\n\u001b[1;32m     10\u001b[0m \u001b[43m             \u001b[49m\u001b[43mneg_prop\u001b[49m\u001b[38;5;241;43m=\u001b[39;49m\u001b[43mneg_prop\u001b[49m\u001b[43m)\u001b[49m\n",
      "Input \u001b[0;32mIn [5]\u001b[0m, in \u001b[0;36moptimize\u001b[0;34m(factors, learning_rate, regularization, iterations, neg_prop)\u001b[0m\n\u001b[1;32m      3\u001b[0m \u001b[38;5;28;01mdef\u001b[39;00m \u001b[38;5;21moptimize\u001b[39m(factors\u001b[38;5;241m=\u001b[39m\u001b[38;5;241m30\u001b[39m,\n\u001b[1;32m      4\u001b[0m              learning_rate\u001b[38;5;241m=\u001b[39m\u001b[38;5;241m1.00\u001b[39m,\n\u001b[1;32m      5\u001b[0m              regularization\u001b[38;5;241m=\u001b[39m\u001b[38;5;241m0.6\u001b[39m,\n\u001b[1;32m      6\u001b[0m              iterations\u001b[38;5;241m=\u001b[39m\u001b[38;5;241m30\u001b[39m,\n\u001b[1;32m      7\u001b[0m              neg_prop\u001b[38;5;241m=\u001b[39m\u001b[38;5;241m30\u001b[39m):\n\u001b[1;32m      9\u001b[0m     model \u001b[38;5;241m=\u001b[39m implicit\u001b[38;5;241m.\u001b[39mlmf\u001b[38;5;241m.\u001b[39mLogisticMatrixFactorization(factors\u001b[38;5;241m=\u001b[39mfactors,\n\u001b[1;32m     10\u001b[0m                                                      learning_rate\u001b[38;5;241m=\u001b[39mlearning_rate,\n\u001b[1;32m     11\u001b[0m                                                      regularization\u001b[38;5;241m=\u001b[39mregularization,\n\u001b[1;32m     12\u001b[0m                                                      iterations\u001b[38;5;241m=\u001b[39miterations,\n\u001b[1;32m     13\u001b[0m                                                      neg_prop\u001b[38;5;241m=\u001b[39mneg_prop,\n\u001b[1;32m     14\u001b[0m                                                      random_state\u001b[38;5;241m=\u001b[39m\u001b[38;5;241m42\u001b[39m)\n\u001b[0;32m---> 16\u001b[0m     \u001b[43mmodel\u001b[49m\u001b[38;5;241;43m.\u001b[39;49m\u001b[43mfit\u001b[49m\u001b[43m(\u001b[49m\u001b[43muser_item\u001b[49m\u001b[43m)\u001b[49m\n\u001b[1;32m     18\u001b[0m     start_time \u001b[38;5;241m=\u001b[39m time\u001b[38;5;241m.\u001b[39mtime()\n\u001b[1;32m     20\u001b[0m     userid \u001b[38;5;241m=\u001b[39m val_id\n",
      "File \u001b[0;32mlmf.pyx:183\u001b[0m, in \u001b[0;36mimplicit.cpu.lmf.LogisticMatrixFactorization.fit\u001b[0;34m()\u001b[0m\n",
      "File \u001b[0;32mlmf.pyx:198\u001b[0m, in \u001b[0;36mimplicit.cpu.lmf.LogisticMatrixFactorization.fit\u001b[0;34m()\u001b[0m\n",
      "File \u001b[0;32m/Library/Frameworks/Python.framework/Versions/3.10/lib/python3.10/site-packages/tqdm/notebook.py:271\u001b[0m, in \u001b[0;36mtqdm_notebook.update\u001b[0;34m(self, n)\u001b[0m\n\u001b[1;32m    269\u001b[0m \u001b[38;5;28;01mdef\u001b[39;00m \u001b[38;5;21mupdate\u001b[39m(\u001b[38;5;28mself\u001b[39m, n\u001b[38;5;241m=\u001b[39m\u001b[38;5;241m1\u001b[39m):\n\u001b[1;32m    270\u001b[0m     \u001b[38;5;28;01mtry\u001b[39;00m:\n\u001b[0;32m--> 271\u001b[0m         \u001b[38;5;28;01mreturn\u001b[39;00m \u001b[38;5;28;43msuper\u001b[39;49m\u001b[43m(\u001b[49m\u001b[43mtqdm_notebook\u001b[49m\u001b[43m,\u001b[49m\u001b[43m \u001b[49m\u001b[38;5;28;43mself\u001b[39;49m\u001b[43m)\u001b[49m\u001b[38;5;241m.\u001b[39mupdate(n\u001b[38;5;241m=\u001b[39mn)\n\u001b[1;32m    272\u001b[0m     \u001b[38;5;66;03m# NB: except ... [ as ...] breaks IPython async KeyboardInterrupt\u001b[39;00m\n\u001b[1;32m    273\u001b[0m     \u001b[38;5;28;01mexcept\u001b[39;00m:  \u001b[38;5;66;03m# NOQA\u001b[39;00m\n\u001b[1;32m    274\u001b[0m         \u001b[38;5;66;03m# cannot catch KeyboardInterrupt when using manual tqdm\u001b[39;00m\n\u001b[1;32m    275\u001b[0m         \u001b[38;5;66;03m# as the interrupt will most likely happen on another statement\u001b[39;00m\n",
      "\u001b[0;31mKeyboardInterrupt\u001b[0m: "
     ]
    }
   ],
   "source": [
    "for factors in [30, 60, 90]:\n",
    "    for iterations in [30, 60, 90]:\n",
    "        for neg_prop in [5, 15, 30, 50]:\n",
    "            for regularization in [0.6, 1]:\n",
    "                print(f'factors: {factors}, iterations: {iterations}, neg_prop: {neg_prop}, regularization: {regularization}')\n",
    "                optimize(factors=factors,\n",
    "                         learning_rate=1.00,\n",
    "                         regularization=regularization,\n",
    "                         iterations=iterations,\n",
    "                         neg_prop=neg_prop)"
   ]
  },
  {
   "cell_type": "code",
   "execution_count": 16,
   "id": "f7ca1133",
   "metadata": {
    "scrolled": true
   },
   "outputs": [
    {
     "name": "stdout",
     "output_type": "stream",
     "text": [
      "factors: 50, iterations: 50, neg_prop: 5, regularization: 0.6\n"
     ]
    },
    {
     "data": {
      "application/vnd.jupyter.widget-view+json": {
       "model_id": "81cc7a5225cb4151827bca23ef6354e5",
       "version_major": 2,
       "version_minor": 0
      },
      "text/plain": [
       "  0%|          | 0/50 [00:00<?, ?it/s]"
      ]
     },
     "metadata": {},
     "output_type": "display_data"
    },
    {
     "name": "stdout",
     "output_type": "stream",
     "text": [
      "--- 2.4925220012664795 seconds ---\n",
      "MRR@100 = 0.0075\n",
      "factors: 50, iterations: 50, neg_prop: 15, regularization: 0.6\n"
     ]
    },
    {
     "data": {
      "application/vnd.jupyter.widget-view+json": {
       "model_id": "8632cc3e8aa24dc6aa2dffc7af2655e5",
       "version_major": 2,
       "version_minor": 0
      },
      "text/plain": [
       "  0%|          | 0/50 [00:00<?, ?it/s]"
      ]
     },
     "metadata": {},
     "output_type": "display_data"
    },
    {
     "name": "stdout",
     "output_type": "stream",
     "text": [
      "--- 2.4947900772094727 seconds ---\n",
      "MRR@100 = 0.0067\n",
      "factors: 50, iterations: 50, neg_prop: 30, regularization: 0.6\n"
     ]
    },
    {
     "data": {
      "application/vnd.jupyter.widget-view+json": {
       "model_id": "e05190065dc34f368eb01153fb9184fb",
       "version_major": 2,
       "version_minor": 0
      },
      "text/plain": [
       "  0%|          | 0/50 [00:00<?, ?it/s]"
      ]
     },
     "metadata": {},
     "output_type": "display_data"
    },
    {
     "name": "stdout",
     "output_type": "stream",
     "text": [
      "--- 2.4530868530273438 seconds ---\n",
      "MRR@100 = 0.0089\n",
      "factors: 50, iterations: 50, neg_prop: 50, regularization: 0.6\n"
     ]
    },
    {
     "data": {
      "application/vnd.jupyter.widget-view+json": {
       "model_id": "b7e31bd630ba4de78415dd3531da79ba",
       "version_major": 2,
       "version_minor": 0
      },
      "text/plain": [
       "  0%|          | 0/50 [00:00<?, ?it/s]"
      ]
     },
     "metadata": {},
     "output_type": "display_data"
    },
    {
     "name": "stdout",
     "output_type": "stream",
     "text": [
      "--- 2.3719959259033203 seconds ---\n",
      "MRR@100 = 0.0072\n",
      "factors: 50, iterations: 75, neg_prop: 5, regularization: 0.6\n"
     ]
    },
    {
     "data": {
      "application/vnd.jupyter.widget-view+json": {
       "model_id": "db2591b9d4f0494a95fb1e6c97ea313e",
       "version_major": 2,
       "version_minor": 0
      },
      "text/plain": [
       "  0%|          | 0/75 [00:00<?, ?it/s]"
      ]
     },
     "metadata": {},
     "output_type": "display_data"
    },
    {
     "name": "stdout",
     "output_type": "stream",
     "text": [
      "--- 2.5494067668914795 seconds ---\n",
      "MRR@100 = 0.0070\n",
      "factors: 50, iterations: 75, neg_prop: 15, regularization: 0.6\n"
     ]
    },
    {
     "data": {
      "application/vnd.jupyter.widget-view+json": {
       "model_id": "dd2a52b02bc6436788055747c416171c",
       "version_major": 2,
       "version_minor": 0
      },
      "text/plain": [
       "  0%|          | 0/75 [00:00<?, ?it/s]"
      ]
     },
     "metadata": {},
     "output_type": "display_data"
    },
    {
     "name": "stdout",
     "output_type": "stream",
     "text": [
      "--- 2.4757039546966553 seconds ---\n",
      "MRR@100 = 0.0059\n",
      "factors: 50, iterations: 75, neg_prop: 30, regularization: 0.6\n"
     ]
    },
    {
     "data": {
      "application/vnd.jupyter.widget-view+json": {
       "model_id": "40d4d78fa5b64665a6ec8420fecc3774",
       "version_major": 2,
       "version_minor": 0
      },
      "text/plain": [
       "  0%|          | 0/75 [00:00<?, ?it/s]"
      ]
     },
     "metadata": {},
     "output_type": "display_data"
    },
    {
     "name": "stdout",
     "output_type": "stream",
     "text": [
      "--- 2.760787010192871 seconds ---\n",
      "MRR@100 = 0.0068\n",
      "factors: 50, iterations: 75, neg_prop: 50, regularization: 0.6\n"
     ]
    },
    {
     "data": {
      "application/vnd.jupyter.widget-view+json": {
       "model_id": "92d67a56238c4f27b4232bda56a247a3",
       "version_major": 2,
       "version_minor": 0
      },
      "text/plain": [
       "  0%|          | 0/75 [00:00<?, ?it/s]"
      ]
     },
     "metadata": {},
     "output_type": "display_data"
    },
    {
     "name": "stdout",
     "output_type": "stream",
     "text": [
      "--- 2.384608030319214 seconds ---\n",
      "MRR@100 = 0.0084\n",
      "factors: 50, iterations: 100, neg_prop: 5, regularization: 0.6\n"
     ]
    },
    {
     "data": {
      "application/vnd.jupyter.widget-view+json": {
       "model_id": "4532604ae94b466b8125c0d80c2677d0",
       "version_major": 2,
       "version_minor": 0
      },
      "text/plain": [
       "  0%|          | 0/100 [00:00<?, ?it/s]"
      ]
     },
     "metadata": {},
     "output_type": "display_data"
    },
    {
     "name": "stdout",
     "output_type": "stream",
     "text": [
      "--- 2.469797134399414 seconds ---\n",
      "MRR@100 = 0.0093\n",
      "factors: 50, iterations: 100, neg_prop: 15, regularization: 0.6\n"
     ]
    },
    {
     "data": {
      "application/vnd.jupyter.widget-view+json": {
       "model_id": "dc8244398d224d9191a60fc95a7ddd61",
       "version_major": 2,
       "version_minor": 0
      },
      "text/plain": [
       "  0%|          | 0/100 [00:00<?, ?it/s]"
      ]
     },
     "metadata": {},
     "output_type": "display_data"
    },
    {
     "name": "stdout",
     "output_type": "stream",
     "text": [
      "--- 3.264414072036743 seconds ---\n",
      "MRR@100 = 0.0060\n",
      "factors: 50, iterations: 100, neg_prop: 30, regularization: 0.6\n"
     ]
    },
    {
     "data": {
      "application/vnd.jupyter.widget-view+json": {
       "model_id": "11d586391dcc4984894787b5755a18ed",
       "version_major": 2,
       "version_minor": 0
      },
      "text/plain": [
       "  0%|          | 0/100 [00:00<?, ?it/s]"
      ]
     },
     "metadata": {},
     "output_type": "display_data"
    },
    {
     "name": "stdout",
     "output_type": "stream",
     "text": [
      "--- 2.485426902770996 seconds ---\n",
      "MRR@100 = 0.0056\n",
      "factors: 50, iterations: 100, neg_prop: 50, regularization: 0.6\n"
     ]
    },
    {
     "data": {
      "application/vnd.jupyter.widget-view+json": {
       "model_id": "2b9f26c979294124817ea63e2e06c968",
       "version_major": 2,
       "version_minor": 0
      },
      "text/plain": [
       "  0%|          | 0/100 [00:00<?, ?it/s]"
      ]
     },
     "metadata": {},
     "output_type": "display_data"
    },
    {
     "name": "stdout",
     "output_type": "stream",
     "text": [
      "--- 2.457336902618408 seconds ---\n",
      "MRR@100 = 0.0079\n",
      "factors: 75, iterations: 50, neg_prop: 5, regularization: 0.6\n"
     ]
    },
    {
     "data": {
      "application/vnd.jupyter.widget-view+json": {
       "model_id": "29b4ef37c253403098f91d1103414915",
       "version_major": 2,
       "version_minor": 0
      },
      "text/plain": [
       "  0%|          | 0/50 [00:00<?, ?it/s]"
      ]
     },
     "metadata": {},
     "output_type": "display_data"
    },
    {
     "name": "stdout",
     "output_type": "stream",
     "text": [
      "--- 3.047149896621704 seconds ---\n",
      "MRR@100 = 0.0086\n",
      "factors: 75, iterations: 50, neg_prop: 15, regularization: 0.6\n"
     ]
    },
    {
     "data": {
      "application/vnd.jupyter.widget-view+json": {
       "model_id": "16f7972c8f14468ea808a28d6d3d772b",
       "version_major": 2,
       "version_minor": 0
      },
      "text/plain": [
       "  0%|          | 0/50 [00:00<?, ?it/s]"
      ]
     },
     "metadata": {},
     "output_type": "display_data"
    },
    {
     "name": "stdout",
     "output_type": "stream",
     "text": [
      "--- 2.785829782485962 seconds ---\n",
      "MRR@100 = 0.0082\n",
      "factors: 75, iterations: 50, neg_prop: 30, regularization: 0.6\n"
     ]
    },
    {
     "data": {
      "application/vnd.jupyter.widget-view+json": {
       "model_id": "468c9d6f751844029c6ffa671ffdb44e",
       "version_major": 2,
       "version_minor": 0
      },
      "text/plain": [
       "  0%|          | 0/50 [00:00<?, ?it/s]"
      ]
     },
     "metadata": {},
     "output_type": "display_data"
    },
    {
     "name": "stdout",
     "output_type": "stream",
     "text": [
      "--- 3.5857810974121094 seconds ---\n",
      "MRR@100 = 0.0079\n",
      "factors: 75, iterations: 50, neg_prop: 50, regularization: 0.6\n"
     ]
    },
    {
     "data": {
      "application/vnd.jupyter.widget-view+json": {
       "model_id": "6568b21d607e4618bea0fa0f0458335d",
       "version_major": 2,
       "version_minor": 0
      },
      "text/plain": [
       "  0%|          | 0/50 [00:00<?, ?it/s]"
      ]
     },
     "metadata": {},
     "output_type": "display_data"
    },
    {
     "name": "stdout",
     "output_type": "stream",
     "text": [
      "--- 3.56581711769104 seconds ---\n",
      "MRR@100 = 0.0068\n",
      "factors: 75, iterations: 75, neg_prop: 5, regularization: 0.6\n"
     ]
    },
    {
     "data": {
      "application/vnd.jupyter.widget-view+json": {
       "model_id": "dbad47ed6ddb47f490457e650523a320",
       "version_major": 2,
       "version_minor": 0
      },
      "text/plain": [
       "  0%|          | 0/75 [00:00<?, ?it/s]"
      ]
     },
     "metadata": {},
     "output_type": "display_data"
    },
    {
     "name": "stdout",
     "output_type": "stream",
     "text": [
      "--- 3.1859049797058105 seconds ---\n",
      "MRR@100 = 0.0095\n",
      "factors: 75, iterations: 75, neg_prop: 15, regularization: 0.6\n"
     ]
    },
    {
     "data": {
      "application/vnd.jupyter.widget-view+json": {
       "model_id": "13cda9a8ca2a4d4391b708b32a107a56",
       "version_major": 2,
       "version_minor": 0
      },
      "text/plain": [
       "  0%|          | 0/75 [00:00<?, ?it/s]"
      ]
     },
     "metadata": {},
     "output_type": "display_data"
    },
    {
     "name": "stdout",
     "output_type": "stream",
     "text": [
      "--- 3.644648790359497 seconds ---\n",
      "MRR@100 = 0.0066\n",
      "factors: 75, iterations: 75, neg_prop: 30, regularization: 0.6\n"
     ]
    },
    {
     "data": {
      "application/vnd.jupyter.widget-view+json": {
       "model_id": "cef9f816be2c4333a6cf0fea07e1fb2c",
       "version_major": 2,
       "version_minor": 0
      },
      "text/plain": [
       "  0%|          | 0/75 [00:00<?, ?it/s]"
      ]
     },
     "metadata": {},
     "output_type": "display_data"
    },
    {
     "name": "stdout",
     "output_type": "stream",
     "text": [
      "--- 3.2605509757995605 seconds ---\n",
      "MRR@100 = 0.0070\n",
      "factors: 75, iterations: 75, neg_prop: 50, regularization: 0.6\n"
     ]
    },
    {
     "data": {
      "application/vnd.jupyter.widget-view+json": {
       "model_id": "d8051cc66c3c4b7a931ee531c9afe8e0",
       "version_major": 2,
       "version_minor": 0
      },
      "text/plain": [
       "  0%|          | 0/75 [00:00<?, ?it/s]"
      ]
     },
     "metadata": {},
     "output_type": "display_data"
    },
    {
     "name": "stdout",
     "output_type": "stream",
     "text": [
      "--- 3.291259765625 seconds ---\n",
      "MRR@100 = 0.0084\n",
      "factors: 75, iterations: 100, neg_prop: 5, regularization: 0.6\n"
     ]
    },
    {
     "data": {
      "application/vnd.jupyter.widget-view+json": {
       "model_id": "970ae36d4b0344118ba3d01f766c6757",
       "version_major": 2,
       "version_minor": 0
      },
      "text/plain": [
       "  0%|          | 0/100 [00:00<?, ?it/s]"
      ]
     },
     "metadata": {},
     "output_type": "display_data"
    },
    {
     "name": "stdout",
     "output_type": "stream",
     "text": [
      "--- 3.3757259845733643 seconds ---\n",
      "MRR@100 = 0.0094\n",
      "factors: 75, iterations: 100, neg_prop: 15, regularization: 0.6\n"
     ]
    },
    {
     "data": {
      "application/vnd.jupyter.widget-view+json": {
       "model_id": "c2b74c39de2b4705a35c02b688384538",
       "version_major": 2,
       "version_minor": 0
      },
      "text/plain": [
       "  0%|          | 0/100 [00:00<?, ?it/s]"
      ]
     },
     "metadata": {},
     "output_type": "display_data"
    },
    {
     "name": "stdout",
     "output_type": "stream",
     "text": [
      "--- 3.098332166671753 seconds ---\n",
      "MRR@100 = 0.0066\n",
      "factors: 75, iterations: 100, neg_prop: 30, regularization: 0.6\n"
     ]
    },
    {
     "data": {
      "application/vnd.jupyter.widget-view+json": {
       "model_id": "82dd2fe9b55141a7ab670c0f7fd6c58d",
       "version_major": 2,
       "version_minor": 0
      },
      "text/plain": [
       "  0%|          | 0/100 [00:00<?, ?it/s]"
      ]
     },
     "metadata": {},
     "output_type": "display_data"
    },
    {
     "name": "stdout",
     "output_type": "stream",
     "text": [
      "--- 3.1236910820007324 seconds ---\n",
      "MRR@100 = 0.0065\n",
      "factors: 75, iterations: 100, neg_prop: 50, regularization: 0.6\n"
     ]
    },
    {
     "data": {
      "application/vnd.jupyter.widget-view+json": {
       "model_id": "47389917c0e54806ad03d552a8648237",
       "version_major": 2,
       "version_minor": 0
      },
      "text/plain": [
       "  0%|          | 0/100 [00:00<?, ?it/s]"
      ]
     },
     "metadata": {},
     "output_type": "display_data"
    },
    {
     "name": "stdout",
     "output_type": "stream",
     "text": [
      "--- 3.002100944519043 seconds ---\n",
      "MRR@100 = 0.0071\n",
      "factors: 100, iterations: 50, neg_prop: 5, regularization: 0.6\n"
     ]
    },
    {
     "data": {
      "application/vnd.jupyter.widget-view+json": {
       "model_id": "3f1bfcacc3ff41669ef42953b42ea2aa",
       "version_major": 2,
       "version_minor": 0
      },
      "text/plain": [
       "  0%|          | 0/50 [00:00<?, ?it/s]"
      ]
     },
     "metadata": {},
     "output_type": "display_data"
    },
    {
     "name": "stdout",
     "output_type": "stream",
     "text": [
      "--- 3.394735097885132 seconds ---\n",
      "MRR@100 = 0.0098\n",
      "factors: 100, iterations: 50, neg_prop: 15, regularization: 0.6\n"
     ]
    },
    {
     "data": {
      "application/vnd.jupyter.widget-view+json": {
       "model_id": "e6a1637d7c0f4297b29d0e8bf1b06702",
       "version_major": 2,
       "version_minor": 0
      },
      "text/plain": [
       "  0%|          | 0/50 [00:00<?, ?it/s]"
      ]
     },
     "metadata": {},
     "output_type": "display_data"
    },
    {
     "name": "stdout",
     "output_type": "stream",
     "text": [
      "--- 3.7338030338287354 seconds ---\n",
      "MRR@100 = 0.0096\n",
      "factors: 100, iterations: 50, neg_prop: 30, regularization: 0.6\n"
     ]
    },
    {
     "data": {
      "application/vnd.jupyter.widget-view+json": {
       "model_id": "8ffa55196cdf48c0b1d7b7d626cf749a",
       "version_major": 2,
       "version_minor": 0
      },
      "text/plain": [
       "  0%|          | 0/50 [00:00<?, ?it/s]"
      ]
     },
     "metadata": {},
     "output_type": "display_data"
    },
    {
     "name": "stdout",
     "output_type": "stream",
     "text": [
      "--- 3.2932119369506836 seconds ---\n",
      "MRR@100 = 0.0065\n",
      "factors: 100, iterations: 50, neg_prop: 50, regularization: 0.6\n"
     ]
    },
    {
     "data": {
      "application/vnd.jupyter.widget-view+json": {
       "model_id": "18d5d687197e4b07a9caa52e55f2ed59",
       "version_major": 2,
       "version_minor": 0
      },
      "text/plain": [
       "  0%|          | 0/50 [00:00<?, ?it/s]"
      ]
     },
     "metadata": {},
     "output_type": "display_data"
    },
    {
     "name": "stdout",
     "output_type": "stream",
     "text": [
      "--- 3.486853837966919 seconds ---\n",
      "MRR@100 = 0.0091\n",
      "factors: 100, iterations: 75, neg_prop: 5, regularization: 0.6\n"
     ]
    },
    {
     "data": {
      "application/vnd.jupyter.widget-view+json": {
       "model_id": "43a27c68839a432da13b81476ba3e81e",
       "version_major": 2,
       "version_minor": 0
      },
      "text/plain": [
       "  0%|          | 0/75 [00:00<?, ?it/s]"
      ]
     },
     "metadata": {},
     "output_type": "display_data"
    },
    {
     "name": "stdout",
     "output_type": "stream",
     "text": [
      "--- 3.265077829360962 seconds ---\n",
      "MRR@100 = 0.0120\n",
      "factors: 100, iterations: 75, neg_prop: 15, regularization: 0.6\n"
     ]
    },
    {
     "data": {
      "application/vnd.jupyter.widget-view+json": {
       "model_id": "f7e6596a2dbe4e7b9da5a57577afc638",
       "version_major": 2,
       "version_minor": 0
      },
      "text/plain": [
       "  0%|          | 0/75 [00:00<?, ?it/s]"
      ]
     },
     "metadata": {},
     "output_type": "display_data"
    },
    {
     "name": "stdout",
     "output_type": "stream",
     "text": [
      "--- 3.8517050743103027 seconds ---\n",
      "MRR@100 = 0.0097\n",
      "factors: 100, iterations: 75, neg_prop: 30, regularization: 0.6\n"
     ]
    },
    {
     "data": {
      "application/vnd.jupyter.widget-view+json": {
       "model_id": "b4e27012a570438a93ffe2325951de10",
       "version_major": 2,
       "version_minor": 0
      },
      "text/plain": [
       "  0%|          | 0/75 [00:00<?, ?it/s]"
      ]
     },
     "metadata": {},
     "output_type": "display_data"
    },
    {
     "name": "stdout",
     "output_type": "stream",
     "text": [
      "--- 3.719766855239868 seconds ---\n",
      "MRR@100 = 0.0051\n",
      "factors: 100, iterations: 75, neg_prop: 50, regularization: 0.6\n"
     ]
    },
    {
     "data": {
      "application/vnd.jupyter.widget-view+json": {
       "model_id": "afdde0de2777436cb601eee288b3d819",
       "version_major": 2,
       "version_minor": 0
      },
      "text/plain": [
       "  0%|          | 0/75 [00:00<?, ?it/s]"
      ]
     },
     "metadata": {},
     "output_type": "display_data"
    },
    {
     "name": "stdout",
     "output_type": "stream",
     "text": [
      "--- 3.214462995529175 seconds ---\n",
      "MRR@100 = 0.0105\n",
      "factors: 100, iterations: 100, neg_prop: 5, regularization: 0.6\n"
     ]
    },
    {
     "data": {
      "application/vnd.jupyter.widget-view+json": {
       "model_id": "6f4e9d7f6d394e4497f78408c4cc2f60",
       "version_major": 2,
       "version_minor": 0
      },
      "text/plain": [
       "  0%|          | 0/100 [00:00<?, ?it/s]"
      ]
     },
     "metadata": {},
     "output_type": "display_data"
    },
    {
     "name": "stdout",
     "output_type": "stream",
     "text": [
      "--- 3.800618886947632 seconds ---\n",
      "MRR@100 = 0.0137\n",
      "factors: 100, iterations: 100, neg_prop: 15, regularization: 0.6\n"
     ]
    },
    {
     "data": {
      "application/vnd.jupyter.widget-view+json": {
       "model_id": "8d59d99ceb514d4fa5bfd11a4c26a218",
       "version_major": 2,
       "version_minor": 0
      },
      "text/plain": [
       "  0%|          | 0/100 [00:00<?, ?it/s]"
      ]
     },
     "metadata": {},
     "output_type": "display_data"
    },
    {
     "name": "stdout",
     "output_type": "stream",
     "text": [
      "--- 3.126235246658325 seconds ---\n",
      "MRR@100 = 0.0078\n",
      "factors: 100, iterations: 100, neg_prop: 30, regularization: 0.6\n"
     ]
    },
    {
     "data": {
      "application/vnd.jupyter.widget-view+json": {
       "model_id": "837df5da22d146eab00a95348a068759",
       "version_major": 2,
       "version_minor": 0
      },
      "text/plain": [
       "  0%|          | 0/100 [00:00<?, ?it/s]"
      ]
     },
     "metadata": {},
     "output_type": "display_data"
    },
    {
     "name": "stdout",
     "output_type": "stream",
     "text": [
      "--- 3.823390007019043 seconds ---\n",
      "MRR@100 = 0.0054\n",
      "factors: 100, iterations: 100, neg_prop: 50, regularization: 0.6\n"
     ]
    },
    {
     "data": {
      "application/vnd.jupyter.widget-view+json": {
       "model_id": "59b931938e8b4cf1b53ef6234ca80d45",
       "version_major": 2,
       "version_minor": 0
      },
      "text/plain": [
       "  0%|          | 0/100 [00:00<?, ?it/s]"
      ]
     },
     "metadata": {},
     "output_type": "display_data"
    },
    {
     "name": "stdout",
     "output_type": "stream",
     "text": [
      "--- 3.717478036880493 seconds ---\n",
      "MRR@100 = 0.0081\n"
     ]
    }
   ],
   "source": [
    "for factors in [50, 75, 100]:\n",
    "    for iterations in [50, 75, 100]:\n",
    "        for neg_prop in [5, 15, 30, 50]:\n",
    "                print(f'factors: {factors}, iterations: {iterations}, neg_prop: {neg_prop}, regularization: {regularization}')\n",
    "                optimize(factors=factors,\n",
    "                         learning_rate=1.00,\n",
    "                         regularization=1.00,\n",
    "                         iterations=iterations,\n",
    "                         neg_prop=neg_prop)"
   ]
  },
  {
   "cell_type": "code",
   "execution_count": 17,
   "id": "a4d6d312",
   "metadata": {},
   "outputs": [
    {
     "data": {
      "application/vnd.jupyter.widget-view+json": {
       "model_id": "60fda0ee55364c02adedc780a176e2b6",
       "version_major": 2,
       "version_minor": 0
      },
      "text/plain": [
       "  0%|          | 0/100 [00:00<?, ?it/s]"
      ]
     },
     "metadata": {},
     "output_type": "display_data"
    },
    {
     "name": "stdout",
     "output_type": "stream",
     "text": [
      "--- 4.323123931884766 seconds ---\n",
      "MRR@100 = 0.0074\n"
     ]
    }
   ],
   "source": [
    "optimize(factors=100,\n",
    "         learning_rate=1.00,\n",
    "         regularization=1.00,\n",
    "         iterations=100,\n",
    "         neg_prop=10)"
   ]
  },
  {
   "cell_type": "code",
   "execution_count": 18,
   "id": "2af436b4",
   "metadata": {},
   "outputs": [
    {
     "data": {
      "application/vnd.jupyter.widget-view+json": {
       "model_id": "6140233ff06a4ccaba01f591a9eb01e2",
       "version_major": 2,
       "version_minor": 0
      },
      "text/plain": [
       "  0%|          | 0/100 [00:00<?, ?it/s]"
      ]
     },
     "metadata": {},
     "output_type": "display_data"
    },
    {
     "name": "stdout",
     "output_type": "stream",
     "text": [
      "--- 3.7371020317077637 seconds ---\n",
      "MRR@100 = 0.0068\n"
     ]
    }
   ],
   "source": [
    "optimize(factors=100,\n",
    "         learning_rate=1.00,\n",
    "         regularization=1.00,\n",
    "         iterations=100,\n",
    "         neg_prop=100)"
   ]
  },
  {
   "cell_type": "code",
   "execution_count": 19,
   "id": "3435744e",
   "metadata": {
    "scrolled": true
   },
   "outputs": [
    {
     "data": {
      "application/vnd.jupyter.widget-view+json": {
       "model_id": "0bba6b0161264305acb95410ee30055c",
       "version_major": 2,
       "version_minor": 0
      },
      "text/plain": [
       "  0%|          | 0/30 [00:00<?, ?it/s]"
      ]
     },
     "metadata": {},
     "output_type": "display_data"
    },
    {
     "name": "stdout",
     "output_type": "stream",
     "text": [
      "--- 3.1400530338287354 seconds ---\n",
      "MRR@100 = 0.0057\n"
     ]
    }
   ],
   "source": [
    "optimize()"
   ]
  },
  {
   "cell_type": "code",
   "execution_count": 20,
   "id": "7eb2c9fe",
   "metadata": {},
   "outputs": [
    {
     "name": "stdout",
     "output_type": "stream",
     "text": [
      "neg_prop: 2\n"
     ]
    },
    {
     "data": {
      "application/vnd.jupyter.widget-view+json": {
       "model_id": "2293fa7f86884a868fff051cdb79944e",
       "version_major": 2,
       "version_minor": 0
      },
      "text/plain": [
       "  0%|          | 0/100 [00:00<?, ?it/s]"
      ]
     },
     "metadata": {},
     "output_type": "display_data"
    },
    {
     "name": "stdout",
     "output_type": "stream",
     "text": [
      "--- 4.853476047515869 seconds ---\n",
      "MRR@100 = 0.0147\n",
      "neg_prop: 3\n"
     ]
    },
    {
     "data": {
      "application/vnd.jupyter.widget-view+json": {
       "model_id": "047076c7e4e04be5b6e9ffddade5aad3",
       "version_major": 2,
       "version_minor": 0
      },
      "text/plain": [
       "  0%|          | 0/100 [00:00<?, ?it/s]"
      ]
     },
     "metadata": {},
     "output_type": "display_data"
    },
    {
     "name": "stdout",
     "output_type": "stream",
     "text": [
      "--- 5.43638014793396 seconds ---\n",
      "MRR@100 = 0.0149\n",
      "neg_prop: 6\n"
     ]
    },
    {
     "data": {
      "application/vnd.jupyter.widget-view+json": {
       "model_id": "5c84dfc2cba648d4a41e800f46b137fc",
       "version_major": 2,
       "version_minor": 0
      },
      "text/plain": [
       "  0%|          | 0/100 [00:00<?, ?it/s]"
      ]
     },
     "metadata": {},
     "output_type": "display_data"
    },
    {
     "name": "stdout",
     "output_type": "stream",
     "text": [
      "--- 4.45660400390625 seconds ---\n",
      "MRR@100 = 0.0113\n",
      "neg_prop: 7\n"
     ]
    },
    {
     "data": {
      "application/vnd.jupyter.widget-view+json": {
       "model_id": "813db2de0d684a68bf665036de7df7a7",
       "version_major": 2,
       "version_minor": 0
      },
      "text/plain": [
       "  0%|          | 0/100 [00:00<?, ?it/s]"
      ]
     },
     "metadata": {},
     "output_type": "display_data"
    },
    {
     "name": "stdout",
     "output_type": "stream",
     "text": [
      "--- 3.837890863418579 seconds ---\n",
      "MRR@100 = 0.0105\n"
     ]
    }
   ],
   "source": [
    "for neg_prop in [2, 3, 6, 7]:\n",
    "        print(f'neg_prop: {neg_prop}')\n",
    "        optimize(factors=100,\n",
    "                 learning_rate=1.00,\n",
    "                 regularization=1.00,\n",
    "                 iterations=100,\n",
    "                 neg_prop=neg_prop)"
   ]
  },
  {
   "cell_type": "code",
   "execution_count": 21,
   "id": "dd4017e4",
   "metadata": {},
   "outputs": [
    {
     "name": "stdout",
     "output_type": "stream",
     "text": [
      "neg_prop: 0\n"
     ]
    },
    {
     "data": {
      "application/vnd.jupyter.widget-view+json": {
       "model_id": "41ea19844fcc406c936534b7289ed739",
       "version_major": 2,
       "version_minor": 0
      },
      "text/plain": [
       "  0%|          | 0/100 [00:00<?, ?it/s]"
      ]
     },
     "metadata": {},
     "output_type": "display_data"
    },
    {
     "name": "stdout",
     "output_type": "stream",
     "text": [
      "--- 3.9025018215179443 seconds ---\n",
      "MRR@100 = 0.0024\n",
      "neg_prop: 1\n"
     ]
    },
    {
     "data": {
      "application/vnd.jupyter.widget-view+json": {
       "model_id": "8dbc37480c1b48398c3df224c004d506",
       "version_major": 2,
       "version_minor": 0
      },
      "text/plain": [
       "  0%|          | 0/100 [00:00<?, ?it/s]"
      ]
     },
     "metadata": {},
     "output_type": "display_data"
    },
    {
     "name": "stdout",
     "output_type": "stream",
     "text": [
      "--- 3.8038747310638428 seconds ---\n",
      "MRR@100 = 0.0164\n"
     ]
    }
   ],
   "source": [
    "for neg_prop in [0, 1]:\n",
    "        print(f'neg_prop: {neg_prop}')\n",
    "        optimize(factors=100,\n",
    "                 learning_rate=1.00,\n",
    "                 regularization=1.00,\n",
    "                 iterations=100,\n",
    "                 neg_prop=neg_prop)"
   ]
  },
  {
   "cell_type": "code",
   "execution_count": 22,
   "id": "2b2769e3",
   "metadata": {},
   "outputs": [
    {
     "data": {
      "application/vnd.jupyter.widget-view+json": {
       "model_id": "135bc1c2eca54de1865e44fe1cafb687",
       "version_major": 2,
       "version_minor": 0
      },
      "text/plain": [
       "  0%|          | 0/100 [00:00<?, ?it/s]"
      ]
     },
     "metadata": {},
     "output_type": "display_data"
    },
    {
     "name": "stdout",
     "output_type": "stream",
     "text": [
      "--- 3.9672839641571045 seconds ---\n",
      "MRR@100 = 0.0122\n"
     ]
    }
   ],
   "source": [
    "optimize(factors=100,\n",
    "         learning_rate=1.00,\n",
    "         regularization=1.00,\n",
    "         iterations=100,\n",
    "         neg_prop=4)"
   ]
  },
  {
   "cell_type": "code",
   "execution_count": 23,
   "id": "3fff91f2",
   "metadata": {},
   "outputs": [
    {
     "name": "stdout",
     "output_type": "stream",
     "text": [
      "factors: 100, iterations: 100\n"
     ]
    },
    {
     "data": {
      "application/vnd.jupyter.widget-view+json": {
       "model_id": "8f0997400cf54c6ca467ec30497dead0",
       "version_major": 2,
       "version_minor": 0
      },
      "text/plain": [
       "  0%|          | 0/100 [00:00<?, ?it/s]"
      ]
     },
     "metadata": {},
     "output_type": "display_data"
    },
    {
     "name": "stdout",
     "output_type": "stream",
     "text": [
      "--- 3.99219012260437 seconds ---\n",
      "MRR@100 = 0.0164\n",
      "factors: 100, iterations: 200\n"
     ]
    },
    {
     "data": {
      "application/vnd.jupyter.widget-view+json": {
       "model_id": "dc6fba0c0899428b8187c1bdd27168dc",
       "version_major": 2,
       "version_minor": 0
      },
      "text/plain": [
       "  0%|          | 0/200 [00:00<?, ?it/s]"
      ]
     },
     "metadata": {},
     "output_type": "display_data"
    },
    {
     "name": "stdout",
     "output_type": "stream",
     "text": [
      "--- 4.0477213859558105 seconds ---\n",
      "MRR@100 = 0.0180\n",
      "factors: 100, iterations: 300\n"
     ]
    },
    {
     "data": {
      "application/vnd.jupyter.widget-view+json": {
       "model_id": "5f79bef698354c988f6156a988d16a17",
       "version_major": 2,
       "version_minor": 0
      },
      "text/plain": [
       "  0%|          | 0/300 [00:00<?, ?it/s]"
      ]
     },
     "metadata": {},
     "output_type": "display_data"
    },
    {
     "name": "stdout",
     "output_type": "stream",
     "text": [
      "--- 3.835782289505005 seconds ---\n",
      "MRR@100 = 0.0179\n",
      "factors: 200, iterations: 100\n"
     ]
    },
    {
     "data": {
      "application/vnd.jupyter.widget-view+json": {
       "model_id": "44606f270e2f46b3ad6fd3cb256c949b",
       "version_major": 2,
       "version_minor": 0
      },
      "text/plain": [
       "  0%|          | 0/100 [00:00<?, ?it/s]"
      ]
     },
     "metadata": {},
     "output_type": "display_data"
    },
    {
     "name": "stdout",
     "output_type": "stream",
     "text": [
      "--- 5.009420871734619 seconds ---\n",
      "MRR@100 = 0.0139\n",
      "factors: 200, iterations: 200\n"
     ]
    },
    {
     "data": {
      "application/vnd.jupyter.widget-view+json": {
       "model_id": "461d47e2f48a41f7956179a9b3eeea12",
       "version_major": 2,
       "version_minor": 0
      },
      "text/plain": [
       "  0%|          | 0/200 [00:00<?, ?it/s]"
      ]
     },
     "metadata": {},
     "output_type": "display_data"
    },
    {
     "name": "stdout",
     "output_type": "stream",
     "text": [
      "--- 4.78754186630249 seconds ---\n",
      "MRR@100 = 0.0171\n",
      "factors: 200, iterations: 300\n"
     ]
    },
    {
     "data": {
      "application/vnd.jupyter.widget-view+json": {
       "model_id": "9581a7820e3c4a618d6e4c3018e8ec80",
       "version_major": 2,
       "version_minor": 0
      },
      "text/plain": [
       "  0%|          | 0/300 [00:00<?, ?it/s]"
      ]
     },
     "metadata": {},
     "output_type": "display_data"
    },
    {
     "name": "stdout",
     "output_type": "stream",
     "text": [
      "--- 3.654660940170288 seconds ---\n",
      "MRR@100 = 0.0189\n",
      "factors: 300, iterations: 100\n"
     ]
    },
    {
     "data": {
      "application/vnd.jupyter.widget-view+json": {
       "model_id": "6c89a8bc5ded4199818db4595fdbb999",
       "version_major": 2,
       "version_minor": 0
      },
      "text/plain": [
       "  0%|          | 0/100 [00:00<?, ?it/s]"
      ]
     },
     "metadata": {},
     "output_type": "display_data"
    },
    {
     "name": "stdout",
     "output_type": "stream",
     "text": [
      "--- 5.27360200881958 seconds ---\n",
      "MRR@100 = 0.0168\n",
      "factors: 300, iterations: 200\n"
     ]
    },
    {
     "data": {
      "application/vnd.jupyter.widget-view+json": {
       "model_id": "a6a53df6c3374714ae7188a699b2b15f",
       "version_major": 2,
       "version_minor": 0
      },
      "text/plain": [
       "  0%|          | 0/200 [00:00<?, ?it/s]"
      ]
     },
     "metadata": {},
     "output_type": "display_data"
    },
    {
     "name": "stdout",
     "output_type": "stream",
     "text": [
      "--- 6.008830785751343 seconds ---\n",
      "MRR@100 = 0.0186\n",
      "factors: 300, iterations: 300\n"
     ]
    },
    {
     "data": {
      "application/vnd.jupyter.widget-view+json": {
       "model_id": "6e8acd6ac57640a995cb2d0a9fb06d1d",
       "version_major": 2,
       "version_minor": 0
      },
      "text/plain": [
       "  0%|          | 0/300 [00:00<?, ?it/s]"
      ]
     },
     "metadata": {},
     "output_type": "display_data"
    },
    {
     "name": "stdout",
     "output_type": "stream",
     "text": [
      "--- 5.011133193969727 seconds ---\n",
      "MRR@100 = 0.0182\n"
     ]
    }
   ],
   "source": [
    "for factors in [100, 200, 300]:\n",
    "    for iterations in [100, 200, 300]:\n",
    "                print(f'factors: {factors}, iterations: {iterations}')\n",
    "                optimize(factors=factors,\n",
    "                         learning_rate=1.00,\n",
    "                         regularization=1.00,\n",
    "                         iterations=iterations,\n",
    "                         neg_prop=1)"
   ]
  }
 ],
 "metadata": {
  "kernelspec": {
   "display_name": "Python 3 (ipykernel)",
   "language": "python",
   "name": "python3"
  },
  "language_info": {
   "codemirror_mode": {
    "name": "ipython",
    "version": 3
   },
   "file_extension": ".py",
   "mimetype": "text/x-python",
   "name": "python",
   "nbconvert_exporter": "python",
   "pygments_lexer": "ipython3",
   "version": "3.10.5"
  }
 },
 "nbformat": 4,
 "nbformat_minor": 5
}
