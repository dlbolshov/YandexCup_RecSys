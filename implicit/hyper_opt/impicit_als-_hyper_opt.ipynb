{
 "cells": [
  {
   "cell_type": "code",
   "execution_count": 1,
   "id": "45f90bcc",
   "metadata": {
    "scrolled": true
   },
   "outputs": [
    {
     "name": "stdout",
     "output_type": "stream",
     "text": [
      "Requirement already satisfied: scipy in c:\\python38\\lib\\site-packages (1.9.3)\n",
      "Requirement already satisfied: numpy<1.26.0,>=1.18.5 in c:\\python38\\lib\\site-packages (from scipy) (1.23.4)\n",
      "Requirement already satisfied: numpy in c:\\python38\\lib\\site-packages (1.23.4)\n",
      "Requirement already satisfied: pandas in c:\\python38\\lib\\site-packages (1.5.1)\n",
      "Requirement already satisfied: numpy>=1.20.3 in c:\\python38\\lib\\site-packages (from pandas) (1.23.4)\n",
      "Requirement already satisfied: pytz>=2020.1 in c:\\python38\\lib\\site-packages (from pandas) (2022.6)\n",
      "Requirement already satisfied: python-dateutil>=2.8.1 in c:\\python38\\lib\\site-packages (from pandas) (2.8.2)\n",
      "Requirement already satisfied: six>=1.5 in c:\\python38\\lib\\site-packages (from python-dateutil>=2.8.1->pandas) (1.16.0)\n"
     ]
    }
   ],
   "source": [
    "!pip install scipy\n",
    "!pip install numpy\n",
    "!pip install pandas"
   ]
  },
  {
   "cell_type": "code",
   "execution_count": 2,
   "id": "f7aa00d5",
   "metadata": {},
   "outputs": [
    {
     "name": "stderr",
     "output_type": "stream",
     "text": [
      "c:\\python38\\lib\\site-packages\\tqdm\\auto.py:22: TqdmWarning: IProgress not found. Please update jupyter and ipywidgets. See https://ipywidgets.readthedocs.io/en/stable/user_install.html\n",
      "  from .autonotebook import tqdm as notebook_tqdm\n"
     ]
    }
   ],
   "source": [
    "import numpy as np\n",
    "import pandas as pd\n",
    "from scipy.sparse import csr_matrix\n",
    "import implicit"
   ]
  },
  {
   "cell_type": "code",
   "execution_count": 7,
   "id": "ad371767",
   "metadata": {},
   "outputs": [],
   "source": [
    "train_path = r\"C:\\Users\\dlbol\\Downloads\\likes\\likes\\likes_data\\train\"\n",
    "test_path = r\"C:\\Users\\dlbol\\Downloads\\likes\\likes\\likes_data\\test\"\n",
    "target_val_path = r\"C:\\Users\\dlbol\\Downloads\\likes\\likes\\likes_data\\target_val\"\n",
    "pred_val_path = r\"C:\\Users\\dlbol\\Downloads\\likes\\likes\\likes_data\\pred_val\""
   ]
  },
  {
   "cell_type": "code",
   "execution_count": 8,
   "id": "5320546c",
   "metadata": {},
   "outputs": [],
   "source": [
    "def calc_mrr(predict, answer):\n",
    "    for i in range(len(predict)):\n",
    "        if predict[i] == answer:\n",
    "            return 1. / (i + 1)\n",
    "    return 0\n",
    "\n",
    "max_prediction_len = 100\n",
    "\n",
    "def calc_score(target_path, predict_path):\n",
    "    with open(target_path) as f:\n",
    "        y_true = [int(x.strip()) for x in f.readlines()]\n",
    "\n",
    "    with open(predict_path) as f:\n",
    "        y_pred = [[int(x) for x in line.strip().split(' ')] for line in f.readlines()]\n",
    "\n",
    "    mrr_score = 0\n",
    "    for (pred, answer) in zip(y_pred, y_true):\n",
    "        if len(pred) > max_prediction_len:\n",
    "            raise ValueError('$maximum prediction length is {}, got {}$'.format(max_prediction_len, len(y_pred[i])))\n",
    "        mrr_score += calc_mrr(pred, answer)\n",
    "\n",
    "    print(f\"MRR@100 = {(mrr_score / len(y_true)):.4f}\")"
   ]
  },
  {
   "cell_type": "code",
   "execution_count": 9,
   "id": "1a54241c",
   "metadata": {},
   "outputs": [
    {
     "name": "stdout",
     "output_type": "stream",
     "text": [
      "CPU times: total: 4 s\n",
      "Wall time: 4.02 s\n"
     ]
    }
   ],
   "source": [
    "%%time\n",
    "\n",
    "list_coord = []\n",
    "list_coord_val = []\n",
    "target_val = []\n",
    "np.random.seed(42)  \n",
    "val_id = np.random.choice(range(10001), size=1000, replace=False)\n",
    "val_id.sort()\n",
    "\n",
    "with open(train_path) as f:\n",
    "    lines = f.readlines()\n",
    "    idx = 0\n",
    "    idx_val = 0\n",
    "    for line in lines:\n",
    "        tracks = line.strip().split(' ')\n",
    "        if len(tracks) == 0:\n",
    "            print(0)\n",
    "        if len(tracks) == 1:\n",
    "            print(1)\n",
    "        for i, track in enumerate(tracks):\n",
    "            if idx in val_id and i+1 == len(tracks):\n",
    "                target_val.append(track)\n",
    "                idx_val += 1\n",
    "                continue\n",
    "            if idx in val_id:\n",
    "                list_coord_val.append((idx_val, track))\n",
    "            list_coord.append((idx, track))\n",
    "        idx += 1\n",
    "        if idx >= 10000:\n",
    "            break"
   ]
  },
  {
   "cell_type": "code",
   "execution_count": 10,
   "id": "36b1c380",
   "metadata": {
    "scrolled": true
   },
   "outputs": [
    {
     "name": "stdout",
     "output_type": "stream",
     "text": [
      "CPU times: total: 375 ms\n",
      "Wall time: 376 ms\n"
     ]
    }
   ],
   "source": [
    "%%time\n",
    "\n",
    "arr_rows = np.array([i[0] for i in list_coord])\n",
    "arr_cols = np.array([i[1] for i in list_coord]).astype(int)\n",
    "ones = np.ones(arr_rows.shape[0])\n",
    "user_item = csr_matrix((ones, (arr_rows, arr_cols)), dtype=int)\n",
    "#item_user = csr_matrix((ones, (arr_cols, arr_rows)), dtype=int)\n",
    "\n",
    "arr_rows_val = np.array([i[0] for i in list_coord_val])\n",
    "arr_cols_val = np.array([i[1] for i in list_coord_val]).astype(int)\n",
    "ones_val = np.ones(arr_rows_val.shape[0])\n",
    "user_item_val = csr_matrix((ones_val, (arr_rows_val, arr_cols_val)), dtype=int)"
   ]
  },
  {
   "cell_type": "code",
   "execution_count": null,
   "id": "23db09e7",
   "metadata": {},
   "outputs": [],
   "source": [
    "import time\n",
    "\n",
    "def optimize(factors=100,\n",
    "             regularization=0.01,\n",
    "             alpha=1.0,\n",
    "             use_native=True,\n",
    "             use_cg=True,\n",
    "             iterations=15,\n",
    "             calculate_training_loss=False):\n",
    "    \n",
    "    model = implicit.als.AlternatingLeastSquares(factors=factors, \n",
    "                                                 regularization=regularization,\n",
    "                                                 alpha=alpha,\n",
    "                                                 use_native=use_native,\n",
    "                                                 use_cg=use_cg,\n",
    "                                                 iterations=iterations,\n",
    "                                                 random_state=42)\n",
    " \n",
    "    model.fit(user_item)\n",
    "    \n",
    "    start_time = time.time()\n",
    "    \n",
    "    userid = val_id\n",
    "    recommendations = model.recommend(userid, user_item_val, N=100, filter_already_liked_items=True)\n",
    "    result = [' '.join(map(str, i)) + '\\n' for i in recommendations[0]]\n",
    "    \n",
    "    print(\"--- %s seconds ---\" % (time.time() - start_time))\n",
    "    \n",
    "    with open(pred_val_path, 'w') as f:\n",
    "        f.writelines(result)\n",
    "    \n",
    "    with open(target_val_path, 'w') as f:\n",
    "        for i in target_val:\n",
    "            f.write(f'{i}\\n')\n",
    "            \n",
    "    calc_score(target_val_path, pred_val_path)"
   ]
  },
  {
   "cell_type": "code",
   "execution_count": 239,
   "id": "3ea1a88a",
   "metadata": {
    "scrolled": true
   },
   "outputs": [
    {
     "name": "stdout",
     "output_type": "stream",
     "text": [
      "use_cg, False, factors: 5, iterations: 5, alpha: 0.001, regularization: 0.001\n"
     ]
    },
    {
     "data": {
      "application/vnd.jupyter.widget-view+json": {
       "model_id": "86670ccf263f4fdf88dd367f52e07e65",
       "version_major": 2,
       "version_minor": 0
      },
      "text/plain": [
       "  0%|          | 0/5 [00:00<?, ?it/s]"
      ]
     },
     "metadata": {},
     "output_type": "display_data"
    },
    {
     "name": "stdout",
     "output_type": "stream",
     "text": [
      "--- 0.9567289352416992 seconds ---\n",
      "MRR@100 = 0.0048\n",
      "use_cg, False, factors: 5, iterations: 5, alpha: 0.001, regularization: 0.01\n"
     ]
    },
    {
     "data": {
      "application/vnd.jupyter.widget-view+json": {
       "model_id": "d9305136049847559ffeebc96211e342",
       "version_major": 2,
       "version_minor": 0
      },
      "text/plain": [
       "  0%|          | 0/5 [00:00<?, ?it/s]"
      ]
     },
     "metadata": {},
     "output_type": "display_data"
    },
    {
     "name": "stdout",
     "output_type": "stream",
     "text": [
      "--- 0.959949254989624 seconds ---\n",
      "MRR@100 = 0.0052\n",
      "use_cg, False, factors: 5, iterations: 5, alpha: 0.001, regularization: 0.1\n"
     ]
    },
    {
     "data": {
      "application/vnd.jupyter.widget-view+json": {
       "model_id": "1cf4326aa9a94855a26ff663b3c801b9",
       "version_major": 2,
       "version_minor": 0
      },
      "text/plain": [
       "  0%|          | 0/5 [00:00<?, ?it/s]"
      ]
     },
     "metadata": {},
     "output_type": "display_data"
    },
    {
     "name": "stdout",
     "output_type": "stream",
     "text": [
      "--- 0.8995699882507324 seconds ---\n",
      "MRR@100 = 0.0018\n",
      "use_cg, False, factors: 5, iterations: 5, alpha: 0.001, regularization: 1\n"
     ]
    },
    {
     "data": {
      "application/vnd.jupyter.widget-view+json": {
       "model_id": "ccca63ef482b4f4b8fe503156364e66f",
       "version_major": 2,
       "version_minor": 0
      },
      "text/plain": [
       "  0%|          | 0/5 [00:00<?, ?it/s]"
      ]
     },
     "metadata": {},
     "output_type": "display_data"
    },
    {
     "name": "stdout",
     "output_type": "stream",
     "text": [
      "--- 0.9381389617919922 seconds ---\n",
      "MRR@100 = 0.0013\n",
      "use_cg, False, factors: 5, iterations: 5, alpha: 0.001, regularization: 10\n"
     ]
    },
    {
     "data": {
      "application/vnd.jupyter.widget-view+json": {
       "model_id": "847f553d44b54336be310b38da69b89e",
       "version_major": 2,
       "version_minor": 0
      },
      "text/plain": [
       "  0%|          | 0/5 [00:00<?, ?it/s]"
      ]
     },
     "metadata": {},
     "output_type": "display_data"
    },
    {
     "name": "stdout",
     "output_type": "stream",
     "text": [
      "--- 0.9286201000213623 seconds ---\n",
      "MRR@100 = 0.0001\n",
      "use_cg, False, factors: 5, iterations: 5, alpha: 0.01, regularization: 0.001\n"
     ]
    },
    {
     "data": {
      "application/vnd.jupyter.widget-view+json": {
       "model_id": "6a563fa5a43840b68bd5fe35400a6004",
       "version_major": 2,
       "version_minor": 0
      },
      "text/plain": [
       "  0%|          | 0/5 [00:00<?, ?it/s]"
      ]
     },
     "metadata": {},
     "output_type": "display_data"
    },
    {
     "name": "stdout",
     "output_type": "stream",
     "text": [
      "--- 0.9254531860351562 seconds ---\n",
      "MRR@100 = 0.0047\n",
      "use_cg, False, factors: 5, iterations: 5, alpha: 0.01, regularization: 0.01\n"
     ]
    },
    {
     "data": {
      "application/vnd.jupyter.widget-view+json": {
       "model_id": "d221fdff58d543a0a0607c7c6b13bb13",
       "version_major": 2,
       "version_minor": 0
      },
      "text/plain": [
       "  0%|          | 0/5 [00:00<?, ?it/s]"
      ]
     },
     "metadata": {},
     "output_type": "display_data"
    },
    {
     "name": "stdout",
     "output_type": "stream",
     "text": [
      "--- 1.018583059310913 seconds ---\n",
      "MRR@100 = 0.0046\n",
      "use_cg, False, factors: 5, iterations: 5, alpha: 0.01, regularization: 0.1\n"
     ]
    },
    {
     "data": {
      "application/vnd.jupyter.widget-view+json": {
       "model_id": "ce22142c09ed4931bb77918cf771c647",
       "version_major": 2,
       "version_minor": 0
      },
      "text/plain": [
       "  0%|          | 0/5 [00:00<?, ?it/s]"
      ]
     },
     "metadata": {},
     "output_type": "display_data"
    },
    {
     "name": "stdout",
     "output_type": "stream",
     "text": [
      "--- 0.9171667098999023 seconds ---\n",
      "MRR@100 = 0.0052\n",
      "use_cg, False, factors: 5, iterations: 5, alpha: 0.01, regularization: 1\n"
     ]
    },
    {
     "data": {
      "application/vnd.jupyter.widget-view+json": {
       "model_id": "5344726d04a045f387a269ddb412c68c",
       "version_major": 2,
       "version_minor": 0
      },
      "text/plain": [
       "  0%|          | 0/5 [00:00<?, ?it/s]"
      ]
     },
     "metadata": {},
     "output_type": "display_data"
    },
    {
     "name": "stdout",
     "output_type": "stream",
     "text": [
      "--- 0.9441473484039307 seconds ---\n",
      "MRR@100 = 0.0018\n",
      "use_cg, False, factors: 5, iterations: 5, alpha: 0.01, regularization: 10\n"
     ]
    },
    {
     "data": {
      "application/vnd.jupyter.widget-view+json": {
       "model_id": "01f3703fdca84fc4aaf6812603170509",
       "version_major": 2,
       "version_minor": 0
      },
      "text/plain": [
       "  0%|          | 0/5 [00:00<?, ?it/s]"
      ]
     },
     "metadata": {},
     "output_type": "display_data"
    },
    {
     "name": "stdout",
     "output_type": "stream",
     "text": [
      "--- 0.938539981842041 seconds ---\n",
      "MRR@100 = 0.0002\n",
      "use_cg, False, factors: 5, iterations: 5, alpha: 0.1, regularization: 0.001\n"
     ]
    },
    {
     "data": {
      "application/vnd.jupyter.widget-view+json": {
       "model_id": "d801d0ace5924b7687a0d1479d0ba687",
       "version_major": 2,
       "version_minor": 0
      },
      "text/plain": [
       "  0%|          | 0/5 [00:00<?, ?it/s]"
      ]
     },
     "metadata": {},
     "output_type": "display_data"
    },
    {
     "name": "stdout",
     "output_type": "stream",
     "text": [
      "--- 0.9062857627868652 seconds ---\n",
      "MRR@100 = 0.0052\n",
      "use_cg, False, factors: 5, iterations: 5, alpha: 0.1, regularization: 0.01\n"
     ]
    },
    {
     "data": {
      "application/vnd.jupyter.widget-view+json": {
       "model_id": "acc1dd507b314617ac7f6cd1909d726b",
       "version_major": 2,
       "version_minor": 0
      },
      "text/plain": [
       "  0%|          | 0/5 [00:00<?, ?it/s]"
      ]
     },
     "metadata": {},
     "output_type": "display_data"
    },
    {
     "name": "stdout",
     "output_type": "stream",
     "text": [
      "--- 0.9293181896209717 seconds ---\n",
      "MRR@100 = 0.0052\n",
      "use_cg, False, factors: 5, iterations: 5, alpha: 0.1, regularization: 0.1\n"
     ]
    },
    {
     "data": {
      "application/vnd.jupyter.widget-view+json": {
       "model_id": "12b6d74510db4c64ba1bb7cead789569",
       "version_major": 2,
       "version_minor": 0
      },
      "text/plain": [
       "  0%|          | 0/5 [00:00<?, ?it/s]"
      ]
     },
     "metadata": {},
     "output_type": "display_data"
    },
    {
     "name": "stdout",
     "output_type": "stream",
     "text": [
      "--- 0.9427099227905273 seconds ---\n",
      "MRR@100 = 0.0047\n",
      "use_cg, False, factors: 5, iterations: 5, alpha: 0.1, regularization: 1\n"
     ]
    },
    {
     "data": {
      "application/vnd.jupyter.widget-view+json": {
       "model_id": "a66f0844ec4a42e482752c64d1dc39be",
       "version_major": 2,
       "version_minor": 0
      },
      "text/plain": [
       "  0%|          | 0/5 [00:00<?, ?it/s]"
      ]
     },
     "metadata": {},
     "output_type": "display_data"
    },
    {
     "name": "stdout",
     "output_type": "stream",
     "text": [
      "--- 0.9204118251800537 seconds ---\n",
      "MRR@100 = 0.0052\n",
      "use_cg, False, factors: 5, iterations: 5, alpha: 0.1, regularization: 10\n"
     ]
    },
    {
     "data": {
      "application/vnd.jupyter.widget-view+json": {
       "model_id": "4cb7e7dc90084263a8a17e379630b256",
       "version_major": 2,
       "version_minor": 0
      },
      "text/plain": [
       "  0%|          | 0/5 [00:00<?, ?it/s]"
      ]
     },
     "metadata": {},
     "output_type": "display_data"
    },
    {
     "name": "stdout",
     "output_type": "stream",
     "text": [
      "--- 0.9442291259765625 seconds ---\n",
      "MRR@100 = 0.0018\n",
      "use_cg, False, factors: 5, iterations: 5, alpha: 1, regularization: 0.001\n"
     ]
    },
    {
     "data": {
      "application/vnd.jupyter.widget-view+json": {
       "model_id": "aff1bff52cf74bd4ab7a93dc786c2ece",
       "version_major": 2,
       "version_minor": 0
      },
      "text/plain": [
       "  0%|          | 0/5 [00:00<?, ?it/s]"
      ]
     },
     "metadata": {},
     "output_type": "display_data"
    },
    {
     "name": "stdout",
     "output_type": "stream",
     "text": [
      "--- 0.9799199104309082 seconds ---\n",
      "MRR@100 = 0.0057\n",
      "use_cg, False, factors: 5, iterations: 5, alpha: 1, regularization: 0.01\n"
     ]
    },
    {
     "data": {
      "application/vnd.jupyter.widget-view+json": {
       "model_id": "d70fed0d73b4448cbb917efbf1709e5c",
       "version_major": 2,
       "version_minor": 0
      },
      "text/plain": [
       "  0%|          | 0/5 [00:00<?, ?it/s]"
      ]
     },
     "metadata": {},
     "output_type": "display_data"
    },
    {
     "name": "stdout",
     "output_type": "stream",
     "text": [
      "--- 0.9538826942443848 seconds ---\n",
      "MRR@100 = 0.0057\n",
      "use_cg, False, factors: 5, iterations: 5, alpha: 1, regularization: 0.1\n"
     ]
    },
    {
     "data": {
      "application/vnd.jupyter.widget-view+json": {
       "model_id": "cf41dd4f185c43bfad9a5671eb13e94f",
       "version_major": 2,
       "version_minor": 0
      },
      "text/plain": [
       "  0%|          | 0/5 [00:00<?, ?it/s]"
      ]
     },
     "metadata": {},
     "output_type": "display_data"
    },
    {
     "name": "stdout",
     "output_type": "stream",
     "text": [
      "--- 0.9333779811859131 seconds ---\n",
      "MRR@100 = 0.0057\n",
      "use_cg, False, factors: 5, iterations: 5, alpha: 1, regularization: 1\n"
     ]
    },
    {
     "data": {
      "application/vnd.jupyter.widget-view+json": {
       "model_id": "1bc51556c5fb43f591ae284c6ba99b38",
       "version_major": 2,
       "version_minor": 0
      },
      "text/plain": [
       "  0%|          | 0/5 [00:00<?, ?it/s]"
      ]
     },
     "metadata": {},
     "output_type": "display_data"
    },
    {
     "name": "stdout",
     "output_type": "stream",
     "text": [
      "--- 0.9175848960876465 seconds ---\n",
      "MRR@100 = 0.0057\n",
      "use_cg, False, factors: 5, iterations: 5, alpha: 1, regularization: 10\n"
     ]
    },
    {
     "data": {
      "application/vnd.jupyter.widget-view+json": {
       "model_id": "2fc42cc6843940f3814ce20862f29742",
       "version_major": 2,
       "version_minor": 0
      },
      "text/plain": [
       "  0%|          | 0/5 [00:00<?, ?it/s]"
      ]
     },
     "metadata": {},
     "output_type": "display_data"
    },
    {
     "name": "stdout",
     "output_type": "stream",
     "text": [
      "--- 0.9876899719238281 seconds ---\n",
      "MRR@100 = 0.0056\n",
      "use_cg, False, factors: 5, iterations: 5, alpha: 10, regularization: 0.001\n"
     ]
    },
    {
     "data": {
      "application/vnd.jupyter.widget-view+json": {
       "model_id": "89c9a92617ca4b96b725233192180f97",
       "version_major": 2,
       "version_minor": 0
      },
      "text/plain": [
       "  0%|          | 0/5 [00:00<?, ?it/s]"
      ]
     },
     "metadata": {},
     "output_type": "display_data"
    },
    {
     "name": "stdout",
     "output_type": "stream",
     "text": [
      "--- 0.8822569847106934 seconds ---\n",
      "MRR@100 = 0.0057\n",
      "use_cg, False, factors: 5, iterations: 5, alpha: 10, regularization: 0.01\n"
     ]
    },
    {
     "data": {
      "application/vnd.jupyter.widget-view+json": {
       "model_id": "ead3ee9652324f5bb0a4d5ae816e6cbf",
       "version_major": 2,
       "version_minor": 0
      },
      "text/plain": [
       "  0%|          | 0/5 [00:00<?, ?it/s]"
      ]
     },
     "metadata": {},
     "output_type": "display_data"
    },
    {
     "name": "stdout",
     "output_type": "stream",
     "text": [
      "--- 0.9460291862487793 seconds ---\n",
      "MRR@100 = 0.0057\n",
      "use_cg, False, factors: 5, iterations: 5, alpha: 10, regularization: 0.1\n"
     ]
    },
    {
     "data": {
      "application/vnd.jupyter.widget-view+json": {
       "model_id": "92d01bd8d7e64c648d02db6ea2e2504f",
       "version_major": 2,
       "version_minor": 0
      },
      "text/plain": [
       "  0%|          | 0/5 [00:00<?, ?it/s]"
      ]
     },
     "metadata": {},
     "output_type": "display_data"
    },
    {
     "name": "stdout",
     "output_type": "stream",
     "text": [
      "--- 0.9581050872802734 seconds ---\n",
      "MRR@100 = 0.0057\n",
      "use_cg, False, factors: 5, iterations: 5, alpha: 10, regularization: 1\n"
     ]
    },
    {
     "data": {
      "application/vnd.jupyter.widget-view+json": {
       "model_id": "5dfcb6ded5984b1fb30a506224d78308",
       "version_major": 2,
       "version_minor": 0
      },
      "text/plain": [
       "  0%|          | 0/5 [00:00<?, ?it/s]"
      ]
     },
     "metadata": {},
     "output_type": "display_data"
    },
    {
     "name": "stdout",
     "output_type": "stream",
     "text": [
      "--- 0.8957819938659668 seconds ---\n",
      "MRR@100 = 0.0057\n",
      "use_cg, False, factors: 5, iterations: 5, alpha: 10, regularization: 10\n"
     ]
    },
    {
     "data": {
      "application/vnd.jupyter.widget-view+json": {
       "model_id": "f092d3cf68474abd819a7b4c586a4e0b",
       "version_major": 2,
       "version_minor": 0
      },
      "text/plain": [
       "  0%|          | 0/5 [00:00<?, ?it/s]"
      ]
     },
     "metadata": {},
     "output_type": "display_data"
    },
    {
     "name": "stdout",
     "output_type": "stream",
     "text": [
      "--- 0.9084539413452148 seconds ---\n",
      "MRR@100 = 0.0054\n",
      "use_cg, False, factors: 5, iterations: 5, alpha: 100, regularization: 0.001\n"
     ]
    },
    {
     "data": {
      "application/vnd.jupyter.widget-view+json": {
       "model_id": "d159bd988b6e41769897aff4c7ff8327",
       "version_major": 2,
       "version_minor": 0
      },
      "text/plain": [
       "  0%|          | 0/5 [00:00<?, ?it/s]"
      ]
     },
     "metadata": {},
     "output_type": "display_data"
    },
    {
     "name": "stdout",
     "output_type": "stream",
     "text": [
      "--- 0.9288733005523682 seconds ---\n",
      "MRR@100 = 0.0065\n",
      "use_cg, False, factors: 5, iterations: 5, alpha: 100, regularization: 0.01\n"
     ]
    },
    {
     "data": {
      "application/vnd.jupyter.widget-view+json": {
       "model_id": "9e67dcc91910496e87fc898b191e3957",
       "version_major": 2,
       "version_minor": 0
      },
      "text/plain": [
       "  0%|          | 0/5 [00:00<?, ?it/s]"
      ]
     },
     "metadata": {},
     "output_type": "display_data"
    },
    {
     "name": "stdout",
     "output_type": "stream",
     "text": [
      "--- 0.9670400619506836 seconds ---\n",
      "MRR@100 = 0.0065\n",
      "use_cg, False, factors: 5, iterations: 5, alpha: 100, regularization: 0.1\n"
     ]
    },
    {
     "data": {
      "application/vnd.jupyter.widget-view+json": {
       "model_id": "b53fc9997826423aa8d7c5bb4ea4a962",
       "version_major": 2,
       "version_minor": 0
      },
      "text/plain": [
       "  0%|          | 0/5 [00:00<?, ?it/s]"
      ]
     },
     "metadata": {},
     "output_type": "display_data"
    },
    {
     "name": "stdout",
     "output_type": "stream",
     "text": [
      "--- 0.896953821182251 seconds ---\n",
      "MRR@100 = 0.0065\n",
      "use_cg, False, factors: 5, iterations: 5, alpha: 100, regularization: 1\n"
     ]
    },
    {
     "data": {
      "application/vnd.jupyter.widget-view+json": {
       "model_id": "93381b5ceda04e358712476934a58b38",
       "version_major": 2,
       "version_minor": 0
      },
      "text/plain": [
       "  0%|          | 0/5 [00:00<?, ?it/s]"
      ]
     },
     "metadata": {},
     "output_type": "display_data"
    },
    {
     "name": "stdout",
     "output_type": "stream",
     "text": [
      "--- 0.8984549045562744 seconds ---\n",
      "MRR@100 = 0.0065\n",
      "use_cg, False, factors: 5, iterations: 5, alpha: 100, regularization: 10\n"
     ]
    },
    {
     "data": {
      "application/vnd.jupyter.widget-view+json": {
       "model_id": "7d7e2211769948dba18205c77d708548",
       "version_major": 2,
       "version_minor": 0
      },
      "text/plain": [
       "  0%|          | 0/5 [00:00<?, ?it/s]"
      ]
     },
     "metadata": {},
     "output_type": "display_data"
    },
    {
     "name": "stdout",
     "output_type": "stream",
     "text": [
      "--- 0.9122247695922852 seconds ---\n",
      "MRR@100 = 0.0065\n",
      "use_cg, False, factors: 5, iterations: 10, alpha: 0.001, regularization: 0.001\n"
     ]
    },
    {
     "data": {
      "application/vnd.jupyter.widget-view+json": {
       "model_id": "abac2b3ee2e2417fa0637fe004650ab7",
       "version_major": 2,
       "version_minor": 0
      },
      "text/plain": [
       "  0%|          | 0/10 [00:00<?, ?it/s]"
      ]
     },
     "metadata": {},
     "output_type": "display_data"
    },
    {
     "name": "stdout",
     "output_type": "stream",
     "text": [
      "--- 0.9160850048065186 seconds ---\n",
      "MRR@100 = 0.0037\n",
      "use_cg, False, factors: 5, iterations: 10, alpha: 0.001, regularization: 0.01\n"
     ]
    },
    {
     "data": {
      "application/vnd.jupyter.widget-view+json": {
       "model_id": "c15e239c463b41139ac64a4718e6dffa",
       "version_major": 2,
       "version_minor": 0
      },
      "text/plain": [
       "  0%|          | 0/10 [00:00<?, ?it/s]"
      ]
     },
     "metadata": {},
     "output_type": "display_data"
    },
    {
     "name": "stdout",
     "output_type": "stream",
     "text": [
      "--- 0.9205269813537598 seconds ---\n",
      "MRR@100 = 0.0051\n",
      "use_cg, False, factors: 5, iterations: 10, alpha: 0.001, regularization: 0.1\n"
     ]
    },
    {
     "data": {
      "application/vnd.jupyter.widget-view+json": {
       "model_id": "99732f65bb1547b0afeec0ba134d981f",
       "version_major": 2,
       "version_minor": 0
      },
      "text/plain": [
       "  0%|          | 0/10 [00:00<?, ?it/s]"
      ]
     },
     "metadata": {},
     "output_type": "display_data"
    },
    {
     "name": "stdout",
     "output_type": "stream",
     "text": [
      "--- 0.9250433444976807 seconds ---\n",
      "MRR@100 = 0.0018\n",
      "use_cg, False, factors: 5, iterations: 10, alpha: 0.001, regularization: 1\n"
     ]
    },
    {
     "data": {
      "application/vnd.jupyter.widget-view+json": {
       "model_id": "450dcd247e9b4ab5975b6f735f289aec",
       "version_major": 2,
       "version_minor": 0
      },
      "text/plain": [
       "  0%|          | 0/10 [00:00<?, ?it/s]"
      ]
     },
     "metadata": {},
     "output_type": "display_data"
    },
    {
     "name": "stdout",
     "output_type": "stream",
     "text": [
      "--- 0.9332752227783203 seconds ---\n",
      "MRR@100 = 0.0013\n",
      "use_cg, False, factors: 5, iterations: 10, alpha: 0.001, regularization: 10\n"
     ]
    },
    {
     "data": {
      "application/vnd.jupyter.widget-view+json": {
       "model_id": "c1b8a3cabd6544a184f441d4bb18f7bd",
       "version_major": 2,
       "version_minor": 0
      },
      "text/plain": [
       "  0%|          | 0/10 [00:00<?, ?it/s]"
      ]
     },
     "metadata": {},
     "output_type": "display_data"
    },
    {
     "name": "stdout",
     "output_type": "stream",
     "text": [
      "--- 0.9414410591125488 seconds ---\n",
      "MRR@100 = 0.0001\n",
      "use_cg, False, factors: 5, iterations: 10, alpha: 0.01, regularization: 0.001\n"
     ]
    },
    {
     "data": {
      "application/vnd.jupyter.widget-view+json": {
       "model_id": "c3f12633a339444eb9413893ad37776d",
       "version_major": 2,
       "version_minor": 0
      },
      "text/plain": [
       "  0%|          | 0/10 [00:00<?, ?it/s]"
      ]
     },
     "metadata": {},
     "output_type": "display_data"
    },
    {
     "name": "stdout",
     "output_type": "stream",
     "text": [
      "--- 0.8963510990142822 seconds ---\n",
      "MRR@100 = 0.0044\n",
      "use_cg, False, factors: 5, iterations: 10, alpha: 0.01, regularization: 0.01\n"
     ]
    },
    {
     "data": {
      "application/vnd.jupyter.widget-view+json": {
       "model_id": "03027233262244799afcb9a0242f1938",
       "version_major": 2,
       "version_minor": 0
      },
      "text/plain": [
       "  0%|          | 0/10 [00:00<?, ?it/s]"
      ]
     },
     "metadata": {},
     "output_type": "display_data"
    },
    {
     "name": "stdout",
     "output_type": "stream",
     "text": [
      "--- 0.9084620475769043 seconds ---\n",
      "MRR@100 = 0.0054\n",
      "use_cg, False, factors: 5, iterations: 10, alpha: 0.01, regularization: 0.1\n"
     ]
    },
    {
     "data": {
      "application/vnd.jupyter.widget-view+json": {
       "model_id": "fa451f1b164e4165b21955759831e4a5",
       "version_major": 2,
       "version_minor": 0
      },
      "text/plain": [
       "  0%|          | 0/10 [00:00<?, ?it/s]"
      ]
     },
     "metadata": {},
     "output_type": "display_data"
    },
    {
     "name": "stdout",
     "output_type": "stream",
     "text": [
      "--- 0.9085822105407715 seconds ---\n",
      "MRR@100 = 0.0051\n",
      "use_cg, False, factors: 5, iterations: 10, alpha: 0.01, regularization: 1\n"
     ]
    },
    {
     "data": {
      "application/vnd.jupyter.widget-view+json": {
       "model_id": "0445b7355a39493ea83292246b67c19a",
       "version_major": 2,
       "version_minor": 0
      },
      "text/plain": [
       "  0%|          | 0/10 [00:00<?, ?it/s]"
      ]
     },
     "metadata": {},
     "output_type": "display_data"
    },
    {
     "name": "stdout",
     "output_type": "stream",
     "text": [
      "--- 0.9166309833526611 seconds ---\n",
      "MRR@100 = 0.0018\n",
      "use_cg, False, factors: 5, iterations: 10, alpha: 0.01, regularization: 10\n"
     ]
    },
    {
     "data": {
      "application/vnd.jupyter.widget-view+json": {
       "model_id": "6b11c9faad9a43ecbe0d367698879ba4",
       "version_major": 2,
       "version_minor": 0
      },
      "text/plain": [
       "  0%|          | 0/10 [00:00<?, ?it/s]"
      ]
     },
     "metadata": {},
     "output_type": "display_data"
    },
    {
     "name": "stdout",
     "output_type": "stream",
     "text": [
      "--- 0.9023580551147461 seconds ---\n",
      "MRR@100 = 0.0002\n",
      "use_cg, False, factors: 5, iterations: 10, alpha: 0.1, regularization: 0.001\n"
     ]
    },
    {
     "data": {
      "application/vnd.jupyter.widget-view+json": {
       "model_id": "6cd1b308977e4900970cf675d5d5a746",
       "version_major": 2,
       "version_minor": 0
      },
      "text/plain": [
       "  0%|          | 0/10 [00:00<?, ?it/s]"
      ]
     },
     "metadata": {},
     "output_type": "display_data"
    },
    {
     "name": "stdout",
     "output_type": "stream",
     "text": [
      "--- 0.9123809337615967 seconds ---\n",
      "MRR@100 = 0.0055\n",
      "use_cg, False, factors: 5, iterations: 10, alpha: 0.1, regularization: 0.01\n"
     ]
    },
    {
     "data": {
      "application/vnd.jupyter.widget-view+json": {
       "model_id": "62307d05e4b24d74ac54aed9c1c204ee",
       "version_major": 2,
       "version_minor": 0
      },
      "text/plain": [
       "  0%|          | 0/10 [00:00<?, ?it/s]"
      ]
     },
     "metadata": {},
     "output_type": "display_data"
    },
    {
     "name": "stdout",
     "output_type": "stream",
     "text": [
      "--- 0.9020748138427734 seconds ---\n",
      "MRR@100 = 0.0055\n",
      "use_cg, False, factors: 5, iterations: 10, alpha: 0.1, regularization: 0.1\n"
     ]
    },
    {
     "data": {
      "application/vnd.jupyter.widget-view+json": {
       "model_id": "8a9743d22ccf4f9c9ef1bc028c8323dd",
       "version_major": 2,
       "version_minor": 0
      },
      "text/plain": [
       "  0%|          | 0/10 [00:00<?, ?it/s]"
      ]
     },
     "metadata": {},
     "output_type": "display_data"
    },
    {
     "name": "stdout",
     "output_type": "stream",
     "text": [
      "--- 0.9623310565948486 seconds ---\n",
      "MRR@100 = 0.0054\n",
      "use_cg, False, factors: 5, iterations: 10, alpha: 0.1, regularization: 1\n"
     ]
    },
    {
     "data": {
      "application/vnd.jupyter.widget-view+json": {
       "model_id": "14d98b40a5dc4a9ca0c8975331e8a005",
       "version_major": 2,
       "version_minor": 0
      },
      "text/plain": [
       "  0%|          | 0/10 [00:00<?, ?it/s]"
      ]
     },
     "metadata": {},
     "output_type": "display_data"
    },
    {
     "name": "stdout",
     "output_type": "stream",
     "text": [
      "--- 0.954664945602417 seconds ---\n",
      "MRR@100 = 0.0051\n",
      "use_cg, False, factors: 5, iterations: 10, alpha: 0.1, regularization: 10\n"
     ]
    },
    {
     "data": {
      "application/vnd.jupyter.widget-view+json": {
       "model_id": "5c63a13fdb2b4a91b44cf202da78d553",
       "version_major": 2,
       "version_minor": 0
      },
      "text/plain": [
       "  0%|          | 0/10 [00:00<?, ?it/s]"
      ]
     },
     "metadata": {},
     "output_type": "display_data"
    },
    {
     "name": "stdout",
     "output_type": "stream",
     "text": [
      "--- 0.893103837966919 seconds ---\n",
      "MRR@100 = 0.0018\n",
      "use_cg, False, factors: 5, iterations: 10, alpha: 1, regularization: 0.001\n"
     ]
    },
    {
     "data": {
      "application/vnd.jupyter.widget-view+json": {
       "model_id": "2c43a5568c8247949c11937cd5a6907c",
       "version_major": 2,
       "version_minor": 0
      },
      "text/plain": [
       "  0%|          | 0/10 [00:00<?, ?it/s]"
      ]
     },
     "metadata": {},
     "output_type": "display_data"
    },
    {
     "name": "stdout",
     "output_type": "stream",
     "text": [
      "--- 0.8963682651519775 seconds ---\n",
      "MRR@100 = 0.0058\n",
      "use_cg, False, factors: 5, iterations: 10, alpha: 1, regularization: 0.01\n"
     ]
    },
    {
     "data": {
      "application/vnd.jupyter.widget-view+json": {
       "model_id": "fbf8f73cf2f74be8bb2b8924cfc04cb8",
       "version_major": 2,
       "version_minor": 0
      },
      "text/plain": [
       "  0%|          | 0/10 [00:00<?, ?it/s]"
      ]
     },
     "metadata": {},
     "output_type": "display_data"
    },
    {
     "name": "stdout",
     "output_type": "stream",
     "text": [
      "--- 0.8987059593200684 seconds ---\n",
      "MRR@100 = 0.0058\n",
      "use_cg, False, factors: 5, iterations: 10, alpha: 1, regularization: 0.1\n"
     ]
    },
    {
     "data": {
      "application/vnd.jupyter.widget-view+json": {
       "model_id": "8d4690411d814cddbb9727d1d0760d0b",
       "version_major": 2,
       "version_minor": 0
      },
      "text/plain": [
       "  0%|          | 0/10 [00:00<?, ?it/s]"
      ]
     },
     "metadata": {},
     "output_type": "display_data"
    },
    {
     "name": "stdout",
     "output_type": "stream",
     "text": [
      "--- 0.969282865524292 seconds ---\n",
      "MRR@100 = 0.0058\n",
      "use_cg, False, factors: 5, iterations: 10, alpha: 1, regularization: 1\n"
     ]
    },
    {
     "data": {
      "application/vnd.jupyter.widget-view+json": {
       "model_id": "b4c17491ab5f42fa883e2d0c8302d10e",
       "version_major": 2,
       "version_minor": 0
      },
      "text/plain": [
       "  0%|          | 0/10 [00:00<?, ?it/s]"
      ]
     },
     "metadata": {},
     "output_type": "display_data"
    },
    {
     "name": "stdout",
     "output_type": "stream",
     "text": [
      "--- 0.9222052097320557 seconds ---\n",
      "MRR@100 = 0.0058\n",
      "use_cg, False, factors: 5, iterations: 10, alpha: 1, regularization: 10\n"
     ]
    },
    {
     "data": {
      "application/vnd.jupyter.widget-view+json": {
       "model_id": "3ea1f8b1abcd420da04772f7d0f4a9c6",
       "version_major": 2,
       "version_minor": 0
      },
      "text/plain": [
       "  0%|          | 0/10 [00:00<?, ?it/s]"
      ]
     },
     "metadata": {},
     "output_type": "display_data"
    },
    {
     "name": "stdout",
     "output_type": "stream",
     "text": [
      "--- 0.9342148303985596 seconds ---\n",
      "MRR@100 = 0.0058\n",
      "use_cg, False, factors: 5, iterations: 10, alpha: 10, regularization: 0.001\n"
     ]
    },
    {
     "data": {
      "application/vnd.jupyter.widget-view+json": {
       "model_id": "d08af2a2b1e6447e98fbf53c76cc7217",
       "version_major": 2,
       "version_minor": 0
      },
      "text/plain": [
       "  0%|          | 0/10 [00:00<?, ?it/s]"
      ]
     },
     "metadata": {},
     "output_type": "display_data"
    },
    {
     "name": "stdout",
     "output_type": "stream",
     "text": [
      "--- 0.9311697483062744 seconds ---\n",
      "MRR@100 = 0.0059\n",
      "use_cg, False, factors: 5, iterations: 10, alpha: 10, regularization: 0.01\n"
     ]
    },
    {
     "data": {
      "application/vnd.jupyter.widget-view+json": {
       "model_id": "59ab973cfa7c46399d997436e94046fe",
       "version_major": 2,
       "version_minor": 0
      },
      "text/plain": [
       "  0%|          | 0/10 [00:00<?, ?it/s]"
      ]
     },
     "metadata": {},
     "output_type": "display_data"
    },
    {
     "name": "stdout",
     "output_type": "stream",
     "text": [
      "--- 0.9586279392242432 seconds ---\n",
      "MRR@100 = 0.0059\n",
      "use_cg, False, factors: 5, iterations: 10, alpha: 10, regularization: 0.1\n"
     ]
    },
    {
     "data": {
      "application/vnd.jupyter.widget-view+json": {
       "model_id": "dc92eba27d764ef6812966fdbac6d2cd",
       "version_major": 2,
       "version_minor": 0
      },
      "text/plain": [
       "  0%|          | 0/10 [00:00<?, ?it/s]"
      ]
     },
     "metadata": {},
     "output_type": "display_data"
    },
    {
     "name": "stdout",
     "output_type": "stream",
     "text": [
      "--- 0.9521689414978027 seconds ---\n",
      "MRR@100 = 0.0059\n",
      "use_cg, False, factors: 5, iterations: 10, alpha: 10, regularization: 1\n"
     ]
    },
    {
     "data": {
      "application/vnd.jupyter.widget-view+json": {
       "model_id": "b63b613486c040f397bb9d658055ed98",
       "version_major": 2,
       "version_minor": 0
      },
      "text/plain": [
       "  0%|          | 0/10 [00:00<?, ?it/s]"
      ]
     },
     "metadata": {},
     "output_type": "display_data"
    },
    {
     "name": "stdout",
     "output_type": "stream",
     "text": [
      "--- 0.9770481586456299 seconds ---\n",
      "MRR@100 = 0.0058\n",
      "use_cg, False, factors: 5, iterations: 10, alpha: 10, regularization: 10\n"
     ]
    },
    {
     "data": {
      "application/vnd.jupyter.widget-view+json": {
       "model_id": "5990923642d14a55a46dcac5bb472eb7",
       "version_major": 2,
       "version_minor": 0
      },
      "text/plain": [
       "  0%|          | 0/10 [00:00<?, ?it/s]"
      ]
     },
     "metadata": {},
     "output_type": "display_data"
    },
    {
     "name": "stdout",
     "output_type": "stream",
     "text": [
      "--- 0.9304709434509277 seconds ---\n",
      "MRR@100 = 0.0061\n",
      "use_cg, False, factors: 5, iterations: 10, alpha: 100, regularization: 0.001\n"
     ]
    },
    {
     "data": {
      "application/vnd.jupyter.widget-view+json": {
       "model_id": "714cf4b07d3f438ab49053b093af8d07",
       "version_major": 2,
       "version_minor": 0
      },
      "text/plain": [
       "  0%|          | 0/10 [00:00<?, ?it/s]"
      ]
     },
     "metadata": {},
     "output_type": "display_data"
    },
    {
     "name": "stdout",
     "output_type": "stream",
     "text": [
      "--- 0.9016063213348389 seconds ---\n",
      "MRR@100 = 0.0054\n",
      "use_cg, False, factors: 5, iterations: 10, alpha: 100, regularization: 0.01\n"
     ]
    },
    {
     "data": {
      "application/vnd.jupyter.widget-view+json": {
       "model_id": "09a3d908bc7e43788b67147860951a5e",
       "version_major": 2,
       "version_minor": 0
      },
      "text/plain": [
       "  0%|          | 0/10 [00:00<?, ?it/s]"
      ]
     },
     "metadata": {},
     "output_type": "display_data"
    },
    {
     "name": "stdout",
     "output_type": "stream",
     "text": [
      "--- 0.8918972015380859 seconds ---\n",
      "MRR@100 = 0.0054\n",
      "use_cg, False, factors: 5, iterations: 10, alpha: 100, regularization: 0.1\n"
     ]
    },
    {
     "data": {
      "application/vnd.jupyter.widget-view+json": {
       "model_id": "83ca69e5291046f6a1bba113311f2521",
       "version_major": 2,
       "version_minor": 0
      },
      "text/plain": [
       "  0%|          | 0/10 [00:00<?, ?it/s]"
      ]
     },
     "metadata": {},
     "output_type": "display_data"
    },
    {
     "name": "stdout",
     "output_type": "stream",
     "text": [
      "--- 0.9257926940917969 seconds ---\n",
      "MRR@100 = 0.0054\n",
      "use_cg, False, factors: 5, iterations: 10, alpha: 100, regularization: 1\n"
     ]
    },
    {
     "data": {
      "application/vnd.jupyter.widget-view+json": {
       "model_id": "7b57ad3b4446411cac69158a7011bffd",
       "version_major": 2,
       "version_minor": 0
      },
      "text/plain": [
       "  0%|          | 0/10 [00:00<?, ?it/s]"
      ]
     },
     "metadata": {},
     "output_type": "display_data"
    },
    {
     "name": "stdout",
     "output_type": "stream",
     "text": [
      "--- 0.9233438968658447 seconds ---\n",
      "MRR@100 = 0.0054\n",
      "use_cg, False, factors: 5, iterations: 10, alpha: 100, regularization: 10\n"
     ]
    },
    {
     "data": {
      "application/vnd.jupyter.widget-view+json": {
       "model_id": "6ad4a7116cb14dbfab2c6f4d6315f3ac",
       "version_major": 2,
       "version_minor": 0
      },
      "text/plain": [
       "  0%|          | 0/10 [00:00<?, ?it/s]"
      ]
     },
     "metadata": {},
     "output_type": "display_data"
    },
    {
     "name": "stdout",
     "output_type": "stream",
     "text": [
      "--- 0.9153931140899658 seconds ---\n",
      "MRR@100 = 0.0055\n",
      "use_cg, False, factors: 5, iterations: 15, alpha: 0.001, regularization: 0.001\n"
     ]
    },
    {
     "data": {
      "application/vnd.jupyter.widget-view+json": {
       "model_id": "e74d22a4a76f41df8c92a1b395fe5c0c",
       "version_major": 2,
       "version_minor": 0
      },
      "text/plain": [
       "  0%|          | 0/15 [00:00<?, ?it/s]"
      ]
     },
     "metadata": {},
     "output_type": "display_data"
    },
    {
     "name": "stdout",
     "output_type": "stream",
     "text": [
      "--- 0.9233651161193848 seconds ---\n",
      "MRR@100 = 0.0040\n",
      "use_cg, False, factors: 5, iterations: 15, alpha: 0.001, regularization: 0.01\n"
     ]
    },
    {
     "data": {
      "application/vnd.jupyter.widget-view+json": {
       "model_id": "5dba2dff3ad94fc1b2445584dc2565ec",
       "version_major": 2,
       "version_minor": 0
      },
      "text/plain": [
       "  0%|          | 0/15 [00:00<?, ?it/s]"
      ]
     },
     "metadata": {},
     "output_type": "display_data"
    },
    {
     "name": "stdout",
     "output_type": "stream",
     "text": [
      "--- 0.9382200241088867 seconds ---\n",
      "MRR@100 = 0.0057\n",
      "use_cg, False, factors: 5, iterations: 15, alpha: 0.001, regularization: 0.1\n"
     ]
    },
    {
     "data": {
      "application/vnd.jupyter.widget-view+json": {
       "model_id": "20a431b219594d2bab1149674a7f183b",
       "version_major": 2,
       "version_minor": 0
      },
      "text/plain": [
       "  0%|          | 0/15 [00:00<?, ?it/s]"
      ]
     },
     "metadata": {},
     "output_type": "display_data"
    },
    {
     "name": "stdout",
     "output_type": "stream",
     "text": [
      "--- 0.9774441719055176 seconds ---\n",
      "MRR@100 = 0.0018\n",
      "use_cg, False, factors: 5, iterations: 15, alpha: 0.001, regularization: 1\n"
     ]
    },
    {
     "data": {
      "application/vnd.jupyter.widget-view+json": {
       "model_id": "cd87584320284b658ff52aee680ea2d8",
       "version_major": 2,
       "version_minor": 0
      },
      "text/plain": [
       "  0%|          | 0/15 [00:00<?, ?it/s]"
      ]
     },
     "metadata": {},
     "output_type": "display_data"
    },
    {
     "name": "stdout",
     "output_type": "stream",
     "text": [
      "--- 0.9104721546173096 seconds ---\n",
      "MRR@100 = 0.0013\n",
      "use_cg, False, factors: 5, iterations: 15, alpha: 0.001, regularization: 10\n"
     ]
    },
    {
     "data": {
      "application/vnd.jupyter.widget-view+json": {
       "model_id": "951cf43bccd1419c91cdaa65bfb74b48",
       "version_major": 2,
       "version_minor": 0
      },
      "text/plain": [
       "  0%|          | 0/15 [00:00<?, ?it/s]"
      ]
     },
     "metadata": {},
     "output_type": "display_data"
    },
    {
     "name": "stdout",
     "output_type": "stream",
     "text": [
      "--- 0.947350025177002 seconds ---\n",
      "MRR@100 = 0.0001\n",
      "use_cg, False, factors: 5, iterations: 15, alpha: 0.01, regularization: 0.001\n"
     ]
    },
    {
     "data": {
      "application/vnd.jupyter.widget-view+json": {
       "model_id": "251f369b0e1d48e8af0b35faa7d51126",
       "version_major": 2,
       "version_minor": 0
      },
      "text/plain": [
       "  0%|          | 0/15 [00:00<?, ?it/s]"
      ]
     },
     "metadata": {},
     "output_type": "display_data"
    },
    {
     "name": "stdout",
     "output_type": "stream",
     "text": [
      "--- 0.9130289554595947 seconds ---\n",
      "MRR@100 = 0.0048\n",
      "use_cg, False, factors: 5, iterations: 15, alpha: 0.01, regularization: 0.01\n"
     ]
    },
    {
     "data": {
      "application/vnd.jupyter.widget-view+json": {
       "model_id": "bea203e3bfda4870897afde8c9212401",
       "version_major": 2,
       "version_minor": 0
      },
      "text/plain": [
       "  0%|          | 0/15 [00:00<?, ?it/s]"
      ]
     },
     "metadata": {},
     "output_type": "display_data"
    },
    {
     "name": "stdout",
     "output_type": "stream",
     "text": [
      "--- 0.9804918766021729 seconds ---\n",
      "MRR@100 = 0.0047\n",
      "use_cg, False, factors: 5, iterations: 15, alpha: 0.01, regularization: 0.1\n"
     ]
    },
    {
     "data": {
      "application/vnd.jupyter.widget-view+json": {
       "model_id": "398955d2df6a41368afdd3446e76beed",
       "version_major": 2,
       "version_minor": 0
      },
      "text/plain": [
       "  0%|          | 0/15 [00:00<?, ?it/s]"
      ]
     },
     "metadata": {},
     "output_type": "display_data"
    },
    {
     "name": "stdout",
     "output_type": "stream",
     "text": [
      "--- 0.9507100582122803 seconds ---\n",
      "MRR@100 = 0.0057\n",
      "use_cg, False, factors: 5, iterations: 15, alpha: 0.01, regularization: 1\n"
     ]
    },
    {
     "data": {
      "application/vnd.jupyter.widget-view+json": {
       "model_id": "d5015d5598f24569b6fbd561e862fa38",
       "version_major": 2,
       "version_minor": 0
      },
      "text/plain": [
       "  0%|          | 0/15 [00:00<?, ?it/s]"
      ]
     },
     "metadata": {},
     "output_type": "display_data"
    },
    {
     "name": "stdout",
     "output_type": "stream",
     "text": [
      "--- 0.8978061676025391 seconds ---\n",
      "MRR@100 = 0.0018\n",
      "use_cg, False, factors: 5, iterations: 15, alpha: 0.01, regularization: 10\n"
     ]
    },
    {
     "data": {
      "application/vnd.jupyter.widget-view+json": {
       "model_id": "863b4c6dcdbc40428e72adcd2d70efee",
       "version_major": 2,
       "version_minor": 0
      },
      "text/plain": [
       "  0%|          | 0/15 [00:00<?, ?it/s]"
      ]
     },
     "metadata": {},
     "output_type": "display_data"
    },
    {
     "name": "stdout",
     "output_type": "stream",
     "text": [
      "--- 0.9350059032440186 seconds ---\n",
      "MRR@100 = 0.0002\n",
      "use_cg, False, factors: 5, iterations: 15, alpha: 0.1, regularization: 0.001\n"
     ]
    },
    {
     "data": {
      "application/vnd.jupyter.widget-view+json": {
       "model_id": "d1b64265cb4a460bbc678c57774f7071",
       "version_major": 2,
       "version_minor": 0
      },
      "text/plain": [
       "  0%|          | 0/15 [00:00<?, ?it/s]"
      ]
     },
     "metadata": {},
     "output_type": "display_data"
    },
    {
     "name": "stdout",
     "output_type": "stream",
     "text": [
      "--- 1.0584921836853027 seconds ---\n",
      "MRR@100 = 0.0061\n",
      "use_cg, False, factors: 5, iterations: 15, alpha: 0.1, regularization: 0.01\n"
     ]
    },
    {
     "data": {
      "application/vnd.jupyter.widget-view+json": {
       "model_id": "27ffe6b0dcf44036b75d9da074cd35b4",
       "version_major": 2,
       "version_minor": 0
      },
      "text/plain": [
       "  0%|          | 0/15 [00:00<?, ?it/s]"
      ]
     },
     "metadata": {},
     "output_type": "display_data"
    },
    {
     "name": "stdout",
     "output_type": "stream",
     "text": [
      "--- 0.906076192855835 seconds ---\n",
      "MRR@100 = 0.0062\n",
      "use_cg, False, factors: 5, iterations: 15, alpha: 0.1, regularization: 0.1\n"
     ]
    },
    {
     "data": {
      "application/vnd.jupyter.widget-view+json": {
       "model_id": "b376fc50b39b47c2890d0399f49efbfd",
       "version_major": 2,
       "version_minor": 0
      },
      "text/plain": [
       "  0%|          | 0/15 [00:00<?, ?it/s]"
      ]
     },
     "metadata": {},
     "output_type": "display_data"
    },
    {
     "name": "stdout",
     "output_type": "stream",
     "text": [
      "--- 0.893502950668335 seconds ---\n",
      "MRR@100 = 0.0061\n",
      "use_cg, False, factors: 5, iterations: 15, alpha: 0.1, regularization: 1\n"
     ]
    },
    {
     "data": {
      "application/vnd.jupyter.widget-view+json": {
       "model_id": "bd44d380bb7a4a62a8b6c41b12badb86",
       "version_major": 2,
       "version_minor": 0
      },
      "text/plain": [
       "  0%|          | 0/15 [00:00<?, ?it/s]"
      ]
     },
     "metadata": {},
     "output_type": "display_data"
    },
    {
     "name": "stdout",
     "output_type": "stream",
     "text": [
      "--- 0.9169158935546875 seconds ---\n",
      "MRR@100 = 0.0056\n",
      "use_cg, False, factors: 5, iterations: 15, alpha: 0.1, regularization: 10\n"
     ]
    },
    {
     "data": {
      "application/vnd.jupyter.widget-view+json": {
       "model_id": "2f86b4960442421c82f239670c77da17",
       "version_major": 2,
       "version_minor": 0
      },
      "text/plain": [
       "  0%|          | 0/15 [00:00<?, ?it/s]"
      ]
     },
     "metadata": {},
     "output_type": "display_data"
    },
    {
     "name": "stdout",
     "output_type": "stream",
     "text": [
      "--- 0.9514567852020264 seconds ---\n",
      "MRR@100 = 0.0018\n",
      "use_cg, False, factors: 5, iterations: 15, alpha: 1, regularization: 0.001\n"
     ]
    },
    {
     "data": {
      "application/vnd.jupyter.widget-view+json": {
       "model_id": "d69f27cc764740c78faf47f08c3c4cfc",
       "version_major": 2,
       "version_minor": 0
      },
      "text/plain": [
       "  0%|          | 0/15 [00:00<?, ?it/s]"
      ]
     },
     "metadata": {},
     "output_type": "display_data"
    },
    {
     "name": "stdout",
     "output_type": "stream",
     "text": [
      "--- 0.9532411098480225 seconds ---\n",
      "MRR@100 = 0.0059\n",
      "use_cg, False, factors: 5, iterations: 15, alpha: 1, regularization: 0.01\n"
     ]
    },
    {
     "data": {
      "application/vnd.jupyter.widget-view+json": {
       "model_id": "439150dd64404d6e9a8a96025798ebe5",
       "version_major": 2,
       "version_minor": 0
      },
      "text/plain": [
       "  0%|          | 0/15 [00:00<?, ?it/s]"
      ]
     },
     "metadata": {},
     "output_type": "display_data"
    },
    {
     "name": "stdout",
     "output_type": "stream",
     "text": [
      "--- 1.0077791213989258 seconds ---\n",
      "MRR@100 = 0.0059\n",
      "use_cg, False, factors: 5, iterations: 15, alpha: 1, regularization: 0.1\n"
     ]
    },
    {
     "data": {
      "application/vnd.jupyter.widget-view+json": {
       "model_id": "8923ece4a9e94433b613380e910fe85b",
       "version_major": 2,
       "version_minor": 0
      },
      "text/plain": [
       "  0%|          | 0/15 [00:00<?, ?it/s]"
      ]
     },
     "metadata": {},
     "output_type": "display_data"
    },
    {
     "name": "stdout",
     "output_type": "stream",
     "text": [
      "--- 0.9680666923522949 seconds ---\n",
      "MRR@100 = 0.0059\n",
      "use_cg, False, factors: 5, iterations: 15, alpha: 1, regularization: 1\n"
     ]
    },
    {
     "data": {
      "application/vnd.jupyter.widget-view+json": {
       "model_id": "34380e89aa8c414489f0dd744366a89b",
       "version_major": 2,
       "version_minor": 0
      },
      "text/plain": [
       "  0%|          | 0/15 [00:00<?, ?it/s]"
      ]
     },
     "metadata": {},
     "output_type": "display_data"
    },
    {
     "name": "stdout",
     "output_type": "stream",
     "text": [
      "--- 1.0185399055480957 seconds ---\n",
      "MRR@100 = 0.0059\n",
      "use_cg, False, factors: 5, iterations: 15, alpha: 1, regularization: 10\n"
     ]
    },
    {
     "data": {
      "application/vnd.jupyter.widget-view+json": {
       "model_id": "1db48cce96224c4cab0f3f7ae0dc2176",
       "version_major": 2,
       "version_minor": 0
      },
      "text/plain": [
       "  0%|          | 0/15 [00:00<?, ?it/s]"
      ]
     },
     "metadata": {},
     "output_type": "display_data"
    },
    {
     "name": "stdout",
     "output_type": "stream",
     "text": [
      "--- 0.9483950138092041 seconds ---\n",
      "MRR@100 = 0.0059\n",
      "use_cg, False, factors: 5, iterations: 15, alpha: 10, regularization: 0.001\n"
     ]
    },
    {
     "data": {
      "application/vnd.jupyter.widget-view+json": {
       "model_id": "5cd30f133bc24ce896453c7f7f52cca6",
       "version_major": 2,
       "version_minor": 0
      },
      "text/plain": [
       "  0%|          | 0/15 [00:00<?, ?it/s]"
      ]
     },
     "metadata": {},
     "output_type": "display_data"
    },
    {
     "name": "stdout",
     "output_type": "stream",
     "text": [
      "--- 0.8959076404571533 seconds ---\n",
      "MRR@100 = 0.0055\n",
      "use_cg, False, factors: 5, iterations: 15, alpha: 10, regularization: 0.01\n"
     ]
    },
    {
     "data": {
      "application/vnd.jupyter.widget-view+json": {
       "model_id": "0f1fd9198723466a97653a07147eb1cb",
       "version_major": 2,
       "version_minor": 0
      },
      "text/plain": [
       "  0%|          | 0/15 [00:00<?, ?it/s]"
      ]
     },
     "metadata": {},
     "output_type": "display_data"
    },
    {
     "name": "stdout",
     "output_type": "stream",
     "text": [
      "--- 0.9098527431488037 seconds ---\n",
      "MRR@100 = 0.0055\n",
      "use_cg, False, factors: 5, iterations: 15, alpha: 10, regularization: 0.1\n"
     ]
    },
    {
     "data": {
      "application/vnd.jupyter.widget-view+json": {
       "model_id": "405c549532694fff95366e57695241f2",
       "version_major": 2,
       "version_minor": 0
      },
      "text/plain": [
       "  0%|          | 0/15 [00:00<?, ?it/s]"
      ]
     },
     "metadata": {},
     "output_type": "display_data"
    },
    {
     "name": "stdout",
     "output_type": "stream",
     "text": [
      "--- 1.012488842010498 seconds ---\n",
      "MRR@100 = 0.0055\n",
      "use_cg, False, factors: 5, iterations: 15, alpha: 10, regularization: 1\n"
     ]
    },
    {
     "data": {
      "application/vnd.jupyter.widget-view+json": {
       "model_id": "4574a043071d4476a0cd7daffafa86c3",
       "version_major": 2,
       "version_minor": 0
      },
      "text/plain": [
       "  0%|          | 0/15 [00:00<?, ?it/s]"
      ]
     },
     "metadata": {},
     "output_type": "display_data"
    },
    {
     "name": "stdout",
     "output_type": "stream",
     "text": [
      "--- 0.9051730632781982 seconds ---\n",
      "MRR@100 = 0.0055\n",
      "use_cg, False, factors: 5, iterations: 15, alpha: 10, regularization: 10\n"
     ]
    },
    {
     "data": {
      "application/vnd.jupyter.widget-view+json": {
       "model_id": "0084712959474b81bd68ea5e954a816a",
       "version_major": 2,
       "version_minor": 0
      },
      "text/plain": [
       "  0%|          | 0/15 [00:00<?, ?it/s]"
      ]
     },
     "metadata": {},
     "output_type": "display_data"
    },
    {
     "name": "stdout",
     "output_type": "stream",
     "text": [
      "--- 0.8821330070495605 seconds ---\n",
      "MRR@100 = 0.0057\n",
      "use_cg, False, factors: 5, iterations: 15, alpha: 100, regularization: 0.001\n"
     ]
    },
    {
     "data": {
      "application/vnd.jupyter.widget-view+json": {
       "model_id": "ba3006a046324caab5c4a91e231d6f33",
       "version_major": 2,
       "version_minor": 0
      },
      "text/plain": [
       "  0%|          | 0/15 [00:00<?, ?it/s]"
      ]
     },
     "metadata": {},
     "output_type": "display_data"
    },
    {
     "name": "stdout",
     "output_type": "stream",
     "text": [
      "--- 0.9263317584991455 seconds ---\n",
      "MRR@100 = 0.0056\n",
      "use_cg, False, factors: 5, iterations: 15, alpha: 100, regularization: 0.01\n"
     ]
    },
    {
     "data": {
      "application/vnd.jupyter.widget-view+json": {
       "model_id": "6bbe4ee6bfba4042a005c39a3a2e6e6c",
       "version_major": 2,
       "version_minor": 0
      },
      "text/plain": [
       "  0%|          | 0/15 [00:00<?, ?it/s]"
      ]
     },
     "metadata": {},
     "output_type": "display_data"
    },
    {
     "name": "stdout",
     "output_type": "stream",
     "text": [
      "--- 0.9596490859985352 seconds ---\n",
      "MRR@100 = 0.0056\n",
      "use_cg, False, factors: 5, iterations: 15, alpha: 100, regularization: 0.1\n"
     ]
    },
    {
     "data": {
      "application/vnd.jupyter.widget-view+json": {
       "model_id": "0a322a242dd843498e3304653c216c55",
       "version_major": 2,
       "version_minor": 0
      },
      "text/plain": [
       "  0%|          | 0/15 [00:00<?, ?it/s]"
      ]
     },
     "metadata": {},
     "output_type": "display_data"
    },
    {
     "name": "stdout",
     "output_type": "stream",
     "text": [
      "--- 0.9073629379272461 seconds ---\n",
      "MRR@100 = 0.0056\n",
      "use_cg, False, factors: 5, iterations: 15, alpha: 100, regularization: 1\n"
     ]
    },
    {
     "data": {
      "application/vnd.jupyter.widget-view+json": {
       "model_id": "9441db2534eb45f38cc5e1c4475a89c8",
       "version_major": 2,
       "version_minor": 0
      },
      "text/plain": [
       "  0%|          | 0/15 [00:00<?, ?it/s]"
      ]
     },
     "metadata": {},
     "output_type": "display_data"
    },
    {
     "name": "stdout",
     "output_type": "stream",
     "text": [
      "--- 0.9146397113800049 seconds ---\n",
      "MRR@100 = 0.0056\n",
      "use_cg, False, factors: 5, iterations: 15, alpha: 100, regularization: 10\n"
     ]
    },
    {
     "data": {
      "application/vnd.jupyter.widget-view+json": {
       "model_id": "cbd59cc40e504ce1a3e564d25d910e5b",
       "version_major": 2,
       "version_minor": 0
      },
      "text/plain": [
       "  0%|          | 0/15 [00:00<?, ?it/s]"
      ]
     },
     "metadata": {},
     "output_type": "display_data"
    },
    {
     "name": "stdout",
     "output_type": "stream",
     "text": [
      "--- 0.9288578033447266 seconds ---\n",
      "MRR@100 = 0.0056\n",
      "use_cg, False, factors: 5, iterations: 30, alpha: 0.001, regularization: 0.001\n"
     ]
    },
    {
     "data": {
      "application/vnd.jupyter.widget-view+json": {
       "model_id": "3b148843f2024ae8a0909c2617853d98",
       "version_major": 2,
       "version_minor": 0
      },
      "text/plain": [
       "  0%|          | 0/30 [00:00<?, ?it/s]"
      ]
     },
     "metadata": {},
     "output_type": "display_data"
    },
    {
     "name": "stdout",
     "output_type": "stream",
     "text": [
      "--- 0.8982460498809814 seconds ---\n",
      "MRR@100 = 0.0049\n",
      "use_cg, False, factors: 5, iterations: 30, alpha: 0.001, regularization: 0.01\n"
     ]
    },
    {
     "data": {
      "application/vnd.jupyter.widget-view+json": {
       "model_id": "3fac89bf6d644da6a747fe0991201e8b",
       "version_major": 2,
       "version_minor": 0
      },
      "text/plain": [
       "  0%|          | 0/30 [00:00<?, ?it/s]"
      ]
     },
     "metadata": {},
     "output_type": "display_data"
    },
    {
     "name": "stdout",
     "output_type": "stream",
     "text": [
      "--- 1.0417180061340332 seconds ---\n",
      "MRR@100 = 0.0043\n",
      "use_cg, False, factors: 5, iterations: 30, alpha: 0.001, regularization: 0.1\n"
     ]
    },
    {
     "data": {
      "application/vnd.jupyter.widget-view+json": {
       "model_id": "37373871e61c47108acd7553cde9e557",
       "version_major": 2,
       "version_minor": 0
      },
      "text/plain": [
       "  0%|          | 0/30 [00:00<?, ?it/s]"
      ]
     },
     "metadata": {},
     "output_type": "display_data"
    },
    {
     "name": "stdout",
     "output_type": "stream",
     "text": [
      "--- 0.9596970081329346 seconds ---\n",
      "MRR@100 = 0.0018\n",
      "use_cg, False, factors: 5, iterations: 30, alpha: 0.001, regularization: 1\n"
     ]
    },
    {
     "data": {
      "application/vnd.jupyter.widget-view+json": {
       "model_id": "f6ed14e572b74a8c813565bdf3c5ced7",
       "version_major": 2,
       "version_minor": 0
      },
      "text/plain": [
       "  0%|          | 0/30 [00:00<?, ?it/s]"
      ]
     },
     "metadata": {},
     "output_type": "display_data"
    },
    {
     "name": "stdout",
     "output_type": "stream",
     "text": [
      "--- 0.8876171112060547 seconds ---\n",
      "MRR@100 = 0.0013\n",
      "use_cg, False, factors: 5, iterations: 30, alpha: 0.001, regularization: 10\n"
     ]
    },
    {
     "data": {
      "application/vnd.jupyter.widget-view+json": {
       "model_id": "c6f0361d4ded4debbe62a135e2d4717d",
       "version_major": 2,
       "version_minor": 0
      },
      "text/plain": [
       "  0%|          | 0/30 [00:00<?, ?it/s]"
      ]
     },
     "metadata": {},
     "output_type": "display_data"
    },
    {
     "name": "stdout",
     "output_type": "stream",
     "text": [
      "--- 0.9070107936859131 seconds ---\n",
      "MRR@100 = 0.0001\n",
      "use_cg, False, factors: 5, iterations: 30, alpha: 0.01, regularization: 0.001\n"
     ]
    },
    {
     "data": {
      "application/vnd.jupyter.widget-view+json": {
       "model_id": "96536852851c40e1a1b93a150b3ae9a6",
       "version_major": 2,
       "version_minor": 0
      },
      "text/plain": [
       "  0%|          | 0/30 [00:00<?, ?it/s]"
      ]
     },
     "metadata": {},
     "output_type": "display_data"
    },
    {
     "name": "stdout",
     "output_type": "stream",
     "text": [
      "--- 0.9664268493652344 seconds ---\n",
      "MRR@100 = 0.0051\n",
      "use_cg, False, factors: 5, iterations: 30, alpha: 0.01, regularization: 0.01\n"
     ]
    },
    {
     "data": {
      "application/vnd.jupyter.widget-view+json": {
       "model_id": "cab06b11260a44b1ad3ca9b9bdc82a88",
       "version_major": 2,
       "version_minor": 0
      },
      "text/plain": [
       "  0%|          | 0/30 [00:00<?, ?it/s]"
      ]
     },
     "metadata": {},
     "output_type": "display_data"
    },
    {
     "name": "stdout",
     "output_type": "stream",
     "text": [
      "--- 0.8877213001251221 seconds ---\n",
      "MRR@100 = 0.0051\n",
      "use_cg, False, factors: 5, iterations: 30, alpha: 0.01, regularization: 0.1\n"
     ]
    },
    {
     "data": {
      "application/vnd.jupyter.widget-view+json": {
       "model_id": "d3a1ae85d76e4bec8eca703db26b37d9",
       "version_major": 2,
       "version_minor": 0
      },
      "text/plain": [
       "  0%|          | 0/30 [00:00<?, ?it/s]"
      ]
     },
     "metadata": {},
     "output_type": "display_data"
    },
    {
     "name": "stdout",
     "output_type": "stream",
     "text": [
      "--- 0.9498529434204102 seconds ---\n",
      "MRR@100 = 0.0053\n",
      "use_cg, False, factors: 5, iterations: 30, alpha: 0.01, regularization: 1\n"
     ]
    },
    {
     "data": {
      "application/vnd.jupyter.widget-view+json": {
       "model_id": "3dd185cee4a44cf8a2c497c1849a8610",
       "version_major": 2,
       "version_minor": 0
      },
      "text/plain": [
       "  0%|          | 0/30 [00:00<?, ?it/s]"
      ]
     },
     "metadata": {},
     "output_type": "display_data"
    },
    {
     "name": "stdout",
     "output_type": "stream",
     "text": [
      "--- 0.893826961517334 seconds ---\n",
      "MRR@100 = 0.0018\n",
      "use_cg, False, factors: 5, iterations: 30, alpha: 0.01, regularization: 10\n"
     ]
    },
    {
     "data": {
      "application/vnd.jupyter.widget-view+json": {
       "model_id": "449802f0b5114eba8cc44104e32fa967",
       "version_major": 2,
       "version_minor": 0
      },
      "text/plain": [
       "  0%|          | 0/30 [00:00<?, ?it/s]"
      ]
     },
     "metadata": {},
     "output_type": "display_data"
    },
    {
     "name": "stdout",
     "output_type": "stream",
     "text": [
      "--- 0.8902249336242676 seconds ---\n",
      "MRR@100 = 0.0002\n",
      "use_cg, False, factors: 5, iterations: 30, alpha: 0.1, regularization: 0.001\n"
     ]
    },
    {
     "data": {
      "application/vnd.jupyter.widget-view+json": {
       "model_id": "530a56a52f9d483f994fa485f7faa0c9",
       "version_major": 2,
       "version_minor": 0
      },
      "text/plain": [
       "  0%|          | 0/30 [00:00<?, ?it/s]"
      ]
     },
     "metadata": {},
     "output_type": "display_data"
    },
    {
     "name": "stdout",
     "output_type": "stream",
     "text": [
      "--- 0.9126098155975342 seconds ---\n",
      "MRR@100 = 0.0057\n",
      "use_cg, False, factors: 5, iterations: 30, alpha: 0.1, regularization: 0.01\n"
     ]
    },
    {
     "data": {
      "application/vnd.jupyter.widget-view+json": {
       "model_id": "a601c44316d84f3bbbff64aaca3c7cb3",
       "version_major": 2,
       "version_minor": 0
      },
      "text/plain": [
       "  0%|          | 0/30 [00:00<?, ?it/s]"
      ]
     },
     "metadata": {},
     "output_type": "display_data"
    },
    {
     "name": "stdout",
     "output_type": "stream",
     "text": [
      "--- 0.9110920429229736 seconds ---\n",
      "MRR@100 = 0.0055\n",
      "use_cg, False, factors: 5, iterations: 30, alpha: 0.1, regularization: 0.1\n"
     ]
    },
    {
     "data": {
      "application/vnd.jupyter.widget-view+json": {
       "model_id": "4968bd305ea34440a23ec5f84a697900",
       "version_major": 2,
       "version_minor": 0
      },
      "text/plain": [
       "  0%|          | 0/30 [00:00<?, ?it/s]"
      ]
     },
     "metadata": {},
     "output_type": "display_data"
    },
    {
     "name": "stdout",
     "output_type": "stream",
     "text": [
      "--- 0.9003589153289795 seconds ---\n",
      "MRR@100 = 0.0058\n",
      "use_cg, False, factors: 5, iterations: 30, alpha: 0.1, regularization: 1\n"
     ]
    },
    {
     "data": {
      "application/vnd.jupyter.widget-view+json": {
       "model_id": "c17f3a10f5a44c268045198f15d0743c",
       "version_major": 2,
       "version_minor": 0
      },
      "text/plain": [
       "  0%|          | 0/30 [00:00<?, ?it/s]"
      ]
     },
     "metadata": {},
     "output_type": "display_data"
    },
    {
     "name": "stdout",
     "output_type": "stream",
     "text": [
      "--- 0.930354118347168 seconds ---\n",
      "MRR@100 = 0.0061\n",
      "use_cg, False, factors: 5, iterations: 30, alpha: 0.1, regularization: 10\n"
     ]
    },
    {
     "data": {
      "application/vnd.jupyter.widget-view+json": {
       "model_id": "10e96af6b72e4017829617ae6c17f6da",
       "version_major": 2,
       "version_minor": 0
      },
      "text/plain": [
       "  0%|          | 0/30 [00:00<?, ?it/s]"
      ]
     },
     "metadata": {},
     "output_type": "display_data"
    },
    {
     "name": "stdout",
     "output_type": "stream",
     "text": [
      "--- 0.9207689762115479 seconds ---\n",
      "MRR@100 = 0.0018\n",
      "use_cg, False, factors: 5, iterations: 30, alpha: 1, regularization: 0.001\n"
     ]
    },
    {
     "data": {
      "application/vnd.jupyter.widget-view+json": {
       "model_id": "06118344b7654177954c8ab78c199929",
       "version_major": 2,
       "version_minor": 0
      },
      "text/plain": [
       "  0%|          | 0/30 [00:00<?, ?it/s]"
      ]
     },
     "metadata": {},
     "output_type": "display_data"
    },
    {
     "name": "stdout",
     "output_type": "stream",
     "text": [
      "--- 0.9246718883514404 seconds ---\n",
      "MRR@100 = 0.0060\n",
      "use_cg, False, factors: 5, iterations: 30, alpha: 1, regularization: 0.01\n"
     ]
    },
    {
     "data": {
      "application/vnd.jupyter.widget-view+json": {
       "model_id": "f316c3720e1b486a8638465a7e30c96d",
       "version_major": 2,
       "version_minor": 0
      },
      "text/plain": [
       "  0%|          | 0/30 [00:00<?, ?it/s]"
      ]
     },
     "metadata": {},
     "output_type": "display_data"
    },
    {
     "name": "stdout",
     "output_type": "stream",
     "text": [
      "--- 0.9364049434661865 seconds ---\n",
      "MRR@100 = 0.0060\n",
      "use_cg, False, factors: 5, iterations: 30, alpha: 1, regularization: 0.1\n"
     ]
    },
    {
     "data": {
      "application/vnd.jupyter.widget-view+json": {
       "model_id": "45e41b2b3e63493290bffcc0d63746f6",
       "version_major": 2,
       "version_minor": 0
      },
      "text/plain": [
       "  0%|          | 0/30 [00:00<?, ?it/s]"
      ]
     },
     "metadata": {},
     "output_type": "display_data"
    },
    {
     "name": "stdout",
     "output_type": "stream",
     "text": [
      "--- 0.9363589286804199 seconds ---\n",
      "MRR@100 = 0.0060\n",
      "use_cg, False, factors: 5, iterations: 30, alpha: 1, regularization: 1\n"
     ]
    },
    {
     "data": {
      "application/vnd.jupyter.widget-view+json": {
       "model_id": "7f5c494a189b424dbaf268e1e9c34cdd",
       "version_major": 2,
       "version_minor": 0
      },
      "text/plain": [
       "  0%|          | 0/30 [00:00<?, ?it/s]"
      ]
     },
     "metadata": {},
     "output_type": "display_data"
    },
    {
     "name": "stdout",
     "output_type": "stream",
     "text": [
      "--- 0.9760251045227051 seconds ---\n",
      "MRR@100 = 0.0060\n",
      "use_cg, False, factors: 5, iterations: 30, alpha: 1, regularization: 10\n"
     ]
    },
    {
     "data": {
      "application/vnd.jupyter.widget-view+json": {
       "model_id": "bd106b1904804af385ffb44a8ede8ced",
       "version_major": 2,
       "version_minor": 0
      },
      "text/plain": [
       "  0%|          | 0/30 [00:00<?, ?it/s]"
      ]
     },
     "metadata": {},
     "output_type": "display_data"
    },
    {
     "name": "stdout",
     "output_type": "stream",
     "text": [
      "--- 0.9078071117401123 seconds ---\n",
      "MRR@100 = 0.0060\n",
      "use_cg, False, factors: 5, iterations: 30, alpha: 10, regularization: 0.001\n"
     ]
    },
    {
     "data": {
      "application/vnd.jupyter.widget-view+json": {
       "model_id": "673f1d0ee8984f649cca7dffa56ebb98",
       "version_major": 2,
       "version_minor": 0
      },
      "text/plain": [
       "  0%|          | 0/30 [00:00<?, ?it/s]"
      ]
     },
     "metadata": {},
     "output_type": "display_data"
    },
    {
     "name": "stdout",
     "output_type": "stream",
     "text": [
      "--- 0.9449396133422852 seconds ---\n",
      "MRR@100 = 0.0055\n",
      "use_cg, False, factors: 5, iterations: 30, alpha: 10, regularization: 0.01\n"
     ]
    },
    {
     "data": {
      "application/vnd.jupyter.widget-view+json": {
       "model_id": "db7dff9abe664eda99ba70583b5168b5",
       "version_major": 2,
       "version_minor": 0
      },
      "text/plain": [
       "  0%|          | 0/30 [00:00<?, ?it/s]"
      ]
     },
     "metadata": {},
     "output_type": "display_data"
    },
    {
     "name": "stdout",
     "output_type": "stream",
     "text": [
      "--- 0.8941729068756104 seconds ---\n",
      "MRR@100 = 0.0055\n",
      "use_cg, False, factors: 5, iterations: 30, alpha: 10, regularization: 0.1\n"
     ]
    },
    {
     "data": {
      "application/vnd.jupyter.widget-view+json": {
       "model_id": "eb0dd30ebf1843f5838010b76e1fed1a",
       "version_major": 2,
       "version_minor": 0
      },
      "text/plain": [
       "  0%|          | 0/30 [00:00<?, ?it/s]"
      ]
     },
     "metadata": {},
     "output_type": "display_data"
    },
    {
     "name": "stdout",
     "output_type": "stream",
     "text": [
      "--- 0.9293210506439209 seconds ---\n",
      "MRR@100 = 0.0055\n",
      "use_cg, False, factors: 5, iterations: 30, alpha: 10, regularization: 1\n"
     ]
    },
    {
     "data": {
      "application/vnd.jupyter.widget-view+json": {
       "model_id": "72415e3e85434606a9c718a6e271f88d",
       "version_major": 2,
       "version_minor": 0
      },
      "text/plain": [
       "  0%|          | 0/30 [00:00<?, ?it/s]"
      ]
     },
     "metadata": {},
     "output_type": "display_data"
    },
    {
     "name": "stdout",
     "output_type": "stream",
     "text": [
      "--- 0.9174129962921143 seconds ---\n",
      "MRR@100 = 0.0055\n",
      "use_cg, False, factors: 5, iterations: 30, alpha: 10, regularization: 10\n"
     ]
    },
    {
     "data": {
      "application/vnd.jupyter.widget-view+json": {
       "model_id": "ebb30ad0d7394f749b8e546223240dff",
       "version_major": 2,
       "version_minor": 0
      },
      "text/plain": [
       "  0%|          | 0/30 [00:00<?, ?it/s]"
      ]
     },
     "metadata": {},
     "output_type": "display_data"
    },
    {
     "name": "stdout",
     "output_type": "stream",
     "text": [
      "--- 0.9067549705505371 seconds ---\n",
      "MRR@100 = 0.0055\n",
      "use_cg, False, factors: 5, iterations: 30, alpha: 100, regularization: 0.001\n"
     ]
    },
    {
     "data": {
      "application/vnd.jupyter.widget-view+json": {
       "model_id": "1280aac94a494e7a950bdaf7773f6adc",
       "version_major": 2,
       "version_minor": 0
      },
      "text/plain": [
       "  0%|          | 0/30 [00:00<?, ?it/s]"
      ]
     },
     "metadata": {},
     "output_type": "display_data"
    },
    {
     "name": "stdout",
     "output_type": "stream",
     "text": [
      "--- 0.9073247909545898 seconds ---\n",
      "MRR@100 = 0.0057\n",
      "use_cg, False, factors: 5, iterations: 30, alpha: 100, regularization: 0.01\n"
     ]
    },
    {
     "data": {
      "application/vnd.jupyter.widget-view+json": {
       "model_id": "7049a1ae7ee84624aadc5840add85cf5",
       "version_major": 2,
       "version_minor": 0
      },
      "text/plain": [
       "  0%|          | 0/30 [00:00<?, ?it/s]"
      ]
     },
     "metadata": {},
     "output_type": "display_data"
    },
    {
     "name": "stdout",
     "output_type": "stream",
     "text": [
      "--- 0.9362931251525879 seconds ---\n",
      "MRR@100 = 0.0057\n",
      "use_cg, False, factors: 5, iterations: 30, alpha: 100, regularization: 0.1\n"
     ]
    },
    {
     "data": {
      "application/vnd.jupyter.widget-view+json": {
       "model_id": "d4376f00007148f3a4e408e3e9962d77",
       "version_major": 2,
       "version_minor": 0
      },
      "text/plain": [
       "  0%|          | 0/30 [00:00<?, ?it/s]"
      ]
     },
     "metadata": {},
     "output_type": "display_data"
    },
    {
     "name": "stdout",
     "output_type": "stream",
     "text": [
      "--- 0.9563980102539062 seconds ---\n",
      "MRR@100 = 0.0058\n",
      "use_cg, False, factors: 5, iterations: 30, alpha: 100, regularization: 1\n"
     ]
    },
    {
     "data": {
      "application/vnd.jupyter.widget-view+json": {
       "model_id": "1de3077a0c3b410f9da1674fb9099247",
       "version_major": 2,
       "version_minor": 0
      },
      "text/plain": [
       "  0%|          | 0/30 [00:00<?, ?it/s]"
      ]
     },
     "metadata": {},
     "output_type": "display_data"
    },
    {
     "name": "stdout",
     "output_type": "stream",
     "text": [
      "--- 0.9122600555419922 seconds ---\n",
      "MRR@100 = 0.0057\n",
      "use_cg, False, factors: 5, iterations: 30, alpha: 100, regularization: 10\n"
     ]
    },
    {
     "data": {
      "application/vnd.jupyter.widget-view+json": {
       "model_id": "eb907809c5be485a9db1fe7c23bdf9ce",
       "version_major": 2,
       "version_minor": 0
      },
      "text/plain": [
       "  0%|          | 0/30 [00:00<?, ?it/s]"
      ]
     },
     "metadata": {},
     "output_type": "display_data"
    },
    {
     "name": "stdout",
     "output_type": "stream",
     "text": [
      "--- 1.000168800354004 seconds ---\n",
      "MRR@100 = 0.0058\n",
      "use_cg, False, factors: 5, iterations: 50, alpha: 0.001, regularization: 0.001\n"
     ]
    },
    {
     "data": {
      "application/vnd.jupyter.widget-view+json": {
       "model_id": "a4d90fb1bdc847e2bee95b4e2b276677",
       "version_major": 2,
       "version_minor": 0
      },
      "text/plain": [
       "  0%|          | 0/50 [00:00<?, ?it/s]"
      ]
     },
     "metadata": {},
     "output_type": "display_data"
    },
    {
     "name": "stdout",
     "output_type": "stream",
     "text": [
      "--- 0.9665062427520752 seconds ---\n",
      "MRR@100 = 0.0048\n",
      "use_cg, False, factors: 5, iterations: 50, alpha: 0.001, regularization: 0.01\n"
     ]
    },
    {
     "data": {
      "application/vnd.jupyter.widget-view+json": {
       "model_id": "1222ce697982440a82d1bae68ea6c944",
       "version_major": 2,
       "version_minor": 0
      },
      "text/plain": [
       "  0%|          | 0/50 [00:00<?, ?it/s]"
      ]
     },
     "metadata": {},
     "output_type": "display_data"
    },
    {
     "name": "stdout",
     "output_type": "stream",
     "text": [
      "--- 0.9056460857391357 seconds ---\n",
      "MRR@100 = 0.0036\n",
      "use_cg, False, factors: 5, iterations: 50, alpha: 0.001, regularization: 0.1\n"
     ]
    },
    {
     "data": {
      "application/vnd.jupyter.widget-view+json": {
       "model_id": "ae4c320daf9e42319ba8f3a2aaa9605f",
       "version_major": 2,
       "version_minor": 0
      },
      "text/plain": [
       "  0%|          | 0/50 [00:00<?, ?it/s]"
      ]
     },
     "metadata": {},
     "output_type": "display_data"
    },
    {
     "name": "stdout",
     "output_type": "stream",
     "text": [
      "--- 0.8821859359741211 seconds ---\n",
      "MRR@100 = 0.0018\n",
      "use_cg, False, factors: 5, iterations: 50, alpha: 0.001, regularization: 1\n"
     ]
    },
    {
     "data": {
      "application/vnd.jupyter.widget-view+json": {
       "model_id": "2be3b73c651348f9a26ec8ae647d6946",
       "version_major": 2,
       "version_minor": 0
      },
      "text/plain": [
       "  0%|          | 0/50 [00:00<?, ?it/s]"
      ]
     },
     "metadata": {},
     "output_type": "display_data"
    },
    {
     "name": "stdout",
     "output_type": "stream",
     "text": [
      "--- 0.8759739398956299 seconds ---\n",
      "MRR@100 = 0.0013\n",
      "use_cg, False, factors: 5, iterations: 50, alpha: 0.001, regularization: 10\n"
     ]
    },
    {
     "data": {
      "application/vnd.jupyter.widget-view+json": {
       "model_id": "542bd463195b4f90964851135c666a50",
       "version_major": 2,
       "version_minor": 0
      },
      "text/plain": [
       "  0%|          | 0/50 [00:00<?, ?it/s]"
      ]
     },
     "metadata": {},
     "output_type": "display_data"
    },
    {
     "name": "stdout",
     "output_type": "stream",
     "text": [
      "--- 0.8939001560211182 seconds ---\n",
      "MRR@100 = 0.0001\n",
      "use_cg, False, factors: 5, iterations: 50, alpha: 0.01, regularization: 0.001\n"
     ]
    },
    {
     "data": {
      "application/vnd.jupyter.widget-view+json": {
       "model_id": "d606086807a6419eb25b0537cdb570b9",
       "version_major": 2,
       "version_minor": 0
      },
      "text/plain": [
       "  0%|          | 0/50 [00:00<?, ?it/s]"
      ]
     },
     "metadata": {},
     "output_type": "display_data"
    },
    {
     "name": "stdout",
     "output_type": "stream",
     "text": [
      "--- 0.8893921375274658 seconds ---\n",
      "MRR@100 = 0.0049\n",
      "use_cg, False, factors: 5, iterations: 50, alpha: 0.01, regularization: 0.01\n"
     ]
    },
    {
     "data": {
      "application/vnd.jupyter.widget-view+json": {
       "model_id": "189acce0b35a44d89da35d63aed189da",
       "version_major": 2,
       "version_minor": 0
      },
      "text/plain": [
       "  0%|          | 0/50 [00:00<?, ?it/s]"
      ]
     },
     "metadata": {},
     "output_type": "display_data"
    },
    {
     "name": "stdout",
     "output_type": "stream",
     "text": [
      "--- 0.9043188095092773 seconds ---\n",
      "MRR@100 = 0.0049\n",
      "use_cg, False, factors: 5, iterations: 50, alpha: 0.01, regularization: 0.1\n"
     ]
    },
    {
     "data": {
      "application/vnd.jupyter.widget-view+json": {
       "model_id": "9c33e0a9c96844d39fa8cae15d32ffa2",
       "version_major": 2,
       "version_minor": 0
      },
      "text/plain": [
       "  0%|          | 0/50 [00:00<?, ?it/s]"
      ]
     },
     "metadata": {},
     "output_type": "display_data"
    },
    {
     "name": "stdout",
     "output_type": "stream",
     "text": [
      "--- 0.9160430431365967 seconds ---\n",
      "MRR@100 = 0.0043\n",
      "use_cg, False, factors: 5, iterations: 50, alpha: 0.01, regularization: 1\n"
     ]
    },
    {
     "data": {
      "application/vnd.jupyter.widget-view+json": {
       "model_id": "36a46668c4e14df9a52313ef322de9cf",
       "version_major": 2,
       "version_minor": 0
      },
      "text/plain": [
       "  0%|          | 0/50 [00:00<?, ?it/s]"
      ]
     },
     "metadata": {},
     "output_type": "display_data"
    },
    {
     "name": "stdout",
     "output_type": "stream",
     "text": [
      "--- 0.9221830368041992 seconds ---\n",
      "MRR@100 = 0.0018\n",
      "use_cg, False, factors: 5, iterations: 50, alpha: 0.01, regularization: 10\n"
     ]
    },
    {
     "data": {
      "application/vnd.jupyter.widget-view+json": {
       "model_id": "2c5037156f914a44995c733df90bb637",
       "version_major": 2,
       "version_minor": 0
      },
      "text/plain": [
       "  0%|          | 0/50 [00:00<?, ?it/s]"
      ]
     },
     "metadata": {},
     "output_type": "display_data"
    },
    {
     "name": "stdout",
     "output_type": "stream",
     "text": [
      "--- 0.8844857215881348 seconds ---\n",
      "MRR@100 = 0.0002\n",
      "use_cg, False, factors: 5, iterations: 50, alpha: 0.1, regularization: 0.001\n"
     ]
    },
    {
     "data": {
      "application/vnd.jupyter.widget-view+json": {
       "model_id": "baa1ba23d8f349a8892ca4d464f35f4e",
       "version_major": 2,
       "version_minor": 0
      },
      "text/plain": [
       "  0%|          | 0/50 [00:00<?, ?it/s]"
      ]
     },
     "metadata": {},
     "output_type": "display_data"
    },
    {
     "name": "stdout",
     "output_type": "stream",
     "text": [
      "--- 0.9260799884796143 seconds ---\n",
      "MRR@100 = 0.0053\n",
      "use_cg, False, factors: 5, iterations: 50, alpha: 0.1, regularization: 0.01\n"
     ]
    },
    {
     "data": {
      "application/vnd.jupyter.widget-view+json": {
       "model_id": "22bab15251f445e6a1ed10d03c74dcdc",
       "version_major": 2,
       "version_minor": 0
      },
      "text/plain": [
       "  0%|          | 0/50 [00:00<?, ?it/s]"
      ]
     },
     "metadata": {},
     "output_type": "display_data"
    },
    {
     "name": "stdout",
     "output_type": "stream",
     "text": [
      "--- 1.0645766258239746 seconds ---\n",
      "MRR@100 = 0.0052\n",
      "use_cg, False, factors: 5, iterations: 50, alpha: 0.1, regularization: 0.1\n"
     ]
    },
    {
     "data": {
      "application/vnd.jupyter.widget-view+json": {
       "model_id": "af2db21b54724255ba781d8c4ca25159",
       "version_major": 2,
       "version_minor": 0
      },
      "text/plain": [
       "  0%|          | 0/50 [00:00<?, ?it/s]"
      ]
     },
     "metadata": {},
     "output_type": "display_data"
    },
    {
     "name": "stdout",
     "output_type": "stream",
     "text": [
      "--- 1.0135900974273682 seconds ---\n",
      "MRR@100 = 0.0055\n",
      "use_cg, False, factors: 5, iterations: 50, alpha: 0.1, regularization: 1\n"
     ]
    },
    {
     "data": {
      "application/vnd.jupyter.widget-view+json": {
       "model_id": "f02f5b2f036a47fcb431f5bfce03932b",
       "version_major": 2,
       "version_minor": 0
      },
      "text/plain": [
       "  0%|          | 0/50 [00:00<?, ?it/s]"
      ]
     },
     "metadata": {},
     "output_type": "display_data"
    },
    {
     "name": "stdout",
     "output_type": "stream",
     "text": [
      "--- 0.9251101016998291 seconds ---\n",
      "MRR@100 = 0.0061\n",
      "use_cg, False, factors: 5, iterations: 50, alpha: 0.1, regularization: 10\n"
     ]
    },
    {
     "data": {
      "application/vnd.jupyter.widget-view+json": {
       "model_id": "ae7878f51e1a431a9b9be143bdfb47ed",
       "version_major": 2,
       "version_minor": 0
      },
      "text/plain": [
       "  0%|          | 0/50 [00:00<?, ?it/s]"
      ]
     },
     "metadata": {},
     "output_type": "display_data"
    },
    {
     "name": "stdout",
     "output_type": "stream",
     "text": [
      "--- 0.9101359844207764 seconds ---\n",
      "MRR@100 = 0.0018\n",
      "use_cg, False, factors: 5, iterations: 50, alpha: 1, regularization: 0.001\n"
     ]
    },
    {
     "data": {
      "application/vnd.jupyter.widget-view+json": {
       "model_id": "974eea66840240f49f3facb3bbd28664",
       "version_major": 2,
       "version_minor": 0
      },
      "text/plain": [
       "  0%|          | 0/50 [00:00<?, ?it/s]"
      ]
     },
     "metadata": {},
     "output_type": "display_data"
    },
    {
     "name": "stdout",
     "output_type": "stream",
     "text": [
      "--- 1.0495009422302246 seconds ---\n",
      "MRR@100 = 0.0060\n",
      "use_cg, False, factors: 5, iterations: 50, alpha: 1, regularization: 0.01\n"
     ]
    },
    {
     "data": {
      "application/vnd.jupyter.widget-view+json": {
       "model_id": "7b188e02ebea4cee9282070fea1cca08",
       "version_major": 2,
       "version_minor": 0
      },
      "text/plain": [
       "  0%|          | 0/50 [00:00<?, ?it/s]"
      ]
     },
     "metadata": {},
     "output_type": "display_data"
    },
    {
     "name": "stdout",
     "output_type": "stream",
     "text": [
      "--- 0.9418559074401855 seconds ---\n",
      "MRR@100 = 0.0060\n",
      "use_cg, False, factors: 5, iterations: 50, alpha: 1, regularization: 0.1\n"
     ]
    },
    {
     "data": {
      "application/vnd.jupyter.widget-view+json": {
       "model_id": "a186a24861034dc2a948323bea89635f",
       "version_major": 2,
       "version_minor": 0
      },
      "text/plain": [
       "  0%|          | 0/50 [00:00<?, ?it/s]"
      ]
     },
     "metadata": {},
     "output_type": "display_data"
    },
    {
     "name": "stdout",
     "output_type": "stream",
     "text": [
      "--- 0.9719748497009277 seconds ---\n",
      "MRR@100 = 0.0060\n",
      "use_cg, False, factors: 5, iterations: 50, alpha: 1, regularization: 1\n"
     ]
    },
    {
     "data": {
      "application/vnd.jupyter.widget-view+json": {
       "model_id": "d9d859dd31cb47528985641f3e5a0e3f",
       "version_major": 2,
       "version_minor": 0
      },
      "text/plain": [
       "  0%|          | 0/50 [00:00<?, ?it/s]"
      ]
     },
     "metadata": {},
     "output_type": "display_data"
    },
    {
     "name": "stdout",
     "output_type": "stream",
     "text": [
      "--- 0.9875891208648682 seconds ---\n",
      "MRR@100 = 0.0060\n",
      "use_cg, False, factors: 5, iterations: 50, alpha: 1, regularization: 10\n"
     ]
    },
    {
     "data": {
      "application/vnd.jupyter.widget-view+json": {
       "model_id": "b78fac9b3fda49dc9c79850dc93a791d",
       "version_major": 2,
       "version_minor": 0
      },
      "text/plain": [
       "  0%|          | 0/50 [00:00<?, ?it/s]"
      ]
     },
     "metadata": {},
     "output_type": "display_data"
    },
    {
     "name": "stdout",
     "output_type": "stream",
     "text": [
      "--- 0.9317090511322021 seconds ---\n",
      "MRR@100 = 0.0060\n",
      "use_cg, False, factors: 5, iterations: 50, alpha: 10, regularization: 0.001\n"
     ]
    },
    {
     "data": {
      "application/vnd.jupyter.widget-view+json": {
       "model_id": "11536056230b44b5b47531d4b8e45651",
       "version_major": 2,
       "version_minor": 0
      },
      "text/plain": [
       "  0%|          | 0/50 [00:00<?, ?it/s]"
      ]
     },
     "metadata": {},
     "output_type": "display_data"
    },
    {
     "name": "stdout",
     "output_type": "stream",
     "text": [
      "--- 0.9317550659179688 seconds ---\n",
      "MRR@100 = 0.0060\n",
      "use_cg, False, factors: 5, iterations: 50, alpha: 10, regularization: 0.01\n"
     ]
    },
    {
     "data": {
      "application/vnd.jupyter.widget-view+json": {
       "model_id": "c216a731df99442c822d8b60298d724c",
       "version_major": 2,
       "version_minor": 0
      },
      "text/plain": [
       "  0%|          | 0/50 [00:00<?, ?it/s]"
      ]
     },
     "metadata": {},
     "output_type": "display_data"
    },
    {
     "name": "stdout",
     "output_type": "stream",
     "text": [
      "--- 0.9406979084014893 seconds ---\n",
      "MRR@100 = 0.0060\n",
      "use_cg, False, factors: 5, iterations: 50, alpha: 10, regularization: 0.1\n"
     ]
    },
    {
     "data": {
      "application/vnd.jupyter.widget-view+json": {
       "model_id": "cc9fa9ab32f649deab588871fb717bc1",
       "version_major": 2,
       "version_minor": 0
      },
      "text/plain": [
       "  0%|          | 0/50 [00:00<?, ?it/s]"
      ]
     },
     "metadata": {},
     "output_type": "display_data"
    },
    {
     "name": "stdout",
     "output_type": "stream",
     "text": [
      "--- 0.9024269580841064 seconds ---\n",
      "MRR@100 = 0.0060\n",
      "use_cg, False, factors: 5, iterations: 50, alpha: 10, regularization: 1\n"
     ]
    },
    {
     "data": {
      "application/vnd.jupyter.widget-view+json": {
       "model_id": "1de1eda1b07b4b5cbb5ef289fd47affe",
       "version_major": 2,
       "version_minor": 0
      },
      "text/plain": [
       "  0%|          | 0/50 [00:00<?, ?it/s]"
      ]
     },
     "metadata": {},
     "output_type": "display_data"
    },
    {
     "name": "stdout",
     "output_type": "stream",
     "text": [
      "--- 0.908911943435669 seconds ---\n",
      "MRR@100 = 0.0060\n",
      "use_cg, False, factors: 5, iterations: 50, alpha: 10, regularization: 10\n"
     ]
    },
    {
     "data": {
      "application/vnd.jupyter.widget-view+json": {
       "model_id": "de2f75af740e475790d91c0ce88b55c3",
       "version_major": 2,
       "version_minor": 0
      },
      "text/plain": [
       "  0%|          | 0/50 [00:00<?, ?it/s]"
      ]
     },
     "metadata": {},
     "output_type": "display_data"
    },
    {
     "name": "stdout",
     "output_type": "stream",
     "text": [
      "--- 0.903749942779541 seconds ---\n",
      "MRR@100 = 0.0060\n",
      "use_cg, False, factors: 5, iterations: 50, alpha: 100, regularization: 0.001\n"
     ]
    },
    {
     "data": {
      "application/vnd.jupyter.widget-view+json": {
       "model_id": "7d67681fde5447a28e35b67b4a5dd5e1",
       "version_major": 2,
       "version_minor": 0
      },
      "text/plain": [
       "  0%|          | 0/50 [00:00<?, ?it/s]"
      ]
     },
     "metadata": {},
     "output_type": "display_data"
    },
    {
     "name": "stdout",
     "output_type": "stream",
     "text": [
      "--- 0.9400560855865479 seconds ---\n",
      "MRR@100 = 0.0062\n",
      "use_cg, False, factors: 5, iterations: 50, alpha: 100, regularization: 0.01\n"
     ]
    },
    {
     "data": {
      "application/vnd.jupyter.widget-view+json": {
       "model_id": "bf5a23010ae542edb108ad424e4f3deb",
       "version_major": 2,
       "version_minor": 0
      },
      "text/plain": [
       "  0%|          | 0/50 [00:00<?, ?it/s]"
      ]
     },
     "metadata": {},
     "output_type": "display_data"
    },
    {
     "name": "stdout",
     "output_type": "stream",
     "text": [
      "--- 0.9342458248138428 seconds ---\n",
      "MRR@100 = 0.0062\n",
      "use_cg, False, factors: 5, iterations: 50, alpha: 100, regularization: 0.1\n"
     ]
    },
    {
     "data": {
      "application/vnd.jupyter.widget-view+json": {
       "model_id": "598a68e02b3643258cd61282a4fa0e77",
       "version_major": 2,
       "version_minor": 0
      },
      "text/plain": [
       "  0%|          | 0/50 [00:00<?, ?it/s]"
      ]
     },
     "metadata": {},
     "output_type": "display_data"
    },
    {
     "name": "stdout",
     "output_type": "stream",
     "text": [
      "--- 0.8954780101776123 seconds ---\n",
      "MRR@100 = 0.0062\n",
      "use_cg, False, factors: 5, iterations: 50, alpha: 100, regularization: 1\n"
     ]
    },
    {
     "data": {
      "application/vnd.jupyter.widget-view+json": {
       "model_id": "e8b0bd1be0ce4321836550e119a62b97",
       "version_major": 2,
       "version_minor": 0
      },
      "text/plain": [
       "  0%|          | 0/50 [00:00<?, ?it/s]"
      ]
     },
     "metadata": {},
     "output_type": "display_data"
    },
    {
     "name": "stdout",
     "output_type": "stream",
     "text": [
      "--- 0.9356846809387207 seconds ---\n",
      "MRR@100 = 0.0062\n",
      "use_cg, False, factors: 5, iterations: 50, alpha: 100, regularization: 10\n"
     ]
    },
    {
     "data": {
      "application/vnd.jupyter.widget-view+json": {
       "model_id": "f2cb31ecaf0c47cda10ed6dbe4a5b692",
       "version_major": 2,
       "version_minor": 0
      },
      "text/plain": [
       "  0%|          | 0/50 [00:00<?, ?it/s]"
      ]
     },
     "metadata": {},
     "output_type": "display_data"
    },
    {
     "name": "stdout",
     "output_type": "stream",
     "text": [
      "--- 0.9209098815917969 seconds ---\n",
      "MRR@100 = 0.0061\n",
      "use_cg, False, factors: 5, iterations: 100, alpha: 0.001, regularization: 0.001\n"
     ]
    },
    {
     "data": {
      "application/vnd.jupyter.widget-view+json": {
       "model_id": "78622d23fb434057a5bc02273dcc32b6",
       "version_major": 2,
       "version_minor": 0
      },
      "text/plain": [
       "  0%|          | 0/100 [00:00<?, ?it/s]"
      ]
     },
     "metadata": {},
     "output_type": "display_data"
    },
    {
     "name": "stdout",
     "output_type": "stream",
     "text": [
      "--- 0.898561954498291 seconds ---\n",
      "MRR@100 = 0.0047\n",
      "use_cg, False, factors: 5, iterations: 100, alpha: 0.001, regularization: 0.01\n"
     ]
    },
    {
     "data": {
      "application/vnd.jupyter.widget-view+json": {
       "model_id": "1e3916ba56f84a348bf80fab28f75712",
       "version_major": 2,
       "version_minor": 0
      },
      "text/plain": [
       "  0%|          | 0/100 [00:00<?, ?it/s]"
      ]
     },
     "metadata": {},
     "output_type": "display_data"
    },
    {
     "name": "stdout",
     "output_type": "stream",
     "text": [
      "--- 0.928447961807251 seconds ---\n",
      "MRR@100 = 0.0060\n",
      "use_cg, False, factors: 5, iterations: 100, alpha: 0.001, regularization: 0.1\n"
     ]
    },
    {
     "data": {
      "application/vnd.jupyter.widget-view+json": {
       "model_id": "bed37b77a74948b9a87b68775da77cfa",
       "version_major": 2,
       "version_minor": 0
      },
      "text/plain": [
       "  0%|          | 0/100 [00:00<?, ?it/s]"
      ]
     },
     "metadata": {},
     "output_type": "display_data"
    },
    {
     "name": "stdout",
     "output_type": "stream",
     "text": [
      "--- 0.8846530914306641 seconds ---\n",
      "MRR@100 = 0.0017\n",
      "use_cg, False, factors: 5, iterations: 100, alpha: 0.001, regularization: 1\n"
     ]
    },
    {
     "data": {
      "application/vnd.jupyter.widget-view+json": {
       "model_id": "7cd092a0c8f24e789f42a32ab7afdf92",
       "version_major": 2,
       "version_minor": 0
      },
      "text/plain": [
       "  0%|          | 0/100 [00:00<?, ?it/s]"
      ]
     },
     "metadata": {},
     "output_type": "display_data"
    },
    {
     "name": "stdout",
     "output_type": "stream",
     "text": [
      "--- 0.9158191680908203 seconds ---\n",
      "MRR@100 = 0.0013\n",
      "use_cg, False, factors: 5, iterations: 100, alpha: 0.001, regularization: 10\n"
     ]
    },
    {
     "data": {
      "application/vnd.jupyter.widget-view+json": {
       "model_id": "1d5c9da588ad4c1e8ae0afe40aa99766",
       "version_major": 2,
       "version_minor": 0
      },
      "text/plain": [
       "  0%|          | 0/100 [00:00<?, ?it/s]"
      ]
     },
     "metadata": {},
     "output_type": "display_data"
    },
    {
     "name": "stdout",
     "output_type": "stream",
     "text": [
      "--- 0.8914909362792969 seconds ---\n",
      "MRR@100 = 0.0001\n",
      "use_cg, False, factors: 5, iterations: 100, alpha: 0.01, regularization: 0.001\n"
     ]
    },
    {
     "data": {
      "application/vnd.jupyter.widget-view+json": {
       "model_id": "13f4c1b89ddc423ca714c47083bb51a7",
       "version_major": 2,
       "version_minor": 0
      },
      "text/plain": [
       "  0%|          | 0/100 [00:00<?, ?it/s]"
      ]
     },
     "metadata": {},
     "output_type": "display_data"
    },
    {
     "name": "stdout",
     "output_type": "stream",
     "text": [
      "--- 0.9097390174865723 seconds ---\n",
      "MRR@100 = 0.0049\n",
      "use_cg, False, factors: 5, iterations: 100, alpha: 0.01, regularization: 0.01\n"
     ]
    },
    {
     "data": {
      "application/vnd.jupyter.widget-view+json": {
       "model_id": "29193d9e574b4c81a58820f0a3cf350a",
       "version_major": 2,
       "version_minor": 0
      },
      "text/plain": [
       "  0%|          | 0/100 [00:00<?, ?it/s]"
      ]
     },
     "metadata": {},
     "output_type": "display_data"
    },
    {
     "name": "stdout",
     "output_type": "stream",
     "text": [
      "--- 0.9230809211730957 seconds ---\n",
      "MRR@100 = 0.0049\n",
      "use_cg, False, factors: 5, iterations: 100, alpha: 0.01, regularization: 0.1\n"
     ]
    },
    {
     "data": {
      "application/vnd.jupyter.widget-view+json": {
       "model_id": "37957feffbe4423486f8a6f460a74995",
       "version_major": 2,
       "version_minor": 0
      },
      "text/plain": [
       "  0%|          | 0/100 [00:00<?, ?it/s]"
      ]
     },
     "metadata": {},
     "output_type": "display_data"
    },
    {
     "name": "stdout",
     "output_type": "stream",
     "text": [
      "--- 0.9865059852600098 seconds ---\n",
      "MRR@100 = 0.0068\n",
      "use_cg, False, factors: 5, iterations: 100, alpha: 0.01, regularization: 1\n"
     ]
    },
    {
     "data": {
      "application/vnd.jupyter.widget-view+json": {
       "model_id": "c1a6390db7484244b8157b41f878bd82",
       "version_major": 2,
       "version_minor": 0
      },
      "text/plain": [
       "  0%|          | 0/100 [00:00<?, ?it/s]"
      ]
     },
     "metadata": {},
     "output_type": "display_data"
    },
    {
     "name": "stdout",
     "output_type": "stream",
     "text": [
      "--- 0.9350337982177734 seconds ---\n",
      "MRR@100 = 0.0017\n",
      "use_cg, False, factors: 5, iterations: 100, alpha: 0.01, regularization: 10\n"
     ]
    },
    {
     "data": {
      "application/vnd.jupyter.widget-view+json": {
       "model_id": "65adaf3a7beb4e2bbedec4d3484c40f2",
       "version_major": 2,
       "version_minor": 0
      },
      "text/plain": [
       "  0%|          | 0/100 [00:00<?, ?it/s]"
      ]
     },
     "metadata": {},
     "output_type": "display_data"
    },
    {
     "name": "stdout",
     "output_type": "stream",
     "text": [
      "--- 0.9414811134338379 seconds ---\n",
      "MRR@100 = 0.0002\n",
      "use_cg, False, factors: 5, iterations: 100, alpha: 0.1, regularization: 0.001\n"
     ]
    },
    {
     "data": {
      "application/vnd.jupyter.widget-view+json": {
       "model_id": "d99c1f7c2a0846e8b9c9e01e9dc948ed",
       "version_major": 2,
       "version_minor": 0
      },
      "text/plain": [
       "  0%|          | 0/100 [00:00<?, ?it/s]"
      ]
     },
     "metadata": {},
     "output_type": "display_data"
    },
    {
     "name": "stdout",
     "output_type": "stream",
     "text": [
      "--- 0.9735372066497803 seconds ---\n",
      "MRR@100 = 0.0065\n",
      "use_cg, False, factors: 5, iterations: 100, alpha: 0.1, regularization: 0.01\n"
     ]
    },
    {
     "data": {
      "application/vnd.jupyter.widget-view+json": {
       "model_id": "38ecf9b984e9419aa7d55ecc66ce9b45",
       "version_major": 2,
       "version_minor": 0
      },
      "text/plain": [
       "  0%|          | 0/100 [00:00<?, ?it/s]"
      ]
     },
     "metadata": {},
     "output_type": "display_data"
    },
    {
     "name": "stdout",
     "output_type": "stream",
     "text": [
      "--- 0.9361579418182373 seconds ---\n",
      "MRR@100 = 0.0065\n",
      "use_cg, False, factors: 5, iterations: 100, alpha: 0.1, regularization: 0.1\n"
     ]
    },
    {
     "data": {
      "application/vnd.jupyter.widget-view+json": {
       "model_id": "94eb3dae2b4c472a9b75e52b615d4c12",
       "version_major": 2,
       "version_minor": 0
      },
      "text/plain": [
       "  0%|          | 0/100 [00:00<?, ?it/s]"
      ]
     },
     "metadata": {},
     "output_type": "display_data"
    },
    {
     "name": "stdout",
     "output_type": "stream",
     "text": [
      "--- 0.9248270988464355 seconds ---\n",
      "MRR@100 = 0.0052\n",
      "use_cg, False, factors: 5, iterations: 100, alpha: 0.1, regularization: 1\n"
     ]
    },
    {
     "data": {
      "application/vnd.jupyter.widget-view+json": {
       "model_id": "da32bf1f819649a19390d0c00002f3f7",
       "version_major": 2,
       "version_minor": 0
      },
      "text/plain": [
       "  0%|          | 0/100 [00:00<?, ?it/s]"
      ]
     },
     "metadata": {},
     "output_type": "display_data"
    },
    {
     "name": "stdout",
     "output_type": "stream",
     "text": [
      "--- 0.905177116394043 seconds ---\n",
      "MRR@100 = 0.0061\n",
      "use_cg, False, factors: 5, iterations: 100, alpha: 0.1, regularization: 10\n"
     ]
    },
    {
     "data": {
      "application/vnd.jupyter.widget-view+json": {
       "model_id": "cb7733434d734317b36470c6e29c4039",
       "version_major": 2,
       "version_minor": 0
      },
      "text/plain": [
       "  0%|          | 0/100 [00:00<?, ?it/s]"
      ]
     },
     "metadata": {},
     "output_type": "display_data"
    },
    {
     "name": "stdout",
     "output_type": "stream",
     "text": [
      "--- 0.8675940036773682 seconds ---\n",
      "MRR@100 = 0.0017\n",
      "use_cg, False, factors: 5, iterations: 100, alpha: 1, regularization: 0.001\n"
     ]
    },
    {
     "data": {
      "application/vnd.jupyter.widget-view+json": {
       "model_id": "82fef670ac224047a29c04f857cabf46",
       "version_major": 2,
       "version_minor": 0
      },
      "text/plain": [
       "  0%|          | 0/100 [00:00<?, ?it/s]"
      ]
     },
     "metadata": {},
     "output_type": "display_data"
    },
    {
     "name": "stdout",
     "output_type": "stream",
     "text": [
      "--- 0.9387271404266357 seconds ---\n",
      "MRR@100 = 0.0060\n",
      "use_cg, False, factors: 5, iterations: 100, alpha: 1, regularization: 0.01\n"
     ]
    },
    {
     "data": {
      "application/vnd.jupyter.widget-view+json": {
       "model_id": "4a55285be68a46aead053f78b7f490ab",
       "version_major": 2,
       "version_minor": 0
      },
      "text/plain": [
       "  0%|          | 0/100 [00:00<?, ?it/s]"
      ]
     },
     "metadata": {},
     "output_type": "display_data"
    },
    {
     "name": "stdout",
     "output_type": "stream",
     "text": [
      "--- 0.9044170379638672 seconds ---\n",
      "MRR@100 = 0.0060\n",
      "use_cg, False, factors: 5, iterations: 100, alpha: 1, regularization: 0.1\n"
     ]
    },
    {
     "data": {
      "application/vnd.jupyter.widget-view+json": {
       "model_id": "d814929de7aa4f7ea3df5faa0269920e",
       "version_major": 2,
       "version_minor": 0
      },
      "text/plain": [
       "  0%|          | 0/100 [00:00<?, ?it/s]"
      ]
     },
     "metadata": {},
     "output_type": "display_data"
    },
    {
     "name": "stdout",
     "output_type": "stream",
     "text": [
      "--- 0.9511008262634277 seconds ---\n",
      "MRR@100 = 0.0060\n",
      "use_cg, False, factors: 5, iterations: 100, alpha: 1, regularization: 1\n"
     ]
    },
    {
     "data": {
      "application/vnd.jupyter.widget-view+json": {
       "model_id": "9ff7b1eb5ccb490099a208f38711edb4",
       "version_major": 2,
       "version_minor": 0
      },
      "text/plain": [
       "  0%|          | 0/100 [00:00<?, ?it/s]"
      ]
     },
     "metadata": {},
     "output_type": "display_data"
    },
    {
     "name": "stdout",
     "output_type": "stream",
     "text": [
      "--- 0.9880199432373047 seconds ---\n",
      "MRR@100 = 0.0060\n",
      "use_cg, False, factors: 5, iterations: 100, alpha: 1, regularization: 10\n"
     ]
    },
    {
     "data": {
      "application/vnd.jupyter.widget-view+json": {
       "model_id": "c895d4da933c41ac81e08f3555491306",
       "version_major": 2,
       "version_minor": 0
      },
      "text/plain": [
       "  0%|          | 0/100 [00:00<?, ?it/s]"
      ]
     },
     "metadata": {},
     "output_type": "display_data"
    },
    {
     "name": "stdout",
     "output_type": "stream",
     "text": [
      "--- 0.9483330249786377 seconds ---\n",
      "MRR@100 = 0.0060\n",
      "use_cg, False, factors: 5, iterations: 100, alpha: 10, regularization: 0.001\n"
     ]
    },
    {
     "data": {
      "application/vnd.jupyter.widget-view+json": {
       "model_id": "d1288edb4bd844a19f6cb8f7ed40b8e2",
       "version_major": 2,
       "version_minor": 0
      },
      "text/plain": [
       "  0%|          | 0/100 [00:00<?, ?it/s]"
      ]
     },
     "metadata": {},
     "output_type": "display_data"
    },
    {
     "name": "stdout",
     "output_type": "stream",
     "text": [
      "--- 0.9557952880859375 seconds ---\n",
      "MRR@100 = 0.0059\n",
      "use_cg, False, factors: 5, iterations: 100, alpha: 10, regularization: 0.01\n"
     ]
    },
    {
     "data": {
      "application/vnd.jupyter.widget-view+json": {
       "model_id": "3a8f7b70b2544927b600af9582577047",
       "version_major": 2,
       "version_minor": 0
      },
      "text/plain": [
       "  0%|          | 0/100 [00:00<?, ?it/s]"
      ]
     },
     "metadata": {},
     "output_type": "display_data"
    },
    {
     "name": "stdout",
     "output_type": "stream",
     "text": [
      "--- 0.9779431819915771 seconds ---\n",
      "MRR@100 = 0.0059\n",
      "use_cg, False, factors: 5, iterations: 100, alpha: 10, regularization: 0.1\n"
     ]
    },
    {
     "data": {
      "application/vnd.jupyter.widget-view+json": {
       "model_id": "562b6fef12b44f5996030fb143a2e3f7",
       "version_major": 2,
       "version_minor": 0
      },
      "text/plain": [
       "  0%|          | 0/100 [00:00<?, ?it/s]"
      ]
     },
     "metadata": {},
     "output_type": "display_data"
    },
    {
     "name": "stdout",
     "output_type": "stream",
     "text": [
      "--- 0.9518980979919434 seconds ---\n",
      "MRR@100 = 0.0059\n",
      "use_cg, False, factors: 5, iterations: 100, alpha: 10, regularization: 1\n"
     ]
    },
    {
     "data": {
      "application/vnd.jupyter.widget-view+json": {
       "model_id": "b9c93eeacd1d4c3eb3898967085e5a7f",
       "version_major": 2,
       "version_minor": 0
      },
      "text/plain": [
       "  0%|          | 0/100 [00:00<?, ?it/s]"
      ]
     },
     "metadata": {},
     "output_type": "display_data"
    },
    {
     "name": "stdout",
     "output_type": "stream",
     "text": [
      "--- 1.1984469890594482 seconds ---\n",
      "MRR@100 = 0.0059\n",
      "use_cg, False, factors: 5, iterations: 100, alpha: 10, regularization: 10\n"
     ]
    },
    {
     "data": {
      "application/vnd.jupyter.widget-view+json": {
       "model_id": "f92b93b308264ccab6f3207f8eecf61b",
       "version_major": 2,
       "version_minor": 0
      },
      "text/plain": [
       "  0%|          | 0/100 [00:00<?, ?it/s]"
      ]
     },
     "metadata": {},
     "output_type": "display_data"
    },
    {
     "name": "stdout",
     "output_type": "stream",
     "text": [
      "--- 0.9896719455718994 seconds ---\n",
      "MRR@100 = 0.0061\n",
      "use_cg, False, factors: 5, iterations: 100, alpha: 100, regularization: 0.001\n"
     ]
    },
    {
     "data": {
      "application/vnd.jupyter.widget-view+json": {
       "model_id": "f04ea6c48bf146d3b4303b187229661e",
       "version_major": 2,
       "version_minor": 0
      },
      "text/plain": [
       "  0%|          | 0/100 [00:00<?, ?it/s]"
      ]
     },
     "metadata": {},
     "output_type": "display_data"
    },
    {
     "name": "stdout",
     "output_type": "stream",
     "text": [
      "--- 0.9012959003448486 seconds ---\n",
      "MRR@100 = 0.0063\n",
      "use_cg, False, factors: 5, iterations: 100, alpha: 100, regularization: 0.01\n"
     ]
    },
    {
     "data": {
      "application/vnd.jupyter.widget-view+json": {
       "model_id": "84a6c99bdeda495bb89a5abd88412130",
       "version_major": 2,
       "version_minor": 0
      },
      "text/plain": [
       "  0%|          | 0/100 [00:00<?, ?it/s]"
      ]
     },
     "metadata": {},
     "output_type": "display_data"
    },
    {
     "name": "stdout",
     "output_type": "stream",
     "text": [
      "--- 0.9268739223480225 seconds ---\n",
      "MRR@100 = 0.0063\n",
      "use_cg, False, factors: 5, iterations: 100, alpha: 100, regularization: 0.1\n"
     ]
    },
    {
     "data": {
      "application/vnd.jupyter.widget-view+json": {
       "model_id": "0158f38348c649f8a9a0f0cb53eaa5f0",
       "version_major": 2,
       "version_minor": 0
      },
      "text/plain": [
       "  0%|          | 0/100 [00:00<?, ?it/s]"
      ]
     },
     "metadata": {},
     "output_type": "display_data"
    },
    {
     "name": "stdout",
     "output_type": "stream",
     "text": [
      "--- 0.9341599941253662 seconds ---\n",
      "MRR@100 = 0.0063\n",
      "use_cg, False, factors: 5, iterations: 100, alpha: 100, regularization: 1\n"
     ]
    },
    {
     "data": {
      "application/vnd.jupyter.widget-view+json": {
       "model_id": "d740a5b91c414620aca00616fbf8eb08",
       "version_major": 2,
       "version_minor": 0
      },
      "text/plain": [
       "  0%|          | 0/100 [00:00<?, ?it/s]"
      ]
     },
     "metadata": {},
     "output_type": "display_data"
    },
    {
     "name": "stdout",
     "output_type": "stream",
     "text": [
      "--- 0.9850189685821533 seconds ---\n",
      "MRR@100 = 0.0063\n",
      "use_cg, False, factors: 5, iterations: 100, alpha: 100, regularization: 10\n"
     ]
    },
    {
     "data": {
      "application/vnd.jupyter.widget-view+json": {
       "model_id": "19ee27ff88a14692b400e30487dc11cf",
       "version_major": 2,
       "version_minor": 0
      },
      "text/plain": [
       "  0%|          | 0/100 [00:00<?, ?it/s]"
      ]
     },
     "metadata": {},
     "output_type": "display_data"
    },
    {
     "name": "stdout",
     "output_type": "stream",
     "text": [
      "--- 0.9209842681884766 seconds ---\n",
      "MRR@100 = 0.0063\n",
      "use_cg, False, factors: 10, iterations: 5, alpha: 0.001, regularization: 0.001\n"
     ]
    },
    {
     "data": {
      "application/vnd.jupyter.widget-view+json": {
       "model_id": "695feddf3c39499d8636f3f658494712",
       "version_major": 2,
       "version_minor": 0
      },
      "text/plain": [
       "  0%|          | 0/5 [00:00<?, ?it/s]"
      ]
     },
     "metadata": {},
     "output_type": "display_data"
    },
    {
     "name": "stdout",
     "output_type": "stream",
     "text": [
      "--- 0.9355418682098389 seconds ---\n",
      "MRR@100 = 0.0083\n",
      "use_cg, False, factors: 10, iterations: 5, alpha: 0.001, regularization: 0.01\n"
     ]
    },
    {
     "data": {
      "application/vnd.jupyter.widget-view+json": {
       "model_id": "0abcfb43c431432fa097729cbbc334e4",
       "version_major": 2,
       "version_minor": 0
      },
      "text/plain": [
       "  0%|          | 0/5 [00:00<?, ?it/s]"
      ]
     },
     "metadata": {},
     "output_type": "display_data"
    },
    {
     "name": "stdout",
     "output_type": "stream",
     "text": [
      "--- 0.9349849224090576 seconds ---\n",
      "MRR@100 = 0.0078\n",
      "use_cg, False, factors: 10, iterations: 5, alpha: 0.001, regularization: 0.1\n"
     ]
    },
    {
     "data": {
      "application/vnd.jupyter.widget-view+json": {
       "model_id": "ad434a445be84c67b567390d16ed3491",
       "version_major": 2,
       "version_minor": 0
      },
      "text/plain": [
       "  0%|          | 0/5 [00:00<?, ?it/s]"
      ]
     },
     "metadata": {},
     "output_type": "display_data"
    },
    {
     "name": "stdout",
     "output_type": "stream",
     "text": [
      "--- 0.9102709293365479 seconds ---\n",
      "MRR@100 = 0.0018\n",
      "use_cg, False, factors: 10, iterations: 5, alpha: 0.001, regularization: 1\n"
     ]
    },
    {
     "data": {
      "application/vnd.jupyter.widget-view+json": {
       "model_id": "439cbe3d993d4fa881889e5ed0c3557d",
       "version_major": 2,
       "version_minor": 0
      },
      "text/plain": [
       "  0%|          | 0/5 [00:00<?, ?it/s]"
      ]
     },
     "metadata": {},
     "output_type": "display_data"
    },
    {
     "name": "stdout",
     "output_type": "stream",
     "text": [
      "--- 0.9307291507720947 seconds ---\n",
      "MRR@100 = 0.0001\n",
      "use_cg, False, factors: 10, iterations: 5, alpha: 0.001, regularization: 10\n"
     ]
    },
    {
     "data": {
      "application/vnd.jupyter.widget-view+json": {
       "model_id": "f85994cf76f44c14a5551036c92788cd",
       "version_major": 2,
       "version_minor": 0
      },
      "text/plain": [
       "  0%|          | 0/5 [00:00<?, ?it/s]"
      ]
     },
     "metadata": {},
     "output_type": "display_data"
    },
    {
     "name": "stdout",
     "output_type": "stream",
     "text": [
      "--- 0.9102141857147217 seconds ---\n",
      "MRR@100 = 0.0003\n",
      "use_cg, False, factors: 10, iterations: 5, alpha: 0.01, regularization: 0.001\n"
     ]
    },
    {
     "data": {
      "application/vnd.jupyter.widget-view+json": {
       "model_id": "5f0c1d4dd4514334bbaef02b0e67acaa",
       "version_major": 2,
       "version_minor": 0
      },
      "text/plain": [
       "  0%|          | 0/5 [00:00<?, ?it/s]"
      ]
     },
     "metadata": {},
     "output_type": "display_data"
    },
    {
     "name": "stdout",
     "output_type": "stream",
     "text": [
      "--- 0.9286081790924072 seconds ---\n",
      "MRR@100 = 0.0085\n",
      "use_cg, False, factors: 10, iterations: 5, alpha: 0.01, regularization: 0.01\n"
     ]
    },
    {
     "data": {
      "application/vnd.jupyter.widget-view+json": {
       "model_id": "cdfb354681e8416d994b1419256f0aad",
       "version_major": 2,
       "version_minor": 0
      },
      "text/plain": [
       "  0%|          | 0/5 [00:00<?, ?it/s]"
      ]
     },
     "metadata": {},
     "output_type": "display_data"
    },
    {
     "name": "stdout",
     "output_type": "stream",
     "text": [
      "--- 0.9154210090637207 seconds ---\n",
      "MRR@100 = 0.0082\n",
      "use_cg, False, factors: 10, iterations: 5, alpha: 0.01, regularization: 0.1\n"
     ]
    },
    {
     "data": {
      "application/vnd.jupyter.widget-view+json": {
       "model_id": "6276f8bf311d47409cd4140c7db6fcdb",
       "version_major": 2,
       "version_minor": 0
      },
      "text/plain": [
       "  0%|          | 0/5 [00:00<?, ?it/s]"
      ]
     },
     "metadata": {},
     "output_type": "display_data"
    },
    {
     "name": "stdout",
     "output_type": "stream",
     "text": [
      "--- 0.9564652442932129 seconds ---\n",
      "MRR@100 = 0.0081\n",
      "use_cg, False, factors: 10, iterations: 5, alpha: 0.01, regularization: 1\n"
     ]
    },
    {
     "data": {
      "application/vnd.jupyter.widget-view+json": {
       "model_id": "a1305a1983f844daab80c0ee181585fb",
       "version_major": 2,
       "version_minor": 0
      },
      "text/plain": [
       "  0%|          | 0/5 [00:00<?, ?it/s]"
      ]
     },
     "metadata": {},
     "output_type": "display_data"
    },
    {
     "name": "stdout",
     "output_type": "stream",
     "text": [
      "--- 0.9369471073150635 seconds ---\n",
      "MRR@100 = 0.0018\n",
      "use_cg, False, factors: 10, iterations: 5, alpha: 0.01, regularization: 10\n"
     ]
    },
    {
     "data": {
      "application/vnd.jupyter.widget-view+json": {
       "model_id": "a45a4f443b5140fca033d8e3dd212c04",
       "version_major": 2,
       "version_minor": 0
      },
      "text/plain": [
       "  0%|          | 0/5 [00:00<?, ?it/s]"
      ]
     },
     "metadata": {},
     "output_type": "display_data"
    },
    {
     "name": "stdout",
     "output_type": "stream",
     "text": [
      "--- 0.9366350173950195 seconds ---\n",
      "MRR@100 = 0.0013\n",
      "use_cg, False, factors: 10, iterations: 5, alpha: 0.1, regularization: 0.001\n"
     ]
    },
    {
     "data": {
      "application/vnd.jupyter.widget-view+json": {
       "model_id": "b25d572030594896bfb95efc29d3fe13",
       "version_major": 2,
       "version_minor": 0
      },
      "text/plain": [
       "  0%|          | 0/5 [00:00<?, ?it/s]"
      ]
     },
     "metadata": {},
     "output_type": "display_data"
    },
    {
     "name": "stdout",
     "output_type": "stream",
     "text": [
      "--- 1.0050568580627441 seconds ---\n",
      "MRR@100 = 0.0085\n",
      "use_cg, False, factors: 10, iterations: 5, alpha: 0.1, regularization: 0.01\n"
     ]
    },
    {
     "data": {
      "application/vnd.jupyter.widget-view+json": {
       "model_id": "b647ccaa81c643b9af209d1ef98ac589",
       "version_major": 2,
       "version_minor": 0
      },
      "text/plain": [
       "  0%|          | 0/5 [00:00<?, ?it/s]"
      ]
     },
     "metadata": {},
     "output_type": "display_data"
    },
    {
     "name": "stdout",
     "output_type": "stream",
     "text": [
      "--- 0.9307680130004883 seconds ---\n",
      "MRR@100 = 0.0085\n",
      "use_cg, False, factors: 10, iterations: 5, alpha: 0.1, regularization: 0.1\n"
     ]
    },
    {
     "data": {
      "application/vnd.jupyter.widget-view+json": {
       "model_id": "761a1f669df846708f0cb8a2984dc07f",
       "version_major": 2,
       "version_minor": 0
      },
      "text/plain": [
       "  0%|          | 0/5 [00:00<?, ?it/s]"
      ]
     },
     "metadata": {},
     "output_type": "display_data"
    },
    {
     "name": "stdout",
     "output_type": "stream",
     "text": [
      "--- 0.9316473007202148 seconds ---\n",
      "MRR@100 = 0.0086\n",
      "use_cg, False, factors: 10, iterations: 5, alpha: 0.1, regularization: 1\n"
     ]
    },
    {
     "data": {
      "application/vnd.jupyter.widget-view+json": {
       "model_id": "cb7dad7e1399457bac31cdd22eac1934",
       "version_major": 2,
       "version_minor": 0
      },
      "text/plain": [
       "  0%|          | 0/5 [00:00<?, ?it/s]"
      ]
     },
     "metadata": {},
     "output_type": "display_data"
    },
    {
     "name": "stdout",
     "output_type": "stream",
     "text": [
      "--- 0.9206099510192871 seconds ---\n",
      "MRR@100 = 0.0081\n",
      "use_cg, False, factors: 10, iterations: 5, alpha: 0.1, regularization: 10\n"
     ]
    },
    {
     "data": {
      "application/vnd.jupyter.widget-view+json": {
       "model_id": "3455a18425d2468eb9c7ed7731c32229",
       "version_major": 2,
       "version_minor": 0
      },
      "text/plain": [
       "  0%|          | 0/5 [00:00<?, ?it/s]"
      ]
     },
     "metadata": {},
     "output_type": "display_data"
    },
    {
     "name": "stdout",
     "output_type": "stream",
     "text": [
      "--- 0.9477460384368896 seconds ---\n",
      "MRR@100 = 0.0018\n",
      "use_cg, False, factors: 10, iterations: 5, alpha: 1, regularization: 0.001\n"
     ]
    },
    {
     "data": {
      "application/vnd.jupyter.widget-view+json": {
       "model_id": "be4ebf5dfe3a4ceb961938d5fbad39ad",
       "version_major": 2,
       "version_minor": 0
      },
      "text/plain": [
       "  0%|          | 0/5 [00:00<?, ?it/s]"
      ]
     },
     "metadata": {},
     "output_type": "display_data"
    },
    {
     "name": "stdout",
     "output_type": "stream",
     "text": [
      "--- 0.9380068778991699 seconds ---\n",
      "MRR@100 = 0.0086\n",
      "use_cg, False, factors: 10, iterations: 5, alpha: 1, regularization: 0.01\n"
     ]
    },
    {
     "data": {
      "application/vnd.jupyter.widget-view+json": {
       "model_id": "8f8909e16f74468b979c19f43ae973c5",
       "version_major": 2,
       "version_minor": 0
      },
      "text/plain": [
       "  0%|          | 0/5 [00:00<?, ?it/s]"
      ]
     },
     "metadata": {},
     "output_type": "display_data"
    },
    {
     "name": "stdout",
     "output_type": "stream",
     "text": [
      "--- 0.9526021480560303 seconds ---\n",
      "MRR@100 = 0.0086\n",
      "use_cg, False, factors: 10, iterations: 5, alpha: 1, regularization: 0.1\n"
     ]
    },
    {
     "data": {
      "application/vnd.jupyter.widget-view+json": {
       "model_id": "0e91cde6228041b6b0476aea2433b9f7",
       "version_major": 2,
       "version_minor": 0
      },
      "text/plain": [
       "  0%|          | 0/5 [00:00<?, ?it/s]"
      ]
     },
     "metadata": {},
     "output_type": "display_data"
    },
    {
     "name": "stdout",
     "output_type": "stream",
     "text": [
      "--- 0.9349000453948975 seconds ---\n",
      "MRR@100 = 0.0086\n",
      "use_cg, False, factors: 10, iterations: 5, alpha: 1, regularization: 1\n"
     ]
    },
    {
     "data": {
      "application/vnd.jupyter.widget-view+json": {
       "model_id": "0e9c481a7c2743b6a0295ca836d4a445",
       "version_major": 2,
       "version_minor": 0
      },
      "text/plain": [
       "  0%|          | 0/5 [00:00<?, ?it/s]"
      ]
     },
     "metadata": {},
     "output_type": "display_data"
    },
    {
     "name": "stdout",
     "output_type": "stream",
     "text": [
      "--- 0.928142786026001 seconds ---\n",
      "MRR@100 = 0.0087\n",
      "use_cg, False, factors: 10, iterations: 5, alpha: 1, regularization: 10\n"
     ]
    },
    {
     "data": {
      "application/vnd.jupyter.widget-view+json": {
       "model_id": "99fd7e85e68c49daa985aecaaa64bc58",
       "version_major": 2,
       "version_minor": 0
      },
      "text/plain": [
       "  0%|          | 0/5 [00:00<?, ?it/s]"
      ]
     },
     "metadata": {},
     "output_type": "display_data"
    },
    {
     "name": "stdout",
     "output_type": "stream",
     "text": [
      "--- 0.927832841873169 seconds ---\n",
      "MRR@100 = 0.0087\n",
      "use_cg, False, factors: 10, iterations: 5, alpha: 10, regularization: 0.001\n"
     ]
    },
    {
     "data": {
      "application/vnd.jupyter.widget-view+json": {
       "model_id": "11c8a909722a40fc8d789b9537b7aaa5",
       "version_major": 2,
       "version_minor": 0
      },
      "text/plain": [
       "  0%|          | 0/5 [00:00<?, ?it/s]"
      ]
     },
     "metadata": {},
     "output_type": "display_data"
    },
    {
     "name": "stdout",
     "output_type": "stream",
     "text": [
      "--- 0.9436726570129395 seconds ---\n",
      "MRR@100 = 0.0102\n",
      "use_cg, False, factors: 10, iterations: 5, alpha: 10, regularization: 0.01\n"
     ]
    },
    {
     "data": {
      "application/vnd.jupyter.widget-view+json": {
       "model_id": "b02293ad6ee644f39593c9935974e46e",
       "version_major": 2,
       "version_minor": 0
      },
      "text/plain": [
       "  0%|          | 0/5 [00:00<?, ?it/s]"
      ]
     },
     "metadata": {},
     "output_type": "display_data"
    },
    {
     "name": "stdout",
     "output_type": "stream",
     "text": [
      "--- 0.9497280120849609 seconds ---\n",
      "MRR@100 = 0.0102\n",
      "use_cg, False, factors: 10, iterations: 5, alpha: 10, regularization: 0.1\n"
     ]
    },
    {
     "data": {
      "application/vnd.jupyter.widget-view+json": {
       "model_id": "039690eb72f44ea892ece9f434f40f49",
       "version_major": 2,
       "version_minor": 0
      },
      "text/plain": [
       "  0%|          | 0/5 [00:00<?, ?it/s]"
      ]
     },
     "metadata": {},
     "output_type": "display_data"
    },
    {
     "name": "stdout",
     "output_type": "stream",
     "text": [
      "--- 0.9721572399139404 seconds ---\n",
      "MRR@100 = 0.0102\n",
      "use_cg, False, factors: 10, iterations: 5, alpha: 10, regularization: 1\n"
     ]
    },
    {
     "data": {
      "application/vnd.jupyter.widget-view+json": {
       "model_id": "584430504799450fb4687c053a91ead3",
       "version_major": 2,
       "version_minor": 0
      },
      "text/plain": [
       "  0%|          | 0/5 [00:00<?, ?it/s]"
      ]
     },
     "metadata": {},
     "output_type": "display_data"
    },
    {
     "name": "stdout",
     "output_type": "stream",
     "text": [
      "--- 0.928239107131958 seconds ---\n",
      "MRR@100 = 0.0102\n",
      "use_cg, False, factors: 10, iterations: 5, alpha: 10, regularization: 10\n"
     ]
    },
    {
     "data": {
      "application/vnd.jupyter.widget-view+json": {
       "model_id": "2b891f24f040476cbe931f3628bf5765",
       "version_major": 2,
       "version_minor": 0
      },
      "text/plain": [
       "  0%|          | 0/5 [00:00<?, ?it/s]"
      ]
     },
     "metadata": {},
     "output_type": "display_data"
    },
    {
     "name": "stdout",
     "output_type": "stream",
     "text": [
      "--- 0.9031519889831543 seconds ---\n",
      "MRR@100 = 0.0101\n",
      "use_cg, False, factors: 10, iterations: 5, alpha: 100, regularization: 0.001\n"
     ]
    },
    {
     "data": {
      "application/vnd.jupyter.widget-view+json": {
       "model_id": "6ad78077586745cbb7be55abf3d92d5c",
       "version_major": 2,
       "version_minor": 0
      },
      "text/plain": [
       "  0%|          | 0/5 [00:00<?, ?it/s]"
      ]
     },
     "metadata": {},
     "output_type": "display_data"
    },
    {
     "name": "stdout",
     "output_type": "stream",
     "text": [
      "--- 0.9435231685638428 seconds ---\n",
      "MRR@100 = 0.0089\n",
      "use_cg, False, factors: 10, iterations: 5, alpha: 100, regularization: 0.01\n"
     ]
    },
    {
     "data": {
      "application/vnd.jupyter.widget-view+json": {
       "model_id": "0b572029a0df4832b23fe8763778abed",
       "version_major": 2,
       "version_minor": 0
      },
      "text/plain": [
       "  0%|          | 0/5 [00:00<?, ?it/s]"
      ]
     },
     "metadata": {},
     "output_type": "display_data"
    },
    {
     "name": "stdout",
     "output_type": "stream",
     "text": [
      "--- 1.0243499279022217 seconds ---\n",
      "MRR@100 = 0.0089\n",
      "use_cg, False, factors: 10, iterations: 5, alpha: 100, regularization: 0.1\n"
     ]
    },
    {
     "data": {
      "application/vnd.jupyter.widget-view+json": {
       "model_id": "e46cd4cc52414df789e2aed72ea90bda",
       "version_major": 2,
       "version_minor": 0
      },
      "text/plain": [
       "  0%|          | 0/5 [00:00<?, ?it/s]"
      ]
     },
     "metadata": {},
     "output_type": "display_data"
    },
    {
     "name": "stdout",
     "output_type": "stream",
     "text": [
      "--- 0.9436333179473877 seconds ---\n",
      "MRR@100 = 0.0089\n",
      "use_cg, False, factors: 10, iterations: 5, alpha: 100, regularization: 1\n"
     ]
    },
    {
     "data": {
      "application/vnd.jupyter.widget-view+json": {
       "model_id": "e5d22b3942e242d1930dff58caf55052",
       "version_major": 2,
       "version_minor": 0
      },
      "text/plain": [
       "  0%|          | 0/5 [00:00<?, ?it/s]"
      ]
     },
     "metadata": {},
     "output_type": "display_data"
    },
    {
     "name": "stdout",
     "output_type": "stream",
     "text": [
      "--- 0.9995570182800293 seconds ---\n",
      "MRR@100 = 0.0089\n",
      "use_cg, False, factors: 10, iterations: 5, alpha: 100, regularization: 10\n"
     ]
    },
    {
     "data": {
      "application/vnd.jupyter.widget-view+json": {
       "model_id": "b6b7f31b101041158fa54f37334d74ef",
       "version_major": 2,
       "version_minor": 0
      },
      "text/plain": [
       "  0%|          | 0/5 [00:00<?, ?it/s]"
      ]
     },
     "metadata": {},
     "output_type": "display_data"
    },
    {
     "name": "stdout",
     "output_type": "stream",
     "text": [
      "--- 0.9323279857635498 seconds ---\n",
      "MRR@100 = 0.0088\n",
      "use_cg, False, factors: 10, iterations: 10, alpha: 0.001, regularization: 0.001\n"
     ]
    },
    {
     "data": {
      "application/vnd.jupyter.widget-view+json": {
       "model_id": "cc3dc97506784588b1b8674401be791a",
       "version_major": 2,
       "version_minor": 0
      },
      "text/plain": [
       "  0%|          | 0/10 [00:00<?, ?it/s]"
      ]
     },
     "metadata": {},
     "output_type": "display_data"
    },
    {
     "name": "stdout",
     "output_type": "stream",
     "text": [
      "--- 0.9649820327758789 seconds ---\n",
      "MRR@100 = 0.0064\n",
      "use_cg, False, factors: 10, iterations: 10, alpha: 0.001, regularization: 0.01\n"
     ]
    },
    {
     "data": {
      "application/vnd.jupyter.widget-view+json": {
       "model_id": "6c5b6ae8998c4b16a2293ef3a65300d9",
       "version_major": 2,
       "version_minor": 0
      },
      "text/plain": [
       "  0%|          | 0/10 [00:00<?, ?it/s]"
      ]
     },
     "metadata": {},
     "output_type": "display_data"
    },
    {
     "name": "stdout",
     "output_type": "stream",
     "text": [
      "--- 0.8930759429931641 seconds ---\n",
      "MRR@100 = 0.0074\n",
      "use_cg, False, factors: 10, iterations: 10, alpha: 0.001, regularization: 0.1\n"
     ]
    },
    {
     "data": {
      "application/vnd.jupyter.widget-view+json": {
       "model_id": "1d005a6220f144bba0b1a8670d21f93b",
       "version_major": 2,
       "version_minor": 0
      },
      "text/plain": [
       "  0%|          | 0/10 [00:00<?, ?it/s]"
      ]
     },
     "metadata": {},
     "output_type": "display_data"
    },
    {
     "name": "stdout",
     "output_type": "stream",
     "text": [
      "--- 0.9128119945526123 seconds ---\n",
      "MRR@100 = 0.0018\n",
      "use_cg, False, factors: 10, iterations: 10, alpha: 0.001, regularization: 1\n"
     ]
    },
    {
     "data": {
      "application/vnd.jupyter.widget-view+json": {
       "model_id": "779e5cd564b54490967ec6b34ec6115d",
       "version_major": 2,
       "version_minor": 0
      },
      "text/plain": [
       "  0%|          | 0/10 [00:00<?, ?it/s]"
      ]
     },
     "metadata": {},
     "output_type": "display_data"
    },
    {
     "name": "stdout",
     "output_type": "stream",
     "text": [
      "--- 0.9142000675201416 seconds ---\n",
      "MRR@100 = 0.0001\n",
      "use_cg, False, factors: 10, iterations: 10, alpha: 0.001, regularization: 10\n"
     ]
    },
    {
     "data": {
      "application/vnd.jupyter.widget-view+json": {
       "model_id": "ad20fc313f4641468b90ace8a2dd9384",
       "version_major": 2,
       "version_minor": 0
      },
      "text/plain": [
       "  0%|          | 0/10 [00:00<?, ?it/s]"
      ]
     },
     "metadata": {},
     "output_type": "display_data"
    },
    {
     "name": "stdout",
     "output_type": "stream",
     "text": [
      "--- 0.932110071182251 seconds ---\n",
      "MRR@100 = 0.0003\n",
      "use_cg, False, factors: 10, iterations: 10, alpha: 0.01, regularization: 0.001\n"
     ]
    },
    {
     "data": {
      "application/vnd.jupyter.widget-view+json": {
       "model_id": "07484a3580ff48389317d41e82526e85",
       "version_major": 2,
       "version_minor": 0
      },
      "text/plain": [
       "  0%|          | 0/10 [00:00<?, ?it/s]"
      ]
     },
     "metadata": {},
     "output_type": "display_data"
    },
    {
     "name": "stdout",
     "output_type": "stream",
     "text": [
      "--- 0.9217967987060547 seconds ---\n",
      "MRR@100 = 0.0074\n",
      "use_cg, False, factors: 10, iterations: 10, alpha: 0.01, regularization: 0.01\n"
     ]
    },
    {
     "data": {
      "application/vnd.jupyter.widget-view+json": {
       "model_id": "a90c4b47668e428283c76463ff3abc8f",
       "version_major": 2,
       "version_minor": 0
      },
      "text/plain": [
       "  0%|          | 0/10 [00:00<?, ?it/s]"
      ]
     },
     "metadata": {},
     "output_type": "display_data"
    },
    {
     "name": "stdout",
     "output_type": "stream",
     "text": [
      "--- 1.0086169242858887 seconds ---\n",
      "MRR@100 = 0.0073\n",
      "use_cg, False, factors: 10, iterations: 10, alpha: 0.01, regularization: 0.1\n"
     ]
    },
    {
     "data": {
      "application/vnd.jupyter.widget-view+json": {
       "model_id": "72fcdfce5bc54f6e8cd478cab7b83665",
       "version_major": 2,
       "version_minor": 0
      },
      "text/plain": [
       "  0%|          | 0/10 [00:00<?, ?it/s]"
      ]
     },
     "metadata": {},
     "output_type": "display_data"
    },
    {
     "name": "stdout",
     "output_type": "stream",
     "text": [
      "--- 0.9454610347747803 seconds ---\n",
      "MRR@100 = 0.0071\n",
      "use_cg, False, factors: 10, iterations: 10, alpha: 0.01, regularization: 1\n"
     ]
    },
    {
     "data": {
      "application/vnd.jupyter.widget-view+json": {
       "model_id": "93ff78ca4e8146c0b9adc53b8aea5e8b",
       "version_major": 2,
       "version_minor": 0
      },
      "text/plain": [
       "  0%|          | 0/10 [00:00<?, ?it/s]"
      ]
     },
     "metadata": {},
     "output_type": "display_data"
    },
    {
     "name": "stdout",
     "output_type": "stream",
     "text": [
      "--- 0.9248650074005127 seconds ---\n",
      "MRR@100 = 0.0018\n",
      "use_cg, False, factors: 10, iterations: 10, alpha: 0.01, regularization: 10\n"
     ]
    },
    {
     "data": {
      "application/vnd.jupyter.widget-view+json": {
       "model_id": "a21f56d256cd4c9292d9b0dab5b35b8d",
       "version_major": 2,
       "version_minor": 0
      },
      "text/plain": [
       "  0%|          | 0/10 [00:00<?, ?it/s]"
      ]
     },
     "metadata": {},
     "output_type": "display_data"
    },
    {
     "name": "stdout",
     "output_type": "stream",
     "text": [
      "--- 0.9009428024291992 seconds ---\n",
      "MRR@100 = 0.0013\n",
      "use_cg, False, factors: 10, iterations: 10, alpha: 0.1, regularization: 0.001\n"
     ]
    },
    {
     "data": {
      "application/vnd.jupyter.widget-view+json": {
       "model_id": "102b52b5fd54475f871ff29be941f1cb",
       "version_major": 2,
       "version_minor": 0
      },
      "text/plain": [
       "  0%|          | 0/10 [00:00<?, ?it/s]"
      ]
     },
     "metadata": {},
     "output_type": "display_data"
    },
    {
     "name": "stdout",
     "output_type": "stream",
     "text": [
      "--- 1.2272059917449951 seconds ---\n",
      "MRR@100 = 0.0096\n",
      "use_cg, False, factors: 10, iterations: 10, alpha: 0.1, regularization: 0.01\n"
     ]
    },
    {
     "data": {
      "application/vnd.jupyter.widget-view+json": {
       "model_id": "0b6577fdd8094abc939fd71f91d08c50",
       "version_major": 2,
       "version_minor": 0
      },
      "text/plain": [
       "  0%|          | 0/10 [00:00<?, ?it/s]"
      ]
     },
     "metadata": {},
     "output_type": "display_data"
    },
    {
     "name": "stdout",
     "output_type": "stream",
     "text": [
      "--- 1.0057919025421143 seconds ---\n",
      "MRR@100 = 0.0096\n",
      "use_cg, False, factors: 10, iterations: 10, alpha: 0.1, regularization: 0.1\n"
     ]
    },
    {
     "data": {
      "application/vnd.jupyter.widget-view+json": {
       "model_id": "b054042744c748b0b0a2b43a3f9cd585",
       "version_major": 2,
       "version_minor": 0
      },
      "text/plain": [
       "  0%|          | 0/10 [00:00<?, ?it/s]"
      ]
     },
     "metadata": {},
     "output_type": "display_data"
    },
    {
     "name": "stdout",
     "output_type": "stream",
     "text": [
      "--- 0.9485869407653809 seconds ---\n",
      "MRR@100 = 0.0093\n",
      "use_cg, False, factors: 10, iterations: 10, alpha: 0.1, regularization: 1\n"
     ]
    },
    {
     "data": {
      "application/vnd.jupyter.widget-view+json": {
       "model_id": "6be11fad9fe34e02a3e297679692dd4b",
       "version_major": 2,
       "version_minor": 0
      },
      "text/plain": [
       "  0%|          | 0/10 [00:00<?, ?it/s]"
      ]
     },
     "metadata": {},
     "output_type": "display_data"
    },
    {
     "name": "stdout",
     "output_type": "stream",
     "text": [
      "--- 0.9483129978179932 seconds ---\n",
      "MRR@100 = 0.0080\n",
      "use_cg, False, factors: 10, iterations: 10, alpha: 0.1, regularization: 10\n"
     ]
    },
    {
     "data": {
      "application/vnd.jupyter.widget-view+json": {
       "model_id": "a706341eaad746318d6d6bd238edf2a2",
       "version_major": 2,
       "version_minor": 0
      },
      "text/plain": [
       "  0%|          | 0/10 [00:00<?, ?it/s]"
      ]
     },
     "metadata": {},
     "output_type": "display_data"
    },
    {
     "name": "stdout",
     "output_type": "stream",
     "text": [
      "--- 0.9047439098358154 seconds ---\n",
      "MRR@100 = 0.0018\n",
      "use_cg, False, factors: 10, iterations: 10, alpha: 1, regularization: 0.001\n"
     ]
    },
    {
     "data": {
      "application/vnd.jupyter.widget-view+json": {
       "model_id": "556bab48084c4fc29b9b73dad19ccaa0",
       "version_major": 2,
       "version_minor": 0
      },
      "text/plain": [
       "  0%|          | 0/10 [00:00<?, ?it/s]"
      ]
     },
     "metadata": {},
     "output_type": "display_data"
    },
    {
     "name": "stdout",
     "output_type": "stream",
     "text": [
      "--- 0.9228730201721191 seconds ---\n",
      "MRR@100 = 0.0095\n",
      "use_cg, False, factors: 10, iterations: 10, alpha: 1, regularization: 0.01\n"
     ]
    },
    {
     "data": {
      "application/vnd.jupyter.widget-view+json": {
       "model_id": "09005d7f75ad41b3a5ccb3dfdd1aecc9",
       "version_major": 2,
       "version_minor": 0
      },
      "text/plain": [
       "  0%|          | 0/10 [00:00<?, ?it/s]"
      ]
     },
     "metadata": {},
     "output_type": "display_data"
    },
    {
     "name": "stdout",
     "output_type": "stream",
     "text": [
      "--- 0.9367773532867432 seconds ---\n",
      "MRR@100 = 0.0095\n",
      "use_cg, False, factors: 10, iterations: 10, alpha: 1, regularization: 0.1\n"
     ]
    },
    {
     "data": {
      "application/vnd.jupyter.widget-view+json": {
       "model_id": "882193ca56874495869ff278f2a21295",
       "version_major": 2,
       "version_minor": 0
      },
      "text/plain": [
       "  0%|          | 0/10 [00:00<?, ?it/s]"
      ]
     },
     "metadata": {},
     "output_type": "display_data"
    },
    {
     "name": "stdout",
     "output_type": "stream",
     "text": [
      "--- 0.9102458953857422 seconds ---\n",
      "MRR@100 = 0.0094\n",
      "use_cg, False, factors: 10, iterations: 10, alpha: 1, regularization: 1\n"
     ]
    },
    {
     "data": {
      "application/vnd.jupyter.widget-view+json": {
       "model_id": "c32d92a2d0a64b15a34db6a75f613cfd",
       "version_major": 2,
       "version_minor": 0
      },
      "text/plain": [
       "  0%|          | 0/10 [00:00<?, ?it/s]"
      ]
     },
     "metadata": {},
     "output_type": "display_data"
    },
    {
     "name": "stdout",
     "output_type": "stream",
     "text": [
      "--- 0.9756789207458496 seconds ---\n",
      "MRR@100 = 0.0094\n",
      "use_cg, False, factors: 10, iterations: 10, alpha: 1, regularization: 10\n"
     ]
    },
    {
     "data": {
      "application/vnd.jupyter.widget-view+json": {
       "model_id": "863bea5a42e24cc681880336c3e2dde4",
       "version_major": 2,
       "version_minor": 0
      },
      "text/plain": [
       "  0%|          | 0/10 [00:00<?, ?it/s]"
      ]
     },
     "metadata": {},
     "output_type": "display_data"
    },
    {
     "name": "stdout",
     "output_type": "stream",
     "text": [
      "--- 0.9118039608001709 seconds ---\n",
      "MRR@100 = 0.0094\n",
      "use_cg, False, factors: 10, iterations: 10, alpha: 10, regularization: 0.001\n"
     ]
    },
    {
     "data": {
      "application/vnd.jupyter.widget-view+json": {
       "model_id": "f6ae05666b1644519c0e087c6a3daf93",
       "version_major": 2,
       "version_minor": 0
      },
      "text/plain": [
       "  0%|          | 0/10 [00:00<?, ?it/s]"
      ]
     },
     "metadata": {},
     "output_type": "display_data"
    },
    {
     "name": "stdout",
     "output_type": "stream",
     "text": [
      "--- 0.9321131706237793 seconds ---\n",
      "MRR@100 = 0.0106\n",
      "use_cg, False, factors: 10, iterations: 10, alpha: 10, regularization: 0.01\n"
     ]
    },
    {
     "data": {
      "application/vnd.jupyter.widget-view+json": {
       "model_id": "841fd98192fa4868a1765829a2747822",
       "version_major": 2,
       "version_minor": 0
      },
      "text/plain": [
       "  0%|          | 0/10 [00:00<?, ?it/s]"
      ]
     },
     "metadata": {},
     "output_type": "display_data"
    },
    {
     "name": "stdout",
     "output_type": "stream",
     "text": [
      "--- 0.9903712272644043 seconds ---\n",
      "MRR@100 = 0.0106\n",
      "use_cg, False, factors: 10, iterations: 10, alpha: 10, regularization: 0.1\n"
     ]
    },
    {
     "data": {
      "application/vnd.jupyter.widget-view+json": {
       "model_id": "14d61d856b30445390a4a6019f6b5701",
       "version_major": 2,
       "version_minor": 0
      },
      "text/plain": [
       "  0%|          | 0/10 [00:00<?, ?it/s]"
      ]
     },
     "metadata": {},
     "output_type": "display_data"
    },
    {
     "name": "stdout",
     "output_type": "stream",
     "text": [
      "--- 0.9409830570220947 seconds ---\n",
      "MRR@100 = 0.0106\n",
      "use_cg, False, factors: 10, iterations: 10, alpha: 10, regularization: 1\n"
     ]
    },
    {
     "data": {
      "application/vnd.jupyter.widget-view+json": {
       "model_id": "713f33d138a141af8d5ca5dbe662240c",
       "version_major": 2,
       "version_minor": 0
      },
      "text/plain": [
       "  0%|          | 0/10 [00:00<?, ?it/s]"
      ]
     },
     "metadata": {},
     "output_type": "display_data"
    },
    {
     "name": "stdout",
     "output_type": "stream",
     "text": [
      "--- 0.9160189628601074 seconds ---\n",
      "MRR@100 = 0.0106\n",
      "use_cg, False, factors: 10, iterations: 10, alpha: 10, regularization: 10\n"
     ]
    },
    {
     "data": {
      "application/vnd.jupyter.widget-view+json": {
       "model_id": "670369a89b0440cc915fdc66951b6c02",
       "version_major": 2,
       "version_minor": 0
      },
      "text/plain": [
       "  0%|          | 0/10 [00:00<?, ?it/s]"
      ]
     },
     "metadata": {},
     "output_type": "display_data"
    },
    {
     "name": "stdout",
     "output_type": "stream",
     "text": [
      "--- 1.0326159000396729 seconds ---\n",
      "MRR@100 = 0.0102\n",
      "use_cg, False, factors: 10, iterations: 10, alpha: 100, regularization: 0.001\n"
     ]
    },
    {
     "data": {
      "application/vnd.jupyter.widget-view+json": {
       "model_id": "28693c998f0d43aca740cc5c590cad12",
       "version_major": 2,
       "version_minor": 0
      },
      "text/plain": [
       "  0%|          | 0/10 [00:00<?, ?it/s]"
      ]
     },
     "metadata": {},
     "output_type": "display_data"
    },
    {
     "name": "stdout",
     "output_type": "stream",
     "text": [
      "--- 0.9524500370025635 seconds ---\n",
      "MRR@100 = 0.0093\n",
      "use_cg, False, factors: 10, iterations: 10, alpha: 100, regularization: 0.01\n"
     ]
    },
    {
     "data": {
      "application/vnd.jupyter.widget-view+json": {
       "model_id": "670fee7615064a7585036a559d1c92c1",
       "version_major": 2,
       "version_minor": 0
      },
      "text/plain": [
       "  0%|          | 0/10 [00:00<?, ?it/s]"
      ]
     },
     "metadata": {},
     "output_type": "display_data"
    },
    {
     "name": "stdout",
     "output_type": "stream",
     "text": [
      "--- 0.9451298713684082 seconds ---\n",
      "MRR@100 = 0.0093\n",
      "use_cg, False, factors: 10, iterations: 10, alpha: 100, regularization: 0.1\n"
     ]
    },
    {
     "data": {
      "application/vnd.jupyter.widget-view+json": {
       "model_id": "301a165276f249e79fbe4774ca8a5fb6",
       "version_major": 2,
       "version_minor": 0
      },
      "text/plain": [
       "  0%|          | 0/10 [00:00<?, ?it/s]"
      ]
     },
     "metadata": {},
     "output_type": "display_data"
    },
    {
     "name": "stdout",
     "output_type": "stream",
     "text": [
      "--- 0.922274112701416 seconds ---\n",
      "MRR@100 = 0.0093\n",
      "use_cg, False, factors: 10, iterations: 10, alpha: 100, regularization: 1\n"
     ]
    },
    {
     "data": {
      "application/vnd.jupyter.widget-view+json": {
       "model_id": "fca8d30e11b24d10a2f404ff2a39adea",
       "version_major": 2,
       "version_minor": 0
      },
      "text/plain": [
       "  0%|          | 0/10 [00:00<?, ?it/s]"
      ]
     },
     "metadata": {},
     "output_type": "display_data"
    },
    {
     "name": "stdout",
     "output_type": "stream",
     "text": [
      "--- 0.901602029800415 seconds ---\n",
      "MRR@100 = 0.0093\n",
      "use_cg, False, factors: 10, iterations: 10, alpha: 100, regularization: 10\n"
     ]
    },
    {
     "data": {
      "application/vnd.jupyter.widget-view+json": {
       "model_id": "5051eeec617745a5845badc6c7c8c093",
       "version_major": 2,
       "version_minor": 0
      },
      "text/plain": [
       "  0%|          | 0/10 [00:00<?, ?it/s]"
      ]
     },
     "metadata": {},
     "output_type": "display_data"
    },
    {
     "name": "stdout",
     "output_type": "stream",
     "text": [
      "--- 0.9288709163665771 seconds ---\n",
      "MRR@100 = 0.0103\n",
      "use_cg, False, factors: 10, iterations: 15, alpha: 0.001, regularization: 0.001\n"
     ]
    },
    {
     "data": {
      "application/vnd.jupyter.widget-view+json": {
       "model_id": "2e6f7d1385934359952319ac592d30f5",
       "version_major": 2,
       "version_minor": 0
      },
      "text/plain": [
       "  0%|          | 0/15 [00:00<?, ?it/s]"
      ]
     },
     "metadata": {},
     "output_type": "display_data"
    },
    {
     "name": "stdout",
     "output_type": "stream",
     "text": [
      "--- 0.9847080707550049 seconds ---\n",
      "MRR@100 = 0.0063\n",
      "use_cg, False, factors: 10, iterations: 15, alpha: 0.001, regularization: 0.01\n"
     ]
    },
    {
     "data": {
      "application/vnd.jupyter.widget-view+json": {
       "model_id": "f7aa7dd7252b4975b8c1f82857d319d0",
       "version_major": 2,
       "version_minor": 0
      },
      "text/plain": [
       "  0%|          | 0/15 [00:00<?, ?it/s]"
      ]
     },
     "metadata": {},
     "output_type": "display_data"
    },
    {
     "name": "stdout",
     "output_type": "stream",
     "text": [
      "--- 0.941152811050415 seconds ---\n",
      "MRR@100 = 0.0072\n",
      "use_cg, False, factors: 10, iterations: 15, alpha: 0.001, regularization: 0.1\n"
     ]
    },
    {
     "data": {
      "application/vnd.jupyter.widget-view+json": {
       "model_id": "b787f5c628d9454391b042d9330d27eb",
       "version_major": 2,
       "version_minor": 0
      },
      "text/plain": [
       "  0%|          | 0/15 [00:00<?, ?it/s]"
      ]
     },
     "metadata": {},
     "output_type": "display_data"
    },
    {
     "name": "stdout",
     "output_type": "stream",
     "text": [
      "--- 1.0293679237365723 seconds ---\n",
      "MRR@100 = 0.0018\n",
      "use_cg, False, factors: 10, iterations: 15, alpha: 0.001, regularization: 1\n"
     ]
    },
    {
     "data": {
      "application/vnd.jupyter.widget-view+json": {
       "model_id": "3c5b8ffc89e740a6bfc0a0fd8266e8ab",
       "version_major": 2,
       "version_minor": 0
      },
      "text/plain": [
       "  0%|          | 0/15 [00:00<?, ?it/s]"
      ]
     },
     "metadata": {},
     "output_type": "display_data"
    },
    {
     "name": "stdout",
     "output_type": "stream",
     "text": [
      "--- 0.9955759048461914 seconds ---\n",
      "MRR@100 = 0.0001\n",
      "use_cg, False, factors: 10, iterations: 15, alpha: 0.001, regularization: 10\n"
     ]
    },
    {
     "data": {
      "application/vnd.jupyter.widget-view+json": {
       "model_id": "4f34bd08914e49ccacfa9166bac9a4aa",
       "version_major": 2,
       "version_minor": 0
      },
      "text/plain": [
       "  0%|          | 0/15 [00:00<?, ?it/s]"
      ]
     },
     "metadata": {},
     "output_type": "display_data"
    },
    {
     "name": "stdout",
     "output_type": "stream",
     "text": [
      "--- 0.8956129550933838 seconds ---\n",
      "MRR@100 = 0.0003\n",
      "use_cg, False, factors: 10, iterations: 15, alpha: 0.01, regularization: 0.001\n"
     ]
    },
    {
     "data": {
      "application/vnd.jupyter.widget-view+json": {
       "model_id": "090f6da2b3314cb6971ad2a5556eda45",
       "version_major": 2,
       "version_minor": 0
      },
      "text/plain": [
       "  0%|          | 0/15 [00:00<?, ?it/s]"
      ]
     },
     "metadata": {},
     "output_type": "display_data"
    },
    {
     "name": "stdout",
     "output_type": "stream",
     "text": [
      "--- 0.9228858947753906 seconds ---\n",
      "MRR@100 = 0.0060\n",
      "use_cg, False, factors: 10, iterations: 15, alpha: 0.01, regularization: 0.01\n"
     ]
    },
    {
     "data": {
      "application/vnd.jupyter.widget-view+json": {
       "model_id": "abae31fb9bb14478b5e43856be8cf649",
       "version_major": 2,
       "version_minor": 0
      },
      "text/plain": [
       "  0%|          | 0/15 [00:00<?, ?it/s]"
      ]
     },
     "metadata": {},
     "output_type": "display_data"
    },
    {
     "name": "stdout",
     "output_type": "stream",
     "text": [
      "--- 0.9616451263427734 seconds ---\n",
      "MRR@100 = 0.0069\n",
      "use_cg, False, factors: 10, iterations: 15, alpha: 0.01, regularization: 0.1\n"
     ]
    },
    {
     "data": {
      "application/vnd.jupyter.widget-view+json": {
       "model_id": "645e6be9e7a645908392cc4cc6b12cad",
       "version_major": 2,
       "version_minor": 0
      },
      "text/plain": [
       "  0%|          | 0/15 [00:00<?, ?it/s]"
      ]
     },
     "metadata": {},
     "output_type": "display_data"
    },
    {
     "name": "stdout",
     "output_type": "stream",
     "text": [
      "--- 0.9335329532623291 seconds ---\n",
      "MRR@100 = 0.0101\n",
      "use_cg, False, factors: 10, iterations: 15, alpha: 0.01, regularization: 1\n"
     ]
    },
    {
     "data": {
      "application/vnd.jupyter.widget-view+json": {
       "model_id": "4dd6014cc77f481baa87c5c8071f3be2",
       "version_major": 2,
       "version_minor": 0
      },
      "text/plain": [
       "  0%|          | 0/15 [00:00<?, ?it/s]"
      ]
     },
     "metadata": {},
     "output_type": "display_data"
    },
    {
     "name": "stdout",
     "output_type": "stream",
     "text": [
      "--- 0.9912240505218506 seconds ---\n",
      "MRR@100 = 0.0018\n",
      "use_cg, False, factors: 10, iterations: 15, alpha: 0.01, regularization: 10\n"
     ]
    },
    {
     "data": {
      "application/vnd.jupyter.widget-view+json": {
       "model_id": "bdd45e1fc5f746cc99c5af75553f038b",
       "version_major": 2,
       "version_minor": 0
      },
      "text/plain": [
       "  0%|          | 0/15 [00:00<?, ?it/s]"
      ]
     },
     "metadata": {},
     "output_type": "display_data"
    },
    {
     "name": "stdout",
     "output_type": "stream",
     "text": [
      "--- 0.9309070110321045 seconds ---\n",
      "MRR@100 = 0.0013\n",
      "use_cg, False, factors: 10, iterations: 15, alpha: 0.1, regularization: 0.001\n"
     ]
    },
    {
     "data": {
      "application/vnd.jupyter.widget-view+json": {
       "model_id": "5f3171d33b3e4a50b715df14534a5d08",
       "version_major": 2,
       "version_minor": 0
      },
      "text/plain": [
       "  0%|          | 0/15 [00:00<?, ?it/s]"
      ]
     },
     "metadata": {},
     "output_type": "display_data"
    },
    {
     "name": "stdout",
     "output_type": "stream",
     "text": [
      "--- 0.9954230785369873 seconds ---\n",
      "MRR@100 = 0.0099\n",
      "use_cg, False, factors: 10, iterations: 15, alpha: 0.1, regularization: 0.01\n"
     ]
    },
    {
     "data": {
      "application/vnd.jupyter.widget-view+json": {
       "model_id": "d10a19cb9b8c492b99103be7b3800e29",
       "version_major": 2,
       "version_minor": 0
      },
      "text/plain": [
       "  0%|          | 0/15 [00:00<?, ?it/s]"
      ]
     },
     "metadata": {},
     "output_type": "display_data"
    },
    {
     "name": "stdout",
     "output_type": "stream",
     "text": [
      "--- 0.9248068332672119 seconds ---\n",
      "MRR@100 = 0.0100\n",
      "use_cg, False, factors: 10, iterations: 15, alpha: 0.1, regularization: 0.1\n"
     ]
    },
    {
     "data": {
      "application/vnd.jupyter.widget-view+json": {
       "model_id": "9607346635034da4bab98a13c6758a86",
       "version_major": 2,
       "version_minor": 0
      },
      "text/plain": [
       "  0%|          | 0/15 [00:00<?, ?it/s]"
      ]
     },
     "metadata": {},
     "output_type": "display_data"
    },
    {
     "name": "stdout",
     "output_type": "stream",
     "text": [
      "--- 0.9363420009613037 seconds ---\n",
      "MRR@100 = 0.0100\n",
      "use_cg, False, factors: 10, iterations: 15, alpha: 0.1, regularization: 1\n"
     ]
    },
    {
     "data": {
      "application/vnd.jupyter.widget-view+json": {
       "model_id": "a44fbc554b804e37a62ef2d4325da818",
       "version_major": 2,
       "version_minor": 0
      },
      "text/plain": [
       "  0%|          | 0/15 [00:00<?, ?it/s]"
      ]
     },
     "metadata": {},
     "output_type": "display_data"
    },
    {
     "name": "stdout",
     "output_type": "stream",
     "text": [
      "--- 0.9134759902954102 seconds ---\n",
      "MRR@100 = 0.0080\n",
      "use_cg, False, factors: 10, iterations: 15, alpha: 0.1, regularization: 10\n"
     ]
    },
    {
     "data": {
      "application/vnd.jupyter.widget-view+json": {
       "model_id": "5bb6235bfb1a4082a43be14bfb6a3147",
       "version_major": 2,
       "version_minor": 0
      },
      "text/plain": [
       "  0%|          | 0/15 [00:00<?, ?it/s]"
      ]
     },
     "metadata": {},
     "output_type": "display_data"
    },
    {
     "name": "stdout",
     "output_type": "stream",
     "text": [
      "--- 0.8943498134613037 seconds ---\n",
      "MRR@100 = 0.0018\n",
      "use_cg, False, factors: 10, iterations: 15, alpha: 1, regularization: 0.001\n"
     ]
    },
    {
     "data": {
      "application/vnd.jupyter.widget-view+json": {
       "model_id": "ccfe760b724249a38bd655ef164e024b",
       "version_major": 2,
       "version_minor": 0
      },
      "text/plain": [
       "  0%|          | 0/15 [00:00<?, ?it/s]"
      ]
     },
     "metadata": {},
     "output_type": "display_data"
    },
    {
     "name": "stdout",
     "output_type": "stream",
     "text": [
      "--- 0.9158129692077637 seconds ---\n",
      "MRR@100 = 0.0096\n",
      "use_cg, False, factors: 10, iterations: 15, alpha: 1, regularization: 0.01\n"
     ]
    },
    {
     "data": {
      "application/vnd.jupyter.widget-view+json": {
       "model_id": "f957710c97f44672a309dd5395782a21",
       "version_major": 2,
       "version_minor": 0
      },
      "text/plain": [
       "  0%|          | 0/15 [00:00<?, ?it/s]"
      ]
     },
     "metadata": {},
     "output_type": "display_data"
    },
    {
     "name": "stdout",
     "output_type": "stream",
     "text": [
      "--- 0.9824478626251221 seconds ---\n",
      "MRR@100 = 0.0096\n",
      "use_cg, False, factors: 10, iterations: 15, alpha: 1, regularization: 0.1\n"
     ]
    },
    {
     "data": {
      "application/vnd.jupyter.widget-view+json": {
       "model_id": "9522518666884f18b301d60e60353f16",
       "version_major": 2,
       "version_minor": 0
      },
      "text/plain": [
       "  0%|          | 0/15 [00:00<?, ?it/s]"
      ]
     },
     "metadata": {},
     "output_type": "display_data"
    },
    {
     "name": "stdout",
     "output_type": "stream",
     "text": [
      "--- 0.9558870792388916 seconds ---\n",
      "MRR@100 = 0.0096\n",
      "use_cg, False, factors: 10, iterations: 15, alpha: 1, regularization: 1\n"
     ]
    },
    {
     "data": {
      "application/vnd.jupyter.widget-view+json": {
       "model_id": "f6c5f2b07c8f4668a88cd17e022c46e4",
       "version_major": 2,
       "version_minor": 0
      },
      "text/plain": [
       "  0%|          | 0/15 [00:00<?, ?it/s]"
      ]
     },
     "metadata": {},
     "output_type": "display_data"
    },
    {
     "name": "stdout",
     "output_type": "stream",
     "text": [
      "--- 0.9770879745483398 seconds ---\n",
      "MRR@100 = 0.0096\n",
      "use_cg, False, factors: 10, iterations: 15, alpha: 1, regularization: 10\n"
     ]
    },
    {
     "data": {
      "application/vnd.jupyter.widget-view+json": {
       "model_id": "c6d9137618c34fe2b88b28b954f453ac",
       "version_major": 2,
       "version_minor": 0
      },
      "text/plain": [
       "  0%|          | 0/15 [00:00<?, ?it/s]"
      ]
     },
     "metadata": {},
     "output_type": "display_data"
    },
    {
     "name": "stdout",
     "output_type": "stream",
     "text": [
      "--- 0.9205052852630615 seconds ---\n",
      "MRR@100 = 0.0095\n",
      "use_cg, False, factors: 10, iterations: 15, alpha: 10, regularization: 0.001\n"
     ]
    },
    {
     "data": {
      "application/vnd.jupyter.widget-view+json": {
       "model_id": "64d67f54cd774daf95579477d2f5efb2",
       "version_major": 2,
       "version_minor": 0
      },
      "text/plain": [
       "  0%|          | 0/15 [00:00<?, ?it/s]"
      ]
     },
     "metadata": {},
     "output_type": "display_data"
    },
    {
     "name": "stdout",
     "output_type": "stream",
     "text": [
      "--- 0.933398962020874 seconds ---\n",
      "MRR@100 = 0.0098\n",
      "use_cg, False, factors: 10, iterations: 15, alpha: 10, regularization: 0.01\n"
     ]
    },
    {
     "data": {
      "application/vnd.jupyter.widget-view+json": {
       "model_id": "c18329c64f2f461284f062bad496b6f4",
       "version_major": 2,
       "version_minor": 0
      },
      "text/plain": [
       "  0%|          | 0/15 [00:00<?, ?it/s]"
      ]
     },
     "metadata": {},
     "output_type": "display_data"
    },
    {
     "name": "stdout",
     "output_type": "stream",
     "text": [
      "--- 0.955664873123169 seconds ---\n",
      "MRR@100 = 0.0098\n",
      "use_cg, False, factors: 10, iterations: 15, alpha: 10, regularization: 0.1\n"
     ]
    },
    {
     "data": {
      "application/vnd.jupyter.widget-view+json": {
       "model_id": "4a1fec5f341640409b8d742786797c01",
       "version_major": 2,
       "version_minor": 0
      },
      "text/plain": [
       "  0%|          | 0/15 [00:00<?, ?it/s]"
      ]
     },
     "metadata": {},
     "output_type": "display_data"
    },
    {
     "name": "stdout",
     "output_type": "stream",
     "text": [
      "--- 0.9430270195007324 seconds ---\n",
      "MRR@100 = 0.0098\n",
      "use_cg, False, factors: 10, iterations: 15, alpha: 10, regularization: 1\n"
     ]
    },
    {
     "data": {
      "application/vnd.jupyter.widget-view+json": {
       "model_id": "30c0a0e6599a4841b96fe71a42eb0090",
       "version_major": 2,
       "version_minor": 0
      },
      "text/plain": [
       "  0%|          | 0/15 [00:00<?, ?it/s]"
      ]
     },
     "metadata": {},
     "output_type": "display_data"
    },
    {
     "name": "stdout",
     "output_type": "stream",
     "text": [
      "--- 0.954679012298584 seconds ---\n",
      "MRR@100 = 0.0099\n",
      "use_cg, False, factors: 10, iterations: 15, alpha: 10, regularization: 10\n"
     ]
    },
    {
     "data": {
      "application/vnd.jupyter.widget-view+json": {
       "model_id": "bcf6344ce1d449a6988f845a4ff92bee",
       "version_major": 2,
       "version_minor": 0
      },
      "text/plain": [
       "  0%|          | 0/15 [00:00<?, ?it/s]"
      ]
     },
     "metadata": {},
     "output_type": "display_data"
    },
    {
     "name": "stdout",
     "output_type": "stream",
     "text": [
      "--- 1.1446468830108643 seconds ---\n",
      "MRR@100 = 0.0103\n",
      "use_cg, False, factors: 10, iterations: 15, alpha: 100, regularization: 0.001\n"
     ]
    },
    {
     "data": {
      "application/vnd.jupyter.widget-view+json": {
       "model_id": "0a8939fc5d694920a9c1fd8cb08b22ce",
       "version_major": 2,
       "version_minor": 0
      },
      "text/plain": [
       "  0%|          | 0/15 [00:00<?, ?it/s]"
      ]
     },
     "metadata": {},
     "output_type": "display_data"
    },
    {
     "name": "stdout",
     "output_type": "stream",
     "text": [
      "--- 0.9645509719848633 seconds ---\n",
      "MRR@100 = 0.0104\n",
      "use_cg, False, factors: 10, iterations: 15, alpha: 100, regularization: 0.01\n"
     ]
    },
    {
     "data": {
      "application/vnd.jupyter.widget-view+json": {
       "model_id": "75a31152662549dfba57998c2f5b0dcc",
       "version_major": 2,
       "version_minor": 0
      },
      "text/plain": [
       "  0%|          | 0/15 [00:00<?, ?it/s]"
      ]
     },
     "metadata": {},
     "output_type": "display_data"
    },
    {
     "name": "stdout",
     "output_type": "stream",
     "text": [
      "--- 0.9021749496459961 seconds ---\n",
      "MRR@100 = 0.0104\n",
      "use_cg, False, factors: 10, iterations: 15, alpha: 100, regularization: 0.1\n"
     ]
    },
    {
     "data": {
      "application/vnd.jupyter.widget-view+json": {
       "model_id": "1fc66a01cb364387aa6d6e2f4d28fb3a",
       "version_major": 2,
       "version_minor": 0
      },
      "text/plain": [
       "  0%|          | 0/15 [00:00<?, ?it/s]"
      ]
     },
     "metadata": {},
     "output_type": "display_data"
    },
    {
     "name": "stdout",
     "output_type": "stream",
     "text": [
      "--- 0.9086401462554932 seconds ---\n",
      "MRR@100 = 0.0104\n",
      "use_cg, False, factors: 10, iterations: 15, alpha: 100, regularization: 1\n"
     ]
    },
    {
     "data": {
      "application/vnd.jupyter.widget-view+json": {
       "model_id": "117f801903c8496790264b5c660a489c",
       "version_major": 2,
       "version_minor": 0
      },
      "text/plain": [
       "  0%|          | 0/15 [00:00<?, ?it/s]"
      ]
     },
     "metadata": {},
     "output_type": "display_data"
    },
    {
     "name": "stdout",
     "output_type": "stream",
     "text": [
      "--- 0.9068889617919922 seconds ---\n",
      "MRR@100 = 0.0104\n",
      "use_cg, False, factors: 10, iterations: 15, alpha: 100, regularization: 10\n"
     ]
    },
    {
     "data": {
      "application/vnd.jupyter.widget-view+json": {
       "model_id": "0de1a3b360cb46738ce8793f099e55de",
       "version_major": 2,
       "version_minor": 0
      },
      "text/plain": [
       "  0%|          | 0/15 [00:00<?, ?it/s]"
      ]
     },
     "metadata": {},
     "output_type": "display_data"
    },
    {
     "name": "stdout",
     "output_type": "stream",
     "text": [
      "--- 0.9521541595458984 seconds ---\n",
      "MRR@100 = 0.0110\n",
      "use_cg, False, factors: 10, iterations: 30, alpha: 0.001, regularization: 0.001\n"
     ]
    },
    {
     "data": {
      "application/vnd.jupyter.widget-view+json": {
       "model_id": "06b350ee63f54d659261f2c6fd20e03a",
       "version_major": 2,
       "version_minor": 0
      },
      "text/plain": [
       "  0%|          | 0/30 [00:00<?, ?it/s]"
      ]
     },
     "metadata": {},
     "output_type": "display_data"
    },
    {
     "name": "stdout",
     "output_type": "stream",
     "text": [
      "--- 0.9453651905059814 seconds ---\n",
      "MRR@100 = 0.0054\n",
      "use_cg, False, factors: 10, iterations: 30, alpha: 0.001, regularization: 0.01\n"
     ]
    },
    {
     "data": {
      "application/vnd.jupyter.widget-view+json": {
       "model_id": "06f21aa4fb804798ba17c99b3c40c7a7",
       "version_major": 2,
       "version_minor": 0
      },
      "text/plain": [
       "  0%|          | 0/30 [00:00<?, ?it/s]"
      ]
     },
     "metadata": {},
     "output_type": "display_data"
    },
    {
     "name": "stdout",
     "output_type": "stream",
     "text": [
      "--- 0.9078421592712402 seconds ---\n",
      "MRR@100 = 0.0087\n",
      "use_cg, False, factors: 10, iterations: 30, alpha: 0.001, regularization: 0.1\n"
     ]
    },
    {
     "data": {
      "application/vnd.jupyter.widget-view+json": {
       "model_id": "d4e3c34a8aa545d8b10e8af3f1230e86",
       "version_major": 2,
       "version_minor": 0
      },
      "text/plain": [
       "  0%|          | 0/30 [00:00<?, ?it/s]"
      ]
     },
     "metadata": {},
     "output_type": "display_data"
    },
    {
     "name": "stdout",
     "output_type": "stream",
     "text": [
      "--- 0.9510219097137451 seconds ---\n",
      "MRR@100 = 0.0018\n",
      "use_cg, False, factors: 10, iterations: 30, alpha: 0.001, regularization: 1\n"
     ]
    },
    {
     "data": {
      "application/vnd.jupyter.widget-view+json": {
       "model_id": "25d0dbf7aa2c42af9aba4289ce68a555",
       "version_major": 2,
       "version_minor": 0
      },
      "text/plain": [
       "  0%|          | 0/30 [00:00<?, ?it/s]"
      ]
     },
     "metadata": {},
     "output_type": "display_data"
    },
    {
     "name": "stdout",
     "output_type": "stream",
     "text": [
      "--- 0.9409680366516113 seconds ---\n",
      "MRR@100 = 0.0001\n",
      "use_cg, False, factors: 10, iterations: 30, alpha: 0.001, regularization: 10\n"
     ]
    },
    {
     "data": {
      "application/vnd.jupyter.widget-view+json": {
       "model_id": "e3817c6d78a64a749f9fec00c719dbbd",
       "version_major": 2,
       "version_minor": 0
      },
      "text/plain": [
       "  0%|          | 0/30 [00:00<?, ?it/s]"
      ]
     },
     "metadata": {},
     "output_type": "display_data"
    },
    {
     "name": "stdout",
     "output_type": "stream",
     "text": [
      "--- 0.9213759899139404 seconds ---\n",
      "MRR@100 = 0.0003\n",
      "use_cg, False, factors: 10, iterations: 30, alpha: 0.01, regularization: 0.001\n"
     ]
    },
    {
     "data": {
      "application/vnd.jupyter.widget-view+json": {
       "model_id": "0a352d5b684946f79f12577c6d861e82",
       "version_major": 2,
       "version_minor": 0
      },
      "text/plain": [
       "  0%|          | 0/30 [00:00<?, ?it/s]"
      ]
     },
     "metadata": {},
     "output_type": "display_data"
    },
    {
     "name": "stdout",
     "output_type": "stream",
     "text": [
      "--- 0.9263112545013428 seconds ---\n",
      "MRR@100 = 0.0059\n",
      "use_cg, False, factors: 10, iterations: 30, alpha: 0.01, regularization: 0.01\n"
     ]
    },
    {
     "data": {
      "application/vnd.jupyter.widget-view+json": {
       "model_id": "ab49c8ec68284cc59cdb34dee94f3c33",
       "version_major": 2,
       "version_minor": 0
      },
      "text/plain": [
       "  0%|          | 0/30 [00:00<?, ?it/s]"
      ]
     },
     "metadata": {},
     "output_type": "display_data"
    },
    {
     "name": "stdout",
     "output_type": "stream",
     "text": [
      "--- 0.9376966953277588 seconds ---\n",
      "MRR@100 = 0.0068\n",
      "use_cg, False, factors: 10, iterations: 30, alpha: 0.01, regularization: 0.1\n"
     ]
    },
    {
     "data": {
      "application/vnd.jupyter.widget-view+json": {
       "model_id": "34bfc0832fd14674bb8ba0e0dd13c460",
       "version_major": 2,
       "version_minor": 0
      },
      "text/plain": [
       "  0%|          | 0/30 [00:00<?, ?it/s]"
      ]
     },
     "metadata": {},
     "output_type": "display_data"
    },
    {
     "name": "stdout",
     "output_type": "stream",
     "text": [
      "--- 0.9223816394805908 seconds ---\n",
      "MRR@100 = 0.0085\n",
      "use_cg, False, factors: 10, iterations: 30, alpha: 0.01, regularization: 1\n"
     ]
    },
    {
     "data": {
      "application/vnd.jupyter.widget-view+json": {
       "model_id": "e990a86980f44b3ca15b24d520c22257",
       "version_major": 2,
       "version_minor": 0
      },
      "text/plain": [
       "  0%|          | 0/30 [00:00<?, ?it/s]"
      ]
     },
     "metadata": {},
     "output_type": "display_data"
    },
    {
     "name": "stdout",
     "output_type": "stream",
     "text": [
      "--- 0.9329938888549805 seconds ---\n",
      "MRR@100 = 0.0018\n",
      "use_cg, False, factors: 10, iterations: 30, alpha: 0.01, regularization: 10\n"
     ]
    },
    {
     "data": {
      "application/vnd.jupyter.widget-view+json": {
       "model_id": "246bafa0e90e44f99c39a3822135c743",
       "version_major": 2,
       "version_minor": 0
      },
      "text/plain": [
       "  0%|          | 0/30 [00:00<?, ?it/s]"
      ]
     },
     "metadata": {},
     "output_type": "display_data"
    },
    {
     "name": "stdout",
     "output_type": "stream",
     "text": [
      "--- 0.9317669868469238 seconds ---\n",
      "MRR@100 = 0.0013\n",
      "use_cg, False, factors: 10, iterations: 30, alpha: 0.1, regularization: 0.001\n"
     ]
    },
    {
     "data": {
      "application/vnd.jupyter.widget-view+json": {
       "model_id": "7593796690ee4aeeb706cf1a491a5628",
       "version_major": 2,
       "version_minor": 0
      },
      "text/plain": [
       "  0%|          | 0/30 [00:00<?, ?it/s]"
      ]
     },
     "metadata": {},
     "output_type": "display_data"
    },
    {
     "name": "stdout",
     "output_type": "stream",
     "text": [
      "--- 0.9446756839752197 seconds ---\n",
      "MRR@100 = 0.0093\n",
      "use_cg, False, factors: 10, iterations: 30, alpha: 0.1, regularization: 0.01\n"
     ]
    },
    {
     "data": {
      "application/vnd.jupyter.widget-view+json": {
       "model_id": "a20fce84532b480482d22c9c182b9377",
       "version_major": 2,
       "version_minor": 0
      },
      "text/plain": [
       "  0%|          | 0/30 [00:00<?, ?it/s]"
      ]
     },
     "metadata": {},
     "output_type": "display_data"
    },
    {
     "name": "stdout",
     "output_type": "stream",
     "text": [
      "--- 0.9830529689788818 seconds ---\n",
      "MRR@100 = 0.0085\n",
      "use_cg, False, factors: 10, iterations: 30, alpha: 0.1, regularization: 0.1\n"
     ]
    },
    {
     "data": {
      "application/vnd.jupyter.widget-view+json": {
       "model_id": "95e04e4ce8b44da28d11027a29f1348b",
       "version_major": 2,
       "version_minor": 0
      },
      "text/plain": [
       "  0%|          | 0/30 [00:00<?, ?it/s]"
      ]
     },
     "metadata": {},
     "output_type": "display_data"
    },
    {
     "name": "stdout",
     "output_type": "stream",
     "text": [
      "--- 0.9293210506439209 seconds ---\n",
      "MRR@100 = 0.0086\n",
      "use_cg, False, factors: 10, iterations: 30, alpha: 0.1, regularization: 1\n"
     ]
    },
    {
     "data": {
      "application/vnd.jupyter.widget-view+json": {
       "model_id": "9a7ef17a72384dd5b55f52ead4712502",
       "version_major": 2,
       "version_minor": 0
      },
      "text/plain": [
       "  0%|          | 0/30 [00:00<?, ?it/s]"
      ]
     },
     "metadata": {},
     "output_type": "display_data"
    },
    {
     "name": "stdout",
     "output_type": "stream",
     "text": [
      "--- 0.9336628913879395 seconds ---\n",
      "MRR@100 = 0.0081\n",
      "use_cg, False, factors: 10, iterations: 30, alpha: 0.1, regularization: 10\n"
     ]
    },
    {
     "data": {
      "application/vnd.jupyter.widget-view+json": {
       "model_id": "aae2785af57e41b781d17b5e0d8c4d70",
       "version_major": 2,
       "version_minor": 0
      },
      "text/plain": [
       "  0%|          | 0/30 [00:00<?, ?it/s]"
      ]
     },
     "metadata": {},
     "output_type": "display_data"
    },
    {
     "name": "stdout",
     "output_type": "stream",
     "text": [
      "--- 0.9291069507598877 seconds ---\n",
      "MRR@100 = 0.0018\n",
      "use_cg, False, factors: 10, iterations: 30, alpha: 1, regularization: 0.001\n"
     ]
    },
    {
     "data": {
      "application/vnd.jupyter.widget-view+json": {
       "model_id": "2729593091704fca964e4b4c01d0c47f",
       "version_major": 2,
       "version_minor": 0
      },
      "text/plain": [
       "  0%|          | 0/30 [00:00<?, ?it/s]"
      ]
     },
     "metadata": {},
     "output_type": "display_data"
    },
    {
     "name": "stdout",
     "output_type": "stream",
     "text": [
      "--- 0.9158952236175537 seconds ---\n",
      "MRR@100 = 0.0102\n",
      "use_cg, False, factors: 10, iterations: 30, alpha: 1, regularization: 0.01\n"
     ]
    },
    {
     "data": {
      "application/vnd.jupyter.widget-view+json": {
       "model_id": "4def51775d87436c8c5d56b6c3666174",
       "version_major": 2,
       "version_minor": 0
      },
      "text/plain": [
       "  0%|          | 0/30 [00:00<?, ?it/s]"
      ]
     },
     "metadata": {},
     "output_type": "display_data"
    },
    {
     "name": "stdout",
     "output_type": "stream",
     "text": [
      "--- 0.9774699211120605 seconds ---\n",
      "MRR@100 = 0.0102\n",
      "use_cg, False, factors: 10, iterations: 30, alpha: 1, regularization: 0.1\n"
     ]
    },
    {
     "data": {
      "application/vnd.jupyter.widget-view+json": {
       "model_id": "ddc1912493bc4a399a5158b6eb62e3d7",
       "version_major": 2,
       "version_minor": 0
      },
      "text/plain": [
       "  0%|          | 0/30 [00:00<?, ?it/s]"
      ]
     },
     "metadata": {},
     "output_type": "display_data"
    },
    {
     "name": "stdout",
     "output_type": "stream",
     "text": [
      "--- 0.9350581169128418 seconds ---\n",
      "MRR@100 = 0.0102\n",
      "use_cg, False, factors: 10, iterations: 30, alpha: 1, regularization: 1\n"
     ]
    },
    {
     "data": {
      "application/vnd.jupyter.widget-view+json": {
       "model_id": "7df527714a2a4c7fba480072fde6ae67",
       "version_major": 2,
       "version_minor": 0
      },
      "text/plain": [
       "  0%|          | 0/30 [00:00<?, ?it/s]"
      ]
     },
     "metadata": {},
     "output_type": "display_data"
    },
    {
     "name": "stdout",
     "output_type": "stream",
     "text": [
      "--- 0.9399309158325195 seconds ---\n",
      "MRR@100 = 0.0102\n",
      "use_cg, False, factors: 10, iterations: 30, alpha: 1, regularization: 10\n"
     ]
    },
    {
     "data": {
      "application/vnd.jupyter.widget-view+json": {
       "model_id": "34ac8c44026e4cbaa720b2191ecd873b",
       "version_major": 2,
       "version_minor": 0
      },
      "text/plain": [
       "  0%|          | 0/30 [00:00<?, ?it/s]"
      ]
     },
     "metadata": {},
     "output_type": "display_data"
    },
    {
     "name": "stdout",
     "output_type": "stream",
     "text": [
      "--- 0.9266397953033447 seconds ---\n",
      "MRR@100 = 0.0100\n",
      "use_cg, False, factors: 10, iterations: 30, alpha: 10, regularization: 0.001\n"
     ]
    },
    {
     "data": {
      "application/vnd.jupyter.widget-view+json": {
       "model_id": "9e195bda5c984b51818042e32b02967a",
       "version_major": 2,
       "version_minor": 0
      },
      "text/plain": [
       "  0%|          | 0/30 [00:00<?, ?it/s]"
      ]
     },
     "metadata": {},
     "output_type": "display_data"
    },
    {
     "name": "stdout",
     "output_type": "stream",
     "text": [
      "--- 0.9136581420898438 seconds ---\n",
      "MRR@100 = 0.0098\n",
      "use_cg, False, factors: 10, iterations: 30, alpha: 10, regularization: 0.01\n"
     ]
    },
    {
     "data": {
      "application/vnd.jupyter.widget-view+json": {
       "model_id": "f4a5e3afc8e64d868effdd4b6a1a7207",
       "version_major": 2,
       "version_minor": 0
      },
      "text/plain": [
       "  0%|          | 0/30 [00:00<?, ?it/s]"
      ]
     },
     "metadata": {},
     "output_type": "display_data"
    },
    {
     "name": "stdout",
     "output_type": "stream",
     "text": [
      "--- 0.9017620086669922 seconds ---\n",
      "MRR@100 = 0.0098\n",
      "use_cg, False, factors: 10, iterations: 30, alpha: 10, regularization: 0.1\n"
     ]
    },
    {
     "data": {
      "application/vnd.jupyter.widget-view+json": {
       "model_id": "49e0bedc0a7e4daabbc6f1ac67a235c2",
       "version_major": 2,
       "version_minor": 0
      },
      "text/plain": [
       "  0%|          | 0/30 [00:00<?, ?it/s]"
      ]
     },
     "metadata": {},
     "output_type": "display_data"
    },
    {
     "name": "stdout",
     "output_type": "stream",
     "text": [
      "--- 0.9209508895874023 seconds ---\n",
      "MRR@100 = 0.0098\n",
      "use_cg, False, factors: 10, iterations: 30, alpha: 10, regularization: 1\n"
     ]
    },
    {
     "data": {
      "application/vnd.jupyter.widget-view+json": {
       "model_id": "ece8d3874e06426781de80df01613705",
       "version_major": 2,
       "version_minor": 0
      },
      "text/plain": [
       "  0%|          | 0/30 [00:00<?, ?it/s]"
      ]
     },
     "metadata": {},
     "output_type": "display_data"
    },
    {
     "name": "stdout",
     "output_type": "stream",
     "text": [
      "--- 0.937852144241333 seconds ---\n",
      "MRR@100 = 0.0097\n",
      "use_cg, False, factors: 10, iterations: 30, alpha: 10, regularization: 10\n"
     ]
    },
    {
     "data": {
      "application/vnd.jupyter.widget-view+json": {
       "model_id": "f2e7f4774bea4020b349157ffc178a5d",
       "version_major": 2,
       "version_minor": 0
      },
      "text/plain": [
       "  0%|          | 0/30 [00:00<?, ?it/s]"
      ]
     },
     "metadata": {},
     "output_type": "display_data"
    },
    {
     "name": "stdout",
     "output_type": "stream",
     "text": [
      "--- 0.9572389125823975 seconds ---\n",
      "MRR@100 = 0.0094\n",
      "use_cg, False, factors: 10, iterations: 30, alpha: 100, regularization: 0.001\n"
     ]
    },
    {
     "data": {
      "application/vnd.jupyter.widget-view+json": {
       "model_id": "807c707456e84c8fb3c1fdd47fa770bd",
       "version_major": 2,
       "version_minor": 0
      },
      "text/plain": [
       "  0%|          | 0/30 [00:00<?, ?it/s]"
      ]
     },
     "metadata": {},
     "output_type": "display_data"
    },
    {
     "name": "stdout",
     "output_type": "stream",
     "text": [
      "--- 0.9247162342071533 seconds ---\n",
      "MRR@100 = 0.0099\n",
      "use_cg, False, factors: 10, iterations: 30, alpha: 100, regularization: 0.01\n"
     ]
    },
    {
     "data": {
      "application/vnd.jupyter.widget-view+json": {
       "model_id": "49b733939def45a6b65f30f9ea4e2869",
       "version_major": 2,
       "version_minor": 0
      },
      "text/plain": [
       "  0%|          | 0/30 [00:00<?, ?it/s]"
      ]
     },
     "metadata": {},
     "output_type": "display_data"
    },
    {
     "name": "stdout",
     "output_type": "stream",
     "text": [
      "--- 0.9252548217773438 seconds ---\n",
      "MRR@100 = 0.0099\n",
      "use_cg, False, factors: 10, iterations: 30, alpha: 100, regularization: 0.1\n"
     ]
    },
    {
     "data": {
      "application/vnd.jupyter.widget-view+json": {
       "model_id": "7b589502eb9a4e3f943b289a5cfdbc30",
       "version_major": 2,
       "version_minor": 0
      },
      "text/plain": [
       "  0%|          | 0/30 [00:00<?, ?it/s]"
      ]
     },
     "metadata": {},
     "output_type": "display_data"
    },
    {
     "name": "stdout",
     "output_type": "stream",
     "text": [
      "--- 0.9586529731750488 seconds ---\n",
      "MRR@100 = 0.0099\n",
      "use_cg, False, factors: 10, iterations: 30, alpha: 100, regularization: 1\n"
     ]
    },
    {
     "data": {
      "application/vnd.jupyter.widget-view+json": {
       "model_id": "fda3d15bddba4cda9caef7424e54bf62",
       "version_major": 2,
       "version_minor": 0
      },
      "text/plain": [
       "  0%|          | 0/30 [00:00<?, ?it/s]"
      ]
     },
     "metadata": {},
     "output_type": "display_data"
    },
    {
     "name": "stdout",
     "output_type": "stream",
     "text": [
      "--- 0.9367461204528809 seconds ---\n",
      "MRR@100 = 0.0099\n",
      "use_cg, False, factors: 10, iterations: 30, alpha: 100, regularization: 10\n"
     ]
    },
    {
     "data": {
      "application/vnd.jupyter.widget-view+json": {
       "model_id": "d82e7554d34c4506ba731348b3eae110",
       "version_major": 2,
       "version_minor": 0
      },
      "text/plain": [
       "  0%|          | 0/30 [00:00<?, ?it/s]"
      ]
     },
     "metadata": {},
     "output_type": "display_data"
    },
    {
     "name": "stdout",
     "output_type": "stream",
     "text": [
      "--- 0.9864177703857422 seconds ---\n",
      "MRR@100 = 0.0095\n",
      "use_cg, False, factors: 10, iterations: 50, alpha: 0.001, regularization: 0.001\n"
     ]
    },
    {
     "data": {
      "application/vnd.jupyter.widget-view+json": {
       "model_id": "9b60e6d6529644f0a1a8bf15e3f814f7",
       "version_major": 2,
       "version_minor": 0
      },
      "text/plain": [
       "  0%|          | 0/50 [00:00<?, ?it/s]"
      ]
     },
     "metadata": {},
     "output_type": "display_data"
    },
    {
     "name": "stdout",
     "output_type": "stream",
     "text": [
      "--- 0.9087531566619873 seconds ---\n",
      "MRR@100 = 0.0056\n",
      "use_cg, False, factors: 10, iterations: 50, alpha: 0.001, regularization: 0.01\n"
     ]
    },
    {
     "data": {
      "application/vnd.jupyter.widget-view+json": {
       "model_id": "00a0eac36b0e42c0890313f61189b259",
       "version_major": 2,
       "version_minor": 0
      },
      "text/plain": [
       "  0%|          | 0/50 [00:00<?, ?it/s]"
      ]
     },
     "metadata": {},
     "output_type": "display_data"
    },
    {
     "name": "stdout",
     "output_type": "stream",
     "text": [
      "--- 0.994204044342041 seconds ---\n",
      "MRR@100 = 0.0091\n",
      "use_cg, False, factors: 10, iterations: 50, alpha: 0.001, regularization: 0.1\n"
     ]
    },
    {
     "data": {
      "application/vnd.jupyter.widget-view+json": {
       "model_id": "27c49716b3fc4516a3f1afaa62caa08b",
       "version_major": 2,
       "version_minor": 0
      },
      "text/plain": [
       "  0%|          | 0/50 [00:00<?, ?it/s]"
      ]
     },
     "metadata": {},
     "output_type": "display_data"
    },
    {
     "name": "stdout",
     "output_type": "stream",
     "text": [
      "--- 1.1780288219451904 seconds ---\n",
      "MRR@100 = 0.0018\n",
      "use_cg, False, factors: 10, iterations: 50, alpha: 0.001, regularization: 1\n"
     ]
    },
    {
     "data": {
      "application/vnd.jupyter.widget-view+json": {
       "model_id": "f6ca9367c16d48e1b9717170acc1cfa3",
       "version_major": 2,
       "version_minor": 0
      },
      "text/plain": [
       "  0%|          | 0/50 [00:00<?, ?it/s]"
      ]
     },
     "metadata": {},
     "output_type": "display_data"
    },
    {
     "name": "stdout",
     "output_type": "stream",
     "text": [
      "--- 0.9065039157867432 seconds ---\n",
      "MRR@100 = 0.0001\n",
      "use_cg, False, factors: 10, iterations: 50, alpha: 0.001, regularization: 10\n"
     ]
    },
    {
     "data": {
      "application/vnd.jupyter.widget-view+json": {
       "model_id": "dbdfed967df944f4a940aa3e63a6dcf0",
       "version_major": 2,
       "version_minor": 0
      },
      "text/plain": [
       "  0%|          | 0/50 [00:00<?, ?it/s]"
      ]
     },
     "metadata": {},
     "output_type": "display_data"
    },
    {
     "name": "stdout",
     "output_type": "stream",
     "text": [
      "--- 0.9419341087341309 seconds ---\n",
      "MRR@100 = 0.0003\n",
      "use_cg, False, factors: 10, iterations: 50, alpha: 0.01, regularization: 0.001\n"
     ]
    },
    {
     "data": {
      "application/vnd.jupyter.widget-view+json": {
       "model_id": "45835c2ff08d460cb35529797244ae59",
       "version_major": 2,
       "version_minor": 0
      },
      "text/plain": [
       "  0%|          | 0/50 [00:00<?, ?it/s]"
      ]
     },
     "metadata": {},
     "output_type": "display_data"
    },
    {
     "name": "stdout",
     "output_type": "stream",
     "text": [
      "--- 0.9501690864562988 seconds ---\n",
      "MRR@100 = 0.0062\n",
      "use_cg, False, factors: 10, iterations: 50, alpha: 0.01, regularization: 0.01\n"
     ]
    },
    {
     "data": {
      "application/vnd.jupyter.widget-view+json": {
       "model_id": "215f73ef16104bfb966bfb16c1eba81e",
       "version_major": 2,
       "version_minor": 0
      },
      "text/plain": [
       "  0%|          | 0/50 [00:00<?, ?it/s]"
      ]
     },
     "metadata": {},
     "output_type": "display_data"
    },
    {
     "name": "stdout",
     "output_type": "stream",
     "text": [
      "--- 0.975675106048584 seconds ---\n",
      "MRR@100 = 0.0056\n",
      "use_cg, False, factors: 10, iterations: 50, alpha: 0.01, regularization: 0.1\n"
     ]
    },
    {
     "data": {
      "application/vnd.jupyter.widget-view+json": {
       "model_id": "178b4853f9e6468886e689a441895785",
       "version_major": 2,
       "version_minor": 0
      },
      "text/plain": [
       "  0%|          | 0/50 [00:00<?, ?it/s]"
      ]
     },
     "metadata": {},
     "output_type": "display_data"
    },
    {
     "name": "stdout",
     "output_type": "stream",
     "text": [
      "--- 1.0485732555389404 seconds ---\n",
      "MRR@100 = 0.0066\n",
      "use_cg, False, factors: 10, iterations: 50, alpha: 0.01, regularization: 1\n"
     ]
    },
    {
     "data": {
      "application/vnd.jupyter.widget-view+json": {
       "model_id": "8aad5930dc0a4359876cd7d9a2ad40de",
       "version_major": 2,
       "version_minor": 0
      },
      "text/plain": [
       "  0%|          | 0/50 [00:00<?, ?it/s]"
      ]
     },
     "metadata": {},
     "output_type": "display_data"
    },
    {
     "name": "stdout",
     "output_type": "stream",
     "text": [
      "--- 0.951469898223877 seconds ---\n",
      "MRR@100 = 0.0018\n",
      "use_cg, False, factors: 10, iterations: 50, alpha: 0.01, regularization: 10\n"
     ]
    },
    {
     "data": {
      "application/vnd.jupyter.widget-view+json": {
       "model_id": "7f18a0a9e9404ac8b50cebb66cf9e482",
       "version_major": 2,
       "version_minor": 0
      },
      "text/plain": [
       "  0%|          | 0/50 [00:00<?, ?it/s]"
      ]
     },
     "metadata": {},
     "output_type": "display_data"
    },
    {
     "name": "stdout",
     "output_type": "stream",
     "text": [
      "--- 1.05503511428833 seconds ---\n",
      "MRR@100 = 0.0013\n",
      "use_cg, False, factors: 10, iterations: 50, alpha: 0.1, regularization: 0.001\n"
     ]
    },
    {
     "data": {
      "application/vnd.jupyter.widget-view+json": {
       "model_id": "e2bcca8db92645828bdd21880fe3e4f8",
       "version_major": 2,
       "version_minor": 0
      },
      "text/plain": [
       "  0%|          | 0/50 [00:00<?, ?it/s]"
      ]
     },
     "metadata": {},
     "output_type": "display_data"
    },
    {
     "name": "stdout",
     "output_type": "stream",
     "text": [
      "--- 0.9304771423339844 seconds ---\n",
      "MRR@100 = 0.0095\n",
      "use_cg, False, factors: 10, iterations: 50, alpha: 0.1, regularization: 0.01\n"
     ]
    },
    {
     "data": {
      "application/vnd.jupyter.widget-view+json": {
       "model_id": "4c8dc3ab8d89411493785816c0fcacc4",
       "version_major": 2,
       "version_minor": 0
      },
      "text/plain": [
       "  0%|          | 0/50 [00:00<?, ?it/s]"
      ]
     },
     "metadata": {},
     "output_type": "display_data"
    },
    {
     "name": "stdout",
     "output_type": "stream",
     "text": [
      "--- 0.9486980438232422 seconds ---\n",
      "MRR@100 = 0.0087\n",
      "use_cg, False, factors: 10, iterations: 50, alpha: 0.1, regularization: 0.1\n"
     ]
    },
    {
     "data": {
      "application/vnd.jupyter.widget-view+json": {
       "model_id": "6405c01c842b4b20a68f649e73983f7f",
       "version_major": 2,
       "version_minor": 0
      },
      "text/plain": [
       "  0%|          | 0/50 [00:00<?, ?it/s]"
      ]
     },
     "metadata": {},
     "output_type": "display_data"
    },
    {
     "name": "stdout",
     "output_type": "stream",
     "text": [
      "--- 0.993366003036499 seconds ---\n",
      "MRR@100 = 0.0084\n",
      "use_cg, False, factors: 10, iterations: 50, alpha: 0.1, regularization: 1\n"
     ]
    },
    {
     "data": {
      "application/vnd.jupyter.widget-view+json": {
       "model_id": "57ae4a39246e450db0a0196fd462f796",
       "version_major": 2,
       "version_minor": 0
      },
      "text/plain": [
       "  0%|          | 0/50 [00:00<?, ?it/s]"
      ]
     },
     "metadata": {},
     "output_type": "display_data"
    },
    {
     "name": "stdout",
     "output_type": "stream",
     "text": [
      "--- 0.9582338333129883 seconds ---\n",
      "MRR@100 = 0.0081\n",
      "use_cg, False, factors: 10, iterations: 50, alpha: 0.1, regularization: 10\n"
     ]
    },
    {
     "data": {
      "application/vnd.jupyter.widget-view+json": {
       "model_id": "7c0e90a62fd44514a3e4615f83eb7e47",
       "version_major": 2,
       "version_minor": 0
      },
      "text/plain": [
       "  0%|          | 0/50 [00:00<?, ?it/s]"
      ]
     },
     "metadata": {},
     "output_type": "display_data"
    },
    {
     "name": "stdout",
     "output_type": "stream",
     "text": [
      "--- 1.1210119724273682 seconds ---\n",
      "MRR@100 = 0.0018\n",
      "use_cg, False, factors: 10, iterations: 50, alpha: 1, regularization: 0.001\n"
     ]
    },
    {
     "data": {
      "application/vnd.jupyter.widget-view+json": {
       "model_id": "42e64b6b4f394e399017a51408c7df7a",
       "version_major": 2,
       "version_minor": 0
      },
      "text/plain": [
       "  0%|          | 0/50 [00:00<?, ?it/s]"
      ]
     },
     "metadata": {},
     "output_type": "display_data"
    },
    {
     "name": "stdout",
     "output_type": "stream",
     "text": [
      "--- 1.0394561290740967 seconds ---\n",
      "MRR@100 = 0.0105\n",
      "use_cg, False, factors: 10, iterations: 50, alpha: 1, regularization: 0.01\n"
     ]
    },
    {
     "data": {
      "application/vnd.jupyter.widget-view+json": {
       "model_id": "a2f287b8ad7047cf93d41ac06aa6a14e",
       "version_major": 2,
       "version_minor": 0
      },
      "text/plain": [
       "  0%|          | 0/50 [00:00<?, ?it/s]"
      ]
     },
     "metadata": {},
     "output_type": "display_data"
    },
    {
     "name": "stdout",
     "output_type": "stream",
     "text": [
      "--- 0.9793391227722168 seconds ---\n",
      "MRR@100 = 0.0105\n",
      "use_cg, False, factors: 10, iterations: 50, alpha: 1, regularization: 0.1\n"
     ]
    },
    {
     "data": {
      "application/vnd.jupyter.widget-view+json": {
       "model_id": "802bcb425b2646329afae8feb0ead3d6",
       "version_major": 2,
       "version_minor": 0
      },
      "text/plain": [
       "  0%|          | 0/50 [00:00<?, ?it/s]"
      ]
     },
     "metadata": {},
     "output_type": "display_data"
    },
    {
     "name": "stdout",
     "output_type": "stream",
     "text": [
      "--- 0.9108552932739258 seconds ---\n",
      "MRR@100 = 0.0105\n",
      "use_cg, False, factors: 10, iterations: 50, alpha: 1, regularization: 1\n"
     ]
    },
    {
     "data": {
      "application/vnd.jupyter.widget-view+json": {
       "model_id": "0a119cb1c1de4d1ca8318c20bfb9da21",
       "version_major": 2,
       "version_minor": 0
      },
      "text/plain": [
       "  0%|          | 0/50 [00:00<?, ?it/s]"
      ]
     },
     "metadata": {},
     "output_type": "display_data"
    },
    {
     "name": "stdout",
     "output_type": "stream",
     "text": [
      "--- 0.9872708320617676 seconds ---\n",
      "MRR@100 = 0.0105\n",
      "use_cg, False, factors: 10, iterations: 50, alpha: 1, regularization: 10\n"
     ]
    },
    {
     "data": {
      "application/vnd.jupyter.widget-view+json": {
       "model_id": "7c27ed57beca46c3937feccf5e4f08c7",
       "version_major": 2,
       "version_minor": 0
      },
      "text/plain": [
       "  0%|          | 0/50 [00:00<?, ?it/s]"
      ]
     },
     "metadata": {},
     "output_type": "display_data"
    },
    {
     "name": "stdout",
     "output_type": "stream",
     "text": [
      "--- 0.9511659145355225 seconds ---\n",
      "MRR@100 = 0.0103\n",
      "use_cg, False, factors: 10, iterations: 50, alpha: 10, regularization: 0.001\n"
     ]
    },
    {
     "data": {
      "application/vnd.jupyter.widget-view+json": {
       "model_id": "a489bdfdf8d24f299dfb362248120635",
       "version_major": 2,
       "version_minor": 0
      },
      "text/plain": [
       "  0%|          | 0/50 [00:00<?, ?it/s]"
      ]
     },
     "metadata": {},
     "output_type": "display_data"
    },
    {
     "name": "stdout",
     "output_type": "stream",
     "text": [
      "--- 0.9404323101043701 seconds ---\n",
      "MRR@100 = 0.0091\n",
      "use_cg, False, factors: 10, iterations: 50, alpha: 10, regularization: 0.01\n"
     ]
    },
    {
     "data": {
      "application/vnd.jupyter.widget-view+json": {
       "model_id": "ed505f86121e44b992ee28ef65b39ff7",
       "version_major": 2,
       "version_minor": 0
      },
      "text/plain": [
       "  0%|          | 0/50 [00:00<?, ?it/s]"
      ]
     },
     "metadata": {},
     "output_type": "display_data"
    },
    {
     "name": "stdout",
     "output_type": "stream",
     "text": [
      "--- 0.925328254699707 seconds ---\n",
      "MRR@100 = 0.0091\n",
      "use_cg, False, factors: 10, iterations: 50, alpha: 10, regularization: 0.1\n"
     ]
    },
    {
     "data": {
      "application/vnd.jupyter.widget-view+json": {
       "model_id": "46b944e7855c468082b43689e4d375ca",
       "version_major": 2,
       "version_minor": 0
      },
      "text/plain": [
       "  0%|          | 0/50 [00:00<?, ?it/s]"
      ]
     },
     "metadata": {},
     "output_type": "display_data"
    },
    {
     "name": "stdout",
     "output_type": "stream",
     "text": [
      "--- 0.9159679412841797 seconds ---\n",
      "MRR@100 = 0.0091\n",
      "use_cg, False, factors: 10, iterations: 50, alpha: 10, regularization: 1\n"
     ]
    },
    {
     "data": {
      "application/vnd.jupyter.widget-view+json": {
       "model_id": "948de5665bdb478b829fe14a056b4b55",
       "version_major": 2,
       "version_minor": 0
      },
      "text/plain": [
       "  0%|          | 0/50 [00:00<?, ?it/s]"
      ]
     },
     "metadata": {},
     "output_type": "display_data"
    },
    {
     "name": "stdout",
     "output_type": "stream",
     "text": [
      "--- 0.9367098808288574 seconds ---\n",
      "MRR@100 = 0.0091\n",
      "use_cg, False, factors: 10, iterations: 50, alpha: 10, regularization: 10\n"
     ]
    },
    {
     "data": {
      "application/vnd.jupyter.widget-view+json": {
       "model_id": "91b92c6d1fcf4150b58faffe1d59f73d",
       "version_major": 2,
       "version_minor": 0
      },
      "text/plain": [
       "  0%|          | 0/50 [00:00<?, ?it/s]"
      ]
     },
     "metadata": {},
     "output_type": "display_data"
    },
    {
     "name": "stdout",
     "output_type": "stream",
     "text": [
      "--- 0.9403409957885742 seconds ---\n",
      "MRR@100 = 0.0091\n",
      "use_cg, False, factors: 10, iterations: 50, alpha: 100, regularization: 0.001\n"
     ]
    },
    {
     "data": {
      "application/vnd.jupyter.widget-view+json": {
       "model_id": "97043eaff4ef4b33af2a0ee3b0c4a3bf",
       "version_major": 2,
       "version_minor": 0
      },
      "text/plain": [
       "  0%|          | 0/50 [00:00<?, ?it/s]"
      ]
     },
     "metadata": {},
     "output_type": "display_data"
    },
    {
     "name": "stdout",
     "output_type": "stream",
     "text": [
      "--- 0.9118390083312988 seconds ---\n",
      "MRR@100 = 0.0093\n",
      "use_cg, False, factors: 10, iterations: 50, alpha: 100, regularization: 0.01\n"
     ]
    },
    {
     "data": {
      "application/vnd.jupyter.widget-view+json": {
       "model_id": "4dd788f6c0b54a23a1706715089da983",
       "version_major": 2,
       "version_minor": 0
      },
      "text/plain": [
       "  0%|          | 0/50 [00:00<?, ?it/s]"
      ]
     },
     "metadata": {},
     "output_type": "display_data"
    },
    {
     "name": "stdout",
     "output_type": "stream",
     "text": [
      "--- 0.8907010555267334 seconds ---\n",
      "MRR@100 = 0.0093\n",
      "use_cg, False, factors: 10, iterations: 50, alpha: 100, regularization: 0.1\n"
     ]
    },
    {
     "data": {
      "application/vnd.jupyter.widget-view+json": {
       "model_id": "ad83cf464eed4feba816405db42d4b42",
       "version_major": 2,
       "version_minor": 0
      },
      "text/plain": [
       "  0%|          | 0/50 [00:00<?, ?it/s]"
      ]
     },
     "metadata": {},
     "output_type": "display_data"
    },
    {
     "name": "stdout",
     "output_type": "stream",
     "text": [
      "--- 0.9064919948577881 seconds ---\n",
      "MRR@100 = 0.0093\n",
      "use_cg, False, factors: 10, iterations: 50, alpha: 100, regularization: 1\n"
     ]
    },
    {
     "data": {
      "application/vnd.jupyter.widget-view+json": {
       "model_id": "0e95d9c21c194adeb12f065eaf591799",
       "version_major": 2,
       "version_minor": 0
      },
      "text/plain": [
       "  0%|          | 0/50 [00:00<?, ?it/s]"
      ]
     },
     "metadata": {},
     "output_type": "display_data"
    },
    {
     "name": "stdout",
     "output_type": "stream",
     "text": [
      "--- 0.9195120334625244 seconds ---\n",
      "MRR@100 = 0.0093\n",
      "use_cg, False, factors: 10, iterations: 50, alpha: 100, regularization: 10\n"
     ]
    },
    {
     "data": {
      "application/vnd.jupyter.widget-view+json": {
       "model_id": "01c93782a27746f29de45ea161fb06e3",
       "version_major": 2,
       "version_minor": 0
      },
      "text/plain": [
       "  0%|          | 0/50 [00:00<?, ?it/s]"
      ]
     },
     "metadata": {},
     "output_type": "display_data"
    },
    {
     "name": "stdout",
     "output_type": "stream",
     "text": [
      "--- 0.9270401000976562 seconds ---\n",
      "MRR@100 = 0.0092\n",
      "use_cg, False, factors: 10, iterations: 100, alpha: 0.001, regularization: 0.001\n"
     ]
    },
    {
     "data": {
      "application/vnd.jupyter.widget-view+json": {
       "model_id": "0592eac74d0a4991bef3b6403b7c1d46",
       "version_major": 2,
       "version_minor": 0
      },
      "text/plain": [
       "  0%|          | 0/100 [00:00<?, ?it/s]"
      ]
     },
     "metadata": {},
     "output_type": "display_data"
    },
    {
     "name": "stdout",
     "output_type": "stream",
     "text": [
      "--- 0.9730081558227539 seconds ---\n",
      "MRR@100 = 0.0059\n",
      "use_cg, False, factors: 10, iterations: 100, alpha: 0.001, regularization: 0.01\n"
     ]
    },
    {
     "data": {
      "application/vnd.jupyter.widget-view+json": {
       "model_id": "166cfeb213874fbeb441664fe108b98e",
       "version_major": 2,
       "version_minor": 0
      },
      "text/plain": [
       "  0%|          | 0/100 [00:00<?, ?it/s]"
      ]
     },
     "metadata": {},
     "output_type": "display_data"
    },
    {
     "name": "stdout",
     "output_type": "stream",
     "text": [
      "--- 0.9330601692199707 seconds ---\n",
      "MRR@100 = 0.0064\n",
      "use_cg, False, factors: 10, iterations: 100, alpha: 0.001, regularization: 0.1\n"
     ]
    },
    {
     "data": {
      "application/vnd.jupyter.widget-view+json": {
       "model_id": "7487ca0f11bf4d37a4acd40b60e01c33",
       "version_major": 2,
       "version_minor": 0
      },
      "text/plain": [
       "  0%|          | 0/100 [00:00<?, ?it/s]"
      ]
     },
     "metadata": {},
     "output_type": "display_data"
    },
    {
     "name": "stdout",
     "output_type": "stream",
     "text": [
      "--- 1.1239781379699707 seconds ---\n",
      "MRR@100 = 0.0018\n",
      "use_cg, False, factors: 10, iterations: 100, alpha: 0.001, regularization: 1\n"
     ]
    },
    {
     "data": {
      "application/vnd.jupyter.widget-view+json": {
       "model_id": "ff5aa5ea2e5c46af84bf6e9a645648a1",
       "version_major": 2,
       "version_minor": 0
      },
      "text/plain": [
       "  0%|          | 0/100 [00:00<?, ?it/s]"
      ]
     },
     "metadata": {},
     "output_type": "display_data"
    },
    {
     "name": "stdout",
     "output_type": "stream",
     "text": [
      "--- 0.9343240261077881 seconds ---\n",
      "MRR@100 = 0.0001\n",
      "use_cg, False, factors: 10, iterations: 100, alpha: 0.001, regularization: 10\n"
     ]
    },
    {
     "data": {
      "application/vnd.jupyter.widget-view+json": {
       "model_id": "54d6c0120d164e48bbff843e643d2c88",
       "version_major": 2,
       "version_minor": 0
      },
      "text/plain": [
       "  0%|          | 0/100 [00:00<?, ?it/s]"
      ]
     },
     "metadata": {},
     "output_type": "display_data"
    },
    {
     "name": "stdout",
     "output_type": "stream",
     "text": [
      "--- 1.00400710105896 seconds ---\n",
      "MRR@100 = 0.0003\n",
      "use_cg, False, factors: 10, iterations: 100, alpha: 0.01, regularization: 0.001\n"
     ]
    },
    {
     "data": {
      "application/vnd.jupyter.widget-view+json": {
       "model_id": "1c8e26076de7446aa3b891f475c9a1c4",
       "version_major": 2,
       "version_minor": 0
      },
      "text/plain": [
       "  0%|          | 0/100 [00:00<?, ?it/s]"
      ]
     },
     "metadata": {},
     "output_type": "display_data"
    },
    {
     "name": "stdout",
     "output_type": "stream",
     "text": [
      "--- 0.9161803722381592 seconds ---\n",
      "MRR@100 = 0.0067\n",
      "use_cg, False, factors: 10, iterations: 100, alpha: 0.01, regularization: 0.01\n"
     ]
    },
    {
     "data": {
      "application/vnd.jupyter.widget-view+json": {
       "model_id": "ed71326aef8a441c94eb479bd26480ca",
       "version_major": 2,
       "version_minor": 0
      },
      "text/plain": [
       "  0%|          | 0/100 [00:00<?, ?it/s]"
      ]
     },
     "metadata": {},
     "output_type": "display_data"
    },
    {
     "name": "stdout",
     "output_type": "stream",
     "text": [
      "--- 0.9535732269287109 seconds ---\n",
      "MRR@100 = 0.0055\n",
      "use_cg, False, factors: 10, iterations: 100, alpha: 0.01, regularization: 0.1\n"
     ]
    },
    {
     "data": {
      "application/vnd.jupyter.widget-view+json": {
       "model_id": "690e33ac193d45fba6af47511f81b758",
       "version_major": 2,
       "version_minor": 0
      },
      "text/plain": [
       "  0%|          | 0/100 [00:00<?, ?it/s]"
      ]
     },
     "metadata": {},
     "output_type": "display_data"
    },
    {
     "name": "stdout",
     "output_type": "stream",
     "text": [
      "--- 0.9938600063323975 seconds ---\n",
      "MRR@100 = 0.0066\n",
      "use_cg, False, factors: 10, iterations: 100, alpha: 0.01, regularization: 1\n"
     ]
    },
    {
     "data": {
      "application/vnd.jupyter.widget-view+json": {
       "model_id": "4e452092f5fa402bbd33ecd1394a694a",
       "version_major": 2,
       "version_minor": 0
      },
      "text/plain": [
       "  0%|          | 0/100 [00:00<?, ?it/s]"
      ]
     },
     "metadata": {},
     "output_type": "display_data"
    },
    {
     "name": "stdout",
     "output_type": "stream",
     "text": [
      "--- 0.9317917823791504 seconds ---\n",
      "MRR@100 = 0.0016\n",
      "use_cg, False, factors: 10, iterations: 100, alpha: 0.01, regularization: 10\n"
     ]
    },
    {
     "data": {
      "application/vnd.jupyter.widget-view+json": {
       "model_id": "23f96c98197f4102bc0a17eadc30a7bd",
       "version_major": 2,
       "version_minor": 0
      },
      "text/plain": [
       "  0%|          | 0/100 [00:00<?, ?it/s]"
      ]
     },
     "metadata": {},
     "output_type": "display_data"
    },
    {
     "name": "stdout",
     "output_type": "stream",
     "text": [
      "--- 0.9099268913269043 seconds ---\n",
      "MRR@100 = 0.0013\n",
      "use_cg, False, factors: 10, iterations: 100, alpha: 0.1, regularization: 0.001\n"
     ]
    },
    {
     "data": {
      "application/vnd.jupyter.widget-view+json": {
       "model_id": "58f5109e1007424aa3ab9788f8ee50a4",
       "version_major": 2,
       "version_minor": 0
      },
      "text/plain": [
       "  0%|          | 0/100 [00:00<?, ?it/s]"
      ]
     },
     "metadata": {},
     "output_type": "display_data"
    },
    {
     "name": "stdout",
     "output_type": "stream",
     "text": [
      "--- 0.9519281387329102 seconds ---\n",
      "MRR@100 = 0.0081\n",
      "use_cg, False, factors: 10, iterations: 100, alpha: 0.1, regularization: 0.01\n"
     ]
    },
    {
     "data": {
      "application/vnd.jupyter.widget-view+json": {
       "model_id": "9e6250a91eee4a33aed2717b09025bac",
       "version_major": 2,
       "version_minor": 0
      },
      "text/plain": [
       "  0%|          | 0/100 [00:00<?, ?it/s]"
      ]
     },
     "metadata": {},
     "output_type": "display_data"
    },
    {
     "name": "stdout",
     "output_type": "stream",
     "text": [
      "--- 0.9208817481994629 seconds ---\n",
      "MRR@100 = 0.0092\n",
      "use_cg, False, factors: 10, iterations: 100, alpha: 0.1, regularization: 0.1\n"
     ]
    },
    {
     "data": {
      "application/vnd.jupyter.widget-view+json": {
       "model_id": "8f618bfe6079470587fa8b8251ae397e",
       "version_major": 2,
       "version_minor": 0
      },
      "text/plain": [
       "  0%|          | 0/100 [00:00<?, ?it/s]"
      ]
     },
     "metadata": {},
     "output_type": "display_data"
    },
    {
     "name": "stdout",
     "output_type": "stream",
     "text": [
      "--- 0.9001553058624268 seconds ---\n",
      "MRR@100 = 0.0085\n",
      "use_cg, False, factors: 10, iterations: 100, alpha: 0.1, regularization: 1\n"
     ]
    },
    {
     "data": {
      "application/vnd.jupyter.widget-view+json": {
       "model_id": "f1134f11d7ea446aab112d746c7f8724",
       "version_major": 2,
       "version_minor": 0
      },
      "text/plain": [
       "  0%|          | 0/100 [00:00<?, ?it/s]"
      ]
     },
     "metadata": {},
     "output_type": "display_data"
    },
    {
     "name": "stdout",
     "output_type": "stream",
     "text": [
      "--- 0.9705710411071777 seconds ---\n",
      "MRR@100 = 0.0082\n",
      "use_cg, False, factors: 10, iterations: 100, alpha: 0.1, regularization: 10\n"
     ]
    },
    {
     "data": {
      "application/vnd.jupyter.widget-view+json": {
       "model_id": "6b0c6097f2c0432ab225bb93213cb7fb",
       "version_major": 2,
       "version_minor": 0
      },
      "text/plain": [
       "  0%|          | 0/100 [00:00<?, ?it/s]"
      ]
     },
     "metadata": {},
     "output_type": "display_data"
    },
    {
     "name": "stdout",
     "output_type": "stream",
     "text": [
      "--- 0.9117438793182373 seconds ---\n",
      "MRR@100 = 0.0017\n",
      "use_cg, False, factors: 10, iterations: 100, alpha: 1, regularization: 0.001\n"
     ]
    },
    {
     "data": {
      "application/vnd.jupyter.widget-view+json": {
       "model_id": "fcdc0241ac0f4fffa71dd74b7376d05f",
       "version_major": 2,
       "version_minor": 0
      },
      "text/plain": [
       "  0%|          | 0/100 [00:00<?, ?it/s]"
      ]
     },
     "metadata": {},
     "output_type": "display_data"
    },
    {
     "name": "stdout",
     "output_type": "stream",
     "text": [
      "--- 0.9673070907592773 seconds ---\n",
      "MRR@100 = 0.0106\n",
      "use_cg, False, factors: 10, iterations: 100, alpha: 1, regularization: 0.01\n"
     ]
    },
    {
     "data": {
      "application/vnd.jupyter.widget-view+json": {
       "model_id": "5b0ab32682b345fa9e620b260b800f17",
       "version_major": 2,
       "version_minor": 0
      },
      "text/plain": [
       "  0%|          | 0/100 [00:00<?, ?it/s]"
      ]
     },
     "metadata": {},
     "output_type": "display_data"
    },
    {
     "name": "stdout",
     "output_type": "stream",
     "text": [
      "--- 0.9956181049346924 seconds ---\n",
      "MRR@100 = 0.0106\n",
      "use_cg, False, factors: 10, iterations: 100, alpha: 1, regularization: 0.1\n"
     ]
    },
    {
     "data": {
      "application/vnd.jupyter.widget-view+json": {
       "model_id": "ffa3c8baf83647eb87b97140c94a0a5d",
       "version_major": 2,
       "version_minor": 0
      },
      "text/plain": [
       "  0%|          | 0/100 [00:00<?, ?it/s]"
      ]
     },
     "metadata": {},
     "output_type": "display_data"
    },
    {
     "name": "stdout",
     "output_type": "stream",
     "text": [
      "--- 0.9435238838195801 seconds ---\n",
      "MRR@100 = 0.0106\n",
      "use_cg, False, factors: 10, iterations: 100, alpha: 1, regularization: 1\n"
     ]
    },
    {
     "data": {
      "application/vnd.jupyter.widget-view+json": {
       "model_id": "7255dc499985427c92bfadd92199fafa",
       "version_major": 2,
       "version_minor": 0
      },
      "text/plain": [
       "  0%|          | 0/100 [00:00<?, ?it/s]"
      ]
     },
     "metadata": {},
     "output_type": "display_data"
    },
    {
     "name": "stdout",
     "output_type": "stream",
     "text": [
      "--- 0.9683802127838135 seconds ---\n",
      "MRR@100 = 0.0106\n",
      "use_cg, False, factors: 10, iterations: 100, alpha: 1, regularization: 10\n"
     ]
    },
    {
     "data": {
      "application/vnd.jupyter.widget-view+json": {
       "model_id": "e7a4c33c76584435b4c6ef572cd21ef5",
       "version_major": 2,
       "version_minor": 0
      },
      "text/plain": [
       "  0%|          | 0/100 [00:00<?, ?it/s]"
      ]
     },
     "metadata": {},
     "output_type": "display_data"
    },
    {
     "name": "stdout",
     "output_type": "stream",
     "text": [
      "--- 0.972388744354248 seconds ---\n",
      "MRR@100 = 0.0100\n",
      "use_cg, False, factors: 10, iterations: 100, alpha: 10, regularization: 0.001\n"
     ]
    },
    {
     "data": {
      "application/vnd.jupyter.widget-view+json": {
       "model_id": "1882a74ebbae4d4a888fbab7d1252c13",
       "version_major": 2,
       "version_minor": 0
      },
      "text/plain": [
       "  0%|          | 0/100 [00:00<?, ?it/s]"
      ]
     },
     "metadata": {},
     "output_type": "display_data"
    },
    {
     "name": "stdout",
     "output_type": "stream",
     "text": [
      "--- 1.0356371402740479 seconds ---\n",
      "MRR@100 = 0.0095\n",
      "use_cg, False, factors: 10, iterations: 100, alpha: 10, regularization: 0.01\n"
     ]
    },
    {
     "data": {
      "application/vnd.jupyter.widget-view+json": {
       "model_id": "9ea59aec32a244e99b23fa0d50d6ea3c",
       "version_major": 2,
       "version_minor": 0
      },
      "text/plain": [
       "  0%|          | 0/100 [00:00<?, ?it/s]"
      ]
     },
     "metadata": {},
     "output_type": "display_data"
    },
    {
     "name": "stdout",
     "output_type": "stream",
     "text": [
      "--- 1.0201830863952637 seconds ---\n",
      "MRR@100 = 0.0095\n",
      "use_cg, False, factors: 10, iterations: 100, alpha: 10, regularization: 0.1\n"
     ]
    },
    {
     "data": {
      "application/vnd.jupyter.widget-view+json": {
       "model_id": "70ae2d8705db4b7ab7e3153067ef5491",
       "version_major": 2,
       "version_minor": 0
      },
      "text/plain": [
       "  0%|          | 0/100 [00:00<?, ?it/s]"
      ]
     },
     "metadata": {},
     "output_type": "display_data"
    },
    {
     "name": "stdout",
     "output_type": "stream",
     "text": [
      "--- 1.0322911739349365 seconds ---\n",
      "MRR@100 = 0.0090\n",
      "use_cg, False, factors: 10, iterations: 100, alpha: 10, regularization: 1\n"
     ]
    },
    {
     "data": {
      "application/vnd.jupyter.widget-view+json": {
       "model_id": "b30083e4130f4ee1b3a7433808e224cb",
       "version_major": 2,
       "version_minor": 0
      },
      "text/plain": [
       "  0%|          | 0/100 [00:00<?, ?it/s]"
      ]
     },
     "metadata": {},
     "output_type": "display_data"
    },
    {
     "name": "stdout",
     "output_type": "stream",
     "text": [
      "--- 1.007354974746704 seconds ---\n",
      "MRR@100 = 0.0090\n",
      "use_cg, False, factors: 10, iterations: 100, alpha: 10, regularization: 10\n"
     ]
    },
    {
     "data": {
      "application/vnd.jupyter.widget-view+json": {
       "model_id": "1518111653e44d809b8df50128759b96",
       "version_major": 2,
       "version_minor": 0
      },
      "text/plain": [
       "  0%|          | 0/100 [00:00<?, ?it/s]"
      ]
     },
     "metadata": {},
     "output_type": "display_data"
    },
    {
     "name": "stdout",
     "output_type": "stream",
     "text": [
      "--- 0.9385731220245361 seconds ---\n",
      "MRR@100 = 0.0090\n",
      "use_cg, False, factors: 10, iterations: 100, alpha: 100, regularization: 0.001\n"
     ]
    },
    {
     "data": {
      "application/vnd.jupyter.widget-view+json": {
       "model_id": "5b734e7f0b4442c392029a4278d62629",
       "version_major": 2,
       "version_minor": 0
      },
      "text/plain": [
       "  0%|          | 0/100 [00:00<?, ?it/s]"
      ]
     },
     "metadata": {},
     "output_type": "display_data"
    },
    {
     "name": "stdout",
     "output_type": "stream",
     "text": [
      "--- 0.9808521270751953 seconds ---\n",
      "MRR@100 = 0.0097\n",
      "use_cg, False, factors: 10, iterations: 100, alpha: 100, regularization: 0.01\n"
     ]
    },
    {
     "data": {
      "application/vnd.jupyter.widget-view+json": {
       "model_id": "e67088082b2843beb311ee48f082fed8",
       "version_major": 2,
       "version_minor": 0
      },
      "text/plain": [
       "  0%|          | 0/100 [00:00<?, ?it/s]"
      ]
     },
     "metadata": {},
     "output_type": "display_data"
    },
    {
     "name": "stdout",
     "output_type": "stream",
     "text": [
      "--- 0.9399197101593018 seconds ---\n",
      "MRR@100 = 0.0097\n",
      "use_cg, False, factors: 10, iterations: 100, alpha: 100, regularization: 0.1\n"
     ]
    },
    {
     "data": {
      "application/vnd.jupyter.widget-view+json": {
       "model_id": "0832a7ed7eb342d6b9111c17b43fa746",
       "version_major": 2,
       "version_minor": 0
      },
      "text/plain": [
       "  0%|          | 0/100 [00:00<?, ?it/s]"
      ]
     },
     "metadata": {},
     "output_type": "display_data"
    },
    {
     "name": "stdout",
     "output_type": "stream",
     "text": [
      "--- 1.0420739650726318 seconds ---\n",
      "MRR@100 = 0.0097\n",
      "use_cg, False, factors: 10, iterations: 100, alpha: 100, regularization: 1\n"
     ]
    },
    {
     "data": {
      "application/vnd.jupyter.widget-view+json": {
       "model_id": "cc60a1ccb86645178b8291d9e365fdff",
       "version_major": 2,
       "version_minor": 0
      },
      "text/plain": [
       "  0%|          | 0/100 [00:00<?, ?it/s]"
      ]
     },
     "metadata": {},
     "output_type": "display_data"
    },
    {
     "name": "stdout",
     "output_type": "stream",
     "text": [
      "--- 0.9086458683013916 seconds ---\n",
      "MRR@100 = 0.0097\n",
      "use_cg, False, factors: 10, iterations: 100, alpha: 100, regularization: 10\n"
     ]
    },
    {
     "data": {
      "application/vnd.jupyter.widget-view+json": {
       "model_id": "9781e27551ba4d899686c63e0037abaf",
       "version_major": 2,
       "version_minor": 0
      },
      "text/plain": [
       "  0%|          | 0/100 [00:00<?, ?it/s]"
      ]
     },
     "metadata": {},
     "output_type": "display_data"
    },
    {
     "name": "stdout",
     "output_type": "stream",
     "text": [
      "--- 0.9623432159423828 seconds ---\n",
      "MRR@100 = 0.0093\n",
      "use_cg, False, factors: 15, iterations: 5, alpha: 0.001, regularization: 0.001\n"
     ]
    },
    {
     "data": {
      "application/vnd.jupyter.widget-view+json": {
       "model_id": "966a7cf5200e481b9151272fd3e19c27",
       "version_major": 2,
       "version_minor": 0
      },
      "text/plain": [
       "  0%|          | 0/5 [00:00<?, ?it/s]"
      ]
     },
     "metadata": {},
     "output_type": "display_data"
    },
    {
     "name": "stdout",
     "output_type": "stream",
     "text": [
      "--- 0.9276669025421143 seconds ---\n",
      "MRR@100 = 0.0079\n",
      "use_cg, False, factors: 15, iterations: 5, alpha: 0.001, regularization: 0.01\n"
     ]
    },
    {
     "data": {
      "application/vnd.jupyter.widget-view+json": {
       "model_id": "8100ef95792a4e9c9ef26c2ea4044a8f",
       "version_major": 2,
       "version_minor": 0
      },
      "text/plain": [
       "  0%|          | 0/5 [00:00<?, ?it/s]"
      ]
     },
     "metadata": {},
     "output_type": "display_data"
    },
    {
     "name": "stdout",
     "output_type": "stream",
     "text": [
      "--- 0.9299640655517578 seconds ---\n",
      "MRR@100 = 0.0092\n",
      "use_cg, False, factors: 15, iterations: 5, alpha: 0.001, regularization: 0.1\n"
     ]
    },
    {
     "data": {
      "application/vnd.jupyter.widget-view+json": {
       "model_id": "1d81cafaed044917abbdbda596b9843f",
       "version_major": 2,
       "version_minor": 0
      },
      "text/plain": [
       "  0%|          | 0/5 [00:00<?, ?it/s]"
      ]
     },
     "metadata": {},
     "output_type": "display_data"
    },
    {
     "name": "stdout",
     "output_type": "stream",
     "text": [
      "--- 0.9822409152984619 seconds ---\n",
      "MRR@100 = 0.0018\n",
      "use_cg, False, factors: 15, iterations: 5, alpha: 0.001, regularization: 1\n"
     ]
    },
    {
     "data": {
      "application/vnd.jupyter.widget-view+json": {
       "model_id": "bed97e55e26d4af5a7a2be2c219b7b74",
       "version_major": 2,
       "version_minor": 0
      },
      "text/plain": [
       "  0%|          | 0/5 [00:00<?, ?it/s]"
      ]
     },
     "metadata": {},
     "output_type": "display_data"
    },
    {
     "name": "stdout",
     "output_type": "stream",
     "text": [
      "--- 0.9619929790496826 seconds ---\n",
      "MRR@100 = 0.0002\n",
      "use_cg, False, factors: 15, iterations: 5, alpha: 0.001, regularization: 10\n"
     ]
    },
    {
     "data": {
      "application/vnd.jupyter.widget-view+json": {
       "model_id": "14746c7407c04a63836224c7bd5348a2",
       "version_major": 2,
       "version_minor": 0
      },
      "text/plain": [
       "  0%|          | 0/5 [00:00<?, ?it/s]"
      ]
     },
     "metadata": {},
     "output_type": "display_data"
    },
    {
     "name": "stdout",
     "output_type": "stream",
     "text": [
      "--- 0.95334792137146 seconds ---\n",
      "MRR@100 = 0.0005\n",
      "use_cg, False, factors: 15, iterations: 5, alpha: 0.01, regularization: 0.001\n"
     ]
    },
    {
     "data": {
      "application/vnd.jupyter.widget-view+json": {
       "model_id": "86b45f877455410baac5f8f92127814d",
       "version_major": 2,
       "version_minor": 0
      },
      "text/plain": [
       "  0%|          | 0/5 [00:00<?, ?it/s]"
      ]
     },
     "metadata": {},
     "output_type": "display_data"
    },
    {
     "name": "stdout",
     "output_type": "stream",
     "text": [
      "--- 0.9504902362823486 seconds ---\n",
      "MRR@100 = 0.0082\n",
      "use_cg, False, factors: 15, iterations: 5, alpha: 0.01, regularization: 0.01\n"
     ]
    },
    {
     "data": {
      "application/vnd.jupyter.widget-view+json": {
       "model_id": "3a51b7aae28b40b6840c209f01776417",
       "version_major": 2,
       "version_minor": 0
      },
      "text/plain": [
       "  0%|          | 0/5 [00:00<?, ?it/s]"
      ]
     },
     "metadata": {},
     "output_type": "display_data"
    },
    {
     "name": "stdout",
     "output_type": "stream",
     "text": [
      "--- 0.9188010692596436 seconds ---\n",
      "MRR@100 = 0.0082\n",
      "use_cg, False, factors: 15, iterations: 5, alpha: 0.01, regularization: 0.1\n"
     ]
    },
    {
     "data": {
      "application/vnd.jupyter.widget-view+json": {
       "model_id": "ace2789212764168b16b6dc4405f824e",
       "version_major": 2,
       "version_minor": 0
      },
      "text/plain": [
       "  0%|          | 0/5 [00:00<?, ?it/s]"
      ]
     },
     "metadata": {},
     "output_type": "display_data"
    },
    {
     "name": "stdout",
     "output_type": "stream",
     "text": [
      "--- 0.9260311126708984 seconds ---\n",
      "MRR@100 = 0.0090\n",
      "use_cg, False, factors: 15, iterations: 5, alpha: 0.01, regularization: 1\n"
     ]
    },
    {
     "data": {
      "application/vnd.jupyter.widget-view+json": {
       "model_id": "cce2aa15f88b4d24a2801db09b82ae63",
       "version_major": 2,
       "version_minor": 0
      },
      "text/plain": [
       "  0%|          | 0/5 [00:00<?, ?it/s]"
      ]
     },
     "metadata": {},
     "output_type": "display_data"
    },
    {
     "name": "stdout",
     "output_type": "stream",
     "text": [
      "--- 0.9390120506286621 seconds ---\n",
      "MRR@100 = 0.0018\n",
      "use_cg, False, factors: 15, iterations: 5, alpha: 0.01, regularization: 10\n"
     ]
    },
    {
     "data": {
      "application/vnd.jupyter.widget-view+json": {
       "model_id": "954efe79f1ee41b99c5bf90ee2149b3e",
       "version_major": 2,
       "version_minor": 0
      },
      "text/plain": [
       "  0%|          | 0/5 [00:00<?, ?it/s]"
      ]
     },
     "metadata": {},
     "output_type": "display_data"
    },
    {
     "name": "stdout",
     "output_type": "stream",
     "text": [
      "--- 0.9384021759033203 seconds ---\n",
      "MRR@100 = 0.0004\n",
      "use_cg, False, factors: 15, iterations: 5, alpha: 0.1, regularization: 0.001\n"
     ]
    },
    {
     "data": {
      "application/vnd.jupyter.widget-view+json": {
       "model_id": "bbe55756f25648d6bd427e4928913505",
       "version_major": 2,
       "version_minor": 0
      },
      "text/plain": [
       "  0%|          | 0/5 [00:00<?, ?it/s]"
      ]
     },
     "metadata": {},
     "output_type": "display_data"
    },
    {
     "name": "stdout",
     "output_type": "stream",
     "text": [
      "--- 0.9434778690338135 seconds ---\n",
      "MRR@100 = 0.0088\n",
      "use_cg, False, factors: 15, iterations: 5, alpha: 0.1, regularization: 0.01\n"
     ]
    },
    {
     "data": {
      "application/vnd.jupyter.widget-view+json": {
       "model_id": "f06f4438601c4a71b9aa2a1b2498b478",
       "version_major": 2,
       "version_minor": 0
      },
      "text/plain": [
       "  0%|          | 0/5 [00:00<?, ?it/s]"
      ]
     },
     "metadata": {},
     "output_type": "display_data"
    },
    {
     "name": "stdout",
     "output_type": "stream",
     "text": [
      "--- 0.9568278789520264 seconds ---\n",
      "MRR@100 = 0.0089\n",
      "use_cg, False, factors: 15, iterations: 5, alpha: 0.1, regularization: 0.1\n"
     ]
    },
    {
     "data": {
      "application/vnd.jupyter.widget-view+json": {
       "model_id": "d9553fe9ec144f7081e0f3698010fba5",
       "version_major": 2,
       "version_minor": 0
      },
      "text/plain": [
       "  0%|          | 0/5 [00:00<?, ?it/s]"
      ]
     },
     "metadata": {},
     "output_type": "display_data"
    },
    {
     "name": "stdout",
     "output_type": "stream",
     "text": [
      "--- 0.9313359260559082 seconds ---\n",
      "MRR@100 = 0.0089\n",
      "use_cg, False, factors: 15, iterations: 5, alpha: 0.1, regularization: 1\n"
     ]
    },
    {
     "data": {
      "application/vnd.jupyter.widget-view+json": {
       "model_id": "33690a930f42459f8e988d60af5cc1c7",
       "version_major": 2,
       "version_minor": 0
      },
      "text/plain": [
       "  0%|          | 0/5 [00:00<?, ?it/s]"
      ]
     },
     "metadata": {},
     "output_type": "display_data"
    },
    {
     "name": "stdout",
     "output_type": "stream",
     "text": [
      "--- 0.9477989673614502 seconds ---\n",
      "MRR@100 = 0.0089\n",
      "use_cg, False, factors: 15, iterations: 5, alpha: 0.1, regularization: 10\n"
     ]
    },
    {
     "data": {
      "application/vnd.jupyter.widget-view+json": {
       "model_id": "b9825942fae2414686900e8d88ad4905",
       "version_major": 2,
       "version_minor": 0
      },
      "text/plain": [
       "  0%|          | 0/5 [00:00<?, ?it/s]"
      ]
     },
     "metadata": {},
     "output_type": "display_data"
    },
    {
     "name": "stdout",
     "output_type": "stream",
     "text": [
      "--- 0.961906909942627 seconds ---\n",
      "MRR@100 = 0.0018\n",
      "use_cg, False, factors: 15, iterations: 5, alpha: 1, regularization: 0.001\n"
     ]
    },
    {
     "data": {
      "application/vnd.jupyter.widget-view+json": {
       "model_id": "74a018a5e9ce4dba8a7d5e54991d8ff2",
       "version_major": 2,
       "version_minor": 0
      },
      "text/plain": [
       "  0%|          | 0/5 [00:00<?, ?it/s]"
      ]
     },
     "metadata": {},
     "output_type": "display_data"
    },
    {
     "name": "stdout",
     "output_type": "stream",
     "text": [
      "--- 0.9043571949005127 seconds ---\n",
      "MRR@100 = 0.0108\n",
      "use_cg, False, factors: 15, iterations: 5, alpha: 1, regularization: 0.01\n"
     ]
    },
    {
     "data": {
      "application/vnd.jupyter.widget-view+json": {
       "model_id": "55590a69dda64c3e93607e92d911b638",
       "version_major": 2,
       "version_minor": 0
      },
      "text/plain": [
       "  0%|          | 0/5 [00:00<?, ?it/s]"
      ]
     },
     "metadata": {},
     "output_type": "display_data"
    },
    {
     "name": "stdout",
     "output_type": "stream",
     "text": [
      "--- 0.9816718101501465 seconds ---\n",
      "MRR@100 = 0.0108\n",
      "use_cg, False, factors: 15, iterations: 5, alpha: 1, regularization: 0.1\n"
     ]
    },
    {
     "data": {
      "application/vnd.jupyter.widget-view+json": {
       "model_id": "fa6234f243aa41749ac040fb2c5555c5",
       "version_major": 2,
       "version_minor": 0
      },
      "text/plain": [
       "  0%|          | 0/5 [00:00<?, ?it/s]"
      ]
     },
     "metadata": {},
     "output_type": "display_data"
    },
    {
     "name": "stdout",
     "output_type": "stream",
     "text": [
      "--- 0.937274694442749 seconds ---\n",
      "MRR@100 = 0.0107\n",
      "use_cg, False, factors: 15, iterations: 5, alpha: 1, regularization: 1\n"
     ]
    },
    {
     "data": {
      "application/vnd.jupyter.widget-view+json": {
       "model_id": "c11a3c05a94c481191791cee25d5bc96",
       "version_major": 2,
       "version_minor": 0
      },
      "text/plain": [
       "  0%|          | 0/5 [00:00<?, ?it/s]"
      ]
     },
     "metadata": {},
     "output_type": "display_data"
    },
    {
     "name": "stdout",
     "output_type": "stream",
     "text": [
      "--- 0.9817037582397461 seconds ---\n",
      "MRR@100 = 0.0108\n",
      "use_cg, False, factors: 15, iterations: 5, alpha: 1, regularization: 10\n"
     ]
    },
    {
     "data": {
      "application/vnd.jupyter.widget-view+json": {
       "model_id": "42fdf757282e4fc18c9c4b4ffa08a14f",
       "version_major": 2,
       "version_minor": 0
      },
      "text/plain": [
       "  0%|          | 0/5 [00:00<?, ?it/s]"
      ]
     },
     "metadata": {},
     "output_type": "display_data"
    },
    {
     "name": "stdout",
     "output_type": "stream",
     "text": [
      "--- 0.9075489044189453 seconds ---\n",
      "MRR@100 = 0.0108\n",
      "use_cg, False, factors: 15, iterations: 5, alpha: 10, regularization: 0.001\n"
     ]
    },
    {
     "data": {
      "application/vnd.jupyter.widget-view+json": {
       "model_id": "ccbe342821fb4436ab1022673ed9eab1",
       "version_major": 2,
       "version_minor": 0
      },
      "text/plain": [
       "  0%|          | 0/5 [00:00<?, ?it/s]"
      ]
     },
     "metadata": {},
     "output_type": "display_data"
    },
    {
     "name": "stdout",
     "output_type": "stream",
     "text": [
      "--- 0.9662830829620361 seconds ---\n",
      "MRR@100 = 0.0106\n",
      "use_cg, False, factors: 15, iterations: 5, alpha: 10, regularization: 0.01\n"
     ]
    },
    {
     "data": {
      "application/vnd.jupyter.widget-view+json": {
       "model_id": "2460a9de89824e66a5af6d160a007c0e",
       "version_major": 2,
       "version_minor": 0
      },
      "text/plain": [
       "  0%|          | 0/5 [00:00<?, ?it/s]"
      ]
     },
     "metadata": {},
     "output_type": "display_data"
    },
    {
     "name": "stdout",
     "output_type": "stream",
     "text": [
      "--- 0.9634499549865723 seconds ---\n",
      "MRR@100 = 0.0106\n",
      "use_cg, False, factors: 15, iterations: 5, alpha: 10, regularization: 0.1\n"
     ]
    },
    {
     "data": {
      "application/vnd.jupyter.widget-view+json": {
       "model_id": "9e05acf9a87d403a9319baf2b75f30ff",
       "version_major": 2,
       "version_minor": 0
      },
      "text/plain": [
       "  0%|          | 0/5 [00:00<?, ?it/s]"
      ]
     },
     "metadata": {},
     "output_type": "display_data"
    },
    {
     "name": "stdout",
     "output_type": "stream",
     "text": [
      "--- 0.9418749809265137 seconds ---\n",
      "MRR@100 = 0.0106\n",
      "use_cg, False, factors: 15, iterations: 5, alpha: 10, regularization: 1\n"
     ]
    },
    {
     "data": {
      "application/vnd.jupyter.widget-view+json": {
       "model_id": "2bb77a5d7427482eb0ddee4f7e551fa7",
       "version_major": 2,
       "version_minor": 0
      },
      "text/plain": [
       "  0%|          | 0/5 [00:00<?, ?it/s]"
      ]
     },
     "metadata": {},
     "output_type": "display_data"
    },
    {
     "name": "stdout",
     "output_type": "stream",
     "text": [
      "--- 0.9184260368347168 seconds ---\n",
      "MRR@100 = 0.0108\n",
      "use_cg, False, factors: 15, iterations: 5, alpha: 10, regularization: 10\n"
     ]
    },
    {
     "data": {
      "application/vnd.jupyter.widget-view+json": {
       "model_id": "7d2d685e14b14f40a8b0057e31a14bf3",
       "version_major": 2,
       "version_minor": 0
      },
      "text/plain": [
       "  0%|          | 0/5 [00:00<?, ?it/s]"
      ]
     },
     "metadata": {},
     "output_type": "display_data"
    },
    {
     "name": "stdout",
     "output_type": "stream",
     "text": [
      "--- 0.9248459339141846 seconds ---\n",
      "MRR@100 = 0.0113\n",
      "use_cg, False, factors: 15, iterations: 5, alpha: 100, regularization: 0.001\n"
     ]
    },
    {
     "data": {
      "application/vnd.jupyter.widget-view+json": {
       "model_id": "18fb434a480d4321b5667f5e1bf7a903",
       "version_major": 2,
       "version_minor": 0
      },
      "text/plain": [
       "  0%|          | 0/5 [00:00<?, ?it/s]"
      ]
     },
     "metadata": {},
     "output_type": "display_data"
    },
    {
     "name": "stdout",
     "output_type": "stream",
     "text": [
      "--- 0.9307210445404053 seconds ---\n",
      "MRR@100 = 0.0091\n",
      "use_cg, False, factors: 15, iterations: 5, alpha: 100, regularization: 0.01\n"
     ]
    },
    {
     "data": {
      "application/vnd.jupyter.widget-view+json": {
       "model_id": "49d20622a54f4b7e9135ced93b6b7fe3",
       "version_major": 2,
       "version_minor": 0
      },
      "text/plain": [
       "  0%|          | 0/5 [00:00<?, ?it/s]"
      ]
     },
     "metadata": {},
     "output_type": "display_data"
    },
    {
     "name": "stdout",
     "output_type": "stream",
     "text": [
      "--- 0.9014122486114502 seconds ---\n",
      "MRR@100 = 0.0091\n",
      "use_cg, False, factors: 15, iterations: 5, alpha: 100, regularization: 0.1\n"
     ]
    },
    {
     "data": {
      "application/vnd.jupyter.widget-view+json": {
       "model_id": "5710d370a5d04ce19d715bbae3cc9ef8",
       "version_major": 2,
       "version_minor": 0
      },
      "text/plain": [
       "  0%|          | 0/5 [00:00<?, ?it/s]"
      ]
     },
     "metadata": {},
     "output_type": "display_data"
    },
    {
     "name": "stdout",
     "output_type": "stream",
     "text": [
      "--- 0.950922966003418 seconds ---\n",
      "MRR@100 = 0.0091\n",
      "use_cg, False, factors: 15, iterations: 5, alpha: 100, regularization: 1\n"
     ]
    },
    {
     "data": {
      "application/vnd.jupyter.widget-view+json": {
       "model_id": "3d34f571d6634d6f944921c27261dbe1",
       "version_major": 2,
       "version_minor": 0
      },
      "text/plain": [
       "  0%|          | 0/5 [00:00<?, ?it/s]"
      ]
     },
     "metadata": {},
     "output_type": "display_data"
    },
    {
     "name": "stdout",
     "output_type": "stream",
     "text": [
      "--- 0.9233946800231934 seconds ---\n",
      "MRR@100 = 0.0089\n",
      "use_cg, False, factors: 15, iterations: 5, alpha: 100, regularization: 10\n"
     ]
    },
    {
     "data": {
      "application/vnd.jupyter.widget-view+json": {
       "model_id": "0fefc0aa81b24974b80e2f650885cefc",
       "version_major": 2,
       "version_minor": 0
      },
      "text/plain": [
       "  0%|          | 0/5 [00:00<?, ?it/s]"
      ]
     },
     "metadata": {},
     "output_type": "display_data"
    },
    {
     "name": "stdout",
     "output_type": "stream",
     "text": [
      "--- 0.9890670776367188 seconds ---\n",
      "MRR@100 = 0.0089\n",
      "use_cg, False, factors: 15, iterations: 10, alpha: 0.001, regularization: 0.001\n"
     ]
    },
    {
     "data": {
      "application/vnd.jupyter.widget-view+json": {
       "model_id": "d542eb445a3f4e23ae12b3d38e11fb78",
       "version_major": 2,
       "version_minor": 0
      },
      "text/plain": [
       "  0%|          | 0/10 [00:00<?, ?it/s]"
      ]
     },
     "metadata": {},
     "output_type": "display_data"
    },
    {
     "name": "stdout",
     "output_type": "stream",
     "text": [
      "--- 0.9420158863067627 seconds ---\n",
      "MRR@100 = 0.0068\n",
      "use_cg, False, factors: 15, iterations: 10, alpha: 0.001, regularization: 0.01\n"
     ]
    },
    {
     "data": {
      "application/vnd.jupyter.widget-view+json": {
       "model_id": "140c470b724e4330995e73444b14c555",
       "version_major": 2,
       "version_minor": 0
      },
      "text/plain": [
       "  0%|          | 0/10 [00:00<?, ?it/s]"
      ]
     },
     "metadata": {},
     "output_type": "display_data"
    },
    {
     "name": "stdout",
     "output_type": "stream",
     "text": [
      "--- 1.0038750171661377 seconds ---\n",
      "MRR@100 = 0.0077\n",
      "use_cg, False, factors: 15, iterations: 10, alpha: 0.001, regularization: 0.1\n"
     ]
    },
    {
     "data": {
      "application/vnd.jupyter.widget-view+json": {
       "model_id": "043cfd8434634f2ba2b803b817a632a3",
       "version_major": 2,
       "version_minor": 0
      },
      "text/plain": [
       "  0%|          | 0/10 [00:00<?, ?it/s]"
      ]
     },
     "metadata": {},
     "output_type": "display_data"
    },
    {
     "name": "stdout",
     "output_type": "stream",
     "text": [
      "--- 0.910041093826294 seconds ---\n",
      "MRR@100 = 0.0018\n",
      "use_cg, False, factors: 15, iterations: 10, alpha: 0.001, regularization: 1\n"
     ]
    },
    {
     "data": {
      "application/vnd.jupyter.widget-view+json": {
       "model_id": "0cbfdc26450543f7ac3e914b12d52ee6",
       "version_major": 2,
       "version_minor": 0
      },
      "text/plain": [
       "  0%|          | 0/10 [00:00<?, ?it/s]"
      ]
     },
     "metadata": {},
     "output_type": "display_data"
    },
    {
     "name": "stdout",
     "output_type": "stream",
     "text": [
      "--- 0.9351089000701904 seconds ---\n",
      "MRR@100 = 0.0002\n",
      "use_cg, False, factors: 15, iterations: 10, alpha: 0.001, regularization: 10\n"
     ]
    },
    {
     "data": {
      "application/vnd.jupyter.widget-view+json": {
       "model_id": "e7200886e0744834bab9a4c07ba5febf",
       "version_major": 2,
       "version_minor": 0
      },
      "text/plain": [
       "  0%|          | 0/10 [00:00<?, ?it/s]"
      ]
     },
     "metadata": {},
     "output_type": "display_data"
    },
    {
     "name": "stdout",
     "output_type": "stream",
     "text": [
      "--- 0.9823930263519287 seconds ---\n",
      "MRR@100 = 0.0005\n",
      "use_cg, False, factors: 15, iterations: 10, alpha: 0.01, regularization: 0.001\n"
     ]
    },
    {
     "data": {
      "application/vnd.jupyter.widget-view+json": {
       "model_id": "68698bba60e346a59af02eb63bbb55fa",
       "version_major": 2,
       "version_minor": 0
      },
      "text/plain": [
       "  0%|          | 0/10 [00:00<?, ?it/s]"
      ]
     },
     "metadata": {},
     "output_type": "display_data"
    },
    {
     "name": "stdout",
     "output_type": "stream",
     "text": [
      "--- 0.9680299758911133 seconds ---\n",
      "MRR@100 = 0.0084\n",
      "use_cg, False, factors: 15, iterations: 10, alpha: 0.01, regularization: 0.01\n"
     ]
    },
    {
     "data": {
      "application/vnd.jupyter.widget-view+json": {
       "model_id": "7b6b902e230c478fb53a4bcacc00689b",
       "version_major": 2,
       "version_minor": 0
      },
      "text/plain": [
       "  0%|          | 0/10 [00:00<?, ?it/s]"
      ]
     },
     "metadata": {},
     "output_type": "display_data"
    },
    {
     "name": "stdout",
     "output_type": "stream",
     "text": [
      "--- 0.9812941551208496 seconds ---\n",
      "MRR@100 = 0.0082\n",
      "use_cg, False, factors: 15, iterations: 10, alpha: 0.01, regularization: 0.1\n"
     ]
    },
    {
     "data": {
      "application/vnd.jupyter.widget-view+json": {
       "model_id": "3497f8abec704e18a5cbece4d5064130",
       "version_major": 2,
       "version_minor": 0
      },
      "text/plain": [
       "  0%|          | 0/10 [00:00<?, ?it/s]"
      ]
     },
     "metadata": {},
     "output_type": "display_data"
    },
    {
     "name": "stdout",
     "output_type": "stream",
     "text": [
      "--- 0.9330129623413086 seconds ---\n",
      "MRR@100 = 0.0085\n",
      "use_cg, False, factors: 15, iterations: 10, alpha: 0.01, regularization: 1\n"
     ]
    },
    {
     "data": {
      "application/vnd.jupyter.widget-view+json": {
       "model_id": "ca891284c6754fd6927ac2bb66414368",
       "version_major": 2,
       "version_minor": 0
      },
      "text/plain": [
       "  0%|          | 0/10 [00:00<?, ?it/s]"
      ]
     },
     "metadata": {},
     "output_type": "display_data"
    },
    {
     "name": "stdout",
     "output_type": "stream",
     "text": [
      "--- 0.9060242176055908 seconds ---\n",
      "MRR@100 = 0.0018\n",
      "use_cg, False, factors: 15, iterations: 10, alpha: 0.01, regularization: 10\n"
     ]
    },
    {
     "data": {
      "application/vnd.jupyter.widget-view+json": {
       "model_id": "b677c422087a44d390f092f37aa950b6",
       "version_major": 2,
       "version_minor": 0
      },
      "text/plain": [
       "  0%|          | 0/10 [00:00<?, ?it/s]"
      ]
     },
     "metadata": {},
     "output_type": "display_data"
    },
    {
     "name": "stdout",
     "output_type": "stream",
     "text": [
      "--- 0.9196109771728516 seconds ---\n",
      "MRR@100 = 0.0004\n",
      "use_cg, False, factors: 15, iterations: 10, alpha: 0.1, regularization: 0.001\n"
     ]
    },
    {
     "data": {
      "application/vnd.jupyter.widget-view+json": {
       "model_id": "3e49eb94d59a4245b117de0dc56ab5f9",
       "version_major": 2,
       "version_minor": 0
      },
      "text/plain": [
       "  0%|          | 0/10 [00:00<?, ?it/s]"
      ]
     },
     "metadata": {},
     "output_type": "display_data"
    },
    {
     "name": "stdout",
     "output_type": "stream",
     "text": [
      "--- 0.9821329116821289 seconds ---\n",
      "MRR@100 = 0.0084\n",
      "use_cg, False, factors: 15, iterations: 10, alpha: 0.1, regularization: 0.01\n"
     ]
    },
    {
     "data": {
      "application/vnd.jupyter.widget-view+json": {
       "model_id": "262cc6fdb086440abd696138217cc65a",
       "version_major": 2,
       "version_minor": 0
      },
      "text/plain": [
       "  0%|          | 0/10 [00:00<?, ?it/s]"
      ]
     },
     "metadata": {},
     "output_type": "display_data"
    },
    {
     "name": "stdout",
     "output_type": "stream",
     "text": [
      "--- 0.92348313331604 seconds ---\n",
      "MRR@100 = 0.0084\n",
      "use_cg, False, factors: 15, iterations: 10, alpha: 0.1, regularization: 0.1\n"
     ]
    },
    {
     "data": {
      "application/vnd.jupyter.widget-view+json": {
       "model_id": "4573fe748af04c6eaa77b353be92b7ec",
       "version_major": 2,
       "version_minor": 0
      },
      "text/plain": [
       "  0%|          | 0/10 [00:00<?, ?it/s]"
      ]
     },
     "metadata": {},
     "output_type": "display_data"
    },
    {
     "name": "stdout",
     "output_type": "stream",
     "text": [
      "--- 0.9876680374145508 seconds ---\n",
      "MRR@100 = 0.0085\n",
      "use_cg, False, factors: 15, iterations: 10, alpha: 0.1, regularization: 1\n"
     ]
    },
    {
     "data": {
      "application/vnd.jupyter.widget-view+json": {
       "model_id": "3f48510af29a4572a822d2734b68eb7a",
       "version_major": 2,
       "version_minor": 0
      },
      "text/plain": [
       "  0%|          | 0/10 [00:00<?, ?it/s]"
      ]
     },
     "metadata": {},
     "output_type": "display_data"
    },
    {
     "name": "stdout",
     "output_type": "stream",
     "text": [
      "--- 0.9727811813354492 seconds ---\n",
      "MRR@100 = 0.0094\n",
      "use_cg, False, factors: 15, iterations: 10, alpha: 0.1, regularization: 10\n"
     ]
    },
    {
     "data": {
      "application/vnd.jupyter.widget-view+json": {
       "model_id": "51415be112114a62884de660f83c11cb",
       "version_major": 2,
       "version_minor": 0
      },
      "text/plain": [
       "  0%|          | 0/10 [00:00<?, ?it/s]"
      ]
     },
     "metadata": {},
     "output_type": "display_data"
    },
    {
     "name": "stdout",
     "output_type": "stream",
     "text": [
      "--- 1.1453008651733398 seconds ---\n",
      "MRR@100 = 0.0018\n",
      "use_cg, False, factors: 15, iterations: 10, alpha: 1, regularization: 0.001\n"
     ]
    },
    {
     "data": {
      "application/vnd.jupyter.widget-view+json": {
       "model_id": "a0d2067aee78418f88d9f77932c76494",
       "version_major": 2,
       "version_minor": 0
      },
      "text/plain": [
       "  0%|          | 0/10 [00:00<?, ?it/s]"
      ]
     },
     "metadata": {},
     "output_type": "display_data"
    },
    {
     "name": "stdout",
     "output_type": "stream",
     "text": [
      "--- 0.9233510494232178 seconds ---\n",
      "MRR@100 = 0.0098\n",
      "use_cg, False, factors: 15, iterations: 10, alpha: 1, regularization: 0.01\n"
     ]
    },
    {
     "data": {
      "application/vnd.jupyter.widget-view+json": {
       "model_id": "efca9d17a75246e39099fd48ec9e8138",
       "version_major": 2,
       "version_minor": 0
      },
      "text/plain": [
       "  0%|          | 0/10 [00:00<?, ?it/s]"
      ]
     },
     "metadata": {},
     "output_type": "display_data"
    },
    {
     "name": "stdout",
     "output_type": "stream",
     "text": [
      "--- 1.0478968620300293 seconds ---\n",
      "MRR@100 = 0.0098\n",
      "use_cg, False, factors: 15, iterations: 10, alpha: 1, regularization: 0.1\n"
     ]
    },
    {
     "data": {
      "application/vnd.jupyter.widget-view+json": {
       "model_id": "75cb7b1dae174ecdb8e8313b77d1e595",
       "version_major": 2,
       "version_minor": 0
      },
      "text/plain": [
       "  0%|          | 0/10 [00:00<?, ?it/s]"
      ]
     },
     "metadata": {},
     "output_type": "display_data"
    },
    {
     "name": "stdout",
     "output_type": "stream",
     "text": [
      "--- 0.9326181411743164 seconds ---\n",
      "MRR@100 = 0.0098\n",
      "use_cg, False, factors: 15, iterations: 10, alpha: 1, regularization: 1\n"
     ]
    },
    {
     "data": {
      "application/vnd.jupyter.widget-view+json": {
       "model_id": "1690613ca3d4471fba9cc3d03afd47cd",
       "version_major": 2,
       "version_minor": 0
      },
      "text/plain": [
       "  0%|          | 0/10 [00:00<?, ?it/s]"
      ]
     },
     "metadata": {},
     "output_type": "display_data"
    },
    {
     "name": "stdout",
     "output_type": "stream",
     "text": [
      "--- 1.0223162174224854 seconds ---\n",
      "MRR@100 = 0.0098\n",
      "use_cg, False, factors: 15, iterations: 10, alpha: 1, regularization: 10\n"
     ]
    },
    {
     "data": {
      "application/vnd.jupyter.widget-view+json": {
       "model_id": "d8c72a12f9e443ab89e28428a3ebacfb",
       "version_major": 2,
       "version_minor": 0
      },
      "text/plain": [
       "  0%|          | 0/10 [00:00<?, ?it/s]"
      ]
     },
     "metadata": {},
     "output_type": "display_data"
    },
    {
     "name": "stdout",
     "output_type": "stream",
     "text": [
      "--- 0.9956080913543701 seconds ---\n",
      "MRR@100 = 0.0096\n",
      "use_cg, False, factors: 15, iterations: 10, alpha: 10, regularization: 0.001\n"
     ]
    },
    {
     "data": {
      "application/vnd.jupyter.widget-view+json": {
       "model_id": "856a87bdc3a94ca48bd4353f6e305805",
       "version_major": 2,
       "version_minor": 0
      },
      "text/plain": [
       "  0%|          | 0/10 [00:00<?, ?it/s]"
      ]
     },
     "metadata": {},
     "output_type": "display_data"
    },
    {
     "name": "stdout",
     "output_type": "stream",
     "text": [
      "--- 0.9429540634155273 seconds ---\n",
      "MRR@100 = 0.0121\n",
      "use_cg, False, factors: 15, iterations: 10, alpha: 10, regularization: 0.01\n"
     ]
    },
    {
     "data": {
      "application/vnd.jupyter.widget-view+json": {
       "model_id": "4fcf76a2cd8f4257b776d013c1ebbb11",
       "version_major": 2,
       "version_minor": 0
      },
      "text/plain": [
       "  0%|          | 0/10 [00:00<?, ?it/s]"
      ]
     },
     "metadata": {},
     "output_type": "display_data"
    },
    {
     "name": "stdout",
     "output_type": "stream",
     "text": [
      "--- 0.9341320991516113 seconds ---\n",
      "MRR@100 = 0.0121\n",
      "use_cg, False, factors: 15, iterations: 10, alpha: 10, regularization: 0.1\n"
     ]
    },
    {
     "data": {
      "application/vnd.jupyter.widget-view+json": {
       "model_id": "95d4d8c79ba54f26a3af103b3f4c7c81",
       "version_major": 2,
       "version_minor": 0
      },
      "text/plain": [
       "  0%|          | 0/10 [00:00<?, ?it/s]"
      ]
     },
     "metadata": {},
     "output_type": "display_data"
    },
    {
     "name": "stdout",
     "output_type": "stream",
     "text": [
      "--- 0.9404668807983398 seconds ---\n",
      "MRR@100 = 0.0121\n",
      "use_cg, False, factors: 15, iterations: 10, alpha: 10, regularization: 1\n"
     ]
    },
    {
     "data": {
      "application/vnd.jupyter.widget-view+json": {
       "model_id": "47e6317b5d044128868b196b2058caa8",
       "version_major": 2,
       "version_minor": 0
      },
      "text/plain": [
       "  0%|          | 0/10 [00:00<?, ?it/s]"
      ]
     },
     "metadata": {},
     "output_type": "display_data"
    },
    {
     "name": "stdout",
     "output_type": "stream",
     "text": [
      "--- 1.0226380825042725 seconds ---\n",
      "MRR@100 = 0.0121\n",
      "use_cg, False, factors: 15, iterations: 10, alpha: 10, regularization: 10\n"
     ]
    },
    {
     "data": {
      "application/vnd.jupyter.widget-view+json": {
       "model_id": "922d4724c4c643a0a7f0abdc44f4daa3",
       "version_major": 2,
       "version_minor": 0
      },
      "text/plain": [
       "  0%|          | 0/10 [00:00<?, ?it/s]"
      ]
     },
     "metadata": {},
     "output_type": "display_data"
    },
    {
     "name": "stdout",
     "output_type": "stream",
     "text": [
      "--- 0.9496607780456543 seconds ---\n",
      "MRR@100 = 0.0124\n",
      "use_cg, False, factors: 15, iterations: 10, alpha: 100, regularization: 0.001\n"
     ]
    },
    {
     "data": {
      "application/vnd.jupyter.widget-view+json": {
       "model_id": "5b4e22de18354a00a1766a5ec4262c24",
       "version_major": 2,
       "version_minor": 0
      },
      "text/plain": [
       "  0%|          | 0/10 [00:00<?, ?it/s]"
      ]
     },
     "metadata": {},
     "output_type": "display_data"
    },
    {
     "name": "stdout",
     "output_type": "stream",
     "text": [
      "--- 0.9583659172058105 seconds ---\n",
      "MRR@100 = 0.0101\n",
      "use_cg, False, factors: 15, iterations: 10, alpha: 100, regularization: 0.01\n"
     ]
    },
    {
     "data": {
      "application/vnd.jupyter.widget-view+json": {
       "model_id": "83713dd7a8154a1bb12fe1eeb5b2479c",
       "version_major": 2,
       "version_minor": 0
      },
      "text/plain": [
       "  0%|          | 0/10 [00:00<?, ?it/s]"
      ]
     },
     "metadata": {},
     "output_type": "display_data"
    },
    {
     "name": "stdout",
     "output_type": "stream",
     "text": [
      "--- 1.0508129596710205 seconds ---\n",
      "MRR@100 = 0.0101\n",
      "use_cg, False, factors: 15, iterations: 10, alpha: 100, regularization: 0.1\n"
     ]
    },
    {
     "data": {
      "application/vnd.jupyter.widget-view+json": {
       "model_id": "6134b77993134c7f8b2aa15118f2151b",
       "version_major": 2,
       "version_minor": 0
      },
      "text/plain": [
       "  0%|          | 0/10 [00:00<?, ?it/s]"
      ]
     },
     "metadata": {},
     "output_type": "display_data"
    },
    {
     "name": "stdout",
     "output_type": "stream",
     "text": [
      "--- 0.9295549392700195 seconds ---\n",
      "MRR@100 = 0.0101\n",
      "use_cg, False, factors: 15, iterations: 10, alpha: 100, regularization: 1\n"
     ]
    },
    {
     "data": {
      "application/vnd.jupyter.widget-view+json": {
       "model_id": "514d2bf53792405cb98351b53eaf4bad",
       "version_major": 2,
       "version_minor": 0
      },
      "text/plain": [
       "  0%|          | 0/10 [00:00<?, ?it/s]"
      ]
     },
     "metadata": {},
     "output_type": "display_data"
    },
    {
     "name": "stdout",
     "output_type": "stream",
     "text": [
      "--- 0.9302270412445068 seconds ---\n",
      "MRR@100 = 0.0103\n",
      "use_cg, False, factors: 15, iterations: 10, alpha: 100, regularization: 10\n"
     ]
    },
    {
     "data": {
      "application/vnd.jupyter.widget-view+json": {
       "model_id": "f9ef180d2f5d4474a6b18f1c779bedeb",
       "version_major": 2,
       "version_minor": 0
      },
      "text/plain": [
       "  0%|          | 0/10 [00:00<?, ?it/s]"
      ]
     },
     "metadata": {},
     "output_type": "display_data"
    },
    {
     "name": "stdout",
     "output_type": "stream",
     "text": [
      "--- 0.9657740592956543 seconds ---\n",
      "MRR@100 = 0.0101\n",
      "use_cg, False, factors: 15, iterations: 15, alpha: 0.001, regularization: 0.001\n"
     ]
    },
    {
     "data": {
      "application/vnd.jupyter.widget-view+json": {
       "model_id": "b75c64c2e7cc419e938ee49adb285a41",
       "version_major": 2,
       "version_minor": 0
      },
      "text/plain": [
       "  0%|          | 0/15 [00:00<?, ?it/s]"
      ]
     },
     "metadata": {},
     "output_type": "display_data"
    },
    {
     "name": "stdout",
     "output_type": "stream",
     "text": [
      "--- 0.9586060047149658 seconds ---\n",
      "MRR@100 = 0.0071\n",
      "use_cg, False, factors: 15, iterations: 15, alpha: 0.001, regularization: 0.01\n"
     ]
    },
    {
     "data": {
      "application/vnd.jupyter.widget-view+json": {
       "model_id": "5d7cdd7e0f504ccfa105d5bdb39dc680",
       "version_major": 2,
       "version_minor": 0
      },
      "text/plain": [
       "  0%|          | 0/15 [00:00<?, ?it/s]"
      ]
     },
     "metadata": {},
     "output_type": "display_data"
    },
    {
     "name": "stdout",
     "output_type": "stream",
     "text": [
      "--- 0.943809986114502 seconds ---\n",
      "MRR@100 = 0.0092\n",
      "use_cg, False, factors: 15, iterations: 15, alpha: 0.001, regularization: 0.1\n"
     ]
    },
    {
     "data": {
      "application/vnd.jupyter.widget-view+json": {
       "model_id": "6814e96a527c4a659b496a20b2b84d79",
       "version_major": 2,
       "version_minor": 0
      },
      "text/plain": [
       "  0%|          | 0/15 [00:00<?, ?it/s]"
      ]
     },
     "metadata": {},
     "output_type": "display_data"
    },
    {
     "name": "stdout",
     "output_type": "stream",
     "text": [
      "--- 0.9385709762573242 seconds ---\n",
      "MRR@100 = 0.0018\n",
      "use_cg, False, factors: 15, iterations: 15, alpha: 0.001, regularization: 1\n"
     ]
    },
    {
     "data": {
      "application/vnd.jupyter.widget-view+json": {
       "model_id": "5c021fe4f7d041e689b87ddbffe38f95",
       "version_major": 2,
       "version_minor": 0
      },
      "text/plain": [
       "  0%|          | 0/15 [00:00<?, ?it/s]"
      ]
     },
     "metadata": {},
     "output_type": "display_data"
    },
    {
     "name": "stdout",
     "output_type": "stream",
     "text": [
      "--- 0.9433820247650146 seconds ---\n",
      "MRR@100 = 0.0002\n",
      "use_cg, False, factors: 15, iterations: 15, alpha: 0.001, regularization: 10\n"
     ]
    },
    {
     "data": {
      "application/vnd.jupyter.widget-view+json": {
       "model_id": "f0b2a5a6a1e9434e9f50b252196216c6",
       "version_major": 2,
       "version_minor": 0
      },
      "text/plain": [
       "  0%|          | 0/15 [00:00<?, ?it/s]"
      ]
     },
     "metadata": {},
     "output_type": "display_data"
    },
    {
     "name": "stdout",
     "output_type": "stream",
     "text": [
      "--- 0.9522650241851807 seconds ---\n",
      "MRR@100 = 0.0005\n",
      "use_cg, False, factors: 15, iterations: 15, alpha: 0.01, regularization: 0.001\n"
     ]
    },
    {
     "data": {
      "application/vnd.jupyter.widget-view+json": {
       "model_id": "a1c633397fdc4f1bb25b6c79a35d6473",
       "version_major": 2,
       "version_minor": 0
      },
      "text/plain": [
       "  0%|          | 0/15 [00:00<?, ?it/s]"
      ]
     },
     "metadata": {},
     "output_type": "display_data"
    },
    {
     "name": "stdout",
     "output_type": "stream",
     "text": [
      "--- 0.9943490028381348 seconds ---\n",
      "MRR@100 = 0.0069\n",
      "use_cg, False, factors: 15, iterations: 15, alpha: 0.01, regularization: 0.01\n"
     ]
    },
    {
     "data": {
      "application/vnd.jupyter.widget-view+json": {
       "model_id": "02665f0285ea47ea88c0df0877689822",
       "version_major": 2,
       "version_minor": 0
      },
      "text/plain": [
       "  0%|          | 0/15 [00:00<?, ?it/s]"
      ]
     },
     "metadata": {},
     "output_type": "display_data"
    },
    {
     "name": "stdout",
     "output_type": "stream",
     "text": [
      "--- 1.075906753540039 seconds ---\n",
      "MRR@100 = 0.0078\n",
      "use_cg, False, factors: 15, iterations: 15, alpha: 0.01, regularization: 0.1\n"
     ]
    },
    {
     "data": {
      "application/vnd.jupyter.widget-view+json": {
       "model_id": "35f1022b34ce45be989a2bd0714994d8",
       "version_major": 2,
       "version_minor": 0
      },
      "text/plain": [
       "  0%|          | 0/15 [00:00<?, ?it/s]"
      ]
     },
     "metadata": {},
     "output_type": "display_data"
    },
    {
     "name": "stdout",
     "output_type": "stream",
     "text": [
      "--- 0.9219498634338379 seconds ---\n",
      "MRR@100 = 0.0086\n",
      "use_cg, False, factors: 15, iterations: 15, alpha: 0.01, regularization: 1\n"
     ]
    },
    {
     "data": {
      "application/vnd.jupyter.widget-view+json": {
       "model_id": "e1f8df475484483a8b07b90f564ec891",
       "version_major": 2,
       "version_minor": 0
      },
      "text/plain": [
       "  0%|          | 0/15 [00:00<?, ?it/s]"
      ]
     },
     "metadata": {},
     "output_type": "display_data"
    },
    {
     "name": "stdout",
     "output_type": "stream",
     "text": [
      "--- 0.9374711513519287 seconds ---\n",
      "MRR@100 = 0.0018\n",
      "use_cg, False, factors: 15, iterations: 15, alpha: 0.01, regularization: 10\n"
     ]
    },
    {
     "data": {
      "application/vnd.jupyter.widget-view+json": {
       "model_id": "811264248d9941f484a8df649bf29d92",
       "version_major": 2,
       "version_minor": 0
      },
      "text/plain": [
       "  0%|          | 0/15 [00:00<?, ?it/s]"
      ]
     },
     "metadata": {},
     "output_type": "display_data"
    },
    {
     "name": "stdout",
     "output_type": "stream",
     "text": [
      "--- 0.9785351753234863 seconds ---\n",
      "MRR@100 = 0.0004\n",
      "use_cg, False, factors: 15, iterations: 15, alpha: 0.1, regularization: 0.001\n"
     ]
    },
    {
     "data": {
      "application/vnd.jupyter.widget-view+json": {
       "model_id": "f066cb8bd7204942bdf17efc6364716b",
       "version_major": 2,
       "version_minor": 0
      },
      "text/plain": [
       "  0%|          | 0/15 [00:00<?, ?it/s]"
      ]
     },
     "metadata": {},
     "output_type": "display_data"
    },
    {
     "name": "stdout",
     "output_type": "stream",
     "text": [
      "--- 0.9986917972564697 seconds ---\n",
      "MRR@100 = 0.0087\n",
      "use_cg, False, factors: 15, iterations: 15, alpha: 0.1, regularization: 0.01\n"
     ]
    },
    {
     "data": {
      "application/vnd.jupyter.widget-view+json": {
       "model_id": "6dc8babc8daf4ca9a72893b3783cbd7a",
       "version_major": 2,
       "version_minor": 0
      },
      "text/plain": [
       "  0%|          | 0/15 [00:00<?, ?it/s]"
      ]
     },
     "metadata": {},
     "output_type": "display_data"
    },
    {
     "name": "stdout",
     "output_type": "stream",
     "text": [
      "--- 1.0081908702850342 seconds ---\n",
      "MRR@100 = 0.0094\n",
      "use_cg, False, factors: 15, iterations: 15, alpha: 0.1, regularization: 0.1\n"
     ]
    },
    {
     "data": {
      "application/vnd.jupyter.widget-view+json": {
       "model_id": "246308ff21534bd6bad76291cb56c6c0",
       "version_major": 2,
       "version_minor": 0
      },
      "text/plain": [
       "  0%|          | 0/15 [00:00<?, ?it/s]"
      ]
     },
     "metadata": {},
     "output_type": "display_data"
    },
    {
     "name": "stdout",
     "output_type": "stream",
     "text": [
      "--- 0.9534709453582764 seconds ---\n",
      "MRR@100 = 0.0096\n",
      "use_cg, False, factors: 15, iterations: 15, alpha: 0.1, regularization: 1\n"
     ]
    },
    {
     "data": {
      "application/vnd.jupyter.widget-view+json": {
       "model_id": "a064ea8f45ab4c20a11c93c90dc3e38c",
       "version_major": 2,
       "version_minor": 0
      },
      "text/plain": [
       "  0%|          | 0/15 [00:00<?, ?it/s]"
      ]
     },
     "metadata": {},
     "output_type": "display_data"
    },
    {
     "name": "stdout",
     "output_type": "stream",
     "text": [
      "--- 0.9343938827514648 seconds ---\n",
      "MRR@100 = 0.0112\n",
      "use_cg, False, factors: 15, iterations: 15, alpha: 0.1, regularization: 10\n"
     ]
    },
    {
     "data": {
      "application/vnd.jupyter.widget-view+json": {
       "model_id": "a6e3d913c041441e8a7f7d9a2832ab27",
       "version_major": 2,
       "version_minor": 0
      },
      "text/plain": [
       "  0%|          | 0/15 [00:00<?, ?it/s]"
      ]
     },
     "metadata": {},
     "output_type": "display_data"
    },
    {
     "name": "stdout",
     "output_type": "stream",
     "text": [
      "--- 0.9217066764831543 seconds ---\n",
      "MRR@100 = 0.0018\n",
      "use_cg, False, factors: 15, iterations: 15, alpha: 1, regularization: 0.001\n"
     ]
    },
    {
     "data": {
      "application/vnd.jupyter.widget-view+json": {
       "model_id": "6db1d9ece9984c26af2f6715a7bf7ff1",
       "version_major": 2,
       "version_minor": 0
      },
      "text/plain": [
       "  0%|          | 0/15 [00:00<?, ?it/s]"
      ]
     },
     "metadata": {},
     "output_type": "display_data"
    },
    {
     "name": "stdout",
     "output_type": "stream",
     "text": [
      "--- 1.0097856521606445 seconds ---\n",
      "MRR@100 = 0.0098\n",
      "use_cg, False, factors: 15, iterations: 15, alpha: 1, regularization: 0.01\n"
     ]
    },
    {
     "data": {
      "application/vnd.jupyter.widget-view+json": {
       "model_id": "fd02075f2c724b37b73ed70a3d09c0b7",
       "version_major": 2,
       "version_minor": 0
      },
      "text/plain": [
       "  0%|          | 0/15 [00:00<?, ?it/s]"
      ]
     },
     "metadata": {},
     "output_type": "display_data"
    },
    {
     "name": "stdout",
     "output_type": "stream",
     "text": [
      "--- 0.9738438129425049 seconds ---\n",
      "MRR@100 = 0.0098\n",
      "use_cg, False, factors: 15, iterations: 15, alpha: 1, regularization: 0.1\n"
     ]
    },
    {
     "data": {
      "application/vnd.jupyter.widget-view+json": {
       "model_id": "e4c23e93625f4f95805377350bae97a7",
       "version_major": 2,
       "version_minor": 0
      },
      "text/plain": [
       "  0%|          | 0/15 [00:00<?, ?it/s]"
      ]
     },
     "metadata": {},
     "output_type": "display_data"
    },
    {
     "name": "stdout",
     "output_type": "stream",
     "text": [
      "--- 0.9151849746704102 seconds ---\n",
      "MRR@100 = 0.0098\n",
      "use_cg, False, factors: 15, iterations: 15, alpha: 1, regularization: 1\n"
     ]
    },
    {
     "data": {
      "application/vnd.jupyter.widget-view+json": {
       "model_id": "b8a3d4b5202e4383b2e2132a405d7b92",
       "version_major": 2,
       "version_minor": 0
      },
      "text/plain": [
       "  0%|          | 0/15 [00:00<?, ?it/s]"
      ]
     },
     "metadata": {},
     "output_type": "display_data"
    },
    {
     "name": "stdout",
     "output_type": "stream",
     "text": [
      "--- 0.9383549690246582 seconds ---\n",
      "MRR@100 = 0.0098\n",
      "use_cg, False, factors: 15, iterations: 15, alpha: 1, regularization: 10\n"
     ]
    },
    {
     "data": {
      "application/vnd.jupyter.widget-view+json": {
       "model_id": "dea7451029e240bdbfdfc65be60bd45f",
       "version_major": 2,
       "version_minor": 0
      },
      "text/plain": [
       "  0%|          | 0/15 [00:00<?, ?it/s]"
      ]
     },
     "metadata": {},
     "output_type": "display_data"
    },
    {
     "name": "stdout",
     "output_type": "stream",
     "text": [
      "--- 0.9454047679901123 seconds ---\n",
      "MRR@100 = 0.0097\n",
      "use_cg, False, factors: 15, iterations: 15, alpha: 10, regularization: 0.001\n"
     ]
    },
    {
     "data": {
      "application/vnd.jupyter.widget-view+json": {
       "model_id": "7c0cea89d7ee4790bdb6aee7b7aff580",
       "version_major": 2,
       "version_minor": 0
      },
      "text/plain": [
       "  0%|          | 0/15 [00:00<?, ?it/s]"
      ]
     },
     "metadata": {},
     "output_type": "display_data"
    },
    {
     "name": "stdout",
     "output_type": "stream",
     "text": [
      "--- 1.020117998123169 seconds ---\n",
      "MRR@100 = 0.0119\n",
      "use_cg, False, factors: 15, iterations: 15, alpha: 10, regularization: 0.01\n"
     ]
    },
    {
     "data": {
      "application/vnd.jupyter.widget-view+json": {
       "model_id": "f8b7ea8f13664033a9a0a269f0ae3d93",
       "version_major": 2,
       "version_minor": 0
      },
      "text/plain": [
       "  0%|          | 0/15 [00:00<?, ?it/s]"
      ]
     },
     "metadata": {},
     "output_type": "display_data"
    },
    {
     "name": "stdout",
     "output_type": "stream",
     "text": [
      "--- 0.9316921234130859 seconds ---\n",
      "MRR@100 = 0.0119\n",
      "use_cg, False, factors: 15, iterations: 15, alpha: 10, regularization: 0.1\n"
     ]
    },
    {
     "data": {
      "application/vnd.jupyter.widget-view+json": {
       "model_id": "fdd8183a92084a3490fac0e203e938d5",
       "version_major": 2,
       "version_minor": 0
      },
      "text/plain": [
       "  0%|          | 0/15 [00:00<?, ?it/s]"
      ]
     },
     "metadata": {},
     "output_type": "display_data"
    },
    {
     "name": "stdout",
     "output_type": "stream",
     "text": [
      "--- 0.9275829792022705 seconds ---\n",
      "MRR@100 = 0.0119\n",
      "use_cg, False, factors: 15, iterations: 15, alpha: 10, regularization: 1\n"
     ]
    },
    {
     "data": {
      "application/vnd.jupyter.widget-view+json": {
       "model_id": "3d6500ed36414fe2bea5191d33a97a72",
       "version_major": 2,
       "version_minor": 0
      },
      "text/plain": [
       "  0%|          | 0/15 [00:00<?, ?it/s]"
      ]
     },
     "metadata": {},
     "output_type": "display_data"
    },
    {
     "name": "stdout",
     "output_type": "stream",
     "text": [
      "--- 0.9086709022521973 seconds ---\n",
      "MRR@100 = 0.0119\n",
      "use_cg, False, factors: 15, iterations: 15, alpha: 10, regularization: 10\n"
     ]
    },
    {
     "data": {
      "application/vnd.jupyter.widget-view+json": {
       "model_id": "5d1802f62e6e41579f4961fe020d2dfa",
       "version_major": 2,
       "version_minor": 0
      },
      "text/plain": [
       "  0%|          | 0/15 [00:00<?, ?it/s]"
      ]
     },
     "metadata": {},
     "output_type": "display_data"
    },
    {
     "name": "stdout",
     "output_type": "stream",
     "text": [
      "--- 0.9060239791870117 seconds ---\n",
      "MRR@100 = 0.0119\n",
      "use_cg, False, factors: 15, iterations: 15, alpha: 100, regularization: 0.001\n"
     ]
    },
    {
     "data": {
      "application/vnd.jupyter.widget-view+json": {
       "model_id": "561fdb3bf0b54199bc465727880e8270",
       "version_major": 2,
       "version_minor": 0
      },
      "text/plain": [
       "  0%|          | 0/15 [00:00<?, ?it/s]"
      ]
     },
     "metadata": {},
     "output_type": "display_data"
    },
    {
     "name": "stdout",
     "output_type": "stream",
     "text": [
      "--- 0.916118860244751 seconds ---\n",
      "MRR@100 = 0.0118\n",
      "use_cg, False, factors: 15, iterations: 15, alpha: 100, regularization: 0.01\n"
     ]
    },
    {
     "data": {
      "application/vnd.jupyter.widget-view+json": {
       "model_id": "7ed79fb018f24c7e818e1006d4a8411a",
       "version_major": 2,
       "version_minor": 0
      },
      "text/plain": [
       "  0%|          | 0/15 [00:00<?, ?it/s]"
      ]
     },
     "metadata": {},
     "output_type": "display_data"
    },
    {
     "name": "stdout",
     "output_type": "stream",
     "text": [
      "--- 0.9340400695800781 seconds ---\n",
      "MRR@100 = 0.0118\n",
      "use_cg, False, factors: 15, iterations: 15, alpha: 100, regularization: 0.1\n"
     ]
    },
    {
     "data": {
      "application/vnd.jupyter.widget-view+json": {
       "model_id": "e3d2b210b2124e79a7d31857435da769",
       "version_major": 2,
       "version_minor": 0
      },
      "text/plain": [
       "  0%|          | 0/15 [00:00<?, ?it/s]"
      ]
     },
     "metadata": {},
     "output_type": "display_data"
    },
    {
     "name": "stdout",
     "output_type": "stream",
     "text": [
      "--- 1.1345689296722412 seconds ---\n",
      "MRR@100 = 0.0118\n",
      "use_cg, False, factors: 15, iterations: 15, alpha: 100, regularization: 1\n"
     ]
    },
    {
     "data": {
      "application/vnd.jupyter.widget-view+json": {
       "model_id": "7de0ed45cb234712af33101d1b63271e",
       "version_major": 2,
       "version_minor": 0
      },
      "text/plain": [
       "  0%|          | 0/15 [00:00<?, ?it/s]"
      ]
     },
     "metadata": {},
     "output_type": "display_data"
    },
    {
     "name": "stdout",
     "output_type": "stream",
     "text": [
      "--- 1.161675214767456 seconds ---\n",
      "MRR@100 = 0.0118\n",
      "use_cg, False, factors: 15, iterations: 15, alpha: 100, regularization: 10\n"
     ]
    },
    {
     "data": {
      "application/vnd.jupyter.widget-view+json": {
       "model_id": "40da179c489c4ab4a564be3d3f0f071f",
       "version_major": 2,
       "version_minor": 0
      },
      "text/plain": [
       "  0%|          | 0/15 [00:00<?, ?it/s]"
      ]
     },
     "metadata": {},
     "output_type": "display_data"
    },
    {
     "name": "stdout",
     "output_type": "stream",
     "text": [
      "--- 0.9436838626861572 seconds ---\n",
      "MRR@100 = 0.0118\n",
      "use_cg, False, factors: 15, iterations: 30, alpha: 0.001, regularization: 0.001\n"
     ]
    },
    {
     "data": {
      "application/vnd.jupyter.widget-view+json": {
       "model_id": "8b0fd5737349400195a9f48b51a48b73",
       "version_major": 2,
       "version_minor": 0
      },
      "text/plain": [
       "  0%|          | 0/30 [00:00<?, ?it/s]"
      ]
     },
     "metadata": {},
     "output_type": "display_data"
    },
    {
     "name": "stdout",
     "output_type": "stream",
     "text": [
      "--- 0.9480082988739014 seconds ---\n",
      "MRR@100 = 0.0082\n",
      "use_cg, False, factors: 15, iterations: 30, alpha: 0.001, regularization: 0.01\n"
     ]
    },
    {
     "data": {
      "application/vnd.jupyter.widget-view+json": {
       "model_id": "b86bb496c17145c8b45ad049973022c1",
       "version_major": 2,
       "version_minor": 0
      },
      "text/plain": [
       "  0%|          | 0/30 [00:00<?, ?it/s]"
      ]
     },
     "metadata": {},
     "output_type": "display_data"
    },
    {
     "name": "stdout",
     "output_type": "stream",
     "text": [
      "--- 0.9181439876556396 seconds ---\n",
      "MRR@100 = 0.0091\n",
      "use_cg, False, factors: 15, iterations: 30, alpha: 0.001, regularization: 0.1\n"
     ]
    },
    {
     "data": {
      "application/vnd.jupyter.widget-view+json": {
       "model_id": "4b367235a0264c13acf9bd226cf2bb95",
       "version_major": 2,
       "version_minor": 0
      },
      "text/plain": [
       "  0%|          | 0/30 [00:00<?, ?it/s]"
      ]
     },
     "metadata": {},
     "output_type": "display_data"
    },
    {
     "name": "stdout",
     "output_type": "stream",
     "text": [
      "--- 0.9884822368621826 seconds ---\n",
      "MRR@100 = 0.0018\n",
      "use_cg, False, factors: 15, iterations: 30, alpha: 0.001, regularization: 1\n"
     ]
    },
    {
     "data": {
      "application/vnd.jupyter.widget-view+json": {
       "model_id": "7cdd0b0f299d401691af6712df774147",
       "version_major": 2,
       "version_minor": 0
      },
      "text/plain": [
       "  0%|          | 0/30 [00:00<?, ?it/s]"
      ]
     },
     "metadata": {},
     "output_type": "display_data"
    },
    {
     "name": "stdout",
     "output_type": "stream",
     "text": [
      "--- 0.9167983531951904 seconds ---\n",
      "MRR@100 = 0.0002\n",
      "use_cg, False, factors: 15, iterations: 30, alpha: 0.001, regularization: 10\n"
     ]
    },
    {
     "data": {
      "application/vnd.jupyter.widget-view+json": {
       "model_id": "7d8a49ca22ef4ef09104ba843e52bdb1",
       "version_major": 2,
       "version_minor": 0
      },
      "text/plain": [
       "  0%|          | 0/30 [00:00<?, ?it/s]"
      ]
     },
     "metadata": {},
     "output_type": "display_data"
    },
    {
     "name": "stdout",
     "output_type": "stream",
     "text": [
      "--- 1.116593837738037 seconds ---\n",
      "MRR@100 = 0.0005\n",
      "use_cg, False, factors: 15, iterations: 30, alpha: 0.01, regularization: 0.001\n"
     ]
    },
    {
     "data": {
      "application/vnd.jupyter.widget-view+json": {
       "model_id": "0cb900fbe66347aea6183b6f21a64d3a",
       "version_major": 2,
       "version_minor": 0
      },
      "text/plain": [
       "  0%|          | 0/30 [00:00<?, ?it/s]"
      ]
     },
     "metadata": {},
     "output_type": "display_data"
    },
    {
     "name": "stdout",
     "output_type": "stream",
     "text": [
      "--- 1.005784034729004 seconds ---\n",
      "MRR@100 = 0.0065\n",
      "use_cg, False, factors: 15, iterations: 30, alpha: 0.01, regularization: 0.01\n"
     ]
    },
    {
     "data": {
      "application/vnd.jupyter.widget-view+json": {
       "model_id": "fa4ec2a1d800440aa3ee7fd048fd937a",
       "version_major": 2,
       "version_minor": 0
      },
      "text/plain": [
       "  0%|          | 0/30 [00:00<?, ?it/s]"
      ]
     },
     "metadata": {},
     "output_type": "display_data"
    },
    {
     "name": "stdout",
     "output_type": "stream",
     "text": [
      "--- 0.9877262115478516 seconds ---\n",
      "MRR@100 = 0.0072\n",
      "use_cg, False, factors: 15, iterations: 30, alpha: 0.01, regularization: 0.1\n"
     ]
    },
    {
     "data": {
      "application/vnd.jupyter.widget-view+json": {
       "model_id": "9927951811c442c595b5f2c74e715313",
       "version_major": 2,
       "version_minor": 0
      },
      "text/plain": [
       "  0%|          | 0/30 [00:00<?, ?it/s]"
      ]
     },
     "metadata": {},
     "output_type": "display_data"
    },
    {
     "name": "stdout",
     "output_type": "stream",
     "text": [
      "--- 0.9564621448516846 seconds ---\n",
      "MRR@100 = 0.0082\n",
      "use_cg, False, factors: 15, iterations: 30, alpha: 0.01, regularization: 1\n"
     ]
    },
    {
     "data": {
      "application/vnd.jupyter.widget-view+json": {
       "model_id": "9b0ca36f865043e6b1d94593e7f2ff9e",
       "version_major": 2,
       "version_minor": 0
      },
      "text/plain": [
       "  0%|          | 0/30 [00:00<?, ?it/s]"
      ]
     },
     "metadata": {},
     "output_type": "display_data"
    },
    {
     "name": "stdout",
     "output_type": "stream",
     "text": [
      "--- 0.9450368881225586 seconds ---\n",
      "MRR@100 = 0.0018\n",
      "use_cg, False, factors: 15, iterations: 30, alpha: 0.01, regularization: 10\n"
     ]
    },
    {
     "data": {
      "application/vnd.jupyter.widget-view+json": {
       "model_id": "e272fab317574588ac5bbb03976e9ea7",
       "version_major": 2,
       "version_minor": 0
      },
      "text/plain": [
       "  0%|          | 0/30 [00:00<?, ?it/s]"
      ]
     },
     "metadata": {},
     "output_type": "display_data"
    },
    {
     "name": "stdout",
     "output_type": "stream",
     "text": [
      "--- 0.8951761722564697 seconds ---\n",
      "MRR@100 = 0.0004\n",
      "use_cg, False, factors: 15, iterations: 30, alpha: 0.1, regularization: 0.001\n"
     ]
    },
    {
     "data": {
      "application/vnd.jupyter.widget-view+json": {
       "model_id": "c6fff95ce6704b378892a18492367d41",
       "version_major": 2,
       "version_minor": 0
      },
      "text/plain": [
       "  0%|          | 0/30 [00:00<?, ?it/s]"
      ]
     },
     "metadata": {},
     "output_type": "display_data"
    },
    {
     "name": "stdout",
     "output_type": "stream",
     "text": [
      "--- 1.069580078125 seconds ---\n",
      "MRR@100 = 0.0072\n",
      "use_cg, False, factors: 15, iterations: 30, alpha: 0.1, regularization: 0.01\n"
     ]
    },
    {
     "data": {
      "application/vnd.jupyter.widget-view+json": {
       "model_id": "b031491b2fe446f9ac5c20c91d3c06d2",
       "version_major": 2,
       "version_minor": 0
      },
      "text/plain": [
       "  0%|          | 0/30 [00:00<?, ?it/s]"
      ]
     },
     "metadata": {},
     "output_type": "display_data"
    },
    {
     "name": "stdout",
     "output_type": "stream",
     "text": [
      "--- 0.9616148471832275 seconds ---\n",
      "MRR@100 = 0.0077\n",
      "use_cg, False, factors: 15, iterations: 30, alpha: 0.1, regularization: 0.1\n"
     ]
    },
    {
     "data": {
      "application/vnd.jupyter.widget-view+json": {
       "model_id": "3f7b42af19f349489e55b5d40df9882e",
       "version_major": 2,
       "version_minor": 0
      },
      "text/plain": [
       "  0%|          | 0/30 [00:00<?, ?it/s]"
      ]
     },
     "metadata": {},
     "output_type": "display_data"
    },
    {
     "name": "stdout",
     "output_type": "stream",
     "text": [
      "--- 0.9229879379272461 seconds ---\n",
      "MRR@100 = 0.0083\n",
      "use_cg, False, factors: 15, iterations: 30, alpha: 0.1, regularization: 1\n"
     ]
    },
    {
     "data": {
      "application/vnd.jupyter.widget-view+json": {
       "model_id": "fcf3005bd04e4d23b81d5097612f8d78",
       "version_major": 2,
       "version_minor": 0
      },
      "text/plain": [
       "  0%|          | 0/30 [00:00<?, ?it/s]"
      ]
     },
     "metadata": {},
     "output_type": "display_data"
    },
    {
     "name": "stdout",
     "output_type": "stream",
     "text": [
      "--- 0.9603450298309326 seconds ---\n",
      "MRR@100 = 0.0109\n",
      "use_cg, False, factors: 15, iterations: 30, alpha: 0.1, regularization: 10\n"
     ]
    },
    {
     "data": {
      "application/vnd.jupyter.widget-view+json": {
       "model_id": "3f0faa846cff4c579ec3c163cbc39b3c",
       "version_major": 2,
       "version_minor": 0
      },
      "text/plain": [
       "  0%|          | 0/30 [00:00<?, ?it/s]"
      ]
     },
     "metadata": {},
     "output_type": "display_data"
    },
    {
     "name": "stdout",
     "output_type": "stream",
     "text": [
      "--- 0.91752028465271 seconds ---\n",
      "MRR@100 = 0.0018\n",
      "use_cg, False, factors: 15, iterations: 30, alpha: 1, regularization: 0.001\n"
     ]
    },
    {
     "data": {
      "application/vnd.jupyter.widget-view+json": {
       "model_id": "262af6740ab14db79a9937c09c59e9e5",
       "version_major": 2,
       "version_minor": 0
      },
      "text/plain": [
       "  0%|          | 0/30 [00:00<?, ?it/s]"
      ]
     },
     "metadata": {},
     "output_type": "display_data"
    },
    {
     "name": "stdout",
     "output_type": "stream",
     "text": [
      "--- 0.9556229114532471 seconds ---\n",
      "MRR@100 = 0.0109\n",
      "use_cg, False, factors: 15, iterations: 30, alpha: 1, regularization: 0.01\n"
     ]
    },
    {
     "data": {
      "application/vnd.jupyter.widget-view+json": {
       "model_id": "79efdfb4ab8244cc808f4983e4e13c39",
       "version_major": 2,
       "version_minor": 0
      },
      "text/plain": [
       "  0%|          | 0/30 [00:00<?, ?it/s]"
      ]
     },
     "metadata": {},
     "output_type": "display_data"
    },
    {
     "name": "stdout",
     "output_type": "stream",
     "text": [
      "--- 1.0248658657073975 seconds ---\n",
      "MRR@100 = 0.0109\n",
      "use_cg, False, factors: 15, iterations: 30, alpha: 1, regularization: 0.1\n"
     ]
    },
    {
     "data": {
      "application/vnd.jupyter.widget-view+json": {
       "model_id": "fd6cd719460b4b549b5c806ce84b9b7e",
       "version_major": 2,
       "version_minor": 0
      },
      "text/plain": [
       "  0%|          | 0/30 [00:00<?, ?it/s]"
      ]
     },
     "metadata": {},
     "output_type": "display_data"
    },
    {
     "name": "stdout",
     "output_type": "stream",
     "text": [
      "--- 0.9462089538574219 seconds ---\n",
      "MRR@100 = 0.0109\n",
      "use_cg, False, factors: 15, iterations: 30, alpha: 1, regularization: 1\n"
     ]
    },
    {
     "data": {
      "application/vnd.jupyter.widget-view+json": {
       "model_id": "81f0380df4d743a2bda2c496ccad653a",
       "version_major": 2,
       "version_minor": 0
      },
      "text/plain": [
       "  0%|          | 0/30 [00:00<?, ?it/s]"
      ]
     },
     "metadata": {},
     "output_type": "display_data"
    },
    {
     "name": "stdout",
     "output_type": "stream",
     "text": [
      "--- 0.9686241149902344 seconds ---\n",
      "MRR@100 = 0.0109\n",
      "use_cg, False, factors: 15, iterations: 30, alpha: 1, regularization: 10\n"
     ]
    },
    {
     "data": {
      "application/vnd.jupyter.widget-view+json": {
       "model_id": "1f67d17766824bafb64ab428ab5bc2d5",
       "version_major": 2,
       "version_minor": 0
      },
      "text/plain": [
       "  0%|          | 0/30 [00:00<?, ?it/s]"
      ]
     },
     "metadata": {},
     "output_type": "display_data"
    },
    {
     "name": "stdout",
     "output_type": "stream",
     "text": [
      "--- 0.9715919494628906 seconds ---\n",
      "MRR@100 = 0.0107\n",
      "use_cg, False, factors: 15, iterations: 30, alpha: 10, regularization: 0.001\n"
     ]
    },
    {
     "data": {
      "application/vnd.jupyter.widget-view+json": {
       "model_id": "a6eeedbe22a24398801b2393387643dc",
       "version_major": 2,
       "version_minor": 0
      },
      "text/plain": [
       "  0%|          | 0/30 [00:00<?, ?it/s]"
      ]
     },
     "metadata": {},
     "output_type": "display_data"
    },
    {
     "name": "stdout",
     "output_type": "stream",
     "text": [
      "--- 0.9074611663818359 seconds ---\n",
      "MRR@100 = 0.0123\n",
      "use_cg, False, factors: 15, iterations: 30, alpha: 10, regularization: 0.01\n"
     ]
    },
    {
     "data": {
      "application/vnd.jupyter.widget-view+json": {
       "model_id": "29bd6bf26b164bbc83076043d2d4e41e",
       "version_major": 2,
       "version_minor": 0
      },
      "text/plain": [
       "  0%|          | 0/30 [00:00<?, ?it/s]"
      ]
     },
     "metadata": {},
     "output_type": "display_data"
    },
    {
     "name": "stdout",
     "output_type": "stream",
     "text": [
      "--- 0.9513938426971436 seconds ---\n",
      "MRR@100 = 0.0123\n",
      "use_cg, False, factors: 15, iterations: 30, alpha: 10, regularization: 0.1\n"
     ]
    },
    {
     "data": {
      "application/vnd.jupyter.widget-view+json": {
       "model_id": "c2f75141440b42a7b452f661646cadd0",
       "version_major": 2,
       "version_minor": 0
      },
      "text/plain": [
       "  0%|          | 0/30 [00:00<?, ?it/s]"
      ]
     },
     "metadata": {},
     "output_type": "display_data"
    },
    {
     "name": "stdout",
     "output_type": "stream",
     "text": [
      "--- 0.9394950866699219 seconds ---\n",
      "MRR@100 = 0.0123\n",
      "use_cg, False, factors: 15, iterations: 30, alpha: 10, regularization: 1\n"
     ]
    },
    {
     "data": {
      "application/vnd.jupyter.widget-view+json": {
       "model_id": "ef81c8fad7fd4b99955478d0d9beb127",
       "version_major": 2,
       "version_minor": 0
      },
      "text/plain": [
       "  0%|          | 0/30 [00:00<?, ?it/s]"
      ]
     },
     "metadata": {},
     "output_type": "display_data"
    },
    {
     "name": "stdout",
     "output_type": "stream",
     "text": [
      "--- 0.9331052303314209 seconds ---\n",
      "MRR@100 = 0.0123\n",
      "use_cg, False, factors: 15, iterations: 30, alpha: 10, regularization: 10\n"
     ]
    },
    {
     "data": {
      "application/vnd.jupyter.widget-view+json": {
       "model_id": "6a431cb1b8a2425780d59aef64a280fe",
       "version_major": 2,
       "version_minor": 0
      },
      "text/plain": [
       "  0%|          | 0/30 [00:00<?, ?it/s]"
      ]
     },
     "metadata": {},
     "output_type": "display_data"
    },
    {
     "name": "stdout",
     "output_type": "stream",
     "text": [
      "--- 0.9572927951812744 seconds ---\n",
      "MRR@100 = 0.0122\n",
      "use_cg, False, factors: 15, iterations: 30, alpha: 100, regularization: 0.001\n"
     ]
    },
    {
     "data": {
      "application/vnd.jupyter.widget-view+json": {
       "model_id": "a19e46dd4b78433da8dc192576a46341",
       "version_major": 2,
       "version_minor": 0
      },
      "text/plain": [
       "  0%|          | 0/30 [00:00<?, ?it/s]"
      ]
     },
     "metadata": {},
     "output_type": "display_data"
    },
    {
     "name": "stdout",
     "output_type": "stream",
     "text": [
      "--- 0.9768590927124023 seconds ---\n",
      "MRR@100 = 0.0117\n",
      "use_cg, False, factors: 15, iterations: 30, alpha: 100, regularization: 0.01\n"
     ]
    },
    {
     "data": {
      "application/vnd.jupyter.widget-view+json": {
       "model_id": "64aac7a0e69f43379f8efac647a0afdc",
       "version_major": 2,
       "version_minor": 0
      },
      "text/plain": [
       "  0%|          | 0/30 [00:00<?, ?it/s]"
      ]
     },
     "metadata": {},
     "output_type": "display_data"
    },
    {
     "name": "stdout",
     "output_type": "stream",
     "text": [
      "--- 0.9562628269195557 seconds ---\n",
      "MRR@100 = 0.0117\n",
      "use_cg, False, factors: 15, iterations: 30, alpha: 100, regularization: 0.1\n"
     ]
    },
    {
     "data": {
      "application/vnd.jupyter.widget-view+json": {
       "model_id": "9ebf4ffac95c428ba4e314f9e7ddd00d",
       "version_major": 2,
       "version_minor": 0
      },
      "text/plain": [
       "  0%|          | 0/30 [00:00<?, ?it/s]"
      ]
     },
     "metadata": {},
     "output_type": "display_data"
    },
    {
     "name": "stdout",
     "output_type": "stream",
     "text": [
      "--- 0.9581072330474854 seconds ---\n",
      "MRR@100 = 0.0116\n",
      "use_cg, False, factors: 15, iterations: 30, alpha: 100, regularization: 1\n"
     ]
    },
    {
     "data": {
      "application/vnd.jupyter.widget-view+json": {
       "model_id": "489e16edddfa4da4a30d8f323fbc8dc1",
       "version_major": 2,
       "version_minor": 0
      },
      "text/plain": [
       "  0%|          | 0/30 [00:00<?, ?it/s]"
      ]
     },
     "metadata": {},
     "output_type": "display_data"
    },
    {
     "name": "stdout",
     "output_type": "stream",
     "text": [
      "--- 0.9237320423126221 seconds ---\n",
      "MRR@100 = 0.0116\n",
      "use_cg, False, factors: 15, iterations: 30, alpha: 100, regularization: 10\n"
     ]
    },
    {
     "data": {
      "application/vnd.jupyter.widget-view+json": {
       "model_id": "1702c841122449c4ae3d400b08e8879e",
       "version_major": 2,
       "version_minor": 0
      },
      "text/plain": [
       "  0%|          | 0/30 [00:00<?, ?it/s]"
      ]
     },
     "metadata": {},
     "output_type": "display_data"
    },
    {
     "name": "stdout",
     "output_type": "stream",
     "text": [
      "--- 0.9257979393005371 seconds ---\n",
      "MRR@100 = 0.0116\n",
      "use_cg, False, factors: 15, iterations: 50, alpha: 0.001, regularization: 0.001\n"
     ]
    },
    {
     "data": {
      "application/vnd.jupyter.widget-view+json": {
       "model_id": "87852eb0b79746ff9a1bf5b408f5c17e",
       "version_major": 2,
       "version_minor": 0
      },
      "text/plain": [
       "  0%|          | 0/50 [00:00<?, ?it/s]"
      ]
     },
     "metadata": {},
     "output_type": "display_data"
    },
    {
     "name": "stdout",
     "output_type": "stream",
     "text": [
      "--- 0.9452381134033203 seconds ---\n",
      "MRR@100 = 0.0067\n",
      "use_cg, False, factors: 15, iterations: 50, alpha: 0.001, regularization: 0.01\n"
     ]
    },
    {
     "data": {
      "application/vnd.jupyter.widget-view+json": {
       "model_id": "0e2a64395735408bab2ca427d0b96790",
       "version_major": 2,
       "version_minor": 0
      },
      "text/plain": [
       "  0%|          | 0/50 [00:00<?, ?it/s]"
      ]
     },
     "metadata": {},
     "output_type": "display_data"
    },
    {
     "name": "stdout",
     "output_type": "stream",
     "text": [
      "--- 0.938101053237915 seconds ---\n",
      "MRR@100 = 0.0097\n",
      "use_cg, False, factors: 15, iterations: 50, alpha: 0.001, regularization: 0.1\n"
     ]
    },
    {
     "data": {
      "application/vnd.jupyter.widget-view+json": {
       "model_id": "ea0fccad2d154ef0b88a718ac31e6daa",
       "version_major": 2,
       "version_minor": 0
      },
      "text/plain": [
       "  0%|          | 0/50 [00:00<?, ?it/s]"
      ]
     },
     "metadata": {},
     "output_type": "display_data"
    },
    {
     "name": "stdout",
     "output_type": "stream",
     "text": [
      "--- 0.9503490924835205 seconds ---\n",
      "MRR@100 = 0.0017\n",
      "use_cg, False, factors: 15, iterations: 50, alpha: 0.001, regularization: 1\n"
     ]
    },
    {
     "data": {
      "application/vnd.jupyter.widget-view+json": {
       "model_id": "41564ca10b40416f919f50d4d90090cd",
       "version_major": 2,
       "version_minor": 0
      },
      "text/plain": [
       "  0%|          | 0/50 [00:00<?, ?it/s]"
      ]
     },
     "metadata": {},
     "output_type": "display_data"
    },
    {
     "name": "stdout",
     "output_type": "stream",
     "text": [
      "--- 0.9616520404815674 seconds ---\n",
      "MRR@100 = 0.0002\n",
      "use_cg, False, factors: 15, iterations: 50, alpha: 0.001, regularization: 10\n"
     ]
    },
    {
     "data": {
      "application/vnd.jupyter.widget-view+json": {
       "model_id": "141b7753d9614fbd9d2ed234b08efd98",
       "version_major": 2,
       "version_minor": 0
      },
      "text/plain": [
       "  0%|          | 0/50 [00:00<?, ?it/s]"
      ]
     },
     "metadata": {},
     "output_type": "display_data"
    },
    {
     "name": "stdout",
     "output_type": "stream",
     "text": [
      "--- 0.9981188774108887 seconds ---\n",
      "MRR@100 = 0.0005\n",
      "use_cg, False, factors: 15, iterations: 50, alpha: 0.01, regularization: 0.001\n"
     ]
    },
    {
     "data": {
      "application/vnd.jupyter.widget-view+json": {
       "model_id": "6a4a951101fe48078e5e269ed40a06c0",
       "version_major": 2,
       "version_minor": 0
      },
      "text/plain": [
       "  0%|          | 0/50 [00:00<?, ?it/s]"
      ]
     },
     "metadata": {},
     "output_type": "display_data"
    },
    {
     "name": "stdout",
     "output_type": "stream",
     "text": [
      "--- 0.9184370040893555 seconds ---\n",
      "MRR@100 = 0.0070\n",
      "use_cg, False, factors: 15, iterations: 50, alpha: 0.01, regularization: 0.01\n"
     ]
    },
    {
     "data": {
      "application/vnd.jupyter.widget-view+json": {
       "model_id": "7eaf91845ca1416ea4158a622226b4d6",
       "version_major": 2,
       "version_minor": 0
      },
      "text/plain": [
       "  0%|          | 0/50 [00:00<?, ?it/s]"
      ]
     },
     "metadata": {},
     "output_type": "display_data"
    },
    {
     "name": "stdout",
     "output_type": "stream",
     "text": [
      "--- 0.9725780487060547 seconds ---\n",
      "MRR@100 = 0.0081\n",
      "use_cg, False, factors: 15, iterations: 50, alpha: 0.01, regularization: 0.1\n"
     ]
    },
    {
     "data": {
      "application/vnd.jupyter.widget-view+json": {
       "model_id": "bd7fc369fc04408293601624ddf10f83",
       "version_major": 2,
       "version_minor": 0
      },
      "text/plain": [
       "  0%|          | 0/50 [00:00<?, ?it/s]"
      ]
     },
     "metadata": {},
     "output_type": "display_data"
    },
    {
     "name": "stdout",
     "output_type": "stream",
     "text": [
      "--- 0.9153218269348145 seconds ---\n",
      "MRR@100 = 0.0076\n",
      "use_cg, False, factors: 15, iterations: 50, alpha: 0.01, regularization: 1\n"
     ]
    },
    {
     "data": {
      "application/vnd.jupyter.widget-view+json": {
       "model_id": "9d1941cfa6df43f3809a771ce232816f",
       "version_major": 2,
       "version_minor": 0
      },
      "text/plain": [
       "  0%|          | 0/50 [00:00<?, ?it/s]"
      ]
     },
     "metadata": {},
     "output_type": "display_data"
    },
    {
     "name": "stdout",
     "output_type": "stream",
     "text": [
      "--- 0.9771320819854736 seconds ---\n",
      "MRR@100 = 0.0018\n",
      "use_cg, False, factors: 15, iterations: 50, alpha: 0.01, regularization: 10\n"
     ]
    },
    {
     "data": {
      "application/vnd.jupyter.widget-view+json": {
       "model_id": "0d9681b0c63b4567ad688e5e76068b23",
       "version_major": 2,
       "version_minor": 0
      },
      "text/plain": [
       "  0%|          | 0/50 [00:00<?, ?it/s]"
      ]
     },
     "metadata": {},
     "output_type": "display_data"
    },
    {
     "name": "stdout",
     "output_type": "stream",
     "text": [
      "--- 0.9286289215087891 seconds ---\n",
      "MRR@100 = 0.0004\n",
      "use_cg, False, factors: 15, iterations: 50, alpha: 0.1, regularization: 0.001\n"
     ]
    },
    {
     "data": {
      "application/vnd.jupyter.widget-view+json": {
       "model_id": "b1e5bae6c5804818a7ee065613359151",
       "version_major": 2,
       "version_minor": 0
      },
      "text/plain": [
       "  0%|          | 0/50 [00:00<?, ?it/s]"
      ]
     },
     "metadata": {},
     "output_type": "display_data"
    },
    {
     "name": "stdout",
     "output_type": "stream",
     "text": [
      "--- 0.9810941219329834 seconds ---\n",
      "MRR@100 = 0.0100\n",
      "use_cg, False, factors: 15, iterations: 50, alpha: 0.1, regularization: 0.01\n"
     ]
    },
    {
     "data": {
      "application/vnd.jupyter.widget-view+json": {
       "model_id": "57fffb4718fc474ca0a690a9a47c46d4",
       "version_major": 2,
       "version_minor": 0
      },
      "text/plain": [
       "  0%|          | 0/50 [00:00<?, ?it/s]"
      ]
     },
     "metadata": {},
     "output_type": "display_data"
    },
    {
     "name": "stdout",
     "output_type": "stream",
     "text": [
      "--- 1.07216215133667 seconds ---\n",
      "MRR@100 = 0.0095\n",
      "use_cg, False, factors: 15, iterations: 50, alpha: 0.1, regularization: 0.1\n"
     ]
    },
    {
     "data": {
      "application/vnd.jupyter.widget-view+json": {
       "model_id": "475307aab84d45b4b4114b93c248dc9f",
       "version_major": 2,
       "version_minor": 0
      },
      "text/plain": [
       "  0%|          | 0/50 [00:00<?, ?it/s]"
      ]
     },
     "metadata": {},
     "output_type": "display_data"
    },
    {
     "name": "stdout",
     "output_type": "stream",
     "text": [
      "--- 0.9816579818725586 seconds ---\n",
      "MRR@100 = 0.0101\n",
      "use_cg, False, factors: 15, iterations: 50, alpha: 0.1, regularization: 1\n"
     ]
    },
    {
     "data": {
      "application/vnd.jupyter.widget-view+json": {
       "model_id": "1084a8a8ae27451da081143e9445777c",
       "version_major": 2,
       "version_minor": 0
      },
      "text/plain": [
       "  0%|          | 0/50 [00:00<?, ?it/s]"
      ]
     },
     "metadata": {},
     "output_type": "display_data"
    },
    {
     "name": "stdout",
     "output_type": "stream",
     "text": [
      "--- 0.9743978977203369 seconds ---\n",
      "MRR@100 = 0.0110\n",
      "use_cg, False, factors: 15, iterations: 50, alpha: 0.1, regularization: 10\n"
     ]
    },
    {
     "data": {
      "application/vnd.jupyter.widget-view+json": {
       "model_id": "5ca9b30c19a64ab3aa78cad598c5bca2",
       "version_major": 2,
       "version_minor": 0
      },
      "text/plain": [
       "  0%|          | 0/50 [00:00<?, ?it/s]"
      ]
     },
     "metadata": {},
     "output_type": "display_data"
    },
    {
     "name": "stdout",
     "output_type": "stream",
     "text": [
      "--- 1.1993741989135742 seconds ---\n",
      "MRR@100 = 0.0018\n",
      "use_cg, False, factors: 15, iterations: 50, alpha: 1, regularization: 0.001\n"
     ]
    },
    {
     "data": {
      "application/vnd.jupyter.widget-view+json": {
       "model_id": "7ae6964d5ff64ebc9cbeb40ac44782d7",
       "version_major": 2,
       "version_minor": 0
      },
      "text/plain": [
       "  0%|          | 0/50 [00:00<?, ?it/s]"
      ]
     },
     "metadata": {},
     "output_type": "display_data"
    },
    {
     "name": "stdout",
     "output_type": "stream",
     "text": [
      "--- 0.9029009342193604 seconds ---\n",
      "MRR@100 = 0.0103\n",
      "use_cg, False, factors: 15, iterations: 50, alpha: 1, regularization: 0.01\n"
     ]
    },
    {
     "data": {
      "application/vnd.jupyter.widget-view+json": {
       "model_id": "32d0234aa19d4b44bb283c3cdcedf978",
       "version_major": 2,
       "version_minor": 0
      },
      "text/plain": [
       "  0%|          | 0/50 [00:00<?, ?it/s]"
      ]
     },
     "metadata": {},
     "output_type": "display_data"
    },
    {
     "name": "stdout",
     "output_type": "stream",
     "text": [
      "--- 1.045456886291504 seconds ---\n",
      "MRR@100 = 0.0104\n",
      "use_cg, False, factors: 15, iterations: 50, alpha: 1, regularization: 0.1\n"
     ]
    },
    {
     "data": {
      "application/vnd.jupyter.widget-view+json": {
       "model_id": "d0a577e901eb4aa5b94981b7042eda08",
       "version_major": 2,
       "version_minor": 0
      },
      "text/plain": [
       "  0%|          | 0/50 [00:00<?, ?it/s]"
      ]
     },
     "metadata": {},
     "output_type": "display_data"
    },
    {
     "name": "stdout",
     "output_type": "stream",
     "text": [
      "--- 0.9809658527374268 seconds ---\n",
      "MRR@100 = 0.0104\n",
      "use_cg, False, factors: 15, iterations: 50, alpha: 1, regularization: 1\n"
     ]
    },
    {
     "data": {
      "application/vnd.jupyter.widget-view+json": {
       "model_id": "87edfd9a067f4a589a99bc23c87356ea",
       "version_major": 2,
       "version_minor": 0
      },
      "text/plain": [
       "  0%|          | 0/50 [00:00<?, ?it/s]"
      ]
     },
     "metadata": {},
     "output_type": "display_data"
    },
    {
     "name": "stdout",
     "output_type": "stream",
     "text": [
      "--- 0.9737420082092285 seconds ---\n",
      "MRR@100 = 0.0104\n",
      "use_cg, False, factors: 15, iterations: 50, alpha: 1, regularization: 10\n"
     ]
    },
    {
     "data": {
      "application/vnd.jupyter.widget-view+json": {
       "model_id": "907dff2ca06e48e698540db332680bd8",
       "version_major": 2,
       "version_minor": 0
      },
      "text/plain": [
       "  0%|          | 0/50 [00:00<?, ?it/s]"
      ]
     },
     "metadata": {},
     "output_type": "display_data"
    },
    {
     "name": "stdout",
     "output_type": "stream",
     "text": [
      "--- 1.065960168838501 seconds ---\n",
      "MRR@100 = 0.0102\n",
      "use_cg, False, factors: 15, iterations: 50, alpha: 10, regularization: 0.001\n"
     ]
    },
    {
     "data": {
      "application/vnd.jupyter.widget-view+json": {
       "model_id": "938fd13bb3b04199bfe94f5e42d718f8",
       "version_major": 2,
       "version_minor": 0
      },
      "text/plain": [
       "  0%|          | 0/50 [00:00<?, ?it/s]"
      ]
     },
     "metadata": {},
     "output_type": "display_data"
    },
    {
     "name": "stdout",
     "output_type": "stream",
     "text": [
      "--- 0.9349539279937744 seconds ---\n",
      "MRR@100 = 0.0127\n",
      "use_cg, False, factors: 15, iterations: 50, alpha: 10, regularization: 0.01\n"
     ]
    },
    {
     "data": {
      "application/vnd.jupyter.widget-view+json": {
       "model_id": "b0575b2f43dd4d74bc09abb9d9a3eea8",
       "version_major": 2,
       "version_minor": 0
      },
      "text/plain": [
       "  0%|          | 0/50 [00:00<?, ?it/s]"
      ]
     },
     "metadata": {},
     "output_type": "display_data"
    },
    {
     "name": "stdout",
     "output_type": "stream",
     "text": [
      "--- 1.0082991123199463 seconds ---\n",
      "MRR@100 = 0.0127\n",
      "use_cg, False, factors: 15, iterations: 50, alpha: 10, regularization: 0.1\n"
     ]
    },
    {
     "data": {
      "application/vnd.jupyter.widget-view+json": {
       "model_id": "1765b882141e4cfda08c52e215144957",
       "version_major": 2,
       "version_minor": 0
      },
      "text/plain": [
       "  0%|          | 0/50 [00:00<?, ?it/s]"
      ]
     },
     "metadata": {},
     "output_type": "display_data"
    },
    {
     "name": "stdout",
     "output_type": "stream",
     "text": [
      "--- 0.9327449798583984 seconds ---\n",
      "MRR@100 = 0.0127\n",
      "use_cg, False, factors: 15, iterations: 50, alpha: 10, regularization: 1\n"
     ]
    },
    {
     "data": {
      "application/vnd.jupyter.widget-view+json": {
       "model_id": "a029c75a798b445c95835ec1f482e426",
       "version_major": 2,
       "version_minor": 0
      },
      "text/plain": [
       "  0%|          | 0/50 [00:00<?, ?it/s]"
      ]
     },
     "metadata": {},
     "output_type": "display_data"
    },
    {
     "name": "stdout",
     "output_type": "stream",
     "text": [
      "--- 0.9190418720245361 seconds ---\n",
      "MRR@100 = 0.0127\n",
      "use_cg, False, factors: 15, iterations: 50, alpha: 10, regularization: 10\n"
     ]
    },
    {
     "data": {
      "application/vnd.jupyter.widget-view+json": {
       "model_id": "8e3d68c2b3e048a7a92c23827faa53ad",
       "version_major": 2,
       "version_minor": 0
      },
      "text/plain": [
       "  0%|          | 0/50 [00:00<?, ?it/s]"
      ]
     },
     "metadata": {},
     "output_type": "display_data"
    },
    {
     "name": "stdout",
     "output_type": "stream",
     "text": [
      "--- 0.9831211566925049 seconds ---\n",
      "MRR@100 = 0.0128\n",
      "use_cg, False, factors: 15, iterations: 50, alpha: 100, regularization: 0.001\n"
     ]
    },
    {
     "data": {
      "application/vnd.jupyter.widget-view+json": {
       "model_id": "eb51fc2ef6b246a3b10d6a1e26e1549a",
       "version_major": 2,
       "version_minor": 0
      },
      "text/plain": [
       "  0%|          | 0/50 [00:00<?, ?it/s]"
      ]
     },
     "metadata": {},
     "output_type": "display_data"
    },
    {
     "name": "stdout",
     "output_type": "stream",
     "text": [
      "--- 0.9399709701538086 seconds ---\n",
      "MRR@100 = 0.0121\n",
      "use_cg, False, factors: 15, iterations: 50, alpha: 100, regularization: 0.01\n"
     ]
    },
    {
     "data": {
      "application/vnd.jupyter.widget-view+json": {
       "model_id": "8556be75006e4234adcca3e8872a3675",
       "version_major": 2,
       "version_minor": 0
      },
      "text/plain": [
       "  0%|          | 0/50 [00:00<?, ?it/s]"
      ]
     },
     "metadata": {},
     "output_type": "display_data"
    },
    {
     "name": "stdout",
     "output_type": "stream",
     "text": [
      "--- 0.9548990726470947 seconds ---\n",
      "MRR@100 = 0.0121\n",
      "use_cg, False, factors: 15, iterations: 50, alpha: 100, regularization: 0.1\n"
     ]
    },
    {
     "data": {
      "application/vnd.jupyter.widget-view+json": {
       "model_id": "883da20d65ce41bdacaeaba03ada48cd",
       "version_major": 2,
       "version_minor": 0
      },
      "text/plain": [
       "  0%|          | 0/50 [00:00<?, ?it/s]"
      ]
     },
     "metadata": {},
     "output_type": "display_data"
    },
    {
     "name": "stdout",
     "output_type": "stream",
     "text": [
      "--- 1.0893259048461914 seconds ---\n",
      "MRR@100 = 0.0121\n",
      "use_cg, False, factors: 15, iterations: 50, alpha: 100, regularization: 1\n"
     ]
    },
    {
     "data": {
      "application/vnd.jupyter.widget-view+json": {
       "model_id": "afec826cc4654927b90d2e03ddb82421",
       "version_major": 2,
       "version_minor": 0
      },
      "text/plain": [
       "  0%|          | 0/50 [00:00<?, ?it/s]"
      ]
     },
     "metadata": {},
     "output_type": "display_data"
    },
    {
     "name": "stdout",
     "output_type": "stream",
     "text": [
      "--- 0.9396867752075195 seconds ---\n",
      "MRR@100 = 0.0121\n",
      "use_cg, False, factors: 15, iterations: 50, alpha: 100, regularization: 10\n"
     ]
    },
    {
     "data": {
      "application/vnd.jupyter.widget-view+json": {
       "model_id": "4980e6a30c374752b34d0e497c585472",
       "version_major": 2,
       "version_minor": 0
      },
      "text/plain": [
       "  0%|          | 0/50 [00:00<?, ?it/s]"
      ]
     },
     "metadata": {},
     "output_type": "display_data"
    },
    {
     "name": "stdout",
     "output_type": "stream",
     "text": [
      "--- 0.9342150688171387 seconds ---\n",
      "MRR@100 = 0.0119\n",
      "use_cg, False, factors: 15, iterations: 100, alpha: 0.001, regularization: 0.001\n"
     ]
    },
    {
     "data": {
      "application/vnd.jupyter.widget-view+json": {
       "model_id": "7d05c5c006364f85a33db352be91ee5b",
       "version_major": 2,
       "version_minor": 0
      },
      "text/plain": [
       "  0%|          | 0/100 [00:00<?, ?it/s]"
      ]
     },
     "metadata": {},
     "output_type": "display_data"
    },
    {
     "name": "stdout",
     "output_type": "stream",
     "text": [
      "--- 0.990527868270874 seconds ---\n",
      "MRR@100 = 0.0055\n",
      "use_cg, False, factors: 15, iterations: 100, alpha: 0.001, regularization: 0.01\n"
     ]
    },
    {
     "data": {
      "application/vnd.jupyter.widget-view+json": {
       "model_id": "b847df2ddbb74b8997ab5733bc85aa77",
       "version_major": 2,
       "version_minor": 0
      },
      "text/plain": [
       "  0%|          | 0/100 [00:00<?, ?it/s]"
      ]
     },
     "metadata": {},
     "output_type": "display_data"
    },
    {
     "name": "stdout",
     "output_type": "stream",
     "text": [
      "--- 0.9793620109558105 seconds ---\n",
      "MRR@100 = 0.0090\n",
      "use_cg, False, factors: 15, iterations: 100, alpha: 0.001, regularization: 0.1\n"
     ]
    },
    {
     "data": {
      "application/vnd.jupyter.widget-view+json": {
       "model_id": "073eaf52128d4d1184a27b873b197408",
       "version_major": 2,
       "version_minor": 0
      },
      "text/plain": [
       "  0%|          | 0/100 [00:00<?, ?it/s]"
      ]
     },
     "metadata": {},
     "output_type": "display_data"
    },
    {
     "name": "stdout",
     "output_type": "stream",
     "text": [
      "--- 0.9205739498138428 seconds ---\n",
      "MRR@100 = 0.0018\n",
      "use_cg, False, factors: 15, iterations: 100, alpha: 0.001, regularization: 1\n"
     ]
    },
    {
     "data": {
      "application/vnd.jupyter.widget-view+json": {
       "model_id": "2b24b111af914833ad18fb3535c1905e",
       "version_major": 2,
       "version_minor": 0
      },
      "text/plain": [
       "  0%|          | 0/100 [00:00<?, ?it/s]"
      ]
     },
     "metadata": {},
     "output_type": "display_data"
    },
    {
     "name": "stdout",
     "output_type": "stream",
     "text": [
      "--- 0.984644889831543 seconds ---\n",
      "MRR@100 = 0.0002\n",
      "use_cg, False, factors: 15, iterations: 100, alpha: 0.001, regularization: 10\n"
     ]
    },
    {
     "data": {
      "application/vnd.jupyter.widget-view+json": {
       "model_id": "01a25c7aab594347bc1da3ec9f72f31a",
       "version_major": 2,
       "version_minor": 0
      },
      "text/plain": [
       "  0%|          | 0/100 [00:00<?, ?it/s]"
      ]
     },
     "metadata": {},
     "output_type": "display_data"
    },
    {
     "name": "stdout",
     "output_type": "stream",
     "text": [
      "--- 0.9592938423156738 seconds ---\n",
      "MRR@100 = 0.0005\n",
      "use_cg, False, factors: 15, iterations: 100, alpha: 0.01, regularization: 0.001\n"
     ]
    },
    {
     "data": {
      "application/vnd.jupyter.widget-view+json": {
       "model_id": "594d41becba149909490ba6f2c66c7d8",
       "version_major": 2,
       "version_minor": 0
      },
      "text/plain": [
       "  0%|          | 0/100 [00:00<?, ?it/s]"
      ]
     },
     "metadata": {},
     "output_type": "display_data"
    },
    {
     "name": "stdout",
     "output_type": "stream",
     "text": [
      "--- 0.9292862415313721 seconds ---\n",
      "MRR@100 = 0.0080\n",
      "use_cg, False, factors: 15, iterations: 100, alpha: 0.01, regularization: 0.01\n"
     ]
    },
    {
     "data": {
      "application/vnd.jupyter.widget-view+json": {
       "model_id": "cc9f9ed37dc240098b7a795278678abd",
       "version_major": 2,
       "version_minor": 0
      },
      "text/plain": [
       "  0%|          | 0/100 [00:00<?, ?it/s]"
      ]
     },
     "metadata": {},
     "output_type": "display_data"
    },
    {
     "name": "stdout",
     "output_type": "stream",
     "text": [
      "--- 0.957758903503418 seconds ---\n",
      "MRR@100 = 0.0096\n",
      "use_cg, False, factors: 15, iterations: 100, alpha: 0.01, regularization: 0.1\n"
     ]
    },
    {
     "data": {
      "application/vnd.jupyter.widget-view+json": {
       "model_id": "8269c1a0365849cf83015ae1b754c43f",
       "version_major": 2,
       "version_minor": 0
      },
      "text/plain": [
       "  0%|          | 0/100 [00:00<?, ?it/s]"
      ]
     },
     "metadata": {},
     "output_type": "display_data"
    },
    {
     "name": "stdout",
     "output_type": "stream",
     "text": [
      "--- 0.9662010669708252 seconds ---\n",
      "MRR@100 = 0.0096\n",
      "use_cg, False, factors: 15, iterations: 100, alpha: 0.01, regularization: 1\n"
     ]
    },
    {
     "data": {
      "application/vnd.jupyter.widget-view+json": {
       "model_id": "096295d5053645d0b7293e297491a19d",
       "version_major": 2,
       "version_minor": 0
      },
      "text/plain": [
       "  0%|          | 0/100 [00:00<?, ?it/s]"
      ]
     },
     "metadata": {},
     "output_type": "display_data"
    },
    {
     "name": "stdout",
     "output_type": "stream",
     "text": [
      "--- 0.930927038192749 seconds ---\n",
      "MRR@100 = 0.0018\n",
      "use_cg, False, factors: 15, iterations: 100, alpha: 0.01, regularization: 10\n"
     ]
    },
    {
     "data": {
      "application/vnd.jupyter.widget-view+json": {
       "model_id": "1f725182f89b4274a6e60cb4509b1c91",
       "version_major": 2,
       "version_minor": 0
      },
      "text/plain": [
       "  0%|          | 0/100 [00:00<?, ?it/s]"
      ]
     },
     "metadata": {},
     "output_type": "display_data"
    },
    {
     "name": "stdout",
     "output_type": "stream",
     "text": [
      "--- 0.9210009574890137 seconds ---\n",
      "MRR@100 = 0.0004\n",
      "use_cg, False, factors: 15, iterations: 100, alpha: 0.1, regularization: 0.001\n"
     ]
    },
    {
     "data": {
      "application/vnd.jupyter.widget-view+json": {
       "model_id": "ca1960a732564b628a2be701c0d4ad9c",
       "version_major": 2,
       "version_minor": 0
      },
      "text/plain": [
       "  0%|          | 0/100 [00:00<?, ?it/s]"
      ]
     },
     "metadata": {},
     "output_type": "display_data"
    },
    {
     "name": "stdout",
     "output_type": "stream",
     "text": [
      "--- 0.9873809814453125 seconds ---\n",
      "MRR@100 = 0.0074\n",
      "use_cg, False, factors: 15, iterations: 100, alpha: 0.1, regularization: 0.01\n"
     ]
    },
    {
     "data": {
      "application/vnd.jupyter.widget-view+json": {
       "model_id": "689635257c2b4121b50a244ad20a0ac2",
       "version_major": 2,
       "version_minor": 0
      },
      "text/plain": [
       "  0%|          | 0/100 [00:00<?, ?it/s]"
      ]
     },
     "metadata": {},
     "output_type": "display_data"
    },
    {
     "name": "stdout",
     "output_type": "stream",
     "text": [
      "--- 0.9887831211090088 seconds ---\n",
      "MRR@100 = 0.0074\n",
      "use_cg, False, factors: 15, iterations: 100, alpha: 0.1, regularization: 0.1\n"
     ]
    },
    {
     "data": {
      "application/vnd.jupyter.widget-view+json": {
       "model_id": "f862df6af5dd430395528a2ab73d1620",
       "version_major": 2,
       "version_minor": 0
      },
      "text/plain": [
       "  0%|          | 0/100 [00:00<?, ?it/s]"
      ]
     },
     "metadata": {},
     "output_type": "display_data"
    },
    {
     "name": "stdout",
     "output_type": "stream",
     "text": [
      "--- 1.0740301609039307 seconds ---\n",
      "MRR@100 = 0.0075\n",
      "use_cg, False, factors: 15, iterations: 100, alpha: 0.1, regularization: 1\n"
     ]
    },
    {
     "data": {
      "application/vnd.jupyter.widget-view+json": {
       "model_id": "57db56819e7743aeba0c3b291718547e",
       "version_major": 2,
       "version_minor": 0
      },
      "text/plain": [
       "  0%|          | 0/100 [00:00<?, ?it/s]"
      ]
     },
     "metadata": {},
     "output_type": "display_data"
    },
    {
     "name": "stdout",
     "output_type": "stream",
     "text": [
      "--- 0.9996218681335449 seconds ---\n",
      "MRR@100 = 0.0112\n",
      "use_cg, False, factors: 15, iterations: 100, alpha: 0.1, regularization: 10\n"
     ]
    },
    {
     "data": {
      "application/vnd.jupyter.widget-view+json": {
       "model_id": "824e6a43246d4e4b8d2cc7a86427e3e2",
       "version_major": 2,
       "version_minor": 0
      },
      "text/plain": [
       "  0%|          | 0/100 [00:00<?, ?it/s]"
      ]
     },
     "metadata": {},
     "output_type": "display_data"
    },
    {
     "name": "stdout",
     "output_type": "stream",
     "text": [
      "--- 0.9236090183258057 seconds ---\n",
      "MRR@100 = 0.0017\n",
      "use_cg, False, factors: 15, iterations: 100, alpha: 1, regularization: 0.001\n"
     ]
    },
    {
     "data": {
      "application/vnd.jupyter.widget-view+json": {
       "model_id": "6cd9b02769484b89a8ad4fdb86a650f0",
       "version_major": 2,
       "version_minor": 0
      },
      "text/plain": [
       "  0%|          | 0/100 [00:00<?, ?it/s]"
      ]
     },
     "metadata": {},
     "output_type": "display_data"
    },
    {
     "name": "stdout",
     "output_type": "stream",
     "text": [
      "--- 1.0164721012115479 seconds ---\n",
      "MRR@100 = 0.0105\n",
      "use_cg, False, factors: 15, iterations: 100, alpha: 1, regularization: 0.01\n"
     ]
    },
    {
     "data": {
      "application/vnd.jupyter.widget-view+json": {
       "model_id": "8ccdf15b255145a1a76273363c83061f",
       "version_major": 2,
       "version_minor": 0
      },
      "text/plain": [
       "  0%|          | 0/100 [00:00<?, ?it/s]"
      ]
     },
     "metadata": {},
     "output_type": "display_data"
    },
    {
     "name": "stdout",
     "output_type": "stream",
     "text": [
      "--- 0.9131817817687988 seconds ---\n",
      "MRR@100 = 0.0105\n",
      "use_cg, False, factors: 15, iterations: 100, alpha: 1, regularization: 0.1\n"
     ]
    },
    {
     "data": {
      "application/vnd.jupyter.widget-view+json": {
       "model_id": "f537702a014743a2ae29289a4897cbdf",
       "version_major": 2,
       "version_minor": 0
      },
      "text/plain": [
       "  0%|          | 0/100 [00:00<?, ?it/s]"
      ]
     },
     "metadata": {},
     "output_type": "display_data"
    },
    {
     "name": "stdout",
     "output_type": "stream",
     "text": [
      "--- 0.9413390159606934 seconds ---\n",
      "MRR@100 = 0.0105\n",
      "use_cg, False, factors: 15, iterations: 100, alpha: 1, regularization: 1\n"
     ]
    },
    {
     "data": {
      "application/vnd.jupyter.widget-view+json": {
       "model_id": "0d2726d891404e97885c57fe56a1a1bd",
       "version_major": 2,
       "version_minor": 0
      },
      "text/plain": [
       "  0%|          | 0/100 [00:00<?, ?it/s]"
      ]
     },
     "metadata": {},
     "output_type": "display_data"
    },
    {
     "name": "stdout",
     "output_type": "stream",
     "text": [
      "--- 1.023848056793213 seconds ---\n",
      "MRR@100 = 0.0105\n",
      "use_cg, False, factors: 15, iterations: 100, alpha: 1, regularization: 10\n"
     ]
    },
    {
     "data": {
      "application/vnd.jupyter.widget-view+json": {
       "model_id": "97760f8631ae48ac802617ded2bf64fa",
       "version_major": 2,
       "version_minor": 0
      },
      "text/plain": [
       "  0%|          | 0/100 [00:00<?, ?it/s]"
      ]
     },
     "metadata": {},
     "output_type": "display_data"
    },
    {
     "name": "stdout",
     "output_type": "stream",
     "text": [
      "--- 0.9450080394744873 seconds ---\n",
      "MRR@100 = 0.0105\n",
      "use_cg, False, factors: 15, iterations: 100, alpha: 10, regularization: 0.001\n"
     ]
    },
    {
     "data": {
      "application/vnd.jupyter.widget-view+json": {
       "model_id": "a9e77fd4502342118dc657c6fbf6ad79",
       "version_major": 2,
       "version_minor": 0
      },
      "text/plain": [
       "  0%|          | 0/100 [00:00<?, ?it/s]"
      ]
     },
     "metadata": {},
     "output_type": "display_data"
    },
    {
     "name": "stdout",
     "output_type": "stream",
     "text": [
      "--- 0.9672341346740723 seconds ---\n",
      "MRR@100 = 0.0129\n",
      "use_cg, False, factors: 15, iterations: 100, alpha: 10, regularization: 0.01\n"
     ]
    },
    {
     "data": {
      "application/vnd.jupyter.widget-view+json": {
       "model_id": "37946773ef8e4ee4b6dd336f4b57ac76",
       "version_major": 2,
       "version_minor": 0
      },
      "text/plain": [
       "  0%|          | 0/100 [00:00<?, ?it/s]"
      ]
     },
     "metadata": {},
     "output_type": "display_data"
    },
    {
     "name": "stdout",
     "output_type": "stream",
     "text": [
      "--- 0.893486738204956 seconds ---\n",
      "MRR@100 = 0.0129\n",
      "use_cg, False, factors: 15, iterations: 100, alpha: 10, regularization: 0.1\n"
     ]
    },
    {
     "data": {
      "application/vnd.jupyter.widget-view+json": {
       "model_id": "0f34d8027e824b0b99f152951090f9a1",
       "version_major": 2,
       "version_minor": 0
      },
      "text/plain": [
       "  0%|          | 0/100 [00:00<?, ?it/s]"
      ]
     },
     "metadata": {},
     "output_type": "display_data"
    },
    {
     "name": "stdout",
     "output_type": "stream",
     "text": [
      "--- 0.9745237827301025 seconds ---\n",
      "MRR@100 = 0.0129\n",
      "use_cg, False, factors: 15, iterations: 100, alpha: 10, regularization: 1\n"
     ]
    },
    {
     "data": {
      "application/vnd.jupyter.widget-view+json": {
       "model_id": "28d36a4941d04b46b2e74f579026e981",
       "version_major": 2,
       "version_minor": 0
      },
      "text/plain": [
       "  0%|          | 0/100 [00:00<?, ?it/s]"
      ]
     },
     "metadata": {},
     "output_type": "display_data"
    },
    {
     "name": "stdout",
     "output_type": "stream",
     "text": [
      "--- 0.9951512813568115 seconds ---\n",
      "MRR@100 = 0.0134\n",
      "use_cg, False, factors: 15, iterations: 100, alpha: 10, regularization: 10\n"
     ]
    },
    {
     "data": {
      "application/vnd.jupyter.widget-view+json": {
       "model_id": "2d42fcbdcd1f4743898bfa4411316577",
       "version_major": 2,
       "version_minor": 0
      },
      "text/plain": [
       "  0%|          | 0/100 [00:00<?, ?it/s]"
      ]
     },
     "metadata": {},
     "output_type": "display_data"
    },
    {
     "name": "stdout",
     "output_type": "stream",
     "text": [
      "--- 0.9332301616668701 seconds ---\n",
      "MRR@100 = 0.0134\n",
      "use_cg, False, factors: 15, iterations: 100, alpha: 100, regularization: 0.001\n"
     ]
    },
    {
     "data": {
      "application/vnd.jupyter.widget-view+json": {
       "model_id": "f22f5098634741a184dc91e42cb8519c",
       "version_major": 2,
       "version_minor": 0
      },
      "text/plain": [
       "  0%|          | 0/100 [00:00<?, ?it/s]"
      ]
     },
     "metadata": {},
     "output_type": "display_data"
    },
    {
     "name": "stdout",
     "output_type": "stream",
     "text": [
      "--- 0.9300270080566406 seconds ---\n",
      "MRR@100 = 0.0108\n",
      "use_cg, False, factors: 15, iterations: 100, alpha: 100, regularization: 0.01\n"
     ]
    },
    {
     "data": {
      "application/vnd.jupyter.widget-view+json": {
       "model_id": "a2e3c92cd8e64945a3302a42046be4ee",
       "version_major": 2,
       "version_minor": 0
      },
      "text/plain": [
       "  0%|          | 0/100 [00:00<?, ?it/s]"
      ]
     },
     "metadata": {},
     "output_type": "display_data"
    },
    {
     "name": "stdout",
     "output_type": "stream",
     "text": [
      "--- 0.9644308090209961 seconds ---\n",
      "MRR@100 = 0.0108\n",
      "use_cg, False, factors: 15, iterations: 100, alpha: 100, regularization: 0.1\n"
     ]
    },
    {
     "data": {
      "application/vnd.jupyter.widget-view+json": {
       "model_id": "048f6e7026474de2be72ac7b4da6c815",
       "version_major": 2,
       "version_minor": 0
      },
      "text/plain": [
       "  0%|          | 0/100 [00:00<?, ?it/s]"
      ]
     },
     "metadata": {},
     "output_type": "display_data"
    },
    {
     "name": "stdout",
     "output_type": "stream",
     "text": [
      "--- 1.0437240600585938 seconds ---\n",
      "MRR@100 = 0.0108\n",
      "use_cg, False, factors: 15, iterations: 100, alpha: 100, regularization: 1\n"
     ]
    },
    {
     "data": {
      "application/vnd.jupyter.widget-view+json": {
       "model_id": "423b1e7bee9444d9a5412ce34584479b",
       "version_major": 2,
       "version_minor": 0
      },
      "text/plain": [
       "  0%|          | 0/100 [00:00<?, ?it/s]"
      ]
     },
     "metadata": {},
     "output_type": "display_data"
    },
    {
     "name": "stdout",
     "output_type": "stream",
     "text": [
      "--- 0.9344139099121094 seconds ---\n",
      "MRR@100 = 0.0108\n",
      "use_cg, False, factors: 15, iterations: 100, alpha: 100, regularization: 10\n"
     ]
    },
    {
     "data": {
      "application/vnd.jupyter.widget-view+json": {
       "model_id": "21108b3ffd0d4b22ab597fc75f075ed7",
       "version_major": 2,
       "version_minor": 0
      },
      "text/plain": [
       "  0%|          | 0/100 [00:00<?, ?it/s]"
      ]
     },
     "metadata": {},
     "output_type": "display_data"
    },
    {
     "name": "stdout",
     "output_type": "stream",
     "text": [
      "--- 0.9369800090789795 seconds ---\n",
      "MRR@100 = 0.0108\n",
      "use_cg, False, factors: 30, iterations: 5, alpha: 0.001, regularization: 0.001\n"
     ]
    },
    {
     "data": {
      "application/vnd.jupyter.widget-view+json": {
       "model_id": "1c9b29ddd48948d2a4f419e0a47eff79",
       "version_major": 2,
       "version_minor": 0
      },
      "text/plain": [
       "  0%|          | 0/5 [00:00<?, ?it/s]"
      ]
     },
     "metadata": {},
     "output_type": "display_data"
    },
    {
     "name": "stdout",
     "output_type": "stream",
     "text": [
      "--- 0.9339280128479004 seconds ---\n",
      "MRR@100 = 0.0067\n",
      "use_cg, False, factors: 30, iterations: 5, alpha: 0.001, regularization: 0.01\n"
     ]
    },
    {
     "data": {
      "application/vnd.jupyter.widget-view+json": {
       "model_id": "2aa07cfe5f8840c7847d1774bf0d751a",
       "version_major": 2,
       "version_minor": 0
      },
      "text/plain": [
       "  0%|          | 0/5 [00:00<?, ?it/s]"
      ]
     },
     "metadata": {},
     "output_type": "display_data"
    },
    {
     "name": "stdout",
     "output_type": "stream",
     "text": [
      "--- 1.0788381099700928 seconds ---\n",
      "MRR@100 = 0.0107\n",
      "use_cg, False, factors: 30, iterations: 5, alpha: 0.001, regularization: 0.1\n"
     ]
    },
    {
     "data": {
      "application/vnd.jupyter.widget-view+json": {
       "model_id": "1108caeae26f4c6fb1e918c6b960289d",
       "version_major": 2,
       "version_minor": 0
      },
      "text/plain": [
       "  0%|          | 0/5 [00:00<?, ?it/s]"
      ]
     },
     "metadata": {},
     "output_type": "display_data"
    },
    {
     "name": "stdout",
     "output_type": "stream",
     "text": [
      "--- 0.9983470439910889 seconds ---\n",
      "MRR@100 = 0.0018\n",
      "use_cg, False, factors: 30, iterations: 5, alpha: 0.001, regularization: 1\n"
     ]
    },
    {
     "data": {
      "application/vnd.jupyter.widget-view+json": {
       "model_id": "2ef5be66ba6a4bda8a529ebcf2fcd858",
       "version_major": 2,
       "version_minor": 0
      },
      "text/plain": [
       "  0%|          | 0/5 [00:00<?, ?it/s]"
      ]
     },
     "metadata": {},
     "output_type": "display_data"
    },
    {
     "name": "stdout",
     "output_type": "stream",
     "text": [
      "--- 1.0643141269683838 seconds ---\n",
      "MRR@100 = 0.0002\n",
      "use_cg, False, factors: 30, iterations: 5, alpha: 0.001, regularization: 10\n"
     ]
    },
    {
     "data": {
      "application/vnd.jupyter.widget-view+json": {
       "model_id": "17c5dd88f475451998473bc8813e125e",
       "version_major": 2,
       "version_minor": 0
      },
      "text/plain": [
       "  0%|          | 0/5 [00:00<?, ?it/s]"
      ]
     },
     "metadata": {},
     "output_type": "display_data"
    },
    {
     "name": "stdout",
     "output_type": "stream",
     "text": [
      "--- 0.9958782196044922 seconds ---\n",
      "MRR@100 = 0.0013\n",
      "use_cg, False, factors: 30, iterations: 5, alpha: 0.01, regularization: 0.001\n"
     ]
    },
    {
     "data": {
      "application/vnd.jupyter.widget-view+json": {
       "model_id": "9f55eabf298546b98a41ce834bc6d0af",
       "version_major": 2,
       "version_minor": 0
      },
      "text/plain": [
       "  0%|          | 0/5 [00:00<?, ?it/s]"
      ]
     },
     "metadata": {},
     "output_type": "display_data"
    },
    {
     "name": "stdout",
     "output_type": "stream",
     "text": [
      "--- 0.9646241664886475 seconds ---\n",
      "MRR@100 = 0.0108\n",
      "use_cg, False, factors: 30, iterations: 5, alpha: 0.01, regularization: 0.01\n"
     ]
    },
    {
     "data": {
      "application/vnd.jupyter.widget-view+json": {
       "model_id": "12a1d5b1b2464a88b5293b905c52cefc",
       "version_major": 2,
       "version_minor": 0
      },
      "text/plain": [
       "  0%|          | 0/5 [00:00<?, ?it/s]"
      ]
     },
     "metadata": {},
     "output_type": "display_data"
    },
    {
     "name": "stdout",
     "output_type": "stream",
     "text": [
      "--- 0.9626679420471191 seconds ---\n",
      "MRR@100 = 0.0099\n",
      "use_cg, False, factors: 30, iterations: 5, alpha: 0.01, regularization: 0.1\n"
     ]
    },
    {
     "data": {
      "application/vnd.jupyter.widget-view+json": {
       "model_id": "8c0c22640ae64c45980bd2ff676368f7",
       "version_major": 2,
       "version_minor": 0
      },
      "text/plain": [
       "  0%|          | 0/5 [00:00<?, ?it/s]"
      ]
     },
     "metadata": {},
     "output_type": "display_data"
    },
    {
     "name": "stdout",
     "output_type": "stream",
     "text": [
      "--- 0.9873766899108887 seconds ---\n",
      "MRR@100 = 0.0121\n",
      "use_cg, False, factors: 30, iterations: 5, alpha: 0.01, regularization: 1\n"
     ]
    },
    {
     "data": {
      "application/vnd.jupyter.widget-view+json": {
       "model_id": "3f1cfc4dc1ed49a0b4d1f31908eb7371",
       "version_major": 2,
       "version_minor": 0
      },
      "text/plain": [
       "  0%|          | 0/5 [00:00<?, ?it/s]"
      ]
     },
     "metadata": {},
     "output_type": "display_data"
    },
    {
     "name": "stdout",
     "output_type": "stream",
     "text": [
      "--- 0.9561152458190918 seconds ---\n",
      "MRR@100 = 0.0018\n",
      "use_cg, False, factors: 30, iterations: 5, alpha: 0.01, regularization: 10\n"
     ]
    },
    {
     "data": {
      "application/vnd.jupyter.widget-view+json": {
       "model_id": "f17bce7a49564694b4b05a74da65c550",
       "version_major": 2,
       "version_minor": 0
      },
      "text/plain": [
       "  0%|          | 0/5 [00:00<?, ?it/s]"
      ]
     },
     "metadata": {},
     "output_type": "display_data"
    },
    {
     "name": "stdout",
     "output_type": "stream",
     "text": [
      "--- 0.9618837833404541 seconds ---\n",
      "MRR@100 = 0.0013\n",
      "use_cg, False, factors: 30, iterations: 5, alpha: 0.1, regularization: 0.001\n"
     ]
    },
    {
     "data": {
      "application/vnd.jupyter.widget-view+json": {
       "model_id": "2fafb3c641454f199e8bee4202eca94e",
       "version_major": 2,
       "version_minor": 0
      },
      "text/plain": [
       "  0%|          | 0/5 [00:00<?, ?it/s]"
      ]
     },
     "metadata": {},
     "output_type": "display_data"
    },
    {
     "name": "stdout",
     "output_type": "stream",
     "text": [
      "--- 1.0378131866455078 seconds ---\n",
      "MRR@100 = 0.0121\n",
      "use_cg, False, factors: 30, iterations: 5, alpha: 0.1, regularization: 0.01\n"
     ]
    },
    {
     "data": {
      "application/vnd.jupyter.widget-view+json": {
       "model_id": "652c50d8f2b9424f8710e8d82b276abc",
       "version_major": 2,
       "version_minor": 0
      },
      "text/plain": [
       "  0%|          | 0/5 [00:00<?, ?it/s]"
      ]
     },
     "metadata": {},
     "output_type": "display_data"
    },
    {
     "name": "stdout",
     "output_type": "stream",
     "text": [
      "--- 1.0865609645843506 seconds ---\n",
      "MRR@100 = 0.0120\n",
      "use_cg, False, factors: 30, iterations: 5, alpha: 0.1, regularization: 0.1\n"
     ]
    },
    {
     "data": {
      "application/vnd.jupyter.widget-view+json": {
       "model_id": "9248be291731467aae94beac112a3baa",
       "version_major": 2,
       "version_minor": 0
      },
      "text/plain": [
       "  0%|          | 0/5 [00:00<?, ?it/s]"
      ]
     },
     "metadata": {},
     "output_type": "display_data"
    },
    {
     "name": "stdout",
     "output_type": "stream",
     "text": [
      "--- 1.0204312801361084 seconds ---\n",
      "MRR@100 = 0.0113\n",
      "use_cg, False, factors: 30, iterations: 5, alpha: 0.1, regularization: 1\n"
     ]
    },
    {
     "data": {
      "application/vnd.jupyter.widget-view+json": {
       "model_id": "243d9bc0eaf545018e38d2a744eda561",
       "version_major": 2,
       "version_minor": 0
      },
      "text/plain": [
       "  0%|          | 0/5 [00:00<?, ?it/s]"
      ]
     },
     "metadata": {},
     "output_type": "display_data"
    },
    {
     "name": "stdout",
     "output_type": "stream",
     "text": [
      "--- 1.000993013381958 seconds ---\n",
      "MRR@100 = 0.0125\n",
      "use_cg, False, factors: 30, iterations: 5, alpha: 0.1, regularization: 10\n"
     ]
    },
    {
     "data": {
      "application/vnd.jupyter.widget-view+json": {
       "model_id": "f0098656cd464683abb9b15af440ce92",
       "version_major": 2,
       "version_minor": 0
      },
      "text/plain": [
       "  0%|          | 0/5 [00:00<?, ?it/s]"
      ]
     },
     "metadata": {},
     "output_type": "display_data"
    },
    {
     "name": "stdout",
     "output_type": "stream",
     "text": [
      "--- 0.9597780704498291 seconds ---\n",
      "MRR@100 = 0.0018\n",
      "use_cg, False, factors: 30, iterations: 5, alpha: 1, regularization: 0.001\n"
     ]
    },
    {
     "data": {
      "application/vnd.jupyter.widget-view+json": {
       "model_id": "db0203ceabd44a58a8b2c78490cec946",
       "version_major": 2,
       "version_minor": 0
      },
      "text/plain": [
       "  0%|          | 0/5 [00:00<?, ?it/s]"
      ]
     },
     "metadata": {},
     "output_type": "display_data"
    },
    {
     "name": "stdout",
     "output_type": "stream",
     "text": [
      "--- 0.9654278755187988 seconds ---\n",
      "MRR@100 = 0.0145\n",
      "use_cg, False, factors: 30, iterations: 5, alpha: 1, regularization: 0.01\n"
     ]
    },
    {
     "data": {
      "application/vnd.jupyter.widget-view+json": {
       "model_id": "f28afa0a11f8478d804255c065d771cd",
       "version_major": 2,
       "version_minor": 0
      },
      "text/plain": [
       "  0%|          | 0/5 [00:00<?, ?it/s]"
      ]
     },
     "metadata": {},
     "output_type": "display_data"
    },
    {
     "name": "stdout",
     "output_type": "stream",
     "text": [
      "--- 1.0016469955444336 seconds ---\n",
      "MRR@100 = 0.0145\n",
      "use_cg, False, factors: 30, iterations: 5, alpha: 1, regularization: 0.1\n"
     ]
    },
    {
     "data": {
      "application/vnd.jupyter.widget-view+json": {
       "model_id": "4c0c8bcaa0fd4fb1986f2c07089d9c92",
       "version_major": 2,
       "version_minor": 0
      },
      "text/plain": [
       "  0%|          | 0/5 [00:00<?, ?it/s]"
      ]
     },
     "metadata": {},
     "output_type": "display_data"
    },
    {
     "name": "stdout",
     "output_type": "stream",
     "text": [
      "--- 1.2430341243743896 seconds ---\n",
      "MRR@100 = 0.0144\n",
      "use_cg, False, factors: 30, iterations: 5, alpha: 1, regularization: 1\n"
     ]
    },
    {
     "data": {
      "application/vnd.jupyter.widget-view+json": {
       "model_id": "05afd979c22e42818c22459d8a903eff",
       "version_major": 2,
       "version_minor": 0
      },
      "text/plain": [
       "  0%|          | 0/5 [00:00<?, ?it/s]"
      ]
     },
     "metadata": {},
     "output_type": "display_data"
    },
    {
     "name": "stdout",
     "output_type": "stream",
     "text": [
      "--- 1.012387990951538 seconds ---\n",
      "MRR@100 = 0.0145\n",
      "use_cg, False, factors: 30, iterations: 5, alpha: 1, regularization: 10\n"
     ]
    },
    {
     "data": {
      "application/vnd.jupyter.widget-view+json": {
       "model_id": "c0f38da548664ad0b9093f6cfdff911d",
       "version_major": 2,
       "version_minor": 0
      },
      "text/plain": [
       "  0%|          | 0/5 [00:00<?, ?it/s]"
      ]
     },
     "metadata": {},
     "output_type": "display_data"
    },
    {
     "name": "stdout",
     "output_type": "stream",
     "text": [
      "--- 1.0779740810394287 seconds ---\n",
      "MRR@100 = 0.0139\n",
      "use_cg, False, factors: 30, iterations: 5, alpha: 10, regularization: 0.001\n"
     ]
    },
    {
     "data": {
      "application/vnd.jupyter.widget-view+json": {
       "model_id": "e8a4dff999fd4cb6b7faff75168d738f",
       "version_major": 2,
       "version_minor": 0
      },
      "text/plain": [
       "  0%|          | 0/5 [00:00<?, ?it/s]"
      ]
     },
     "metadata": {},
     "output_type": "display_data"
    },
    {
     "name": "stdout",
     "output_type": "stream",
     "text": [
      "--- 1.0658209323883057 seconds ---\n",
      "MRR@100 = 0.0155\n",
      "use_cg, False, factors: 30, iterations: 5, alpha: 10, regularization: 0.01\n"
     ]
    },
    {
     "data": {
      "application/vnd.jupyter.widget-view+json": {
       "model_id": "6dcaf6ed1fa6410181913a9fdf2fade1",
       "version_major": 2,
       "version_minor": 0
      },
      "text/plain": [
       "  0%|          | 0/5 [00:00<?, ?it/s]"
      ]
     },
     "metadata": {},
     "output_type": "display_data"
    },
    {
     "name": "stdout",
     "output_type": "stream",
     "text": [
      "--- 1.0111291408538818 seconds ---\n",
      "MRR@100 = 0.0155\n",
      "use_cg, False, factors: 30, iterations: 5, alpha: 10, regularization: 0.1\n"
     ]
    },
    {
     "data": {
      "application/vnd.jupyter.widget-view+json": {
       "model_id": "596a2d13c5384392b534384621f5f447",
       "version_major": 2,
       "version_minor": 0
      },
      "text/plain": [
       "  0%|          | 0/5 [00:00<?, ?it/s]"
      ]
     },
     "metadata": {},
     "output_type": "display_data"
    },
    {
     "name": "stdout",
     "output_type": "stream",
     "text": [
      "--- 1.0100831985473633 seconds ---\n",
      "MRR@100 = 0.0155\n",
      "use_cg, False, factors: 30, iterations: 5, alpha: 10, regularization: 1\n"
     ]
    },
    {
     "data": {
      "application/vnd.jupyter.widget-view+json": {
       "model_id": "4f78d686c92d48c4b06d76e24234c1c5",
       "version_major": 2,
       "version_minor": 0
      },
      "text/plain": [
       "  0%|          | 0/5 [00:00<?, ?it/s]"
      ]
     },
     "metadata": {},
     "output_type": "display_data"
    },
    {
     "name": "stdout",
     "output_type": "stream",
     "text": [
      "--- 1.192255973815918 seconds ---\n",
      "MRR@100 = 0.0154\n",
      "use_cg, False, factors: 30, iterations: 5, alpha: 10, regularization: 10\n"
     ]
    },
    {
     "data": {
      "application/vnd.jupyter.widget-view+json": {
       "model_id": "c661308e7a454386a085355ced742c91",
       "version_major": 2,
       "version_minor": 0
      },
      "text/plain": [
       "  0%|          | 0/5 [00:00<?, ?it/s]"
      ]
     },
     "metadata": {},
     "output_type": "display_data"
    },
    {
     "name": "stdout",
     "output_type": "stream",
     "text": [
      "--- 1.0136280059814453 seconds ---\n",
      "MRR@100 = 0.0154\n",
      "use_cg, False, factors: 30, iterations: 5, alpha: 100, regularization: 0.001\n"
     ]
    },
    {
     "data": {
      "application/vnd.jupyter.widget-view+json": {
       "model_id": "1c8b8cc75f9144c08a75e365ba692bad",
       "version_major": 2,
       "version_minor": 0
      },
      "text/plain": [
       "  0%|          | 0/5 [00:00<?, ?it/s]"
      ]
     },
     "metadata": {},
     "output_type": "display_data"
    },
    {
     "name": "stdout",
     "output_type": "stream",
     "text": [
      "--- 1.0626308917999268 seconds ---\n",
      "MRR@100 = 0.0125\n",
      "use_cg, False, factors: 30, iterations: 5, alpha: 100, regularization: 0.01\n"
     ]
    },
    {
     "data": {
      "application/vnd.jupyter.widget-view+json": {
       "model_id": "d839da2c92fb405393064c46a918a82e",
       "version_major": 2,
       "version_minor": 0
      },
      "text/plain": [
       "  0%|          | 0/5 [00:00<?, ?it/s]"
      ]
     },
     "metadata": {},
     "output_type": "display_data"
    },
    {
     "name": "stdout",
     "output_type": "stream",
     "text": [
      "--- 1.0390560626983643 seconds ---\n",
      "MRR@100 = 0.0125\n",
      "use_cg, False, factors: 30, iterations: 5, alpha: 100, regularization: 0.1\n"
     ]
    },
    {
     "data": {
      "application/vnd.jupyter.widget-view+json": {
       "model_id": "e3dc3eddd7b6418dbdc93ce34ff9979c",
       "version_major": 2,
       "version_minor": 0
      },
      "text/plain": [
       "  0%|          | 0/5 [00:00<?, ?it/s]"
      ]
     },
     "metadata": {},
     "output_type": "display_data"
    },
    {
     "name": "stdout",
     "output_type": "stream",
     "text": [
      "--- 1.1149349212646484 seconds ---\n",
      "MRR@100 = 0.0124\n",
      "use_cg, False, factors: 30, iterations: 5, alpha: 100, regularization: 1\n"
     ]
    },
    {
     "data": {
      "application/vnd.jupyter.widget-view+json": {
       "model_id": "c62b27c599a3447c82cf4e1777a75633",
       "version_major": 2,
       "version_minor": 0
      },
      "text/plain": [
       "  0%|          | 0/5 [00:00<?, ?it/s]"
      ]
     },
     "metadata": {},
     "output_type": "display_data"
    },
    {
     "name": "stdout",
     "output_type": "stream",
     "text": [
      "--- 1.0251269340515137 seconds ---\n",
      "MRR@100 = 0.0123\n",
      "use_cg, False, factors: 30, iterations: 5, alpha: 100, regularization: 10\n"
     ]
    },
    {
     "data": {
      "application/vnd.jupyter.widget-view+json": {
       "model_id": "b8bc57c335eb4a928408081168a7332b",
       "version_major": 2,
       "version_minor": 0
      },
      "text/plain": [
       "  0%|          | 0/5 [00:00<?, ?it/s]"
      ]
     },
     "metadata": {},
     "output_type": "display_data"
    },
    {
     "name": "stdout",
     "output_type": "stream",
     "text": [
      "--- 1.093451976776123 seconds ---\n",
      "MRR@100 = 0.0124\n",
      "use_cg, False, factors: 30, iterations: 10, alpha: 0.001, regularization: 0.001\n"
     ]
    },
    {
     "data": {
      "application/vnd.jupyter.widget-view+json": {
       "model_id": "9953821d7b83459584c09d54ece45243",
       "version_major": 2,
       "version_minor": 0
      },
      "text/plain": [
       "  0%|          | 0/10 [00:00<?, ?it/s]"
      ]
     },
     "metadata": {},
     "output_type": "display_data"
    },
    {
     "name": "stdout",
     "output_type": "stream",
     "text": [
      "--- 1.1687500476837158 seconds ---\n",
      "MRR@100 = 0.0074\n",
      "use_cg, False, factors: 30, iterations: 10, alpha: 0.001, regularization: 0.01\n"
     ]
    },
    {
     "data": {
      "application/vnd.jupyter.widget-view+json": {
       "model_id": "2ebdc78d2eab41929ae389e615bedac9",
       "version_major": 2,
       "version_minor": 0
      },
      "text/plain": [
       "  0%|          | 0/10 [00:00<?, ?it/s]"
      ]
     },
     "metadata": {},
     "output_type": "display_data"
    },
    {
     "name": "stdout",
     "output_type": "stream",
     "text": [
      "--- 1.2003750801086426 seconds ---\n",
      "MRR@100 = 0.0097\n",
      "use_cg, False, factors: 30, iterations: 10, alpha: 0.001, regularization: 0.1\n"
     ]
    },
    {
     "data": {
      "application/vnd.jupyter.widget-view+json": {
       "model_id": "80f8cf0270a743488b5527fe253dc06a",
       "version_major": 2,
       "version_minor": 0
      },
      "text/plain": [
       "  0%|          | 0/10 [00:00<?, ?it/s]"
      ]
     },
     "metadata": {},
     "output_type": "display_data"
    },
    {
     "name": "stdout",
     "output_type": "stream",
     "text": [
      "--- 1.1837451457977295 seconds ---\n",
      "MRR@100 = 0.0018\n",
      "use_cg, False, factors: 30, iterations: 10, alpha: 0.001, regularization: 1\n"
     ]
    },
    {
     "data": {
      "application/vnd.jupyter.widget-view+json": {
       "model_id": "d5f1d83145894bc99f155a62d69849cd",
       "version_major": 2,
       "version_minor": 0
      },
      "text/plain": [
       "  0%|          | 0/10 [00:00<?, ?it/s]"
      ]
     },
     "metadata": {},
     "output_type": "display_data"
    },
    {
     "name": "stdout",
     "output_type": "stream",
     "text": [
      "--- 1.2078862190246582 seconds ---\n",
      "MRR@100 = 0.0002\n",
      "use_cg, False, factors: 30, iterations: 10, alpha: 0.001, regularization: 10\n"
     ]
    },
    {
     "data": {
      "application/vnd.jupyter.widget-view+json": {
       "model_id": "4c7dec099bdf4576ba993b0f56123d42",
       "version_major": 2,
       "version_minor": 0
      },
      "text/plain": [
       "  0%|          | 0/10 [00:00<?, ?it/s]"
      ]
     },
     "metadata": {},
     "output_type": "display_data"
    },
    {
     "name": "stdout",
     "output_type": "stream",
     "text": [
      "--- 1.1660349369049072 seconds ---\n",
      "MRR@100 = 0.0013\n",
      "use_cg, False, factors: 30, iterations: 10, alpha: 0.01, regularization: 0.001\n"
     ]
    },
    {
     "data": {
      "application/vnd.jupyter.widget-view+json": {
       "model_id": "31a8a005d12c46c1b67574660f148bd1",
       "version_major": 2,
       "version_minor": 0
      },
      "text/plain": [
       "  0%|          | 0/10 [00:00<?, ?it/s]"
      ]
     },
     "metadata": {},
     "output_type": "display_data"
    },
    {
     "name": "stdout",
     "output_type": "stream",
     "text": [
      "--- 1.208254337310791 seconds ---\n",
      "MRR@100 = 0.0096\n",
      "use_cg, False, factors: 30, iterations: 10, alpha: 0.01, regularization: 0.01\n"
     ]
    },
    {
     "data": {
      "application/vnd.jupyter.widget-view+json": {
       "model_id": "1566fd4f1b464b559d5ab480f7815b24",
       "version_major": 2,
       "version_minor": 0
      },
      "text/plain": [
       "  0%|          | 0/10 [00:00<?, ?it/s]"
      ]
     },
     "metadata": {},
     "output_type": "display_data"
    },
    {
     "name": "stdout",
     "output_type": "stream",
     "text": [
      "--- 1.2430469989776611 seconds ---\n",
      "MRR@100 = 0.0076\n",
      "use_cg, False, factors: 30, iterations: 10, alpha: 0.01, regularization: 0.1\n"
     ]
    },
    {
     "data": {
      "application/vnd.jupyter.widget-view+json": {
       "model_id": "4f68b3cefc5c4c3896c9f9cb327d5e67",
       "version_major": 2,
       "version_minor": 0
      },
      "text/plain": [
       "  0%|          | 0/10 [00:00<?, ?it/s]"
      ]
     },
     "metadata": {},
     "output_type": "display_data"
    },
    {
     "name": "stdout",
     "output_type": "stream",
     "text": [
      "--- 1.3454017639160156 seconds ---\n",
      "MRR@100 = 0.0084\n",
      "use_cg, False, factors: 30, iterations: 10, alpha: 0.01, regularization: 1\n"
     ]
    },
    {
     "data": {
      "application/vnd.jupyter.widget-view+json": {
       "model_id": "0a2294f4377e4da5bd4d5ae07c9bb6f6",
       "version_major": 2,
       "version_minor": 0
      },
      "text/plain": [
       "  0%|          | 0/10 [00:00<?, ?it/s]"
      ]
     },
     "metadata": {},
     "output_type": "display_data"
    },
    {
     "name": "stdout",
     "output_type": "stream",
     "text": [
      "--- 1.4372987747192383 seconds ---\n",
      "MRR@100 = 0.0018\n",
      "use_cg, False, factors: 30, iterations: 10, alpha: 0.01, regularization: 10\n"
     ]
    },
    {
     "data": {
      "application/vnd.jupyter.widget-view+json": {
       "model_id": "a6872c6e54b844e190f64c5d219eacfe",
       "version_major": 2,
       "version_minor": 0
      },
      "text/plain": [
       "  0%|          | 0/10 [00:00<?, ?it/s]"
      ]
     },
     "metadata": {},
     "output_type": "display_data"
    },
    {
     "name": "stdout",
     "output_type": "stream",
     "text": [
      "--- 1.30472993850708 seconds ---\n",
      "MRR@100 = 0.0005\n",
      "use_cg, False, factors: 30, iterations: 10, alpha: 0.1, regularization: 0.001\n"
     ]
    },
    {
     "data": {
      "application/vnd.jupyter.widget-view+json": {
       "model_id": "f3a9455a48ee4b53964350379b291b13",
       "version_major": 2,
       "version_minor": 0
      },
      "text/plain": [
       "  0%|          | 0/10 [00:00<?, ?it/s]"
      ]
     },
     "metadata": {},
     "output_type": "display_data"
    },
    {
     "ename": "KeyboardInterrupt",
     "evalue": "",
     "output_type": "error",
     "traceback": [
      "\u001b[0;31m---------------------------------------------------------------------------\u001b[0m",
      "\u001b[0;31mKeyboardInterrupt\u001b[0m                         Traceback (most recent call last)",
      "Input \u001b[0;32mIn [239]\u001b[0m, in \u001b[0;36m<cell line: 1>\u001b[0;34m()\u001b[0m\n\u001b[1;32m      5\u001b[0m \u001b[38;5;28;01mfor\u001b[39;00m regularization \u001b[38;5;129;01min\u001b[39;00m [\u001b[38;5;241m0.001\u001b[39m, \u001b[38;5;241m0.01\u001b[39m, \u001b[38;5;241m0.1\u001b[39m, \u001b[38;5;241m1\u001b[39m, \u001b[38;5;241m10\u001b[39m]:\n\u001b[1;32m      6\u001b[0m     \u001b[38;5;28mprint\u001b[39m(\u001b[38;5;124mf\u001b[39m\u001b[38;5;124m'\u001b[39m\u001b[38;5;124muse_cg, \u001b[39m\u001b[38;5;132;01m{\u001b[39;00muse_cg\u001b[38;5;132;01m}\u001b[39;00m\u001b[38;5;124m, factors: \u001b[39m\u001b[38;5;132;01m{\u001b[39;00mfactors\u001b[38;5;132;01m}\u001b[39;00m\u001b[38;5;124m, iterations: \u001b[39m\u001b[38;5;132;01m{\u001b[39;00miterations\u001b[38;5;132;01m}\u001b[39;00m\u001b[38;5;124m, alpha: \u001b[39m\u001b[38;5;132;01m{\u001b[39;00malpha\u001b[38;5;132;01m}\u001b[39;00m\u001b[38;5;124m, regularization: \u001b[39m\u001b[38;5;132;01m{\u001b[39;00mregularization\u001b[38;5;132;01m}\u001b[39;00m\u001b[38;5;124m'\u001b[39m)\n\u001b[0;32m----> 7\u001b[0m     \u001b[43moptimize\u001b[49m\u001b[43m(\u001b[49m\u001b[43mfactors\u001b[49m\u001b[38;5;241;43m=\u001b[39;49m\u001b[43mfactors\u001b[49m\u001b[43m,\u001b[49m\n\u001b[1;32m      8\u001b[0m \u001b[43m         \u001b[49m\u001b[43mregularization\u001b[49m\u001b[38;5;241;43m=\u001b[39;49m\u001b[43mregularization\u001b[49m\u001b[43m,\u001b[49m\n\u001b[1;32m      9\u001b[0m \u001b[43m         \u001b[49m\u001b[43malpha\u001b[49m\u001b[38;5;241;43m=\u001b[39;49m\u001b[43malpha\u001b[49m\u001b[43m,\u001b[49m\n\u001b[1;32m     10\u001b[0m \u001b[43m         \u001b[49m\u001b[43muse_native\u001b[49m\u001b[38;5;241;43m=\u001b[39;49m\u001b[38;5;28;43;01mTrue\u001b[39;49;00m\u001b[43m,\u001b[49m\n\u001b[1;32m     11\u001b[0m \u001b[43m         \u001b[49m\u001b[43muse_cg\u001b[49m\u001b[38;5;241;43m=\u001b[39;49m\u001b[38;5;28;43;01mTrue\u001b[39;49;00m\u001b[43m,\u001b[49m\n\u001b[1;32m     12\u001b[0m \u001b[43m         \u001b[49m\u001b[43miterations\u001b[49m\u001b[38;5;241;43m=\u001b[39;49m\u001b[43miterations\u001b[49m\u001b[43m,\u001b[49m\n\u001b[1;32m     13\u001b[0m \u001b[43m         \u001b[49m\u001b[43mcalculate_training_loss\u001b[49m\u001b[38;5;241;43m=\u001b[39;49m\u001b[38;5;28;43;01mFalse\u001b[39;49;00m\u001b[43m)\u001b[49m\n",
      "Input \u001b[0;32mIn [217]\u001b[0m, in \u001b[0;36moptimize\u001b[0;34m(factors, regularization, alpha, use_native, use_cg, iterations, calculate_training_loss)\u001b[0m\n\u001b[1;32m      3\u001b[0m \u001b[38;5;28;01mdef\u001b[39;00m \u001b[38;5;21moptimize\u001b[39m(factors\u001b[38;5;241m=\u001b[39m\u001b[38;5;241m100\u001b[39m,\n\u001b[1;32m      4\u001b[0m              regularization\u001b[38;5;241m=\u001b[39m\u001b[38;5;241m0.01\u001b[39m,\n\u001b[1;32m      5\u001b[0m              alpha\u001b[38;5;241m=\u001b[39m\u001b[38;5;241m1.0\u001b[39m,\n\u001b[0;32m   (...)\u001b[0m\n\u001b[1;32m      8\u001b[0m              iterations\u001b[38;5;241m=\u001b[39m\u001b[38;5;241m15\u001b[39m,\n\u001b[1;32m      9\u001b[0m              calculate_training_loss\u001b[38;5;241m=\u001b[39m\u001b[38;5;28;01mFalse\u001b[39;00m):\n\u001b[1;32m     11\u001b[0m     model \u001b[38;5;241m=\u001b[39m implicit\u001b[38;5;241m.\u001b[39mals\u001b[38;5;241m.\u001b[39mAlternatingLeastSquares(factors\u001b[38;5;241m=\u001b[39mfactors, \n\u001b[1;32m     12\u001b[0m                                                  regularization\u001b[38;5;241m=\u001b[39mregularization,\n\u001b[1;32m     13\u001b[0m                                                  alpha\u001b[38;5;241m=\u001b[39malpha,\n\u001b[0;32m   (...)\u001b[0m\n\u001b[1;32m     16\u001b[0m                                                  iterations\u001b[38;5;241m=\u001b[39miterations,\n\u001b[1;32m     17\u001b[0m                                                  random_state\u001b[38;5;241m=\u001b[39m\u001b[38;5;241m42\u001b[39m)\n\u001b[0;32m---> 19\u001b[0m     \u001b[43mmodel\u001b[49m\u001b[38;5;241;43m.\u001b[39;49m\u001b[43mfit\u001b[49m\u001b[43m(\u001b[49m\u001b[43muser_item\u001b[49m\u001b[43m)\u001b[49m\n\u001b[1;32m     21\u001b[0m     start_time \u001b[38;5;241m=\u001b[39m time\u001b[38;5;241m.\u001b[39mtime()\n\u001b[1;32m     23\u001b[0m     userid \u001b[38;5;241m=\u001b[39m val_id\n",
      "File \u001b[0;32m/Library/Frameworks/Python.framework/Versions/3.10/lib/python3.10/site-packages/implicit/cpu/als.py:170\u001b[0m, in \u001b[0;36mAlternatingLeastSquares.fit\u001b[0;34m(self, user_items, show_progress, callback)\u001b[0m\n\u001b[1;32m    162\u001b[0m s \u001b[38;5;241m=\u001b[39m time\u001b[38;5;241m.\u001b[39mtime()\n\u001b[1;32m    163\u001b[0m solver(\n\u001b[1;32m    164\u001b[0m     Cui,\n\u001b[1;32m    165\u001b[0m     \u001b[38;5;28mself\u001b[39m\u001b[38;5;241m.\u001b[39muser_factors,\n\u001b[0;32m   (...)\u001b[0m\n\u001b[1;32m    168\u001b[0m     num_threads\u001b[38;5;241m=\u001b[39m\u001b[38;5;28mself\u001b[39m\u001b[38;5;241m.\u001b[39mnum_threads,\n\u001b[1;32m    169\u001b[0m )\n\u001b[0;32m--> 170\u001b[0m \u001b[43msolver\u001b[49m\u001b[43m(\u001b[49m\n\u001b[1;32m    171\u001b[0m \u001b[43m    \u001b[49m\u001b[43mCiu\u001b[49m\u001b[43m,\u001b[49m\n\u001b[1;32m    172\u001b[0m \u001b[43m    \u001b[49m\u001b[38;5;28;43mself\u001b[39;49m\u001b[38;5;241;43m.\u001b[39;49m\u001b[43mitem_factors\u001b[49m\u001b[43m,\u001b[49m\n\u001b[1;32m    173\u001b[0m \u001b[43m    \u001b[49m\u001b[38;5;28;43mself\u001b[39;49m\u001b[38;5;241;43m.\u001b[39;49m\u001b[43muser_factors\u001b[49m\u001b[43m,\u001b[49m\n\u001b[1;32m    174\u001b[0m \u001b[43m    \u001b[49m\u001b[38;5;28;43mself\u001b[39;49m\u001b[38;5;241;43m.\u001b[39;49m\u001b[43mregularization\u001b[49m\u001b[43m,\u001b[49m\n\u001b[1;32m    175\u001b[0m \u001b[43m    \u001b[49m\u001b[43mnum_threads\u001b[49m\u001b[38;5;241;43m=\u001b[39;49m\u001b[38;5;28;43mself\u001b[39;49m\u001b[38;5;241;43m.\u001b[39;49m\u001b[43mnum_threads\u001b[49m\u001b[43m,\u001b[49m\n\u001b[1;32m    176\u001b[0m \u001b[43m\u001b[49m\u001b[43m)\u001b[49m\n\u001b[1;32m    177\u001b[0m progress\u001b[38;5;241m.\u001b[39mupdate(\u001b[38;5;241m1\u001b[39m)\n\u001b[1;32m    179\u001b[0m \u001b[38;5;28;01mif\u001b[39;00m \u001b[38;5;28mself\u001b[39m\u001b[38;5;241m.\u001b[39mcalculate_training_loss:\n",
      "\u001b[0;31mKeyboardInterrupt\u001b[0m: "
     ]
    }
   ],
   "source": [
    "for use_cg in [False, True]:\n",
    "    for factors in [5, 10, 15, 30, 50, 100]:\n",
    "        for iterations in [5, 10, 15, 30, 50, 100]:\n",
    "            for alpha in [0.001, 0.01, 0.1, 1, 10, 100]:\n",
    "                for regularization in [0.001, 0.01, 0.1, 1, 10]:\n",
    "                    print(f'use_cg, {use_cg}, factors: {factors}, iterations: {iterations}, alpha: {alpha}, regularization: {regularization}')\n",
    "                    optimize(factors=factors,\n",
    "                         regularization=regularization,\n",
    "                         alpha=alpha,\n",
    "                         use_native=True,\n",
    "                         use_cg=True,\n",
    "                         iterations=iterations,\n",
    "                         calculate_training_loss=False)"
   ]
  },
  {
   "cell_type": "code",
   "execution_count": null,
   "id": "6d062a4d",
   "metadata": {
    "scrolled": true
   },
   "outputs": [
    {
     "name": "stdout",
     "output_type": "stream",
     "text": [
      "use_cg, False, factors: 30, iterations: 30\n"
     ]
    },
    {
     "data": {
      "application/vnd.jupyter.widget-view+json": {
       "model_id": "2cf56ab4b04a464fb0a008e7269b5f0f",
       "version_major": 2,
       "version_minor": 0
      },
      "text/plain": [
       "  0%|          | 0/30 [00:00<?, ?it/s]"
      ]
     },
     "metadata": {},
     "output_type": "display_data"
    },
    {
     "name": "stdout",
     "output_type": "stream",
     "text": [
      "--- 1.1639349460601807 seconds ---\n",
      "MRR@100 = 0.0142\n",
      "use_cg, False, factors: 30, iterations: 50\n"
     ]
    },
    {
     "data": {
      "application/vnd.jupyter.widget-view+json": {
       "model_id": "4d34467ff6b34a18a1fd9354fa68dc57",
       "version_major": 2,
       "version_minor": 0
      },
      "text/plain": [
       "  0%|          | 0/50 [00:00<?, ?it/s]"
      ]
     },
     "metadata": {},
     "output_type": "display_data"
    },
    {
     "name": "stdout",
     "output_type": "stream",
     "text": [
      "--- 1.3995869159698486 seconds ---\n",
      "MRR@100 = 0.0138\n",
      "use_cg, False, factors: 30, iterations: 100\n"
     ]
    },
    {
     "data": {
      "application/vnd.jupyter.widget-view+json": {
       "model_id": "fdd2b0ec067c452eae43377b17b7e334",
       "version_major": 2,
       "version_minor": 0
      },
      "text/plain": [
       "  0%|          | 0/100 [00:00<?, ?it/s]"
      ]
     },
     "metadata": {},
     "output_type": "display_data"
    },
    {
     "name": "stdout",
     "output_type": "stream",
     "text": [
      "--- 1.0676889419555664 seconds ---\n",
      "MRR@100 = 0.0135\n",
      "use_cg, False, factors: 50, iterations: 30\n"
     ]
    },
    {
     "data": {
      "application/vnd.jupyter.widget-view+json": {
       "model_id": "f391d916a3cc49b48eb17fd8dbcd73d2",
       "version_major": 2,
       "version_minor": 0
      },
      "text/plain": [
       "  0%|          | 0/30 [00:00<?, ?it/s]"
      ]
     },
     "metadata": {},
     "output_type": "display_data"
    },
    {
     "name": "stdout",
     "output_type": "stream",
     "text": [
      "--- 1.3230998516082764 seconds ---\n",
      "MRR@100 = 0.0169\n",
      "use_cg, False, factors: 50, iterations: 50\n"
     ]
    },
    {
     "data": {
      "application/vnd.jupyter.widget-view+json": {
       "model_id": "02b68d4f5f204a6babbf52e188e4c93e",
       "version_major": 2,
       "version_minor": 0
      },
      "text/plain": [
       "  0%|          | 0/50 [00:00<?, ?it/s]"
      ]
     },
     "metadata": {},
     "output_type": "display_data"
    },
    {
     "name": "stdout",
     "output_type": "stream",
     "text": [
      "--- 1.6494810581207275 seconds ---\n",
      "MRR@100 = 0.0177\n",
      "use_cg, False, factors: 50, iterations: 100\n"
     ]
    },
    {
     "data": {
      "application/vnd.jupyter.widget-view+json": {
       "model_id": "6177cd6d982d4dd085d8f13440068e12",
       "version_major": 2,
       "version_minor": 0
      },
      "text/plain": [
       "  0%|          | 0/100 [00:00<?, ?it/s]"
      ]
     },
     "metadata": {},
     "output_type": "display_data"
    },
    {
     "name": "stdout",
     "output_type": "stream",
     "text": [
      "--- 1.5486578941345215 seconds ---\n",
      "MRR@100 = 0.0168\n",
      "use_cg, False, factors: 100, iterations: 30\n"
     ]
    },
    {
     "data": {
      "application/vnd.jupyter.widget-view+json": {
       "model_id": "164a2caeb6ba4129b0c586db351f71c9",
       "version_major": 2,
       "version_minor": 0
      },
      "text/plain": [
       "  0%|          | 0/30 [00:00<?, ?it/s]"
      ]
     },
     "metadata": {},
     "output_type": "display_data"
    },
    {
     "name": "stdout",
     "output_type": "stream",
     "text": [
      "--- 1.8310132026672363 seconds ---\n",
      "MRR@100 = 0.0208\n",
      "use_cg, False, factors: 100, iterations: 50\n"
     ]
    },
    {
     "data": {
      "application/vnd.jupyter.widget-view+json": {
       "model_id": "394b053fc5c6492eaadeaa6db0e19495",
       "version_major": 2,
       "version_minor": 0
      },
      "text/plain": [
       "  0%|          | 0/50 [00:00<?, ?it/s]"
      ]
     },
     "metadata": {},
     "output_type": "display_data"
    },
    {
     "name": "stdout",
     "output_type": "stream",
     "text": [
      "--- 1.9624757766723633 seconds ---\n",
      "MRR@100 = 0.0201\n",
      "use_cg, False, factors: 100, iterations: 100\n"
     ]
    },
    {
     "data": {
      "application/vnd.jupyter.widget-view+json": {
       "model_id": "a6865c3aec9b4cd1a0cbff7cad53d7ff",
       "version_major": 2,
       "version_minor": 0
      },
      "text/plain": [
       "  0%|          | 0/100 [00:00<?, ?it/s]"
      ]
     },
     "metadata": {},
     "output_type": "display_data"
    },
    {
     "name": "stdout",
     "output_type": "stream",
     "text": [
      "--- 1.6540842056274414 seconds ---\n",
      "MRR@100 = 0.0209\n",
      "use_cg, True, factors: 30, iterations: 30\n"
     ]
    },
    {
     "data": {
      "application/vnd.jupyter.widget-view+json": {
       "model_id": "94b2de6088fa49deb2e821b8970c0591",
       "version_major": 2,
       "version_minor": 0
      },
      "text/plain": [
       "  0%|          | 0/30 [00:00<?, ?it/s]"
      ]
     },
     "metadata": {},
     "output_type": "display_data"
    },
    {
     "name": "stdout",
     "output_type": "stream",
     "text": [
      "--- 1.1331779956817627 seconds ---\n",
      "MRR@100 = 0.0142\n",
      "use_cg, True, factors: 30, iterations: 50\n"
     ]
    },
    {
     "data": {
      "application/vnd.jupyter.widget-view+json": {
       "model_id": "7d93ada34fb74974a4d95449e3a2ee38",
       "version_major": 2,
       "version_minor": 0
      },
      "text/plain": [
       "  0%|          | 0/50 [00:00<?, ?it/s]"
      ]
     },
     "metadata": {},
     "output_type": "display_data"
    },
    {
     "name": "stdout",
     "output_type": "stream",
     "text": [
      "--- 1.1289079189300537 seconds ---\n",
      "MRR@100 = 0.0138\n",
      "use_cg, True, factors: 30, iterations: 100\n"
     ]
    },
    {
     "data": {
      "application/vnd.jupyter.widget-view+json": {
       "model_id": "76496ea31dab4cd49f5fd41a2ac927c7",
       "version_major": 2,
       "version_minor": 0
      },
      "text/plain": [
       "  0%|          | 0/100 [00:00<?, ?it/s]"
      ]
     },
     "metadata": {},
     "output_type": "display_data"
    },
    {
     "name": "stdout",
     "output_type": "stream",
     "text": [
      "--- 1.365847110748291 seconds ---\n",
      "MRR@100 = 0.0135\n",
      "use_cg, True, factors: 50, iterations: 30\n"
     ]
    },
    {
     "data": {
      "application/vnd.jupyter.widget-view+json": {
       "model_id": "2c38e3f5009e4c839fe483e59d9e9feb",
       "version_major": 2,
       "version_minor": 0
      },
      "text/plain": [
       "  0%|          | 0/30 [00:00<?, ?it/s]"
      ]
     },
     "metadata": {},
     "output_type": "display_data"
    },
    {
     "name": "stdout",
     "output_type": "stream",
     "text": [
      "--- 1.208704948425293 seconds ---\n",
      "MRR@100 = 0.0169\n",
      "use_cg, True, factors: 50, iterations: 50\n"
     ]
    },
    {
     "data": {
      "application/vnd.jupyter.widget-view+json": {
       "model_id": "13de67259d4641ff94a94b94e5064e05",
       "version_major": 2,
       "version_minor": 0
      },
      "text/plain": [
       "  0%|          | 0/50 [00:00<?, ?it/s]"
      ]
     },
     "metadata": {},
     "output_type": "display_data"
    },
    {
     "name": "stdout",
     "output_type": "stream",
     "text": [
      "--- 1.314753770828247 seconds ---\n",
      "MRR@100 = 0.0177\n",
      "use_cg, True, factors: 50, iterations: 100\n"
     ]
    },
    {
     "data": {
      "application/vnd.jupyter.widget-view+json": {
       "model_id": "76d2230eb7cb4eb6b51e67a722e8c0fb",
       "version_major": 2,
       "version_minor": 0
      },
      "text/plain": [
       "  0%|          | 0/100 [00:00<?, ?it/s]"
      ]
     },
     "metadata": {},
     "output_type": "display_data"
    }
   ],
   "source": [
    "for use_cg in [False, True]:\n",
    "    for factors in [30, 50, 100]:\n",
    "        for iterations in [30, 50, 100]:\n",
    "                print(f'use_cg, {use_cg}, factors: {factors}, iterations: {iterations}')\n",
    "                optimize(factors=factors,\n",
    "                     regularization=10,\n",
    "                     alpha=10,\n",
    "                     use_native=True,\n",
    "                     use_cg=True,\n",
    "                     iterations=iterations,\n",
    "                     calculate_training_loss=False)"
   ]
  },
  {
   "cell_type": "code",
   "execution_count": 12,
   "id": "a23c7774",
   "metadata": {
    "scrolled": true
   },
   "outputs": [
    {
     "name": "stdout",
     "output_type": "stream",
     "text": [
      "factors: 100, iterations: 20\n"
     ]
    },
    {
     "name": "stderr",
     "output_type": "stream",
     "text": [
      "100%|██████████████████████████████████████████████████████████████████████████████████| 20/20 [00:20<00:00,  1.04s/it]\n"
     ]
    },
    {
     "name": "stdout",
     "output_type": "stream",
     "text": [
      "--- 0.7612245082855225 seconds ---\n",
      "MRR@100 = 0.0208\n",
      "factors: 100, iterations: 30\n"
     ]
    },
    {
     "name": "stderr",
     "output_type": "stream",
     "text": [
      "100%|██████████████████████████████████████████████████████████████████████████████████| 30/30 [00:31<00:00,  1.05s/it]\n"
     ]
    },
    {
     "name": "stdout",
     "output_type": "stream",
     "text": [
      "--- 0.7656757831573486 seconds ---\n",
      "MRR@100 = 0.0207\n",
      "factors: 100, iterations: 40\n"
     ]
    },
    {
     "name": "stderr",
     "output_type": "stream",
     "text": [
      "100%|██████████████████████████████████████████████████████████████████████████████████| 40/40 [00:41<00:00,  1.03s/it]\n"
     ]
    },
    {
     "name": "stdout",
     "output_type": "stream",
     "text": [
      "--- 0.6600117683410645 seconds ---\n",
      "MRR@100 = 0.0203\n",
      "factors: 150, iterations: 20\n"
     ]
    },
    {
     "name": "stderr",
     "output_type": "stream",
     "text": [
      "100%|██████████████████████████████████████████████████████████████████████████████████| 20/20 [10:21<00:00, 31.09s/it]\n"
     ]
    },
    {
     "name": "stdout",
     "output_type": "stream",
     "text": [
      "--- 1.0113377571105957 seconds ---\n",
      "MRR@100 = 0.0218\n",
      "factors: 150, iterations: 30\n"
     ]
    },
    {
     "name": "stderr",
     "output_type": "stream",
     "text": [
      "100%|██████████████████████████████████████████████████████████████████████████████████| 30/30 [15:38<00:00, 31.27s/it]\n"
     ]
    },
    {
     "name": "stdout",
     "output_type": "stream",
     "text": [
      "--- 1.0153064727783203 seconds ---\n",
      "MRR@100 = 0.0216\n",
      "factors: 150, iterations: 40\n"
     ]
    },
    {
     "name": "stderr",
     "output_type": "stream",
     "text": [
      " 10%|████████▎                                                                          | 4/40 [02:35<23:16, 38.80s/it]\n"
     ]
    },
    {
     "ename": "KeyboardInterrupt",
     "evalue": "",
     "output_type": "error",
     "traceback": [
      "\u001b[1;31m---------------------------------------------------------------------------\u001b[0m",
      "\u001b[1;31mKeyboardInterrupt\u001b[0m                         Traceback (most recent call last)",
      "Cell \u001b[1;32mIn [12], line 4\u001b[0m\n\u001b[0;32m      2\u001b[0m \u001b[38;5;28;01mfor\u001b[39;00m iterations \u001b[38;5;129;01min\u001b[39;00m [\u001b[38;5;241m20\u001b[39m, \u001b[38;5;241m30\u001b[39m, \u001b[38;5;241m40\u001b[39m]:\n\u001b[0;32m      3\u001b[0m         \u001b[38;5;28mprint\u001b[39m(\u001b[38;5;124mf\u001b[39m\u001b[38;5;124m'\u001b[39m\u001b[38;5;124mfactors: \u001b[39m\u001b[38;5;132;01m{\u001b[39;00mfactors\u001b[38;5;132;01m}\u001b[39;00m\u001b[38;5;124m, iterations: \u001b[39m\u001b[38;5;132;01m{\u001b[39;00miterations\u001b[38;5;132;01m}\u001b[39;00m\u001b[38;5;124m'\u001b[39m)\n\u001b[1;32m----> 4\u001b[0m         \u001b[43moptimize\u001b[49m\u001b[43m(\u001b[49m\u001b[43mfactors\u001b[49m\u001b[38;5;241;43m=\u001b[39;49m\u001b[43mfactors\u001b[49m\u001b[43m,\u001b[49m\n\u001b[0;32m      5\u001b[0m \u001b[43m             \u001b[49m\u001b[43mregularization\u001b[49m\u001b[38;5;241;43m=\u001b[39;49m\u001b[38;5;241;43m10\u001b[39;49m\u001b[43m,\u001b[49m\n\u001b[0;32m      6\u001b[0m \u001b[43m             \u001b[49m\u001b[43malpha\u001b[49m\u001b[38;5;241;43m=\u001b[39;49m\u001b[38;5;241;43m10\u001b[39;49m\u001b[43m,\u001b[49m\n\u001b[0;32m      7\u001b[0m \u001b[43m             \u001b[49m\u001b[43muse_native\u001b[49m\u001b[38;5;241;43m=\u001b[39;49m\u001b[38;5;28;43;01mTrue\u001b[39;49;00m\u001b[43m,\u001b[49m\n\u001b[0;32m      8\u001b[0m \u001b[43m             \u001b[49m\u001b[43muse_cg\u001b[49m\u001b[38;5;241;43m=\u001b[39;49m\u001b[38;5;28;43;01mFalse\u001b[39;49;00m\u001b[43m,\u001b[49m\n\u001b[0;32m      9\u001b[0m \u001b[43m             \u001b[49m\u001b[43miterations\u001b[49m\u001b[38;5;241;43m=\u001b[39;49m\u001b[43miterations\u001b[49m\u001b[43m,\u001b[49m\n\u001b[0;32m     10\u001b[0m \u001b[43m             \u001b[49m\u001b[43mcalculate_training_loss\u001b[49m\u001b[38;5;241;43m=\u001b[39;49m\u001b[38;5;28;43;01mFalse\u001b[39;49;00m\u001b[43m)\u001b[49m\n",
      "Cell \u001b[1;32mIn [11], line 19\u001b[0m, in \u001b[0;36moptimize\u001b[1;34m(factors, regularization, alpha, use_native, use_cg, iterations, calculate_training_loss)\u001b[0m\n\u001b[0;32m      3\u001b[0m \u001b[38;5;28;01mdef\u001b[39;00m \u001b[38;5;21moptimize\u001b[39m(factors\u001b[38;5;241m=\u001b[39m\u001b[38;5;241m100\u001b[39m,\n\u001b[0;32m      4\u001b[0m              regularization\u001b[38;5;241m=\u001b[39m\u001b[38;5;241m0.01\u001b[39m,\n\u001b[0;32m      5\u001b[0m              alpha\u001b[38;5;241m=\u001b[39m\u001b[38;5;241m1.0\u001b[39m,\n\u001b[1;32m   (...)\u001b[0m\n\u001b[0;32m      8\u001b[0m              iterations\u001b[38;5;241m=\u001b[39m\u001b[38;5;241m15\u001b[39m,\n\u001b[0;32m      9\u001b[0m              calculate_training_loss\u001b[38;5;241m=\u001b[39m\u001b[38;5;28;01mFalse\u001b[39;00m):\n\u001b[0;32m     11\u001b[0m     model \u001b[38;5;241m=\u001b[39m implicit\u001b[38;5;241m.\u001b[39mals\u001b[38;5;241m.\u001b[39mAlternatingLeastSquares(factors\u001b[38;5;241m=\u001b[39mfactors, \n\u001b[0;32m     12\u001b[0m                                                  regularization\u001b[38;5;241m=\u001b[39mregularization,\n\u001b[0;32m     13\u001b[0m                                                  alpha\u001b[38;5;241m=\u001b[39malpha,\n\u001b[1;32m   (...)\u001b[0m\n\u001b[0;32m     16\u001b[0m                                                  iterations\u001b[38;5;241m=\u001b[39miterations,\n\u001b[0;32m     17\u001b[0m                                                  random_state\u001b[38;5;241m=\u001b[39m\u001b[38;5;241m42\u001b[39m)\n\u001b[1;32m---> 19\u001b[0m     \u001b[43mmodel\u001b[49m\u001b[38;5;241;43m.\u001b[39;49m\u001b[43mfit\u001b[49m\u001b[43m(\u001b[49m\u001b[43muser_item\u001b[49m\u001b[43m)\u001b[49m\n\u001b[0;32m     21\u001b[0m     start_time \u001b[38;5;241m=\u001b[39m time\u001b[38;5;241m.\u001b[39mtime()\n\u001b[0;32m     23\u001b[0m     userid \u001b[38;5;241m=\u001b[39m val_id\n",
      "File \u001b[1;32mc:\\python38\\lib\\site-packages\\implicit\\cpu\\als.py:170\u001b[0m, in \u001b[0;36mAlternatingLeastSquares.fit\u001b[1;34m(self, user_items, show_progress, callback)\u001b[0m\n\u001b[0;32m    162\u001b[0m s \u001b[38;5;241m=\u001b[39m time\u001b[38;5;241m.\u001b[39mtime()\n\u001b[0;32m    163\u001b[0m solver(\n\u001b[0;32m    164\u001b[0m     Cui,\n\u001b[0;32m    165\u001b[0m     \u001b[38;5;28mself\u001b[39m\u001b[38;5;241m.\u001b[39muser_factors,\n\u001b[1;32m   (...)\u001b[0m\n\u001b[0;32m    168\u001b[0m     num_threads\u001b[38;5;241m=\u001b[39m\u001b[38;5;28mself\u001b[39m\u001b[38;5;241m.\u001b[39mnum_threads,\n\u001b[0;32m    169\u001b[0m )\n\u001b[1;32m--> 170\u001b[0m \u001b[43msolver\u001b[49m\u001b[43m(\u001b[49m\n\u001b[0;32m    171\u001b[0m \u001b[43m    \u001b[49m\u001b[43mCiu\u001b[49m\u001b[43m,\u001b[49m\n\u001b[0;32m    172\u001b[0m \u001b[43m    \u001b[49m\u001b[38;5;28;43mself\u001b[39;49m\u001b[38;5;241;43m.\u001b[39;49m\u001b[43mitem_factors\u001b[49m\u001b[43m,\u001b[49m\n\u001b[0;32m    173\u001b[0m \u001b[43m    \u001b[49m\u001b[38;5;28;43mself\u001b[39;49m\u001b[38;5;241;43m.\u001b[39;49m\u001b[43muser_factors\u001b[49m\u001b[43m,\u001b[49m\n\u001b[0;32m    174\u001b[0m \u001b[43m    \u001b[49m\u001b[38;5;28;43mself\u001b[39;49m\u001b[38;5;241;43m.\u001b[39;49m\u001b[43mregularization\u001b[49m\u001b[43m,\u001b[49m\n\u001b[0;32m    175\u001b[0m \u001b[43m    \u001b[49m\u001b[43mnum_threads\u001b[49m\u001b[38;5;241;43m=\u001b[39;49m\u001b[38;5;28;43mself\u001b[39;49m\u001b[38;5;241;43m.\u001b[39;49m\u001b[43mnum_threads\u001b[49m\u001b[43m,\u001b[49m\n\u001b[0;32m    176\u001b[0m \u001b[43m\u001b[49m\u001b[43m)\u001b[49m\n\u001b[0;32m    177\u001b[0m progress\u001b[38;5;241m.\u001b[39mupdate(\u001b[38;5;241m1\u001b[39m)\n\u001b[0;32m    179\u001b[0m \u001b[38;5;28;01mif\u001b[39;00m \u001b[38;5;28mself\u001b[39m\u001b[38;5;241m.\u001b[39mcalculate_training_loss:\n",
      "\u001b[1;31mKeyboardInterrupt\u001b[0m: "
     ]
    }
   ],
   "source": [
    "for factors in [100, 150, 200]:\n",
    "    for iterations in [20, 30, 40]:\n",
    "            print(f'factors: {factors}, iterations: {iterations}')\n",
    "            optimize(factors=factors,\n",
    "                 regularization=10,\n",
    "                 alpha=10,\n",
    "                 use_native=True,\n",
    "                 use_cg=False,\n",
    "                 iterations=iterations,\n",
    "                 calculate_training_loss=False)"
   ]
  },
  {
   "cell_type": "code",
   "execution_count": 21,
   "id": "d96c16a1",
   "metadata": {
    "scrolled": true
   },
   "outputs": [
    {
     "name": "stdout",
     "output_type": "stream",
     "text": [
      "factors: 100, iterations: 15\n"
     ]
    },
    {
     "name": "stderr",
     "output_type": "stream",
     "text": [
      " 27%|██████████████████████▏                                                            | 4/15 [00:22<01:01,  5.62s/it]\n"
     ]
    },
    {
     "ename": "KeyboardInterrupt",
     "evalue": "",
     "output_type": "error",
     "traceback": [
      "\u001b[1;31m---------------------------------------------------------------------------\u001b[0m",
      "\u001b[1;31mKeyboardInterrupt\u001b[0m                         Traceback (most recent call last)",
      "Cell \u001b[1;32mIn [21], line 4\u001b[0m\n\u001b[0;32m      2\u001b[0m \u001b[38;5;28;01mfor\u001b[39;00m iterations \u001b[38;5;129;01min\u001b[39;00m [\u001b[38;5;241m15\u001b[39m, \u001b[38;5;241m20\u001b[39m, \u001b[38;5;241m25\u001b[39m]:\n\u001b[0;32m      3\u001b[0m         \u001b[38;5;28mprint\u001b[39m(\u001b[38;5;124mf\u001b[39m\u001b[38;5;124m'\u001b[39m\u001b[38;5;124mfactors: \u001b[39m\u001b[38;5;132;01m{\u001b[39;00mfactors\u001b[38;5;132;01m}\u001b[39;00m\u001b[38;5;124m, iterations: \u001b[39m\u001b[38;5;132;01m{\u001b[39;00miterations\u001b[38;5;132;01m}\u001b[39;00m\u001b[38;5;124m'\u001b[39m)\n\u001b[1;32m----> 4\u001b[0m         \u001b[43moptimize\u001b[49m\u001b[43m(\u001b[49m\u001b[43mfactors\u001b[49m\u001b[38;5;241;43m=\u001b[39;49m\u001b[43mfactors\u001b[49m\u001b[43m,\u001b[49m\n\u001b[0;32m      5\u001b[0m \u001b[43m             \u001b[49m\u001b[43mregularization\u001b[49m\u001b[38;5;241;43m=\u001b[39;49m\u001b[38;5;241;43m10\u001b[39;49m\u001b[43m,\u001b[49m\n\u001b[0;32m      6\u001b[0m \u001b[43m             \u001b[49m\u001b[43malpha\u001b[49m\u001b[38;5;241;43m=\u001b[39;49m\u001b[38;5;241;43m10\u001b[39;49m\u001b[43m,\u001b[49m\n\u001b[0;32m      7\u001b[0m \u001b[43m             \u001b[49m\u001b[43muse_native\u001b[49m\u001b[38;5;241;43m=\u001b[39;49m\u001b[38;5;28;43;01mTrue\u001b[39;49;00m\u001b[43m,\u001b[49m\n\u001b[0;32m      8\u001b[0m \u001b[43m             \u001b[49m\u001b[43muse_cg\u001b[49m\u001b[38;5;241;43m=\u001b[39;49m\u001b[38;5;28;43;01mFalse\u001b[39;49;00m\u001b[43m,\u001b[49m\n\u001b[0;32m      9\u001b[0m \u001b[43m             \u001b[49m\u001b[43miterations\u001b[49m\u001b[38;5;241;43m=\u001b[39;49m\u001b[43miterations\u001b[49m\u001b[43m,\u001b[49m\n\u001b[0;32m     10\u001b[0m \u001b[43m             \u001b[49m\u001b[43mcalculate_training_loss\u001b[49m\u001b[38;5;241;43m=\u001b[39;49m\u001b[38;5;28;43;01mFalse\u001b[39;49;00m\u001b[43m)\u001b[49m\n",
      "Cell \u001b[1;32mIn [19], line 19\u001b[0m, in \u001b[0;36moptimize\u001b[1;34m(factors, regularization, alpha, use_native, use_cg, iterations, calculate_training_loss)\u001b[0m\n\u001b[0;32m      3\u001b[0m \u001b[38;5;28;01mdef\u001b[39;00m \u001b[38;5;21moptimize\u001b[39m(factors\u001b[38;5;241m=\u001b[39m\u001b[38;5;241m100\u001b[39m,\n\u001b[0;32m      4\u001b[0m              regularization\u001b[38;5;241m=\u001b[39m\u001b[38;5;241m0.01\u001b[39m,\n\u001b[0;32m      5\u001b[0m              alpha\u001b[38;5;241m=\u001b[39m\u001b[38;5;241m1.0\u001b[39m,\n\u001b[1;32m   (...)\u001b[0m\n\u001b[0;32m      8\u001b[0m              iterations\u001b[38;5;241m=\u001b[39m\u001b[38;5;241m15\u001b[39m,\n\u001b[0;32m      9\u001b[0m              calculate_training_loss\u001b[38;5;241m=\u001b[39m\u001b[38;5;28;01mFalse\u001b[39;00m):\n\u001b[0;32m     11\u001b[0m     model \u001b[38;5;241m=\u001b[39m implicit\u001b[38;5;241m.\u001b[39mals\u001b[38;5;241m.\u001b[39mAlternatingLeastSquares(factors\u001b[38;5;241m=\u001b[39mfactors, \n\u001b[0;32m     12\u001b[0m                                                  regularization\u001b[38;5;241m=\u001b[39mregularization,\n\u001b[0;32m     13\u001b[0m                                                  alpha\u001b[38;5;241m=\u001b[39malpha,\n\u001b[1;32m   (...)\u001b[0m\n\u001b[0;32m     16\u001b[0m                                                  iterations\u001b[38;5;241m=\u001b[39miterations,\n\u001b[0;32m     17\u001b[0m                                                  random_state\u001b[38;5;241m=\u001b[39m\u001b[38;5;241m42\u001b[39m)\n\u001b[1;32m---> 19\u001b[0m     \u001b[43mmodel\u001b[49m\u001b[38;5;241;43m.\u001b[39;49m\u001b[43mfit\u001b[49m\u001b[43m(\u001b[49m\u001b[43muser_item\u001b[49m\u001b[43m)\u001b[49m\n\u001b[0;32m     21\u001b[0m     start_time \u001b[38;5;241m=\u001b[39m time\u001b[38;5;241m.\u001b[39mtime()\n\u001b[0;32m     23\u001b[0m     userid \u001b[38;5;241m=\u001b[39m np\u001b[38;5;241m.\u001b[39munique(arr_rows_val)\n",
      "File \u001b[1;32mc:\\python38\\lib\\site-packages\\implicit\\cpu\\als.py:163\u001b[0m, in \u001b[0;36mAlternatingLeastSquares.fit\u001b[1;34m(self, user_items, show_progress, callback)\u001b[0m\n\u001b[0;32m    161\u001b[0m \u001b[38;5;28;01mfor\u001b[39;00m iteration \u001b[38;5;129;01min\u001b[39;00m \u001b[38;5;28mrange\u001b[39m(\u001b[38;5;28mself\u001b[39m\u001b[38;5;241m.\u001b[39miterations):\n\u001b[0;32m    162\u001b[0m     s \u001b[38;5;241m=\u001b[39m time\u001b[38;5;241m.\u001b[39mtime()\n\u001b[1;32m--> 163\u001b[0m     \u001b[43msolver\u001b[49m\u001b[43m(\u001b[49m\n\u001b[0;32m    164\u001b[0m \u001b[43m        \u001b[49m\u001b[43mCui\u001b[49m\u001b[43m,\u001b[49m\n\u001b[0;32m    165\u001b[0m \u001b[43m        \u001b[49m\u001b[38;5;28;43mself\u001b[39;49m\u001b[38;5;241;43m.\u001b[39;49m\u001b[43muser_factors\u001b[49m\u001b[43m,\u001b[49m\n\u001b[0;32m    166\u001b[0m \u001b[43m        \u001b[49m\u001b[38;5;28;43mself\u001b[39;49m\u001b[38;5;241;43m.\u001b[39;49m\u001b[43mitem_factors\u001b[49m\u001b[43m,\u001b[49m\n\u001b[0;32m    167\u001b[0m \u001b[43m        \u001b[49m\u001b[38;5;28;43mself\u001b[39;49m\u001b[38;5;241;43m.\u001b[39;49m\u001b[43mregularization\u001b[49m\u001b[43m,\u001b[49m\n\u001b[0;32m    168\u001b[0m \u001b[43m        \u001b[49m\u001b[43mnum_threads\u001b[49m\u001b[38;5;241;43m=\u001b[39;49m\u001b[38;5;28;43mself\u001b[39;49m\u001b[38;5;241;43m.\u001b[39;49m\u001b[43mnum_threads\u001b[49m\u001b[43m,\u001b[49m\n\u001b[0;32m    169\u001b[0m \u001b[43m    \u001b[49m\u001b[43m)\u001b[49m\n\u001b[0;32m    170\u001b[0m     solver(\n\u001b[0;32m    171\u001b[0m         Ciu,\n\u001b[0;32m    172\u001b[0m         \u001b[38;5;28mself\u001b[39m\u001b[38;5;241m.\u001b[39mitem_factors,\n\u001b[1;32m   (...)\u001b[0m\n\u001b[0;32m    175\u001b[0m         num_threads\u001b[38;5;241m=\u001b[39m\u001b[38;5;28mself\u001b[39m\u001b[38;5;241m.\u001b[39mnum_threads,\n\u001b[0;32m    176\u001b[0m     )\n\u001b[0;32m    177\u001b[0m     progress\u001b[38;5;241m.\u001b[39mupdate(\u001b[38;5;241m1\u001b[39m)\n",
      "\u001b[1;31mKeyboardInterrupt\u001b[0m: "
     ]
    }
   ],
   "source": [
    "for factors in [100, 150, 200]:\n",
    "    for iterations in [15, 20, 25]:\n",
    "            print(f'factors: {factors}, iterations: {iterations}')\n",
    "            optimize(factors=factors,\n",
    "                 regularization=10,\n",
    "                 alpha=10,\n",
    "                 use_native=True,\n",
    "                 use_cg=False,\n",
    "                 iterations=iterations,\n",
    "                 calculate_training_loss=False)\n",
    " "
   ]
  },
  {
   "cell_type": "code",
   "execution_count": 14,
   "id": "9e996ed0",
   "metadata": {},
   "outputs": [
    {
     "name": "stdout",
     "output_type": "stream",
     "text": [
      "factors: 100\n"
     ]
    },
    {
     "name": "stderr",
     "output_type": "stream",
     "text": [
      "100%|██████████████████████████████████████████████████████████████████████████████████| 20/20 [00:21<00:00,  1.05s/it]\n"
     ]
    },
    {
     "name": "stdout",
     "output_type": "stream",
     "text": [
      "--- 0.7596590518951416 seconds ---\n",
      "MRR@100 = 0.0208\n",
      "factors: 150\n"
     ]
    },
    {
     "name": "stderr",
     "output_type": "stream",
     "text": [
      "100%|██████████████████████████████████████████████████████████████████████████████████| 20/20 [26:42<00:00, 80.13s/it]\n"
     ]
    },
    {
     "name": "stdout",
     "output_type": "stream",
     "text": [
      "--- 0.9017114639282227 seconds ---\n",
      "MRR@100 = 0.0218\n",
      "factors: 200\n"
     ]
    },
    {
     "name": "stderr",
     "output_type": "stream",
     "text": [
      "100%|██████████████████████████████████████████████████████████████████████████████████| 20/20 [14:06<00:00, 42.35s/it]\n"
     ]
    },
    {
     "name": "stdout",
     "output_type": "stream",
     "text": [
      "--- 1.0894722938537598 seconds ---\n",
      "MRR@100 = 0.0227\n"
     ]
    }
   ],
   "source": [
    "for factors in [100, 150, 200]:\n",
    "        print(f'factors: {factors}')\n",
    "        optimize(factors=factors,\n",
    "             regularization=10,\n",
    "             alpha=10,\n",
    "             use_native=True,\n",
    "             use_cg=False,\n",
    "             iterations=20,\n",
    "             calculate_training_loss=False)"
   ]
  },
  {
   "cell_type": "code",
   "execution_count": null,
   "id": "90b287c7",
   "metadata": {},
   "outputs": [],
   "source": []
  },
  {
   "cell_type": "code",
   "execution_count": 22,
   "id": "4d667e7c",
   "metadata": {},
   "outputs": [
    {
     "name": "stdout",
     "output_type": "stream",
     "text": [
      "CPU times: total: 2min 8s\n",
      "Wall time: 2min 8s\n"
     ]
    }
   ],
   "source": [
    "%%time\n",
    "\n",
    "list_coord = []\n",
    "list_coord_val = []\n",
    "target_val = []\n",
    "np.random.seed(42)  \n",
    "val_id = np.random.choice(range(100000), size=25000, replace=False)\n",
    "val_id.sort()\n",
    "\n",
    "with open(train_path) as f:\n",
    "    lines = f.readlines()\n",
    "    idx = 0\n",
    "    idx_val = 0\n",
    "    for line in lines:\n",
    "        tracks = line.strip().split(' ')\n",
    "        if len(tracks) == 0:\n",
    "            print(0)\n",
    "        if len(tracks) == 1:\n",
    "            print(1)\n",
    "        for i, track in enumerate(tracks):\n",
    "            if idx in val_id and i+1 == len(tracks):\n",
    "                target_val.append(track)\n",
    "                idx_val += 1\n",
    "                continue\n",
    "            if idx in val_id:\n",
    "                list_coord_val.append((idx_val, track))\n",
    "            list_coord.append((idx, track))\n",
    "        idx += 1\n",
    "        if idx >= 100000:\n",
    "            break"
   ]
  },
  {
   "cell_type": "code",
   "execution_count": 23,
   "id": "be6e1008",
   "metadata": {
    "scrolled": true
   },
   "outputs": [
    {
     "name": "stdout",
     "output_type": "stream",
     "text": [
      "CPU times: total: 3.61 s\n",
      "Wall time: 3.61 s\n"
     ]
    }
   ],
   "source": [
    "%%time\n",
    "\n",
    "arr_rows = np.array([i[0] for i in list_coord])\n",
    "arr_cols = np.array([i[1] for i in list_coord]).astype(int)\n",
    "ones = np.ones(arr_rows.shape[0])\n",
    "user_item = csr_matrix((ones, (arr_rows, arr_cols)), dtype=int)\n",
    "#item_user = csr_matrix((ones, (arr_cols, arr_rows)), dtype=int)\n",
    "\n",
    "arr_rows_val = np.array([i[0] for i in list_coord_val])\n",
    "arr_cols_val = np.array([i[1] for i in list_coord_val]).astype(int)\n",
    "ones_val = np.ones(arr_rows_val.shape[0])\n",
    "user_item_val = csr_matrix((ones_val, (arr_rows_val, arr_cols_val)), dtype=int)"
   ]
  },
  {
   "cell_type": "code",
   "execution_count": 24,
   "id": "99080210",
   "metadata": {},
   "outputs": [],
   "source": [
    "import time\n",
    "\n",
    "def optimize(factors=100,\n",
    "             regularization=0.01,\n",
    "             alpha=1.0,\n",
    "             use_native=True,\n",
    "             use_cg=True,\n",
    "             iterations=15,\n",
    "             calculate_training_loss=False):\n",
    "    \n",
    "    model = implicit.als.AlternatingLeastSquares(factors=factors, \n",
    "                                                 regularization=regularization,\n",
    "                                                 alpha=alpha,\n",
    "                                                 use_native=use_native,\n",
    "                                                 use_cg=use_cg,\n",
    "                                                 iterations=iterations,\n",
    "                                                 random_state=42)\n",
    " \n",
    "    model.fit(user_item)\n",
    "    \n",
    "    start_time = time.time()\n",
    "    \n",
    "    userid = val_id\n",
    "    recommendations = model.recommend(userid, user_item_val, N=100, filter_already_liked_items=True)\n",
    "    result = [' '.join(map(str, i)) + '\\n' for i in recommendations[0]]\n",
    "    \n",
    "    print(\"--- %s seconds ---\" % (time.time() - start_time))\n",
    "    \n",
    "    with open(pred_val_path, 'w') as f:\n",
    "        f.writelines(result)\n",
    "    \n",
    "    with open(target_val_path, 'w') as f:\n",
    "        for i in target_val:\n",
    "            f.write(f'{i}\\n')\n",
    "            \n",
    "    calc_score(target_val_path, pred_val_path)"
   ]
  },
  {
   "cell_type": "code",
   "execution_count": 25,
   "id": "9fffc55b",
   "metadata": {},
   "outputs": [
    {
     "name": "stdout",
     "output_type": "stream",
     "text": [
      "factors: 50\n"
     ]
    },
    {
     "name": "stderr",
     "output_type": "stream",
     "text": [
      "100%|██████████████████████████████████████████████████████████████████████████████████| 20/20 [00:31<00:00,  1.59s/it]\n"
     ]
    },
    {
     "name": "stdout",
     "output_type": "stream",
     "text": [
      "--- 14.807275533676147 seconds ---\n",
      "MRR@100 = 0.0172\n",
      "factors: 100\n"
     ]
    },
    {
     "name": "stderr",
     "output_type": "stream",
     "text": [
      "100%|██████████████████████████████████████████████████████████████████████████████████| 20/20 [01:39<00:00,  4.99s/it]\n"
     ]
    },
    {
     "name": "stdout",
     "output_type": "stream",
     "text": [
      "--- 17.90154457092285 seconds ---\n",
      "MRR@100 = 0.0206\n",
      "factors: 150\n"
     ]
    },
    {
     "name": "stderr",
     "output_type": "stream",
     "text": [
      "100%|██████████████████████████████████████████████████████████████████████████████████| 20/20 [30:57<00:00, 92.87s/it]\n"
     ]
    },
    {
     "name": "stdout",
     "output_type": "stream",
     "text": [
      "--- 26.543158054351807 seconds ---\n",
      "MRR@100 = 0.0219\n"
     ]
    }
   ],
   "source": [
    "for factors in [50, 100, 150]:\n",
    "        print(f'factors: {factors}')\n",
    "        optimize(factors=factors,\n",
    "             regularization=10,\n",
    "             alpha=10,\n",
    "             use_native=True,\n",
    "             use_cg=False,\n",
    "             iterations=20,\n",
    "             calculate_training_loss=False)"
   ]
  },
  {
   "cell_type": "code",
   "execution_count": 26,
   "id": "7040250f",
   "metadata": {},
   "outputs": [
    {
     "name": "stdout",
     "output_type": "stream",
     "text": [
      "use_cg: False\n"
     ]
    },
    {
     "name": "stderr",
     "output_type": "stream",
     "text": [
      "100%|██████████████████████████████████████████████████████████████████████████████████| 20/20 [02:03<00:00,  6.15s/it]\n"
     ]
    },
    {
     "name": "stdout",
     "output_type": "stream",
     "text": [
      "--- 22.88296937942505 seconds ---\n",
      "MRR@100 = 0.0206\n",
      "use_cg: True\n"
     ]
    },
    {
     "name": "stderr",
     "output_type": "stream",
     "text": [
      "100%|██████████████████████████████████████████████████████████████████████████████████| 20/20 [11:12<00:00, 33.64s/it]\n"
     ]
    },
    {
     "name": "stdout",
     "output_type": "stream",
     "text": [
      "--- 17.10799503326416 seconds ---\n",
      "MRR@100 = 0.0206\n"
     ]
    }
   ],
   "source": [
    "for use_cg in [False, True]:\n",
    "        print(f'use_cg: {use_cg}')\n",
    "        optimize(factors=100,\n",
    "             regularization=10,\n",
    "             alpha=10,\n",
    "             use_native=True,\n",
    "             use_cg=use_cg,\n",
    "             iterations=20,\n",
    "             calculate_training_loss=False)"
   ]
  },
  {
   "cell_type": "code",
   "execution_count": 27,
   "id": "c3251aab",
   "metadata": {},
   "outputs": [
    {
     "name": "stdout",
     "output_type": "stream",
     "text": [
      "iterations: 10\n"
     ]
    },
    {
     "name": "stderr",
     "output_type": "stream",
     "text": [
      "100%|██████████████████████████████████████████████████████████████████████████████████| 10/10 [00:46<00:00,  4.63s/it]\n"
     ]
    },
    {
     "name": "stdout",
     "output_type": "stream",
     "text": [
      "--- 16.07869529724121 seconds ---\n",
      "MRR@100 = 0.0204\n",
      "iterations: 20\n"
     ]
    },
    {
     "name": "stderr",
     "output_type": "stream",
     "text": [
      "100%|██████████████████████████████████████████████████████████████████████████████████| 20/20 [01:36<00:00,  4.84s/it]\n"
     ]
    },
    {
     "name": "stdout",
     "output_type": "stream",
     "text": [
      "--- 16.63031530380249 seconds ---\n",
      "MRR@100 = 0.0206\n",
      "iterations: 50\n"
     ]
    },
    {
     "name": "stderr",
     "output_type": "stream",
     "text": [
      "100%|██████████████████████████████████████████████████████████████████████████████████| 50/50 [04:06<00:00,  4.93s/it]\n"
     ]
    },
    {
     "name": "stdout",
     "output_type": "stream",
     "text": [
      "--- 16.422136783599854 seconds ---\n",
      "MRR@100 = 0.0205\n",
      "iterations: 100\n"
     ]
    },
    {
     "name": "stderr",
     "output_type": "stream",
     "text": [
      "  2%|█▋                                                                                | 2/100 [00:14<12:01,  7.36s/it]\n"
     ]
    },
    {
     "ename": "KeyboardInterrupt",
     "evalue": "",
     "output_type": "error",
     "traceback": [
      "\u001b[1;31m---------------------------------------------------------------------------\u001b[0m",
      "\u001b[1;31mKeyboardInterrupt\u001b[0m                         Traceback (most recent call last)",
      "Cell \u001b[1;32mIn [27], line 3\u001b[0m\n\u001b[0;32m      1\u001b[0m \u001b[38;5;28;01mfor\u001b[39;00m iterations \u001b[38;5;129;01min\u001b[39;00m [\u001b[38;5;241m10\u001b[39m, \u001b[38;5;241m20\u001b[39m, \u001b[38;5;241m50\u001b[39m, \u001b[38;5;241m100\u001b[39m]:\n\u001b[0;32m      2\u001b[0m         \u001b[38;5;28mprint\u001b[39m(\u001b[38;5;124mf\u001b[39m\u001b[38;5;124m'\u001b[39m\u001b[38;5;124miterations: \u001b[39m\u001b[38;5;132;01m{\u001b[39;00miterations\u001b[38;5;132;01m}\u001b[39;00m\u001b[38;5;124m'\u001b[39m)\n\u001b[1;32m----> 3\u001b[0m         \u001b[43moptimize\u001b[49m\u001b[43m(\u001b[49m\u001b[43mfactors\u001b[49m\u001b[38;5;241;43m=\u001b[39;49m\u001b[38;5;241;43m100\u001b[39;49m\u001b[43m,\u001b[49m\n\u001b[0;32m      4\u001b[0m \u001b[43m             \u001b[49m\u001b[43mregularization\u001b[49m\u001b[38;5;241;43m=\u001b[39;49m\u001b[38;5;241;43m10\u001b[39;49m\u001b[43m,\u001b[49m\n\u001b[0;32m      5\u001b[0m \u001b[43m             \u001b[49m\u001b[43malpha\u001b[49m\u001b[38;5;241;43m=\u001b[39;49m\u001b[38;5;241;43m10\u001b[39;49m\u001b[43m,\u001b[49m\n\u001b[0;32m      6\u001b[0m \u001b[43m             \u001b[49m\u001b[43muse_native\u001b[49m\u001b[38;5;241;43m=\u001b[39;49m\u001b[38;5;28;43;01mTrue\u001b[39;49;00m\u001b[43m,\u001b[49m\n\u001b[0;32m      7\u001b[0m \u001b[43m             \u001b[49m\u001b[43muse_cg\u001b[49m\u001b[38;5;241;43m=\u001b[39;49m\u001b[38;5;28;43;01mFalse\u001b[39;49;00m\u001b[43m,\u001b[49m\n\u001b[0;32m      8\u001b[0m \u001b[43m             \u001b[49m\u001b[43miterations\u001b[49m\u001b[38;5;241;43m=\u001b[39;49m\u001b[43miterations\u001b[49m\u001b[43m,\u001b[49m\n\u001b[0;32m      9\u001b[0m \u001b[43m             \u001b[49m\u001b[43mcalculate_training_loss\u001b[49m\u001b[38;5;241;43m=\u001b[39;49m\u001b[38;5;28;43;01mFalse\u001b[39;49;00m\u001b[43m)\u001b[49m\n",
      "Cell \u001b[1;32mIn [24], line 19\u001b[0m, in \u001b[0;36moptimize\u001b[1;34m(factors, regularization, alpha, use_native, use_cg, iterations, calculate_training_loss)\u001b[0m\n\u001b[0;32m      3\u001b[0m \u001b[38;5;28;01mdef\u001b[39;00m \u001b[38;5;21moptimize\u001b[39m(factors\u001b[38;5;241m=\u001b[39m\u001b[38;5;241m100\u001b[39m,\n\u001b[0;32m      4\u001b[0m              regularization\u001b[38;5;241m=\u001b[39m\u001b[38;5;241m0.01\u001b[39m,\n\u001b[0;32m      5\u001b[0m              alpha\u001b[38;5;241m=\u001b[39m\u001b[38;5;241m1.0\u001b[39m,\n\u001b[1;32m   (...)\u001b[0m\n\u001b[0;32m      8\u001b[0m              iterations\u001b[38;5;241m=\u001b[39m\u001b[38;5;241m15\u001b[39m,\n\u001b[0;32m      9\u001b[0m              calculate_training_loss\u001b[38;5;241m=\u001b[39m\u001b[38;5;28;01mFalse\u001b[39;00m):\n\u001b[0;32m     11\u001b[0m     model \u001b[38;5;241m=\u001b[39m implicit\u001b[38;5;241m.\u001b[39mals\u001b[38;5;241m.\u001b[39mAlternatingLeastSquares(factors\u001b[38;5;241m=\u001b[39mfactors, \n\u001b[0;32m     12\u001b[0m                                                  regularization\u001b[38;5;241m=\u001b[39mregularization,\n\u001b[0;32m     13\u001b[0m                                                  alpha\u001b[38;5;241m=\u001b[39malpha,\n\u001b[1;32m   (...)\u001b[0m\n\u001b[0;32m     16\u001b[0m                                                  iterations\u001b[38;5;241m=\u001b[39miterations,\n\u001b[0;32m     17\u001b[0m                                                  random_state\u001b[38;5;241m=\u001b[39m\u001b[38;5;241m42\u001b[39m)\n\u001b[1;32m---> 19\u001b[0m     \u001b[43mmodel\u001b[49m\u001b[38;5;241;43m.\u001b[39;49m\u001b[43mfit\u001b[49m\u001b[43m(\u001b[49m\u001b[43muser_item\u001b[49m\u001b[43m)\u001b[49m\n\u001b[0;32m     21\u001b[0m     start_time \u001b[38;5;241m=\u001b[39m time\u001b[38;5;241m.\u001b[39mtime()\n\u001b[0;32m     23\u001b[0m     userid \u001b[38;5;241m=\u001b[39m val_id\n",
      "File \u001b[1;32mc:\\python38\\lib\\site-packages\\implicit\\cpu\\als.py:170\u001b[0m, in \u001b[0;36mAlternatingLeastSquares.fit\u001b[1;34m(self, user_items, show_progress, callback)\u001b[0m\n\u001b[0;32m    162\u001b[0m s \u001b[38;5;241m=\u001b[39m time\u001b[38;5;241m.\u001b[39mtime()\n\u001b[0;32m    163\u001b[0m solver(\n\u001b[0;32m    164\u001b[0m     Cui,\n\u001b[0;32m    165\u001b[0m     \u001b[38;5;28mself\u001b[39m\u001b[38;5;241m.\u001b[39muser_factors,\n\u001b[1;32m   (...)\u001b[0m\n\u001b[0;32m    168\u001b[0m     num_threads\u001b[38;5;241m=\u001b[39m\u001b[38;5;28mself\u001b[39m\u001b[38;5;241m.\u001b[39mnum_threads,\n\u001b[0;32m    169\u001b[0m )\n\u001b[1;32m--> 170\u001b[0m \u001b[43msolver\u001b[49m\u001b[43m(\u001b[49m\n\u001b[0;32m    171\u001b[0m \u001b[43m    \u001b[49m\u001b[43mCiu\u001b[49m\u001b[43m,\u001b[49m\n\u001b[0;32m    172\u001b[0m \u001b[43m    \u001b[49m\u001b[38;5;28;43mself\u001b[39;49m\u001b[38;5;241;43m.\u001b[39;49m\u001b[43mitem_factors\u001b[49m\u001b[43m,\u001b[49m\n\u001b[0;32m    173\u001b[0m \u001b[43m    \u001b[49m\u001b[38;5;28;43mself\u001b[39;49m\u001b[38;5;241;43m.\u001b[39;49m\u001b[43muser_factors\u001b[49m\u001b[43m,\u001b[49m\n\u001b[0;32m    174\u001b[0m \u001b[43m    \u001b[49m\u001b[38;5;28;43mself\u001b[39;49m\u001b[38;5;241;43m.\u001b[39;49m\u001b[43mregularization\u001b[49m\u001b[43m,\u001b[49m\n\u001b[0;32m    175\u001b[0m \u001b[43m    \u001b[49m\u001b[43mnum_threads\u001b[49m\u001b[38;5;241;43m=\u001b[39;49m\u001b[38;5;28;43mself\u001b[39;49m\u001b[38;5;241;43m.\u001b[39;49m\u001b[43mnum_threads\u001b[49m\u001b[43m,\u001b[49m\n\u001b[0;32m    176\u001b[0m \u001b[43m\u001b[49m\u001b[43m)\u001b[49m\n\u001b[0;32m    177\u001b[0m progress\u001b[38;5;241m.\u001b[39mupdate(\u001b[38;5;241m1\u001b[39m)\n\u001b[0;32m    179\u001b[0m \u001b[38;5;28;01mif\u001b[39;00m \u001b[38;5;28mself\u001b[39m\u001b[38;5;241m.\u001b[39mcalculate_training_loss:\n",
      "\u001b[1;31mKeyboardInterrupt\u001b[0m: "
     ]
    }
   ],
   "source": [
    "for iterations in [10, 20, 50, 100]:\n",
    "        print(f'iterations: {iterations}')\n",
    "        optimize(factors=100,\n",
    "             regularization=10,\n",
    "             alpha=10,\n",
    "             use_native=True,\n",
    "             use_cg=False,\n",
    "             iterations=iterations,\n",
    "             calculate_training_loss=False)"
   ]
  },
  {
   "cell_type": "code",
   "execution_count": null,
   "id": "a5fc80d4",
   "metadata": {},
   "outputs": [
    {
     "name": "stdout",
     "output_type": "stream",
     "text": [
      " alpha: 0.001, regularization: 0.001\n"
     ]
    },
    {
     "name": "stderr",
     "output_type": "stream",
     "text": [
      "100%|██████████████████████████████████████████████████████████████████████████████████| 20/20 [01:37<00:00,  4.89s/it]\n"
     ]
    },
    {
     "name": "stdout",
     "output_type": "stream",
     "text": [
      "--- 16.729506731033325 seconds ---\n",
      "MRR@100 = 0.0077\n",
      " alpha: 0.001, regularization: 0.01\n"
     ]
    },
    {
     "name": "stderr",
     "output_type": "stream",
     "text": [
      "100%|██████████████████████████████████████████████████████████████████████████████████| 20/20 [01:39<00:00,  4.97s/it]\n"
     ]
    },
    {
     "name": "stdout",
     "output_type": "stream",
     "text": [
      "--- 16.79504680633545 seconds ---\n",
      "MRR@100 = 0.0088\n",
      " alpha: 0.001, regularization: 0.1\n"
     ]
    },
    {
     "name": "stderr",
     "output_type": "stream",
     "text": [
      "100%|██████████████████████████████████████████████████████████████████████████████████| 20/20 [01:37<00:00,  4.90s/it]\n"
     ]
    },
    {
     "name": "stdout",
     "output_type": "stream",
     "text": [
      "--- 16.690091609954834 seconds ---\n",
      "MRR@100 = 0.0083\n",
      " alpha: 0.001, regularization: 1\n"
     ]
    },
    {
     "name": "stderr",
     "output_type": "stream",
     "text": [
      "100%|██████████████████████████████████████████████████████████████████████████████████| 20/20 [17:16<00:00, 51.82s/it]\n"
     ]
    }
   ],
   "source": [
    "for alpha in [0.001, 0.01, 0.1, 1, 10, 100]:\n",
    "    for regularization in [0.001, 0.01, 0.1, 1, 10]:\n",
    "        print(f' alpha: {alpha}, regularization: {regularization}')\n",
    "        optimize(factors=100,\n",
    "             regularization=regularization,\n",
    "             alpha=alpha,\n",
    "             use_native=True,\n",
    "             use_cg=False,\n",
    "             iterations=20,\n",
    "             calculate_training_loss=False)"
   ]
  },
  {
   "cell_type": "code",
   "execution_count": null,
   "id": "3895c0b4",
   "metadata": {},
   "outputs": [],
   "source": [
    "for alpha in [0.1, 1, 10, 100]:\n",
    "    for regularization in [0.1, 1, 10, 100]:\n",
    "        print(f' alpha: {alpha}, regularization: {regularization}')\n",
    "        optimize(factors=100,\n",
    "             regularization=regularization,\n",
    "             alpha=alpha,\n",
    "             use_native=True,\n",
    "             use_cg=False,\n",
    "             iterations=20,\n",
    "             calculate_training_loss=False)"
   ]
  },
  {
   "cell_type": "code",
   "execution_count": null,
   "id": "f8211ef9",
   "metadata": {},
   "outputs": [],
   "source": []
  }
 ],
 "metadata": {
  "kernelspec": {
   "display_name": "Python 3 (ipykernel)",
   "language": "python",
   "name": "python3"
  },
  "language_info": {
   "codemirror_mode": {
    "name": "ipython",
    "version": 3
   },
   "file_extension": ".py",
   "mimetype": "text/x-python",
   "name": "python",
   "nbconvert_exporter": "python",
   "pygments_lexer": "ipython3",
   "version": "3.8.9"
  }
 },
 "nbformat": 4,
 "nbformat_minor": 5
}
