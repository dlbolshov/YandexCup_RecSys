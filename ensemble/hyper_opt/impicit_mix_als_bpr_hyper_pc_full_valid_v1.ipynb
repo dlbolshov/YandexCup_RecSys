{
 "cells": [
  {
   "cell_type": "code",
   "execution_count": 1,
   "id": "2007071c",
   "metadata": {},
   "outputs": [
    {
     "name": "stderr",
     "output_type": "stream",
     "text": [
      "c:\\python38\\lib\\site-packages\\tqdm\\auto.py:22: TqdmWarning: IProgress not found. Please update jupyter and ipywidgets. See https://ipywidgets.readthedocs.io/en/stable/user_install.html\n",
      "  from .autonotebook import tqdm as notebook_tqdm\n"
     ]
    }
   ],
   "source": [
    "import numpy as np\n",
    "import pandas as pd\n",
    "from scipy.sparse import csr_matrix\n",
    "from sklearn.preprocessing import minmax_scale, scale\n",
    "from tqdm import tqdm\n",
    "import time\n",
    "import implicit"
   ]
  },
  {
   "cell_type": "code",
   "execution_count": 2,
   "id": "63277bc0",
   "metadata": {},
   "outputs": [],
   "source": [
    "train_path = r\"C:\\Users\\dlbol\\Downloads\\likes\\likes\\likes_data\\train\"\n",
    "test_path = r\"C:\\Users\\dlbol\\Downloads\\likes\\likes\\likes_data\\test\"\n",
    "pred_path = r\"C:\\Users\\dlbol\\Downloads\\likes\\likes\\likes_data\\impicit_mix_als_bpr_hyper_full_valid_v1_pred\"\n",
    "target_path = r\"C:\\Users\\dlbol\\Downloads\\likes\\likes\\likes_data\\impicit_mix_als_bpr_hyper_full_valid_v1_target\""
   ]
  },
  {
   "cell_type": "code",
   "execution_count": 3,
   "id": "88c04db5",
   "metadata": {},
   "outputs": [],
   "source": [
    "def calc_mrr(predict, answer):\n",
    "    for i in range(len(predict)):\n",
    "        if predict[i] == answer:\n",
    "            return 1. / (i + 1)\n",
    "    return 0\n",
    "\n",
    "max_prediction_len = 100\n",
    "\n",
    "def calc_score(target_path, predict_path):\n",
    "    with open(target_path) as f:\n",
    "        y_true = [int(x.strip()) for x in f.readlines()]\n",
    "\n",
    "    with open(predict_path) as f:\n",
    "        y_pred = [[int(x) for x in line.strip().split(' ')] for line in f.readlines()]\n",
    "\n",
    "    mrr_score = 0\n",
    "    for (pred, answer) in zip(y_pred, y_true):\n",
    "        if len(pred) > max_prediction_len:\n",
    "            raise ValueError('$maximum prediction length is {}, got {}$'.format(max_prediction_len, len(y_pred[i])))\n",
    "        mrr_score += calc_mrr(pred, answer)\n",
    "\n",
    "    print(f\"MRR@100 = {(mrr_score / len(y_true)):.4f}\")\n",
    "    \n",
    "    return mrr_score / len(y_true)"
   ]
  },
  {
   "cell_type": "code",
   "execution_count": 4,
   "id": "f73733e5",
   "metadata": {},
   "outputs": [
    {
     "name": "stderr",
     "output_type": "stream",
     "text": [
      "  9%|██████▎                                                                  | 99999/1160084 [03:16<34:40, 509.57it/s]"
     ]
    },
    {
     "name": "stdout",
     "output_type": "stream",
     "text": [
      "CPU times: total: 3min 16s\n",
      "Wall time: 3min 17s\n"
     ]
    },
    {
     "name": "stderr",
     "output_type": "stream",
     "text": [
      "\n"
     ]
    }
   ],
   "source": [
    "%%time\n",
    "\n",
    "list_coord = []\n",
    "list_coord_val = []\n",
    "target_val = []\n",
    "np.random.seed(42)  \n",
    "val_id = np.random.choice(range(100000), size=25000, replace=False)\n",
    "val_id.sort()\n",
    "\n",
    "with open(train_path) as f:\n",
    "    lines = f.readlines()\n",
    "    idx = 0\n",
    "    idx_val = 0\n",
    "    for line in tqdm(lines):\n",
    "        tracks = line.strip().split(' ')\n",
    "        if len(tracks) == 0:\n",
    "            print(0)\n",
    "        if len(tracks) == 1:\n",
    "            print(1)\n",
    "        for i, track in enumerate(tracks):\n",
    "            if idx in val_id and i+1 == len(tracks):\n",
    "                target_val.append(track)\n",
    "                idx_val += 1\n",
    "                continue\n",
    "            if idx in val_id:\n",
    "                list_coord_val.append((idx_val, track))\n",
    "            list_coord.append((idx, track))\n",
    "        idx += 1\n",
    "        if idx >= 100000:\n",
    "            break"
   ]
  },
  {
   "cell_type": "code",
   "execution_count": 5,
   "id": "7eb432cf",
   "metadata": {},
   "outputs": [
    {
     "name": "stdout",
     "output_type": "stream",
     "text": [
      "CPU times: total: 5.86 s\n",
      "Wall time: 5.86 s\n"
     ]
    }
   ],
   "source": [
    "%%time\n",
    "\n",
    "arr_rows = np.array([i[0] for i in list_coord])\n",
    "arr_cols = np.array([i[1] for i in list_coord]).astype(int)\n",
    "ones = np.ones(arr_rows.shape[0])\n",
    "user_item = csr_matrix((ones, (arr_rows, arr_cols)), dtype=int)\n",
    "#item_user = csr_matrix((ones, (arr_cols, arr_rows)), dtype=int)\n",
    "\n",
    "arr_rows_val = np.array([i[0] for i in list_coord_val])\n",
    "arr_cols_val = np.array([i[1] for i in list_coord_val]).astype(int)\n",
    "ones_val = np.ones(arr_rows_val.shape[0])\n",
    "user_item_val = csr_matrix((ones_val, (arr_rows_val, arr_cols_val)), dtype=int)"
   ]
  },
  {
   "cell_type": "code",
   "execution_count": 6,
   "id": "9a07182e",
   "metadata": {},
   "outputs": [],
   "source": [
    "def N_opt(model_als, model_bpr, N=100, q_bpr=1):\n",
    "    \n",
    "    N_als = N\n",
    "    N_bpr = int(N * q_bpr)\n",
    "    \n",
    "    userid = val_id\n",
    "        \n",
    "    start_time = time.time()\n",
    "    rec_als = model_als.recommend(userid, user_item_val, N=N_als, filter_already_liked_items=True)\n",
    "    print(\"\\n\\n--- %s seconds model_als ---\" % (time.time() - start_time))\n",
    "\n",
    "    start_time = time.time()\n",
    "    rec_bpr = model_bpr.recommend(userid, user_item_val, N=N_bpr, filter_already_liked_items=True)\n",
    "    print(\"\\n--- %s seconds model_bpr ---\" % (time.time() - start_time))\n",
    "    \n",
    "    return rec_als, rec_bpr, N_als, N_bpr"
   ]
  },
  {
   "cell_type": "code",
   "execution_count": 7,
   "id": "f9ca14dc",
   "metadata": {},
   "outputs": [],
   "source": [
    "def optimize(rec_als,\n",
    "             rec_bpr,\n",
    "             N_als,\n",
    "             N_bpr,\n",
    "             coef_bpr=1,\n",
    "             norm_all=False,\n",
    "             preproc=None):\n",
    "    \n",
    "    if not isinstance(norm_all, bool) or preproc not in ['minmax', 'standart', None]:\n",
    "        raise ValueError('wrong params')\n",
    "        \n",
    "    if preproc is None:\n",
    "        als_score = rec_als[1]\n",
    "        bpr_score = rec_bpr[1]\n",
    "    else:\n",
    "        if norm_all:\n",
    "            if preproc == 'minmax':\n",
    "                als_score = minmax_scale(rec_als[1].flatten(), feature_range=(0, 1), axis=0).reshape((-1, N_als))\n",
    "                bpr_score = minmax_scale(rec_bpr[1].flatten(), feature_range=(0, 1), axis=0).reshape((-1, N_bpr))\n",
    "            if preproc == 'standart':\n",
    "                als_score = scale(rec_als[1].flatten(), with_mean=True, with_std=True, axis=0).reshape((-1, N_als))\n",
    "                bpr_score = scale(rec_bpr[1].flatten(), with_mean=True, with_std=True, axis=0).reshape((-1, N_bpr))    \n",
    "        else:\n",
    "            if preproc == 'minmax':\n",
    "                als_score = minmax_scale(rec_als[1], feature_range=(0, 1), axis=1)\n",
    "                bpr_score = minmax_scale(rec_bpr[1], feature_range=(0, 1), axis=1)   \n",
    "            if preproc == 'standart':\n",
    "                als_score = scale(rec_als[1], with_mean=True, with_std=True, axis=1)\n",
    "                bpr_score = scale(rec_bpr[1], with_mean=True, with_std=True, axis=1)     \n",
    "\n",
    "    result = []           \n",
    "    for i in tqdm(range(rec_als[0].shape[0])):\n",
    "        als_df = pd.DataFrame({'trak_id': rec_als[0][i], 'als_score': als_score[i]})\n",
    "        bpr_df = pd.DataFrame({'trak_id': rec_bpr[0][i], 'bpr_score': bpr_score[i] * coef_bpr})\n",
    "        df = pd.merge(als_df, bpr_df, how=\"outer\", on='trak_id', sort=False)\n",
    "        df['als_prior'] = df.als_score.where(~df.als_score.isna(), df.bpr_score)\n",
    "        df['total_score'] = np.where((df.als_score.isna()) | (df.bpr_score.isna()), df.als_prior, \n",
    "                                     (df.als_score + df.bpr_score) / 2)\n",
    "        final_rec = df.sort_values(by='total_score', ascending=False).trak_id.values[:100]\n",
    "        result.append(' '.join(map(str, final_rec)) + '\\n')\n",
    "        \n",
    "        \n",
    "    with open(pred_path, 'w') as f:\n",
    "        f.writelines(result)\n",
    "\n",
    "    with open(target_path, 'w') as f:\n",
    "        for i in target_val:\n",
    "            f.write(f'{i}\\n')\n",
    "\n",
    "    mrr = calc_score(target_path, pred_path)\n",
    "\n",
    "    return mrr"
   ]
  },
  {
   "cell_type": "code",
   "execution_count": 8,
   "id": "471f1ba3",
   "metadata": {},
   "outputs": [
    {
     "name": "stdout",
     "output_type": "stream",
     "text": [
      "model_als.fit:\n"
     ]
    },
    {
     "name": "stderr",
     "output_type": "stream",
     "text": [
      "100%|█████████████████████████████████████████████████████████████████████████████████| 15/15 [46:17<00:00, 185.18s/it]\n"
     ]
    }
   ],
   "source": [
    "model_als = implicit.als.AlternatingLeastSquares(factors=200, \n",
    "                                                 regularization=10,\n",
    "                                                 alpha=10,\n",
    "                                                 use_native=True,\n",
    "                                                 use_cg=False,\n",
    "                                                 iterations=15,\n",
    "                                                 random_state=42)\n",
    "print('model_als.fit:')\n",
    "model_als.fit(user_item)"
   ]
  },
  {
   "cell_type": "code",
   "execution_count": 9,
   "id": "84f5ea2f",
   "metadata": {},
   "outputs": [
    {
     "name": "stdout",
     "output_type": "stream",
     "text": [
      "model_als.fit:\n"
     ]
    },
    {
     "name": "stderr",
     "output_type": "stream",
     "text": [
      "100%|███████████████████████████████████████████████| 950/950 [39:34<00:00,  2.50s/it, train_auc=98.42%, skipped=0.79%]\n"
     ]
    }
   ],
   "source": [
    "model_bpr = implicit.bpr.BayesianPersonalizedRanking(factors=400, \n",
    "                                                     learning_rate=0.1,\n",
    "                                                     regularization=0.01,\n",
    "                                                     iterations=950,\n",
    "                                                     verify_negative_samples=True,\n",
    "                                                     random_state=42)\n",
    "print('model_als.fit:')\n",
    "model_bpr.fit(user_item)"
   ]
  },
  {
   "cell_type": "code",
   "execution_count": 10,
   "id": "d7c99ecf",
   "metadata": {},
   "outputs": [
    {
     "name": "stdout",
     "output_type": "stream",
     "text": [
      "\n",
      "\n",
      "--- 68.35780096054077 seconds model_als ---\n",
      "\n",
      "--- 136.00609874725342 seconds model_bpr ---\n"
     ]
    }
   ],
   "source": [
    "rec_als, rec_bpr, N_als, N_bpr = N_opt(model_als, model_bpr, N=542, q_bpr=0.015726)"
   ]
  },
  {
   "cell_type": "code",
   "execution_count": 11,
   "id": "5eb5bc1c",
   "metadata": {},
   "outputs": [
    {
     "name": "stderr",
     "output_type": "stream",
     "text": [
      "100%|███████████████████████████████████████████████████████████████████████████| 25000/25000 [01:00<00:00, 416.20it/s]\n"
     ]
    },
    {
     "name": "stdout",
     "output_type": "stream",
     "text": [
      "MRR@100 = 0.0268\n"
     ]
    },
    {
     "data": {
      "text/plain": [
       "0.026836636843738767"
      ]
     },
     "execution_count": 11,
     "metadata": {},
     "output_type": "execute_result"
    }
   ],
   "source": [
    "optimize(rec_als,\n",
    "           rec_bpr,\n",
    "           N_als,\n",
    "           N_bpr,\n",
    "           coef_bpr=0.438263,\n",
    "           norm_all=True,\n",
    "           preproc='minmax')"
   ]
  },
  {
   "cell_type": "code",
   "execution_count": null,
   "id": "1f76dd70",
   "metadata": {},
   "outputs": [],
   "source": [
    "ls = []"
   ]
  },
  {
   "cell_type": "code",
   "execution_count": null,
   "id": "79247449",
   "metadata": {},
   "outputs": [],
   "source": [
    "for N in [500, 750, 1000]:\n",
    "    for q_bpr in [0.015, 0.1, 0.5, 1, 2, 10]:\n",
    "        rec_als, rec_bpr, N_als, N_bpr = N_opt(model_als, model_bpr, N=N, q_bpr=q_bpr)\n",
    "        for norm_all in [True, False]:\n",
    "            for preproc in [None, 'minmax', 'standart']:\n",
    "                if preproc is not None or norm_all:\n",
    "                    for coef_bpr in [0.1, 0.5, 1, 10]:\n",
    "                        print(f'N: {N}, q_bpr: {q_bpr}, norm_all: {norm_all}, preproc: {preproc}, coef_bpr: {coef_bpr}')\n",
    "                        mrr = optimize(rec_als,\n",
    "                                       rec_bpr,\n",
    "                                       N_als,\n",
    "                                       N_bpr,\n",
    "                                       coef_bpr=coef_bpr,\n",
    "                                       norm_all=norm_all,\n",
    "                                       preproc=preproc)\n",
    "                        ls.append((mrr, N, q_bpr, norm_all, preproc, coef_bpr))"
   ]
  }
 ],
 "metadata": {
  "kernelspec": {
   "display_name": "Python 3 (ipykernel)",
   "language": "python",
   "name": "python3"
  },
  "language_info": {
   "codemirror_mode": {
    "name": "ipython",
    "version": 3
   },
   "file_extension": ".py",
   "mimetype": "text/x-python",
   "name": "python",
   "nbconvert_exporter": "python",
   "pygments_lexer": "ipython3",
   "version": "3.8.9"
  }
 },
 "nbformat": 4,
 "nbformat_minor": 5
}
