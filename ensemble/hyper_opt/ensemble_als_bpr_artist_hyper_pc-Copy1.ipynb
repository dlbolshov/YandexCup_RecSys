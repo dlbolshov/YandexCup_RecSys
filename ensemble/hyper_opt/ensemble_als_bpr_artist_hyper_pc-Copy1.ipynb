{
 "cells": [
  {
   "cell_type": "code",
   "execution_count": 1,
   "id": "2007071c",
   "metadata": {},
   "outputs": [
    {
     "name": "stderr",
     "output_type": "stream",
     "text": [
      "c:\\python38\\lib\\site-packages\\tqdm\\auto.py:22: TqdmWarning: IProgress not found. Please update jupyter and ipywidgets. See https://ipywidgets.readthedocs.io/en/stable/user_install.html\n",
      "  from .autonotebook import tqdm as notebook_tqdm\n"
     ]
    }
   ],
   "source": [
    "import numpy as np\n",
    "import pandas as pd\n",
    "from scipy.sparse import csr_matrix\n",
    "from sklearn.preprocessing import minmax_scale, scale\n",
    "from tqdm import tqdm\n",
    "import time\n",
    "import implicit\n",
    "from collections import Counter\n",
    "from surprise import Dataset, Reader\n",
    "from surprise import SVD"
   ]
  },
  {
   "cell_type": "code",
   "execution_count": 2,
   "id": "63277bc0",
   "metadata": {},
   "outputs": [],
   "source": [
    "df_path = r\"C:\\Users\\dlbol\\Downloads\\likes\\likes\\likes_data\\track_artists.csv\"\n",
    "train_path = r\"C:\\Users\\dlbol\\Downloads\\likes\\likes\\likes_data\\train\"\n",
    "test_path = r\"C:\\Users\\dlbol\\Downloads\\likes\\likes\\likes_data\\test\"\n",
    "pred_path = r\"C:\\Users\\dlbol\\Downloads\\likes\\likes\\likes_data\\ensemble_als_bpr_artist_hyper_pred\"\n",
    "target_path = r\"C:\\Users\\dlbol\\Downloads\\likes\\likes\\likes_data\\ensemble_als_bpr_artist_hyper_target\"\n",
    "log_path = r\"C:\\Users\\dlbol\\Downloads\\likes\\likes\\likes_data\\ensemble_als_bpr_artist_hyper_log\"\n",
    "# df_path = '/Users/david/Documents/GitHub/YandexCup_RecSys/track_artists.csv'\n",
    "# train_path = '/Users/david/Documents/GitHub/YandexCup_RecSys/train'\n",
    "# pred_path = '/Users/david/Documents/GitHub/YandexCup_RecSys/ensemble_als_bpr_artist_hyper_pred'\n",
    "# target_path = '/Users/david/Documents/GitHub/YandexCup_RecSys/ensemble_als_bpr_artist_hyper_target'"
   ]
  },
  {
   "cell_type": "code",
   "execution_count": 3,
   "id": "88c04db5",
   "metadata": {},
   "outputs": [],
   "source": [
    "def calc_mrr(predict, answer):\n",
    "    for i in range(len(predict)):\n",
    "        if predict[i] == answer:\n",
    "            return 1. / (i + 1)\n",
    "    return 0\n",
    "\n",
    "max_prediction_len = 100\n",
    "\n",
    "def calc_score(target_path, predict_path):\n",
    "    with open(target_path) as f:\n",
    "        y_true = [int(x.strip()) for x in f.readlines()]\n",
    "\n",
    "    with open(predict_path) as f:\n",
    "        y_pred = [[int(x) for x in line.strip().split(' ')] for line in f.readlines()]\n",
    "\n",
    "    mrr_score = 0\n",
    "    for (pred, answer) in zip(y_pred, y_true):\n",
    "        if len(pred) > max_prediction_len:\n",
    "            raise ValueError('$maximum prediction length is {}, got {}$'.format(max_prediction_len, len(y_pred[i])))\n",
    "        mrr_score += calc_mrr(pred, answer)\n",
    "\n",
    "    print(f\"MRR@100 = {(mrr_score / len(y_true)):.4f}\")\n",
    "    \n",
    "    return mrr_score / len(y_true)"
   ]
  },
  {
   "cell_type": "code",
   "execution_count": 4,
   "id": "acc06b05",
   "metadata": {},
   "outputs": [
    {
     "name": "stdout",
     "output_type": "stream",
     "text": [
      "CPU times: total: 62.5 ms\n",
      "Wall time: 47.8 ms\n"
     ]
    }
   ],
   "source": [
    "%%time\n",
    "df = pd.read_csv(df_path)\n",
    "df.index = df['trackId']"
   ]
  },
  {
   "cell_type": "code",
   "execution_count": 5,
   "id": "f73733e5",
   "metadata": {},
   "outputs": [
    {
     "name": "stderr",
     "output_type": "stream",
     "text": [
      "  1%|▋                                                                        | 9999/1160084 [00:06<12:12, 1570.08it/s]\n"
     ]
    }
   ],
   "source": [
    "artist_coord = []\n",
    "\n",
    "list_coord = []\n",
    "list_coord_val = []\n",
    "target_val = []\n",
    "np.random.seed(42)  \n",
    "val_id = np.random.choice(range(10000), size=2500, replace=False)\n",
    "val_id.sort()\n",
    "\n",
    "with open(train_path) as f:\n",
    "    lines = f.readlines()\n",
    "    idx = 0\n",
    "    idx_val = 0\n",
    "    for line in tqdm(lines):\n",
    "        tracks = line.strip().split(' ')\n",
    "        \n",
    "        tracks_arr = np.array(tracks)\n",
    "        tracks_arr = tracks_arr.astype(np.int32)\n",
    "        artist_arr = np.array([df.at[track, 'artistId'] for track in tracks_arr])\n",
    "        if idx in val_id:\n",
    "            artist_arr = artist_arr[:-1]\n",
    "        artist_cnt = Counter(artist_arr)\n",
    "        list_coord_user = [(idx, i[0], i[1]) for i in artist_cnt.items()]\n",
    "        artist_coord.extend(list_coord_user)\n",
    "        \n",
    "        for i, track in enumerate(tracks):\n",
    "            if idx in val_id and i+1 == len(tracks):\n",
    "                target_val.append(track)\n",
    "                idx_val += 1\n",
    "                continue\n",
    "            if idx in val_id:\n",
    "                list_coord_val.append((idx_val, track))\n",
    "            list_coord.append((idx, track))\n",
    "        idx += 1\n",
    "        if idx >= 10000:\n",
    "            break"
   ]
  },
  {
   "cell_type": "code",
   "execution_count": 6,
   "id": "7292284f",
   "metadata": {},
   "outputs": [
    {
     "name": "stdout",
     "output_type": "stream",
     "text": [
      "CPU times: total: 2.47 s\n",
      "Wall time: 2.48 s\n"
     ]
    }
   ],
   "source": [
    "%%time\n",
    "\n",
    "data = pd.DataFrame(artist_coord, columns=['uid', 'iid', 'rating_row'])\n",
    "data['rating_max'] = data.rating_row / data.groupby('uid')['rating_row'].transform('max')"
   ]
  },
  {
   "cell_type": "code",
   "execution_count": 7,
   "id": "7eb432cf",
   "metadata": {},
   "outputs": [
    {
     "name": "stdout",
     "output_type": "stream",
     "text": [
      "CPU times: total: 500 ms\n",
      "Wall time: 506 ms\n"
     ]
    }
   ],
   "source": [
    "%%time\n",
    "\n",
    "arr_rows = np.array([i[0] for i in list_coord])\n",
    "arr_cols = np.array([i[1] for i in list_coord]).astype(int)\n",
    "ones = np.ones(arr_rows.shape[0])\n",
    "user_item = csr_matrix((ones, (arr_rows, arr_cols)), dtype=int)\n",
    "#item_user = csr_matrix((ones, (arr_cols, arr_rows)), dtype=int)\n",
    "\n",
    "arr_rows_val = np.array([i[0] for i in list_coord_val])\n",
    "arr_cols_val = np.array([i[1] for i in list_coord_val]).astype(int)\n",
    "ones_val = np.ones(arr_rows_val.shape[0])\n",
    "user_item_val = csr_matrix((ones_val, (arr_rows_val, arr_cols_val)), dtype=int)"
   ]
  },
  {
   "cell_type": "code",
   "execution_count": 8,
   "id": "0d71a1e7",
   "metadata": {},
   "outputs": [
    {
     "name": "stdout",
     "output_type": "stream",
     "text": [
      "CPU times: total: 531 ms\n",
      "Wall time: 528 ms\n"
     ]
    }
   ],
   "source": [
    "%%time\n",
    "\n",
    "reader = Reader(rating_scale=(0, 1))\n",
    "dataset = Dataset.load_from_df(data[['uid', 'iid', 'rating_max']], reader)\n",
    "trainset = dataset.build_full_trainset()"
   ]
  },
  {
   "cell_type": "code",
   "execution_count": 9,
   "id": "5a9ce192",
   "metadata": {
    "scrolled": true
   },
   "outputs": [
    {
     "name": "stdout",
     "output_type": "stream",
     "text": [
      "algo.fit:\n",
      "Processing epoch 0\n",
      "Processing epoch 1\n",
      "Processing epoch 2\n",
      "Processing epoch 3\n",
      "Processing epoch 4\n",
      "Processing epoch 5\n",
      "Processing epoch 6\n",
      "Processing epoch 7\n",
      "Processing epoch 8\n",
      "Processing epoch 9\n",
      "Processing epoch 10\n",
      "Processing epoch 11\n",
      "Processing epoch 12\n",
      "Processing epoch 13\n",
      "Processing epoch 14\n",
      "Processing epoch 15\n",
      "Processing epoch 16\n",
      "Processing epoch 17\n",
      "Processing epoch 18\n",
      "Processing epoch 19\n",
      "Processing epoch 20\n",
      "Processing epoch 21\n",
      "Processing epoch 22\n",
      "Processing epoch 23\n",
      "Processing epoch 24\n",
      "Processing epoch 25\n",
      "Processing epoch 26\n",
      "Processing epoch 27\n",
      "Processing epoch 28\n",
      "Processing epoch 29\n",
      "Processing epoch 30\n",
      "Processing epoch 31\n",
      "Processing epoch 32\n",
      "Processing epoch 33\n",
      "Processing epoch 34\n",
      "Processing epoch 35\n",
      "Processing epoch 36\n",
      "Processing epoch 37\n",
      "Processing epoch 38\n",
      "Processing epoch 39\n",
      "Processing epoch 40\n",
      "Processing epoch 41\n",
      "Processing epoch 42\n",
      "Processing epoch 43\n",
      "Processing epoch 44\n",
      "Processing epoch 45\n",
      "Processing epoch 46\n",
      "Processing epoch 47\n",
      "Processing epoch 48\n",
      "Processing epoch 49\n",
      "CPU times: total: 20 s\n",
      "Wall time: 20 s\n"
     ]
    },
    {
     "data": {
      "text/plain": [
       "<surprise.prediction_algorithms.matrix_factorization.SVD at 0x1bde8bcc370>"
      ]
     },
     "execution_count": 9,
     "metadata": {},
     "output_type": "execute_result"
    }
   ],
   "source": [
    "%%time\n",
    "\n",
    "algo_s = SVD(n_factors=300, \n",
    "            n_epochs=50, \n",
    "            biased=False, \n",
    "            init_mean=0, \n",
    "            init_std_dev=0.1, \n",
    "            lr_bu=0.01625, lr_bi=0.01625, lr_pu=0.01625, lr_qi=0.00005, \n",
    "            reg_bu=0.005, reg_bi=0.005, reg_pu=0.05, reg_qi=0.001,\n",
    "            verbose=True)\n",
    "\n",
    "print('algo.fit:')\n",
    "algo_s.fit(trainset)"
   ]
  },
  {
   "cell_type": "code",
   "execution_count": 10,
   "id": "e9088da2",
   "metadata": {},
   "outputs": [
    {
     "name": "stdout",
     "output_type": "stream",
     "text": [
      "model_bpr.fit:\n"
     ]
    },
    {
     "name": "stderr",
     "output_type": "stream",
     "text": [
      "100%|█████████████████████████████████████████████████| 50/50 [00:04<00:00, 10.90it/s, train_auc=98.92%, skipped=0.78%]\n"
     ]
    }
   ],
   "source": [
    "model_s = implicit.bpr.BayesianPersonalizedRanking(factors=50, \n",
    "                                                 learning_rate=0.075,\n",
    "                                                 regularization=0.0025,\n",
    "                                                 iterations=50,\n",
    "                                                 verify_negative_samples=True,\n",
    "                                                 random_state=42)   \n",
    "print('model_bpr.fit:')\n",
    "model_s.fit(user_item)"
   ]
  },
  {
   "cell_type": "code",
   "execution_count": 11,
   "id": "14ca8177",
   "metadata": {},
   "outputs": [],
   "source": [
    "def N_opt(model, N=100, q_bpr=1):\n",
    "    \n",
    "    userid = val_id\n",
    "\n",
    "    start_time = time.time()\n",
    "    rec = model.recommend(userid, user_item_val, N=N, filter_already_liked_items=True)\n",
    "    print(\"\\n--- %s seconds model_bpr ---\" % (time.time() - start_time))\n",
    "    \n",
    "    return rec, N"
   ]
  },
  {
   "cell_type": "code",
   "execution_count": 12,
   "id": "fb210cdd",
   "metadata": {},
   "outputs": [],
   "source": [
    "def optimize(algo,\n",
    "             rec,\n",
    "             N,\n",
    "             coef_art=1,\n",
    "             norm_all=True,\n",
    "             preproc_model=None,\n",
    "             preproc_algo=None):\n",
    "        \n",
    "    if preproc_model is None:\n",
    "        model_score = rec[1]\n",
    "    else:\n",
    "        if norm_all:\n",
    "            if preproc_model == 'minmax':\n",
    "                model_score = minmax_scale(rec[1].flatten(), feature_range=(0, 1), axis=0).reshape((-1, N))\n",
    "            if preproc_model == 'standart':\n",
    "                model_score = scale(rec[1].flatten(), with_mean=True, with_std=True, axis=0).reshape((-1, N))    \n",
    "        else:\n",
    "            if preproc_model == 'minmax':\n",
    "                model_score = minmax_scale(rec[1], feature_range=(0, 1), axis=1)   \n",
    "            if preproc_model == 'standart':\n",
    "                model_score = scale(rec[1], with_mean=True, with_std=True, axis=1)     \n",
    "\n",
    "    result = []           \n",
    "    for i, val_i in tqdm(zip(range(rec[0].shape[0]), val_id)):\n",
    "        df_final = pd.DataFrame({'trak_id': rec[0][i], 'model_score': model_score[i]})\n",
    "        df_final = pd.merge(df_final, df, how=\"inner\", left_on='trak_id', right_on=df.index, sort=False)\n",
    "        df_final['artist_score'] = np.array([algo.predict(uid=val_i, iid=iid).est for iid in df_final.artistId.values])\n",
    "        if preproc_algo == 'minmax':\n",
    "            df_final['artist_score'] = minmax_scale(df_final.artist_score.values, feature_range=(0, 1), axis=0)\n",
    "        if preproc_algo == 'standart':\n",
    "            df_final['artist_score'] = scale(df_final.artist_score.values, with_mean=True, with_std=True, axis=0)\n",
    "        df_final['final_score'] = df_final.model_score + df_final.artist_score * coef_art\n",
    "        final_rec = df_final.sort_values(by='final_score', ascending=False).trak_id.values[:100]\n",
    "        result.append(' '.join(map(str, final_rec)) + '\\n')\n",
    "        \n",
    "        \n",
    "    with open(pred_path, 'w') as f:\n",
    "        f.writelines(result)\n",
    "\n",
    "    with open(target_path, 'w') as f:\n",
    "        for i in target_val:\n",
    "            f.write(f'{i}\\n')\n",
    "\n",
    "    mrr = calc_score(target_path, pred_path)\n",
    "\n",
    "    return mrr"
   ]
  },
  {
   "cell_type": "code",
   "execution_count": 13,
   "id": "6a165874",
   "metadata": {},
   "outputs": [
    {
     "name": "stdout",
     "output_type": "stream",
     "text": [
      "\n",
      "--- 2.627439022064209 seconds model_bpr ---\n"
     ]
    }
   ],
   "source": [
    "rec, N = N_opt(model_s, N=100)"
   ]
  },
  {
   "cell_type": "code",
   "execution_count": 14,
   "id": "faa97e05",
   "metadata": {},
   "outputs": [
    {
     "name": "stderr",
     "output_type": "stream",
     "text": [
      "2500it [01:42, 24.40it/s]\n"
     ]
    },
    {
     "name": "stdout",
     "output_type": "stream",
     "text": [
      "MRR@100 = 0.0142\n"
     ]
    },
    {
     "data": {
      "text/plain": [
       "0.014157982407580207"
      ]
     },
     "execution_count": 14,
     "metadata": {},
     "output_type": "execute_result"
    }
   ],
   "source": [
    "optimize(algo_s,\n",
    "          rec,\n",
    "          N,\n",
    "          coef_art=1,\n",
    "          norm_all=True,\n",
    "          preproc_model=None,\n",
    "          preproc_algo=None)"
   ]
  },
  {
   "cell_type": "code",
   "execution_count": 16,
   "id": "6a071d69",
   "metadata": {},
   "outputs": [],
   "source": [
    "import pickle\n",
    "bpr_path = r\"C:\\Users\\dlbol\\Downloads\\likes\\likes\\likes_data\\testing_bpr_model_backup\"\n",
    "svd_path = r\"C:\\Users\\dlbol\\Downloads\\likes\\likes\\likes_data\\testing_svd_model_backup\""
   ]
  },
  {
   "cell_type": "code",
   "execution_count": 17,
   "id": "2d61cfc6",
   "metadata": {},
   "outputs": [],
   "source": [
    "pickle.dump(model_s, open(bpr_path, \"wb\"))\n",
    "pickle.dump(algo_s, open(svd_path, \"wb\"))"
   ]
  },
  {
   "cell_type": "code",
   "execution_count": 20,
   "id": "02bd462b",
   "metadata": {},
   "outputs": [],
   "source": [
    "model = pickle.load(open(bpr_path, \"rb\"))\n",
    "algo = pickle.load(open(svd_path, \"rb\"))"
   ]
  },
  {
   "cell_type": "code",
   "execution_count": 21,
   "id": "48b973b7",
   "metadata": {},
   "outputs": [
    {
     "name": "stdout",
     "output_type": "stream",
     "text": [
      "\n",
      "--- 3.2218894958496094 seconds model_bpr ---\n"
     ]
    }
   ],
   "source": [
    "rec, N = N_opt(model, N=100)"
   ]
  },
  {
   "cell_type": "code",
   "execution_count": 22,
   "id": "9cfc70a4",
   "metadata": {},
   "outputs": [
    {
     "name": "stderr",
     "output_type": "stream",
     "text": [
      "2500it [01:40, 24.93it/s]\n"
     ]
    },
    {
     "name": "stdout",
     "output_type": "stream",
     "text": [
      "MRR@100 = 0.0142\n"
     ]
    },
    {
     "data": {
      "text/plain": [
       "0.014157982407580207"
      ]
     },
     "execution_count": 22,
     "metadata": {},
     "output_type": "execute_result"
    }
   ],
   "source": [
    "optimize(algo,\n",
    "          rec,\n",
    "          N,\n",
    "          coef_art=1,\n",
    "          norm_all=True,\n",
    "          preproc_model=None,\n",
    "          preproc_algo=None)"
   ]
  },
  {
   "cell_type": "code",
   "execution_count": null,
   "id": "f746312c",
   "metadata": {},
   "outputs": [],
   "source": []
  }
 ],
 "metadata": {
  "kernelspec": {
   "display_name": "Python 3 (ipykernel)",
   "language": "python",
   "name": "python3"
  },
  "language_info": {
   "codemirror_mode": {
    "name": "ipython",
    "version": 3
   },
   "file_extension": ".py",
   "mimetype": "text/x-python",
   "name": "python",
   "nbconvert_exporter": "python",
   "pygments_lexer": "ipython3",
   "version": "3.8.9"
  }
 },
 "nbformat": 4,
 "nbformat_minor": 5
}
