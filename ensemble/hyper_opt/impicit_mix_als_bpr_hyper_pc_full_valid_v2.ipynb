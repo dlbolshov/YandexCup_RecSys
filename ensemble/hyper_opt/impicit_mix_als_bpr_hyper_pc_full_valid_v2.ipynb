{
 "cells": [
  {
   "cell_type": "code",
   "execution_count": 1,
   "id": "2007071c",
   "metadata": {},
   "outputs": [
    {
     "name": "stderr",
     "output_type": "stream",
     "text": [
      "c:\\python38\\lib\\site-packages\\tqdm\\auto.py:22: TqdmWarning: IProgress not found. Please update jupyter and ipywidgets. See https://ipywidgets.readthedocs.io/en/stable/user_install.html\n",
      "  from .autonotebook import tqdm as notebook_tqdm\n"
     ]
    }
   ],
   "source": [
    "import numpy as np\n",
    "import pandas as pd\n",
    "from scipy.sparse import csr_matrix\n",
    "from sklearn.preprocessing import minmax_scale, scale\n",
    "from tqdm import tqdm\n",
    "import time\n",
    "import implicit"
   ]
  },
  {
   "cell_type": "code",
   "execution_count": 2,
   "id": "63277bc0",
   "metadata": {},
   "outputs": [],
   "source": [
    "train_path = r\"C:\\Users\\dlbol\\Downloads\\likes\\likes\\likes_data\\train\"\n",
    "test_path = r\"C:\\Users\\dlbol\\Downloads\\likes\\likes\\likes_data\\test\"\n",
    "pred_path = r\"C:\\Users\\dlbol\\Downloads\\likes\\likes\\likes_data\\impicit_mix_als_bpr_hyper_full_valid_v2_pred\"\n",
    "target_path = r\"C:\\Users\\dlbol\\Downloads\\likes\\likes\\likes_data\\impicit_mix_als_bpr_hyper_full_valid_v2_target\""
   ]
  },
  {
   "cell_type": "code",
   "execution_count": 3,
   "id": "88c04db5",
   "metadata": {},
   "outputs": [],
   "source": [
    "def calc_mrr(predict, answer):\n",
    "    for i in range(len(predict)):\n",
    "        if predict[i] == answer:\n",
    "            return 1. / (i + 1)\n",
    "    return 0\n",
    "\n",
    "max_prediction_len = 100\n",
    "\n",
    "def calc_score(target_path, predict_path):\n",
    "    with open(target_path) as f:\n",
    "        y_true = [int(x.strip()) for x in f.readlines()]\n",
    "\n",
    "    with open(predict_path) as f:\n",
    "        y_pred = [[int(x) for x in line.strip().split(' ')] for line in f.readlines()]\n",
    "\n",
    "    mrr_score = 0\n",
    "    for (pred, answer) in zip(y_pred, y_true):\n",
    "        if len(pred) > max_prediction_len:\n",
    "            raise ValueError('$maximum prediction length is {}, got {}$'.format(max_prediction_len, len(y_pred[i])))\n",
    "        mrr_score += calc_mrr(pred, answer)\n",
    "\n",
    "    print(f\"MRR@100 = {(mrr_score / len(y_true)):.4f}\")\n",
    "    \n",
    "    return mrr_score / len(y_true)"
   ]
  },
  {
   "cell_type": "code",
   "execution_count": 4,
   "id": "f73733e5",
   "metadata": {},
   "outputs": [
    {
     "name": "stderr",
     "output_type": "stream",
     "text": [
      "  9%|██████▎                                                                  | 99999/1160084 [03:16<34:42, 509.09it/s]"
     ]
    },
    {
     "name": "stdout",
     "output_type": "stream",
     "text": [
      "CPU times: total: 3min 17s\n",
      "Wall time: 3min 17s\n"
     ]
    },
    {
     "name": "stderr",
     "output_type": "stream",
     "text": [
      "\n"
     ]
    }
   ],
   "source": [
    "%%time\n",
    "\n",
    "list_coord = []\n",
    "list_coord_val = []\n",
    "target_val = []\n",
    "np.random.seed(42)  \n",
    "val_id = np.random.choice(range(100000), size=25000, replace=False)\n",
    "val_id.sort()\n",
    "\n",
    "with open(train_path) as f:\n",
    "    lines = f.readlines()\n",
    "    idx = 0\n",
    "    idx_val = 0\n",
    "    for line in tqdm(lines):\n",
    "        tracks = line.strip().split(' ')\n",
    "        if len(tracks) == 0:\n",
    "            print(0)\n",
    "        if len(tracks) == 1:\n",
    "            print(1)\n",
    "        for i, track in enumerate(tracks):\n",
    "            if idx in val_id and i+1 == len(tracks):\n",
    "                target_val.append(track)\n",
    "                idx_val += 1\n",
    "                continue\n",
    "            if idx in val_id:\n",
    "                list_coord_val.append((idx_val, track))\n",
    "            list_coord.append((idx, track))\n",
    "        idx += 1\n",
    "        if idx >= 100000:\n",
    "            break"
   ]
  },
  {
   "cell_type": "code",
   "execution_count": 5,
   "id": "7eb432cf",
   "metadata": {},
   "outputs": [
    {
     "name": "stdout",
     "output_type": "stream",
     "text": [
      "CPU times: total: 5.81 s\n",
      "Wall time: 5.8 s\n"
     ]
    }
   ],
   "source": [
    "%%time\n",
    "\n",
    "arr_rows = np.array([i[0] for i in list_coord])\n",
    "arr_cols = np.array([i[1] for i in list_coord]).astype(int)\n",
    "ones = np.ones(arr_rows.shape[0])\n",
    "user_item = csr_matrix((ones, (arr_rows, arr_cols)), dtype=int)\n",
    "#item_user = csr_matrix((ones, (arr_cols, arr_rows)), dtype=int)\n",
    "\n",
    "arr_rows_val = np.array([i[0] for i in list_coord_val])\n",
    "arr_cols_val = np.array([i[1] for i in list_coord_val]).astype(int)\n",
    "ones_val = np.ones(arr_rows_val.shape[0])\n",
    "user_item_val = csr_matrix((ones_val, (arr_rows_val, arr_cols_val)), dtype=int)"
   ]
  },
  {
   "cell_type": "code",
   "execution_count": 6,
   "id": "9a07182e",
   "metadata": {},
   "outputs": [],
   "source": [
    "def N_opt(model_als, model_bpr, N=100, q_bpr=1):\n",
    "    \n",
    "    N_als = N\n",
    "    N_bpr = int(N * q_bpr)\n",
    "    \n",
    "    userid = val_id\n",
    "        \n",
    "    start_time = time.time()\n",
    "    rec_als = model_als.recommend(userid, user_item_val, N=N_als, filter_already_liked_items=True)\n",
    "    print(\"\\n\\n--- %s seconds model_als ---\" % (time.time() - start_time))\n",
    "\n",
    "    start_time = time.time()\n",
    "    rec_bpr = model_bpr.recommend(userid, user_item_val, N=N_bpr, filter_already_liked_items=True)\n",
    "    print(\"\\n--- %s seconds model_bpr ---\" % (time.time() - start_time))\n",
    "    \n",
    "    return rec_als, rec_bpr, N_als, N_bpr"
   ]
  },
  {
   "cell_type": "code",
   "execution_count": 7,
   "id": "f9ca14dc",
   "metadata": {},
   "outputs": [],
   "source": [
    "def optimize(rec_als,\n",
    "             rec_bpr,\n",
    "             N_als,\n",
    "             N_bpr,\n",
    "             coef_bpr=1,\n",
    "             norm_all=False,\n",
    "             preproc=None):\n",
    "    \n",
    "    if not isinstance(norm_all, bool) or preproc not in ['minmax', 'standart', None]:\n",
    "        raise ValueError('wrong params')\n",
    "        \n",
    "    if preproc is None:\n",
    "        als_score = rec_als[1]\n",
    "        bpr_score = rec_bpr[1]\n",
    "    else:\n",
    "        if norm_all:\n",
    "            if preproc == 'minmax':\n",
    "                als_score = minmax_scale(rec_als[1].flatten(), feature_range=(0, 1), axis=0).reshape((-1, N_als))\n",
    "                bpr_score = minmax_scale(rec_bpr[1].flatten(), feature_range=(0, 1), axis=0).reshape((-1, N_bpr))\n",
    "            if preproc == 'standart':\n",
    "                als_score = scale(rec_als[1].flatten(), with_mean=True, with_std=True, axis=0).reshape((-1, N_als))\n",
    "                bpr_score = scale(rec_bpr[1].flatten(), with_mean=True, with_std=True, axis=0).reshape((-1, N_bpr))    \n",
    "        else:\n",
    "            if preproc == 'minmax':\n",
    "                als_score = minmax_scale(rec_als[1], feature_range=(0, 1), axis=1)\n",
    "                bpr_score = minmax_scale(rec_bpr[1], feature_range=(0, 1), axis=1)   \n",
    "            if preproc == 'standart':\n",
    "                als_score = scale(rec_als[1], with_mean=True, with_std=True, axis=1)\n",
    "                bpr_score = scale(rec_bpr[1], with_mean=True, with_std=True, axis=1)     \n",
    "\n",
    "    result = []           \n",
    "    for i in tqdm(range(rec_als[0].shape[0])):\n",
    "        als_df = pd.DataFrame({'trak_id': rec_als[0][i], 'als_score': als_score[i]})\n",
    "        bpr_df = pd.DataFrame({'trak_id': rec_bpr[0][i], 'bpr_score': bpr_score[i] * coef_bpr})\n",
    "        df = pd.merge(als_df, bpr_df, how=\"outer\", on='trak_id', sort=False)\n",
    "        df['als_prior'] = df.als_score.where(~df.als_score.isna(), df.bpr_score)\n",
    "        df['total_score'] = np.where((df.als_score.isna()) | (df.bpr_score.isna()), df.als_prior, \n",
    "                                     (df.als_score + df.bpr_score) / 2)\n",
    "        final_rec = df.sort_values(by='total_score', ascending=False).trak_id.values[:100]\n",
    "        result.append(' '.join(map(str, final_rec)) + '\\n')\n",
    "        \n",
    "        \n",
    "    with open(pred_path, 'w') as f:\n",
    "        f.writelines(result)\n",
    "\n",
    "    with open(target_path, 'w') as f:\n",
    "        for i in target_val:\n",
    "            f.write(f'{i}\\n')\n",
    "\n",
    "    mrr = calc_score(target_path, pred_path)\n",
    "\n",
    "    return mrr"
   ]
  },
  {
   "cell_type": "code",
   "execution_count": 8,
   "id": "e269ce22",
   "metadata": {},
   "outputs": [
    {
     "name": "stdout",
     "output_type": "stream",
     "text": [
      "model_als.fit:\n"
     ]
    },
    {
     "name": "stderr",
     "output_type": "stream",
     "text": [
      "100%|█████████████████████████████████████████████████████████████████████████████████| 15/15 [46:33<00:00, 186.24s/it]\n"
     ]
    }
   ],
   "source": [
    "model_als = implicit.als.AlternatingLeastSquares(factors=200, \n",
    "                                                 regularization=10,\n",
    "                                                 alpha=40,\n",
    "                                                 use_native=True,\n",
    "                                                 use_cg=False,\n",
    "                                                 iterations=15,\n",
    "                                                 random_state=42)\n",
    "print('model_als.fit:')\n",
    "model_als.fit(user_item)"
   ]
  },
  {
   "cell_type": "code",
   "execution_count": 9,
   "id": "af3520cc",
   "metadata": {},
   "outputs": [
    {
     "name": "stdout",
     "output_type": "stream",
     "text": [
      "model_bpr.fit:\n"
     ]
    },
    {
     "name": "stderr",
     "output_type": "stream",
     "text": [
      "100%|███████████████████████████████████████████████| 950/950 [39:36<00:00,  2.50s/it, train_auc=99.76%, skipped=0.79%]\n"
     ]
    }
   ],
   "source": [
    "model_bpr = implicit.bpr.BayesianPersonalizedRanking(factors=400, \n",
    "                                                     learning_rate=0.075,\n",
    "                                                     regularization=0.0025,\n",
    "                                                     iterations=950,\n",
    "                                                     verify_negative_samples=True,\n",
    "                                                     random_state=42)   \n",
    "print('model_bpr.fit:')\n",
    "model_bpr.fit(user_item)"
   ]
  },
  {
   "cell_type": "code",
   "execution_count": 10,
   "id": "87d05f04",
   "metadata": {},
   "outputs": [
    {
     "name": "stdout",
     "output_type": "stream",
     "text": [
      "\n",
      "\n",
      "--- 68.06120276451111 seconds model_als ---\n",
      "\n",
      "--- 139.45788860321045 seconds model_bpr ---\n"
     ]
    }
   ],
   "source": [
    "rec_als, rec_bpr, N_als, N_bpr = N_opt(model_als, model_bpr, N=1625, q_bpr=0.425)"
   ]
  },
  {
   "cell_type": "code",
   "execution_count": 11,
   "id": "c88498a4",
   "metadata": {},
   "outputs": [
    {
     "name": "stderr",
     "output_type": "stream",
     "text": [
      "c:\\python38\\lib\\site-packages\\sklearn\\preprocessing\\_data.py:239: UserWarning: Numerical issues were encountered when centering the data and might not be solved. Dataset may contain too large values. You may need to prescale your features.\n",
      "  warnings.warn(\n",
      "c:\\python38\\lib\\site-packages\\sklearn\\preprocessing\\_data.py:239: UserWarning: Numerical issues were encountered when centering the data and might not be solved. Dataset may contain too large values. You may need to prescale your features.\n",
      "  warnings.warn(\n",
      "c:\\python38\\lib\\site-packages\\sklearn\\preprocessing\\_data.py:258: UserWarning: Numerical issues were encountered when scaling the data and might not be solved. The standard deviation of the data is probably very close to 0. \n",
      "  warnings.warn(\n",
      "100%|███████████████████████████████████████████████████████████████████████████| 25000/25000 [01:10<00:00, 356.99it/s]\n"
     ]
    },
    {
     "name": "stdout",
     "output_type": "stream",
     "text": [
      "MRR@100 = 0.0309\n"
     ]
    },
    {
     "data": {
      "text/plain": [
       "0.030893617269697724"
      ]
     },
     "execution_count": 11,
     "metadata": {},
     "output_type": "execute_result"
    }
   ],
   "source": [
    "optimize(rec_als,\n",
    "           rec_bpr,\n",
    "           N_als,\n",
    "           N_bpr,\n",
    "           coef_bpr=0.925,\n",
    "           norm_all=True,\n",
    "           preproc='standart')"
   ]
  },
  {
   "cell_type": "code",
   "execution_count": 12,
   "id": "82702439",
   "metadata": {},
   "outputs": [
    {
     "name": "stdout",
     "output_type": "stream",
     "text": [
      "\n",
      "\n",
      "--- 70.38340377807617 seconds model_als ---\n",
      "\n",
      "--- 145.14897274971008 seconds model_bpr ---\n"
     ]
    }
   ],
   "source": [
    "rec_als, rec_bpr, N_als, N_bpr = N_opt(model_als, model_bpr, N=1500, q_bpr=0.50)"
   ]
  },
  {
   "cell_type": "code",
   "execution_count": 13,
   "id": "72a45243",
   "metadata": {
    "scrolled": true
   },
   "outputs": [
    {
     "name": "stderr",
     "output_type": "stream",
     "text": [
      "c:\\python38\\lib\\site-packages\\sklearn\\preprocessing\\_data.py:239: UserWarning: Numerical issues were encountered when centering the data and might not be solved. Dataset may contain too large values. You may need to prescale your features.\n",
      "  warnings.warn(\n",
      "c:\\python38\\lib\\site-packages\\sklearn\\preprocessing\\_data.py:239: UserWarning: Numerical issues were encountered when centering the data and might not be solved. Dataset may contain too large values. You may need to prescale your features.\n",
      "  warnings.warn(\n",
      "100%|███████████████████████████████████████████████████████████████████████████| 25000/25000 [01:12<00:00, 343.76it/s]\n"
     ]
    },
    {
     "name": "stdout",
     "output_type": "stream",
     "text": [
      "MRR@100 = 0.0314\n"
     ]
    },
    {
     "data": {
      "text/plain": [
       "0.03138181957058004"
      ]
     },
     "execution_count": 13,
     "metadata": {},
     "output_type": "execute_result"
    }
   ],
   "source": [
    "optimize(rec_als,\n",
    "           rec_bpr,\n",
    "           N_als,\n",
    "           N_bpr,\n",
    "           coef_bpr=1.0,\n",
    "           norm_all=True,\n",
    "           preproc='standart')"
   ]
  },
  {
   "cell_type": "code",
   "execution_count": 15,
   "id": "21aeb93b",
   "metadata": {},
   "outputs": [
    {
     "name": "stdout",
     "output_type": "stream",
     "text": [
      "\n",
      "\n",
      "--- 77.82595133781433 seconds model_als ---\n",
      "\n",
      "--- 129.54903602600098 seconds model_bpr ---\n"
     ]
    }
   ],
   "source": [
    "rec_als, rec_bpr, N_als, N_bpr = N_opt(model_als, model_bpr, N=542, q_bpr=0.015726)"
   ]
  },
  {
   "cell_type": "code",
   "execution_count": 16,
   "id": "a49848f4",
   "metadata": {},
   "outputs": [
    {
     "name": "stderr",
     "output_type": "stream",
     "text": [
      "100%|███████████████████████████████████████████████████████████████████████████| 25000/25000 [01:04<00:00, 386.28it/s]\n"
     ]
    },
    {
     "name": "stdout",
     "output_type": "stream",
     "text": [
      "MRR@100 = 0.0250\n"
     ]
    },
    {
     "data": {
      "text/plain": [
       "0.0250455794670512"
      ]
     },
     "execution_count": 16,
     "metadata": {},
     "output_type": "execute_result"
    }
   ],
   "source": [
    "optimize(rec_als,\n",
    "           rec_bpr,\n",
    "           N_als,\n",
    "           N_bpr,\n",
    "           coef_bpr=0.438263,\n",
    "           norm_all=True,\n",
    "           preproc='minmax')"
   ]
  },
  {
   "cell_type": "code",
   "execution_count": 17,
   "id": "9e714af1",
   "metadata": {},
   "outputs": [],
   "source": [
    "ls = []"
   ]
  },
  {
   "cell_type": "code",
   "execution_count": 18,
   "id": "1c7aafab",
   "metadata": {},
   "outputs": [
    {
     "name": "stdout",
     "output_type": "stream",
     "text": [
      "\n",
      "\n",
      "--- 68.2179925441742 seconds model_als ---\n",
      "\n",
      "--- 129.89738202095032 seconds model_bpr ---\n",
      "N: 1000, q_bpr: 0.01, norm_all: True, preproc: minmax, coef_bpr: 0.1\n"
     ]
    },
    {
     "name": "stderr",
     "output_type": "stream",
     "text": [
      "100%|███████████████████████████████████████████████████████████████████████████| 25000/25000 [00:57<00:00, 435.91it/s]\n"
     ]
    },
    {
     "name": "stdout",
     "output_type": "stream",
     "text": [
      "MRR@100 = 0.0165\n",
      "N: 1000, q_bpr: 0.01, norm_all: True, preproc: minmax, coef_bpr: 0.5\n"
     ]
    },
    {
     "name": "stderr",
     "output_type": "stream",
     "text": [
      "100%|███████████████████████████████████████████████████████████████████████████| 25000/25000 [00:57<00:00, 432.30it/s]\n"
     ]
    },
    {
     "name": "stdout",
     "output_type": "stream",
     "text": [
      "MRR@100 = 0.0258\n",
      "N: 1000, q_bpr: 0.01, norm_all: True, preproc: minmax, coef_bpr: 1\n"
     ]
    },
    {
     "name": "stderr",
     "output_type": "stream",
     "text": [
      "100%|███████████████████████████████████████████████████████████████████████████| 25000/25000 [00:58<00:00, 429.42it/s]\n"
     ]
    },
    {
     "name": "stdout",
     "output_type": "stream",
     "text": [
      "MRR@100 = 0.0332\n",
      "N: 1000, q_bpr: 0.01, norm_all: True, preproc: minmax, coef_bpr: 2\n"
     ]
    },
    {
     "name": "stderr",
     "output_type": "stream",
     "text": [
      "100%|███████████████████████████████████████████████████████████████████████████| 25000/25000 [00:57<00:00, 438.13it/s]\n"
     ]
    },
    {
     "name": "stdout",
     "output_type": "stream",
     "text": [
      "MRR@100 = 0.0331\n",
      "N: 1000, q_bpr: 0.01, norm_all: True, preproc: standart, coef_bpr: 0.1\n"
     ]
    },
    {
     "name": "stderr",
     "output_type": "stream",
     "text": [
      "c:\\python38\\lib\\site-packages\\sklearn\\preprocessing\\_data.py:239: UserWarning: Numerical issues were encountered when centering the data and might not be solved. Dataset may contain too large values. You may need to prescale your features.\n",
      "  warnings.warn(\n",
      "c:\\python38\\lib\\site-packages\\sklearn\\preprocessing\\_data.py:258: UserWarning: Numerical issues were encountered when scaling the data and might not be solved. The standard deviation of the data is probably very close to 0. \n",
      "  warnings.warn(\n",
      "c:\\python38\\lib\\site-packages\\sklearn\\preprocessing\\_data.py:239: UserWarning: Numerical issues were encountered when centering the data and might not be solved. Dataset may contain too large values. You may need to prescale your features.\n",
      "  warnings.warn(\n",
      "100%|███████████████████████████████████████████████████████████████████████████| 25000/25000 [00:59<00:00, 420.19it/s]\n"
     ]
    },
    {
     "name": "stdout",
     "output_type": "stream",
     "text": [
      "MRR@100 = 0.0209\n",
      "N: 1000, q_bpr: 0.01, norm_all: True, preproc: standart, coef_bpr: 0.5\n"
     ]
    },
    {
     "name": "stderr",
     "output_type": "stream",
     "text": [
      "c:\\python38\\lib\\site-packages\\sklearn\\preprocessing\\_data.py:239: UserWarning: Numerical issues were encountered when centering the data and might not be solved. Dataset may contain too large values. You may need to prescale your features.\n",
      "  warnings.warn(\n",
      "c:\\python38\\lib\\site-packages\\sklearn\\preprocessing\\_data.py:258: UserWarning: Numerical issues were encountered when scaling the data and might not be solved. The standard deviation of the data is probably very close to 0. \n",
      "  warnings.warn(\n",
      "c:\\python38\\lib\\site-packages\\sklearn\\preprocessing\\_data.py:239: UserWarning: Numerical issues were encountered when centering the data and might not be solved. Dataset may contain too large values. You may need to prescale your features.\n",
      "  warnings.warn(\n",
      "100%|███████████████████████████████████████████████████████████████████████████| 25000/25000 [01:06<00:00, 376.88it/s]\n"
     ]
    },
    {
     "name": "stdout",
     "output_type": "stream",
     "text": [
      "MRR@100 = 0.0221\n",
      "N: 1000, q_bpr: 0.01, norm_all: True, preproc: standart, coef_bpr: 1\n"
     ]
    },
    {
     "name": "stderr",
     "output_type": "stream",
     "text": [
      "c:\\python38\\lib\\site-packages\\sklearn\\preprocessing\\_data.py:239: UserWarning: Numerical issues were encountered when centering the data and might not be solved. Dataset may contain too large values. You may need to prescale your features.\n",
      "  warnings.warn(\n",
      "c:\\python38\\lib\\site-packages\\sklearn\\preprocessing\\_data.py:258: UserWarning: Numerical issues were encountered when scaling the data and might not be solved. The standard deviation of the data is probably very close to 0. \n",
      "  warnings.warn(\n",
      "c:\\python38\\lib\\site-packages\\sklearn\\preprocessing\\_data.py:239: UserWarning: Numerical issues were encountered when centering the data and might not be solved. Dataset may contain too large values. You may need to prescale your features.\n",
      "  warnings.warn(\n",
      "100%|███████████████████████████████████████████████████████████████████████████| 25000/25000 [00:57<00:00, 433.07it/s]\n"
     ]
    },
    {
     "name": "stdout",
     "output_type": "stream",
     "text": [
      "MRR@100 = 0.0236\n",
      "N: 1000, q_bpr: 0.01, norm_all: True, preproc: standart, coef_bpr: 2\n"
     ]
    },
    {
     "name": "stderr",
     "output_type": "stream",
     "text": [
      "c:\\python38\\lib\\site-packages\\sklearn\\preprocessing\\_data.py:239: UserWarning: Numerical issues were encountered when centering the data and might not be solved. Dataset may contain too large values. You may need to prescale your features.\n",
      "  warnings.warn(\n",
      "c:\\python38\\lib\\site-packages\\sklearn\\preprocessing\\_data.py:258: UserWarning: Numerical issues were encountered when scaling the data and might not be solved. The standard deviation of the data is probably very close to 0. \n",
      "  warnings.warn(\n",
      "c:\\python38\\lib\\site-packages\\sklearn\\preprocessing\\_data.py:239: UserWarning: Numerical issues were encountered when centering the data and might not be solved. Dataset may contain too large values. You may need to prescale your features.\n",
      "  warnings.warn(\n",
      "100%|███████████████████████████████████████████████████████████████████████████| 25000/25000 [00:57<00:00, 432.90it/s]\n"
     ]
    },
    {
     "name": "stdout",
     "output_type": "stream",
     "text": [
      "MRR@100 = 0.0254\n",
      "N: 1000, q_bpr: 0.01, norm_all: False, preproc: minmax, coef_bpr: 0.1\n"
     ]
    },
    {
     "name": "stderr",
     "output_type": "stream",
     "text": [
      "100%|███████████████████████████████████████████████████████████████████████████| 25000/25000 [00:56<00:00, 442.30it/s]\n"
     ]
    },
    {
     "name": "stdout",
     "output_type": "stream",
     "text": [
      "MRR@100 = 0.0165\n",
      "N: 1000, q_bpr: 0.01, norm_all: False, preproc: minmax, coef_bpr: 0.5\n"
     ]
    },
    {
     "name": "stderr",
     "output_type": "stream",
     "text": [
      "100%|███████████████████████████████████████████████████████████████████████████| 25000/25000 [00:58<00:00, 425.86it/s]\n"
     ]
    },
    {
     "name": "stdout",
     "output_type": "stream",
     "text": [
      "MRR@100 = 0.0188\n",
      "N: 1000, q_bpr: 0.01, norm_all: False, preproc: minmax, coef_bpr: 1\n"
     ]
    },
    {
     "name": "stderr",
     "output_type": "stream",
     "text": [
      "100%|███████████████████████████████████████████████████████████████████████████| 25000/25000 [00:56<00:00, 439.15it/s]\n"
     ]
    },
    {
     "name": "stdout",
     "output_type": "stream",
     "text": [
      "MRR@100 = 0.0259\n",
      "N: 1000, q_bpr: 0.01, norm_all: False, preproc: minmax, coef_bpr: 2\n"
     ]
    },
    {
     "name": "stderr",
     "output_type": "stream",
     "text": [
      "100%|███████████████████████████████████████████████████████████████████████████| 25000/25000 [00:57<00:00, 433.41it/s]\n"
     ]
    },
    {
     "name": "stdout",
     "output_type": "stream",
     "text": [
      "MRR@100 = 0.0335\n",
      "N: 1000, q_bpr: 0.01, norm_all: False, preproc: standart, coef_bpr: 0.1\n"
     ]
    },
    {
     "name": "stderr",
     "output_type": "stream",
     "text": [
      "c:\\python38\\lib\\site-packages\\sklearn\\preprocessing\\_data.py:239: UserWarning: Numerical issues were encountered when centering the data and might not be solved. Dataset may contain too large values. You may need to prescale your features.\n",
      "  warnings.warn(\n",
      "c:\\python38\\lib\\site-packages\\sklearn\\preprocessing\\_data.py:258: UserWarning: Numerical issues were encountered when scaling the data and might not be solved. The standard deviation of the data is probably very close to 0. \n",
      "  warnings.warn(\n",
      "c:\\python38\\lib\\site-packages\\sklearn\\preprocessing\\_data.py:239: UserWarning: Numerical issues were encountered when centering the data and might not be solved. Dataset may contain too large values. You may need to prescale your features.\n",
      "  warnings.warn(\n",
      "c:\\python38\\lib\\site-packages\\sklearn\\preprocessing\\_data.py:258: UserWarning: Numerical issues were encountered when scaling the data and might not be solved. The standard deviation of the data is probably very close to 0. \n",
      "  warnings.warn(\n",
      "100%|███████████████████████████████████████████████████████████████████████████| 25000/25000 [00:56<00:00, 438.70it/s]\n"
     ]
    },
    {
     "name": "stdout",
     "output_type": "stream",
     "text": [
      "MRR@100 = 0.0168\n",
      "N: 1000, q_bpr: 0.01, norm_all: False, preproc: standart, coef_bpr: 0.5\n"
     ]
    },
    {
     "name": "stderr",
     "output_type": "stream",
     "text": [
      "c:\\python38\\lib\\site-packages\\sklearn\\preprocessing\\_data.py:239: UserWarning: Numerical issues were encountered when centering the data and might not be solved. Dataset may contain too large values. You may need to prescale your features.\n",
      "  warnings.warn(\n",
      "c:\\python38\\lib\\site-packages\\sklearn\\preprocessing\\_data.py:258: UserWarning: Numerical issues were encountered when scaling the data and might not be solved. The standard deviation of the data is probably very close to 0. \n",
      "  warnings.warn(\n",
      "c:\\python38\\lib\\site-packages\\sklearn\\preprocessing\\_data.py:239: UserWarning: Numerical issues were encountered when centering the data and might not be solved. Dataset may contain too large values. You may need to prescale your features.\n",
      "  warnings.warn(\n",
      "c:\\python38\\lib\\site-packages\\sklearn\\preprocessing\\_data.py:258: UserWarning: Numerical issues were encountered when scaling the data and might not be solved. The standard deviation of the data is probably very close to 0. \n",
      "  warnings.warn(\n",
      "100%|███████████████████████████████████████████████████████████████████████████| 25000/25000 [00:56<00:00, 440.20it/s]\n"
     ]
    },
    {
     "name": "stdout",
     "output_type": "stream",
     "text": [
      "MRR@100 = 0.0173\n",
      "N: 1000, q_bpr: 0.01, norm_all: False, preproc: standart, coef_bpr: 1\n"
     ]
    },
    {
     "name": "stderr",
     "output_type": "stream",
     "text": [
      "c:\\python38\\lib\\site-packages\\sklearn\\preprocessing\\_data.py:239: UserWarning: Numerical issues were encountered when centering the data and might not be solved. Dataset may contain too large values. You may need to prescale your features.\n",
      "  warnings.warn(\n",
      "c:\\python38\\lib\\site-packages\\sklearn\\preprocessing\\_data.py:258: UserWarning: Numerical issues were encountered when scaling the data and might not be solved. The standard deviation of the data is probably very close to 0. \n",
      "  warnings.warn(\n",
      "c:\\python38\\lib\\site-packages\\sklearn\\preprocessing\\_data.py:239: UserWarning: Numerical issues were encountered when centering the data and might not be solved. Dataset may contain too large values. You may need to prescale your features.\n",
      "  warnings.warn(\n",
      "c:\\python38\\lib\\site-packages\\sklearn\\preprocessing\\_data.py:258: UserWarning: Numerical issues were encountered when scaling the data and might not be solved. The standard deviation of the data is probably very close to 0. \n",
      "  warnings.warn(\n",
      "100%|███████████████████████████████████████████████████████████████████████████| 25000/25000 [00:56<00:00, 443.87it/s]\n"
     ]
    },
    {
     "name": "stdout",
     "output_type": "stream",
     "text": [
      "MRR@100 = 0.0183\n",
      "N: 1000, q_bpr: 0.01, norm_all: False, preproc: standart, coef_bpr: 2\n"
     ]
    },
    {
     "name": "stderr",
     "output_type": "stream",
     "text": [
      "c:\\python38\\lib\\site-packages\\sklearn\\preprocessing\\_data.py:239: UserWarning: Numerical issues were encountered when centering the data and might not be solved. Dataset may contain too large values. You may need to prescale your features.\n",
      "  warnings.warn(\n",
      "c:\\python38\\lib\\site-packages\\sklearn\\preprocessing\\_data.py:258: UserWarning: Numerical issues were encountered when scaling the data and might not be solved. The standard deviation of the data is probably very close to 0. \n",
      "  warnings.warn(\n",
      "c:\\python38\\lib\\site-packages\\sklearn\\preprocessing\\_data.py:239: UserWarning: Numerical issues were encountered when centering the data and might not be solved. Dataset may contain too large values. You may need to prescale your features.\n",
      "  warnings.warn(\n",
      "c:\\python38\\lib\\site-packages\\sklearn\\preprocessing\\_data.py:258: UserWarning: Numerical issues were encountered when scaling the data and might not be solved. The standard deviation of the data is probably very close to 0. \n",
      "  warnings.warn(\n",
      "100%|███████████████████████████████████████████████████████████████████████████| 25000/25000 [00:57<00:00, 438.32it/s]\n"
     ]
    },
    {
     "name": "stdout",
     "output_type": "stream",
     "text": [
      "MRR@100 = 0.0222\n",
      "\n",
      "\n",
      "--- 77.23332166671753 seconds model_als ---\n",
      "\n",
      "--- 117.9657609462738 seconds model_bpr ---\n",
      "N: 1000, q_bpr: 0.015, norm_all: True, preproc: minmax, coef_bpr: 0.1\n"
     ]
    },
    {
     "name": "stderr",
     "output_type": "stream",
     "text": [
      "100%|███████████████████████████████████████████████████████████████████████████| 25000/25000 [00:58<00:00, 430.08it/s]\n"
     ]
    },
    {
     "name": "stdout",
     "output_type": "stream",
     "text": [
      "MRR@100 = 0.0158\n",
      "N: 1000, q_bpr: 0.015, norm_all: True, preproc: minmax, coef_bpr: 0.5\n"
     ]
    },
    {
     "name": "stderr",
     "output_type": "stream",
     "text": [
      "100%|███████████████████████████████████████████████████████████████████████████| 25000/25000 [00:57<00:00, 437.45it/s]\n"
     ]
    },
    {
     "name": "stdout",
     "output_type": "stream",
     "text": [
      "MRR@100 = 0.0264\n",
      "N: 1000, q_bpr: 0.015, norm_all: True, preproc: minmax, coef_bpr: 1\n"
     ]
    },
    {
     "name": "stderr",
     "output_type": "stream",
     "text": [
      "100%|███████████████████████████████████████████████████████████████████████████| 25000/25000 [00:59<00:00, 423.26it/s]\n"
     ]
    },
    {
     "name": "stdout",
     "output_type": "stream",
     "text": [
      "MRR@100 = 0.0330\n",
      "N: 1000, q_bpr: 0.015, norm_all: True, preproc: minmax, coef_bpr: 2\n"
     ]
    },
    {
     "name": "stderr",
     "output_type": "stream",
     "text": [
      "100%|███████████████████████████████████████████████████████████████████████████| 25000/25000 [00:57<00:00, 432.44it/s]\n"
     ]
    },
    {
     "name": "stdout",
     "output_type": "stream",
     "text": [
      "MRR@100 = 0.0325\n",
      "N: 1000, q_bpr: 0.015, norm_all: True, preproc: standart, coef_bpr: 0.1\n"
     ]
    },
    {
     "name": "stderr",
     "output_type": "stream",
     "text": [
      "c:\\python38\\lib\\site-packages\\sklearn\\preprocessing\\_data.py:239: UserWarning: Numerical issues were encountered when centering the data and might not be solved. Dataset may contain too large values. You may need to prescale your features.\n",
      "  warnings.warn(\n",
      "c:\\python38\\lib\\site-packages\\sklearn\\preprocessing\\_data.py:258: UserWarning: Numerical issues were encountered when scaling the data and might not be solved. The standard deviation of the data is probably very close to 0. \n",
      "  warnings.warn(\n",
      "c:\\python38\\lib\\site-packages\\sklearn\\preprocessing\\_data.py:239: UserWarning: Numerical issues were encountered when centering the data and might not be solved. Dataset may contain too large values. You may need to prescale your features.\n",
      "  warnings.warn(\n",
      "100%|███████████████████████████████████████████████████████████████████████████| 25000/25000 [00:59<00:00, 421.94it/s]\n"
     ]
    },
    {
     "name": "stdout",
     "output_type": "stream",
     "text": [
      "MRR@100 = 0.0209\n",
      "N: 1000, q_bpr: 0.015, norm_all: True, preproc: standart, coef_bpr: 0.5\n"
     ]
    },
    {
     "name": "stderr",
     "output_type": "stream",
     "text": [
      "c:\\python38\\lib\\site-packages\\sklearn\\preprocessing\\_data.py:239: UserWarning: Numerical issues were encountered when centering the data and might not be solved. Dataset may contain too large values. You may need to prescale your features.\n",
      "  warnings.warn(\n",
      "c:\\python38\\lib\\site-packages\\sklearn\\preprocessing\\_data.py:258: UserWarning: Numerical issues were encountered when scaling the data and might not be solved. The standard deviation of the data is probably very close to 0. \n",
      "  warnings.warn(\n",
      "c:\\python38\\lib\\site-packages\\sklearn\\preprocessing\\_data.py:239: UserWarning: Numerical issues were encountered when centering the data and might not be solved. Dataset may contain too large values. You may need to prescale your features.\n",
      "  warnings.warn(\n",
      "100%|███████████████████████████████████████████████████████████████████████████| 25000/25000 [00:59<00:00, 422.84it/s]\n"
     ]
    },
    {
     "name": "stdout",
     "output_type": "stream",
     "text": [
      "MRR@100 = 0.0224\n",
      "N: 1000, q_bpr: 0.015, norm_all: True, preproc: standart, coef_bpr: 1\n"
     ]
    },
    {
     "name": "stderr",
     "output_type": "stream",
     "text": [
      "c:\\python38\\lib\\site-packages\\sklearn\\preprocessing\\_data.py:239: UserWarning: Numerical issues were encountered when centering the data and might not be solved. Dataset may contain too large values. You may need to prescale your features.\n",
      "  warnings.warn(\n",
      "c:\\python38\\lib\\site-packages\\sklearn\\preprocessing\\_data.py:258: UserWarning: Numerical issues were encountered when scaling the data and might not be solved. The standard deviation of the data is probably very close to 0. \n",
      "  warnings.warn(\n",
      "c:\\python38\\lib\\site-packages\\sklearn\\preprocessing\\_data.py:239: UserWarning: Numerical issues were encountered when centering the data and might not be solved. Dataset may contain too large values. You may need to prescale your features.\n",
      "  warnings.warn(\n",
      "100%|███████████████████████████████████████████████████████████████████████████| 25000/25000 [00:58<00:00, 425.37it/s]\n"
     ]
    },
    {
     "name": "stdout",
     "output_type": "stream",
     "text": [
      "MRR@100 = 0.0244\n",
      "N: 1000, q_bpr: 0.015, norm_all: True, preproc: standart, coef_bpr: 2\n"
     ]
    },
    {
     "name": "stderr",
     "output_type": "stream",
     "text": [
      "c:\\python38\\lib\\site-packages\\sklearn\\preprocessing\\_data.py:239: UserWarning: Numerical issues were encountered when centering the data and might not be solved. Dataset may contain too large values. You may need to prescale your features.\n",
      "  warnings.warn(\n",
      "c:\\python38\\lib\\site-packages\\sklearn\\preprocessing\\_data.py:258: UserWarning: Numerical issues were encountered when scaling the data and might not be solved. The standard deviation of the data is probably very close to 0. \n",
      "  warnings.warn(\n",
      "c:\\python38\\lib\\site-packages\\sklearn\\preprocessing\\_data.py:239: UserWarning: Numerical issues were encountered when centering the data and might not be solved. Dataset may contain too large values. You may need to prescale your features.\n",
      "  warnings.warn(\n",
      "100%|███████████████████████████████████████████████████████████████████████████| 25000/25000 [00:56<00:00, 440.10it/s]\n"
     ]
    },
    {
     "name": "stdout",
     "output_type": "stream",
     "text": [
      "MRR@100 = 0.0268\n",
      "N: 1000, q_bpr: 0.015, norm_all: False, preproc: minmax, coef_bpr: 0.1\n"
     ]
    },
    {
     "name": "stderr",
     "output_type": "stream",
     "text": [
      "100%|███████████████████████████████████████████████████████████████████████████| 25000/25000 [00:57<00:00, 431.86it/s]\n"
     ]
    },
    {
     "name": "stdout",
     "output_type": "stream",
     "text": [
      "MRR@100 = 0.0157\n",
      "N: 1000, q_bpr: 0.015, norm_all: False, preproc: minmax, coef_bpr: 0.5\n"
     ]
    },
    {
     "name": "stderr",
     "output_type": "stream",
     "text": [
      "100%|███████████████████████████████████████████████████████████████████████████| 25000/25000 [00:57<00:00, 431.38it/s]\n"
     ]
    },
    {
     "name": "stdout",
     "output_type": "stream",
     "text": [
      "MRR@100 = 0.0188\n",
      "N: 1000, q_bpr: 0.015, norm_all: False, preproc: minmax, coef_bpr: 1\n"
     ]
    },
    {
     "name": "stderr",
     "output_type": "stream",
     "text": [
      "100%|███████████████████████████████████████████████████████████████████████████| 25000/25000 [00:58<00:00, 429.05it/s]\n"
     ]
    },
    {
     "name": "stdout",
     "output_type": "stream",
     "text": [
      "MRR@100 = 0.0260\n",
      "N: 1000, q_bpr: 0.015, norm_all: False, preproc: minmax, coef_bpr: 2\n"
     ]
    },
    {
     "name": "stderr",
     "output_type": "stream",
     "text": [
      "100%|███████████████████████████████████████████████████████████████████████████| 25000/25000 [00:57<00:00, 432.85it/s]\n"
     ]
    },
    {
     "name": "stdout",
     "output_type": "stream",
     "text": [
      "MRR@100 = 0.0338\n",
      "N: 1000, q_bpr: 0.015, norm_all: False, preproc: standart, coef_bpr: 0.1\n"
     ]
    },
    {
     "name": "stderr",
     "output_type": "stream",
     "text": [
      "c:\\python38\\lib\\site-packages\\sklearn\\preprocessing\\_data.py:239: UserWarning: Numerical issues were encountered when centering the data and might not be solved. Dataset may contain too large values. You may need to prescale your features.\n",
      "  warnings.warn(\n",
      "c:\\python38\\lib\\site-packages\\sklearn\\preprocessing\\_data.py:258: UserWarning: Numerical issues were encountered when scaling the data and might not be solved. The standard deviation of the data is probably very close to 0. \n",
      "  warnings.warn(\n",
      "c:\\python38\\lib\\site-packages\\sklearn\\preprocessing\\_data.py:239: UserWarning: Numerical issues were encountered when centering the data and might not be solved. Dataset may contain too large values. You may need to prescale your features.\n",
      "  warnings.warn(\n",
      "c:\\python38\\lib\\site-packages\\sklearn\\preprocessing\\_data.py:258: UserWarning: Numerical issues were encountered when scaling the data and might not be solved. The standard deviation of the data is probably very close to 0. \n",
      "  warnings.warn(\n",
      "100%|███████████████████████████████████████████████████████████████████████████| 25000/25000 [00:57<00:00, 437.64it/s]\n"
     ]
    },
    {
     "name": "stdout",
     "output_type": "stream",
     "text": [
      "MRR@100 = 0.0161\n",
      "N: 1000, q_bpr: 0.015, norm_all: False, preproc: standart, coef_bpr: 0.5\n"
     ]
    },
    {
     "name": "stderr",
     "output_type": "stream",
     "text": [
      "c:\\python38\\lib\\site-packages\\sklearn\\preprocessing\\_data.py:239: UserWarning: Numerical issues were encountered when centering the data and might not be solved. Dataset may contain too large values. You may need to prescale your features.\n",
      "  warnings.warn(\n",
      "c:\\python38\\lib\\site-packages\\sklearn\\preprocessing\\_data.py:258: UserWarning: Numerical issues were encountered when scaling the data and might not be solved. The standard deviation of the data is probably very close to 0. \n",
      "  warnings.warn(\n",
      "c:\\python38\\lib\\site-packages\\sklearn\\preprocessing\\_data.py:239: UserWarning: Numerical issues were encountered when centering the data and might not be solved. Dataset may contain too large values. You may need to prescale your features.\n",
      "  warnings.warn(\n",
      "c:\\python38\\lib\\site-packages\\sklearn\\preprocessing\\_data.py:258: UserWarning: Numerical issues were encountered when scaling the data and might not be solved. The standard deviation of the data is probably very close to 0. \n",
      "  warnings.warn(\n",
      "100%|███████████████████████████████████████████████████████████████████████████| 25000/25000 [00:58<00:00, 428.81it/s]\n"
     ]
    },
    {
     "name": "stdout",
     "output_type": "stream",
     "text": [
      "MRR@100 = 0.0169\n",
      "N: 1000, q_bpr: 0.015, norm_all: False, preproc: standart, coef_bpr: 1\n"
     ]
    },
    {
     "name": "stderr",
     "output_type": "stream",
     "text": [
      "c:\\python38\\lib\\site-packages\\sklearn\\preprocessing\\_data.py:239: UserWarning: Numerical issues were encountered when centering the data and might not be solved. Dataset may contain too large values. You may need to prescale your features.\n",
      "  warnings.warn(\n",
      "c:\\python38\\lib\\site-packages\\sklearn\\preprocessing\\_data.py:258: UserWarning: Numerical issues were encountered when scaling the data and might not be solved. The standard deviation of the data is probably very close to 0. \n",
      "  warnings.warn(\n",
      "c:\\python38\\lib\\site-packages\\sklearn\\preprocessing\\_data.py:239: UserWarning: Numerical issues were encountered when centering the data and might not be solved. Dataset may contain too large values. You may need to prescale your features.\n",
      "  warnings.warn(\n",
      "c:\\python38\\lib\\site-packages\\sklearn\\preprocessing\\_data.py:258: UserWarning: Numerical issues were encountered when scaling the data and might not be solved. The standard deviation of the data is probably very close to 0. \n",
      "  warnings.warn(\n",
      "100%|███████████████████████████████████████████████████████████████████████████| 25000/25000 [00:58<00:00, 427.47it/s]\n"
     ]
    },
    {
     "name": "stdout",
     "output_type": "stream",
     "text": [
      "MRR@100 = 0.0186\n",
      "N: 1000, q_bpr: 0.015, norm_all: False, preproc: standart, coef_bpr: 2\n"
     ]
    },
    {
     "name": "stderr",
     "output_type": "stream",
     "text": [
      "c:\\python38\\lib\\site-packages\\sklearn\\preprocessing\\_data.py:239: UserWarning: Numerical issues were encountered when centering the data and might not be solved. Dataset may contain too large values. You may need to prescale your features.\n",
      "  warnings.warn(\n",
      "c:\\python38\\lib\\site-packages\\sklearn\\preprocessing\\_data.py:258: UserWarning: Numerical issues were encountered when scaling the data and might not be solved. The standard deviation of the data is probably very close to 0. \n",
      "  warnings.warn(\n",
      "c:\\python38\\lib\\site-packages\\sklearn\\preprocessing\\_data.py:239: UserWarning: Numerical issues were encountered when centering the data and might not be solved. Dataset may contain too large values. You may need to prescale your features.\n",
      "  warnings.warn(\n",
      "c:\\python38\\lib\\site-packages\\sklearn\\preprocessing\\_data.py:258: UserWarning: Numerical issues were encountered when scaling the data and might not be solved. The standard deviation of the data is probably very close to 0. \n",
      "  warnings.warn(\n",
      "100%|███████████████████████████████████████████████████████████████████████████| 25000/25000 [00:56<00:00, 439.94it/s]\n"
     ]
    },
    {
     "name": "stdout",
     "output_type": "stream",
     "text": [
      "MRR@100 = 0.0240\n",
      "\n",
      "\n",
      "--- 70.19527220726013 seconds model_als ---\n",
      "\n",
      "--- 132.83249473571777 seconds model_bpr ---\n",
      "N: 1000, q_bpr: 0.1, norm_all: True, preproc: minmax, coef_bpr: 0.1\n"
     ]
    },
    {
     "name": "stderr",
     "output_type": "stream",
     "text": [
      "100%|███████████████████████████████████████████████████████████████████████████| 25000/25000 [01:01<00:00, 406.32it/s]\n"
     ]
    },
    {
     "name": "stdout",
     "output_type": "stream",
     "text": [
      "MRR@100 = 0.0140\n",
      "N: 1000, q_bpr: 0.1, norm_all: True, preproc: minmax, coef_bpr: 0.5\n"
     ]
    },
    {
     "name": "stderr",
     "output_type": "stream",
     "text": [
      "100%|███████████████████████████████████████████████████████████████████████████| 25000/25000 [01:03<00:00, 395.44it/s]\n"
     ]
    },
    {
     "name": "stdout",
     "output_type": "stream",
     "text": [
      "MRR@100 = 0.0280\n",
      "N: 1000, q_bpr: 0.1, norm_all: True, preproc: minmax, coef_bpr: 1\n"
     ]
    },
    {
     "name": "stderr",
     "output_type": "stream",
     "text": [
      "100%|███████████████████████████████████████████████████████████████████████████| 25000/25000 [01:03<00:00, 395.79it/s]\n"
     ]
    },
    {
     "name": "stdout",
     "output_type": "stream",
     "text": [
      "MRR@100 = 0.0306\n",
      "N: 1000, q_bpr: 0.1, norm_all: True, preproc: minmax, coef_bpr: 2\n"
     ]
    },
    {
     "name": "stderr",
     "output_type": "stream",
     "text": [
      "100%|███████████████████████████████████████████████████████████████████████████| 25000/25000 [01:03<00:00, 395.92it/s]\n"
     ]
    },
    {
     "name": "stdout",
     "output_type": "stream",
     "text": [
      "MRR@100 = 0.0259\n",
      "N: 1000, q_bpr: 0.1, norm_all: True, preproc: standart, coef_bpr: 0.1\n"
     ]
    },
    {
     "name": "stderr",
     "output_type": "stream",
     "text": [
      "c:\\python38\\lib\\site-packages\\sklearn\\preprocessing\\_data.py:239: UserWarning: Numerical issues were encountered when centering the data and might not be solved. Dataset may contain too large values. You may need to prescale your features.\n",
      "  warnings.warn(\n",
      "c:\\python38\\lib\\site-packages\\sklearn\\preprocessing\\_data.py:258: UserWarning: Numerical issues were encountered when scaling the data and might not be solved. The standard deviation of the data is probably very close to 0. \n",
      "  warnings.warn(\n",
      "c:\\python38\\lib\\site-packages\\sklearn\\preprocessing\\_data.py:239: UserWarning: Numerical issues were encountered when centering the data and might not be solved. Dataset may contain too large values. You may need to prescale your features.\n",
      "  warnings.warn(\n",
      "100%|███████████████████████████████████████████████████████████████████████████| 25000/25000 [01:01<00:00, 404.67it/s]\n"
     ]
    },
    {
     "name": "stdout",
     "output_type": "stream",
     "text": [
      "MRR@100 = 0.0216\n",
      "N: 1000, q_bpr: 0.1, norm_all: True, preproc: standart, coef_bpr: 0.5\n"
     ]
    },
    {
     "name": "stderr",
     "output_type": "stream",
     "text": [
      "c:\\python38\\lib\\site-packages\\sklearn\\preprocessing\\_data.py:239: UserWarning: Numerical issues were encountered when centering the data and might not be solved. Dataset may contain too large values. You may need to prescale your features.\n",
      "  warnings.warn(\n",
      "c:\\python38\\lib\\site-packages\\sklearn\\preprocessing\\_data.py:258: UserWarning: Numerical issues were encountered when scaling the data and might not be solved. The standard deviation of the data is probably very close to 0. \n",
      "  warnings.warn(\n",
      "c:\\python38\\lib\\site-packages\\sklearn\\preprocessing\\_data.py:239: UserWarning: Numerical issues were encountered when centering the data and might not be solved. Dataset may contain too large values. You may need to prescale your features.\n",
      "  warnings.warn(\n",
      "100%|███████████████████████████████████████████████████████████████████████████| 25000/25000 [01:03<00:00, 396.24it/s]\n"
     ]
    },
    {
     "name": "stdout",
     "output_type": "stream",
     "text": [
      "MRR@100 = 0.0258\n",
      "N: 1000, q_bpr: 0.1, norm_all: True, preproc: standart, coef_bpr: 1\n"
     ]
    },
    {
     "name": "stderr",
     "output_type": "stream",
     "text": [
      "c:\\python38\\lib\\site-packages\\sklearn\\preprocessing\\_data.py:239: UserWarning: Numerical issues were encountered when centering the data and might not be solved. Dataset may contain too large values. You may need to prescale your features.\n",
      "  warnings.warn(\n",
      "c:\\python38\\lib\\site-packages\\sklearn\\preprocessing\\_data.py:258: UserWarning: Numerical issues were encountered when scaling the data and might not be solved. The standard deviation of the data is probably very close to 0. \n",
      "  warnings.warn(\n",
      "c:\\python38\\lib\\site-packages\\sklearn\\preprocessing\\_data.py:239: UserWarning: Numerical issues were encountered when centering the data and might not be solved. Dataset may contain too large values. You may need to prescale your features.\n",
      "  warnings.warn(\n",
      "100%|███████████████████████████████████████████████████████████████████████████| 25000/25000 [01:04<00:00, 390.30it/s]\n"
     ]
    },
    {
     "name": "stdout",
     "output_type": "stream",
     "text": [
      "MRR@100 = 0.0295\n",
      "N: 1000, q_bpr: 0.1, norm_all: True, preproc: standart, coef_bpr: 2\n"
     ]
    },
    {
     "name": "stderr",
     "output_type": "stream",
     "text": [
      "c:\\python38\\lib\\site-packages\\sklearn\\preprocessing\\_data.py:239: UserWarning: Numerical issues were encountered when centering the data and might not be solved. Dataset may contain too large values. You may need to prescale your features.\n",
      "  warnings.warn(\n",
      "c:\\python38\\lib\\site-packages\\sklearn\\preprocessing\\_data.py:258: UserWarning: Numerical issues were encountered when scaling the data and might not be solved. The standard deviation of the data is probably very close to 0. \n",
      "  warnings.warn(\n",
      "c:\\python38\\lib\\site-packages\\sklearn\\preprocessing\\_data.py:239: UserWarning: Numerical issues were encountered when centering the data and might not be solved. Dataset may contain too large values. You may need to prescale your features.\n",
      "  warnings.warn(\n",
      "100%|███████████████████████████████████████████████████████████████████████████| 25000/25000 [01:02<00:00, 399.60it/s]\n"
     ]
    },
    {
     "name": "stdout",
     "output_type": "stream",
     "text": [
      "MRR@100 = 0.0319\n",
      "N: 1000, q_bpr: 0.1, norm_all: False, preproc: minmax, coef_bpr: 0.1\n"
     ]
    },
    {
     "name": "stderr",
     "output_type": "stream",
     "text": [
      "100%|███████████████████████████████████████████████████████████████████████████| 25000/25000 [01:03<00:00, 395.84it/s]\n"
     ]
    },
    {
     "name": "stdout",
     "output_type": "stream",
     "text": [
      "MRR@100 = 0.0144\n",
      "N: 1000, q_bpr: 0.1, norm_all: False, preproc: minmax, coef_bpr: 0.5\n"
     ]
    },
    {
     "name": "stderr",
     "output_type": "stream",
     "text": [
      "100%|███████████████████████████████████████████████████████████████████████████| 25000/25000 [01:02<00:00, 398.50it/s]\n"
     ]
    },
    {
     "name": "stdout",
     "output_type": "stream",
     "text": [
      "MRR@100 = 0.0201\n",
      "N: 1000, q_bpr: 0.1, norm_all: False, preproc: minmax, coef_bpr: 1\n"
     ]
    },
    {
     "name": "stderr",
     "output_type": "stream",
     "text": [
      "100%|███████████████████████████████████████████████████████████████████████████| 25000/25000 [01:02<00:00, 401.62it/s]\n"
     ]
    },
    {
     "name": "stdout",
     "output_type": "stream",
     "text": [
      "MRR@100 = 0.0285\n",
      "N: 1000, q_bpr: 0.1, norm_all: False, preproc: minmax, coef_bpr: 2\n"
     ]
    },
    {
     "name": "stderr",
     "output_type": "stream",
     "text": [
      "100%|███████████████████████████████████████████████████████████████████████████| 25000/25000 [01:03<00:00, 395.50it/s]\n"
     ]
    },
    {
     "name": "stdout",
     "output_type": "stream",
     "text": [
      "MRR@100 = 0.0339\n",
      "N: 1000, q_bpr: 0.1, norm_all: False, preproc: standart, coef_bpr: 0.1\n"
     ]
    },
    {
     "name": "stderr",
     "output_type": "stream",
     "text": [
      "c:\\python38\\lib\\site-packages\\sklearn\\preprocessing\\_data.py:239: UserWarning: Numerical issues were encountered when centering the data and might not be solved. Dataset may contain too large values. You may need to prescale your features.\n",
      "  warnings.warn(\n",
      "c:\\python38\\lib\\site-packages\\sklearn\\preprocessing\\_data.py:258: UserWarning: Numerical issues were encountered when scaling the data and might not be solved. The standard deviation of the data is probably very close to 0. \n",
      "  warnings.warn(\n",
      "c:\\python38\\lib\\site-packages\\sklearn\\preprocessing\\_data.py:239: UserWarning: Numerical issues were encountered when centering the data and might not be solved. Dataset may contain too large values. You may need to prescale your features.\n",
      "  warnings.warn(\n",
      "c:\\python38\\lib\\site-packages\\sklearn\\preprocessing\\_data.py:258: UserWarning: Numerical issues were encountered when scaling the data and might not be solved. The standard deviation of the data is probably very close to 0. \n",
      "  warnings.warn(\n",
      "100%|███████████████████████████████████████████████████████████████████████████| 25000/25000 [01:03<00:00, 391.79it/s]\n"
     ]
    },
    {
     "name": "stdout",
     "output_type": "stream",
     "text": [
      "MRR@100 = 0.0158\n",
      "N: 1000, q_bpr: 0.1, norm_all: False, preproc: standart, coef_bpr: 0.5\n"
     ]
    },
    {
     "name": "stderr",
     "output_type": "stream",
     "text": [
      "c:\\python38\\lib\\site-packages\\sklearn\\preprocessing\\_data.py:239: UserWarning: Numerical issues were encountered when centering the data and might not be solved. Dataset may contain too large values. You may need to prescale your features.\n",
      "  warnings.warn(\n",
      "c:\\python38\\lib\\site-packages\\sklearn\\preprocessing\\_data.py:258: UserWarning: Numerical issues were encountered when scaling the data and might not be solved. The standard deviation of the data is probably very close to 0. \n",
      "  warnings.warn(\n",
      "c:\\python38\\lib\\site-packages\\sklearn\\preprocessing\\_data.py:239: UserWarning: Numerical issues were encountered when centering the data and might not be solved. Dataset may contain too large values. You may need to prescale your features.\n",
      "  warnings.warn(\n",
      "c:\\python38\\lib\\site-packages\\sklearn\\preprocessing\\_data.py:258: UserWarning: Numerical issues were encountered when scaling the data and might not be solved. The standard deviation of the data is probably very close to 0. \n",
      "  warnings.warn(\n",
      "100%|███████████████████████████████████████████████████████████████████████████| 25000/25000 [01:02<00:00, 398.33it/s]\n"
     ]
    },
    {
     "name": "stdout",
     "output_type": "stream",
     "text": [
      "MRR@100 = 0.0192\n",
      "N: 1000, q_bpr: 0.1, norm_all: False, preproc: standart, coef_bpr: 1\n"
     ]
    },
    {
     "name": "stderr",
     "output_type": "stream",
     "text": [
      "c:\\python38\\lib\\site-packages\\sklearn\\preprocessing\\_data.py:239: UserWarning: Numerical issues were encountered when centering the data and might not be solved. Dataset may contain too large values. You may need to prescale your features.\n",
      "  warnings.warn(\n",
      "c:\\python38\\lib\\site-packages\\sklearn\\preprocessing\\_data.py:258: UserWarning: Numerical issues were encountered when scaling the data and might not be solved. The standard deviation of the data is probably very close to 0. \n",
      "  warnings.warn(\n",
      "c:\\python38\\lib\\site-packages\\sklearn\\preprocessing\\_data.py:239: UserWarning: Numerical issues were encountered when centering the data and might not be solved. Dataset may contain too large values. You may need to prescale your features.\n",
      "  warnings.warn(\n",
      "c:\\python38\\lib\\site-packages\\sklearn\\preprocessing\\_data.py:258: UserWarning: Numerical issues were encountered when scaling the data and might not be solved. The standard deviation of the data is probably very close to 0. \n",
      "  warnings.warn(\n",
      "100%|███████████████████████████████████████████████████████████████████████████| 25000/25000 [01:04<00:00, 387.09it/s]\n"
     ]
    },
    {
     "name": "stdout",
     "output_type": "stream",
     "text": [
      "MRR@100 = 0.0244\n",
      "N: 1000, q_bpr: 0.1, norm_all: False, preproc: standart, coef_bpr: 2\n"
     ]
    },
    {
     "name": "stderr",
     "output_type": "stream",
     "text": [
      "c:\\python38\\lib\\site-packages\\sklearn\\preprocessing\\_data.py:239: UserWarning: Numerical issues were encountered when centering the data and might not be solved. Dataset may contain too large values. You may need to prescale your features.\n",
      "  warnings.warn(\n",
      "c:\\python38\\lib\\site-packages\\sklearn\\preprocessing\\_data.py:258: UserWarning: Numerical issues were encountered when scaling the data and might not be solved. The standard deviation of the data is probably very close to 0. \n",
      "  warnings.warn(\n",
      "c:\\python38\\lib\\site-packages\\sklearn\\preprocessing\\_data.py:239: UserWarning: Numerical issues were encountered when centering the data and might not be solved. Dataset may contain too large values. You may need to prescale your features.\n",
      "  warnings.warn(\n",
      "c:\\python38\\lib\\site-packages\\sklearn\\preprocessing\\_data.py:258: UserWarning: Numerical issues were encountered when scaling the data and might not be solved. The standard deviation of the data is probably very close to 0. \n",
      "  warnings.warn(\n",
      "100%|███████████████████████████████████████████████████████████████████████████| 25000/25000 [01:02<00:00, 399.98it/s]\n"
     ]
    },
    {
     "name": "stdout",
     "output_type": "stream",
     "text": [
      "MRR@100 = 0.0318\n",
      "\n",
      "\n",
      "--- 79.76546287536621 seconds model_als ---\n",
      "\n",
      "--- 119.60940170288086 seconds model_bpr ---\n",
      "N: 1000, q_bpr: 0.5, norm_all: True, preproc: minmax, coef_bpr: 0.1\n"
     ]
    },
    {
     "name": "stderr",
     "output_type": "stream",
     "text": [
      "100%|███████████████████████████████████████████████████████████████████████████| 25000/25000 [01:04<00:00, 388.39it/s]\n"
     ]
    },
    {
     "name": "stdout",
     "output_type": "stream",
     "text": [
      "MRR@100 = 0.0154\n",
      "N: 1000, q_bpr: 0.5, norm_all: True, preproc: minmax, coef_bpr: 0.5\n"
     ]
    },
    {
     "name": "stderr",
     "output_type": "stream",
     "text": [
      "100%|███████████████████████████████████████████████████████████████████████████| 25000/25000 [01:04<00:00, 387.05it/s]\n"
     ]
    },
    {
     "name": "stdout",
     "output_type": "stream",
     "text": [
      "MRR@100 = 0.0292\n",
      "N: 1000, q_bpr: 0.5, norm_all: True, preproc: minmax, coef_bpr: 1\n"
     ]
    },
    {
     "name": "stderr",
     "output_type": "stream",
     "text": [
      "100%|███████████████████████████████████████████████████████████████████████████| 25000/25000 [01:04<00:00, 386.41it/s]\n"
     ]
    },
    {
     "name": "stdout",
     "output_type": "stream",
     "text": [
      "MRR@100 = 0.0266\n",
      "N: 1000, q_bpr: 0.5, norm_all: True, preproc: minmax, coef_bpr: 2\n"
     ]
    },
    {
     "name": "stderr",
     "output_type": "stream",
     "text": [
      "100%|███████████████████████████████████████████████████████████████████████████| 25000/25000 [01:03<00:00, 396.72it/s]\n"
     ]
    },
    {
     "name": "stdout",
     "output_type": "stream",
     "text": [
      "MRR@100 = 0.0187\n",
      "N: 1000, q_bpr: 0.5, norm_all: True, preproc: standart, coef_bpr: 0.1\n"
     ]
    },
    {
     "name": "stderr",
     "output_type": "stream",
     "text": [
      "c:\\python38\\lib\\site-packages\\sklearn\\preprocessing\\_data.py:239: UserWarning: Numerical issues were encountered when centering the data and might not be solved. Dataset may contain too large values. You may need to prescale your features.\n",
      "  warnings.warn(\n",
      "c:\\python38\\lib\\site-packages\\sklearn\\preprocessing\\_data.py:258: UserWarning: Numerical issues were encountered when scaling the data and might not be solved. The standard deviation of the data is probably very close to 0. \n",
      "  warnings.warn(\n",
      "c:\\python38\\lib\\site-packages\\sklearn\\preprocessing\\_data.py:239: UserWarning: Numerical issues were encountered when centering the data and might not be solved. Dataset may contain too large values. You may need to prescale your features.\n",
      "  warnings.warn(\n",
      "100%|███████████████████████████████████████████████████████████████████████████| 25000/25000 [01:04<00:00, 385.84it/s]\n"
     ]
    },
    {
     "name": "stdout",
     "output_type": "stream",
     "text": [
      "MRR@100 = 0.0236\n",
      "N: 1000, q_bpr: 0.5, norm_all: True, preproc: standart, coef_bpr: 0.5\n"
     ]
    },
    {
     "name": "stderr",
     "output_type": "stream",
     "text": [
      "c:\\python38\\lib\\site-packages\\sklearn\\preprocessing\\_data.py:239: UserWarning: Numerical issues were encountered when centering the data and might not be solved. Dataset may contain too large values. You may need to prescale your features.\n",
      "  warnings.warn(\n",
      "c:\\python38\\lib\\site-packages\\sklearn\\preprocessing\\_data.py:258: UserWarning: Numerical issues were encountered when scaling the data and might not be solved. The standard deviation of the data is probably very close to 0. \n",
      "  warnings.warn(\n",
      "c:\\python38\\lib\\site-packages\\sklearn\\preprocessing\\_data.py:239: UserWarning: Numerical issues were encountered when centering the data and might not be solved. Dataset may contain too large values. You may need to prescale your features.\n",
      "  warnings.warn(\n",
      "100%|███████████████████████████████████████████████████████████████████████████| 25000/25000 [01:04<00:00, 386.69it/s]\n"
     ]
    },
    {
     "name": "stdout",
     "output_type": "stream",
     "text": [
      "MRR@100 = 0.0289\n",
      "N: 1000, q_bpr: 0.5, norm_all: True, preproc: standart, coef_bpr: 1\n"
     ]
    },
    {
     "name": "stderr",
     "output_type": "stream",
     "text": [
      "c:\\python38\\lib\\site-packages\\sklearn\\preprocessing\\_data.py:239: UserWarning: Numerical issues were encountered when centering the data and might not be solved. Dataset may contain too large values. You may need to prescale your features.\n",
      "  warnings.warn(\n",
      "c:\\python38\\lib\\site-packages\\sklearn\\preprocessing\\_data.py:258: UserWarning: Numerical issues were encountered when scaling the data and might not be solved. The standard deviation of the data is probably very close to 0. \n",
      "  warnings.warn(\n",
      "c:\\python38\\lib\\site-packages\\sklearn\\preprocessing\\_data.py:239: UserWarning: Numerical issues were encountered when centering the data and might not be solved. Dataset may contain too large values. You may need to prescale your features.\n",
      "  warnings.warn(\n",
      "100%|███████████████████████████████████████████████████████████████████████████| 25000/25000 [01:05<00:00, 379.43it/s]\n"
     ]
    },
    {
     "name": "stdout",
     "output_type": "stream",
     "text": [
      "MRR@100 = 0.0317\n",
      "N: 1000, q_bpr: 0.5, norm_all: True, preproc: standart, coef_bpr: 2\n"
     ]
    },
    {
     "name": "stderr",
     "output_type": "stream",
     "text": [
      "c:\\python38\\lib\\site-packages\\sklearn\\preprocessing\\_data.py:239: UserWarning: Numerical issues were encountered when centering the data and might not be solved. Dataset may contain too large values. You may need to prescale your features.\n",
      "  warnings.warn(\n",
      "c:\\python38\\lib\\site-packages\\sklearn\\preprocessing\\_data.py:258: UserWarning: Numerical issues were encountered when scaling the data and might not be solved. The standard deviation of the data is probably very close to 0. \n",
      "  warnings.warn(\n",
      "c:\\python38\\lib\\site-packages\\sklearn\\preprocessing\\_data.py:239: UserWarning: Numerical issues were encountered when centering the data and might not be solved. Dataset may contain too large values. You may need to prescale your features.\n",
      "  warnings.warn(\n",
      "100%|███████████████████████████████████████████████████████████████████████████| 25000/25000 [01:03<00:00, 391.36it/s]\n"
     ]
    },
    {
     "name": "stdout",
     "output_type": "stream",
     "text": [
      "MRR@100 = 0.0322\n",
      "N: 1000, q_bpr: 0.5, norm_all: False, preproc: minmax, coef_bpr: 0.1\n"
     ]
    },
    {
     "name": "stderr",
     "output_type": "stream",
     "text": [
      "100%|███████████████████████████████████████████████████████████████████████████| 25000/25000 [01:05<00:00, 383.59it/s]\n"
     ]
    },
    {
     "name": "stdout",
     "output_type": "stream",
     "text": [
      "MRR@100 = 0.0165\n",
      "N: 1000, q_bpr: 0.5, norm_all: False, preproc: minmax, coef_bpr: 0.5\n"
     ]
    },
    {
     "name": "stderr",
     "output_type": "stream",
     "text": [
      "100%|███████████████████████████████████████████████████████████████████████████| 25000/25000 [01:05<00:00, 384.52it/s]\n"
     ]
    },
    {
     "name": "stdout",
     "output_type": "stream",
     "text": [
      "MRR@100 = 0.0233\n",
      "N: 1000, q_bpr: 0.5, norm_all: False, preproc: minmax, coef_bpr: 1\n"
     ]
    },
    {
     "name": "stderr",
     "output_type": "stream",
     "text": [
      "100%|███████████████████████████████████████████████████████████████████████████| 25000/25000 [01:04<00:00, 388.16it/s]\n"
     ]
    },
    {
     "name": "stdout",
     "output_type": "stream",
     "text": [
      "MRR@100 = 0.0303\n",
      "N: 1000, q_bpr: 0.5, norm_all: False, preproc: minmax, coef_bpr: 2\n"
     ]
    },
    {
     "name": "stderr",
     "output_type": "stream",
     "text": [
      "100%|███████████████████████████████████████████████████████████████████████████| 25000/25000 [01:04<00:00, 386.57it/s]\n"
     ]
    },
    {
     "name": "stdout",
     "output_type": "stream",
     "text": [
      "MRR@100 = 0.0320\n",
      "N: 1000, q_bpr: 0.5, norm_all: False, preproc: standart, coef_bpr: 0.1\n"
     ]
    },
    {
     "name": "stderr",
     "output_type": "stream",
     "text": [
      "c:\\python38\\lib\\site-packages\\sklearn\\preprocessing\\_data.py:239: UserWarning: Numerical issues were encountered when centering the data and might not be solved. Dataset may contain too large values. You may need to prescale your features.\n",
      "  warnings.warn(\n",
      "c:\\python38\\lib\\site-packages\\sklearn\\preprocessing\\_data.py:258: UserWarning: Numerical issues were encountered when scaling the data and might not be solved. The standard deviation of the data is probably very close to 0. \n",
      "  warnings.warn(\n",
      "c:\\python38\\lib\\site-packages\\sklearn\\preprocessing\\_data.py:239: UserWarning: Numerical issues were encountered when centering the data and might not be solved. Dataset may contain too large values. You may need to prescale your features.\n",
      "  warnings.warn(\n",
      "c:\\python38\\lib\\site-packages\\sklearn\\preprocessing\\_data.py:258: UserWarning: Numerical issues were encountered when scaling the data and might not be solved. The standard deviation of the data is probably very close to 0. \n",
      "  warnings.warn(\n",
      "100%|███████████████████████████████████████████████████████████████████████████| 25000/25000 [01:05<00:00, 382.36it/s]\n"
     ]
    },
    {
     "name": "stdout",
     "output_type": "stream",
     "text": [
      "MRR@100 = 0.0192\n",
      "N: 1000, q_bpr: 0.5, norm_all: False, preproc: standart, coef_bpr: 0.5\n"
     ]
    },
    {
     "name": "stderr",
     "output_type": "stream",
     "text": [
      "c:\\python38\\lib\\site-packages\\sklearn\\preprocessing\\_data.py:239: UserWarning: Numerical issues were encountered when centering the data and might not be solved. Dataset may contain too large values. You may need to prescale your features.\n",
      "  warnings.warn(\n",
      "c:\\python38\\lib\\site-packages\\sklearn\\preprocessing\\_data.py:258: UserWarning: Numerical issues were encountered when scaling the data and might not be solved. The standard deviation of the data is probably very close to 0. \n",
      "  warnings.warn(\n",
      "c:\\python38\\lib\\site-packages\\sklearn\\preprocessing\\_data.py:239: UserWarning: Numerical issues were encountered when centering the data and might not be solved. Dataset may contain too large values. You may need to prescale your features.\n",
      "  warnings.warn(\n",
      "c:\\python38\\lib\\site-packages\\sklearn\\preprocessing\\_data.py:258: UserWarning: Numerical issues were encountered when scaling the data and might not be solved. The standard deviation of the data is probably very close to 0. \n",
      "  warnings.warn(\n",
      "100%|███████████████████████████████████████████████████████████████████████████| 25000/25000 [01:05<00:00, 384.40it/s]\n"
     ]
    },
    {
     "name": "stdout",
     "output_type": "stream",
     "text": [
      "MRR@100 = 0.0243\n",
      "N: 1000, q_bpr: 0.5, norm_all: False, preproc: standart, coef_bpr: 1\n"
     ]
    },
    {
     "name": "stderr",
     "output_type": "stream",
     "text": [
      "c:\\python38\\lib\\site-packages\\sklearn\\preprocessing\\_data.py:239: UserWarning: Numerical issues were encountered when centering the data and might not be solved. Dataset may contain too large values. You may need to prescale your features.\n",
      "  warnings.warn(\n",
      "c:\\python38\\lib\\site-packages\\sklearn\\preprocessing\\_data.py:258: UserWarning: Numerical issues were encountered when scaling the data and might not be solved. The standard deviation of the data is probably very close to 0. \n",
      "  warnings.warn(\n",
      "c:\\python38\\lib\\site-packages\\sklearn\\preprocessing\\_data.py:239: UserWarning: Numerical issues were encountered when centering the data and might not be solved. Dataset may contain too large values. You may need to prescale your features.\n",
      "  warnings.warn(\n",
      "c:\\python38\\lib\\site-packages\\sklearn\\preprocessing\\_data.py:258: UserWarning: Numerical issues were encountered when scaling the data and might not be solved. The standard deviation of the data is probably very close to 0. \n",
      "  warnings.warn(\n",
      "100%|███████████████████████████████████████████████████████████████████████████| 25000/25000 [01:04<00:00, 386.71it/s]\n"
     ]
    },
    {
     "name": "stdout",
     "output_type": "stream",
     "text": [
      "MRR@100 = 0.0298\n",
      "N: 1000, q_bpr: 0.5, norm_all: False, preproc: standart, coef_bpr: 2\n"
     ]
    },
    {
     "name": "stderr",
     "output_type": "stream",
     "text": [
      "c:\\python38\\lib\\site-packages\\sklearn\\preprocessing\\_data.py:239: UserWarning: Numerical issues were encountered when centering the data and might not be solved. Dataset may contain too large values. You may need to prescale your features.\n",
      "  warnings.warn(\n",
      "c:\\python38\\lib\\site-packages\\sklearn\\preprocessing\\_data.py:258: UserWarning: Numerical issues were encountered when scaling the data and might not be solved. The standard deviation of the data is probably very close to 0. \n",
      "  warnings.warn(\n",
      "c:\\python38\\lib\\site-packages\\sklearn\\preprocessing\\_data.py:239: UserWarning: Numerical issues were encountered when centering the data and might not be solved. Dataset may contain too large values. You may need to prescale your features.\n",
      "  warnings.warn(\n",
      "c:\\python38\\lib\\site-packages\\sklearn\\preprocessing\\_data.py:258: UserWarning: Numerical issues were encountered when scaling the data and might not be solved. The standard deviation of the data is probably very close to 0. \n",
      "  warnings.warn(\n",
      "100%|███████████████████████████████████████████████████████████████████████████| 25000/25000 [01:04<00:00, 385.10it/s]\n"
     ]
    },
    {
     "name": "stdout",
     "output_type": "stream",
     "text": [
      "MRR@100 = 0.0333\n",
      "\n",
      "\n",
      "--- 74.28738069534302 seconds model_als ---\n",
      "\n",
      "--- 120.39622235298157 seconds model_bpr ---\n",
      "N: 1000, q_bpr: 1, norm_all: True, preproc: minmax, coef_bpr: 0.1\n"
     ]
    },
    {
     "name": "stderr",
     "output_type": "stream",
     "text": [
      "100%|███████████████████████████████████████████████████████████████████████████| 25000/25000 [01:06<00:00, 373.76it/s]\n"
     ]
    },
    {
     "name": "stdout",
     "output_type": "stream",
     "text": [
      "MRR@100 = 0.0177\n",
      "N: 1000, q_bpr: 1, norm_all: True, preproc: minmax, coef_bpr: 0.5\n"
     ]
    },
    {
     "name": "stderr",
     "output_type": "stream",
     "text": [
      "100%|███████████████████████████████████████████████████████████████████████████| 25000/25000 [01:06<00:00, 376.74it/s]\n"
     ]
    },
    {
     "name": "stdout",
     "output_type": "stream",
     "text": [
      "MRR@100 = 0.0296\n",
      "N: 1000, q_bpr: 1, norm_all: True, preproc: minmax, coef_bpr: 1\n"
     ]
    },
    {
     "name": "stderr",
     "output_type": "stream",
     "text": [
      "100%|███████████████████████████████████████████████████████████████████████████| 25000/25000 [01:06<00:00, 377.38it/s]\n"
     ]
    },
    {
     "name": "stdout",
     "output_type": "stream",
     "text": [
      "MRR@100 = 0.0249\n",
      "N: 1000, q_bpr: 1, norm_all: True, preproc: minmax, coef_bpr: 2\n"
     ]
    },
    {
     "name": "stderr",
     "output_type": "stream",
     "text": [
      "100%|███████████████████████████████████████████████████████████████████████████| 25000/25000 [01:07<00:00, 368.91it/s]\n"
     ]
    },
    {
     "name": "stdout",
     "output_type": "stream",
     "text": [
      "MRR@100 = 0.0162\n",
      "N: 1000, q_bpr: 1, norm_all: True, preproc: standart, coef_bpr: 0.1\n"
     ]
    },
    {
     "name": "stderr",
     "output_type": "stream",
     "text": [
      "c:\\python38\\lib\\site-packages\\sklearn\\preprocessing\\_data.py:239: UserWarning: Numerical issues were encountered when centering the data and might not be solved. Dataset may contain too large values. You may need to prescale your features.\n",
      "  warnings.warn(\n",
      "c:\\python38\\lib\\site-packages\\sklearn\\preprocessing\\_data.py:258: UserWarning: Numerical issues were encountered when scaling the data and might not be solved. The standard deviation of the data is probably very close to 0. \n",
      "  warnings.warn(\n",
      "c:\\python38\\lib\\site-packages\\sklearn\\preprocessing\\_data.py:239: UserWarning: Numerical issues were encountered when centering the data and might not be solved. Dataset may contain too large values. You may need to prescale your features.\n",
      "  warnings.warn(\n",
      "100%|███████████████████████████████████████████████████████████████████████████| 25000/25000 [01:07<00:00, 371.93it/s]\n"
     ]
    },
    {
     "name": "stdout",
     "output_type": "stream",
     "text": [
      "MRR@100 = 0.0248\n",
      "N: 1000, q_bpr: 1, norm_all: True, preproc: standart, coef_bpr: 0.5\n"
     ]
    },
    {
     "name": "stderr",
     "output_type": "stream",
     "text": [
      "c:\\python38\\lib\\site-packages\\sklearn\\preprocessing\\_data.py:239: UserWarning: Numerical issues were encountered when centering the data and might not be solved. Dataset may contain too large values. You may need to prescale your features.\n",
      "  warnings.warn(\n",
      "c:\\python38\\lib\\site-packages\\sklearn\\preprocessing\\_data.py:258: UserWarning: Numerical issues were encountered when scaling the data and might not be solved. The standard deviation of the data is probably very close to 0. \n",
      "  warnings.warn(\n",
      "c:\\python38\\lib\\site-packages\\sklearn\\preprocessing\\_data.py:239: UserWarning: Numerical issues were encountered when centering the data and might not be solved. Dataset may contain too large values. You may need to prescale your features.\n",
      "  warnings.warn(\n",
      "100%|███████████████████████████████████████████████████████████████████████████| 25000/25000 [01:08<00:00, 367.51it/s]\n"
     ]
    },
    {
     "name": "stdout",
     "output_type": "stream",
     "text": [
      "MRR@100 = 0.0296\n",
      "N: 1000, q_bpr: 1, norm_all: True, preproc: standart, coef_bpr: 1\n"
     ]
    },
    {
     "name": "stderr",
     "output_type": "stream",
     "text": [
      "c:\\python38\\lib\\site-packages\\sklearn\\preprocessing\\_data.py:239: UserWarning: Numerical issues were encountered when centering the data and might not be solved. Dataset may contain too large values. You may need to prescale your features.\n",
      "  warnings.warn(\n",
      "c:\\python38\\lib\\site-packages\\sklearn\\preprocessing\\_data.py:258: UserWarning: Numerical issues were encountered when scaling the data and might not be solved. The standard deviation of the data is probably very close to 0. \n",
      "  warnings.warn(\n",
      "c:\\python38\\lib\\site-packages\\sklearn\\preprocessing\\_data.py:239: UserWarning: Numerical issues were encountered when centering the data and might not be solved. Dataset may contain too large values. You may need to prescale your features.\n",
      "  warnings.warn(\n",
      "100%|███████████████████████████████████████████████████████████████████████████| 25000/25000 [01:06<00:00, 375.94it/s]\n"
     ]
    },
    {
     "name": "stdout",
     "output_type": "stream",
     "text": [
      "MRR@100 = 0.0312\n",
      "N: 1000, q_bpr: 1, norm_all: True, preproc: standart, coef_bpr: 2\n"
     ]
    },
    {
     "name": "stderr",
     "output_type": "stream",
     "text": [
      "c:\\python38\\lib\\site-packages\\sklearn\\preprocessing\\_data.py:239: UserWarning: Numerical issues were encountered when centering the data and might not be solved. Dataset may contain too large values. You may need to prescale your features.\n",
      "  warnings.warn(\n",
      "c:\\python38\\lib\\site-packages\\sklearn\\preprocessing\\_data.py:258: UserWarning: Numerical issues were encountered when scaling the data and might not be solved. The standard deviation of the data is probably very close to 0. \n",
      "  warnings.warn(\n",
      "c:\\python38\\lib\\site-packages\\sklearn\\preprocessing\\_data.py:239: UserWarning: Numerical issues were encountered when centering the data and might not be solved. Dataset may contain too large values. You may need to prescale your features.\n",
      "  warnings.warn(\n",
      "100%|███████████████████████████████████████████████████████████████████████████| 25000/25000 [01:17<00:00, 321.96it/s]\n"
     ]
    },
    {
     "name": "stdout",
     "output_type": "stream",
     "text": [
      "MRR@100 = 0.0308\n",
      "N: 1000, q_bpr: 1, norm_all: False, preproc: minmax, coef_bpr: 0.1\n"
     ]
    },
    {
     "name": "stderr",
     "output_type": "stream",
     "text": [
      "100%|███████████████████████████████████████████████████████████████████████████| 25000/25000 [01:29<00:00, 278.76it/s]\n"
     ]
    },
    {
     "name": "stdout",
     "output_type": "stream",
     "text": [
      "MRR@100 = 0.0191\n",
      "N: 1000, q_bpr: 1, norm_all: False, preproc: minmax, coef_bpr: 0.5\n"
     ]
    },
    {
     "name": "stderr",
     "output_type": "stream",
     "text": [
      "100%|███████████████████████████████████████████████████████████████████████████| 25000/25000 [01:17<00:00, 321.89it/s]\n"
     ]
    },
    {
     "name": "stdout",
     "output_type": "stream",
     "text": [
      "MRR@100 = 0.0250\n",
      "N: 1000, q_bpr: 1, norm_all: False, preproc: minmax, coef_bpr: 1\n"
     ]
    },
    {
     "name": "stderr",
     "output_type": "stream",
     "text": [
      "100%|███████████████████████████████████████████████████████████████████████████| 25000/25000 [01:12<00:00, 344.17it/s]\n"
     ]
    },
    {
     "name": "stdout",
     "output_type": "stream",
     "text": [
      "MRR@100 = 0.0308\n",
      "N: 1000, q_bpr: 1, norm_all: False, preproc: minmax, coef_bpr: 2\n"
     ]
    },
    {
     "name": "stderr",
     "output_type": "stream",
     "text": [
      "100%|███████████████████████████████████████████████████████████████████████████| 25000/25000 [01:13<00:00, 340.83it/s]\n"
     ]
    },
    {
     "name": "stdout",
     "output_type": "stream",
     "text": [
      "MRR@100 = 0.0305\n",
      "N: 1000, q_bpr: 1, norm_all: False, preproc: standart, coef_bpr: 0.1\n"
     ]
    },
    {
     "name": "stderr",
     "output_type": "stream",
     "text": [
      "c:\\python38\\lib\\site-packages\\sklearn\\preprocessing\\_data.py:239: UserWarning: Numerical issues were encountered when centering the data and might not be solved. Dataset may contain too large values. You may need to prescale your features.\n",
      "  warnings.warn(\n",
      "c:\\python38\\lib\\site-packages\\sklearn\\preprocessing\\_data.py:258: UserWarning: Numerical issues were encountered when scaling the data and might not be solved. The standard deviation of the data is probably very close to 0. \n",
      "  warnings.warn(\n",
      "c:\\python38\\lib\\site-packages\\sklearn\\preprocessing\\_data.py:239: UserWarning: Numerical issues were encountered when centering the data and might not be solved. Dataset may contain too large values. You may need to prescale your features.\n",
      "  warnings.warn(\n",
      "c:\\python38\\lib\\site-packages\\sklearn\\preprocessing\\_data.py:258: UserWarning: Numerical issues were encountered when scaling the data and might not be solved. The standard deviation of the data is probably very close to 0. \n",
      "  warnings.warn(\n",
      "100%|███████████████████████████████████████████████████████████████████████████| 25000/25000 [01:11<00:00, 347.71it/s]\n"
     ]
    },
    {
     "name": "stdout",
     "output_type": "stream",
     "text": [
      "MRR@100 = 0.0216\n",
      "N: 1000, q_bpr: 1, norm_all: False, preproc: standart, coef_bpr: 0.5\n"
     ]
    },
    {
     "name": "stderr",
     "output_type": "stream",
     "text": [
      "c:\\python38\\lib\\site-packages\\sklearn\\preprocessing\\_data.py:239: UserWarning: Numerical issues were encountered when centering the data and might not be solved. Dataset may contain too large values. You may need to prescale your features.\n",
      "  warnings.warn(\n",
      "c:\\python38\\lib\\site-packages\\sklearn\\preprocessing\\_data.py:258: UserWarning: Numerical issues were encountered when scaling the data and might not be solved. The standard deviation of the data is probably very close to 0. \n",
      "  warnings.warn(\n",
      "c:\\python38\\lib\\site-packages\\sklearn\\preprocessing\\_data.py:239: UserWarning: Numerical issues were encountered when centering the data and might not be solved. Dataset may contain too large values. You may need to prescale your features.\n",
      "  warnings.warn(\n",
      "c:\\python38\\lib\\site-packages\\sklearn\\preprocessing\\_data.py:258: UserWarning: Numerical issues were encountered when scaling the data and might not be solved. The standard deviation of the data is probably very close to 0. \n",
      "  warnings.warn(\n",
      "100%|███████████████████████████████████████████████████████████████████████████| 25000/25000 [01:11<00:00, 349.03it/s]\n"
     ]
    },
    {
     "name": "stdout",
     "output_type": "stream",
     "text": [
      "MRR@100 = 0.0266\n",
      "N: 1000, q_bpr: 1, norm_all: False, preproc: standart, coef_bpr: 1\n"
     ]
    },
    {
     "name": "stderr",
     "output_type": "stream",
     "text": [
      "c:\\python38\\lib\\site-packages\\sklearn\\preprocessing\\_data.py:239: UserWarning: Numerical issues were encountered when centering the data and might not be solved. Dataset may contain too large values. You may need to prescale your features.\n",
      "  warnings.warn(\n",
      "c:\\python38\\lib\\site-packages\\sklearn\\preprocessing\\_data.py:258: UserWarning: Numerical issues were encountered when scaling the data and might not be solved. The standard deviation of the data is probably very close to 0. \n",
      "  warnings.warn(\n",
      "c:\\python38\\lib\\site-packages\\sklearn\\preprocessing\\_data.py:239: UserWarning: Numerical issues were encountered when centering the data and might not be solved. Dataset may contain too large values. You may need to prescale your features.\n",
      "  warnings.warn(\n",
      "c:\\python38\\lib\\site-packages\\sklearn\\preprocessing\\_data.py:258: UserWarning: Numerical issues were encountered when scaling the data and might not be solved. The standard deviation of the data is probably very close to 0. \n",
      "  warnings.warn(\n",
      "100%|███████████████████████████████████████████████████████████████████████████| 25000/25000 [01:10<00:00, 352.59it/s]\n"
     ]
    },
    {
     "name": "stdout",
     "output_type": "stream",
     "text": [
      "MRR@100 = 0.0314\n",
      "N: 1000, q_bpr: 1, norm_all: False, preproc: standart, coef_bpr: 2\n"
     ]
    },
    {
     "name": "stderr",
     "output_type": "stream",
     "text": [
      "c:\\python38\\lib\\site-packages\\sklearn\\preprocessing\\_data.py:239: UserWarning: Numerical issues were encountered when centering the data and might not be solved. Dataset may contain too large values. You may need to prescale your features.\n",
      "  warnings.warn(\n",
      "c:\\python38\\lib\\site-packages\\sklearn\\preprocessing\\_data.py:258: UserWarning: Numerical issues were encountered when scaling the data and might not be solved. The standard deviation of the data is probably very close to 0. \n",
      "  warnings.warn(\n",
      "c:\\python38\\lib\\site-packages\\sklearn\\preprocessing\\_data.py:239: UserWarning: Numerical issues were encountered when centering the data and might not be solved. Dataset may contain too large values. You may need to prescale your features.\n",
      "  warnings.warn(\n",
      "c:\\python38\\lib\\site-packages\\sklearn\\preprocessing\\_data.py:258: UserWarning: Numerical issues were encountered when scaling the data and might not be solved. The standard deviation of the data is probably very close to 0. \n",
      "  warnings.warn(\n",
      "100%|███████████████████████████████████████████████████████████████████████████| 25000/25000 [01:12<00:00, 346.55it/s]\n"
     ]
    },
    {
     "name": "stdout",
     "output_type": "stream",
     "text": [
      "MRR@100 = 0.0324\n",
      "\n",
      "\n",
      "--- 64.49129581451416 seconds model_als ---\n",
      "\n",
      "--- 137.95705723762512 seconds model_bpr ---\n",
      "N: 1000, q_bpr: 2, norm_all: True, preproc: minmax, coef_bpr: 0.1\n"
     ]
    },
    {
     "name": "stderr",
     "output_type": "stream",
     "text": [
      "100%|███████████████████████████████████████████████████████████████████████████| 25000/25000 [01:09<00:00, 361.72it/s]\n"
     ]
    },
    {
     "name": "stdout",
     "output_type": "stream",
     "text": [
      "MRR@100 = 0.0201\n",
      "N: 1000, q_bpr: 2, norm_all: True, preproc: minmax, coef_bpr: 0.5\n"
     ]
    },
    {
     "name": "stderr",
     "output_type": "stream",
     "text": [
      "100%|███████████████████████████████████████████████████████████████████████████| 25000/25000 [01:11<00:00, 348.33it/s]\n"
     ]
    },
    {
     "name": "stdout",
     "output_type": "stream",
     "text": [
      "MRR@100 = 0.0297\n",
      "N: 1000, q_bpr: 2, norm_all: True, preproc: minmax, coef_bpr: 1\n"
     ]
    },
    {
     "name": "stderr",
     "output_type": "stream",
     "text": [
      "100%|███████████████████████████████████████████████████████████████████████████| 25000/25000 [01:16<00:00, 326.76it/s]\n"
     ]
    },
    {
     "name": "stdout",
     "output_type": "stream",
     "text": [
      "MRR@100 = 0.0234\n",
      "N: 1000, q_bpr: 2, norm_all: True, preproc: minmax, coef_bpr: 2\n"
     ]
    },
    {
     "name": "stderr",
     "output_type": "stream",
     "text": [
      "100%|███████████████████████████████████████████████████████████████████████████| 25000/25000 [01:27<00:00, 284.14it/s]\n"
     ]
    },
    {
     "name": "stdout",
     "output_type": "stream",
     "text": [
      "MRR@100 = 0.0145\n",
      "N: 1000, q_bpr: 2, norm_all: True, preproc: standart, coef_bpr: 0.1\n"
     ]
    },
    {
     "name": "stderr",
     "output_type": "stream",
     "text": [
      "c:\\python38\\lib\\site-packages\\sklearn\\preprocessing\\_data.py:239: UserWarning: Numerical issues were encountered when centering the data and might not be solved. Dataset may contain too large values. You may need to prescale your features.\n",
      "  warnings.warn(\n",
      "c:\\python38\\lib\\site-packages\\sklearn\\preprocessing\\_data.py:258: UserWarning: Numerical issues were encountered when scaling the data and might not be solved. The standard deviation of the data is probably very close to 0. \n",
      "  warnings.warn(\n",
      "c:\\python38\\lib\\site-packages\\sklearn\\preprocessing\\_data.py:239: UserWarning: Numerical issues were encountered when centering the data and might not be solved. Dataset may contain too large values. You may need to prescale your features.\n",
      "  warnings.warn(\n",
      "100%|███████████████████████████████████████████████████████████████████████████| 25000/25000 [01:21<00:00, 308.38it/s]\n"
     ]
    },
    {
     "name": "stdout",
     "output_type": "stream",
     "text": [
      "MRR@100 = 0.0254\n",
      "N: 1000, q_bpr: 2, norm_all: True, preproc: standart, coef_bpr: 0.5\n"
     ]
    },
    {
     "name": "stderr",
     "output_type": "stream",
     "text": [
      "c:\\python38\\lib\\site-packages\\sklearn\\preprocessing\\_data.py:239: UserWarning: Numerical issues were encountered when centering the data and might not be solved. Dataset may contain too large values. You may need to prescale your features.\n",
      "  warnings.warn(\n",
      "c:\\python38\\lib\\site-packages\\sklearn\\preprocessing\\_data.py:258: UserWarning: Numerical issues were encountered when scaling the data and might not be solved. The standard deviation of the data is probably very close to 0. \n",
      "  warnings.warn(\n",
      "c:\\python38\\lib\\site-packages\\sklearn\\preprocessing\\_data.py:239: UserWarning: Numerical issues were encountered when centering the data and might not be solved. Dataset may contain too large values. You may need to prescale your features.\n",
      "  warnings.warn(\n",
      "100%|███████████████████████████████████████████████████████████████████████████| 25000/25000 [01:16<00:00, 327.72it/s]\n"
     ]
    },
    {
     "name": "stdout",
     "output_type": "stream",
     "text": [
      "MRR@100 = 0.0296\n",
      "N: 1000, q_bpr: 2, norm_all: True, preproc: standart, coef_bpr: 1\n"
     ]
    },
    {
     "name": "stderr",
     "output_type": "stream",
     "text": [
      "c:\\python38\\lib\\site-packages\\sklearn\\preprocessing\\_data.py:239: UserWarning: Numerical issues were encountered when centering the data and might not be solved. Dataset may contain too large values. You may need to prescale your features.\n",
      "  warnings.warn(\n",
      "c:\\python38\\lib\\site-packages\\sklearn\\preprocessing\\_data.py:258: UserWarning: Numerical issues were encountered when scaling the data and might not be solved. The standard deviation of the data is probably very close to 0. \n",
      "  warnings.warn(\n",
      "c:\\python38\\lib\\site-packages\\sklearn\\preprocessing\\_data.py:239: UserWarning: Numerical issues were encountered when centering the data and might not be solved. Dataset may contain too large values. You may need to prescale your features.\n",
      "  warnings.warn(\n",
      "100%|███████████████████████████████████████████████████████████████████████████| 25000/25000 [01:15<00:00, 332.30it/s]\n"
     ]
    },
    {
     "name": "stdout",
     "output_type": "stream",
     "text": [
      "MRR@100 = 0.0300\n",
      "N: 1000, q_bpr: 2, norm_all: True, preproc: standart, coef_bpr: 2\n"
     ]
    },
    {
     "name": "stderr",
     "output_type": "stream",
     "text": [
      "c:\\python38\\lib\\site-packages\\sklearn\\preprocessing\\_data.py:239: UserWarning: Numerical issues were encountered when centering the data and might not be solved. Dataset may contain too large values. You may need to prescale your features.\n",
      "  warnings.warn(\n",
      "c:\\python38\\lib\\site-packages\\sklearn\\preprocessing\\_data.py:258: UserWarning: Numerical issues were encountered when scaling the data and might not be solved. The standard deviation of the data is probably very close to 0. \n",
      "  warnings.warn(\n",
      "c:\\python38\\lib\\site-packages\\sklearn\\preprocessing\\_data.py:239: UserWarning: Numerical issues were encountered when centering the data and might not be solved. Dataset may contain too large values. You may need to prescale your features.\n",
      "  warnings.warn(\n",
      "100%|███████████████████████████████████████████████████████████████████████████| 25000/25000 [01:16<00:00, 325.81it/s]\n"
     ]
    },
    {
     "name": "stdout",
     "output_type": "stream",
     "text": [
      "MRR@100 = 0.0283\n",
      "N: 1000, q_bpr: 2, norm_all: False, preproc: minmax, coef_bpr: 0.1\n"
     ]
    },
    {
     "name": "stderr",
     "output_type": "stream",
     "text": [
      "100%|███████████████████████████████████████████████████████████████████████████| 25000/25000 [01:15<00:00, 330.08it/s]\n"
     ]
    },
    {
     "name": "stdout",
     "output_type": "stream",
     "text": [
      "MRR@100 = 0.0211\n",
      "N: 1000, q_bpr: 2, norm_all: False, preproc: minmax, coef_bpr: 0.5\n"
     ]
    },
    {
     "name": "stderr",
     "output_type": "stream",
     "text": [
      "100%|███████████████████████████████████████████████████████████████████████████| 25000/25000 [01:16<00:00, 328.94it/s]\n"
     ]
    },
    {
     "name": "stdout",
     "output_type": "stream",
     "text": [
      "MRR@100 = 0.0262\n",
      "N: 1000, q_bpr: 2, norm_all: False, preproc: minmax, coef_bpr: 1\n"
     ]
    },
    {
     "name": "stderr",
     "output_type": "stream",
     "text": [
      "100%|███████████████████████████████████████████████████████████████████████████| 25000/25000 [01:16<00:00, 326.67it/s]\n"
     ]
    },
    {
     "name": "stdout",
     "output_type": "stream",
     "text": [
      "MRR@100 = 0.0307\n",
      "N: 1000, q_bpr: 2, norm_all: False, preproc: minmax, coef_bpr: 2\n"
     ]
    },
    {
     "name": "stderr",
     "output_type": "stream",
     "text": [
      "100%|███████████████████████████████████████████████████████████████████████████| 25000/25000 [01:16<00:00, 326.38it/s]\n"
     ]
    },
    {
     "name": "stdout",
     "output_type": "stream",
     "text": [
      "MRR@100 = 0.0284\n",
      "N: 1000, q_bpr: 2, norm_all: False, preproc: standart, coef_bpr: 0.1\n"
     ]
    },
    {
     "name": "stderr",
     "output_type": "stream",
     "text": [
      "c:\\python38\\lib\\site-packages\\sklearn\\preprocessing\\_data.py:239: UserWarning: Numerical issues were encountered when centering the data and might not be solved. Dataset may contain too large values. You may need to prescale your features.\n",
      "  warnings.warn(\n",
      "c:\\python38\\lib\\site-packages\\sklearn\\preprocessing\\_data.py:258: UserWarning: Numerical issues were encountered when scaling the data and might not be solved. The standard deviation of the data is probably very close to 0. \n",
      "  warnings.warn(\n",
      "c:\\python38\\lib\\site-packages\\sklearn\\preprocessing\\_data.py:239: UserWarning: Numerical issues were encountered when centering the data and might not be solved. Dataset may contain too large values. You may need to prescale your features.\n",
      "  warnings.warn(\n",
      "c:\\python38\\lib\\site-packages\\sklearn\\preprocessing\\_data.py:258: UserWarning: Numerical issues were encountered when scaling the data and might not be solved. The standard deviation of the data is probably very close to 0. \n",
      "  warnings.warn(\n",
      "100%|███████████████████████████████████████████████████████████████████████████| 25000/25000 [01:17<00:00, 321.03it/s]\n"
     ]
    },
    {
     "name": "stdout",
     "output_type": "stream",
     "text": [
      "MRR@100 = 0.0232\n",
      "N: 1000, q_bpr: 2, norm_all: False, preproc: standart, coef_bpr: 0.5\n"
     ]
    },
    {
     "name": "stderr",
     "output_type": "stream",
     "text": [
      "c:\\python38\\lib\\site-packages\\sklearn\\preprocessing\\_data.py:239: UserWarning: Numerical issues were encountered when centering the data and might not be solved. Dataset may contain too large values. You may need to prescale your features.\n",
      "  warnings.warn(\n",
      "c:\\python38\\lib\\site-packages\\sklearn\\preprocessing\\_data.py:258: UserWarning: Numerical issues were encountered when scaling the data and might not be solved. The standard deviation of the data is probably very close to 0. \n",
      "  warnings.warn(\n",
      "c:\\python38\\lib\\site-packages\\sklearn\\preprocessing\\_data.py:239: UserWarning: Numerical issues were encountered when centering the data and might not be solved. Dataset may contain too large values. You may need to prescale your features.\n",
      "  warnings.warn(\n",
      "c:\\python38\\lib\\site-packages\\sklearn\\preprocessing\\_data.py:258: UserWarning: Numerical issues were encountered when scaling the data and might not be solved. The standard deviation of the data is probably very close to 0. \n",
      "  warnings.warn(\n",
      "100%|███████████████████████████████████████████████████████████████████████████| 25000/25000 [01:15<00:00, 329.26it/s]\n"
     ]
    },
    {
     "name": "stdout",
     "output_type": "stream",
     "text": [
      "MRR@100 = 0.0279\n",
      "N: 1000, q_bpr: 2, norm_all: False, preproc: standart, coef_bpr: 1\n"
     ]
    },
    {
     "name": "stderr",
     "output_type": "stream",
     "text": [
      "c:\\python38\\lib\\site-packages\\sklearn\\preprocessing\\_data.py:239: UserWarning: Numerical issues were encountered when centering the data and might not be solved. Dataset may contain too large values. You may need to prescale your features.\n",
      "  warnings.warn(\n",
      "c:\\python38\\lib\\site-packages\\sklearn\\preprocessing\\_data.py:258: UserWarning: Numerical issues were encountered when scaling the data and might not be solved. The standard deviation of the data is probably very close to 0. \n",
      "  warnings.warn(\n",
      "c:\\python38\\lib\\site-packages\\sklearn\\preprocessing\\_data.py:239: UserWarning: Numerical issues were encountered when centering the data and might not be solved. Dataset may contain too large values. You may need to prescale your features.\n",
      "  warnings.warn(\n",
      "c:\\python38\\lib\\site-packages\\sklearn\\preprocessing\\_data.py:258: UserWarning: Numerical issues were encountered when scaling the data and might not be solved. The standard deviation of the data is probably very close to 0. \n",
      "  warnings.warn(\n",
      "100%|███████████████████████████████████████████████████████████████████████████| 25000/25000 [01:14<00:00, 333.91it/s]\n"
     ]
    },
    {
     "name": "stdout",
     "output_type": "stream",
     "text": [
      "MRR@100 = 0.0318\n",
      "N: 1000, q_bpr: 2, norm_all: False, preproc: standart, coef_bpr: 2\n"
     ]
    },
    {
     "name": "stderr",
     "output_type": "stream",
     "text": [
      "c:\\python38\\lib\\site-packages\\sklearn\\preprocessing\\_data.py:239: UserWarning: Numerical issues were encountered when centering the data and might not be solved. Dataset may contain too large values. You may need to prescale your features.\n",
      "  warnings.warn(\n",
      "c:\\python38\\lib\\site-packages\\sklearn\\preprocessing\\_data.py:258: UserWarning: Numerical issues were encountered when scaling the data and might not be solved. The standard deviation of the data is probably very close to 0. \n",
      "  warnings.warn(\n",
      "c:\\python38\\lib\\site-packages\\sklearn\\preprocessing\\_data.py:239: UserWarning: Numerical issues were encountered when centering the data and might not be solved. Dataset may contain too large values. You may need to prescale your features.\n",
      "  warnings.warn(\n",
      "c:\\python38\\lib\\site-packages\\sklearn\\preprocessing\\_data.py:258: UserWarning: Numerical issues were encountered when scaling the data and might not be solved. The standard deviation of the data is probably very close to 0. \n",
      "  warnings.warn(\n",
      "100%|███████████████████████████████████████████████████████████████████████████| 25000/25000 [01:16<00:00, 328.37it/s]\n"
     ]
    },
    {
     "name": "stdout",
     "output_type": "stream",
     "text": [
      "MRR@100 = 0.0305\n",
      "\n",
      "\n",
      "--- 68.5053288936615 seconds model_als ---\n",
      "\n",
      "--- 133.05965495109558 seconds model_bpr ---\n",
      "N: 1500, q_bpr: 0.01, norm_all: True, preproc: minmax, coef_bpr: 0.1\n"
     ]
    },
    {
     "name": "stderr",
     "output_type": "stream",
     "text": [
      "100%|███████████████████████████████████████████████████████████████████████████| 25000/25000 [01:03<00:00, 392.82it/s]\n"
     ]
    },
    {
     "name": "stdout",
     "output_type": "stream",
     "text": [
      "MRR@100 = 0.0157\n",
      "N: 1500, q_bpr: 0.01, norm_all: True, preproc: minmax, coef_bpr: 0.5\n"
     ]
    },
    {
     "name": "stderr",
     "output_type": "stream",
     "text": [
      "100%|███████████████████████████████████████████████████████████████████████████| 25000/25000 [01:03<00:00, 392.11it/s]\n"
     ]
    },
    {
     "name": "stdout",
     "output_type": "stream",
     "text": [
      "MRR@100 = 0.0260\n",
      "N: 1500, q_bpr: 0.01, norm_all: True, preproc: minmax, coef_bpr: 1\n"
     ]
    },
    {
     "name": "stderr",
     "output_type": "stream",
     "text": [
      "100%|███████████████████████████████████████████████████████████████████████████| 25000/25000 [01:01<00:00, 408.75it/s]\n"
     ]
    },
    {
     "name": "stdout",
     "output_type": "stream",
     "text": [
      "MRR@100 = 0.0330\n",
      "N: 1500, q_bpr: 0.01, norm_all: True, preproc: minmax, coef_bpr: 2\n"
     ]
    },
    {
     "name": "stderr",
     "output_type": "stream",
     "text": [
      "100%|███████████████████████████████████████████████████████████████████████████| 25000/25000 [00:59<00:00, 419.33it/s]\n"
     ]
    },
    {
     "name": "stdout",
     "output_type": "stream",
     "text": [
      "MRR@100 = 0.0328\n",
      "N: 1500, q_bpr: 0.01, norm_all: True, preproc: standart, coef_bpr: 0.1\n"
     ]
    },
    {
     "name": "stderr",
     "output_type": "stream",
     "text": [
      "c:\\python38\\lib\\site-packages\\sklearn\\preprocessing\\_data.py:239: UserWarning: Numerical issues were encountered when centering the data and might not be solved. Dataset may contain too large values. You may need to prescale your features.\n",
      "  warnings.warn(\n",
      "c:\\python38\\lib\\site-packages\\sklearn\\preprocessing\\_data.py:239: UserWarning: Numerical issues were encountered when centering the data and might not be solved. Dataset may contain too large values. You may need to prescale your features.\n",
      "  warnings.warn(\n",
      "100%|███████████████████████████████████████████████████████████████████████████| 25000/25000 [00:59<00:00, 418.49it/s]\n"
     ]
    },
    {
     "name": "stdout",
     "output_type": "stream",
     "text": [
      "MRR@100 = 0.0196\n",
      "N: 1500, q_bpr: 0.01, norm_all: True, preproc: standart, coef_bpr: 0.5\n"
     ]
    },
    {
     "name": "stderr",
     "output_type": "stream",
     "text": [
      "c:\\python38\\lib\\site-packages\\sklearn\\preprocessing\\_data.py:239: UserWarning: Numerical issues were encountered when centering the data and might not be solved. Dataset may contain too large values. You may need to prescale your features.\n",
      "  warnings.warn(\n",
      "c:\\python38\\lib\\site-packages\\sklearn\\preprocessing\\_data.py:239: UserWarning: Numerical issues were encountered when centering the data and might not be solved. Dataset may contain too large values. You may need to prescale your features.\n",
      "  warnings.warn(\n",
      "100%|███████████████████████████████████████████████████████████████████████████| 25000/25000 [00:59<00:00, 419.46it/s]\n"
     ]
    },
    {
     "name": "stdout",
     "output_type": "stream",
     "text": [
      "MRR@100 = 0.0211\n",
      "N: 1500, q_bpr: 0.01, norm_all: True, preproc: standart, coef_bpr: 1\n"
     ]
    },
    {
     "name": "stderr",
     "output_type": "stream",
     "text": [
      "c:\\python38\\lib\\site-packages\\sklearn\\preprocessing\\_data.py:239: UserWarning: Numerical issues were encountered when centering the data and might not be solved. Dataset may contain too large values. You may need to prescale your features.\n",
      "  warnings.warn(\n",
      "c:\\python38\\lib\\site-packages\\sklearn\\preprocessing\\_data.py:239: UserWarning: Numerical issues were encountered when centering the data and might not be solved. Dataset may contain too large values. You may need to prescale your features.\n",
      "  warnings.warn(\n",
      "100%|███████████████████████████████████████████████████████████████████████████| 25000/25000 [00:59<00:00, 416.74it/s]\n"
     ]
    },
    {
     "name": "stdout",
     "output_type": "stream",
     "text": [
      "MRR@100 = 0.0231\n",
      "N: 1500, q_bpr: 0.01, norm_all: True, preproc: standart, coef_bpr: 2\n"
     ]
    },
    {
     "name": "stderr",
     "output_type": "stream",
     "text": [
      "c:\\python38\\lib\\site-packages\\sklearn\\preprocessing\\_data.py:239: UserWarning: Numerical issues were encountered when centering the data and might not be solved. Dataset may contain too large values. You may need to prescale your features.\n",
      "  warnings.warn(\n",
      "c:\\python38\\lib\\site-packages\\sklearn\\preprocessing\\_data.py:239: UserWarning: Numerical issues were encountered when centering the data and might not be solved. Dataset may contain too large values. You may need to prescale your features.\n",
      "  warnings.warn(\n",
      "100%|███████████████████████████████████████████████████████████████████████████| 25000/25000 [00:59<00:00, 423.05it/s]\n"
     ]
    },
    {
     "name": "stdout",
     "output_type": "stream",
     "text": [
      "MRR@100 = 0.0255\n",
      "N: 1500, q_bpr: 0.01, norm_all: False, preproc: minmax, coef_bpr: 0.1\n"
     ]
    },
    {
     "name": "stderr",
     "output_type": "stream",
     "text": [
      "100%|███████████████████████████████████████████████████████████████████████████| 25000/25000 [00:58<00:00, 424.25it/s]\n"
     ]
    },
    {
     "name": "stdout",
     "output_type": "stream",
     "text": [
      "MRR@100 = 0.0155\n",
      "N: 1500, q_bpr: 0.01, norm_all: False, preproc: minmax, coef_bpr: 0.5\n"
     ]
    },
    {
     "name": "stderr",
     "output_type": "stream",
     "text": [
      "100%|███████████████████████████████████████████████████████████████████████████| 25000/25000 [00:59<00:00, 419.31it/s]\n"
     ]
    },
    {
     "name": "stdout",
     "output_type": "stream",
     "text": [
      "MRR@100 = 0.0185\n",
      "N: 1500, q_bpr: 0.01, norm_all: False, preproc: minmax, coef_bpr: 1\n"
     ]
    },
    {
     "name": "stderr",
     "output_type": "stream",
     "text": [
      "100%|███████████████████████████████████████████████████████████████████████████| 25000/25000 [01:00<00:00, 416.25it/s]\n"
     ]
    },
    {
     "name": "stdout",
     "output_type": "stream",
     "text": [
      "MRR@100 = 0.0256\n",
      "N: 1500, q_bpr: 0.01, norm_all: False, preproc: minmax, coef_bpr: 2\n"
     ]
    },
    {
     "name": "stderr",
     "output_type": "stream",
     "text": [
      "100%|███████████████████████████████████████████████████████████████████████████| 25000/25000 [00:59<00:00, 423.66it/s]\n"
     ]
    },
    {
     "name": "stdout",
     "output_type": "stream",
     "text": [
      "MRR@100 = 0.0337\n",
      "N: 1500, q_bpr: 0.01, norm_all: False, preproc: standart, coef_bpr: 0.1\n"
     ]
    },
    {
     "name": "stderr",
     "output_type": "stream",
     "text": [
      "c:\\python38\\lib\\site-packages\\sklearn\\preprocessing\\_data.py:239: UserWarning: Numerical issues were encountered when centering the data and might not be solved. Dataset may contain too large values. You may need to prescale your features.\n",
      "  warnings.warn(\n",
      "c:\\python38\\lib\\site-packages\\sklearn\\preprocessing\\_data.py:258: UserWarning: Numerical issues were encountered when scaling the data and might not be solved. The standard deviation of the data is probably very close to 0. \n",
      "  warnings.warn(\n",
      "c:\\python38\\lib\\site-packages\\sklearn\\preprocessing\\_data.py:239: UserWarning: Numerical issues were encountered when centering the data and might not be solved. Dataset may contain too large values. You may need to prescale your features.\n",
      "  warnings.warn(\n",
      "c:\\python38\\lib\\site-packages\\sklearn\\preprocessing\\_data.py:258: UserWarning: Numerical issues were encountered when scaling the data and might not be solved. The standard deviation of the data is probably very close to 0. \n",
      "  warnings.warn(\n",
      "100%|███████████████████████████████████████████████████████████████████████████| 25000/25000 [00:59<00:00, 418.72it/s]\n"
     ]
    },
    {
     "name": "stdout",
     "output_type": "stream",
     "text": [
      "MRR@100 = 0.0158\n",
      "N: 1500, q_bpr: 0.01, norm_all: False, preproc: standart, coef_bpr: 0.5\n"
     ]
    },
    {
     "name": "stderr",
     "output_type": "stream",
     "text": [
      "c:\\python38\\lib\\site-packages\\sklearn\\preprocessing\\_data.py:239: UserWarning: Numerical issues were encountered when centering the data and might not be solved. Dataset may contain too large values. You may need to prescale your features.\n",
      "  warnings.warn(\n",
      "c:\\python38\\lib\\site-packages\\sklearn\\preprocessing\\_data.py:258: UserWarning: Numerical issues were encountered when scaling the data and might not be solved. The standard deviation of the data is probably very close to 0. \n",
      "  warnings.warn(\n",
      "c:\\python38\\lib\\site-packages\\sklearn\\preprocessing\\_data.py:239: UserWarning: Numerical issues were encountered when centering the data and might not be solved. Dataset may contain too large values. You may need to prescale your features.\n",
      "  warnings.warn(\n",
      "c:\\python38\\lib\\site-packages\\sklearn\\preprocessing\\_data.py:258: UserWarning: Numerical issues were encountered when scaling the data and might not be solved. The standard deviation of the data is probably very close to 0. \n",
      "  warnings.warn(\n",
      "100%|███████████████████████████████████████████████████████████████████████████| 25000/25000 [00:58<00:00, 424.19it/s]\n"
     ]
    },
    {
     "name": "stdout",
     "output_type": "stream",
     "text": [
      "MRR@100 = 0.0164\n",
      "N: 1500, q_bpr: 0.01, norm_all: False, preproc: standart, coef_bpr: 1\n"
     ]
    },
    {
     "name": "stderr",
     "output_type": "stream",
     "text": [
      "c:\\python38\\lib\\site-packages\\sklearn\\preprocessing\\_data.py:239: UserWarning: Numerical issues were encountered when centering the data and might not be solved. Dataset may contain too large values. You may need to prescale your features.\n",
      "  warnings.warn(\n",
      "c:\\python38\\lib\\site-packages\\sklearn\\preprocessing\\_data.py:258: UserWarning: Numerical issues were encountered when scaling the data and might not be solved. The standard deviation of the data is probably very close to 0. \n",
      "  warnings.warn(\n",
      "c:\\python38\\lib\\site-packages\\sklearn\\preprocessing\\_data.py:239: UserWarning: Numerical issues were encountered when centering the data and might not be solved. Dataset may contain too large values. You may need to prescale your features.\n",
      "  warnings.warn(\n",
      "c:\\python38\\lib\\site-packages\\sklearn\\preprocessing\\_data.py:258: UserWarning: Numerical issues were encountered when scaling the data and might not be solved. The standard deviation of the data is probably very close to 0. \n",
      "  warnings.warn(\n",
      "100%|███████████████████████████████████████████████████████████████████████████| 25000/25000 [00:58<00:00, 424.87it/s]\n"
     ]
    },
    {
     "name": "stdout",
     "output_type": "stream",
     "text": [
      "MRR@100 = 0.0178\n",
      "N: 1500, q_bpr: 0.01, norm_all: False, preproc: standart, coef_bpr: 2\n"
     ]
    },
    {
     "name": "stderr",
     "output_type": "stream",
     "text": [
      "c:\\python38\\lib\\site-packages\\sklearn\\preprocessing\\_data.py:239: UserWarning: Numerical issues were encountered when centering the data and might not be solved. Dataset may contain too large values. You may need to prescale your features.\n",
      "  warnings.warn(\n",
      "c:\\python38\\lib\\site-packages\\sklearn\\preprocessing\\_data.py:258: UserWarning: Numerical issues were encountered when scaling the data and might not be solved. The standard deviation of the data is probably very close to 0. \n",
      "  warnings.warn(\n",
      "c:\\python38\\lib\\site-packages\\sklearn\\preprocessing\\_data.py:239: UserWarning: Numerical issues were encountered when centering the data and might not be solved. Dataset may contain too large values. You may need to prescale your features.\n",
      "  warnings.warn(\n",
      "c:\\python38\\lib\\site-packages\\sklearn\\preprocessing\\_data.py:258: UserWarning: Numerical issues were encountered when scaling the data and might not be solved. The standard deviation of the data is probably very close to 0. \n",
      "  warnings.warn(\n",
      "100%|███████████████████████████████████████████████████████████████████████████| 25000/25000 [00:58<00:00, 424.69it/s]\n"
     ]
    },
    {
     "name": "stdout",
     "output_type": "stream",
     "text": [
      "MRR@100 = 0.0223\n",
      "\n",
      "\n",
      "--- 63.961663007736206 seconds model_als ---\n",
      "\n",
      "--- 138.35839700698853 seconds model_bpr ---\n",
      "N: 1500, q_bpr: 0.015, norm_all: True, preproc: minmax, coef_bpr: 0.1\n"
     ]
    },
    {
     "name": "stderr",
     "output_type": "stream",
     "text": [
      "100%|███████████████████████████████████████████████████████████████████████████| 25000/25000 [00:59<00:00, 417.37it/s]\n"
     ]
    },
    {
     "name": "stdout",
     "output_type": "stream",
     "text": [
      "MRR@100 = 0.0153\n",
      "N: 1500, q_bpr: 0.015, norm_all: True, preproc: minmax, coef_bpr: 0.5\n"
     ]
    },
    {
     "name": "stderr",
     "output_type": "stream",
     "text": [
      "100%|███████████████████████████████████████████████████████████████████████████| 25000/25000 [01:01<00:00, 405.51it/s]\n"
     ]
    },
    {
     "name": "stdout",
     "output_type": "stream",
     "text": [
      "MRR@100 = 0.0261\n",
      "N: 1500, q_bpr: 0.015, norm_all: True, preproc: minmax, coef_bpr: 1\n"
     ]
    },
    {
     "name": "stderr",
     "output_type": "stream",
     "text": [
      "100%|███████████████████████████████████████████████████████████████████████████| 25000/25000 [00:59<00:00, 421.37it/s]\n"
     ]
    },
    {
     "name": "stdout",
     "output_type": "stream",
     "text": [
      "MRR@100 = 0.0328\n",
      "N: 1500, q_bpr: 0.015, norm_all: True, preproc: minmax, coef_bpr: 2\n"
     ]
    },
    {
     "name": "stderr",
     "output_type": "stream",
     "text": [
      "100%|███████████████████████████████████████████████████████████████████████████| 25000/25000 [01:00<00:00, 412.75it/s]\n"
     ]
    },
    {
     "name": "stdout",
     "output_type": "stream",
     "text": [
      "MRR@100 = 0.0322\n",
      "N: 1500, q_bpr: 0.015, norm_all: True, preproc: standart, coef_bpr: 0.1\n"
     ]
    },
    {
     "name": "stderr",
     "output_type": "stream",
     "text": [
      "c:\\python38\\lib\\site-packages\\sklearn\\preprocessing\\_data.py:239: UserWarning: Numerical issues were encountered when centering the data and might not be solved. Dataset may contain too large values. You may need to prescale your features.\n",
      "  warnings.warn(\n",
      "c:\\python38\\lib\\site-packages\\sklearn\\preprocessing\\_data.py:239: UserWarning: Numerical issues were encountered when centering the data and might not be solved. Dataset may contain too large values. You may need to prescale your features.\n",
      "  warnings.warn(\n",
      "100%|███████████████████████████████████████████████████████████████████████████| 25000/25000 [00:59<00:00, 417.17it/s]\n"
     ]
    },
    {
     "name": "stdout",
     "output_type": "stream",
     "text": [
      "MRR@100 = 0.0195\n",
      "N: 1500, q_bpr: 0.015, norm_all: True, preproc: standart, coef_bpr: 0.5\n"
     ]
    },
    {
     "name": "stderr",
     "output_type": "stream",
     "text": [
      "c:\\python38\\lib\\site-packages\\sklearn\\preprocessing\\_data.py:239: UserWarning: Numerical issues were encountered when centering the data and might not be solved. Dataset may contain too large values. You may need to prescale your features.\n",
      "  warnings.warn(\n",
      "c:\\python38\\lib\\site-packages\\sklearn\\preprocessing\\_data.py:239: UserWarning: Numerical issues were encountered when centering the data and might not be solved. Dataset may contain too large values. You may need to prescale your features.\n",
      "  warnings.warn(\n",
      "100%|███████████████████████████████████████████████████████████████████████████| 25000/25000 [01:00<00:00, 415.20it/s]\n"
     ]
    },
    {
     "name": "stdout",
     "output_type": "stream",
     "text": [
      "MRR@100 = 0.0214\n",
      "N: 1500, q_bpr: 0.015, norm_all: True, preproc: standart, coef_bpr: 1\n"
     ]
    },
    {
     "name": "stderr",
     "output_type": "stream",
     "text": [
      "c:\\python38\\lib\\site-packages\\sklearn\\preprocessing\\_data.py:239: UserWarning: Numerical issues were encountered when centering the data and might not be solved. Dataset may contain too large values. You may need to prescale your features.\n",
      "  warnings.warn(\n",
      "c:\\python38\\lib\\site-packages\\sklearn\\preprocessing\\_data.py:239: UserWarning: Numerical issues were encountered when centering the data and might not be solved. Dataset may contain too large values. You may need to prescale your features.\n",
      "  warnings.warn(\n",
      "100%|███████████████████████████████████████████████████████████████████████████| 25000/25000 [01:00<00:00, 410.54it/s]\n"
     ]
    },
    {
     "name": "stdout",
     "output_type": "stream",
     "text": [
      "MRR@100 = 0.0237\n",
      "N: 1500, q_bpr: 0.015, norm_all: True, preproc: standart, coef_bpr: 2\n"
     ]
    },
    {
     "name": "stderr",
     "output_type": "stream",
     "text": [
      "c:\\python38\\lib\\site-packages\\sklearn\\preprocessing\\_data.py:239: UserWarning: Numerical issues were encountered when centering the data and might not be solved. Dataset may contain too large values. You may need to prescale your features.\n",
      "  warnings.warn(\n",
      "c:\\python38\\lib\\site-packages\\sklearn\\preprocessing\\_data.py:239: UserWarning: Numerical issues were encountered when centering the data and might not be solved. Dataset may contain too large values. You may need to prescale your features.\n",
      "  warnings.warn(\n",
      "100%|███████████████████████████████████████████████████████████████████████████| 25000/25000 [00:59<00:00, 418.38it/s]\n"
     ]
    },
    {
     "name": "stdout",
     "output_type": "stream",
     "text": [
      "MRR@100 = 0.0267\n",
      "N: 1500, q_bpr: 0.015, norm_all: False, preproc: minmax, coef_bpr: 0.1\n"
     ]
    },
    {
     "name": "stderr",
     "output_type": "stream",
     "text": [
      "100%|███████████████████████████████████████████████████████████████████████████| 25000/25000 [00:59<00:00, 421.90it/s]\n"
     ]
    },
    {
     "name": "stdout",
     "output_type": "stream",
     "text": [
      "MRR@100 = 0.0151\n",
      "N: 1500, q_bpr: 0.015, norm_all: False, preproc: minmax, coef_bpr: 0.5\n"
     ]
    },
    {
     "name": "stderr",
     "output_type": "stream",
     "text": [
      "100%|███████████████████████████████████████████████████████████████████████████| 25000/25000 [01:00<00:00, 415.17it/s]\n"
     ]
    },
    {
     "name": "stdout",
     "output_type": "stream",
     "text": [
      "MRR@100 = 0.0185\n",
      "N: 1500, q_bpr: 0.015, norm_all: False, preproc: minmax, coef_bpr: 1\n"
     ]
    },
    {
     "name": "stderr",
     "output_type": "stream",
     "text": [
      "100%|███████████████████████████████████████████████████████████████████████████| 25000/25000 [00:59<00:00, 421.98it/s]\n"
     ]
    },
    {
     "name": "stdout",
     "output_type": "stream",
     "text": [
      "MRR@100 = 0.0261\n",
      "N: 1500, q_bpr: 0.015, norm_all: False, preproc: minmax, coef_bpr: 2\n"
     ]
    },
    {
     "name": "stderr",
     "output_type": "stream",
     "text": [
      "100%|███████████████████████████████████████████████████████████████████████████| 25000/25000 [01:00<00:00, 413.85it/s]\n"
     ]
    },
    {
     "name": "stdout",
     "output_type": "stream",
     "text": [
      "MRR@100 = 0.0340\n",
      "N: 1500, q_bpr: 0.015, norm_all: False, preproc: standart, coef_bpr: 0.1\n"
     ]
    },
    {
     "name": "stderr",
     "output_type": "stream",
     "text": [
      "c:\\python38\\lib\\site-packages\\sklearn\\preprocessing\\_data.py:239: UserWarning: Numerical issues were encountered when centering the data and might not be solved. Dataset may contain too large values. You may need to prescale your features.\n",
      "  warnings.warn(\n",
      "c:\\python38\\lib\\site-packages\\sklearn\\preprocessing\\_data.py:258: UserWarning: Numerical issues were encountered when scaling the data and might not be solved. The standard deviation of the data is probably very close to 0. \n",
      "  warnings.warn(\n",
      "c:\\python38\\lib\\site-packages\\sklearn\\preprocessing\\_data.py:239: UserWarning: Numerical issues were encountered when centering the data and might not be solved. Dataset may contain too large values. You may need to prescale your features.\n",
      "  warnings.warn(\n",
      "c:\\python38\\lib\\site-packages\\sklearn\\preprocessing\\_data.py:258: UserWarning: Numerical issues were encountered when scaling the data and might not be solved. The standard deviation of the data is probably very close to 0. \n",
      "  warnings.warn(\n",
      "100%|███████████████████████████████████████████████████████████████████████████| 25000/25000 [01:00<00:00, 413.49it/s]\n"
     ]
    },
    {
     "name": "stdout",
     "output_type": "stream",
     "text": [
      "MRR@100 = 0.0154\n",
      "N: 1500, q_bpr: 0.015, norm_all: False, preproc: standart, coef_bpr: 0.5\n"
     ]
    },
    {
     "name": "stderr",
     "output_type": "stream",
     "text": [
      "c:\\python38\\lib\\site-packages\\sklearn\\preprocessing\\_data.py:239: UserWarning: Numerical issues were encountered when centering the data and might not be solved. Dataset may contain too large values. You may need to prescale your features.\n",
      "  warnings.warn(\n",
      "c:\\python38\\lib\\site-packages\\sklearn\\preprocessing\\_data.py:258: UserWarning: Numerical issues were encountered when scaling the data and might not be solved. The standard deviation of the data is probably very close to 0. \n",
      "  warnings.warn(\n",
      "c:\\python38\\lib\\site-packages\\sklearn\\preprocessing\\_data.py:239: UserWarning: Numerical issues were encountered when centering the data and might not be solved. Dataset may contain too large values. You may need to prescale your features.\n",
      "  warnings.warn(\n",
      "c:\\python38\\lib\\site-packages\\sklearn\\preprocessing\\_data.py:258: UserWarning: Numerical issues were encountered when scaling the data and might not be solved. The standard deviation of the data is probably very close to 0. \n",
      "  warnings.warn(\n",
      "100%|███████████████████████████████████████████████████████████████████████████| 25000/25000 [01:00<00:00, 410.66it/s]\n"
     ]
    },
    {
     "name": "stdout",
     "output_type": "stream",
     "text": [
      "MRR@100 = 0.0163\n",
      "N: 1500, q_bpr: 0.015, norm_all: False, preproc: standart, coef_bpr: 1\n"
     ]
    },
    {
     "name": "stderr",
     "output_type": "stream",
     "text": [
      "c:\\python38\\lib\\site-packages\\sklearn\\preprocessing\\_data.py:239: UserWarning: Numerical issues were encountered when centering the data and might not be solved. Dataset may contain too large values. You may need to prescale your features.\n",
      "  warnings.warn(\n",
      "c:\\python38\\lib\\site-packages\\sklearn\\preprocessing\\_data.py:258: UserWarning: Numerical issues were encountered when scaling the data and might not be solved. The standard deviation of the data is probably very close to 0. \n",
      "  warnings.warn(\n",
      "c:\\python38\\lib\\site-packages\\sklearn\\preprocessing\\_data.py:239: UserWarning: Numerical issues were encountered when centering the data and might not be solved. Dataset may contain too large values. You may need to prescale your features.\n",
      "  warnings.warn(\n",
      "c:\\python38\\lib\\site-packages\\sklearn\\preprocessing\\_data.py:258: UserWarning: Numerical issues were encountered when scaling the data and might not be solved. The standard deviation of the data is probably very close to 0. \n",
      "  warnings.warn(\n",
      "100%|███████████████████████████████████████████████████████████████████████████| 25000/25000 [01:00<00:00, 410.97it/s]\n"
     ]
    },
    {
     "name": "stdout",
     "output_type": "stream",
     "text": [
      "MRR@100 = 0.0183\n",
      "N: 1500, q_bpr: 0.015, norm_all: False, preproc: standart, coef_bpr: 2\n"
     ]
    },
    {
     "name": "stderr",
     "output_type": "stream",
     "text": [
      "c:\\python38\\lib\\site-packages\\sklearn\\preprocessing\\_data.py:239: UserWarning: Numerical issues were encountered when centering the data and might not be solved. Dataset may contain too large values. You may need to prescale your features.\n",
      "  warnings.warn(\n",
      "c:\\python38\\lib\\site-packages\\sklearn\\preprocessing\\_data.py:258: UserWarning: Numerical issues were encountered when scaling the data and might not be solved. The standard deviation of the data is probably very close to 0. \n",
      "  warnings.warn(\n",
      "c:\\python38\\lib\\site-packages\\sklearn\\preprocessing\\_data.py:239: UserWarning: Numerical issues were encountered when centering the data and might not be solved. Dataset may contain too large values. You may need to prescale your features.\n",
      "  warnings.warn(\n",
      "c:\\python38\\lib\\site-packages\\sklearn\\preprocessing\\_data.py:258: UserWarning: Numerical issues were encountered when scaling the data and might not be solved. The standard deviation of the data is probably very close to 0. \n",
      "  warnings.warn(\n",
      "100%|███████████████████████████████████████████████████████████████████████████| 25000/25000 [01:01<00:00, 404.36it/s]\n"
     ]
    },
    {
     "name": "stdout",
     "output_type": "stream",
     "text": [
      "MRR@100 = 0.0242\n",
      "\n",
      "\n",
      "--- 64.21413612365723 seconds model_als ---\n",
      "\n",
      "--- 135.07980275154114 seconds model_bpr ---\n",
      "N: 1500, q_bpr: 0.1, norm_all: True, preproc: minmax, coef_bpr: 0.1\n"
     ]
    },
    {
     "name": "stderr",
     "output_type": "stream",
     "text": [
      "100%|███████████████████████████████████████████████████████████████████████████| 25000/25000 [01:05<00:00, 379.68it/s]\n"
     ]
    },
    {
     "name": "stdout",
     "output_type": "stream",
     "text": [
      "MRR@100 = 0.0137\n",
      "N: 1500, q_bpr: 0.1, norm_all: True, preproc: minmax, coef_bpr: 0.5\n"
     ]
    },
    {
     "name": "stderr",
     "output_type": "stream",
     "text": [
      "100%|███████████████████████████████████████████████████████████████████████████| 25000/25000 [01:06<00:00, 376.17it/s]\n"
     ]
    },
    {
     "name": "stdout",
     "output_type": "stream",
     "text": [
      "MRR@100 = 0.0277\n",
      "N: 1500, q_bpr: 0.1, norm_all: True, preproc: minmax, coef_bpr: 1\n"
     ]
    },
    {
     "name": "stderr",
     "output_type": "stream",
     "text": [
      "100%|███████████████████████████████████████████████████████████████████████████| 25000/25000 [01:05<00:00, 383.99it/s]\n"
     ]
    },
    {
     "name": "stdout",
     "output_type": "stream",
     "text": [
      "MRR@100 = 0.0306\n",
      "N: 1500, q_bpr: 0.1, norm_all: True, preproc: minmax, coef_bpr: 2\n"
     ]
    },
    {
     "name": "stderr",
     "output_type": "stream",
     "text": [
      "100%|███████████████████████████████████████████████████████████████████████████| 25000/25000 [01:06<00:00, 378.01it/s]\n"
     ]
    },
    {
     "name": "stdout",
     "output_type": "stream",
     "text": [
      "MRR@100 = 0.0256\n",
      "N: 1500, q_bpr: 0.1, norm_all: True, preproc: standart, coef_bpr: 0.1\n"
     ]
    },
    {
     "name": "stderr",
     "output_type": "stream",
     "text": [
      "c:\\python38\\lib\\site-packages\\sklearn\\preprocessing\\_data.py:239: UserWarning: Numerical issues were encountered when centering the data and might not be solved. Dataset may contain too large values. You may need to prescale your features.\n",
      "  warnings.warn(\n",
      "c:\\python38\\lib\\site-packages\\sklearn\\preprocessing\\_data.py:239: UserWarning: Numerical issues were encountered when centering the data and might not be solved. Dataset may contain too large values. You may need to prescale your features.\n",
      "  warnings.warn(\n",
      "100%|███████████████████████████████████████████████████████████████████████████| 25000/25000 [01:05<00:00, 383.62it/s]\n"
     ]
    },
    {
     "name": "stdout",
     "output_type": "stream",
     "text": [
      "MRR@100 = 0.0204\n",
      "N: 1500, q_bpr: 0.1, norm_all: True, preproc: standart, coef_bpr: 0.5\n"
     ]
    },
    {
     "name": "stderr",
     "output_type": "stream",
     "text": [
      "c:\\python38\\lib\\site-packages\\sklearn\\preprocessing\\_data.py:239: UserWarning: Numerical issues were encountered when centering the data and might not be solved. Dataset may contain too large values. You may need to prescale your features.\n",
      "  warnings.warn(\n",
      "c:\\python38\\lib\\site-packages\\sklearn\\preprocessing\\_data.py:239: UserWarning: Numerical issues were encountered when centering the data and might not be solved. Dataset may contain too large values. You may need to prescale your features.\n",
      "  warnings.warn(\n",
      "100%|███████████████████████████████████████████████████████████████████████████| 25000/25000 [01:05<00:00, 384.34it/s]\n"
     ]
    },
    {
     "name": "stdout",
     "output_type": "stream",
     "text": [
      "MRR@100 = 0.0249\n",
      "N: 1500, q_bpr: 0.1, norm_all: True, preproc: standart, coef_bpr: 1\n"
     ]
    },
    {
     "name": "stderr",
     "output_type": "stream",
     "text": [
      "c:\\python38\\lib\\site-packages\\sklearn\\preprocessing\\_data.py:239: UserWarning: Numerical issues were encountered when centering the data and might not be solved. Dataset may contain too large values. You may need to prescale your features.\n",
      "  warnings.warn(\n",
      "c:\\python38\\lib\\site-packages\\sklearn\\preprocessing\\_data.py:239: UserWarning: Numerical issues were encountered when centering the data and might not be solved. Dataset may contain too large values. You may need to prescale your features.\n",
      "  warnings.warn(\n",
      "100%|███████████████████████████████████████████████████████████████████████████| 25000/25000 [01:05<00:00, 380.40it/s]\n"
     ]
    },
    {
     "name": "stdout",
     "output_type": "stream",
     "text": [
      "MRR@100 = 0.0289\n",
      "N: 1500, q_bpr: 0.1, norm_all: True, preproc: standart, coef_bpr: 2\n"
     ]
    },
    {
     "name": "stderr",
     "output_type": "stream",
     "text": [
      "c:\\python38\\lib\\site-packages\\sklearn\\preprocessing\\_data.py:239: UserWarning: Numerical issues were encountered when centering the data and might not be solved. Dataset may contain too large values. You may need to prescale your features.\n",
      "  warnings.warn(\n",
      "c:\\python38\\lib\\site-packages\\sklearn\\preprocessing\\_data.py:239: UserWarning: Numerical issues were encountered when centering the data and might not be solved. Dataset may contain too large values. You may need to prescale your features.\n",
      "  warnings.warn(\n",
      "100%|███████████████████████████████████████████████████████████████████████████| 25000/25000 [01:06<00:00, 376.65it/s]\n"
     ]
    },
    {
     "name": "stdout",
     "output_type": "stream",
     "text": [
      "MRR@100 = 0.0320\n",
      "N: 1500, q_bpr: 0.1, norm_all: False, preproc: minmax, coef_bpr: 0.1\n"
     ]
    },
    {
     "name": "stderr",
     "output_type": "stream",
     "text": [
      "100%|███████████████████████████████████████████████████████████████████████████| 25000/25000 [01:05<00:00, 384.17it/s]\n"
     ]
    },
    {
     "name": "stdout",
     "output_type": "stream",
     "text": [
      "MRR@100 = 0.0138\n",
      "N: 1500, q_bpr: 0.1, norm_all: False, preproc: minmax, coef_bpr: 0.5\n"
     ]
    },
    {
     "name": "stderr",
     "output_type": "stream",
     "text": [
      "100%|███████████████████████████████████████████████████████████████████████████| 25000/25000 [01:05<00:00, 378.82it/s]\n"
     ]
    },
    {
     "name": "stdout",
     "output_type": "stream",
     "text": [
      "MRR@100 = 0.0201\n",
      "N: 1500, q_bpr: 0.1, norm_all: False, preproc: minmax, coef_bpr: 1\n"
     ]
    },
    {
     "name": "stderr",
     "output_type": "stream",
     "text": [
      "100%|███████████████████████████████████████████████████████████████████████████| 25000/25000 [01:06<00:00, 374.40it/s]\n"
     ]
    },
    {
     "name": "stdout",
     "output_type": "stream",
     "text": [
      "MRR@100 = 0.0283\n",
      "N: 1500, q_bpr: 0.1, norm_all: False, preproc: minmax, coef_bpr: 2\n"
     ]
    },
    {
     "name": "stderr",
     "output_type": "stream",
     "text": [
      "100%|███████████████████████████████████████████████████████████████████████████| 25000/25000 [01:04<00:00, 385.14it/s]\n"
     ]
    },
    {
     "name": "stdout",
     "output_type": "stream",
     "text": [
      "MRR@100 = 0.0339\n",
      "N: 1500, q_bpr: 0.1, norm_all: False, preproc: standart, coef_bpr: 0.1\n"
     ]
    },
    {
     "name": "stderr",
     "output_type": "stream",
     "text": [
      "c:\\python38\\lib\\site-packages\\sklearn\\preprocessing\\_data.py:239: UserWarning: Numerical issues were encountered when centering the data and might not be solved. Dataset may contain too large values. You may need to prescale your features.\n",
      "  warnings.warn(\n",
      "c:\\python38\\lib\\site-packages\\sklearn\\preprocessing\\_data.py:258: UserWarning: Numerical issues were encountered when scaling the data and might not be solved. The standard deviation of the data is probably very close to 0. \n",
      "  warnings.warn(\n",
      "c:\\python38\\lib\\site-packages\\sklearn\\preprocessing\\_data.py:239: UserWarning: Numerical issues were encountered when centering the data and might not be solved. Dataset may contain too large values. You may need to prescale your features.\n",
      "  warnings.warn(\n",
      "c:\\python38\\lib\\site-packages\\sklearn\\preprocessing\\_data.py:258: UserWarning: Numerical issues were encountered when scaling the data and might not be solved. The standard deviation of the data is probably very close to 0. \n",
      "  warnings.warn(\n",
      "100%|███████████████████████████████████████████████████████████████████████████| 25000/25000 [01:03<00:00, 392.19it/s]\n"
     ]
    },
    {
     "name": "stdout",
     "output_type": "stream",
     "text": [
      "MRR@100 = 0.0150\n",
      "N: 1500, q_bpr: 0.1, norm_all: False, preproc: standart, coef_bpr: 0.5\n"
     ]
    },
    {
     "name": "stderr",
     "output_type": "stream",
     "text": [
      "c:\\python38\\lib\\site-packages\\sklearn\\preprocessing\\_data.py:239: UserWarning: Numerical issues were encountered when centering the data and might not be solved. Dataset may contain too large values. You may need to prescale your features.\n",
      "  warnings.warn(\n",
      "c:\\python38\\lib\\site-packages\\sklearn\\preprocessing\\_data.py:258: UserWarning: Numerical issues were encountered when scaling the data and might not be solved. The standard deviation of the data is probably very close to 0. \n",
      "  warnings.warn(\n",
      "c:\\python38\\lib\\site-packages\\sklearn\\preprocessing\\_data.py:239: UserWarning: Numerical issues were encountered when centering the data and might not be solved. Dataset may contain too large values. You may need to prescale your features.\n",
      "  warnings.warn(\n",
      "c:\\python38\\lib\\site-packages\\sklearn\\preprocessing\\_data.py:258: UserWarning: Numerical issues were encountered when scaling the data and might not be solved. The standard deviation of the data is probably very close to 0. \n",
      "  warnings.warn(\n",
      "100%|███████████████████████████████████████████████████████████████████████████| 25000/25000 [01:05<00:00, 383.07it/s]\n"
     ]
    },
    {
     "name": "stdout",
     "output_type": "stream",
     "text": [
      "MRR@100 = 0.0186\n",
      "N: 1500, q_bpr: 0.1, norm_all: False, preproc: standart, coef_bpr: 1\n"
     ]
    },
    {
     "name": "stderr",
     "output_type": "stream",
     "text": [
      "c:\\python38\\lib\\site-packages\\sklearn\\preprocessing\\_data.py:239: UserWarning: Numerical issues were encountered when centering the data and might not be solved. Dataset may contain too large values. You may need to prescale your features.\n",
      "  warnings.warn(\n",
      "c:\\python38\\lib\\site-packages\\sklearn\\preprocessing\\_data.py:258: UserWarning: Numerical issues were encountered when scaling the data and might not be solved. The standard deviation of the data is probably very close to 0. \n",
      "  warnings.warn(\n",
      "c:\\python38\\lib\\site-packages\\sklearn\\preprocessing\\_data.py:239: UserWarning: Numerical issues were encountered when centering the data and might not be solved. Dataset may contain too large values. You may need to prescale your features.\n",
      "  warnings.warn(\n",
      "c:\\python38\\lib\\site-packages\\sklearn\\preprocessing\\_data.py:258: UserWarning: Numerical issues were encountered when scaling the data and might not be solved. The standard deviation of the data is probably very close to 0. \n",
      "  warnings.warn(\n",
      "100%|███████████████████████████████████████████████████████████████████████████| 25000/25000 [01:05<00:00, 378.94it/s]\n"
     ]
    },
    {
     "name": "stdout",
     "output_type": "stream",
     "text": [
      "MRR@100 = 0.0240\n",
      "N: 1500, q_bpr: 0.1, norm_all: False, preproc: standart, coef_bpr: 2\n"
     ]
    },
    {
     "name": "stderr",
     "output_type": "stream",
     "text": [
      "c:\\python38\\lib\\site-packages\\sklearn\\preprocessing\\_data.py:239: UserWarning: Numerical issues were encountered when centering the data and might not be solved. Dataset may contain too large values. You may need to prescale your features.\n",
      "  warnings.warn(\n",
      "c:\\python38\\lib\\site-packages\\sklearn\\preprocessing\\_data.py:258: UserWarning: Numerical issues were encountered when scaling the data and might not be solved. The standard deviation of the data is probably very close to 0. \n",
      "  warnings.warn(\n",
      "c:\\python38\\lib\\site-packages\\sklearn\\preprocessing\\_data.py:239: UserWarning: Numerical issues were encountered when centering the data and might not be solved. Dataset may contain too large values. You may need to prescale your features.\n",
      "  warnings.warn(\n",
      "c:\\python38\\lib\\site-packages\\sklearn\\preprocessing\\_data.py:258: UserWarning: Numerical issues were encountered when scaling the data and might not be solved. The standard deviation of the data is probably very close to 0. \n",
      "  warnings.warn(\n",
      "100%|███████████████████████████████████████████████████████████████████████████| 25000/25000 [01:07<00:00, 372.47it/s]\n"
     ]
    },
    {
     "name": "stdout",
     "output_type": "stream",
     "text": [
      "MRR@100 = 0.0318\n",
      "\n",
      "\n",
      "--- 82.31364321708679 seconds model_als ---\n",
      "\n",
      "--- 120.50448751449585 seconds model_bpr ---\n",
      "N: 1500, q_bpr: 0.5, norm_all: True, preproc: minmax, coef_bpr: 0.1\n"
     ]
    },
    {
     "name": "stderr",
     "output_type": "stream",
     "text": [
      "100%|███████████████████████████████████████████████████████████████████████████| 25000/25000 [01:09<00:00, 359.91it/s]\n"
     ]
    },
    {
     "name": "stdout",
     "output_type": "stream",
     "text": [
      "MRR@100 = 0.0163\n",
      "N: 1500, q_bpr: 0.5, norm_all: True, preproc: minmax, coef_bpr: 0.5\n"
     ]
    },
    {
     "name": "stderr",
     "output_type": "stream",
     "text": [
      "100%|███████████████████████████████████████████████████████████████████████████| 25000/25000 [01:08<00:00, 363.49it/s]\n"
     ]
    },
    {
     "name": "stdout",
     "output_type": "stream",
     "text": [
      "MRR@100 = 0.0290\n",
      "N: 1500, q_bpr: 0.5, norm_all: True, preproc: minmax, coef_bpr: 1\n"
     ]
    },
    {
     "name": "stderr",
     "output_type": "stream",
     "text": [
      "100%|███████████████████████████████████████████████████████████████████████████| 25000/25000 [01:09<00:00, 357.34it/s]\n"
     ]
    },
    {
     "name": "stdout",
     "output_type": "stream",
     "text": [
      "MRR@100 = 0.0265\n",
      "N: 1500, q_bpr: 0.5, norm_all: True, preproc: minmax, coef_bpr: 2\n"
     ]
    },
    {
     "name": "stderr",
     "output_type": "stream",
     "text": [
      "100%|███████████████████████████████████████████████████████████████████████████| 25000/25000 [01:08<00:00, 363.00it/s]\n"
     ]
    },
    {
     "name": "stdout",
     "output_type": "stream",
     "text": [
      "MRR@100 = 0.0182\n",
      "N: 1500, q_bpr: 0.5, norm_all: True, preproc: standart, coef_bpr: 0.1\n"
     ]
    },
    {
     "name": "stderr",
     "output_type": "stream",
     "text": [
      "c:\\python38\\lib\\site-packages\\sklearn\\preprocessing\\_data.py:239: UserWarning: Numerical issues were encountered when centering the data and might not be solved. Dataset may contain too large values. You may need to prescale your features.\n",
      "  warnings.warn(\n",
      "c:\\python38\\lib\\site-packages\\sklearn\\preprocessing\\_data.py:239: UserWarning: Numerical issues were encountered when centering the data and might not be solved. Dataset may contain too large values. You may need to prescale your features.\n",
      "  warnings.warn(\n",
      "100%|███████████████████████████████████████████████████████████████████████████| 25000/25000 [01:09<00:00, 360.38it/s]\n"
     ]
    },
    {
     "name": "stdout",
     "output_type": "stream",
     "text": [
      "MRR@100 = 0.0233\n",
      "N: 1500, q_bpr: 0.5, norm_all: True, preproc: standart, coef_bpr: 0.5\n"
     ]
    },
    {
     "name": "stderr",
     "output_type": "stream",
     "text": [
      "c:\\python38\\lib\\site-packages\\sklearn\\preprocessing\\_data.py:239: UserWarning: Numerical issues were encountered when centering the data and might not be solved. Dataset may contain too large values. You may need to prescale your features.\n",
      "  warnings.warn(\n",
      "c:\\python38\\lib\\site-packages\\sklearn\\preprocessing\\_data.py:239: UserWarning: Numerical issues were encountered when centering the data and might not be solved. Dataset may contain too large values. You may need to prescale your features.\n",
      "  warnings.warn(\n",
      "100%|███████████████████████████████████████████████████████████████████████████| 25000/25000 [01:09<00:00, 357.32it/s]\n"
     ]
    },
    {
     "name": "stdout",
     "output_type": "stream",
     "text": [
      "MRR@100 = 0.0284\n",
      "N: 1500, q_bpr: 0.5, norm_all: True, preproc: standart, coef_bpr: 1\n"
     ]
    },
    {
     "name": "stderr",
     "output_type": "stream",
     "text": [
      "c:\\python38\\lib\\site-packages\\sklearn\\preprocessing\\_data.py:239: UserWarning: Numerical issues were encountered when centering the data and might not be solved. Dataset may contain too large values. You may need to prescale your features.\n",
      "  warnings.warn(\n",
      "c:\\python38\\lib\\site-packages\\sklearn\\preprocessing\\_data.py:239: UserWarning: Numerical issues were encountered when centering the data and might not be solved. Dataset may contain too large values. You may need to prescale your features.\n",
      "  warnings.warn(\n",
      "100%|███████████████████████████████████████████████████████████████████████████| 25000/25000 [01:09<00:00, 357.57it/s]\n"
     ]
    },
    {
     "name": "stdout",
     "output_type": "stream",
     "text": [
      "MRR@100 = 0.0314\n",
      "N: 1500, q_bpr: 0.5, norm_all: True, preproc: standart, coef_bpr: 2\n"
     ]
    },
    {
     "name": "stderr",
     "output_type": "stream",
     "text": [
      "c:\\python38\\lib\\site-packages\\sklearn\\preprocessing\\_data.py:239: UserWarning: Numerical issues were encountered when centering the data and might not be solved. Dataset may contain too large values. You may need to prescale your features.\n",
      "  warnings.warn(\n",
      "c:\\python38\\lib\\site-packages\\sklearn\\preprocessing\\_data.py:239: UserWarning: Numerical issues were encountered when centering the data and might not be solved. Dataset may contain too large values. You may need to prescale your features.\n",
      "  warnings.warn(\n",
      "100%|███████████████████████████████████████████████████████████████████████████| 25000/25000 [01:19<00:00, 314.50it/s]\n"
     ]
    },
    {
     "name": "stdout",
     "output_type": "stream",
     "text": [
      "MRR@100 = 0.0325\n",
      "N: 1500, q_bpr: 0.5, norm_all: False, preproc: minmax, coef_bpr: 0.1\n"
     ]
    },
    {
     "name": "stderr",
     "output_type": "stream",
     "text": [
      "100%|███████████████████████████████████████████████████████████████████████████| 25000/25000 [01:23<00:00, 299.44it/s]\n"
     ]
    },
    {
     "name": "stdout",
     "output_type": "stream",
     "text": [
      "MRR@100 = 0.0168\n",
      "N: 1500, q_bpr: 0.5, norm_all: False, preproc: minmax, coef_bpr: 0.5\n"
     ]
    },
    {
     "name": "stderr",
     "output_type": "stream",
     "text": [
      "100%|███████████████████████████████████████████████████████████████████████████| 25000/25000 [01:20<00:00, 312.26it/s]\n"
     ]
    },
    {
     "name": "stdout",
     "output_type": "stream",
     "text": [
      "MRR@100 = 0.0236\n",
      "N: 1500, q_bpr: 0.5, norm_all: False, preproc: minmax, coef_bpr: 1\n"
     ]
    },
    {
     "name": "stderr",
     "output_type": "stream",
     "text": [
      "100%|███████████████████████████████████████████████████████████████████████████| 25000/25000 [01:24<00:00, 295.81it/s]\n"
     ]
    },
    {
     "name": "stdout",
     "output_type": "stream",
     "text": [
      "MRR@100 = 0.0302\n",
      "N: 1500, q_bpr: 0.5, norm_all: False, preproc: minmax, coef_bpr: 2\n"
     ]
    },
    {
     "name": "stderr",
     "output_type": "stream",
     "text": [
      "100%|███████████████████████████████████████████████████████████████████████████| 25000/25000 [01:20<00:00, 309.61it/s]\n"
     ]
    },
    {
     "name": "stdout",
     "output_type": "stream",
     "text": [
      "MRR@100 = 0.0322\n",
      "N: 1500, q_bpr: 0.5, norm_all: False, preproc: standart, coef_bpr: 0.1\n"
     ]
    },
    {
     "name": "stderr",
     "output_type": "stream",
     "text": [
      "c:\\python38\\lib\\site-packages\\sklearn\\preprocessing\\_data.py:239: UserWarning: Numerical issues were encountered when centering the data and might not be solved. Dataset may contain too large values. You may need to prescale your features.\n",
      "  warnings.warn(\n",
      "c:\\python38\\lib\\site-packages\\sklearn\\preprocessing\\_data.py:258: UserWarning: Numerical issues were encountered when scaling the data and might not be solved. The standard deviation of the data is probably very close to 0. \n",
      "  warnings.warn(\n",
      "c:\\python38\\lib\\site-packages\\sklearn\\preprocessing\\_data.py:239: UserWarning: Numerical issues were encountered when centering the data and might not be solved. Dataset may contain too large values. You may need to prescale your features.\n",
      "  warnings.warn(\n",
      "c:\\python38\\lib\\site-packages\\sklearn\\preprocessing\\_data.py:258: UserWarning: Numerical issues were encountered when scaling the data and might not be solved. The standard deviation of the data is probably very close to 0. \n",
      "  warnings.warn(\n",
      "100%|███████████████████████████████████████████████████████████████████████████| 25000/25000 [01:16<00:00, 327.62it/s]\n"
     ]
    },
    {
     "name": "stdout",
     "output_type": "stream",
     "text": [
      "MRR@100 = 0.0191\n",
      "N: 1500, q_bpr: 0.5, norm_all: False, preproc: standart, coef_bpr: 0.5\n"
     ]
    },
    {
     "name": "stderr",
     "output_type": "stream",
     "text": [
      "c:\\python38\\lib\\site-packages\\sklearn\\preprocessing\\_data.py:239: UserWarning: Numerical issues were encountered when centering the data and might not be solved. Dataset may contain too large values. You may need to prescale your features.\n",
      "  warnings.warn(\n",
      "c:\\python38\\lib\\site-packages\\sklearn\\preprocessing\\_data.py:258: UserWarning: Numerical issues were encountered when scaling the data and might not be solved. The standard deviation of the data is probably very close to 0. \n",
      "  warnings.warn(\n",
      "c:\\python38\\lib\\site-packages\\sklearn\\preprocessing\\_data.py:239: UserWarning: Numerical issues were encountered when centering the data and might not be solved. Dataset may contain too large values. You may need to prescale your features.\n",
      "  warnings.warn(\n",
      "c:\\python38\\lib\\site-packages\\sklearn\\preprocessing\\_data.py:258: UserWarning: Numerical issues were encountered when scaling the data and might not be solved. The standard deviation of the data is probably very close to 0. \n",
      "  warnings.warn(\n",
      "100%|███████████████████████████████████████████████████████████████████████████| 25000/25000 [01:16<00:00, 327.33it/s]\n"
     ]
    },
    {
     "name": "stdout",
     "output_type": "stream",
     "text": [
      "MRR@100 = 0.0242\n",
      "N: 1500, q_bpr: 0.5, norm_all: False, preproc: standart, coef_bpr: 1\n"
     ]
    },
    {
     "name": "stderr",
     "output_type": "stream",
     "text": [
      "c:\\python38\\lib\\site-packages\\sklearn\\preprocessing\\_data.py:239: UserWarning: Numerical issues were encountered when centering the data and might not be solved. Dataset may contain too large values. You may need to prescale your features.\n",
      "  warnings.warn(\n",
      "c:\\python38\\lib\\site-packages\\sklearn\\preprocessing\\_data.py:258: UserWarning: Numerical issues were encountered when scaling the data and might not be solved. The standard deviation of the data is probably very close to 0. \n",
      "  warnings.warn(\n",
      "c:\\python38\\lib\\site-packages\\sklearn\\preprocessing\\_data.py:239: UserWarning: Numerical issues were encountered when centering the data and might not be solved. Dataset may contain too large values. You may need to prescale your features.\n",
      "  warnings.warn(\n",
      "c:\\python38\\lib\\site-packages\\sklearn\\preprocessing\\_data.py:258: UserWarning: Numerical issues were encountered when scaling the data and might not be solved. The standard deviation of the data is probably very close to 0. \n",
      "  warnings.warn(\n",
      "100%|███████████████████████████████████████████████████████████████████████████| 25000/25000 [01:15<00:00, 332.49it/s]\n"
     ]
    },
    {
     "name": "stdout",
     "output_type": "stream",
     "text": [
      "MRR@100 = 0.0296\n",
      "N: 1500, q_bpr: 0.5, norm_all: False, preproc: standart, coef_bpr: 2\n"
     ]
    },
    {
     "name": "stderr",
     "output_type": "stream",
     "text": [
      "c:\\python38\\lib\\site-packages\\sklearn\\preprocessing\\_data.py:239: UserWarning: Numerical issues were encountered when centering the data and might not be solved. Dataset may contain too large values. You may need to prescale your features.\n",
      "  warnings.warn(\n",
      "c:\\python38\\lib\\site-packages\\sklearn\\preprocessing\\_data.py:258: UserWarning: Numerical issues were encountered when scaling the data and might not be solved. The standard deviation of the data is probably very close to 0. \n",
      "  warnings.warn(\n",
      "c:\\python38\\lib\\site-packages\\sklearn\\preprocessing\\_data.py:239: UserWarning: Numerical issues were encountered when centering the data and might not be solved. Dataset may contain too large values. You may need to prescale your features.\n",
      "  warnings.warn(\n",
      "c:\\python38\\lib\\site-packages\\sklearn\\preprocessing\\_data.py:258: UserWarning: Numerical issues were encountered when scaling the data and might not be solved. The standard deviation of the data is probably very close to 0. \n",
      "  warnings.warn(\n",
      "100%|███████████████████████████████████████████████████████████████████████████| 25000/25000 [01:14<00:00, 334.97it/s]\n"
     ]
    },
    {
     "name": "stdout",
     "output_type": "stream",
     "text": [
      "MRR@100 = 0.0334\n",
      "\n",
      "\n",
      "--- 73.1678774356842 seconds model_als ---\n",
      "\n",
      "--- 148.36276936531067 seconds model_bpr ---\n",
      "N: 1500, q_bpr: 1, norm_all: True, preproc: minmax, coef_bpr: 0.1\n"
     ]
    },
    {
     "name": "stderr",
     "output_type": "stream",
     "text": [
      "100%|███████████████████████████████████████████████████████████████████████████| 25000/25000 [01:18<00:00, 317.09it/s]\n"
     ]
    },
    {
     "name": "stdout",
     "output_type": "stream",
     "text": [
      "MRR@100 = 0.0188\n",
      "N: 1500, q_bpr: 1, norm_all: True, preproc: minmax, coef_bpr: 0.5\n"
     ]
    },
    {
     "name": "stderr",
     "output_type": "stream",
     "text": [
      "100%|███████████████████████████████████████████████████████████████████████████| 25000/25000 [01:21<00:00, 307.61it/s]\n"
     ]
    },
    {
     "name": "stdout",
     "output_type": "stream",
     "text": [
      "MRR@100 = 0.0293\n",
      "N: 1500, q_bpr: 1, norm_all: True, preproc: minmax, coef_bpr: 1\n"
     ]
    },
    {
     "name": "stderr",
     "output_type": "stream",
     "text": [
      "100%|███████████████████████████████████████████████████████████████████████████| 25000/25000 [01:18<00:00, 318.48it/s]\n"
     ]
    },
    {
     "name": "stdout",
     "output_type": "stream",
     "text": [
      "MRR@100 = 0.0249\n",
      "N: 1500, q_bpr: 1, norm_all: True, preproc: minmax, coef_bpr: 2\n"
     ]
    },
    {
     "name": "stderr",
     "output_type": "stream",
     "text": [
      "100%|███████████████████████████████████████████████████████████████████████████| 25000/25000 [01:20<00:00, 311.69it/s]\n"
     ]
    },
    {
     "name": "stdout",
     "output_type": "stream",
     "text": [
      "MRR@100 = 0.0161\n",
      "N: 1500, q_bpr: 1, norm_all: True, preproc: standart, coef_bpr: 0.1\n"
     ]
    },
    {
     "name": "stderr",
     "output_type": "stream",
     "text": [
      "c:\\python38\\lib\\site-packages\\sklearn\\preprocessing\\_data.py:239: UserWarning: Numerical issues were encountered when centering the data and might not be solved. Dataset may contain too large values. You may need to prescale your features.\n",
      "  warnings.warn(\n",
      "c:\\python38\\lib\\site-packages\\sklearn\\preprocessing\\_data.py:239: UserWarning: Numerical issues were encountered when centering the data and might not be solved. Dataset may contain too large values. You may need to prescale your features.\n",
      "  warnings.warn(\n",
      "c:\\python38\\lib\\site-packages\\sklearn\\preprocessing\\_data.py:258: UserWarning: Numerical issues were encountered when scaling the data and might not be solved. The standard deviation of the data is probably very close to 0. \n",
      "  warnings.warn(\n",
      "100%|███████████████████████████████████████████████████████████████████████████| 25000/25000 [01:21<00:00, 306.87it/s]\n"
     ]
    },
    {
     "name": "stdout",
     "output_type": "stream",
     "text": [
      "MRR@100 = 0.0245\n",
      "N: 1500, q_bpr: 1, norm_all: True, preproc: standart, coef_bpr: 0.5\n"
     ]
    },
    {
     "name": "stderr",
     "output_type": "stream",
     "text": [
      "c:\\python38\\lib\\site-packages\\sklearn\\preprocessing\\_data.py:239: UserWarning: Numerical issues were encountered when centering the data and might not be solved. Dataset may contain too large values. You may need to prescale your features.\n",
      "  warnings.warn(\n",
      "c:\\python38\\lib\\site-packages\\sklearn\\preprocessing\\_data.py:239: UserWarning: Numerical issues were encountered when centering the data and might not be solved. Dataset may contain too large values. You may need to prescale your features.\n",
      "  warnings.warn(\n",
      "c:\\python38\\lib\\site-packages\\sklearn\\preprocessing\\_data.py:258: UserWarning: Numerical issues were encountered when scaling the data and might not be solved. The standard deviation of the data is probably very close to 0. \n",
      "  warnings.warn(\n",
      "100%|███████████████████████████████████████████████████████████████████████████| 25000/25000 [01:23<00:00, 299.39it/s]\n"
     ]
    },
    {
     "name": "stdout",
     "output_type": "stream",
     "text": [
      "MRR@100 = 0.0292\n",
      "N: 1500, q_bpr: 1, norm_all: True, preproc: standart, coef_bpr: 1\n"
     ]
    },
    {
     "name": "stderr",
     "output_type": "stream",
     "text": [
      "c:\\python38\\lib\\site-packages\\sklearn\\preprocessing\\_data.py:239: UserWarning: Numerical issues were encountered when centering the data and might not be solved. Dataset may contain too large values. You may need to prescale your features.\n",
      "  warnings.warn(\n",
      "c:\\python38\\lib\\site-packages\\sklearn\\preprocessing\\_data.py:239: UserWarning: Numerical issues were encountered when centering the data and might not be solved. Dataset may contain too large values. You may need to prescale your features.\n",
      "  warnings.warn(\n",
      "c:\\python38\\lib\\site-packages\\sklearn\\preprocessing\\_data.py:258: UserWarning: Numerical issues were encountered when scaling the data and might not be solved. The standard deviation of the data is probably very close to 0. \n",
      "  warnings.warn(\n",
      "100%|███████████████████████████████████████████████████████████████████████████| 25000/25000 [01:22<00:00, 301.42it/s]\n"
     ]
    },
    {
     "name": "stdout",
     "output_type": "stream",
     "text": [
      "MRR@100 = 0.0311\n",
      "N: 1500, q_bpr: 1, norm_all: True, preproc: standart, coef_bpr: 2\n"
     ]
    },
    {
     "name": "stderr",
     "output_type": "stream",
     "text": [
      "c:\\python38\\lib\\site-packages\\sklearn\\preprocessing\\_data.py:239: UserWarning: Numerical issues were encountered when centering the data and might not be solved. Dataset may contain too large values. You may need to prescale your features.\n",
      "  warnings.warn(\n",
      "c:\\python38\\lib\\site-packages\\sklearn\\preprocessing\\_data.py:239: UserWarning: Numerical issues were encountered when centering the data and might not be solved. Dataset may contain too large values. You may need to prescale your features.\n",
      "  warnings.warn(\n",
      "c:\\python38\\lib\\site-packages\\sklearn\\preprocessing\\_data.py:258: UserWarning: Numerical issues were encountered when scaling the data and might not be solved. The standard deviation of the data is probably very close to 0. \n",
      "  warnings.warn(\n",
      "100%|███████████████████████████████████████████████████████████████████████████| 25000/25000 [01:20<00:00, 309.46it/s]\n"
     ]
    },
    {
     "name": "stdout",
     "output_type": "stream",
     "text": [
      "MRR@100 = 0.0311\n",
      "N: 1500, q_bpr: 1, norm_all: False, preproc: minmax, coef_bpr: 0.1\n"
     ]
    },
    {
     "name": "stderr",
     "output_type": "stream",
     "text": [
      "100%|███████████████████████████████████████████████████████████████████████████| 25000/25000 [01:18<00:00, 320.24it/s]\n"
     ]
    },
    {
     "name": "stdout",
     "output_type": "stream",
     "text": [
      "MRR@100 = 0.0192\n",
      "N: 1500, q_bpr: 1, norm_all: False, preproc: minmax, coef_bpr: 0.5\n"
     ]
    },
    {
     "name": "stderr",
     "output_type": "stream",
     "text": [
      "100%|███████████████████████████████████████████████████████████████████████████| 25000/25000 [01:18<00:00, 319.52it/s]\n"
     ]
    },
    {
     "name": "stdout",
     "output_type": "stream",
     "text": [
      "MRR@100 = 0.0251\n",
      "N: 1500, q_bpr: 1, norm_all: False, preproc: minmax, coef_bpr: 1\n"
     ]
    },
    {
     "name": "stderr",
     "output_type": "stream",
     "text": [
      "100%|███████████████████████████████████████████████████████████████████████████| 25000/25000 [01:17<00:00, 322.93it/s]\n"
     ]
    },
    {
     "name": "stdout",
     "output_type": "stream",
     "text": [
      "MRR@100 = 0.0306\n",
      "N: 1500, q_bpr: 1, norm_all: False, preproc: minmax, coef_bpr: 2\n"
     ]
    },
    {
     "name": "stderr",
     "output_type": "stream",
     "text": [
      "100%|███████████████████████████████████████████████████████████████████████████| 25000/25000 [01:19<00:00, 314.54it/s]\n"
     ]
    },
    {
     "name": "stdout",
     "output_type": "stream",
     "text": [
      "MRR@100 = 0.0306\n",
      "N: 1500, q_bpr: 1, norm_all: False, preproc: standart, coef_bpr: 0.1\n"
     ]
    },
    {
     "name": "stderr",
     "output_type": "stream",
     "text": [
      "c:\\python38\\lib\\site-packages\\sklearn\\preprocessing\\_data.py:239: UserWarning: Numerical issues were encountered when centering the data and might not be solved. Dataset may contain too large values. You may need to prescale your features.\n",
      "  warnings.warn(\n",
      "c:\\python38\\lib\\site-packages\\sklearn\\preprocessing\\_data.py:258: UserWarning: Numerical issues were encountered when scaling the data and might not be solved. The standard deviation of the data is probably very close to 0. \n",
      "  warnings.warn(\n",
      "c:\\python38\\lib\\site-packages\\sklearn\\preprocessing\\_data.py:239: UserWarning: Numerical issues were encountered when centering the data and might not be solved. Dataset may contain too large values. You may need to prescale your features.\n",
      "  warnings.warn(\n",
      "c:\\python38\\lib\\site-packages\\sklearn\\preprocessing\\_data.py:258: UserWarning: Numerical issues were encountered when scaling the data and might not be solved. The standard deviation of the data is probably very close to 0. \n",
      "  warnings.warn(\n",
      "100%|███████████████████████████████████████████████████████████████████████████| 25000/25000 [01:22<00:00, 304.57it/s]\n"
     ]
    },
    {
     "name": "stdout",
     "output_type": "stream",
     "text": [
      "MRR@100 = 0.0213\n",
      "N: 1500, q_bpr: 1, norm_all: False, preproc: standart, coef_bpr: 0.5\n"
     ]
    },
    {
     "name": "stderr",
     "output_type": "stream",
     "text": [
      "c:\\python38\\lib\\site-packages\\sklearn\\preprocessing\\_data.py:239: UserWarning: Numerical issues were encountered when centering the data and might not be solved. Dataset may contain too large values. You may need to prescale your features.\n",
      "  warnings.warn(\n",
      "c:\\python38\\lib\\site-packages\\sklearn\\preprocessing\\_data.py:258: UserWarning: Numerical issues were encountered when scaling the data and might not be solved. The standard deviation of the data is probably very close to 0. \n",
      "  warnings.warn(\n",
      "c:\\python38\\lib\\site-packages\\sklearn\\preprocessing\\_data.py:239: UserWarning: Numerical issues were encountered when centering the data and might not be solved. Dataset may contain too large values. You may need to prescale your features.\n",
      "  warnings.warn(\n",
      "c:\\python38\\lib\\site-packages\\sklearn\\preprocessing\\_data.py:258: UserWarning: Numerical issues were encountered when scaling the data and might not be solved. The standard deviation of the data is probably very close to 0. \n",
      "  warnings.warn(\n",
      "100%|███████████████████████████████████████████████████████████████████████████| 25000/25000 [01:17<00:00, 320.64it/s]\n"
     ]
    },
    {
     "name": "stdout",
     "output_type": "stream",
     "text": [
      "MRR@100 = 0.0262\n",
      "N: 1500, q_bpr: 1, norm_all: False, preproc: standart, coef_bpr: 1\n"
     ]
    },
    {
     "name": "stderr",
     "output_type": "stream",
     "text": [
      "c:\\python38\\lib\\site-packages\\sklearn\\preprocessing\\_data.py:239: UserWarning: Numerical issues were encountered when centering the data and might not be solved. Dataset may contain too large values. You may need to prescale your features.\n",
      "  warnings.warn(\n",
      "c:\\python38\\lib\\site-packages\\sklearn\\preprocessing\\_data.py:258: UserWarning: Numerical issues were encountered when scaling the data and might not be solved. The standard deviation of the data is probably very close to 0. \n",
      "  warnings.warn(\n",
      "c:\\python38\\lib\\site-packages\\sklearn\\preprocessing\\_data.py:239: UserWarning: Numerical issues were encountered when centering the data and might not be solved. Dataset may contain too large values. You may need to prescale your features.\n",
      "  warnings.warn(\n",
      "c:\\python38\\lib\\site-packages\\sklearn\\preprocessing\\_data.py:258: UserWarning: Numerical issues were encountered when scaling the data and might not be solved. The standard deviation of the data is probably very close to 0. \n",
      "  warnings.warn(\n",
      "100%|███████████████████████████████████████████████████████████████████████████| 25000/25000 [01:17<00:00, 322.66it/s]\n"
     ]
    },
    {
     "name": "stdout",
     "output_type": "stream",
     "text": [
      "MRR@100 = 0.0310\n",
      "N: 1500, q_bpr: 1, norm_all: False, preproc: standart, coef_bpr: 2\n"
     ]
    },
    {
     "name": "stderr",
     "output_type": "stream",
     "text": [
      "c:\\python38\\lib\\site-packages\\sklearn\\preprocessing\\_data.py:239: UserWarning: Numerical issues were encountered when centering the data and might not be solved. Dataset may contain too large values. You may need to prescale your features.\n",
      "  warnings.warn(\n",
      "c:\\python38\\lib\\site-packages\\sklearn\\preprocessing\\_data.py:258: UserWarning: Numerical issues were encountered when scaling the data and might not be solved. The standard deviation of the data is probably very close to 0. \n",
      "  warnings.warn(\n",
      "c:\\python38\\lib\\site-packages\\sklearn\\preprocessing\\_data.py:239: UserWarning: Numerical issues were encountered when centering the data and might not be solved. Dataset may contain too large values. You may need to prescale your features.\n",
      "  warnings.warn(\n",
      "c:\\python38\\lib\\site-packages\\sklearn\\preprocessing\\_data.py:258: UserWarning: Numerical issues were encountered when scaling the data and might not be solved. The standard deviation of the data is probably very close to 0. \n",
      "  warnings.warn(\n",
      "100%|███████████████████████████████████████████████████████████████████████████| 25000/25000 [01:17<00:00, 323.98it/s]\n"
     ]
    },
    {
     "name": "stdout",
     "output_type": "stream",
     "text": [
      "MRR@100 = 0.0325\n",
      "\n",
      "\n",
      "--- 73.39216494560242 seconds model_als ---\n",
      "\n",
      "--- 127.69228053092957 seconds model_bpr ---\n",
      "N: 1500, q_bpr: 2, norm_all: True, preproc: minmax, coef_bpr: 0.1\n"
     ]
    },
    {
     "name": "stderr",
     "output_type": "stream",
     "text": [
      "100%|███████████████████████████████████████████████████████████████████████████| 25000/25000 [01:21<00:00, 306.99it/s]\n"
     ]
    },
    {
     "name": "stdout",
     "output_type": "stream",
     "text": [
      "MRR@100 = 0.0212\n",
      "N: 1500, q_bpr: 2, norm_all: True, preproc: minmax, coef_bpr: 0.5\n"
     ]
    },
    {
     "name": "stderr",
     "output_type": "stream",
     "text": [
      "100%|███████████████████████████████████████████████████████████████████████████| 25000/25000 [01:20<00:00, 308.98it/s]\n"
     ]
    },
    {
     "name": "stdout",
     "output_type": "stream",
     "text": [
      "MRR@100 = 0.0295\n",
      "N: 1500, q_bpr: 2, norm_all: True, preproc: minmax, coef_bpr: 1\n"
     ]
    },
    {
     "name": "stderr",
     "output_type": "stream",
     "text": [
      "100%|███████████████████████████████████████████████████████████████████████████| 25000/25000 [01:19<00:00, 315.05it/s]\n"
     ]
    },
    {
     "name": "stdout",
     "output_type": "stream",
     "text": [
      "MRR@100 = 0.0235\n",
      "N: 1500, q_bpr: 2, norm_all: True, preproc: minmax, coef_bpr: 2\n"
     ]
    },
    {
     "name": "stderr",
     "output_type": "stream",
     "text": [
      "100%|███████████████████████████████████████████████████████████████████████████| 25000/25000 [01:19<00:00, 316.01it/s]\n"
     ]
    },
    {
     "name": "stdout",
     "output_type": "stream",
     "text": [
      "MRR@100 = 0.0143\n",
      "N: 1500, q_bpr: 2, norm_all: True, preproc: standart, coef_bpr: 0.1\n"
     ]
    },
    {
     "name": "stderr",
     "output_type": "stream",
     "text": [
      "c:\\python38\\lib\\site-packages\\sklearn\\preprocessing\\_data.py:239: UserWarning: Numerical issues were encountered when centering the data and might not be solved. Dataset may contain too large values. You may need to prescale your features.\n",
      "  warnings.warn(\n",
      "c:\\python38\\lib\\site-packages\\sklearn\\preprocessing\\_data.py:239: UserWarning: Numerical issues were encountered when centering the data and might not be solved. Dataset may contain too large values. You may need to prescale your features.\n",
      "  warnings.warn(\n",
      "100%|███████████████████████████████████████████████████████████████████████████| 25000/25000 [01:19<00:00, 315.67it/s]\n"
     ]
    },
    {
     "name": "stdout",
     "output_type": "stream",
     "text": [
      "MRR@100 = 0.0253\n",
      "N: 1500, q_bpr: 2, norm_all: True, preproc: standart, coef_bpr: 0.5\n"
     ]
    },
    {
     "name": "stderr",
     "output_type": "stream",
     "text": [
      "c:\\python38\\lib\\site-packages\\sklearn\\preprocessing\\_data.py:239: UserWarning: Numerical issues were encountered when centering the data and might not be solved. Dataset may contain too large values. You may need to prescale your features.\n",
      "  warnings.warn(\n",
      "c:\\python38\\lib\\site-packages\\sklearn\\preprocessing\\_data.py:239: UserWarning: Numerical issues were encountered when centering the data and might not be solved. Dataset may contain too large values. You may need to prescale your features.\n",
      "  warnings.warn(\n",
      "100%|███████████████████████████████████████████████████████████████████████████| 25000/25000 [01:19<00:00, 315.51it/s]\n"
     ]
    },
    {
     "name": "stdout",
     "output_type": "stream",
     "text": [
      "MRR@100 = 0.0294\n",
      "N: 1500, q_bpr: 2, norm_all: True, preproc: standart, coef_bpr: 1\n"
     ]
    },
    {
     "name": "stderr",
     "output_type": "stream",
     "text": [
      "c:\\python38\\lib\\site-packages\\sklearn\\preprocessing\\_data.py:239: UserWarning: Numerical issues were encountered when centering the data and might not be solved. Dataset may contain too large values. You may need to prescale your features.\n",
      "  warnings.warn(\n",
      "c:\\python38\\lib\\site-packages\\sklearn\\preprocessing\\_data.py:239: UserWarning: Numerical issues were encountered when centering the data and might not be solved. Dataset may contain too large values. You may need to prescale your features.\n",
      "  warnings.warn(\n",
      "100%|███████████████████████████████████████████████████████████████████████████| 25000/25000 [01:18<00:00, 319.69it/s]\n"
     ]
    },
    {
     "name": "stdout",
     "output_type": "stream",
     "text": [
      "MRR@100 = 0.0303\n",
      "N: 1500, q_bpr: 2, norm_all: True, preproc: standart, coef_bpr: 2\n"
     ]
    },
    {
     "name": "stderr",
     "output_type": "stream",
     "text": [
      "c:\\python38\\lib\\site-packages\\sklearn\\preprocessing\\_data.py:239: UserWarning: Numerical issues were encountered when centering the data and might not be solved. Dataset may contain too large values. You may need to prescale your features.\n",
      "  warnings.warn(\n",
      "c:\\python38\\lib\\site-packages\\sklearn\\preprocessing\\_data.py:239: UserWarning: Numerical issues were encountered when centering the data and might not be solved. Dataset may contain too large values. You may need to prescale your features.\n",
      "  warnings.warn(\n",
      "100%|███████████████████████████████████████████████████████████████████████████| 25000/25000 [01:19<00:00, 315.12it/s]\n"
     ]
    },
    {
     "name": "stdout",
     "output_type": "stream",
     "text": [
      "MRR@100 = 0.0287\n",
      "N: 1500, q_bpr: 2, norm_all: False, preproc: minmax, coef_bpr: 0.1\n"
     ]
    },
    {
     "name": "stderr",
     "output_type": "stream",
     "text": [
      "100%|███████████████████████████████████████████████████████████████████████████| 25000/25000 [01:19<00:00, 315.01it/s]\n"
     ]
    },
    {
     "name": "stdout",
     "output_type": "stream",
     "text": [
      "MRR@100 = 0.0213\n",
      "N: 1500, q_bpr: 2, norm_all: False, preproc: minmax, coef_bpr: 0.5\n"
     ]
    },
    {
     "name": "stderr",
     "output_type": "stream",
     "text": [
      "100%|███████████████████████████████████████████████████████████████████████████| 25000/25000 [01:20<00:00, 311.65it/s]\n"
     ]
    },
    {
     "name": "stdout",
     "output_type": "stream",
     "text": [
      "MRR@100 = 0.0264\n",
      "N: 1500, q_bpr: 2, norm_all: False, preproc: minmax, coef_bpr: 1\n"
     ]
    },
    {
     "name": "stderr",
     "output_type": "stream",
     "text": [
      "100%|███████████████████████████████████████████████████████████████████████████| 25000/25000 [01:18<00:00, 316.58it/s]\n"
     ]
    },
    {
     "name": "stdout",
     "output_type": "stream",
     "text": [
      "MRR@100 = 0.0308\n",
      "N: 1500, q_bpr: 2, norm_all: False, preproc: minmax, coef_bpr: 2\n"
     ]
    },
    {
     "name": "stderr",
     "output_type": "stream",
     "text": [
      "100%|███████████████████████████████████████████████████████████████████████████| 25000/25000 [01:18<00:00, 317.70it/s]\n"
     ]
    },
    {
     "name": "stdout",
     "output_type": "stream",
     "text": [
      "MRR@100 = 0.0286\n",
      "N: 1500, q_bpr: 2, norm_all: False, preproc: standart, coef_bpr: 0.1\n"
     ]
    },
    {
     "name": "stderr",
     "output_type": "stream",
     "text": [
      "c:\\python38\\lib\\site-packages\\sklearn\\preprocessing\\_data.py:239: UserWarning: Numerical issues were encountered when centering the data and might not be solved. Dataset may contain too large values. You may need to prescale your features.\n",
      "  warnings.warn(\n",
      "c:\\python38\\lib\\site-packages\\sklearn\\preprocessing\\_data.py:258: UserWarning: Numerical issues were encountered when scaling the data and might not be solved. The standard deviation of the data is probably very close to 0. \n",
      "  warnings.warn(\n",
      "c:\\python38\\lib\\site-packages\\sklearn\\preprocessing\\_data.py:239: UserWarning: Numerical issues were encountered when centering the data and might not be solved. Dataset may contain too large values. You may need to prescale your features.\n",
      "  warnings.warn(\n",
      "c:\\python38\\lib\\site-packages\\sklearn\\preprocessing\\_data.py:258: UserWarning: Numerical issues were encountered when scaling the data and might not be solved. The standard deviation of the data is probably very close to 0. \n",
      "  warnings.warn(\n",
      "100%|███████████████████████████████████████████████████████████████████████████| 25000/25000 [01:17<00:00, 322.89it/s]\n"
     ]
    },
    {
     "name": "stdout",
     "output_type": "stream",
     "text": [
      "MRR@100 = 0.0231\n",
      "N: 1500, q_bpr: 2, norm_all: False, preproc: standart, coef_bpr: 0.5\n"
     ]
    },
    {
     "name": "stderr",
     "output_type": "stream",
     "text": [
      "c:\\python38\\lib\\site-packages\\sklearn\\preprocessing\\_data.py:239: UserWarning: Numerical issues were encountered when centering the data and might not be solved. Dataset may contain too large values. You may need to prescale your features.\n",
      "  warnings.warn(\n",
      "c:\\python38\\lib\\site-packages\\sklearn\\preprocessing\\_data.py:258: UserWarning: Numerical issues were encountered when scaling the data and might not be solved. The standard deviation of the data is probably very close to 0. \n",
      "  warnings.warn(\n",
      "c:\\python38\\lib\\site-packages\\sklearn\\preprocessing\\_data.py:239: UserWarning: Numerical issues were encountered when centering the data and might not be solved. Dataset may contain too large values. You may need to prescale your features.\n",
      "  warnings.warn(\n",
      "c:\\python38\\lib\\site-packages\\sklearn\\preprocessing\\_data.py:258: UserWarning: Numerical issues were encountered when scaling the data and might not be solved. The standard deviation of the data is probably very close to 0. \n",
      "  warnings.warn(\n",
      "100%|███████████████████████████████████████████████████████████████████████████| 25000/25000 [01:26<00:00, 289.77it/s]\n"
     ]
    },
    {
     "name": "stdout",
     "output_type": "stream",
     "text": [
      "MRR@100 = 0.0278\n",
      "N: 1500, q_bpr: 2, norm_all: False, preproc: standart, coef_bpr: 1\n"
     ]
    },
    {
     "name": "stderr",
     "output_type": "stream",
     "text": [
      "c:\\python38\\lib\\site-packages\\sklearn\\preprocessing\\_data.py:239: UserWarning: Numerical issues were encountered when centering the data and might not be solved. Dataset may contain too large values. You may need to prescale your features.\n",
      "  warnings.warn(\n",
      "c:\\python38\\lib\\site-packages\\sklearn\\preprocessing\\_data.py:258: UserWarning: Numerical issues were encountered when scaling the data and might not be solved. The standard deviation of the data is probably very close to 0. \n",
      "  warnings.warn(\n",
      "c:\\python38\\lib\\site-packages\\sklearn\\preprocessing\\_data.py:239: UserWarning: Numerical issues were encountered when centering the data and might not be solved. Dataset may contain too large values. You may need to prescale your features.\n",
      "  warnings.warn(\n",
      "c:\\python38\\lib\\site-packages\\sklearn\\preprocessing\\_data.py:258: UserWarning: Numerical issues were encountered when scaling the data and might not be solved. The standard deviation of the data is probably very close to 0. \n",
      "  warnings.warn(\n",
      "100%|███████████████████████████████████████████████████████████████████████████| 25000/25000 [01:32<00:00, 270.61it/s]\n"
     ]
    },
    {
     "name": "stdout",
     "output_type": "stream",
     "text": [
      "MRR@100 = 0.0316\n",
      "N: 1500, q_bpr: 2, norm_all: False, preproc: standart, coef_bpr: 2\n"
     ]
    },
    {
     "name": "stderr",
     "output_type": "stream",
     "text": [
      "c:\\python38\\lib\\site-packages\\sklearn\\preprocessing\\_data.py:239: UserWarning: Numerical issues were encountered when centering the data and might not be solved. Dataset may contain too large values. You may need to prescale your features.\n",
      "  warnings.warn(\n",
      "c:\\python38\\lib\\site-packages\\sklearn\\preprocessing\\_data.py:258: UserWarning: Numerical issues were encountered when scaling the data and might not be solved. The standard deviation of the data is probably very close to 0. \n",
      "  warnings.warn(\n",
      "c:\\python38\\lib\\site-packages\\sklearn\\preprocessing\\_data.py:239: UserWarning: Numerical issues were encountered when centering the data and might not be solved. Dataset may contain too large values. You may need to prescale your features.\n",
      "  warnings.warn(\n",
      "c:\\python38\\lib\\site-packages\\sklearn\\preprocessing\\_data.py:258: UserWarning: Numerical issues were encountered when scaling the data and might not be solved. The standard deviation of the data is probably very close to 0. \n",
      "  warnings.warn(\n",
      "100%|███████████████████████████████████████████████████████████████████████████| 25000/25000 [01:26<00:00, 290.08it/s]\n"
     ]
    },
    {
     "name": "stdout",
     "output_type": "stream",
     "text": [
      "MRR@100 = 0.0309\n"
     ]
    },
    {
     "ename": "KeyboardInterrupt",
     "evalue": "",
     "output_type": "error",
     "traceback": [
      "\u001b[1;31m---------------------------------------------------------------------------\u001b[0m",
      "\u001b[1;31mKeyboardInterrupt\u001b[0m                         Traceback (most recent call last)",
      "Cell \u001b[1;32mIn [18], line 3\u001b[0m\n\u001b[0;32m      1\u001b[0m \u001b[38;5;28;01mfor\u001b[39;00m N \u001b[38;5;129;01min\u001b[39;00m [\u001b[38;5;241m1000\u001b[39m, \u001b[38;5;241m1500\u001b[39m, \u001b[38;5;241m2000\u001b[39m]:\n\u001b[0;32m      2\u001b[0m     \u001b[38;5;28;01mfor\u001b[39;00m q_bpr \u001b[38;5;129;01min\u001b[39;00m [\u001b[38;5;241m0.01\u001b[39m, \u001b[38;5;241m0.015\u001b[39m, \u001b[38;5;241m0.1\u001b[39m, \u001b[38;5;241m0.5\u001b[39m, \u001b[38;5;241m1\u001b[39m, \u001b[38;5;241m2\u001b[39m]:\n\u001b[1;32m----> 3\u001b[0m         rec_als, rec_bpr, N_als, N_bpr \u001b[38;5;241m=\u001b[39m \u001b[43mN_opt\u001b[49m\u001b[43m(\u001b[49m\u001b[43mmodel_als\u001b[49m\u001b[43m,\u001b[49m\u001b[43m \u001b[49m\u001b[43mmodel_bpr\u001b[49m\u001b[43m,\u001b[49m\u001b[43m \u001b[49m\u001b[43mN\u001b[49m\u001b[38;5;241;43m=\u001b[39;49m\u001b[43mN\u001b[49m\u001b[43m,\u001b[49m\u001b[43m \u001b[49m\u001b[43mq_bpr\u001b[49m\u001b[38;5;241;43m=\u001b[39;49m\u001b[43mq_bpr\u001b[49m\u001b[43m)\u001b[49m\n\u001b[0;32m      4\u001b[0m         \u001b[38;5;28;01mfor\u001b[39;00m norm_all \u001b[38;5;129;01min\u001b[39;00m [\u001b[38;5;28;01mTrue\u001b[39;00m, \u001b[38;5;28;01mFalse\u001b[39;00m]:\n\u001b[0;32m      5\u001b[0m             \u001b[38;5;28;01mfor\u001b[39;00m preproc \u001b[38;5;129;01min\u001b[39;00m [\u001b[38;5;124m'\u001b[39m\u001b[38;5;124mminmax\u001b[39m\u001b[38;5;124m'\u001b[39m, \u001b[38;5;124m'\u001b[39m\u001b[38;5;124mstandart\u001b[39m\u001b[38;5;124m'\u001b[39m]:\n",
      "Cell \u001b[1;32mIn [6], line 9\u001b[0m, in \u001b[0;36mN_opt\u001b[1;34m(model_als, model_bpr, N, q_bpr)\u001b[0m\n\u001b[0;32m      6\u001b[0m userid \u001b[38;5;241m=\u001b[39m val_id\n\u001b[0;32m      8\u001b[0m start_time \u001b[38;5;241m=\u001b[39m time\u001b[38;5;241m.\u001b[39mtime()\n\u001b[1;32m----> 9\u001b[0m rec_als \u001b[38;5;241m=\u001b[39m \u001b[43mmodel_als\u001b[49m\u001b[38;5;241;43m.\u001b[39;49m\u001b[43mrecommend\u001b[49m\u001b[43m(\u001b[49m\u001b[43muserid\u001b[49m\u001b[43m,\u001b[49m\u001b[43m \u001b[49m\u001b[43muser_item_val\u001b[49m\u001b[43m,\u001b[49m\u001b[43m \u001b[49m\u001b[43mN\u001b[49m\u001b[38;5;241;43m=\u001b[39;49m\u001b[43mN_als\u001b[49m\u001b[43m,\u001b[49m\u001b[43m \u001b[49m\u001b[43mfilter_already_liked_items\u001b[49m\u001b[38;5;241;43m=\u001b[39;49m\u001b[38;5;28;43;01mTrue\u001b[39;49;00m\u001b[43m)\u001b[49m\n\u001b[0;32m     10\u001b[0m \u001b[38;5;28mprint\u001b[39m(\u001b[38;5;124m\"\u001b[39m\u001b[38;5;130;01m\\n\u001b[39;00m\u001b[38;5;130;01m\\n\u001b[39;00m\u001b[38;5;124m--- \u001b[39m\u001b[38;5;132;01m%s\u001b[39;00m\u001b[38;5;124m seconds model_als ---\u001b[39m\u001b[38;5;124m\"\u001b[39m \u001b[38;5;241m%\u001b[39m (time\u001b[38;5;241m.\u001b[39mtime() \u001b[38;5;241m-\u001b[39m start_time))\n\u001b[0;32m     12\u001b[0m start_time \u001b[38;5;241m=\u001b[39m time\u001b[38;5;241m.\u001b[39mtime()\n",
      "File \u001b[1;32mc:\\python38\\lib\\site-packages\\implicit\\cpu\\matrix_factorization_base.py:79\u001b[0m, in \u001b[0;36mMatrixFactorizationBase.recommend\u001b[1;34m(self, userid, user_items, N, filter_already_liked_items, filter_items, recalculate_user, items)\u001b[0m\n\u001b[0;32m     76\u001b[0m     \u001b[38;5;28;01mif\u001b[39;00m items \u001b[38;5;129;01mis\u001b[39;00m \u001b[38;5;129;01mnot\u001b[39;00m \u001b[38;5;28;01mNone\u001b[39;00m:\n\u001b[0;32m     77\u001b[0m         filter_query_items \u001b[38;5;241m=\u001b[39m _filter_items_from_sparse_matrix(items, filter_query_items)\n\u001b[1;32m---> 79\u001b[0m ids, scores \u001b[38;5;241m=\u001b[39m \u001b[43mtopk\u001b[49m\u001b[43m(\u001b[49m\n\u001b[0;32m     80\u001b[0m \u001b[43m    \u001b[49m\u001b[43mitem_factors\u001b[49m\u001b[43m,\u001b[49m\n\u001b[0;32m     81\u001b[0m \u001b[43m    \u001b[49m\u001b[43muser\u001b[49m\u001b[43m,\u001b[49m\n\u001b[0;32m     82\u001b[0m \u001b[43m    \u001b[49m\u001b[43mN\u001b[49m\u001b[43m,\u001b[49m\n\u001b[0;32m     83\u001b[0m \u001b[43m    \u001b[49m\u001b[43mfilter_query_items\u001b[49m\u001b[38;5;241;43m=\u001b[39;49m\u001b[43mfilter_query_items\u001b[49m\u001b[43m,\u001b[49m\n\u001b[0;32m     84\u001b[0m \u001b[43m    \u001b[49m\u001b[43mfilter_items\u001b[49m\u001b[38;5;241;43m=\u001b[39;49m\u001b[43mfilter_items\u001b[49m\u001b[43m,\u001b[49m\n\u001b[0;32m     85\u001b[0m \u001b[43m    \u001b[49m\u001b[43mnum_threads\u001b[49m\u001b[38;5;241;43m=\u001b[39;49m\u001b[38;5;28;43mself\u001b[39;49m\u001b[38;5;241;43m.\u001b[39;49m\u001b[43mnum_threads\u001b[49m\u001b[43m,\u001b[49m\n\u001b[0;32m     86\u001b[0m \u001b[43m\u001b[49m\u001b[43m)\u001b[49m\n\u001b[0;32m     88\u001b[0m \u001b[38;5;28;01mif\u001b[39;00m np\u001b[38;5;241m.\u001b[39misscalar(userid):\n\u001b[0;32m     89\u001b[0m     ids, scores \u001b[38;5;241m=\u001b[39m ids[\u001b[38;5;241m0\u001b[39m], scores[\u001b[38;5;241m0\u001b[39m]\n",
      "File \u001b[1;32mtopk.pyx:41\u001b[0m, in \u001b[0;36mimplicit.cpu.topk.topk\u001b[1;34m()\u001b[0m\n",
      "File \u001b[1;32mtopk.pyx:51\u001b[0m, in \u001b[0;36mimplicit.cpu.topk._topk_batch\u001b[1;34m()\u001b[0m\n",
      "File \u001b[1;32mc:\\python38\\lib\\site-packages\\numpy\\core\\getlimits.py:459\u001b[0m, in \u001b[0;36mfinfo.__new__\u001b[1;34m(cls, dtype)\u001b[0m\n\u001b[0;32m    458\u001b[0m \u001b[38;5;28;01mdef\u001b[39;00m \u001b[38;5;21m__new__\u001b[39m(\u001b[38;5;28mcls\u001b[39m, dtype):\n\u001b[1;32m--> 459\u001b[0m     \u001b[38;5;28;01mtry\u001b[39;00m:\n\u001b[0;32m    460\u001b[0m         dtype \u001b[38;5;241m=\u001b[39m numeric\u001b[38;5;241m.\u001b[39mdtype(dtype)\n\u001b[0;32m    461\u001b[0m     \u001b[38;5;28;01mexcept\u001b[39;00m \u001b[38;5;167;01mTypeError\u001b[39;00m:\n\u001b[0;32m    462\u001b[0m         \u001b[38;5;66;03m# In case a float instance was given\u001b[39;00m\n",
      "\u001b[1;31mKeyboardInterrupt\u001b[0m: "
     ]
    }
   ],
   "source": [
    "for N in [1000, 1500, 2000]:\n",
    "    for q_bpr in [0.01, 0.015, 0.1, 0.5, 1, 2]:\n",
    "        rec_als, rec_bpr, N_als, N_bpr = N_opt(model_als, model_bpr, N=N, q_bpr=q_bpr)\n",
    "        for norm_all in [True, False]:\n",
    "            for preproc in ['minmax', 'standart']:\n",
    "                for coef_bpr in [0.1, 0.5, 1, 2]:\n",
    "                    print(f'N: {N}, q_bpr: {q_bpr}, norm_all: {norm_all}, preproc: {preproc}, coef_bpr: {coef_bpr}')\n",
    "                    mrr = optimize(rec_als,\n",
    "                                   rec_bpr,\n",
    "                                   N_als,\n",
    "                                   N_bpr,\n",
    "                                   coef_bpr=coef_bpr,\n",
    "                                   norm_all=norm_all,\n",
    "                                   preproc=preproc)\n",
    "                    ls.append((mrr, N, q_bpr, norm_all, preproc, coef_bpr))"
   ]
  },
  {
   "cell_type": "code",
   "execution_count": 20,
   "id": "cd115a3c",
   "metadata": {},
   "outputs": [
    {
     "data": {
      "text/html": [
       "<div>\n",
       "<style scoped>\n",
       "    .dataframe tbody tr th:only-of-type {\n",
       "        vertical-align: middle;\n",
       "    }\n",
       "\n",
       "    .dataframe tbody tr th {\n",
       "        vertical-align: top;\n",
       "    }\n",
       "\n",
       "    .dataframe thead th {\n",
       "        text-align: right;\n",
       "    }\n",
       "</style>\n",
       "<table border=\"1\" class=\"dataframe\">\n",
       "  <thead>\n",
       "    <tr style=\"text-align: right;\">\n",
       "      <th></th>\n",
       "      <th>mrr</th>\n",
       "      <th>N</th>\n",
       "      <th>q_bpr</th>\n",
       "      <th>norm_all</th>\n",
       "      <th>preproc</th>\n",
       "      <th>coef_bpr</th>\n",
       "    </tr>\n",
       "  </thead>\n",
       "  <tbody>\n",
       "    <tr>\n",
       "      <th>123</th>\n",
       "      <td>0.033990</td>\n",
       "      <td>1500</td>\n",
       "      <td>0.015</td>\n",
       "      <td>False</td>\n",
       "      <td>minmax</td>\n",
       "      <td>2.0</td>\n",
       "    </tr>\n",
       "    <tr>\n",
       "      <th>139</th>\n",
       "      <td>0.033934</td>\n",
       "      <td>1500</td>\n",
       "      <td>0.100</td>\n",
       "      <td>False</td>\n",
       "      <td>minmax</td>\n",
       "      <td>2.0</td>\n",
       "    </tr>\n",
       "    <tr>\n",
       "      <th>43</th>\n",
       "      <td>0.033910</td>\n",
       "      <td>1000</td>\n",
       "      <td>0.100</td>\n",
       "      <td>False</td>\n",
       "      <td>minmax</td>\n",
       "      <td>2.0</td>\n",
       "    </tr>\n",
       "    <tr>\n",
       "      <th>27</th>\n",
       "      <td>0.033840</td>\n",
       "      <td>1000</td>\n",
       "      <td>0.015</td>\n",
       "      <td>False</td>\n",
       "      <td>minmax</td>\n",
       "      <td>2.0</td>\n",
       "    </tr>\n",
       "    <tr>\n",
       "      <th>107</th>\n",
       "      <td>0.033730</td>\n",
       "      <td>1500</td>\n",
       "      <td>0.010</td>\n",
       "      <td>False</td>\n",
       "      <td>minmax</td>\n",
       "      <td>2.0</td>\n",
       "    </tr>\n",
       "  </tbody>\n",
       "</table>\n",
       "</div>"
      ],
      "text/plain": [
       "          mrr     N  q_bpr  norm_all preproc  coef_bpr\n",
       "123  0.033990  1500  0.015     False  minmax       2.0\n",
       "139  0.033934  1500  0.100     False  minmax       2.0\n",
       "43   0.033910  1000  0.100     False  minmax       2.0\n",
       "27   0.033840  1000  0.015     False  minmax       2.0\n",
       "107  0.033730  1500  0.010     False  minmax       2.0"
      ]
     },
     "execution_count": 20,
     "metadata": {},
     "output_type": "execute_result"
    }
   ],
   "source": [
    "data = pd.DataFrame(ls, columns=['mrr', 'N', 'q_bpr', 'norm_all', 'preproc', 'coef_bpr'])\n",
    "data.sort_values(by='mrr', ascending=False).head(5)"
   ]
  },
  {
   "cell_type": "code",
   "execution_count": 31,
   "id": "f75ce29c",
   "metadata": {},
   "outputs": [],
   "source": [
    "ls_upd = []"
   ]
  },
  {
   "cell_type": "code",
   "execution_count": 32,
   "id": "bb65ecc6",
   "metadata": {},
   "outputs": [
    {
     "name": "stdout",
     "output_type": "stream",
     "text": [
      "\n",
      "\n",
      "--- 64.51443576812744 seconds model_als ---\n",
      "\n",
      "--- 136.41910886764526 seconds model_bpr ---\n",
      "N: 1250, q_bpr: 0.015, norm_all: False, preproc: minmax, coef_bpr: 3\n"
     ]
    },
    {
     "name": "stderr",
     "output_type": "stream",
     "text": [
      "100%|███████████████████████████████████████████████████████████████████████████| 25000/25000 [01:07<00:00, 372.36it/s]\n"
     ]
    },
    {
     "name": "stdout",
     "output_type": "stream",
     "text": [
      "MRR@100 = 0.0340\n",
      "\n",
      "\n",
      "--- 70.26007509231567 seconds model_als ---\n",
      "\n",
      "--- 136.50864577293396 seconds model_bpr ---\n",
      "N: 1500, q_bpr: 0.015, norm_all: False, preproc: minmax, coef_bpr: 3\n"
     ]
    },
    {
     "name": "stderr",
     "output_type": "stream",
     "text": [
      "100%|███████████████████████████████████████████████████████████████████████████| 25000/25000 [01:04<00:00, 385.15it/s]\n"
     ]
    },
    {
     "name": "stdout",
     "output_type": "stream",
     "text": [
      "MRR@100 = 0.0341\n",
      "\n",
      "\n",
      "--- 87.69962215423584 seconds model_als ---\n",
      "\n",
      "--- 119.51808977127075 seconds model_bpr ---\n",
      "N: 1750, q_bpr: 0.015, norm_all: False, preproc: minmax, coef_bpr: 3\n"
     ]
    },
    {
     "name": "stderr",
     "output_type": "stream",
     "text": [
      "100%|███████████████████████████████████████████████████████████████████████████| 25000/25000 [01:08<00:00, 363.52it/s]\n"
     ]
    },
    {
     "name": "stdout",
     "output_type": "stream",
     "text": [
      "MRR@100 = 0.0340\n"
     ]
    },
    {
     "ename": "KeyboardInterrupt",
     "evalue": "",
     "output_type": "error",
     "traceback": [
      "\u001b[1;31m---------------------------------------------------------------------------\u001b[0m",
      "\u001b[1;31mKeyboardInterrupt\u001b[0m                         Traceback (most recent call last)",
      "Cell \u001b[1;32mIn [32], line 2\u001b[0m\n\u001b[0;32m      1\u001b[0m \u001b[38;5;28;01mfor\u001b[39;00m N \u001b[38;5;129;01min\u001b[39;00m [\u001b[38;5;241m1250\u001b[39m, \u001b[38;5;241m1500\u001b[39m, \u001b[38;5;241m1750\u001b[39m, \u001b[38;5;241m2000\u001b[39m]:\n\u001b[1;32m----> 2\u001b[0m     rec_als, rec_bpr, N_als, N_bpr \u001b[38;5;241m=\u001b[39m \u001b[43mN_opt\u001b[49m\u001b[43m(\u001b[49m\u001b[43mmodel_als\u001b[49m\u001b[43m,\u001b[49m\u001b[43m \u001b[49m\u001b[43mmodel_bpr\u001b[49m\u001b[43m,\u001b[49m\u001b[43m \u001b[49m\u001b[43mN\u001b[49m\u001b[38;5;241;43m=\u001b[39;49m\u001b[43mN\u001b[49m\u001b[43m,\u001b[49m\u001b[43m \u001b[49m\u001b[43mq_bpr\u001b[49m\u001b[38;5;241;43m=\u001b[39;49m\u001b[38;5;241;43m0.015\u001b[39;49m\u001b[43m)\u001b[49m\n\u001b[0;32m      3\u001b[0m     \u001b[38;5;28mprint\u001b[39m(\u001b[38;5;124mf\u001b[39m\u001b[38;5;124m'\u001b[39m\u001b[38;5;124mN: \u001b[39m\u001b[38;5;132;01m{\u001b[39;00mN\u001b[38;5;132;01m}\u001b[39;00m\u001b[38;5;124m, q_bpr: \u001b[39m\u001b[38;5;132;01m{\u001b[39;00mq_bpr\u001b[38;5;132;01m}\u001b[39;00m\u001b[38;5;124m, norm_all: False, preproc: minmax, coef_bpr: 3\u001b[39m\u001b[38;5;124m'\u001b[39m)\n\u001b[0;32m      4\u001b[0m     mrr \u001b[38;5;241m=\u001b[39m optimize(rec_als,\n\u001b[0;32m      5\u001b[0m                    rec_bpr,\n\u001b[0;32m      6\u001b[0m                    N_als,\n\u001b[1;32m   (...)\u001b[0m\n\u001b[0;32m      9\u001b[0m                    norm_all\u001b[38;5;241m=\u001b[39m\u001b[38;5;28;01mFalse\u001b[39;00m,\n\u001b[0;32m     10\u001b[0m                    preproc\u001b[38;5;241m=\u001b[39m\u001b[38;5;124m'\u001b[39m\u001b[38;5;124mminmax\u001b[39m\u001b[38;5;124m'\u001b[39m)\n",
      "Cell \u001b[1;32mIn [6], line 9\u001b[0m, in \u001b[0;36mN_opt\u001b[1;34m(model_als, model_bpr, N, q_bpr)\u001b[0m\n\u001b[0;32m      6\u001b[0m userid \u001b[38;5;241m=\u001b[39m val_id\n\u001b[0;32m      8\u001b[0m start_time \u001b[38;5;241m=\u001b[39m time\u001b[38;5;241m.\u001b[39mtime()\n\u001b[1;32m----> 9\u001b[0m rec_als \u001b[38;5;241m=\u001b[39m \u001b[43mmodel_als\u001b[49m\u001b[38;5;241;43m.\u001b[39;49m\u001b[43mrecommend\u001b[49m\u001b[43m(\u001b[49m\u001b[43muserid\u001b[49m\u001b[43m,\u001b[49m\u001b[43m \u001b[49m\u001b[43muser_item_val\u001b[49m\u001b[43m,\u001b[49m\u001b[43m \u001b[49m\u001b[43mN\u001b[49m\u001b[38;5;241;43m=\u001b[39;49m\u001b[43mN_als\u001b[49m\u001b[43m,\u001b[49m\u001b[43m \u001b[49m\u001b[43mfilter_already_liked_items\u001b[49m\u001b[38;5;241;43m=\u001b[39;49m\u001b[38;5;28;43;01mTrue\u001b[39;49;00m\u001b[43m)\u001b[49m\n\u001b[0;32m     10\u001b[0m \u001b[38;5;28mprint\u001b[39m(\u001b[38;5;124m\"\u001b[39m\u001b[38;5;130;01m\\n\u001b[39;00m\u001b[38;5;130;01m\\n\u001b[39;00m\u001b[38;5;124m--- \u001b[39m\u001b[38;5;132;01m%s\u001b[39;00m\u001b[38;5;124m seconds model_als ---\u001b[39m\u001b[38;5;124m\"\u001b[39m \u001b[38;5;241m%\u001b[39m (time\u001b[38;5;241m.\u001b[39mtime() \u001b[38;5;241m-\u001b[39m start_time))\n\u001b[0;32m     12\u001b[0m start_time \u001b[38;5;241m=\u001b[39m time\u001b[38;5;241m.\u001b[39mtime()\n",
      "File \u001b[1;32mc:\\python38\\lib\\site-packages\\implicit\\cpu\\matrix_factorization_base.py:79\u001b[0m, in \u001b[0;36mMatrixFactorizationBase.recommend\u001b[1;34m(self, userid, user_items, N, filter_already_liked_items, filter_items, recalculate_user, items)\u001b[0m\n\u001b[0;32m     76\u001b[0m     \u001b[38;5;28;01mif\u001b[39;00m items \u001b[38;5;129;01mis\u001b[39;00m \u001b[38;5;129;01mnot\u001b[39;00m \u001b[38;5;28;01mNone\u001b[39;00m:\n\u001b[0;32m     77\u001b[0m         filter_query_items \u001b[38;5;241m=\u001b[39m _filter_items_from_sparse_matrix(items, filter_query_items)\n\u001b[1;32m---> 79\u001b[0m ids, scores \u001b[38;5;241m=\u001b[39m \u001b[43mtopk\u001b[49m\u001b[43m(\u001b[49m\n\u001b[0;32m     80\u001b[0m \u001b[43m    \u001b[49m\u001b[43mitem_factors\u001b[49m\u001b[43m,\u001b[49m\n\u001b[0;32m     81\u001b[0m \u001b[43m    \u001b[49m\u001b[43muser\u001b[49m\u001b[43m,\u001b[49m\n\u001b[0;32m     82\u001b[0m \u001b[43m    \u001b[49m\u001b[43mN\u001b[49m\u001b[43m,\u001b[49m\n\u001b[0;32m     83\u001b[0m \u001b[43m    \u001b[49m\u001b[43mfilter_query_items\u001b[49m\u001b[38;5;241;43m=\u001b[39;49m\u001b[43mfilter_query_items\u001b[49m\u001b[43m,\u001b[49m\n\u001b[0;32m     84\u001b[0m \u001b[43m    \u001b[49m\u001b[43mfilter_items\u001b[49m\u001b[38;5;241;43m=\u001b[39;49m\u001b[43mfilter_items\u001b[49m\u001b[43m,\u001b[49m\n\u001b[0;32m     85\u001b[0m \u001b[43m    \u001b[49m\u001b[43mnum_threads\u001b[49m\u001b[38;5;241;43m=\u001b[39;49m\u001b[38;5;28;43mself\u001b[39;49m\u001b[38;5;241;43m.\u001b[39;49m\u001b[43mnum_threads\u001b[49m\u001b[43m,\u001b[49m\n\u001b[0;32m     86\u001b[0m \u001b[43m\u001b[49m\u001b[43m)\u001b[49m\n\u001b[0;32m     88\u001b[0m \u001b[38;5;28;01mif\u001b[39;00m np\u001b[38;5;241m.\u001b[39misscalar(userid):\n\u001b[0;32m     89\u001b[0m     ids, scores \u001b[38;5;241m=\u001b[39m ids[\u001b[38;5;241m0\u001b[39m], scores[\u001b[38;5;241m0\u001b[39m]\n",
      "File \u001b[1;32mtopk.pyx:41\u001b[0m, in \u001b[0;36mimplicit.cpu.topk.topk\u001b[1;34m()\u001b[0m\n",
      "File \u001b[1;32mtopk.pyx:51\u001b[0m, in \u001b[0;36mimplicit.cpu.topk._topk_batch\u001b[1;34m()\u001b[0m\n",
      "File \u001b[1;32mc:\\python38\\lib\\site-packages\\numpy\\core\\getlimits.py:459\u001b[0m, in \u001b[0;36mfinfo.__new__\u001b[1;34m(cls, dtype)\u001b[0m\n\u001b[0;32m    458\u001b[0m \u001b[38;5;28;01mdef\u001b[39;00m \u001b[38;5;21m__new__\u001b[39m(\u001b[38;5;28mcls\u001b[39m, dtype):\n\u001b[1;32m--> 459\u001b[0m     \u001b[38;5;28;01mtry\u001b[39;00m:\n\u001b[0;32m    460\u001b[0m         dtype \u001b[38;5;241m=\u001b[39m numeric\u001b[38;5;241m.\u001b[39mdtype(dtype)\n\u001b[0;32m    461\u001b[0m     \u001b[38;5;28;01mexcept\u001b[39;00m \u001b[38;5;167;01mTypeError\u001b[39;00m:\n\u001b[0;32m    462\u001b[0m         \u001b[38;5;66;03m# In case a float instance was given\u001b[39;00m\n",
      "\u001b[1;31mKeyboardInterrupt\u001b[0m: "
     ]
    }
   ],
   "source": [
    "for N in [1250, 1500, 1750, 2000]:\n",
    "    rec_als, rec_bpr, N_als, N_bpr = N_opt(model_als, model_bpr, N=N, q_bpr=0.015)\n",
    "    print(f'N: {N}, q_bpr: {q_bpr}, norm_all: False, preproc: minmax, coef_bpr: 3')\n",
    "    mrr = optimize(rec_als,\n",
    "                   rec_bpr,\n",
    "                   N_als,\n",
    "                   N_bpr,\n",
    "                   coef_bpr=3,\n",
    "                   norm_all=False,\n",
    "                   preproc='minmax')\n",
    "    ls_upd.append((mrr, N, 0.015, False, 'minmax', 3))"
   ]
  },
  {
   "cell_type": "code",
   "execution_count": 33,
   "id": "782550ce",
   "metadata": {},
   "outputs": [
    {
     "data": {
      "text/html": [
       "<div>\n",
       "<style scoped>\n",
       "    .dataframe tbody tr th:only-of-type {\n",
       "        vertical-align: middle;\n",
       "    }\n",
       "\n",
       "    .dataframe tbody tr th {\n",
       "        vertical-align: top;\n",
       "    }\n",
       "\n",
       "    .dataframe thead th {\n",
       "        text-align: right;\n",
       "    }\n",
       "</style>\n",
       "<table border=\"1\" class=\"dataframe\">\n",
       "  <thead>\n",
       "    <tr style=\"text-align: right;\">\n",
       "      <th></th>\n",
       "      <th>mrr</th>\n",
       "      <th>N</th>\n",
       "      <th>q_bpr</th>\n",
       "      <th>norm_all</th>\n",
       "      <th>preproc</th>\n",
       "      <th>coef_bpr</th>\n",
       "    </tr>\n",
       "  </thead>\n",
       "  <tbody>\n",
       "    <tr>\n",
       "      <th>1</th>\n",
       "      <td>0.034119</td>\n",
       "      <td>1500</td>\n",
       "      <td>0.015</td>\n",
       "      <td>False</td>\n",
       "      <td>minmax</td>\n",
       "      <td>3</td>\n",
       "    </tr>\n",
       "    <tr>\n",
       "      <th>0</th>\n",
       "      <td>0.034048</td>\n",
       "      <td>1250</td>\n",
       "      <td>0.015</td>\n",
       "      <td>False</td>\n",
       "      <td>minmax</td>\n",
       "      <td>3</td>\n",
       "    </tr>\n",
       "    <tr>\n",
       "      <th>2</th>\n",
       "      <td>0.033964</td>\n",
       "      <td>1750</td>\n",
       "      <td>0.015</td>\n",
       "      <td>False</td>\n",
       "      <td>minmax</td>\n",
       "      <td>3</td>\n",
       "    </tr>\n",
       "  </tbody>\n",
       "</table>\n",
       "</div>"
      ],
      "text/plain": [
       "        mrr     N  q_bpr  norm_all preproc  coef_bpr\n",
       "1  0.034119  1500  0.015     False  minmax         3\n",
       "0  0.034048  1250  0.015     False  minmax         3\n",
       "2  0.033964  1750  0.015     False  minmax         3"
      ]
     },
     "execution_count": 33,
     "metadata": {},
     "output_type": "execute_result"
    }
   ],
   "source": [
    "data_upd = pd.DataFrame(ls_upd, columns=['mrr', 'N', 'q_bpr', 'norm_all', 'preproc', 'coef_bpr'])\n",
    "data_upd.sort_values(by='mrr', ascending=False).head(10)"
   ]
  },
  {
   "cell_type": "code",
   "execution_count": null,
   "id": "98e4485b",
   "metadata": {},
   "outputs": [],
   "source": []
  }
 ],
 "metadata": {
  "kernelspec": {
   "display_name": "Python 3 (ipykernel)",
   "language": "python",
   "name": "python3"
  },
  "language_info": {
   "codemirror_mode": {
    "name": "ipython",
    "version": 3
   },
   "file_extension": ".py",
   "mimetype": "text/x-python",
   "name": "python",
   "nbconvert_exporter": "python",
   "pygments_lexer": "ipython3",
   "version": "3.8.9"
  }
 },
 "nbformat": 4,
 "nbformat_minor": 5
}
