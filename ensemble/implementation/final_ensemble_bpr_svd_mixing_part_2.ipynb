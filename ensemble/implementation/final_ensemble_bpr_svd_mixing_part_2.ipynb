{
 "cells": [
  {
   "cell_type": "code",
   "execution_count": 1,
   "id": "2007071c",
   "metadata": {},
   "outputs": [],
   "source": [
    "import numpy as np\n",
    "import pandas as pd\n",
    "from sklearn.preprocessing import scale\n",
    "from tqdm import tqdm\n",
    "from surprise import SVD\n",
    "import pickle"
   ]
  },
  {
   "cell_type": "code",
   "execution_count": 13,
   "id": "63277bc0",
   "metadata": {},
   "outputs": [],
   "source": [
    "df_path = r\"C:\\Users\\dlbol\\Downloads\\likes\\likes\\likes_data\\track_artists.csv\"\n",
    "train_path = r\"C:\\Users\\dlbol\\Downloads\\likes\\likes\\likes_data\\train\"\n",
    "test_path = r\"C:\\Users\\dlbol\\Downloads\\likes\\likes\\likes_data\\test\"\n",
    "pred_path = r\"C:\\Users\\dlbol\\Downloads\\likes\\likes\\likes_data\\ensemble_bpr_artist_svd_625_075_ss\"\n",
    "bpr_path = r\"C:\\Users\\dlbol\\Downloads\\likes\\likes\\likes_data\\final_bpr_model_backup\"\n",
    "svd_path = r\"C:\\Users\\dlbol\\Downloads\\likes\\likes\\likes_data\\final_svd_model_backup\"\n",
    "rec_bpr_path = r\"C:\\Users\\dlbol\\Downloads\\likes\\likes\\likes_data\\final_bpr_rec_625_backup\"\n",
    "pred_binary_path = r\"C:\\Users\\dlbol\\Downloads\\likes\\likes\\likes_data\\ensemble_bpr_artist_svd_625_075_ss_binary\""
   ]
  },
  {
   "cell_type": "code",
   "execution_count": 3,
   "id": "2d9f9f33",
   "metadata": {},
   "outputs": [
    {
     "name": "stdout",
     "output_type": "stream",
     "text": [
      "CPU times: total: 844 ms\n",
      "Wall time: 1.04 s\n"
     ]
    }
   ],
   "source": [
    "%%time\n",
    "\n",
    "rec = pickle.load(open(rec_bpr_path, \"rb\"))"
   ]
  },
  {
   "cell_type": "code",
   "execution_count": 4,
   "id": "af8724af",
   "metadata": {},
   "outputs": [
    {
     "data": {
      "text/plain": [
       "(2, 289914, 625)"
      ]
     },
     "execution_count": 4,
     "metadata": {},
     "output_type": "execute_result"
    }
   ],
   "source": [
    "rec.shape"
   ]
  },
  {
   "cell_type": "code",
   "execution_count": 5,
   "id": "acc06b05",
   "metadata": {},
   "outputs": [
    {
     "name": "stdout",
     "output_type": "stream",
     "text": [
      "CPU times: total: 78.1 ms\n",
      "Wall time: 58 ms\n"
     ]
    }
   ],
   "source": [
    "%%time\n",
    "df = pd.read_csv(df_path)\n",
    "df.index = df['trackId']"
   ]
  },
  {
   "cell_type": "code",
   "execution_count": 6,
   "id": "5a9ce192",
   "metadata": {
    "scrolled": true
   },
   "outputs": [
    {
     "name": "stdout",
     "output_type": "stream",
     "text": [
      "CPU times: total: 29.5 s\n",
      "Wall time: 31.6 s\n"
     ]
    }
   ],
   "source": [
    "%%time\n",
    "\n",
    "algo = pickle.load(open(svd_path, \"rb\"))"
   ]
  },
  {
   "cell_type": "markdown",
   "id": "03cdfdcc",
   "metadata": {},
   "source": [
    "N: 625, norm_all: False, preproc_model: standart, preproc_algo: standart, coef_art: 0.75"
   ]
  },
  {
   "cell_type": "code",
   "execution_count": 7,
   "id": "3833ec14",
   "metadata": {},
   "outputs": [
    {
     "name": "stdout",
     "output_type": "stream",
     "text": [
      "CPU times: total: 6.16 s\n",
      "Wall time: 6.74 s\n"
     ]
    }
   ],
   "source": [
    "%%time\n",
    "\n",
    "model_score = scale(rec[1], with_mean=True, with_std=True, axis=1)"
   ]
  },
  {
   "cell_type": "code",
   "execution_count": 8,
   "id": "7f77c076",
   "metadata": {},
   "outputs": [],
   "source": [
    "first_id_test = 1160084\n",
    "last_id_test = 1449997\n",
    "N = 625\n",
    "coef_art = 0.75"
   ]
  },
  {
   "cell_type": "code",
   "execution_count": 9,
   "id": "de220cf5",
   "metadata": {},
   "outputs": [
    {
     "name": "stderr",
     "output_type": "stream",
     "text": [
      "  0%|                                                                           | 160/289914 [00:09<4:03:10, 19.86it/s]c:\\python38\\lib\\site-packages\\sklearn\\preprocessing\\_data.py:258: UserWarning: Numerical issues were encountered when scaling the data and might not be solved. The standard deviation of the data is probably very close to 0. \n",
      "  warnings.warn(\n",
      "  4%|██▉                                                                      | 11677/289914 [10:39<3:54:36, 19.77it/s]c:\\python38\\lib\\site-packages\\sklearn\\preprocessing\\_data.py:258: UserWarning: Numerical issues were encountered when scaling the data and might not be solved. The standard deviation of the data is probably very close to 0. \n",
      "  warnings.warn(\n",
      " 14%|██████████                                                               | 39855/289914 [34:53<3:31:41, 19.69it/s]c:\\python38\\lib\\site-packages\\sklearn\\preprocessing\\_data.py:258: UserWarning: Numerical issues were encountered when scaling the data and might not be solved. The standard deviation of the data is probably very close to 0. \n",
      "  warnings.warn(\n",
      " 15%|███████████                                                              | 43815/289914 [38:29<4:07:10, 16.59it/s]c:\\python38\\lib\\site-packages\\sklearn\\preprocessing\\_data.py:258: UserWarning: Numerical issues were encountered when scaling the data and might not be solved. The standard deviation of the data is probably very close to 0. \n",
      "  warnings.warn(\n",
      " 17%|████████████▏                                                            | 48263/289914 [42:32<3:37:02, 18.56it/s]c:\\python38\\lib\\site-packages\\sklearn\\preprocessing\\_data.py:258: UserWarning: Numerical issues were encountered when scaling the data and might not be solved. The standard deviation of the data is probably very close to 0. \n",
      "  warnings.warn(\n",
      " 19%|█████████████▌                                                           | 53825/289914 [47:43<3:39:22, 17.94it/s]c:\\python38\\lib\\site-packages\\sklearn\\preprocessing\\_data.py:258: UserWarning: Numerical issues were encountered when scaling the data and might not be solved. The standard deviation of the data is probably very close to 0. \n",
      "  warnings.warn(\n",
      " 24%|████████████████▊                                                      | 68710/289914 [1:01:32<3:25:18, 17.96it/s]c:\\python38\\lib\\site-packages\\sklearn\\preprocessing\\_data.py:258: UserWarning: Numerical issues were encountered when scaling the data and might not be solved. The standard deviation of the data is probably very close to 0. \n",
      "  warnings.warn(\n",
      " 26%|██████████████████▍                                                    | 75299/289914 [1:07:41<3:32:10, 16.86it/s]c:\\python38\\lib\\site-packages\\sklearn\\preprocessing\\_data.py:258: UserWarning: Numerical issues were encountered when scaling the data and might not be solved. The standard deviation of the data is probably very close to 0. \n",
      "  warnings.warn(\n",
      " 36%|█████████████████████████▎                                            | 104996/289914 [1:34:43<3:02:43, 16.87it/s]c:\\python38\\lib\\site-packages\\sklearn\\preprocessing\\_data.py:258: UserWarning: Numerical issues were encountered when scaling the data and might not be solved. The standard deviation of the data is probably very close to 0. \n",
      "  warnings.warn(\n",
      " 38%|██████████████████████████▎                                           | 108922/289914 [1:38:22<2:46:16, 18.14it/s]c:\\python38\\lib\\site-packages\\sklearn\\preprocessing\\_data.py:258: UserWarning: Numerical issues were encountered when scaling the data and might not be solved. The standard deviation of the data is probably very close to 0. \n",
      "  warnings.warn(\n",
      " 43%|██████████████████████████████▏                                       | 125202/289914 [1:53:37<2:34:39, 17.75it/s]c:\\python38\\lib\\site-packages\\sklearn\\preprocessing\\_data.py:258: UserWarning: Numerical issues were encountered when scaling the data and might not be solved. The standard deviation of the data is probably very close to 0. \n",
      "  warnings.warn(\n",
      " 48%|█████████████████████████████████▍                                    | 138711/289914 [2:06:18<2:26:28, 17.20it/s]c:\\python38\\lib\\site-packages\\sklearn\\preprocessing\\_data.py:258: UserWarning: Numerical issues were encountered when scaling the data and might not be solved. The standard deviation of the data is probably very close to 0. \n",
      "  warnings.warn(\n",
      " 55%|██████████████████████████████████████▏                               | 158115/289914 [2:23:38<1:58:45, 18.50it/s]c:\\python38\\lib\\site-packages\\sklearn\\preprocessing\\_data.py:258: UserWarning: Numerical issues were encountered when scaling the data and might not be solved. The standard deviation of the data is probably very close to 0. \n",
      "  warnings.warn(\n",
      " 66%|█████████████████████████████████████████████▊                        | 189898/289914 [2:53:23<1:32:37, 18.00it/s]c:\\python38\\lib\\site-packages\\sklearn\\preprocessing\\_data.py:258: UserWarning: Numerical issues were encountered when scaling the data and might not be solved. The standard deviation of the data is probably very close to 0. \n",
      "  warnings.warn(\n",
      " 70%|█████████████████████████████████████████████████                     | 203285/289914 [3:06:00<1:27:40, 16.47it/s]c:\\python38\\lib\\site-packages\\sklearn\\preprocessing\\_data.py:258: UserWarning: Numerical issues were encountered when scaling the data and might not be solved. The standard deviation of the data is probably very close to 0. \n",
      "  warnings.warn(\n",
      " 77%|█████████████████████████████████████████████████████▋                | 222480/289914 [3:23:14<1:02:45, 17.91it/s]c:\\python38\\lib\\site-packages\\sklearn\\preprocessing\\_data.py:258: UserWarning: Numerical issues were encountered when scaling the data and might not be solved. The standard deviation of the data is probably very close to 0. \n",
      "  warnings.warn(\n",
      " 78%|████████████████████████████████████████████████████████▍               | 227135/289914 [3:27:32<56:37, 18.48it/s]c:\\python38\\lib\\site-packages\\sklearn\\preprocessing\\_data.py:258: UserWarning: Numerical issues were encountered when scaling the data and might not be solved. The standard deviation of the data is probably very close to 0. \n",
      "  warnings.warn(\n",
      " 86%|██████████████████████████████████████████████████████████████          | 249975/289914 [3:49:07<37:10, 17.91it/s]c:\\python38\\lib\\site-packages\\sklearn\\preprocessing\\_data.py:258: UserWarning: Numerical issues were encountered when scaling the data and might not be solved. The standard deviation of the data is probably very close to 0. \n",
      "  warnings.warn(\n",
      " 89%|███████████████████████████████████████████████████████████████▊        | 256744/289914 [3:55:30<29:33, 18.70it/s]c:\\python38\\lib\\site-packages\\sklearn\\preprocessing\\_data.py:258: UserWarning: Numerical issues were encountered when scaling the data and might not be solved. The standard deviation of the data is probably very close to 0. \n",
      "  warnings.warn(\n",
      "100%|████████████████████████████████████████████████████████████████████████| 289914/289914 [4:25:59<00:00, 18.17it/s]"
     ]
    },
    {
     "name": "stdout",
     "output_type": "stream",
     "text": [
      "CPU times: total: 4h 25min 31s\n",
      "Wall time: 4h 25min 59s\n"
     ]
    },
    {
     "name": "stderr",
     "output_type": "stream",
     "text": [
      "\n"
     ]
    }
   ],
   "source": [
    "%%time\n",
    "\n",
    "result = []\n",
    "user_id = first_id_test\n",
    "range_shape = rec[0].shape[0]\n",
    "for i in tqdm(range(range_shape)):\n",
    "    df_final = pd.DataFrame({'trak_id': rec[0][i], 'model_score': model_score[i]})\n",
    "    df_final = pd.merge(df_final, df, how=\"inner\", left_on='trak_id', right_on=df.index, sort=False)\n",
    "    df_final['artist_score'] = np.array([algo.predict(uid=user_id, iid=iid).est for iid in df_final.artistId.values])\n",
    "    df_final['artist_score'] = scale(df_final.artist_score.values, with_mean=True, with_std=True, axis=0)\n",
    "    df_final['final_score'] = df_final.model_score + df_final.artist_score * coef_art\n",
    "    final_rec = df_final.sort_values(by='final_score', ascending=False).trak_id.values[:100]\n",
    "    result.append(' '.join(map(str, final_rec)) + '\\n')\n",
    "    user_id += 1"
   ]
  },
  {
   "cell_type": "code",
   "execution_count": 10,
   "id": "a5fa59d3",
   "metadata": {},
   "outputs": [
    {
     "name": "stdout",
     "output_type": "stream",
     "text": [
      "CPU times: total: 1.16 s\n",
      "Wall time: 1.18 s\n"
     ]
    }
   ],
   "source": [
    "%%time\n",
    "\n",
    "with open(pred_path, 'w') as f:\n",
    "    f.writelines(result)"
   ]
  },
  {
   "cell_type": "code",
   "execution_count": 12,
   "id": "aae96858",
   "metadata": {},
   "outputs": [
    {
     "data": {
      "text/plain": [
       "289914"
      ]
     },
     "execution_count": 12,
     "metadata": {},
     "output_type": "execute_result"
    }
   ],
   "source": [
    "len(result)"
   ]
  },
  {
   "cell_type": "code",
   "execution_count": 14,
   "id": "574a4aac",
   "metadata": {},
   "outputs": [],
   "source": [
    "pickle.dump(result, open(pred_binary_path, \"wb\"))"
   ]
  },
  {
   "cell_type": "code",
   "execution_count": null,
   "id": "c4680960",
   "metadata": {},
   "outputs": [],
   "source": []
  }
 ],
 "metadata": {
  "kernelspec": {
   "display_name": "Python 3 (ipykernel)",
   "language": "python",
   "name": "python3"
  },
  "language_info": {
   "codemirror_mode": {
    "name": "ipython",
    "version": 3
   },
   "file_extension": ".py",
   "mimetype": "text/x-python",
   "name": "python",
   "nbconvert_exporter": "python",
   "pygments_lexer": "ipython3",
   "version": "3.8.9"
  }
 },
 "nbformat": 4,
 "nbformat_minor": 5
}
