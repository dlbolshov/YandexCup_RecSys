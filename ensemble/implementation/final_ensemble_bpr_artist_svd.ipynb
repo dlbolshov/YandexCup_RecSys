{
 "cells": [
  {
   "cell_type": "code",
   "execution_count": 1,
   "id": "2007071c",
   "metadata": {},
   "outputs": [
    {
     "name": "stderr",
     "output_type": "stream",
     "text": [
      "c:\\python38\\lib\\site-packages\\tqdm\\auto.py:22: TqdmWarning: IProgress not found. Please update jupyter and ipywidgets. See https://ipywidgets.readthedocs.io/en/stable/user_install.html\n",
      "  from .autonotebook import tqdm as notebook_tqdm\n"
     ]
    }
   ],
   "source": [
    "import numpy as np\n",
    "import pandas as pd\n",
    "from scipy.sparse import csr_matrix\n",
    "from sklearn.preprocessing import minmax_scale, scale\n",
    "from tqdm import tqdm\n",
    "import time\n",
    "import implicit\n",
    "from collections import Counter\n",
    "from surprise import Dataset, Reader\n",
    "from surprise import SVD\n",
    "import pickle"
   ]
  },
  {
   "cell_type": "code",
   "execution_count": 2,
   "id": "63277bc0",
   "metadata": {},
   "outputs": [],
   "source": [
    "df_path = r\"C:\\Users\\dlbol\\Downloads\\likes\\likes\\likes_data\\track_artists.csv\"\n",
    "train_path = r\"C:\\Users\\dlbol\\Downloads\\likes\\likes\\likes_data\\train\"\n",
    "test_path = r\"C:\\Users\\dlbol\\Downloads\\likes\\likes\\likes_data\\test\"\n",
    "pred_path = r\"C:\\Users\\dlbol\\Downloads\\likes\\likes\\likes_data\\ensemble_bpr_artist_svd_625_075_ss\"\n",
    "bpr_path = r\"C:\\Users\\dlbol\\Downloads\\likes\\likes\\likes_data\\final_bpr_model_backup\"\n",
    "svd_path = r\"C:\\Users\\dlbol\\Downloads\\likes\\likes\\likes_data\\final_svd_model_backup\""
   ]
  },
  {
   "cell_type": "code",
   "execution_count": 3,
   "id": "acc06b05",
   "metadata": {},
   "outputs": [
    {
     "name": "stdout",
     "output_type": "stream",
     "text": [
      "CPU times: total: 46.9 ms\n",
      "Wall time: 56 ms\n"
     ]
    }
   ],
   "source": [
    "%%time\n",
    "df = pd.read_csv(df_path)\n",
    "df.index = df['trackId']"
   ]
  },
  {
   "cell_type": "code",
   "execution_count": 4,
   "id": "f73733e5",
   "metadata": {},
   "outputs": [
    {
     "name": "stderr",
     "output_type": "stream",
     "text": [
      "100%|██████████████████████████████████████████████████████████████████████| 1160084/1160084 [05:12<00:00, 3713.79it/s]\n",
      "100%|████████████████████████████████████████████████████████████████████████| 289914/289914 [01:18<00:00, 3708.61it/s]"
     ]
    },
    {
     "name": "stdout",
     "output_type": "stream",
     "text": [
      "CPU times: total: 6min 34s\n",
      "Wall time: 6min 32s\n"
     ]
    },
    {
     "name": "stderr",
     "output_type": "stream",
     "text": [
      "\n"
     ]
    }
   ],
   "source": [
    "%%time\n",
    "\n",
    "artist_coord = []\n",
    "list_coord = []\n",
    "idx = 0\n",
    "\n",
    "with open(train_path) as f:\n",
    "    lines = f.readlines()\n",
    "    for line in tqdm(lines):\n",
    "        tracks = line.strip().split(' ')\n",
    "        \n",
    "        tracks_arr = np.array(tracks).astype(np.int32)\n",
    "        artist_arr = np.array([df.at[track, 'artistId'] for track in tracks_arr])\n",
    "        artist_cnt = Counter(artist_arr)\n",
    "        artist_coord_user = [(idx, i[0], i[1]) for i in artist_cnt.items()]\n",
    "        artist_coord.extend(artist_coord_user)\n",
    "        \n",
    "        for track in tracks:\n",
    "            list_coord.append((idx, track))\n",
    "        idx += 1\n",
    "        \n",
    "first_id_test = idx\n",
    "\n",
    "with open(test_path) as f:\n",
    "    lines = f.readlines()\n",
    "    for line in tqdm(lines):\n",
    "        tracks = line.strip().split(' ')\n",
    "        \n",
    "        tracks_arr = np.array(tracks).astype(np.int32)\n",
    "        artist_arr = np.array([df.at[track, 'artistId'] for track in tracks_arr])\n",
    "        artist_cnt = Counter(artist_arr)\n",
    "        artist_coord_user = [(idx, i[0], i[1]) for i in artist_cnt.items()]\n",
    "        artist_coord.extend(artist_coord_user)\n",
    "        \n",
    "        for track in tracks:\n",
    "            list_coord.append((idx, track))\n",
    "        idx += 1\n",
    "        \n",
    "last_id_test = idx - 1"
   ]
  },
  {
   "cell_type": "code",
   "execution_count": 5,
   "id": "7292284f",
   "metadata": {},
   "outputs": [
    {
     "name": "stdout",
     "output_type": "stream",
     "text": [
      "CPU times: total: 6min 18s\n",
      "Wall time: 6min 18s\n"
     ]
    }
   ],
   "source": [
    "%%time\n",
    "\n",
    "data = pd.DataFrame(artist_coord, columns=['uid', 'iid', 'rating_row'])\n",
    "data['rating_max'] = data.rating_row / data.groupby('uid')['rating_row'].transform('max')"
   ]
  },
  {
   "cell_type": "code",
   "execution_count": 6,
   "id": "7eb432cf",
   "metadata": {},
   "outputs": [
    {
     "name": "stdout",
     "output_type": "stream",
     "text": [
      "CPU times: total: 1min 17s\n",
      "Wall time: 1min 17s\n"
     ]
    }
   ],
   "source": [
    "%%time\n",
    "\n",
    "arr_rows = np.array([i[0] for i in list_coord])\n",
    "arr_cols = np.array([i[1] for i in list_coord]).astype(int)\n",
    "ones = np.ones(arr_rows.shape[0])\n",
    "user_item = csr_matrix((ones, (arr_rows, arr_cols)), dtype=int)"
   ]
  },
  {
   "cell_type": "code",
   "execution_count": 7,
   "id": "0d71a1e7",
   "metadata": {},
   "outputs": [
    {
     "name": "stdout",
     "output_type": "stream",
     "text": [
      "CPU times: total: 7min 50s\n",
      "Wall time: 10min 58s\n"
     ]
    }
   ],
   "source": [
    "%%time\n",
    "\n",
    "reader = Reader(rating_scale=(0, 1))\n",
    "dataset = Dataset.load_from_df(data[['uid', 'iid', 'rating_max']], reader)\n",
    "trainset = dataset.build_full_trainset()"
   ]
  },
  {
   "cell_type": "code",
   "execution_count": 8,
   "id": "9a07182e",
   "metadata": {},
   "outputs": [],
   "source": [
    "def N_opt(model, N=100):\n",
    "    \n",
    "    userid = np.arange(last_id_test + 1)\n",
    "\n",
    "    start_time = time.time()\n",
    "    rec = model.recommend(userid, user_item, N=N, filter_already_liked_items=True)\n",
    "    rec = rec[:, first_id_test:]\n",
    "    print(\"\\n--- %s seconds model_bpr ---\" % (time.time() - start_time))\n",
    "    \n",
    "    return rec, N"
   ]
  },
  {
   "cell_type": "code",
   "execution_count": 10,
   "id": "f9ca14dc",
   "metadata": {},
   "outputs": [],
   "source": [
    "def optimize(algo,\n",
    "             rec,\n",
    "             N,\n",
    "             coef_art=1,\n",
    "             norm_all=True,\n",
    "             preproc_model=None,\n",
    "             preproc_algo=None,\n",
    "             impossible=False):\n",
    "        \n",
    "    if preproc_model is None:\n",
    "        model_score = rec[1]\n",
    "    else:\n",
    "        if norm_all:\n",
    "            if preproc_model == 'minmax':\n",
    "                model_score = minmax_scale(rec[1].flatten(), feature_range=(0, 1), axis=0).reshape((-1, N))\n",
    "            if preproc_model == 'standart':\n",
    "                model_score = scale(rec[1].flatten(), with_mean=True, with_std=True, axis=0).reshape((-1, N))    \n",
    "        else:\n",
    "            if preproc_model == 'minmax':\n",
    "                model_score = minmax_scale(rec[1], feature_range=(0, 1), axis=1)   \n",
    "            if preproc_model == 'standart':\n",
    "                model_score = scale(rec[1], with_mean=True, with_std=True, axis=1)     \n",
    "\n",
    "    result = []\n",
    "    user_id = first_id_test\n",
    "    for i in tqdm(range(rec[0].shape[0])):\n",
    "        if impossible:\n",
    "            user_id = i\n",
    "        df_final = pd.DataFrame({'trak_id': rec[0][i], 'model_score': model_score[i]})\n",
    "        df_final = pd.merge(df_final, df, how=\"inner\", left_on='trak_id', right_on=df.index, sort=False)\n",
    "        df_final['artist_score'] = np.array([algo.predict(uid=user_id, iid=iid).est for iid in df_final.artistId.values])\n",
    "        if preproc_algo == 'minmax':\n",
    "            df_final['artist_score'] = minmax_scale(df_final.artist_score.values, feature_range=(0, 1), axis=0)\n",
    "        if preproc_algo == 'standart':\n",
    "            df_final['artist_score'] = scale(df_final.artist_score.values, with_mean=True, with_std=True, axis=0)\n",
    "        df_final['final_score'] = df_final.model_score + df_final.artist_score * coef_art\n",
    "        final_rec = df_final.sort_values(by='final_score', ascending=False).trak_id.values[:100]\n",
    "        result.append(' '.join(map(str, final_rec)) + '\\n')\n",
    "        user_id += 1\n",
    "\n",
    "    return result"
   ]
  },
  {
   "cell_type": "code",
   "execution_count": null,
   "id": "421c9dfc",
   "metadata": {},
   "outputs": [
    {
     "name": "stdout",
     "output_type": "stream",
     "text": [
      "algo.fit:\n",
      "Processing epoch 0\n",
      "Processing epoch 1\n",
      "Processing epoch 2\n",
      "Processing epoch 3\n",
      "Processing epoch 4\n",
      "Processing epoch 5\n"
     ]
    }
   ],
   "source": [
    "%%time\n",
    "\n",
    "algo = SVD(n_factors=300, \n",
    "            n_epochs=770, \n",
    "            biased=False, \n",
    "            init_mean=0, \n",
    "            init_std_dev=0.1, \n",
    "            lr_bu=0.01625, lr_bi=0.01625, lr_pu=0.01625, lr_qi=0.00005, \n",
    "            reg_bu=0.005, reg_bi=0.005, reg_pu=0.05, reg_qi=0.001,\n",
    "            verbose=True, random_state=42)\n",
    "\n",
    "print('algo.fit:')\n",
    "algo.fit(trainset)"
   ]
  },
  {
   "cell_type": "code",
   "execution_count": null,
   "id": "5a9ce192",
   "metadata": {
    "scrolled": true
   },
   "outputs": [],
   "source": [
    "%%time\n",
    "\n",
    "pickle.dump(algo, open(svd_path, \"wb\"))"
   ]
  },
  {
   "cell_type": "code",
   "execution_count": null,
   "id": "03fae8fa",
   "metadata": {},
   "outputs": [],
   "source": [
    "model = implicit.bpr.BayesianPersonalizedRanking(factors=400, \n",
    "                                                 learning_rate=0.075,\n",
    "                                                 regularization=0.0025,\n",
    "                                                 iterations=950,\n",
    "                                                 verify_negative_samples=True,\n",
    "                                                 random_state=42)   \n",
    "print('model_bpr.fit:')\n",
    "model.fit(user_item)"
   ]
  },
  {
   "cell_type": "code",
   "execution_count": null,
   "id": "e9088da2",
   "metadata": {},
   "outputs": [],
   "source": [
    "%%time\n",
    "\n",
    "pickle.dump(model, open(bpr_path, \"wb\"))"
   ]
  },
  {
   "cell_type": "markdown",
   "id": "6f5260e8",
   "metadata": {},
   "source": [
    "N: 625, norm_all: False, preproc_model: standart, preproc_algo: standart, coef_art: 0.75"
   ]
  },
  {
   "cell_type": "code",
   "execution_count": null,
   "id": "2d9f9f33",
   "metadata": {},
   "outputs": [],
   "source": [
    "rec, N = N_opt(model, N=625)"
   ]
  },
  {
   "cell_type": "code",
   "execution_count": null,
   "id": "2493a767",
   "metadata": {},
   "outputs": [],
   "source": [
    "result = optimize(algo,\n",
    "                  rec,\n",
    "                  N,\n",
    "                  coef_art=0.75,\n",
    "                  norm_all=False,\n",
    "                  preproc_model='standart',\n",
    "                  preproc_algo='standart')"
   ]
  },
  {
   "cell_type": "code",
   "execution_count": null,
   "id": "a5fa59d3",
   "metadata": {},
   "outputs": [],
   "source": [
    "%%time\n",
    "\n",
    "with open(pred_path, 'w') as f:\n",
    "    f.writelines(result)"
   ]
  }
 ],
 "metadata": {
  "kernelspec": {
   "display_name": "Python 3 (ipykernel)",
   "language": "python",
   "name": "python3"
  },
  "language_info": {
   "codemirror_mode": {
    "name": "ipython",
    "version": 3
   },
   "file_extension": ".py",
   "mimetype": "text/x-python",
   "name": "python",
   "nbconvert_exporter": "python",
   "pygments_lexer": "ipython3",
   "version": "3.8.9"
  }
 },
 "nbformat": 4,
 "nbformat_minor": 5
}
