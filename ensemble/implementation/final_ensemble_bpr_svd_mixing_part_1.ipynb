{
 "cells": [
  {
   "cell_type": "code",
   "execution_count": 1,
   "id": "2007071c",
   "metadata": {},
   "outputs": [
    {
     "name": "stderr",
     "output_type": "stream",
     "text": [
      "c:\\python38\\lib\\site-packages\\tqdm\\auto.py:22: TqdmWarning: IProgress not found. Please update jupyter and ipywidgets. See https://ipywidgets.readthedocs.io/en/stable/user_install.html\n",
      "  from .autonotebook import tqdm as notebook_tqdm\n"
     ]
    }
   ],
   "source": [
    "import numpy as np\n",
    "import pandas as pd\n",
    "from scipy.sparse import csr_matrix\n",
    "from sklearn.preprocessing import minmax_scale, scale\n",
    "from tqdm import tqdm\n",
    "import time\n",
    "import implicit\n",
    "from collections import Counter\n",
    "from surprise import Dataset, Reader\n",
    "from surprise import SVD\n",
    "import pickle"
   ]
  },
  {
   "cell_type": "code",
   "execution_count": 29,
   "id": "63277bc0",
   "metadata": {},
   "outputs": [],
   "source": [
    "df_path = r\"C:\\Users\\dlbol\\Downloads\\likes\\likes\\likes_data\\track_artists.csv\"\n",
    "train_path = r\"C:\\Users\\dlbol\\Downloads\\likes\\likes\\likes_data\\train\"\n",
    "test_path = r\"C:\\Users\\dlbol\\Downloads\\likes\\likes\\likes_data\\test\"\n",
    "pred_path = r\"C:\\Users\\dlbol\\Downloads\\likes\\likes\\likes_data\\ensemble_bpr_artist_svd_625_075_ss\"\n",
    "bpr_path = r\"C:\\Users\\dlbol\\Downloads\\likes\\likes\\likes_data\\final_bpr_model_backup\"\n",
    "svd_path = r\"C:\\Users\\dlbol\\Downloads\\likes\\likes\\likes_data\\final_svd_model_backup\"\n",
    "rec_bpr_path = r\"C:\\Users\\dlbol\\Downloads\\likes\\likes\\likes_data\\final_bpr_rec_625_backup\""
   ]
  },
  {
   "cell_type": "code",
   "execution_count": 3,
   "id": "7f77c076",
   "metadata": {},
   "outputs": [],
   "source": [
    "first_id_test = 1160084\n",
    "last_id_test = 1449997"
   ]
  },
  {
   "cell_type": "code",
   "execution_count": 4,
   "id": "9a07182e",
   "metadata": {},
   "outputs": [],
   "source": [
    "def N_opt(model, N=100):\n",
    "    \n",
    "    userid = np.arange(last_id_test + 1)\n",
    "\n",
    "    start_time = time.time()\n",
    "    rec = model.recommend(userid, user_item, N=N, filter_already_liked_items=True)\n",
    "    rec = rec[:, first_id_test:]\n",
    "    print(\"\\n--- %s seconds model_bpr ---\" % (time.time() - start_time))\n",
    "    \n",
    "    return rec, N"
   ]
  },
  {
   "cell_type": "code",
   "execution_count": 5,
   "id": "f9ca14dc",
   "metadata": {},
   "outputs": [],
   "source": [
    "def optimize(algo,\n",
    "             rec,\n",
    "             N,\n",
    "             coef_art=1,\n",
    "             norm_all=True,\n",
    "             preproc_model=None,\n",
    "             preproc_algo=None,\n",
    "             impossible=False):\n",
    "        \n",
    "    if preproc_model is None:\n",
    "        model_score = rec[1]\n",
    "    else:\n",
    "        if norm_all:\n",
    "            if preproc_model == 'minmax':\n",
    "                model_score = minmax_scale(rec[1].flatten(), feature_range=(0, 1), axis=0).reshape((-1, N))\n",
    "            if preproc_model == 'standart':\n",
    "                model_score = scale(rec[1].flatten(), with_mean=True, with_std=True, axis=0).reshape((-1, N))    \n",
    "        else:\n",
    "            if preproc_model == 'minmax':\n",
    "                model_score = minmax_scale(rec[1], feature_range=(0, 1), axis=1)   \n",
    "            if preproc_model == 'standart':\n",
    "                model_score = scale(rec[1], with_mean=True, with_std=True, axis=1)     \n",
    "\n",
    "    result = []\n",
    "    user_id = first_id_test\n",
    "    for i in tqdm(range(rec[0].shape[0])):\n",
    "        if impossible:\n",
    "            user_id = i\n",
    "        df_final = pd.DataFrame({'trak_id': rec[0][i], 'model_score': model_score[i]})\n",
    "        df_final = pd.merge(df_final, df, how=\"inner\", left_on='trak_id', right_on=df.index, sort=False)\n",
    "        df_final['artist_score'] = np.array([algo.predict(uid=user_id, iid=iid).est for iid in df_final.artistId.values])\n",
    "        if preproc_algo == 'minmax':\n",
    "            df_final['artist_score'] = minmax_scale(df_final.artist_score.values, feature_range=(0, 1), axis=0)\n",
    "        if preproc_algo == 'standart':\n",
    "            df_final['artist_score'] = scale(df_final.artist_score.values, with_mean=True, with_std=True, axis=0)\n",
    "        df_final['final_score'] = df_final.model_score + df_final.artist_score * coef_art\n",
    "        final_rec = df_final.sort_values(by='final_score', ascending=False).trak_id.values[:100]\n",
    "        result.append(' '.join(map(str, final_rec)) + '\\n')\n",
    "        user_id += 1\n",
    "\n",
    "    return result"
   ]
  },
  {
   "cell_type": "code",
   "execution_count": 6,
   "id": "072ddc1a",
   "metadata": {},
   "outputs": [
    {
     "name": "stderr",
     "output_type": "stream",
     "text": [
      "100%|█████████████████████████████████████████████████████████████████████| 1160084/1160084 [00:13<00:00, 87857.88it/s]\n",
      "100%|███████████████████████████████████████████████████████████████████████| 289914/289914 [00:05<00:00, 53748.30it/s]"
     ]
    },
    {
     "name": "stdout",
     "output_type": "stream",
     "text": [
      "CPU times: total: 20 s\n",
      "Wall time: 20.1 s\n"
     ]
    },
    {
     "name": "stderr",
     "output_type": "stream",
     "text": [
      "\n"
     ]
    }
   ],
   "source": [
    "%%time\n",
    "\n",
    "list_coord = []\n",
    "idx = 0\n",
    "\n",
    "with open(train_path) as f:\n",
    "    lines = f.readlines()\n",
    "    for line in tqdm(lines):\n",
    "        tracks = line.strip().split(' ')\n",
    "        for track in tracks:\n",
    "            list_coord.append((idx, track))\n",
    "        idx += 1\n",
    "        \n",
    "first_id_test = idx\n",
    "\n",
    "with open(test_path) as f:\n",
    "    lines = f.readlines()\n",
    "    for line in tqdm(lines):\n",
    "        tracks = line.strip().split(' ')        \n",
    "        for track in tracks:\n",
    "            list_coord.append((idx, track))\n",
    "        idx += 1\n",
    "        \n",
    "last_id_test = idx - 1"
   ]
  },
  {
   "cell_type": "code",
   "execution_count": 7,
   "id": "2d61f6d3",
   "metadata": {},
   "outputs": [
    {
     "name": "stdout",
     "output_type": "stream",
     "text": [
      "CPU times: total: 1min 6s\n",
      "Wall time: 1min 6s\n"
     ]
    }
   ],
   "source": [
    "%%time\n",
    "\n",
    "arr_rows = np.array([i[0] for i in list_coord])\n",
    "arr_cols = np.array([i[1] for i in list_coord]).astype(int)\n",
    "ones = np.ones(arr_rows.shape[0])\n",
    "user_item = csr_matrix((ones, (arr_rows, arr_cols)), dtype=int)"
   ]
  },
  {
   "cell_type": "code",
   "execution_count": 8,
   "id": "3e4fd2e6",
   "metadata": {},
   "outputs": [],
   "source": [
    "del arr_rows\n",
    "del arr_cols\n",
    "del ones\n",
    "del list_coord"
   ]
  },
  {
   "cell_type": "code",
   "execution_count": 9,
   "id": "09c2517e",
   "metadata": {},
   "outputs": [
    {
     "data": {
      "text/plain": [
       "(1160084, 1449997)"
      ]
     },
     "execution_count": 9,
     "metadata": {},
     "output_type": "execute_result"
    }
   ],
   "source": [
    "first_id_test, last_id_test"
   ]
  },
  {
   "cell_type": "code",
   "execution_count": 10,
   "id": "e9088da2",
   "metadata": {},
   "outputs": [
    {
     "name": "stdout",
     "output_type": "stream",
     "text": [
      "CPU times: total: 891 ms\n",
      "Wall time: 898 ms\n"
     ]
    }
   ],
   "source": [
    "%%time\n",
    "\n",
    "model = pickle.load(open(bpr_path, \"rb\"))"
   ]
  },
  {
   "cell_type": "markdown",
   "id": "6f5260e8",
   "metadata": {},
   "source": [
    "N: 625, norm_all: False, preproc_model: standart, preproc_algo: standart, coef_art: 0.75"
   ]
  },
  {
   "cell_type": "code",
   "execution_count": 12,
   "id": "26f77efc",
   "metadata": {},
   "outputs": [
    {
     "data": {
      "text/plain": [
       "1160084"
      ]
     },
     "execution_count": 12,
     "metadata": {},
     "output_type": "execute_result"
    }
   ],
   "source": [
    "first_id_test"
   ]
  },
  {
   "cell_type": "code",
   "execution_count": 13,
   "id": "40a3af4e",
   "metadata": {},
   "outputs": [
    {
     "name": "stdout",
     "output_type": "stream",
     "text": [
      "CPU times: total: 16h 10min 8s\n",
      "Wall time: 2h 9min 38s\n"
     ]
    }
   ],
   "source": [
    "%%time\n",
    "\n",
    "N = 625\n",
    "userid = np.arange(last_id_test + 1)\n",
    "rec = model.recommend(userid, user_item, N=N, filter_already_liked_items=True)"
   ]
  },
  {
   "cell_type": "code",
   "execution_count": 15,
   "id": "acfd74d2",
   "metadata": {},
   "outputs": [],
   "source": [
    "del model\n",
    "del user_item"
   ]
  },
  {
   "cell_type": "code",
   "execution_count": 23,
   "id": "2d9f9f33",
   "metadata": {},
   "outputs": [
    {
     "name": "stdout",
     "output_type": "stream",
     "text": [
      "CPU times: total: 1.08 s\n",
      "Wall time: 1.19 s\n"
     ]
    }
   ],
   "source": [
    "%%time\n",
    "\n",
    "rec = np.array([rec[0][first_id_test:], rec[1][first_id_test:]])"
   ]
  },
  {
   "cell_type": "code",
   "execution_count": 28,
   "id": "9df9ca5d",
   "metadata": {},
   "outputs": [
    {
     "data": {
      "text/plain": [
       "(625,)"
      ]
     },
     "execution_count": 28,
     "metadata": {},
     "output_type": "execute_result"
    }
   ],
   "source": [
    "rec[0][1].shape"
   ]
  },
  {
   "cell_type": "code",
   "execution_count": 30,
   "id": "4c9300f1",
   "metadata": {},
   "outputs": [],
   "source": [
    "pickle.dump(rec, open(rec_bpr_path, \"wb\"))"
   ]
  },
  {
   "cell_type": "code",
   "execution_count": 31,
   "id": "acc06b05",
   "metadata": {},
   "outputs": [
    {
     "name": "stdout",
     "output_type": "stream",
     "text": [
      "CPU times: total: 78.1 ms\n",
      "Wall time: 92 ms\n"
     ]
    }
   ],
   "source": [
    "%%time\n",
    "df = pd.read_csv(df_path)\n",
    "df.index = df['trackId']"
   ]
  },
  {
   "cell_type": "code",
   "execution_count": 32,
   "id": "5a9ce192",
   "metadata": {
    "scrolled": true
   },
   "outputs": [
    {
     "name": "stdout",
     "output_type": "stream",
     "text": [
      "CPU times: total: 2min 4s\n",
      "Wall time: 2min 40s\n"
     ]
    }
   ],
   "source": [
    "%%time\n",
    "\n",
    "algo = pickle.load(open(svd_path, \"rb\"))"
   ]
  },
  {
   "cell_type": "code",
   "execution_count": 18,
   "id": "2493a767",
   "metadata": {},
   "outputs": [
    {
     "name": "stderr",
     "output_type": "stream",
     "text": [
      "c:\\python38\\lib\\site-packages\\sklearn\\preprocessing\\_data.py:239: UserWarning: Numerical issues were encountered when centering the data and might not be solved. Dataset may contain too large values. You may need to prescale your features.\n",
      "  warnings.warn(\n",
      "c:\\python38\\lib\\site-packages\\sklearn\\preprocessing\\_data.py:258: UserWarning: Numerical issues were encountered when scaling the data and might not be solved. The standard deviation of the data is probably very close to 0. \n",
      "  warnings.warn(\n",
      "  2%|█▎                                                                     | 27201/1449998 [18:12<16:40:27, 23.70it/s]c:\\python38\\lib\\site-packages\\sklearn\\preprocessing\\_data.py:258: UserWarning: Numerical issues were encountered when scaling the data and might not be solved. The standard deviation of the data is probably very close to 0. \n",
      "  warnings.warn(\n",
      "  4%|██▌                                                                    | 51855/1449998 [34:36<15:54:37, 24.41it/s]c:\\python38\\lib\\site-packages\\sklearn\\preprocessing\\_data.py:258: UserWarning: Numerical issues were encountered when scaling the data and might not be solved. The standard deviation of the data is probably very close to 0. \n",
      "  warnings.warn(\n",
      "  4%|██▋                                                                    | 53901/1449998 [35:50<15:36:26, 24.85it/s]c:\\python38\\lib\\site-packages\\sklearn\\preprocessing\\_data.py:258: UserWarning: Numerical issues were encountered when scaling the data and might not be solved. The standard deviation of the data is probably very close to 0. \n",
      "  warnings.warn(\n",
      "  5%|███▊                                                                   | 76746/1449998 [52:09<19:04:58, 19.99it/s]c:\\python38\\lib\\site-packages\\sklearn\\preprocessing\\_data.py:258: UserWarning: Numerical issues were encountered when scaling the data and might not be solved. The standard deviation of the data is probably very close to 0. \n",
      "  warnings.warn(\n",
      "  5%|███▊                                                                   | 77578/1449998 [52:48<18:24:34, 20.71it/s]c:\\python38\\lib\\site-packages\\sklearn\\preprocessing\\_data.py:258: UserWarning: Numerical issues were encountered when scaling the data and might not be solved. The standard deviation of the data is probably very close to 0. \n",
      "  warnings.warn(\n",
      "  7%|████▌                                                                | 97045/1449998 [1:08:15<19:56:55, 18.84it/s]c:\\python38\\lib\\site-packages\\sklearn\\preprocessing\\_data.py:258: UserWarning: Numerical issues were encountered when scaling the data and might not be solved. The standard deviation of the data is probably very close to 0. \n",
      "  warnings.warn(\n",
      "  7%|████▉                                                               | 106517/1449998 [1:15:54<19:19:47, 19.31it/s]c:\\python38\\lib\\site-packages\\sklearn\\preprocessing\\_data.py:258: UserWarning: Numerical issues were encountered when scaling the data and might not be solved. The standard deviation of the data is probably very close to 0. \n",
      "  warnings.warn(\n",
      "  8%|█████▌                                                              | 119482/1449998 [1:25:37<15:45:48, 23.45it/s]c:\\python38\\lib\\site-packages\\sklearn\\preprocessing\\_data.py:258: UserWarning: Numerical issues were encountered when scaling the data and might not be solved. The standard deviation of the data is probably very close to 0. \n",
      "  warnings.warn(\n",
      "  8%|█████▋                                                              | 122096/1449998 [1:27:17<13:45:05, 26.82it/s]c:\\python38\\lib\\site-packages\\sklearn\\preprocessing\\_data.py:258: UserWarning: Numerical issues were encountered when scaling the data and might not be solved. The standard deviation of the data is probably very close to 0. \n",
      "  warnings.warn(\n",
      " 11%|███████▎                                                            | 154632/1449998 [1:49:44<15:19:16, 23.49it/s]\n"
     ]
    },
    {
     "ename": "KeyboardInterrupt",
     "evalue": "",
     "output_type": "error",
     "traceback": [
      "\u001b[1;31m---------------------------------------------------------------------------\u001b[0m",
      "\u001b[1;31mKeyboardInterrupt\u001b[0m                         Traceback (most recent call last)",
      "Cell \u001b[1;32mIn [18], line 1\u001b[0m\n\u001b[1;32m----> 1\u001b[0m result \u001b[38;5;241m=\u001b[39m \u001b[43moptimize\u001b[49m\u001b[43m(\u001b[49m\u001b[43malgo\u001b[49m\u001b[43m,\u001b[49m\n\u001b[0;32m      2\u001b[0m \u001b[43m                  \u001b[49m\u001b[43mrec\u001b[49m\u001b[43m,\u001b[49m\n\u001b[0;32m      3\u001b[0m \u001b[43m                  \u001b[49m\u001b[43mN\u001b[49m\u001b[43m,\u001b[49m\n\u001b[0;32m      4\u001b[0m \u001b[43m                  \u001b[49m\u001b[43mcoef_art\u001b[49m\u001b[38;5;241;43m=\u001b[39;49m\u001b[38;5;241;43m0.75\u001b[39;49m\u001b[43m,\u001b[49m\n\u001b[0;32m      5\u001b[0m \u001b[43m                  \u001b[49m\u001b[43mnorm_all\u001b[49m\u001b[38;5;241;43m=\u001b[39;49m\u001b[38;5;28;43;01mFalse\u001b[39;49;00m\u001b[43m,\u001b[49m\n\u001b[0;32m      6\u001b[0m \u001b[43m                  \u001b[49m\u001b[43mpreproc_model\u001b[49m\u001b[38;5;241;43m=\u001b[39;49m\u001b[38;5;124;43m'\u001b[39;49m\u001b[38;5;124;43mstandart\u001b[39;49m\u001b[38;5;124;43m'\u001b[39;49m\u001b[43m,\u001b[49m\n\u001b[0;32m      7\u001b[0m \u001b[43m                  \u001b[49m\u001b[43mpreproc_algo\u001b[49m\u001b[38;5;241;43m=\u001b[39;49m\u001b[38;5;124;43m'\u001b[39;49m\u001b[38;5;124;43mstandart\u001b[39;49m\u001b[38;5;124;43m'\u001b[39;49m\u001b[43m)\u001b[49m\n",
      "Cell \u001b[1;32mIn [5], line 30\u001b[0m, in \u001b[0;36moptimize\u001b[1;34m(algo, rec, N, coef_art, norm_all, preproc_model, preproc_algo, impossible)\u001b[0m\n\u001b[0;32m     28\u001b[0m     user_id \u001b[38;5;241m=\u001b[39m i\n\u001b[0;32m     29\u001b[0m df_final \u001b[38;5;241m=\u001b[39m pd\u001b[38;5;241m.\u001b[39mDataFrame({\u001b[38;5;124m'\u001b[39m\u001b[38;5;124mtrak_id\u001b[39m\u001b[38;5;124m'\u001b[39m: rec[\u001b[38;5;241m0\u001b[39m][i], \u001b[38;5;124m'\u001b[39m\u001b[38;5;124mmodel_score\u001b[39m\u001b[38;5;124m'\u001b[39m: model_score[i]})\n\u001b[1;32m---> 30\u001b[0m df_final \u001b[38;5;241m=\u001b[39m \u001b[43mpd\u001b[49m\u001b[38;5;241;43m.\u001b[39;49m\u001b[43mmerge\u001b[49m\u001b[43m(\u001b[49m\u001b[43mdf_final\u001b[49m\u001b[43m,\u001b[49m\u001b[43m \u001b[49m\u001b[43mdf\u001b[49m\u001b[43m,\u001b[49m\u001b[43m \u001b[49m\u001b[43mhow\u001b[49m\u001b[38;5;241;43m=\u001b[39;49m\u001b[38;5;124;43m\"\u001b[39;49m\u001b[38;5;124;43minner\u001b[39;49m\u001b[38;5;124;43m\"\u001b[39;49m\u001b[43m,\u001b[49m\u001b[43m \u001b[49m\u001b[43mleft_on\u001b[49m\u001b[38;5;241;43m=\u001b[39;49m\u001b[38;5;124;43m'\u001b[39;49m\u001b[38;5;124;43mtrak_id\u001b[39;49m\u001b[38;5;124;43m'\u001b[39;49m\u001b[43m,\u001b[49m\u001b[43m \u001b[49m\u001b[43mright_on\u001b[49m\u001b[38;5;241;43m=\u001b[39;49m\u001b[43mdf\u001b[49m\u001b[38;5;241;43m.\u001b[39;49m\u001b[43mindex\u001b[49m\u001b[43m,\u001b[49m\u001b[43m \u001b[49m\u001b[43msort\u001b[49m\u001b[38;5;241;43m=\u001b[39;49m\u001b[38;5;28;43;01mFalse\u001b[39;49;00m\u001b[43m)\u001b[49m\n\u001b[0;32m     31\u001b[0m df_final[\u001b[38;5;124m'\u001b[39m\u001b[38;5;124martist_score\u001b[39m\u001b[38;5;124m'\u001b[39m] \u001b[38;5;241m=\u001b[39m np\u001b[38;5;241m.\u001b[39marray([algo\u001b[38;5;241m.\u001b[39mpredict(uid\u001b[38;5;241m=\u001b[39muser_id, iid\u001b[38;5;241m=\u001b[39miid)\u001b[38;5;241m.\u001b[39mest \u001b[38;5;28;01mfor\u001b[39;00m iid \u001b[38;5;129;01min\u001b[39;00m df_final\u001b[38;5;241m.\u001b[39martistId\u001b[38;5;241m.\u001b[39mvalues])\n\u001b[0;32m     32\u001b[0m \u001b[38;5;28;01mif\u001b[39;00m preproc_algo \u001b[38;5;241m==\u001b[39m \u001b[38;5;124m'\u001b[39m\u001b[38;5;124mminmax\u001b[39m\u001b[38;5;124m'\u001b[39m:\n",
      "File \u001b[1;32mc:\\python38\\lib\\site-packages\\pandas\\core\\reshape\\merge.py:124\u001b[0m, in \u001b[0;36mmerge\u001b[1;34m(left, right, how, on, left_on, right_on, left_index, right_index, sort, suffixes, copy, indicator, validate)\u001b[0m\n\u001b[0;32m     93\u001b[0m \u001b[38;5;129m@Substitution\u001b[39m(\u001b[38;5;124m\"\u001b[39m\u001b[38;5;130;01m\\n\u001b[39;00m\u001b[38;5;124mleft : DataFrame or named Series\u001b[39m\u001b[38;5;124m\"\u001b[39m)\n\u001b[0;32m     94\u001b[0m \u001b[38;5;129m@Appender\u001b[39m(_merge_doc, indents\u001b[38;5;241m=\u001b[39m\u001b[38;5;241m0\u001b[39m)\n\u001b[0;32m     95\u001b[0m \u001b[38;5;28;01mdef\u001b[39;00m \u001b[38;5;21mmerge\u001b[39m(\n\u001b[1;32m   (...)\u001b[0m\n\u001b[0;32m    108\u001b[0m     validate: \u001b[38;5;28mstr\u001b[39m \u001b[38;5;241m|\u001b[39m \u001b[38;5;28;01mNone\u001b[39;00m \u001b[38;5;241m=\u001b[39m \u001b[38;5;28;01mNone\u001b[39;00m,\n\u001b[0;32m    109\u001b[0m ) \u001b[38;5;241m-\u001b[39m\u001b[38;5;241m>\u001b[39m DataFrame:\n\u001b[0;32m    110\u001b[0m     op \u001b[38;5;241m=\u001b[39m _MergeOperation(\n\u001b[0;32m    111\u001b[0m         left,\n\u001b[0;32m    112\u001b[0m         right,\n\u001b[1;32m   (...)\u001b[0m\n\u001b[0;32m    122\u001b[0m         validate\u001b[38;5;241m=\u001b[39mvalidate,\n\u001b[0;32m    123\u001b[0m     )\n\u001b[1;32m--> 124\u001b[0m     \u001b[38;5;28;01mreturn\u001b[39;00m \u001b[43mop\u001b[49m\u001b[38;5;241;43m.\u001b[39;49m\u001b[43mget_result\u001b[49m\u001b[43m(\u001b[49m\u001b[43mcopy\u001b[49m\u001b[38;5;241;43m=\u001b[39;49m\u001b[43mcopy\u001b[49m\u001b[43m)\u001b[49m\n",
      "File \u001b[1;32mc:\\python38\\lib\\site-packages\\pandas\\core\\reshape\\merge.py:773\u001b[0m, in \u001b[0;36m_MergeOperation.get_result\u001b[1;34m(self, copy)\u001b[0m\n\u001b[0;32m    770\u001b[0m \u001b[38;5;28;01mif\u001b[39;00m \u001b[38;5;28mself\u001b[39m\u001b[38;5;241m.\u001b[39mindicator:\n\u001b[0;32m    771\u001b[0m     \u001b[38;5;28mself\u001b[39m\u001b[38;5;241m.\u001b[39mleft, \u001b[38;5;28mself\u001b[39m\u001b[38;5;241m.\u001b[39mright \u001b[38;5;241m=\u001b[39m \u001b[38;5;28mself\u001b[39m\u001b[38;5;241m.\u001b[39m_indicator_pre_merge(\u001b[38;5;28mself\u001b[39m\u001b[38;5;241m.\u001b[39mleft, \u001b[38;5;28mself\u001b[39m\u001b[38;5;241m.\u001b[39mright)\n\u001b[1;32m--> 773\u001b[0m join_index, left_indexer, right_indexer \u001b[38;5;241m=\u001b[39m \u001b[38;5;28;43mself\u001b[39;49m\u001b[38;5;241;43m.\u001b[39;49m\u001b[43m_get_join_info\u001b[49m\u001b[43m(\u001b[49m\u001b[43m)\u001b[49m\n\u001b[0;32m    775\u001b[0m result \u001b[38;5;241m=\u001b[39m \u001b[38;5;28mself\u001b[39m\u001b[38;5;241m.\u001b[39m_reindex_and_concat(\n\u001b[0;32m    776\u001b[0m     join_index, left_indexer, right_indexer, copy\u001b[38;5;241m=\u001b[39mcopy\n\u001b[0;32m    777\u001b[0m )\n\u001b[0;32m    778\u001b[0m result \u001b[38;5;241m=\u001b[39m result\u001b[38;5;241m.\u001b[39m__finalize__(\u001b[38;5;28mself\u001b[39m, method\u001b[38;5;241m=\u001b[39m\u001b[38;5;28mself\u001b[39m\u001b[38;5;241m.\u001b[39m_merge_type)\n",
      "File \u001b[1;32mc:\\python38\\lib\\site-packages\\pandas\\core\\reshape\\merge.py:1026\u001b[0m, in \u001b[0;36m_MergeOperation._get_join_info\u001b[1;34m(self)\u001b[0m\n\u001b[0;32m   1022\u001b[0m     join_index, right_indexer, left_indexer \u001b[38;5;241m=\u001b[39m _left_join_on_index(\n\u001b[0;32m   1023\u001b[0m         right_ax, left_ax, \u001b[38;5;28mself\u001b[39m\u001b[38;5;241m.\u001b[39mright_join_keys, sort\u001b[38;5;241m=\u001b[39m\u001b[38;5;28mself\u001b[39m\u001b[38;5;241m.\u001b[39msort\n\u001b[0;32m   1024\u001b[0m     )\n\u001b[0;32m   1025\u001b[0m \u001b[38;5;28;01melse\u001b[39;00m:\n\u001b[1;32m-> 1026\u001b[0m     (left_indexer, right_indexer) \u001b[38;5;241m=\u001b[39m \u001b[38;5;28;43mself\u001b[39;49m\u001b[38;5;241;43m.\u001b[39;49m\u001b[43m_get_join_indexers\u001b[49m\u001b[43m(\u001b[49m\u001b[43m)\u001b[49m\n\u001b[0;32m   1028\u001b[0m     \u001b[38;5;28;01mif\u001b[39;00m \u001b[38;5;28mself\u001b[39m\u001b[38;5;241m.\u001b[39mright_index:\n\u001b[0;32m   1029\u001b[0m         \u001b[38;5;28;01mif\u001b[39;00m \u001b[38;5;28mlen\u001b[39m(\u001b[38;5;28mself\u001b[39m\u001b[38;5;241m.\u001b[39mleft) \u001b[38;5;241m>\u001b[39m \u001b[38;5;241m0\u001b[39m:\n",
      "File \u001b[1;32mc:\\python38\\lib\\site-packages\\pandas\\core\\reshape\\merge.py:1000\u001b[0m, in \u001b[0;36m_MergeOperation._get_join_indexers\u001b[1;34m(self)\u001b[0m\n\u001b[0;32m    998\u001b[0m \u001b[38;5;28;01mdef\u001b[39;00m \u001b[38;5;21m_get_join_indexers\u001b[39m(\u001b[38;5;28mself\u001b[39m) \u001b[38;5;241m-\u001b[39m\u001b[38;5;241m>\u001b[39m \u001b[38;5;28mtuple\u001b[39m[npt\u001b[38;5;241m.\u001b[39mNDArray[np\u001b[38;5;241m.\u001b[39mintp], npt\u001b[38;5;241m.\u001b[39mNDArray[np\u001b[38;5;241m.\u001b[39mintp]]:\n\u001b[0;32m    999\u001b[0m     \u001b[38;5;124;03m\"\"\"return the join indexers\"\"\"\u001b[39;00m\n\u001b[1;32m-> 1000\u001b[0m     \u001b[38;5;28;01mreturn\u001b[39;00m \u001b[43mget_join_indexers\u001b[49m\u001b[43m(\u001b[49m\n\u001b[0;32m   1001\u001b[0m \u001b[43m        \u001b[49m\u001b[38;5;28;43mself\u001b[39;49m\u001b[38;5;241;43m.\u001b[39;49m\u001b[43mleft_join_keys\u001b[49m\u001b[43m,\u001b[49m\u001b[43m \u001b[49m\u001b[38;5;28;43mself\u001b[39;49m\u001b[38;5;241;43m.\u001b[39;49m\u001b[43mright_join_keys\u001b[49m\u001b[43m,\u001b[49m\u001b[43m \u001b[49m\u001b[43msort\u001b[49m\u001b[38;5;241;43m=\u001b[39;49m\u001b[38;5;28;43mself\u001b[39;49m\u001b[38;5;241;43m.\u001b[39;49m\u001b[43msort\u001b[49m\u001b[43m,\u001b[49m\u001b[43m \u001b[49m\u001b[43mhow\u001b[49m\u001b[38;5;241;43m=\u001b[39;49m\u001b[38;5;28;43mself\u001b[39;49m\u001b[38;5;241;43m.\u001b[39;49m\u001b[43mhow\u001b[49m\n\u001b[0;32m   1002\u001b[0m \u001b[43m    \u001b[49m\u001b[43m)\u001b[49m\n",
      "File \u001b[1;32mc:\\python38\\lib\\site-packages\\pandas\\core\\reshape\\merge.py:1595\u001b[0m, in \u001b[0;36mget_join_indexers\u001b[1;34m(left_keys, right_keys, sort, how, **kwargs)\u001b[0m\n\u001b[0;32m   1589\u001b[0m lkey, rkey \u001b[38;5;241m=\u001b[39m _get_join_keys(llab, rlab, shape, sort)\n\u001b[0;32m   1591\u001b[0m \u001b[38;5;66;03m# factorize keys to a dense i8 space\u001b[39;00m\n\u001b[0;32m   1592\u001b[0m \u001b[38;5;66;03m# `count` is the num. of unique keys\u001b[39;00m\n\u001b[0;32m   1593\u001b[0m \u001b[38;5;66;03m# set(lkey) | set(rkey) == range(count)\u001b[39;00m\n\u001b[1;32m-> 1595\u001b[0m lkey, rkey, count \u001b[38;5;241m=\u001b[39m \u001b[43m_factorize_keys\u001b[49m\u001b[43m(\u001b[49m\u001b[43mlkey\u001b[49m\u001b[43m,\u001b[49m\u001b[43m \u001b[49m\u001b[43mrkey\u001b[49m\u001b[43m,\u001b[49m\u001b[43m \u001b[49m\u001b[43msort\u001b[49m\u001b[38;5;241;43m=\u001b[39;49m\u001b[43msort\u001b[49m\u001b[43m,\u001b[49m\u001b[43m \u001b[49m\u001b[43mhow\u001b[49m\u001b[38;5;241;43m=\u001b[39;49m\u001b[43mhow\u001b[49m\u001b[43m)\u001b[49m\n\u001b[0;32m   1596\u001b[0m \u001b[38;5;66;03m# preserve left frame order if how == 'left' and sort == False\u001b[39;00m\n\u001b[0;32m   1597\u001b[0m kwargs \u001b[38;5;241m=\u001b[39m copy\u001b[38;5;241m.\u001b[39mcopy(kwargs)\n",
      "File \u001b[1;32mc:\\python38\\lib\\site-packages\\pandas\\core\\reshape\\merge.py:2333\u001b[0m, in \u001b[0;36m_factorize_keys\u001b[1;34m(lk, rk, sort, how)\u001b[0m\n\u001b[0;32m   2329\u001b[0m llab \u001b[38;5;241m=\u001b[39m rizer\u001b[38;5;241m.\u001b[39mfactorize(lk)  \u001b[38;5;66;03m# type: ignore[arg-type]\u001b[39;00m\n\u001b[0;32m   2330\u001b[0m \u001b[38;5;66;03m# Argument 1 to \"factorize\" of \"ObjectFactorizer\" has incompatible type\u001b[39;00m\n\u001b[0;32m   2331\u001b[0m \u001b[38;5;66;03m# \"Union[ndarray[Any, dtype[signedinteger[_64Bit]]],\u001b[39;00m\n\u001b[0;32m   2332\u001b[0m \u001b[38;5;66;03m# ndarray[Any, dtype[object_]]]\"; expected \"ndarray[Any, dtype[object_]]\"\u001b[39;00m\n\u001b[1;32m-> 2333\u001b[0m rlab \u001b[38;5;241m=\u001b[39m \u001b[43mrizer\u001b[49m\u001b[38;5;241;43m.\u001b[39;49m\u001b[43mfactorize\u001b[49m\u001b[43m(\u001b[49m\u001b[43mrk\u001b[49m\u001b[43m)\u001b[49m  \u001b[38;5;66;03m# type: ignore[arg-type]\u001b[39;00m\n\u001b[0;32m   2334\u001b[0m \u001b[38;5;28;01massert\u001b[39;00m llab\u001b[38;5;241m.\u001b[39mdtype \u001b[38;5;241m==\u001b[39m np\u001b[38;5;241m.\u001b[39mdtype(np\u001b[38;5;241m.\u001b[39mintp), llab\u001b[38;5;241m.\u001b[39mdtype\n\u001b[0;32m   2335\u001b[0m \u001b[38;5;28;01massert\u001b[39;00m rlab\u001b[38;5;241m.\u001b[39mdtype \u001b[38;5;241m==\u001b[39m np\u001b[38;5;241m.\u001b[39mdtype(np\u001b[38;5;241m.\u001b[39mintp), rlab\u001b[38;5;241m.\u001b[39mdtype\n",
      "\u001b[1;31mKeyboardInterrupt\u001b[0m: "
     ]
    }
   ],
   "source": [
    "result = optimize(algo,\n",
    "                  rec,\n",
    "                  N,\n",
    "                  coef_art=0.75,\n",
    "                  norm_all=False,\n",
    "                  preproc_model='standart',\n",
    "                  preproc_algo='standart')"
   ]
  },
  {
   "cell_type": "code",
   "execution_count": null,
   "id": "a5fa59d3",
   "metadata": {},
   "outputs": [],
   "source": [
    "%%time\n",
    "\n",
    "with open(pred_path, 'w') as f:\n",
    "    f.writelines(result)"
   ]
  },
  {
   "cell_type": "code",
   "execution_count": null,
   "id": "85a671ea",
   "metadata": {},
   "outputs": [],
   "source": []
  }
 ],
 "metadata": {
  "kernelspec": {
   "display_name": "Python 3 (ipykernel)",
   "language": "python",
   "name": "python3"
  },
  "language_info": {
   "codemirror_mode": {
    "name": "ipython",
    "version": 3
   },
   "file_extension": ".py",
   "mimetype": "text/x-python",
   "name": "python",
   "nbconvert_exporter": "python",
   "pygments_lexer": "ipython3",
   "version": "3.10.5"
  }
 },
 "nbformat": 4,
 "nbformat_minor": 5
}
