{
 "cells": [
  {
   "cell_type": "code",
   "execution_count": null,
   "id": "76d0fca7",
   "metadata": {},
   "outputs": [],
   "source": [
    "N = 1500\n",
    "Q_BPR = 0.015\n",
    "COEF_BPR = 3\n",
    "PREPROC = 'minmax'\n",
    "NORM_ALL = False"
   ]
  },
  {
   "cell_type": "code",
   "execution_count": 2,
   "id": "2007071c",
   "metadata": {},
   "outputs": [],
   "source": [
    "import numpy as np\n",
    "import pandas as pd\n",
    "from scipy.sparse import csr_matrix\n",
    "from sklearn.preprocessing import minmax_scale, scale\n",
    "from tqdm import tqdm\n",
    "import time\n",
    "import implicit"
   ]
  },
  {
   "cell_type": "code",
   "execution_count": 2,
   "id": "63277bc0",
   "metadata": {},
   "outputs": [],
   "source": [
    "train_path = r\"C:\\Users\\dlbol\\Downloads\\likes\\likes\\likes_data\\train\"\n",
    "test_path = r\"C:\\Users\\dlbol\\Downloads\\likes\\likes\\likes_data\\test\"\n",
    "pred_path = r\"C:\\Users\\dlbol\\Downloads\\likes\\likes\\likes_data\\impicit_mix_als_bpr_\"\n",
    "score_path = r\"C:\\Users\\dlbol\\Downloads\\likes\\likes\\likes_data\\impicit_mix_als_bpr_ _score\""
   ]
  },
  {
   "cell_type": "code",
   "execution_count": 3,
   "id": "88c04db5",
   "metadata": {},
   "outputs": [],
   "source": [
    "%%time\n",
    "\n",
    "list_coord = []\n",
    "idx = 0\n",
    "\n",
    "with open(train_path) as f:\n",
    "    lines = f.readlines()\n",
    "    for line in tqdm(lines):\n",
    "        tracks = line.strip().split(' ')\n",
    "        for track in tracks:\n",
    "            list_coord.append((idx, track))\n",
    "        idx += 1\n",
    "        \n",
    "first_id_test = idx\n",
    "\n",
    "with open(test_path) as f:\n",
    "    lines = f.readlines()\n",
    "    for line in tqdm(lines):\n",
    "        tracks = line.strip().split(' ')\n",
    "        for track in tracks:\n",
    "            list_coord.append((idx, track))\n",
    "        idx += 1\n",
    "        \n",
    "last_id_test = idx - 1"
   ]
  },
  {
   "cell_type": "code",
   "execution_count": null,
   "id": "5880e45f",
   "metadata": {},
   "outputs": [],
   "source": [
    "first_id_test, last_id_test"
   ]
  },
  {
   "cell_type": "code",
   "execution_count": 5,
   "id": "7eb432cf",
   "metadata": {},
   "outputs": [
    {
     "name": "stdout",
     "output_type": "stream",
     "text": [
      "CPU times: total: 453 ms\n",
      "Wall time: 458 ms\n"
     ]
    }
   ],
   "source": [
    "%%time\n",
    "\n",
    "rows = [i[0] for i in list_coord]\n",
    "cols = [i[1] for i in list_coord]\n",
    "arr_rows = np.array(rows)\n",
    "arr_cols = np.array(cols)\n",
    "arr_cols = arr_cols.astype(np.int32)\n",
    "ones = np.ones(len(list_coord))\n",
    "user_item = csr_matrix((ones, (arr_rows, arr_cols)), dtype=np.int32)"
   ]
  },
  {
   "cell_type": "code",
   "execution_count": 21,
   "id": "5a9ce192",
   "metadata": {},
   "outputs": [],
   "source": [
    "model_als = implicit.als.AlternatingLeastSquares(factors=200, \n",
    "                                                 regularization=10,\n",
    "                                                 alpha=10,\n",
    "                                                 use_native=True,\n",
    "                                                 use_cg=False,\n",
    "                                                 iterations=15,\n",
    "                                                 random_state=42)\n",
    "print('model_als.fit:')\n",
    "model_als.fit(user_item)\n",
    "\n",
    "model_bpr = implicit.bpr.BayesianPersonalizedRanking(factors=400, \n",
    "                                                     learning_rate=0.1,\n",
    "                                                     regularization=0.01,\n",
    "                                                     iterations=950,\n",
    "                                                     verify_negative_samples=True,\n",
    "                                                     random_state=42)   \n",
    "print('model_als.fit:')\n",
    "model_bpr.fit(user_item)"
   ]
  },
  {
   "cell_type": "code",
   "execution_count": 19,
   "id": "9a07182e",
   "metadata": {},
   "outputs": [],
   "source": [
    "def N_opt(model_als, model_bpr, N=100, q_bpr=1):\n",
    "    \n",
    "    N_als = N\n",
    "    N_bpr = int(N * q_bpr)\n",
    "    \n",
    "    userid = np.arange(last_id_test + 1)\n",
    "        \n",
    "    start_time = time.time()\n",
    "    rec_als = model_als.recommend(userid, user_item, N=N_als, filter_already_liked_items=True)\n",
    "    rec_als = rec_als[:, first_id_test:]\n",
    "    print(\"\\n\\n--- %s seconds model_als ---\" % (time.time() - start_time))\n",
    "\n",
    "    start_time = time.time()\n",
    "    rec_bpr = model_bpr.recommend(userid, user_item, N=N_bpr, filter_already_liked_items=True)\n",
    "    rec_bpr = rec_bpr[:, first_id_test:]\n",
    "    print(\"\\n--- %s seconds model_bpr ---\" % (time.time() - start_time))\n",
    "    \n",
    "    return rec_als, rec_bpr, N_als, N_bpr"
   ]
  },
  {
   "cell_type": "code",
   "execution_count": 20,
   "id": "f9ca14dc",
   "metadata": {},
   "outputs": [],
   "source": [
    "def optimize(rec_als,\n",
    "             rec_bpr,\n",
    "             N_als,\n",
    "             N_bpr,\n",
    "             coef_bpr=1,\n",
    "             norm_all=False,\n",
    "             preproc=None):\n",
    "    \n",
    "    if not isinstance(norm_all, bool) or preproc not in ['minmax', 'standart', None]:\n",
    "        raise ValueError('wrong params')\n",
    "        \n",
    "    if preproc is None:\n",
    "        als_score = rec_als[1]\n",
    "        bpr_score = rec_bpr[1]\n",
    "    else:\n",
    "        if norm_all:\n",
    "            if preproc == 'minmax':\n",
    "                als_score = minmax_scale(rec_als[1].flatten(), feature_range=(0, 1), axis=0).reshape((-1, N_als))\n",
    "                bpr_score = minmax_scale(rec_bpr[1].flatten(), feature_range=(0, 1), axis=0).reshape((-1, N_bpr))\n",
    "            if preproc == 'standart':\n",
    "                als_score = scale(rec_als[1].flatten(), with_mean=True, with_std=True, axis=0).reshape((-1, N_als))\n",
    "                bpr_score = scale(rec_bpr[1].flatten(), with_mean=True, with_std=True, axis=0).reshape((-1, N_bpr))    \n",
    "        else:\n",
    "            if preproc == 'minmax':\n",
    "                als_score = minmax_scale(rec_als[1], feature_range=(0, 1), axis=1)\n",
    "                bpr_score = minmax_scale(rec_bpr[1], feature_range=(0, 1), axis=1)   \n",
    "            if preproc == 'standart':\n",
    "                als_score = scale(rec_als[1], with_mean=True, with_std=True, axis=1)\n",
    "                bpr_score = scale(rec_bpr[1], with_mean=True, with_std=True, axis=1)     \n",
    "\n",
    "    result = []\n",
    "    scores = []\n",
    "    for i in tqdm(range(rec_als[0].shape[0])):\n",
    "        als_df = pd.DataFrame({'trak_id': rec_als[0][i], 'als_score': als_score[i]})\n",
    "        bpr_df = pd.DataFrame({'trak_id': rec_bpr[0][i], 'bpr_score': bpr_score[i] * coef_bpr})\n",
    "        df = pd.merge(als_df, bpr_df, how=\"outer\", on='trak_id', sort=False)\n",
    "        df['als_prior'] = df.als_score.where(~df.als_score.isna(), df.bpr_score)\n",
    "        df['total_score'] = np.where((df.als_score.isna()) | (df.bpr_score.isna()), df.als_prior, \n",
    "                                     (df.als_score + df.bpr_score) / 2)\n",
    "        final_rec = df.sort_values(by='total_score', ascending=False).trak_id.values[:100]\n",
    "        result.append(' '.join(map(str, final_rec)) + '\\n')\n",
    "        final_scr = df.sort_values(by='total_score', ascending=False).total_score.values[:100]\n",
    "        result.append(' '.join(map(str, final_scr)) + '\\n')\n",
    "        \n",
    "        \n",
    "    with open(pred_path, 'w') as f:\n",
    "        f.writelines(result)\n",
    "\n",
    "    with open(score_path, 'w') as f:\n",
    "        f.writelines(scores)"
   ]
  },
  {
   "cell_type": "code",
   "execution_count": 22,
   "id": "fd6047b2",
   "metadata": {},
   "outputs": [],
   "source": [
    "rec_als, rec_bpr, N_als, N_bpr = N_opt(model_als, model_bpr, N=N, q_bpr=Q_BPR)"
   ]
  },
  {
   "cell_type": "code",
   "execution_count": null,
   "id": "658c04e4",
   "metadata": {},
   "outputs": [],
   "source": [
    "optimize(rec_als,\n",
    "         rec_bpr,\n",
    "         N_als,\n",
    "         N_bpr,\n",
    "         coef_bpr=COEF_BPR,\n",
    "         norm_all=NORM_ALL,\n",
    "         preproc=PREPROC)"
   ]
  }
 ],
 "metadata": {
  "kernelspec": {
   "display_name": "Python 3 (ipykernel)",
   "language": "python",
   "name": "python3"
  },
  "language_info": {
   "codemirror_mode": {
    "name": "ipython",
    "version": 3
   },
   "file_extension": ".py",
   "mimetype": "text/x-python",
   "name": "python",
   "nbconvert_exporter": "python",
   "pygments_lexer": "ipython3",
   "version": "3.8.9"
  }
 },
 "nbformat": 4,
 "nbformat_minor": 5
}
