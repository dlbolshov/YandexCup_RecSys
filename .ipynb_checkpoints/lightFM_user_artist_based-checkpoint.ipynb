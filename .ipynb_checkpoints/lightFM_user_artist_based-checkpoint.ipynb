{
 "cells": [
  {
   "cell_type": "code",
   "execution_count": 11,
   "id": "a23ae9d7",
   "metadata": {},
   "outputs": [
    {
     "name": "stdout",
     "output_type": "stream",
     "text": [
      "CPU times: user 22.6 ms, sys: 17.7 ms, total: 40.3 ms\n",
      "Wall time: 201 ms\n"
     ]
    }
   ],
   "source": [
    "%%time\n",
    "import numpy as np\n",
    "import pandas as pd\n",
    "from scipy.sparse import csr_matrix, coo_matrix\n",
    "from sklearn.neighbors import NearestNeighbors\n",
    "from lightfm import LightFM\n",
    "from tqdm.auto import tqdm"
   ]
  },
  {
   "cell_type": "code",
   "execution_count": 2,
   "id": "a7712145",
   "metadata": {},
   "outputs": [],
   "source": [
    "def calc_mrr(predict, answer):\n",
    "    for i in range(len(predict)):\n",
    "        if predict[i] == answer:\n",
    "            return 1. / (i + 1)\n",
    "    return 0\n",
    "\n",
    "max_prediction_len = 100\n",
    "\n",
    "def calc_score(target_path, predict_path):\n",
    "    with open(target_path) as f:\n",
    "        y_true = [int(x.strip()) for x in f.readlines()]\n",
    "\n",
    "    with open(predict_path) as f:\n",
    "        y_pred = [[int(x) for x in line.strip().split(' ')] for line in f.readlines()]\n",
    "\n",
    "    mrr_score = 0\n",
    "    for (pred, answer) in zip(y_pred, y_true):\n",
    "        if len(pred) > max_prediction_len:\n",
    "            raise ValueError('$maximum prediction length is {}, got {}$'.format(max_prediction_len, len(y_pred[i])))\n",
    "        mrr_score += calc_mrr(pred, answer)\n",
    "\n",
    "    print(f\"MRR@100 = {(mrr_score / len(y_true)):.4f}\")"
   ]
  },
  {
   "cell_type": "code",
   "execution_count": 3,
   "id": "3032abd2",
   "metadata": {},
   "outputs": [
    {
     "name": "stdout",
     "output_type": "stream",
     "text": [
      "CPU times: user 32.3 ms, sys: 11.3 ms, total: 43.6 ms\n",
      "Wall time: 475 ms\n"
     ]
    }
   ],
   "source": [
    "%%time\n",
    "df = pd.read_csv('/Users/david/Documents/GitHub/YandexCup_RecSys/track_artists.csv')\n",
    "arr_item = df['trackId'].values\n",
    "arr_feature = df['artistId'].values"
   ]
  },
  {
   "cell_type": "code",
   "execution_count": 4,
   "id": "20f06b5c",
   "metadata": {},
   "outputs": [
    {
     "name": "stdout",
     "output_type": "stream",
     "text": [
      "CPU times: user 3.26 s, sys: 396 ms, total: 3.65 s\n",
      "Wall time: 4.29 s\n"
     ]
    }
   ],
   "source": [
    "%%time\n",
    "\n",
    "dict_user_item = {}\n",
    "target_val = []\n",
    "val_id = np.random.randint(0, 10000, size=1000)\n",
    "val_id.sort()\n",
    "val_tracks = {}\n",
    "all_tracks = []\n",
    "with open('/Users/david/Documents/GitHub/YandexCup_RecSys/train') as f:\n",
    "    lines = f.readlines()\n",
    "    idx = 0 \n",
    "    for line in lines:\n",
    "        tracks = line.strip().split(' ')\n",
    "        for i, track in enumerate(tracks):\n",
    "            if idx in val_id and i == 0:\n",
    "                tracks_arr = np.array(tracks)\n",
    "                tracks_arr = tracks_arr.astype(np.int32)\n",
    "                val_tracks[idx] = tracks_arr[:-1]\n",
    "            if idx in val_id and i+1 == len(tracks):\n",
    "                target_val.append(track)\n",
    "                continue\n",
    "            if i == 0:\n",
    "                dict_user_item[idx] = []\n",
    "            dict_user_item[idx].append(int(track))\n",
    "            all_tracks.append(int(track))\n",
    "        idx += 1\n",
    "        if idx > 10000:\n",
    "            break\n",
    " "
   ]
  },
  {
   "cell_type": "code",
   "execution_count": 5,
   "id": "5e14f5dd",
   "metadata": {},
   "outputs": [
    {
     "name": "stdout",
     "output_type": "stream",
     "text": [
      "CPU times: user 4min 38s, sys: 1.57 s, total: 4min 39s\n",
      "Wall time: 4min 44s\n"
     ]
    }
   ],
   "source": [
    "%%time\n",
    "from scipy.sparse import coo_matrix\n",
    "\n",
    "rows = []\n",
    "cols = []\n",
    "data = []\n",
    "for idx, tracks in dict_user_item.items():\n",
    "    temp = {}\n",
    "    for track in tracks:\n",
    "        artist = df[df['trackId'] == track]['artistId'].values[0]\n",
    "        if artist not in temp:\n",
    "            temp[artist] = 0\n",
    "        temp[artist] += 1\n",
    "    \n",
    "    rows.extend([idx for i in temp])\n",
    "    cols.extend([i for i in temp.keys()])\n",
    "    data.extend([i / max(temp.values()) for i in temp.values()])\n",
    "\n",
    "arr_rows = np.array(rows)\n",
    "arr_cols = np.array(cols)\n",
    "arr_data = np.array(data)\n",
    "user_item = coo_matrix((arr_data, (arr_rows, arr_cols)), dtype=np.int32)"
   ]
  },
  {
   "cell_type": "code",
   "execution_count": 6,
   "id": "603570f5",
   "metadata": {},
   "outputs": [
    {
     "data": {
      "text/plain": [
       "(10001, 56134)"
      ]
     },
     "execution_count": 6,
     "metadata": {},
     "output_type": "execute_result"
    }
   ],
   "source": [
    "user_item.get_shape()"
   ]
  },
  {
   "cell_type": "code",
   "execution_count": 7,
   "id": "bc69749d",
   "metadata": {},
   "outputs": [
    {
     "data": {
      "text/plain": [
       "812954"
      ]
     },
     "execution_count": 7,
     "metadata": {},
     "output_type": "execute_result"
    }
   ],
   "source": [
    "len(all_tracks)"
   ]
  },
  {
   "cell_type": "code",
   "execution_count": 8,
   "id": "bcda80b3",
   "metadata": {},
   "outputs": [
    {
     "data": {
      "text/html": [
       "<div>\n",
       "<style scoped>\n",
       "    .dataframe tbody tr th:only-of-type {\n",
       "        vertical-align: middle;\n",
       "    }\n",
       "\n",
       "    .dataframe tbody tr th {\n",
       "        vertical-align: top;\n",
       "    }\n",
       "\n",
       "    .dataframe thead th {\n",
       "        text-align: right;\n",
       "    }\n",
       "</style>\n",
       "<table border=\"1\" class=\"dataframe\">\n",
       "  <thead>\n",
       "    <tr style=\"text-align: right;\">\n",
       "      <th></th>\n",
       "      <th>trackId</th>\n",
       "      <th>artistId</th>\n",
       "      <th>count</th>\n",
       "    </tr>\n",
       "  </thead>\n",
       "  <tbody>\n",
       "    <tr>\n",
       "      <th>0</th>\n",
       "      <td>454079</td>\n",
       "      <td>38292</td>\n",
       "      <td>1</td>\n",
       "    </tr>\n",
       "    <tr>\n",
       "      <th>1</th>\n",
       "      <td>346334</td>\n",
       "      <td>24922</td>\n",
       "      <td>3</td>\n",
       "    </tr>\n",
       "    <tr>\n",
       "      <th>2</th>\n",
       "      <td>403921</td>\n",
       "      <td>18862</td>\n",
       "      <td>1</td>\n",
       "    </tr>\n",
       "    <tr>\n",
       "      <th>3</th>\n",
       "      <td>238166</td>\n",
       "      <td>4171</td>\n",
       "      <td>5</td>\n",
       "    </tr>\n",
       "    <tr>\n",
       "      <th>4</th>\n",
       "      <td>219040</td>\n",
       "      <td>27137</td>\n",
       "      <td>1</td>\n",
       "    </tr>\n",
       "    <tr>\n",
       "      <th>...</th>\n",
       "      <td>...</td>\n",
       "      <td>...</td>\n",
       "      <td>...</td>\n",
       "    </tr>\n",
       "    <tr>\n",
       "      <th>171279</th>\n",
       "      <td>12682</td>\n",
       "      <td>45792</td>\n",
       "      <td>1</td>\n",
       "    </tr>\n",
       "    <tr>\n",
       "      <th>171280</th>\n",
       "      <td>220317</td>\n",
       "      <td>943</td>\n",
       "      <td>2</td>\n",
       "    </tr>\n",
       "    <tr>\n",
       "      <th>171281</th>\n",
       "      <td>377199</td>\n",
       "      <td>37675</td>\n",
       "      <td>1</td>\n",
       "    </tr>\n",
       "    <tr>\n",
       "      <th>171282</th>\n",
       "      <td>55303</td>\n",
       "      <td>28180</td>\n",
       "      <td>5</td>\n",
       "    </tr>\n",
       "    <tr>\n",
       "      <th>171283</th>\n",
       "      <td>421598</td>\n",
       "      <td>31640</td>\n",
       "      <td>1</td>\n",
       "    </tr>\n",
       "  </tbody>\n",
       "</table>\n",
       "<p>171284 rows × 3 columns</p>\n",
       "</div>"
      ],
      "text/plain": [
       "        trackId  artistId  count\n",
       "0        454079     38292      1\n",
       "1        346334     24922      3\n",
       "2        403921     18862      1\n",
       "3        238166      4171      5\n",
       "4        219040     27137      1\n",
       "...         ...       ...    ...\n",
       "171279    12682     45792      1\n",
       "171280   220317       943      2\n",
       "171281   377199     37675      1\n",
       "171282    55303     28180      5\n",
       "171283   421598     31640      1\n",
       "\n",
       "[171284 rows x 3 columns]"
      ]
     },
     "execution_count": 8,
     "metadata": {},
     "output_type": "execute_result"
    }
   ],
   "source": [
    "from collections import Counter\n",
    "cnt = Counter(all_tracks)\n",
    "dict(cnt)\n",
    "pop = pd.Series(cnt).to_frame().reset_index()\n",
    "pop.columns = ['trackId', 'count']\n",
    "df_temp = df.merge(pop)\n",
    "df_temp"
   ]
  },
  {
   "cell_type": "code",
   "execution_count": 102,
   "id": "3cf1cbfe",
   "metadata": {},
   "outputs": [],
   "source": [
    "import time\n",
    "\n",
    "def optimize(n_comp, n_epochs, learning_rate=0.05, n_top_art=20):\n",
    "    n_top_tracks = 100 // n_top_art\n",
    "    start_time = time.time()\n",
    "    model = LightFM(no_components=n_comp, loss='warp', learning_rate=learning_rate, random_state=42)\n",
    "    model.fit(user_item, epochs=n_epochs)\n",
    "    print(\"--- %s seconds ---\" % (time.time() - start_time))\n",
    "    result = []\n",
    "    items = np.unique(arr_cols)\n",
    "    for user_id in tqdm(val_id):\n",
    "        scores = model.predict(int(user_id), items)\n",
    "        arr_id = np.argsort(-scores)[:n_top_art]\n",
    "        top_items = items[arr_id]\n",
    "        top_res = []\n",
    "        for i in top_items:\n",
    "            arr_tracks_of_artisit = (df_temp[df_temp['artistId'] == i]\n",
    "                                     .sort_values(by='count', ascending=False)['trackId']\n",
    "                                     .head(n_top_tracks).values)\n",
    "            arr_tracks_of_artisit = arr_tracks_of_artisit[~np.isin(arr_tracks_of_artisit, val_tracks[user_id])]\n",
    "            top_res.extend(list(arr_tracks_of_artisit))\n",
    "        result.append(' '.join(map(str, top_res)) + '\\n')\n",
    "        \n",
    "    with open('/Users/david/Documents/GitHub/YandexCup_RecSys/first_lightfm', 'w') as f:\n",
    "        f.writelines(result)\n",
    "    \n",
    "    with open('/Users/david/Documents/GitHub/YandexCup_RecSys/first_lightfm_target', 'w') as f:\n",
    "        for i in target_val:\n",
    "            f.write(f'{i}\\n')\n",
    "            \n",
    "    calc_score('/Users/david/Documents/GitHub/YandexCup_RecSys/first_lightfm_target',\n",
    "               \"/Users/david/Documents/GitHub/YandexCup_RecSys/first_lightfm\")"
   ]
  },
  {
   "cell_type": "code",
   "execution_count": 104,
   "id": "0a5f4a2a",
   "metadata": {
    "collapsed": true
   },
   "outputs": [
    {
     "name": "stdout",
     "output_type": "stream",
     "text": [
      "\n",
      "(3, 10)\n",
      "--- 0.42542290687561035 seconds ---\n"
     ]
    },
    {
     "data": {
      "application/vnd.jupyter.widget-view+json": {
       "model_id": "dcf7d7b4991a4e2493a28d9111494f3f",
       "version_major": 2,
       "version_minor": 0
      },
      "text/plain": [
       "  0%|          | 0/1000 [00:00<?, ?it/s]"
      ]
     },
     "metadata": {},
     "output_type": "display_data"
    },
    {
     "name": "stdout",
     "output_type": "stream",
     "text": [
      "MRR@100 = 0.0011\n",
      "\n",
      "(3, 10)\n",
      "--- 0.502410888671875 seconds ---\n"
     ]
    },
    {
     "data": {
      "application/vnd.jupyter.widget-view+json": {
       "model_id": "68c8633e8c0c4ef6a8914464c7e1a803",
       "version_major": 2,
       "version_minor": 0
      },
      "text/plain": [
       "  0%|          | 0/1000 [00:00<?, ?it/s]"
      ]
     },
     "metadata": {},
     "output_type": "display_data"
    },
    {
     "name": "stdout",
     "output_type": "stream",
     "text": [
      "MRR@100 = 0.0018\n",
      "\n",
      "(3, 30)\n",
      "--- 1.3595669269561768 seconds ---\n"
     ]
    },
    {
     "data": {
      "application/vnd.jupyter.widget-view+json": {
       "model_id": "ce63592750c540b89cfff2ba51227357",
       "version_major": 2,
       "version_minor": 0
      },
      "text/plain": [
       "  0%|          | 0/1000 [00:00<?, ?it/s]"
      ]
     },
     "metadata": {},
     "output_type": "display_data"
    },
    {
     "name": "stdout",
     "output_type": "stream",
     "text": [
      "MRR@100 = 0.0010\n",
      "\n",
      "(3, 30)\n",
      "--- 1.2579419612884521 seconds ---\n"
     ]
    },
    {
     "data": {
      "application/vnd.jupyter.widget-view+json": {
       "model_id": "31935323ac524559a9f8de0a62b773aa",
       "version_major": 2,
       "version_minor": 0
      },
      "text/plain": [
       "  0%|          | 0/1000 [00:00<?, ?it/s]"
      ]
     },
     "metadata": {},
     "output_type": "display_data"
    },
    {
     "name": "stdout",
     "output_type": "stream",
     "text": [
      "MRR@100 = 0.0016\n",
      "\n",
      "(3, 50)\n",
      "--- 2.2775039672851562 seconds ---\n"
     ]
    },
    {
     "data": {
      "application/vnd.jupyter.widget-view+json": {
       "model_id": "efc7797811a64763b88d02493bc7e236",
       "version_major": 2,
       "version_minor": 0
      },
      "text/plain": [
       "  0%|          | 0/1000 [00:00<?, ?it/s]"
      ]
     },
     "metadata": {},
     "output_type": "display_data"
    },
    {
     "name": "stdout",
     "output_type": "stream",
     "text": [
      "MRR@100 = 0.0010\n",
      "\n",
      "(3, 50)\n",
      "--- 2.166038990020752 seconds ---\n"
     ]
    },
    {
     "data": {
      "application/vnd.jupyter.widget-view+json": {
       "model_id": "6f59581528b14f8293dbee74d3ff6be5",
       "version_major": 2,
       "version_minor": 0
      },
      "text/plain": [
       "  0%|          | 0/1000 [00:00<?, ?it/s]"
      ]
     },
     "metadata": {},
     "output_type": "display_data"
    },
    {
     "name": "stdout",
     "output_type": "stream",
     "text": [
      "MRR@100 = 0.0017\n",
      "\n",
      "(3, 70)\n",
      "--- 3.628000020980835 seconds ---\n"
     ]
    },
    {
     "data": {
      "application/vnd.jupyter.widget-view+json": {
       "model_id": "7929338c44424befbd6a306a0ca0e827",
       "version_major": 2,
       "version_minor": 0
      },
      "text/plain": [
       "  0%|          | 0/1000 [00:00<?, ?it/s]"
      ]
     },
     "metadata": {},
     "output_type": "display_data"
    },
    {
     "name": "stdout",
     "output_type": "stream",
     "text": [
      "MRR@100 = 0.0009\n",
      "\n",
      "(3, 70)\n",
      "--- 3.184851884841919 seconds ---\n"
     ]
    },
    {
     "data": {
      "application/vnd.jupyter.widget-view+json": {
       "model_id": "913af32a8cb34aa8ae3a913fe650dbd4",
       "version_major": 2,
       "version_minor": 0
      },
      "text/plain": [
       "  0%|          | 0/1000 [00:00<?, ?it/s]"
      ]
     },
     "metadata": {},
     "output_type": "display_data"
    },
    {
     "name": "stdout",
     "output_type": "stream",
     "text": [
      "MRR@100 = 0.0015\n",
      "\n",
      "(5, 10)\n",
      "--- 0.5282201766967773 seconds ---\n"
     ]
    },
    {
     "data": {
      "application/vnd.jupyter.widget-view+json": {
       "model_id": "3cafda889b22458ca997c86278ecd753",
       "version_major": 2,
       "version_minor": 0
      },
      "text/plain": [
       "  0%|          | 0/1000 [00:00<?, ?it/s]"
      ]
     },
     "metadata": {},
     "output_type": "display_data"
    },
    {
     "name": "stdout",
     "output_type": "stream",
     "text": [
      "MRR@100 = 0.0033\n",
      "\n",
      "(5, 10)\n",
      "--- 0.5303082466125488 seconds ---\n"
     ]
    },
    {
     "data": {
      "application/vnd.jupyter.widget-view+json": {
       "model_id": "67b8c41adf5b4de6a258dc3aec82d0d2",
       "version_major": 2,
       "version_minor": 0
      },
      "text/plain": [
       "  0%|          | 0/1000 [00:00<?, ?it/s]"
      ]
     },
     "metadata": {},
     "output_type": "display_data"
    },
    {
     "name": "stdout",
     "output_type": "stream",
     "text": [
      "MRR@100 = 0.0033\n",
      "\n",
      "(5, 30)\n",
      "--- 1.3916559219360352 seconds ---\n"
     ]
    },
    {
     "data": {
      "application/vnd.jupyter.widget-view+json": {
       "model_id": "3dfb7ffef60444d39fba9812895716c9",
       "version_major": 2,
       "version_minor": 0
      },
      "text/plain": [
       "  0%|          | 0/1000 [00:00<?, ?it/s]"
      ]
     },
     "metadata": {},
     "output_type": "display_data"
    },
    {
     "name": "stdout",
     "output_type": "stream",
     "text": [
      "MRR@100 = 0.0022\n",
      "\n",
      "(5, 30)\n",
      "--- 1.4734649658203125 seconds ---\n"
     ]
    },
    {
     "data": {
      "application/vnd.jupyter.widget-view+json": {
       "model_id": "2ad2fa18c8954b09a9fbd33255c424c0",
       "version_major": 2,
       "version_minor": 0
      },
      "text/plain": [
       "  0%|          | 0/1000 [00:00<?, ?it/s]"
      ]
     },
     "metadata": {},
     "output_type": "display_data"
    },
    {
     "name": "stdout",
     "output_type": "stream",
     "text": [
      "MRR@100 = 0.0025\n",
      "\n",
      "(5, 50)\n",
      "--- 2.2976691722869873 seconds ---\n"
     ]
    },
    {
     "data": {
      "application/vnd.jupyter.widget-view+json": {
       "model_id": "7cdf5ac9b9394e6fac7a492b510a4dcb",
       "version_major": 2,
       "version_minor": 0
      },
      "text/plain": [
       "  0%|          | 0/1000 [00:00<?, ?it/s]"
      ]
     },
     "metadata": {},
     "output_type": "display_data"
    },
    {
     "name": "stdout",
     "output_type": "stream",
     "text": [
      "MRR@100 = 0.0023\n",
      "\n",
      "(5, 50)\n",
      "--- 2.1755728721618652 seconds ---\n"
     ]
    },
    {
     "data": {
      "application/vnd.jupyter.widget-view+json": {
       "model_id": "604a19a245a949f482bda644e2c53239",
       "version_major": 2,
       "version_minor": 0
      },
      "text/plain": [
       "  0%|          | 0/1000 [00:00<?, ?it/s]"
      ]
     },
     "metadata": {},
     "output_type": "display_data"
    },
    {
     "name": "stdout",
     "output_type": "stream",
     "text": [
      "MRR@100 = 0.0028\n",
      "\n",
      "(5, 70)\n",
      "--- 3.059685230255127 seconds ---\n"
     ]
    },
    {
     "data": {
      "application/vnd.jupyter.widget-view+json": {
       "model_id": "f0e42ed4ab7a4bd4915de626ad63139d",
       "version_major": 2,
       "version_minor": 0
      },
      "text/plain": [
       "  0%|          | 0/1000 [00:00<?, ?it/s]"
      ]
     },
     "metadata": {},
     "output_type": "display_data"
    },
    {
     "name": "stdout",
     "output_type": "stream",
     "text": [
      "MRR@100 = 0.0019\n",
      "\n",
      "(5, 70)\n",
      "--- 2.9676589965820312 seconds ---\n"
     ]
    },
    {
     "data": {
      "application/vnd.jupyter.widget-view+json": {
       "model_id": "33a6e15bfce24e859e59127b80709526",
       "version_major": 2,
       "version_minor": 0
      },
      "text/plain": [
       "  0%|          | 0/1000 [00:00<?, ?it/s]"
      ]
     },
     "metadata": {},
     "output_type": "display_data"
    },
    {
     "name": "stdout",
     "output_type": "stream",
     "text": [
      "MRR@100 = 0.0022\n",
      "\n",
      "(10, 10)\n",
      "--- 0.5626862049102783 seconds ---\n"
     ]
    },
    {
     "data": {
      "application/vnd.jupyter.widget-view+json": {
       "model_id": "ed3c85133248452ab9849492a2b0e7c7",
       "version_major": 2,
       "version_minor": 0
      },
      "text/plain": [
       "  0%|          | 0/1000 [00:00<?, ?it/s]"
      ]
     },
     "metadata": {},
     "output_type": "display_data"
    },
    {
     "name": "stdout",
     "output_type": "stream",
     "text": [
      "MRR@100 = 0.0015\n",
      "\n",
      "(10, 10)\n",
      "--- 0.6065049171447754 seconds ---\n"
     ]
    },
    {
     "data": {
      "application/vnd.jupyter.widget-view+json": {
       "model_id": "41559116ad044a14b29189d87e37f39c",
       "version_major": 2,
       "version_minor": 0
      },
      "text/plain": [
       "  0%|          | 0/1000 [00:00<?, ?it/s]"
      ]
     },
     "metadata": {},
     "output_type": "display_data"
    },
    {
     "name": "stdout",
     "output_type": "stream",
     "text": [
      "MRR@100 = 0.0018\n",
      "\n",
      "(10, 30)\n",
      "--- 1.5055367946624756 seconds ---\n"
     ]
    },
    {
     "data": {
      "application/vnd.jupyter.widget-view+json": {
       "model_id": "85f51fe26d784d53b3d580adc8ab2c67",
       "version_major": 2,
       "version_minor": 0
      },
      "text/plain": [
       "  0%|          | 0/1000 [00:00<?, ?it/s]"
      ]
     },
     "metadata": {},
     "output_type": "display_data"
    },
    {
     "name": "stdout",
     "output_type": "stream",
     "text": [
      "MRR@100 = 0.0015\n",
      "\n",
      "(10, 30)\n",
      "--- 1.524662971496582 seconds ---\n"
     ]
    },
    {
     "data": {
      "application/vnd.jupyter.widget-view+json": {
       "model_id": "ad0ee3ca55cf45b6aabc55d449e5cc67",
       "version_major": 2,
       "version_minor": 0
      },
      "text/plain": [
       "  0%|          | 0/1000 [00:00<?, ?it/s]"
      ]
     },
     "metadata": {},
     "output_type": "display_data"
    },
    {
     "name": "stdout",
     "output_type": "stream",
     "text": [
      "MRR@100 = 0.0019\n",
      "\n",
      "(10, 50)\n",
      "--- 2.408845901489258 seconds ---\n"
     ]
    },
    {
     "data": {
      "application/vnd.jupyter.widget-view+json": {
       "model_id": "26dbf0eaf93a449bb5c85163609feca8",
       "version_major": 2,
       "version_minor": 0
      },
      "text/plain": [
       "  0%|          | 0/1000 [00:00<?, ?it/s]"
      ]
     },
     "metadata": {},
     "output_type": "display_data"
    },
    {
     "name": "stdout",
     "output_type": "stream",
     "text": [
      "MRR@100 = 0.0018\n",
      "\n",
      "(10, 50)\n",
      "--- 3.045664072036743 seconds ---\n"
     ]
    },
    {
     "data": {
      "application/vnd.jupyter.widget-view+json": {
       "model_id": "da551b47cfb043e38a06fee2713fb10c",
       "version_major": 2,
       "version_minor": 0
      },
      "text/plain": [
       "  0%|          | 0/1000 [00:00<?, ?it/s]"
      ]
     },
     "metadata": {},
     "output_type": "display_data"
    },
    {
     "name": "stdout",
     "output_type": "stream",
     "text": [
      "MRR@100 = 0.0021\n",
      "\n",
      "(10, 70)\n",
      "--- 3.3034420013427734 seconds ---\n"
     ]
    },
    {
     "data": {
      "application/vnd.jupyter.widget-view+json": {
       "model_id": "884adb9e83bf455289ec1433bf782a3a",
       "version_major": 2,
       "version_minor": 0
      },
      "text/plain": [
       "  0%|          | 0/1000 [00:00<?, ?it/s]"
      ]
     },
     "metadata": {},
     "output_type": "display_data"
    },
    {
     "name": "stdout",
     "output_type": "stream",
     "text": [
      "MRR@100 = 0.0021\n",
      "\n",
      "(10, 70)\n",
      "--- 3.509676933288574 seconds ---\n"
     ]
    },
    {
     "data": {
      "application/vnd.jupyter.widget-view+json": {
       "model_id": "fb6e58acabf94c2087c565bec04ea006",
       "version_major": 2,
       "version_minor": 0
      },
      "text/plain": [
       "  0%|          | 0/1000 [00:00<?, ?it/s]"
      ]
     },
     "metadata": {},
     "output_type": "display_data"
    },
    {
     "name": "stdout",
     "output_type": "stream",
     "text": [
      "MRR@100 = 0.0021\n",
      "\n",
      "(20, 10)\n",
      "--- 0.7066490650177002 seconds ---\n"
     ]
    },
    {
     "data": {
      "application/vnd.jupyter.widget-view+json": {
       "model_id": "9f57eb7c888d40aab6ccc6205a717e58",
       "version_major": 2,
       "version_minor": 0
      },
      "text/plain": [
       "  0%|          | 0/1000 [00:00<?, ?it/s]"
      ]
     },
     "metadata": {},
     "output_type": "display_data"
    },
    {
     "name": "stdout",
     "output_type": "stream",
     "text": [
      "MRR@100 = 0.0005\n",
      "\n",
      "(20, 10)\n",
      "--- 0.8068680763244629 seconds ---\n"
     ]
    },
    {
     "data": {
      "application/vnd.jupyter.widget-view+json": {
       "model_id": "70124d53dd6542d9a6e832786e7ddaf2",
       "version_major": 2,
       "version_minor": 0
      },
      "text/plain": [
       "  0%|          | 0/1000 [00:00<?, ?it/s]"
      ]
     },
     "metadata": {},
     "output_type": "display_data"
    },
    {
     "name": "stdout",
     "output_type": "stream",
     "text": [
      "MRR@100 = 0.0008\n",
      "\n",
      "(20, 30)\n",
      "--- 1.8375308513641357 seconds ---\n"
     ]
    },
    {
     "data": {
      "application/vnd.jupyter.widget-view+json": {
       "model_id": "531efe1a346f48219c2e711f70d00bd1",
       "version_major": 2,
       "version_minor": 0
      },
      "text/plain": [
       "  0%|          | 0/1000 [00:00<?, ?it/s]"
      ]
     },
     "metadata": {},
     "output_type": "display_data"
    },
    {
     "name": "stdout",
     "output_type": "stream",
     "text": [
      "MRR@100 = 0.0005\n",
      "\n",
      "(20, 30)\n",
      "--- 2.033615827560425 seconds ---\n"
     ]
    },
    {
     "data": {
      "application/vnd.jupyter.widget-view+json": {
       "model_id": "1b17752262d74aaf94fff9b93d6a9d74",
       "version_major": 2,
       "version_minor": 0
      },
      "text/plain": [
       "  0%|          | 0/1000 [00:00<?, ?it/s]"
      ]
     },
     "metadata": {},
     "output_type": "display_data"
    },
    {
     "ename": "KeyboardInterrupt",
     "evalue": "",
     "output_type": "error",
     "traceback": [
      "\u001b[0;31m---------------------------------------------------------------------------\u001b[0m",
      "\u001b[0;31mKeyboardInterrupt\u001b[0m                         Traceback (most recent call last)",
      "Input \u001b[0;32mIn [104]\u001b[0m, in \u001b[0;36m<cell line: 1>\u001b[0;34m()\u001b[0m\n\u001b[1;32m      3\u001b[0m \u001b[38;5;28;01mfor\u001b[39;00m n_top_art \u001b[38;5;129;01min\u001b[39;00m [\u001b[38;5;241m50\u001b[39m, \u001b[38;5;241m100\u001b[39m]:\n\u001b[1;32m      4\u001b[0m     \u001b[38;5;28mprint\u001b[39m(\u001b[38;5;124mf\u001b[39m\u001b[38;5;124m'\u001b[39m\u001b[38;5;130;01m\\n\u001b[39;00m\u001b[38;5;132;01m{\u001b[39;00mn_comp, n_epochs\u001b[38;5;132;01m}\u001b[39;00m\u001b[38;5;124m'\u001b[39m)\n\u001b[0;32m----> 5\u001b[0m     \u001b[43moptimize\u001b[49m\u001b[43m(\u001b[49m\u001b[43mn_comp\u001b[49m\u001b[43m,\u001b[49m\u001b[43m \u001b[49m\u001b[43mn_epochs\u001b[49m\u001b[43m,\u001b[49m\u001b[43m  \u001b[49m\u001b[43mn_top_art\u001b[49m\u001b[38;5;241;43m=\u001b[39;49m\u001b[43mn_top_art\u001b[49m\u001b[43m)\u001b[49m\n",
      "Input \u001b[0;32mIn [102]\u001b[0m, in \u001b[0;36moptimize\u001b[0;34m(n_comp, n_epochs, learning_rate, n_top_art)\u001b[0m\n\u001b[1;32m     16\u001b[0m \u001b[38;5;28;01mfor\u001b[39;00m i \u001b[38;5;129;01min\u001b[39;00m top_items:\n\u001b[1;32m     17\u001b[0m     arr_tracks_of_artisit \u001b[38;5;241m=\u001b[39m (df_temp[df_temp[\u001b[38;5;124m'\u001b[39m\u001b[38;5;124martistId\u001b[39m\u001b[38;5;124m'\u001b[39m] \u001b[38;5;241m==\u001b[39m i]\n\u001b[1;32m     18\u001b[0m                              \u001b[38;5;241m.\u001b[39msort_values(by\u001b[38;5;241m=\u001b[39m\u001b[38;5;124m'\u001b[39m\u001b[38;5;124mcount\u001b[39m\u001b[38;5;124m'\u001b[39m, ascending\u001b[38;5;241m=\u001b[39m\u001b[38;5;28;01mFalse\u001b[39;00m)[\u001b[38;5;124m'\u001b[39m\u001b[38;5;124mtrackId\u001b[39m\u001b[38;5;124m'\u001b[39m]\n\u001b[1;32m     19\u001b[0m                              \u001b[38;5;241m.\u001b[39mhead(n_top_tracks)\u001b[38;5;241m.\u001b[39mvalues)\n\u001b[0;32m---> 20\u001b[0m     arr_tracks_of_artisit \u001b[38;5;241m=\u001b[39m arr_tracks_of_artisit[\u001b[38;5;241m~\u001b[39m\u001b[43mnp\u001b[49m\u001b[38;5;241;43m.\u001b[39;49m\u001b[43misin\u001b[49m\u001b[43m(\u001b[49m\u001b[43marr_tracks_of_artisit\u001b[49m\u001b[43m,\u001b[49m\u001b[43m \u001b[49m\u001b[43mval_tracks\u001b[49m\u001b[43m[\u001b[49m\u001b[43muser_id\u001b[49m\u001b[43m]\u001b[49m\u001b[43m)\u001b[49m]\n\u001b[1;32m     21\u001b[0m     top_res\u001b[38;5;241m.\u001b[39mextend(\u001b[38;5;28mlist\u001b[39m(arr_tracks_of_artisit))\n\u001b[1;32m     22\u001b[0m result\u001b[38;5;241m.\u001b[39mappend(\u001b[38;5;124m'\u001b[39m\u001b[38;5;124m \u001b[39m\u001b[38;5;124m'\u001b[39m\u001b[38;5;241m.\u001b[39mjoin(\u001b[38;5;28mmap\u001b[39m(\u001b[38;5;28mstr\u001b[39m, top_res)) \u001b[38;5;241m+\u001b[39m \u001b[38;5;124m'\u001b[39m\u001b[38;5;130;01m\\n\u001b[39;00m\u001b[38;5;124m'\u001b[39m)\n",
      "File \u001b[0;32m<__array_function__ internals>:5\u001b[0m, in \u001b[0;36misin\u001b[0;34m(*args, **kwargs)\u001b[0m\n",
      "File \u001b[0;32m~/opt/anaconda3/lib/python3.9/site-packages/numpy/lib/arraysetops.py:735\u001b[0m, in \u001b[0;36misin\u001b[0;34m(element, test_elements, assume_unique, invert)\u001b[0m\n\u001b[1;32m    642\u001b[0m \u001b[38;5;124;03m\"\"\"\u001b[39;00m\n\u001b[1;32m    643\u001b[0m \u001b[38;5;124;03mCalculates `element in test_elements`, broadcasting over `element` only.\u001b[39;00m\n\u001b[1;32m    644\u001b[0m \u001b[38;5;124;03mReturns a boolean array of the same shape as `element` that is True\u001b[39;00m\n\u001b[0;32m   (...)\u001b[0m\n\u001b[1;32m    732\u001b[0m \u001b[38;5;124;03m       [ True, False]])\u001b[39;00m\n\u001b[1;32m    733\u001b[0m \u001b[38;5;124;03m\"\"\"\u001b[39;00m\n\u001b[1;32m    734\u001b[0m element \u001b[38;5;241m=\u001b[39m np\u001b[38;5;241m.\u001b[39masarray(element)\n\u001b[0;32m--> 735\u001b[0m \u001b[38;5;28;01mreturn\u001b[39;00m \u001b[43min1d\u001b[49m\u001b[43m(\u001b[49m\u001b[43melement\u001b[49m\u001b[43m,\u001b[49m\u001b[43m \u001b[49m\u001b[43mtest_elements\u001b[49m\u001b[43m,\u001b[49m\u001b[43m \u001b[49m\u001b[43massume_unique\u001b[49m\u001b[38;5;241;43m=\u001b[39;49m\u001b[43massume_unique\u001b[49m\u001b[43m,\u001b[49m\n\u001b[1;32m    736\u001b[0m \u001b[43m            \u001b[49m\u001b[43minvert\u001b[49m\u001b[38;5;241;43m=\u001b[39;49m\u001b[43minvert\u001b[49m\u001b[43m)\u001b[49m\u001b[38;5;241m.\u001b[39mreshape(element\u001b[38;5;241m.\u001b[39mshape)\n",
      "File \u001b[0;32m<__array_function__ internals>:5\u001b[0m, in \u001b[0;36min1d\u001b[0;34m(*args, **kwargs)\u001b[0m\n",
      "File \u001b[0;32m~/opt/anaconda3/lib/python3.9/site-packages/numpy/lib/arraysetops.py:613\u001b[0m, in \u001b[0;36min1d\u001b[0;34m(ar1, ar2, assume_unique, invert)\u001b[0m\n\u001b[1;32m    611\u001b[0m \u001b[38;5;66;03m# Otherwise use sorting\u001b[39;00m\n\u001b[1;32m    612\u001b[0m \u001b[38;5;28;01mif\u001b[39;00m \u001b[38;5;129;01mnot\u001b[39;00m assume_unique:\n\u001b[0;32m--> 613\u001b[0m     ar1, rev_idx \u001b[38;5;241m=\u001b[39m \u001b[43mnp\u001b[49m\u001b[38;5;241;43m.\u001b[39;49m\u001b[43munique\u001b[49m\u001b[43m(\u001b[49m\u001b[43mar1\u001b[49m\u001b[43m,\u001b[49m\u001b[43m \u001b[49m\u001b[43mreturn_inverse\u001b[49m\u001b[38;5;241;43m=\u001b[39;49m\u001b[38;5;28;43;01mTrue\u001b[39;49;00m\u001b[43m)\u001b[49m\n\u001b[1;32m    614\u001b[0m     ar2 \u001b[38;5;241m=\u001b[39m np\u001b[38;5;241m.\u001b[39munique(ar2)\n\u001b[1;32m    616\u001b[0m ar \u001b[38;5;241m=\u001b[39m np\u001b[38;5;241m.\u001b[39mconcatenate((ar1, ar2))\n",
      "File \u001b[0;32m<__array_function__ internals>:5\u001b[0m, in \u001b[0;36munique\u001b[0;34m(*args, **kwargs)\u001b[0m\n",
      "File \u001b[0;32m~/opt/anaconda3/lib/python3.9/site-packages/numpy/lib/arraysetops.py:272\u001b[0m, in \u001b[0;36munique\u001b[0;34m(ar, return_index, return_inverse, return_counts, axis)\u001b[0m\n\u001b[1;32m    270\u001b[0m ar \u001b[38;5;241m=\u001b[39m np\u001b[38;5;241m.\u001b[39masanyarray(ar)\n\u001b[1;32m    271\u001b[0m \u001b[38;5;28;01mif\u001b[39;00m axis \u001b[38;5;129;01mis\u001b[39;00m \u001b[38;5;28;01mNone\u001b[39;00m:\n\u001b[0;32m--> 272\u001b[0m     ret \u001b[38;5;241m=\u001b[39m \u001b[43m_unique1d\u001b[49m\u001b[43m(\u001b[49m\u001b[43mar\u001b[49m\u001b[43m,\u001b[49m\u001b[43m \u001b[49m\u001b[43mreturn_index\u001b[49m\u001b[43m,\u001b[49m\u001b[43m \u001b[49m\u001b[43mreturn_inverse\u001b[49m\u001b[43m,\u001b[49m\u001b[43m \u001b[49m\u001b[43mreturn_counts\u001b[49m\u001b[43m)\u001b[49m\n\u001b[1;32m    273\u001b[0m     \u001b[38;5;28;01mreturn\u001b[39;00m _unpack_tuple(ret)\n\u001b[1;32m    275\u001b[0m \u001b[38;5;66;03m# axis was specified and not None\u001b[39;00m\n",
      "File \u001b[0;32m~/opt/anaconda3/lib/python3.9/site-packages/numpy/lib/arraysetops.py:354\u001b[0m, in \u001b[0;36m_unique1d\u001b[0;34m(ar, return_index, return_inverse, return_counts)\u001b[0m\n\u001b[1;32m    352\u001b[0m     ret \u001b[38;5;241m+\u001b[39m\u001b[38;5;241m=\u001b[39m (perm[mask],)\n\u001b[1;32m    353\u001b[0m \u001b[38;5;28;01mif\u001b[39;00m return_inverse:\n\u001b[0;32m--> 354\u001b[0m     imask \u001b[38;5;241m=\u001b[39m \u001b[43mnp\u001b[49m\u001b[38;5;241;43m.\u001b[39;49m\u001b[43mcumsum\u001b[49m\u001b[43m(\u001b[49m\u001b[43mmask\u001b[49m\u001b[43m)\u001b[49m \u001b[38;5;241m-\u001b[39m \u001b[38;5;241m1\u001b[39m\n\u001b[1;32m    355\u001b[0m     inv_idx \u001b[38;5;241m=\u001b[39m np\u001b[38;5;241m.\u001b[39mempty(mask\u001b[38;5;241m.\u001b[39mshape, dtype\u001b[38;5;241m=\u001b[39mnp\u001b[38;5;241m.\u001b[39mintp)\n\u001b[1;32m    356\u001b[0m     inv_idx[perm] \u001b[38;5;241m=\u001b[39m imask\n",
      "File \u001b[0;32m<__array_function__ internals>:5\u001b[0m, in \u001b[0;36mcumsum\u001b[0;34m(*args, **kwargs)\u001b[0m\n",
      "File \u001b[0;32m~/opt/anaconda3/lib/python3.9/site-packages/numpy/core/fromnumeric.py:2458\u001b[0m, in \u001b[0;36mcumsum\u001b[0;34m(a, axis, dtype, out)\u001b[0m\n\u001b[1;32m   2454\u001b[0m \u001b[38;5;28;01mdef\u001b[39;00m \u001b[38;5;21m_cumsum_dispatcher\u001b[39m(a, axis\u001b[38;5;241m=\u001b[39m\u001b[38;5;28;01mNone\u001b[39;00m, dtype\u001b[38;5;241m=\u001b[39m\u001b[38;5;28;01mNone\u001b[39;00m, out\u001b[38;5;241m=\u001b[39m\u001b[38;5;28;01mNone\u001b[39;00m):\n\u001b[1;32m   2455\u001b[0m     \u001b[38;5;28;01mreturn\u001b[39;00m (a, out)\n\u001b[0;32m-> 2458\u001b[0m \u001b[38;5;129m@array_function_dispatch\u001b[39m(_cumsum_dispatcher)\n\u001b[1;32m   2459\u001b[0m \u001b[38;5;28;01mdef\u001b[39;00m \u001b[38;5;21mcumsum\u001b[39m(a, axis\u001b[38;5;241m=\u001b[39m\u001b[38;5;28;01mNone\u001b[39;00m, dtype\u001b[38;5;241m=\u001b[39m\u001b[38;5;28;01mNone\u001b[39;00m, out\u001b[38;5;241m=\u001b[39m\u001b[38;5;28;01mNone\u001b[39;00m):\n\u001b[1;32m   2460\u001b[0m     \u001b[38;5;124;03m\"\"\"\u001b[39;00m\n\u001b[1;32m   2461\u001b[0m \u001b[38;5;124;03m    Return the cumulative sum of the elements along a given axis.\u001b[39;00m\n\u001b[1;32m   2462\u001b[0m \n\u001b[0;32m   (...)\u001b[0m\n\u001b[1;32m   2530\u001b[0m \n\u001b[1;32m   2531\u001b[0m \u001b[38;5;124;03m    \"\"\"\u001b[39;00m\n\u001b[1;32m   2532\u001b[0m     \u001b[38;5;28;01mreturn\u001b[39;00m _wrapfunc(a, \u001b[38;5;124m'\u001b[39m\u001b[38;5;124mcumsum\u001b[39m\u001b[38;5;124m'\u001b[39m, axis\u001b[38;5;241m=\u001b[39maxis, dtype\u001b[38;5;241m=\u001b[39mdtype, out\u001b[38;5;241m=\u001b[39mout)\n",
      "\u001b[0;31mKeyboardInterrupt\u001b[0m: "
     ]
    }
   ],
   "source": [
    "for n_comp in [3, 5, 10, 20]:\n",
    "    for n_epochs in [10, 30, 50, 70]:\n",
    "        for n_top_art in [50, 100]:\n",
    "            print(f'\\n{n_comp, n_epochs}')\n",
    "            optimize(n_comp, n_epochs,  n_top_art=n_top_art)"
   ]
  },
  {
   "cell_type": "code",
   "execution_count": 85,
   "id": "ce9050bd",
   "metadata": {},
   "outputs": [],
   "source": [
    "import time\n",
    "\n",
    "def optimize(n_comp, n_epochs, learning_rate=0.05, n_top_tracks=2, power=1):\n",
    "    n_top_art = 100\n",
    "    start_time = time.time()\n",
    "    model = LightFM(no_components=n_comp, loss='warp', learning_rate=learning_rate, random_state=42)\n",
    "    model.fit(user_item, epochs=n_epochs)\n",
    "    print(\"--- %s seconds ---\" % (time.time() - start_time))\n",
    "    result = []\n",
    "    items = np.unique(arr_cols)\n",
    "    for user_id in tqdm(val_id):\n",
    "        scores = model.predict(int(user_id), items)\n",
    "        arr_id = np.argsort(-scores)[:n_top_art]\n",
    "        scores.sort()\n",
    "        best_scores = scores[-n_top_art:]\n",
    "        top_items = items[arr_id]\n",
    "        top_res = []\n",
    "        for i, j in zip(top_items, best_scores):\n",
    "            arr_tracks_of_artisit = (df_temp[df_temp['artistId'] == i]\n",
    "                                     .sort_values(by='count', ascending=False)['trackId']\n",
    "                                     .head(n_top_tracks).values)\n",
    "            \n",
    "            arr_scores_pop = (df_temp[df_temp['artistId'] == i]\n",
    "                                     .sort_values(by='count', ascending=False)['count']\n",
    "                                     .head(n_top_tracks).values)\n",
    "            \n",
    "            arr_scores_pop = arr_scores_pop / max(arr_scores_pop) * j**power\n",
    "            ls_zip = list(zip(arr_tracks_of_artisit, arr_scores_pop))\n",
    "            ls = [i for i in ls_zip if i[0] not in val_tracks[user_id]]\n",
    "            top_res.extend(ls)\n",
    "        top_res = sorted(top_res, key=lambda x: x[1])\n",
    "        top_res = [i[0] for i in top_res[-100:]]\n",
    "        result.append(' '.join(map(str, top_res)) + '\\n')\n",
    "        \n",
    "    with open('/Users/david/Documents/GitHub/YandexCup_RecSys/first_lightfm', 'w') as f:\n",
    "        f.writelines(result)\n",
    "    \n",
    "    with open('/Users/david/Documents/GitHub/YandexCup_RecSys/first_lightfm_target', 'w') as f:\n",
    "        for i in target_val:\n",
    "            f.write(f'{i}\\n')\n",
    "            \n",
    "    calc_score('/Users/david/Documents/GitHub/YandexCup_RecSys/first_lightfm_target',\n",
    "               \"/Users/david/Documents/GitHub/YandexCup_RecSys/first_lightfm\")"
   ]
  },
  {
   "cell_type": "code",
   "execution_count": 94,
   "id": "b3793f64",
   "metadata": {},
   "outputs": [
    {
     "name": "stdout",
     "output_type": "stream",
     "text": [
      "--- 1.21596097946167 seconds ---\n"
     ]
    },
    {
     "data": {
      "application/vnd.jupyter.widget-view+json": {
       "model_id": "ceb3b2a5eac84dd9b1a7127d441a322c",
       "version_major": 2,
       "version_minor": 0
      },
      "text/plain": [
       "  0%|          | 0/1000 [00:00<?, ?it/s]"
      ]
     },
     "metadata": {},
     "output_type": "display_data"
    },
    {
     "name": "stdout",
     "output_type": "stream",
     "text": [
      "MRR@100 = 0.0020\n"
     ]
    }
   ],
   "source": [
    "optimize(3, 30, n_top_tracks=2, power=10)"
   ]
  },
  {
   "cell_type": "code",
   "execution_count": 100,
   "id": "ac97d924",
   "metadata": {},
   "outputs": [
    {
     "name": "stdout",
     "output_type": "stream",
     "text": [
      "--- 2.162593126296997 seconds ---\n"
     ]
    },
    {
     "data": {
      "application/vnd.jupyter.widget-view+json": {
       "model_id": "2e99096047ce4e8eb7b97a070bee3971",
       "version_major": 2,
       "version_minor": 0
      },
      "text/plain": [
       "  0%|          | 0/1000 [00:00<?, ?it/s]"
      ]
     },
     "metadata": {},
     "output_type": "display_data"
    },
    {
     "name": "stdout",
     "output_type": "stream",
     "text": [
      "MRR@100 = 0.0004\n"
     ]
    }
   ],
   "source": [
    "optimize(5, 50, n_top_tracks=2, power=10)"
   ]
  },
  {
   "cell_type": "code",
   "execution_count": 123,
   "id": "e08bc607",
   "metadata": {},
   "outputs": [
    {
     "data": {
      "text/html": [
       "<div>\n",
       "<style scoped>\n",
       "    .dataframe tbody tr th:only-of-type {\n",
       "        vertical-align: middle;\n",
       "    }\n",
       "\n",
       "    .dataframe tbody tr th {\n",
       "        vertical-align: top;\n",
       "    }\n",
       "\n",
       "    .dataframe thead th {\n",
       "        text-align: right;\n",
       "    }\n",
       "</style>\n",
       "<table border=\"1\" class=\"dataframe\">\n",
       "  <thead>\n",
       "    <tr style=\"text-align: right;\">\n",
       "      <th></th>\n",
       "      <th>trackId</th>\n",
       "      <th>artistId</th>\n",
       "      <th>count</th>\n",
       "    </tr>\n",
       "  </thead>\n",
       "  <tbody>\n",
       "    <tr>\n",
       "      <th>121558</th>\n",
       "      <td>101675</td>\n",
       "      <td>24525</td>\n",
       "      <td>243</td>\n",
       "    </tr>\n",
       "    <tr>\n",
       "      <th>82374</th>\n",
       "      <td>142951</td>\n",
       "      <td>24525</td>\n",
       "      <td>193</td>\n",
       "    </tr>\n",
       "    <tr>\n",
       "      <th>86991</th>\n",
       "      <td>14714</td>\n",
       "      <td>24525</td>\n",
       "      <td>176</td>\n",
       "    </tr>\n",
       "    <tr>\n",
       "      <th>105632</th>\n",
       "      <td>331149</td>\n",
       "      <td>24525</td>\n",
       "      <td>121</td>\n",
       "    </tr>\n",
       "    <tr>\n",
       "      <th>134940</th>\n",
       "      <td>357432</td>\n",
       "      <td>24525</td>\n",
       "      <td>104</td>\n",
       "    </tr>\n",
       "    <tr>\n",
       "      <th>...</th>\n",
       "      <td>...</td>\n",
       "      <td>...</td>\n",
       "      <td>...</td>\n",
       "    </tr>\n",
       "    <tr>\n",
       "      <th>92907</th>\n",
       "      <td>352469</td>\n",
       "      <td>24525</td>\n",
       "      <td>1</td>\n",
       "    </tr>\n",
       "    <tr>\n",
       "      <th>93615</th>\n",
       "      <td>391119</td>\n",
       "      <td>24525</td>\n",
       "      <td>1</td>\n",
       "    </tr>\n",
       "    <tr>\n",
       "      <th>96048</th>\n",
       "      <td>17990</td>\n",
       "      <td>24525</td>\n",
       "      <td>1</td>\n",
       "    </tr>\n",
       "    <tr>\n",
       "      <th>96275</th>\n",
       "      <td>283822</td>\n",
       "      <td>24525</td>\n",
       "      <td>1</td>\n",
       "    </tr>\n",
       "    <tr>\n",
       "      <th>170390</th>\n",
       "      <td>175249</td>\n",
       "      <td>24525</td>\n",
       "      <td>1</td>\n",
       "    </tr>\n",
       "  </tbody>\n",
       "</table>\n",
       "<p>373 rows × 3 columns</p>\n",
       "</div>"
      ],
      "text/plain": [
       "        trackId  artistId  count\n",
       "121558   101675     24525    243\n",
       "82374    142951     24525    193\n",
       "86991     14714     24525    176\n",
       "105632   331149     24525    121\n",
       "134940   357432     24525    104\n",
       "...         ...       ...    ...\n",
       "92907    352469     24525      1\n",
       "93615    391119     24525      1\n",
       "96048     17990     24525      1\n",
       "96275    283822     24525      1\n",
       "170390   175249     24525      1\n",
       "\n",
       "[373 rows x 3 columns]"
      ]
     },
     "execution_count": 123,
     "metadata": {},
     "output_type": "execute_result"
    }
   ],
   "source": [
    "df_temp[df_temp['artistId'] == 24525].sort_values(by='count', ascending=False)"
   ]
  },
  {
   "cell_type": "code",
   "execution_count": 124,
   "id": "528dd1be",
   "metadata": {},
   "outputs": [],
   "source": [
    "import time\n",
    "\n",
    "def optimize(n_comp, n_epochs, learning_rate=0.05, n_top_art=100):\n",
    "    n_top_tracks = 100 // n_top_art\n",
    "    start_time = time.time()\n",
    "    model = LightFM(no_components=n_comp, loss='warp', learning_rate=learning_rate, random_state=42)\n",
    "    model.fit(user_item, epochs=n_epochs)\n",
    "    print(\"--- %s seconds ---\" % (time.time() - start_time))\n",
    "    result = []\n",
    "    items = np.unique(arr_cols)\n",
    "    for user_id in tqdm(val_id):\n",
    "        scores = model.predict(int(user_id), items)\n",
    "        arr_id = np.argsort(-scores)[:n_top_art]\n",
    "        top_items = items[arr_id]\n",
    "        top_res = []\n",
    "        for i in top_items:\n",
    "            arr_tracks_of_artisit = (df_temp[df_temp['artistId'] == i]\n",
    "                                     .sort_values(by='count', ascending=False)['trackId']\n",
    "                                     .head(n_top_tracks).values)\n",
    "            arr_tracks_of_artisit = arr_tracks_of_artisit[~np.isin(arr_tracks_of_artisit, val_tracks[user_id])]\n",
    "            top_res.extend(list(arr_tracks_of_artisit))\n",
    "        result.append(' '.join(map(str, top_res)) + '\\n')\n",
    "        \n",
    "    with open('/Users/david/Documents/GitHub/YandexCup_RecSys/first_lightfm', 'w') as f:\n",
    "        f.writelines(result)\n",
    "    \n",
    "    with open('/Users/david/Documents/GitHub/YandexCup_RecSys/first_lightfm_target', 'w') as f:\n",
    "        for i in target_val:\n",
    "            f.write(f'{i}\\n')\n",
    "            \n",
    "    calc_score('/Users/david/Documents/GitHub/YandexCup_RecSys/first_lightfm_target',\n",
    "               \"/Users/david/Documents/GitHub/YandexCup_RecSys/first_lightfm\")"
   ]
  },
  {
   "cell_type": "code",
   "execution_count": 128,
   "id": "1df0e581",
   "metadata": {
    "scrolled": false
   },
   "outputs": [
    {
     "name": "stdout",
     "output_type": "stream",
     "text": [
      "\n",
      "(5, 9)\n",
      "--- 0.42342305183410645 seconds ---\n"
     ]
    },
    {
     "data": {
      "application/vnd.jupyter.widget-view+json": {
       "model_id": "ef1ddd8f18d343fcb0b4b1885dfbef30",
       "version_major": 2,
       "version_minor": 0
      },
      "text/plain": [
       "  0%|          | 0/1000 [00:00<?, ?it/s]"
      ]
     },
     "metadata": {},
     "output_type": "display_data"
    },
    {
     "name": "stdout",
     "output_type": "stream",
     "text": [
      "MRR@100 = 0.0034\n",
      "\n",
      "(5, 10)\n",
      "--- 0.5157999992370605 seconds ---\n"
     ]
    },
    {
     "data": {
      "application/vnd.jupyter.widget-view+json": {
       "model_id": "35613027a7dc4f14bc1836c9d4960566",
       "version_major": 2,
       "version_minor": 0
      },
      "text/plain": [
       "  0%|          | 0/1000 [00:00<?, ?it/s]"
      ]
     },
     "metadata": {},
     "output_type": "display_data"
    },
    {
     "name": "stdout",
     "output_type": "stream",
     "text": [
      "MRR@100 = 0.0033\n",
      "\n",
      "(5, 11)\n",
      "--- 0.5549161434173584 seconds ---\n"
     ]
    },
    {
     "data": {
      "application/vnd.jupyter.widget-view+json": {
       "model_id": "ed0a15d35ed24082bb13d3c6b714d5da",
       "version_major": 2,
       "version_minor": 0
      },
      "text/plain": [
       "  0%|          | 0/1000 [00:00<?, ?it/s]"
      ]
     },
     "metadata": {},
     "output_type": "display_data"
    },
    {
     "name": "stdout",
     "output_type": "stream",
     "text": [
      "MRR@100 = 0.0028\n"
     ]
    }
   ],
   "source": [
    "for n_epochs in [9, 10, 11]:\n",
    "        print(f'\\n{5, n_epochs}')\n",
    "        optimize(5, n_epochs)"
   ]
  },
  {
   "cell_type": "markdown",
   "id": "db61ec5e",
   "metadata": {},
   "source": [
    "## Valid 100k artist-based"
   ]
  },
  {
   "cell_type": "code",
   "execution_count": 1,
   "id": "756a59fb",
   "metadata": {},
   "outputs": [
    {
     "name": "stdout",
     "output_type": "stream",
     "text": [
      "CPU times: user 1.97 s, sys: 913 ms, total: 2.88 s\n",
      "Wall time: 7.06 s\n"
     ]
    },
    {
     "name": "stderr",
     "output_type": "stream",
     "text": [
      "/Users/david/opt/anaconda3/lib/python3.9/site-packages/lightfm/_lightfm_fast.py:9: UserWarning: LightFM was compiled without OpenMP support. Only a single thread will be used.\n",
      "  warnings.warn(\n"
     ]
    }
   ],
   "source": [
    "%%time\n",
    "import numpy as np\n",
    "import pandas as pd\n",
    "from scipy.sparse import csr_matrix, coo_matrix\n",
    "from sklearn.neighbors import NearestNeighbors\n",
    "from lightfm import LightFM\n",
    "from tqdm.auto import tqdm"
   ]
  },
  {
   "cell_type": "code",
   "execution_count": 9,
   "id": "05a40565",
   "metadata": {},
   "outputs": [
    {
     "name": "stdout",
     "output_type": "stream",
     "text": [
      "CPU times: user 2.53 s, sys: 488 ms, total: 3.02 s\n",
      "Wall time: 4.31 s\n"
     ]
    }
   ],
   "source": [
    "%%time\n",
    "df = pd.read_csv('/Users/david/Documents/GitHub/YandexCup_RecSys/track_artists.csv')\n",
    "arr_item = df['trackId'].values\n",
    "arr_feature = df['artistId'].values\n",
    "\n",
    "from collections import Counter\n",
    "cnt = Counter(all_tracks)\n",
    "dict(cnt)\n",
    "pop = pd.Series(cnt).to_frame().reset_index()\n",
    "pop.columns = ['trackId', 'count']\n",
    "df_temp = df.merge(pop)"
   ]
  },
  {
   "cell_type": "code",
   "execution_count": 7,
   "id": "e6b7bcfa",
   "metadata": {},
   "outputs": [
    {
     "data": {
      "application/vnd.jupyter.widget-view+json": {
       "model_id": "0c05aecaa33e45d9be7ca5de9686e982",
       "version_major": 2,
       "version_minor": 0
      },
      "text/plain": [
       "  0%|          | 0/1160084 [00:00<?, ?it/s]"
      ]
     },
     "metadata": {},
     "output_type": "display_data"
    },
    {
     "name": "stdout",
     "output_type": "stream",
     "text": [
      "CPU times: user 1min 37s, sys: 2.63 s, total: 1min 40s\n",
      "Wall time: 1min 52s\n"
     ]
    }
   ],
   "source": [
    "%%time\n",
    "\n",
    "dict_user_item = {}\n",
    "target_val = []\n",
    "val_id = np.random.randint(300_000, 400_000, size=10_000)\n",
    "val_id.sort()\n",
    "val_tracks = {}\n",
    "all_tracks = []\n",
    "with open('/Users/david/Documents/GitHub/YandexCup_RecSys/train') as f:\n",
    "    lines = f.readlines()\n",
    "    idx = 0 \n",
    "    for line in tqdm(lines):\n",
    "        idx += 1\n",
    "        if idx < 300_000:\n",
    "            continue\n",
    "        tracks = line.strip().split(' ')\n",
    "        for i, track in enumerate(tracks):\n",
    "            if idx in val_id and i == 0:\n",
    "                tracks_arr = np.array(tracks)\n",
    "                tracks_arr = tracks_arr.astype(np.int32)\n",
    "                val_tracks[idx] = tracks_arr[:-1]\n",
    "            if idx in val_id and i+1 == len(tracks):\n",
    "                target_val.append(track)\n",
    "                continue\n",
    "            if i == 0:\n",
    "                dict_user_item[idx] = []\n",
    "            dict_user_item[idx].append(int(track))\n",
    "            all_tracks.append(int(track))\n",
    "        if idx > 400_000:\n",
    "            break\n",
    " "
   ]
  },
  {
   "cell_type": "code",
   "execution_count": 10,
   "id": "31c3bd14",
   "metadata": {
    "scrolled": true
   },
   "outputs": [
    {
     "data": {
      "application/vnd.jupyter.widget-view+json": {
       "model_id": "bf74e44cc1dc40018998d2f0df6d9162",
       "version_major": 2,
       "version_minor": 0
      },
      "text/plain": [
       "  0%|          | 0/100002 [00:00<?, ?it/s]"
      ]
     },
     "metadata": {},
     "output_type": "display_data"
    },
    {
     "name": "stdout",
     "output_type": "stream",
     "text": [
      "CPU times: user 47min 37s, sys: 20.6 s, total: 47min 58s\n",
      "Wall time: 1h 15min 48s\n"
     ]
    }
   ],
   "source": [
    "%%time\n",
    "from scipy.sparse import coo_matrix\n",
    "\n",
    "rows = []\n",
    "cols = []\n",
    "data = []\n",
    "for idx, tracks in tqdm(dict_user_item.items()):\n",
    "    temp = {}\n",
    "    for track in tracks:\n",
    "        artist = df[df['trackId'] == track]['artistId'].values[0]\n",
    "        if artist not in temp:\n",
    "            temp[artist] = 0\n",
    "        temp[artist] += 1\n",
    "    \n",
    "    rows.extend([idx for i in temp])\n",
    "    cols.extend([i for i in temp.keys()])\n",
    "    data.extend([i / max(temp.values()) for i in temp.values()])\n",
    "\n",
    "arr_rows = np.array(rows)\n",
    "arr_cols = np.array(cols)\n",
    "arr_data = np.array(data)\n",
    "user_item = coo_matrix((arr_data, (arr_rows, arr_cols)), dtype=np.int32)"
   ]
  },
  {
   "cell_type": "code",
   "execution_count": 13,
   "id": "8cb1bc76",
   "metadata": {},
   "outputs": [],
   "source": [
    "def calc_mrr(predict, answer):\n",
    "    for i in range(len(predict)):\n",
    "        if predict[i] == answer:\n",
    "            return 1. / (i + 1)\n",
    "    return 0\n",
    "\n",
    "max_prediction_len = 100\n",
    "\n",
    "def calc_score(target_path, predict_path):\n",
    "    with open(target_path) as f:\n",
    "        y_true = [int(x.strip()) for x in f.readlines()]\n",
    "\n",
    "    with open(predict_path) as f:\n",
    "        y_pred = [[int(x) for x in line.strip().split(' ')] for line in f.readlines()]\n",
    "\n",
    "    mrr_score = 0\n",
    "    for (pred, answer) in zip(y_pred, y_true):\n",
    "        if len(pred) > max_prediction_len:\n",
    "            raise ValueError('$maximum prediction length is {}, got {}$'.format(max_prediction_len, len(y_pred[i])))\n",
    "        mrr_score += calc_mrr(pred, answer)\n",
    "\n",
    "    print(f\"MRR@100 = {(mrr_score / len(y_true)):.4f}\")"
   ]
  },
  {
   "cell_type": "code",
   "execution_count": 14,
   "id": "641c52e1",
   "metadata": {},
   "outputs": [],
   "source": [
    "import time\n",
    "\n",
    "def optimize(n_comp=5, n_epochs=9, learning_rate=0.05):\n",
    "    start_time = time.time()\n",
    "    model = LightFM(no_components=n_comp, loss='warp', learning_rate=learning_rate, random_state=42)\n",
    "    model.fit(user_item, epochs=n_epochs)\n",
    "    print(\"--- %s seconds ---\" % (time.time() - start_time))\n",
    "    result = []\n",
    "    items = np.unique(arr_cols)\n",
    "    for user_id in tqdm(val_id):\n",
    "        scores = model.predict(int(user_id), items)\n",
    "        arr_id = np.argsort(-scores)[:350]\n",
    "        top_items = items[arr_id]\n",
    "        top_res = []\n",
    "        for i in top_items:\n",
    "            track_of_artisit = (df_temp[df_temp['artistId'] == i]\n",
    "                                     .sort_values(by='count', ascending=False)['trackId']\n",
    "                                     .head(1).values)[0]\n",
    "            if not np.isin(track_of_artisit, val_tracks[int(user_id)]):\n",
    "                top_res.append(track_of_artisit)\n",
    "            if len(top_res) == 100:\n",
    "                break\n",
    "        result.append(' '.join(map(str, top_res)) + '\\n')\n",
    "        \n",
    "    with open('/Users/david/Documents/GitHub/YandexCup_RecSys/first_lightfm', 'w') as f:\n",
    "        f.writelines(result)\n",
    "    \n",
    "    with open('/Users/david/Documents/GitHub/YandexCup_RecSys/first_lightfm_target', 'w') as f:\n",
    "        for i in target_val:\n",
    "            f.write(f'{i}\\n')\n",
    "            \n",
    "    calc_score('/Users/david/Documents/GitHub/YandexCup_RecSys/first_lightfm_target',\n",
    "               \"/Users/david/Documents/GitHub/YandexCup_RecSys/first_lightfm\")"
   ]
  },
  {
   "cell_type": "code",
   "execution_count": 15,
   "id": "de0526be",
   "metadata": {},
   "outputs": [
    {
     "name": "stdout",
     "output_type": "stream",
     "text": [
      "--- 4.980743169784546 seconds ---\n"
     ]
    },
    {
     "data": {
      "application/vnd.jupyter.widget-view+json": {
       "model_id": "a8898f61e33e4fe4a6d004c0aa64acec",
       "version_major": 2,
       "version_minor": 0
      },
      "text/plain": [
       "  0%|          | 0/10000 [00:00<?, ?it/s]"
      ]
     },
     "metadata": {},
     "output_type": "display_data"
    },
    {
     "name": "stdout",
     "output_type": "stream",
     "text": [
      "MRR@100 = 0.0019\n"
     ]
    }
   ],
   "source": [
    "optimize()"
   ]
  }
 ],
 "metadata": {
  "kernelspec": {
   "display_name": "Python 3 (ipykernel)",
   "language": "python",
   "name": "python3"
  },
  "language_info": {
   "codemirror_mode": {
    "name": "ipython",
    "version": 3
   },
   "file_extension": ".py",
   "mimetype": "text/x-python",
   "name": "python",
   "nbconvert_exporter": "python",
   "pygments_lexer": "ipython3",
   "version": "3.10.5"
  }
 },
 "nbformat": 4,
 "nbformat_minor": 5
}
