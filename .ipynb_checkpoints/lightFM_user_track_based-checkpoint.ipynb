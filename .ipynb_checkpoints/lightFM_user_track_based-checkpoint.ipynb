{
 "cells": [
  {
   "cell_type": "code",
   "execution_count": 93,
   "id": "50863aad",
   "metadata": {},
   "outputs": [
    {
     "name": "stdout",
     "output_type": "stream",
     "text": [
      "CPU times: user 56 µs, sys: 1.22 ms, total: 1.28 ms\n",
      "Wall time: 5.14 ms\n"
     ]
    }
   ],
   "source": [
    "%%time\n",
    "import numpy as np\n",
    "import pandas as pd\n",
    "from scipy.sparse import csr_matrix, coo_matrix\n",
    "from sklearn.neighbors import NearestNeighbors\n",
    "from lightfm import LightFM"
   ]
  },
  {
   "cell_type": "code",
   "execution_count": 94,
   "id": "8a7abe99",
   "metadata": {},
   "outputs": [],
   "source": [
    "def calc_mrr(predict, answer):\n",
    "    for i in range(len(predict)):\n",
    "        if predict[i] == answer:\n",
    "            return 1. / (i + 1)\n",
    "    return 0\n",
    "\n",
    "max_prediction_len = 100\n",
    "\n",
    "def calc_score(target_path, predict_path):\n",
    "    with open(target_path) as f:\n",
    "        y_true = [int(x.strip()) for x in f.readlines()]\n",
    "\n",
    "    with open(predict_path) as f:\n",
    "        y_pred = [[int(x) for x in line.strip().split(' ')] for line in f.readlines()]\n",
    "\n",
    "    mrr_score = 0\n",
    "    for (pred, answer) in zip(y_pred, y_true):\n",
    "        if len(pred) > max_prediction_len:\n",
    "            raise ValueError('$maximum prediction length is {}, got {}$'.format(max_prediction_len, len(y_pred[i])))\n",
    "        mrr_score += calc_mrr(pred, answer)\n",
    "\n",
    "    print(f\"MRR@100 = {(mrr_score / len(y_true)):.4f}\")"
   ]
  },
  {
   "cell_type": "code",
   "execution_count": 95,
   "id": "951dce86",
   "metadata": {},
   "outputs": [
    {
     "name": "stdout",
     "output_type": "stream",
     "text": [
      "CPU times: user 37.9 ms, sys: 57.5 ms, total: 95.5 ms\n",
      "Wall time: 382 ms\n"
     ]
    }
   ],
   "source": [
    "%%time\n",
    "df = pd.read_csv('/Users/david/Documents/GitHub/YandexCup_RecSys/track_artists.csv')\n",
    "arr_item = df['trackId'].values\n",
    "arr_feature = df['artistId'].values\n",
    "ones = np.ones(len(arr_item))\n",
    "item_features = coo_matrix((ones, (arr_item, arr_feature)), dtype=np.int8)"
   ]
  },
  {
   "cell_type": "code",
   "execution_count": 96,
   "id": "fb3a6edf",
   "metadata": {},
   "outputs": [
    {
     "name": "stdout",
     "output_type": "stream",
     "text": [
      "CPU times: user 1.97 s, sys: 4.26 s, total: 6.23 s\n",
      "Wall time: 34 s\n"
     ]
    }
   ],
   "source": [
    "%%time\n",
    "\n",
    "list_coord = []\n",
    "target_val = []\n",
    "val_id = np.random.randint(0, 10000, size=1000)\n",
    "val_id.sort()\n",
    "\n",
    "with open('/Users/david/Documents/GitHub/YandexCup_RecSys/train') as f:\n",
    "    lines = f.readlines()\n",
    "    idx = 0 \n",
    "    for line in lines:\n",
    "        tracks = line.strip().split(' ')\n",
    "        for i, track in enumerate(tracks):\n",
    "            if idx in val_id and i+1 == len(tracks):\n",
    "                target_val.append(track)\n",
    "                continue\n",
    "            list_coord.append((idx, track))\n",
    "        idx += 1\n",
    "        if idx > 10000:\n",
    "            break"
   ]
  },
  {
   "cell_type": "code",
   "execution_count": 97,
   "id": "b8a66317",
   "metadata": {
    "scrolled": true
   },
   "outputs": [
    {
     "name": "stdout",
     "output_type": "stream",
     "text": [
      "CPU times: user 320 ms, sys: 105 ms, total: 425 ms\n",
      "Wall time: 1.04 s\n"
     ]
    }
   ],
   "source": [
    "%%time\n",
    "from scipy.sparse import coo_matrix\n",
    "rows = [i[0] for i in list_coord]\n",
    "cols = [i[1] for i in list_coord]\n",
    "arr_rows = np.array(rows)\n",
    "arr_cols = np.array(cols)\n",
    "arr_cols = arr_cols.astype(np.int32)\n",
    "ones = np.ones(len(list_coord))\n",
    "user_item = coo_matrix((ones, (arr_rows, arr_cols)), dtype=np.int32)\n",
    "#item_user = coo_matrix((ones, (arr_cols, arr_rows)), dtype=np.int32)"
   ]
  },
  {
   "cell_type": "markdown",
   "id": "b88d1809",
   "metadata": {},
   "source": []
  },
  {
   "cell_type": "code",
   "execution_count": 100,
   "id": "c8132660",
   "metadata": {},
   "outputs": [],
   "source": [
    "from tqdm.auto import tqdm\n",
    "\n",
    "def optimize(n_comp, n_epochs):\n",
    "    start_time = time.time()\n",
    "    model = LightFM(no_components=n_comp, loss='warp', random_state=42)\n",
    "    model.fit(user_item, epochs=n_epochs)\n",
    "    print(\"--- %s seconds ---\" % (time.time() - start_time))\n",
    "\n",
    "    result = []\n",
    "    items = np.unique(arr_cols)\n",
    "    for user_id in tqdm(val_id):\n",
    "        scores = model.predict(int(user_id), items)\n",
    "        arr_id = np.argsort(-scores)[:100]\n",
    "        top_items = items[arr_id]\n",
    "        result.append(' '.join(map(str, top_items)) + '\\n')\n",
    "        \n",
    "    with open('/Users/david/Documents/GitHub/YandexCup_RecSys/first_lightfm', 'w') as f:\n",
    "        f.writelines(result)\n",
    "    \n",
    "    with open('/Users/david/Documents/GitHub/YandexCup_RecSys/first_lightfm_target', 'w') as f:\n",
    "        for i in target_val:\n",
    "            f.write(f'{i}\\n')\n",
    "            \n",
    "    calc_score('/Users/david/Documents/GitHub/YandexCup_RecSys/first_lightfm_target',\n",
    "               \"/Users/david/Documents/GitHub/YandexCup_RecSys/first_lightfm\")"
   ]
  },
  {
   "cell_type": "code",
   "execution_count": 101,
   "id": "0c5fb751",
   "metadata": {
    "scrolled": false
   },
   "outputs": [
    {
     "name": "stdout",
     "output_type": "stream",
     "text": [
      "\n",
      "(3, 3)\n",
      "--- 2.220673084259033 seconds ---\n"
     ]
    },
    {
     "data": {
      "application/vnd.jupyter.widget-view+json": {
       "model_id": "9616d8c58ffd4666811e378d14696d08",
       "version_major": 2,
       "version_minor": 0
      },
      "text/plain": [
       "  0%|          | 0/1000 [00:00<?, ?it/s]"
      ]
     },
     "metadata": {},
     "output_type": "display_data"
    },
    {
     "name": "stdout",
     "output_type": "stream",
     "text": [
      "MRR@100 = 0.0020\n",
      "\n",
      "(3, 5)\n",
      "--- 4.35873818397522 seconds ---\n"
     ]
    },
    {
     "data": {
      "application/vnd.jupyter.widget-view+json": {
       "model_id": "d7379c15fe1c468bbe1f4b523c573046",
       "version_major": 2,
       "version_minor": 0
      },
      "text/plain": [
       "  0%|          | 0/1000 [00:00<?, ?it/s]"
      ]
     },
     "metadata": {},
     "output_type": "display_data"
    },
    {
     "name": "stdout",
     "output_type": "stream",
     "text": [
      "MRR@100 = 0.0029\n",
      "\n",
      "(3, 10)\n",
      "--- 7.8040900230407715 seconds ---\n"
     ]
    },
    {
     "data": {
      "application/vnd.jupyter.widget-view+json": {
       "model_id": "e60925d637904cce8fb8f72ea7a9f8a7",
       "version_major": 2,
       "version_minor": 0
      },
      "text/plain": [
       "  0%|          | 0/1000 [00:00<?, ?it/s]"
      ]
     },
     "metadata": {},
     "output_type": "display_data"
    },
    {
     "name": "stdout",
     "output_type": "stream",
     "text": [
      "MRR@100 = 0.0028\n",
      "\n",
      "(3, 30)\n",
      "--- 23.352973222732544 seconds ---\n"
     ]
    },
    {
     "data": {
      "application/vnd.jupyter.widget-view+json": {
       "model_id": "201635fc1a1d4d99bc0716733f03d651",
       "version_major": 2,
       "version_minor": 0
      },
      "text/plain": [
       "  0%|          | 0/1000 [00:00<?, ?it/s]"
      ]
     },
     "metadata": {},
     "output_type": "display_data"
    },
    {
     "name": "stdout",
     "output_type": "stream",
     "text": [
      "MRR@100 = 0.0028\n",
      "\n",
      "(3, 50)\n",
      "--- 33.625344038009644 seconds ---\n"
     ]
    },
    {
     "data": {
      "application/vnd.jupyter.widget-view+json": {
       "model_id": "58ffd7cbeff241bdbee4e1cb18435a39",
       "version_major": 2,
       "version_minor": 0
      },
      "text/plain": [
       "  0%|          | 0/1000 [00:00<?, ?it/s]"
      ]
     },
     "metadata": {},
     "output_type": "display_data"
    },
    {
     "name": "stdout",
     "output_type": "stream",
     "text": [
      "MRR@100 = 0.0027\n",
      "\n",
      "(5, 3)\n",
      "--- 5.086142301559448 seconds ---\n"
     ]
    },
    {
     "data": {
      "application/vnd.jupyter.widget-view+json": {
       "model_id": "a4260676fc49490688d79c5bba2a0c09",
       "version_major": 2,
       "version_minor": 0
      },
      "text/plain": [
       "  0%|          | 0/1000 [00:00<?, ?it/s]"
      ]
     },
     "metadata": {},
     "output_type": "display_data"
    },
    {
     "name": "stdout",
     "output_type": "stream",
     "text": [
      "MRR@100 = 0.0029\n",
      "\n",
      "(5, 5)\n",
      "--- 4.764045238494873 seconds ---\n"
     ]
    },
    {
     "data": {
      "application/vnd.jupyter.widget-view+json": {
       "model_id": "a84242962e634888ba4dcf6c13f138ee",
       "version_major": 2,
       "version_minor": 0
      },
      "text/plain": [
       "  0%|          | 0/1000 [00:00<?, ?it/s]"
      ]
     },
     "metadata": {},
     "output_type": "display_data"
    },
    {
     "name": "stdout",
     "output_type": "stream",
     "text": [
      "MRR@100 = 0.0019\n",
      "\n",
      "(5, 10)\n",
      "--- 8.541550159454346 seconds ---\n"
     ]
    },
    {
     "data": {
      "application/vnd.jupyter.widget-view+json": {
       "model_id": "e78da3e524614a9bb5848aa2fcf695c8",
       "version_major": 2,
       "version_minor": 0
      },
      "text/plain": [
       "  0%|          | 0/1000 [00:00<?, ?it/s]"
      ]
     },
     "metadata": {},
     "output_type": "display_data"
    },
    {
     "name": "stdout",
     "output_type": "stream",
     "text": [
      "MRR@100 = 0.0026\n",
      "\n",
      "(5, 30)\n",
      "--- 23.835681915283203 seconds ---\n"
     ]
    },
    {
     "data": {
      "application/vnd.jupyter.widget-view+json": {
       "model_id": "d9b8d69461d34d5fa094ca50f0993f60",
       "version_major": 2,
       "version_minor": 0
      },
      "text/plain": [
       "  0%|          | 0/1000 [00:00<?, ?it/s]"
      ]
     },
     "metadata": {},
     "output_type": "display_data"
    },
    {
     "name": "stdout",
     "output_type": "stream",
     "text": [
      "MRR@100 = 0.0019\n",
      "\n",
      "(5, 50)\n",
      "--- 40.67186737060547 seconds ---\n"
     ]
    },
    {
     "data": {
      "application/vnd.jupyter.widget-view+json": {
       "model_id": "3bbd13859c584eeeb6356a47f74ba1da",
       "version_major": 2,
       "version_minor": 0
      },
      "text/plain": [
       "  0%|          | 0/1000 [00:00<?, ?it/s]"
      ]
     },
     "metadata": {},
     "output_type": "display_data"
    },
    {
     "name": "stdout",
     "output_type": "stream",
     "text": [
      "MRR@100 = 0.0024\n",
      "\n",
      "(10, 3)\n",
      "--- 4.12228798866272 seconds ---\n"
     ]
    },
    {
     "data": {
      "application/vnd.jupyter.widget-view+json": {
       "model_id": "fb20910aaf1947eb8db26c4256d472d3",
       "version_major": 2,
       "version_minor": 0
      },
      "text/plain": [
       "  0%|          | 0/1000 [00:00<?, ?it/s]"
      ]
     },
     "metadata": {},
     "output_type": "display_data"
    },
    {
     "name": "stdout",
     "output_type": "stream",
     "text": [
      "MRR@100 = 0.0021\n",
      "\n",
      "(10, 5)\n",
      "--- 5.526208877563477 seconds ---\n"
     ]
    },
    {
     "data": {
      "application/vnd.jupyter.widget-view+json": {
       "model_id": "059fcd8309b548abbe33db272af223ff",
       "version_major": 2,
       "version_minor": 0
      },
      "text/plain": [
       "  0%|          | 0/1000 [00:00<?, ?it/s]"
      ]
     },
     "metadata": {},
     "output_type": "display_data"
    },
    {
     "name": "stdout",
     "output_type": "stream",
     "text": [
      "MRR@100 = 0.0025\n",
      "\n",
      "(10, 10)\n",
      "--- 10.198329210281372 seconds ---\n"
     ]
    },
    {
     "data": {
      "application/vnd.jupyter.widget-view+json": {
       "model_id": "443fc5a8ccc54466ba6d116d74d1ed73",
       "version_major": 2,
       "version_minor": 0
      },
      "text/plain": [
       "  0%|          | 0/1000 [00:00<?, ?it/s]"
      ]
     },
     "metadata": {},
     "output_type": "display_data"
    },
    {
     "name": "stdout",
     "output_type": "stream",
     "text": [
      "MRR@100 = 0.0015\n",
      "\n",
      "(10, 30)\n",
      "--- 29.362096071243286 seconds ---\n"
     ]
    },
    {
     "data": {
      "application/vnd.jupyter.widget-view+json": {
       "model_id": "7578e918bb834571bfd6d49d3c14e5bc",
       "version_major": 2,
       "version_minor": 0
      },
      "text/plain": [
       "  0%|          | 0/1000 [00:00<?, ?it/s]"
      ]
     },
     "metadata": {},
     "output_type": "display_data"
    },
    {
     "name": "stdout",
     "output_type": "stream",
     "text": [
      "MRR@100 = 0.0011\n",
      "\n",
      "(10, 50)\n",
      "--- 46.25600600242615 seconds ---\n"
     ]
    },
    {
     "data": {
      "application/vnd.jupyter.widget-view+json": {
       "model_id": "6ba1755e3b4a497d83c77bf7dea64fd6",
       "version_major": 2,
       "version_minor": 0
      },
      "text/plain": [
       "  0%|          | 0/1000 [00:00<?, ?it/s]"
      ]
     },
     "metadata": {},
     "output_type": "display_data"
    },
    {
     "name": "stdout",
     "output_type": "stream",
     "text": [
      "MRR@100 = 0.0007\n",
      "\n",
      "(30, 3)\n",
      "--- 6.721861839294434 seconds ---\n"
     ]
    },
    {
     "data": {
      "application/vnd.jupyter.widget-view+json": {
       "model_id": "e403181cbc4f4bd691d70e5617bf2685",
       "version_major": 2,
       "version_minor": 0
      },
      "text/plain": [
       "  0%|          | 0/1000 [00:00<?, ?it/s]"
      ]
     },
     "metadata": {},
     "output_type": "display_data"
    },
    {
     "name": "stdout",
     "output_type": "stream",
     "text": [
      "MRR@100 = 0.0012\n",
      "\n",
      "(30, 5)\n",
      "--- 10.388898134231567 seconds ---\n"
     ]
    },
    {
     "data": {
      "application/vnd.jupyter.widget-view+json": {
       "model_id": "b6e77908054441aea2da7309cd9ef334",
       "version_major": 2,
       "version_minor": 0
      },
      "text/plain": [
       "  0%|          | 0/1000 [00:00<?, ?it/s]"
      ]
     },
     "metadata": {},
     "output_type": "display_data"
    },
    {
     "name": "stdout",
     "output_type": "stream",
     "text": [
      "MRR@100 = 0.0019\n",
      "\n",
      "(30, 10)\n",
      "--- 22.140347957611084 seconds ---\n"
     ]
    },
    {
     "data": {
      "application/vnd.jupyter.widget-view+json": {
       "model_id": "63f649cb740249998eb48952ccce69d8",
       "version_major": 2,
       "version_minor": 0
      },
      "text/plain": [
       "  0%|          | 0/1000 [00:00<?, ?it/s]"
      ]
     },
     "metadata": {},
     "output_type": "display_data"
    },
    {
     "name": "stdout",
     "output_type": "stream",
     "text": [
      "MRR@100 = 0.0014\n",
      "\n",
      "(30, 30)\n",
      "--- 54.83745098114014 seconds ---\n"
     ]
    },
    {
     "data": {
      "application/vnd.jupyter.widget-view+json": {
       "model_id": "f915cbdc1e884068a08145db60080a2f",
       "version_major": 2,
       "version_minor": 0
      },
      "text/plain": [
       "  0%|          | 0/1000 [00:00<?, ?it/s]"
      ]
     },
     "metadata": {},
     "output_type": "display_data"
    },
    {
     "name": "stdout",
     "output_type": "stream",
     "text": [
      "MRR@100 = 0.0008\n",
      "\n",
      "(30, 50)\n",
      "--- 88.95152401924133 seconds ---\n"
     ]
    },
    {
     "data": {
      "application/vnd.jupyter.widget-view+json": {
       "model_id": "4beeb72b86f447e49ad2ca1fa75ed2e8",
       "version_major": 2,
       "version_minor": 0
      },
      "text/plain": [
       "  0%|          | 0/1000 [00:00<?, ?it/s]"
      ]
     },
     "metadata": {},
     "output_type": "display_data"
    },
    {
     "name": "stdout",
     "output_type": "stream",
     "text": [
      "MRR@100 = 0.0010\n",
      "\n",
      "(50, 3)\n",
      "--- 9.850772380828857 seconds ---\n"
     ]
    },
    {
     "data": {
      "application/vnd.jupyter.widget-view+json": {
       "model_id": "296abec3231545f69844306db38d241e",
       "version_major": 2,
       "version_minor": 0
      },
      "text/plain": [
       "  0%|          | 0/1000 [00:00<?, ?it/s]"
      ]
     },
     "metadata": {},
     "output_type": "display_data"
    },
    {
     "name": "stdout",
     "output_type": "stream",
     "text": [
      "MRR@100 = 0.0011\n",
      "\n",
      "(50, 5)\n",
      "--- 15.050923824310303 seconds ---\n"
     ]
    },
    {
     "data": {
      "application/vnd.jupyter.widget-view+json": {
       "model_id": "dd707ecb7b9a485bad29d558c53f4deb",
       "version_major": 2,
       "version_minor": 0
      },
      "text/plain": [
       "  0%|          | 0/1000 [00:00<?, ?it/s]"
      ]
     },
     "metadata": {},
     "output_type": "display_data"
    },
    {
     "name": "stdout",
     "output_type": "stream",
     "text": [
      "MRR@100 = 0.0012\n",
      "\n",
      "(50, 10)\n",
      "--- 30.53219175338745 seconds ---\n"
     ]
    },
    {
     "data": {
      "application/vnd.jupyter.widget-view+json": {
       "model_id": "37241ebd17304457a001b19eeadfa3ac",
       "version_major": 2,
       "version_minor": 0
      },
      "text/plain": [
       "  0%|          | 0/1000 [00:00<?, ?it/s]"
      ]
     },
     "metadata": {},
     "output_type": "display_data"
    },
    {
     "name": "stdout",
     "output_type": "stream",
     "text": [
      "MRR@100 = 0.0010\n",
      "\n",
      "(50, 30)\n",
      "--- 79.54738521575928 seconds ---\n"
     ]
    },
    {
     "data": {
      "application/vnd.jupyter.widget-view+json": {
       "model_id": "ddd6c04e99254dfda98ecb5973ccf229",
       "version_major": 2,
       "version_minor": 0
      },
      "text/plain": [
       "  0%|          | 0/1000 [00:00<?, ?it/s]"
      ]
     },
     "metadata": {},
     "output_type": "display_data"
    },
    {
     "name": "stdout",
     "output_type": "stream",
     "text": [
      "MRR@100 = 0.0010\n",
      "\n",
      "(50, 50)\n",
      "--- 127.10450720787048 seconds ---\n"
     ]
    },
    {
     "data": {
      "application/vnd.jupyter.widget-view+json": {
       "model_id": "1dff4c60c5564b63a9b998451d5b07f2",
       "version_major": 2,
       "version_minor": 0
      },
      "text/plain": [
       "  0%|          | 0/1000 [00:00<?, ?it/s]"
      ]
     },
     "metadata": {},
     "output_type": "display_data"
    },
    {
     "name": "stdout",
     "output_type": "stream",
     "text": [
      "MRR@100 = 0.0004\n"
     ]
    }
   ],
   "source": [
    "for n_comp in [3, 5, 10, 30, 50]:\n",
    "    for n_epochs in [3, 5, 10, 30, 50]:\n",
    "        print(f'\\n{n_comp, n_epochs}')\n",
    "        optimize(n_comp, n_epochs)"
   ]
  },
  {
   "cell_type": "code",
   "execution_count": 58,
   "id": "ad0688c8",
   "metadata": {},
   "outputs": [
    {
     "name": "stdout",
     "output_type": "stream",
     "text": [
      "CPU times: user 1min 28s, sys: 2.5 s, total: 1min 30s\n",
      "Wall time: 1min 37s\n"
     ]
    }
   ],
   "source": [
    "%%time\n",
    "\n",
    "list_coord = []\n",
    "target_val = []\n",
    "np.random.seed(42)\n",
    "val_id = np.random.randint(0, 100000, size=10000)\n",
    "val_id.sort()\n",
    "val_tracks = {}\n",
    "\n",
    "with open('/Users/david/Documents/GitHub/YandexCup_RecSys/train') as f:\n",
    "    lines = f.readlines()\n",
    "    idx = 0 \n",
    "    for line in lines:\n",
    "        tracks = line.strip().split(' ')\n",
    "        for i, track in enumerate(tracks):\n",
    "            if idx in val_id and i == 0:\n",
    "                tracks_arr = np.array(tracks)\n",
    "                tracks_arr = tracks_arr.astype(np.int32)\n",
    "                val_tracks[idx] = tracks_arr\n",
    "            if idx in val_id and i+1 == len(tracks):\n",
    "                target_val.append(track)\n",
    "                continue\n",
    "            list_coord.append((idx, track))\n",
    "        idx += 1\n",
    "        if idx > 100000:\n",
    "            break\n",
    " "
   ]
  },
  {
   "cell_type": "code",
   "execution_count": 59,
   "id": "4363da59",
   "metadata": {},
   "outputs": [
    {
     "name": "stdout",
     "output_type": "stream",
     "text": [
      "CPU times: user 3.07 s, sys: 1.5 s, total: 4.57 s\n",
      "Wall time: 6.92 s\n"
     ]
    }
   ],
   "source": [
    "%%time         \n",
    "from scipy.sparse import coo_matrix\n",
    "rows = [i[0] for i in list_coord]\n",
    "cols = [i[1] for i in list_coord]\n",
    "arr_rows = np.array(rows)\n",
    "arr_cols = np.array(cols)\n",
    "arr_cols = arr_cols.astype(np.int32)\n",
    "ones = np.ones(len(list_coord))\n",
    "user_item = coo_matrix((ones, (arr_rows, arr_cols)), dtype=np.int32)"
   ]
  },
  {
   "cell_type": "code",
   "execution_count": 60,
   "id": "ac1c8660",
   "metadata": {},
   "outputs": [],
   "source": [
    "import time\n",
    "\n",
    "def optimize(n_comp, n_epochs, learning_rate=0.05):\n",
    "    start_time = time.time()\n",
    "    model = LightFM(no_components=n_comp, loss='warp', learning_rate=learning_rate, random_state=42)\n",
    "    model.fit(user_item, epochs=n_epochs)\n",
    "    print(\"--- %s seconds ---\" % (time.time() - start_time))\n",
    "    result = []\n",
    "    items = np.unique(arr_cols)\n",
    "    for user_id in tqdm(val_id):\n",
    "        scores = model.predict(int(user_id), items)\n",
    "        arr_id = np.argsort(-scores)[:350]\n",
    "        top_items = items[arr_id]\n",
    "        top_items = top_items[~np.isin(top_items, val_tracks[user_id])]\n",
    "        top_items = top_items[:100]\n",
    "        result.append(' '.join(map(str, top_items)) + '\\n')\n",
    "        \n",
    "    with open('/Users/david/Documents/GitHub/YandexCup_RecSys/first_lightfm', 'w') as f:\n",
    "        f.writelines(result)\n",
    "    \n",
    "    with open('/Users/david/Documents/GitHub/YandexCup_RecSys/first_lightfm_target', 'w') as f:\n",
    "        for i in target_val:\n",
    "            f.write(f'{i}\\n')\n",
    "            \n",
    "    calc_score('/Users/david/Documents/GitHub/YandexCup_RecSys/first_lightfm_target',\n",
    "               \"/Users/david/Documents/GitHub/YandexCup_RecSys/first_lightfm\")"
   ]
  },
  {
   "cell_type": "code",
   "execution_count": 62,
   "id": "96e3b422",
   "metadata": {},
   "outputs": [
    {
     "name": "stdout",
     "output_type": "stream",
     "text": [
      "\n",
      "(3, 30)\n",
      "--- 236.36713075637817 seconds ---\n"
     ]
    },
    {
     "data": {
      "application/vnd.jupyter.widget-view+json": {
       "model_id": "8b124647774d4563a98475559e15312b",
       "version_major": 2,
       "version_minor": 0
      },
      "text/plain": [
       "  0%|          | 0/10000 [00:00<?, ?it/s]"
      ]
     },
     "metadata": {},
     "output_type": "display_data"
    },
    {
     "name": "stdout",
     "output_type": "stream",
     "text": [
      "MRR@100 = 0.0018\n",
      "\n",
      "(3, 50)\n",
      "--- 416.19042587280273 seconds ---\n"
     ]
    },
    {
     "data": {
      "application/vnd.jupyter.widget-view+json": {
       "model_id": "b21b11d4ebd640d18efa79a5fffc414c",
       "version_major": 2,
       "version_minor": 0
      },
      "text/plain": [
       "  0%|          | 0/10000 [00:00<?, ?it/s]"
      ]
     },
     "metadata": {},
     "output_type": "display_data"
    },
    {
     "name": "stdout",
     "output_type": "stream",
     "text": [
      "MRR@100 = 0.0017\n",
      "\n",
      "(3, 100)\n",
      "--- 41720.86213898659 seconds ---\n"
     ]
    },
    {
     "data": {
      "application/vnd.jupyter.widget-view+json": {
       "model_id": "760da935f2fc479399fed436dca08362",
       "version_major": 2,
       "version_minor": 0
      },
      "text/plain": [
       "  0%|          | 0/10000 [00:00<?, ?it/s]"
      ]
     },
     "metadata": {},
     "output_type": "display_data"
    },
    {
     "name": "stdout",
     "output_type": "stream",
     "text": [
      "MRR@100 = 0.0017\n",
      "\n",
      "(30, 30)\n",
      "--- 525.3546690940857 seconds ---\n"
     ]
    },
    {
     "data": {
      "application/vnd.jupyter.widget-view+json": {
       "model_id": "9f6954b8571c45b9bfcd7b84ba6d3dc2",
       "version_major": 2,
       "version_minor": 0
      },
      "text/plain": [
       "  0%|          | 0/10000 [00:00<?, ?it/s]"
      ]
     },
     "metadata": {},
     "output_type": "display_data"
    },
    {
     "name": "stdout",
     "output_type": "stream",
     "text": [
      "MRR@100 = 0.0009\n",
      "\n",
      "(30, 50)\n",
      "--- 845.6940741539001 seconds ---\n"
     ]
    },
    {
     "data": {
      "application/vnd.jupyter.widget-view+json": {
       "model_id": "8b562f6e99a64fe681cf997274bf7f06",
       "version_major": 2,
       "version_minor": 0
      },
      "text/plain": [
       "  0%|          | 0/10000 [00:00<?, ?it/s]"
      ]
     },
     "metadata": {},
     "output_type": "display_data"
    },
    {
     "name": "stdout",
     "output_type": "stream",
     "text": [
      "MRR@100 = 0.0008\n",
      "\n",
      "(30, 100)\n",
      "--- 3097.4497170448303 seconds ---\n"
     ]
    },
    {
     "data": {
      "application/vnd.jupyter.widget-view+json": {
       "model_id": "e68b6aca3ad3472ca093d3e9cf52b52b",
       "version_major": 2,
       "version_minor": 0
      },
      "text/plain": [
       "  0%|          | 0/10000 [00:00<?, ?it/s]"
      ]
     },
     "metadata": {},
     "output_type": "display_data"
    },
    {
     "name": "stdout",
     "output_type": "stream",
     "text": [
      "MRR@100 = 0.0007\n"
     ]
    }
   ],
   "source": [
    "for n_comp in [3, 30]:\n",
    "    for n_epochs in [30, 50, 100]:\n",
    "        print(f'\\n{n_comp, n_epochs}')\n",
    "        optimize(n_comp, n_epochs)"
   ]
  },
  {
   "cell_type": "code",
   "execution_count": null,
   "id": "31fec546",
   "metadata": {},
   "outputs": [],
   "source": [
    "for n_comp in [2, 3, 4]:\n",
    "    for n_epochs in [30, 50, 100]:\n",
    "        print(f'\\n{n_comp, n_epochs}')\n",
    "        optimize(n_comp, n_epochs)"
   ]
  },
  {
   "cell_type": "code",
   "execution_count": null,
   "id": "b8ec6e43",
   "metadata": {
    "scrolled": false
   },
   "outputs": [],
   "source": [
    "for lr in [0.01, 0.05, 0.1]:\n",
    "    for n_epochs in [30, 50, 100]:\n",
    "        print(f'\\n{3, n_epochs, lr}')\n",
    "        optimize(3, n_epochs, lr)"
   ]
  },
  {
   "cell_type": "markdown",
   "id": "1d18edca",
   "metadata": {},
   "source": [
    "## actors"
   ]
  },
  {
   "cell_type": "code",
   "execution_count": 104,
   "id": "2d34a8c7",
   "metadata": {},
   "outputs": [
    {
     "name": "stdout",
     "output_type": "stream",
     "text": [
      "CPU times: user 35.9 ms, sys: 38.5 ms, total: 74.5 ms\n",
      "Wall time: 257 ms\n"
     ]
    }
   ],
   "source": [
    "%%time\n",
    "df = pd.read_csv('/Users/david/Documents/GitHub/YandexCup_RecSys/track_artists.csv')\n",
    "arr_item = df['trackId'].values\n",
    "arr_feature = df['artistId'].values"
   ]
  },
  {
   "cell_type": "code",
   "execution_count": 105,
   "id": "ebe9a60d",
   "metadata": {},
   "outputs": [
    {
     "name": "stdout",
     "output_type": "stream",
     "text": [
      "CPU times: user 3.39 s, sys: 2.39 s, total: 5.78 s\n",
      "Wall time: 15.2 s\n"
     ]
    }
   ],
   "source": [
    "%%time\n",
    "\n",
    "dict_user_item = {}\n",
    "target_val = []\n",
    "val_id = np.random.randint(0, 10000, size=1000)\n",
    "val_id.sort()\n",
    "val_tracks = {}\n",
    "all_tracks = []\n",
    "with open('/Users/david/Documents/GitHub/YandexCup_RecSys/train') as f:\n",
    "    lines = f.readlines()\n",
    "    idx = 0 \n",
    "    for line in lines:\n",
    "        tracks = line.strip().split(' ')\n",
    "        for i, track in enumerate(tracks):\n",
    "            if idx in val_id and i == 0:\n",
    "                tracks_arr = np.array(tracks)\n",
    "                tracks_arr = tracks_arr.astype(np.int32)\n",
    "                val_tracks[idx] = tracks_arr\n",
    "            if idx in val_id and i+1 == len(tracks):\n",
    "                target_val.append(track)\n",
    "                continue\n",
    "            if i == 0:\n",
    "                dict_user_item[idx] = []\n",
    "            dict_user_item[idx].append(int(track))\n",
    "            all_tracks.append(int(track))\n",
    "        idx += 1\n",
    "        if idx > 10000:\n",
    "            break\n",
    " "
   ]
  },
  {
   "cell_type": "code",
   "execution_count": 106,
   "id": "5132a639",
   "metadata": {
    "scrolled": false
   },
   "outputs": [
    {
     "name": "stdout",
     "output_type": "stream",
     "text": [
      "CPU times: user 4min 23s, sys: 2.13 s, total: 4min 25s\n",
      "Wall time: 4min 31s\n"
     ]
    }
   ],
   "source": [
    "%%time\n",
    "from scipy.sparse import coo_matrix\n",
    "\n",
    "rows = []\n",
    "cols = []\n",
    "data = []\n",
    "for idx, tracks in dict_user_item.items():\n",
    "    temp = {}\n",
    "    for track in tracks:\n",
    "        artist = df[df['trackId'] == track]['artistId'].values[0]\n",
    "        if artist not in temp:\n",
    "            temp[artist] = 0\n",
    "        temp[artist] += 1\n",
    "    \n",
    "    rows.extend([idx for i in temp])\n",
    "    cols.extend([i for i in temp.keys()])\n",
    "    data.extend([i / len(temp) for i in temp.values()])\n",
    "\n",
    "arr_rows = np.array(rows)\n",
    "arr_cols = np.array(cols)\n",
    "arr_data = np.array(data)\n",
    "user_item = coo_matrix((arr_data, (arr_rows, arr_cols)), dtype=np.int32)"
   ]
  },
  {
   "cell_type": "code",
   "execution_count": 107,
   "id": "d8d29d65",
   "metadata": {},
   "outputs": [
    {
     "data": {
      "text/plain": [
       "(10001, 56134)"
      ]
     },
     "execution_count": 107,
     "metadata": {},
     "output_type": "execute_result"
    }
   ],
   "source": [
    "user_item.get_shape()"
   ]
  },
  {
   "cell_type": "code",
   "execution_count": 108,
   "id": "b8ea8dc4",
   "metadata": {},
   "outputs": [
    {
     "data": {
      "text/plain": [
       "812964"
      ]
     },
     "execution_count": 108,
     "metadata": {},
     "output_type": "execute_result"
    }
   ],
   "source": [
    "len(all_tracks)"
   ]
  },
  {
   "cell_type": "code",
   "execution_count": 109,
   "id": "b5ecf0eb",
   "metadata": {
    "scrolled": false
   },
   "outputs": [
    {
     "data": {
      "text/html": [
       "<div>\n",
       "<style scoped>\n",
       "    .dataframe tbody tr th:only-of-type {\n",
       "        vertical-align: middle;\n",
       "    }\n",
       "\n",
       "    .dataframe tbody tr th {\n",
       "        vertical-align: top;\n",
       "    }\n",
       "\n",
       "    .dataframe thead th {\n",
       "        text-align: right;\n",
       "    }\n",
       "</style>\n",
       "<table border=\"1\" class=\"dataframe\">\n",
       "  <thead>\n",
       "    <tr style=\"text-align: right;\">\n",
       "      <th></th>\n",
       "      <th>trackId</th>\n",
       "      <th>artistId</th>\n",
       "      <th>count</th>\n",
       "    </tr>\n",
       "  </thead>\n",
       "  <tbody>\n",
       "    <tr>\n",
       "      <th>0</th>\n",
       "      <td>454079</td>\n",
       "      <td>38292</td>\n",
       "      <td>1</td>\n",
       "    </tr>\n",
       "    <tr>\n",
       "      <th>1</th>\n",
       "      <td>346334</td>\n",
       "      <td>24922</td>\n",
       "      <td>3</td>\n",
       "    </tr>\n",
       "    <tr>\n",
       "      <th>2</th>\n",
       "      <td>403921</td>\n",
       "      <td>18862</td>\n",
       "      <td>1</td>\n",
       "    </tr>\n",
       "    <tr>\n",
       "      <th>3</th>\n",
       "      <td>238166</td>\n",
       "      <td>4171</td>\n",
       "      <td>5</td>\n",
       "    </tr>\n",
       "    <tr>\n",
       "      <th>4</th>\n",
       "      <td>219040</td>\n",
       "      <td>27137</td>\n",
       "      <td>1</td>\n",
       "    </tr>\n",
       "    <tr>\n",
       "      <th>...</th>\n",
       "      <td>...</td>\n",
       "      <td>...</td>\n",
       "      <td>...</td>\n",
       "    </tr>\n",
       "    <tr>\n",
       "      <th>171262</th>\n",
       "      <td>12682</td>\n",
       "      <td>45792</td>\n",
       "      <td>1</td>\n",
       "    </tr>\n",
       "    <tr>\n",
       "      <th>171263</th>\n",
       "      <td>220317</td>\n",
       "      <td>943</td>\n",
       "      <td>2</td>\n",
       "    </tr>\n",
       "    <tr>\n",
       "      <th>171264</th>\n",
       "      <td>377199</td>\n",
       "      <td>37675</td>\n",
       "      <td>1</td>\n",
       "    </tr>\n",
       "    <tr>\n",
       "      <th>171265</th>\n",
       "      <td>55303</td>\n",
       "      <td>28180</td>\n",
       "      <td>5</td>\n",
       "    </tr>\n",
       "    <tr>\n",
       "      <th>171266</th>\n",
       "      <td>421598</td>\n",
       "      <td>31640</td>\n",
       "      <td>1</td>\n",
       "    </tr>\n",
       "  </tbody>\n",
       "</table>\n",
       "<p>171267 rows × 3 columns</p>\n",
       "</div>"
      ],
      "text/plain": [
       "        trackId  artistId  count\n",
       "0        454079     38292      1\n",
       "1        346334     24922      3\n",
       "2        403921     18862      1\n",
       "3        238166      4171      5\n",
       "4        219040     27137      1\n",
       "...         ...       ...    ...\n",
       "171262    12682     45792      1\n",
       "171263   220317       943      2\n",
       "171264   377199     37675      1\n",
       "171265    55303     28180      5\n",
       "171266   421598     31640      1\n",
       "\n",
       "[171267 rows x 3 columns]"
      ]
     },
     "execution_count": 109,
     "metadata": {},
     "output_type": "execute_result"
    }
   ],
   "source": [
    "from collections import Counter\n",
    "cnt = Counter(all_tracks)\n",
    "dict(cnt)\n",
    "pop = pd.Series(cnt).to_frame().reset_index()\n",
    "pop.columns = ['trackId', 'count']\n",
    "df_temp = df.merge(pop)\n",
    "df_temp"
   ]
  },
  {
   "cell_type": "code",
   "execution_count": 110,
   "id": "ee486cda",
   "metadata": {},
   "outputs": [
    {
     "data": {
      "text/plain": [
       "array([482674, 141671, 427292,    716,  97717])"
      ]
     },
     "execution_count": 110,
     "metadata": {},
     "output_type": "execute_result"
    }
   ],
   "source": [
    "arr_tracks_of_artisit = (df_temp[df_temp['artistId'] == 45792]\n",
    "                                     .sort_values(by='count', ascending=False)['trackId']\n",
    "                                     .head(5).values)\n",
    "arr_tracks_of_artisit"
   ]
  },
  {
   "cell_type": "code",
   "execution_count": 111,
   "id": "308af093",
   "metadata": {},
   "outputs": [],
   "source": [
    "import time\n",
    "\n",
    "def optimize(n_comp, n_epochs, learning_rate=0.05, n_top_art=20):\n",
    "    n_top_tracks = 100 // n_top_art\n",
    "    start_time = time.time()\n",
    "    model = LightFM(no_components=n_comp, loss='warp', learning_rate=learning_rate, random_state=42)\n",
    "    model.fit(user_item, epochs=n_epochs)\n",
    "    print(\"--- %s seconds ---\" % (time.time() - start_time))\n",
    "    result = []\n",
    "    items = np.unique(arr_cols)\n",
    "    for user_id in tqdm(val_id):\n",
    "        scores = model.predict(int(user_id), items)\n",
    "        arr_id = np.argsort(-scores)[:350]\n",
    "        top_items = items[arr_id]\n",
    "        top_items = top_items[~np.isin(top_items, val_tracks[user_id])]\n",
    "        top_items = top_items[:n_top_art]\n",
    "        top_res = []\n",
    "        for i in top_items:\n",
    "            arr_tracks_of_artisit = (df_temp[df_temp['artistId'] == i]\n",
    "                                     .sort_values(by='count', ascending=False)['trackId']\n",
    "                                     .head(n_top_tracks).values)\n",
    "            top_res.extend(list(arr_tracks_of_artisit))\n",
    "        result.append(' '.join(map(str, top_items)) + '\\n')\n",
    "        \n",
    "    with open('/Users/david/Documents/GitHub/YandexCup_RecSys/first_lightfm', 'w') as f:\n",
    "        f.writelines(result)\n",
    "    \n",
    "    with open('/Users/david/Documents/GitHub/YandexCup_RecSys/first_lightfm_target', 'w') as f:\n",
    "        for i in target_val:\n",
    "            f.write(f'{i}\\n')\n",
    "            \n",
    "    calc_score('/Users/david/Documents/GitHub/YandexCup_RecSys/first_lightfm_target',\n",
    "               \"/Users/david/Documents/GitHub/YandexCup_RecSys/first_lightfm\")"
   ]
  },
  {
   "cell_type": "code",
   "execution_count": 112,
   "id": "0b48837e",
   "metadata": {},
   "outputs": [
    {
     "name": "stdout",
     "output_type": "stream",
     "text": [
      "--- 1.0414819717407227 seconds ---\n"
     ]
    },
    {
     "data": {
      "application/vnd.jupyter.widget-view+json": {
       "model_id": "eff725d6398c40f299c3a53f3a7fc027",
       "version_major": 2,
       "version_minor": 0
      },
      "text/plain": [
       "  0%|          | 0/1000 [00:00<?, ?it/s]"
      ]
     },
     "metadata": {},
     "output_type": "display_data"
    },
    {
     "name": "stdout",
     "output_type": "stream",
     "text": [
      "MRR@100 = 0.0000\n"
     ]
    }
   ],
   "source": [
    "optimize(3, 30, n_top_art=50)"
   ]
  },
  {
   "cell_type": "code",
   "execution_count": 113,
   "id": "c54984b3",
   "metadata": {},
   "outputs": [
    {
     "name": "stdout",
     "output_type": "stream",
     "text": [
      "--- 1.004601001739502 seconds ---\n"
     ]
    },
    {
     "data": {
      "application/vnd.jupyter.widget-view+json": {
       "model_id": "89a5dbcfb323473183209882a2ef7681",
       "version_major": 2,
       "version_minor": 0
      },
      "text/plain": [
       "  0%|          | 0/1000 [00:00<?, ?it/s]"
      ]
     },
     "metadata": {},
     "output_type": "display_data"
    },
    {
     "name": "stdout",
     "output_type": "stream",
     "text": [
      "MRR@100 = 0.0000\n"
     ]
    }
   ],
   "source": [
    "optimize(3, 30, n_top_art=10)"
   ]
  },
  {
   "cell_type": "markdown",
   "id": "5ab06291",
   "metadata": {},
   "source": [
    "## Baseline"
   ]
  },
  {
   "cell_type": "code",
   "execution_count": 114,
   "id": "f8eb4318",
   "metadata": {},
   "outputs": [
    {
     "name": "stdout",
     "output_type": "stream",
     "text": [
      "CPU times: user 24min 59s, sys: 12.4 s, total: 25min 11s\n",
      "Wall time: 25min 39s\n"
     ]
    }
   ],
   "source": [
    "%%time\n",
    "track_stats = {}\n",
    "\n",
    "with open('/Users/david/Documents/GitHub/YandexCup_RecSys/train') as f:\n",
    "    lines = f.readlines()\n",
    "    for line in lines:\n",
    "        tracks = line.strip().split(' ')\n",
    "        for track in tracks:\n",
    "            if track not in track_stats:\n",
    "                track_stats[track] = 0\n",
    "            track_stats[track] += 1\n",
    "\n",
    "with open('/Users/david/Documents/GitHub/YandexCup_RecSys/test') as f:\n",
    "    test = f.readlines()\n",
    "\n",
    "popular_tracks = sorted(track_stats.items(), key=lambda item: item[1], reverse=True)[:100]\n",
    "popular_tracks_list = [x[0] for x in popular_tracks]\n",
    "\n",
    "top_tracks = sorted(track_stats.items(), key=lambda item: item[1], reverse=True)[:1000]\n",
    "top_tracks_set = set([x[0] for x in top_tracks])\n",
    "\n",
    "global_track_score = {}\n",
    "for track in top_tracks:\n",
    "    global_track_score[track[0]] = track_stats[track[0]] ** 0.5\n",
    "\n",
    "track_count = {}\n",
    "with open('/Users/david/Documents/GitHub/YandexCup_RecSys/train') as f:\n",
    "    lines = f.readlines()\n",
    "    for (i, line) in enumerate(lines):\n",
    "        tracks = line.strip().split(' ')\n",
    "        filtered_tracks = []\n",
    "        for track in tracks:\n",
    "            if track in top_tracks_set:\n",
    "                filtered_tracks.append(track)\n",
    "        for i in range(len(filtered_tracks)):\n",
    "            track1 = filtered_tracks[i]\n",
    "            for j in range(len(filtered_tracks)):\n",
    "                if i != j:\n",
    "                    track2 = filtered_tracks[j]\n",
    "                    if track1 not in track_count:\n",
    "                        track_count[track1] = {}\n",
    "                    current_count = track_count[track1]\n",
    "                    if track2 not in current_count:\n",
    "                        current_count[track2] = 0\n",
    "                    current_count[track2] += 1\n",
    "\n",
    "result = []\n",
    "empty_track_score = 0\n",
    "for query in test:\n",
    "    test_tracks = query.strip().split(' ')\n",
    "    track_score = {}\n",
    "    for track in test_tracks:\n",
    "        if track in track_count:\n",
    "            for track_id in track_count[track]:\n",
    "                score = track_count[track][track_id]\n",
    "                if track_id not in track_score:\n",
    "                    track_score[track_id] = 0\n",
    "                track_score[track_id] += score / global_track_score[track] / global_track_score[track_id]\n",
    "    if len(track_score) == 0:\n",
    "        result.append(' '.join(popular_tracks_list) + '\\n')\n",
    "        empty_track_score += 1\n",
    "    else:\n",
    "        best_tracks = sorted(track_score.items(), key=lambda item: item[1], reverse=True)[:100]\n",
    "        result.append(' '.join([x[0] for x in best_tracks]) + '\\n')\n",
    "\n",
    "with open('/Users/david/Documents/GitHub/YandexCup_RecSys/result_baseline', 'w') as f:\n",
    "    f.writelines(result)"
   ]
  },
  {
   "cell_type": "markdown",
   "id": "eed670c9",
   "metadata": {},
   "source": [
    "## LightFM"
   ]
  },
  {
   "cell_type": "code",
   "execution_count": 1,
   "id": "43705b6b",
   "metadata": {},
   "outputs": [
    {
     "name": "stdout",
     "output_type": "stream",
     "text": [
      "CPU times: user 2.12 s, sys: 198 ms, total: 2.32 s\n",
      "Wall time: 648 ms\n"
     ]
    },
    {
     "name": "stderr",
     "output_type": "stream",
     "text": [
      "/Users/david/opt/anaconda3/lib/python3.9/site-packages/lightfm/_lightfm_fast.py:9: UserWarning: LightFM was compiled without OpenMP support. Only a single thread will be used.\n",
      "  warnings.warn(\n"
     ]
    }
   ],
   "source": [
    "%%time\n",
    "import numpy as np\n",
    "import pandas as pd\n",
    "from scipy.sparse import coo_matrix\n",
    "from lightfm import LightFM"
   ]
  },
  {
   "cell_type": "code",
   "execution_count": 2,
   "id": "4b7fdc7f",
   "metadata": {},
   "outputs": [
    {
     "name": "stdout",
     "output_type": "stream",
     "text": [
      "CPU times: user 19.5 s, sys: 3.07 s, total: 22.5 s\n",
      "Wall time: 27.1 s\n"
     ]
    }
   ],
   "source": [
    "%%time\n",
    "\n",
    "list_coord = []\n",
    "idx = 0\n",
    "test_tracks = {}\n",
    "\n",
    "with open('/Users/david/Documents/GitHub/YandexCup_RecSys/train') as f:\n",
    "    lines = f.readlines()\n",
    "    for line in lines:\n",
    "        tracks = line.strip().split(' ')\n",
    "        for track in tracks:\n",
    "            list_coord.append((idx, track))\n",
    "        idx += 1\n",
    "        \n",
    "first_id_test = idx\n",
    "\n",
    "with open('/Users/david/Documents/GitHub/YandexCup_RecSys/test') as f:\n",
    "    lines = f.readlines()\n",
    "    for line in lines:\n",
    "        tracks = line.strip().split(' ')\n",
    "        tracks_arr = np.array(tracks).astype(np.int32)\n",
    "        test_tracks[idx] = tracks_arr\n",
    "        for track in tracks:\n",
    "            list_coord.append((idx, track))\n",
    "        idx += 1\n",
    "        \n",
    "last_id_test = idx - 1"
   ]
  },
  {
   "cell_type": "code",
   "execution_count": 3,
   "id": "dc35a5cf",
   "metadata": {},
   "outputs": [
    {
     "data": {
      "text/plain": [
       "(1160084, 1449997)"
      ]
     },
     "execution_count": 3,
     "metadata": {},
     "output_type": "execute_result"
    }
   ],
   "source": [
    "first_id_test, last_id_test"
   ]
  },
  {
   "cell_type": "code",
   "execution_count": 4,
   "id": "94831692",
   "metadata": {},
   "outputs": [
    {
     "name": "stdout",
     "output_type": "stream",
     "text": [
      "CPU times: user 43.9 s, sys: 24 s, total: 1min 7s\n",
      "Wall time: 2min 20s\n"
     ]
    }
   ],
   "source": [
    "%%time\n",
    "from scipy.sparse import coo_matrix\n",
    "rows = [i[0] for i in list_coord]\n",
    "cols = [i[1] for i in list_coord]\n",
    "arr_rows = np.array(rows)\n",
    "arr_cols = np.array(cols)\n",
    "arr_cols = arr_cols.astype(np.int32)\n",
    "ones = np.ones(len(list_coord))\n",
    "user_item = coo_matrix((ones, (arr_rows, arr_cols)), dtype=np.int32)"
   ]
  },
  {
   "cell_type": "code",
   "execution_count": 5,
   "id": "04fa1c18",
   "metadata": {},
   "outputs": [
    {
     "name": "stdout",
     "output_type": "stream",
     "text": [
      "CPU times: user 2h 3min 25s, sys: 3h 27min 46s, total: 5h 31min 12s\n",
      "Wall time: 8h 21min 27s\n"
     ]
    },
    {
     "data": {
      "text/plain": [
       "<lightfm.lightfm.LightFM at 0x5bc5ed8e0>"
      ]
     },
     "execution_count": 5,
     "metadata": {},
     "output_type": "execute_result"
    }
   ],
   "source": [
    "%%time\n",
    "model = LightFM(no_components=3, loss='warp', random_state=42)\n",
    "model.fit(user_item, epochs=30)"
   ]
  },
  {
   "cell_type": "code",
   "execution_count": 6,
   "id": "d4b6c825",
   "metadata": {},
   "outputs": [
    {
     "data": {
      "application/vnd.jupyter.widget-view+json": {
       "model_id": "e2d64e8386d64e5baf4140b93512b4c5",
       "version_major": 2,
       "version_minor": 0
      },
      "text/plain": [
       "  0%|          | 0/289914 [00:00<?, ?it/s]"
      ]
     },
     "metadata": {},
     "output_type": "display_data"
    }
   ],
   "source": [
    "from tqdm.auto import tqdm\n",
    "result = []\n",
    "items = np.unique(arr_cols)\n",
    "for user_id in tqdm(range(first_id_test, last_id_test + 1)):\n",
    "    scores = model.predict(int(user_id), items)\n",
    "    arr_id = np.argsort(-scores)[:350]\n",
    "    top_items = items[arr_id]\n",
    "    top_items = top_items[~np.isin(top_items, test_tracks[user_id])]\n",
    "    top_items = top_items[:100]\n",
    "    result.append(' '.join(map(str, top_items)) + '\\n')\n",
    "        \n",
    "with open('/Users/david/Documents/GitHub/YandexCup_RecSys/lightfm_result_3_30', 'w') as f:\n",
    "    f.writelines(result)"
   ]
  },
  {
   "cell_type": "code",
   "execution_count": null,
   "id": "b3208ac8",
   "metadata": {},
   "outputs": [],
   "source": []
  }
 ],
 "metadata": {
  "kernelspec": {
   "display_name": "Python 3 (ipykernel)",
   "language": "python",
   "name": "python3"
  },
  "language_info": {
   "codemirror_mode": {
    "name": "ipython",
    "version": 3
   },
   "file_extension": ".py",
   "mimetype": "text/x-python",
   "name": "python",
   "nbconvert_exporter": "python",
   "pygments_lexer": "ipython3",
   "version": "3.10.5"
  }
 },
 "nbformat": 4,
 "nbformat_minor": 5
}
