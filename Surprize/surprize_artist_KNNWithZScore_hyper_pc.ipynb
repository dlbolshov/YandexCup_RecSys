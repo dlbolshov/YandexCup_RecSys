{
 "cells": [
  {
   "cell_type": "code",
   "execution_count": 1,
   "id": "a281d193",
   "metadata": {},
   "outputs": [
    {
     "name": "stdout",
     "output_type": "stream",
     "text": [
      "Requirement already satisfied: surprise in c:\\python38\\lib\\site-packages (0.1)\n",
      "Requirement already satisfied: scikit-surprise in c:\\python38\\lib\\site-packages (from surprise) (1.1.3)\n",
      "Requirement already satisfied: joblib>=1.0.0 in c:\\python38\\lib\\site-packages (from scikit-surprise->surprise) (1.2.0)\n",
      "Requirement already satisfied: numpy>=1.17.3 in c:\\python38\\lib\\site-packages (from scikit-surprise->surprise) (1.23.4)\n",
      "Requirement already satisfied: scipy>=1.3.2 in c:\\python38\\lib\\site-packages (from scikit-surprise->surprise) (1.9.3)\n",
      "Requirement already satisfied: scikit-surprise in c:\\python38\\lib\\site-packages (1.1.3)\n",
      "Requirement already satisfied: joblib>=1.0.0 in c:\\python38\\lib\\site-packages (from scikit-surprise) (1.2.0)\n",
      "Requirement already satisfied: numpy>=1.17.3 in c:\\python38\\lib\\site-packages (from scikit-surprise) (1.23.4)\n",
      "Requirement already satisfied: scipy>=1.3.2 in c:\\python38\\lib\\site-packages (from scikit-surprise) (1.9.3)\n"
     ]
    }
   ],
   "source": [
    "!pip install surprise\n",
    "!pip install scikit-surprise"
   ]
  },
  {
   "cell_type": "code",
   "execution_count": 2,
   "id": "124d984a",
   "metadata": {},
   "outputs": [
    {
     "name": "stdout",
     "output_type": "stream",
     "text": [
      "CPU times: total: 297 ms\n",
      "Wall time: 428 ms\n"
     ]
    },
    {
     "name": "stderr",
     "output_type": "stream",
     "text": [
      "c:\\python38\\lib\\site-packages\\tqdm\\auto.py:22: TqdmWarning: IProgress not found. Please update jupyter and ipywidgets. See https://ipywidgets.readthedocs.io/en/stable/user_install.html\n",
      "  from .autonotebook import tqdm as notebook_tqdm\n"
     ]
    }
   ],
   "source": [
    "%%time\n",
    "import numpy as np\n",
    "import pandas as pd\n",
    "from scipy.sparse import csr_matrix, coo_matrix\n",
    "from tqdm.auto import tqdm\n",
    "from collections import Counter\n",
    "from surprise import Dataset, Reader\n",
    "import time\n",
    "from surprise import KNNWithZScore"
   ]
  },
  {
   "cell_type": "code",
   "execution_count": 3,
   "id": "672a0888",
   "metadata": {},
   "outputs": [],
   "source": [
    "df_path = r\"C:\\Users\\dlbol\\Downloads\\likes\\likes\\likes_data\\track_artists.csv\"\n",
    "train_path = r\"C:\\Users\\dlbol\\Downloads\\likes\\likes\\likes_data\\train\"\n",
    "test_path = r\"C:\\Users\\dlbol\\Downloads\\likes\\likes\\likes_data\\test\"\n",
    "pred_path = r\"C:\\Users\\dlbol\\Downloads\\likes\\likes\\likes_data\\surprize_artist_KNNWithZScore_target\"\n",
    "target_path = r\"C:\\Users\\dlbol\\Downloads\\likes\\likes\\likes_data\\surprize_artist_KNNWithZScore_pred\""
   ]
  },
  {
   "cell_type": "code",
   "execution_count": 4,
   "id": "6910a52a",
   "metadata": {},
   "outputs": [],
   "source": [
    "def calc_mrr(predict, answer):\n",
    "    for i in range(len(predict)):\n",
    "        if predict[i] == answer:\n",
    "            return 1. / (i + 1)\n",
    "    return 0\n",
    "\n",
    "max_prediction_len = 100\n",
    "\n",
    "def calc_score(target_path, predict_path):\n",
    "    with open(target_path) as f:\n",
    "        y_true = [int(x.strip()) for x in f.readlines()]\n",
    "\n",
    "    with open(predict_path) as f:\n",
    "        y_pred = [[int(x) for x in line.strip().split(' ')] for line in f.readlines()]\n",
    "\n",
    "    mrr_score = 0\n",
    "    for (pred, answer) in zip(y_pred, y_true):\n",
    "        if len(pred) > max_prediction_len:\n",
    "            raise ValueError('$maximum prediction length is {}, got {}$'.format(max_prediction_len, len(y_pred[i])))\n",
    "        mrr_score += calc_mrr(pred, answer)\n",
    "\n",
    "    print(f\"MRR@100 = {(mrr_score / len(y_true)):.4f}\")"
   ]
  },
  {
   "cell_type": "code",
   "execution_count": 5,
   "id": "f251f931",
   "metadata": {},
   "outputs": [
    {
     "name": "stdout",
     "output_type": "stream",
     "text": [
      "CPU times: total: 46.9 ms\n",
      "Wall time: 57.8 ms\n"
     ]
    }
   ],
   "source": [
    "%%time\n",
    "df = pd.read_csv(df_path)\n",
    "df.index = df['trackId']"
   ]
  },
  {
   "cell_type": "code",
   "execution_count": 6,
   "id": "7d437df3",
   "metadata": {
    "scrolled": true
   },
   "outputs": [
    {
     "name": "stderr",
     "output_type": "stream",
     "text": [
      "  1%|▌                                                                       | 10000/1160084 [00:08<16:15, 1178.64it/s]"
     ]
    },
    {
     "name": "stdout",
     "output_type": "stream",
     "text": [
      "CPU times: total: 9.56 s\n",
      "Wall time: 9.52 s\n"
     ]
    },
    {
     "name": "stderr",
     "output_type": "stream",
     "text": [
      "\n"
     ]
    }
   ],
   "source": [
    "%%time\n",
    "\n",
    "list_coord = []\n",
    "target_val = []\n",
    "np.random.seed(42)  \n",
    "val_id = np.random.choice(range(10000), size=1000, replace=False)\n",
    "val_id.sort()\n",
    "all_artist = set()\n",
    "ls_artists = []\n",
    "\n",
    "with open(train_path) as f:\n",
    "    lines = f.readlines()\n",
    "    idx = 0 \n",
    "    for line in tqdm(lines):\n",
    "        tracks = line.strip().split(' ')\n",
    "        tracks_arr = np.array(tracks)\n",
    "        tracks_arr = tracks_arr.astype(np.int32)\n",
    "        artist_arr = np.array([df.at[track, 'artistId'] for track in tracks_arr])\n",
    "        if idx in val_id:\n",
    "            target_val.append(artist_arr[-1])\n",
    "            artist_arr = artist_arr[:-1]\n",
    "        ls_artists.extend(artist_arr)\n",
    "        all_artist = all_artist.union(set(artist_arr))\n",
    "        artist_cnt = Counter(artist_arr)\n",
    "        list_coord_user = [(idx, i[0], i[1]) for i in artist_cnt.items()]\n",
    "        list_coord.extend(list_coord_user)\n",
    "        idx += 1\n",
    "        if idx > 10000:\n",
    "            break"
   ]
  },
  {
   "cell_type": "code",
   "execution_count": 7,
   "id": "ed72f41d",
   "metadata": {},
   "outputs": [
    {
     "name": "stdout",
     "output_type": "stream",
     "text": [
      "CPU times: total: 2.27 s\n",
      "Wall time: 2.28 s\n"
     ]
    }
   ],
   "source": [
    "%%time\n",
    "\n",
    "data = pd.DataFrame(list_coord, columns=['uid', 'iid', 'rating_row'])\n",
    "data['rating_max'] = data.rating_row / data.groupby('uid')['rating_row'].transform('max')\n",
    "data['rating_part'] = data.rating_row / data.groupby('uid')['rating_row'].transform('sum')"
   ]
  },
  {
   "cell_type": "markdown",
   "id": "c7065117",
   "metadata": {},
   "source": [
    "# Baseline"
   ]
  },
  {
   "cell_type": "code",
   "execution_count": 8,
   "id": "ef4a4a8c",
   "metadata": {},
   "outputs": [
    {
     "name": "stdout",
     "output_type": "stream",
     "text": [
      "MRR@100 = 0.0144\n"
     ]
    }
   ],
   "source": [
    "all_artist_cnt = [i[0] for i in Counter(ls_artists).most_common(100)]\n",
    "\n",
    "result = [' '.join(map(str, all_artist_cnt)) + '\\n' for _ in val_id]\n",
    "\n",
    "with open(pred_path, 'w') as f:\n",
    "    f.writelines(result)\n",
    "\n",
    "with open(target_path, 'w') as f:\n",
    "    for i in target_val:\n",
    "        f.write(f'{i}\\n')\n",
    "\n",
    "calc_score(target_path, pred_path)"
   ]
  },
  {
   "cell_type": "markdown",
   "id": "a9a086bf",
   "metadata": {},
   "source": [
    "# RATING_MAX"
   ]
  },
  {
   "cell_type": "code",
   "execution_count": 9,
   "id": "00c84f0e",
   "metadata": {
    "scrolled": true
   },
   "outputs": [
    {
     "name": "stdout",
     "output_type": "stream",
     "text": [
      "CPU times: total: 562 ms\n",
      "Wall time: 565 ms\n"
     ]
    }
   ],
   "source": [
    "%%time\n",
    "\n",
    "reader = Reader(rating_scale=(0, 1))\n",
    "dataset = Dataset.load_from_df(data[['uid', 'iid', 'rating_max']], reader)\n",
    "trainset = dataset.build_full_trainset()"
   ]
  },
  {
   "cell_type": "markdown",
   "id": "3a85570d",
   "metadata": {},
   "source": [
    "## KNNWithZScore"
   ]
  },
  {
   "cell_type": "code",
   "execution_count": 10,
   "id": "5b4ceae6",
   "metadata": {},
   "outputs": [],
   "source": [
    "def optimize(k=40, \n",
    "             min_k=1,\n",
    "             user_based=True,\n",
    "             name=\"pearson_baseline\",\n",
    "             verbose=True):\n",
    "\n",
    "    start_time = time.time()\n",
    "    \n",
    "    sim_options = {\n",
    "        \"name\": name,\n",
    "        \"user_based\": user_based\n",
    "    }\n",
    "    \n",
    "    algo = KNNWithZScore(k=k, min_k=min_k, sim_options=sim_options, verbose=True)\n",
    "    \n",
    "    algo.fit(trainset)\n",
    "    \n",
    "    print(\"--- fit: %s seconds ---\" % (time.time() - start_time))\n",
    "    \n",
    "    pred = []\n",
    "    for uid in tqdm(val_id):\n",
    "        pred_user = []\n",
    "        for iid in all_artist:\n",
    "            score = algo.predict(uid=uid, iid=iid).est\n",
    "            pred_user.append((iid, score))\n",
    "        pred.append(pred_user)\n",
    "\n",
    "    res = []\n",
    "    for user in tqdm(pred):\n",
    "        ls = sorted(user, key=lambda x: x[1])\n",
    "        temp = [i[0] for i in ls[-100:]]\n",
    "        temp.reverse()\n",
    "        res.append(temp)\n",
    "\n",
    "    result = [' '.join(map(str, i)) + '\\n' for i in res]\n",
    "\n",
    "\n",
    "    with open(pred_path, 'w') as f:\n",
    "        f.writelines(result)\n",
    "\n",
    "    with open(target_path, 'w') as f:\n",
    "        for i in target_val:\n",
    "            f.write(f'{i}\\n')\n",
    "\n",
    "    calc_score(target_path, pred_path)"
   ]
  },
  {
   "cell_type": "code",
   "execution_count": 11,
   "id": "32eaff8a",
   "metadata": {
    "scrolled": false
   },
   "outputs": [
    {
     "name": "stdout",
     "output_type": "stream",
     "text": [
      "user_based: False, name: cosine, k: 10, min_k: 1\n",
      "Computing the cosine similarity matrix...\n",
      "Done computing similarity matrix.\n",
      "--- fit: 17.166242837905884 seconds ---\n"
     ]
    },
    {
     "name": "stderr",
     "output_type": "stream",
     "text": [
      "100%|██████████████████████████████████████████████████████████████████████████████| 1000/1000 [10:59<00:00,  1.52it/s]\n",
      "100%|█████████████████████████████████████████████████████████████████████████████| 1000/1000 [00:07<00:00, 129.38it/s]\n"
     ]
    },
    {
     "name": "stdout",
     "output_type": "stream",
     "text": [
      "MRR@100 = 0.0011\n",
      "user_based: False, name: cosine, k: 10, min_k: 10\n",
      "Computing the cosine similarity matrix...\n",
      "Done computing similarity matrix.\n",
      "--- fit: 17.394760847091675 seconds ---\n"
     ]
    },
    {
     "name": "stderr",
     "output_type": "stream",
     "text": [
      "100%|██████████████████████████████████████████████████████████████████████████████| 1000/1000 [11:03<00:00,  1.51it/s]\n",
      "100%|█████████████████████████████████████████████████████████████████████████████| 1000/1000 [00:07<00:00, 133.81it/s]\n"
     ]
    },
    {
     "name": "stdout",
     "output_type": "stream",
     "text": [
      "MRR@100 = 0.0002\n",
      "user_based: False, name: cosine, k: 10, min_k: 50\n",
      "Computing the cosine similarity matrix...\n",
      "Done computing similarity matrix.\n",
      "--- fit: 16.1471951007843 seconds ---\n"
     ]
    },
    {
     "name": "stderr",
     "output_type": "stream",
     "text": [
      "100%|██████████████████████████████████████████████████████████████████████████████| 1000/1000 [10:37<00:00,  1.57it/s]\n",
      "100%|█████████████████████████████████████████████████████████████████████████████| 1000/1000 [00:07<00:00, 129.86it/s]\n"
     ]
    },
    {
     "name": "stdout",
     "output_type": "stream",
     "text": [
      "MRR@100 = 0.0000\n",
      "user_based: False, name: cosine, k: 40, min_k: 1\n",
      "Computing the cosine similarity matrix...\n",
      "Done computing similarity matrix.\n",
      "--- fit: 17.672292709350586 seconds ---\n"
     ]
    },
    {
     "name": "stderr",
     "output_type": "stream",
     "text": [
      "100%|██████████████████████████████████████████████████████████████████████████████| 1000/1000 [13:36<00:00,  1.22it/s]\n",
      "100%|█████████████████████████████████████████████████████████████████████████████| 1000/1000 [00:07<00:00, 132.37it/s]\n"
     ]
    },
    {
     "name": "stdout",
     "output_type": "stream",
     "text": [
      "MRR@100 = 0.0011\n",
      "user_based: False, name: cosine, k: 40, min_k: 10\n",
      "Computing the cosine similarity matrix...\n",
      "Done computing similarity matrix.\n",
      "--- fit: 16.945903539657593 seconds ---\n"
     ]
    },
    {
     "name": "stderr",
     "output_type": "stream",
     "text": [
      "100%|██████████████████████████████████████████████████████████████████████████████| 1000/1000 [13:13<00:00,  1.26it/s]\n",
      "100%|█████████████████████████████████████████████████████████████████████████████| 1000/1000 [00:07<00:00, 132.27it/s]\n"
     ]
    },
    {
     "name": "stdout",
     "output_type": "stream",
     "text": [
      "MRR@100 = 0.0002\n",
      "user_based: False, name: cosine, k: 40, min_k: 50\n",
      "Computing the cosine similarity matrix...\n",
      "Done computing similarity matrix.\n",
      "--- fit: 17.620237588882446 seconds ---\n"
     ]
    },
    {
     "name": "stderr",
     "output_type": "stream",
     "text": [
      "100%|██████████████████████████████████████████████████████████████████████████████| 1000/1000 [12:58<00:00,  1.29it/s]\n",
      "100%|█████████████████████████████████████████████████████████████████████████████| 1000/1000 [00:07<00:00, 134.64it/s]\n"
     ]
    },
    {
     "name": "stdout",
     "output_type": "stream",
     "text": [
      "MRR@100 = 0.0000\n",
      "user_based: False, name: cosine, k: 80, min_k: 1\n",
      "Computing the cosine similarity matrix...\n",
      "Done computing similarity matrix.\n",
      "--- fit: 16.915982007980347 seconds ---\n"
     ]
    },
    {
     "name": "stderr",
     "output_type": "stream",
     "text": [
      "100%|██████████████████████████████████████████████████████████████████████████████| 1000/1000 [14:56<00:00,  1.12it/s]\n",
      "100%|█████████████████████████████████████████████████████████████████████████████| 1000/1000 [00:07<00:00, 132.04it/s]\n"
     ]
    },
    {
     "name": "stdout",
     "output_type": "stream",
     "text": [
      "MRR@100 = 0.0011\n",
      "user_based: False, name: cosine, k: 80, min_k: 10\n",
      "Computing the cosine similarity matrix...\n",
      "Done computing similarity matrix.\n",
      "--- fit: 15.971884727478027 seconds ---\n"
     ]
    },
    {
     "name": "stderr",
     "output_type": "stream",
     "text": [
      "100%|██████████████████████████████████████████████████████████████████████████████| 1000/1000 [14:22<00:00,  1.16it/s]\n",
      "100%|█████████████████████████████████████████████████████████████████████████████| 1000/1000 [00:07<00:00, 128.12it/s]\n"
     ]
    },
    {
     "name": "stdout",
     "output_type": "stream",
     "text": [
      "MRR@100 = 0.0002\n",
      "user_based: False, name: cosine, k: 80, min_k: 50\n",
      "Computing the cosine similarity matrix...\n",
      "Done computing similarity matrix.\n",
      "--- fit: 19.516481399536133 seconds ---\n"
     ]
    },
    {
     "name": "stderr",
     "output_type": "stream",
     "text": [
      "100%|██████████████████████████████████████████████████████████████████████████████| 1000/1000 [14:41<00:00,  1.14it/s]\n",
      "100%|█████████████████████████████████████████████████████████████████████████████| 1000/1000 [00:07<00:00, 130.29it/s]\n"
     ]
    },
    {
     "name": "stdout",
     "output_type": "stream",
     "text": [
      "MRR@100 = 0.0000\n",
      "user_based: False, name: msd, k: 10, min_k: 1\n",
      "Computing the msd similarity matrix...\n",
      "Done computing similarity matrix.\n",
      "--- fit: 10.586703062057495 seconds ---\n"
     ]
    },
    {
     "name": "stderr",
     "output_type": "stream",
     "text": [
      "100%|██████████████████████████████████████████████████████████████████████████████| 1000/1000 [10:26<00:00,  1.60it/s]\n",
      "100%|█████████████████████████████████████████████████████████████████████████████| 1000/1000 [00:07<00:00, 127.67it/s]\n"
     ]
    },
    {
     "name": "stdout",
     "output_type": "stream",
     "text": [
      "MRR@100 = 0.0001\n",
      "user_based: False, name: msd, k: 10, min_k: 10\n",
      "Computing the msd similarity matrix...\n",
      "Done computing similarity matrix.\n",
      "--- fit: 10.396128177642822 seconds ---\n"
     ]
    },
    {
     "name": "stderr",
     "output_type": "stream",
     "text": [
      "100%|██████████████████████████████████████████████████████████████████████████████| 1000/1000 [10:50<00:00,  1.54it/s]\n",
      "100%|█████████████████████████████████████████████████████████████████████████████| 1000/1000 [00:07<00:00, 128.87it/s]\n"
     ]
    },
    {
     "name": "stdout",
     "output_type": "stream",
     "text": [
      "MRR@100 = 0.0002\n",
      "user_based: False, name: msd, k: 10, min_k: 50\n",
      "Computing the msd similarity matrix...\n",
      "Done computing similarity matrix.\n",
      "--- fit: 10.348768711090088 seconds ---\n"
     ]
    },
    {
     "name": "stderr",
     "output_type": "stream",
     "text": [
      "100%|██████████████████████████████████████████████████████████████████████████████| 1000/1000 [10:16<00:00,  1.62it/s]\n",
      "100%|█████████████████████████████████████████████████████████████████████████████| 1000/1000 [00:08<00:00, 123.18it/s]\n"
     ]
    },
    {
     "name": "stdout",
     "output_type": "stream",
     "text": [
      "MRR@100 = 0.0000\n",
      "user_based: False, name: msd, k: 40, min_k: 1\n",
      "Computing the msd similarity matrix...\n",
      "Done computing similarity matrix.\n",
      "--- fit: 10.91453504562378 seconds ---\n"
     ]
    },
    {
     "name": "stderr",
     "output_type": "stream",
     "text": [
      "100%|██████████████████████████████████████████████████████████████████████████████| 1000/1000 [13:23<00:00,  1.25it/s]\n",
      "100%|█████████████████████████████████████████████████████████████████████████████| 1000/1000 [00:07<00:00, 129.83it/s]\n"
     ]
    },
    {
     "name": "stdout",
     "output_type": "stream",
     "text": [
      "MRR@100 = 0.0001\n",
      "user_based: False, name: msd, k: 40, min_k: 10\n",
      "Computing the msd similarity matrix...\n",
      "Done computing similarity matrix.\n",
      "--- fit: 21.81763768196106 seconds ---\n"
     ]
    },
    {
     "name": "stderr",
     "output_type": "stream",
     "text": [
      "100%|██████████████████████████████████████████████████████████████████████████████| 1000/1000 [13:02<00:00,  1.28it/s]\n",
      "100%|█████████████████████████████████████████████████████████████████████████████| 1000/1000 [00:07<00:00, 134.27it/s]\n"
     ]
    },
    {
     "name": "stdout",
     "output_type": "stream",
     "text": [
      "MRR@100 = 0.0002\n",
      "user_based: False, name: msd, k: 40, min_k: 50\n",
      "Computing the msd similarity matrix...\n",
      "Done computing similarity matrix.\n",
      "--- fit: 10.370333671569824 seconds ---\n"
     ]
    },
    {
     "name": "stderr",
     "output_type": "stream",
     "text": [
      "100%|██████████████████████████████████████████████████████████████████████████████| 1000/1000 [13:46<00:00,  1.21it/s]\n",
      "100%|█████████████████████████████████████████████████████████████████████████████| 1000/1000 [00:09<00:00, 109.02it/s]\n"
     ]
    },
    {
     "name": "stdout",
     "output_type": "stream",
     "text": [
      "MRR@100 = 0.0000\n",
      "user_based: False, name: msd, k: 80, min_k: 1\n",
      "Computing the msd similarity matrix...\n",
      "Done computing similarity matrix.\n",
      "--- fit: 10.790825366973877 seconds ---\n"
     ]
    },
    {
     "name": "stderr",
     "output_type": "stream",
     "text": [
      "100%|██████████████████████████████████████████████████████████████████████████████| 1000/1000 [14:49<00:00,  1.12it/s]\n",
      "100%|█████████████████████████████████████████████████████████████████████████████| 1000/1000 [00:09<00:00, 105.23it/s]\n"
     ]
    },
    {
     "name": "stdout",
     "output_type": "stream",
     "text": [
      "MRR@100 = 0.0001\n",
      "user_based: False, name: msd, k: 80, min_k: 10\n",
      "Computing the msd similarity matrix...\n",
      "Done computing similarity matrix.\n",
      "--- fit: 13.902043581008911 seconds ---\n"
     ]
    },
    {
     "name": "stderr",
     "output_type": "stream",
     "text": [
      "100%|██████████████████████████████████████████████████████████████████████████████| 1000/1000 [14:47<00:00,  1.13it/s]\n",
      "100%|█████████████████████████████████████████████████████████████████████████████| 1000/1000 [00:07<00:00, 130.09it/s]\n"
     ]
    },
    {
     "name": "stdout",
     "output_type": "stream",
     "text": [
      "MRR@100 = 0.0002\n",
      "user_based: False, name: msd, k: 80, min_k: 50\n",
      "Computing the msd similarity matrix...\n",
      "Done computing similarity matrix.\n",
      "--- fit: 10.537880659103394 seconds ---\n"
     ]
    },
    {
     "name": "stderr",
     "output_type": "stream",
     "text": [
      "100%|██████████████████████████████████████████████████████████████████████████████| 1000/1000 [14:54<00:00,  1.12it/s]\n",
      "100%|█████████████████████████████████████████████████████████████████████████████| 1000/1000 [00:09<00:00, 103.51it/s]\n"
     ]
    },
    {
     "name": "stdout",
     "output_type": "stream",
     "text": [
      "MRR@100 = 0.0000\n",
      "user_based: False, name: pearson, k: 10, min_k: 1\n",
      "Computing the pearson similarity matrix...\n",
      "Done computing similarity matrix.\n",
      "--- fit: 32.62072253227234 seconds ---\n"
     ]
    },
    {
     "name": "stderr",
     "output_type": "stream",
     "text": [
      "100%|██████████████████████████████████████████████████████████████████████████████| 1000/1000 [10:16<00:00,  1.62it/s]\n",
      "100%|█████████████████████████████████████████████████████████████████████████████| 1000/1000 [00:07<00:00, 128.91it/s]\n"
     ]
    },
    {
     "name": "stdout",
     "output_type": "stream",
     "text": [
      "MRR@100 = 0.0013\n",
      "user_based: False, name: pearson, k: 10, min_k: 10\n",
      "Computing the pearson similarity matrix...\n",
      "Done computing similarity matrix.\n",
      "--- fit: 34.627652406692505 seconds ---\n"
     ]
    },
    {
     "name": "stderr",
     "output_type": "stream",
     "text": [
      "100%|██████████████████████████████████████████████████████████████████████████████| 1000/1000 [10:00<00:00,  1.66it/s]\n",
      "100%|█████████████████████████████████████████████████████████████████████████████| 1000/1000 [00:07<00:00, 126.52it/s]\n"
     ]
    },
    {
     "name": "stdout",
     "output_type": "stream",
     "text": [
      "MRR@100 = 0.0002\n",
      "user_based: False, name: pearson, k: 10, min_k: 50\n",
      "Computing the pearson similarity matrix...\n",
      "Done computing similarity matrix.\n",
      "--- fit: 38.14262390136719 seconds ---\n"
     ]
    },
    {
     "name": "stderr",
     "output_type": "stream",
     "text": [
      "100%|██████████████████████████████████████████████████████████████████████████████| 1000/1000 [09:57<00:00,  1.67it/s]\n",
      "100%|█████████████████████████████████████████████████████████████████████████████| 1000/1000 [00:07<00:00, 127.20it/s]\n"
     ]
    },
    {
     "name": "stdout",
     "output_type": "stream",
     "text": [
      "MRR@100 = 0.0000\n",
      "user_based: False, name: pearson, k: 40, min_k: 1\n",
      "Computing the pearson similarity matrix...\n",
      "Done computing similarity matrix.\n",
      "--- fit: 37.200791358947754 seconds ---\n"
     ]
    },
    {
     "name": "stderr",
     "output_type": "stream",
     "text": [
      "100%|██████████████████████████████████████████████████████████████████████████████| 1000/1000 [11:56<00:00,  1.40it/s]\n",
      "100%|█████████████████████████████████████████████████████████████████████████████| 1000/1000 [00:07<00:00, 126.32it/s]\n"
     ]
    },
    {
     "name": "stdout",
     "output_type": "stream",
     "text": [
      "MRR@100 = 0.0013\n",
      "user_based: False, name: pearson, k: 40, min_k: 10\n",
      "Computing the pearson similarity matrix...\n",
      "Done computing similarity matrix.\n",
      "--- fit: 40.99138331413269 seconds ---\n"
     ]
    },
    {
     "name": "stderr",
     "output_type": "stream",
     "text": [
      "100%|██████████████████████████████████████████████████████████████████████████████| 1000/1000 [11:52<00:00,  1.40it/s]\n",
      "100%|█████████████████████████████████████████████████████████████████████████████| 1000/1000 [00:07<00:00, 133.04it/s]\n"
     ]
    },
    {
     "name": "stdout",
     "output_type": "stream",
     "text": [
      "MRR@100 = 0.0002\n",
      "user_based: False, name: pearson, k: 40, min_k: 50\n",
      "Computing the pearson similarity matrix...\n",
      "Done computing similarity matrix.\n",
      "--- fit: 28.435518980026245 seconds ---\n"
     ]
    },
    {
     "name": "stderr",
     "output_type": "stream",
     "text": [
      "100%|██████████████████████████████████████████████████████████████████████████████| 1000/1000 [11:46<00:00,  1.42it/s]\n",
      "100%|█████████████████████████████████████████████████████████████████████████████| 1000/1000 [00:07<00:00, 132.10it/s]\n"
     ]
    },
    {
     "name": "stdout",
     "output_type": "stream",
     "text": [
      "MRR@100 = 0.0000\n",
      "user_based: False, name: pearson, k: 80, min_k: 1\n",
      "Computing the pearson similarity matrix...\n",
      "Done computing similarity matrix.\n",
      "--- fit: 32.110919713974 seconds ---\n"
     ]
    },
    {
     "name": "stderr",
     "output_type": "stream",
     "text": [
      "100%|██████████████████████████████████████████████████████████████████████████████| 1000/1000 [13:04<00:00,  1.28it/s]\n",
      "100%|█████████████████████████████████████████████████████████████████████████████| 1000/1000 [00:08<00:00, 124.96it/s]\n"
     ]
    },
    {
     "name": "stdout",
     "output_type": "stream",
     "text": [
      "MRR@100 = 0.0013\n",
      "user_based: False, name: pearson, k: 80, min_k: 10\n",
      "Computing the pearson similarity matrix...\n",
      "Done computing similarity matrix.\n",
      "--- fit: 33.71672558784485 seconds ---\n"
     ]
    },
    {
     "name": "stderr",
     "output_type": "stream",
     "text": [
      "100%|██████████████████████████████████████████████████████████████████████████████| 1000/1000 [13:09<00:00,  1.27it/s]\n",
      "100%|█████████████████████████████████████████████████████████████████████████████| 1000/1000 [00:07<00:00, 127.98it/s]\n"
     ]
    },
    {
     "name": "stdout",
     "output_type": "stream",
     "text": [
      "MRR@100 = 0.0002\n",
      "user_based: False, name: pearson, k: 80, min_k: 50\n",
      "Computing the pearson similarity matrix...\n",
      "Done computing similarity matrix.\n",
      "--- fit: 30.88049864768982 seconds ---\n"
     ]
    },
    {
     "name": "stderr",
     "output_type": "stream",
     "text": [
      "100%|██████████████████████████████████████████████████████████████████████████████| 1000/1000 [13:25<00:00,  1.24it/s]\n",
      "100%|█████████████████████████████████████████████████████████████████████████████| 1000/1000 [00:08<00:00, 112.74it/s]\n"
     ]
    },
    {
     "name": "stdout",
     "output_type": "stream",
     "text": [
      "MRR@100 = 0.0000\n",
      "user_based: False, name: pearson_baseline, k: 10, min_k: 1\n",
      "Estimating biases using als...\n",
      "Computing the pearson_baseline similarity matrix...\n",
      "Done computing similarity matrix.\n",
      "--- fit: 21.147881746292114 seconds ---\n"
     ]
    },
    {
     "name": "stderr",
     "output_type": "stream",
     "text": [
      "100%|██████████████████████████████████████████████████████████████████████████████| 1000/1000 [11:27<00:00,  1.46it/s]\n",
      "100%|█████████████████████████████████████████████████████████████████████████████| 1000/1000 [00:09<00:00, 103.67it/s]\n"
     ]
    },
    {
     "name": "stdout",
     "output_type": "stream",
     "text": [
      "MRR@100 = 0.0016\n",
      "user_based: False, name: pearson_baseline, k: 10, min_k: 10\n",
      "Estimating biases using als...\n",
      "Computing the pearson_baseline similarity matrix...\n",
      "Done computing similarity matrix.\n",
      "--- fit: 19.970130681991577 seconds ---\n"
     ]
    },
    {
     "name": "stderr",
     "output_type": "stream",
     "text": [
      "100%|██████████████████████████████████████████████████████████████████████████████| 1000/1000 [09:47<00:00,  1.70it/s]\n",
      "100%|█████████████████████████████████████████████████████████████████████████████| 1000/1000 [00:07<00:00, 128.09it/s]\n"
     ]
    },
    {
     "name": "stdout",
     "output_type": "stream",
     "text": [
      "MRR@100 = 0.0000\n",
      "user_based: False, name: pearson_baseline, k: 10, min_k: 50\n",
      "Estimating biases using als...\n",
      "Computing the pearson_baseline similarity matrix...\n",
      "Done computing similarity matrix.\n",
      "--- fit: 20.54188299179077 seconds ---\n"
     ]
    },
    {
     "name": "stderr",
     "output_type": "stream",
     "text": [
      "100%|██████████████████████████████████████████████████████████████████████████████| 1000/1000 [09:59<00:00,  1.67it/s]\n",
      "100%|█████████████████████████████████████████████████████████████████████████████| 1000/1000 [00:09<00:00, 104.90it/s]\n"
     ]
    },
    {
     "name": "stdout",
     "output_type": "stream",
     "text": [
      "MRR@100 = 0.0000\n",
      "user_based: False, name: pearson_baseline, k: 40, min_k: 1\n",
      "Estimating biases using als...\n",
      "Computing the pearson_baseline similarity matrix...\n",
      "Done computing similarity matrix.\n",
      "--- fit: 19.963255167007446 seconds ---\n"
     ]
    },
    {
     "name": "stderr",
     "output_type": "stream",
     "text": [
      "100%|██████████████████████████████████████████████████████████████████████████████| 1000/1000 [11:00<00:00,  1.51it/s]\n",
      "100%|█████████████████████████████████████████████████████████████████████████████| 1000/1000 [00:07<00:00, 139.76it/s]\n"
     ]
    },
    {
     "name": "stdout",
     "output_type": "stream",
     "text": [
      "MRR@100 = 0.0016\n",
      "user_based: False, name: pearson_baseline, k: 40, min_k: 10\n",
      "Estimating biases using als...\n",
      "Computing the pearson_baseline similarity matrix...\n",
      "Done computing similarity matrix.\n",
      "--- fit: 18.1425564289093 seconds ---\n"
     ]
    },
    {
     "name": "stderr",
     "output_type": "stream",
     "text": [
      "100%|██████████████████████████████████████████████████████████████████████████████| 1000/1000 [10:53<00:00,  1.53it/s]\n",
      "100%|█████████████████████████████████████████████████████████████████████████████| 1000/1000 [00:07<00:00, 130.34it/s]\n"
     ]
    },
    {
     "name": "stdout",
     "output_type": "stream",
     "text": [
      "MRR@100 = 0.0000\n",
      "user_based: False, name: pearson_baseline, k: 40, min_k: 50\n",
      "Estimating biases using als...\n",
      "Computing the pearson_baseline similarity matrix...\n",
      "Done computing similarity matrix.\n",
      "--- fit: 17.764450788497925 seconds ---\n"
     ]
    },
    {
     "name": "stderr",
     "output_type": "stream",
     "text": [
      "100%|██████████████████████████████████████████████████████████████████████████████| 1000/1000 [10:57<00:00,  1.52it/s]\n",
      "100%|█████████████████████████████████████████████████████████████████████████████| 1000/1000 [00:07<00:00, 128.48it/s]\n"
     ]
    },
    {
     "name": "stdout",
     "output_type": "stream",
     "text": [
      "MRR@100 = 0.0000\n",
      "user_based: False, name: pearson_baseline, k: 80, min_k: 1\n",
      "Estimating biases using als...\n",
      "Computing the pearson_baseline similarity matrix...\n",
      "Done computing similarity matrix.\n",
      "--- fit: 18.228684186935425 seconds ---\n"
     ]
    },
    {
     "name": "stderr",
     "output_type": "stream",
     "text": [
      "100%|██████████████████████████████████████████████████████████████████████████████| 1000/1000 [11:40<00:00,  1.43it/s]\n",
      "100%|█████████████████████████████████████████████████████████████████████████████| 1000/1000 [00:07<00:00, 132.31it/s]\n"
     ]
    },
    {
     "name": "stdout",
     "output_type": "stream",
     "text": [
      "MRR@100 = 0.0016\n",
      "user_based: False, name: pearson_baseline, k: 80, min_k: 10\n",
      "Estimating biases using als...\n",
      "Computing the pearson_baseline similarity matrix...\n",
      "Done computing similarity matrix.\n",
      "--- fit: 18.385458946228027 seconds ---\n"
     ]
    },
    {
     "name": "stderr",
     "output_type": "stream",
     "text": [
      "100%|██████████████████████████████████████████████████████████████████████████████| 1000/1000 [11:46<00:00,  1.42it/s]\n",
      "100%|█████████████████████████████████████████████████████████████████████████████| 1000/1000 [00:07<00:00, 134.52it/s]\n"
     ]
    },
    {
     "name": "stdout",
     "output_type": "stream",
     "text": [
      "MRR@100 = 0.0000\n",
      "user_based: False, name: pearson_baseline, k: 80, min_k: 50\n",
      "Estimating biases using als...\n",
      "Computing the pearson_baseline similarity matrix...\n",
      "Done computing similarity matrix.\n",
      "--- fit: 17.73676347732544 seconds ---\n"
     ]
    },
    {
     "name": "stderr",
     "output_type": "stream",
     "text": [
      "100%|██████████████████████████████████████████████████████████████████████████████| 1000/1000 [11:49<00:00,  1.41it/s]\n",
      "100%|█████████████████████████████████████████████████████████████████████████████| 1000/1000 [00:07<00:00, 131.75it/s]\n"
     ]
    },
    {
     "name": "stdout",
     "output_type": "stream",
     "text": [
      "MRR@100 = 0.0000\n",
      "user_based: True, name: cosine, k: 10, min_k: 1\n",
      "Computing the cosine similarity matrix...\n",
      "Done computing similarity matrix.\n",
      "--- fit: 9.148684978485107 seconds ---\n"
     ]
    },
    {
     "name": "stderr",
     "output_type": "stream",
     "text": [
      "100%|██████████████████████████████████████████████████████████████████████████████| 1000/1000 [06:13<00:00,  2.68it/s]\n",
      "100%|█████████████████████████████████████████████████████████████████████████████| 1000/1000 [00:06<00:00, 149.06it/s]\n"
     ]
    },
    {
     "name": "stdout",
     "output_type": "stream",
     "text": [
      "MRR@100 = 0.0001\n",
      "user_based: True, name: cosine, k: 10, min_k: 10\n",
      "Computing the cosine similarity matrix...\n",
      "Done computing similarity matrix.\n",
      "--- fit: 10.432451248168945 seconds ---\n"
     ]
    },
    {
     "name": "stderr",
     "output_type": "stream",
     "text": [
      "100%|██████████████████████████████████████████████████████████████████████████████| 1000/1000 [06:09<00:00,  2.71it/s]\n",
      "100%|█████████████████████████████████████████████████████████████████████████████| 1000/1000 [00:03<00:00, 276.41it/s]\n"
     ]
    },
    {
     "name": "stdout",
     "output_type": "stream",
     "text": [
      "MRR@100 = 0.0032\n",
      "user_based: True, name: cosine, k: 10, min_k: 50\n",
      "Computing the cosine similarity matrix...\n",
      "Done computing similarity matrix.\n",
      "--- fit: 10.780638456344604 seconds ---\n"
     ]
    },
    {
     "name": "stderr",
     "output_type": "stream",
     "text": [
      "100%|██████████████████████████████████████████████████████████████████████████████| 1000/1000 [06:13<00:00,  2.68it/s]\n",
      "100%|█████████████████████████████████████████████████████████████████████████████| 1000/1000 [00:01<00:00, 597.67it/s]\n"
     ]
    },
    {
     "name": "stdout",
     "output_type": "stream",
     "text": [
      "MRR@100 = 0.0001\n",
      "user_based: True, name: cosine, k: 40, min_k: 1\n",
      "Computing the cosine similarity matrix...\n",
      "Done computing similarity matrix.\n",
      "--- fit: 10.392731666564941 seconds ---\n"
     ]
    },
    {
     "name": "stderr",
     "output_type": "stream",
     "text": [
      "100%|██████████████████████████████████████████████████████████████████████████████| 1000/1000 [07:13<00:00,  2.31it/s]\n",
      "100%|█████████████████████████████████████████████████████████████████████████████| 1000/1000 [00:07<00:00, 140.13it/s]\n"
     ]
    },
    {
     "name": "stdout",
     "output_type": "stream",
     "text": [
      "MRR@100 = 0.0001\n",
      "user_based: True, name: cosine, k: 40, min_k: 10\n",
      "Computing the cosine similarity matrix...\n",
      "Done computing similarity matrix.\n",
      "--- fit: 10.591593742370605 seconds ---\n"
     ]
    },
    {
     "name": "stderr",
     "output_type": "stream",
     "text": [
      "100%|██████████████████████████████████████████████████████████████████████████████| 1000/1000 [07:14<00:00,  2.30it/s]\n",
      "100%|█████████████████████████████████████████████████████████████████████████████| 1000/1000 [00:03<00:00, 275.31it/s]\n"
     ]
    },
    {
     "name": "stdout",
     "output_type": "stream",
     "text": [
      "MRR@100 = 0.0031\n",
      "user_based: True, name: cosine, k: 40, min_k: 50\n",
      "Computing the cosine similarity matrix...\n",
      "Done computing similarity matrix.\n",
      "--- fit: 10.635010004043579 seconds ---\n"
     ]
    },
    {
     "name": "stderr",
     "output_type": "stream",
     "text": [
      "100%|██████████████████████████████████████████████████████████████████████████████| 1000/1000 [07:07<00:00,  2.34it/s]\n",
      "100%|█████████████████████████████████████████████████████████████████████████████| 1000/1000 [00:01<00:00, 562.63it/s]\n"
     ]
    },
    {
     "name": "stdout",
     "output_type": "stream",
     "text": [
      "MRR@100 = 0.0001\n",
      "user_based: True, name: cosine, k: 80, min_k: 1\n",
      "Computing the cosine similarity matrix...\n",
      "Done computing similarity matrix.\n",
      "--- fit: 10.570052862167358 seconds ---\n"
     ]
    },
    {
     "name": "stderr",
     "output_type": "stream",
     "text": [
      "100%|██████████████████████████████████████████████████████████████████████████████| 1000/1000 [07:46<00:00,  2.14it/s]\n",
      "100%|█████████████████████████████████████████████████████████████████████████████| 1000/1000 [00:06<00:00, 143.79it/s]\n"
     ]
    },
    {
     "name": "stdout",
     "output_type": "stream",
     "text": [
      "MRR@100 = 0.0001\n",
      "user_based: True, name: cosine, k: 80, min_k: 10\n",
      "Computing the cosine similarity matrix...\n",
      "Done computing similarity matrix.\n",
      "--- fit: 10.384103298187256 seconds ---\n"
     ]
    },
    {
     "name": "stderr",
     "output_type": "stream",
     "text": [
      "100%|██████████████████████████████████████████████████████████████████████████████| 1000/1000 [07:44<00:00,  2.15it/s]\n",
      "100%|█████████████████████████████████████████████████████████████████████████████| 1000/1000 [00:04<00:00, 248.37it/s]\n"
     ]
    },
    {
     "name": "stdout",
     "output_type": "stream",
     "text": [
      "MRR@100 = 0.0039\n",
      "user_based: True, name: cosine, k: 80, min_k: 50\n",
      "Computing the cosine similarity matrix...\n",
      "Done computing similarity matrix.\n",
      "--- fit: 10.6804940700531 seconds ---\n"
     ]
    },
    {
     "name": "stderr",
     "output_type": "stream",
     "text": [
      "100%|██████████████████████████████████████████████████████████████████████████████| 1000/1000 [07:46<00:00,  2.14it/s]\n",
      "100%|█████████████████████████████████████████████████████████████████████████████| 1000/1000 [00:03<00:00, 327.59it/s]\n"
     ]
    },
    {
     "name": "stdout",
     "output_type": "stream",
     "text": [
      "MRR@100 = 0.0110\n",
      "user_based: True, name: msd, k: 10, min_k: 1\n",
      "Computing the msd similarity matrix...\n",
      "Done computing similarity matrix.\n",
      "--- fit: 6.785077095031738 seconds ---\n"
     ]
    },
    {
     "name": "stderr",
     "output_type": "stream",
     "text": [
      "100%|██████████████████████████████████████████████████████████████████████████████| 1000/1000 [06:23<00:00,  2.60it/s]\n",
      "100%|█████████████████████████████████████████████████████████████████████████████| 1000/1000 [00:06<00:00, 143.30it/s]\n"
     ]
    },
    {
     "name": "stdout",
     "output_type": "stream",
     "text": [
      "MRR@100 = 0.0017\n",
      "user_based: True, name: msd, k: 10, min_k: 10\n",
      "Computing the msd similarity matrix...\n",
      "Done computing similarity matrix.\n",
      "--- fit: 7.483663558959961 seconds ---\n"
     ]
    },
    {
     "name": "stderr",
     "output_type": "stream",
     "text": [
      "100%|██████████████████████████████████████████████████████████████████████████████| 1000/1000 [06:16<00:00,  2.66it/s]\n",
      "100%|█████████████████████████████████████████████████████████████████████████████| 1000/1000 [00:04<00:00, 245.93it/s]\n"
     ]
    },
    {
     "name": "stdout",
     "output_type": "stream",
     "text": [
      "MRR@100 = 0.0270\n",
      "user_based: True, name: msd, k: 10, min_k: 50\n",
      "Computing the msd similarity matrix...\n",
      "Done computing similarity matrix.\n",
      "--- fit: 7.294931411743164 seconds ---\n"
     ]
    },
    {
     "name": "stderr",
     "output_type": "stream",
     "text": [
      "100%|██████████████████████████████████████████████████████████████████████████████| 1000/1000 [06:17<00:00,  2.65it/s]\n",
      "100%|█████████████████████████████████████████████████████████████████████████████| 1000/1000 [00:01<00:00, 596.63it/s]\n"
     ]
    },
    {
     "name": "stdout",
     "output_type": "stream",
     "text": [
      "MRR@100 = 0.0001\n",
      "user_based: True, name: msd, k: 40, min_k: 1\n",
      "Computing the msd similarity matrix...\n",
      "Done computing similarity matrix.\n",
      "--- fit: 7.440545558929443 seconds ---\n"
     ]
    },
    {
     "name": "stderr",
     "output_type": "stream",
     "text": [
      "100%|██████████████████████████████████████████████████████████████████████████████| 1000/1000 [07:24<00:00,  2.25it/s]\n",
      "100%|█████████████████████████████████████████████████████████████████████████████| 1000/1000 [00:07<00:00, 140.05it/s]\n"
     ]
    },
    {
     "name": "stdout",
     "output_type": "stream",
     "text": [
      "MRR@100 = 0.0011\n",
      "user_based: True, name: msd, k: 40, min_k: 10\n",
      "Computing the msd similarity matrix...\n",
      "Done computing similarity matrix.\n",
      "--- fit: 7.499217748641968 seconds ---\n"
     ]
    },
    {
     "name": "stderr",
     "output_type": "stream",
     "text": [
      "100%|██████████████████████████████████████████████████████████████████████████████| 1000/1000 [07:20<00:00,  2.27it/s]\n",
      "100%|█████████████████████████████████████████████████████████████████████████████| 1000/1000 [00:04<00:00, 241.90it/s]\n"
     ]
    },
    {
     "name": "stdout",
     "output_type": "stream",
     "text": [
      "MRR@100 = 0.0343\n",
      "user_based: True, name: msd, k: 40, min_k: 50\n",
      "Computing the msd similarity matrix...\n",
      "Done computing similarity matrix.\n",
      "--- fit: 7.125312089920044 seconds ---\n"
     ]
    },
    {
     "name": "stderr",
     "output_type": "stream",
     "text": [
      "100%|██████████████████████████████████████████████████████████████████████████████| 1000/1000 [07:19<00:00,  2.28it/s]\n",
      "100%|█████████████████████████████████████████████████████████████████████████████| 1000/1000 [00:01<00:00, 531.86it/s]\n"
     ]
    },
    {
     "name": "stdout",
     "output_type": "stream",
     "text": [
      "MRR@100 = 0.0001\n",
      "user_based: True, name: msd, k: 80, min_k: 1\n",
      "Computing the msd similarity matrix...\n",
      "Done computing similarity matrix.\n",
      "--- fit: 6.998668193817139 seconds ---\n"
     ]
    },
    {
     "name": "stderr",
     "output_type": "stream",
     "text": [
      "100%|██████████████████████████████████████████████████████████████████████████████| 1000/1000 [07:50<00:00,  2.12it/s]\n",
      "100%|█████████████████████████████████████████████████████████████████████████████| 1000/1000 [00:06<00:00, 146.99it/s]\n"
     ]
    },
    {
     "name": "stdout",
     "output_type": "stream",
     "text": [
      "MRR@100 = 0.0007\n",
      "user_based: True, name: msd, k: 80, min_k: 10\n",
      "Computing the msd similarity matrix...\n",
      "Done computing similarity matrix.\n",
      "--- fit: 7.378032445907593 seconds ---\n"
     ]
    },
    {
     "name": "stderr",
     "output_type": "stream",
     "text": [
      "100%|██████████████████████████████████████████████████████████████████████████████| 1000/1000 [07:52<00:00,  2.12it/s]\n",
      "100%|█████████████████████████████████████████████████████████████████████████████| 1000/1000 [00:03<00:00, 275.14it/s]\n"
     ]
    },
    {
     "name": "stdout",
     "output_type": "stream",
     "text": [
      "MRR@100 = 0.0291\n",
      "user_based: True, name: msd, k: 80, min_k: 50\n",
      "Computing the msd similarity matrix...\n",
      "Done computing similarity matrix.\n",
      "--- fit: 5.583688735961914 seconds ---\n"
     ]
    },
    {
     "name": "stderr",
     "output_type": "stream",
     "text": [
      "100%|██████████████████████████████████████████████████████████████████████████████| 1000/1000 [07:58<00:00,  2.09it/s]\n",
      "100%|█████████████████████████████████████████████████████████████████████████████| 1000/1000 [00:02<00:00, 381.61it/s]\n"
     ]
    },
    {
     "name": "stdout",
     "output_type": "stream",
     "text": [
      "MRR@100 = 0.0435\n",
      "user_based: True, name: pearson, k: 10, min_k: 1\n",
      "Computing the pearson similarity matrix...\n",
      "Done computing similarity matrix.\n",
      "--- fit: 12.628540992736816 seconds ---\n"
     ]
    },
    {
     "name": "stderr",
     "output_type": "stream",
     "text": [
      "100%|██████████████████████████████████████████████████████████████████████████████| 1000/1000 [05:41<00:00,  2.93it/s]\n",
      "100%|█████████████████████████████████████████████████████████████████████████████| 1000/1000 [00:04<00:00, 234.86it/s]\n"
     ]
    },
    {
     "name": "stdout",
     "output_type": "stream",
     "text": [
      "MRR@100 = 0.0088\n",
      "user_based: True, name: pearson, k: 10, min_k: 10\n",
      "Computing the pearson similarity matrix...\n",
      "Done computing similarity matrix.\n",
      "--- fit: 12.86243462562561 seconds ---\n"
     ]
    },
    {
     "name": "stderr",
     "output_type": "stream",
     "text": [
      "100%|██████████████████████████████████████████████████████████████████████████████| 1000/1000 [06:28<00:00,  2.57it/s]\n",
      "100%|█████████████████████████████████████████████████████████████████████████████| 1000/1000 [00:02<00:00, 335.97it/s]\n"
     ]
    },
    {
     "name": "stdout",
     "output_type": "stream",
     "text": [
      "MRR@100 = 0.0366\n",
      "user_based: True, name: pearson, k: 10, min_k: 50\n",
      "Computing the pearson similarity matrix...\n",
      "Done computing similarity matrix.\n",
      "--- fit: 16.109044313430786 seconds ---\n"
     ]
    },
    {
     "name": "stderr",
     "output_type": "stream",
     "text": [
      "100%|██████████████████████████████████████████████████████████████████████████████| 1000/1000 [06:01<00:00,  2.77it/s]\n",
      "100%|█████████████████████████████████████████████████████████████████████████████| 1000/1000 [00:01<00:00, 537.26it/s]\n"
     ]
    },
    {
     "name": "stdout",
     "output_type": "stream",
     "text": [
      "MRR@100 = 0.0001\n",
      "user_based: True, name: pearson, k: 40, min_k: 1\n",
      "Computing the pearson similarity matrix...\n",
      "Done computing similarity matrix.\n",
      "--- fit: 13.083390712738037 seconds ---\n"
     ]
    },
    {
     "name": "stderr",
     "output_type": "stream",
     "text": [
      "100%|██████████████████████████████████████████████████████████████████████████████| 1000/1000 [06:37<00:00,  2.52it/s]\n",
      "100%|█████████████████████████████████████████████████████████████████████████████| 1000/1000 [00:04<00:00, 221.09it/s]\n"
     ]
    },
    {
     "name": "stdout",
     "output_type": "stream",
     "text": [
      "MRR@100 = 0.0086\n",
      "user_based: True, name: pearson, k: 40, min_k: 10\n",
      "Computing the pearson similarity matrix...\n",
      "Done computing similarity matrix.\n",
      "--- fit: 13.038182973861694 seconds ---\n"
     ]
    },
    {
     "name": "stderr",
     "output_type": "stream",
     "text": [
      "100%|██████████████████████████████████████████████████████████████████████████████| 1000/1000 [06:22<00:00,  2.61it/s]\n",
      "100%|█████████████████████████████████████████████████████████████████████████████| 1000/1000 [00:02<00:00, 388.76it/s]\n"
     ]
    },
    {
     "name": "stdout",
     "output_type": "stream",
     "text": [
      "MRR@100 = 0.0510\n",
      "user_based: True, name: pearson, k: 40, min_k: 50\n",
      "Computing the pearson similarity matrix...\n",
      "Done computing similarity matrix.\n",
      "--- fit: 13.371910333633423 seconds ---\n"
     ]
    },
    {
     "name": "stderr",
     "output_type": "stream",
     "text": [
      "100%|██████████████████████████████████████████████████████████████████████████████| 1000/1000 [07:20<00:00,  2.27it/s]\n",
      "100%|█████████████████████████████████████████████████████████████████████████████| 1000/1000 [00:02<00:00, 437.83it/s]\n"
     ]
    },
    {
     "name": "stdout",
     "output_type": "stream",
     "text": [
      "MRR@100 = 0.0001\n",
      "user_based: True, name: pearson, k: 80, min_k: 1\n",
      "Computing the pearson similarity matrix...\n",
      "Done computing similarity matrix.\n",
      "--- fit: 14.628333806991577 seconds ---\n"
     ]
    },
    {
     "name": "stderr",
     "output_type": "stream",
     "text": [
      "100%|██████████████████████████████████████████████████████████████████████████████| 1000/1000 [06:47<00:00,  2.45it/s]\n",
      "100%|█████████████████████████████████████████████████████████████████████████████| 1000/1000 [00:04<00:00, 219.53it/s]\n"
     ]
    },
    {
     "name": "stdout",
     "output_type": "stream",
     "text": [
      "MRR@100 = 0.0086\n",
      "user_based: True, name: pearson, k: 80, min_k: 10\n",
      "Computing the pearson similarity matrix...\n",
      "Done computing similarity matrix.\n",
      "--- fit: 13.249076128005981 seconds ---\n"
     ]
    },
    {
     "name": "stderr",
     "output_type": "stream",
     "text": [
      "100%|██████████████████████████████████████████████████████████████████████████████| 1000/1000 [07:06<00:00,  2.34it/s]\n",
      "100%|█████████████████████████████████████████████████████████████████████████████| 1000/1000 [00:02<00:00, 366.50it/s]\n"
     ]
    },
    {
     "name": "stdout",
     "output_type": "stream",
     "text": [
      "MRR@100 = 0.0511\n",
      "user_based: True, name: pearson, k: 80, min_k: 50\n",
      "Computing the pearson similarity matrix...\n",
      "Done computing similarity matrix.\n",
      "--- fit: 14.128644466400146 seconds ---\n"
     ]
    },
    {
     "name": "stderr",
     "output_type": "stream",
     "text": [
      "100%|██████████████████████████████████████████████████████████████████████████████| 1000/1000 [07:08<00:00,  2.34it/s]\n",
      "100%|█████████████████████████████████████████████████████████████████████████████| 1000/1000 [00:02<00:00, 461.72it/s]\n"
     ]
    },
    {
     "name": "stdout",
     "output_type": "stream",
     "text": [
      "MRR@100 = 0.0479\n",
      "user_based: True, name: pearson_baseline, k: 10, min_k: 1\n",
      "Estimating biases using als...\n",
      "Computing the pearson_baseline similarity matrix...\n",
      "Done computing similarity matrix.\n",
      "--- fit: 12.009340524673462 seconds ---\n"
     ]
    },
    {
     "name": "stderr",
     "output_type": "stream",
     "text": [
      "100%|██████████████████████████████████████████████████████████████████████████████| 1000/1000 [06:43<00:00,  2.48it/s]\n",
      "100%|█████████████████████████████████████████████████████████████████████████████| 1000/1000 [00:07<00:00, 137.16it/s]\n"
     ]
    },
    {
     "name": "stdout",
     "output_type": "stream",
     "text": [
      "MRR@100 = 0.0108\n",
      "user_based: True, name: pearson_baseline, k: 10, min_k: 10\n",
      "Estimating biases using als...\n",
      "Computing the pearson_baseline similarity matrix...\n",
      "Done computing similarity matrix.\n",
      "--- fit: 13.271719217300415 seconds ---\n"
     ]
    },
    {
     "name": "stderr",
     "output_type": "stream",
     "text": [
      "100%|██████████████████████████████████████████████████████████████████████████████| 1000/1000 [07:01<00:00,  2.37it/s]\n",
      "100%|█████████████████████████████████████████████████████████████████████████████| 1000/1000 [00:03<00:00, 312.69it/s]\n"
     ]
    },
    {
     "name": "stdout",
     "output_type": "stream",
     "text": [
      "MRR@100 = 0.0522\n",
      "user_based: True, name: pearson_baseline, k: 10, min_k: 50\n",
      "Estimating biases using als...\n",
      "Computing the pearson_baseline similarity matrix...\n",
      "Done computing similarity matrix.\n",
      "--- fit: 12.440107345581055 seconds ---\n"
     ]
    },
    {
     "name": "stderr",
     "output_type": "stream",
     "text": [
      "100%|██████████████████████████████████████████████████████████████████████████████| 1000/1000 [08:17<00:00,  2.01it/s]\n",
      "100%|█████████████████████████████████████████████████████████████████████████████| 1000/1000 [00:01<00:00, 526.16it/s]\n"
     ]
    },
    {
     "name": "stdout",
     "output_type": "stream",
     "text": [
      "MRR@100 = 0.0001\n",
      "user_based: True, name: pearson_baseline, k: 40, min_k: 1\n",
      "Estimating biases using als...\n",
      "Computing the pearson_baseline similarity matrix...\n",
      "Done computing similarity matrix.\n",
      "--- fit: 12.746691465377808 seconds ---\n"
     ]
    },
    {
     "name": "stderr",
     "output_type": "stream",
     "text": [
      "100%|██████████████████████████████████████████████████████████████████████████████| 1000/1000 [08:44<00:00,  1.91it/s]\n",
      "100%|█████████████████████████████████████████████████████████████████████████████| 1000/1000 [00:08<00:00, 124.92it/s]\n"
     ]
    },
    {
     "name": "stdout",
     "output_type": "stream",
     "text": [
      "MRR@100 = 0.0096\n",
      "user_based: True, name: pearson_baseline, k: 40, min_k: 10\n",
      "Estimating biases using als...\n",
      "Computing the pearson_baseline similarity matrix...\n",
      "Done computing similarity matrix.\n",
      "--- fit: 20.52140760421753 seconds ---\n"
     ]
    },
    {
     "name": "stderr",
     "output_type": "stream",
     "text": [
      "100%|██████████████████████████████████████████████████████████████████████████████| 1000/1000 [09:04<00:00,  1.84it/s]\n",
      "100%|█████████████████████████████████████████████████████████████████████████████| 1000/1000 [00:04<00:00, 240.46it/s]\n"
     ]
    },
    {
     "name": "stdout",
     "output_type": "stream",
     "text": [
      "MRR@100 = 0.0550\n",
      "user_based: True, name: pearson_baseline, k: 40, min_k: 50\n",
      "Estimating biases using als...\n",
      "Computing the pearson_baseline similarity matrix...\n",
      "Done computing similarity matrix.\n",
      "--- fit: 13.722412347793579 seconds ---\n"
     ]
    },
    {
     "name": "stderr",
     "output_type": "stream",
     "text": [
      "100%|██████████████████████████████████████████████████████████████████████████████| 1000/1000 [09:07<00:00,  1.83it/s]\n",
      "100%|█████████████████████████████████████████████████████████████████████████████| 1000/1000 [00:02<00:00, 419.60it/s]\n"
     ]
    },
    {
     "name": "stdout",
     "output_type": "stream",
     "text": [
      "MRR@100 = 0.0001\n",
      "user_based: True, name: pearson_baseline, k: 80, min_k: 1\n",
      "Estimating biases using als...\n",
      "Computing the pearson_baseline similarity matrix...\n",
      "Done computing similarity matrix.\n",
      "--- fit: 13.704230308532715 seconds ---\n"
     ]
    },
    {
     "name": "stderr",
     "output_type": "stream",
     "text": [
      "100%|██████████████████████████████████████████████████████████████████████████████| 1000/1000 [09:17<00:00,  1.79it/s]\n",
      "100%|█████████████████████████████████████████████████████████████████████████████| 1000/1000 [00:07<00:00, 126.32it/s]\n"
     ]
    },
    {
     "name": "stdout",
     "output_type": "stream",
     "text": [
      "MRR@100 = 0.0088\n",
      "user_based: True, name: pearson_baseline, k: 80, min_k: 10\n",
      "Estimating biases using als...\n",
      "Computing the pearson_baseline similarity matrix...\n",
      "Done computing similarity matrix.\n",
      "--- fit: 14.218116521835327 seconds ---\n"
     ]
    },
    {
     "name": "stderr",
     "output_type": "stream",
     "text": [
      "100%|██████████████████████████████████████████████████████████████████████████████| 1000/1000 [09:11<00:00,  1.81it/s]\n",
      "100%|█████████████████████████████████████████████████████████████████████████████| 1000/1000 [00:04<00:00, 247.70it/s]\n"
     ]
    },
    {
     "name": "stdout",
     "output_type": "stream",
     "text": [
      "MRR@100 = 0.0541\n",
      "user_based: True, name: pearson_baseline, k: 80, min_k: 50\n",
      "Estimating biases using als...\n",
      "Computing the pearson_baseline similarity matrix...\n",
      "Done computing similarity matrix.\n",
      "--- fit: 13.647122621536255 seconds ---\n"
     ]
    },
    {
     "name": "stderr",
     "output_type": "stream",
     "text": [
      "100%|██████████████████████████████████████████████████████████████████████████████| 1000/1000 [09:38<00:00,  1.73it/s]\n",
      "100%|█████████████████████████████████████████████████████████████████████████████| 1000/1000 [00:02<00:00, 337.84it/s]\n"
     ]
    },
    {
     "name": "stdout",
     "output_type": "stream",
     "text": [
      "MRR@100 = 0.0487\n"
     ]
    }
   ],
   "source": [
    "for user_based in [False, True]:\n",
    "    for name in ['cosine', 'msd', 'pearson', 'pearson_baseline']:\n",
    "        for k in [10, 40, 80]:\n",
    "            for min_k in [1, 10, 50]:\n",
    "                print(f'user_based: {user_based}, name: {name}, k: {k}, min_k: {min_k}')\n",
    "                optimize(k=k, \n",
    "                         min_k=min_k,\n",
    "                         user_based=user_based,\n",
    "                         name=name,\n",
    "                         verbose=True)"
   ]
  },
  {
   "cell_type": "markdown",
   "id": "a5863ba1",
   "metadata": {},
   "source": [
    "# RATING_PART"
   ]
  },
  {
   "cell_type": "code",
   "execution_count": 12,
   "id": "e41f2bb6",
   "metadata": {
    "scrolled": true
   },
   "outputs": [
    {
     "name": "stdout",
     "output_type": "stream",
     "text": [
      "CPU times: total: 797 ms\n",
      "Wall time: 790 ms\n"
     ]
    }
   ],
   "source": [
    "%%time\n",
    "\n",
    "reader = Reader(rating_scale=(0, 1))\n",
    "dataset = Dataset.load_from_df(data[['uid', 'iid', 'rating_part']], reader)\n",
    "trainset = dataset.build_full_trainset()"
   ]
  },
  {
   "cell_type": "code",
   "execution_count": 15,
   "id": "e91dc659",
   "metadata": {
    "scrolled": true
   },
   "outputs": [
    {
     "name": "stdout",
     "output_type": "stream",
     "text": [
      "Estimating biases using als...\n",
      "Computing the pearson_baseline similarity matrix...\n",
      "Done computing similarity matrix.\n",
      "--- fit: 16.32907724380493 seconds ---\n"
     ]
    },
    {
     "name": "stderr",
     "output_type": "stream",
     "text": [
      "100%|██████████████████████████████████████████████████████████████████████████████| 1000/1000 [10:09<00:00,  1.64it/s]\n",
      "100%|█████████████████████████████████████████████████████████████████████████████| 1000/1000 [00:04<00:00, 213.16it/s]\n"
     ]
    },
    {
     "name": "stdout",
     "output_type": "stream",
     "text": [
      "MRR@100 = 0.0579\n"
     ]
    }
   ],
   "source": [
    "optimize(k=40, \n",
    "         min_k=10,\n",
    "         user_based=True,\n",
    "         name='pearson_baseline',\n",
    "         verbose=True)"
   ]
  },
  {
   "cell_type": "markdown",
   "id": "bab9869a",
   "metadata": {},
   "source": [
    "## Best"
   ]
  },
  {
   "cell_type": "code",
   "execution_count": 16,
   "id": "f202c408",
   "metadata": {},
   "outputs": [
    {
     "name": "stdout",
     "output_type": "stream",
     "text": [
      "CPU times: total: 891 ms\n",
      "Wall time: 885 ms\n"
     ]
    }
   ],
   "source": [
    "%%time\n",
    "\n",
    "reader = Reader(rating_scale=(0, 1))\n",
    "dataset = Dataset.load_from_df(data[['uid', 'iid', 'rating_part']], reader)\n",
    "trainset = dataset.build_full_trainset()"
   ]
  },
  {
   "cell_type": "code",
   "execution_count": 17,
   "id": "4511c513",
   "metadata": {},
   "outputs": [
    {
     "name": "stdout",
     "output_type": "stream",
     "text": [
      "k: 30, min_k: 5\n",
      "Estimating biases using als...\n",
      "Computing the pearson_baseline similarity matrix...\n",
      "Done computing similarity matrix.\n",
      "--- fit: 15.757535934448242 seconds ---\n"
     ]
    },
    {
     "name": "stderr",
     "output_type": "stream",
     "text": [
      "100%|██████████████████████████████████████████████████████████████████████████████| 1000/1000 [09:34<00:00,  1.74it/s]\n",
      "100%|█████████████████████████████████████████████████████████████████████████████| 1000/1000 [00:04<00:00, 207.01it/s]\n"
     ]
    },
    {
     "name": "stdout",
     "output_type": "stream",
     "text": [
      "MRR@100 = 0.0438\n",
      "k: 30, min_k: 10\n",
      "Estimating biases using als...\n",
      "Computing the pearson_baseline similarity matrix...\n",
      "Done computing similarity matrix.\n",
      "--- fit: 14.087469100952148 seconds ---\n"
     ]
    },
    {
     "name": "stderr",
     "output_type": "stream",
     "text": [
      "100%|██████████████████████████████████████████████████████████████████████████████| 1000/1000 [09:31<00:00,  1.75it/s]\n",
      "100%|█████████████████████████████████████████████████████████████████████████████| 1000/1000 [00:04<00:00, 234.67it/s]\n"
     ]
    },
    {
     "name": "stdout",
     "output_type": "stream",
     "text": [
      "MRR@100 = 0.0591\n",
      "k: 30, min_k: 20\n",
      "Estimating biases using als...\n",
      "Computing the pearson_baseline similarity matrix...\n",
      "Done computing similarity matrix.\n",
      "--- fit: 13.968966722488403 seconds ---\n"
     ]
    },
    {
     "name": "stderr",
     "output_type": "stream",
     "text": [
      "100%|██████████████████████████████████████████████████████████████████████████████| 1000/1000 [07:44<00:00,  2.15it/s]\n",
      "100%|█████████████████████████████████████████████████████████████████████████████| 1000/1000 [00:02<00:00, 345.84it/s]\n"
     ]
    },
    {
     "name": "stdout",
     "output_type": "stream",
     "text": [
      "MRR@100 = 0.0548\n",
      "k: 40, min_k: 5\n",
      "Estimating biases using als...\n",
      "Computing the pearson_baseline similarity matrix...\n",
      "Done computing similarity matrix.\n",
      "--- fit: 12.170318603515625 seconds ---\n"
     ]
    },
    {
     "name": "stderr",
     "output_type": "stream",
     "text": [
      "100%|██████████████████████████████████████████████████████████████████████████████| 1000/1000 [07:19<00:00,  2.28it/s]\n",
      "100%|█████████████████████████████████████████████████████████████████████████████| 1000/1000 [00:03<00:00, 281.28it/s]\n"
     ]
    },
    {
     "name": "stdout",
     "output_type": "stream",
     "text": [
      "MRR@100 = 0.0432\n",
      "k: 40, min_k: 10\n",
      "Estimating biases using als...\n",
      "Computing the pearson_baseline similarity matrix...\n",
      "Done computing similarity matrix.\n",
      "--- fit: 12.067975759506226 seconds ---\n"
     ]
    },
    {
     "name": "stderr",
     "output_type": "stream",
     "text": [
      "100%|██████████████████████████████████████████████████████████████████████████████| 1000/1000 [07:05<00:00,  2.35it/s]\n",
      "100%|█████████████████████████████████████████████████████████████████████████████| 1000/1000 [00:03<00:00, 313.49it/s]\n"
     ]
    },
    {
     "name": "stdout",
     "output_type": "stream",
     "text": [
      "MRR@100 = 0.0579\n",
      "k: 40, min_k: 20\n",
      "Estimating biases using als...\n",
      "Computing the pearson_baseline similarity matrix...\n",
      "Done computing similarity matrix.\n",
      "--- fit: 11.910938262939453 seconds ---\n"
     ]
    },
    {
     "name": "stderr",
     "output_type": "stream",
     "text": [
      "100%|██████████████████████████████████████████████████████████████████████████████| 1000/1000 [08:03<00:00,  2.07it/s]\n",
      "100%|█████████████████████████████████████████████████████████████████████████████| 1000/1000 [00:03<00:00, 268.29it/s]\n"
     ]
    },
    {
     "name": "stdout",
     "output_type": "stream",
     "text": [
      "MRR@100 = 0.0550\n",
      "k: 50, min_k: 5\n",
      "Estimating biases using als...\n",
      "Computing the pearson_baseline similarity matrix...\n",
      "Done computing similarity matrix.\n",
      "--- fit: 14.203569173812866 seconds ---\n"
     ]
    },
    {
     "name": "stderr",
     "output_type": "stream",
     "text": [
      "100%|██████████████████████████████████████████████████████████████████████████████| 1000/1000 [08:31<00:00,  1.96it/s]\n",
      "100%|█████████████████████████████████████████████████████████████████████████████| 1000/1000 [00:03<00:00, 266.08it/s]\n"
     ]
    },
    {
     "name": "stdout",
     "output_type": "stream",
     "text": [
      "MRR@100 = 0.0421\n",
      "k: 50, min_k: 10\n",
      "Estimating biases using als...\n",
      "Computing the pearson_baseline similarity matrix...\n",
      "Done computing similarity matrix.\n",
      "--- fit: 12.178640842437744 seconds ---\n"
     ]
    },
    {
     "name": "stderr",
     "output_type": "stream",
     "text": [
      "100%|██████████████████████████████████████████████████████████████████████████████| 1000/1000 [07:07<00:00,  2.34it/s]\n",
      "100%|█████████████████████████████████████████████████████████████████████████████| 1000/1000 [00:03<00:00, 321.02it/s]\n"
     ]
    },
    {
     "name": "stdout",
     "output_type": "stream",
     "text": [
      "MRR@100 = 0.0570\n",
      "k: 50, min_k: 20\n",
      "Estimating biases using als...\n",
      "Computing the pearson_baseline similarity matrix...\n",
      "Done computing similarity matrix.\n",
      "--- fit: 11.193395137786865 seconds ---\n"
     ]
    },
    {
     "name": "stderr",
     "output_type": "stream",
     "text": [
      "100%|██████████████████████████████████████████████████████████████████████████████| 1000/1000 [07:28<00:00,  2.23it/s]\n",
      "100%|█████████████████████████████████████████████████████████████████████████████| 1000/1000 [00:03<00:00, 306.14it/s]\n"
     ]
    },
    {
     "name": "stdout",
     "output_type": "stream",
     "text": [
      "MRR@100 = 0.0549\n"
     ]
    }
   ],
   "source": [
    "for k in [30, 40, 50]:\n",
    "    for min_k in [5, 10, 20]:\n",
    "        print(f'k: {k}, min_k: {min_k}')\n",
    "        optimize(k=k, \n",
    "                 min_k=min_k,\n",
    "                 user_based=True,\n",
    "                 name='pearson_baseline',\n",
    "                 verbose=True)"
   ]
  },
  {
   "cell_type": "code",
   "execution_count": 18,
   "id": "0f94f4b7",
   "metadata": {},
   "outputs": [
    {
     "name": "stdout",
     "output_type": "stream",
     "text": [
      "Computing the msd similarity matrix...\n",
      "Done computing similarity matrix.\n",
      "--- fit: 7.748192310333252 seconds ---\n"
     ]
    },
    {
     "name": "stderr",
     "output_type": "stream",
     "text": [
      "100%|██████████████████████████████████████████████████████████████████████████████| 1000/1000 [08:44<00:00,  1.91it/s]\n",
      "100%|█████████████████████████████████████████████████████████████████████████████| 1000/1000 [00:04<00:00, 226.66it/s]\n"
     ]
    },
    {
     "name": "stdout",
     "output_type": "stream",
     "text": [
      "MRR@100 = 0.0302\n"
     ]
    }
   ],
   "source": [
    "optimize(k=30, \n",
    "         min_k=10,\n",
    "         user_based=True,\n",
    "         name='msd',\n",
    "         verbose=True)"
   ]
  },
  {
   "cell_type": "markdown",
   "id": "d422c5df",
   "metadata": {},
   "source": [
    "# Final best\n",
    "k: 30, min_k: 10<br>\n",
    "Estimating biases using als...<br>\n",
    "Computing the pearson_baseline similarity matrix...<br>\n",
    "Done computing similarity matrix.<br>\n",
    "--- fit: 14.087469100952148 seconds ---<br>\n",
    "100%|██████████████████████████████████████████████████████████████████████████████| 1000/1000 [09:31<00:00,  1.75it/s]<br>\n",
    "100%|█████████████████████████████████████████████████████████████████████████████| 1000/1000 [00:04<00:00, 234.67it/s]<br>\n",
    "MRR@100 = 0.0591"
   ]
  }
 ],
 "metadata": {
  "kernelspec": {
   "display_name": "Python 3 (ipykernel)",
   "language": "python",
   "name": "python3"
  },
  "language_info": {
   "codemirror_mode": {
    "name": "ipython",
    "version": 3
   },
   "file_extension": ".py",
   "mimetype": "text/x-python",
   "name": "python",
   "nbconvert_exporter": "python",
   "pygments_lexer": "ipython3",
   "version": "3.8.9"
  }
 },
 "nbformat": 4,
 "nbformat_minor": 5
}
