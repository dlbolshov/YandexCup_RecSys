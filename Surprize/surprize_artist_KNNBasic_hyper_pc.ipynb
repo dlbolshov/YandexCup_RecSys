{
 "cells": [
  {
   "cell_type": "code",
   "execution_count": 1,
   "id": "a281d193",
   "metadata": {},
   "outputs": [
    {
     "name": "stdout",
     "output_type": "stream",
     "text": [
      "Requirement already satisfied: surprise in c:\\python38\\lib\\site-packages (0.1)\n",
      "Requirement already satisfied: scikit-surprise in c:\\python38\\lib\\site-packages (from surprise) (1.1.3)\n",
      "Requirement already satisfied: joblib>=1.0.0 in c:\\python38\\lib\\site-packages (from scikit-surprise->surprise) (1.2.0)\n",
      "Requirement already satisfied: numpy>=1.17.3 in c:\\python38\\lib\\site-packages (from scikit-surprise->surprise) (1.23.4)\n",
      "Requirement already satisfied: scipy>=1.3.2 in c:\\python38\\lib\\site-packages (from scikit-surprise->surprise) (1.9.3)\n",
      "Requirement already satisfied: scikit-surprise in c:\\python38\\lib\\site-packages (1.1.3)\n",
      "Requirement already satisfied: joblib>=1.0.0 in c:\\python38\\lib\\site-packages (from scikit-surprise) (1.2.0)\n",
      "Requirement already satisfied: numpy>=1.17.3 in c:\\python38\\lib\\site-packages (from scikit-surprise) (1.23.4)\n",
      "Requirement already satisfied: scipy>=1.3.2 in c:\\python38\\lib\\site-packages (from scikit-surprise) (1.9.3)\n"
     ]
    }
   ],
   "source": [
    "!pip install surprise\n",
    "!pip install scikit-surprise"
   ]
  },
  {
   "cell_type": "code",
   "execution_count": 2,
   "id": "124d984a",
   "metadata": {},
   "outputs": [
    {
     "name": "stdout",
     "output_type": "stream",
     "text": [
      "CPU times: total: 266 ms\n",
      "Wall time: 279 ms\n"
     ]
    },
    {
     "name": "stderr",
     "output_type": "stream",
     "text": [
      "c:\\python38\\lib\\site-packages\\tqdm\\auto.py:22: TqdmWarning: IProgress not found. Please update jupyter and ipywidgets. See https://ipywidgets.readthedocs.io/en/stable/user_install.html\n",
      "  from .autonotebook import tqdm as notebook_tqdm\n"
     ]
    }
   ],
   "source": [
    "%%time\n",
    "import numpy as np\n",
    "import pandas as pd\n",
    "from scipy.sparse import csr_matrix, coo_matrix\n",
    "from tqdm.auto import tqdm\n",
    "from collections import Counter\n",
    "from surprise import Dataset, Reader\n",
    "import time\n",
    "from surprise import KNNBasic"
   ]
  },
  {
   "cell_type": "code",
   "execution_count": 3,
   "id": "672a0888",
   "metadata": {},
   "outputs": [],
   "source": [
    "df_path = r\"C:\\Users\\dlbol\\Downloads\\likes\\likes\\likes_data\\track_artists.csv\"\n",
    "train_path = r\"C:\\Users\\dlbol\\Downloads\\likes\\likes\\likes_data\\train\"\n",
    "test_path = r\"C:\\Users\\dlbol\\Downloads\\likes\\likes\\likes_data\\test\"\n",
    "pred_path = r\"C:\\Users\\dlbol\\Downloads\\likes\\likes\\likes_data\\surprize_artist_KNNBasic_target\"\n",
    "target_path = r\"C:\\Users\\dlbol\\Downloads\\likes\\likes\\likes_data\\surprize_artist_KNNBasic_pred\""
   ]
  },
  {
   "cell_type": "code",
   "execution_count": 4,
   "id": "6910a52a",
   "metadata": {},
   "outputs": [],
   "source": [
    "def calc_mrr(predict, answer):\n",
    "    for i in range(len(predict)):\n",
    "        if predict[i] == answer:\n",
    "            return 1. / (i + 1)\n",
    "    return 0\n",
    "\n",
    "max_prediction_len = 100\n",
    "\n",
    "def calc_score(target_path, predict_path):\n",
    "    with open(target_path) as f:\n",
    "        y_true = [int(x.strip()) for x in f.readlines()]\n",
    "\n",
    "    with open(predict_path) as f:\n",
    "        y_pred = [[int(x) for x in line.strip().split(' ')] for line in f.readlines()]\n",
    "\n",
    "    mrr_score = 0\n",
    "    for (pred, answer) in zip(y_pred, y_true):\n",
    "        if len(pred) > max_prediction_len:\n",
    "            raise ValueError('$maximum prediction length is {}, got {}$'.format(max_prediction_len, len(y_pred[i])))\n",
    "        mrr_score += calc_mrr(pred, answer)\n",
    "\n",
    "    print(f\"MRR@100 = {(mrr_score / len(y_true)):.4f}\")"
   ]
  },
  {
   "cell_type": "code",
   "execution_count": 5,
   "id": "f251f931",
   "metadata": {},
   "outputs": [
    {
     "name": "stdout",
     "output_type": "stream",
     "text": [
      "CPU times: total: 46.9 ms\n",
      "Wall time: 50.8 ms\n"
     ]
    }
   ],
   "source": [
    "%%time\n",
    "df = pd.read_csv(df_path)\n",
    "df.index = df['trackId']"
   ]
  },
  {
   "cell_type": "code",
   "execution_count": 6,
   "id": "7d437df3",
   "metadata": {
    "scrolled": true
   },
   "outputs": [
    {
     "name": "stderr",
     "output_type": "stream",
     "text": [
      "  1%|▌                                                                       | 10000/1160084 [00:09<18:38, 1027.93it/s]"
     ]
    },
    {
     "name": "stdout",
     "output_type": "stream",
     "text": [
      "CPU times: total: 10.9 s\n",
      "Wall time: 10.8 s\n"
     ]
    },
    {
     "name": "stderr",
     "output_type": "stream",
     "text": [
      "\n"
     ]
    }
   ],
   "source": [
    "%%time\n",
    "\n",
    "list_coord = []\n",
    "target_val = []\n",
    "np.random.seed(42)  \n",
    "val_id = np.random.choice(range(10000), size=1000, replace=False)\n",
    "val_id.sort()\n",
    "all_artist = set()\n",
    "ls_artists = []\n",
    "\n",
    "with open(train_path) as f:\n",
    "    lines = f.readlines()\n",
    "    idx = 0 \n",
    "    for line in tqdm(lines):\n",
    "        tracks = line.strip().split(' ')\n",
    "        tracks_arr = np.array(tracks)\n",
    "        tracks_arr = tracks_arr.astype(np.int32)\n",
    "        artist_arr = np.array([df.at[track, 'artistId'] for track in tracks_arr])\n",
    "        if idx in val_id:\n",
    "            target_val.append(artist_arr[-1])\n",
    "            artist_arr = artist_arr[:-1]\n",
    "        ls_artists.extend(artist_arr)\n",
    "        all_artist = all_artist.union(set(artist_arr))\n",
    "        artist_cnt = Counter(artist_arr)\n",
    "        list_coord_user = [(idx, i[0], i[1]) for i in artist_cnt.items()]\n",
    "        list_coord.extend(list_coord_user)\n",
    "        idx += 1\n",
    "        if idx > 10000:\n",
    "            break"
   ]
  },
  {
   "cell_type": "code",
   "execution_count": 7,
   "id": "ed72f41d",
   "metadata": {},
   "outputs": [
    {
     "name": "stdout",
     "output_type": "stream",
     "text": [
      "CPU times: total: 2.73 s\n",
      "Wall time: 2.73 s\n"
     ]
    }
   ],
   "source": [
    "%%time\n",
    "\n",
    "data = pd.DataFrame(list_coord, columns=['uid', 'iid', 'rating_row'])\n",
    "data['rating_max'] = data.rating_row / data.groupby('uid')['rating_row'].transform('max')\n",
    "data['rating_part'] = data.rating_row / data.groupby('uid')['rating_row'].transform('sum')"
   ]
  },
  {
   "cell_type": "markdown",
   "id": "c7065117",
   "metadata": {},
   "source": [
    "# Baseline"
   ]
  },
  {
   "cell_type": "code",
   "execution_count": 8,
   "id": "ef4a4a8c",
   "metadata": {},
   "outputs": [
    {
     "name": "stdout",
     "output_type": "stream",
     "text": [
      "MRR@100 = 0.0144\n"
     ]
    }
   ],
   "source": [
    "all_artist_cnt = [i[0] for i in Counter(ls_artists).most_common(100)]\n",
    "\n",
    "result = [' '.join(map(str, all_artist_cnt)) + '\\n' for _ in val_id]\n",
    "\n",
    "with open(pred_path, 'w') as f:\n",
    "    f.writelines(result)\n",
    "\n",
    "with open(target_path, 'w') as f:\n",
    "    for i in target_val:\n",
    "        f.write(f'{i}\\n')\n",
    "\n",
    "calc_score(target_path, pred_path)"
   ]
  },
  {
   "cell_type": "markdown",
   "id": "a9a086bf",
   "metadata": {},
   "source": [
    "# RATING_MAX"
   ]
  },
  {
   "cell_type": "code",
   "execution_count": 9,
   "id": "00c84f0e",
   "metadata": {
    "scrolled": true
   },
   "outputs": [
    {
     "name": "stdout",
     "output_type": "stream",
     "text": [
      "CPU times: total: 562 ms\n",
      "Wall time: 574 ms\n"
     ]
    }
   ],
   "source": [
    "%%time\n",
    "\n",
    "reader = Reader(rating_scale=(0, 1))\n",
    "dataset = Dataset.load_from_df(data[['uid', 'iid', 'rating_max']], reader)\n",
    "trainset = dataset.build_full_trainset()"
   ]
  },
  {
   "cell_type": "markdown",
   "id": "3a85570d",
   "metadata": {},
   "source": [
    "## KNNBasic"
   ]
  },
  {
   "cell_type": "code",
   "execution_count": 10,
   "id": "5b4ceae6",
   "metadata": {},
   "outputs": [],
   "source": [
    "def optimize(k=40, \n",
    "             min_k=1,\n",
    "             user_based=True,\n",
    "             name=\"pearson_baseline\",\n",
    "             verbose=True):\n",
    "\n",
    "    start_time = time.time()\n",
    "    \n",
    "    sim_options = {\n",
    "        \"name\": name,\n",
    "        \"user_based\": user_based\n",
    "    }\n",
    "    \n",
    "    algo = KNNBasic(k=k, min_k=min_k, sim_options=sim_options, verbose=True)\n",
    "    \n",
    "    algo.fit(trainset)\n",
    "    \n",
    "    print(\"--- fit: %s seconds ---\" % (time.time() - start_time))\n",
    "    \n",
    "    pred = []\n",
    "    for uid in tqdm(val_id):\n",
    "        pred_user = []\n",
    "        for iid in all_artist:\n",
    "            score = algo.predict(uid=uid, iid=iid).est\n",
    "            pred_user.append((iid, score))\n",
    "        pred.append(pred_user)\n",
    "\n",
    "    res = []\n",
    "    for user in tqdm(pred):\n",
    "        ls = sorted(user, key=lambda x: x[1])\n",
    "        temp = [i[0] for i in ls[-100:]]\n",
    "        temp.reverse()\n",
    "        res.append(temp)\n",
    "\n",
    "    result = [' '.join(map(str, i)) + '\\n' for i in res]\n",
    "\n",
    "\n",
    "    with open(pred_path, 'w') as f:\n",
    "        f.writelines(result)\n",
    "\n",
    "    with open(target_path, 'w') as f:\n",
    "        for i in target_val:\n",
    "            f.write(f'{i}\\n')\n",
    "\n",
    "    calc_score(target_path, pred_path)"
   ]
  },
  {
   "cell_type": "code",
   "execution_count": 11,
   "id": "32eaff8a",
   "metadata": {},
   "outputs": [
    {
     "name": "stdout",
     "output_type": "stream",
     "text": [
      "name: msd, k: 10, min_k: 1\n",
      "Computing the msd similarity matrix...\n",
      "Done computing similarity matrix.\n",
      "--- fit: 7.52966046333313 seconds ---\n"
     ]
    },
    {
     "name": "stderr",
     "output_type": "stream",
     "text": [
      "100%|██████████████████████████████████████████████████████████████████████████████| 1000/1000 [08:42<00:00,  1.91it/s]\n",
      "100%|█████████████████████████████████████████████████████████████████████████████| 1000/1000 [00:09<00:00, 107.28it/s]\n"
     ]
    },
    {
     "name": "stdout",
     "output_type": "stream",
     "text": [
      "MRR@100 = 0.0064\n",
      "name: msd, k: 10, min_k: 10\n",
      "Computing the msd similarity matrix...\n",
      "Done computing similarity matrix.\n",
      "--- fit: 7.768763780593872 seconds ---\n"
     ]
    },
    {
     "name": "stderr",
     "output_type": "stream",
     "text": [
      "100%|██████████████████████████████████████████████████████████████████████████████| 1000/1000 [08:24<00:00,  1.98it/s]\n",
      "100%|█████████████████████████████████████████████████████████████████████████████| 1000/1000 [00:05<00:00, 182.55it/s]\n"
     ]
    },
    {
     "name": "stdout",
     "output_type": "stream",
     "text": [
      "MRR@100 = 0.0822\n",
      "name: msd, k: 10, min_k: 50\n",
      "Computing the msd similarity matrix...\n",
      "Done computing similarity matrix.\n",
      "--- fit: 7.762596130371094 seconds ---\n"
     ]
    },
    {
     "name": "stderr",
     "output_type": "stream",
     "text": [
      "100%|██████████████████████████████████████████████████████████████████████████████| 1000/1000 [08:28<00:00,  1.97it/s]\n",
      "100%|█████████████████████████████████████████████████████████████████████████████| 1000/1000 [00:02<00:00, 457.55it/s]\n"
     ]
    },
    {
     "name": "stdout",
     "output_type": "stream",
     "text": [
      "MRR@100 = 0.0001\n",
      "name: msd, k: 40, min_k: 1\n",
      "Computing the msd similarity matrix...\n",
      "Done computing similarity matrix.\n",
      "--- fit: 7.752613067626953 seconds ---\n"
     ]
    },
    {
     "name": "stderr",
     "output_type": "stream",
     "text": [
      "100%|██████████████████████████████████████████████████████████████████████████████| 1000/1000 [08:58<00:00,  1.86it/s]\n",
      "100%|█████████████████████████████████████████████████████████████████████████████| 1000/1000 [00:09<00:00, 106.06it/s]\n"
     ]
    },
    {
     "name": "stdout",
     "output_type": "stream",
     "text": [
      "MRR@100 = 0.0039\n",
      "name: msd, k: 40, min_k: 10\n",
      "Computing the msd similarity matrix...\n",
      "Done computing similarity matrix.\n",
      "--- fit: 7.62270450592041 seconds ---\n"
     ]
    },
    {
     "name": "stderr",
     "output_type": "stream",
     "text": [
      "100%|██████████████████████████████████████████████████████████████████████████████| 1000/1000 [09:37<00:00,  1.73it/s]\n",
      "100%|█████████████████████████████████████████████████████████████████████████████| 1000/1000 [00:05<00:00, 189.99it/s]\n"
     ]
    },
    {
     "name": "stdout",
     "output_type": "stream",
     "text": [
      "MRR@100 = 0.0810\n",
      "name: msd, k: 40, min_k: 50\n",
      "Computing the msd similarity matrix...\n",
      "Done computing similarity matrix.\n",
      "--- fit: 7.701093673706055 seconds ---\n"
     ]
    },
    {
     "name": "stderr",
     "output_type": "stream",
     "text": [
      "100%|██████████████████████████████████████████████████████████████████████████████| 1000/1000 [08:47<00:00,  1.90it/s]\n",
      "100%|█████████████████████████████████████████████████████████████████████████████| 1000/1000 [00:01<00:00, 514.73it/s]\n"
     ]
    },
    {
     "name": "stdout",
     "output_type": "stream",
     "text": [
      "MRR@100 = 0.0001\n",
      "name: msd, k: 80, min_k: 1\n",
      "Computing the msd similarity matrix...\n",
      "Done computing similarity matrix.\n",
      "--- fit: 7.278204917907715 seconds ---\n"
     ]
    },
    {
     "name": "stderr",
     "output_type": "stream",
     "text": [
      "100%|██████████████████████████████████████████████████████████████████████████████| 1000/1000 [07:48<00:00,  2.13it/s]\n",
      "100%|█████████████████████████████████████████████████████████████████████████████| 1000/1000 [00:07<00:00, 125.61it/s]\n"
     ]
    },
    {
     "name": "stdout",
     "output_type": "stream",
     "text": [
      "MRR@100 = 0.0027\n",
      "name: msd, k: 80, min_k: 10\n",
      "Computing the msd similarity matrix...\n",
      "Done computing similarity matrix.\n",
      "--- fit: 7.268676519393921 seconds ---\n"
     ]
    },
    {
     "name": "stderr",
     "output_type": "stream",
     "text": [
      "100%|██████████████████████████████████████████████████████████████████████████████| 1000/1000 [08:14<00:00,  2.02it/s]\n",
      "100%|█████████████████████████████████████████████████████████████████████████████| 1000/1000 [00:04<00:00, 237.95it/s]\n"
     ]
    },
    {
     "name": "stdout",
     "output_type": "stream",
     "text": [
      "MRR@100 = 0.0732\n",
      "name: msd, k: 80, min_k: 50\n",
      "Computing the msd similarity matrix...\n",
      "Done computing similarity matrix.\n",
      "--- fit: 7.593165397644043 seconds ---\n"
     ]
    },
    {
     "name": "stderr",
     "output_type": "stream",
     "text": [
      "100%|██████████████████████████████████████████████████████████████████████████████| 1000/1000 [09:54<00:00,  1.68it/s]\n",
      "100%|█████████████████████████████████████████████████████████████████████████████| 1000/1000 [00:03<00:00, 253.55it/s]\n"
     ]
    },
    {
     "name": "stdout",
     "output_type": "stream",
     "text": [
      "MRR@100 = 0.0811\n",
      "name: pearson, k: 10, min_k: 1\n",
      "Computing the pearson similarity matrix...\n",
      "Done computing similarity matrix.\n",
      "--- fit: 14.573506116867065 seconds ---\n"
     ]
    },
    {
     "name": "stderr",
     "output_type": "stream",
     "text": [
      "  9%|███████▏                                                                        | 90/1000 [00:44<07:29,  2.03it/s]\n"
     ]
    },
    {
     "ename": "KeyboardInterrupt",
     "evalue": "",
     "output_type": "error",
     "traceback": [
      "\u001b[1;31m---------------------------------------------------------------------------\u001b[0m",
      "\u001b[1;31mKeyboardInterrupt\u001b[0m                         Traceback (most recent call last)",
      "Cell \u001b[1;32mIn [11], line 5\u001b[0m\n\u001b[0;32m      3\u001b[0m \u001b[38;5;28;01mfor\u001b[39;00m min_k \u001b[38;5;129;01min\u001b[39;00m [\u001b[38;5;241m1\u001b[39m, \u001b[38;5;241m10\u001b[39m, \u001b[38;5;241m50\u001b[39m]:\n\u001b[0;32m      4\u001b[0m     \u001b[38;5;28mprint\u001b[39m(\u001b[38;5;124mf\u001b[39m\u001b[38;5;124m'\u001b[39m\u001b[38;5;124mname: \u001b[39m\u001b[38;5;132;01m{\u001b[39;00mname\u001b[38;5;132;01m}\u001b[39;00m\u001b[38;5;124m, k: \u001b[39m\u001b[38;5;132;01m{\u001b[39;00mk\u001b[38;5;132;01m}\u001b[39;00m\u001b[38;5;124m, min_k: \u001b[39m\u001b[38;5;132;01m{\u001b[39;00mmin_k\u001b[38;5;132;01m}\u001b[39;00m\u001b[38;5;124m'\u001b[39m)\n\u001b[1;32m----> 5\u001b[0m     \u001b[43moptimize\u001b[49m\u001b[43m(\u001b[49m\u001b[43mk\u001b[49m\u001b[38;5;241;43m=\u001b[39;49m\u001b[43mk\u001b[49m\u001b[43m,\u001b[49m\u001b[43m \u001b[49m\n\u001b[0;32m      6\u001b[0m \u001b[43m             \u001b[49m\u001b[43mmin_k\u001b[49m\u001b[38;5;241;43m=\u001b[39;49m\u001b[43mmin_k\u001b[49m\u001b[43m,\u001b[49m\n\u001b[0;32m      7\u001b[0m \u001b[43m             \u001b[49m\u001b[43muser_based\u001b[49m\u001b[38;5;241;43m=\u001b[39;49m\u001b[38;5;28;43;01mTrue\u001b[39;49;00m\u001b[43m,\u001b[49m\n\u001b[0;32m      8\u001b[0m \u001b[43m             \u001b[49m\u001b[43mname\u001b[49m\u001b[38;5;241;43m=\u001b[39;49m\u001b[43mname\u001b[49m\u001b[43m,\u001b[49m\n\u001b[0;32m      9\u001b[0m \u001b[43m             \u001b[49m\u001b[43mverbose\u001b[49m\u001b[38;5;241;43m=\u001b[39;49m\u001b[38;5;28;43;01mTrue\u001b[39;49;00m\u001b[43m)\u001b[49m\n",
      "Cell \u001b[1;32mIn [10], line 24\u001b[0m, in \u001b[0;36moptimize\u001b[1;34m(k, min_k, user_based, name, verbose)\u001b[0m\n\u001b[0;32m     22\u001b[0m pred_user \u001b[38;5;241m=\u001b[39m []\n\u001b[0;32m     23\u001b[0m \u001b[38;5;28;01mfor\u001b[39;00m iid \u001b[38;5;129;01min\u001b[39;00m all_artist:\n\u001b[1;32m---> 24\u001b[0m     score \u001b[38;5;241m=\u001b[39m \u001b[43malgo\u001b[49m\u001b[38;5;241;43m.\u001b[39;49m\u001b[43mpredict\u001b[49m\u001b[43m(\u001b[49m\u001b[43muid\u001b[49m\u001b[38;5;241;43m=\u001b[39;49m\u001b[43muid\u001b[49m\u001b[43m,\u001b[49m\u001b[43m \u001b[49m\u001b[43miid\u001b[49m\u001b[38;5;241;43m=\u001b[39;49m\u001b[43miid\u001b[49m\u001b[43m)\u001b[49m\u001b[38;5;241m.\u001b[39mest\n\u001b[0;32m     25\u001b[0m     pred_user\u001b[38;5;241m.\u001b[39mappend((iid, score))\n\u001b[0;32m     26\u001b[0m pred\u001b[38;5;241m.\u001b[39mappend(pred_user)\n",
      "File \u001b[1;32mc:\\python38\\lib\\site-packages\\surprise\\prediction_algorithms\\algo_base.py:102\u001b[0m, in \u001b[0;36mAlgoBase.predict\u001b[1;34m(self, uid, iid, r_ui, clip, verbose)\u001b[0m\n\u001b[0;32m    100\u001b[0m details \u001b[38;5;241m=\u001b[39m {}\n\u001b[0;32m    101\u001b[0m \u001b[38;5;28;01mtry\u001b[39;00m:\n\u001b[1;32m--> 102\u001b[0m     est \u001b[38;5;241m=\u001b[39m \u001b[38;5;28;43mself\u001b[39;49m\u001b[38;5;241;43m.\u001b[39;49m\u001b[43mestimate\u001b[49m\u001b[43m(\u001b[49m\u001b[43miuid\u001b[49m\u001b[43m,\u001b[49m\u001b[43m \u001b[49m\u001b[43miiid\u001b[49m\u001b[43m)\u001b[49m\n\u001b[0;32m    104\u001b[0m     \u001b[38;5;66;03m# If the details dict was also returned\u001b[39;00m\n\u001b[0;32m    105\u001b[0m     \u001b[38;5;28;01mif\u001b[39;00m \u001b[38;5;28misinstance\u001b[39m(est, \u001b[38;5;28mtuple\u001b[39m):\n",
      "File \u001b[1;32mc:\\python38\\lib\\site-packages\\surprise\\prediction_algorithms\\knns.py:107\u001b[0m, in \u001b[0;36mKNNBasic.estimate\u001b[1;34m(self, u, i)\u001b[0m\n\u001b[0;32m    104\u001b[0m \u001b[38;5;28;01mif\u001b[39;00m \u001b[38;5;129;01mnot\u001b[39;00m (\u001b[38;5;28mself\u001b[39m\u001b[38;5;241m.\u001b[39mtrainset\u001b[38;5;241m.\u001b[39mknows_user(u) \u001b[38;5;129;01mand\u001b[39;00m \u001b[38;5;28mself\u001b[39m\u001b[38;5;241m.\u001b[39mtrainset\u001b[38;5;241m.\u001b[39mknows_item(i)):\n\u001b[0;32m    105\u001b[0m     \u001b[38;5;28;01mraise\u001b[39;00m PredictionImpossible(\u001b[38;5;124m\"\u001b[39m\u001b[38;5;124mUser and/or item is unknown.\u001b[39m\u001b[38;5;124m\"\u001b[39m)\n\u001b[1;32m--> 107\u001b[0m x, y \u001b[38;5;241m=\u001b[39m \u001b[38;5;28;43mself\u001b[39;49m\u001b[38;5;241;43m.\u001b[39;49m\u001b[43mswitch\u001b[49m\u001b[43m(\u001b[49m\u001b[43mu\u001b[49m\u001b[43m,\u001b[49m\u001b[43m \u001b[49m\u001b[43mi\u001b[49m\u001b[43m)\u001b[49m\n\u001b[0;32m    109\u001b[0m neighbors \u001b[38;5;241m=\u001b[39m [(\u001b[38;5;28mself\u001b[39m\u001b[38;5;241m.\u001b[39msim[x, x2], r) \u001b[38;5;28;01mfor\u001b[39;00m (x2, r) \u001b[38;5;129;01min\u001b[39;00m \u001b[38;5;28mself\u001b[39m\u001b[38;5;241m.\u001b[39myr[y]]\n\u001b[0;32m    110\u001b[0m k_neighbors \u001b[38;5;241m=\u001b[39m heapq\u001b[38;5;241m.\u001b[39mnlargest(\u001b[38;5;28mself\u001b[39m\u001b[38;5;241m.\u001b[39mk, neighbors, key\u001b[38;5;241m=\u001b[39m\u001b[38;5;28;01mlambda\u001b[39;00m t: t[\u001b[38;5;241m0\u001b[39m])\n",
      "File \u001b[1;32mc:\\python38\\lib\\site-packages\\surprise\\prediction_algorithms\\knns.py:47\u001b[0m, in \u001b[0;36mSymmetricAlgo.switch\u001b[1;34m(self, u_stuff, i_stuff)\u001b[0m\n\u001b[0;32m     43\u001b[0m     \u001b[38;5;28mself\u001b[39m\u001b[38;5;241m.\u001b[39myr \u001b[38;5;241m=\u001b[39m \u001b[38;5;28mself\u001b[39m\u001b[38;5;241m.\u001b[39mtrainset\u001b[38;5;241m.\u001b[39mir \u001b[38;5;28;01mif\u001b[39;00m ub \u001b[38;5;28;01melse\u001b[39;00m \u001b[38;5;28mself\u001b[39m\u001b[38;5;241m.\u001b[39mtrainset\u001b[38;5;241m.\u001b[39mur\n\u001b[0;32m     45\u001b[0m     \u001b[38;5;28;01mreturn\u001b[39;00m \u001b[38;5;28mself\u001b[39m\n\u001b[1;32m---> 47\u001b[0m \u001b[38;5;28;01mdef\u001b[39;00m \u001b[38;5;21mswitch\u001b[39m(\u001b[38;5;28mself\u001b[39m, u_stuff, i_stuff):\n\u001b[0;32m     48\u001b[0m     \u001b[38;5;124;03m\"\"\"Return x_stuff and y_stuff depending on the user_based field.\"\"\"\u001b[39;00m\n\u001b[0;32m     50\u001b[0m     \u001b[38;5;28;01mif\u001b[39;00m \u001b[38;5;28mself\u001b[39m\u001b[38;5;241m.\u001b[39msim_options[\u001b[38;5;124m\"\u001b[39m\u001b[38;5;124muser_based\u001b[39m\u001b[38;5;124m\"\u001b[39m]:\n",
      "\u001b[1;31mKeyboardInterrupt\u001b[0m: "
     ]
    }
   ],
   "source": [
    "for name in ['msd', 'pearson', 'pearson_baseline']:\n",
    "    for k in [10, 40, 80]:\n",
    "        for min_k in [1, 10, 50]:\n",
    "            print(f'name: {name}, k: {k}, min_k: {min_k}')\n",
    "            optimize(k=k, \n",
    "                     min_k=min_k,\n",
    "                     user_based=True,\n",
    "                     name=name,\n",
    "                     verbose=True)"
   ]
  },
  {
   "cell_type": "code",
   "execution_count": 12,
   "id": "48a146e3",
   "metadata": {},
   "outputs": [
    {
     "name": "stdout",
     "output_type": "stream",
     "text": [
      "name: msd\n",
      "Computing the msd similarity matrix...\n",
      "Done computing similarity matrix.\n",
      "--- fit: 12.098661422729492 seconds ---\n"
     ]
    },
    {
     "name": "stderr",
     "output_type": "stream",
     "text": [
      "100%|██████████████████████████████████████████████████████████████████████████████| 1000/1000 [09:57<00:00,  1.67it/s]\n",
      "100%|█████████████████████████████████████████████████████████████████████████████| 1000/1000 [00:05<00:00, 189.37it/s]\n"
     ]
    },
    {
     "name": "stdout",
     "output_type": "stream",
     "text": [
      "MRR@100 = 0.0810\n",
      "name: pearson\n",
      "Computing the pearson similarity matrix...\n",
      "Done computing similarity matrix.\n",
      "--- fit: 14.608734607696533 seconds ---\n"
     ]
    },
    {
     "name": "stderr",
     "output_type": "stream",
     "text": [
      "100%|██████████████████████████████████████████████████████████████████████████████| 1000/1000 [08:22<00:00,  1.99it/s]\n",
      "100%|█████████████████████████████████████████████████████████████████████████████| 1000/1000 [00:03<00:00, 293.15it/s]\n"
     ]
    },
    {
     "name": "stdout",
     "output_type": "stream",
     "text": [
      "MRR@100 = 0.0585\n",
      "name: pearson_baseline\n",
      "Estimating biases using als...\n",
      "Computing the pearson_baseline similarity matrix...\n",
      "Done computing similarity matrix.\n",
      "--- fit: 13.261484146118164 seconds ---\n"
     ]
    },
    {
     "name": "stderr",
     "output_type": "stream",
     "text": [
      "100%|██████████████████████████████████████████████████████████████████████████████| 1000/1000 [08:56<00:00,  1.86it/s]\n",
      "100%|█████████████████████████████████████████████████████████████████████████████| 1000/1000 [00:03<00:00, 251.16it/s]\n"
     ]
    },
    {
     "name": "stdout",
     "output_type": "stream",
     "text": [
      "MRR@100 = 0.0720\n"
     ]
    }
   ],
   "source": [
    "for name in ['msd', 'pearson', 'pearson_baseline']:\n",
    "    print(f'name: {name}')\n",
    "    optimize(k=40, \n",
    "             min_k=10,\n",
    "             user_based=True,\n",
    "             name=name,\n",
    "             verbose=True)"
   ]
  },
  {
   "cell_type": "markdown",
   "id": "8e60d395",
   "metadata": {},
   "source": [
    "# RATING_PART"
   ]
  },
  {
   "cell_type": "code",
   "execution_count": 13,
   "id": "196065f1",
   "metadata": {
    "scrolled": true
   },
   "outputs": [
    {
     "name": "stdout",
     "output_type": "stream",
     "text": [
      "CPU times: total: 797 ms\n",
      "Wall time: 800 ms\n"
     ]
    }
   ],
   "source": [
    "%%time\n",
    "\n",
    "reader = Reader(rating_scale=(0, 1))\n",
    "dataset = Dataset.load_from_df(data[['uid', 'iid', 'rating_part']], reader)\n",
    "trainset = dataset.build_full_trainset()"
   ]
  },
  {
   "cell_type": "code",
   "execution_count": 14,
   "id": "1688d058",
   "metadata": {},
   "outputs": [
    {
     "name": "stdout",
     "output_type": "stream",
     "text": [
      "Computing the msd similarity matrix...\n",
      "Done computing similarity matrix.\n",
      "--- fit: 8.266999959945679 seconds ---\n"
     ]
    },
    {
     "name": "stderr",
     "output_type": "stream",
     "text": [
      "100%|██████████████████████████████████████████████████████████████████████████████| 1000/1000 [09:05<00:00,  1.83it/s]\n",
      "100%|█████████████████████████████████████████████████████████████████████████████| 1000/1000 [00:04<00:00, 234.26it/s]\n"
     ]
    },
    {
     "name": "stdout",
     "output_type": "stream",
     "text": [
      "MRR@100 = 0.0745\n"
     ]
    }
   ],
   "source": [
    "optimize(k=40, \n",
    "         min_k=10,\n",
    "         user_based=True,\n",
    "         name='msd',\n",
    "         verbose=True)"
   ]
  },
  {
   "cell_type": "code",
   "execution_count": 15,
   "id": "2256b2c2",
   "metadata": {},
   "outputs": [
    {
     "name": "stdout",
     "output_type": "stream",
     "text": [
      "Estimating biases using als...\n",
      "Computing the pearson_baseline similarity matrix...\n",
      "Done computing similarity matrix.\n",
      "--- fit: 11.033050060272217 seconds ---\n"
     ]
    },
    {
     "name": "stderr",
     "output_type": "stream",
     "text": [
      "100%|██████████████████████████████████████████████████████████████████████████████| 1000/1000 [06:45<00:00,  2.47it/s]\n",
      "100%|█████████████████████████████████████████████████████████████████████████████| 1000/1000 [00:03<00:00, 318.75it/s]\n"
     ]
    },
    {
     "name": "stdout",
     "output_type": "stream",
     "text": [
      "MRR@100 = 0.0688\n"
     ]
    }
   ],
   "source": [
    "optimize(k=40, \n",
    "         min_k=10,\n",
    "         user_based=True,\n",
    "         name='pearson_baseline',\n",
    "         verbose=True)"
   ]
  },
  {
   "cell_type": "markdown",
   "id": "fe33b550",
   "metadata": {},
   "source": [
    "## Best"
   ]
  },
  {
   "cell_type": "code",
   "execution_count": 16,
   "id": "e197c957",
   "metadata": {},
   "outputs": [
    {
     "name": "stdout",
     "output_type": "stream",
     "text": [
      "CPU times: total: 641 ms\n",
      "Wall time: 649 ms\n"
     ]
    }
   ],
   "source": [
    "%%time\n",
    "\n",
    "reader = Reader(rating_scale=(0, 1))\n",
    "dataset = Dataset.load_from_df(data[['uid', 'iid', 'rating_max']], reader)\n",
    "trainset = dataset.build_full_trainset()"
   ]
  },
  {
   "cell_type": "code",
   "execution_count": 17,
   "id": "378c7a53",
   "metadata": {
    "scrolled": true
   },
   "outputs": [
    {
     "name": "stdout",
     "output_type": "stream",
     "text": [
      "k: 30, min_k: 5\n",
      "Computing the msd similarity matrix...\n",
      "Done computing similarity matrix.\n",
      "--- fit: 7.36885929107666 seconds ---\n"
     ]
    },
    {
     "name": "stderr",
     "output_type": "stream",
     "text": [
      "100%|██████████████████████████████████████████████████████████████████████████████| 1000/1000 [08:03<00:00,  2.07it/s]\n",
      "100%|█████████████████████████████████████████████████████████████████████████████| 1000/1000 [00:04<00:00, 209.21it/s]\n"
     ]
    },
    {
     "name": "stdout",
     "output_type": "stream",
     "text": [
      "MRR@100 = 0.0759\n",
      "k: 30, min_k: 10\n",
      "Computing the msd similarity matrix...\n",
      "Done computing similarity matrix.\n",
      "--- fit: 7.142062187194824 seconds ---\n"
     ]
    },
    {
     "name": "stderr",
     "output_type": "stream",
     "text": [
      "100%|██████████████████████████████████████████████████████████████████████████████| 1000/1000 [07:27<00:00,  2.23it/s]\n",
      "100%|█████████████████████████████████████████████████████████████████████████████| 1000/1000 [00:04<00:00, 224.98it/s]\n"
     ]
    },
    {
     "name": "stdout",
     "output_type": "stream",
     "text": [
      "MRR@100 = 0.0837\n",
      "k: 30, min_k: 20\n",
      "Computing the msd similarity matrix...\n",
      "Done computing similarity matrix.\n",
      "--- fit: 7.4156105518341064 seconds ---\n"
     ]
    },
    {
     "name": "stderr",
     "output_type": "stream",
     "text": [
      "100%|██████████████████████████████████████████████████████████████████████████████| 1000/1000 [07:41<00:00,  2.17it/s]\n",
      "100%|█████████████████████████████████████████████████████████████████████████████| 1000/1000 [00:04<00:00, 213.54it/s]\n"
     ]
    },
    {
     "name": "stdout",
     "output_type": "stream",
     "text": [
      "MRR@100 = 0.0871\n",
      "k: 40, min_k: 5\n",
      "Computing the msd similarity matrix...\n",
      "Done computing similarity matrix.\n",
      "--- fit: 7.211334466934204 seconds ---\n"
     ]
    },
    {
     "name": "stderr",
     "output_type": "stream",
     "text": [
      "100%|██████████████████████████████████████████████████████████████████████████████| 1000/1000 [14:05<00:00,  1.18it/s]\n",
      "100%|██████████████████████████████████████████████████████████████████████████████| 1000/1000 [00:12<00:00, 82.35it/s]\n"
     ]
    },
    {
     "name": "stdout",
     "output_type": "stream",
     "text": [
      "MRR@100 = 0.0726\n",
      "k: 40, min_k: 10\n",
      "Computing the msd similarity matrix...\n",
      "Done computing similarity matrix.\n",
      "--- fit: 14.753049612045288 seconds ---\n"
     ]
    },
    {
     "name": "stderr",
     "output_type": "stream",
     "text": [
      "100%|██████████████████████████████████████████████████████████████████████████████| 1000/1000 [11:29<00:00,  1.45it/s]\n",
      "100%|█████████████████████████████████████████████████████████████████████████████| 1000/1000 [00:04<00:00, 245.95it/s]\n"
     ]
    },
    {
     "name": "stdout",
     "output_type": "stream",
     "text": [
      "MRR@100 = 0.0810\n",
      "k: 40, min_k: 20\n",
      "Computing the msd similarity matrix...\n",
      "Done computing similarity matrix.\n",
      "--- fit: 6.957323789596558 seconds ---\n"
     ]
    },
    {
     "name": "stderr",
     "output_type": "stream",
     "text": [
      "100%|██████████████████████████████████████████████████████████████████████████████| 1000/1000 [07:12<00:00,  2.31it/s]\n",
      "100%|█████████████████████████████████████████████████████████████████████████████| 1000/1000 [00:03<00:00, 295.36it/s]\n"
     ]
    },
    {
     "name": "stdout",
     "output_type": "stream",
     "text": [
      "MRR@100 = 0.0854\n",
      "k: 50, min_k: 5\n",
      "Computing the msd similarity matrix...\n",
      "Done computing similarity matrix.\n",
      "--- fit: 6.66186261177063 seconds ---\n"
     ]
    },
    {
     "name": "stderr",
     "output_type": "stream",
     "text": [
      "100%|██████████████████████████████████████████████████████████████████████████████| 1000/1000 [07:12<00:00,  2.31it/s]\n",
      "100%|█████████████████████████████████████████████████████████████████████████████| 1000/1000 [00:04<00:00, 216.94it/s]\n"
     ]
    },
    {
     "name": "stdout",
     "output_type": "stream",
     "text": [
      "MRR@100 = 0.0700\n",
      "k: 50, min_k: 10\n",
      "Computing the msd similarity matrix...\n",
      "Done computing similarity matrix.\n",
      "--- fit: 6.96920919418335 seconds ---\n"
     ]
    },
    {
     "name": "stderr",
     "output_type": "stream",
     "text": [
      "100%|██████████████████████████████████████████████████████████████████████████████| 1000/1000 [08:18<00:00,  2.01it/s]\n",
      "100%|█████████████████████████████████████████████████████████████████████████████| 1000/1000 [00:04<00:00, 226.54it/s]\n"
     ]
    },
    {
     "name": "stdout",
     "output_type": "stream",
     "text": [
      "MRR@100 = 0.0791\n",
      "k: 50, min_k: 20\n",
      "Computing the msd similarity matrix...\n",
      "Done computing similarity matrix.\n",
      "--- fit: 6.858316898345947 seconds ---\n"
     ]
    },
    {
     "name": "stderr",
     "output_type": "stream",
     "text": [
      "100%|██████████████████████████████████████████████████████████████████████████████| 1000/1000 [10:22<00:00,  1.61it/s]\n",
      "100%|█████████████████████████████████████████████████████████████████████████████| 1000/1000 [00:04<00:00, 231.50it/s]\n"
     ]
    },
    {
     "name": "stdout",
     "output_type": "stream",
     "text": [
      "MRR@100 = 0.0835\n"
     ]
    }
   ],
   "source": [
    "for k in [30, 40, 50]:\n",
    "    for min_k in [5, 10, 20]:\n",
    "        print(f'k: {k}, min_k: {min_k}')\n",
    "        optimize(k=k, \n",
    "                 min_k=min_k,\n",
    "                 user_based=True,\n",
    "                 name='msd',\n",
    "                 verbose=True)"
   ]
  },
  {
   "cell_type": "code",
   "execution_count": 18,
   "id": "39c6161b",
   "metadata": {
    "scrolled": true
   },
   "outputs": [
    {
     "name": "stdout",
     "output_type": "stream",
     "text": [
      "k: 40, min_k: 25\n",
      "Computing the msd similarity matrix...\n",
      "Done computing similarity matrix.\n",
      "--- fit: 8.826464414596558 seconds ---\n"
     ]
    },
    {
     "name": "stderr",
     "output_type": "stream",
     "text": [
      "100%|██████████████████████████████████████████████████████████████████████████████| 1000/1000 [10:37<00:00,  1.57it/s]\n",
      "100%|█████████████████████████████████████████████████████████████████████████████| 1000/1000 [00:08<00:00, 123.14it/s]\n"
     ]
    },
    {
     "name": "stdout",
     "output_type": "stream",
     "text": [
      "MRR@100 = 0.0863\n",
      "k: 40, min_k: 30\n",
      "Computing the msd similarity matrix...\n",
      "Done computing similarity matrix.\n",
      "--- fit: 7.302326440811157 seconds ---\n"
     ]
    },
    {
     "name": "stderr",
     "output_type": "stream",
     "text": [
      "100%|██████████████████████████████████████████████████████████████████████████████| 1000/1000 [09:46<00:00,  1.70it/s]\n",
      "100%|█████████████████████████████████████████████████████████████████████████████| 1000/1000 [00:03<00:00, 299.22it/s]\n"
     ]
    },
    {
     "name": "stdout",
     "output_type": "stream",
     "text": [
      "MRR@100 = 0.0856\n",
      "k: 40, min_k: 50\n",
      "Computing the msd similarity matrix...\n",
      "Done computing similarity matrix.\n",
      "--- fit: 6.6442790031433105 seconds ---\n"
     ]
    },
    {
     "name": "stderr",
     "output_type": "stream",
     "text": [
      "100%|██████████████████████████████████████████████████████████████████████████████| 1000/1000 [09:07<00:00,  1.83it/s]\n",
      "100%|█████████████████████████████████████████████████████████████████████████████| 1000/1000 [00:01<00:00, 521.88it/s]\n"
     ]
    },
    {
     "name": "stdout",
     "output_type": "stream",
     "text": [
      "MRR@100 = 0.0001\n",
      "k: 45, min_k: 25\n",
      "Computing the msd similarity matrix...\n",
      "Done computing similarity matrix.\n",
      "--- fit: 7.331499099731445 seconds ---\n"
     ]
    },
    {
     "name": "stderr",
     "output_type": "stream",
     "text": [
      "100%|██████████████████████████████████████████████████████████████████████████████| 1000/1000 [09:54<00:00,  1.68it/s]\n",
      "100%|█████████████████████████████████████████████████████████████████████████████| 1000/1000 [00:03<00:00, 266.33it/s]\n"
     ]
    },
    {
     "name": "stdout",
     "output_type": "stream",
     "text": [
      "MRR@100 = 0.0842\n",
      "k: 45, min_k: 30\n",
      "Computing the msd similarity matrix...\n",
      "Done computing similarity matrix.\n",
      "--- fit: 7.219279527664185 seconds ---\n"
     ]
    },
    {
     "name": "stderr",
     "output_type": "stream",
     "text": [
      "100%|██████████████████████████████████████████████████████████████████████████████| 1000/1000 [08:04<00:00,  2.06it/s]\n",
      "100%|█████████████████████████████████████████████████████████████████████████████| 1000/1000 [00:03<00:00, 295.34it/s]\n"
     ]
    },
    {
     "name": "stdout",
     "output_type": "stream",
     "text": [
      "MRR@100 = 0.0836\n",
      "k: 45, min_k: 50\n",
      "Computing the msd similarity matrix...\n",
      "Done computing similarity matrix.\n",
      "--- fit: 6.72087287902832 seconds ---\n"
     ]
    },
    {
     "name": "stderr",
     "output_type": "stream",
     "text": [
      "100%|██████████████████████████████████████████████████████████████████████████████| 1000/1000 [07:17<00:00,  2.28it/s]\n",
      "100%|█████████████████████████████████████████████████████████████████████████████| 1000/1000 [00:01<00:00, 528.71it/s]\n"
     ]
    },
    {
     "name": "stdout",
     "output_type": "stream",
     "text": [
      "MRR@100 = 0.0001\n",
      "k: 50, min_k: 25\n",
      "Computing the msd similarity matrix...\n",
      "Done computing similarity matrix.\n",
      "--- fit: 6.879151821136475 seconds ---\n"
     ]
    },
    {
     "name": "stderr",
     "output_type": "stream",
     "text": [
      "100%|██████████████████████████████████████████████████████████████████████████████| 1000/1000 [07:24<00:00,  2.25it/s]\n",
      "100%|█████████████████████████████████████████████████████████████████████████████| 1000/1000 [00:03<00:00, 282.44it/s]\n"
     ]
    },
    {
     "name": "stdout",
     "output_type": "stream",
     "text": [
      "MRR@100 = 0.0834\n",
      "k: 50, min_k: 30\n",
      "Computing the msd similarity matrix...\n",
      "Done computing similarity matrix.\n",
      "--- fit: 6.713289499282837 seconds ---\n"
     ]
    },
    {
     "name": "stderr",
     "output_type": "stream",
     "text": [
      "100%|██████████████████████████████████████████████████████████████████████████████| 1000/1000 [07:20<00:00,  2.27it/s]\n",
      "100%|█████████████████████████████████████████████████████████████████████████████| 1000/1000 [00:03<00:00, 307.16it/s]\n"
     ]
    },
    {
     "name": "stdout",
     "output_type": "stream",
     "text": [
      "MRR@100 = 0.0828\n",
      "k: 50, min_k: 50\n",
      "Computing the msd similarity matrix...\n",
      "Done computing similarity matrix.\n",
      "--- fit: 6.894007444381714 seconds ---\n"
     ]
    },
    {
     "name": "stderr",
     "output_type": "stream",
     "text": [
      "100%|██████████████████████████████████████████████████████████████████████████████| 1000/1000 [07:51<00:00,  2.12it/s]\n",
      "100%|█████████████████████████████████████████████████████████████████████████████| 1000/1000 [00:03<00:00, 330.65it/s]\n"
     ]
    },
    {
     "name": "stdout",
     "output_type": "stream",
     "text": [
      "MRR@100 = 0.0831\n"
     ]
    }
   ],
   "source": [
    "for k in [40, 45, 50]:\n",
    "    for min_k in [25, 30, 50]:\n",
    "        print(f'k: {k}, min_k: {min_k}')\n",
    "        optimize(k=k, \n",
    "                 min_k=min_k,\n",
    "                 user_based=True,\n",
    "                 name='msd',\n",
    "                 verbose=True)"
   ]
  },
  {
   "cell_type": "code",
   "execution_count": 19,
   "id": "45c53283",
   "metadata": {},
   "outputs": [
    {
     "name": "stdout",
     "output_type": "stream",
     "text": [
      "k: 35, min_k: 23\n",
      "Computing the msd similarity matrix...\n",
      "Done computing similarity matrix.\n",
      "--- fit: 6.078680992126465 seconds ---\n"
     ]
    },
    {
     "name": "stderr",
     "output_type": "stream",
     "text": [
      "100%|██████████████████████████████████████████████████████████████████████████████| 1000/1000 [09:00<00:00,  1.85it/s]\n",
      "100%|██████████████████████████████████████████████████████████████████████████████| 1000/1000 [00:12<00:00, 80.36it/s]\n"
     ]
    },
    {
     "name": "stdout",
     "output_type": "stream",
     "text": [
      "MRR@100 = 0.0867\n",
      "k: 35, min_k: 25\n",
      "Computing the msd similarity matrix...\n",
      "Done computing similarity matrix.\n",
      "--- fit: 6.936716794967651 seconds ---\n"
     ]
    },
    {
     "name": "stderr",
     "output_type": "stream",
     "text": [
      "100%|██████████████████████████████████████████████████████████████████████████████| 1000/1000 [09:04<00:00,  1.84it/s]\n",
      "100%|█████████████████████████████████████████████████████████████████████████████| 1000/1000 [00:03<00:00, 297.59it/s]\n"
     ]
    },
    {
     "name": "stdout",
     "output_type": "stream",
     "text": [
      "MRR@100 = 0.0873\n",
      "k: 35, min_k: 27\n",
      "Computing the msd similarity matrix...\n",
      "Done computing similarity matrix.\n",
      "--- fit: 6.961191654205322 seconds ---\n"
     ]
    },
    {
     "name": "stderr",
     "output_type": "stream",
     "text": [
      "100%|██████████████████████████████████████████████████████████████████████████████| 1000/1000 [08:59<00:00,  1.85it/s]\n",
      "100%|█████████████████████████████████████████████████████████████████████████████| 1000/1000 [00:03<00:00, 326.00it/s]\n"
     ]
    },
    {
     "name": "stdout",
     "output_type": "stream",
     "text": [
      "MRR@100 = 0.0874\n",
      "k: 40, min_k: 23\n",
      "Computing the msd similarity matrix...\n",
      "Done computing similarity matrix.\n",
      "--- fit: 17.69057297706604 seconds ---\n"
     ]
    },
    {
     "name": "stderr",
     "output_type": "stream",
     "text": [
      "100%|██████████████████████████████████████████████████████████████████████████████| 1000/1000 [09:03<00:00,  1.84it/s]\n",
      "100%|█████████████████████████████████████████████████████████████████████████████| 1000/1000 [00:03<00:00, 279.01it/s]\n"
     ]
    },
    {
     "name": "stdout",
     "output_type": "stream",
     "text": [
      "MRR@100 = 0.0849\n",
      "k: 40, min_k: 25\n",
      "Computing the msd similarity matrix...\n",
      "Done computing similarity matrix.\n",
      "--- fit: 7.0973358154296875 seconds ---\n"
     ]
    },
    {
     "name": "stderr",
     "output_type": "stream",
     "text": [
      "100%|██████████████████████████████████████████████████████████████████████████████| 1000/1000 [08:58<00:00,  1.86it/s]\n",
      "100%|█████████████████████████████████████████████████████████████████████████████| 1000/1000 [00:03<00:00, 289.89it/s]\n"
     ]
    },
    {
     "name": "stdout",
     "output_type": "stream",
     "text": [
      "MRR@100 = 0.0863\n",
      "k: 40, min_k: 27\n",
      "Computing the msd similarity matrix...\n",
      "Done computing similarity matrix.\n",
      "--- fit: 6.945203542709351 seconds ---\n"
     ]
    },
    {
     "name": "stderr",
     "output_type": "stream",
     "text": [
      "100%|██████████████████████████████████████████████████████████████████████████████| 1000/1000 [09:12<00:00,  1.81it/s]\n",
      "100%|█████████████████████████████████████████████████████████████████████████████| 1000/1000 [00:06<00:00, 157.65it/s]\n"
     ]
    },
    {
     "name": "stdout",
     "output_type": "stream",
     "text": [
      "MRR@100 = 0.0865\n",
      "k: 43, min_k: 23\n",
      "Computing the msd similarity matrix...\n",
      "Done computing similarity matrix.\n",
      "--- fit: 6.507802963256836 seconds ---\n"
     ]
    },
    {
     "name": "stderr",
     "output_type": "stream",
     "text": [
      "100%|██████████████████████████████████████████████████████████████████████████████| 1000/1000 [09:14<00:00,  1.80it/s]\n",
      "100%|█████████████████████████████████████████████████████████████████████████████| 1000/1000 [00:03<00:00, 279.16it/s]\n"
     ]
    },
    {
     "name": "stdout",
     "output_type": "stream",
     "text": [
      "MRR@100 = 0.0836\n",
      "k: 43, min_k: 25\n",
      "Computing the msd similarity matrix...\n",
      "Done computing similarity matrix.\n",
      "--- fit: 6.8195178508758545 seconds ---\n"
     ]
    },
    {
     "name": "stderr",
     "output_type": "stream",
     "text": [
      "100%|██████████████████████████████████████████████████████████████████████████████| 1000/1000 [07:50<00:00,  2.13it/s]\n",
      "100%|█████████████████████████████████████████████████████████████████████████████| 1000/1000 [00:03<00:00, 282.13it/s]\n"
     ]
    },
    {
     "name": "stdout",
     "output_type": "stream",
     "text": [
      "MRR@100 = 0.0842\n",
      "k: 43, min_k: 27\n",
      "Computing the msd similarity matrix...\n",
      "Done computing similarity matrix.\n",
      "--- fit: 6.9332122802734375 seconds ---\n"
     ]
    },
    {
     "name": "stderr",
     "output_type": "stream",
     "text": [
      "100%|██████████████████████████████████████████████████████████████████████████████| 1000/1000 [07:00<00:00,  2.38it/s]\n",
      "100%|█████████████████████████████████████████████████████████████████████████████| 1000/1000 [00:03<00:00, 302.73it/s]\n"
     ]
    },
    {
     "name": "stdout",
     "output_type": "stream",
     "text": [
      "MRR@100 = 0.0844\n"
     ]
    }
   ],
   "source": [
    "for k in [35, 40, 43]:\n",
    "    for min_k in [23, 25, 27]:\n",
    "        print(f'k: {k}, min_k: {min_k}')\n",
    "        optimize(k=k, \n",
    "                 min_k=min_k,\n",
    "                 user_based=True,\n",
    "                 name='msd',\n",
    "                 verbose=True)"
   ]
  },
  {
   "cell_type": "markdown",
   "id": "32da0638",
   "metadata": {},
   "source": [
    "## Final best\n",
    "k: 35, min_k: 25<br>\n",
    "Computing the msd similarity matrix...<br>\n",
    "Done computing similarity matrix.<br>\n",
    "--- fit: 6.936716794967651 seconds ---<br>\n",
    "100%|██████████████████████████████████████████████████████████████████████████████| 1000/1000 [09:04<00:00,  1.84it/s]<br>\n",
    "100%|█████████████████████████████████████████████████████████████████████████████| 1000/1000 [00:03<00:00, 297.59it/s]<br>\n",
    "MRR@100 = 0.0873"
   ]
  }
 ],
 "metadata": {
  "kernelspec": {
   "display_name": "Python 3 (ipykernel)",
   "language": "python",
   "name": "python3"
  },
  "language_info": {
   "codemirror_mode": {
    "name": "ipython",
    "version": 3
   },
   "file_extension": ".py",
   "mimetype": "text/x-python",
   "name": "python",
   "nbconvert_exporter": "python",
   "pygments_lexer": "ipython3",
   "version": "3.8.9"
  }
 },
 "nbformat": 4,
 "nbformat_minor": 5
}
