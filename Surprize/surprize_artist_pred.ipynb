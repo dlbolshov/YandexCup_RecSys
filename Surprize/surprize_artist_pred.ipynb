{
 "cells": [
  {
   "cell_type": "code",
   "execution_count": 1,
   "id": "a281d193",
   "metadata": {},
   "outputs": [
    {
     "name": "stdout",
     "output_type": "stream",
     "text": [
      "Requirement already satisfied: surprise in /Library/Frameworks/Python.framework/Versions/3.10/lib/python3.10/site-packages (0.1)\r\n",
      "Requirement already satisfied: scikit-surprise in /Library/Frameworks/Python.framework/Versions/3.10/lib/python3.10/site-packages (from surprise) (1.1.3)\r\n",
      "Requirement already satisfied: joblib>=1.0.0 in /Library/Frameworks/Python.framework/Versions/3.10/lib/python3.10/site-packages (from scikit-surprise->surprise) (1.1.0)\r\n",
      "Requirement already satisfied: numpy>=1.17.3 in /Library/Frameworks/Python.framework/Versions/3.10/lib/python3.10/site-packages (from scikit-surprise->surprise) (1.23.1)\r\n",
      "Requirement already satisfied: scipy>=1.3.2 in /Library/Frameworks/Python.framework/Versions/3.10/lib/python3.10/site-packages (from scikit-surprise->surprise) (1.8.1)\r\n"
     ]
    }
   ],
   "source": [
    "!pip install surprise\n",
    "!pip install scikit-surprise"
   ]
  },
  {
   "cell_type": "code",
   "execution_count": 1,
   "id": "124d984a",
   "metadata": {},
   "outputs": [
    {
     "name": "stdout",
     "output_type": "stream",
     "text": [
      "CPU times: user 1.89 s, sys: 114 ms, total: 2.01 s\n",
      "Wall time: 345 ms\n"
     ]
    }
   ],
   "source": [
    "%%time\n",
    "import numpy as np\n",
    "import pandas as pd\n",
    "from scipy.sparse import csr_matrix, coo_matrix\n",
    "from tqdm.auto import tqdm\n",
    "from collections import Counter\n",
    "from surprise import Dataset, Reader"
   ]
  },
  {
   "cell_type": "code",
   "execution_count": 2,
   "id": "78aceb8d",
   "metadata": {},
   "outputs": [],
   "source": [
    "def calc_mrr(predict, answer):\n",
    "    for i in range(len(predict)):\n",
    "        if predict[i] == answer:\n",
    "            return 1. / (i + 1)\n",
    "    return 0\n",
    "\n",
    "max_prediction_len = 100\n",
    "\n",
    "def calc_score(target_path, predict_path):\n",
    "    with open(target_path) as f:\n",
    "        y_true = [int(x.strip()) for x in f.readlines()]\n",
    "\n",
    "    with open(predict_path) as f:\n",
    "        y_pred = [[int(x) for x in line.strip().split(' ')] for line in f.readlines()]\n",
    "\n",
    "    mrr_score = 0\n",
    "    for (pred, answer) in zip(y_pred, y_true):\n",
    "        if len(pred) > max_prediction_len:\n",
    "            raise ValueError('$maximum prediction length is {}, got {}$'.format(max_prediction_len, len(y_pred[i])))\n",
    "        mrr_score += calc_mrr(pred, answer)\n",
    "\n",
    "    print(f\"MRR@100 = {(mrr_score / len(y_true)):.4f}\")"
   ]
  },
  {
   "cell_type": "code",
   "execution_count": 3,
   "id": "f251f931",
   "metadata": {},
   "outputs": [
    {
     "name": "stdout",
     "output_type": "stream",
     "text": [
      "CPU times: user 58.1 ms, sys: 11.2 ms, total: 69.3 ms\n",
      "Wall time: 69.3 ms\n"
     ]
    }
   ],
   "source": [
    "%%time\n",
    "df = pd.read_csv('/Users/david/Documents/GitHub/YandexCup_RecSys/track_artists.csv')\n",
    "df.index = df['trackId']"
   ]
  },
  {
   "cell_type": "code",
   "execution_count": 64,
   "id": "7d437df3",
   "metadata": {
    "scrolled": true
   },
   "outputs": [
    {
     "data": {
      "application/vnd.jupyter.widget-view+json": {
       "model_id": "4ce19694cf2c4b55a513b3f22373c88e",
       "version_major": 2,
       "version_minor": 0
      },
      "text/plain": [
       "  0%|          | 0/1160084 [00:00<?, ?it/s]"
      ]
     },
     "metadata": {},
     "output_type": "display_data"
    },
    {
     "name": "stdout",
     "output_type": "stream",
     "text": [
      "CPU times: user 6.1 s, sys: 1.36 s, total: 7.46 s\n",
      "Wall time: 13.1 s\n"
     ]
    }
   ],
   "source": [
    "%%time\n",
    "\n",
    "list_coord = []\n",
    "target_val = []\n",
    "np.random.seed(42)  \n",
    "val_id = np.random.choice(range(10000), size=2500, replace=False)\n",
    "val_id.sort()\n",
    "all_artist = set()\n",
    "ls_artists = []\n",
    "\n",
    "with open('/Users/david/Documents/GitHub/YandexCup_RecSys/train') as f:\n",
    "    lines = f.readlines()\n",
    "    idx = 0 \n",
    "    for line in tqdm(lines):\n",
    "        tracks = line.strip().split(' ')\n",
    "        tracks_arr = np.array(tracks)\n",
    "        tracks_arr = tracks_arr.astype(np.int32)\n",
    "        artist_arr = np.array([df.at[track, 'artistId'] for track in tracks_arr])\n",
    "        if idx in val_id:\n",
    "            target_val.append(artist_arr[-1])\n",
    "            artist_arr = artist_arr[:-1]\n",
    "        ls_artists.extend(artist_arr)\n",
    "        all_artist = all_artist.union(set(artist_arr))\n",
    "        artist_cnt = Counter(artist_arr)\n",
    "        list_coord_user = [(idx, i[0], i[1]) for i in artist_cnt.items()]\n",
    "        list_coord.extend(list_coord_user)\n",
    "        idx += 1\n",
    "        if idx > 10000:\n",
    "            break"
   ]
  },
  {
   "cell_type": "code",
   "execution_count": 5,
   "id": "53dba5d5",
   "metadata": {},
   "outputs": [
    {
     "name": "stdout",
     "output_type": "stream",
     "text": [
      "CPU times: user 197 ms, sys: 44.2 ms, total: 242 ms\n",
      "Wall time: 268 ms\n"
     ]
    }
   ],
   "source": [
    "%%time\n",
    "\n",
    "data = pd.DataFrame(list_coord, columns=['uid', 'iid', 'rating_row'])\n",
    "data['rating_max'] = data.rating_row / data.groupby('uid')['rating_row'].transform('max')\n",
    "data['rating_part'] = data.rating_row / data.groupby('uid')['rating_row'].transform('sum')"
   ]
  },
  {
   "cell_type": "markdown",
   "id": "b88b838e",
   "metadata": {},
   "source": [
    "# Baseline"
   ]
  },
  {
   "cell_type": "code",
   "execution_count": 102,
   "id": "fa014cd3",
   "metadata": {},
   "outputs": [
    {
     "name": "stdout",
     "output_type": "stream",
     "text": [
      "MRR@100 = 0.0145\n"
     ]
    }
   ],
   "source": [
    "all_artist_cnt = [i[0] for i in Counter(ls_artists).most_common(100)]\n",
    "\n",
    "result = [' '.join(map(str, all_artist_cnt)) + '\\n' for _ in val_id]\n",
    "\n",
    "with open('/Users/david/Documents/GitHub/YandexCup_RecSys/surprize_artist_pred', 'w') as f:\n",
    "    f.writelines(result)\n",
    "\n",
    "with open('/Users/david/Documents/GitHub/YandexCup_RecSys/surprize_artist_target', 'w') as f:\n",
    "    for i in target_val:\n",
    "        f.write(f'{i}\\n')\n",
    "\n",
    "calc_score('/Users/david/Documents/GitHub/YandexCup_RecSys/surprize_artist_target',\n",
    "           \"/Users/david/Documents/GitHub/YandexCup_RecSys/surprize_artist_pred\")"
   ]
  },
  {
   "cell_type": "markdown",
   "id": "88e67bbf",
   "metadata": {},
   "source": [
    "# RATING_MAX"
   ]
  },
  {
   "cell_type": "code",
   "execution_count": 103,
   "id": "00c84f0e",
   "metadata": {
    "scrolled": true
   },
   "outputs": [
    {
     "name": "stdout",
     "output_type": "stream",
     "text": [
      "CPU times: user 312 ms, sys: 123 ms, total: 435 ms\n",
      "Wall time: 836 ms\n"
     ]
    }
   ],
   "source": [
    "%%time\n",
    "\n",
    "reader = Reader(rating_scale=(0, 1))\n",
    "dataset = Dataset.load_from_df(data[['uid', 'iid', 'rating_part']], reader)\n",
    "trainset = dataset.build_full_trainset()"
   ]
  },
  {
   "cell_type": "markdown",
   "id": "890fe094",
   "metadata": {},
   "source": [
    "## KNNWithMeans"
   ]
  },
  {
   "cell_type": "code",
   "execution_count": null,
   "id": "780d0e73",
   "metadata": {},
   "outputs": [],
   "source": [
    "%%time\n",
    "from surprise import KNNWithMeans\n",
    "\n",
    "sim_options = {\n",
    "    \"name\": \"pearson_baseline\",\n",
    "    \"user_based\": True\n",
    "}\n",
    "algo = KNNWithMeans(k=40, min_k=1, sim_options=sim_options, verbose=True)\n",
    "algo.fit(trainset)"
   ]
  },
  {
   "cell_type": "code",
   "execution_count": null,
   "id": "7867a5a2",
   "metadata": {},
   "outputs": [],
   "source": [
    "algo.predict(uid=10, iid=25735).est"
   ]
  },
  {
   "cell_type": "code",
   "execution_count": null,
   "id": "c23a388b",
   "metadata": {},
   "outputs": [],
   "source": [
    "pred = []\n",
    "for uid in tqdm(val_id):\n",
    "    pred_user = []\n",
    "    for iid in all_artist:\n",
    "        score = algo.predict(uid=uid, iid=iid).est\n",
    "        pred_user.append((iid, score))\n",
    "    pred.append(pred_user)"
   ]
  },
  {
   "cell_type": "code",
   "execution_count": null,
   "id": "3e5cb742",
   "metadata": {
    "scrolled": true
   },
   "outputs": [],
   "source": [
    "res = []\n",
    "for user in tqdm(pred):\n",
    "    ls = sorted(user, key=lambda x: x[1])\n",
    "    temp = [i[0] for i in ls[-100:]]\n",
    "    temp.reverse()\n",
    "    res.append(temp)\n",
    "\n",
    "result = [' '.join(map(str, i)) + '\\n' for i in res]\n",
    "\n",
    "    \n",
    "with open('/Users/david/Documents/GitHub/YandexCup_RecSys/surprize_artist_pred', 'w') as f:\n",
    "    f.writelines(result)\n",
    "\n",
    "with open('/Users/david/Documents/GitHub/YandexCup_RecSys/surprize_artist_target', 'w') as f:\n",
    "    for i in target_val:\n",
    "        f.write(f'{i}\\n')\n",
    "\n",
    "calc_score('/Users/david/Documents/GitHub/YandexCup_RecSys/surprize_artist_target',\n",
    "           \"/Users/david/Documents/GitHub/YandexCup_RecSys/surprize_artist_pred\")"
   ]
  },
  {
   "cell_type": "markdown",
   "id": "939ebeee",
   "metadata": {},
   "source": [
    "MRR@100 = 0.0084\n"
   ]
  },
  {
   "cell_type": "markdown",
   "id": "b9c7c780",
   "metadata": {},
   "source": [
    "## KNNBasic"
   ]
  },
  {
   "cell_type": "code",
   "execution_count": 107,
   "id": "19fb1dfc",
   "metadata": {},
   "outputs": [
    {
     "name": "stdout",
     "output_type": "stream",
     "text": [
      "Estimating biases using als...\n",
      "Computing the pearson_baseline similarity matrix...\n",
      "Done computing similarity matrix.\n",
      "CPU times: user 5.44 s, sys: 13.3 s, total: 18.7 s\n",
      "Wall time: 28.6 s\n"
     ]
    },
    {
     "data": {
      "text/plain": [
       "<surprise.prediction_algorithms.knns.KNNBasic at 0x14b8e9540>"
      ]
     },
     "execution_count": 107,
     "metadata": {},
     "output_type": "execute_result"
    }
   ],
   "source": [
    "%%time\n",
    "from surprise import KNNBasic\n",
    "\n",
    "sim_options = {\n",
    "    \"name\": \"pearson_baseline\",\n",
    "    \"user_based\": True\n",
    "}\n",
    "algo = KNNBasic(k=40, min_k=1, sim_options=sim_options, verbose=True)\n",
    "algo.fit(trainset)"
   ]
  },
  {
   "cell_type": "code",
   "execution_count": 108,
   "id": "84a689aa",
   "metadata": {},
   "outputs": [
    {
     "data": {
      "application/vnd.jupyter.widget-view+json": {
       "model_id": "8a29bc4e4f66435c994616fd0d32f57a",
       "version_major": 2,
       "version_minor": 0
      },
      "text/plain": [
       "  0%|          | 0/2500 [00:00<?, ?it/s]"
      ]
     },
     "metadata": {},
     "output_type": "display_data"
    },
    {
     "data": {
      "application/vnd.jupyter.widget-view+json": {
       "model_id": "76c24dea0b544d1d87473e7b24c64114",
       "version_major": 2,
       "version_minor": 0
      },
      "text/plain": [
       "  0%|          | 0/2500 [00:00<?, ?it/s]"
      ]
     },
     "metadata": {},
     "output_type": "display_data"
    },
    {
     "name": "stdout",
     "output_type": "stream",
     "text": [
      "MRR@100 = 0.0658\n"
     ]
    }
   ],
   "source": [
    "pred = []\n",
    "for uid in tqdm(val_id):\n",
    "    pred_user = []\n",
    "    for iid in all_artist:\n",
    "        score = algo.predict(uid=uid, iid=iid).est\n",
    "        pred_user.append((iid, score))\n",
    "    pred.append(pred_user)\n",
    "    \n",
    "res = []\n",
    "for user in tqdm(pred):\n",
    "    ls = sorted(user, key=lambda x: x[1])\n",
    "    temp = [i[0] for i in ls[-100:]]\n",
    "    temp.reverse()\n",
    "    res.append(temp)\n",
    "\n",
    "result = [' '.join(map(str, i)) + '\\n' for i in res]\n",
    "\n",
    "    \n",
    "with open('/Users/david/Documents/GitHub/YandexCup_RecSys/surprize_artist_pred', 'w') as f:\n",
    "    f.writelines(result)\n",
    "\n",
    "with open('/Users/david/Documents/GitHub/YandexCup_RecSys/surprize_artist_target', 'w') as f:\n",
    "    for i in target_val:\n",
    "        f.write(f'{i}\\n')\n",
    "\n",
    "calc_score('/Users/david/Documents/GitHub/YandexCup_RecSys/surprize_artist_target',\n",
    "           \"/Users/david/Documents/GitHub/YandexCup_RecSys/surprize_artist_pred\")"
   ]
  },
  {
   "cell_type": "markdown",
   "id": "538befd6",
   "metadata": {},
   "source": [
    "MRR@100 = 0.0038"
   ]
  },
  {
   "cell_type": "markdown",
   "id": "8c79204f",
   "metadata": {},
   "source": [
    "## KNNWithZScore"
   ]
  },
  {
   "cell_type": "code",
   "execution_count": 109,
   "id": "364744b3",
   "metadata": {},
   "outputs": [
    {
     "name": "stdout",
     "output_type": "stream",
     "text": [
      "Estimating biases using als...\n",
      "Computing the pearson_baseline similarity matrix...\n",
      "Done computing similarity matrix.\n",
      "CPU times: user 5.58 s, sys: 12.9 s, total: 18.5 s\n",
      "Wall time: 27.8 s\n"
     ]
    },
    {
     "data": {
      "text/plain": [
       "<surprise.prediction_algorithms.knns.KNNWithZScore at 0x69a3d1ba0>"
      ]
     },
     "execution_count": 109,
     "metadata": {},
     "output_type": "execute_result"
    }
   ],
   "source": [
    "%%time\n",
    "from surprise import KNNWithZScore\n",
    "\n",
    "sim_options = {\n",
    "    \"name\": \"pearson_baseline\",\n",
    "    \"user_based\": True\n",
    "}\n",
    "algo = KNNWithZScore(k=40, min_k=1, sim_options=sim_options, verbose=True)\n",
    "algo.fit(trainset)"
   ]
  },
  {
   "cell_type": "code",
   "execution_count": 110,
   "id": "dd7cd0c4",
   "metadata": {},
   "outputs": [
    {
     "data": {
      "application/vnd.jupyter.widget-view+json": {
       "model_id": "03fe9833bdfc405bb603dca283a98feb",
       "version_major": 2,
       "version_minor": 0
      },
      "text/plain": [
       "  0%|          | 0/2500 [00:00<?, ?it/s]"
      ]
     },
     "metadata": {},
     "output_type": "display_data"
    },
    {
     "data": {
      "application/vnd.jupyter.widget-view+json": {
       "model_id": "a45b17269eec46028ad1a5be645471ba",
       "version_major": 2,
       "version_minor": 0
      },
      "text/plain": [
       "  0%|          | 0/2500 [00:00<?, ?it/s]"
      ]
     },
     "metadata": {},
     "output_type": "display_data"
    },
    {
     "name": "stdout",
     "output_type": "stream",
     "text": [
      "MRR@100 = 0.0097\n"
     ]
    }
   ],
   "source": [
    "pred = []\n",
    "for uid in tqdm(val_id):\n",
    "    pred_user = []\n",
    "    for iid in all_artist:\n",
    "        score = algo.predict(uid=uid, iid=iid).est\n",
    "        pred_user.append((iid, score))\n",
    "    pred.append(pred_user)\n",
    "    \n",
    "res = []\n",
    "for user in tqdm(pred):\n",
    "    ls = sorted(user, key=lambda x: x[1])\n",
    "    temp = [i[0] for i in ls[-100:]]\n",
    "    temp.reverse()\n",
    "    res.append(temp)\n",
    "\n",
    "result = [' '.join(map(str, i)) + '\\n' for i in res]\n",
    "\n",
    "    \n",
    "with open('/Users/david/Documents/GitHub/YandexCup_RecSys/surprize_artist_pred', 'w') as f:\n",
    "    f.writelines(result)\n",
    "\n",
    "with open('/Users/david/Documents/GitHub/YandexCup_RecSys/surprize_artist_target', 'w') as f:\n",
    "    for i in target_val:\n",
    "        f.write(f'{i}\\n')\n",
    "\n",
    "calc_score('/Users/david/Documents/GitHub/YandexCup_RecSys/surprize_artist_target',\n",
    "           \"/Users/david/Documents/GitHub/YandexCup_RecSys/surprize_artist_pred\")"
   ]
  },
  {
   "cell_type": "markdown",
   "id": "6141818e",
   "metadata": {},
   "source": [
    "MRR@100 = 0.0010\n"
   ]
  },
  {
   "cell_type": "markdown",
   "id": "8b9f404a",
   "metadata": {},
   "source": [
    "## KNNBaseline"
   ]
  },
  {
   "cell_type": "code",
   "execution_count": 111,
   "id": "cd8daf41",
   "metadata": {},
   "outputs": [
    {
     "name": "stdout",
     "output_type": "stream",
     "text": [
      "Estimating biases using als...\n",
      "Computing the pearson_baseline similarity matrix...\n",
      "Done computing similarity matrix.\n",
      "CPU times: user 5.59 s, sys: 16.3 s, total: 21.8 s\n",
      "Wall time: 46.9 s\n"
     ]
    },
    {
     "data": {
      "text/plain": [
       "<surprise.prediction_algorithms.knns.KNNBaseline at 0x14b89c7f0>"
      ]
     },
     "execution_count": 111,
     "metadata": {},
     "output_type": "execute_result"
    }
   ],
   "source": [
    "%%time\n",
    "from surprise import KNNBaseline\n",
    "\n",
    "sim_options = {\n",
    "    \"name\": \"pearson_baseline\",\n",
    "    \"user_based\": True\n",
    "}\n",
    "algo = KNNBaseline(k=40, min_k=1, sim_options=sim_options, verbose=True)\n",
    "algo.fit(trainset)"
   ]
  },
  {
   "cell_type": "code",
   "execution_count": 112,
   "id": "d50ae7c2",
   "metadata": {},
   "outputs": [
    {
     "data": {
      "application/vnd.jupyter.widget-view+json": {
       "model_id": "4cde05c58c604dee94071b74462fbf7c",
       "version_major": 2,
       "version_minor": 0
      },
      "text/plain": [
       "  0%|          | 0/2500 [00:00<?, ?it/s]"
      ]
     },
     "metadata": {},
     "output_type": "display_data"
    },
    {
     "data": {
      "application/vnd.jupyter.widget-view+json": {
       "model_id": "8fa8606eb01945ac9d3848b6fdfacdeb",
       "version_major": 2,
       "version_minor": 0
      },
      "text/plain": [
       "  0%|          | 0/2500 [00:00<?, ?it/s]"
      ]
     },
     "metadata": {},
     "output_type": "display_data"
    },
    {
     "name": "stdout",
     "output_type": "stream",
     "text": [
      "MRR@100 = 0.0583\n"
     ]
    }
   ],
   "source": [
    "pred = []\n",
    "for uid in tqdm(val_id):\n",
    "    pred_user = []\n",
    "    for iid in all_artist:\n",
    "        score = algo.predict(uid=uid, iid=iid).est\n",
    "        pred_user.append((iid, score))\n",
    "    pred.append(pred_user)\n",
    "    \n",
    "res = []\n",
    "for user in tqdm(pred):\n",
    "    ls = sorted(user, key=lambda x: x[1])\n",
    "    temp = [i[0] for i in ls[-100:]]\n",
    "    temp.reverse()\n",
    "    res.append(temp)\n",
    "\n",
    "result = [' '.join(map(str, i)) + '\\n' for i in res]\n",
    "\n",
    "    \n",
    "with open('/Users/david/Documents/GitHub/YandexCup_RecSys/surprize_artist_pred', 'w') as f:\n",
    "    f.writelines(result)\n",
    "\n",
    "with open('/Users/david/Documents/GitHub/YandexCup_RecSys/surprize_artist_target', 'w') as f:\n",
    "    for i in target_val:\n",
    "        f.write(f'{i}\\n')\n",
    "\n",
    "calc_score('/Users/david/Documents/GitHub/YandexCup_RecSys/surprize_artist_target',\n",
    "           \"/Users/david/Documents/GitHub/YandexCup_RecSys/surprize_artist_pred\")"
   ]
  },
  {
   "cell_type": "markdown",
   "id": "7390d8df",
   "metadata": {},
   "source": [
    "MRR@100 = 0.0034\n"
   ]
  },
  {
   "cell_type": "markdown",
   "id": "8e6b2dce",
   "metadata": {},
   "source": [
    "## SVD"
   ]
  },
  {
   "cell_type": "code",
   "execution_count": 113,
   "id": "8688a707",
   "metadata": {},
   "outputs": [
    {
     "name": "stdout",
     "output_type": "stream",
     "text": [
      "CPU times: user 2.4 s, sys: 82.8 ms, total: 2.49 s\n",
      "Wall time: 2.78 s\n"
     ]
    },
    {
     "data": {
      "text/plain": [
       "<surprise.prediction_algorithms.matrix_factorization.SVD at 0x69a3d0970>"
      ]
     },
     "execution_count": 113,
     "metadata": {},
     "output_type": "execute_result"
    }
   ],
   "source": [
    "%%time\n",
    "from surprise import SVD\n",
    "\n",
    "algo = SVD(n_factors=100, \n",
    "            n_epochs=20, \n",
    "            biased=True, \n",
    "            init_mean=0, \n",
    "            init_std_dev=0.1, \n",
    "            lr_all=0.005, \n",
    "            reg_all=0.02, \n",
    "            random_state=42, \n",
    "            verbose=False)\n",
    "\n",
    "algo.fit(trainset)"
   ]
  },
  {
   "cell_type": "code",
   "execution_count": 114,
   "id": "ba50ee85",
   "metadata": {},
   "outputs": [
    {
     "data": {
      "application/vnd.jupyter.widget-view+json": {
       "model_id": "040b556104d24030b8255d907ac08522",
       "version_major": 2,
       "version_minor": 0
      },
      "text/plain": [
       "  0%|          | 0/2500 [00:00<?, ?it/s]"
      ]
     },
     "metadata": {},
     "output_type": "display_data"
    },
    {
     "data": {
      "application/vnd.jupyter.widget-view+json": {
       "model_id": "7b0ee9e5eff34f6c8f0edeb9a2cc78df",
       "version_major": 2,
       "version_minor": 0
      },
      "text/plain": [
       "  0%|          | 0/2500 [00:00<?, ?it/s]"
      ]
     },
     "metadata": {},
     "output_type": "display_data"
    },
    {
     "ename": "KeyboardInterrupt",
     "evalue": "",
     "output_type": "error",
     "traceback": [
      "\u001b[0;31m---------------------------------------------------------------------------\u001b[0m",
      "\u001b[0;31mKeyboardInterrupt\u001b[0m                         Traceback (most recent call last)",
      "Input \u001b[0;32mIn [114]\u001b[0m, in \u001b[0;36m<cell line: 10>\u001b[0;34m()\u001b[0m\n\u001b[1;32m      9\u001b[0m res \u001b[38;5;241m=\u001b[39m []\n\u001b[1;32m     10\u001b[0m \u001b[38;5;28;01mfor\u001b[39;00m user \u001b[38;5;129;01min\u001b[39;00m tqdm(pred):\n\u001b[0;32m---> 11\u001b[0m     ls \u001b[38;5;241m=\u001b[39m \u001b[38;5;28;43msorted\u001b[39;49m\u001b[43m(\u001b[49m\u001b[43muser\u001b[49m\u001b[43m,\u001b[49m\u001b[43m \u001b[49m\u001b[43mkey\u001b[49m\u001b[38;5;241;43m=\u001b[39;49m\u001b[38;5;28;43;01mlambda\u001b[39;49;00m\u001b[43m \u001b[49m\u001b[43mx\u001b[49m\u001b[43m:\u001b[49m\u001b[43m \u001b[49m\u001b[43mx\u001b[49m\u001b[43m[\u001b[49m\u001b[38;5;241;43m1\u001b[39;49m\u001b[43m]\u001b[49m\u001b[43m)\u001b[49m\n\u001b[1;32m     12\u001b[0m     temp \u001b[38;5;241m=\u001b[39m [i[\u001b[38;5;241m0\u001b[39m] \u001b[38;5;28;01mfor\u001b[39;00m i \u001b[38;5;129;01min\u001b[39;00m ls[\u001b[38;5;241m-\u001b[39m\u001b[38;5;241m100\u001b[39m:]]\n\u001b[1;32m     13\u001b[0m     temp\u001b[38;5;241m.\u001b[39mreverse()\n",
      "\u001b[0;31mKeyboardInterrupt\u001b[0m: "
     ]
    }
   ],
   "source": [
    "pred = []\n",
    "for uid in tqdm(val_id):\n",
    "    pred_user = []\n",
    "    for iid in all_artist:\n",
    "        score = algo.predict(uid=uid, iid=iid).est\n",
    "        pred_user.append((iid, score))\n",
    "    pred.append(pred_user)\n",
    "    \n",
    "res = []\n",
    "for user in tqdm(pred):\n",
    "    ls = sorted(user, key=lambda x: x[1])\n",
    "    temp = [i[0] for i in ls[-100:]]\n",
    "    temp.reverse()\n",
    "    res.append(temp)\n",
    "\n",
    "result = [' '.join(map(str, i)) + '\\n' for i in res]\n",
    "\n",
    "    \n",
    "with open('/Users/david/Documents/GitHub/YandexCup_RecSys/surprize_artist_pred', 'w') as f:\n",
    "    f.writelines(result)\n",
    "\n",
    "with open('/Users/david/Documents/GitHub/YandexCup_RecSys/surprize_artist_target', 'w') as f:\n",
    "    for i in target_val:\n",
    "        f.write(f'{i}\\n')\n",
    "\n",
    "calc_score('/Users/david/Documents/GitHub/YandexCup_RecSys/surprize_artist_target',\n",
    "           \"/Users/david/Documents/GitHub/YandexCup_RecSys/surprize_artist_pred\")"
   ]
  },
  {
   "cell_type": "markdown",
   "id": "00bbb9c4",
   "metadata": {},
   "source": [
    "## SVDpp"
   ]
  },
  {
   "cell_type": "code",
   "execution_count": 89,
   "id": "45c90645",
   "metadata": {},
   "outputs": [
    {
     "data": {
      "text/plain": [
       "<surprise.prediction_algorithms.matrix_factorization.SVDpp at 0x14b33d180>"
      ]
     },
     "execution_count": 89,
     "metadata": {},
     "output_type": "execute_result"
    }
   ],
   "source": [
    "%%time\n",
    "from surprise import SVDpp\n",
    "\n",
    "algo = SVDpp(n_factors=20, \n",
    "             n_epochs=20, \n",
    "             init_mean=0, \n",
    "             init_std_dev=0.1, \n",
    "             lr_all=0.007, \n",
    "             reg_all=0.02,\n",
    "             random_state=42, \n",
    "             verbose=False, \n",
    "             cache_ratings=False)\n",
    "\n",
    "algo.fit(trainset)"
   ]
  },
  {
   "cell_type": "code",
   "execution_count": 90,
   "id": "2d638183",
   "metadata": {},
   "outputs": [
    {
     "data": {
      "application/vnd.jupyter.widget-view+json": {
       "model_id": "99b5ea14e31a4eb1a58e6e63d26b94f3",
       "version_major": 2,
       "version_minor": 0
      },
      "text/plain": [
       "  0%|          | 0/2500 [00:00<?, ?it/s]"
      ]
     },
     "metadata": {},
     "output_type": "display_data"
    },
    {
     "data": {
      "application/vnd.jupyter.widget-view+json": {
       "model_id": "4187b5b0443b496fb343e3f66d4c2708",
       "version_major": 2,
       "version_minor": 0
      },
      "text/plain": [
       "  0%|          | 0/2500 [00:00<?, ?it/s]"
      ]
     },
     "metadata": {},
     "output_type": "display_data"
    },
    {
     "name": "stdout",
     "output_type": "stream",
     "text": [
      "MRR@100 = 0.0031\n"
     ]
    }
   ],
   "source": [
    "pred = []\n",
    "for uid in tqdm(val_id):\n",
    "    pred_user = []\n",
    "    for iid in all_artist:\n",
    "        score = algo.predict(uid=uid, iid=iid).est\n",
    "        pred_user.append((iid, score))\n",
    "    pred.append(pred_user)\n",
    "    \n",
    "res = []\n",
    "for user in tqdm(pred):\n",
    "    ls = sorted(user, key=lambda x: x[1])\n",
    "    temp = [i[0] for i in ls[-100:]]\n",
    "    temp.reverse()\n",
    "    res.append(temp)\n",
    "\n",
    "result = [' '.join(map(str, i)) + '\\n' for i in res]\n",
    "\n",
    "    \n",
    "with open('/Users/david/Documents/GitHub/YandexCup_RecSys/surprize_artist_pred', 'w') as f:\n",
    "    f.writelines(result)\n",
    "\n",
    "with open('/Users/david/Documents/GitHub/YandexCup_RecSys/surprize_artist_target', 'w') as f:\n",
    "    for i in target_val:\n",
    "        f.write(f'{i}\\n')\n",
    "\n",
    "calc_score('/Users/david/Documents/GitHub/YandexCup_RecSys/surprize_artist_target',\n",
    "           \"/Users/david/Documents/GitHub/YandexCup_RecSys/surprize_artist_pred\")"
   ]
  },
  {
   "cell_type": "markdown",
   "id": "973190b6",
   "metadata": {},
   "source": [
    "## NMF"
   ]
  },
  {
   "cell_type": "code",
   "execution_count": 96,
   "id": "58fa4053",
   "metadata": {},
   "outputs": [
    {
     "name": "stdout",
     "output_type": "stream",
     "text": [
      "CPU times: user 1min 11s, sys: 156 ms, total: 1min 11s\n",
      "Wall time: 1min 12s\n"
     ]
    },
    {
     "data": {
      "text/plain": [
       "<surprise.prediction_algorithms.matrix_factorization.SVDpp at 0x14b8e96f0>"
      ]
     },
     "execution_count": 96,
     "metadata": {},
     "output_type": "execute_result"
    }
   ],
   "source": [
    "%%time\n",
    "from surprise import NMF\n",
    "\n",
    "algo = SVDpp(n_factors=15, \n",
    "             n_epochs=50,\n",
    "             random_state=42, \n",
    "             verbose=False)\n",
    "\n",
    "algo.fit(trainset)"
   ]
  },
  {
   "cell_type": "code",
   "execution_count": 97,
   "id": "f6ec093e",
   "metadata": {},
   "outputs": [
    {
     "data": {
      "application/vnd.jupyter.widget-view+json": {
       "model_id": "817fa3eaa8cb44f5acc57af004dcde8c",
       "version_major": 2,
       "version_minor": 0
      },
      "text/plain": [
       "  0%|          | 0/2500 [00:00<?, ?it/s]"
      ]
     },
     "metadata": {},
     "output_type": "display_data"
    },
    {
     "data": {
      "application/vnd.jupyter.widget-view+json": {
       "model_id": "d1a536a0536f4c3fb6c1551dffcdba37",
       "version_major": 2,
       "version_minor": 0
      },
      "text/plain": [
       "  0%|          | 0/2500 [00:00<?, ?it/s]"
      ]
     },
     "metadata": {},
     "output_type": "display_data"
    },
    {
     "name": "stdout",
     "output_type": "stream",
     "text": [
      "MRR@100 = 0.0009\n"
     ]
    }
   ],
   "source": [
    "pred = []\n",
    "for uid in tqdm(val_id):\n",
    "    pred_user = []\n",
    "    for iid in all_artist:\n",
    "        score = algo.predict(uid=uid, iid=iid).est\n",
    "        pred_user.append((iid, score))\n",
    "    pred.append(pred_user)\n",
    "    \n",
    "res = []\n",
    "for user in tqdm(pred):\n",
    "    ls = sorted(user, key=lambda x: x[1])\n",
    "    temp = [i[0] for i in ls[-100:]]\n",
    "    temp.reverse()\n",
    "    res.append(temp)\n",
    "\n",
    "result = [' '.join(map(str, i)) + '\\n' for i in res]\n",
    "\n",
    "    \n",
    "with open('/Users/david/Documents/GitHub/YandexCup_RecSys/surprize_artist_pred', 'w') as f:\n",
    "    f.writelines(result)\n",
    "\n",
    "with open('/Users/david/Documents/GitHub/YandexCup_RecSys/surprize_artist_target', 'w') as f:\n",
    "    for i in target_val:\n",
    "        f.write(f'{i}\\n')\n",
    "\n",
    "calc_score('/Users/david/Documents/GitHub/YandexCup_RecSys/surprize_artist_target',\n",
    "           \"/Users/david/Documents/GitHub/YandexCup_RecSys/surprize_artist_pred\")"
   ]
  },
  {
   "cell_type": "markdown",
   "id": "f072b2ef",
   "metadata": {},
   "source": [
    "## SlopeOne"
   ]
  },
  {
   "cell_type": "code",
   "execution_count": 98,
   "id": "e52e074d",
   "metadata": {},
   "outputs": [
    {
     "name": "stdout",
     "output_type": "stream",
     "text": [
      "CPU times: user 4.7 s, sys: 13.8 s, total: 18.5 s\n",
      "Wall time: 27.4 s\n"
     ]
    },
    {
     "data": {
      "text/plain": [
       "<surprise.prediction_algorithms.slope_one.SlopeOne at 0x14b89ca30>"
      ]
     },
     "execution_count": 98,
     "metadata": {},
     "output_type": "execute_result"
    }
   ],
   "source": [
    "%%time\n",
    "from surprise import SlopeOne\n",
    "\n",
    "algo = SlopeOne()\n",
    "algo.fit(trainset)"
   ]
  },
  {
   "cell_type": "code",
   "execution_count": 99,
   "id": "b9ac4c8b",
   "metadata": {},
   "outputs": [
    {
     "data": {
      "application/vnd.jupyter.widget-view+json": {
       "model_id": "b1727bd032284733908d3f3be1ddcb7f",
       "version_major": 2,
       "version_minor": 0
      },
      "text/plain": [
       "  0%|          | 0/2500 [00:00<?, ?it/s]"
      ]
     },
     "metadata": {},
     "output_type": "display_data"
    },
    {
     "ename": "KeyboardInterrupt",
     "evalue": "",
     "output_type": "error",
     "traceback": [
      "\u001b[0;31m---------------------------------------------------------------------------\u001b[0m",
      "\u001b[0;31mKeyboardInterrupt\u001b[0m                         Traceback (most recent call last)",
      "Input \u001b[0;32mIn [99]\u001b[0m, in \u001b[0;36m<cell line: 2>\u001b[0;34m()\u001b[0m\n\u001b[1;32m      3\u001b[0m pred_user \u001b[38;5;241m=\u001b[39m []\n\u001b[1;32m      4\u001b[0m \u001b[38;5;28;01mfor\u001b[39;00m iid \u001b[38;5;129;01min\u001b[39;00m all_artist:\n\u001b[0;32m----> 5\u001b[0m     score \u001b[38;5;241m=\u001b[39m \u001b[43malgo\u001b[49m\u001b[38;5;241;43m.\u001b[39;49m\u001b[43mpredict\u001b[49m\u001b[43m(\u001b[49m\u001b[43muid\u001b[49m\u001b[38;5;241;43m=\u001b[39;49m\u001b[43muid\u001b[49m\u001b[43m,\u001b[49m\u001b[43m \u001b[49m\u001b[43miid\u001b[49m\u001b[38;5;241;43m=\u001b[39;49m\u001b[43miid\u001b[49m\u001b[43m)\u001b[49m\u001b[38;5;241m.\u001b[39mest\n\u001b[1;32m      6\u001b[0m     pred_user\u001b[38;5;241m.\u001b[39mappend((iid, score))\n\u001b[1;32m      7\u001b[0m pred\u001b[38;5;241m.\u001b[39mappend(pred_user)\n",
      "File \u001b[0;32m/Library/Frameworks/Python.framework/Versions/3.10/lib/python3.10/site-packages/surprise/prediction_algorithms/algo_base.py:102\u001b[0m, in \u001b[0;36mAlgoBase.predict\u001b[0;34m(self, uid, iid, r_ui, clip, verbose)\u001b[0m\n\u001b[1;32m    100\u001b[0m details \u001b[38;5;241m=\u001b[39m {}\n\u001b[1;32m    101\u001b[0m \u001b[38;5;28;01mtry\u001b[39;00m:\n\u001b[0;32m--> 102\u001b[0m     est \u001b[38;5;241m=\u001b[39m \u001b[38;5;28;43mself\u001b[39;49m\u001b[38;5;241;43m.\u001b[39;49m\u001b[43mestimate\u001b[49m\u001b[43m(\u001b[49m\u001b[43miuid\u001b[49m\u001b[43m,\u001b[49m\u001b[43m \u001b[49m\u001b[43miiid\u001b[49m\u001b[43m)\u001b[49m\n\u001b[1;32m    104\u001b[0m     \u001b[38;5;66;03m# If the details dict was also returned\u001b[39;00m\n\u001b[1;32m    105\u001b[0m     \u001b[38;5;28;01mif\u001b[39;00m \u001b[38;5;28misinstance\u001b[39m(est, \u001b[38;5;28mtuple\u001b[39m):\n",
      "\u001b[0;31mKeyboardInterrupt\u001b[0m: "
     ]
    }
   ],
   "source": [
    "pred = []\n",
    "for uid in tqdm(val_id):\n",
    "    pred_user = []\n",
    "    for iid in all_artist:\n",
    "        score = algo.predict(uid=uid, iid=iid).est\n",
    "        pred_user.append((iid, score))\n",
    "    pred.append(pred_user)\n",
    "    \n",
    "res = []\n",
    "for user in tqdm(pred):\n",
    "    ls = sorted(user, key=lambda x: x[1])\n",
    "    temp = [i[0] for i in ls[-100:]]\n",
    "    temp.reverse()\n",
    "    res.append(temp)\n",
    "\n",
    "result = [' '.join(map(str, i)) + '\\n' for i in res]\n",
    "\n",
    "    \n",
    "with open('/Users/david/Documents/GitHub/YandexCup_RecSys/surprize_artist_pred', 'w') as f:\n",
    "    f.writelines(result)\n",
    "\n",
    "with open('/Users/david/Documents/GitHub/YandexCup_RecSys/surprize_artist_target', 'w') as f:\n",
    "    for i in target_val:\n",
    "        f.write(f'{i}\\n')\n",
    "\n",
    "calc_score('/Users/david/Documents/GitHub/YandexCup_RecSys/surprize_artist_target',\n",
    "           \"/Users/david/Documents/GitHub/YandexCup_RecSys/surprize_artist_pred\")"
   ]
  },
  {
   "cell_type": "markdown",
   "id": "2cd3a0b3",
   "metadata": {},
   "source": [
    "## CoClustering"
   ]
  },
  {
   "cell_type": "code",
   "execution_count": null,
   "id": "3cd9d012",
   "metadata": {},
   "outputs": [],
   "source": [
    "%%time\n",
    "from surprise import CoClustering\n",
    "\n",
    "algo = CoClustering(n_cltr_u=3, n_cltr_i=3, n_epochs=20, random_state=42, verbose=False)\n",
    "algo.fit(trainset)"
   ]
  },
  {
   "cell_type": "code",
   "execution_count": null,
   "id": "43ed30f0",
   "metadata": {},
   "outputs": [],
   "source": [
    "pred = []\n",
    "for uid in tqdm(val_id):\n",
    "    pred_user = []\n",
    "    for iid in all_artist:\n",
    "        score = algo.predict(uid=uid, iid=iid).est\n",
    "        pred_user.append((iid, score))\n",
    "    pred.append(pred_user)\n",
    "    \n",
    "res = []\n",
    "for user in tqdm(pred):\n",
    "    ls = sorted(user, key=lambda x: x[1])\n",
    "    temp = [i[0] for i in ls[-100:]]\n",
    "    temp.reverse()\n",
    "    res.append(temp)\n",
    "\n",
    "result = [' '.join(map(str, i)) + '\\n' for i in res]\n",
    "\n",
    "    \n",
    "with open('/Users/david/Documents/GitHub/YandexCup_RecSys/surprize_artist_pred', 'w') as f:\n",
    "    f.writelines(result)\n",
    "\n",
    "with open('/Users/david/Documents/GitHub/YandexCup_RecSys/surprize_artist_target', 'w') as f:\n",
    "    for i in target_val:\n",
    "        f.write(f'{i}\\n')\n",
    "\n",
    "calc_score('/Users/david/Documents/GitHub/YandexCup_RecSys/surprize_artist_target',\n",
    "           \"/Users/david/Documents/GitHub/YandexCup_RecSys/surprize_artist_pred\")"
   ]
  }
 ],
 "metadata": {
  "kernelspec": {
   "display_name": "Python 3 (ipykernel)",
   "language": "python",
   "name": "python3"
  },
  "language_info": {
   "codemirror_mode": {
    "name": "ipython",
    "version": 3
   },
   "file_extension": ".py",
   "mimetype": "text/x-python",
   "name": "python",
   "nbconvert_exporter": "python",
   "pygments_lexer": "ipython3",
   "version": "3.10.5"
  }
 },
 "nbformat": 4,
 "nbformat_minor": 5
}
